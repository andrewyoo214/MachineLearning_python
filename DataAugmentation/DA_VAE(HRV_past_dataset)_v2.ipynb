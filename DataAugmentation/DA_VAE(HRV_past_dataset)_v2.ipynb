{
 "cells": [
  {
   "cell_type": "markdown",
   "id": "2a20b02d-6ef3-4a6e-a45e-69cddd886137",
   "metadata": {},
   "source": [
    "# DA- VAE, Diffusion (HRV past dataset)"
   ]
  },
  {
   "cell_type": "markdown",
   "id": "21e6a98c-2f59-452a-b8b1-ee762e22acf9",
   "metadata": {},
   "source": [
    "* Using Keras/Tensorflow"
   ]
  },
  {
   "cell_type": "code",
   "execution_count": null,
   "id": "4ddbef65-77a1-43fe-989a-0a0c7d4ead5e",
   "metadata": {
    "tags": []
   },
   "outputs": [],
   "source": [
    "import os\n",
    "import time\n",
    "# import shap ## for XAI\n",
    "import numpy as np\n",
    "import pandas as pd\n",
    "import seaborn as sns\n",
    "import tensorflow as tf\n",
    "# import pingouin as pg\n",
    "import matplotlib.pyplot as plt\n",
    "import sklearn.metrics as metrics"
   ]
  },
  {
   "cell_type": "code",
   "execution_count": null,
   "id": "4882e3a3-161d-4d3e-bef3-b83010ca2cb4",
   "metadata": {},
   "outputs": [],
   "source": [
    "from numpy import dot\n",
    "from numpy.linalg import norm\n",
    "\n",
    "from keras.models import Sequential\n",
    "from keras.layers import Dense , Dropout , Lambda, Flatten\n",
    "from keras.layers import Dense , Activation, Dropout, BatchNormalization\n",
    "from keras.optimizers import Adam ,RMSprop\n",
    "from keras.callbacks import Callback\n",
    "\n",
    "from scipy.special import rel_entr\n",
    "from scipy.stats import gaussian_kde\n",
    "from scipy.spatial.distance import jensenshannon\n",
    "\n",
    "from sklearn.model_selection import train_test_split, StratifiedKFold, KFold, train_test_split, ParameterGrid\n",
    "from sklearn import decomposition, metrics\n",
    "from sklearn.cluster import KMeans\n",
    "from sklearn.metrics import cohen_kappa_score,f1_score, confusion_matrix, roc_auc_score, classification_report\n",
    "from sklearn.inspection import permutation_importance\n",
    "from sklearn.preprocessing import Normalizer, MinMaxScaler, RobustScaler\n",
    "from sklearn.manifold import TSNE\n",
    "\n",
    "from tensorflow.keras.utils import to_categorical\n",
    "from tensorflow import keras\n",
    "from tensorflow.keras.callbacks import LearningRateScheduler, EarlyStopping, ReduceLROnPlateau\n",
    "from tensorflow.keras.layers import Input, Concatenate, Dense, Lambda, Conv1D, Flatten, Reshape, UpSampling1D, MaxPooling1D, concatenate, Layer\n",
    "from tensorflow.keras.models import Model\n",
    "from tensorflow.keras import layers, models, backend as K\n",
    "from tensorflow.keras.losses import mse, MeanSquaredError"
   ]
  },
  {
   "cell_type": "markdown",
   "id": "57cfaf0e-1296-43a9-a547-8dba9168a6ba",
   "metadata": {},
   "source": [
    "***"
   ]
  },
  {
   "cell_type": "markdown",
   "id": "03baaf49-19f6-4559-8906-1d8fb2d49ae7",
   "metadata": {},
   "source": [
    "---"
   ]
  },
  {
   "cell_type": "markdown",
   "id": "5cdf5bb1-4eca-4da1-b06e-5c62e8549841",
   "metadata": {},
   "source": [
    "## Original data check"
   ]
  },
  {
   "cell_type": "code",
   "execution_count": null,
   "id": "503f2855-10c1-447d-9f0b-cf0bfad482ab",
   "metadata": {},
   "outputs": [],
   "source": [
    "### In this research, the dataset is breast cancer dataset (tabular format)\n",
    "\n",
    "data_ori = pd.read_csv('E:/RESEARCH/Datasets/HRV/HRV_samsung/HRV_REV_processed.csv')"
   ]
  },
  {
   "cell_type": "code",
   "execution_count": null,
   "id": "c7b7cb3a-dd1e-43a6-9f71-e3d97900f97b",
   "metadata": {},
   "outputs": [],
   "source": [
    "### data shape, variables check\n",
    "print(\"The shape of the HRV dataset is:\",data_ori.shape)\n",
    "# print(public.columns)\n",
    "data_ori.head()"
   ]
  },
  {
   "cell_type": "code",
   "execution_count": null,
   "id": "62e8d96b-5bc3-4ee3-b9b8-4318c8b4ffd1",
   "metadata": {},
   "outputs": [],
   "source": [
    "# data_ori.columns"
   ]
  },
  {
   "cell_type": "code",
   "execution_count": null,
   "id": "d0edc4b1-37db-4c95-ad24-e143b4094011",
   "metadata": {},
   "outputs": [],
   "source": [
    "# 결측값이 하나라도 있는 행의 개수 확인\n",
    "num_missing_rows = data_ori.isna().any(axis=1).sum()\n",
    "\n",
    "print(f\"The number of rows that contains at least one missing value: {num_missing_rows}\")"
   ]
  },
  {
   "cell_type": "code",
   "execution_count": null,
   "id": "23be1a87-7e16-4d59-8bb7-0caa1b23ac11",
   "metadata": {},
   "outputs": [],
   "source": [
    "data_ori.columns"
   ]
  },
  {
   "cell_type": "markdown",
   "id": "982b802a-4ed2-406b-9670-6beb1129acf0",
   "metadata": {},
   "source": [
    "> Target value is \"disorder\" variable. \\\n",
    "> 1: major depressive disorder, 2: panic disorder, 3: control \\\n",
    "> -1 on each values, before ann/dnn classification"
   ]
  },
  {
   "cell_type": "code",
   "execution_count": null,
   "id": "a0d0fea5-8c24-4a93-a507-1e9acbfcc072",
   "metadata": {},
   "outputs": [],
   "source": [
    "# data_ori['disorder_mdd'].value_counts()\n",
    "data_ori['disorder'] = data_ori['disorder']-1\n",
    "data_ori['disorder'].value_counts()"
   ]
  },
  {
   "cell_type": "code",
   "execution_count": null,
   "id": "4459bac0-c234-4fdb-b773-bf3781d23722",
   "metadata": {},
   "outputs": [],
   "source": [
    "data_ori['disorder_mdd'].value_counts()"
   ]
  },
  {
   "cell_type": "code",
   "execution_count": null,
   "id": "476ccd03-2d74-4229-a17b-9078245c07e9",
   "metadata": {},
   "outputs": [],
   "source": []
  },
  {
   "cell_type": "markdown",
   "id": "47ec06bf-db1c-493e-983a-2baa72a9a950",
   "metadata": {},
   "source": [
    "### Relabeling"
   ]
  },
  {
   "cell_type": "code",
   "execution_count": null,
   "id": "68be2033-29a0-4725-9dd8-db1bc718da3a",
   "metadata": {},
   "outputs": [],
   "source": [
    "data_ori['disorder'] = data_ori['disorder'].replace({0: 'mdd'})\n",
    "data_ori['disorder'] = data_ori['disorder'].replace({1: 'pd'})\n",
    "data_ori['disorder'] = data_ori['disorder'].replace({2: 'con'})"
   ]
  },
  {
   "cell_type": "code",
   "execution_count": null,
   "id": "eb07c343-233d-419f-a9cc-226f2327a521",
   "metadata": {},
   "outputs": [],
   "source": []
  },
  {
   "cell_type": "markdown",
   "id": "7d0d266c-c4f4-41e2-a73d-b8539c403dec",
   "metadata": {},
   "source": [
    "### Variables drop"
   ]
  },
  {
   "cell_type": "code",
   "execution_count": null,
   "id": "d6981a7e-29ff-44e0-b2df-5047d1463e11",
   "metadata": {},
   "outputs": [],
   "source": [
    "info_list = ['sub', 'VISIT', 'age', 'gender', 'disorder', 'disorder_mdd']\n",
    "scale_list = ['HAMD', 'HAMA', 'PDSS', 'ASI', 'APPQ', 'PSWQ', 'SPI', 'PSS', 'BIS', 'SSI']\n",
    "drop_list = info_list + scale_list"
   ]
  },
  {
   "cell_type": "code",
   "execution_count": null,
   "id": "c5fab46a-cdd3-4de5-b938-2e6dc9e23955",
   "metadata": {
    "scrolled": true
   },
   "outputs": [],
   "source": [
    "x = data_ori.drop(drop_list, axis=1)\n",
    "# y = data_ori.disorder_mdd\n",
    "y = data_ori.disorder"
   ]
  },
  {
   "cell_type": "code",
   "execution_count": null,
   "id": "c1cda33a-ffbb-4f88-8eb5-652580e74251",
   "metadata": {},
   "outputs": [],
   "source": [
    "y.value_counts()"
   ]
  },
  {
   "cell_type": "code",
   "execution_count": null,
   "id": "8c337fef-4108-4247-9d6e-e33b86e33bcc",
   "metadata": {},
   "outputs": [],
   "source": [
    "x.columns"
   ]
  },
  {
   "cell_type": "code",
   "execution_count": null,
   "id": "f555749f-77de-4bf9-be81-e2b0239021c5",
   "metadata": {},
   "outputs": [],
   "source": [
    "data_ori['disorder'].value_counts()"
   ]
  },
  {
   "cell_type": "code",
   "execution_count": null,
   "id": "6661893e-3c72-4264-89d8-39a34bffeead",
   "metadata": {},
   "outputs": [],
   "source": []
  },
  {
   "cell_type": "markdown",
   "id": "9dd7f908-d2a5-4939-b109-2f2f784b0bce",
   "metadata": {
    "jp-MarkdownHeadingCollapsed": true
   },
   "source": [
    "### Distribution check"
   ]
  },
  {
   "cell_type": "code",
   "execution_count": null,
   "id": "37422c91-54a5-48d7-a3b4-7b9403b7f3ac",
   "metadata": {},
   "outputs": [],
   "source": [
    "data_vis = data_ori.copy()\n",
    "data_vis.head()"
   ]
  },
  {
   "cell_type": "code",
   "execution_count": null,
   "id": "0de08029-7af1-485c-af10-7ed88ba7eb54",
   "metadata": {},
   "outputs": [],
   "source": [
    "info_ = ['sub', 'VISIT', 'age', 'gender', 'disorder_mdd']\n",
    "# info_ = ['sub', 'VISIT', 'age', 'gender', 'disorder', 'disorder_mdd']\n",
    "scale_ = ['HAMD', 'HAMA', 'PDSS', 'ASI', 'APPQ', 'PSWQ', 'SPI', 'PSS', 'BIS', 'SSI']\n",
    "drop_ = info_ + scale_"
   ]
  },
  {
   "cell_type": "code",
   "execution_count": null,
   "id": "5a49d31d-d3ea-49b5-841b-ab40fdbc47a5",
   "metadata": {},
   "outputs": [],
   "source": [
    "x_ = data_vis.drop(drop_, axis=1)"
   ]
  },
  {
   "cell_type": "code",
   "execution_count": null,
   "id": "e9f8cb63-fac8-4b72-9c4d-884142dce35e",
   "metadata": {},
   "outputs": [],
   "source": [
    "x_.columns"
   ]
  },
  {
   "cell_type": "markdown",
   "id": "78a2ecae-f6ae-44eb-bbba-490845d1c19e",
   "metadata": {
    "jp-MarkdownHeadingCollapsed": true
   },
   "source": [
    "#### KDE plot"
   ]
  },
  {
   "cell_type": "code",
   "execution_count": null,
   "id": "bc513b78-1111-4303-a85b-981be282841b",
   "metadata": {},
   "outputs": [],
   "source": [
    "features = [col for col in list(x.columns)]"
   ]
  },
  {
   "cell_type": "code",
   "execution_count": null,
   "id": "0f93b026-aed9-4b00-9038-f2f9c0672650",
   "metadata": {},
   "outputs": [],
   "source": [
    "def kdeplot_features(data, feature, title):\n",
    "    \n",
    "    df0 = data[data['disorder']==\"mdd\"]\n",
    "    df1 = data[data['disorder']==\"pd\"]\n",
    "    df2 = data[data['disorder']==\"con\"]\n",
    "\n",
    "    df0 = df0.drop(['disorder'], axis=1)\n",
    "    df1 = df1.drop(['disorder'], axis=1)\n",
    "    df2 = df2.drop(['disorder'], axis=1)\n",
    "    \n",
    "    df0_values = df0[feature].to_numpy()\n",
    "    df1_values = df1[feature].to_numpy()\n",
    "    df2_values = df2[feature].to_numpy()\n",
    "     \n",
    "    plt.figure(figsize = (6, 2.5))\n",
    "    \n",
    "    sns.kdeplot(df0_values, color = 'y')\n",
    "    sns.kdeplot(df1_values, color = 'b')\n",
    "    sns.kdeplot(df2_values, color = 'g')\n",
    "    \n",
    "    plt.title(title, fontsize=15)\n",
    "    plt.legend()\n",
    "    plt.show();\n",
    "    \n",
    "    # del values_train , values_test\n",
    "    # gc.collect()"
   ]
  },
  {
   "cell_type": "code",
   "execution_count": null,
   "id": "145f370a-e7e2-43d8-a852-9d2eecbbc57a",
   "metadata": {
    "scrolled": true
   },
   "outputs": [],
   "source": [
    "for var in features:\n",
    "    kdeplot_features(x_, feature=var, title = var + \"distribution\")"
   ]
  },
  {
   "cell_type": "code",
   "execution_count": null,
   "id": "85bc4e77-3523-4066-986d-bb6f9b24ca2a",
   "metadata": {},
   "outputs": [],
   "source": []
  },
  {
   "cell_type": "markdown",
   "id": "c1a965d6-b485-4eb2-9bab-eb817409832e",
   "metadata": {
    "jp-MarkdownHeadingCollapsed": true
   },
   "source": [
    "#### JSD calculation"
   ]
  },
  {
   "cell_type": "code",
   "execution_count": null,
   "id": "9f06c5f9-2a6d-4e6c-be28-8e10c7186e24",
   "metadata": {},
   "outputs": [],
   "source": [
    "## list to append distributional differences\n",
    "variable = []\n",
    "diff01 = []\n",
    "diff02 = []\n",
    "diff03 = []\n",
    "diff12 = []\n",
    "diff13 = []\n",
    "diff23 = []\n",
    "\n",
    "for feature in features:\n",
    "    ## deleting any NA values in each feature column, for distance calculation\n",
    "    data = data_vis.dropna(subset=[feature])\n",
    "\n",
    "    ## split the dataset into each classes\n",
    "    df0 = data[data['target_info']==\"control\"]\n",
    "    df1 = data[data['target_info']==\"mdd\"]\n",
    "    df2 = data[data['target_info']==\"bpi\"]\n",
    "    df3 = data[data['target_info']==\"bpii\"]\n",
    "\n",
    "    df0 = df0.drop(['target_info'], axis=1)\n",
    "    df1 = df1.drop(['target_info'], axis=1)\n",
    "    df2 = df2.drop(['target_info'], axis=1)\n",
    "    df3 = df3.drop(['target_info'], axis=1)\n",
    "    \n",
    "    df0_values = df0[feature]\n",
    "    df1_values = df1[feature]\n",
    "    df2_values = df2[feature]\n",
    "    df3_values = df3[feature]\n",
    "\n",
    "    ## sampling based on the minimum size of the target info.\n",
    "    sample_size = (min(df0_values.shape[0], df1_values.shape[0], df2_values.shape[0], df3_values.shape[0]))\n",
    "    df0_sample = df0_values.sample(n=(sample_size))\n",
    "    df1_sample = df1_values.sample(n=(sample_size))\n",
    "    df2_sample = df2_values.sample(n=(sample_size))\n",
    "    df3_sample = df3_values.sample(n=(sample_size))\n",
    "\n",
    "    ## jensen-shannon divergence calculation and append\n",
    "    variable.append(feature)\n",
    "    diff01.append(jensenshannon(df0_sample, df1_sample))\n",
    "    diff02.append(jensenshannon(df0_sample, df2_sample))\n",
    "    diff03.append(jensenshannon(df0_sample, df3_sample))\n",
    "    diff12.append(jensenshannon(df1_sample, df2_sample))\n",
    "    diff13.append(jensenshannon(df1_sample, df3_sample))\n",
    "    diff23.append(jensenshannon(df2_sample, df3_sample)) "
   ]
  },
  {
   "cell_type": "code",
   "execution_count": null,
   "id": "f76991d9-f00c-4eff-be6e-239c519eaca3",
   "metadata": {},
   "outputs": [],
   "source": []
  },
  {
   "cell_type": "code",
   "execution_count": null,
   "id": "d990b52e-f0f1-4e37-8e78-52ad9acdc13d",
   "metadata": {},
   "outputs": [],
   "source": []
  },
  {
   "cell_type": "markdown",
   "id": "1a790933-91fd-4c5e-81b8-7fbf723533cf",
   "metadata": {},
   "source": [
    "--------------"
   ]
  },
  {
   "cell_type": "markdown",
   "id": "2c1cd5d4-ff8e-4c15-b42f-276833e80bec",
   "metadata": {},
   "source": [
    "----------"
   ]
  },
  {
   "cell_type": "markdown",
   "id": "b22dbbc0-3dd7-4fd0-9041-e53865ff384f",
   "metadata": {},
   "source": [
    "## VAE model"
   ]
  },
  {
   "cell_type": "code",
   "execution_count": null,
   "id": "50a5fc2f-5de0-45ad-bac9-4e89fb3858bc",
   "metadata": {},
   "outputs": [],
   "source": [
    "data_ori[\"disorder\"].value_counts()"
   ]
  },
  {
   "cell_type": "code",
   "execution_count": null,
   "id": "bd2dc052-757c-47e2-bf1e-84aac82b1857",
   "metadata": {},
   "outputs": [],
   "source": [
    "data = data_ori.copy()"
   ]
  },
  {
   "cell_type": "code",
   "execution_count": null,
   "id": "fb6d7157-98be-41dd-86a7-f5608e50c9b6",
   "metadata": {},
   "outputs": [],
   "source": [
    "data_con = data[data['disorder']==\"con\"]\n",
    "data_pd = data[data['disorder']==\"pd\"]\n",
    "data_mdd = data[data['disorder']==\"mdd\"]"
   ]
  },
  {
   "cell_type": "code",
   "execution_count": null,
   "id": "12d7aefa-d3f3-4d5f-bb6b-5263c40e8385",
   "metadata": {},
   "outputs": [],
   "source": [
    "class Args:\n",
    "    # arugments\n",
    "    epochs=100\n",
    "    bs=32\n",
    "    lr=0.0001\n",
    "    momentum=0.9\n",
    "    num_classes= 2\n",
    "    latent_dim = 16\n",
    "    inter_dim1 = 32\n",
    "    inter_dim2 = 16\n",
    "    seed=710674\n",
    "\n",
    "args = Args()\n",
    "\n",
    "# np.random.seed(args.seed)\n",
    "# random.seed(args.seed)\n",
    "# torch.manual_seed(args.seed)"
   ]
  },
  {
   "cell_type": "code",
   "execution_count": null,
   "id": "3dcfc6e8-e64f-4aad-a0e9-b42f3f05a7b1",
   "metadata": {},
   "outputs": [],
   "source": [
    "scale_list = ['HAMD', 'HAMA', 'PDSS', 'ASI', 'APPQ', 'PSWQ', 'SPI', 'PSS', 'BIS', 'SSI']\n",
    "etc_list = ['sub', 'VISIT', 'disorder_mdd']\n",
    "demo_list = ['age', 'gender', 'disorder']"
   ]
  },
  {
   "cell_type": "code",
   "execution_count": null,
   "id": "d2a10a29-e8fb-4768-93fe-6168376f0d3c",
   "metadata": {},
   "outputs": [],
   "source": [
    "x = data.drop((scale_list + etc_list + demo_list), axis=1)"
   ]
  },
  {
   "cell_type": "code",
   "execution_count": null,
   "id": "659ab809-45fc-4d40-a452-ee1d40a4a8a5",
   "metadata": {},
   "outputs": [],
   "source": [
    "scaler = MinMaxScaler() #set the scaler (between 0 and 1)\n",
    "\n",
    "x[:] = (scaler.fit_transform(x[:])).round(decimals=6)\n",
    "y = data.disorder  # mdd / pd / con"
   ]
  },
  {
   "cell_type": "code",
   "execution_count": null,
   "id": "dc39eed2-d4fb-448e-9cbf-d14e467e66b7",
   "metadata": {},
   "outputs": [],
   "source": []
  },
  {
   "cell_type": "code",
   "execution_count": null,
   "id": "1797bc62-f35f-42d0-ad19-31211eb9d102",
   "metadata": {},
   "outputs": [],
   "source": [
    "data_x = x.copy()\n",
    "data_x = data_x.fillna(data_x.mean())"
   ]
  },
  {
   "cell_type": "code",
   "execution_count": null,
   "id": "62eb0620-1a08-48cc-bfab-d085443127c9",
   "metadata": {},
   "outputs": [],
   "source": [
    "y.value_counts()"
   ]
  },
  {
   "cell_type": "code",
   "execution_count": null,
   "id": "b9dad4bb-241a-479b-9c41-fb3a77d519c5",
   "metadata": {},
   "outputs": [],
   "source": [
    "### breast cancer wisconsin ####### BINARY CLASSIFICATION ##########\n",
    "\n",
    "label = y\n",
    "label = label.replace({'mdd': 0})\n",
    "label = label.replace({'pd': 1})\n",
    "label = label.replace({'con' : 2})\n",
    "\n",
    "\n",
    "data_y = to_categorical(label, 3) ## into the format of one-hot encoding"
   ]
  },
  {
   "cell_type": "code",
   "execution_count": null,
   "id": "bce530e4-07f7-49d5-be98-a0692741743b",
   "metadata": {},
   "outputs": [],
   "source": [
    "print(\"The size of x dataset is:\", data_x.shape)\n",
    "print(\"The size of y dataset is:\", data_y.shape)"
   ]
  },
  {
   "cell_type": "code",
   "execution_count": null,
   "id": "d8254ba3-98e7-446b-b9cb-17c28c07934f",
   "metadata": {},
   "outputs": [],
   "source": []
  },
  {
   "cell_type": "markdown",
   "id": "5f0f958b-c75f-46cf-ba90-aabe6e3b242a",
   "metadata": {},
   "source": [
    "***"
   ]
  },
  {
   "cell_type": "markdown",
   "id": "797d6516-5f26-4afd-a1ca-21efe1021660",
   "metadata": {},
   "source": [
    "### Overall VAE data synthesizing model"
   ]
  },
  {
   "cell_type": "markdown",
   "id": "d1b64bb3-3291-4b60-9940-c63343820f29",
   "metadata": {},
   "source": [
    "VAE class explanations\n",
    "* __init__: VAE 모델의 초기화 및 구성 요소를 정의합니다. 입력 차원 (input_dim)과 잠재 공간 차원 (latent_dim)을 파라미터로 받습니다.\n",
    "* build_model: 인코더, 디코더, VAE 모델을 정의하고, VAE 손실을 설정합니다.\n",
    "* train: 데이터를 받아 VAE 모델을 학습합니다.\n",
    "* encode: 데이터를 잠재 공간으로 인코딩합니다.\n",
    "* visualize_latent_space: t-SNE를 사용하여 잠재 공간을 시각화합니다."
   ]
  },
  {
   "cell_type": "code",
   "execution_count": null,
   "id": "12bd6248-3ced-4948-a427-8149c8e180d8",
   "metadata": {},
   "outputs": [],
   "source": [
    "class VAE:\n",
    "    def __init__(self, input_dim, latent_dim):\n",
    "        self.input_dim = input_dim\n",
    "        self.latent_dim = latent_dim\n",
    "        self.encoder = None\n",
    "        self.decoder = None\n",
    "        self.vae = None\n",
    "        self.build_model()\n",
    "\n",
    "    ## VAE model for data augmentation\n",
    "    def build_model(self):\n",
    "        ####################################################\n",
    "        ## defining encoder section\n",
    "        inputs = Input(shape=(self.input_dim,))\n",
    "        \n",
    "        # shallow model use\n",
    "        h = Dense(32, activation='relu')(inputs)\n",
    "\n",
    "        # # deeper model use\n",
    "        # h = Dense(128, activation='relu')(inputs)\n",
    "        # h = Dense(64, activation='relu')(h)\n",
    "        # h = Dense(32, activation='relu')(h)\n",
    "\n",
    "        # calculating mean/var\n",
    "        z_mean = Dense(self.latent_dim)(h)\n",
    "        z_log_var = Dense(self.latent_dim)(h)\n",
    "\n",
    "        ## sampling section (for gaussian distribution)\n",
    "        def sampling(args):\n",
    "            z_mean, z_log_var = args\n",
    "            batch = K.shape(z_mean)[0]\n",
    "            dim = K.int_shape(z_mean)[1]\n",
    "            epsilon = K.random_normal(shape=(batch, dim))\n",
    "            return z_mean + K.exp(0.5 * z_log_var) * epsilon\n",
    "\n",
    "        z = Lambda(sampling, output_shape=(self.latent_dim,))([z_mean, z_log_var])\n",
    "\n",
    "        ####################################################\n",
    "        ## defining decoder section\n",
    "\n",
    "        # shallower model use\n",
    "        decoder_h = Dense(32, activation='relu')\n",
    "        decoder_mean = Dense(input_dim, activation='sigmoid')\n",
    "        h_decoded = decoder_h(z)\n",
    "        x_decoded_mean = decoder_mean(h_decoded)\n",
    "        \n",
    "        # # deeper model use\n",
    "        # decoder_h1 = Dense(32, activation='relu')\n",
    "        # decoder_h2 = Dense(64, activation='relu')\n",
    "        # decoder_h3 = Dense(128, activation='relu')\n",
    "        # decoder_mean = Dense(self.input_dim, activation='sigmoid')\n",
    "\n",
    "        # h_decoded = decoder_h1(z)\n",
    "        # h_decoded = decoder_h2(h_decoded)\n",
    "        # h_decoded = decoder_h3(h_decoded)\n",
    "        # x_decoded_mean = decoder_mean(h_decoded)\n",
    "\n",
    "        ####################################################\n",
    "        ## defining VAE model\n",
    "        self.vae = Model(inputs, x_decoded_mean)\n",
    "\n",
    "        ####################################################\n",
    "        ## defining loss function (reconstruction + KL divergence)\n",
    "        reconstruction_loss = MeanSquaredError()(inputs, x_decoded_mean)\n",
    "        kl_loss = -0.5 * K.sum(1 + z_log_var - K.square(z_mean) - K.exp(z_log_var + K.epsilon()), axis=-1)\n",
    "        vae_loss = K.mean(reconstruction_loss + kl_loss)\n",
    "        self.vae.add_loss(vae_loss)\n",
    "\n",
    "        ####################################################\n",
    "        ## compiling model\n",
    "        self.vae.compile(optimizer=Adam(learning_rate=0.001))\n",
    "\n",
    "        ####################################################\n",
    "        ## Extracting encoder and decoder separately\n",
    "        ## encoder section\n",
    "        self.encoder = Model(inputs, z_mean)\n",
    "\n",
    "        ## decoder section\n",
    "        decoder_input = Input(shape=(self.latent_dim,))\n",
    "        _h_decoded = decoder_h(decoder_input)\n",
    "        _x_decoded_mean = decoder_mean(_h_decoded)\n",
    "        self.decoder = Model(decoder_input, _x_decoded_mean)\n",
    "        \n",
    "        # #### deeper model\n",
    "        # decoder_input = Input(shape=(self.latent_dim,))\n",
    "        # _h_decoded = decoder_h1(decoder_input)\n",
    "        # _h_decoded = decoder_h2(_h_decoded)\n",
    "        # _h_decoded = decoder_h3(_h_decoded)\n",
    "        # _x_decoded_mean = decoder_mean(_h_decoded)\n",
    "        # self.decoder = Model(decoder_input, _x_decoded_mean)\n",
    "    \n",
    "    ####################################################\n",
    "    ####################################################\n",
    "    ## Model training\n",
    "    def train(self, data, epochs, batch_size, validation_split):\n",
    "        self.vae.fit(data, epochs=epochs, batch_size=batch_size, validation_split=validation_split)\n",
    "\n",
    "    def encode(self, data):\n",
    "        return self.encoder.predict(data)\n",
    "\n",
    "    def decode(self, latent_points):\n",
    "        return self.decoder.predict(latent_points)\n",
    "\n",
    "    def generate_synthetic_data(self, num_samples=1):\n",
    "        latent_samples = np.random.normal(size=(num_samples, self.latent_dim)) ## sampling from latent space\n",
    "        return self.decode(latent_samples) ## synthetic data generation with decoder section\n",
    "\n",
    "    def visualize_latent_space(self, data, labels):\n",
    "        ## encode the dataset into latent space\n",
    "        encoded_data = self.encode(data)\n",
    "\n",
    "        ## latent space visualization with t-SNE\n",
    "        tsne = TSNE(n_components=2, random_state=710674)\n",
    "        encoded_data_tsne = tsne.fit_transform(encoded_data)\n",
    "\n",
    "        ## Visualize\n",
    "        plt.figure(figsize=(8, 6))\n",
    "        plt.scatter(encoded_data_tsne[:, 0], encoded_data_tsne[:, 1], c=labels, cmap='viridis')\n",
    "        plt.colorbar()\n",
    "        plt.xlabel(\"t-SNE component 1\")\n",
    "        plt.ylabel(\"t-SNE component 2\")\n",
    "        plt.title(\"t-SNE visualization of the latent space\")\n",
    "        plt.show()"
   ]
  },
  {
   "cell_type": "code",
   "execution_count": null,
   "id": "9a125265-82f0-4b02-84d9-90468a70948d",
   "metadata": {},
   "outputs": [],
   "source": []
  },
  {
   "cell_type": "code",
   "execution_count": null,
   "id": "4b519795-e972-46dd-aa18-6485cd044e76",
   "metadata": {
    "scrolled": true
   },
   "outputs": [],
   "source": [
    "vae = VAE(input_dim=data_x.shape[1], latent_dim=2)\n",
    "vae.train(data_x, epochs = args.epochs, batch_size = args.bs, validation_split=0.2)"
   ]
  },
  {
   "cell_type": "code",
   "execution_count": null,
   "id": "eec8c330-9e7d-4339-be91-ca88cde8972d",
   "metadata": {},
   "outputs": [],
   "source": []
  },
  {
   "cell_type": "markdown",
   "id": "d41ae535-2ade-4963-a709-d96f43475e01",
   "metadata": {},
   "source": [
    "### Latent space visualization"
   ]
  },
  {
   "cell_type": "code",
   "execution_count": null,
   "id": "32e235a2-97e6-477d-a78e-2d0ab44bd129",
   "metadata": {},
   "outputs": [],
   "source": [
    "vae.visualize_latent_space(data_x, label)"
   ]
  },
  {
   "cell_type": "code",
   "execution_count": null,
   "id": "2fb4121a-9bdd-4b39-b752-ad3afe3b8ff4",
   "metadata": {},
   "outputs": [],
   "source": []
  },
  {
   "cell_type": "markdown",
   "id": "a782e6f7-f737-4dc9-9265-df31bd7a7e15",
   "metadata": {},
   "source": [
    "### Synthetic data generation"
   ]
  },
  {
   "cell_type": "markdown",
   "id": "343a0a1f-883b-43d8-8a92-1070cadf48b7",
   "metadata": {},
   "source": [
    "* For mdd class augmentation"
   ]
  },
  {
   "cell_type": "code",
   "execution_count": null,
   "id": "e4f7123e-ea0d-4769-99e2-dc96df52bb34",
   "metadata": {},
   "outputs": [],
   "source": [
    "synthetic_mdd = vae.generate_synthetic_data(num_samples=10)\n",
    "gen_mdd = synthetic_mdd.copy()\n",
    "gen_mdd = pd.DataFrame(gen_mdd, columns = data_x.columns)"
   ]
  },
  {
   "cell_type": "markdown",
   "id": "e367655a-a491-406b-8f02-ff8ed05aa75f",
   "metadata": {},
   "source": [
    "* For pd class augmentation"
   ]
  },
  {
   "cell_type": "code",
   "execution_count": null,
   "id": "266c7a7f-6c9c-4442-920a-6e0652087fea",
   "metadata": {},
   "outputs": [],
   "source": [
    "synthetic_pd = vae.generate_synthetic_data(num_samples=10)\n",
    "gen_pd = synthetic_pd.copy()\n",
    "gen_pd = pd.DataFrame(gen_pd, columns = data_x.columns)"
   ]
  },
  {
   "cell_type": "markdown",
   "id": "e4ed55ec-75cf-4ed2-8adc-d0cd1ffefa4a",
   "metadata": {},
   "source": [
    "* For con class augmentation"
   ]
  },
  {
   "cell_type": "code",
   "execution_count": null,
   "id": "77b272a4-1cab-45c3-b1d2-7e9ee2e8e73e",
   "metadata": {},
   "outputs": [],
   "source": [
    "synthetic_con = vae.generate_synthetic_data(num_samples=10)\n",
    "gen_con = synthetic_con.copy()\n",
    "gen_con = pd.DataFrame(gen_con, columns = data_x.columns)"
   ]
  },
  {
   "cell_type": "code",
   "execution_count": null,
   "id": "fe94fe50-7e42-4142-a814-01afea560bad",
   "metadata": {},
   "outputs": [],
   "source": []
  },
  {
   "cell_type": "code",
   "execution_count": null,
   "id": "c3a4a502-dd69-4450-a4a9-fc55920555d6",
   "metadata": {},
   "outputs": [],
   "source": []
  },
  {
   "cell_type": "code",
   "execution_count": null,
   "id": "8fe9edbf-0780-46f1-9b31-69b5e1313941",
   "metadata": {},
   "outputs": [],
   "source": []
  },
  {
   "cell_type": "code",
   "execution_count": null,
   "id": "e1c41b3f-7705-4ea1-955b-3ac425a1ae36",
   "metadata": {},
   "outputs": [],
   "source": []
  },
  {
   "cell_type": "code",
   "execution_count": null,
   "id": "4e1892b2-d5e3-440d-93d0-8b35f3f17350",
   "metadata": {},
   "outputs": [],
   "source": [
    "# # Synthetic data 생성\n",
    "# synthetic_data = vae.generate_synthetic_data(num_samples=5)\n",
    "# print(\"Generated synthetic data:\")\n",
    "# print(synthetic_data)"
   ]
  },
  {
   "cell_type": "code",
   "execution_count": null,
   "id": "24ac53b3-63bb-46dc-b161-7cb289f1f1f1",
   "metadata": {},
   "outputs": [],
   "source": []
  },
  {
   "cell_type": "markdown",
   "id": "95411c46-079c-4c9c-ab27-ff0efab3ebb8",
   "metadata": {},
   "source": [
    "***"
   ]
  },
  {
   "cell_type": "markdown",
   "id": "b995646d-680f-4e9b-82de-d2a5c100b308",
   "metadata": {},
   "source": [
    "***"
   ]
  },
  {
   "cell_type": "markdown",
   "id": "143e2c7a-98b9-4dd5-bc53-cd541a0abf17",
   "metadata": {},
   "source": [
    "## Conditional VAE model"
   ]
  },
  {
   "cell_type": "code",
   "execution_count": null,
   "id": "4f7196dd-d531-4896-b879-0c922ff17877",
   "metadata": {},
   "outputs": [],
   "source": [
    "data_cvae = data_ori.copy()"
   ]
  },
  {
   "cell_type": "code",
   "execution_count": null,
   "id": "13845162-2c7a-489b-9653-e4e082ea7ace",
   "metadata": {},
   "outputs": [],
   "source": [
    "data_cvae.shape"
   ]
  },
  {
   "cell_type": "code",
   "execution_count": null,
   "id": "82bb0103-1f46-46ec-86dd-1a78c5cbbb25",
   "metadata": {},
   "outputs": [],
   "source": [
    "scale_list = ['HAMD', 'HAMA', 'PDSS', 'ASI', 'APPQ', 'PSWQ', 'SPI', 'PSS', 'BIS', 'SSI']\n",
    "etc_list = ['sub', 'VISIT', 'disorder_mdd']\n",
    "demo_list = ['age', 'gender', 'disorder']"
   ]
  },
  {
   "cell_type": "code",
   "execution_count": null,
   "id": "243e6412-6c27-48bc-885b-5b216bb0138f",
   "metadata": {},
   "outputs": [],
   "source": [
    "data_cvae = data_cvae.drop((scale_list + etc_list), axis=1)"
   ]
  },
  {
   "cell_type": "code",
   "execution_count": null,
   "id": "827dad82-4c6f-444f-bba7-8b9f3a82b8c8",
   "metadata": {},
   "outputs": [],
   "source": [
    "scaler = MinMaxScaler() #set the scaler (between 0 and 1)\n",
    "\n",
    "data_cvae[:] = scaler.fit_transform(data_cvae[:])\n",
    "data_cvae = data_cvae.round(decimals=5)"
   ]
  },
  {
   "cell_type": "code",
   "execution_count": null,
   "id": "62536b4a-4c85-4450-a325-1133db6fb6ce",
   "metadata": {},
   "outputs": [],
   "source": [
    "data_cvae.columns"
   ]
  },
  {
   "cell_type": "code",
   "execution_count": null,
   "id": "653c9653-817a-45ea-9625-9a269641e476",
   "metadata": {},
   "outputs": [],
   "source": [
    "data_cvae.head()"
   ]
  },
  {
   "cell_type": "code",
   "execution_count": null,
   "id": "eaed99bf-38e0-40ce-8513-54a6c7c727af",
   "metadata": {},
   "outputs": [],
   "source": [
    "# # y includes our labels and x includes our features\n",
    "# y = data_cvae.diagnosis  # M or B \n",
    "# x = data_cvae.drop(demo_list, axis = 1 )"
   ]
  },
  {
   "cell_type": "code",
   "execution_count": null,
   "id": "93cd2552-397c-4e39-a28d-e42c96d168c9",
   "metadata": {},
   "outputs": [],
   "source": [
    "demographics = data_cvae.loc[:, ('disorder', 'age', 'gender')]"
   ]
  },
  {
   "cell_type": "code",
   "execution_count": null,
   "id": "580b7765-f5db-4f71-8d3b-85c1489b90ab",
   "metadata": {},
   "outputs": [],
   "source": [
    "demographics.shape"
   ]
  },
  {
   "cell_type": "code",
   "execution_count": null,
   "id": "019b6760-c76f-4fb4-ab7d-0f54a68682a1",
   "metadata": {},
   "outputs": [],
   "source": [
    "bio_signals = data_cvae.drop(demo_list, axis=1)"
   ]
  },
  {
   "cell_type": "code",
   "execution_count": null,
   "id": "5fe420e8-e914-41e0-9619-860c3a4734a2",
   "metadata": {},
   "outputs": [],
   "source": [
    "bio_signals.shape"
   ]
  },
  {
   "cell_type": "code",
   "execution_count": null,
   "id": "529cdf6a-8599-4c06-a382-3eb8286345f6",
   "metadata": {},
   "outputs": [],
   "source": [
    "demographics['disorder'].value_counts()"
   ]
  },
  {
   "cell_type": "code",
   "execution_count": null,
   "id": "4505a32f-77a5-41fd-93a8-0416a6a6adf8",
   "metadata": {},
   "outputs": [],
   "source": [
    "# # 데이터에 NaN이나 무한대 값이 있는지 확인\n",
    "# print(np.isnan(bio_signals).sum(), np.isinf(bio_signals).sum())\n",
    "# print(np.isnan(demographics).sum(), np.isinf(demographics).sum())"
   ]
  },
  {
   "cell_type": "code",
   "execution_count": null,
   "id": "e2f60dcf-4a99-4428-b21b-bfc12b8901f6",
   "metadata": {},
   "outputs": [],
   "source": []
  },
  {
   "cell_type": "code",
   "execution_count": null,
   "id": "aa3ab40a-6591-44db-91cb-679b45f5f5a5",
   "metadata": {},
   "outputs": [],
   "source": [
    "input_dim = bio_signals.shape[1]\n",
    "condition_dim = demographics.shape[1]\n",
    "latent_dim = 8"
   ]
  },
  {
   "cell_type": "code",
   "execution_count": null,
   "id": "fd19eb62-34e7-486a-bfc6-4907b4123ceb",
   "metadata": {},
   "outputs": [],
   "source": [
    "# 입력 텐서\n",
    "x_input = layers.Input(shape=(input_dim,), name='input')\n",
    "c_input = layers.Input(shape=(condition_dim,), name='condition')"
   ]
  },
  {
   "cell_type": "code",
   "execution_count": null,
   "id": "61537595-cda5-4f9c-8f3e-7ef5485f4a3f",
   "metadata": {},
   "outputs": [],
   "source": [
    "# 조건부 입력과 원본 입력을 합침\n",
    "combined_input = layers.Concatenate()([x_input, c_input])\n",
    "\n",
    "# 인코더 네트워크\n",
    "h = layers.Dense(64, activation='relu')(combined_input)\n",
    "h = layers.Dense(32, activation='relu')(h)\n",
    "\n",
    "# 잠재 공간의 평균과 로그 분산을 출력\n",
    "z_mean = layers.Dense(latent_dim, name='z_mean')(h)\n",
    "z_log_var = layers.Dense(latent_dim, name='z_log_var')(h)\n",
    "\n",
    "# 리파라메터라이제이션 트릭\n",
    "def sampling(args):\n",
    "    z_mean, z_log_var = args\n",
    "    batch = K.shape(z_mean)[0]\n",
    "    dim = K.int_shape(z_mean)[1]\n",
    "    epsilon = K.random_normal(shape=(batch, dim))\n",
    "    return z_mean + K.exp(0.5 * z_log_var) * epsilon\n",
    "\n",
    "# 잠재 벡터 z\n",
    "z = layers.Lambda(sampling, output_shape=(latent_dim,), name='z')([z_mean, z_log_var])"
   ]
  },
  {
   "cell_type": "code",
   "execution_count": null,
   "id": "86116dde-5bda-4cc9-ae97-45577568698e",
   "metadata": {},
   "outputs": [],
   "source": [
    "# 잠재 벡터 z와 조건부 입력을 다시 합침\n",
    "z_cond = layers.Concatenate()([z, c_input])\n",
    "\n",
    "# 디코더 네트워크\n",
    "decoder_h = layers.Dense(32, activation='relu')(z_cond)\n",
    "decoder_h = layers.Dense(64, activation='relu')(decoder_h)\n",
    "x_decoded = layers.Dense(input_dim, activation='sigmoid', name='output')(decoder_h)"
   ]
  },
  {
   "cell_type": "code",
   "execution_count": null,
   "id": "3b7333e8-252f-439c-a98d-78256b1ea35e",
   "metadata": {},
   "outputs": [],
   "source": [
    "# CVAE 모델 (인코더와 디코더를 포함)\n",
    "cvae = Model([x_input, c_input], x_decoded)\n",
    "\n",
    "# VAE loss 계산\n",
    "reconstruction_loss = mse(x_input, x_decoded)\n",
    "reconstruction_loss *= input_dim\n",
    "kl_loss = 1 + z_log_var - K.square(z_mean) - K.exp(z_log_var)\n",
    "kl_loss = K.sum(kl_loss, axis=-1)\n",
    "kl_loss *= -0.5\n",
    "vae_loss = K.mean(reconstruction_loss + kl_loss)\n",
    "\n",
    "cvae.add_loss(vae_loss)\n",
    "cvae.compile(optimizer='adam')\n",
    "cvae.summary()"
   ]
  },
  {
   "cell_type": "code",
   "execution_count": null,
   "id": "3f968689-e9e5-4bd9-8089-b7e463b75197",
   "metadata": {
    "scrolled": true
   },
   "outputs": [],
   "source": [
    "# 모델 학습\n",
    "cvae.fit([bio_signals, demographics], epochs=50, batch_size=32)"
   ]
  },
  {
   "cell_type": "code",
   "execution_count": null,
   "id": "a96eeaf0-64be-4d9c-acec-dca0688d5ced",
   "metadata": {},
   "outputs": [],
   "source": []
  },
  {
   "cell_type": "markdown",
   "id": "250d704d-a4bc-466d-923b-3ba46eb6adf2",
   "metadata": {},
   "source": [
    "***"
   ]
  },
  {
   "cell_type": "markdown",
   "id": "6e28d859-6da8-4689-9015-64a6ed57f6e6",
   "metadata": {},
   "source": [
    "### Overall CVAE code"
   ]
  },
  {
   "cell_type": "markdown",
   "id": "95154a42-3430-4078-8274-e6d5c917959f",
   "metadata": {},
   "source": [
    "클래스 설명:\n",
    "* __init__: CVAE 클래스는 초기화 시에 인코더, 디코더, 전체 CVAE 모델을 생성합니다.\n",
    "* build_encoder: 인코더를 정의하며, 입력 데이터와 조건부 변수를 받아 잠재 변수 z를 생성합니다.\n",
    "* build_decoder: 디코더를 정의하며, 잠재 변수 z와 조건부 변수를 받아 데이터를 재구성합니다.\n",
    "* build_cvae: 인코더와 디코더를 결합하여 전체 CVAE 모델을 생성하고, 손실 함수를 정의합니다.\n",
    "* train: 주어진 데이터를 사용하여 CVAE 모델을 학습시킵니다.\n",
    "* generate_synthetic_data: 학습된 모델을 사용하여 주어진 조건부 변수에 따른 새로운 synthetic 데이터를 생성합니다."
   ]
  },
  {
   "cell_type": "code",
   "execution_count": null,
   "id": "eeb67176-c94c-439b-ab52-5f0421441f3f",
   "metadata": {},
   "outputs": [],
   "source": [
    "class CVAE:\n",
    "    def __init__(self, input_dim, condition_dim, latent_dim):\n",
    "        ## initializing data demensionality\n",
    "        self.input_dim = input_dim\n",
    "        self.condition_dim = condition_dim\n",
    "        self.latent_dim = latent_dim\n",
    "        \n",
    "        ## generating encoder and decoder section\n",
    "        self.encoder = self.build_encoder()\n",
    "        self.decoder = self.build_decoder()\n",
    "        self.cvae = self.build_cvae()\n",
    "    \n",
    "    ## defining encoder function\n",
    "    def build_encoder(self):\n",
    "        x_input = layers.Input(shape=(self.input_dim,), name='input')\n",
    "        c_input = layers.Input(shape=(self.condition_dim,), name='condition')\n",
    "        \n",
    "        combined_input = layers.Concatenate()([x_input, c_input])\n",
    "        \n",
    "        h = layers.Dense(64, activation='relu')(combined_input)\n",
    "        h = layers.Dense(32, activation='relu')(h)\n",
    "        \n",
    "        z_mean = layers.Dense(self.latent_dim, name='z_mean')(h)\n",
    "        z_log_var = layers.Dense(self.latent_dim, name='z_log_var')(h)\n",
    "        \n",
    "        ## sampling (reparameterization)\n",
    "        def sampling(args):\n",
    "            z_mean, z_log_var = args\n",
    "            batch = K.shape(z_mean)[0]\n",
    "            dim = K.int_shape(z_mean)[1]\n",
    "            epsilon = K.random_normal(shape=(batch, dim))\n",
    "            return z_mean + K.exp(0.5 * z_log_var) * epsilon\n",
    "        \n",
    "        z = layers.Lambda(sampling, output_shape=(self.latent_dim,), name='z')([z_mean, z_log_var])\n",
    "        \n",
    "        return Model([x_input, c_input], [z_mean, z_log_var, z], name='encoder')\n",
    "    \n",
    "    ## defining decoder function\n",
    "    def build_decoder(self):\n",
    "        z_input = layers.Input(shape=(self.latent_dim,), name='z_sampling')\n",
    "        c_input = layers.Input(shape=(self.condition_dim,), name='condition')\n",
    "        \n",
    "        combined_input = layers.Concatenate()([z_input, c_input])\n",
    "        \n",
    "        h = layers.Dense(32, activation='relu')(combined_input)\n",
    "        h = layers.Dense(64, activation='relu')(h)\n",
    "        x_decoded = layers.Dense(self.input_dim, activation='sigmoid', name='output')(h)\n",
    "        \n",
    "        return Model([z_input, c_input], x_decoded, name='decoder')\n",
    "    \n",
    "    ## build and compile the CVAE model\n",
    "    def build_cvae(self):\n",
    "        x_input = layers.Input(shape=(self.input_dim,), name='input')\n",
    "        c_input = layers.Input(shape=(self.condition_dim,), name='condition')\n",
    "        \n",
    "        z_mean, z_log_var, z = self.encoder([x_input, c_input])\n",
    "        x_decoded = self.decoder([z, c_input])\n",
    "        \n",
    "        cvae = Model([x_input, c_input], x_decoded, name='cvae')\n",
    "        \n",
    "        reconstruction_loss = mse(x_input, x_decoded)\n",
    "        reconstruction_loss *= self.input_dim\n",
    "        \n",
    "        kl_loss = 1 + z_log_var - K.square(z_mean) - K.exp(z_log_var)\n",
    "        kl_loss = K.sum(kl_loss, axis=-1)\n",
    "        kl_loss *= -0.5\n",
    "        \n",
    "        cvae_loss = K.mean(reconstruction_loss + kl_loss)\n",
    "        cvae.add_loss(cvae_loss)\n",
    "        cvae.compile(optimizer='adam')\n",
    "        \n",
    "        return cvae\n",
    "    \n",
    "    ## model training\n",
    "    def train(self, x_train, c_train, epochs=50, batch_size=32):\n",
    "        self.cvae.fit([x_train, c_train], epochs=epochs, batch_size=batch_size)\n",
    "    \n",
    "    ## synthetic data generation (for data augmentation)\n",
    "    def generate_synthetic_data(self, condition, n_samples=1):\n",
    "        z_samples = np.random.normal(size=(n_samples, self.latent_dim))\n",
    "        synthetic_data = self.decoder.predict([z_samples, condition])\n",
    "        return synthetic_data"
   ]
  },
  {
   "cell_type": "code",
   "execution_count": null,
   "id": "5b7a473d-60b7-4444-89e9-1ad422039592",
   "metadata": {
    "scrolled": true
   },
   "outputs": [],
   "source": [
    "## defining datadimensionality\n",
    "input_dim = bio_signals.shape[1]\n",
    "condition_dim = demographics.shape[1]\n",
    "latent_dim = 2\n",
    "\n",
    "# CVAE 인스턴스 생성\n",
    "cvae_model = CVAE(input_dim, condition_dim, latent_dim)\n",
    "\n",
    "# 모델 학습\n",
    "cvae.fit([bio_signals, demographics], epochs=50, batch_size=32)"
   ]
  },
  {
   "cell_type": "code",
   "execution_count": null,
   "id": "6541de6d-307a-41cf-933a-456ede843596",
   "metadata": {},
   "outputs": [],
   "source": [
    "demographics.head()"
   ]
  },
  {
   "cell_type": "code",
   "execution_count": null,
   "id": "4b481637-573c-436e-be86-345309272ad2",
   "metadata": {},
   "outputs": [],
   "source": [
    "# 새로운 조건부 변수 설정 (예: 모든 값이 0.5인 경우)\n",
    "new_condition = np.array([[0.5, 0.327, 1]])\n",
    "\n",
    "# synthetic data 생성\n",
    "synthetic_data = cvae_model.generate_synthetic_data(new_condition, n_samples=1)\n",
    "print(synthetic_data)"
   ]
  },
  {
   "cell_type": "code",
   "execution_count": null,
   "id": "26ff0d62-6fc1-49f3-a942-4de6e40a1a0d",
   "metadata": {},
   "outputs": [],
   "source": []
  },
  {
   "cell_type": "markdown",
   "id": "e50635f7-443e-45af-8a07-b55c9ced68cf",
   "metadata": {},
   "source": [
    "----------"
   ]
  },
  {
   "cell_type": "markdown",
   "id": "cd232e5c-c1a7-4d8f-8144-14dc2bf64f50",
   "metadata": {},
   "source": [
    "-----------"
   ]
  },
  {
   "cell_type": "markdown",
   "id": "95a8736b-d296-4c8d-aace-9dd5d109a0cb",
   "metadata": {
    "jp-MarkdownHeadingCollapsed": true
   },
   "source": [
    "## Latent Diffusion Model"
   ]
  },
  {
   "cell_type": "markdown",
   "id": "cf26fb30-096e-4be1-9228-ed0dabc61b88",
   "metadata": {},
   "source": [
    "### encoder, decoder networks"
   ]
  },
  {
   "cell_type": "code",
   "execution_count": null,
   "id": "eb51d8f6-f44c-4a88-bda9-5f174523aa2e",
   "metadata": {},
   "outputs": [],
   "source": [
    "data = data_ori.copy()"
   ]
  },
  {
   "cell_type": "code",
   "execution_count": null,
   "id": "8ed7bcbe-6f4c-47b3-8278-ddb6515a1eaf",
   "metadata": {},
   "outputs": [],
   "source": [
    "data_B = data[data['diagnosis']==\"B\"]\n",
    "data_M = data[data['diagnosis']==\"M\"]"
   ]
  },
  {
   "cell_type": "code",
   "execution_count": null,
   "id": "0eaa4127-97d1-450c-a337-4a36177881b4",
   "metadata": {},
   "outputs": [],
   "source": [
    "# data_diffusion = data_ori.copy()\n",
    "# data_diffusion = data_B.copy()\n",
    "data_diffusion = data_M.copy()"
   ]
  },
  {
   "cell_type": "code",
   "execution_count": null,
   "id": "26da2ed4-8a40-430a-b555-5c21d0d251c6",
   "metadata": {},
   "outputs": [],
   "source": [
    "data_diffusion.shape"
   ]
  },
  {
   "cell_type": "code",
   "execution_count": null,
   "id": "d284d19e-1d56-41fc-adc6-1cf1341aa4f4",
   "metadata": {},
   "outputs": [],
   "source": [
    "# y includes our labels and x includes our features\n",
    "list = ['Unnamed: 32','id','diagnosis']\n",
    "x = data_diffusion.drop(list, axis = 1 )\n",
    "y = data_diffusion.diagnosis  # M or B "
   ]
  },
  {
   "cell_type": "code",
   "execution_count": null,
   "id": "a6a89dd1-f2cd-41e8-92ad-3a4cdcee188f",
   "metadata": {},
   "outputs": [],
   "source": [
    "data_x = x.copy()"
   ]
  },
  {
   "cell_type": "code",
   "execution_count": null,
   "id": "0e376dd1-6742-4990-afba-071a498f1664",
   "metadata": {},
   "outputs": [],
   "source": [
    "scaler = MinMaxScaler() #set the scaler (between 0 and 1)\n",
    "data_x[:] = scaler.fit_transform(data_x[:])\n",
    "data_x = data_x.round(decimals=5)"
   ]
  },
  {
   "cell_type": "code",
   "execution_count": null,
   "id": "11e3800e-8c6c-4371-b0f2-36c796444b75",
   "metadata": {},
   "outputs": [],
   "source": [
    "### breast cancer wisconsin ####### BINARY CLASSIFICATION ##########\n",
    "label = y\n",
    "label = label.replace({'B':0})\n",
    "label = label.replace({'M': 1})\n",
    "\n",
    "data_y = to_categorical(label, 2) ## into the format of one-hot encoding"
   ]
  },
  {
   "cell_type": "code",
   "execution_count": null,
   "id": "566c3d47-f7ed-4cda-966f-947ea321af07",
   "metadata": {},
   "outputs": [],
   "source": [
    "print(\"The size of x dataset is:\", data_x.shape)\n",
    "print(\"The size of y dataset is:\", data_y.shape)"
   ]
  },
  {
   "cell_type": "code",
   "execution_count": null,
   "id": "794f5494-674c-4cbd-91fc-9e9b5465e289",
   "metadata": {},
   "outputs": [],
   "source": []
  },
  {
   "cell_type": "code",
   "execution_count": null,
   "id": "90f712ee-d2a6-423c-a6a1-082a1417d319",
   "metadata": {},
   "outputs": [],
   "source": []
  },
  {
   "cell_type": "code",
   "execution_count": null,
   "id": "eefe80ac-7856-4761-aa36-e580cf9e024d",
   "metadata": {},
   "outputs": [],
   "source": [
    "# Sampling function for the latent space\n",
    "def sampling(repara):\n",
    "    z_mean, z_log_var = repara\n",
    "    batch = tf.shape(z_mean)[0]\n",
    "    dim = tf.shape(z_mean)[1]\n",
    "    epsilon = K.random_normal(shape=(batch, dim))\n",
    "    return z_mean + tf.exp(0.5 * z_log_var) * epsilon\n",
    "\n",
    "# Define encoder\n",
    "def build_encoder(input_shape, latent_dim):\n",
    "    inputs = Input(shape=input_shape)\n",
    "    x = Conv1D(32, 3, activation='relu', padding='same')(inputs)\n",
    "    x = Flatten()(x)\n",
    "    x = Dense(128, activation='relu')(x)\n",
    "    z_mean = Dense(latent_dim)(x)\n",
    "    z_log_var = Dense(latent_dim)(x)\n",
    "    return Model(inputs, [z_mean, z_log_var], name='encoder')\n",
    "\n",
    "# Define decoder\n",
    "def build_decoder(output_shape, latent_dim):\n",
    "    latent_inputs = Input(shape=(latent_dim,))\n",
    "    x = Dense(128, activation='relu')(latent_inputs)\n",
    "    x = Dense(np.prod(output_shape), activation='relu')(x)\n",
    "    x = Reshape(output_shape)(x)\n",
    "    outputs = Conv1D(1, 3, activation='sigmoid', padding='same')(x)\n",
    "    return Model(latent_inputs, outputs, name='decoder')"
   ]
  },
  {
   "cell_type": "code",
   "execution_count": null,
   "id": "407dba56-edca-46c7-a855-1d38223010ba",
   "metadata": {},
   "outputs": [],
   "source": [
    "input_shape = (data_x.shape[1], 1)  # Example input shape\n",
    "latent_dim = 16"
   ]
  },
  {
   "cell_type": "code",
   "execution_count": null,
   "id": "22d3ea48-e058-4dba-b226-ca6bfb0eb20e",
   "metadata": {},
   "outputs": [],
   "source": [
    "input_shape"
   ]
  },
  {
   "cell_type": "code",
   "execution_count": null,
   "id": "b75b2e74-1c33-412d-8922-6172b7923bfb",
   "metadata": {
    "scrolled": true
   },
   "outputs": [],
   "source": [
    "## Define the VAE\n",
    "encoder = build_encoder(input_shape, latent_dim)\n",
    "decoder = build_decoder(input_shape, latent_dim)\n",
    "\n",
    "inputs = Input(shape=input_shape)\n",
    "z_mean, z_log_var = encoder(inputs)\n",
    "z = Lambda(sampling, output_shape=(latent_dim,))([z_mean, z_log_var])\n",
    "outputs = decoder(z)\n",
    "\n",
    "vae = Model(inputs, outputs, name='vae')\n",
    "\n",
    "# Define the VAE loss\n",
    "reconstruction_loss = MeanSquaredError()(inputs, outputs)\n",
    "kl_loss = -0.5 * tf.reduce_mean(\n",
    "    z_log_var - tf.square(z_mean) - tf.exp(z_log_var) + 1)\n",
    "vae_loss = reconstruction_loss + kl_loss\n",
    "vae.add_loss(vae_loss)\n",
    "vae.compile(optimizer='adam')\n",
    "\n",
    "# vae.summary()"
   ]
  },
  {
   "cell_type": "code",
   "execution_count": null,
   "id": "537b8cf8-fab2-4966-8635-c7c89242bcf8",
   "metadata": {},
   "outputs": [],
   "source": [
    "# encoder.summary()"
   ]
  },
  {
   "cell_type": "code",
   "execution_count": null,
   "id": "2b308bb6-37a4-4050-93f0-97270447591e",
   "metadata": {},
   "outputs": [],
   "source": [
    "# decoder.summary()"
   ]
  },
  {
   "cell_type": "code",
   "execution_count": null,
   "id": "526dc914-b23c-427a-b90f-cc5e3a0dfc3d",
   "metadata": {},
   "outputs": [],
   "source": []
  },
  {
   "cell_type": "markdown",
   "id": "0cb65314-efc8-4b76-b8a9-780e86f5123a",
   "metadata": {},
   "source": [
    "### model training"
   ]
  },
  {
   "cell_type": "code",
   "execution_count": null,
   "id": "612e2eab-5606-4188-9d1b-23fdad6c2c8b",
   "metadata": {
    "scrolled": true
   },
   "outputs": [],
   "source": [
    "# Train the VAE\n",
    "vae.fit(data_x, epochs=args.epochs, validation_split=0.2, batch_size=args.bs, verbose=2)"
   ]
  },
  {
   "cell_type": "code",
   "execution_count": null,
   "id": "64dff58b-1455-47ec-b39a-64c7cd5a306e",
   "metadata": {},
   "outputs": [],
   "source": []
  },
  {
   "cell_type": "markdown",
   "id": "c44d6bbb-5d51-49b3-8a7e-c8e0cf863810",
   "metadata": {},
   "source": [
    "### extracting encoder, decoder"
   ]
  },
  {
   "cell_type": "code",
   "execution_count": null,
   "id": "628db0bc-31ed-4e59-8019-ea118be7d7fb",
   "metadata": {},
   "outputs": [],
   "source": [
    "# # Extract the encoder and decoder models\n",
    "# encoder_model = encoder\n",
    "# decoder_model = decoder"
   ]
  },
  {
   "cell_type": "code",
   "execution_count": null,
   "id": "5b6e1030-4d06-4622-b7e7-c26b233899ad",
   "metadata": {},
   "outputs": [],
   "source": [
    "# # Example of using the encoder to get the latent representation\n",
    "# example_data = np.random.rand(1, 356, 1)  # Example single data point\n",
    "# z_mean, z_log_var = encoder_model.predict(example_data)\n",
    "# z_sampled = sampling([z_mean, z_log_var])\n",
    "\n",
    "# print(\"Latent representation (z_mean):\", z_mean)\n",
    "# print(\"Latent representation (z_log_var):\", z_log_var)\n",
    "# print(\"Sampled latent vector:\", z_sampled)\n",
    "\n",
    "# # Example of using the decoder to generate data from the latent space\n",
    "# synthetic_data = decoder_model.predict(z_sampled)\n",
    "\n",
    "# print(\"Generated synthetic data:\", synthetic_data)"
   ]
  },
  {
   "cell_type": "code",
   "execution_count": null,
   "id": "bbd34e5b-9901-44a7-8934-acf9c9a1a41f",
   "metadata": {},
   "outputs": [],
   "source": []
  },
  {
   "cell_type": "markdown",
   "id": "cbca2713-32e3-4e8b-a8cb-25f3ef994a16",
   "metadata": {},
   "source": [
    "### Synthetic data generation"
   ]
  },
  {
   "cell_type": "code",
   "execution_count": null,
   "id": "b07f8a37-1f05-46e4-8acb-40522673c84e",
   "metadata": {},
   "outputs": [],
   "source": [
    "## for synthetic data generation from latent diffusion's latent space\n",
    "def latent_diffusion_data_generation(decoder, latent_dim, num_samples):\n",
    "    # sample random vectors from a standard normal distribution\n",
    "    random_vectors = np.random.normal(size=(num_samples, latent_dim))\n",
    "    # generating synthetic dataset with decoder\n",
    "    synthetic_data = decoder.predict(random_vectors)\n",
    "    return synthetic_data"
   ]
  },
  {
   "cell_type": "code",
   "execution_count": null,
   "id": "b317a453-30a1-439f-8f72-77c2cd6e8923",
   "metadata": {},
   "outputs": [],
   "source": [
    "### sampling randomly from latent space\n",
    "b_samples = 212  # number of synthetic dataset to generate (generate size for gen_B)\n",
    "m_samples = 357  # number of synthetic dataset to generate (generate size for gen_M)\n",
    "\n",
    "### generating synthetic dataset for each class\n",
    "# synthetic_data_B = latent_diffusion_data_generation(decoder, latent_dim, b_samples)\n",
    "synthetic_data_M = latent_diffusion_data_generation(decoder, latent_dim, m_samples)"
   ]
  },
  {
   "cell_type": "code",
   "execution_count": null,
   "id": "f6c79622-2f3c-49dd-a92d-73219849b788",
   "metadata": {},
   "outputs": [],
   "source": [
    "## Reshape synthetic data for Sequential model input\n",
    "# Ensure this matches the input shape of the Sequential model\n",
    "# synthetic_data_B = synthetic_data_B.reshape((synthetic_data_B.shape[0]), (synthetic_data_B.shape[1]))\n",
    "synthetic_data_M = synthetic_data_M.reshape((synthetic_data_M.shape[0]), (synthetic_data_M.shape[1]))"
   ]
  },
  {
   "cell_type": "code",
   "execution_count": null,
   "id": "4cbb37ba-0577-42fb-a279-ac8945deddb6",
   "metadata": {},
   "outputs": [],
   "source": [
    "synthetic_data_B"
   ]
  },
  {
   "cell_type": "code",
   "execution_count": null,
   "id": "2b6e8124-6323-4903-8f17-eb8ab41b9942",
   "metadata": {},
   "outputs": [],
   "source": []
  },
  {
   "cell_type": "code",
   "execution_count": null,
   "id": "d8739a57-46cf-41e0-9d4b-082dfffa3fad",
   "metadata": {},
   "outputs": [],
   "source": [
    "# gen_B = synthetic_data_B.copy()\n",
    "# gen_B = pd.DataFrame(gen_B, columns=data_x.columns)\n",
    "\n",
    "#####################\n",
    "gen_M = synthetic_data_M.copy()\n",
    "gen_M = pd.DataFrame(gen_M, columns=data_x.columns)"
   ]
  },
  {
   "cell_type": "code",
   "execution_count": null,
   "id": "f2ff6241-7e4b-4827-a1f6-44ba65133932",
   "metadata": {},
   "outputs": [],
   "source": []
  },
  {
   "cell_type": "code",
   "execution_count": null,
   "id": "78a2a4f1-fb5d-483f-8b47-ce07592faa00",
   "metadata": {},
   "outputs": [],
   "source": []
  },
  {
   "cell_type": "markdown",
   "id": "e981c57e-13b4-4b5e-aa19-c6cfe91c989a",
   "metadata": {},
   "source": [
    "---------"
   ]
  },
  {
   "cell_type": "markdown",
   "id": "6b774b0d-996a-492a-8930-56b8498703c4",
   "metadata": {},
   "source": [
    "-----------"
   ]
  },
  {
   "cell_type": "markdown",
   "id": "e2d74df3-ad0e-4d1e-903f-ba88f4613b8e",
   "metadata": {},
   "source": [
    "## DNN classification/prediction"
   ]
  },
  {
   "cell_type": "markdown",
   "id": "bf3ea892-6b25-42dc-a749-143b32efbea8",
   "metadata": {},
   "source": [
    "### using original dataset only"
   ]
  },
  {
   "cell_type": "code",
   "execution_count": null,
   "id": "4851cfaf-d396-4468-bbff-532d0986eff7",
   "metadata": {},
   "outputs": [],
   "source": [
    "# x.head()\n",
    "# y.head()"
   ]
  },
  {
   "cell_type": "code",
   "execution_count": null,
   "id": "85d9b8ec-8611-476f-b2d6-d21d0051d06b",
   "metadata": {},
   "outputs": [],
   "source": [
    "# y.value_counts()"
   ]
  },
  {
   "cell_type": "code",
   "execution_count": null,
   "id": "8cebe846-b2bb-42c6-9a32-f5a60134c0b0",
   "metadata": {},
   "outputs": [],
   "source": [
    "ori_x = x.copy()"
   ]
  },
  {
   "cell_type": "code",
   "execution_count": null,
   "id": "743b9708-ebb7-45d7-99da-7f986d60c6e5",
   "metadata": {},
   "outputs": [],
   "source": [
    "scaler = MinMaxScaler() #set the scaler (between 0 and 1)\n",
    "\n",
    "ori_x[:] = scaler.fit_transform(ori_x[:])\n",
    "ori_x = ori_x.round(decimals=5)"
   ]
  },
  {
   "cell_type": "code",
   "execution_count": null,
   "id": "7fe5a711-4542-4a26-bc00-87156add14fe",
   "metadata": {},
   "outputs": [],
   "source": [
    "########## 3-CLASS CLASSIFICATION ##########\n",
    "label = y.copy()\n",
    "label = label.replace({'normal': 0})\n",
    "label = label.replace({'mild': 1})\n",
    "label = label.replace({'mod_severe': 2})\n",
    "\n",
    "ori_y = to_categorical(label, 3) ## into the format of one-hot encoding"
   ]
  },
  {
   "cell_type": "code",
   "execution_count": null,
   "id": "66d214c4-026e-4d1e-94ad-cb540c1b539c",
   "metadata": {},
   "outputs": [],
   "source": [
    "ori_x.shape"
   ]
  },
  {
   "cell_type": "code",
   "execution_count": null,
   "id": "a385e133-6da1-4443-936c-c26a81b9c3d5",
   "metadata": {},
   "outputs": [],
   "source": []
  },
  {
   "cell_type": "code",
   "execution_count": null,
   "id": "c1b2e779-e7db-4509-9c80-8e143abf7f02",
   "metadata": {},
   "outputs": [],
   "source": []
  },
  {
   "cell_type": "markdown",
   "id": "7eaaf7d3-f1da-4632-bb89-c31e45e79ee4",
   "metadata": {
    "jp-MarkdownHeadingCollapsed": true
   },
   "source": [
    "### using original + generated dataset"
   ]
  },
  {
   "cell_type": "markdown",
   "id": "23165eff-832d-482a-b4eb-7915a4c29b26",
   "metadata": {},
   "source": [
    "> we generate synthesized dataset using VAE from above. \\\n",
    "> adopted original datset: data_mdd, data_bpi, data_bpii \\\n",
    "> synthesized into: gen_mdd, gen_bpi, gen_bpii \\\n",
    "> gen_control is not generated since \"control group\" has biggest number."
   ]
  },
  {
   "cell_type": "markdown",
   "id": "535d7c72-1065-4a07-91b6-54bf90af8aea",
   "metadata": {},
   "source": [
    "* Set target information into newly generated dataset"
   ]
  },
  {
   "cell_type": "code",
   "execution_count": null,
   "id": "92f7c1a8-fdb1-4653-ae91-35e57b28405e",
   "metadata": {},
   "outputs": [],
   "source": [
    "gen_B['diagnosis'] = \"B\"\n",
    "gen_M['diagnosis'] = \"M\""
   ]
  },
  {
   "cell_type": "markdown",
   "id": "6ed873e4-66d3-418e-a733-d065f9952493",
   "metadata": {},
   "source": [
    "* Preparing original dataset"
   ]
  },
  {
   "cell_type": "code",
   "execution_count": null,
   "id": "6be7599b-07d0-4b43-9a65-3f3d3a9b672b",
   "metadata": {},
   "outputs": [],
   "source": [
    "data_B = data_B.drop(['Unnamed: 32','id'], axis=1)\n",
    "data_M = data_M.drop(['Unnamed: 32','id'], axis=1)"
   ]
  },
  {
   "cell_type": "markdown",
   "id": "47107f5a-4f2c-4db4-a738-344eb528bb7a",
   "metadata": {},
   "source": [
    "* Concat the original datasets into one original dataframe"
   ]
  },
  {
   "cell_type": "code",
   "execution_count": null,
   "id": "a79dc3ad-3c6d-4f9d-b7e1-8614e1bf2cbe",
   "metadata": {},
   "outputs": [],
   "source": [
    "ori_df_list = [data_B, data_M]\n",
    "ori_df_concat = pd.concat(ori_df_list, ignore_index=True)"
   ]
  },
  {
   "cell_type": "code",
   "execution_count": null,
   "id": "59a82a2f-1eae-4ecd-ba39-1059595fab47",
   "metadata": {},
   "outputs": [],
   "source": [
    "ori_df_concat.shape"
   ]
  },
  {
   "cell_type": "code",
   "execution_count": null,
   "id": "33219592-c92c-4962-8ab5-544ae8fbf67b",
   "metadata": {},
   "outputs": [],
   "source": [
    "ori_df_concat['diagnosis'].value_counts()"
   ]
  },
  {
   "cell_type": "markdown",
   "id": "d057fe72-bd67-446c-8512-852ffc14041b",
   "metadata": {},
   "source": [
    "* Concat the generated datasets into one gen dataframe"
   ]
  },
  {
   "cell_type": "code",
   "execution_count": null,
   "id": "686011db-6879-454b-bb33-2082f02e4e06",
   "metadata": {},
   "outputs": [],
   "source": [
    "gen_df_list = [gen_B, gen_M]\n",
    "gen_df_concat = pd.concat(gen_df_list, ignore_index=True)"
   ]
  },
  {
   "cell_type": "code",
   "execution_count": null,
   "id": "073cd1d3-6b77-40a8-ba51-3e19e7a0ab12",
   "metadata": {},
   "outputs": [],
   "source": [
    "gen_df_concat['diagnosis'].value_counts()"
   ]
  },
  {
   "cell_type": "code",
   "execution_count": null,
   "id": "3f489e45-0b00-4f9c-9d67-db81c83ac520",
   "metadata": {},
   "outputs": [],
   "source": []
  },
  {
   "cell_type": "markdown",
   "id": "57c956c1-43d2-4ce2-8526-acc132a3c219",
   "metadata": {},
   "source": [
    "* Preparing x and y data vectors"
   ]
  },
  {
   "cell_type": "code",
   "execution_count": null,
   "id": "b697ca70-7cef-40e5-8d04-5c7d1544a7ba",
   "metadata": {},
   "outputs": [],
   "source": [
    "### Using MDD,BP dataset\n",
    "ori_x = ori_df_concat.drop(['diagnosis'], axis=1)\n",
    "ori_y = ori_df_concat.loc[:,[\"diagnosis\"]]\n",
    "\n",
    "gen_x = gen_df_concat.drop(['diagnosis'], axis=1)\n",
    "gen_y = gen_df_concat.loc[:,[\"diagnosis\"]]"
   ]
  },
  {
   "cell_type": "code",
   "execution_count": null,
   "id": "835d6a55-c823-4f77-950a-a37306c0d00c",
   "metadata": {},
   "outputs": [],
   "source": [
    "ori_x = ori_x.fillna(ori_x.mean())"
   ]
  },
  {
   "cell_type": "code",
   "execution_count": null,
   "id": "f3002ead-df2b-4686-bb3a-4cf7ba66735b",
   "metadata": {},
   "outputs": [],
   "source": [
    "label = ori_y\n",
    "label = label.replace({'B':0})\n",
    "label = label.replace({'M': 1})\n",
    "\n",
    "y_ori = to_categorical(label, 2) ## into the format of one-hot encoding"
   ]
  },
  {
   "cell_type": "code",
   "execution_count": null,
   "id": "cfbd50ae-9a5d-4afc-acea-e62d6ee8de30",
   "metadata": {},
   "outputs": [],
   "source": [
    "label_ = gen_y\n",
    "label_ = label_.replace({'B':0})\n",
    "label_ = label_.replace({'M': 1})\n",
    "\n",
    "y_gen = to_categorical(label_, 2) ## into the format of one-hot encoding"
   ]
  },
  {
   "cell_type": "code",
   "execution_count": null,
   "id": "9df9a68d-bf83-4e65-bb66-3a58ad013c26",
   "metadata": {},
   "outputs": [],
   "source": []
  },
  {
   "cell_type": "markdown",
   "id": "a70971a1-0c89-4c8c-b721-fa55ee86e44c",
   "metadata": {},
   "source": [
    "* Separating the test dataset only from original dataframe"
   ]
  },
  {
   "cell_type": "code",
   "execution_count": null,
   "id": "9bcbf13b-0b7b-4778-a206-17da483ceecf",
   "metadata": {},
   "outputs": [],
   "source": [
    "x_trainset, x_test, y_trainset, y_test = train_test_split(ori_x, y_ori, test_size = 0.4, random_state = 710674)"
   ]
  },
  {
   "cell_type": "markdown",
   "id": "16b05ef7-4e15-44d6-ab3c-ea87fe009a64",
   "metadata": {},
   "source": [
    "* Then concat the generated dataset with training dataset"
   ]
  },
  {
   "cell_type": "code",
   "execution_count": null,
   "id": "29e1980c-1cdf-4707-93c7-58f6c52520f8",
   "metadata": {},
   "outputs": [],
   "source": [
    "x_train_concat = pd.concat([x_trainset, gen_x], ignore_index=True)\n",
    "y_train_concat = np.concatenate([y_trainset, y_gen])"
   ]
  },
  {
   "cell_type": "markdown",
   "id": "e9da36d6-37d9-4afd-9c27-3e36973da17c",
   "metadata": {},
   "source": [
    "* Then separating the validation dataset from concat dataframe"
   ]
  },
  {
   "cell_type": "code",
   "execution_count": null,
   "id": "0572cdb0-b457-45bb-8645-d4caafb00ba5",
   "metadata": {},
   "outputs": [],
   "source": [
    "x_train, x_vali, y_train, y_vali = train_test_split(x_train_concat, y_train_concat, test_size = 0.2, random_state = 710674)"
   ]
  },
  {
   "cell_type": "code",
   "execution_count": null,
   "id": "aa7ef7f0-927e-4813-8739-a279a6df158b",
   "metadata": {},
   "outputs": [],
   "source": []
  },
  {
   "cell_type": "code",
   "execution_count": null,
   "id": "f5fe023c-6515-4a89-882b-48a27ad414f5",
   "metadata": {
    "scrolled": true
   },
   "outputs": [],
   "source": [
    "# ori_x[ori_x.isna().any(axis=1)].shape"
   ]
  },
  {
   "cell_type": "code",
   "execution_count": null,
   "id": "4c78512c-7240-47cd-a088-a2c96edf117e",
   "metadata": {
    "scrolled": true
   },
   "outputs": [],
   "source": [
    "# # fig, ax = plt.subplots()\n",
    "# plt.figure(figsize = (10, 5))\n",
    "# plt.xlabel('Generated MDD BP feature variables',fontsize=10)\n",
    "# plt.ylabel('Feature value',fontsize=10)\n",
    "# plt.boxplot(ori_x)\n",
    "# plt.show()"
   ]
  },
  {
   "cell_type": "code",
   "execution_count": null,
   "id": "6cbc9bd3-3c49-4f07-ac1a-6689570947fa",
   "metadata": {},
   "outputs": [],
   "source": []
  },
  {
   "cell_type": "markdown",
   "id": "f39c2ee7-3221-4217-8794-c19a904f91d5",
   "metadata": {},
   "source": [
    "***"
   ]
  },
  {
   "cell_type": "markdown",
   "id": "969466bf-be6b-4d06-a77c-229ac0a5c471",
   "metadata": {},
   "source": [
    "### model training + test"
   ]
  },
  {
   "cell_type": "code",
   "execution_count": null,
   "id": "eaedc655-0b50-4bc7-b3d6-0832d939efd0",
   "metadata": {},
   "outputs": [],
   "source": [
    "class Args:\n",
    "    # arugments\n",
    "    epochs=300\n",
    "    bs=32\n",
    "    lr=0.001\n",
    "    momentum=0.9\n",
    "    num_classes= 3\n",
    "    seed=710674\n",
    "\n",
    "args = Args()"
   ]
  },
  {
   "cell_type": "code",
   "execution_count": null,
   "id": "6ae8ef8b-3fab-4403-8676-a4359977db7d",
   "metadata": {},
   "outputs": [],
   "source": []
  },
  {
   "cell_type": "markdown",
   "id": "86bade4d-02ae-4a3b-ae78-3441f5c033b7",
   "metadata": {},
   "source": [
    "#### normal DNN"
   ]
  },
  {
   "cell_type": "code",
   "execution_count": null,
   "id": "5b148481-23f4-4070-b6b5-ac50fd174804",
   "metadata": {},
   "outputs": [],
   "source": [
    "x_train, x_test, y_train, y_test = train_test_split(ori_x, ori_y, test_size = 0.2, random_state = 710674)"
   ]
  },
  {
   "cell_type": "code",
   "execution_count": null,
   "id": "90dc2359-e87c-4272-9067-4ecc900f1ff6",
   "metadata": {},
   "outputs": [],
   "source": [
    "x_train.shape"
   ]
  },
  {
   "cell_type": "code",
   "execution_count": null,
   "id": "a1e61f20-b3f8-4478-a949-01ff9f1a0c90",
   "metadata": {},
   "outputs": [],
   "source": [
    "############## FOR balanced CLASSIFICATION ###############\n",
    "# class_weight = {0:1, 1:1.3, 2: 1.43} ## con 194, pd 149, mdd 136\n",
    "class_weight = {0:1, 1: 1.68, 2: 3.7}  ## normal 258, mild 153, mod_severe 68"
   ]
  },
  {
   "cell_type": "code",
   "execution_count": null,
   "id": "28545248-f087-4bc1-9a84-7262b9179abe",
   "metadata": {},
   "outputs": [],
   "source": [
    "#### Generate the model\n",
    "## this model is adequate for JSD_big differences variables use\n",
    "model = Sequential()\n",
    "model.add(Dense(64, input_dim = x_train.shape[1], activation = 'relu'))\n",
    "model.add(Dense(128, activation = 'relu'))\n",
    "model.add(BatchNormalization())\n",
    "model.add(Activation('relu'))\n",
    "model.add(Dense(128, activation = 'relu'))\n",
    "model.add(BatchNormalization())\n",
    "model.add(Activation('relu'))\n",
    "# model.add(Dense(128, activation = 'relu'))\n",
    "model.add(Dense(64, activation = 'relu'))\n",
    "model.add(Dense(32, activation = 'relu'))\n",
    "model.add(Dense(args.num_classes, activation = 'softmax'))"
   ]
  },
  {
   "cell_type": "code",
   "execution_count": null,
   "id": "8e43c546-6464-4b9a-858f-b3411dabfe07",
   "metadata": {},
   "outputs": [],
   "source": [
    "def cyclic_learning_rate(epoch, base_lr=0.001, max_lr=0.006, step_size=2000):\n",
    "    cycle = np.floor(1 + epoch / (2 * step_size))\n",
    "    x = np.abs(epoch / step_size - 2 * cycle + 1)\n",
    "    lr = base_lr + (max_lr - base_lr) * max(0, (1 - x))\n",
    "    return lr"
   ]
  },
  {
   "cell_type": "code",
   "execution_count": null,
   "id": "1979ffd3-1042-4d3d-9c7b-df1288aec718",
   "metadata": {},
   "outputs": [],
   "source": [
    "def triangular_lr(epoch, base_lr=0.001, max_lr=0.006, step_size=2000):\n",
    "    cycle = np.floor(1 + epoch / (2 * step_size))\n",
    "    x = np.abs(epoch / step_size - 2 * cycle + 1)\n",
    "    lr = base_lr + (max_lr - base_lr) * max(0, (1 - x))\n",
    "    return lr"
   ]
  },
  {
   "cell_type": "code",
   "execution_count": null,
   "id": "d34b0bb2-bd3d-4841-846e-b663b95613ea",
   "metadata": {},
   "outputs": [],
   "source": [
    "def triangular2_lr(epoch, base_lr=0.001, max_lr=0.006, step_size=2000):\n",
    "    cycle = np.floor(1 + epoch / (2 * step_size))\n",
    "    x = np.abs(epoch / step_size - 2 * cycle + 1)\n",
    "    lr = base_lr + (max_lr - base_lr) * max(0, (1 - x)) / (2 ** (cycle - 1))\n",
    "    return lr"
   ]
  },
  {
   "cell_type": "code",
   "execution_count": null,
   "id": "88ad21a5-667b-40bf-9ebf-e79d95abad5e",
   "metadata": {},
   "outputs": [],
   "source": [
    "def exp_range_lr(epoch, base_lr=0.001, max_lr=0.006, step_size=2000, gamma=0.99994):\n",
    "    cycle = np.floor(1 + epoch / (2 * step_size))\n",
    "    x = np.abs(epoch / step_size - 2 * cycle + 1)\n",
    "    lr = base_lr + (max_lr - base_lr) * max(0, (1 - x)) * (gamma ** epoch)\n",
    "    return lr"
   ]
  },
  {
   "cell_type": "markdown",
   "id": "af8723a2-895c-43b4-b031-c869d0f2af3b",
   "metadata": {},
   "source": [
    "* optimization function, model compile, and model training"
   ]
  },
  {
   "cell_type": "code",
   "execution_count": null,
   "id": "db624fb0-5279-4b8c-8fb7-df92329f5ed3",
   "metadata": {},
   "outputs": [],
   "source": [
    "opt = keras.optimizers.SGD(learning_rate = args.lr, decay = 1e-5, momentum = args.momentum)"
   ]
  },
  {
   "cell_type": "code",
   "execution_count": null,
   "id": "7ea591cd-4edb-44e3-a8af-34b6ecbf89a6",
   "metadata": {},
   "outputs": [],
   "source": [
    "# LearningRateScheduler 설정\n",
    "lr_scheduler = LearningRateScheduler(lambda epoch: cyclic_learning_rate(epoch, base_lr=0.01, max_lr=0.006, step_size=300))\n",
    "# lr_scheduler = LearningRateScheduler(lambda epoch: exp_range_lr(epoch, base_lr=0.01, max_lr=0.006, step_size=300, gamma=0.99994))"
   ]
  },
  {
   "cell_type": "code",
   "execution_count": null,
   "id": "e47bccd2-500f-44e4-ae6a-6462b99abcbd",
   "metadata": {
    "scrolled": true
   },
   "outputs": [],
   "source": [
    "model.compile(loss='categorical_crossentropy', optimizer=opt, metrics=['accuracy'])\n",
    "# history = model.fit(x_train, y_train, epochs=args.epochs, batch_size=args.bs, verbose=2)   ## using no class weight\n",
    "# history = model.fit(x_train, y_train, epochs=args.epochs, batch_size=args.bs, verbose=2, class_weight = class_weight)  ## using class weight\n",
    "history = model.fit(x_train, y_train, epochs=args.epochs, batch_size=args.bs, callbacks=[lr_scheduler], class_weight = class_weight, verbose=2) ## using LR scheduler callback"
   ]
  },
  {
   "cell_type": "code",
   "execution_count": null,
   "id": "d975db5d-b42e-4329-9f11-7f9b70e426ea",
   "metadata": {},
   "outputs": [],
   "source": []
  },
  {
   "cell_type": "markdown",
   "id": "5f14dac1-c848-4693-9002-6e5d5ca8f048",
   "metadata": {},
   "source": [
    "***"
   ]
  },
  {
   "cell_type": "code",
   "execution_count": null,
   "id": "33d4144c-181a-4266-8ce3-8cd2063f65b2",
   "metadata": {},
   "outputs": [],
   "source": [
    "y_predict = model.predict(x_test)\n",
    "y_predict = np.argmax(y_predict, axis = 1)\n",
    "y_test = np.argmax(y_test, axis = 1)\n",
    "\n",
    "result = confusion_matrix(y_test, y_predict, normalize = 'pred')\n",
    "print(result)"
   ]
  },
  {
   "cell_type": "code",
   "execution_count": null,
   "id": "6bb54cbf-a06b-4861-b212-f8b59f7b1c34",
   "metadata": {},
   "outputs": [],
   "source": [
    "figure = plt.figure(figsize=(6, 4))\n",
    "sns.heatmap(result, annot=True,cmap=plt.cm.Blues)\n",
    "plt.tight_layout()\n",
    "plt.ylabel('True label')\n",
    "plt.xlabel('Predicted label')\n",
    "plt.show()"
   ]
  },
  {
   "cell_type": "code",
   "execution_count": null,
   "id": "b6069d14-47e5-48bf-b5be-e9ae4cd2d3f2",
   "metadata": {},
   "outputs": [],
   "source": [
    "accuracy = metrics.accuracy_score(y_test, y_predict)\n",
    "precision = metrics.precision_score(y_test, y_predict, average = 'macro')\n",
    "recall = metrics.recall_score(y_test, y_predict, average = 'micro')\n",
    "f1 = metrics.f1_score(y_test, y_predict, average = 'weighted')\n",
    "auc = roc_auc_score(y_test, model.predict(x_test, verbose=0), multi_class='ovr')\n",
    "\n",
    "print(\"=============================================\")\n",
    "print(\"The overall accuracy is:\", round(accuracy, 4))\n",
    "print(\"The precision score is:\", round(precision, 4))\n",
    "print(\"The recall score is:\", round(recall, 4))\n",
    "print(\"The f1 score is:\", round(f1, 4))\n",
    "print(\"The AUC score is:\", round(auc, 4))\n",
    "print(\"=============================================\")"
   ]
  },
  {
   "cell_type": "code",
   "execution_count": null,
   "id": "2ee306ab-7e58-4dbe-ae53-81288849ea4b",
   "metadata": {},
   "outputs": [],
   "source": []
  },
  {
   "cell_type": "code",
   "execution_count": null,
   "id": "c7f74401-b0c1-4a95-b7ec-d9b59bb4a607",
   "metadata": {},
   "outputs": [],
   "source": []
  },
  {
   "cell_type": "code",
   "execution_count": null,
   "id": "b0ad9241-3cb9-4006-94d3-1a81ccf3b71a",
   "metadata": {},
   "outputs": [],
   "source": []
  },
  {
   "cell_type": "code",
   "execution_count": null,
   "id": "6f0e2262-146a-4478-b107-4ab34853051e",
   "metadata": {},
   "outputs": [],
   "source": []
  },
  {
   "cell_type": "markdown",
   "id": "4c45e383-4895-4dda-813c-ead039ec9009",
   "metadata": {},
   "source": [
    "***"
   ]
  },
  {
   "cell_type": "markdown",
   "id": "5c91ad0f-2d8f-49a7-8b97-85cd38696300",
   "metadata": {},
   "source": [
    "#### k-fold"
   ]
  },
  {
   "cell_type": "code",
   "execution_count": null,
   "id": "5a14f108-e380-4562-97b9-fad434bc53c7",
   "metadata": {},
   "outputs": [],
   "source": [
    "x_trainset, x_test, y_trainset, y_test = train_test_split(ori_x, ori_y, test_size = 0.4, random_state = 710674)"
   ]
  },
  {
   "cell_type": "code",
   "execution_count": null,
   "id": "744dadc1-ec6f-4299-87a6-c00a66fb22a8",
   "metadata": {},
   "outputs": [],
   "source": [
    "x_train, x_vali, y_train, y_vali = train_test_split(x_trainset, y_trainset, test_size = 0.2, random_state = 710674)"
   ]
  },
  {
   "cell_type": "code",
   "execution_count": null,
   "id": "5088a085-fb59-450a-91f5-00d29aa448bb",
   "metadata": {},
   "outputs": [],
   "source": [
    "inputs = np.concatenate((x_train, x_vali), axis = 0)\n",
    "targets = np.concatenate((y_train, y_vali), axis = 0)"
   ]
  },
  {
   "cell_type": "code",
   "execution_count": null,
   "id": "0abccf00-241c-4224-9cf0-5dddaee8ee71",
   "metadata": {},
   "outputs": [],
   "source": [
    "fold_num = 1\n",
    "split_num = 5\n",
    "opt = keras.optimizers.SGD(learning_rate = args.lr, decay = 1e-6, momentum = args.momentum)\n",
    "kfold = KFold(n_splits = split_num, shuffle = True)"
   ]
  },
  {
   "cell_type": "code",
   "execution_count": null,
   "id": "df9fba3d-b601-4e2d-baa5-623b934167d6",
   "metadata": {},
   "outputs": [],
   "source": [
    "############## FOR balanced CLASSIFICATION ###############\n",
    "# class_weight = {0:1, 1:1.3, 2: 1.43} ## con 194, pd 149, mdd 136\n",
    "class_weight = {0:1, 1: 1.68, 2: 3.7}  ## normal 258, mild 153, mod_severe 68"
   ]
  },
  {
   "cell_type": "code",
   "execution_count": null,
   "id": "c714002a-a0cf-4b96-8e5a-92634747fd60",
   "metadata": {},
   "outputs": [],
   "source": [
    "acc_per_fold = []\n",
    "loss_per_fold = []"
   ]
  },
  {
   "cell_type": "code",
   "execution_count": null,
   "id": "7c3c9406-083f-4d68-bdda-8d89c7484be0",
   "metadata": {},
   "outputs": [],
   "source": [
    "x_train.shape"
   ]
  },
  {
   "cell_type": "code",
   "execution_count": null,
   "id": "3432f2de-8038-40d7-9223-ebd3eb6dd9a3",
   "metadata": {},
   "outputs": [],
   "source": [
    "x_train.columns"
   ]
  },
  {
   "cell_type": "code",
   "execution_count": null,
   "id": "80fb1d30-a20a-4be3-a67e-7ad0090620c3",
   "metadata": {},
   "outputs": [],
   "source": [
    "for train, test in kfold.split(inputs, targets):\n",
    "    model = Sequential()\n",
    "    model.add(Dense(128, input_dim = x_train.shape[1], activation = 'relu'))\n",
    "    model.add(Dense(64, activation = 'relu'))\n",
    "    model.add(BatchNormalization())\n",
    "    # model.add(Dropout(0.5)) #drop out\n",
    "    model.add(Dense(32, activation = 'relu'))\n",
    "    # model.add(Dense(32, activation = 'relu'))\n",
    "    model.add(Dense(args.num_classes, activation = 'softmax'))\n",
    "    \n",
    "    ## model compile\n",
    "    model.compile(loss = 'categorical_crossentropy', optimizer = opt, metrics = ['accuracy'])\n",
    "    \n",
    "    print('----------------------------------------')\n",
    "    print(f'Training or fold {fold_num} ... ')\n",
    "    \n",
    "    ## fit data to model\n",
    "    history = model.fit(inputs[train], targets[train], batch_size = args.bs, epochs = args.epochs, verbose = 0, class_weight = class_weight)\n",
    "    \n",
    "    ## generate generalization metrics\n",
    "    scores = model.evaluate(inputs[test], targets[test])\n",
    "    print(f'Score for fold {fold_num}: {model.metrics_names[0]} of {scores[0]}; {model.metrics_names[1]} of {scores[1]*100}%')\n",
    "    print(\"%s: %.2f%%\" %(model.metrics_names[1], scores[1]*100))\n",
    "    acc_per_fold.append(scores[1] * 100)\n",
    "    loss_per_fold.append(scores[0])\n",
    "    \n",
    "    ## increasing fold number\n",
    "    fold_num = fold_num + 1\n",
    "    \n",
    "    \n",
    "    \n",
    "## Summarizing the results\n",
    "print('------------------------------------------------------------------------')\n",
    "print('Score per fold')\n",
    "for i in range(0, len(acc_per_fold)):\n",
    "    print('------------------------------------------------------------------------')\n",
    "    print(f'>> Fold {i+1} - Loss: {loss_per_fold[i]} - Accuracy: {acc_per_fold[i]}%')\n",
    "print('------------------------------------------------------------------------')\n",
    "print('Average scores for all folds:')\n",
    "print(f'>>> Accuracy: {np.mean(acc_per_fold)} (+- {np.std(acc_per_fold)})')\n",
    "print(f'>>> Loss: {np.mean(loss_per_fold)}')\n",
    "print('------------------------------------------------------------------------')"
   ]
  },
  {
   "cell_type": "code",
   "execution_count": null,
   "id": "93b043bd-7786-4387-a2c0-ecc43d075e1c",
   "metadata": {},
   "outputs": [],
   "source": [
    "y_predict = model.predict(x_test)\n",
    "y_predict = np.argmax(y_predict, axis = 1)\n",
    "y_test = np.argmax(y_test, axis = 1)\n",
    "\n",
    "result = confusion_matrix(y_test, y_predict, normalize = 'pred')\n",
    "print(result)"
   ]
  },
  {
   "cell_type": "code",
   "execution_count": null,
   "id": "0114bc55-db95-414b-9f90-323966eccfbe",
   "metadata": {},
   "outputs": [],
   "source": [
    "figure = plt.figure(figsize=(6, 4))\n",
    "sns.heatmap(result, annot=True,cmap=plt.cm.Blues)\n",
    "plt.tight_layout()\n",
    "plt.ylabel('True label')\n",
    "plt.xlabel('Predicted label')\n",
    "plt.show()"
   ]
  },
  {
   "cell_type": "code",
   "execution_count": null,
   "id": "6367b958-4553-4b48-bbf7-1b47e273c1e2",
   "metadata": {},
   "outputs": [],
   "source": [
    "accuracy = metrics.accuracy_score(y_test, y_predict)\n",
    "precision = metrics.precision_score(y_test, y_predict, average = 'macro')\n",
    "recall = metrics.recall_score(y_test, y_predict, average = 'micro')\n",
    "f1 = metrics.f1_score(y_test, y_predict, average = 'weighted')\n",
    "\n",
    "print(\"=============================================\")\n",
    "print(\"The overall accuracy is:\", round(accuracy, 4))\n",
    "print(\"The precision score is:\", round(precision, 4))\n",
    "print(\"The recall score is:\", round(recall, 4))\n",
    "print(\"The f1 score is:\", round(f1, 4))\n",
    "print(\"=============================================\")"
   ]
  },
  {
   "cell_type": "code",
   "execution_count": null,
   "id": "5a365de7-c689-49f3-83d9-ac1f392549f9",
   "metadata": {},
   "outputs": [],
   "source": []
  },
  {
   "cell_type": "code",
   "execution_count": null,
   "id": "cb1e8976-a689-4a0c-b744-0732f1808cc3",
   "metadata": {},
   "outputs": [],
   "source": []
  },
  {
   "cell_type": "markdown",
   "id": "cefa5011-78f0-4c2c-b4de-6df4c4bf26d1",
   "metadata": {},
   "source": [
    "***"
   ]
  },
  {
   "cell_type": "markdown",
   "id": "4e9453da-c2ef-4fb0-9817-68321d13236c",
   "metadata": {},
   "source": [
    "#### 1D-Conv"
   ]
  },
  {
   "cell_type": "code",
   "execution_count": null,
   "id": "8b57204e-c009-4a64-9be0-1b67843e54d1",
   "metadata": {},
   "outputs": [],
   "source": [
    "x_train, x_test, y_train, y_test = train_test_split(ori_x, ori_y, test_size = 0.4, random_state = 710674)"
   ]
  },
  {
   "cell_type": "code",
   "execution_count": null,
   "id": "2178fa96-2571-4ca2-aaa2-7eeb7a1c4fff",
   "metadata": {},
   "outputs": [],
   "source": [
    "x_train.shape"
   ]
  },
  {
   "cell_type": "code",
   "execution_count": null,
   "id": "01f838d5-d265-495c-8498-7d04d1ef1d1f",
   "metadata": {},
   "outputs": [],
   "source": [
    "# Build the 1D CNN model\n",
    "model = Sequential()\n",
    "# 1st Convolutional Layer\n",
    "model.add(Conv1D(filters=128, kernel_size=5, activation='relu', input_shape=(x_train.shape[1], 1)))\n",
    "model.add(MaxPooling1D(pool_size=3))\n",
    "model.add(Conv1D(filters=64, kernel_size=3, activation='relu'))\n",
    "model.add(MaxPooling1D(pool_size=3))\n",
    "\n",
    "# Flatten the output and add Dense layers\n",
    "model.add(Flatten())\n",
    "model.add(Dense(64, activation='relu'))\n",
    "model.add(BatchNormalization())\n",
    "# model.add(Dropout(0.5))\n",
    "model.add(Dense(32, activation='relu'))\n",
    "model.add(Dense(args.num_classes, activation='softmax'))"
   ]
  },
  {
   "cell_type": "code",
   "execution_count": null,
   "id": "1f68945a-853a-4c46-806c-bd3b9d24d790",
   "metadata": {},
   "outputs": [],
   "source": [
    "opt = keras.optimizers.SGD(learning_rate = args.lr, decay = 1e-5, momentum = args.momentum)"
   ]
  },
  {
   "cell_type": "code",
   "execution_count": null,
   "id": "40e81458-ba15-484e-8d8c-4bf10d477d7d",
   "metadata": {},
   "outputs": [],
   "source": [
    "# LearningRateScheduler 설정\n",
    "lr_scheduler = LearningRateScheduler(lambda epoch: cyclic_learning_rate(epoch, base_lr=0.01, max_lr=0.006, step_size=300))\n",
    "# lr_scheduler = LearningRateScheduler(lambda epoch: exp_range_lr(epoch, base_lr=0.01, max_lr=0.006, step_size=300, gamma=0.99994))"
   ]
  },
  {
   "cell_type": "code",
   "execution_count": null,
   "id": "9dee61c1-24ba-4202-83c9-4e53f5dbbf64",
   "metadata": {
    "scrolled": true
   },
   "outputs": [],
   "source": [
    "model.compile(loss='categorical_crossentropy', optimizer=opt, metrics=['accuracy'])\n",
    "# history = model.fit(x_train, y_train, epochs=args.epochs, batch_size=args.bs, verbose=2)   ## using no class weight\n",
    "# history = model.fit(x_train, y_train, epochs=args.epochs, batch_size=args.bs, verbose=2, class_weight = class_weight)  ## using class weight\n",
    "history = model.fit(x_train, y_train, epochs=args.epochs, batch_size=args.bs, callbacks=[lr_scheduler], class_weight = class_weight, verbose=2) ## using LR scheduler callback"
   ]
  },
  {
   "cell_type": "code",
   "execution_count": null,
   "id": "9cf5f3d7-7cd7-45ba-9f96-f55d6daff4f9",
   "metadata": {},
   "outputs": [],
   "source": []
  },
  {
   "cell_type": "markdown",
   "id": "f4dcbb17-3d6c-4c7d-9d78-8324e5a1b8fd",
   "metadata": {},
   "source": [
    "***"
   ]
  },
  {
   "cell_type": "code",
   "execution_count": null,
   "id": "ab5f97b7-7c37-4db6-a510-17874873c8a5",
   "metadata": {},
   "outputs": [],
   "source": [
    "y_predict = model.predict(x_test)\n",
    "y_predict = np.argmax(y_predict, axis = 1)\n",
    "y_test = np.argmax(y_test, axis = 1)\n",
    "\n",
    "result = confusion_matrix(y_test, y_predict, normalize = 'pred')\n",
    "print(result)"
   ]
  },
  {
   "cell_type": "code",
   "execution_count": null,
   "id": "525bd86a-6393-4e0f-9dd1-6d314ff1c3ae",
   "metadata": {},
   "outputs": [],
   "source": [
    "figure = plt.figure(figsize=(6, 4))\n",
    "sns.heatmap(result, annot=True,cmap=plt.cm.Blues)\n",
    "plt.tight_layout()\n",
    "plt.ylabel('True label')\n",
    "plt.xlabel('Predicted label')\n",
    "plt.show()"
   ]
  },
  {
   "cell_type": "code",
   "execution_count": null,
   "id": "4b5c3ee8-e98a-4b20-98c7-3d70d4a34be7",
   "metadata": {},
   "outputs": [],
   "source": [
    "accuracy = metrics.accuracy_score(y_test, y_predict)\n",
    "precision = metrics.precision_score(y_test, y_predict, average = 'macro')\n",
    "recall = metrics.recall_score(y_test, y_predict, average = 'micro')\n",
    "f1 = metrics.f1_score(y_test, y_predict, average = 'weighted')\n",
    "auc = roc_auc_score(y_test, model.predict(x_test, verbose=0), multi_class='ovr')\n",
    "\n",
    "print(\"=============================================\")\n",
    "print(\"The overall accuracy is:\", round(accuracy, 4))\n",
    "print(\"The precision score is:\", round(precision, 4))\n",
    "print(\"The recall score is:\", round(recall, 4))\n",
    "print(\"The f1 score is:\", round(f1, 4))\n",
    "print(\"The AUC score is:\", round(auc, 4))\n",
    "print(\"=============================================\")"
   ]
  },
  {
   "cell_type": "code",
   "execution_count": null,
   "id": "c4e869f3-d433-478a-9b24-b74293d0634b",
   "metadata": {},
   "outputs": [],
   "source": []
  },
  {
   "cell_type": "code",
   "execution_count": null,
   "id": "40d42755-d708-49c3-9a73-802f899ed220",
   "metadata": {},
   "outputs": [],
   "source": []
  },
  {
   "cell_type": "markdown",
   "id": "a3d908ff-13e6-4cca-988a-7c03231a5f36",
   "metadata": {},
   "source": [
    "***"
   ]
  },
  {
   "cell_type": "markdown",
   "id": "93c55d39-853c-4c83-b58c-62a1fce5669a",
   "metadata": {},
   "source": [
    "#### multi-subnetworks"
   ]
  },
  {
   "cell_type": "code",
   "execution_count": null,
   "id": "8a7bd663-8112-4d7e-a58f-08d50c8a1af9",
   "metadata": {},
   "outputs": [],
   "source": [
    "class Args_multi:\n",
    "    # arugments\n",
    "    epochs=200\n",
    "    enc_epochs = 50\n",
    "    bs=32\n",
    "    enc_bs = 16\n",
    "    lr=0.0001\n",
    "    momentum=0.9\n",
    "    num_classes= 3\n",
    "    seed=710674\n",
    "\n",
    "args_multi = Args_multi()"
   ]
  },
  {
   "cell_type": "code",
   "execution_count": null,
   "id": "8e490fdf-e267-47af-912d-da0eadcc513a",
   "metadata": {},
   "outputs": [],
   "source": [
    "ori_x = x.copy()"
   ]
  },
  {
   "cell_type": "code",
   "execution_count": null,
   "id": "9dcc27df-feba-40d1-b11d-a1aa80466903",
   "metadata": {},
   "outputs": [],
   "source": [
    "scaler = MinMaxScaler() #set the scaler (between 0 and 1)\n",
    "# scaler = RobustScaler()\n",
    "\n",
    "ori_x[:] = scaler.fit_transform(ori_x[:])\n",
    "ori_x = ori_x.round(decimals=5)"
   ]
  },
  {
   "cell_type": "code",
   "execution_count": null,
   "id": "bb6bcccf-eb83-4dc2-a53b-c8aea8a83886",
   "metadata": {},
   "outputs": [],
   "source": [
    "########## 3-CLASS CLASSIFICATION ##########\n",
    "label = y.copy()\n",
    "label = label.replace({'con': 0})\n",
    "label = label.replace({'pd': 1})\n",
    "label = label.replace({'mdd': 2})\n",
    "\n",
    "ori_y = to_categorical(label, 3) ## into the format of one-hot encoding"
   ]
  },
  {
   "cell_type": "code",
   "execution_count": null,
   "id": "bcd8003d-66de-488f-ade9-eae84c1a0c8d",
   "metadata": {},
   "outputs": [],
   "source": [
    "# ########## 3-CLASS CLASSIFICATION ##########\n",
    "# label = y.copy()\n",
    "# label = label.replace({'normal': 0})\n",
    "# label = label.replace({'mild': 1})\n",
    "# label = label.replace({'mod_severe': 2})\n",
    "\n",
    "# ori_y = to_categorical(label, 3) ## into the format of one-hot encoding"
   ]
  },
  {
   "cell_type": "code",
   "execution_count": null,
   "id": "e03b5677-4e6a-4348-b2b8-7b7dac0f8c0c",
   "metadata": {},
   "outputs": [],
   "source": [
    "data_b1 = ori_x.iloc[:, (ori_x.columns.str.startswith('b1_'))]\n",
    "data_s = ori_x.iloc[:, (ori_x.columns.str.startswith('s_'))]\n",
    "data_b2 = ori_x.iloc[:, (ori_x.columns.str.startswith('b2_'))]\n",
    "data_r = ori_x.iloc[:, (ori_x.columns.str.startswith('r_'))]\n",
    "data_b3 = ori_x.iloc[:, (ori_x.columns.str.startswith('b3_'))]\n",
    "data_c = ori_x.iloc[:, (ori_x.columns.str.startswith('c_'))]"
   ]
  },
  {
   "cell_type": "code",
   "execution_count": null,
   "id": "feca93ce-1a65-46c1-886e-c7762bd4fe6b",
   "metadata": {},
   "outputs": [],
   "source": [
    "# 입력 정의\n",
    "inputb1 = Input(shape=(data_b1.shape[1],))\n",
    "inputs = Input(shape=(data_s.shape[1],))\n",
    "inputb2 = Input(shape=(data_b2.shape[1],))\n",
    "inputr = Input(shape=(data_r.shape[1],))\n",
    "inputb3 = Input(shape=(data_b3.shape[1],))\n",
    "inputc = Input(shape=(data_c.shape[1],))"
   ]
  },
  {
   "cell_type": "code",
   "execution_count": null,
   "id": "8bb8bb90-b7b7-4b4d-a870-5d6748fae245",
   "metadata": {},
   "outputs": [],
   "source": []
  },
  {
   "cell_type": "markdown",
   "id": "a0219b3b-8f85-4cd0-bca0-ce19fbc527c7",
   "metadata": {},
   "source": [
    "* Creating commonly using sub-network"
   ]
  },
  {
   "cell_type": "code",
   "execution_count": null,
   "id": "50b4d171-95c2-40fc-9dee-39225f6a7227",
   "metadata": {},
   "outputs": [],
   "source": [
    "# 서브 네트워크 정의 함수\n",
    "def create_subnetwork(input_layer):\n",
    "    x = Dense(16, activation='relu')(input_layer)\n",
    "    x = Dense(32, activation='relu')(x)\n",
    "    x = BatchNormalization()(x)\n",
    "    x = Dropout(0.3)(x)\n",
    "    x = Dense(8, activation='relu')(x)\n",
    "    return x"
   ]
  },
  {
   "cell_type": "code",
   "execution_count": null,
   "id": "08402c2b-83a8-4322-9ec0-30325916f327",
   "metadata": {},
   "outputs": [],
   "source": [
    "# 서브 네트워크 생성\n",
    "subnetb1 = create_subnetwork(inputb1)\n",
    "subnets = create_subnetwork(inputs)\n",
    "subnetb2 = create_subnetwork(inputb2)\n",
    "subnetr = create_subnetwork(inputr)\n",
    "subnetb3 = create_subnetwork(inputb3)\n",
    "subnetc = create_subnetwork(inputc)"
   ]
  },
  {
   "cell_type": "code",
   "execution_count": null,
   "id": "ac863d6a-92f7-45fa-91dd-b66be652f9df",
   "metadata": {},
   "outputs": [],
   "source": [
    "combined = Concatenate()([subnetb1, subnets, subnetb2, subnetr, subnetb3, subnetc])"
   ]
  },
  {
   "cell_type": "code",
   "execution_count": null,
   "id": "02696bd7-874a-42d0-9ae4-a1fffe93d92d",
   "metadata": {},
   "outputs": [],
   "source": [
    "combined"
   ]
  },
  {
   "cell_type": "code",
   "execution_count": null,
   "id": "9f284b87-ba28-4adc-8bdd-a80e37f0bb5d",
   "metadata": {},
   "outputs": [],
   "source": [
    "## adding dense(fc) layers after encoder combining\n",
    "concat_x = Dense(64, activation='relu')(combined)\n",
    "concat_x = BatchNormalization()(concat_x)\n",
    "# concat_x = Dropout(0.5)(concat_x)\n",
    "concat_x = Dense(32, activation='relu')(concat_x)\n",
    "concat_x = BatchNormalization()(concat_x)\n",
    "# concat_x = Dropout(0.5)(concat_x)\n",
    "concat_x = Dense(16, activation='relu')(concat_x)\n",
    "concat_x = Dense(8, activation='relu')(concat_x)\n",
    "\n",
    "# 최종 출력 레이어 정의 (4-class 분류)\n",
    "final_output = Dense(args_multi.num_classes, activation='softmax')(concat_x)"
   ]
  },
  {
   "cell_type": "code",
   "execution_count": null,
   "id": "8404b181-9eb5-47e5-9bef-6ed4f97b3f5a",
   "metadata": {},
   "outputs": [],
   "source": [
    "b1_train, b1_test, s_train, s_test, b2_train, b2_test, r_train, r_test, b3_train, b3_test, c_train, c_test, y_train, y_test = train_test_split(\n",
    "    data_b1, data_s, data_b2, data_r, data_b3, data_c, ori_y, test_size=0.2, random_state=710674)"
   ]
  },
  {
   "cell_type": "code",
   "execution_count": null,
   "id": "2b1cb0e7-a1ee-416b-b98b-12a18c186016",
   "metadata": {},
   "outputs": [],
   "source": [
    "# LearningRateScheduler 설정\n",
    "lr_scheduler = LearningRateScheduler(lambda epoch: cyclic_learning_rate(epoch, base_lr=0.01, max_lr=0.006, step_size=200))\n",
    "# lr_scheduler = LearningRateScheduler(lambda epoch: exp_range_lr(epoch, base_lr=0.01, max_lr=0.006, step_size=300, gamma=0.99994))"
   ]
  },
  {
   "cell_type": "code",
   "execution_count": null,
   "id": "1cc7df3f-e49c-4ffe-a616-f730886e5594",
   "metadata": {},
   "outputs": [],
   "source": [
    "opt = keras.optimizers.SGD(learning_rate = args_multi.lr, decay = 1e-6, momentum = args_multi.momentum)"
   ]
  },
  {
   "cell_type": "code",
   "execution_count": null,
   "id": "e647a6a3-15ab-40d6-b7d1-491ac19dce24",
   "metadata": {},
   "outputs": [],
   "source": [
    "# 모델 생성 및 컴파일\n",
    "model = Model(inputs=[inputb1, inputs, inputb2, inputr, inputb3, inputc], outputs=final_output)\n",
    "\n",
    "model.compile(optimizer=opt, loss='categorical_crossentropy', metrics=['accuracy'])"
   ]
  },
  {
   "cell_type": "code",
   "execution_count": null,
   "id": "979af3f5-d7a1-4863-a8ab-98fe555eb4db",
   "metadata": {
    "scrolled": true
   },
   "outputs": [],
   "source": [
    "model.summary()"
   ]
  },
  {
   "cell_type": "code",
   "execution_count": null,
   "id": "83a33638-64f5-4bf7-b749-b4f7a96d3f28",
   "metadata": {
    "scrolled": true
   },
   "outputs": [],
   "source": [
    "model.fit([b1_train, s_train, b2_train, r_train, b3_train, c_train], y_train, \n",
    "          epochs=args_multi.epochs, batch_size=args_multi.bs, callbacks=[lr_scheduler], verbose=2)"
   ]
  },
  {
   "cell_type": "code",
   "execution_count": null,
   "id": "a5147c89-7a47-4572-b27e-127bfdd285e9",
   "metadata": {},
   "outputs": [],
   "source": []
  },
  {
   "cell_type": "code",
   "execution_count": null,
   "id": "35d9ab9e-daa0-48db-9862-3587922c14b0",
   "metadata": {},
   "outputs": [],
   "source": []
  },
  {
   "cell_type": "code",
   "execution_count": null,
   "id": "5fdc40ef-6790-458f-a79e-2fbc1c24b321",
   "metadata": {},
   "outputs": [],
   "source": [
    "y_predict = model.predict([b1_test, s_test, b2_test, r_test, b3_test, c_test])\n",
    "\n",
    "y_predict = np.argmax(y_predict, axis = 1)\n",
    "y_test = np.argmax(y_test, axis = 1)\n",
    "\n",
    "result = confusion_matrix(y_test, y_predict, normalize = 'pred')\n",
    "print(result)"
   ]
  },
  {
   "cell_type": "code",
   "execution_count": null,
   "id": "277bf93e-8d14-44ff-9e67-ae3ab89851a1",
   "metadata": {},
   "outputs": [],
   "source": [
    "figure = plt.figure(figsize=(6, 4))\n",
    "sns.heatmap(result, annot=True,cmap=plt.cm.Blues)\n",
    "plt.tight_layout()\n",
    "plt.ylabel('True label')\n",
    "plt.xlabel('Predicted label')\n",
    "plt.show()"
   ]
  },
  {
   "cell_type": "code",
   "execution_count": null,
   "id": "95f8bac5-62bc-4924-8f93-c5e8adaeab78",
   "metadata": {},
   "outputs": [],
   "source": [
    "accuracy = metrics.accuracy_score(y_test, y_predict)\n",
    "precision = metrics.precision_score(y_test, y_predict, average = 'macro')\n",
    "recall = metrics.recall_score(y_test, y_predict, average = 'micro')\n",
    "f1 = metrics.f1_score(y_test, y_predict, average = 'weighted')\n",
    "# auc = roc_auc_score(y_test,model.predict([x2_test, x4_test, x5_test, x6_test, x7_test], verbose=0), multi_class='ovr')\n",
    "auc = roc_auc_score(y_test,model.predict([b1_test, s_test, b2_test, r_test, b3_test, c_test], verbose=0), multi_class='ovr')\n",
    "\n",
    "print(\"=============================================\")\n",
    "print(\"The overall accuracy is:\", round(accuracy, 4))\n",
    "print(\"The precision score is:\", round(precision, 4))\n",
    "print(\"The recall score is:\", round(recall, 4))\n",
    "print(\"The f1 score is:\", round(f1, 4))\n",
    "print(\"The AUC score is:\", round(auc, 4))\n",
    "print(\"=============================================\")"
   ]
  },
  {
   "cell_type": "code",
   "execution_count": null,
   "id": "2bcc2769-77cf-458b-8171-1e4c9f28a943",
   "metadata": {},
   "outputs": [],
   "source": []
  },
  {
   "cell_type": "code",
   "execution_count": null,
   "id": "f847898a-0c59-48c0-a207-f77ee841a9ec",
   "metadata": {},
   "outputs": [],
   "source": []
  },
  {
   "cell_type": "code",
   "execution_count": null,
   "id": "d39a6e49-d457-45e0-8a12-060026c9ca2f",
   "metadata": {},
   "outputs": [],
   "source": []
  },
  {
   "cell_type": "code",
   "execution_count": null,
   "id": "03121f21-d085-48a2-8c36-87179eaf2aba",
   "metadata": {},
   "outputs": [],
   "source": []
  },
  {
   "cell_type": "code",
   "execution_count": null,
   "id": "c7d14ee5-616e-4a10-b24b-c3660ae8f3d5",
   "metadata": {},
   "outputs": [],
   "source": []
  },
  {
   "cell_type": "code",
   "execution_count": null,
   "id": "0069a820-5324-43b9-b04e-2cd893725fbb",
   "metadata": {},
   "outputs": [],
   "source": []
  },
  {
   "cell_type": "markdown",
   "id": "b132d0d4-f53c-4b36-a37a-8fdd8213fdae",
   "metadata": {},
   "source": [
    "***"
   ]
  },
  {
   "cell_type": "markdown",
   "id": "c860653a-0fb4-4e00-a68f-d9dbd78bdc8c",
   "metadata": {},
   "source": [
    "***"
   ]
  },
  {
   "cell_type": "markdown",
   "id": "bae9db2f-857c-4987-b499-181a10e7775a",
   "metadata": {},
   "source": [
    "## Using VAE/AE as a dimensionality reduction"
   ]
  },
  {
   "cell_type": "code",
   "execution_count": null,
   "id": "4851c3fd-5bbb-4112-b86e-714312bb0e97",
   "metadata": {},
   "outputs": [],
   "source": [
    "x = data_x\n",
    "y = y"
   ]
  },
  {
   "cell_type": "code",
   "execution_count": null,
   "id": "67f5ab25-a6c5-4f49-85df-8f53b1b7787f",
   "metadata": {},
   "outputs": [],
   "source": [
    "class Args:\n",
    "    # arugments\n",
    "    epochs=200\n",
    "    enc_epochs = 50\n",
    "    bs=32\n",
    "    enc_bs = 16\n",
    "    lr=0.001\n",
    "    momentum=0.9\n",
    "    encoding_dim = 16\n",
    "    num_classes= 2\n",
    "    verbose='store_true'\n",
    "    seed=710674\n",
    "\n",
    "args = Args()"
   ]
  },
  {
   "cell_type": "code",
   "execution_count": null,
   "id": "3a5e194c-cc97-4dc6-b308-891b91b85917",
   "metadata": {},
   "outputs": [],
   "source": []
  },
  {
   "cell_type": "markdown",
   "id": "a3fb1ae9-612e-4890-92d3-1c031a05acb2",
   "metadata": {},
   "source": [
    "### Autoencoder for dim reduction"
   ]
  },
  {
   "cell_type": "code",
   "execution_count": null,
   "id": "51fc9659-d907-4e33-a8bd-31967db5c7a9",
   "metadata": {},
   "outputs": [],
   "source": [
    "# input dataset layer\n",
    "input_layer = Input(shape=(x.shape[1],))\n",
    "\n",
    "# encoder layers\n",
    "encoder = Dense(64, activation='relu')(input_layer)\n",
    "encoder = Dense(32, activation='relu')(encoder)\n",
    "encoder_out = Dense(args.encoding_dim, activation='relu')(encoder)\n",
    "\n",
    "# decoder layers\n",
    "decoder = Dense(32, activation='relu')(encoder_out)\n",
    "decoder = Dense(64, activation='relu')(decoder)\n",
    "decoder_out = Dense(x.shape[1], activation='sigmoid')(decoder)"
   ]
  },
  {
   "cell_type": "code",
   "execution_count": null,
   "id": "d60d75fa-94bf-4ab7-ae14-dfc0697e16e9",
   "metadata": {},
   "outputs": [],
   "source": [
    "# AE model\n",
    "autoencoder = Model(inputs=input_layer, outputs=decoder_out)\n",
    "\n",
    "# Encoder model (convert input dataset into latent space)\n",
    "encoder_model = Model(inputs=input_layer, outputs=encoder_out)\n",
    "\n",
    "# Decoder model (recover latent space/vector into original dataset format)\n",
    "encoded_input = Input(shape=(args.encoding_dim,))\n",
    "decoder_layer = autoencoder.layers[-3](encoded_input)\n",
    "decoder_layer = autoencoder.layers[-2](decoder_layer)\n",
    "decoder_out = autoencoder.layers[-1](decoder_layer)\n",
    "decoder_model = Model(inputs=encoded_input, outputs=decoder_layer)"
   ]
  },
  {
   "cell_type": "code",
   "execution_count": null,
   "id": "930e4df0-f1fe-49d7-88ec-5d4743aa6e2e",
   "metadata": {},
   "outputs": [],
   "source": [
    "# Model compile\n",
    "autoencoder.compile(optimizer='adam', loss='mse')\n",
    "\n",
    "# Checking each model\n",
    "autoencoder.summary()\n",
    "# encoder_model.summary()\n",
    "# decoder_model.summary()"
   ]
  },
  {
   "cell_type": "code",
   "execution_count": null,
   "id": "e1b6f004-27f3-4a19-ba75-d8735ae82c4c",
   "metadata": {
    "scrolled": true
   },
   "outputs": [],
   "source": [
    "## Model training\n",
    "autoencoder.fit(x, x, epochs = args.enc_epochs, batch_size = args.enc_bs, shuffle=True, validation_split=0.2, verbose=2)"
   ]
  },
  {
   "cell_type": "code",
   "execution_count": null,
   "id": "e2d73949-5fdf-457e-b1f5-4d174ad54b6e",
   "metadata": {},
   "outputs": [],
   "source": [
    "encoded_data = encoder_model.predict(x)\n",
    "decoded_data = decoder_model.predict(encoded_data)"
   ]
  },
  {
   "cell_type": "code",
   "execution_count": null,
   "id": "76de485d-9b8c-4dbd-b4e3-4cecf71b62b5",
   "metadata": {},
   "outputs": [],
   "source": [
    "encoded_data.shape"
   ]
  },
  {
   "cell_type": "code",
   "execution_count": null,
   "id": "12df8ac2-ebe6-47a1-8759-afbe05c3d62a",
   "metadata": {},
   "outputs": [],
   "source": [
    "decoded_data.shape"
   ]
  },
  {
   "cell_type": "code",
   "execution_count": null,
   "id": "16f95697-d1d9-4861-a1ce-5b0d46132998",
   "metadata": {},
   "outputs": [],
   "source": [
    "y.shape"
   ]
  },
  {
   "cell_type": "code",
   "execution_count": null,
   "id": "0f63bc96-65f7-431d-a581-d9f8e51e9086",
   "metadata": {},
   "outputs": [],
   "source": [
    "decoded_data"
   ]
  },
  {
   "cell_type": "code",
   "execution_count": null,
   "id": "2cb603d7-37a9-4af7-8ae9-9e3cc4613ea4",
   "metadata": {},
   "outputs": [],
   "source": []
  },
  {
   "cell_type": "code",
   "execution_count": null,
   "id": "1b31eb85-686a-4948-a775-160528f4794d",
   "metadata": {},
   "outputs": [],
   "source": [
    "class Args:\n",
    "    # arugments\n",
    "    epochs=200\n",
    "    bs=32\n",
    "    lr=0.001\n",
    "    momentum=0.9\n",
    "    num_classes= 2\n",
    "    verbose='store_true'\n",
    "    seed=710674\n",
    "\n",
    "args = Args()\n",
    "\n",
    "# np.random.seed(args.seed)\n",
    "# random.seed(args.seed)\n",
    "# torch.manual_seed(args.seed)"
   ]
  },
  {
   "cell_type": "code",
   "execution_count": null,
   "id": "7f2bbad8-7456-4f91-a531-c7c38e9a4801",
   "metadata": {},
   "outputs": [],
   "source": [
    "x_trainset, x_test, y_trainset, y_test = train_test_split(decoded_data, y, test_size = 0.1, random_state = 710674)\n",
    "x_train, x_vali, y_train, y_vali = train_test_split(x_trainset, y_trainset, test_size = 0.2, random_state = 710674)"
   ]
  },
  {
   "cell_type": "code",
   "execution_count": null,
   "id": "7eda29a3-3701-47b3-888c-adab1c263fb2",
   "metadata": {},
   "outputs": [],
   "source": [
    "inputs = np.concatenate((x_train, x_vali), axis = 0)\n",
    "targets = np.concatenate((y_train, y_vali), axis = 0)"
   ]
  },
  {
   "cell_type": "code",
   "execution_count": null,
   "id": "033e9ade-fab5-48c0-861e-82dd1621e0b5",
   "metadata": {},
   "outputs": [],
   "source": [
    "fold_num = 1\n",
    "split_num = 5\n",
    "opt = keras.optimizers.SGD(learning_rate = args.lr, decay = 1e-6, momentum = args.momentum)\n",
    "kfold = KFold(n_splits = split_num, shuffle = True)\n",
    "# kfold = StratifiedKFold(n_splits = split_num, shuffle = True)"
   ]
  },
  {
   "cell_type": "code",
   "execution_count": null,
   "id": "ee4d5391-c090-41d2-bf12-62d4c5b9808f",
   "metadata": {},
   "outputs": [],
   "source": [
    "############## FOR FOUR-GROUP CLASSIFICATION ###############\n",
    "class_weight = {0:1, 1: 1.68}"
   ]
  },
  {
   "cell_type": "code",
   "execution_count": null,
   "id": "d5713989-8eab-4d96-afb3-f7ad9197c1e4",
   "metadata": {},
   "outputs": [],
   "source": [
    "acc_per_fold = []\n",
    "loss_per_fold = []"
   ]
  },
  {
   "cell_type": "code",
   "execution_count": null,
   "id": "dafbb424-a9f9-4318-9ab1-3a85bc98e716",
   "metadata": {},
   "outputs": [],
   "source": [
    "for train, test in kfold.split(inputs, targets):\n",
    "    model = Sequential()\n",
    "    model.add(Dense(128, input_dim = x_train.shape[1], activation = 'relu'))\n",
    "    model.add(Dense(64, activation = 'relu'))\n",
    "    model.add(Dropout(0.5)) #drop out\n",
    "    model.add(Dense(32, activation = 'relu'))\n",
    "    model.add(Dense(args.num_classes, activation = 'softmax'))\n",
    "    \n",
    "    ## model compile\n",
    "    model.compile(loss = 'categorical_crossentropy', optimizer = opt, metrics = ['accuracy'])\n",
    "    \n",
    "    print('----------------------------------------')\n",
    "    print(f'Training or fold {fold_num} ... ')\n",
    "    \n",
    "    ## fit data to model\n",
    "    history = model.fit(inputs[train], targets[train], batch_size = args.bs, epochs = args.epochs, verbose = 0, class_weight = class_weight)\n",
    "    \n",
    "    ## generate generalization metrics\n",
    "    scores = model.evaluate(inputs[test], targets[test])\n",
    "    print(f'Score for fold {fold_num}: {model.metrics_names[0]} of {scores[0]}; {model.metrics_names[1]} of {scores[1]*100}%')\n",
    "    print(\"%s: %.2f%%\" %(model.metrics_names[1], scores[1]*100))\n",
    "    acc_per_fold.append(scores[1] * 100)\n",
    "    loss_per_fold.append(scores[0])\n",
    "    \n",
    "    ## increasing fold number\n",
    "    fold_num = fold_num + 1\n",
    "    \n",
    "    \n",
    "    \n",
    "## Summarizing the results\n",
    "print('------------------------------------------------------------------------')\n",
    "print('Score per fold')\n",
    "for i in range(0, len(acc_per_fold)):\n",
    "    print('------------------------------------------------------------------------')\n",
    "    print(f'>> Fold {i+1} - Loss: {loss_per_fold[i]} - Accuracy: {acc_per_fold[i]}%')\n",
    "print('------------------------------------------------------------------------')\n",
    "print('Average scores for all folds:')\n",
    "print(f'>>> Accuracy: {np.mean(acc_per_fold)} (+- {np.std(acc_per_fold)})')\n",
    "print(f'>>> Loss: {np.mean(loss_per_fold)}')\n",
    "print('------------------------------------------------------------------------')"
   ]
  },
  {
   "cell_type": "code",
   "execution_count": null,
   "id": "dab7d67c-2c9d-4320-84b8-9f451d9b4063",
   "metadata": {},
   "outputs": [],
   "source": [
    "y_predict = model.predict(x_test)\n",
    "y_predict = np.argmax(y_predict, axis = 1)\n",
    "y_test = np.argmax(y_test, axis = 1)\n",
    "\n",
    "result = confusion_matrix(y_test, y_predict, normalize = 'pred')\n",
    "print(result)"
   ]
  },
  {
   "cell_type": "code",
   "execution_count": null,
   "id": "66ca930a-2f73-4fc8-a7c8-d908c8b8b3e7",
   "metadata": {},
   "outputs": [],
   "source": [
    "figure = plt.figure(figsize=(6, 4))\n",
    "sns.heatmap(result, annot=True,cmap=plt.cm.Blues)\n",
    "plt.tight_layout()\n",
    "plt.ylabel('True label')\n",
    "plt.xlabel('Predicted label')\n",
    "plt.show()"
   ]
  },
  {
   "cell_type": "code",
   "execution_count": null,
   "id": "9962116a-e761-4059-adbf-e613c02a6053",
   "metadata": {},
   "outputs": [],
   "source": [
    "accuracy = metrics.accuracy_score(y_test, y_predict)\n",
    "precision = metrics.precision_score(y_test, y_predict, average = 'macro')\n",
    "recall = metrics.recall_score(y_test, y_predict, average = 'micro')\n",
    "f1 = metrics.f1_score(y_test, y_predict, average = 'weighted')\n",
    "auc = roc_auc_score(y_test, model.predict(x_test, verbose=0), multi_class='ovr')\n",
    "\n",
    "print(\"=============================================\")\n",
    "print(\"The overall accuracy is:\", round(accuracy, 4))\n",
    "print(\"The precision score is:\", round(precision, 4))\n",
    "print(\"The recall score is:\", round(recall, 4))\n",
    "print(\"The f1 score is:\", round(f1, 4))\n",
    "print(\"The AUC score is:\", round(auc, 4))\n",
    "print(\"=============================================\")"
   ]
  },
  {
   "cell_type": "code",
   "execution_count": null,
   "id": "f57e63ff-ce5a-4d03-94ad-e6c7fb4ded06",
   "metadata": {},
   "outputs": [],
   "source": []
  },
  {
   "cell_type": "code",
   "execution_count": null,
   "id": "29aeef4b-07fc-409b-a6e0-d37ee522f463",
   "metadata": {},
   "outputs": [],
   "source": []
  },
  {
   "cell_type": "code",
   "execution_count": null,
   "id": "47edc141-29ab-4439-9a08-f1fb51cf4a8d",
   "metadata": {},
   "outputs": [],
   "source": []
  },
  {
   "cell_type": "markdown",
   "id": "602e460b-655c-42a7-a42d-11f6e9d0425b",
   "metadata": {},
   "source": [
    "## EV input & MV output"
   ]
  },
  {
   "cell_type": "markdown",
   "id": "ac7db1f0-6786-4f26-a693-02fa2067e79c",
   "metadata": {},
   "source": [
    "> What if we use external variables(ex. demographics) as input variables and set the DNN model to find Medical Variables as an output variables?"
   ]
  },
  {
   "cell_type": "markdown",
   "id": "2881bf1a-9503-4099-84cc-07f498c298b9",
   "metadata": {},
   "source": [
    "### data setup"
   ]
  },
  {
   "cell_type": "code",
   "execution_count": null,
   "id": "fbf12b17-199f-4269-bf53-9a513cfa7f45",
   "metadata": {},
   "outputs": [],
   "source": [
    "data_evinput = data_ori.copy()"
   ]
  },
  {
   "cell_type": "code",
   "execution_count": null,
   "id": "77471e0f-d6c4-4da3-931f-38c50212af5d",
   "metadata": {},
   "outputs": [],
   "source": [
    "data_evinput['disorder'] = data_evinput['disorder'].replace({\"mdd\": 0})\n",
    "data_evinput['disorder'] = data_evinput['disorder'].replace({\"pd\": 1})\n",
    "data_evinput['disorder'] = data_evinput['disorder'].replace({\"con\": 2})"
   ]
  },
  {
   "cell_type": "code",
   "execution_count": null,
   "id": "df0605cd-07ce-481a-9e46-3a3e05c04210",
   "metadata": {},
   "outputs": [],
   "source": [
    "# data_evinput.head()\n",
    "# data_evinput.columns"
   ]
  },
  {
   "cell_type": "code",
   "execution_count": null,
   "id": "eca3bbce-f059-4138-9696-f474598a3ddb",
   "metadata": {},
   "outputs": [],
   "source": [
    "scale_list = ['HAMD', 'HAMA', 'PDSS', 'ASI', 'APPQ', 'PSWQ', 'SPI', 'PSS', 'BIS', 'SSI']\n",
    "etc_list = ['sub', 'VISIT', 'disorder_mdd']\n",
    "demo_list = ['age', 'gender', 'disorder']"
   ]
  },
  {
   "cell_type": "code",
   "execution_count": null,
   "id": "66c88bcb-8b08-471e-bbba-0c657b2d3b7a",
   "metadata": {},
   "outputs": [],
   "source": [
    "ev_input = data_evinput.loc[:, ('disorder', 'age', 'gender')]\n",
    "ev_output = data_evinput.drop((scale_list + etc_list + demo_list), axis=1)"
   ]
  },
  {
   "cell_type": "code",
   "execution_count": null,
   "id": "4e1f8eba-34d6-4295-84d6-1aebffd7db4a",
   "metadata": {},
   "outputs": [],
   "source": [
    "scaler = MinMaxScaler() #set the scaler (between 0 and 1)\n",
    "\n",
    "ev_input[:] = (scaler.fit_transform(ev_input[:])).round(decimals=6)\n",
    "ev_output[:] = (scaler.fit_transform(ev_output[:])).round(decimals=6)"
   ]
  },
  {
   "cell_type": "code",
   "execution_count": null,
   "id": "03e1b374-cb9d-45c0-8c38-7ca63d19cb96",
   "metadata": {},
   "outputs": [],
   "source": []
  },
  {
   "cell_type": "markdown",
   "id": "1262e1a5-4d6c-4164-a776-8424effcfbad",
   "metadata": {},
   "source": [
    "### Model"
   ]
  },
  {
   "cell_type": "code",
   "execution_count": null,
   "id": "20630384-6f8a-4c46-a35b-fc4be1a592d9",
   "metadata": {},
   "outputs": [],
   "source": [
    "input_dim = ev_input.shape[1]\n",
    "output_dim = ev_output.shape[1]"
   ]
  },
  {
   "cell_type": "code",
   "execution_count": null,
   "id": "a0462676-74d5-4870-ac0b-45fe11aca1a4",
   "metadata": {},
   "outputs": [],
   "source": [
    "# 모델 구조 정의\n",
    "ev_model = Sequential([\n",
    "    Dense(16, input_dim=input_dim, activation='relu'),\n",
    "    Dropout(0.5),\n",
    "    Dense(32, activation='relu'), \n",
    "    Dropout(0.5),\n",
    "    Dense(64, activation='relu'),\n",
    "    Dense(output_dim)\n",
    "])"
   ]
  },
  {
   "cell_type": "code",
   "execution_count": null,
   "id": "7eb3b00b-9c03-434e-bfd7-b91755d06939",
   "metadata": {},
   "outputs": [],
   "source": [
    "# 모델 컴파일\n",
    "ev_model.compile(optimizer='adam', loss='mean_squared_error')\n",
    "\n",
    "# 모델 요약 출력\n",
    "ev_model.summary()"
   ]
  },
  {
   "cell_type": "code",
   "execution_count": null,
   "id": "df3e2ee0-dce6-4392-9924-7ebd16348525",
   "metadata": {
    "scrolled": true
   },
   "outputs": [],
   "source": [
    "# 학습 예시 (X_train은 인구학적 변수, Y_train은 생체신호 변수)\n",
    "ev_model.fit(ev_input, ev_output, epochs=100, batch_size=32, validation_split=0.2)"
   ]
  },
  {
   "cell_type": "code",
   "execution_count": null,
   "id": "af0bd49b-ce63-457c-928e-75d78badf076",
   "metadata": {},
   "outputs": [],
   "source": []
  },
  {
   "cell_type": "code",
   "execution_count": null,
   "id": "91a7a717-bdc0-47c4-b1b7-f5569a16e51f",
   "metadata": {},
   "outputs": [],
   "source": []
  },
  {
   "cell_type": "code",
   "execution_count": null,
   "id": "c11ce61e-4c86-4203-88a5-04672530b9f3",
   "metadata": {},
   "outputs": [],
   "source": []
  },
  {
   "cell_type": "code",
   "execution_count": null,
   "id": "b6f266c7-19eb-4319-a632-c6f9384f3c14",
   "metadata": {},
   "outputs": [],
   "source": []
  },
  {
   "cell_type": "code",
   "execution_count": null,
   "id": "5e28f88b-b33a-4352-96dd-c87e18fc3ff7",
   "metadata": {},
   "outputs": [],
   "source": []
  },
  {
   "cell_type": "code",
   "execution_count": null,
   "id": "b37862d9-9178-4df1-a5ce-e07bf59e9394",
   "metadata": {},
   "outputs": [],
   "source": []
  },
  {
   "cell_type": "code",
   "execution_count": null,
   "id": "412dad44-e012-4172-8ba4-46d768057065",
   "metadata": {},
   "outputs": [],
   "source": []
  },
  {
   "cell_type": "code",
   "execution_count": null,
   "id": "30f59d64-f92b-4271-b93a-88a2c3c5b75c",
   "metadata": {},
   "outputs": [],
   "source": []
  },
  {
   "cell_type": "code",
   "execution_count": null,
   "id": "8361b994-2fa3-4015-bb82-93c302d3fb96",
   "metadata": {},
   "outputs": [],
   "source": []
  },
  {
   "cell_type": "code",
   "execution_count": null,
   "id": "f8e416bc-f6e3-4501-bc04-12836c08826a",
   "metadata": {},
   "outputs": [],
   "source": []
  },
  {
   "cell_type": "code",
   "execution_count": null,
   "id": "d39d9e81-27d4-4805-a767-d87d82a20dd2",
   "metadata": {},
   "outputs": [],
   "source": []
  }
 ],
 "metadata": {
  "kernelspec": {
   "display_name": "Python 3 (ipykernel)",
   "language": "python",
   "name": "python3"
  },
  "language_info": {
   "codemirror_mode": {
    "name": "ipython",
    "version": 3
   },
   "file_extension": ".py",
   "mimetype": "text/x-python",
   "name": "python",
   "nbconvert_exporter": "python",
   "pygments_lexer": "ipython3",
   "version": "3.9.17"
  }
 },
 "nbformat": 4,
 "nbformat_minor": 5
}
