{
 "cells": [
  {
   "cell_type": "markdown",
   "id": "e91e4e00-6c0b-4482-b0b2-519ee84a9696",
   "metadata": {},
   "source": [
    "# Graph Neural Network"
   ]
  },
  {
   "cell_type": "markdown",
   "id": "084e10dc-ec5b-4105-8457-a88b904672e9",
   "metadata": {},
   "source": [
    "* If we use graph neural networks, it can help to find relations between medical information. (ex. demographic, medical history, ...)"
   ]
  },
  {
   "cell_type": "code",
   "execution_count": null,
   "id": "cb3d11ab-3098-4d67-9434-131a7844ab1f",
   "metadata": {},
   "outputs": [],
   "source": [
    "import numpy as np\n",
    "import pandas as pd\n",
    "import tensorflow as tf"
   ]
  },
  {
   "cell_type": "code",
   "execution_count": null,
   "id": "f06486a8-3f1f-461a-a7d7-85dc49028287",
   "metadata": {},
   "outputs": [],
   "source": [
    "from tensorflow.keras.models import Model\n",
    "from tensorflow.keras.layers import Input, Dense, Layer\n",
    "from sklearn.preprocessing import StandardScaler"
   ]
  },
  {
   "cell_type": "code",
   "execution_count": null,
   "id": "e9f7a797-82ec-4212-985e-503322919d3d",
   "metadata": {},
   "outputs": [],
   "source": []
  },
  {
   "cell_type": "code",
   "execution_count": null,
   "id": "df4fd9b1-f22a-4bc7-ab66-02c82a1da0d9",
   "metadata": {},
   "outputs": [],
   "source": [
    "data_ori = pd.read_csv('C:/Users/user/Downloads/GNN_test.csv')\n",
    "print(\"The shape of the original dataset is:\", data_ori.shape)"
   ]
  },
  {
   "cell_type": "code",
   "execution_count": null,
   "id": "8271b744-86fc-48d6-be27-d64448a70cb2",
   "metadata": {},
   "outputs": [],
   "source": [
    "data_ori.columns"
   ]
  },
  {
   "cell_type": "code",
   "execution_count": null,
   "id": "4427f098-514e-4585-9d6e-6d5d62e9e903",
   "metadata": {},
   "outputs": [],
   "source": [
    "# 빈 문자열이나 공백을 NaN으로 변환\n",
    "data_ori.replace(r'^\\s*$', pd.NA, regex=True, inplace=True)"
   ]
  },
  {
   "cell_type": "code",
   "execution_count": null,
   "id": "408adc66-6deb-4deb-9edc-c1818ae2d414",
   "metadata": {},
   "outputs": [],
   "source": [
    "print(data_ori.isnull().sum())"
   ]
  },
  {
   "cell_type": "code",
   "execution_count": null,
   "id": "5adfb397-213b-4d1d-b6d3-522aa200f43e",
   "metadata": {},
   "outputs": [],
   "source": [
    "data_ori = data_ori.dropna()"
   ]
  },
  {
   "cell_type": "code",
   "execution_count": null,
   "id": "6de6ce65-be8a-4c13-ad05-8b723857c929",
   "metadata": {},
   "outputs": [],
   "source": [
    "data_ori.shape"
   ]
  },
  {
   "cell_type": "code",
   "execution_count": null,
   "id": "812b8e68-4865-4110-b329-f0f98a633579",
   "metadata": {},
   "outputs": [],
   "source": [
    "# data_gnn = data_ori.drop(['E_No', 'HAMD_total_V1'], axis=1)\n",
    "data_gnn = data_ori.drop(['E_No', 'Group'], axis=1)"
   ]
  },
  {
   "cell_type": "code",
   "execution_count": null,
   "id": "e46e6284-8693-4924-ba99-70783de18cd7",
   "metadata": {},
   "outputs": [],
   "source": [
    "data_gnn.head()"
   ]
  },
  {
   "cell_type": "code",
   "execution_count": null,
   "id": "5d1f94cd-8e88-4418-b096-c42e6f65d1e4",
   "metadata": {
    "scrolled": true
   },
   "outputs": [],
   "source": [
    "scaler = StandardScaler()\n",
    "data_gnn_scaled = scaler.fit_transform(data_gnn)\n",
    "X = data_gnn_scaled[:]"
   ]
  },
  {
   "cell_type": "code",
   "execution_count": null,
   "id": "4ac8b880-6f3a-4f56-8b3b-ff39206e343a",
   "metadata": {},
   "outputs": [],
   "source": [
    "X = data_gnn_scaled[:, :-1]  # 특징 행렬 (152, 10)\n",
    "# y = data_gnn_scaled[:, -1]   # 레이블 (152,)"
   ]
  },
  {
   "cell_type": "code",
   "execution_count": null,
   "id": "f39e9c1b-af19-4987-9752-2501bb0745d7",
   "metadata": {},
   "outputs": [],
   "source": [
    "data_y = data_ori.loc[:,[\"Group\"]]"
   ]
  },
  {
   "cell_type": "code",
   "execution_count": null,
   "id": "5f122533-d0ac-4778-999e-6513d8bc5914",
   "metadata": {},
   "outputs": [],
   "source": [
    "y = data_y"
   ]
  },
  {
   "cell_type": "code",
   "execution_count": null,
   "id": "ad90ea04-414a-478d-af27-bb6ca909c407",
   "metadata": {},
   "outputs": [],
   "source": [
    "X.shape"
   ]
  },
  {
   "cell_type": "code",
   "execution_count": null,
   "id": "e114cf81-0fcf-487e-bcae-ed348822a06d",
   "metadata": {},
   "outputs": [],
   "source": []
  },
  {
   "cell_type": "code",
   "execution_count": null,
   "id": "0f56c196-5570-44e5-9f66-27c9dc07bfc7",
   "metadata": {},
   "outputs": [],
   "source": [
    "## 인접행렬(adjacency matrix) 정의\n",
    "num_nodes = X.shape[0]\n",
    "A = np.ones((num_nodes, num_nodes))  # 모든 노드가 연결된 완전 그래프"
   ]
  },
  {
   "cell_type": "code",
   "execution_count": null,
   "id": "5248ac20-4da8-40ed-b16c-308d3abb20dd",
   "metadata": {},
   "outputs": [],
   "source": []
  },
  {
   "cell_type": "code",
   "execution_count": null,
   "id": "2934e301-a2a8-45b2-b426-5d5e95b4f16b",
   "metadata": {},
   "outputs": [],
   "source": [
    "# 그래프 합성곱 레이어 정의\n",
    "class GraphConv(Layer):\n",
    "    def __init__(self, units, activation=None, **kwargs): ## 합성곱 레이어의 유닛 수와 활성화 함수 초기화\n",
    "        super(GraphConv, self).__init__(**kwargs) \n",
    "        self.units = units\n",
    "        self.activation = tf.keras.activations.get(activation)\n",
    "        self.dense = Dense(units)\n",
    "        \n",
    "    def call(self, inputs): ## 입력받은 특징 행렬과 인접 행렬을 사용하여 그래프 합성곱 연산 수행\n",
    "        features, adjacency = inputs\n",
    "        output = tf.matmul(adjacency, features)\n",
    "        output = self.dense(output)\n",
    "        if self.activation is not None:\n",
    "            output = self.activation(output)\n",
    "        return output"
   ]
  },
  {
   "cell_type": "code",
   "execution_count": null,
   "id": "84732f78-6aba-48ca-9511-e459eca16e31",
   "metadata": {},
   "outputs": [],
   "source": [
    "# 모델 정의\n",
    "input_features = Input(shape=(num_nodes, X.shape[1]), name='X_in') ## 입력 레이어 중 특징 행렬\n",
    "input_adjacency = Input(shape=(num_nodes, num_nodes), name='A_in') ## 입력 레이어 중 인접 행렬"
   ]
  },
  {
   "cell_type": "code",
   "execution_count": null,
   "id": "aaf01814-0d24-4d03-a1aa-4f995666168c",
   "metadata": {},
   "outputs": [],
   "source": [
    "input_adjacency"
   ]
  },
  {
   "cell_type": "code",
   "execution_count": null,
   "id": "4af46caa-c4b5-4fa1-8155-8f9335bc04da",
   "metadata": {},
   "outputs": [],
   "source": [
    "# # 예제 1D 데이터\n",
    "# num_nodes = X.shape[0]  ## 그래프의 노드 수 \n",
    "# num_features = 5  ## 그래프의 특징 수. 노드의 특징 수를 크게 하여 더 많은 정보를 제공할 수도 있음.\n",
    "# X = np.random.rand(num_nodes, num_features)  # 노드 특징 행렬\n",
    "# A = np.ones((num_nodes, num_nodes))          # 인접 행렬 (모든 노드가 연결된 완전 그래프)\n",
    "# ## 여기서는 모든 노드가 연결된 완전 그래프를 가정."
   ]
  },
  {
   "cell_type": "code",
   "execution_count": null,
   "id": "2b20128b-9523-4945-9730-da9cbf538179",
   "metadata": {},
   "outputs": [],
   "source": [
    "# # GraphConv 레이어 사용\n",
    "# gc1 = GraphConv(32, activation='relu')([input_features, input_adjacency])\n",
    "# gc2 = GraphConv(32, activation='relu')([gc1, input_adjacency])\n",
    "# output = Dense(1)(gc2) ## dense 레이어를 추가해서 출력을 생성해냄."
   ]
  },
  {
   "cell_type": "code",
   "execution_count": null,
   "id": "8f65100b-f7cf-49ce-b1c5-800940780b48",
   "metadata": {},
   "outputs": [],
   "source": [
    "## 만약 더욱 복잡한 구조의 그래프 신경망 구현을 원한다면\n",
    "gc1 = GraphConv(32, activation='relu')([input_features, input_adjacency])\n",
    "gc2 = GraphConv(32, activation='relu')([gc1, input_adjacency])\n",
    "gc3 = GraphConv(32, activation='relu')([gc2, input_adjacency])\n",
    "gc4 = GraphConv(32, activation='relu')([gc3, input_adjacency])\n",
    "output = Dense(1)(gc4)"
   ]
  },
  {
   "cell_type": "code",
   "execution_count": null,
   "id": "916a1d3e-6f46-4249-8652-1f7da6b8d18f",
   "metadata": {},
   "outputs": [],
   "source": [
    "# ## 다양한 활상화 함수(activation function)을 사용하거나 batch normalization, dropout 등을 추가하고자 하는 경우.\n",
    "# gc1 = GraphConv(32, activation='relu')([input_features, input_adjacency])\n",
    "# gc2 = GraphConv(32, activation='relu')([gc1, input_adjacency])\n",
    "# gc2 = BatchNormalization()(gc2)\n",
    "# gc2 = Dropout(0.5)(gc2)\n",
    "# output = Dense(1, activation='sigmoid')(gc2)"
   ]
  },
  {
   "cell_type": "code",
   "execution_count": null,
   "id": "ecf2f4c7-5e85-4b19-8db1-199f42a89f8c",
   "metadata": {},
   "outputs": [],
   "source": []
  },
  {
   "cell_type": "code",
   "execution_count": null,
   "id": "9ef7a297-88b6-4d62-9a97-fda482b26fc9",
   "metadata": {},
   "outputs": [],
   "source": []
  },
  {
   "cell_type": "code",
   "execution_count": null,
   "id": "ae6f1eaf-077e-4c17-8920-de1fc38dcdd6",
   "metadata": {},
   "outputs": [],
   "source": []
  },
  {
   "cell_type": "code",
   "execution_count": null,
   "id": "ae0b92ee-6169-4f4e-abc5-e2bbe4e8889c",
   "metadata": {},
   "outputs": [],
   "source": [
    "# 모델 생성\n",
    "model = Model(inputs=[input_features, input_adjacency], outputs=output)\n",
    "model.compile(optimizer='adam', loss='mean_squared_error')"
   ]
  },
  {
   "cell_type": "code",
   "execution_count": null,
   "id": "8c7097b7-e193-4565-8257-0563f77c5a5e",
   "metadata": {},
   "outputs": [],
   "source": [
    "model.summary()"
   ]
  },
  {
   "cell_type": "code",
   "execution_count": null,
   "id": "cd702761-0026-4dc8-a2dc-9ba191b018d5",
   "metadata": {},
   "outputs": [],
   "source": [
    "# 데이터 형식 변환\n",
    "X_train = np.expand_dims(X, axis=0)  # (1, xshape[0], xshape[1])\n",
    "A_train = np.expand_dims(A, axis=0)  # (1, xshape[0], xshape[0])\n",
    "y_train = np.expand_dims(y, axis=0)  # (1, xshape)"
   ]
  },
  {
   "cell_type": "code",
   "execution_count": null,
   "id": "423cc05b-fa87-4cc3-85af-fa214c6c171e",
   "metadata": {},
   "outputs": [],
   "source": [
    "X_train.shape"
   ]
  },
  {
   "cell_type": "code",
   "execution_count": null,
   "id": "24fc28f1-70ca-44e2-9054-d1f046d4a90a",
   "metadata": {
    "scrolled": true
   },
   "outputs": [],
   "source": [
    "model.fit([X_train, A_train], y_train, epochs=150, verbose=2) ## 입력데이터를 배치 차원을 추가하여 모델에 맞게 변환 및 훈련"
   ]
  },
  {
   "cell_type": "code",
   "execution_count": null,
   "id": "4bc87035-f18f-4518-a63f-f3f0b1d0cf5b",
   "metadata": {
    "scrolled": true
   },
   "outputs": [],
   "source": [
    "# 모델 예측 수행\n",
    "predictions = model.predict([X_train, A_train])\n",
    "print(predictions)"
   ]
  },
  {
   "cell_type": "markdown",
   "id": "e92bd039-bc0a-4abf-b0cb-06319d1fe344",
   "metadata": {},
   "source": [
    "이 예제에서는 다음과 같은 단계를 수행합니다:\n",
    "\n",
    "> 1D 입력 데이터를 준비합니다. \\\n",
    "> 그래프 합성곱 레이어를 직접 정의합니다. \\\n",
    "> Keras를 사용하여 모델을 정의하고 컴파일합니다. \\\n",
    "> 모델을 훈련하고 예측을 수행합니다. "
   ]
  },
  {
   "cell_type": "code",
   "execution_count": null,
   "id": "781da83b-33b0-4bf2-bf9a-e33ccfce53c1",
   "metadata": {
    "scrolled": true
   },
   "outputs": [],
   "source": [
    "y_train"
   ]
  },
  {
   "cell_type": "code",
   "execution_count": null,
   "id": "dc3a0189-09db-4141-ab1b-9d56abd9f79e",
   "metadata": {},
   "outputs": [],
   "source": []
  },
  {
   "cell_type": "code",
   "execution_count": null,
   "id": "dad8f9ee-ccb8-4674-bdcd-3ec16de415c8",
   "metadata": {},
   "outputs": [],
   "source": []
  },
  {
   "cell_type": "code",
   "execution_count": null,
   "id": "a073f1b9-f3c9-4edf-b98c-e37456d47eb2",
   "metadata": {},
   "outputs": [],
   "source": []
  },
  {
   "cell_type": "code",
   "execution_count": null,
   "id": "f5f47730-01ba-4121-bcca-d0eda20325ac",
   "metadata": {},
   "outputs": [],
   "source": []
  },
  {
   "cell_type": "code",
   "execution_count": null,
   "id": "51122cd8-0fcd-4213-a525-110298b97468",
   "metadata": {},
   "outputs": [],
   "source": []
  },
  {
   "cell_type": "code",
   "execution_count": null,
   "id": "3077178a-5e12-4eaf-9ffa-96c33f13b8a2",
   "metadata": {},
   "outputs": [],
   "source": []
  }
 ],
 "metadata": {
  "kernelspec": {
   "display_name": "Python 3 (ipykernel)",
   "language": "python",
   "name": "python3"
  },
  "language_info": {
   "codemirror_mode": {
    "name": "ipython",
    "version": 3
   },
   "file_extension": ".py",
   "mimetype": "text/x-python",
   "name": "python",
   "nbconvert_exporter": "python",
   "pygments_lexer": "ipython3",
   "version": "3.9.17"
  }
 },
 "nbformat": 4,
 "nbformat_minor": 5
}
