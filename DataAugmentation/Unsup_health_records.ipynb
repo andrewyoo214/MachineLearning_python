{
 "cells": [
  {
   "cell_type": "markdown",
   "id": "b590b0e4-f864-4a82-86a5-1c0259636ee1",
   "metadata": {},
   "source": [
    "# Unsup for health records"
   ]
  },
  {
   "cell_type": "markdown",
   "id": "adc8fa4b-2a80-4fe6-b043-9f59b1b8eed1",
   "metadata": {},
   "source": [
    "* Idealization the methods for health records handling"
   ]
  },
  {
   "cell_type": "code",
   "execution_count": null,
   "id": "a2b4f139-a3aa-4de9-8ef6-0ac288f44172",
   "metadata": {},
   "outputs": [],
   "source": [
    "import os\n",
    "import numpy as np\n",
    "import pandas as pd\n",
    "import tensorflow as tf"
   ]
  },
  {
   "cell_type": "code",
   "execution_count": null,
   "id": "0b81ab27-8026-4d1a-98dd-384e9cabcfdf",
   "metadata": {},
   "outputs": [],
   "source": [
    "from tensorflow.keras.models import Model\n",
    "from tensorflow.keras.layers import Input, Dense, Layer\n",
    "from tensorflow.keras.utils import to_categorical\n",
    "\n",
    "from sklearn.preprocessing import StandardScaler, MinMaxScaler, RobustScaler, LabelEncoder\n",
    "from sklearn.mixture import GaussianMixture\n",
    "from sklearn.metrics import adjusted_rand_score, silhouette_score"
   ]
  },
  {
   "cell_type": "code",
   "execution_count": null,
   "id": "01ea6f17-ed88-4083-ab5f-98fe6c038cf8",
   "metadata": {},
   "outputs": [],
   "source": []
  },
  {
   "cell_type": "markdown",
   "id": "35a03dd2-a1a2-404a-918c-e996e4214e44",
   "metadata": {},
   "source": [
    "## Dataset check"
   ]
  },
  {
   "cell_type": "code",
   "execution_count": null,
   "id": "7852ed8f-37a6-4fba-b1ac-df898b3b650b",
   "metadata": {},
   "outputs": [],
   "source": [
    "data_ori = pd.read_csv('C:/Users/user/Downloads/GNN_test.csv')\n",
    "print(\"The shape of the original dataset is:\", data_ori.shape)"
   ]
  },
  {
   "cell_type": "code",
   "execution_count": null,
   "id": "3a72b8e7-24f6-4ac3-8ea2-013dda56f1bf",
   "metadata": {},
   "outputs": [],
   "source": [
    "data_ori.columns"
   ]
  },
  {
   "cell_type": "code",
   "execution_count": null,
   "id": "94b00720-ab61-4d81-9ec6-14329cefab2a",
   "metadata": {},
   "outputs": [],
   "source": [
    "# 빈 문자열이나 공백을 NaN으로 변환\n",
    "data_ori.replace(r'^\\s*$', pd.NA, regex=True, inplace=True)"
   ]
  },
  {
   "cell_type": "code",
   "execution_count": null,
   "id": "db97f75c-433e-47b7-b1eb-f0d3feb5f607",
   "metadata": {},
   "outputs": [],
   "source": [
    "print(data_ori.isnull().sum())"
   ]
  },
  {
   "cell_type": "code",
   "execution_count": null,
   "id": "7d199833-a594-4c83-9396-f8cbbda9a978",
   "metadata": {},
   "outputs": [],
   "source": [
    "data_ori = data_ori.dropna()"
   ]
  },
  {
   "cell_type": "code",
   "execution_count": null,
   "id": "d06b5528-1b33-457c-be64-9c4131cd995c",
   "metadata": {},
   "outputs": [],
   "source": [
    "data_ori.shape"
   ]
  },
  {
   "cell_type": "code",
   "execution_count": null,
   "id": "639e5c9c-2b03-42a3-a424-2d2905bce352",
   "metadata": {},
   "outputs": [],
   "source": [
    "data_ori.head()"
   ]
  },
  {
   "cell_type": "code",
   "execution_count": null,
   "id": "0f477d93-92db-415f-8774-49cada3cd7ce",
   "metadata": {},
   "outputs": [],
   "source": [
    "data_ori['Group'].value_counts()"
   ]
  },
  {
   "cell_type": "code",
   "execution_count": null,
   "id": "6a7267c1-03e9-4bb9-830a-4b3c5e92b991",
   "metadata": {},
   "outputs": [],
   "source": [
    "data_unsup = data_ori.copy()\n",
    "data_unsup = data_unsup.drop(['E_No', 'HAMD_total_V1'], axis=1)\n",
    "data_unsup['Group'] = (data_unsup['Group'] -1)\n",
    "# data_unsup = data_unsup.drop(['E_No', 'Group'], axis=1)"
   ]
  },
  {
   "cell_type": "code",
   "execution_count": null,
   "id": "f101539e-1d14-4627-b5b8-7a10d5a91706",
   "metadata": {},
   "outputs": [],
   "source": [
    "data_unsup.head()"
   ]
  },
  {
   "cell_type": "code",
   "execution_count": null,
   "id": "89aedc34-1c33-4967-81c7-f2407cdedae1",
   "metadata": {},
   "outputs": [],
   "source": [
    "data_y = data_unsup.loc[:, ['Group']]\n",
    "data_x = data_unsup.drop(['Group'], axis=1)"
   ]
  },
  {
   "cell_type": "code",
   "execution_count": null,
   "id": "5ac4fa65-3f30-4c01-9f16-c7249e733cea",
   "metadata": {},
   "outputs": [],
   "source": []
  },
  {
   "cell_type": "code",
   "execution_count": null,
   "id": "74a0c232-75d7-4a12-8237-18b8d5066f04",
   "metadata": {},
   "outputs": [],
   "source": [
    "# x = data_x.copy()\n",
    "\n",
    "# scaler = MinMaxScaler() #set the scaler (between 0 and 1)\n",
    "# # scaler = RobustScaler()\n",
    "# x[:] = scaler.fit_transform(x[:])\n",
    "# x = x.round(decimals=6)"
   ]
  },
  {
   "cell_type": "code",
   "execution_count": null,
   "id": "e308d5e1-c811-49bd-9ad8-4375254df532",
   "metadata": {},
   "outputs": [],
   "source": [
    "# y = data_y.copy()\n",
    "# # y = to_categorical(y, 3)"
   ]
  },
  {
   "cell_type": "code",
   "execution_count": null,
   "id": "fdf42b7c-8af1-491a-8be4-9a28c39c7729",
   "metadata": {},
   "outputs": [],
   "source": []
  },
  {
   "cell_type": "code",
   "execution_count": null,
   "id": "61297f1e-d0e5-4e3c-bf46-017c1f712034",
   "metadata": {},
   "outputs": [],
   "source": [
    "# 그룹 변수를 분리\n",
    "group_column = 'Group'\n",
    "features = data_unsup.drop(columns=[group_column])  # Feature 데이터만 남김\n",
    "true_labels = LabelEncoder().fit_transform(data_unsup[group_column])  # Group 변수를 숫자로 인코딩"
   ]
  },
  {
   "cell_type": "code",
   "execution_count": null,
   "id": "644372f6-97f9-4a35-abeb-39a409c1a029",
   "metadata": {},
   "outputs": [],
   "source": []
  },
  {
   "cell_type": "markdown",
   "id": "55f5fe17-85bf-464b-a521-a81ae008be6b",
   "metadata": {},
   "source": [
    "## Unsupervised approaches"
   ]
  },
  {
   "cell_type": "markdown",
   "id": "e68df00d-1603-459e-8323-dc78d6252c70",
   "metadata": {},
   "source": [
    "### K-means"
   ]
  },
  {
   "cell_type": "code",
   "execution_count": null,
   "id": "34924d5b-1f63-4f03-bef9-975895bc0c91",
   "metadata": {},
   "outputs": [],
   "source": [
    "os.environ[\"OMP_NUM_THREADS\"] = '1'\n",
    "from sklearn.cluster import KMeans"
   ]
  },
  {
   "cell_type": "code",
   "execution_count": null,
   "id": "23b247ef-8413-4ccc-ac1e-5552f7a68a92",
   "metadata": {},
   "outputs": [],
   "source": [
    "# K-means 클러스터링 적용\n",
    "kmeans = KMeans(n_clusters=3, random_state=710674)\n",
    "kmeans_labels = kmeans.fit_predict(x)"
   ]
  },
  {
   "cell_type": "code",
   "execution_count": null,
   "id": "d0971f0b-06e4-48fc-adc6-b5de928c455e",
   "metadata": {},
   "outputs": [],
   "source": [
    "# 클러스터링 성능 평가\n",
    "ari_kmeans = adjusted_rand_score(true_labels, kmeans_labels)\n",
    "silhouette_kmeans = silhouette_score(data_unsup, kmeans_labels)\n",
    "\n",
    "print(f\"K-means ARI: {ari_kmeans}\")\n",
    "print(f\"K-means Silhouette Score: {silhouette_kmeans}\")"
   ]
  },
  {
   "cell_type": "code",
   "execution_count": null,
   "id": "9080ba6b-896a-410a-8361-089e86e03a7e",
   "metadata": {},
   "outputs": [],
   "source": []
  },
  {
   "cell_type": "code",
   "execution_count": null,
   "id": "631ee292-ad3f-49fa-91b1-438e886a922a",
   "metadata": {},
   "outputs": [],
   "source": []
  },
  {
   "cell_type": "markdown",
   "id": "cdfaf224-bfcd-49ce-a1a5-0311b5839f01",
   "metadata": {},
   "source": [
    "### Gaussian Mixture (GMM)"
   ]
  },
  {
   "cell_type": "code",
   "execution_count": null,
   "id": "c755feb5-7d37-453f-8b1c-fb5cd654b6d8",
   "metadata": {},
   "outputs": [],
   "source": [
    "# Gaussian Mixture Model 적용\n",
    "gmm = GaussianMixture(n_components=3, random_state=710674)\n",
    "gmm_labels = gmm.fit_predict(data_unsup)\n",
    "\n",
    "# 클러스터링 성능 평가\n",
    "ari_gmm = adjusted_rand_score(true_labels, gmm_labels)\n",
    "silhouette_gmm = silhouette_score(data_unsup, gmm_labels)\n",
    "\n",
    "print(f\"GMM ARI: {ari_gmm}\")\n",
    "print(f\"GMM Silhouette Score: {silhouette_gmm}\")"
   ]
  },
  {
   "cell_type": "code",
   "execution_count": null,
   "id": "203492ca-d1da-49b6-9d80-7492f9099ef0",
   "metadata": {},
   "outputs": [],
   "source": []
  },
  {
   "cell_type": "markdown",
   "id": "4cbe667c-95c4-48f1-bf76-7a7c357fa839",
   "metadata": {},
   "source": [
    "### Autoencoder"
   ]
  },
  {
   "cell_type": "code",
   "execution_count": null,
   "id": "db29bf41-ba56-4433-a884-8083bfdba53a",
   "metadata": {},
   "outputs": [],
   "source": [
    "# Autoencoder 모델 생성\n",
    "input_dim = data.shape[1]\n",
    "encoding_dim = 3  # 저차원 공간으로 축소할 차원 수\n",
    "\n",
    "input_layer = Input(shape=(input_dim,))\n",
    "encoded = Dense(encoding_dim, activation='relu')(input_layer)\n",
    "decoded = Dense(input_dim, activation='sigmoid')(encoded)\n",
    "\n",
    "autoencoder = Model(input_layer, decoded)\n",
    "autoencoder.compile(optimizer='adam', loss='mse')\n",
    "\n",
    "# Autoencoder 학습\n",
    "autoencoder.fit(data, data, epochs=50, batch_size=10, shuffle=True, verbose=2)\n",
    "\n",
    "# 축소된 차원으로 데이터 변환\n",
    "encoder = Model(input_layer, encoded)\n",
    "encoded_data = encoder.predict(data)\n",
    "\n",
    "# K-means를 사용하여 Autoencoder의 출력으로 클러스터링\n",
    "kmeans_encoded = KMeans(n_clusters=3, random_state=42)\n",
    "kmeans_encoded_labels = kmeans_encoded.fit_predict(encoded_data)\n",
    "\n",
    "# 클러스터링 성능 평가\n",
    "ari_autoencoder = adjusted_rand_score(true_labels, kmeans_encoded_labels)\n",
    "silhouette_autoencoder = silhouette_score(encoded_data, kmeans_encoded_labels)\n",
    "\n",
    "print(f\"Autoencoder K-means ARI: {ari_autoencoder}\")\n",
    "print(f\"Autoencoder K-means Silhouette Score: {silhouette_autoencoder}\")"
   ]
  },
  {
   "cell_type": "code",
   "execution_count": null,
   "id": "33ad262b-39ea-40a0-aacf-2af82e7b30b7",
   "metadata": {},
   "outputs": [],
   "source": []
  },
  {
   "cell_type": "code",
   "execution_count": null,
   "id": "83475e5c-7696-4007-90f0-4cb3b5d371ee",
   "metadata": {},
   "outputs": [],
   "source": []
  }
 ],
 "metadata": {
  "kernelspec": {
   "display_name": "Python 3 (ipykernel)",
   "language": "python",
   "name": "python3"
  },
  "language_info": {
   "codemirror_mode": {
    "name": "ipython",
    "version": 3
   },
   "file_extension": ".py",
   "mimetype": "text/x-python",
   "name": "python",
   "nbconvert_exporter": "python",
   "pygments_lexer": "ipython3",
   "version": "3.9.17"
  }
 },
 "nbformat": 4,
 "nbformat_minor": 5
}
