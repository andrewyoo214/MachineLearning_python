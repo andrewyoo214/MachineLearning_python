{
 "cells": [
  {
   "cell_type": "markdown",
   "id": "b590b0e4-f864-4a82-86a5-1c0259636ee1",
   "metadata": {},
   "source": [
    "# Unsup for health records"
   ]
  },
  {
   "cell_type": "markdown",
   "id": "adc8fa4b-2a80-4fe6-b043-9f59b1b8eed1",
   "metadata": {},
   "source": [
    "* Idealization the methods for health records handling"
   ]
  },
  {
   "cell_type": "code",
   "execution_count": 15,
   "id": "a2b4f139-a3aa-4de9-8ef6-0ac288f44172",
   "metadata": {},
   "outputs": [],
   "source": [
    "import os\n",
    "import numpy as np\n",
    "import pandas as pd\n",
    "import seaborn as sns\n",
    "import tensorflow as tf\n",
    "import matplotlib.pyplot as plt"
   ]
  },
  {
   "cell_type": "code",
   "execution_count": 16,
   "id": "0b81ab27-8026-4d1a-98dd-384e9cabcfdf",
   "metadata": {},
   "outputs": [],
   "source": [
    "from tensorflow.keras.models import Model\n",
    "from tensorflow.keras.layers import Input, Dense, Layer\n",
    "from tensorflow.keras.utils import to_categorical\n",
    "\n",
    "from sklearn.preprocessing import StandardScaler, MinMaxScaler, RobustScaler, LabelEncoder\n",
    "from sklearn.cluster import KMeans\n",
    "from sklearn.mixture import GaussianMixture\n",
    "from sklearn.ensemble import RandomForestClassifier\n",
    "from sklearn.metrics import adjusted_rand_score, silhouette_score"
   ]
  },
  {
   "cell_type": "markdown",
   "id": "35a03dd2-a1a2-404a-918c-e996e4214e44",
   "metadata": {},
   "source": [
    "## Dataset check"
   ]
  },
  {
   "cell_type": "code",
   "execution_count": 3,
   "id": "7852ed8f-37a6-4fba-b1ac-df898b3b650b",
   "metadata": {},
   "outputs": [
    {
     "name": "stdout",
     "output_type": "stream",
     "text": [
      "The shape of the original dataset is: (152, 11)\n"
     ]
    }
   ],
   "source": [
    "data_ori = pd.read_csv('C:/Users/user/Downloads/GNN_test.csv')\n",
    "print(\"The shape of the original dataset is:\", data_ori.shape)"
   ]
  },
  {
   "cell_type": "code",
   "execution_count": 4,
   "id": "3a72b8e7-24f6-4ac3-8ea2-013dda56f1bf",
   "metadata": {},
   "outputs": [
    {
     "data": {
      "text/plain": [
       "Index(['E_No', 'Group', 'Age_V1', 'Sex_V1', 'living_V1', 'edu_yr_V1',\n",
       "       'edu_gr_V1', 'marr_V1', 'job_V1', 'relig_V1', 'HAMD_total_V1'],\n",
       "      dtype='object')"
      ]
     },
     "execution_count": 4,
     "metadata": {},
     "output_type": "execute_result"
    }
   ],
   "source": [
    "data_ori.columns"
   ]
  },
  {
   "cell_type": "code",
   "execution_count": 5,
   "id": "94b00720-ab61-4d81-9ec6-14329cefab2a",
   "metadata": {},
   "outputs": [],
   "source": [
    "# 빈 문자열이나 공백을 NaN으로 변환\n",
    "data_ori.replace(r'^\\s*$', pd.NA, regex=True, inplace=True)"
   ]
  },
  {
   "cell_type": "code",
   "execution_count": 6,
   "id": "db97f75c-433e-47b7-b1eb-f0d3feb5f607",
   "metadata": {},
   "outputs": [
    {
     "name": "stdout",
     "output_type": "stream",
     "text": [
      "E_No             0\n",
      "Group            0\n",
      "Age_V1           0\n",
      "Sex_V1           1\n",
      "living_V1        1\n",
      "edu_yr_V1        1\n",
      "edu_gr_V1        1\n",
      "marr_V1          1\n",
      "job_V1           3\n",
      "relig_V1         1\n",
      "HAMD_total_V1    0\n",
      "dtype: int64\n"
     ]
    }
   ],
   "source": [
    "print(data_ori.isnull().sum())"
   ]
  },
  {
   "cell_type": "code",
   "execution_count": 7,
   "id": "7d199833-a594-4c83-9396-f8cbbda9a978",
   "metadata": {},
   "outputs": [],
   "source": [
    "data_ori = data_ori.dropna()"
   ]
  },
  {
   "cell_type": "code",
   "execution_count": 8,
   "id": "d06b5528-1b33-457c-be64-9c4131cd995c",
   "metadata": {},
   "outputs": [
    {
     "data": {
      "text/plain": [
       "(149, 11)"
      ]
     },
     "execution_count": 8,
     "metadata": {},
     "output_type": "execute_result"
    }
   ],
   "source": [
    "data_ori.shape"
   ]
  },
  {
   "cell_type": "code",
   "execution_count": 9,
   "id": "639e5c9c-2b03-42a3-a424-2d2905bce352",
   "metadata": {},
   "outputs": [
    {
     "data": {
      "text/html": [
       "<div>\n",
       "<style scoped>\n",
       "    .dataframe tbody tr th:only-of-type {\n",
       "        vertical-align: middle;\n",
       "    }\n",
       "\n",
       "    .dataframe tbody tr th {\n",
       "        vertical-align: top;\n",
       "    }\n",
       "\n",
       "    .dataframe thead th {\n",
       "        text-align: right;\n",
       "    }\n",
       "</style>\n",
       "<table border=\"1\" class=\"dataframe\">\n",
       "  <thead>\n",
       "    <tr style=\"text-align: right;\">\n",
       "      <th></th>\n",
       "      <th>E_No</th>\n",
       "      <th>Group</th>\n",
       "      <th>Age_V1</th>\n",
       "      <th>Sex_V1</th>\n",
       "      <th>living_V1</th>\n",
       "      <th>edu_yr_V1</th>\n",
       "      <th>edu_gr_V1</th>\n",
       "      <th>marr_V1</th>\n",
       "      <th>job_V1</th>\n",
       "      <th>relig_V1</th>\n",
       "      <th>HAMD_total_V1</th>\n",
       "    </tr>\n",
       "  </thead>\n",
       "  <tbody>\n",
       "    <tr>\n",
       "      <th>0</th>\n",
       "      <td>1</td>\n",
       "      <td>2</td>\n",
       "      <td>23</td>\n",
       "      <td>1</td>\n",
       "      <td>2</td>\n",
       "      <td>14</td>\n",
       "      <td>3</td>\n",
       "      <td>1</td>\n",
       "      <td>4</td>\n",
       "      <td>5</td>\n",
       "      <td>21</td>\n",
       "    </tr>\n",
       "    <tr>\n",
       "      <th>1</th>\n",
       "      <td>2</td>\n",
       "      <td>2</td>\n",
       "      <td>38</td>\n",
       "      <td>1</td>\n",
       "      <td>2</td>\n",
       "      <td>16</td>\n",
       "      <td>4</td>\n",
       "      <td>2</td>\n",
       "      <td>1</td>\n",
       "      <td>5</td>\n",
       "      <td>14</td>\n",
       "    </tr>\n",
       "    <tr>\n",
       "      <th>2</th>\n",
       "      <td>3</td>\n",
       "      <td>1</td>\n",
       "      <td>57</td>\n",
       "      <td>2</td>\n",
       "      <td>2</td>\n",
       "      <td>12</td>\n",
       "      <td>3</td>\n",
       "      <td>4</td>\n",
       "      <td>3</td>\n",
       "      <td>5</td>\n",
       "      <td>17</td>\n",
       "    </tr>\n",
       "    <tr>\n",
       "      <th>3</th>\n",
       "      <td>4</td>\n",
       "      <td>1</td>\n",
       "      <td>19</td>\n",
       "      <td>2</td>\n",
       "      <td>2</td>\n",
       "      <td>12</td>\n",
       "      <td>3</td>\n",
       "      <td>1</td>\n",
       "      <td>4</td>\n",
       "      <td>1</td>\n",
       "      <td>17</td>\n",
       "    </tr>\n",
       "    <tr>\n",
       "      <th>4</th>\n",
       "      <td>5</td>\n",
       "      <td>1</td>\n",
       "      <td>33</td>\n",
       "      <td>1</td>\n",
       "      <td>1</td>\n",
       "      <td>16</td>\n",
       "      <td>4</td>\n",
       "      <td>1</td>\n",
       "      <td>6</td>\n",
       "      <td>2</td>\n",
       "      <td>21</td>\n",
       "    </tr>\n",
       "  </tbody>\n",
       "</table>\n",
       "</div>"
      ],
      "text/plain": [
       "   E_No  Group  Age_V1 Sex_V1 living_V1 edu_yr_V1 edu_gr_V1 marr_V1 job_V1  \\\n",
       "0     1      2      23      1         2        14         3       1      4   \n",
       "1     2      2      38      1         2        16         4       2      1   \n",
       "2     3      1      57      2         2        12         3       4      3   \n",
       "3     4      1      19      2         2        12         3       1      4   \n",
       "4     5      1      33      1         1        16         4       1      6   \n",
       "\n",
       "  relig_V1  HAMD_total_V1  \n",
       "0        5             21  \n",
       "1        5             14  \n",
       "2        5             17  \n",
       "3        1             17  \n",
       "4        2             21  "
      ]
     },
     "execution_count": 9,
     "metadata": {},
     "output_type": "execute_result"
    }
   ],
   "source": [
    "data_ori.head()"
   ]
  },
  {
   "cell_type": "code",
   "execution_count": 10,
   "id": "0f477d93-92db-415f-8774-49cada3cd7ce",
   "metadata": {},
   "outputs": [
    {
     "data": {
      "text/plain": [
       "Group\n",
       "3    59\n",
       "2    51\n",
       "1    39\n",
       "Name: count, dtype: int64"
      ]
     },
     "execution_count": 10,
     "metadata": {},
     "output_type": "execute_result"
    }
   ],
   "source": [
    "data_ori['Group'].value_counts()"
   ]
  },
  {
   "cell_type": "code",
   "execution_count": 11,
   "id": "6a7267c1-03e9-4bb9-830a-4b3c5e92b991",
   "metadata": {},
   "outputs": [],
   "source": [
    "data_unsup = data_ori.copy()\n",
    "data_unsup = data_unsup.drop(['E_No', 'HAMD_total_V1'], axis=1)\n",
    "data_unsup['Group'] = (data_unsup['Group'] -1)\n",
    "# data_unsup = data_unsup.drop(['E_No', 'Group'], axis=1)"
   ]
  },
  {
   "cell_type": "code",
   "execution_count": 12,
   "id": "f101539e-1d14-4627-b5b8-7a10d5a91706",
   "metadata": {},
   "outputs": [
    {
     "data": {
      "text/html": [
       "<div>\n",
       "<style scoped>\n",
       "    .dataframe tbody tr th:only-of-type {\n",
       "        vertical-align: middle;\n",
       "    }\n",
       "\n",
       "    .dataframe tbody tr th {\n",
       "        vertical-align: top;\n",
       "    }\n",
       "\n",
       "    .dataframe thead th {\n",
       "        text-align: right;\n",
       "    }\n",
       "</style>\n",
       "<table border=\"1\" class=\"dataframe\">\n",
       "  <thead>\n",
       "    <tr style=\"text-align: right;\">\n",
       "      <th></th>\n",
       "      <th>Group</th>\n",
       "      <th>Age_V1</th>\n",
       "      <th>Sex_V1</th>\n",
       "      <th>living_V1</th>\n",
       "      <th>edu_yr_V1</th>\n",
       "      <th>edu_gr_V1</th>\n",
       "      <th>marr_V1</th>\n",
       "      <th>job_V1</th>\n",
       "      <th>relig_V1</th>\n",
       "    </tr>\n",
       "  </thead>\n",
       "  <tbody>\n",
       "    <tr>\n",
       "      <th>0</th>\n",
       "      <td>1</td>\n",
       "      <td>23</td>\n",
       "      <td>1</td>\n",
       "      <td>2</td>\n",
       "      <td>14</td>\n",
       "      <td>3</td>\n",
       "      <td>1</td>\n",
       "      <td>4</td>\n",
       "      <td>5</td>\n",
       "    </tr>\n",
       "    <tr>\n",
       "      <th>1</th>\n",
       "      <td>1</td>\n",
       "      <td>38</td>\n",
       "      <td>1</td>\n",
       "      <td>2</td>\n",
       "      <td>16</td>\n",
       "      <td>4</td>\n",
       "      <td>2</td>\n",
       "      <td>1</td>\n",
       "      <td>5</td>\n",
       "    </tr>\n",
       "    <tr>\n",
       "      <th>2</th>\n",
       "      <td>0</td>\n",
       "      <td>57</td>\n",
       "      <td>2</td>\n",
       "      <td>2</td>\n",
       "      <td>12</td>\n",
       "      <td>3</td>\n",
       "      <td>4</td>\n",
       "      <td>3</td>\n",
       "      <td>5</td>\n",
       "    </tr>\n",
       "    <tr>\n",
       "      <th>3</th>\n",
       "      <td>0</td>\n",
       "      <td>19</td>\n",
       "      <td>2</td>\n",
       "      <td>2</td>\n",
       "      <td>12</td>\n",
       "      <td>3</td>\n",
       "      <td>1</td>\n",
       "      <td>4</td>\n",
       "      <td>1</td>\n",
       "    </tr>\n",
       "    <tr>\n",
       "      <th>4</th>\n",
       "      <td>0</td>\n",
       "      <td>33</td>\n",
       "      <td>1</td>\n",
       "      <td>1</td>\n",
       "      <td>16</td>\n",
       "      <td>4</td>\n",
       "      <td>1</td>\n",
       "      <td>6</td>\n",
       "      <td>2</td>\n",
       "    </tr>\n",
       "  </tbody>\n",
       "</table>\n",
       "</div>"
      ],
      "text/plain": [
       "   Group  Age_V1 Sex_V1 living_V1 edu_yr_V1 edu_gr_V1 marr_V1 job_V1 relig_V1\n",
       "0      1      23      1         2        14         3       1      4        5\n",
       "1      1      38      1         2        16         4       2      1        5\n",
       "2      0      57      2         2        12         3       4      3        5\n",
       "3      0      19      2         2        12         3       1      4        1\n",
       "4      0      33      1         1        16         4       1      6        2"
      ]
     },
     "execution_count": 12,
     "metadata": {},
     "output_type": "execute_result"
    }
   ],
   "source": [
    "data_unsup.head()"
   ]
  },
  {
   "cell_type": "code",
   "execution_count": 13,
   "id": "89aedc34-1c33-4967-81c7-f2407cdedae1",
   "metadata": {},
   "outputs": [],
   "source": [
    "data_y = data_unsup.loc[:, ['Group']]\n",
    "data_x = data_unsup.drop(['Group'], axis=1)"
   ]
  },
  {
   "cell_type": "code",
   "execution_count": null,
   "id": "5ac4fa65-3f30-4c01-9f16-c7249e733cea",
   "metadata": {},
   "outputs": [],
   "source": []
  },
  {
   "cell_type": "code",
   "execution_count": null,
   "id": "74a0c232-75d7-4a12-8237-18b8d5066f04",
   "metadata": {},
   "outputs": [],
   "source": [
    "# x = data_x.copy()\n",
    "\n",
    "# scaler = MinMaxScaler() #set the scaler (between 0 and 1)\n",
    "# # scaler = RobustScaler()\n",
    "# x[:] = scaler.fit_transform(x[:])\n",
    "# x = x.round(decimals=6)"
   ]
  },
  {
   "cell_type": "code",
   "execution_count": null,
   "id": "e308d5e1-c811-49bd-9ad8-4375254df532",
   "metadata": {},
   "outputs": [],
   "source": [
    "# y = data_y.copy()\n",
    "# # y = to_categorical(y, 3)"
   ]
  },
  {
   "cell_type": "code",
   "execution_count": null,
   "id": "fdf42b7c-8af1-491a-8be4-9a28c39c7729",
   "metadata": {},
   "outputs": [],
   "source": []
  },
  {
   "cell_type": "code",
   "execution_count": null,
   "id": "61297f1e-d0e5-4e3c-bf46-017c1f712034",
   "metadata": {},
   "outputs": [],
   "source": [
    "# 그룹 변수를 분리\n",
    "group_column = 'Group'\n",
    "features = data_unsup.drop(columns=[group_column])  # Feature 데이터만 남김\n",
    "true_labels = LabelEncoder().fit_transform(data_unsup[group_column])  # Group 변수를 숫자로 인코딩"
   ]
  },
  {
   "cell_type": "code",
   "execution_count": null,
   "id": "644372f6-97f9-4a35-abeb-39a409c1a029",
   "metadata": {},
   "outputs": [],
   "source": []
  },
  {
   "cell_type": "markdown",
   "id": "55f5fe17-85bf-464b-a521-a81ae008be6b",
   "metadata": {},
   "source": [
    "## Unsupervised approaches"
   ]
  },
  {
   "cell_type": "markdown",
   "id": "e68df00d-1603-459e-8323-dc78d6252c70",
   "metadata": {},
   "source": [
    "### K-means"
   ]
  },
  {
   "cell_type": "code",
   "execution_count": null,
   "id": "23b247ef-8413-4ccc-ac1e-5552f7a68a92",
   "metadata": {},
   "outputs": [],
   "source": [
    "# K-means 클러스터링 적용\n",
    "kmeans = KMeans(n_clusters=3, random_state=710674)\n",
    "kmeans_labels = kmeans.fit_predict(data_x)"
   ]
  },
  {
   "cell_type": "code",
   "execution_count": null,
   "id": "516a7f99-57fd-4f33-a70a-de5f518cc6e7",
   "metadata": {},
   "outputs": [],
   "source": [
    "kmeans_labels"
   ]
  },
  {
   "cell_type": "code",
   "execution_count": null,
   "id": "ed094e7a-db98-41b2-a6d5-ac724d580a04",
   "metadata": {},
   "outputs": [],
   "source": [
    "true_labels"
   ]
  },
  {
   "cell_type": "code",
   "execution_count": null,
   "id": "d0971f0b-06e4-48fc-adc6-b5de928c455e",
   "metadata": {},
   "outputs": [],
   "source": [
    "# 클러스터링 성능 평가\n",
    "ari_kmeans = adjusted_rand_score(true_labels, kmeans_labels)\n",
    "silhouette_kmeans = silhouette_score(data_unsup, kmeans_labels)\n",
    "\n",
    "print(f\"K-means ARI: {ari_kmeans}\")\n",
    "print(f\"K-means Silhouette Score: {silhouette_kmeans}\")"
   ]
  },
  {
   "cell_type": "code",
   "execution_count": null,
   "id": "9080ba6b-896a-410a-8361-089e86e03a7e",
   "metadata": {},
   "outputs": [],
   "source": []
  },
  {
   "cell_type": "code",
   "execution_count": null,
   "id": "631ee292-ad3f-49fa-91b1-438e886a922a",
   "metadata": {},
   "outputs": [],
   "source": []
  },
  {
   "cell_type": "markdown",
   "id": "cdfaf224-bfcd-49ce-a1a5-0311b5839f01",
   "metadata": {},
   "source": [
    "### Gaussian Mixture (GMM)"
   ]
  },
  {
   "cell_type": "code",
   "execution_count": null,
   "id": "c755feb5-7d37-453f-8b1c-fb5cd654b6d8",
   "metadata": {},
   "outputs": [],
   "source": [
    "# Gaussian Mixture Model 적용\n",
    "gmm = GaussianMixture(n_components=3, random_state=710674)\n",
    "gmm_labels = gmm.fit_predict(data_x)\n",
    "\n",
    "# 클러스터링 성능 평가\n",
    "ari_gmm = adjusted_rand_score(true_labels, gmm_labels)\n",
    "silhouette_gmm = silhouette_score(data_x, gmm_labels)\n",
    "\n",
    "print(f\"GMM ARI: {ari_gmm}\")\n",
    "print(f\"GMM Silhouette Score: {silhouette_gmm}\")"
   ]
  },
  {
   "cell_type": "code",
   "execution_count": null,
   "id": "203492ca-d1da-49b6-9d80-7492f9099ef0",
   "metadata": {},
   "outputs": [],
   "source": []
  },
  {
   "cell_type": "markdown",
   "id": "4cbe667c-95c4-48f1-bf76-7a7c357fa839",
   "metadata": {},
   "source": [
    "### Autoencoder"
   ]
  },
  {
   "cell_type": "code",
   "execution_count": null,
   "id": "4a2b7668-fd32-41c2-ac4f-5c2520b7e0c1",
   "metadata": {},
   "outputs": [],
   "source": [
    "data.shape"
   ]
  },
  {
   "cell_type": "code",
   "execution_count": null,
   "id": "db29bf41-ba56-4433-a884-8083bfdba53a",
   "metadata": {},
   "outputs": [],
   "source": [
    "# Autoencoder 모델 생성\n",
    "data = data_x\n",
    "\n",
    "input_dim = data.shape[1]\n",
    "encoding_dim = 3  # 저차원 공간으로 축소할 차원 수\n",
    "\n",
    "input_layer = Input(shape=(input_dim,))\n",
    "encoded = Dense(encoding_dim, activation='relu')(input_layer)\n",
    "decoded = Dense(input_dim, activation='softmax')(encoded)\n",
    "\n",
    "autoencoder = Model(input_layer, decoded)\n",
    "autoencoder.compile(optimizer='adam', loss='mse')\n",
    "\n",
    "# Autoencoder 학습\n",
    "autoencoder.fit(data, data, epochs=50, batch_size=10, shuffle=True, verbose=2)\n",
    "\n",
    "# 축소된 차원으로 데이터 변환\n",
    "encoder = Model(input_layer, encoded)\n",
    "encoded_data = encoder.predict(data)\n",
    "\n",
    "# K-means를 사용하여 Autoencoder의 출력으로 클러스터링\n",
    "kmeans_encoded = KMeans(n_clusters=3, random_state=710674)\n",
    "kmeans_encoded_labels = kmeans_encoded.fit_predict(encoded_data)\n",
    "\n",
    "# 클러스터링 성능 평가\n",
    "ari_autoencoder = adjusted_rand_score(true_labels, kmeans_encoded_labels)\n",
    "silhouette_autoencoder = silhouette_score(encoded_data, kmeans_encoded_labels)\n",
    "\n",
    "print(f\"Autoencoder K-means ARI: {ari_autoencoder}\")\n",
    "print(f\"Autoencoder K-means Silhouette Score: {silhouette_autoencoder}\")"
   ]
  },
  {
   "cell_type": "code",
   "execution_count": null,
   "id": "33ad262b-39ea-40a0-aacf-2af82e7b30b7",
   "metadata": {},
   "outputs": [],
   "source": []
  },
  {
   "cell_type": "code",
   "execution_count": 18,
   "id": "83475e5c-7696-4007-90f0-4cb3b5d371ee",
   "metadata": {},
   "outputs": [
    {
     "data": {
      "text/html": [
       "<div>\n",
       "<style scoped>\n",
       "    .dataframe tbody tr th:only-of-type {\n",
       "        vertical-align: middle;\n",
       "    }\n",
       "\n",
       "    .dataframe tbody tr th {\n",
       "        vertical-align: top;\n",
       "    }\n",
       "\n",
       "    .dataframe thead th {\n",
       "        text-align: right;\n",
       "    }\n",
       "</style>\n",
       "<table border=\"1\" class=\"dataframe\">\n",
       "  <thead>\n",
       "    <tr style=\"text-align: right;\">\n",
       "      <th></th>\n",
       "      <th>Group</th>\n",
       "      <th>Age_V1</th>\n",
       "      <th>Sex_V1</th>\n",
       "      <th>living_V1</th>\n",
       "      <th>edu_yr_V1</th>\n",
       "      <th>edu_gr_V1</th>\n",
       "      <th>marr_V1</th>\n",
       "      <th>job_V1</th>\n",
       "      <th>relig_V1</th>\n",
       "    </tr>\n",
       "  </thead>\n",
       "  <tbody>\n",
       "    <tr>\n",
       "      <th>0</th>\n",
       "      <td>1</td>\n",
       "      <td>23</td>\n",
       "      <td>1</td>\n",
       "      <td>2</td>\n",
       "      <td>14</td>\n",
       "      <td>3</td>\n",
       "      <td>1</td>\n",
       "      <td>4</td>\n",
       "      <td>5</td>\n",
       "    </tr>\n",
       "    <tr>\n",
       "      <th>1</th>\n",
       "      <td>1</td>\n",
       "      <td>38</td>\n",
       "      <td>1</td>\n",
       "      <td>2</td>\n",
       "      <td>16</td>\n",
       "      <td>4</td>\n",
       "      <td>2</td>\n",
       "      <td>1</td>\n",
       "      <td>5</td>\n",
       "    </tr>\n",
       "    <tr>\n",
       "      <th>2</th>\n",
       "      <td>0</td>\n",
       "      <td>57</td>\n",
       "      <td>2</td>\n",
       "      <td>2</td>\n",
       "      <td>12</td>\n",
       "      <td>3</td>\n",
       "      <td>4</td>\n",
       "      <td>3</td>\n",
       "      <td>5</td>\n",
       "    </tr>\n",
       "    <tr>\n",
       "      <th>3</th>\n",
       "      <td>0</td>\n",
       "      <td>19</td>\n",
       "      <td>2</td>\n",
       "      <td>2</td>\n",
       "      <td>12</td>\n",
       "      <td>3</td>\n",
       "      <td>1</td>\n",
       "      <td>4</td>\n",
       "      <td>1</td>\n",
       "    </tr>\n",
       "    <tr>\n",
       "      <th>4</th>\n",
       "      <td>0</td>\n",
       "      <td>33</td>\n",
       "      <td>1</td>\n",
       "      <td>1</td>\n",
       "      <td>16</td>\n",
       "      <td>4</td>\n",
       "      <td>1</td>\n",
       "      <td>6</td>\n",
       "      <td>2</td>\n",
       "    </tr>\n",
       "    <tr>\n",
       "      <th>...</th>\n",
       "      <td>...</td>\n",
       "      <td>...</td>\n",
       "      <td>...</td>\n",
       "      <td>...</td>\n",
       "      <td>...</td>\n",
       "      <td>...</td>\n",
       "      <td>...</td>\n",
       "      <td>...</td>\n",
       "      <td>...</td>\n",
       "    </tr>\n",
       "    <tr>\n",
       "      <th>147</th>\n",
       "      <td>1</td>\n",
       "      <td>21</td>\n",
       "      <td>2</td>\n",
       "      <td>1</td>\n",
       "      <td>12</td>\n",
       "      <td>3</td>\n",
       "      <td>1</td>\n",
       "      <td>4</td>\n",
       "      <td>5</td>\n",
       "    </tr>\n",
       "    <tr>\n",
       "      <th>148</th>\n",
       "      <td>0</td>\n",
       "      <td>64</td>\n",
       "      <td>2</td>\n",
       "      <td>1</td>\n",
       "      <td>12</td>\n",
       "      <td>3</td>\n",
       "      <td>2</td>\n",
       "      <td>3</td>\n",
       "      <td>1</td>\n",
       "    </tr>\n",
       "    <tr>\n",
       "      <th>149</th>\n",
       "      <td>2</td>\n",
       "      <td>21</td>\n",
       "      <td>2</td>\n",
       "      <td>1</td>\n",
       "      <td>12</td>\n",
       "      <td>3</td>\n",
       "      <td>1</td>\n",
       "      <td>4</td>\n",
       "      <td>5</td>\n",
       "    </tr>\n",
       "    <tr>\n",
       "      <th>150</th>\n",
       "      <td>2</td>\n",
       "      <td>40</td>\n",
       "      <td>2</td>\n",
       "      <td>1</td>\n",
       "      <td>12</td>\n",
       "      <td>3</td>\n",
       "      <td>2</td>\n",
       "      <td>3</td>\n",
       "      <td>1</td>\n",
       "    </tr>\n",
       "    <tr>\n",
       "      <th>151</th>\n",
       "      <td>2</td>\n",
       "      <td>24</td>\n",
       "      <td>2</td>\n",
       "      <td>1</td>\n",
       "      <td>16</td>\n",
       "      <td>4</td>\n",
       "      <td>1</td>\n",
       "      <td>4</td>\n",
       "      <td>5</td>\n",
       "    </tr>\n",
       "  </tbody>\n",
       "</table>\n",
       "<p>149 rows × 9 columns</p>\n",
       "</div>"
      ],
      "text/plain": [
       "     Group  Age_V1 Sex_V1 living_V1 edu_yr_V1 edu_gr_V1 marr_V1 job_V1  \\\n",
       "0        1      23      1         2        14         3       1      4   \n",
       "1        1      38      1         2        16         4       2      1   \n",
       "2        0      57      2         2        12         3       4      3   \n",
       "3        0      19      2         2        12         3       1      4   \n",
       "4        0      33      1         1        16         4       1      6   \n",
       "..     ...     ...    ...       ...       ...       ...     ...    ...   \n",
       "147      1      21      2         1        12         3       1      4   \n",
       "148      0      64      2         1        12         3       2      3   \n",
       "149      2      21      2         1        12         3       1      4   \n",
       "150      2      40      2         1        12         3       2      3   \n",
       "151      2      24      2         1        16         4       1      4   \n",
       "\n",
       "    relig_V1  \n",
       "0          5  \n",
       "1          5  \n",
       "2          5  \n",
       "3          1  \n",
       "4          2  \n",
       "..       ...  \n",
       "147        5  \n",
       "148        1  \n",
       "149        5  \n",
       "150        1  \n",
       "151        5  \n",
       "\n",
       "[149 rows x 9 columns]"
      ]
     },
     "execution_count": 18,
     "metadata": {},
     "output_type": "execute_result"
    }
   ],
   "source": [
    "data_unsup"
   ]
  },
  {
   "cell_type": "code",
   "execution_count": 22,
   "id": "eb603f8c-f732-4da8-b7b2-ec3bf5b9ef5c",
   "metadata": {},
   "outputs": [
    {
     "name": "stderr",
     "output_type": "stream",
     "text": [
      "C:\\Users\\user\\anaconda3\\envs\\medical2\\lib\\site-packages\\sklearn\\cluster\\_kmeans.py:1446: UserWarning: KMeans is known to have a memory leak on Windows with MKL, when there are less chunks than available threads. You can avoid it by setting the environment variable OMP_NUM_THREADS=1.\n",
      "  warnings.warn(\n"
     ]
    },
    {
     "data": {
      "image/png": "[encoded data removed]",
      "text/plain": [
       "<Figure size 800x600 with 1 Axes>"
      ]
     },
     "metadata": {},
     "output_type": "display_data"
    }
   ],
   "source": [
    "X = data_x.copy()\n",
    "y = data_y.copy()\n",
    "df = data_unsup.copy()\n",
    "\n",
    "# 데이터 표준화\n",
    "scaler = StandardScaler()\n",
    "X_scaled = scaler.fit_transform(X)\n",
    "\n",
    "# 2. 군집화 수행 (질병군 내에서)\n",
    "kmeans = KMeans(n_clusters=3, random_state=42)  # 예시로 3개의 군집\n",
    "df['Group'] = kmeans.fit_predict(X_scaled)\n",
    "\n",
    "# 3. 변수 중요도 평가 - 랜덤 포레스트를 사용하여 변수 중요도 확인\n",
    "rf = RandomForestClassifier(random_state=42)\n",
    "rf.fit(X, df['Group'])\n",
    "\n",
    "importances = rf.feature_importances_\n",
    "indices = np.argsort(importances)[::-1]\n",
    "\n",
    "# 중요도 시각화\n",
    "plt.figure(figsize=(8, 6))\n",
    "sns.barplot(x=X.columns[indices], y=importances[indices])\n",
    "plt.title('Feature Importances')\n",
    "plt.show()"
   ]
  },
  {
   "cell_type": "code",
   "execution_count": null,
   "id": "6c3d14da-329c-495a-bd00-dfdfa7d6a07d",
   "metadata": {},
   "outputs": [],
   "source": []
  },
  {
   "cell_type": "code",
   "execution_count": null,
   "id": "18d963c7-36ed-471d-97e0-a2d58fb63a5e",
   "metadata": {},
   "outputs": [],
   "source": []
  },
  {
   "cell_type": "code",
   "execution_count": null,
   "id": "d1fd289e-d98b-4d18-94d0-3433a430cd37",
   "metadata": {},
   "outputs": [],
   "source": []
  },
  {
   "cell_type": "code",
   "execution_count": null,
   "id": "fea7173a-496f-408a-9fca-12861588738b",
   "metadata": {},
   "outputs": [],
   "source": []
  },
  {
   "cell_type": "code",
   "execution_count": null,
   "id": "57bd9bf4-e3b3-428f-a5f4-d110609f517b",
   "metadata": {},
   "outputs": [],
   "source": []
  }
 ],
 "metadata": {
  "kernelspec": {
   "display_name": "Python 3 (ipykernel)",
   "language": "python",
   "name": "python3"
  },
  "language_info": {
   "codemirror_mode": {
    "name": "ipython",
    "version": 3
   },
   "file_extension": ".py",
   "mimetype": "text/x-python",
   "name": "python",
   "nbconvert_exporter": "python",
   "pygments_lexer": "ipython3",
   "version": "3.8.20"
  }
 },
 "nbformat": 4,
 "nbformat_minor": 5
}
