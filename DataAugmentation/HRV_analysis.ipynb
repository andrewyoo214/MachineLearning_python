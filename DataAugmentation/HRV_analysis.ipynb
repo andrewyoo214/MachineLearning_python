{
 "cells": [
  {
   "cell_type": "markdown",
   "id": "2a01e0ec-b75e-476b-8dbc-239ab0c0901c",
   "metadata": {},
   "source": [
    "# HRV Analysis_2023.04.13"
   ]
  },
  {
   "cell_type": "code",
   "execution_count": null,
   "id": "03c07869-13b3-4fe5-8c4d-35a23c367ef6",
   "metadata": {},
   "outputs": [],
   "source": [
    "import csv\n",
    "import random\n",
    "import torch\n",
    "import torchvision\n",
    "import tensorflow as tf\n",
    "import pandas as pd\n",
    "import numpy as np\n",
    "import seaborn as sns\n",
    "import matplotlib.pyplot as plt\n",
    "\n",
    "\n",
    "# from PIL import Image"
   ]
  },
  {
   "cell_type": "code",
   "execution_count": null,
   "id": "17276641-0dbe-488d-8e42-d14b88367dc0",
   "metadata": {},
   "outputs": [],
   "source": [
    "from scipy import stats\n",
    "from scipy.stats import ttest_ind\n",
    "from sklearn.model_selection import train_test_split\n",
    "from keras.models import Sequential\n",
    "from keras.layers import Dense , Activation, Dropout\n",
    "from keras.optimizers import Adam ,RMSprop\n",
    "from keras import  backend as K\n",
    "from keras.optimizers import SGD\n",
    "# from tensorflow.keras import utils as np_utils\n",
    "# from tensorflow.keras.metrics import binary_focal_crossentropy\n",
    "from sklearn.linear_model import LogisticRegression\n",
    "from tensorflow.keras.utils import to_categorical\n",
    "from torch.utils.data import TensorDataset, DataLoader\n",
    "from sklearn.preprocessing import MinMaxScaler, RobustScaler, Normalizer"
   ]
  },
  {
   "cell_type": "code",
   "execution_count": null,
   "id": "d3be60e5-f56a-4201-9ad5-af351889e565",
   "metadata": {},
   "outputs": [],
   "source": []
  },
  {
   "cell_type": "markdown",
   "id": "83aa1ac1-ce42-4af6-b821-f46559610d98",
   "metadata": {},
   "source": [
    "## HRV Dataset check"
   ]
  },
  {
   "cell_type": "code",
   "execution_count": null,
   "id": "f23fd9e3-ae42-43af-8a99-ab646895dfc5",
   "metadata": {},
   "outputs": [],
   "source": [
    "hrv_load = pd.read_csv('E:/RESEARCH/Datasets/HRV/JA/HRV_age_gender_hrv_labels.csv')"
   ]
  },
  {
   "cell_type": "code",
   "execution_count": null,
   "id": "7375c2dd-0c2a-46c6-97bb-a809e2d4732b",
   "metadata": {},
   "outputs": [],
   "source": [
    "hrv_load"
   ]
  },
  {
   "cell_type": "code",
   "execution_count": null,
   "id": "e05b7f68-28ee-4cf8-b5c8-66f7acfe0be3",
   "metadata": {},
   "outputs": [],
   "source": [
    "print(hrv_load.dtypes)"
   ]
  },
  {
   "cell_type": "code",
   "execution_count": null,
   "id": "6c382536-b8ce-4320-8aef-5dd69e8928f4",
   "metadata": {},
   "outputs": [],
   "source": [
    "hrv_load[\"HAMD_\"].value_counts()"
   ]
  },
  {
   "cell_type": "code",
   "execution_count": null,
   "id": "778ab481-4736-4bcb-b7f6-6c56894466ab",
   "metadata": {},
   "outputs": [],
   "source": []
  },
  {
   "cell_type": "markdown",
   "id": "1f708a10-759f-479e-8a93-b88eb2427d15",
   "metadata": {},
   "source": [
    "## Dataset preparation"
   ]
  },
  {
   "cell_type": "code",
   "execution_count": null,
   "id": "f7071bb2-ea6b-4394-97cf-18a05cf676a4",
   "metadata": {},
   "outputs": [],
   "source": [
    "hrv_data = hrv_load[hrv_load[\"age\"]<=59] ## removing the data over aged 60"
   ]
  },
  {
   "cell_type": "code",
   "execution_count": null,
   "id": "c8afc1c9-4a42-45fa-aacd-e3459569cddc",
   "metadata": {},
   "outputs": [],
   "source": [
    "hrv_data[\"HAMD_\"].value_counts()"
   ]
  },
  {
   "cell_type": "code",
   "execution_count": null,
   "id": "c405633d-1a20-4916-bc8c-9388d42199ca",
   "metadata": {},
   "outputs": [],
   "source": [
    "hrv_only = hrv_data.loc[:, ['sdnn','psi','tp','vlf','lf','hf','lfnorm','hfnorm','lf_hf','rmssd','apen','srd','tsrd',\n",
    "                          'tp_ln', 'vlf_ln','lf_ln','hf_ln']]\n",
    "hrv_only_hamd = hrv_data.loc[:, ['sdnn','psi','tp','vlf','lf','hf','lfnorm','hfnorm','lf_hf','rmssd','apen','srd','tsrd',\n",
    "                          'tp_ln', 'vlf_ln','lf_ln','hf_ln','HAMD']]\n",
    "hamd_score = hrv_data.loc[:, ['HAMD']]\n"
   ]
  },
  {
   "cell_type": "code",
   "execution_count": null,
   "id": "d54d5842-0f27-435b-b7c6-cab9a65fd17e",
   "metadata": {},
   "outputs": [],
   "source": [
    "hrv_only"
   ]
  },
  {
   "cell_type": "code",
   "execution_count": null,
   "id": "22eee674-b7d7-407b-8bdf-1f36f8375661",
   "metadata": {},
   "outputs": [],
   "source": []
  },
  {
   "cell_type": "markdown",
   "id": "e9ce776b-937a-4287-9637-064a16371d9a",
   "metadata": {},
   "source": [
    "## Standardize the hrv features"
   ]
  },
  {
   "cell_type": "code",
   "execution_count": null,
   "id": "e96bb900-fe10-4b59-bdc4-769eb2b64123",
   "metadata": {},
   "outputs": [],
   "source": [
    "# scaler = MinMaxScaler()\n",
    "# scaler = RobustScaler()\n",
    "scaler = Normalizer()\n",
    "hrv_only[:] = scaler.fit_transform(hrv_only[:])"
   ]
  },
  {
   "cell_type": "code",
   "execution_count": null,
   "id": "0fa9ab67-b023-4d5c-a7f5-fd14e34e19b2",
   "metadata": {},
   "outputs": [],
   "source": [
    "hrv_only"
   ]
  },
  {
   "cell_type": "code",
   "execution_count": null,
   "id": "cf1c3907-2a8b-4343-bdf2-ec192327248b",
   "metadata": {},
   "outputs": [],
   "source": [
    "hrv_and_hamd = pd.concat([hrv_only, hamd_score], axis=1)"
   ]
  },
  {
   "cell_type": "code",
   "execution_count": null,
   "id": "71750d16-9f51-4261-8f71-bd0f8df71ef8",
   "metadata": {},
   "outputs": [],
   "source": [
    "hrv_and_hamd"
   ]
  },
  {
   "cell_type": "code",
   "execution_count": null,
   "id": "41596eba-c938-48c3-a87c-2fe50146df75",
   "metadata": {},
   "outputs": [],
   "source": []
  },
  {
   "cell_type": "code",
   "execution_count": null,
   "id": "8788c3a7-0920-4147-9345-512f771b8b26",
   "metadata": {},
   "outputs": [],
   "source": []
  },
  {
   "cell_type": "markdown",
   "id": "deb59513-2ebd-4ea2-b133-3d21edbbb4de",
   "metadata": {},
   "source": [
    "## Correlation check between HRV features and HAMD"
   ]
  },
  {
   "cell_type": "code",
   "execution_count": null,
   "id": "31ad461a-63d9-47f9-a77c-2e1e1c3ca989",
   "metadata": {},
   "outputs": [],
   "source": [
    "corr = hrv_and_hamd.corr()\n",
    "fig = plt.figure(figsize = (10, 10))\n",
    "ax = fig.add_subplot(111)\n",
    "cax = ax.matshow(corr, cmap='coolwarm', vmin=-1, vmax=1)\n",
    "fig.colorbar(cax)\n",
    "ticks = np.arange(0, len(hrv_and_hamd.columns),1)\n",
    "ax.set_xticks(ticks)\n",
    "plt.xticks(rotation=90)\n",
    "ax.set_yticks(ticks)\n",
    "ax.set_xticklabels(hrv_and_hamd.columns)\n",
    "ax.set_yticklabels(hrv_and_hamd.columns)\n",
    "plt.show()"
   ]
  },
  {
   "cell_type": "code",
   "execution_count": null,
   "id": "9e59ab2d-857a-4449-bd84-c8d4d6c6aad4",
   "metadata": {},
   "outputs": [],
   "source": []
  },
  {
   "cell_type": "code",
   "execution_count": null,
   "id": "89fa0bb5-0c87-42be-9a2a-c1d8ea55c1f0",
   "metadata": {},
   "outputs": [],
   "source": []
  },
  {
   "cell_type": "code",
   "execution_count": null,
   "id": "f12563a5-f0df-4e1d-acb4-3eddf85a046f",
   "metadata": {},
   "outputs": [],
   "source": []
  },
  {
   "cell_type": "code",
   "execution_count": null,
   "id": "43aba508-dd7d-4e4b-b111-397e0618fbee",
   "metadata": {},
   "outputs": [],
   "source": []
  },
  {
   "cell_type": "code",
   "execution_count": null,
   "id": "af06fff7-f488-46b1-b19b-3550d11da2b7",
   "metadata": {},
   "outputs": [],
   "source": []
  },
  {
   "cell_type": "code",
   "execution_count": null,
   "id": "15f2a525-b1e8-4be8-9bb9-ddb77dff444c",
   "metadata": {},
   "outputs": [],
   "source": []
  },
  {
   "cell_type": "code",
   "execution_count": null,
   "id": "f1b058ab-3cbb-4016-90d2-03ef7e54459a",
   "metadata": {},
   "outputs": [],
   "source": []
  }
 ],
 "metadata": {
  "kernelspec": {
   "display_name": "Python 3",
   "language": "python",
   "name": "python3"
  },
  "language_info": {
   "codemirror_mode": {
    "name": "ipython",
    "version": 3
   },
   "file_extension": ".py",
   "mimetype": "text/x-python",
   "name": "python",
   "nbconvert_exporter": "python",
   "pygments_lexer": "ipython3",
   "version": "3.8.10"
  }
 },
 "nbformat": 4,
 "nbformat_minor": 5
}
