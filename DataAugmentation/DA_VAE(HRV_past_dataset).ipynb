{
 "cells": [
  {
   "cell_type": "markdown",
   "id": "2a20b02d-6ef3-4a6e-a45e-69cddd886137",
   "metadata": {},
   "source": [
    "# DA- VAE, Diffusion (HRV past research dataset)"
   ]
  },
  {
   "cell_type": "markdown",
   "id": "21e6a98c-2f59-452a-b8b1-ee762e22acf9",
   "metadata": {},
   "source": [
    "* Using Keras/Tensorflow"
   ]
  },
  {
   "cell_type": "code",
   "execution_count": 1,
   "id": "4ddbef65-77a1-43fe-989a-0a0c7d4ead5e",
   "metadata": {
    "tags": []
   },
   "outputs": [],
   "source": [
    "import os\n",
    "import time\n",
    "# import shap ## for XAI\n",
    "import numpy as np\n",
    "import pandas as pd\n",
    "import seaborn as sns\n",
    "import tensorflow as tf\n",
    "# import pingouin as pg\n",
    "import matplotlib.pyplot as plt\n",
    "import sklearn.metrics as metrics"
   ]
  },
  {
   "cell_type": "code",
   "execution_count": 140,
   "id": "4882e3a3-161d-4d3e-bef3-b83010ca2cb4",
   "metadata": {},
   "outputs": [],
   "source": [
    "from numpy import dot\n",
    "from numpy.linalg import norm\n",
    "\n",
    "from keras.models import Sequential\n",
    "from keras.layers import Dense , Dropout , Lambda, Flatten\n",
    "from keras.layers import Dense , Activation, Dropout, BatchNormalization\n",
    "from keras.optimizers import Adam ,RMSprop\n",
    "from keras.callbacks import Callback\n",
    "\n",
    "from scipy.special import rel_entr\n",
    "from scipy.stats import gaussian_kde\n",
    "from scipy.spatial.distance import jensenshannon\n",
    "\n",
    "from sklearn.model_selection import train_test_split, StratifiedKFold, KFold, train_test_split, ParameterGrid\n",
    "from sklearn import decomposition, metrics\n",
    "from sklearn.cluster import KMeans\n",
    "from sklearn.metrics import cohen_kappa_score,f1_score, confusion_matrix, roc_auc_score\n",
    "from sklearn.inspection import permutation_importance\n",
    "from sklearn.preprocessing import Normalizer, MinMaxScaler\n",
    "from sklearn.manifold import TSNE\n",
    "\n",
    "from tensorflow.keras.utils import to_categorical\n",
    "from tensorflow import keras\n",
    "from tensorflow.keras.callbacks import LearningRateScheduler, EarlyStopping, ReduceLROnPlateau\n",
    "from tensorflow.keras.layers import Input, Dense, Lambda, Conv1D, Flatten, Reshape, UpSampling1D, MaxPooling1D\n",
    "from tensorflow.keras.models import Model\n",
    "from tensorflow.keras import backend as K\n",
    "from tensorflow.keras.losses import mse, MeanSquaredError"
   ]
  },
  {
   "cell_type": "code",
   "execution_count": null,
   "id": "96eaef7a-8b52-4e59-89a9-b46885d1481a",
   "metadata": {},
   "outputs": [],
   "source": []
  },
  {
   "cell_type": "markdown",
   "id": "57cfaf0e-1296-43a9-a547-8dba9168a6ba",
   "metadata": {},
   "source": [
    "***"
   ]
  },
  {
   "cell_type": "markdown",
   "id": "03baaf49-19f6-4559-8906-1d8fb2d49ae7",
   "metadata": {},
   "source": [
    "---"
   ]
  },
  {
   "cell_type": "markdown",
   "id": "5cdf5bb1-4eca-4da1-b06e-5c62e8549841",
   "metadata": {},
   "source": [
    "## Original data check"
   ]
  },
  {
   "cell_type": "code",
   "execution_count": 185,
   "id": "503f2855-10c1-447d-9f0b-cf0bfad482ab",
   "metadata": {},
   "outputs": [],
   "source": [
    "### In this research, the dataset is breast cancer dataset (tabular format)\n",
    "\n",
    "data_ori = pd.read_csv('E:/RESEARCH/Datasets/HRV/HRV_samsung/HRV_REV_all.csv')"
   ]
  },
  {
   "cell_type": "code",
   "execution_count": 186,
   "id": "c7b7cb3a-dd1e-43a6-9f71-e3d97900f97b",
   "metadata": {},
   "outputs": [
    {
     "name": "stdout",
     "output_type": "stream",
     "text": [
      "The shape of the HRV dataset is: (479, 93)\n"
     ]
    },
    {
     "data": {
      "text/html": [
       "<div>\n",
       "<style scoped>\n",
       "    .dataframe tbody tr th:only-of-type {\n",
       "        vertical-align: middle;\n",
       "    }\n",
       "\n",
       "    .dataframe tbody tr th {\n",
       "        vertical-align: top;\n",
       "    }\n",
       "\n",
       "    .dataframe thead th {\n",
       "        text-align: right;\n",
       "    }\n",
       "</style>\n",
       "<table border=\"1\" class=\"dataframe\">\n",
       "  <thead>\n",
       "    <tr style=\"text-align: right;\">\n",
       "      <th></th>\n",
       "      <th>sub</th>\n",
       "      <th>VISIT</th>\n",
       "      <th>disorder</th>\n",
       "      <th>age</th>\n",
       "      <th>gender</th>\n",
       "      <th>HAMD</th>\n",
       "      <th>HAMA</th>\n",
       "      <th>PDSS</th>\n",
       "      <th>ASI</th>\n",
       "      <th>APPQ</th>\n",
       "      <th>...</th>\n",
       "      <th>cRMSSD</th>\n",
       "      <th>cVLF</th>\n",
       "      <th>cLF</th>\n",
       "      <th>cHF</th>\n",
       "      <th>cLF/HF</th>\n",
       "      <th>cPOWER</th>\n",
       "      <th>cHR</th>\n",
       "      <th>cRESP</th>\n",
       "      <th>cSC</th>\n",
       "      <th>cTEMP</th>\n",
       "    </tr>\n",
       "  </thead>\n",
       "  <tbody>\n",
       "    <tr>\n",
       "      <th>0</th>\n",
       "      <td>E001</td>\n",
       "      <td>4</td>\n",
       "      <td>2</td>\n",
       "      <td>23</td>\n",
       "      <td>1</td>\n",
       "      <td>2</td>\n",
       "      <td>2</td>\n",
       "      <td>1</td>\n",
       "      <td>12</td>\n",
       "      <td>22</td>\n",
       "      <td>...</td>\n",
       "      <td>41.544667</td>\n",
       "      <td>190.107000</td>\n",
       "      <td>298.508333</td>\n",
       "      <td>206.862333</td>\n",
       "      <td>1.284000</td>\n",
       "      <td>695.477333</td>\n",
       "      <td>65.707000</td>\n",
       "      <td>14.054333</td>\n",
       "      <td>3.911333</td>\n",
       "      <td>34.998000</td>\n",
       "    </tr>\n",
       "    <tr>\n",
       "      <th>1</th>\n",
       "      <td>E001</td>\n",
       "      <td>5</td>\n",
       "      <td>2</td>\n",
       "      <td>23</td>\n",
       "      <td>1</td>\n",
       "      <td>12</td>\n",
       "      <td>7</td>\n",
       "      <td>0</td>\n",
       "      <td>12</td>\n",
       "      <td>24</td>\n",
       "      <td>...</td>\n",
       "      <td>39.825333</td>\n",
       "      <td>143.756667</td>\n",
       "      <td>115.695333</td>\n",
       "      <td>202.602667</td>\n",
       "      <td>0.585000</td>\n",
       "      <td>462.054667</td>\n",
       "      <td>69.040000</td>\n",
       "      <td>14.117333</td>\n",
       "      <td>6.255000</td>\n",
       "      <td>35.544333</td>\n",
       "    </tr>\n",
       "    <tr>\n",
       "      <th>2</th>\n",
       "      <td>E002</td>\n",
       "      <td>1</td>\n",
       "      <td>2</td>\n",
       "      <td>38</td>\n",
       "      <td>1</td>\n",
       "      <td>14</td>\n",
       "      <td>17</td>\n",
       "      <td>14</td>\n",
       "      <td>31</td>\n",
       "      <td>122</td>\n",
       "      <td>...</td>\n",
       "      <td>20.052000</td>\n",
       "      <td>22.006000</td>\n",
       "      <td>50.182000</td>\n",
       "      <td>32.529333</td>\n",
       "      <td>2.499333</td>\n",
       "      <td>104.717000</td>\n",
       "      <td>92.789333</td>\n",
       "      <td>11.013333</td>\n",
       "      <td>0.945667</td>\n",
       "      <td>35.086000</td>\n",
       "    </tr>\n",
       "    <tr>\n",
       "      <th>3</th>\n",
       "      <td>E002</td>\n",
       "      <td>2</td>\n",
       "      <td>2</td>\n",
       "      <td>38</td>\n",
       "      <td>1</td>\n",
       "      <td>13</td>\n",
       "      <td>36</td>\n",
       "      <td>16</td>\n",
       "      <td>32</td>\n",
       "      <td>139</td>\n",
       "      <td>...</td>\n",
       "      <td>20.201667</td>\n",
       "      <td>55.579000</td>\n",
       "      <td>84.441000</td>\n",
       "      <td>18.754000</td>\n",
       "      <td>5.803000</td>\n",
       "      <td>158.774333</td>\n",
       "      <td>85.980667</td>\n",
       "      <td>12.608333</td>\n",
       "      <td>0.785667</td>\n",
       "      <td>36.141000</td>\n",
       "    </tr>\n",
       "    <tr>\n",
       "      <th>4</th>\n",
       "      <td>E002</td>\n",
       "      <td>3</td>\n",
       "      <td>2</td>\n",
       "      <td>38</td>\n",
       "      <td>1</td>\n",
       "      <td>7</td>\n",
       "      <td>10</td>\n",
       "      <td>11</td>\n",
       "      <td>23</td>\n",
       "      <td>70</td>\n",
       "      <td>...</td>\n",
       "      <td>74.788000</td>\n",
       "      <td>182.229000</td>\n",
       "      <td>530.565667</td>\n",
       "      <td>546.574000</td>\n",
       "      <td>1.685667</td>\n",
       "      <td>1259.368667</td>\n",
       "      <td>84.368667</td>\n",
       "      <td>14.285667</td>\n",
       "      <td>0.648000</td>\n",
       "      <td>35.879000</td>\n",
       "    </tr>\n",
       "  </tbody>\n",
       "</table>\n",
       "<p>5 rows × 93 columns</p>\n",
       "</div>"
      ],
      "text/plain": [
       "    sub  VISIT  disorder  age  gender  HAMD  HAMA  PDSS  ASI  APPQ  ...  \\\n",
       "0  E001      4         2   23       1     2     2     1   12    22  ...   \n",
       "1  E001      5         2   23       1    12     7     0   12    24  ...   \n",
       "2  E002      1         2   38       1    14    17    14   31   122  ...   \n",
       "3  E002      2         2   38       1    13    36    16   32   139  ...   \n",
       "4  E002      3         2   38       1     7    10    11   23    70  ...   \n",
       "\n",
       "      cRMSSD        cVLF         cLF         cHF    cLF/HF       cPOWER  \\\n",
       "0  41.544667  190.107000  298.508333  206.862333  1.284000   695.477333   \n",
       "1  39.825333  143.756667  115.695333  202.602667  0.585000   462.054667   \n",
       "2  20.052000   22.006000   50.182000   32.529333  2.499333   104.717000   \n",
       "3  20.201667   55.579000   84.441000   18.754000  5.803000   158.774333   \n",
       "4  74.788000  182.229000  530.565667  546.574000  1.685667  1259.368667   \n",
       "\n",
       "         cHR      cRESP       cSC      cTEMP  \n",
       "0  65.707000  14.054333  3.911333  34.998000  \n",
       "1  69.040000  14.117333  6.255000  35.544333  \n",
       "2  92.789333  11.013333  0.945667  35.086000  \n",
       "3  85.980667  12.608333  0.785667  36.141000  \n",
       "4  84.368667  14.285667  0.648000  35.879000  \n",
       "\n",
       "[5 rows x 93 columns]"
      ]
     },
     "execution_count": 186,
     "metadata": {},
     "output_type": "execute_result"
    }
   ],
   "source": [
    "### data shape, variables check\n",
    "print(\"The shape of the HRV dataset is:\",data_ori.shape)\n",
    "# print(public.columns)\n",
    "data_ori.head()"
   ]
  },
  {
   "cell_type": "code",
   "execution_count": 187,
   "id": "62e8d96b-5bc3-4ee3-b9b8-4318c8b4ffd1",
   "metadata": {},
   "outputs": [],
   "source": [
    "# data_ori.columns"
   ]
  },
  {
   "cell_type": "code",
   "execution_count": 188,
   "id": "d0edc4b1-37db-4c95-ad24-e143b4094011",
   "metadata": {},
   "outputs": [
    {
     "name": "stdout",
     "output_type": "stream",
     "text": [
      "The number of rows that contains at least one missing value: 0\n"
     ]
    }
   ],
   "source": [
    "# 결측값이 하나라도 있는 행의 개수 확인\n",
    "num_missing_rows = data_ori.isna().any(axis=1).sum()\n",
    "\n",
    "print(f\"The number of rows that contains at least one missing value: {num_missing_rows}\")"
   ]
  },
  {
   "cell_type": "code",
   "execution_count": 189,
   "id": "23be1a87-7e16-4d59-8bb7-0caa1b23ac11",
   "metadata": {},
   "outputs": [
    {
     "data": {
      "text/plain": [
       "Index(['sub', 'VISIT', 'disorder', 'age', 'gender', 'HAMD', 'HAMA', 'PDSS',\n",
       "       'ASI', 'APPQ', 'PSWQ', 'SPI', 'PSS', 'BIS', 'SSI', 'b1SDNN', 'b1NN50',\n",
       "       'b1PNN50', 'b1RMSSD', 'b1VLF', 'b1LF', 'b1HF', 'b1LF/HF', 'b1POWER',\n",
       "       'b1HR', 'b1RESP', 'b1SC', 'b1TEMP', 'sSDNN', 'sNN50', 'sPNN50',\n",
       "       'sRMSSD', 'sVLF', 'sLF', 'sHF', 'sLF/HF', 'sPOWER', 'sHR', 'sRESP',\n",
       "       'sSC', 'sTEMP', 'b2SDNN', 'b2NN50', 'b2PNN50', 'b2RMSSD', 'b2VLF',\n",
       "       'b2LF', 'b2HF', 'b2LF/HF', 'b2POWER', 'b2HR', 'b2RESP', 'b2SC',\n",
       "       'b2TEMP', 'rSDNN', 'rNN50', 'rPNN50', 'rRMSSD', 'rVLF', 'rLF', 'rHF',\n",
       "       'rLF/HF', 'rPOWER', 'rHR', 'rRESP', 'rSC', 'rTEMP', 'b3SDNN', 'b3NN50',\n",
       "       'b3PNN50', 'b3RMSSD', 'b3VLF', 'b3LF', 'b3HF', 'b3LF/HF', 'b3POWER',\n",
       "       'b3HR', 'b3RESP', 'b3SC', 'b3TEMP', 'cSDNN', 'cNN50', 'cPNN50',\n",
       "       'cRMSSD', 'cVLF', 'cLF', 'cHF', 'cLF/HF', 'cPOWER', 'cHR', 'cRESP',\n",
       "       'cSC', 'cTEMP'],\n",
       "      dtype='object')"
      ]
     },
     "execution_count": 189,
     "metadata": {},
     "output_type": "execute_result"
    }
   ],
   "source": [
    "data_ori.columns"
   ]
  },
  {
   "cell_type": "code",
   "execution_count": 199,
   "id": "029454ee-3089-4289-bf07-769db6b83af1",
   "metadata": {},
   "outputs": [],
   "source": [
    "# data_ori['disorder_mdd'] = 0"
   ]
  },
  {
   "cell_type": "code",
   "execution_count": 198,
   "id": "61b4d8dc-2201-439d-91e4-f3e6d15e0732",
   "metadata": {},
   "outputs": [],
   "source": [
    "# ## Categorizing HAMD scores to generate 'disorder_mdd' label variable.\n",
    "# data_ori.loc[data_ori['HAMD']<7, 'disorder_mdd'] = \"normal\"\n",
    "# data_ori.loc[(data_ori['HAMD']>=7) & (data_ori['HAMD']<18), 'disorder_mdd'] = \"mild\"\n",
    "# data_ori.loc[data_ori['HAMD']>=18, 'disorder_mdd'] = \"mod_severe\""
   ]
  },
  {
   "cell_type": "code",
   "execution_count": null,
   "id": "b0e458f7-5a29-405f-9348-716b0875c1e1",
   "metadata": {},
   "outputs": [],
   "source": [
    "## Categorizing HAMD scores to generate 'disorder_mdd' label variable.\n",
    "# data_ori.loc[data_ori['HAMD']<7, 'disorder_mdd'] = \"normal\"\n",
    "# data_ori.loc[(data_ori['HAMD']>=7) & (data_ori['HAMD']<18), 'disorder_mdd'] = \"mild\"\n",
    "# data_ori.loc[(data_ori['HAMD']>=18) & (data_ori['HAMD']<25), 'disorder_mdd'] = \"moderate\"\n",
    "# data_ori.loc[data_ori['HAMD']>=25, 'disorder_mdd'] = \"severe\""
   ]
  },
  {
   "cell_type": "code",
   "execution_count": 197,
   "id": "8283bc1a-ff86-422c-9f39-1f9243833585",
   "metadata": {},
   "outputs": [],
   "source": [
    "# data_ori['disorder_mdd'].value_counts()"
   ]
  },
  {
   "cell_type": "code",
   "execution_count": 196,
   "id": "d2520ee0-f3ef-4572-8353-d42e2a5f159f",
   "metadata": {},
   "outputs": [],
   "source": [
    "# data_ori.to_csv('E:/RESEARCH/Datasets/HRV/HRV_samsung/HRV_REV_processed.csv', index=False)"
   ]
  },
  {
   "cell_type": "code",
   "execution_count": null,
   "id": "291d23eb-4839-4604-a326-455257bd4238",
   "metadata": {},
   "outputs": [],
   "source": []
  },
  {
   "cell_type": "markdown",
   "id": "982b802a-4ed2-406b-9670-6beb1129acf0",
   "metadata": {},
   "source": [
    "> Target value is \"disorder\" variable. \\\n",
    "> 1: major depressive disorder, 2: panic disorder, 3: control"
   ]
  },
  {
   "cell_type": "code",
   "execution_count": 42,
   "id": "351ecf4b-88c2-4e10-8dda-753a4b137391",
   "metadata": {},
   "outputs": [],
   "source": [
    "data_ori['disorder'] = data_ori['disorder'].replace({1: 'mdd'})\n",
    "data_ori['disorder'] = data_ori['disorder'].replace({2: 'pd'})\n",
    "data_ori['disorder'] = data_ori['disorder'].replace({3: 'con'})"
   ]
  },
  {
   "cell_type": "code",
   "execution_count": 43,
   "id": "d6981a7e-29ff-44e0-b2df-5047d1463e11",
   "metadata": {},
   "outputs": [],
   "source": [
    "info_list = ['sub', 'VISIT', 'age', 'gender', 'disorder']\n",
    "scale_list = ['HAMD', 'HAMA', 'PDSS', 'ASI', 'APPQ', 'PSWQ', 'SPI', 'PSS', 'BIS', 'SSI']\n",
    "drop_list = info_list + scale_list"
   ]
  },
  {
   "cell_type": "code",
   "execution_count": 44,
   "id": "c5fab46a-cdd3-4de5-b938-2e6dc9e23955",
   "metadata": {
    "scrolled": true
   },
   "outputs": [],
   "source": [
    "x = data_ori.drop(drop_list, axis=1)\n",
    "y = data_ori.disorder"
   ]
  },
  {
   "cell_type": "code",
   "execution_count": 45,
   "id": "c1cda33a-ffbb-4f88-8eb5-652580e74251",
   "metadata": {},
   "outputs": [
    {
     "data": {
      "text/plain": [
       "disorder\n",
       "con    194\n",
       "pd     149\n",
       "mdd    136\n",
       "Name: count, dtype: int64"
      ]
     },
     "execution_count": 45,
     "metadata": {},
     "output_type": "execute_result"
    }
   ],
   "source": [
    "y.value_counts()"
   ]
  },
  {
   "cell_type": "code",
   "execution_count": 46,
   "id": "8c337fef-4108-4247-9d6e-e33b86e33bcc",
   "metadata": {},
   "outputs": [
    {
     "data": {
      "text/plain": [
       "Index(['b1SDNN', 'b1NN50', 'b1PNN50', 'b1RMSSD', 'b1VLF', 'b1LF', 'b1HF',\n",
       "       'b1LF/HF', 'b1POWER', 'b1HR', 'b1RESP', 'b1SC', 'b1TEMP', 'sSDNN',\n",
       "       'sNN50', 'sPNN50', 'sRMSSD', 'sVLF', 'sLF', 'sHF', 'sLF/HF', 'sPOWER',\n",
       "       'sHR', 'sRESP', 'sSC', 'sTEMP', 'b2SDNN', 'b2NN50', 'b2PNN50',\n",
       "       'b2RMSSD', 'b2VLF', 'b2LF', 'b2HF', 'b2LF/HF', 'b2POWER', 'b2HR',\n",
       "       'b2RESP', 'b2SC', 'b2TEMP', 'rSDNN', 'rNN50', 'rPNN50', 'rRMSSD',\n",
       "       'rVLF', 'rLF', 'rHF', 'rLF/HF', 'rPOWER', 'rHR', 'rRESP', 'rSC',\n",
       "       'rTEMP', 'b3SDNN', 'b3NN50', 'b3PNN50', 'b3RMSSD', 'b3VLF', 'b3LF',\n",
       "       'b3HF', 'b3LF/HF', 'b3POWER', 'b3HR', 'b3RESP', 'b3SC', 'b3TEMP',\n",
       "       'cSDNN', 'cNN50', 'cPNN50', 'cRMSSD', 'cVLF', 'cLF', 'cHF', 'cLF/HF',\n",
       "       'cPOWER', 'cHR', 'cRESP', 'cSC', 'cTEMP'],\n",
       "      dtype='object')"
      ]
     },
     "execution_count": 46,
     "metadata": {},
     "output_type": "execute_result"
    }
   ],
   "source": [
    "x.columns"
   ]
  },
  {
   "cell_type": "code",
   "execution_count": null,
   "id": "f555749f-77de-4bf9-be81-e2b0239021c5",
   "metadata": {},
   "outputs": [],
   "source": []
  },
  {
   "cell_type": "code",
   "execution_count": null,
   "id": "6661893e-3c72-4264-89d8-39a34bffeead",
   "metadata": {},
   "outputs": [],
   "source": []
  },
  {
   "cell_type": "code",
   "execution_count": null,
   "id": "d990b52e-f0f1-4e37-8e78-52ad9acdc13d",
   "metadata": {},
   "outputs": [],
   "source": []
  },
  {
   "cell_type": "markdown",
   "id": "1a790933-91fd-4c5e-81b8-7fbf723533cf",
   "metadata": {},
   "source": [
    "--------------"
   ]
  },
  {
   "cell_type": "markdown",
   "id": "2c1cd5d4-ff8e-4c15-b42f-276833e80bec",
   "metadata": {},
   "source": [
    "----------"
   ]
  },
  {
   "cell_type": "markdown",
   "id": "b22dbbc0-3dd7-4fd0-9041-e53865ff384f",
   "metadata": {
    "jp-MarkdownHeadingCollapsed": true
   },
   "source": [
    "## 1D VAE model"
   ]
  },
  {
   "cell_type": "code",
   "execution_count": 33,
   "id": "50a5fc2f-5de0-45ad-bac9-4e89fb3858bc",
   "metadata": {},
   "outputs": [
    {
     "data": {
      "text/plain": [
       "disorder\n",
       "con    194\n",
       "pd     149\n",
       "mdd    136\n",
       "Name: count, dtype: int64"
      ]
     },
     "execution_count": 33,
     "metadata": {},
     "output_type": "execute_result"
    }
   ],
   "source": [
    "data_ori[\"disorder\"].value_counts()"
   ]
  },
  {
   "cell_type": "code",
   "execution_count": 34,
   "id": "bd2dc052-757c-47e2-bf1e-84aac82b1857",
   "metadata": {},
   "outputs": [],
   "source": [
    "data = data_ori"
   ]
  },
  {
   "cell_type": "code",
   "execution_count": 35,
   "id": "fb6d7157-98be-41dd-86a7-f5608e50c9b6",
   "metadata": {},
   "outputs": [],
   "source": [
    "data_con = data[data['disorder']==\"con\"]\n",
    "data_pd = data[data['disorder']==\"pd\"]\n",
    "data_mdd = data[data['disorder']==\"mdd\"]"
   ]
  },
  {
   "cell_type": "code",
   "execution_count": null,
   "id": "12d7aefa-d3f3-4d5f-bb6b-5263c40e8385",
   "metadata": {},
   "outputs": [],
   "source": [
    "class Args:\n",
    "    # arugments\n",
    "    epochs=100\n",
    "    bs=32\n",
    "    lr=0.0001\n",
    "    momentum=0.9\n",
    "    num_classes= 2\n",
    "    latent_dim = 16\n",
    "    inter_dim1 = 32\n",
    "    inter_dim2 = 16\n",
    "    seed=710674\n",
    "\n",
    "args = Args()\n",
    "\n",
    "# np.random.seed(args.seed)\n",
    "# random.seed(args.seed)\n",
    "# torch.manual_seed(args.seed)"
   ]
  },
  {
   "cell_type": "code",
   "execution_count": null,
   "id": "cdac6636-66e6-4194-8e90-25f21f60fdca",
   "metadata": {},
   "outputs": [],
   "source": [
    "data_vae = data_ori.copy()\n",
    "# data_vae = data_B.copy()\n",
    "# data_vae = data_M.copy()"
   ]
  },
  {
   "cell_type": "code",
   "execution_count": null,
   "id": "d7b48ca5-a07f-42f4-9d40-7b143478eeba",
   "metadata": {},
   "outputs": [],
   "source": []
  },
  {
   "cell_type": "code",
   "execution_count": null,
   "id": "12d39bed-71f2-4507-9f4f-376b86c809eb",
   "metadata": {},
   "outputs": [],
   "source": [
    "# y includes our labels and x includes our features\n",
    "y = data_vae.diagnosis  # M or B \n",
    "list = ['Unnamed: 32','id','diagnosis']\n",
    "x = data_vae.drop(list, axis = 1 )"
   ]
  },
  {
   "cell_type": "code",
   "execution_count": null,
   "id": "09086341-79a5-42d2-9c62-088c32dea8ef",
   "metadata": {},
   "outputs": [],
   "source": [
    "data_x = x.copy()"
   ]
  },
  {
   "cell_type": "code",
   "execution_count": null,
   "id": "524e3647-f052-4e44-b5fc-73f153fd3a75",
   "metadata": {},
   "outputs": [],
   "source": [
    "scaler = MinMaxScaler() #set the scaler (between 0 and 1)\n",
    "\n",
    "data_x[:] = scaler.fit_transform(data_x[:])\n",
    "data_x = data_x.round(decimals=5)"
   ]
  },
  {
   "cell_type": "code",
   "execution_count": null,
   "id": "c7f7d668-6ba5-44fc-a463-5c66cd965559",
   "metadata": {},
   "outputs": [],
   "source": [
    "# data_x = (data_x - np.mean(data_x, axis=0)) / np.std(data_x, axis=0)  # 데이터 정규화"
   ]
  },
  {
   "cell_type": "code",
   "execution_count": null,
   "id": "bd40a717-61f2-449d-8d81-ea1a190611ad",
   "metadata": {},
   "outputs": [],
   "source": [
    "# data_x.head()"
   ]
  },
  {
   "cell_type": "code",
   "execution_count": null,
   "id": "65e6e505-c59d-4ba3-80a8-d58a840b114f",
   "metadata": {},
   "outputs": [],
   "source": [
    "# # 데이터 확인\n",
    "# print(np.isnan(data_x).any())  # False여야 합니다.\n",
    "# print(np.isinf(data_x).any())  # False여야 합니다."
   ]
  },
  {
   "cell_type": "code",
   "execution_count": null,
   "id": "dc39eed2-d4fb-448e-9cbf-d14e467e66b7",
   "metadata": {},
   "outputs": [],
   "source": []
  },
  {
   "cell_type": "code",
   "execution_count": null,
   "id": "1797bc62-f35f-42d0-ad19-31211eb9d102",
   "metadata": {},
   "outputs": [],
   "source": [
    "# data_x = data_x.fillna(data_x.mean())"
   ]
  },
  {
   "cell_type": "code",
   "execution_count": null,
   "id": "b9dad4bb-241a-479b-9c41-fb3a77d519c5",
   "metadata": {},
   "outputs": [],
   "source": [
    "### breast cancer wisconsin ####### BINARY CLASSIFICATION ##########\n",
    "\n",
    "label = y\n",
    "label = label.replace({'B':0})\n",
    "label = label.replace({'M': 1})\n",
    "\n",
    "data_y = to_categorical(label, 2) ## into the format of one-hot encoding"
   ]
  },
  {
   "cell_type": "code",
   "execution_count": null,
   "id": "bce530e4-07f7-49d5-be98-a0692741743b",
   "metadata": {},
   "outputs": [],
   "source": [
    "print(\"The size of x dataset is:\", data_x.shape)\n",
    "print(\"The size of y dataset is:\", data_y.shape)"
   ]
  },
  {
   "cell_type": "code",
   "execution_count": null,
   "id": "eec8c330-9e7d-4339-be91-ca88cde8972d",
   "metadata": {},
   "outputs": [],
   "source": []
  },
  {
   "cell_type": "markdown",
   "id": "23b35b53-940b-4df3-bb98-e0240d633a3b",
   "metadata": {},
   "source": [
    "### encoder networks"
   ]
  },
  {
   "cell_type": "code",
   "execution_count": null,
   "id": "aa3e8a98-14ac-4085-b902-e503894cb035",
   "metadata": {},
   "outputs": [],
   "source": [
    "input_dim = data_x.shape[1]\n",
    "latent_dim = 2\n",
    "\n",
    "inputs = Input(shape=(input_dim,))\n",
    "h = Dense(32, activation='relu')(inputs)\n",
    "z_mean = Dense(latent_dim)(h)\n",
    "z_log_var = Dense(latent_dim)(h)"
   ]
  },
  {
   "cell_type": "code",
   "execution_count": null,
   "id": "1f3bb7a3-77ad-4941-ad8a-2dd48c0414c1",
   "metadata": {},
   "outputs": [],
   "source": [
    "# ## deeper model\n",
    "# input_dim = data_x.shape[1]\n",
    "# latent_dim = 2  \n",
    "\n",
    "# inputs = Input(shape=(input_dim,))\n",
    "# h = Dense(128, activation='relu')(inputs)\n",
    "# h = Dense(64, activation='relu')(h)\n",
    "# h = Dense(32, activation='relu')(h)\n",
    "# z_mean = Dense(latent_dim)(h)\n",
    "# z_log_var = Dense(latent_dim)(h)"
   ]
  },
  {
   "cell_type": "code",
   "execution_count": null,
   "id": "0311ff14-270e-4eea-b1a1-055308c26ad6",
   "metadata": {},
   "outputs": [],
   "source": [
    "## latent space sampling\n",
    "def sampling(args):\n",
    "    z_mean, z_log_var = args\n",
    "    batch = K.shape(z_mean)[0]\n",
    "    dim = K.int_shape(z_mean)[1]\n",
    "    epsilon = K.random_normal(shape=(batch, dim))\n",
    "    return z_mean + K.exp(0.5 * z_log_var) * epsilon\n",
    "\n",
    "z = Lambda(sampling, output_shape=(latent_dim,))([z_mean, z_log_var])"
   ]
  },
  {
   "cell_type": "code",
   "execution_count": null,
   "id": "031e60ad-8687-4742-8cbe-5aa58ff3c1b7",
   "metadata": {},
   "outputs": [],
   "source": []
  },
  {
   "cell_type": "markdown",
   "id": "2d29a877-184a-48bc-993f-b1b4707c77eb",
   "metadata": {},
   "source": [
    "### decoder networks"
   ]
  },
  {
   "cell_type": "code",
   "execution_count": null,
   "id": "e89921c8-f2dc-4037-be6a-6d8cf320971a",
   "metadata": {},
   "outputs": [],
   "source": [
    "decoder_h = Dense(32, activation='relu')\n",
    "decoder_mean = Dense(input_dim, activation='sigmoid')\n",
    "\n",
    "h_decoded = decoder_h(z)\n",
    "x_decoded_mean = decoder_mean(h_decoded)"
   ]
  },
  {
   "cell_type": "code",
   "execution_count": null,
   "id": "66a82c62-6e49-4112-9c12-4c6ea2107a4d",
   "metadata": {},
   "outputs": [],
   "source": [
    "# ## deeper model\n",
    "# decoder_h1 = Dense(32, activation='relu')\n",
    "# decoder_h2 = Dense(64, activation='relu')\n",
    "# decoder_h3 = Dense(128, activation='relu')\n",
    "# decoder_mean = Dense(input_dim, activation='sigmoid')\n",
    "\n",
    "# h_decoded = decoder_h1(z)\n",
    "# h_decoded = decoder_h2(h_decoded)\n",
    "# h_decoded = decoder_h3(h_decoded)\n",
    "# x_decoded_mean = decoder_mean(h_decoded)"
   ]
  },
  {
   "cell_type": "code",
   "execution_count": null,
   "id": "6249ff44-6da9-4269-8421-59745cf7db8a",
   "metadata": {},
   "outputs": [],
   "source": []
  },
  {
   "cell_type": "markdown",
   "id": "4706c3cb-8a06-4464-85d4-1fb828e520c4",
   "metadata": {},
   "source": [
    "### model define"
   ]
  },
  {
   "cell_type": "code",
   "execution_count": null,
   "id": "cd88c0ef-4c9f-4046-8475-f3717971ce6c",
   "metadata": {},
   "outputs": [],
   "source": [
    "vae = Model(inputs, x_decoded_mean)\n",
    "vae.summary()"
   ]
  },
  {
   "cell_type": "code",
   "execution_count": null,
   "id": "6e65e374-a6ec-4283-9adb-46d7a0f06297",
   "metadata": {},
   "outputs": [],
   "source": []
  },
  {
   "cell_type": "markdown",
   "id": "32ff67c6-a4fc-4d09-8096-14908b074648",
   "metadata": {},
   "source": [
    "### loss function"
   ]
  },
  {
   "cell_type": "code",
   "execution_count": null,
   "id": "6f2b4d87-9753-4d54-8847-0423716328d6",
   "metadata": {},
   "outputs": [],
   "source": [
    "reconstruction_loss = MeanSquaredError()(inputs, x_decoded_mean)\n",
    "\n",
    "kl_loss = -0.5 * K.sum(1 + z_log_var - K.square(z_mean) - K.exp(z_log_var + K.epsilon()), axis=-1)\n",
    "vae_loss = K.mean(reconstruction_loss + kl_loss)\n",
    "vae.add_loss(vae_loss)"
   ]
  },
  {
   "cell_type": "code",
   "execution_count": null,
   "id": "eabac77c-2904-42d3-8320-dd13ee78bf71",
   "metadata": {},
   "outputs": [],
   "source": [
    "vae.compile(optimizer=Adam(learning_rate=0.001))"
   ]
  },
  {
   "cell_type": "code",
   "execution_count": null,
   "id": "c2cc6b33-1e6b-4465-b1d6-0b135a925546",
   "metadata": {
    "scrolled": true
   },
   "outputs": [],
   "source": [
    "vae.summary()"
   ]
  },
  {
   "cell_type": "code",
   "execution_count": null,
   "id": "b1139155-02ee-404f-956d-e7af3f896887",
   "metadata": {},
   "outputs": [],
   "source": []
  },
  {
   "cell_type": "markdown",
   "id": "e1d0f859-8828-42e2-8883-45626e7510cc",
   "metadata": {},
   "source": [
    "### model training"
   ]
  },
  {
   "cell_type": "code",
   "execution_count": null,
   "id": "a4fa97a2-a9c2-4ba4-8c9b-aa9fb1346bf9",
   "metadata": {
    "scrolled": true
   },
   "outputs": [],
   "source": [
    "vae.fit(data_x, epochs=args.epochs, batch_size=args.bs, validation_split=0.2, verbose=2)"
   ]
  },
  {
   "cell_type": "code",
   "execution_count": null,
   "id": "72bf17c1-399b-4ea8-adbc-cd9d53cb9b9e",
   "metadata": {},
   "outputs": [],
   "source": []
  },
  {
   "cell_type": "markdown",
   "id": "21917c75-57e8-431a-9131-5a6fc6bc9475",
   "metadata": {},
   "source": [
    "### extracting encoder, decoder"
   ]
  },
  {
   "cell_type": "code",
   "execution_count": null,
   "id": "6d8c7750-7601-4938-a7ee-24580cb9673d",
   "metadata": {},
   "outputs": [],
   "source": [
    "## encoder model extraction\n",
    "encoder = Model(inputs, z_mean)"
   ]
  },
  {
   "cell_type": "code",
   "execution_count": null,
   "id": "4a028027-249b-4217-a3c4-789257cfbd38",
   "metadata": {
    "scrolled": true
   },
   "outputs": [],
   "source": [
    "## decoder model extraction\n",
    "decoder_input = Input(shape=(latent_dim,))\n",
    "_h_decoded = decoder_h(decoder_input)\n",
    "_x_decoded_mean = decoder_mean(_h_decoded)\n",
    "decoder = Model(decoder_input, _x_decoded_mean)\n",
    "\n",
    "# #### deeper model\n",
    "# decoder_input = Input(shape=(latent_dim,))\n",
    "# _h_decoded = decoder_h1(decoder_input)\n",
    "# _h_decoded = decoder_h2(_h_decoded)\n",
    "# _h_decoded = decoder_h3(_h_decoded)\n",
    "# _x_decoded_mean = decoder_mean(_h_decoded)\n",
    "# decoder = Model(decoder_input, _x_decoded_mean)"
   ]
  },
  {
   "cell_type": "code",
   "execution_count": null,
   "id": "6a9c88cd-baa4-4b43-9a63-1500699ec2d8",
   "metadata": {},
   "outputs": [],
   "source": []
  },
  {
   "cell_type": "code",
   "execution_count": null,
   "id": "93d1dedb-9b45-4ccd-8603-e019b2df6c3f",
   "metadata": {},
   "outputs": [],
   "source": []
  },
  {
   "cell_type": "code",
   "execution_count": null,
   "id": "45e4febe-4954-4b1d-8768-dd75cbdf5ac7",
   "metadata": {},
   "outputs": [],
   "source": [
    "# # 입력 데이터를 잠재 공간으로 인코딩\n",
    "# encoded_data = encoder.predict(data_x)\n",
    "\n",
    "# # 잠재 공간의 데이터를 디코딩하여 원래 공간으로 복원\n",
    "# decoded_data = decoder.predict(encoded_data)"
   ]
  },
  {
   "cell_type": "code",
   "execution_count": null,
   "id": "45f3d3a5-ca1e-4b91-a9f8-3263b335f9a5",
   "metadata": {},
   "outputs": [],
   "source": []
  },
  {
   "cell_type": "markdown",
   "id": "d41ae535-2ade-4963-a709-d96f43475e01",
   "metadata": {},
   "source": [
    "### Latent space visualization"
   ]
  },
  {
   "cell_type": "code",
   "execution_count": null,
   "id": "141ff885-bf32-4cd4-85e5-5008bd2b4728",
   "metadata": {},
   "outputs": [],
   "source": [
    "## encode the input dataset into latent space\n",
    "encoded_data = encoder.predict(data_x)\n",
    "\n",
    "## latent space transform with t-SNE function\n",
    "tsne = TSNE(n_components=2, random_state=710674)\n",
    "encoded_data_tsne = tsne.fit_transform(encoded_data)\n",
    "\n",
    "## visualize\n",
    "plt.figure(figsize=(8, 6))\n",
    "plt.scatter(encoded_data_tsne[:, 0], encoded_data_tsne[:, 1], c=label, cmap='viridis')\n",
    "plt.colorbar()\n",
    "plt.xlabel(\"t-SNE component 1\")\n",
    "plt.ylabel(\"t-SNE component 2\")\n",
    "plt.title(\"t-SNE visualization of the latent space\")\n",
    "plt.show()"
   ]
  },
  {
   "cell_type": "code",
   "execution_count": null,
   "id": "32e235a2-97e6-477d-a78e-2d0ab44bd129",
   "metadata": {},
   "outputs": [],
   "source": []
  },
  {
   "cell_type": "code",
   "execution_count": null,
   "id": "2fb4121a-9bdd-4b39-b752-ad3afe3b8ff4",
   "metadata": {},
   "outputs": [],
   "source": []
  },
  {
   "cell_type": "markdown",
   "id": "a782e6f7-f737-4dc9-9265-df31bd7a7e15",
   "metadata": {},
   "source": [
    "### Synthetic data generation"
   ]
  },
  {
   "cell_type": "code",
   "execution_count": null,
   "id": "c9551af0-3f19-4527-aef1-096873d7d7cb",
   "metadata": {},
   "outputs": [],
   "source": [
    "### sampling randomly from latent space\n",
    "# n_samples = 212  # number of synthetic dataset to generate (generate size for gen_B)\n",
    "n_samples = 357  # number of synthetic dataset to generate (generate size for gen_M)\n",
    "\n",
    "z_samples = np.random.normal(size=(n_samples, latent_dim))\n",
    "\n",
    "### 디코더를 통해 synthetic data 생성\n",
    "# synthetic_data_B = decoder.predict(z_samples)\n",
    "synthetic_data_M = decoder.predict(z_samples)\n",
    "\n",
    "# print(\"Generated Synthetic Data:\")\n",
    "# print(synthetic_data)"
   ]
  },
  {
   "cell_type": "code",
   "execution_count": null,
   "id": "870025ea-b27b-4513-bf06-de9cc2c7e1f9",
   "metadata": {},
   "outputs": [],
   "source": [
    "# synthetic_data_B.shape\n",
    "synthetic_data_M.shape"
   ]
  },
  {
   "cell_type": "code",
   "execution_count": null,
   "id": "ebc57f3d-590a-4c0e-954c-6b983b0ce8b9",
   "metadata": {},
   "outputs": [],
   "source": [
    "# gen_B = synthetic_data_B.copy()\n",
    "# gen_B = pd.DataFrame(gen_B, columns=data_x.columns)\n",
    "\n",
    "#####################\n",
    "gen_M = synthetic_data_M.copy()\n",
    "gen_M = pd.DataFrame(gen_M, columns=data_x.columns)"
   ]
  },
  {
   "cell_type": "code",
   "execution_count": null,
   "id": "3f4e06b5-9f32-4f22-87fe-a8d2940e5e6f",
   "metadata": {},
   "outputs": [],
   "source": [
    "gen_M"
   ]
  },
  {
   "cell_type": "code",
   "execution_count": null,
   "id": "b52c0d29-8fc8-469e-9ad4-d1b5e12a8302",
   "metadata": {},
   "outputs": [],
   "source": [
    "min(gen_M.shape[0], data_x.shape[0])"
   ]
  },
  {
   "cell_type": "code",
   "execution_count": null,
   "id": "1fdf0f09-2f48-4629-a88f-3f4b8f41378c",
   "metadata": {},
   "outputs": [],
   "source": [
    "data_x_check = data_x.sample(n=(min(gen_M.shape[0], data_x.shape[0])))\n",
    "gen_check = gen_M.sample(n=(min(gen_M.shape[0], data_x.shape[0])))\n",
    "js_divergence = jensenshannon(gen_check['smoothness_mean'], data_x_check['smoothness_mean'])\n",
    "print(f'Jensen-Shannon Divergence: {js_divergence}')"
   ]
  },
  {
   "cell_type": "code",
   "execution_count": null,
   "id": "4e1892b2-d5e3-440d-93d0-8b35f3f17350",
   "metadata": {},
   "outputs": [],
   "source": []
  },
  {
   "cell_type": "markdown",
   "id": "797d6516-5f26-4afd-a1ca-21efe1021660",
   "metadata": {},
   "source": [
    "### Overall VAE data synthesizing model"
   ]
  },
  {
   "cell_type": "code",
   "execution_count": null,
   "id": "3ba3f61c-e15c-4d00-9021-f0f99f0ed00e",
   "metadata": {},
   "outputs": [],
   "source": [
    "# data_syn = data_B.copy()\n",
    "# data_syn = data_M.copy()"
   ]
  },
  {
   "cell_type": "code",
   "execution_count": null,
   "id": "dc904610-a214-45e9-b140-74b8ebd91845",
   "metadata": {},
   "outputs": [],
   "source": []
  },
  {
   "cell_type": "code",
   "execution_count": null,
   "id": "61537595-cda5-4f9c-8f3e-7ef5485f4a3f",
   "metadata": {},
   "outputs": [],
   "source": []
  },
  {
   "cell_type": "code",
   "execution_count": null,
   "id": "5b7a473d-60b7-4444-89e9-1ad422039592",
   "metadata": {},
   "outputs": [],
   "source": []
  },
  {
   "cell_type": "code",
   "execution_count": null,
   "id": "4b481637-573c-436e-be86-345309272ad2",
   "metadata": {},
   "outputs": [],
   "source": []
  },
  {
   "cell_type": "code",
   "execution_count": null,
   "id": "26ff0d62-6fc1-49f3-a942-4de6e40a1a0d",
   "metadata": {},
   "outputs": [],
   "source": []
  },
  {
   "cell_type": "markdown",
   "id": "e50635f7-443e-45af-8a07-b55c9ced68cf",
   "metadata": {},
   "source": [
    "----------"
   ]
  },
  {
   "cell_type": "markdown",
   "id": "cd232e5c-c1a7-4d8f-8144-14dc2bf64f50",
   "metadata": {},
   "source": [
    "-----------"
   ]
  },
  {
   "cell_type": "markdown",
   "id": "95a8736b-d296-4c8d-aace-9dd5d109a0cb",
   "metadata": {
    "jp-MarkdownHeadingCollapsed": true
   },
   "source": [
    "## Latent Diffusion Model"
   ]
  },
  {
   "cell_type": "markdown",
   "id": "cf26fb30-096e-4be1-9228-ed0dabc61b88",
   "metadata": {},
   "source": [
    "### encoder, decoder networks"
   ]
  },
  {
   "cell_type": "code",
   "execution_count": null,
   "id": "eb51d8f6-f44c-4a88-bda9-5f174523aa2e",
   "metadata": {},
   "outputs": [],
   "source": [
    "data = data_ori.copy()"
   ]
  },
  {
   "cell_type": "code",
   "execution_count": null,
   "id": "8ed7bcbe-6f4c-47b3-8278-ddb6515a1eaf",
   "metadata": {},
   "outputs": [],
   "source": [
    "data_B = data[data['diagnosis']==\"B\"]\n",
    "data_M = data[data['diagnosis']==\"M\"]"
   ]
  },
  {
   "cell_type": "code",
   "execution_count": null,
   "id": "0eaa4127-97d1-450c-a337-4a36177881b4",
   "metadata": {},
   "outputs": [],
   "source": [
    "# data_diffusion = data_ori.copy()\n",
    "# data_diffusion = data_B.copy()\n",
    "data_diffusion = data_M.copy()"
   ]
  },
  {
   "cell_type": "code",
   "execution_count": null,
   "id": "26da2ed4-8a40-430a-b555-5c21d0d251c6",
   "metadata": {},
   "outputs": [],
   "source": [
    "data_diffusion.shape"
   ]
  },
  {
   "cell_type": "code",
   "execution_count": null,
   "id": "d284d19e-1d56-41fc-adc6-1cf1341aa4f4",
   "metadata": {},
   "outputs": [],
   "source": [
    "# y includes our labels and x includes our features\n",
    "list = ['Unnamed: 32','id','diagnosis']\n",
    "x = data_diffusion.drop(list, axis = 1 )\n",
    "y = data_diffusion.diagnosis  # M or B "
   ]
  },
  {
   "cell_type": "code",
   "execution_count": null,
   "id": "a6a89dd1-f2cd-41e8-92ad-3a4cdcee188f",
   "metadata": {},
   "outputs": [],
   "source": [
    "data_x = x.copy()"
   ]
  },
  {
   "cell_type": "code",
   "execution_count": null,
   "id": "0e376dd1-6742-4990-afba-071a498f1664",
   "metadata": {},
   "outputs": [],
   "source": [
    "scaler = MinMaxScaler() #set the scaler (between 0 and 1)\n",
    "data_x[:] = scaler.fit_transform(data_x[:])\n",
    "data_x = data_x.round(decimals=5)"
   ]
  },
  {
   "cell_type": "code",
   "execution_count": null,
   "id": "11e3800e-8c6c-4371-b0f2-36c796444b75",
   "metadata": {},
   "outputs": [],
   "source": [
    "### breast cancer wisconsin ####### BINARY CLASSIFICATION ##########\n",
    "label = y\n",
    "label = label.replace({'B':0})\n",
    "label = label.replace({'M': 1})\n",
    "\n",
    "data_y = to_categorical(label, 2) ## into the format of one-hot encoding"
   ]
  },
  {
   "cell_type": "code",
   "execution_count": null,
   "id": "566c3d47-f7ed-4cda-966f-947ea321af07",
   "metadata": {},
   "outputs": [],
   "source": [
    "print(\"The size of x dataset is:\", data_x.shape)\n",
    "print(\"The size of y dataset is:\", data_y.shape)"
   ]
  },
  {
   "cell_type": "code",
   "execution_count": null,
   "id": "794f5494-674c-4cbd-91fc-9e9b5465e289",
   "metadata": {},
   "outputs": [],
   "source": []
  },
  {
   "cell_type": "code",
   "execution_count": null,
   "id": "90f712ee-d2a6-423c-a6a1-082a1417d319",
   "metadata": {},
   "outputs": [],
   "source": []
  },
  {
   "cell_type": "code",
   "execution_count": null,
   "id": "eefe80ac-7856-4761-aa36-e580cf9e024d",
   "metadata": {},
   "outputs": [],
   "source": [
    "# Sampling function for the latent space\n",
    "def sampling(repara):\n",
    "    z_mean, z_log_var = repara\n",
    "    batch = tf.shape(z_mean)[0]\n",
    "    dim = tf.shape(z_mean)[1]\n",
    "    epsilon = K.random_normal(shape=(batch, dim))\n",
    "    return z_mean + tf.exp(0.5 * z_log_var) * epsilon\n",
    "\n",
    "# Define encoder\n",
    "def build_encoder(input_shape, latent_dim):\n",
    "    inputs = Input(shape=input_shape)\n",
    "    x = Conv1D(32, 3, activation='relu', padding='same')(inputs)\n",
    "    x = Flatten()(x)\n",
    "    x = Dense(128, activation='relu')(x)\n",
    "    z_mean = Dense(latent_dim)(x)\n",
    "    z_log_var = Dense(latent_dim)(x)\n",
    "    return Model(inputs, [z_mean, z_log_var], name='encoder')\n",
    "\n",
    "# Define decoder\n",
    "def build_decoder(output_shape, latent_dim):\n",
    "    latent_inputs = Input(shape=(latent_dim,))\n",
    "    x = Dense(128, activation='relu')(latent_inputs)\n",
    "    x = Dense(np.prod(output_shape), activation='relu')(x)\n",
    "    x = Reshape(output_shape)(x)\n",
    "    outputs = Conv1D(1, 3, activation='sigmoid', padding='same')(x)\n",
    "    return Model(latent_inputs, outputs, name='decoder')"
   ]
  },
  {
   "cell_type": "code",
   "execution_count": null,
   "id": "407dba56-edca-46c7-a855-1d38223010ba",
   "metadata": {},
   "outputs": [],
   "source": [
    "input_shape = (data_x.shape[1], 1)  # Example input shape\n",
    "latent_dim = 16"
   ]
  },
  {
   "cell_type": "code",
   "execution_count": null,
   "id": "22d3ea48-e058-4dba-b226-ca6bfb0eb20e",
   "metadata": {},
   "outputs": [],
   "source": [
    "input_shape"
   ]
  },
  {
   "cell_type": "code",
   "execution_count": null,
   "id": "b75b2e74-1c33-412d-8922-6172b7923bfb",
   "metadata": {
    "scrolled": true
   },
   "outputs": [],
   "source": [
    "## Define the VAE\n",
    "encoder = build_encoder(input_shape, latent_dim)\n",
    "decoder = build_decoder(input_shape, latent_dim)\n",
    "\n",
    "inputs = Input(shape=input_shape)\n",
    "z_mean, z_log_var = encoder(inputs)\n",
    "z = Lambda(sampling, output_shape=(latent_dim,))([z_mean, z_log_var])\n",
    "outputs = decoder(z)\n",
    "\n",
    "vae = Model(inputs, outputs, name='vae')\n",
    "\n",
    "# Define the VAE loss\n",
    "reconstruction_loss = MeanSquaredError()(inputs, outputs)\n",
    "kl_loss = -0.5 * tf.reduce_mean(\n",
    "    z_log_var - tf.square(z_mean) - tf.exp(z_log_var) + 1)\n",
    "vae_loss = reconstruction_loss + kl_loss\n",
    "vae.add_loss(vae_loss)\n",
    "vae.compile(optimizer='adam')\n",
    "\n",
    "# vae.summary()"
   ]
  },
  {
   "cell_type": "code",
   "execution_count": null,
   "id": "537b8cf8-fab2-4966-8635-c7c89242bcf8",
   "metadata": {},
   "outputs": [],
   "source": [
    "# encoder.summary()"
   ]
  },
  {
   "cell_type": "code",
   "execution_count": null,
   "id": "2b308bb6-37a4-4050-93f0-97270447591e",
   "metadata": {},
   "outputs": [],
   "source": [
    "# decoder.summary()"
   ]
  },
  {
   "cell_type": "code",
   "execution_count": null,
   "id": "526dc914-b23c-427a-b90f-cc5e3a0dfc3d",
   "metadata": {},
   "outputs": [],
   "source": []
  },
  {
   "cell_type": "markdown",
   "id": "0cb65314-efc8-4b76-b8a9-780e86f5123a",
   "metadata": {},
   "source": [
    "### model training"
   ]
  },
  {
   "cell_type": "code",
   "execution_count": null,
   "id": "612e2eab-5606-4188-9d1b-23fdad6c2c8b",
   "metadata": {
    "scrolled": true
   },
   "outputs": [],
   "source": [
    "# Train the VAE\n",
    "vae.fit(data_x, epochs=args.epochs, validation_split=0.2, batch_size=args.bs, verbose=2)"
   ]
  },
  {
   "cell_type": "code",
   "execution_count": null,
   "id": "64dff58b-1455-47ec-b39a-64c7cd5a306e",
   "metadata": {},
   "outputs": [],
   "source": []
  },
  {
   "cell_type": "markdown",
   "id": "c44d6bbb-5d51-49b3-8a7e-c8e0cf863810",
   "metadata": {},
   "source": [
    "### extracting encoder, decoder"
   ]
  },
  {
   "cell_type": "code",
   "execution_count": null,
   "id": "628db0bc-31ed-4e59-8019-ea118be7d7fb",
   "metadata": {},
   "outputs": [],
   "source": [
    "# # Extract the encoder and decoder models\n",
    "# encoder_model = encoder\n",
    "# decoder_model = decoder"
   ]
  },
  {
   "cell_type": "code",
   "execution_count": null,
   "id": "5b6e1030-4d06-4622-b7e7-c26b233899ad",
   "metadata": {},
   "outputs": [],
   "source": [
    "# # Example of using the encoder to get the latent representation\n",
    "# example_data = np.random.rand(1, 356, 1)  # Example single data point\n",
    "# z_mean, z_log_var = encoder_model.predict(example_data)\n",
    "# z_sampled = sampling([z_mean, z_log_var])\n",
    "\n",
    "# print(\"Latent representation (z_mean):\", z_mean)\n",
    "# print(\"Latent representation (z_log_var):\", z_log_var)\n",
    "# print(\"Sampled latent vector:\", z_sampled)\n",
    "\n",
    "# # Example of using the decoder to generate data from the latent space\n",
    "# synthetic_data = decoder_model.predict(z_sampled)\n",
    "\n",
    "# print(\"Generated synthetic data:\", synthetic_data)"
   ]
  },
  {
   "cell_type": "code",
   "execution_count": null,
   "id": "bbd34e5b-9901-44a7-8934-acf9c9a1a41f",
   "metadata": {},
   "outputs": [],
   "source": []
  },
  {
   "cell_type": "markdown",
   "id": "cbca2713-32e3-4e8b-a8cb-25f3ef994a16",
   "metadata": {},
   "source": [
    "### Synthetic data generation"
   ]
  },
  {
   "cell_type": "code",
   "execution_count": null,
   "id": "b07f8a37-1f05-46e4-8acb-40522673c84e",
   "metadata": {},
   "outputs": [],
   "source": [
    "## for synthetic data generation from latent diffusion's latent space\n",
    "def latent_diffusion_data_generation(decoder, latent_dim, num_samples):\n",
    "    # sample random vectors from a standard normal distribution\n",
    "    random_vectors = np.random.normal(size=(num_samples, latent_dim))\n",
    "    # generating synthetic dataset with decoder\n",
    "    synthetic_data = decoder.predict(random_vectors)\n",
    "    return synthetic_data"
   ]
  },
  {
   "cell_type": "code",
   "execution_count": null,
   "id": "b317a453-30a1-439f-8f72-77c2cd6e8923",
   "metadata": {},
   "outputs": [],
   "source": [
    "### sampling randomly from latent space\n",
    "b_samples = 212  # number of synthetic dataset to generate (generate size for gen_B)\n",
    "m_samples = 357  # number of synthetic dataset to generate (generate size for gen_M)\n",
    "\n",
    "### generating synthetic dataset for each class\n",
    "# synthetic_data_B = latent_diffusion_data_generation(decoder, latent_dim, b_samples)\n",
    "synthetic_data_M = latent_diffusion_data_generation(decoder, latent_dim, m_samples)"
   ]
  },
  {
   "cell_type": "code",
   "execution_count": null,
   "id": "f6c79622-2f3c-49dd-a92d-73219849b788",
   "metadata": {},
   "outputs": [],
   "source": [
    "## Reshape synthetic data for Sequential model input\n",
    "# Ensure this matches the input shape of the Sequential model\n",
    "# synthetic_data_B = synthetic_data_B.reshape((synthetic_data_B.shape[0]), (synthetic_data_B.shape[1]))\n",
    "synthetic_data_M = synthetic_data_M.reshape((synthetic_data_M.shape[0]), (synthetic_data_M.shape[1]))"
   ]
  },
  {
   "cell_type": "code",
   "execution_count": null,
   "id": "4cbb37ba-0577-42fb-a279-ac8945deddb6",
   "metadata": {},
   "outputs": [],
   "source": [
    "synthetic_data_B"
   ]
  },
  {
   "cell_type": "code",
   "execution_count": null,
   "id": "2b6e8124-6323-4903-8f17-eb8ab41b9942",
   "metadata": {},
   "outputs": [],
   "source": []
  },
  {
   "cell_type": "code",
   "execution_count": null,
   "id": "d8739a57-46cf-41e0-9d4b-082dfffa3fad",
   "metadata": {},
   "outputs": [],
   "source": [
    "# gen_B = synthetic_data_B.copy()\n",
    "# gen_B = pd.DataFrame(gen_B, columns=data_x.columns)\n",
    "\n",
    "#####################\n",
    "gen_M = synthetic_data_M.copy()\n",
    "gen_M = pd.DataFrame(gen_M, columns=data_x.columns)"
   ]
  },
  {
   "cell_type": "code",
   "execution_count": null,
   "id": "f2ff6241-7e4b-4827-a1f6-44ba65133932",
   "metadata": {},
   "outputs": [],
   "source": []
  },
  {
   "cell_type": "code",
   "execution_count": null,
   "id": "78a2a4f1-fb5d-483f-8b47-ce07592faa00",
   "metadata": {},
   "outputs": [],
   "source": []
  },
  {
   "cell_type": "markdown",
   "id": "e981c57e-13b4-4b5e-aa19-c6cfe91c989a",
   "metadata": {},
   "source": [
    "---------"
   ]
  },
  {
   "cell_type": "markdown",
   "id": "6b774b0d-996a-492a-8930-56b8498703c4",
   "metadata": {},
   "source": [
    "-----------"
   ]
  },
  {
   "cell_type": "markdown",
   "id": "e2d74df3-ad0e-4d1e-903f-ba88f4613b8e",
   "metadata": {},
   "source": [
    "## DNN classification/prediction"
   ]
  },
  {
   "cell_type": "markdown",
   "id": "bf3ea892-6b25-42dc-a749-143b32efbea8",
   "metadata": {},
   "source": [
    "### using original dataset only"
   ]
  },
  {
   "cell_type": "code",
   "execution_count": 51,
   "id": "4851cfaf-d396-4468-bbff-532d0986eff7",
   "metadata": {},
   "outputs": [],
   "source": [
    "# x.head()\n",
    "# y.head()"
   ]
  },
  {
   "cell_type": "code",
   "execution_count": 90,
   "id": "85d9b8ec-8611-476f-b2d6-d21d0051d06b",
   "metadata": {},
   "outputs": [],
   "source": [
    "# y.value_counts()"
   ]
  },
  {
   "cell_type": "code",
   "execution_count": 133,
   "id": "8cebe846-b2bb-42c6-9a32-f5a60134c0b0",
   "metadata": {},
   "outputs": [],
   "source": [
    "ori_x = x.copy()"
   ]
  },
  {
   "cell_type": "code",
   "execution_count": 134,
   "id": "743b9708-ebb7-45d7-99da-7f986d60c6e5",
   "metadata": {},
   "outputs": [],
   "source": [
    "scaler = MinMaxScaler() #set the scaler (between 0 and 1)\n",
    "\n",
    "ori_x[:] = scaler.fit_transform(ori_x[:])\n",
    "ori_x = ori_x.round(decimals=5)"
   ]
  },
  {
   "cell_type": "code",
   "execution_count": 135,
   "id": "7fe5a711-4542-4a26-bc00-87156add14fe",
   "metadata": {},
   "outputs": [],
   "source": [
    "########## 3-CLASS CLASSIFICATION ##########\n",
    "label = y.copy()\n",
    "label = label.replace({'con': 0})\n",
    "label = label.replace({'pd': 1})\n",
    "label = label.replace({'mdd': 2})\n",
    "\n",
    "ori_y = to_categorical(label, 3) ## into the format of one-hot encoding"
   ]
  },
  {
   "cell_type": "code",
   "execution_count": 136,
   "id": "66d214c4-026e-4d1e-94ad-cb540c1b539c",
   "metadata": {},
   "outputs": [
    {
     "data": {
      "text/plain": [
       "(479, 78)"
      ]
     },
     "execution_count": 136,
     "metadata": {},
     "output_type": "execute_result"
    }
   ],
   "source": [
    "ori_x.shape"
   ]
  },
  {
   "cell_type": "code",
   "execution_count": null,
   "id": "a385e133-6da1-4443-936c-c26a81b9c3d5",
   "metadata": {},
   "outputs": [],
   "source": []
  },
  {
   "cell_type": "code",
   "execution_count": null,
   "id": "c1b2e779-e7db-4509-9c80-8e143abf7f02",
   "metadata": {},
   "outputs": [],
   "source": []
  },
  {
   "cell_type": "markdown",
   "id": "7eaaf7d3-f1da-4632-bb89-c31e45e79ee4",
   "metadata": {
    "jp-MarkdownHeadingCollapsed": true
   },
   "source": [
    "### using original + generated dataset"
   ]
  },
  {
   "cell_type": "markdown",
   "id": "23165eff-832d-482a-b4eb-7915a4c29b26",
   "metadata": {},
   "source": [
    "> we generate synthesized dataset using VAE from above. \\\n",
    "> adopted original datset: data_mdd, data_bpi, data_bpii \\\n",
    "> synthesized into: gen_mdd, gen_bpi, gen_bpii \\\n",
    "> gen_control is not generated since \"control group\" has biggest number."
   ]
  },
  {
   "cell_type": "markdown",
   "id": "535d7c72-1065-4a07-91b6-54bf90af8aea",
   "metadata": {},
   "source": [
    "* Set target information into newly generated dataset"
   ]
  },
  {
   "cell_type": "code",
   "execution_count": null,
   "id": "92f7c1a8-fdb1-4653-ae91-35e57b28405e",
   "metadata": {},
   "outputs": [],
   "source": [
    "gen_B['diagnosis'] = \"B\"\n",
    "gen_M['diagnosis'] = \"M\""
   ]
  },
  {
   "cell_type": "markdown",
   "id": "6ed873e4-66d3-418e-a733-d065f9952493",
   "metadata": {},
   "source": [
    "* Preparing original dataset"
   ]
  },
  {
   "cell_type": "code",
   "execution_count": null,
   "id": "6be7599b-07d0-4b43-9a65-3f3d3a9b672b",
   "metadata": {},
   "outputs": [],
   "source": [
    "data_B = data_B.drop(['Unnamed: 32','id'], axis=1)\n",
    "data_M = data_M.drop(['Unnamed: 32','id'], axis=1)"
   ]
  },
  {
   "cell_type": "markdown",
   "id": "47107f5a-4f2c-4db4-a738-344eb528bb7a",
   "metadata": {},
   "source": [
    "* Concat the original datasets into one original dataframe"
   ]
  },
  {
   "cell_type": "code",
   "execution_count": null,
   "id": "a79dc3ad-3c6d-4f9d-b7e1-8614e1bf2cbe",
   "metadata": {},
   "outputs": [],
   "source": [
    "ori_df_list = [data_B, data_M]\n",
    "ori_df_concat = pd.concat(ori_df_list, ignore_index=True)"
   ]
  },
  {
   "cell_type": "code",
   "execution_count": null,
   "id": "59a82a2f-1eae-4ecd-ba39-1059595fab47",
   "metadata": {},
   "outputs": [],
   "source": [
    "ori_df_concat.shape"
   ]
  },
  {
   "cell_type": "code",
   "execution_count": null,
   "id": "33219592-c92c-4962-8ab5-544ae8fbf67b",
   "metadata": {},
   "outputs": [],
   "source": [
    "ori_df_concat['diagnosis'].value_counts()"
   ]
  },
  {
   "cell_type": "markdown",
   "id": "d057fe72-bd67-446c-8512-852ffc14041b",
   "metadata": {},
   "source": [
    "* Concat the generated datasets into one gen dataframe"
   ]
  },
  {
   "cell_type": "code",
   "execution_count": null,
   "id": "686011db-6879-454b-bb33-2082f02e4e06",
   "metadata": {},
   "outputs": [],
   "source": [
    "gen_df_list = [gen_B, gen_M]\n",
    "gen_df_concat = pd.concat(gen_df_list, ignore_index=True)"
   ]
  },
  {
   "cell_type": "code",
   "execution_count": null,
   "id": "073cd1d3-6b77-40a8-ba51-3e19e7a0ab12",
   "metadata": {},
   "outputs": [],
   "source": [
    "gen_df_concat['diagnosis'].value_counts()"
   ]
  },
  {
   "cell_type": "code",
   "execution_count": null,
   "id": "3f489e45-0b00-4f9c-9d67-db81c83ac520",
   "metadata": {},
   "outputs": [],
   "source": []
  },
  {
   "cell_type": "markdown",
   "id": "57c956c1-43d2-4ce2-8526-acc132a3c219",
   "metadata": {},
   "source": [
    "* Preparing x and y data vectors"
   ]
  },
  {
   "cell_type": "code",
   "execution_count": null,
   "id": "b697ca70-7cef-40e5-8d04-5c7d1544a7ba",
   "metadata": {},
   "outputs": [],
   "source": [
    "### Using MDD,BP dataset\n",
    "ori_x = ori_df_concat.drop(['diagnosis'], axis=1)\n",
    "ori_y = ori_df_concat.loc[:,[\"diagnosis\"]]\n",
    "\n",
    "gen_x = gen_df_concat.drop(['diagnosis'], axis=1)\n",
    "gen_y = gen_df_concat.loc[:,[\"diagnosis\"]]"
   ]
  },
  {
   "cell_type": "code",
   "execution_count": null,
   "id": "835d6a55-c823-4f77-950a-a37306c0d00c",
   "metadata": {},
   "outputs": [],
   "source": [
    "ori_x = ori_x.fillna(ori_x.mean())"
   ]
  },
  {
   "cell_type": "code",
   "execution_count": null,
   "id": "f3002ead-df2b-4686-bb3a-4cf7ba66735b",
   "metadata": {},
   "outputs": [],
   "source": [
    "label = ori_y\n",
    "label = label.replace({'B':0})\n",
    "label = label.replace({'M': 1})\n",
    "\n",
    "y_ori = to_categorical(label, 2) ## into the format of one-hot encoding"
   ]
  },
  {
   "cell_type": "code",
   "execution_count": null,
   "id": "cfbd50ae-9a5d-4afc-acea-e62d6ee8de30",
   "metadata": {},
   "outputs": [],
   "source": [
    "label_ = gen_y\n",
    "label_ = label_.replace({'B':0})\n",
    "label_ = label_.replace({'M': 1})\n",
    "\n",
    "y_gen = to_categorical(label_, 2) ## into the format of one-hot encoding"
   ]
  },
  {
   "cell_type": "code",
   "execution_count": null,
   "id": "9df9a68d-bf83-4e65-bb66-3a58ad013c26",
   "metadata": {},
   "outputs": [],
   "source": []
  },
  {
   "cell_type": "markdown",
   "id": "a70971a1-0c89-4c8c-b721-fa55ee86e44c",
   "metadata": {},
   "source": [
    "* Separating the test dataset only from original dataframe"
   ]
  },
  {
   "cell_type": "code",
   "execution_count": null,
   "id": "9bcbf13b-0b7b-4778-a206-17da483ceecf",
   "metadata": {},
   "outputs": [],
   "source": [
    "x_trainset, x_test, y_trainset, y_test = train_test_split(ori_x, y_ori, test_size = 0.4, random_state = 710674)"
   ]
  },
  {
   "cell_type": "markdown",
   "id": "16b05ef7-4e15-44d6-ab3c-ea87fe009a64",
   "metadata": {},
   "source": [
    "* Then concat the generated dataset with training dataset"
   ]
  },
  {
   "cell_type": "code",
   "execution_count": null,
   "id": "29e1980c-1cdf-4707-93c7-58f6c52520f8",
   "metadata": {},
   "outputs": [],
   "source": [
    "x_train_concat = pd.concat([x_trainset, gen_x], ignore_index=True)\n",
    "y_train_concat = np.concatenate([y_trainset, y_gen])"
   ]
  },
  {
   "cell_type": "markdown",
   "id": "e9da36d6-37d9-4afd-9c27-3e36973da17c",
   "metadata": {},
   "source": [
    "* Then separating the validation dataset from concat dataframe"
   ]
  },
  {
   "cell_type": "code",
   "execution_count": null,
   "id": "0572cdb0-b457-45bb-8645-d4caafb00ba5",
   "metadata": {},
   "outputs": [],
   "source": [
    "x_train, x_vali, y_train, y_vali = train_test_split(x_train_concat, y_train_concat, test_size = 0.2, random_state = 710674)"
   ]
  },
  {
   "cell_type": "code",
   "execution_count": null,
   "id": "aa7ef7f0-927e-4813-8739-a279a6df158b",
   "metadata": {},
   "outputs": [],
   "source": []
  },
  {
   "cell_type": "code",
   "execution_count": null,
   "id": "f5fe023c-6515-4a89-882b-48a27ad414f5",
   "metadata": {
    "scrolled": true
   },
   "outputs": [],
   "source": [
    "# ori_x[ori_x.isna().any(axis=1)].shape"
   ]
  },
  {
   "cell_type": "code",
   "execution_count": null,
   "id": "4c78512c-7240-47cd-a088-a2c96edf117e",
   "metadata": {
    "scrolled": true
   },
   "outputs": [],
   "source": [
    "# # fig, ax = plt.subplots()\n",
    "# plt.figure(figsize = (10, 5))\n",
    "# plt.xlabel('Generated MDD BP feature variables',fontsize=10)\n",
    "# plt.ylabel('Feature value',fontsize=10)\n",
    "# plt.boxplot(ori_x)\n",
    "# plt.show()"
   ]
  },
  {
   "cell_type": "code",
   "execution_count": null,
   "id": "6cbc9bd3-3c49-4f07-ac1a-6689570947fa",
   "metadata": {},
   "outputs": [],
   "source": []
  },
  {
   "cell_type": "markdown",
   "id": "f39c2ee7-3221-4217-8794-c19a904f91d5",
   "metadata": {},
   "source": [
    "***"
   ]
  },
  {
   "cell_type": "markdown",
   "id": "969466bf-be6b-4d06-a77c-229ac0a5c471",
   "metadata": {},
   "source": [
    "### model training + test"
   ]
  },
  {
   "cell_type": "code",
   "execution_count": 120,
   "id": "eaedc655-0b50-4bc7-b3d6-0832d939efd0",
   "metadata": {},
   "outputs": [],
   "source": [
    "class Args:\n",
    "    # arugments\n",
    "    epochs=300\n",
    "    bs=32\n",
    "    lr=0.001\n",
    "    momentum=0.9\n",
    "    num_classes= 3\n",
    "    seed=710674\n",
    "\n",
    "args = Args()"
   ]
  },
  {
   "cell_type": "code",
   "execution_count": null,
   "id": "6ae8ef8b-3fab-4403-8676-a4359977db7d",
   "metadata": {},
   "outputs": [],
   "source": []
  },
  {
   "cell_type": "markdown",
   "id": "86bade4d-02ae-4a3b-ae78-3441f5c033b7",
   "metadata": {},
   "source": [
    "#### normal DNN"
   ]
  },
  {
   "cell_type": "code",
   "execution_count": 121,
   "id": "5b148481-23f4-4070-b6b5-ac50fd174804",
   "metadata": {},
   "outputs": [],
   "source": [
    "x_train, x_test, y_train, y_test = train_test_split(ori_x, ori_y, test_size = 0.4, random_state = 710674)"
   ]
  },
  {
   "cell_type": "code",
   "execution_count": 122,
   "id": "28545248-f087-4bc1-9a84-7262b9179abe",
   "metadata": {},
   "outputs": [],
   "source": [
    "#### Generate the model\n",
    "## this model is adequate for JSD_big differences variables use\n",
    "model = Sequential()\n",
    "model.add(Dense(256, input_dim = x_train.shape[1], activation = 'relu'))\n",
    "model.add(Dense(512, activation = 'relu'))\n",
    "model.add(BatchNormalization())\n",
    "model.add(Activation('relu'))\n",
    "model.add(Dense(512, activation = 'relu'))\n",
    "model.add(BatchNormalization())\n",
    "model.add(Activation('relu'))\n",
    "model.add(Dense(256, activation = 'relu'))\n",
    "model.add(Dense(64, activation = 'relu'))\n",
    "# model.add(Dense(32, activation = 'relu'))\n",
    "model.add(Dense(args.num_classes, activation = 'softmax'))"
   ]
  },
  {
   "cell_type": "code",
   "execution_count": null,
   "id": "a1e61f20-b3f8-4478-a949-01ff9f1a0c90",
   "metadata": {},
   "outputs": [],
   "source": []
  },
  {
   "cell_type": "code",
   "execution_count": 123,
   "id": "8e43c546-6464-4b9a-858f-b3411dabfe07",
   "metadata": {},
   "outputs": [],
   "source": [
    "def cyclic_learning_rate(epoch, base_lr=0.001, max_lr=0.006, step_size=2000):\n",
    "    cycle = np.floor(1 + epoch / (2 * step_size))\n",
    "    x = np.abs(epoch / step_size - 2 * cycle + 1)\n",
    "    lr = base_lr + (max_lr - base_lr) * max(0, (1 - x))\n",
    "    return lr"
   ]
  },
  {
   "cell_type": "code",
   "execution_count": 124,
   "id": "1979ffd3-1042-4d3d-9c7b-df1288aec718",
   "metadata": {},
   "outputs": [],
   "source": [
    "def triangular_lr(epoch, base_lr=0.001, max_lr=0.006, step_size=2000):\n",
    "    cycle = np.floor(1 + epoch / (2 * step_size))\n",
    "    x = np.abs(epoch / step_size - 2 * cycle + 1)\n",
    "    lr = base_lr + (max_lr - base_lr) * max(0, (1 - x))\n",
    "    return lr"
   ]
  },
  {
   "cell_type": "code",
   "execution_count": 125,
   "id": "d34b0bb2-bd3d-4841-846e-b663b95613ea",
   "metadata": {},
   "outputs": [],
   "source": [
    "def triangular2_lr(epoch, base_lr=0.001, max_lr=0.006, step_size=2000):\n",
    "    cycle = np.floor(1 + epoch / (2 * step_size))\n",
    "    x = np.abs(epoch / step_size - 2 * cycle + 1)\n",
    "    lr = base_lr + (max_lr - base_lr) * max(0, (1 - x)) / (2 ** (cycle - 1))\n",
    "    return lr"
   ]
  },
  {
   "cell_type": "code",
   "execution_count": 126,
   "id": "88ad21a5-667b-40bf-9ebf-e79d95abad5e",
   "metadata": {},
   "outputs": [],
   "source": [
    "def exp_range_lr(epoch, base_lr=0.001, max_lr=0.006, step_size=2000, gamma=0.99994):\n",
    "    cycle = np.floor(1 + epoch / (2 * step_size))\n",
    "    x = np.abs(epoch / step_size - 2 * cycle + 1)\n",
    "    lr = base_lr + (max_lr - base_lr) * max(0, (1 - x)) * (gamma ** epoch)\n",
    "    return lr"
   ]
  },
  {
   "cell_type": "markdown",
   "id": "af8723a2-895c-43b4-b031-c869d0f2af3b",
   "metadata": {},
   "source": [
    "* optimization function, model compile, and model training"
   ]
  },
  {
   "cell_type": "code",
   "execution_count": 127,
   "id": "db624fb0-5279-4b8c-8fb7-df92329f5ed3",
   "metadata": {},
   "outputs": [],
   "source": [
    "opt = keras.optimizers.SGD(learning_rate = args.lr, decay = 1e-5, momentum = args.momentum)"
   ]
  },
  {
   "cell_type": "code",
   "execution_count": 128,
   "id": "7ea591cd-4edb-44e3-a8af-34b6ecbf89a6",
   "metadata": {},
   "outputs": [],
   "source": [
    "# LearningRateScheduler 설정\n",
    "lr_scheduler = LearningRateScheduler(lambda epoch: cyclic_learning_rate(epoch, base_lr=0.01, max_lr=0.006, step_size=300))\n",
    "# lr_scheduler = LearningRateScheduler(lambda epoch: exp_range_lr(epoch, base_lr=0.01, max_lr=0.006, step_size=300, gamma=0.99994))"
   ]
  },
  {
   "cell_type": "code",
   "execution_count": 129,
   "id": "e47bccd2-500f-44e4-ae6a-6462b99abcbd",
   "metadata": {
    "scrolled": true
   },
   "outputs": [
    {
     "name": "stdout",
     "output_type": "stream",
     "text": [
      "Epoch 1/300\n",
      "9/9 - 1s - loss: 1.4270 - accuracy: 0.4007 - lr: 0.0100 - 594ms/epoch - 66ms/step\n",
      "Epoch 2/300\n",
      "9/9 - 0s - loss: 1.1379 - accuracy: 0.5854 - lr: 0.0100 - 101ms/epoch - 11ms/step\n",
      "Epoch 3/300\n",
      "9/9 - 0s - loss: 0.9816 - accuracy: 0.6794 - lr: 0.0100 - 106ms/epoch - 12ms/step\n",
      "Epoch 4/300\n",
      "9/9 - 0s - loss: 0.8912 - accuracy: 0.6794 - lr: 0.0100 - 79ms/epoch - 9ms/step\n",
      "Epoch 5/300\n",
      "9/9 - 0s - loss: 0.7808 - accuracy: 0.7666 - lr: 0.0099 - 77ms/epoch - 9ms/step\n",
      "Epoch 6/300\n",
      "9/9 - 0s - loss: 0.6745 - accuracy: 0.7631 - lr: 0.0099 - 64ms/epoch - 7ms/step\n",
      "Epoch 7/300\n",
      "9/9 - 0s - loss: 0.6236 - accuracy: 0.8258 - lr: 0.0099 - 62ms/epoch - 7ms/step\n",
      "Epoch 8/300\n",
      "9/9 - 0s - loss: 0.5449 - accuracy: 0.8293 - lr: 0.0099 - 60ms/epoch - 7ms/step\n",
      "Epoch 9/300\n",
      "9/9 - 0s - loss: 0.6774 - accuracy: 0.8258 - lr: 0.0099 - 64ms/epoch - 7ms/step\n",
      "Epoch 10/300\n",
      "9/9 - 0s - loss: 0.5248 - accuracy: 0.8258 - lr: 0.0099 - 60ms/epoch - 7ms/step\n",
      "Epoch 11/300\n",
      "9/9 - 0s - loss: 0.5738 - accuracy: 0.8188 - lr: 0.0099 - 58ms/epoch - 6ms/step\n",
      "Epoch 12/300\n",
      "9/9 - 0s - loss: 0.5390 - accuracy: 0.8223 - lr: 0.0099 - 86ms/epoch - 10ms/step\n",
      "Epoch 13/300\n",
      "9/9 - 0s - loss: 0.3931 - accuracy: 0.8920 - lr: 0.0098 - 58ms/epoch - 6ms/step\n",
      "Epoch 14/300\n",
      "9/9 - 0s - loss: 0.3855 - accuracy: 0.8920 - lr: 0.0098 - 58ms/epoch - 6ms/step\n",
      "Epoch 15/300\n",
      "9/9 - 0s - loss: 0.3679 - accuracy: 0.8850 - lr: 0.0098 - 53ms/epoch - 6ms/step\n",
      "Epoch 16/300\n",
      "9/9 - 0s - loss: 0.2415 - accuracy: 0.9443 - lr: 0.0098 - 57ms/epoch - 6ms/step\n",
      "Epoch 17/300\n",
      "9/9 - 0s - loss: 0.2824 - accuracy: 0.9338 - lr: 0.0098 - 53ms/epoch - 6ms/step\n",
      "Epoch 18/300\n",
      "9/9 - 0s - loss: 0.2539 - accuracy: 0.9129 - lr: 0.0098 - 57ms/epoch - 6ms/step\n",
      "Epoch 19/300\n",
      "9/9 - 0s - loss: 0.2383 - accuracy: 0.9129 - lr: 0.0098 - 57ms/epoch - 6ms/step\n",
      "Epoch 20/300\n",
      "9/9 - 0s - loss: 0.2984 - accuracy: 0.9268 - lr: 0.0097 - 58ms/epoch - 6ms/step\n",
      "Epoch 21/300\n",
      "9/9 - 0s - loss: 0.3173 - accuracy: 0.9199 - lr: 0.0097 - 53ms/epoch - 6ms/step\n",
      "Epoch 22/300\n",
      "9/9 - 0s - loss: 0.2145 - accuracy: 0.9443 - lr: 0.0097 - 57ms/epoch - 6ms/step\n",
      "Epoch 23/300\n",
      "9/9 - 0s - loss: 0.1705 - accuracy: 0.9617 - lr: 0.0097 - 51ms/epoch - 6ms/step\n",
      "Epoch 24/300\n",
      "9/9 - 0s - loss: 0.1992 - accuracy: 0.9373 - lr: 0.0097 - 56ms/epoch - 6ms/step\n",
      "Epoch 25/300\n",
      "9/9 - 0s - loss: 0.2191 - accuracy: 0.9373 - lr: 0.0097 - 56ms/epoch - 6ms/step\n",
      "Epoch 26/300\n",
      "9/9 - 0s - loss: 0.2028 - accuracy: 0.9338 - lr: 0.0097 - 53ms/epoch - 6ms/step\n",
      "Epoch 27/300\n",
      "9/9 - 0s - loss: 0.1652 - accuracy: 0.9477 - lr: 0.0097 - 52ms/epoch - 6ms/step\n",
      "Epoch 28/300\n",
      "9/9 - 0s - loss: 0.2406 - accuracy: 0.9199 - lr: 0.0096 - 51ms/epoch - 6ms/step\n",
      "Epoch 29/300\n",
      "9/9 - 0s - loss: 0.3422 - accuracy: 0.9129 - lr: 0.0096 - 51ms/epoch - 6ms/step\n",
      "Epoch 30/300\n",
      "9/9 - 0s - loss: 0.3410 - accuracy: 0.8920 - lr: 0.0096 - 52ms/epoch - 6ms/step\n",
      "Epoch 31/300\n",
      "9/9 - 0s - loss: 0.2626 - accuracy: 0.9268 - lr: 0.0096 - 53ms/epoch - 6ms/step\n",
      "Epoch 32/300\n",
      "9/9 - 0s - loss: 0.1926 - accuracy: 0.9443 - lr: 0.0096 - 56ms/epoch - 6ms/step\n",
      "Epoch 33/300\n",
      "9/9 - 0s - loss: 0.1648 - accuracy: 0.9547 - lr: 0.0096 - 85ms/epoch - 9ms/step\n",
      "Epoch 34/300\n",
      "9/9 - 0s - loss: 0.2355 - accuracy: 0.9233 - lr: 0.0096 - 64ms/epoch - 7ms/step\n",
      "Epoch 35/300\n",
      "9/9 - 0s - loss: 0.1611 - accuracy: 0.9547 - lr: 0.0095 - 53ms/epoch - 6ms/step\n",
      "Epoch 36/300\n",
      "9/9 - 0s - loss: 0.1413 - accuracy: 0.9617 - lr: 0.0095 - 55ms/epoch - 6ms/step\n",
      "Epoch 37/300\n",
      "9/9 - 0s - loss: 0.1668 - accuracy: 0.9443 - lr: 0.0095 - 54ms/epoch - 6ms/step\n",
      "Epoch 38/300\n",
      "9/9 - 0s - loss: 0.1722 - accuracy: 0.9512 - lr: 0.0095 - 57ms/epoch - 6ms/step\n",
      "Epoch 39/300\n",
      "9/9 - 0s - loss: 0.1357 - accuracy: 0.9617 - lr: 0.0095 - 54ms/epoch - 6ms/step\n",
      "Epoch 40/300\n",
      "9/9 - 0s - loss: 0.1886 - accuracy: 0.9408 - lr: 0.0095 - 59ms/epoch - 7ms/step\n",
      "Epoch 41/300\n",
      "9/9 - 0s - loss: 0.1557 - accuracy: 0.9617 - lr: 0.0095 - 54ms/epoch - 6ms/step\n",
      "Epoch 42/300\n",
      "9/9 - 0s - loss: 0.1366 - accuracy: 0.9547 - lr: 0.0095 - 52ms/epoch - 6ms/step\n",
      "Epoch 43/300\n",
      "9/9 - 0s - loss: 0.0831 - accuracy: 0.9721 - lr: 0.0094 - 53ms/epoch - 6ms/step\n",
      "Epoch 44/300\n",
      "9/9 - 0s - loss: 0.0575 - accuracy: 0.9791 - lr: 0.0094 - 52ms/epoch - 6ms/step\n",
      "Epoch 45/300\n",
      "9/9 - 0s - loss: 0.0556 - accuracy: 0.9826 - lr: 0.0094 - 52ms/epoch - 6ms/step\n",
      "Epoch 46/300\n",
      "9/9 - 0s - loss: 0.0780 - accuracy: 0.9652 - lr: 0.0094 - 52ms/epoch - 6ms/step\n",
      "Epoch 47/300\n",
      "9/9 - 0s - loss: 0.0430 - accuracy: 0.9861 - lr: 0.0094 - 52ms/epoch - 6ms/step\n",
      "Epoch 48/300\n",
      "9/9 - 0s - loss: 0.0667 - accuracy: 0.9756 - lr: 0.0094 - 56ms/epoch - 6ms/step\n",
      "Epoch 49/300\n",
      "9/9 - 0s - loss: 0.0958 - accuracy: 0.9686 - lr: 0.0094 - 52ms/epoch - 6ms/step\n",
      "Epoch 50/300\n",
      "9/9 - 0s - loss: 0.1125 - accuracy: 0.9686 - lr: 0.0093 - 53ms/epoch - 6ms/step\n",
      "Epoch 51/300\n",
      "9/9 - 0s - loss: 0.1291 - accuracy: 0.9617 - lr: 0.0093 - 51ms/epoch - 6ms/step\n",
      "Epoch 52/300\n",
      "9/9 - 0s - loss: 0.1281 - accuracy: 0.9721 - lr: 0.0093 - 52ms/epoch - 6ms/step\n",
      "Epoch 53/300\n",
      "9/9 - 0s - loss: 0.1024 - accuracy: 0.9512 - lr: 0.0093 - 58ms/epoch - 6ms/step\n",
      "Epoch 54/300\n",
      "9/9 - 0s - loss: 0.1878 - accuracy: 0.9443 - lr: 0.0093 - 52ms/epoch - 6ms/step\n",
      "Epoch 55/300\n",
      "9/9 - 0s - loss: 0.1343 - accuracy: 0.9547 - lr: 0.0093 - 51ms/epoch - 6ms/step\n",
      "Epoch 56/300\n",
      "9/9 - 0s - loss: 0.2144 - accuracy: 0.9303 - lr: 0.0093 - 56ms/epoch - 6ms/step\n",
      "Epoch 57/300\n",
      "9/9 - 0s - loss: 0.1287 - accuracy: 0.9582 - lr: 0.0093 - 52ms/epoch - 6ms/step\n",
      "Epoch 58/300\n",
      "9/9 - 0s - loss: 0.1424 - accuracy: 0.9547 - lr: 0.0092 - 52ms/epoch - 6ms/step\n",
      "Epoch 59/300\n",
      "9/9 - 0s - loss: 0.1228 - accuracy: 0.9582 - lr: 0.0092 - 55ms/epoch - 6ms/step\n",
      "Epoch 60/300\n",
      "9/9 - 0s - loss: 0.1508 - accuracy: 0.9547 - lr: 0.0092 - 51ms/epoch - 6ms/step\n",
      "Epoch 61/300\n",
      "9/9 - 0s - loss: 0.1553 - accuracy: 0.9477 - lr: 0.0092 - 57ms/epoch - 6ms/step\n",
      "Epoch 62/300\n",
      "9/9 - 0s - loss: 0.1150 - accuracy: 0.9617 - lr: 0.0092 - 55ms/epoch - 6ms/step\n",
      "Epoch 63/300\n",
      "9/9 - 0s - loss: 0.1198 - accuracy: 0.9582 - lr: 0.0092 - 53ms/epoch - 6ms/step\n",
      "Epoch 64/300\n",
      "9/9 - 0s - loss: 0.1043 - accuracy: 0.9652 - lr: 0.0092 - 50ms/epoch - 6ms/step\n",
      "Epoch 65/300\n",
      "9/9 - 0s - loss: 0.1148 - accuracy: 0.9547 - lr: 0.0091 - 51ms/epoch - 6ms/step\n",
      "Epoch 66/300\n",
      "9/9 - 0s - loss: 0.0646 - accuracy: 0.9791 - lr: 0.0091 - 55ms/epoch - 6ms/step\n",
      "Epoch 67/300\n",
      "9/9 - 0s - loss: 0.0632 - accuracy: 0.9756 - lr: 0.0091 - 51ms/epoch - 6ms/step\n",
      "Epoch 68/300\n",
      "9/9 - 0s - loss: 0.1242 - accuracy: 0.9652 - lr: 0.0091 - 51ms/epoch - 6ms/step\n",
      "Epoch 69/300\n",
      "9/9 - 0s - loss: 0.0846 - accuracy: 0.9791 - lr: 0.0091 - 51ms/epoch - 6ms/step\n",
      "Epoch 70/300\n",
      "9/9 - 0s - loss: 0.1144 - accuracy: 0.9756 - lr: 0.0091 - 50ms/epoch - 6ms/step\n",
      "Epoch 71/300\n",
      "9/9 - 0s - loss: 0.0541 - accuracy: 0.9826 - lr: 0.0091 - 50ms/epoch - 6ms/step\n",
      "Epoch 72/300\n",
      "9/9 - 0s - loss: 0.0507 - accuracy: 0.9791 - lr: 0.0091 - 56ms/epoch - 6ms/step\n",
      "Epoch 73/300\n",
      "9/9 - 0s - loss: 0.0556 - accuracy: 0.9826 - lr: 0.0090 - 63ms/epoch - 7ms/step\n",
      "Epoch 74/300\n",
      "9/9 - 0s - loss: 0.0610 - accuracy: 0.9721 - lr: 0.0090 - 65ms/epoch - 7ms/step\n",
      "Epoch 75/300\n",
      "9/9 - 0s - loss: 0.0633 - accuracy: 0.9756 - lr: 0.0090 - 63ms/epoch - 7ms/step\n",
      "Epoch 76/300\n",
      "9/9 - 0s - loss: 0.0470 - accuracy: 0.9826 - lr: 0.0090 - 82ms/epoch - 9ms/step\n",
      "Epoch 77/300\n",
      "9/9 - 0s - loss: 0.0408 - accuracy: 0.9826 - lr: 0.0090 - 61ms/epoch - 7ms/step\n",
      "Epoch 78/300\n",
      "9/9 - 0s - loss: 0.0248 - accuracy: 0.9861 - lr: 0.0090 - 51ms/epoch - 6ms/step\n",
      "Epoch 79/300\n",
      "9/9 - 0s - loss: 0.0309 - accuracy: 0.9861 - lr: 0.0090 - 50ms/epoch - 6ms/step\n",
      "Epoch 80/300\n",
      "9/9 - 0s - loss: 0.0395 - accuracy: 0.9791 - lr: 0.0089 - 54ms/epoch - 6ms/step\n",
      "Epoch 81/300\n",
      "9/9 - 0s - loss: 0.0492 - accuracy: 0.9826 - lr: 0.0089 - 53ms/epoch - 6ms/step\n",
      "Epoch 82/300\n",
      "9/9 - 0s - loss: 0.0456 - accuracy: 0.9791 - lr: 0.0089 - 51ms/epoch - 6ms/step\n",
      "Epoch 83/300\n",
      "9/9 - 0s - loss: 0.0366 - accuracy: 0.9861 - lr: 0.0089 - 50ms/epoch - 6ms/step\n",
      "Epoch 84/300\n",
      "9/9 - 0s - loss: 0.0288 - accuracy: 0.9895 - lr: 0.0089 - 50ms/epoch - 6ms/step\n",
      "Epoch 85/300\n",
      "9/9 - 0s - loss: 0.0403 - accuracy: 0.9861 - lr: 0.0089 - 50ms/epoch - 6ms/step\n",
      "Epoch 86/300\n",
      "9/9 - 0s - loss: 0.0452 - accuracy: 0.9826 - lr: 0.0089 - 53ms/epoch - 6ms/step\n",
      "Epoch 87/300\n",
      "9/9 - 0s - loss: 0.0387 - accuracy: 0.9826 - lr: 0.0089 - 50ms/epoch - 6ms/step\n",
      "Epoch 88/300\n",
      "9/9 - 0s - loss: 0.0469 - accuracy: 0.9826 - lr: 0.0088 - 49ms/epoch - 5ms/step\n",
      "Epoch 89/300\n",
      "9/9 - 0s - loss: 0.0394 - accuracy: 0.9826 - lr: 0.0088 - 54ms/epoch - 6ms/step\n",
      "Epoch 90/300\n",
      "9/9 - 0s - loss: 0.0337 - accuracy: 0.9826 - lr: 0.0088 - 53ms/epoch - 6ms/step\n",
      "Epoch 91/300\n",
      "9/9 - 0s - loss: 0.0292 - accuracy: 0.9861 - lr: 0.0088 - 51ms/epoch - 6ms/step\n",
      "Epoch 92/300\n",
      "9/9 - 0s - loss: 0.0328 - accuracy: 0.9861 - lr: 0.0088 - 51ms/epoch - 6ms/step\n",
      "Epoch 93/300\n",
      "9/9 - 0s - loss: 0.0311 - accuracy: 0.9930 - lr: 0.0088 - 51ms/epoch - 6ms/step\n",
      "Epoch 94/300\n",
      "9/9 - 0s - loss: 0.0257 - accuracy: 0.9895 - lr: 0.0088 - 54ms/epoch - 6ms/step\n",
      "Epoch 95/300\n",
      "9/9 - 0s - loss: 0.0354 - accuracy: 0.9791 - lr: 0.0087 - 63ms/epoch - 7ms/step\n",
      "Epoch 96/300\n",
      "9/9 - 0s - loss: 0.0835 - accuracy: 0.9756 - lr: 0.0087 - 63ms/epoch - 7ms/step\n",
      "Epoch 97/300\n",
      "9/9 - 0s - loss: 0.0608 - accuracy: 0.9826 - lr: 0.0087 - 63ms/epoch - 7ms/step\n",
      "Epoch 98/300\n",
      "9/9 - 0s - loss: 0.0429 - accuracy: 0.9791 - lr: 0.0087 - 57ms/epoch - 6ms/step\n",
      "Epoch 99/300\n",
      "9/9 - 0s - loss: 0.0334 - accuracy: 0.9861 - lr: 0.0087 - 55ms/epoch - 6ms/step\n",
      "Epoch 100/300\n",
      "9/9 - 0s - loss: 0.0368 - accuracy: 0.9791 - lr: 0.0087 - 51ms/epoch - 6ms/step\n",
      "Epoch 101/300\n",
      "9/9 - 0s - loss: 0.0930 - accuracy: 0.9791 - lr: 0.0087 - 52ms/epoch - 6ms/step\n",
      "Epoch 102/300\n",
      "9/9 - 0s - loss: 0.1319 - accuracy: 0.9686 - lr: 0.0087 - 52ms/epoch - 6ms/step\n",
      "Epoch 103/300\n",
      "9/9 - 0s - loss: 0.0774 - accuracy: 0.9686 - lr: 0.0086 - 50ms/epoch - 6ms/step\n",
      "Epoch 104/300\n",
      "9/9 - 0s - loss: 0.1530 - accuracy: 0.9443 - lr: 0.0086 - 50ms/epoch - 6ms/step\n",
      "Epoch 105/300\n",
      "9/9 - 0s - loss: 0.1421 - accuracy: 0.9547 - lr: 0.0086 - 49ms/epoch - 5ms/step\n",
      "Epoch 106/300\n",
      "9/9 - 0s - loss: 0.1191 - accuracy: 0.9547 - lr: 0.0086 - 50ms/epoch - 6ms/step\n",
      "Epoch 107/300\n",
      "9/9 - 0s - loss: 0.0936 - accuracy: 0.9652 - lr: 0.0086 - 53ms/epoch - 6ms/step\n",
      "Epoch 108/300\n",
      "9/9 - 0s - loss: 0.1092 - accuracy: 0.9721 - lr: 0.0086 - 50ms/epoch - 6ms/step\n",
      "Epoch 109/300\n",
      "9/9 - 0s - loss: 0.0610 - accuracy: 0.9721 - lr: 0.0086 - 53ms/epoch - 6ms/step\n",
      "Epoch 110/300\n",
      "9/9 - 0s - loss: 0.0782 - accuracy: 0.9652 - lr: 0.0085 - 50ms/epoch - 6ms/step\n",
      "Epoch 111/300\n",
      "9/9 - 0s - loss: 0.0514 - accuracy: 0.9826 - lr: 0.0085 - 51ms/epoch - 6ms/step\n",
      "Epoch 112/300\n",
      "9/9 - 0s - loss: 0.0710 - accuracy: 0.9686 - lr: 0.0085 - 49ms/epoch - 5ms/step\n",
      "Epoch 113/300\n",
      "9/9 - 0s - loss: 0.0462 - accuracy: 0.9756 - lr: 0.0085 - 56ms/epoch - 6ms/step\n",
      "Epoch 114/300\n",
      "9/9 - 0s - loss: 0.0452 - accuracy: 0.9826 - lr: 0.0085 - 50ms/epoch - 6ms/step\n",
      "Epoch 115/300\n",
      "9/9 - 0s - loss: 0.0310 - accuracy: 0.9965 - lr: 0.0085 - 51ms/epoch - 6ms/step\n",
      "Epoch 116/300\n",
      "9/9 - 0s - loss: 0.0270 - accuracy: 0.9965 - lr: 0.0085 - 54ms/epoch - 6ms/step\n",
      "Epoch 117/300\n",
      "9/9 - 0s - loss: 0.0745 - accuracy: 0.9721 - lr: 0.0085 - 53ms/epoch - 6ms/step\n",
      "Epoch 118/300\n",
      "9/9 - 0s - loss: 0.1235 - accuracy: 0.9652 - lr: 0.0084 - 50ms/epoch - 6ms/step\n",
      "Epoch 119/300\n",
      "9/9 - 0s - loss: 0.0725 - accuracy: 0.9756 - lr: 0.0084 - 86ms/epoch - 10ms/step\n",
      "Epoch 120/300\n",
      "9/9 - 0s - loss: 0.0448 - accuracy: 0.9791 - lr: 0.0084 - 53ms/epoch - 6ms/step\n",
      "Epoch 121/300\n",
      "9/9 - 0s - loss: 0.0378 - accuracy: 0.9826 - lr: 0.0084 - 55ms/epoch - 6ms/step\n",
      "Epoch 122/300\n",
      "9/9 - 0s - loss: 0.0447 - accuracy: 0.9791 - lr: 0.0084 - 49ms/epoch - 5ms/step\n",
      "Epoch 123/300\n",
      "9/9 - 0s - loss: 0.0592 - accuracy: 0.9861 - lr: 0.0084 - 50ms/epoch - 6ms/step\n",
      "Epoch 124/300\n",
      "9/9 - 0s - loss: 0.1383 - accuracy: 0.9756 - lr: 0.0084 - 49ms/epoch - 5ms/step\n",
      "Epoch 125/300\n",
      "9/9 - 0s - loss: 0.0380 - accuracy: 0.9861 - lr: 0.0083 - 55ms/epoch - 6ms/step\n",
      "Epoch 126/300\n",
      "9/9 - 0s - loss: 0.0616 - accuracy: 0.9791 - lr: 0.0083 - 53ms/epoch - 6ms/step\n",
      "Epoch 127/300\n",
      "9/9 - 0s - loss: 0.0349 - accuracy: 0.9895 - lr: 0.0083 - 48ms/epoch - 5ms/step\n",
      "Epoch 128/300\n",
      "9/9 - 0s - loss: 0.0432 - accuracy: 0.9756 - lr: 0.0083 - 51ms/epoch - 6ms/step\n",
      "Epoch 129/300\n",
      "9/9 - 0s - loss: 0.0490 - accuracy: 0.9826 - lr: 0.0083 - 54ms/epoch - 6ms/step\n",
      "Epoch 130/300\n",
      "9/9 - 0s - loss: 0.0303 - accuracy: 0.9861 - lr: 0.0083 - 56ms/epoch - 6ms/step\n",
      "Epoch 131/300\n",
      "9/9 - 0s - loss: 0.0298 - accuracy: 0.9930 - lr: 0.0083 - 50ms/epoch - 6ms/step\n",
      "Epoch 132/300\n",
      "9/9 - 0s - loss: 0.0266 - accuracy: 0.9895 - lr: 0.0083 - 54ms/epoch - 6ms/step\n",
      "Epoch 133/300\n",
      "9/9 - 0s - loss: 0.0335 - accuracy: 0.9826 - lr: 0.0082 - 55ms/epoch - 6ms/step\n",
      "Epoch 134/300\n",
      "9/9 - 0s - loss: 0.0545 - accuracy: 0.9756 - lr: 0.0082 - 50ms/epoch - 6ms/step\n",
      "Epoch 135/300\n",
      "9/9 - 0s - loss: 0.0414 - accuracy: 0.9895 - lr: 0.0082 - 51ms/epoch - 6ms/step\n",
      "Epoch 136/300\n",
      "9/9 - 0s - loss: 0.0257 - accuracy: 0.9930 - lr: 0.0082 - 53ms/epoch - 6ms/step\n",
      "Epoch 137/300\n",
      "9/9 - 0s - loss: 0.0513 - accuracy: 0.9686 - lr: 0.0082 - 56ms/epoch - 6ms/step\n",
      "Epoch 138/300\n",
      "9/9 - 0s - loss: 0.0295 - accuracy: 0.9861 - lr: 0.0082 - 58ms/epoch - 6ms/step\n",
      "Epoch 139/300\n",
      "9/9 - 0s - loss: 0.0411 - accuracy: 0.9861 - lr: 0.0082 - 60ms/epoch - 7ms/step\n",
      "Epoch 140/300\n",
      "9/9 - 0s - loss: 0.0251 - accuracy: 0.9895 - lr: 0.0081 - 60ms/epoch - 7ms/step\n",
      "Epoch 141/300\n",
      "9/9 - 0s - loss: 0.0249 - accuracy: 0.9930 - lr: 0.0081 - 57ms/epoch - 6ms/step\n",
      "Epoch 142/300\n",
      "9/9 - 0s - loss: 0.0225 - accuracy: 0.9965 - lr: 0.0081 - 59ms/epoch - 7ms/step\n",
      "Epoch 143/300\n",
      "9/9 - 0s - loss: 0.0306 - accuracy: 0.9861 - lr: 0.0081 - 53ms/epoch - 6ms/step\n",
      "Epoch 144/300\n",
      "9/9 - 0s - loss: 0.0234 - accuracy: 0.9930 - lr: 0.0081 - 53ms/epoch - 6ms/step\n",
      "Epoch 145/300\n",
      "9/9 - 0s - loss: 0.0229 - accuracy: 0.9895 - lr: 0.0081 - 51ms/epoch - 6ms/step\n",
      "Epoch 146/300\n",
      "9/9 - 0s - loss: 0.0331 - accuracy: 0.9861 - lr: 0.0081 - 50ms/epoch - 6ms/step\n",
      "Epoch 147/300\n",
      "9/9 - 0s - loss: 0.0545 - accuracy: 0.9826 - lr: 0.0081 - 49ms/epoch - 5ms/step\n",
      "Epoch 148/300\n",
      "9/9 - 0s - loss: 0.0257 - accuracy: 0.9930 - lr: 0.0080 - 53ms/epoch - 6ms/step\n",
      "Epoch 149/300\n",
      "9/9 - 0s - loss: 0.0807 - accuracy: 0.9686 - lr: 0.0080 - 57ms/epoch - 6ms/step\n",
      "Epoch 150/300\n",
      "9/9 - 0s - loss: 0.0643 - accuracy: 0.9791 - lr: 0.0080 - 59ms/epoch - 7ms/step\n",
      "Epoch 151/300\n",
      "9/9 - 0s - loss: 0.0367 - accuracy: 0.9861 - lr: 0.0080 - 56ms/epoch - 6ms/step\n",
      "Epoch 152/300\n",
      "9/9 - 0s - loss: 0.0481 - accuracy: 0.9861 - lr: 0.0080 - 54ms/epoch - 6ms/step\n",
      "Epoch 153/300\n",
      "9/9 - 0s - loss: 0.0819 - accuracy: 0.9791 - lr: 0.0080 - 50ms/epoch - 6ms/step\n",
      "Epoch 154/300\n",
      "9/9 - 0s - loss: 0.0460 - accuracy: 0.9826 - lr: 0.0080 - 49ms/epoch - 5ms/step\n",
      "Epoch 155/300\n",
      "9/9 - 0s - loss: 0.0256 - accuracy: 0.9861 - lr: 0.0079 - 49ms/epoch - 5ms/step\n",
      "Epoch 156/300\n",
      "9/9 - 0s - loss: 0.0254 - accuracy: 0.9895 - lr: 0.0079 - 54ms/epoch - 6ms/step\n",
      "Epoch 157/300\n",
      "9/9 - 0s - loss: 0.0199 - accuracy: 0.9895 - lr: 0.0079 - 62ms/epoch - 7ms/step\n",
      "Epoch 158/300\n",
      "9/9 - 0s - loss: 0.0224 - accuracy: 0.9861 - lr: 0.0079 - 60ms/epoch - 7ms/step\n",
      "Epoch 159/300\n",
      "9/9 - 0s - loss: 0.0339 - accuracy: 0.9791 - lr: 0.0079 - 57ms/epoch - 6ms/step\n",
      "Epoch 160/300\n",
      "9/9 - 0s - loss: 0.0240 - accuracy: 0.9895 - lr: 0.0079 - 61ms/epoch - 7ms/step\n",
      "Epoch 161/300\n",
      "9/9 - 0s - loss: 0.0181 - accuracy: 0.9895 - lr: 0.0079 - 61ms/epoch - 7ms/step\n",
      "Epoch 162/300\n",
      "9/9 - 0s - loss: 0.0145 - accuracy: 0.9930 - lr: 0.0079 - 53ms/epoch - 6ms/step\n",
      "Epoch 163/300\n",
      "9/9 - 0s - loss: 0.0293 - accuracy: 0.9826 - lr: 0.0078 - 54ms/epoch - 6ms/step\n",
      "Epoch 164/300\n",
      "9/9 - 0s - loss: 0.0222 - accuracy: 0.9895 - lr: 0.0078 - 54ms/epoch - 6ms/step\n",
      "Epoch 165/300\n",
      "9/9 - 0s - loss: 0.0366 - accuracy: 0.9861 - lr: 0.0078 - 60ms/epoch - 7ms/step\n",
      "Epoch 166/300\n",
      "9/9 - 0s - loss: 0.0263 - accuracy: 0.9861 - lr: 0.0078 - 56ms/epoch - 6ms/step\n",
      "Epoch 167/300\n",
      "9/9 - 0s - loss: 0.0223 - accuracy: 0.9861 - lr: 0.0078 - 59ms/epoch - 7ms/step\n",
      "Epoch 168/300\n",
      "9/9 - 0s - loss: 0.0358 - accuracy: 0.9861 - lr: 0.0078 - 53ms/epoch - 6ms/step\n",
      "Epoch 169/300\n",
      "9/9 - 0s - loss: 0.0419 - accuracy: 0.9826 - lr: 0.0078 - 52ms/epoch - 6ms/step\n",
      "Epoch 170/300\n",
      "9/9 - 0s - loss: 0.0340 - accuracy: 0.9861 - lr: 0.0077 - 50ms/epoch - 6ms/step\n",
      "Epoch 171/300\n",
      "9/9 - 0s - loss: 0.0495 - accuracy: 0.9826 - lr: 0.0077 - 49ms/epoch - 5ms/step\n",
      "Epoch 172/300\n",
      "9/9 - 0s - loss: 0.0436 - accuracy: 0.9861 - lr: 0.0077 - 53ms/epoch - 6ms/step\n",
      "Epoch 173/300\n",
      "9/9 - 0s - loss: 0.0261 - accuracy: 0.9895 - lr: 0.0077 - 56ms/epoch - 6ms/step\n",
      "Epoch 174/300\n",
      "9/9 - 0s - loss: 0.0310 - accuracy: 0.9861 - lr: 0.0077 - 57ms/epoch - 6ms/step\n",
      "Epoch 175/300\n",
      "9/9 - 0s - loss: 0.0221 - accuracy: 0.9861 - lr: 0.0077 - 53ms/epoch - 6ms/step\n",
      "Epoch 176/300\n",
      "9/9 - 0s - loss: 0.0281 - accuracy: 0.9895 - lr: 0.0077 - 54ms/epoch - 6ms/step\n",
      "Epoch 177/300\n",
      "9/9 - 0s - loss: 0.0538 - accuracy: 0.9756 - lr: 0.0077 - 49ms/epoch - 5ms/step\n",
      "Epoch 178/300\n",
      "9/9 - 0s - loss: 0.0696 - accuracy: 0.9686 - lr: 0.0076 - 51ms/epoch - 6ms/step\n",
      "Epoch 179/300\n",
      "9/9 - 0s - loss: 0.0231 - accuracy: 0.9895 - lr: 0.0076 - 53ms/epoch - 6ms/step\n",
      "Epoch 180/300\n",
      "9/9 - 0s - loss: 0.0455 - accuracy: 0.9791 - lr: 0.0076 - 58ms/epoch - 6ms/step\n",
      "Epoch 181/300\n",
      "9/9 - 0s - loss: 0.0291 - accuracy: 0.9861 - lr: 0.0076 - 55ms/epoch - 6ms/step\n",
      "Epoch 182/300\n",
      "9/9 - 0s - loss: 0.0207 - accuracy: 0.9930 - lr: 0.0076 - 61ms/epoch - 7ms/step\n",
      "Epoch 183/300\n",
      "9/9 - 0s - loss: 0.0212 - accuracy: 0.9861 - lr: 0.0076 - 54ms/epoch - 6ms/step\n",
      "Epoch 184/300\n",
      "9/9 - 0s - loss: 0.0250 - accuracy: 0.9895 - lr: 0.0076 - 50ms/epoch - 6ms/step\n",
      "Epoch 185/300\n",
      "9/9 - 0s - loss: 0.0433 - accuracy: 0.9826 - lr: 0.0075 - 49ms/epoch - 5ms/step\n",
      "Epoch 186/300\n",
      "9/9 - 0s - loss: 0.0221 - accuracy: 0.9861 - lr: 0.0075 - 53ms/epoch - 6ms/step\n",
      "Epoch 187/300\n",
      "9/9 - 0s - loss: 0.0230 - accuracy: 0.9861 - lr: 0.0075 - 56ms/epoch - 6ms/step\n",
      "Epoch 188/300\n",
      "9/9 - 0s - loss: 0.0177 - accuracy: 0.9965 - lr: 0.0075 - 59ms/epoch - 7ms/step\n",
      "Epoch 189/300\n",
      "9/9 - 0s - loss: 0.0216 - accuracy: 0.9861 - lr: 0.0075 - 58ms/epoch - 6ms/step\n",
      "Epoch 190/300\n",
      "9/9 - 0s - loss: 0.0193 - accuracy: 0.9895 - lr: 0.0075 - 48ms/epoch - 5ms/step\n",
      "Epoch 191/300\n",
      "9/9 - 0s - loss: 0.0248 - accuracy: 0.9861 - lr: 0.0075 - 48ms/epoch - 5ms/step\n",
      "Epoch 192/300\n",
      "9/9 - 0s - loss: 0.0214 - accuracy: 0.9895 - lr: 0.0075 - 51ms/epoch - 6ms/step\n",
      "Epoch 193/300\n",
      "9/9 - 0s - loss: 0.0262 - accuracy: 0.9861 - lr: 0.0074 - 54ms/epoch - 6ms/step\n",
      "Epoch 194/300\n",
      "9/9 - 0s - loss: 0.0218 - accuracy: 0.9930 - lr: 0.0074 - 60ms/epoch - 7ms/step\n",
      "Epoch 195/300\n",
      "9/9 - 0s - loss: 0.0392 - accuracy: 0.9791 - lr: 0.0074 - 56ms/epoch - 6ms/step\n",
      "Epoch 196/300\n",
      "9/9 - 0s - loss: 0.0233 - accuracy: 0.9895 - lr: 0.0074 - 56ms/epoch - 6ms/step\n",
      "Epoch 197/300\n",
      "9/9 - 0s - loss: 0.0178 - accuracy: 0.9930 - lr: 0.0074 - 49ms/epoch - 5ms/step\n",
      "Epoch 198/300\n",
      "9/9 - 0s - loss: 0.0215 - accuracy: 0.9895 - lr: 0.0074 - 49ms/epoch - 5ms/step\n",
      "Epoch 199/300\n",
      "9/9 - 0s - loss: 0.0259 - accuracy: 0.9895 - lr: 0.0074 - 50ms/epoch - 6ms/step\n",
      "Epoch 200/300\n",
      "9/9 - 0s - loss: 0.0199 - accuracy: 0.9895 - lr: 0.0073 - 50ms/epoch - 6ms/step\n",
      "Epoch 201/300\n",
      "9/9 - 0s - loss: 0.0182 - accuracy: 0.9895 - lr: 0.0073 - 59ms/epoch - 7ms/step\n",
      "Epoch 202/300\n",
      "9/9 - 0s - loss: 0.0180 - accuracy: 0.9930 - lr: 0.0073 - 56ms/epoch - 6ms/step\n",
      "Epoch 203/300\n",
      "9/9 - 0s - loss: 0.0184 - accuracy: 0.9895 - lr: 0.0073 - 57ms/epoch - 6ms/step\n",
      "Epoch 204/300\n",
      "9/9 - 0s - loss: 0.0182 - accuracy: 0.9895 - lr: 0.0073 - 54ms/epoch - 6ms/step\n",
      "Epoch 205/300\n",
      "9/9 - 0s - loss: 0.0247 - accuracy: 0.9861 - lr: 0.0073 - 52ms/epoch - 6ms/step\n",
      "Epoch 206/300\n",
      "9/9 - 0s - loss: 0.0189 - accuracy: 0.9861 - lr: 0.0073 - 51ms/epoch - 6ms/step\n",
      "Epoch 207/300\n",
      "9/9 - 0s - loss: 0.0241 - accuracy: 0.9861 - lr: 0.0073 - 54ms/epoch - 6ms/step\n",
      "Epoch 208/300\n",
      "9/9 - 0s - loss: 0.0194 - accuracy: 0.9895 - lr: 0.0072 - 59ms/epoch - 7ms/step\n",
      "Epoch 209/300\n",
      "9/9 - 0s - loss: 0.0322 - accuracy: 0.9861 - lr: 0.0072 - 56ms/epoch - 6ms/step\n",
      "Epoch 210/300\n",
      "9/9 - 0s - loss: 0.0190 - accuracy: 0.9895 - lr: 0.0072 - 56ms/epoch - 6ms/step\n",
      "Epoch 211/300\n",
      "9/9 - 0s - loss: 0.0322 - accuracy: 0.9791 - lr: 0.0072 - 51ms/epoch - 6ms/step\n",
      "Epoch 212/300\n",
      "9/9 - 0s - loss: 0.0199 - accuracy: 0.9895 - lr: 0.0072 - 49ms/epoch - 5ms/step\n",
      "Epoch 213/300\n",
      "9/9 - 0s - loss: 0.0261 - accuracy: 0.9861 - lr: 0.0072 - 49ms/epoch - 5ms/step\n",
      "Epoch 214/300\n",
      "9/9 - 0s - loss: 0.0179 - accuracy: 0.9895 - lr: 0.0072 - 50ms/epoch - 6ms/step\n",
      "Epoch 215/300\n",
      "9/9 - 0s - loss: 0.0217 - accuracy: 0.9861 - lr: 0.0071 - 51ms/epoch - 6ms/step\n",
      "Epoch 216/300\n",
      "9/9 - 0s - loss: 0.0201 - accuracy: 0.9826 - lr: 0.0071 - 56ms/epoch - 6ms/step\n",
      "Epoch 217/300\n",
      "9/9 - 0s - loss: 0.0191 - accuracy: 0.9895 - lr: 0.0071 - 60ms/epoch - 7ms/step\n",
      "Epoch 218/300\n",
      "9/9 - 0s - loss: 0.0291 - accuracy: 0.9826 - lr: 0.0071 - 58ms/epoch - 6ms/step\n",
      "Epoch 219/300\n",
      "9/9 - 0s - loss: 0.0188 - accuracy: 0.9930 - lr: 0.0071 - 54ms/epoch - 6ms/step\n",
      "Epoch 220/300\n",
      "9/9 - 0s - loss: 0.0189 - accuracy: 0.9895 - lr: 0.0071 - 52ms/epoch - 6ms/step\n",
      "Epoch 221/300\n",
      "9/9 - 0s - loss: 0.0218 - accuracy: 0.9895 - lr: 0.0071 - 53ms/epoch - 6ms/step\n",
      "Epoch 222/300\n",
      "9/9 - 0s - loss: 0.0175 - accuracy: 0.9895 - lr: 0.0071 - 51ms/epoch - 6ms/step\n",
      "Epoch 223/300\n",
      "9/9 - 0s - loss: 0.0240 - accuracy: 0.9861 - lr: 0.0070 - 55ms/epoch - 6ms/step\n",
      "Epoch 224/300\n",
      "9/9 - 0s - loss: 0.0189 - accuracy: 0.9895 - lr: 0.0070 - 61ms/epoch - 7ms/step\n",
      "Epoch 225/300\n",
      "9/9 - 0s - loss: 0.0248 - accuracy: 0.9861 - lr: 0.0070 - 55ms/epoch - 6ms/step\n",
      "Epoch 226/300\n",
      "9/9 - 0s - loss: 0.0183 - accuracy: 0.9930 - lr: 0.0070 - 57ms/epoch - 6ms/step\n",
      "Epoch 227/300\n",
      "9/9 - 0s - loss: 0.0186 - accuracy: 0.9930 - lr: 0.0070 - 50ms/epoch - 6ms/step\n",
      "Epoch 228/300\n",
      "9/9 - 0s - loss: 0.0207 - accuracy: 0.9861 - lr: 0.0070 - 49ms/epoch - 5ms/step\n",
      "Epoch 229/300\n",
      "9/9 - 0s - loss: 0.0174 - accuracy: 0.9895 - lr: 0.0070 - 53ms/epoch - 6ms/step\n",
      "Epoch 230/300\n",
      "9/9 - 0s - loss: 0.0240 - accuracy: 0.9861 - lr: 0.0069 - 54ms/epoch - 6ms/step\n",
      "Epoch 231/300\n",
      "9/9 - 0s - loss: 0.0277 - accuracy: 0.9861 - lr: 0.0069 - 54ms/epoch - 6ms/step\n",
      "Epoch 232/300\n",
      "9/9 - 0s - loss: 0.0236 - accuracy: 0.9861 - lr: 0.0069 - 61ms/epoch - 7ms/step\n",
      "Epoch 233/300\n",
      "9/9 - 0s - loss: 0.0324 - accuracy: 0.9861 - lr: 0.0069 - 56ms/epoch - 6ms/step\n",
      "Epoch 234/300\n",
      "9/9 - 0s - loss: 0.0176 - accuracy: 0.9895 - lr: 0.0069 - 54ms/epoch - 6ms/step\n",
      "Epoch 235/300\n",
      "9/9 - 0s - loss: 0.0184 - accuracy: 0.9930 - lr: 0.0069 - 52ms/epoch - 6ms/step\n",
      "Epoch 236/300\n",
      "9/9 - 0s - loss: 0.0147 - accuracy: 0.9965 - lr: 0.0069 - 48ms/epoch - 5ms/step\n",
      "Epoch 237/300\n",
      "9/9 - 0s - loss: 0.0238 - accuracy: 0.9861 - lr: 0.0069 - 52ms/epoch - 6ms/step\n",
      "Epoch 238/300\n",
      "9/9 - 0s - loss: 0.0130 - accuracy: 0.9965 - lr: 0.0068 - 54ms/epoch - 6ms/step\n",
      "Epoch 239/300\n",
      "9/9 - 0s - loss: 0.0141 - accuracy: 0.9965 - lr: 0.0068 - 56ms/epoch - 6ms/step\n",
      "Epoch 240/300\n",
      "9/9 - 0s - loss: 0.0158 - accuracy: 0.9930 - lr: 0.0068 - 59ms/epoch - 7ms/step\n",
      "Epoch 241/300\n",
      "9/9 - 0s - loss: 0.0270 - accuracy: 0.9826 - lr: 0.0068 - 56ms/epoch - 6ms/step\n",
      "Epoch 242/300\n",
      "9/9 - 0s - loss: 0.0205 - accuracy: 0.9895 - lr: 0.0068 - 56ms/epoch - 6ms/step\n",
      "Epoch 243/300\n",
      "9/9 - 0s - loss: 0.0230 - accuracy: 0.9861 - lr: 0.0068 - 48ms/epoch - 5ms/step\n",
      "Epoch 244/300\n",
      "9/9 - 0s - loss: 0.0223 - accuracy: 0.9861 - lr: 0.0068 - 53ms/epoch - 6ms/step\n",
      "Epoch 245/300\n",
      "9/9 - 0s - loss: 0.0181 - accuracy: 0.9930 - lr: 0.0067 - 56ms/epoch - 6ms/step\n",
      "Epoch 246/300\n",
      "9/9 - 0s - loss: 0.0426 - accuracy: 0.9826 - lr: 0.0067 - 57ms/epoch - 6ms/step\n",
      "Epoch 247/300\n",
      "9/9 - 0s - loss: 0.0468 - accuracy: 0.9861 - lr: 0.0067 - 53ms/epoch - 6ms/step\n",
      "Epoch 248/300\n",
      "9/9 - 0s - loss: 0.0576 - accuracy: 0.9861 - lr: 0.0067 - 57ms/epoch - 6ms/step\n",
      "Epoch 249/300\n",
      "9/9 - 0s - loss: 0.0191 - accuracy: 0.9895 - lr: 0.0067 - 54ms/epoch - 6ms/step\n",
      "Epoch 250/300\n",
      "9/9 - 0s - loss: 0.0263 - accuracy: 0.9895 - lr: 0.0067 - 52ms/epoch - 6ms/step\n",
      "Epoch 251/300\n",
      "9/9 - 0s - loss: 0.0199 - accuracy: 0.9895 - lr: 0.0067 - 49ms/epoch - 5ms/step\n",
      "Epoch 252/300\n",
      "9/9 - 0s - loss: 0.0275 - accuracy: 0.9895 - lr: 0.0067 - 55ms/epoch - 6ms/step\n",
      "Epoch 253/300\n",
      "9/9 - 0s - loss: 0.0201 - accuracy: 0.9861 - lr: 0.0066 - 57ms/epoch - 6ms/step\n",
      "Epoch 254/300\n",
      "9/9 - 0s - loss: 0.0195 - accuracy: 0.9861 - lr: 0.0066 - 56ms/epoch - 6ms/step\n",
      "Epoch 255/300\n",
      "9/9 - 0s - loss: 0.0189 - accuracy: 0.9861 - lr: 0.0066 - 55ms/epoch - 6ms/step\n",
      "Epoch 256/300\n",
      "9/9 - 0s - loss: 0.0209 - accuracy: 0.9930 - lr: 0.0066 - 53ms/epoch - 6ms/step\n",
      "Epoch 257/300\n",
      "9/9 - 0s - loss: 0.0187 - accuracy: 0.9930 - lr: 0.0066 - 50ms/epoch - 6ms/step\n",
      "Epoch 258/300\n",
      "9/9 - 0s - loss: 0.0224 - accuracy: 0.9861 - lr: 0.0066 - 53ms/epoch - 6ms/step\n",
      "Epoch 259/300\n",
      "9/9 - 0s - loss: 0.0194 - accuracy: 0.9861 - lr: 0.0066 - 52ms/epoch - 6ms/step\n",
      "Epoch 260/300\n",
      "9/9 - 0s - loss: 0.0175 - accuracy: 0.9930 - lr: 0.0065 - 53ms/epoch - 6ms/step\n",
      "Epoch 261/300\n",
      "9/9 - 0s - loss: 0.0201 - accuracy: 0.9861 - lr: 0.0065 - 55ms/epoch - 6ms/step\n",
      "Epoch 262/300\n",
      "9/9 - 0s - loss: 0.0238 - accuracy: 0.9895 - lr: 0.0065 - 56ms/epoch - 6ms/step\n",
      "Epoch 263/300\n",
      "9/9 - 0s - loss: 0.0253 - accuracy: 0.9861 - lr: 0.0065 - 52ms/epoch - 6ms/step\n",
      "Epoch 264/300\n",
      "9/9 - 0s - loss: 0.0167 - accuracy: 0.9965 - lr: 0.0065 - 51ms/epoch - 6ms/step\n",
      "Epoch 265/300\n",
      "9/9 - 0s - loss: 0.0171 - accuracy: 0.9930 - lr: 0.0065 - 48ms/epoch - 5ms/step\n",
      "Epoch 266/300\n",
      "9/9 - 0s - loss: 0.0172 - accuracy: 0.9895 - lr: 0.0065 - 48ms/epoch - 5ms/step\n",
      "Epoch 267/300\n",
      "9/9 - 0s - loss: 0.0183 - accuracy: 0.9895 - lr: 0.0065 - 54ms/epoch - 6ms/step\n",
      "Epoch 268/300\n",
      "9/9 - 0s - loss: 0.0214 - accuracy: 0.9930 - lr: 0.0064 - 55ms/epoch - 6ms/step\n",
      "Epoch 269/300\n",
      "9/9 - 0s - loss: 0.0189 - accuracy: 0.9930 - lr: 0.0064 - 58ms/epoch - 6ms/step\n",
      "Epoch 270/300\n",
      "9/9 - 0s - loss: 0.0180 - accuracy: 0.9930 - lr: 0.0064 - 55ms/epoch - 6ms/step\n",
      "Epoch 271/300\n",
      "9/9 - 0s - loss: 0.0228 - accuracy: 0.9895 - lr: 0.0064 - 58ms/epoch - 6ms/step\n",
      "Epoch 272/300\n",
      "9/9 - 0s - loss: 0.0249 - accuracy: 0.9826 - lr: 0.0064 - 49ms/epoch - 5ms/step\n",
      "Epoch 273/300\n",
      "9/9 - 0s - loss: 0.0194 - accuracy: 0.9895 - lr: 0.0064 - 50ms/epoch - 6ms/step\n",
      "Epoch 274/300\n",
      "9/9 - 0s - loss: 0.0228 - accuracy: 0.9826 - lr: 0.0064 - 55ms/epoch - 6ms/step\n",
      "Epoch 275/300\n",
      "9/9 - 0s - loss: 0.0180 - accuracy: 0.9895 - lr: 0.0063 - 56ms/epoch - 6ms/step\n",
      "Epoch 276/300\n",
      "9/9 - 0s - loss: 0.0165 - accuracy: 0.9895 - lr: 0.0063 - 56ms/epoch - 6ms/step\n",
      "Epoch 277/300\n",
      "9/9 - 0s - loss: 0.0210 - accuracy: 0.9861 - lr: 0.0063 - 58ms/epoch - 6ms/step\n",
      "Epoch 278/300\n",
      "9/9 - 0s - loss: 0.0175 - accuracy: 0.9930 - lr: 0.0063 - 56ms/epoch - 6ms/step\n",
      "Epoch 279/300\n",
      "9/9 - 0s - loss: 0.0162 - accuracy: 0.9930 - lr: 0.0063 - 58ms/epoch - 6ms/step\n",
      "Epoch 280/300\n",
      "9/9 - 0s - loss: 0.0207 - accuracy: 0.9861 - lr: 0.0063 - 53ms/epoch - 6ms/step\n",
      "Epoch 281/300\n",
      "9/9 - 0s - loss: 0.0160 - accuracy: 0.9930 - lr: 0.0063 - 55ms/epoch - 6ms/step\n",
      "Epoch 282/300\n",
      "9/9 - 0s - loss: 0.0188 - accuracy: 0.9861 - lr: 0.0063 - 51ms/epoch - 6ms/step\n",
      "Epoch 283/300\n",
      "9/9 - 0s - loss: 0.0194 - accuracy: 0.9895 - lr: 0.0062 - 52ms/epoch - 6ms/step\n",
      "Epoch 284/300\n",
      "9/9 - 0s - loss: 0.0173 - accuracy: 0.9895 - lr: 0.0062 - 55ms/epoch - 6ms/step\n",
      "Epoch 285/300\n",
      "9/9 - 0s - loss: 0.0188 - accuracy: 0.9895 - lr: 0.0062 - 54ms/epoch - 6ms/step\n",
      "Epoch 286/300\n",
      "9/9 - 0s - loss: 0.0180 - accuracy: 0.9930 - lr: 0.0062 - 55ms/epoch - 6ms/step\n",
      "Epoch 287/300\n",
      "9/9 - 0s - loss: 0.0168 - accuracy: 0.9930 - lr: 0.0062 - 55ms/epoch - 6ms/step\n",
      "Epoch 288/300\n",
      "9/9 - 0s - loss: 0.0200 - accuracy: 0.9895 - lr: 0.0062 - 56ms/epoch - 6ms/step\n",
      "Epoch 289/300\n",
      "9/9 - 0s - loss: 0.0235 - accuracy: 0.9895 - lr: 0.0062 - 57ms/epoch - 6ms/step\n",
      "Epoch 290/300\n",
      "9/9 - 0s - loss: 0.0172 - accuracy: 0.9861 - lr: 0.0061 - 54ms/epoch - 6ms/step\n",
      "Epoch 291/300\n",
      "9/9 - 0s - loss: 0.0218 - accuracy: 0.9861 - lr: 0.0061 - 52ms/epoch - 6ms/step\n",
      "Epoch 292/300\n",
      "9/9 - 0s - loss: 0.0199 - accuracy: 0.9930 - lr: 0.0061 - 50ms/epoch - 6ms/step\n",
      "Epoch 293/300\n",
      "9/9 - 0s - loss: 0.0202 - accuracy: 0.9861 - lr: 0.0061 - 53ms/epoch - 6ms/step\n",
      "Epoch 294/300\n",
      "9/9 - 0s - loss: 0.0160 - accuracy: 0.9930 - lr: 0.0061 - 54ms/epoch - 6ms/step\n",
      "Epoch 295/300\n",
      "9/9 - 0s - loss: 0.0219 - accuracy: 0.9826 - lr: 0.0061 - 59ms/epoch - 7ms/step\n",
      "Epoch 296/300\n",
      "9/9 - 0s - loss: 0.0172 - accuracy: 0.9895 - lr: 0.0061 - 56ms/epoch - 6ms/step\n",
      "Epoch 297/300\n",
      "9/9 - 0s - loss: 0.0203 - accuracy: 0.9895 - lr: 0.0061 - 55ms/epoch - 6ms/step\n",
      "Epoch 298/300\n",
      "9/9 - 0s - loss: 0.0233 - accuracy: 0.9895 - lr: 0.0060 - 51ms/epoch - 6ms/step\n",
      "Epoch 299/300\n",
      "9/9 - 0s - loss: 0.0223 - accuracy: 0.9861 - lr: 0.0060 - 49ms/epoch - 5ms/step\n",
      "Epoch 300/300\n",
      "9/9 - 0s - loss: 0.0183 - accuracy: 0.9895 - lr: 0.0060 - 49ms/epoch - 5ms/step\n"
     ]
    }
   ],
   "source": [
    "model.compile(loss='categorical_crossentropy', optimizer=opt, metrics=['accuracy'])\n",
    "# history = model.fit(x_train, y_train, epochs=args.epochs, batch_size=args.bs, verbose=2)   ## using no class weight\n",
    "# history = model.fit(x_train, y_train, epochs=args.epochs, batch_size=args.bs, verbose=2, class_weight = class_weight)  ## using class weight\n",
    "history = model.fit(x_train, y_train, epochs=args.epochs, batch_size=args.bs, callbacks=[lr_scheduler], class_weight = class_weight, verbose=2) ## using LR scheduler callback"
   ]
  },
  {
   "cell_type": "code",
   "execution_count": null,
   "id": "d975db5d-b42e-4329-9f11-7f9b70e426ea",
   "metadata": {},
   "outputs": [],
   "source": []
  },
  {
   "cell_type": "markdown",
   "id": "5f14dac1-c848-4693-9002-6e5d5ca8f048",
   "metadata": {},
   "source": [
    "***"
   ]
  },
  {
   "cell_type": "code",
   "execution_count": 130,
   "id": "33d4144c-181a-4266-8ce3-8cd2063f65b2",
   "metadata": {},
   "outputs": [
    {
     "name": "stdout",
     "output_type": "stream",
     "text": [
      "6/6 [==============================] - 0s 2ms/step\n",
      "[[0.58108108 0.30909091 0.3968254 ]\n",
      " [0.17567568 0.50909091 0.19047619]\n",
      " [0.24324324 0.18181818 0.41269841]]\n"
     ]
    }
   ],
   "source": [
    "y_predict = model.predict(x_test)\n",
    "y_predict = np.argmax(y_predict, axis = 1)\n",
    "y_test = np.argmax(y_test, axis = 1)\n",
    "\n",
    "result = confusion_matrix(y_test, y_predict, normalize = 'pred')\n",
    "print(result)"
   ]
  },
  {
   "cell_type": "code",
   "execution_count": 131,
   "id": "6bb54cbf-a06b-4861-b212-f8b59f7b1c34",
   "metadata": {},
   "outputs": [
    {
     "data": {
      "image/png": "[encoded data removed]",
      "text/plain": [
       "<Figure size 600x400 with 2 Axes>"
      ]
     },
     "metadata": {},
     "output_type": "display_data"
    }
   ],
   "source": [
    "figure = plt.figure(figsize=(6, 4))\n",
    "sns.heatmap(result, annot=True,cmap=plt.cm.Blues)\n",
    "plt.tight_layout()\n",
    "plt.ylabel('True label')\n",
    "plt.xlabel('Predicted label')\n",
    "plt.show()"
   ]
  },
  {
   "cell_type": "code",
   "execution_count": 132,
   "id": "b6069d14-47e5-48bf-b5be-e9ae4cd2d3f2",
   "metadata": {},
   "outputs": [
    {
     "name": "stdout",
     "output_type": "stream",
     "text": [
      "=============================================\n",
      "The overall accuracy is: 0.5052\n",
      "The precision score is: 0.501\n",
      "The recall score is: 0.5052\n",
      "The f1 score is: 0.5076\n",
      "The AUC score is: 0.6861\n",
      "=============================================\n"
     ]
    }
   ],
   "source": [
    "accuracy = metrics.accuracy_score(y_test, y_predict)\n",
    "precision = metrics.precision_score(y_test, y_predict, average = 'macro')\n",
    "recall = metrics.recall_score(y_test, y_predict, average = 'micro')\n",
    "f1 = metrics.f1_score(y_test, y_predict, average = 'weighted')\n",
    "auc = roc_auc_score(y_test, model.predict(x_test, verbose=0), multi_class='ovr')\n",
    "\n",
    "print(\"=============================================\")\n",
    "print(\"The overall accuracy is:\", round(accuracy, 4))\n",
    "print(\"The precision score is:\", round(precision, 4))\n",
    "print(\"The recall score is:\", round(recall, 4))\n",
    "print(\"The f1 score is:\", round(f1, 4))\n",
    "print(\"The AUC score is:\", round(auc, 4))\n",
    "print(\"=============================================\")"
   ]
  },
  {
   "cell_type": "code",
   "execution_count": null,
   "id": "2ee306ab-7e58-4dbe-ae53-81288849ea4b",
   "metadata": {},
   "outputs": [],
   "source": []
  },
  {
   "cell_type": "code",
   "execution_count": null,
   "id": "c7f74401-b0c1-4a95-b7ec-d9b59bb4a607",
   "metadata": {},
   "outputs": [],
   "source": []
  },
  {
   "cell_type": "code",
   "execution_count": null,
   "id": "b0ad9241-3cb9-4006-94d3-1a81ccf3b71a",
   "metadata": {},
   "outputs": [],
   "source": []
  },
  {
   "cell_type": "code",
   "execution_count": null,
   "id": "6f0e2262-146a-4478-b107-4ab34853051e",
   "metadata": {},
   "outputs": [],
   "source": []
  },
  {
   "cell_type": "markdown",
   "id": "4c45e383-4895-4dda-813c-ead039ec9009",
   "metadata": {},
   "source": [
    "***"
   ]
  },
  {
   "cell_type": "markdown",
   "id": "5c91ad0f-2d8f-49a7-8b97-85cd38696300",
   "metadata": {},
   "source": [
    "#### k-fold"
   ]
  },
  {
   "cell_type": "code",
   "execution_count": 55,
   "id": "5a14f108-e380-4562-97b9-fad434bc53c7",
   "metadata": {},
   "outputs": [],
   "source": [
    "x_trainset, x_test, y_trainset, y_test = train_test_split(ori_x, ori_y, test_size = 0.4, random_state = 710674)"
   ]
  },
  {
   "cell_type": "code",
   "execution_count": 56,
   "id": "744dadc1-ec6f-4299-87a6-c00a66fb22a8",
   "metadata": {},
   "outputs": [],
   "source": [
    "x_train, x_vali, y_train, y_vali = train_test_split(x_trainset, y_trainset, test_size = 0.2, random_state = 710674)"
   ]
  },
  {
   "cell_type": "code",
   "execution_count": 59,
   "id": "5088a085-fb59-450a-91f5-00d29aa448bb",
   "metadata": {},
   "outputs": [],
   "source": [
    "inputs = np.concatenate((x_train, x_vali), axis = 0)\n",
    "targets = np.concatenate((y_train, y_vali), axis = 0)"
   ]
  },
  {
   "cell_type": "code",
   "execution_count": 60,
   "id": "0abccf00-241c-4224-9cf0-5dddaee8ee71",
   "metadata": {},
   "outputs": [],
   "source": [
    "fold_num = 1\n",
    "split_num = 5\n",
    "opt = keras.optimizers.SGD(learning_rate = args.lr, decay = 1e-6, momentum = args.momentum)\n",
    "kfold = KFold(n_splits = split_num, shuffle = True)"
   ]
  },
  {
   "cell_type": "code",
   "execution_count": 61,
   "id": "df9fba3d-b601-4e2d-baa5-623b934167d6",
   "metadata": {},
   "outputs": [],
   "source": [
    "############## FOR balanced CLASSIFICATION ###############\n",
    "class_weight = {0:1, 1:1.3, 2: 1.43} ## con 194, pd 149, mdd 136"
   ]
  },
  {
   "cell_type": "code",
   "execution_count": 62,
   "id": "c714002a-a0cf-4b96-8e5a-92634747fd60",
   "metadata": {},
   "outputs": [],
   "source": [
    "acc_per_fold = []\n",
    "loss_per_fold = []"
   ]
  },
  {
   "cell_type": "code",
   "execution_count": 63,
   "id": "7c3c9406-083f-4d68-bdda-8d89c7484be0",
   "metadata": {},
   "outputs": [
    {
     "data": {
      "text/plain": [
       "(229, 78)"
      ]
     },
     "execution_count": 63,
     "metadata": {},
     "output_type": "execute_result"
    }
   ],
   "source": [
    "x_train.shape"
   ]
  },
  {
   "cell_type": "code",
   "execution_count": 64,
   "id": "3432f2de-8038-40d7-9223-ebd3eb6dd9a3",
   "metadata": {},
   "outputs": [
    {
     "data": {
      "text/plain": [
       "Index(['b1SDNN', 'b1NN50', 'b1PNN50', 'b1RMSSD', 'b1VLF', 'b1LF', 'b1HF',\n",
       "       'b1LF/HF', 'b1POWER', 'b1HR', 'b1RESP', 'b1SC', 'b1TEMP', 'sSDNN',\n",
       "       'sNN50', 'sPNN50', 'sRMSSD', 'sVLF', 'sLF', 'sHF', 'sLF/HF', 'sPOWER',\n",
       "       'sHR', 'sRESP', 'sSC', 'sTEMP', 'b2SDNN', 'b2NN50', 'b2PNN50',\n",
       "       'b2RMSSD', 'b2VLF', 'b2LF', 'b2HF', 'b2LF/HF', 'b2POWER', 'b2HR',\n",
       "       'b2RESP', 'b2SC', 'b2TEMP', 'rSDNN', 'rNN50', 'rPNN50', 'rRMSSD',\n",
       "       'rVLF', 'rLF', 'rHF', 'rLF/HF', 'rPOWER', 'rHR', 'rRESP', 'rSC',\n",
       "       'rTEMP', 'b3SDNN', 'b3NN50', 'b3PNN50', 'b3RMSSD', 'b3VLF', 'b3LF',\n",
       "       'b3HF', 'b3LF/HF', 'b3POWER', 'b3HR', 'b3RESP', 'b3SC', 'b3TEMP',\n",
       "       'cSDNN', 'cNN50', 'cPNN50', 'cRMSSD', 'cVLF', 'cLF', 'cHF', 'cLF/HF',\n",
       "       'cPOWER', 'cHR', 'cRESP', 'cSC', 'cTEMP'],\n",
       "      dtype='object')"
      ]
     },
     "execution_count": 64,
     "metadata": {},
     "output_type": "execute_result"
    }
   ],
   "source": [
    "x_train.columns"
   ]
  },
  {
   "cell_type": "code",
   "execution_count": 65,
   "id": "80fb1d30-a20a-4be3-a67e-7ad0090620c3",
   "metadata": {},
   "outputs": [
    {
     "name": "stdout",
     "output_type": "stream",
     "text": [
      "----------------------------------------\n",
      "Training or fold 1 ... \n",
      "2/2 [==============================] - 0s 2ms/step - loss: 1.0899 - accuracy: 0.4138\n",
      "Score for fold 1: loss of 1.0899096727371216; accuracy of 41.37931168079376%\n",
      "accuracy: 41.38%\n",
      "----------------------------------------\n",
      "Training or fold 2 ... \n",
      "2/2 [==============================] - 0s 3ms/step - loss: 1.1119 - accuracy: 0.3103\n",
      "Score for fold 2: loss of 1.111851453781128; accuracy of 31.034481525421143%\n",
      "accuracy: 31.03%\n",
      "----------------------------------------\n",
      "Training or fold 3 ... \n",
      "2/2 [==============================] - 0s 3ms/step - loss: 1.2685 - accuracy: 0.3509\n",
      "Score for fold 3: loss of 1.2685484886169434; accuracy of 35.087719559669495%\n",
      "accuracy: 35.09%\n",
      "----------------------------------------\n",
      "Training or fold 4 ... \n",
      "2/2 [==============================] - 0s 3ms/step - loss: 1.0941 - accuracy: 0.4561\n",
      "Score for fold 4: loss of 1.0940521955490112; accuracy of 45.614033937454224%\n",
      "accuracy: 45.61%\n",
      "----------------------------------------\n",
      "Training or fold 5 ... \n",
      "WARNING:tensorflow:5 out of the last 9 calls to <function Model.make_test_function.<locals>.test_function at 0x000001EA046D5160> triggered tf.function retracing. Tracing is expensive and the excessive number of tracings could be due to (1) creating @tf.function repeatedly in a loop, (2) passing tensors with different shapes, (3) passing Python objects instead of tensors. For (1), please define your @tf.function outside of the loop. For (2), @tf.function has reduce_retracing=True option that can avoid unnecessary retracing. For (3), please refer to https://www.tensorflow.org/guide/function#controlling_retracing and https://www.tensorflow.org/api_docs/python/tf/function for  more details.\n",
      "2/2 [==============================] - 0s 2ms/step - loss: 1.1555 - accuracy: 0.3509\n",
      "Score for fold 5: loss of 1.1555060148239136; accuracy of 35.087719559669495%\n",
      "accuracy: 35.09%\n",
      "------------------------------------------------------------------------\n",
      "Score per fold\n",
      "------------------------------------------------------------------------\n",
      ">> Fold 1 - Loss: 1.0899096727371216 - Accuracy: 41.37931168079376%\n",
      "------------------------------------------------------------------------\n",
      ">> Fold 2 - Loss: 1.111851453781128 - Accuracy: 31.034481525421143%\n",
      "------------------------------------------------------------------------\n",
      ">> Fold 3 - Loss: 1.2685484886169434 - Accuracy: 35.087719559669495%\n",
      "------------------------------------------------------------------------\n",
      ">> Fold 4 - Loss: 1.0940521955490112 - Accuracy: 45.614033937454224%\n",
      "------------------------------------------------------------------------\n",
      ">> Fold 5 - Loss: 1.1555060148239136 - Accuracy: 35.087719559669495%\n",
      "------------------------------------------------------------------------\n",
      "Average scores for all folds:\n",
      ">>> Accuracy: 37.64065325260162 (+- 5.181289649465421)\n",
      ">>> Loss: 1.1439735651016236\n",
      "------------------------------------------------------------------------\n"
     ]
    }
   ],
   "source": [
    "for train, test in kfold.split(inputs, targets):\n",
    "    model = Sequential()\n",
    "    model.add(Dense(128, input_dim = x_train.shape[1], activation = 'relu'))\n",
    "    model.add(Dense(64, activation = 'relu'))\n",
    "    model.add(BatchNormalization())\n",
    "    # model.add(Dropout(0.5)) #drop out\n",
    "    model.add(Dense(32, activation = 'relu'))\n",
    "    # model.add(Dense(32, activation = 'relu'))\n",
    "    model.add(Dense(args.num_classes, activation = 'softmax'))\n",
    "    \n",
    "    ## model compile\n",
    "    model.compile(loss = 'categorical_crossentropy', optimizer = opt, metrics = ['accuracy'])\n",
    "    \n",
    "    print('----------------------------------------')\n",
    "    print(f'Training or fold {fold_num} ... ')\n",
    "    \n",
    "    ## fit data to model\n",
    "    history = model.fit(inputs[train], targets[train], batch_size = args.bs, epochs = args.epochs, verbose = 0, class_weight = class_weight)\n",
    "    \n",
    "    ## generate generalization metrics\n",
    "    scores = model.evaluate(inputs[test], targets[test])\n",
    "    print(f'Score for fold {fold_num}: {model.metrics_names[0]} of {scores[0]}; {model.metrics_names[1]} of {scores[1]*100}%')\n",
    "    print(\"%s: %.2f%%\" %(model.metrics_names[1], scores[1]*100))\n",
    "    acc_per_fold.append(scores[1] * 100)\n",
    "    loss_per_fold.append(scores[0])\n",
    "    \n",
    "    ## increasing fold number\n",
    "    fold_num = fold_num + 1\n",
    "    \n",
    "    \n",
    "    \n",
    "## Summarizing the results\n",
    "print('------------------------------------------------------------------------')\n",
    "print('Score per fold')\n",
    "for i in range(0, len(acc_per_fold)):\n",
    "    print('------------------------------------------------------------------------')\n",
    "    print(f'>> Fold {i+1} - Loss: {loss_per_fold[i]} - Accuracy: {acc_per_fold[i]}%')\n",
    "print('------------------------------------------------------------------------')\n",
    "print('Average scores for all folds:')\n",
    "print(f'>>> Accuracy: {np.mean(acc_per_fold)} (+- {np.std(acc_per_fold)})')\n",
    "print(f'>>> Loss: {np.mean(loss_per_fold)}')\n",
    "print('------------------------------------------------------------------------')"
   ]
  },
  {
   "cell_type": "code",
   "execution_count": 66,
   "id": "93b043bd-7786-4387-a2c0-ecc43d075e1c",
   "metadata": {},
   "outputs": [
    {
     "name": "stdout",
     "output_type": "stream",
     "text": [
      "6/6 [==============================] - 0s 1ms/step\n",
      "[[0.43093923 0.7        0.        ]\n",
      " [0.28729282 0.         1.        ]\n",
      " [0.28176796 0.3        0.        ]]\n"
     ]
    }
   ],
   "source": [
    "y_predict = model.predict(x_test)\n",
    "y_predict = np.argmax(y_predict, axis = 1)\n",
    "y_test = np.argmax(y_test, axis = 1)\n",
    "\n",
    "result = confusion_matrix(y_test, y_predict, normalize = 'pred')\n",
    "print(result)"
   ]
  },
  {
   "cell_type": "code",
   "execution_count": 67,
   "id": "0114bc55-db95-414b-9f90-323966eccfbe",
   "metadata": {},
   "outputs": [
    {
     "data": {
      "image/png": "[encoded data removed]",
      "text/plain": [
       "<Figure size 600x400 with 2 Axes>"
      ]
     },
     "metadata": {},
     "output_type": "display_data"
    }
   ],
   "source": [
    "figure = plt.figure(figsize=(6, 4))\n",
    "sns.heatmap(result, annot=True,cmap=plt.cm.Blues)\n",
    "plt.tight_layout()\n",
    "plt.ylabel('True label')\n",
    "plt.xlabel('Predicted label')\n",
    "plt.show()"
   ]
  },
  {
   "cell_type": "code",
   "execution_count": 68,
   "id": "6367b958-4553-4b48-bbf7-1b47e273c1e2",
   "metadata": {},
   "outputs": [
    {
     "name": "stdout",
     "output_type": "stream",
     "text": [
      "=============================================\n",
      "The overall accuracy is: 0.4062\n",
      "The precision score is: 0.1436\n",
      "The recall score is: 0.4062\n",
      "The f1 score is: 0.2596\n",
      "=============================================\n"
     ]
    }
   ],
   "source": [
    "accuracy = metrics.accuracy_score(y_test, y_predict)\n",
    "precision = metrics.precision_score(y_test, y_predict, average = 'macro')\n",
    "recall = metrics.recall_score(y_test, y_predict, average = 'micro')\n",
    "f1 = metrics.f1_score(y_test, y_predict, average = 'weighted')\n",
    "\n",
    "print(\"=============================================\")\n",
    "print(\"The overall accuracy is:\", round(accuracy, 4))\n",
    "print(\"The precision score is:\", round(precision, 4))\n",
    "print(\"The recall score is:\", round(recall, 4))\n",
    "print(\"The f1 score is:\", round(f1, 4))\n",
    "print(\"=============================================\")"
   ]
  },
  {
   "cell_type": "code",
   "execution_count": null,
   "id": "5a365de7-c689-49f3-83d9-ac1f392549f9",
   "metadata": {},
   "outputs": [],
   "source": []
  },
  {
   "cell_type": "code",
   "execution_count": null,
   "id": "cb1e8976-a689-4a0c-b744-0732f1808cc3",
   "metadata": {},
   "outputs": [],
   "source": []
  },
  {
   "cell_type": "markdown",
   "id": "cefa5011-78f0-4c2c-b4de-6df4c4bf26d1",
   "metadata": {},
   "source": [
    "***"
   ]
  },
  {
   "cell_type": "markdown",
   "id": "4e9453da-c2ef-4fb0-9817-68321d13236c",
   "metadata": {},
   "source": [
    "#### 1D-Conv"
   ]
  },
  {
   "cell_type": "code",
   "execution_count": 176,
   "id": "8b57204e-c009-4a64-9be0-1b67843e54d1",
   "metadata": {},
   "outputs": [],
   "source": [
    "x_train, x_test, y_train, y_test = train_test_split(ori_x, ori_y, test_size = 0.4, random_state = 710674)"
   ]
  },
  {
   "cell_type": "code",
   "execution_count": 177,
   "id": "2178fa96-2571-4ca2-aaa2-7eeb7a1c4fff",
   "metadata": {},
   "outputs": [
    {
     "data": {
      "text/plain": [
       "(287, 78)"
      ]
     },
     "execution_count": 177,
     "metadata": {},
     "output_type": "execute_result"
    }
   ],
   "source": [
    "x_train.shape"
   ]
  },
  {
   "cell_type": "code",
   "execution_count": 178,
   "id": "01f838d5-d265-495c-8498-7d04d1ef1d1f",
   "metadata": {},
   "outputs": [],
   "source": [
    "# Build the 1D CNN model\n",
    "model = Sequential()\n",
    "# 1st Convolutional Layer\n",
    "model.add(Conv1D(filters=128, kernel_size=5, activation='relu', input_shape=(x_train.shape[1], 1)))\n",
    "model.add(MaxPooling1D(pool_size=3))\n",
    "model.add(Conv1D(filters=64, kernel_size=3, activation='relu'))\n",
    "model.add(MaxPooling1D(pool_size=3))\n",
    "\n",
    "# Flatten the output and add Dense layers\n",
    "model.add(Flatten())\n",
    "model.add(Dense(64, activation='relu'))\n",
    "model.add(BatchNormalization())\n",
    "# model.add(Dropout(0.5))\n",
    "model.add(Dense(32, activation='relu'))\n",
    "model.add(Dense(args.num_classes, activation='softmax'))"
   ]
  },
  {
   "cell_type": "code",
   "execution_count": 179,
   "id": "1f68945a-853a-4c46-806c-bd3b9d24d790",
   "metadata": {},
   "outputs": [],
   "source": [
    "opt = keras.optimizers.SGD(learning_rate = args.lr, decay = 1e-5, momentum = args.momentum)"
   ]
  },
  {
   "cell_type": "code",
   "execution_count": 180,
   "id": "40e81458-ba15-484e-8d8c-4bf10d477d7d",
   "metadata": {},
   "outputs": [],
   "source": [
    "# LearningRateScheduler 설정\n",
    "lr_scheduler = LearningRateScheduler(lambda epoch: cyclic_learning_rate(epoch, base_lr=0.01, max_lr=0.006, step_size=300))\n",
    "# lr_scheduler = LearningRateScheduler(lambda epoch: exp_range_lr(epoch, base_lr=0.01, max_lr=0.006, step_size=300, gamma=0.99994))"
   ]
  },
  {
   "cell_type": "code",
   "execution_count": 181,
   "id": "9dee61c1-24ba-4202-83c9-4e53f5dbbf64",
   "metadata": {
    "scrolled": true
   },
   "outputs": [
    {
     "name": "stdout",
     "output_type": "stream",
     "text": [
      "Epoch 1/300\n",
      "9/9 - 1s - loss: 1.3732 - accuracy: 0.3380 - lr: 0.0100 - 514ms/epoch - 57ms/step\n",
      "Epoch 2/300\n",
      "9/9 - 0s - loss: 1.2886 - accuracy: 0.3937 - lr: 0.0100 - 99ms/epoch - 11ms/step\n",
      "Epoch 3/300\n",
      "9/9 - 0s - loss: 1.2150 - accuracy: 0.5122 - lr: 0.0100 - 102ms/epoch - 11ms/step\n",
      "Epoch 4/300\n",
      "9/9 - 0s - loss: 1.1563 - accuracy: 0.5366 - lr: 0.0100 - 52ms/epoch - 6ms/step\n",
      "Epoch 5/300\n",
      "9/9 - 0s - loss: 1.1289 - accuracy: 0.5923 - lr: 0.0099 - 33ms/epoch - 4ms/step\n",
      "Epoch 6/300\n",
      "9/9 - 0s - loss: 1.0891 - accuracy: 0.5958 - lr: 0.0099 - 34ms/epoch - 4ms/step\n",
      "Epoch 7/300\n",
      "9/9 - 0s - loss: 1.0551 - accuracy: 0.6272 - lr: 0.0099 - 35ms/epoch - 4ms/step\n",
      "Epoch 8/300\n",
      "9/9 - 0s - loss: 1.0194 - accuracy: 0.6132 - lr: 0.0099 - 34ms/epoch - 4ms/step\n",
      "Epoch 9/300\n",
      "9/9 - 0s - loss: 0.9473 - accuracy: 0.6969 - lr: 0.0099 - 36ms/epoch - 4ms/step\n",
      "Epoch 10/300\n",
      "9/9 - 0s - loss: 0.8909 - accuracy: 0.7073 - lr: 0.0099 - 32ms/epoch - 4ms/step\n",
      "Epoch 11/300\n",
      "9/9 - 0s - loss: 0.8952 - accuracy: 0.7108 - lr: 0.0099 - 34ms/epoch - 4ms/step\n",
      "Epoch 12/300\n",
      "9/9 - 0s - loss: 0.8302 - accuracy: 0.7213 - lr: 0.0099 - 33ms/epoch - 4ms/step\n",
      "Epoch 13/300\n",
      "9/9 - 0s - loss: 0.8043 - accuracy: 0.7352 - lr: 0.0098 - 33ms/epoch - 4ms/step\n",
      "Epoch 14/300\n",
      "9/9 - 0s - loss: 0.8299 - accuracy: 0.7003 - lr: 0.0098 - 34ms/epoch - 4ms/step\n",
      "Epoch 15/300\n",
      "9/9 - 0s - loss: 0.7871 - accuracy: 0.7387 - lr: 0.0098 - 34ms/epoch - 4ms/step\n",
      "Epoch 16/300\n",
      "9/9 - 0s - loss: 0.7541 - accuracy: 0.7596 - lr: 0.0098 - 33ms/epoch - 4ms/step\n",
      "Epoch 17/300\n",
      "9/9 - 0s - loss: 0.7172 - accuracy: 0.7666 - lr: 0.0098 - 34ms/epoch - 4ms/step\n",
      "Epoch 18/300\n",
      "9/9 - 0s - loss: 0.6643 - accuracy: 0.7979 - lr: 0.0098 - 33ms/epoch - 4ms/step\n",
      "Epoch 19/300\n",
      "9/9 - 0s - loss: 0.6560 - accuracy: 0.7770 - lr: 0.0098 - 33ms/epoch - 4ms/step\n",
      "Epoch 20/300\n",
      "9/9 - 0s - loss: 0.6300 - accuracy: 0.7909 - lr: 0.0097 - 34ms/epoch - 4ms/step\n",
      "Epoch 21/300\n",
      "9/9 - 0s - loss: 0.6770 - accuracy: 0.7805 - lr: 0.0097 - 34ms/epoch - 4ms/step\n",
      "Epoch 22/300\n",
      "9/9 - 0s - loss: 0.6070 - accuracy: 0.7944 - lr: 0.0097 - 33ms/epoch - 4ms/step\n",
      "Epoch 23/300\n",
      "9/9 - 0s - loss: 0.5542 - accuracy: 0.8153 - lr: 0.0097 - 35ms/epoch - 4ms/step\n",
      "Epoch 24/300\n",
      "9/9 - 0s - loss: 0.5548 - accuracy: 0.8432 - lr: 0.0097 - 35ms/epoch - 4ms/step\n",
      "Epoch 25/300\n",
      "9/9 - 0s - loss: 0.5423 - accuracy: 0.8362 - lr: 0.0097 - 34ms/epoch - 4ms/step\n",
      "Epoch 26/300\n",
      "9/9 - 0s - loss: 0.4980 - accuracy: 0.8362 - lr: 0.0097 - 35ms/epoch - 4ms/step\n",
      "Epoch 27/300\n",
      "9/9 - 0s - loss: 0.4841 - accuracy: 0.8537 - lr: 0.0097 - 37ms/epoch - 4ms/step\n",
      "Epoch 28/300\n",
      "9/9 - 0s - loss: 0.5309 - accuracy: 0.8258 - lr: 0.0096 - 33ms/epoch - 4ms/step\n",
      "Epoch 29/300\n",
      "9/9 - 0s - loss: 0.4720 - accuracy: 0.8432 - lr: 0.0096 - 35ms/epoch - 4ms/step\n",
      "Epoch 30/300\n",
      "9/9 - 0s - loss: 0.4567 - accuracy: 0.8676 - lr: 0.0096 - 33ms/epoch - 4ms/step\n",
      "Epoch 31/300\n",
      "9/9 - 0s - loss: 0.4576 - accuracy: 0.8676 - lr: 0.0096 - 34ms/epoch - 4ms/step\n",
      "Epoch 32/300\n",
      "9/9 - 0s - loss: 0.4226 - accuracy: 0.8676 - lr: 0.0096 - 34ms/epoch - 4ms/step\n",
      "Epoch 33/300\n",
      "9/9 - 0s - loss: 0.3807 - accuracy: 0.8920 - lr: 0.0096 - 34ms/epoch - 4ms/step\n",
      "Epoch 34/300\n",
      "9/9 - 0s - loss: 0.4281 - accuracy: 0.8746 - lr: 0.0096 - 34ms/epoch - 4ms/step\n",
      "Epoch 35/300\n",
      "9/9 - 0s - loss: 0.4368 - accuracy: 0.8432 - lr: 0.0095 - 33ms/epoch - 4ms/step\n",
      "Epoch 36/300\n",
      "9/9 - 0s - loss: 0.3332 - accuracy: 0.8990 - lr: 0.0095 - 33ms/epoch - 4ms/step\n",
      "Epoch 37/300\n",
      "9/9 - 0s - loss: 0.4184 - accuracy: 0.8780 - lr: 0.0095 - 32ms/epoch - 4ms/step\n",
      "Epoch 38/300\n",
      "9/9 - 0s - loss: 0.3843 - accuracy: 0.8746 - lr: 0.0095 - 33ms/epoch - 4ms/step\n",
      "Epoch 39/300\n",
      "9/9 - 0s - loss: 0.3997 - accuracy: 0.8990 - lr: 0.0095 - 33ms/epoch - 4ms/step\n",
      "Epoch 40/300\n",
      "9/9 - 0s - loss: 0.3946 - accuracy: 0.8990 - lr: 0.0095 - 33ms/epoch - 4ms/step\n",
      "Epoch 41/300\n",
      "9/9 - 0s - loss: 0.4189 - accuracy: 0.8850 - lr: 0.0095 - 34ms/epoch - 4ms/step\n",
      "Epoch 42/300\n",
      "9/9 - 0s - loss: 0.3897 - accuracy: 0.8711 - lr: 0.0095 - 35ms/epoch - 4ms/step\n",
      "Epoch 43/300\n",
      "9/9 - 0s - loss: 0.3237 - accuracy: 0.9268 - lr: 0.0094 - 33ms/epoch - 4ms/step\n",
      "Epoch 44/300\n",
      "9/9 - 0s - loss: 0.2733 - accuracy: 0.9303 - lr: 0.0094 - 33ms/epoch - 4ms/step\n",
      "Epoch 45/300\n",
      "9/9 - 0s - loss: 0.2622 - accuracy: 0.9303 - lr: 0.0094 - 72ms/epoch - 8ms/step\n",
      "Epoch 46/300\n",
      "9/9 - 0s - loss: 0.2145 - accuracy: 0.9547 - lr: 0.0094 - 39ms/epoch - 4ms/step\n",
      "Epoch 47/300\n",
      "9/9 - 0s - loss: 0.2214 - accuracy: 0.9512 - lr: 0.0094 - 37ms/epoch - 4ms/step\n",
      "Epoch 48/300\n",
      "9/9 - 0s - loss: 0.2447 - accuracy: 0.9408 - lr: 0.0094 - 40ms/epoch - 4ms/step\n",
      "Epoch 49/300\n",
      "9/9 - 0s - loss: 0.2502 - accuracy: 0.9477 - lr: 0.0094 - 35ms/epoch - 4ms/step\n",
      "Epoch 50/300\n",
      "9/9 - 0s - loss: 0.2305 - accuracy: 0.9477 - lr: 0.0093 - 34ms/epoch - 4ms/step\n",
      "Epoch 51/300\n",
      "9/9 - 0s - loss: 0.1917 - accuracy: 0.9547 - lr: 0.0093 - 37ms/epoch - 4ms/step\n",
      "Epoch 52/300\n",
      "9/9 - 0s - loss: 0.2008 - accuracy: 0.9547 - lr: 0.0093 - 42ms/epoch - 5ms/step\n",
      "Epoch 53/300\n",
      "9/9 - 0s - loss: 0.2159 - accuracy: 0.9443 - lr: 0.0093 - 36ms/epoch - 4ms/step\n",
      "Epoch 54/300\n",
      "9/9 - 0s - loss: 0.2118 - accuracy: 0.9373 - lr: 0.0093 - 36ms/epoch - 4ms/step\n",
      "Epoch 55/300\n",
      "9/9 - 0s - loss: 0.2585 - accuracy: 0.9373 - lr: 0.0093 - 35ms/epoch - 4ms/step\n",
      "Epoch 56/300\n",
      "9/9 - 0s - loss: 0.2549 - accuracy: 0.9512 - lr: 0.0093 - 36ms/epoch - 4ms/step\n",
      "Epoch 57/300\n",
      "9/9 - 0s - loss: 0.2182 - accuracy: 0.9477 - lr: 0.0093 - 38ms/epoch - 4ms/step\n",
      "Epoch 58/300\n",
      "9/9 - 0s - loss: 0.2142 - accuracy: 0.9373 - lr: 0.0092 - 35ms/epoch - 4ms/step\n",
      "Epoch 59/300\n",
      "9/9 - 0s - loss: 0.1848 - accuracy: 0.9617 - lr: 0.0092 - 34ms/epoch - 4ms/step\n",
      "Epoch 60/300\n",
      "9/9 - 0s - loss: 0.1575 - accuracy: 0.9721 - lr: 0.0092 - 35ms/epoch - 4ms/step\n",
      "Epoch 61/300\n",
      "9/9 - 0s - loss: 0.1308 - accuracy: 0.9756 - lr: 0.0092 - 36ms/epoch - 4ms/step\n",
      "Epoch 62/300\n",
      "9/9 - 0s - loss: 0.1362 - accuracy: 0.9721 - lr: 0.0092 - 39ms/epoch - 4ms/step\n",
      "Epoch 63/300\n",
      "9/9 - 0s - loss: 0.1248 - accuracy: 0.9721 - lr: 0.0092 - 36ms/epoch - 4ms/step\n",
      "Epoch 64/300\n",
      "9/9 - 0s - loss: 0.1336 - accuracy: 0.9756 - lr: 0.0092 - 34ms/epoch - 4ms/step\n",
      "Epoch 65/300\n",
      "9/9 - 0s - loss: 0.1227 - accuracy: 0.9756 - lr: 0.0091 - 41ms/epoch - 5ms/step\n",
      "Epoch 66/300\n",
      "9/9 - 0s - loss: 0.1567 - accuracy: 0.9582 - lr: 0.0091 - 35ms/epoch - 4ms/step\n",
      "Epoch 67/300\n",
      "9/9 - 0s - loss: 0.1042 - accuracy: 0.9826 - lr: 0.0091 - 38ms/epoch - 4ms/step\n",
      "Epoch 68/300\n",
      "9/9 - 0s - loss: 0.1400 - accuracy: 0.9652 - lr: 0.0091 - 40ms/epoch - 4ms/step\n",
      "Epoch 69/300\n",
      "9/9 - 0s - loss: 0.1527 - accuracy: 0.9652 - lr: 0.0091 - 41ms/epoch - 5ms/step\n",
      "Epoch 70/300\n",
      "9/9 - 0s - loss: 0.1855 - accuracy: 0.9338 - lr: 0.0091 - 42ms/epoch - 5ms/step\n",
      "Epoch 71/300\n",
      "9/9 - 0s - loss: 0.1772 - accuracy: 0.9477 - lr: 0.0091 - 39ms/epoch - 4ms/step\n",
      "Epoch 72/300\n",
      "9/9 - 0s - loss: 0.1545 - accuracy: 0.9617 - lr: 0.0091 - 40ms/epoch - 4ms/step\n",
      "Epoch 73/300\n",
      "9/9 - 0s - loss: 0.1201 - accuracy: 0.9721 - lr: 0.0090 - 41ms/epoch - 5ms/step\n",
      "Epoch 74/300\n",
      "9/9 - 0s - loss: 0.1581 - accuracy: 0.9686 - lr: 0.0090 - 40ms/epoch - 4ms/step\n",
      "Epoch 75/300\n",
      "9/9 - 0s - loss: 0.1234 - accuracy: 0.9686 - lr: 0.0090 - 38ms/epoch - 4ms/step\n",
      "Epoch 76/300\n",
      "9/9 - 0s - loss: 0.0973 - accuracy: 0.9791 - lr: 0.0090 - 40ms/epoch - 4ms/step\n",
      "Epoch 77/300\n",
      "9/9 - 0s - loss: 0.1246 - accuracy: 0.9617 - lr: 0.0090 - 45ms/epoch - 5ms/step\n",
      "Epoch 78/300\n",
      "9/9 - 0s - loss: 0.1171 - accuracy: 0.9721 - lr: 0.0090 - 42ms/epoch - 5ms/step\n",
      "Epoch 79/300\n",
      "9/9 - 0s - loss: 0.0847 - accuracy: 0.9756 - lr: 0.0090 - 47ms/epoch - 5ms/step\n",
      "Epoch 80/300\n",
      "9/9 - 0s - loss: 0.0710 - accuracy: 0.9861 - lr: 0.0089 - 46ms/epoch - 5ms/step\n",
      "Epoch 81/300\n",
      "9/9 - 0s - loss: 0.0954 - accuracy: 0.9930 - lr: 0.0089 - 49ms/epoch - 5ms/step\n",
      "Epoch 82/300\n",
      "9/9 - 0s - loss: 0.1355 - accuracy: 0.9547 - lr: 0.0089 - 45ms/epoch - 5ms/step\n",
      "Epoch 83/300\n",
      "9/9 - 0s - loss: 0.0956 - accuracy: 0.9721 - lr: 0.0089 - 45ms/epoch - 5ms/step\n",
      "Epoch 84/300\n",
      "9/9 - 0s - loss: 0.1046 - accuracy: 0.9826 - lr: 0.0089 - 45ms/epoch - 5ms/step\n",
      "Epoch 85/300\n",
      "9/9 - 0s - loss: 0.0778 - accuracy: 0.9756 - lr: 0.0089 - 41ms/epoch - 5ms/step\n",
      "Epoch 86/300\n",
      "9/9 - 0s - loss: 0.0920 - accuracy: 0.9652 - lr: 0.0089 - 38ms/epoch - 4ms/step\n",
      "Epoch 87/300\n",
      "9/9 - 0s - loss: 0.0785 - accuracy: 0.9895 - lr: 0.0089 - 35ms/epoch - 4ms/step\n",
      "Epoch 88/300\n",
      "9/9 - 0s - loss: 0.1114 - accuracy: 0.9721 - lr: 0.0088 - 37ms/epoch - 4ms/step\n",
      "Epoch 89/300\n",
      "9/9 - 0s - loss: 0.0969 - accuracy: 0.9756 - lr: 0.0088 - 73ms/epoch - 8ms/step\n",
      "Epoch 90/300\n",
      "9/9 - 0s - loss: 0.0769 - accuracy: 0.9826 - lr: 0.0088 - 44ms/epoch - 5ms/step\n",
      "Epoch 91/300\n",
      "9/9 - 0s - loss: 0.0643 - accuracy: 0.9861 - lr: 0.0088 - 42ms/epoch - 5ms/step\n",
      "Epoch 92/300\n",
      "9/9 - 0s - loss: 0.0666 - accuracy: 0.9791 - lr: 0.0088 - 40ms/epoch - 4ms/step\n",
      "Epoch 93/300\n",
      "9/9 - 0s - loss: 0.0594 - accuracy: 0.9826 - lr: 0.0088 - 37ms/epoch - 4ms/step\n",
      "Epoch 94/300\n",
      "9/9 - 0s - loss: 0.0613 - accuracy: 0.9861 - lr: 0.0088 - 36ms/epoch - 4ms/step\n",
      "Epoch 95/300\n",
      "9/9 - 0s - loss: 0.0569 - accuracy: 0.9895 - lr: 0.0087 - 38ms/epoch - 4ms/step\n",
      "Epoch 96/300\n",
      "9/9 - 0s - loss: 0.0664 - accuracy: 0.9895 - lr: 0.0087 - 36ms/epoch - 4ms/step\n",
      "Epoch 97/300\n",
      "9/9 - 0s - loss: 0.0603 - accuracy: 0.9895 - lr: 0.0087 - 35ms/epoch - 4ms/step\n",
      "Epoch 98/300\n",
      "9/9 - 0s - loss: 0.0534 - accuracy: 0.9895 - lr: 0.0087 - 35ms/epoch - 4ms/step\n",
      "Epoch 99/300\n",
      "9/9 - 0s - loss: 0.0696 - accuracy: 0.9826 - lr: 0.0087 - 38ms/epoch - 4ms/step\n",
      "Epoch 100/300\n",
      "9/9 - 0s - loss: 0.0686 - accuracy: 0.9861 - lr: 0.0087 - 37ms/epoch - 4ms/step\n",
      "Epoch 101/300\n",
      "9/9 - 0s - loss: 0.0428 - accuracy: 0.9895 - lr: 0.0087 - 38ms/epoch - 4ms/step\n",
      "Epoch 102/300\n",
      "9/9 - 0s - loss: 0.0586 - accuracy: 0.9861 - lr: 0.0087 - 34ms/epoch - 4ms/step\n",
      "Epoch 103/300\n",
      "9/9 - 0s - loss: 0.0452 - accuracy: 0.9826 - lr: 0.0086 - 36ms/epoch - 4ms/step\n",
      "Epoch 104/300\n",
      "9/9 - 0s - loss: 0.0405 - accuracy: 0.9861 - lr: 0.0086 - 37ms/epoch - 4ms/step\n",
      "Epoch 105/300\n",
      "9/9 - 0s - loss: 0.0464 - accuracy: 0.9861 - lr: 0.0086 - 38ms/epoch - 4ms/step\n",
      "Epoch 106/300\n",
      "9/9 - 0s - loss: 0.0376 - accuracy: 0.9895 - lr: 0.0086 - 36ms/epoch - 4ms/step\n",
      "Epoch 107/300\n",
      "9/9 - 0s - loss: 0.0383 - accuracy: 0.9895 - lr: 0.0086 - 37ms/epoch - 4ms/step\n",
      "Epoch 108/300\n",
      "9/9 - 0s - loss: 0.0453 - accuracy: 0.9930 - lr: 0.0086 - 36ms/epoch - 4ms/step\n",
      "Epoch 109/300\n",
      "9/9 - 0s - loss: 0.0451 - accuracy: 0.9895 - lr: 0.0086 - 35ms/epoch - 4ms/step\n",
      "Epoch 110/300\n",
      "9/9 - 0s - loss: 0.0394 - accuracy: 0.9895 - lr: 0.0085 - 38ms/epoch - 4ms/step\n",
      "Epoch 111/300\n",
      "9/9 - 0s - loss: 0.0544 - accuracy: 0.9826 - lr: 0.0085 - 36ms/epoch - 4ms/step\n",
      "Epoch 112/300\n",
      "9/9 - 0s - loss: 0.0388 - accuracy: 0.9930 - lr: 0.0085 - 35ms/epoch - 4ms/step\n",
      "Epoch 113/300\n",
      "9/9 - 0s - loss: 0.0574 - accuracy: 0.9861 - lr: 0.0085 - 38ms/epoch - 4ms/step\n",
      "Epoch 114/300\n",
      "9/9 - 0s - loss: 0.0455 - accuracy: 0.9895 - lr: 0.0085 - 38ms/epoch - 4ms/step\n",
      "Epoch 115/300\n",
      "9/9 - 0s - loss: 0.0516 - accuracy: 0.9895 - lr: 0.0085 - 35ms/epoch - 4ms/step\n",
      "Epoch 116/300\n",
      "9/9 - 0s - loss: 0.0415 - accuracy: 0.9895 - lr: 0.0085 - 38ms/epoch - 4ms/step\n",
      "Epoch 117/300\n",
      "9/9 - 0s - loss: 0.0702 - accuracy: 0.9756 - lr: 0.0085 - 38ms/epoch - 4ms/step\n",
      "Epoch 118/300\n",
      "9/9 - 0s - loss: 0.0934 - accuracy: 0.9721 - lr: 0.0084 - 35ms/epoch - 4ms/step\n",
      "Epoch 119/300\n",
      "9/9 - 0s - loss: 0.0990 - accuracy: 0.9652 - lr: 0.0084 - 38ms/epoch - 4ms/step\n",
      "Epoch 120/300\n",
      "9/9 - 0s - loss: 0.1549 - accuracy: 0.9686 - lr: 0.0084 - 36ms/epoch - 4ms/step\n",
      "Epoch 121/300\n",
      "9/9 - 0s - loss: 0.0981 - accuracy: 0.9721 - lr: 0.0084 - 36ms/epoch - 4ms/step\n",
      "Epoch 122/300\n",
      "9/9 - 0s - loss: 0.0944 - accuracy: 0.9721 - lr: 0.0084 - 36ms/epoch - 4ms/step\n",
      "Epoch 123/300\n",
      "9/9 - 0s - loss: 0.0725 - accuracy: 0.9756 - lr: 0.0084 - 35ms/epoch - 4ms/step\n",
      "Epoch 124/300\n",
      "9/9 - 0s - loss: 0.0591 - accuracy: 0.9861 - lr: 0.0084 - 36ms/epoch - 4ms/step\n",
      "Epoch 125/300\n",
      "9/9 - 0s - loss: 0.0469 - accuracy: 0.9861 - lr: 0.0083 - 34ms/epoch - 4ms/step\n",
      "Epoch 126/300\n",
      "9/9 - 0s - loss: 0.0595 - accuracy: 0.9895 - lr: 0.0083 - 37ms/epoch - 4ms/step\n",
      "Epoch 127/300\n",
      "9/9 - 0s - loss: 0.0619 - accuracy: 0.9791 - lr: 0.0083 - 35ms/epoch - 4ms/step\n",
      "Epoch 128/300\n",
      "9/9 - 0s - loss: 0.0583 - accuracy: 0.9826 - lr: 0.0083 - 36ms/epoch - 4ms/step\n",
      "Epoch 129/300\n",
      "9/9 - 0s - loss: 0.0569 - accuracy: 0.9756 - lr: 0.0083 - 35ms/epoch - 4ms/step\n",
      "Epoch 130/300\n",
      "9/9 - 0s - loss: 0.0677 - accuracy: 0.9826 - lr: 0.0083 - 40ms/epoch - 4ms/step\n",
      "Epoch 131/300\n",
      "9/9 - 0s - loss: 0.0520 - accuracy: 0.9861 - lr: 0.0083 - 41ms/epoch - 5ms/step\n",
      "Epoch 132/300\n",
      "9/9 - 0s - loss: 0.0358 - accuracy: 0.9895 - lr: 0.0083 - 38ms/epoch - 4ms/step\n",
      "Epoch 133/300\n",
      "9/9 - 0s - loss: 0.0468 - accuracy: 0.9895 - lr: 0.0082 - 41ms/epoch - 5ms/step\n",
      "Epoch 134/300\n",
      "9/9 - 0s - loss: 0.0350 - accuracy: 0.9895 - lr: 0.0082 - 43ms/epoch - 5ms/step\n",
      "Epoch 135/300\n",
      "9/9 - 0s - loss: 0.0391 - accuracy: 0.9895 - lr: 0.0082 - 42ms/epoch - 5ms/step\n",
      "Epoch 136/300\n",
      "9/9 - 0s - loss: 0.0349 - accuracy: 0.9895 - lr: 0.0082 - 40ms/epoch - 4ms/step\n",
      "Epoch 137/300\n",
      "9/9 - 0s - loss: 0.0290 - accuracy: 0.9895 - lr: 0.0082 - 42ms/epoch - 5ms/step\n",
      "Epoch 138/300\n",
      "9/9 - 0s - loss: 0.0299 - accuracy: 0.9895 - lr: 0.0082 - 40ms/epoch - 4ms/step\n",
      "Epoch 139/300\n",
      "9/9 - 0s - loss: 0.0320 - accuracy: 0.9895 - lr: 0.0082 - 43ms/epoch - 5ms/step\n",
      "Epoch 140/300\n",
      "9/9 - 0s - loss: 0.0284 - accuracy: 0.9895 - lr: 0.0081 - 43ms/epoch - 5ms/step\n",
      "Epoch 141/300\n",
      "9/9 - 0s - loss: 0.0270 - accuracy: 0.9930 - lr: 0.0081 - 40ms/epoch - 4ms/step\n",
      "Epoch 142/300\n",
      "9/9 - 0s - loss: 0.0269 - accuracy: 0.9930 - lr: 0.0081 - 43ms/epoch - 5ms/step\n",
      "Epoch 143/300\n",
      "9/9 - 0s - loss: 0.0260 - accuracy: 0.9895 - lr: 0.0081 - 42ms/epoch - 5ms/step\n",
      "Epoch 144/300\n",
      "9/9 - 0s - loss: 0.0355 - accuracy: 0.9895 - lr: 0.0081 - 41ms/epoch - 5ms/step\n",
      "Epoch 145/300\n",
      "9/9 - 0s - loss: 0.0538 - accuracy: 0.9861 - lr: 0.0081 - 43ms/epoch - 5ms/step\n",
      "Epoch 146/300\n",
      "9/9 - 0s - loss: 0.0416 - accuracy: 0.9895 - lr: 0.0081 - 39ms/epoch - 4ms/step\n",
      "Epoch 147/300\n",
      "9/9 - 0s - loss: 0.0316 - accuracy: 0.9895 - lr: 0.0081 - 40ms/epoch - 4ms/step\n",
      "Epoch 148/300\n",
      "9/9 - 0s - loss: 0.0271 - accuracy: 0.9930 - lr: 0.0080 - 44ms/epoch - 5ms/step\n",
      "Epoch 149/300\n",
      "9/9 - 0s - loss: 0.0439 - accuracy: 0.9826 - lr: 0.0080 - 47ms/epoch - 5ms/step\n",
      "Epoch 150/300\n",
      "9/9 - 0s - loss: 0.0302 - accuracy: 0.9861 - lr: 0.0080 - 47ms/epoch - 5ms/step\n",
      "Epoch 151/300\n",
      "9/9 - 0s - loss: 0.0256 - accuracy: 0.9895 - lr: 0.0080 - 43ms/epoch - 5ms/step\n",
      "Epoch 152/300\n",
      "9/9 - 0s - loss: 0.0206 - accuracy: 0.9930 - lr: 0.0080 - 44ms/epoch - 5ms/step\n",
      "Epoch 153/300\n",
      "9/9 - 0s - loss: 0.0249 - accuracy: 0.9895 - lr: 0.0080 - 43ms/epoch - 5ms/step\n",
      "Epoch 154/300\n",
      "9/9 - 0s - loss: 0.0364 - accuracy: 0.9861 - lr: 0.0080 - 44ms/epoch - 5ms/step\n",
      "Epoch 155/300\n",
      "9/9 - 0s - loss: 0.0211 - accuracy: 0.9895 - lr: 0.0079 - 44ms/epoch - 5ms/step\n",
      "Epoch 156/300\n",
      "9/9 - 0s - loss: 0.0199 - accuracy: 0.9930 - lr: 0.0079 - 47ms/epoch - 5ms/step\n",
      "Epoch 157/300\n",
      "9/9 - 0s - loss: 0.0330 - accuracy: 0.9861 - lr: 0.0079 - 51ms/epoch - 6ms/step\n",
      "Epoch 158/300\n",
      "9/9 - 0s - loss: 0.0412 - accuracy: 0.9791 - lr: 0.0079 - 51ms/epoch - 6ms/step\n",
      "Epoch 159/300\n",
      "9/9 - 0s - loss: 0.0329 - accuracy: 0.9826 - lr: 0.0079 - 49ms/epoch - 5ms/step\n",
      "Epoch 160/300\n",
      "9/9 - 0s - loss: 0.0239 - accuracy: 0.9930 - lr: 0.0079 - 45ms/epoch - 5ms/step\n",
      "Epoch 161/300\n",
      "9/9 - 0s - loss: 0.0291 - accuracy: 0.9826 - lr: 0.0079 - 47ms/epoch - 5ms/step\n",
      "Epoch 162/300\n",
      "9/9 - 0s - loss: 0.0486 - accuracy: 0.9826 - lr: 0.0079 - 46ms/epoch - 5ms/step\n",
      "Epoch 163/300\n",
      "9/9 - 0s - loss: 0.0268 - accuracy: 0.9930 - lr: 0.0078 - 52ms/epoch - 6ms/step\n",
      "Epoch 164/300\n",
      "9/9 - 0s - loss: 0.0355 - accuracy: 0.9861 - lr: 0.0078 - 41ms/epoch - 5ms/step\n",
      "Epoch 165/300\n",
      "9/9 - 0s - loss: 0.0268 - accuracy: 0.9895 - lr: 0.0078 - 40ms/epoch - 4ms/step\n",
      "Epoch 166/300\n",
      "9/9 - 0s - loss: 0.0312 - accuracy: 0.9895 - lr: 0.0078 - 54ms/epoch - 6ms/step\n",
      "Epoch 167/300\n",
      "9/9 - 0s - loss: 0.0213 - accuracy: 0.9930 - lr: 0.0078 - 39ms/epoch - 4ms/step\n",
      "Epoch 168/300\n",
      "9/9 - 0s - loss: 0.0232 - accuracy: 0.9895 - lr: 0.0078 - 39ms/epoch - 4ms/step\n",
      "Epoch 169/300\n",
      "9/9 - 0s - loss: 0.0312 - accuracy: 0.9861 - lr: 0.0078 - 146ms/epoch - 16ms/step\n",
      "Epoch 170/300\n",
      "9/9 - 0s - loss: 0.0327 - accuracy: 0.9861 - lr: 0.0077 - 102ms/epoch - 11ms/step\n",
      "Epoch 171/300\n",
      "9/9 - 0s - loss: 0.0301 - accuracy: 0.9861 - lr: 0.0077 - 101ms/epoch - 11ms/step\n",
      "Epoch 172/300\n",
      "9/9 - 0s - loss: 0.0326 - accuracy: 0.9930 - lr: 0.0077 - 101ms/epoch - 11ms/step\n",
      "Epoch 173/300\n",
      "9/9 - 0s - loss: 0.0298 - accuracy: 0.9895 - lr: 0.0077 - 99ms/epoch - 11ms/step\n",
      "Epoch 174/300\n",
      "9/9 - 0s - loss: 0.0233 - accuracy: 0.9930 - lr: 0.0077 - 98ms/epoch - 11ms/step\n",
      "Epoch 175/300\n",
      "9/9 - 0s - loss: 0.0240 - accuracy: 0.9861 - lr: 0.0077 - 96ms/epoch - 11ms/step\n",
      "Epoch 176/300\n",
      "9/9 - 0s - loss: 0.0246 - accuracy: 0.9930 - lr: 0.0077 - 94ms/epoch - 10ms/step\n",
      "Epoch 177/300\n",
      "9/9 - 0s - loss: 0.0204 - accuracy: 0.9930 - lr: 0.0077 - 95ms/epoch - 11ms/step\n",
      "Epoch 178/300\n",
      "9/9 - 0s - loss: 0.0226 - accuracy: 0.9861 - lr: 0.0076 - 94ms/epoch - 10ms/step\n",
      "Epoch 179/300\n",
      "9/9 - 0s - loss: 0.0159 - accuracy: 0.9930 - lr: 0.0076 - 94ms/epoch - 10ms/step\n",
      "Epoch 180/300\n",
      "9/9 - 0s - loss: 0.0226 - accuracy: 0.9930 - lr: 0.0076 - 97ms/epoch - 11ms/step\n",
      "Epoch 181/300\n",
      "9/9 - 0s - loss: 0.0225 - accuracy: 0.9930 - lr: 0.0076 - 96ms/epoch - 11ms/step\n",
      "Epoch 182/300\n",
      "9/9 - 0s - loss: 0.0202 - accuracy: 0.9895 - lr: 0.0076 - 94ms/epoch - 10ms/step\n",
      "Epoch 183/300\n",
      "9/9 - 0s - loss: 0.0264 - accuracy: 0.9895 - lr: 0.0076 - 94ms/epoch - 10ms/step\n",
      "Epoch 184/300\n",
      "9/9 - 0s - loss: 0.0295 - accuracy: 0.9895 - lr: 0.0076 - 97ms/epoch - 11ms/step\n",
      "Epoch 185/300\n",
      "9/9 - 0s - loss: 0.0289 - accuracy: 0.9861 - lr: 0.0075 - 96ms/epoch - 11ms/step\n",
      "Epoch 186/300\n",
      "9/9 - 0s - loss: 0.0170 - accuracy: 0.9965 - lr: 0.0075 - 93ms/epoch - 10ms/step\n",
      "Epoch 187/300\n",
      "9/9 - 0s - loss: 0.0257 - accuracy: 0.9895 - lr: 0.0075 - 94ms/epoch - 10ms/step\n",
      "Epoch 188/300\n",
      "9/9 - 0s - loss: 0.0195 - accuracy: 0.9895 - lr: 0.0075 - 94ms/epoch - 10ms/step\n",
      "Epoch 189/300\n",
      "9/9 - 0s - loss: 0.0245 - accuracy: 0.9895 - lr: 0.0075 - 93ms/epoch - 10ms/step\n",
      "Epoch 190/300\n",
      "9/9 - 0s - loss: 0.0228 - accuracy: 0.9930 - lr: 0.0075 - 95ms/epoch - 11ms/step\n",
      "Epoch 191/300\n",
      "9/9 - 0s - loss: 0.0573 - accuracy: 0.9930 - lr: 0.0075 - 95ms/epoch - 11ms/step\n",
      "Epoch 192/300\n",
      "9/9 - 0s - loss: 0.0598 - accuracy: 0.9895 - lr: 0.0075 - 95ms/epoch - 11ms/step\n",
      "Epoch 193/300\n",
      "9/9 - 0s - loss: 0.0327 - accuracy: 0.9965 - lr: 0.0074 - 98ms/epoch - 11ms/step\n",
      "Epoch 194/300\n",
      "9/9 - 0s - loss: 0.0220 - accuracy: 0.9895 - lr: 0.0074 - 96ms/epoch - 11ms/step\n",
      "Epoch 195/300\n",
      "9/9 - 0s - loss: 0.0215 - accuracy: 0.9930 - lr: 0.0074 - 95ms/epoch - 11ms/step\n",
      "Epoch 196/300\n",
      "9/9 - 0s - loss: 0.0388 - accuracy: 0.9895 - lr: 0.0074 - 96ms/epoch - 11ms/step\n",
      "Epoch 197/300\n",
      "9/9 - 0s - loss: 0.0288 - accuracy: 0.9895 - lr: 0.0074 - 97ms/epoch - 11ms/step\n",
      "Epoch 198/300\n",
      "9/9 - 0s - loss: 0.0197 - accuracy: 0.9930 - lr: 0.0074 - 96ms/epoch - 11ms/step\n",
      "Epoch 199/300\n",
      "9/9 - 0s - loss: 0.0230 - accuracy: 0.9895 - lr: 0.0074 - 95ms/epoch - 11ms/step\n",
      "Epoch 200/300\n",
      "9/9 - 0s - loss: 0.0243 - accuracy: 0.9895 - lr: 0.0073 - 97ms/epoch - 11ms/step\n",
      "Epoch 201/300\n",
      "9/9 - 0s - loss: 0.0223 - accuracy: 0.9930 - lr: 0.0073 - 97ms/epoch - 11ms/step\n",
      "Epoch 202/300\n",
      "9/9 - 0s - loss: 0.0192 - accuracy: 0.9895 - lr: 0.0073 - 95ms/epoch - 11ms/step\n",
      "Epoch 203/300\n",
      "9/9 - 0s - loss: 0.0271 - accuracy: 0.9895 - lr: 0.0073 - 96ms/epoch - 11ms/step\n",
      "Epoch 204/300\n",
      "9/9 - 0s - loss: 0.0228 - accuracy: 0.9930 - lr: 0.0073 - 94ms/epoch - 10ms/step\n",
      "Epoch 205/300\n",
      "9/9 - 0s - loss: 0.0224 - accuracy: 0.9930 - lr: 0.0073 - 96ms/epoch - 11ms/step\n",
      "Epoch 206/300\n",
      "9/9 - 0s - loss: 0.0288 - accuracy: 0.9895 - lr: 0.0073 - 95ms/epoch - 11ms/step\n",
      "Epoch 207/300\n",
      "9/9 - 0s - loss: 0.0367 - accuracy: 0.9895 - lr: 0.0073 - 94ms/epoch - 10ms/step\n",
      "Epoch 208/300\n",
      "9/9 - 0s - loss: 0.0326 - accuracy: 0.9930 - lr: 0.0072 - 94ms/epoch - 10ms/step\n",
      "Epoch 209/300\n",
      "9/9 - 0s - loss: 0.0283 - accuracy: 0.9895 - lr: 0.0072 - 94ms/epoch - 10ms/step\n",
      "Epoch 210/300\n",
      "9/9 - 0s - loss: 0.0210 - accuracy: 0.9930 - lr: 0.0072 - 95ms/epoch - 11ms/step\n",
      "Epoch 211/300\n",
      "9/9 - 0s - loss: 0.0196 - accuracy: 0.9965 - lr: 0.0072 - 94ms/epoch - 10ms/step\n",
      "Epoch 212/300\n",
      "9/9 - 0s - loss: 0.0188 - accuracy: 0.9965 - lr: 0.0072 - 96ms/epoch - 11ms/step\n",
      "Epoch 213/300\n",
      "9/9 - 0s - loss: 0.0260 - accuracy: 0.9861 - lr: 0.0072 - 94ms/epoch - 10ms/step\n",
      "Epoch 214/300\n",
      "9/9 - 0s - loss: 0.0202 - accuracy: 0.9895 - lr: 0.0072 - 94ms/epoch - 10ms/step\n",
      "Epoch 215/300\n",
      "9/9 - 0s - loss: 0.0231 - accuracy: 0.9930 - lr: 0.0071 - 96ms/epoch - 11ms/step\n",
      "Epoch 216/300\n",
      "9/9 - 0s - loss: 0.0296 - accuracy: 0.9895 - lr: 0.0071 - 95ms/epoch - 11ms/step\n",
      "Epoch 217/300\n",
      "9/9 - 0s - loss: 0.0179 - accuracy: 0.9930 - lr: 0.0071 - 96ms/epoch - 11ms/step\n",
      "Epoch 218/300\n",
      "9/9 - 0s - loss: 0.0247 - accuracy: 0.9861 - lr: 0.0071 - 97ms/epoch - 11ms/step\n",
      "Epoch 219/300\n",
      "9/9 - 0s - loss: 0.0141 - accuracy: 0.9930 - lr: 0.0071 - 98ms/epoch - 11ms/step\n",
      "Epoch 220/300\n",
      "9/9 - 0s - loss: 0.0164 - accuracy: 0.9930 - lr: 0.0071 - 99ms/epoch - 11ms/step\n",
      "Epoch 221/300\n",
      "9/9 - 0s - loss: 0.0257 - accuracy: 0.9861 - lr: 0.0071 - 100ms/epoch - 11ms/step\n",
      "Epoch 222/300\n",
      "9/9 - 0s - loss: 0.0133 - accuracy: 0.9965 - lr: 0.0071 - 105ms/epoch - 12ms/step\n",
      "Epoch 223/300\n",
      "9/9 - 0s - loss: 0.0180 - accuracy: 0.9895 - lr: 0.0070 - 146ms/epoch - 16ms/step\n",
      "Epoch 224/300\n",
      "9/9 - 0s - loss: 0.0165 - accuracy: 0.9930 - lr: 0.0070 - 159ms/epoch - 18ms/step\n",
      "Epoch 225/300\n",
      "9/9 - 0s - loss: 0.0195 - accuracy: 0.9895 - lr: 0.0070 - 115ms/epoch - 13ms/step\n",
      "Epoch 226/300\n",
      "9/9 - 0s - loss: 0.0201 - accuracy: 0.9861 - lr: 0.0070 - 111ms/epoch - 12ms/step\n",
      "Epoch 227/300\n",
      "9/9 - 0s - loss: 0.0208 - accuracy: 0.9930 - lr: 0.0070 - 97ms/epoch - 11ms/step\n",
      "Epoch 228/300\n",
      "9/9 - 0s - loss: 0.0136 - accuracy: 0.9965 - lr: 0.0070 - 100ms/epoch - 11ms/step\n",
      "Epoch 229/300\n",
      "9/9 - 0s - loss: 0.0192 - accuracy: 0.9930 - lr: 0.0070 - 101ms/epoch - 11ms/step\n",
      "Epoch 230/300\n",
      "9/9 - 0s - loss: 0.0177 - accuracy: 0.9895 - lr: 0.0069 - 102ms/epoch - 11ms/step\n",
      "Epoch 231/300\n",
      "9/9 - 0s - loss: 0.0232 - accuracy: 0.9930 - lr: 0.0069 - 102ms/epoch - 11ms/step\n",
      "Epoch 232/300\n",
      "9/9 - 0s - loss: 0.0135 - accuracy: 0.9930 - lr: 0.0069 - 99ms/epoch - 11ms/step\n",
      "Epoch 233/300\n",
      "9/9 - 0s - loss: 0.0129 - accuracy: 0.9965 - lr: 0.0069 - 109ms/epoch - 12ms/step\n",
      "Epoch 234/300\n",
      "9/9 - 0s - loss: 0.0185 - accuracy: 0.9895 - lr: 0.0069 - 99ms/epoch - 11ms/step\n",
      "Epoch 235/300\n",
      "9/9 - 0s - loss: 0.0180 - accuracy: 0.9930 - lr: 0.0069 - 95ms/epoch - 11ms/step\n",
      "Epoch 236/300\n",
      "9/9 - 0s - loss: 0.0198 - accuracy: 0.9930 - lr: 0.0069 - 94ms/epoch - 10ms/step\n",
      "Epoch 237/300\n",
      "9/9 - 0s - loss: 0.0169 - accuracy: 0.9930 - lr: 0.0069 - 96ms/epoch - 11ms/step\n",
      "Epoch 238/300\n",
      "9/9 - 0s - loss: 0.0203 - accuracy: 0.9895 - lr: 0.0068 - 93ms/epoch - 10ms/step\n",
      "Epoch 239/300\n",
      "9/9 - 0s - loss: 0.0158 - accuracy: 0.9930 - lr: 0.0068 - 93ms/epoch - 10ms/step\n",
      "Epoch 240/300\n",
      "9/9 - 0s - loss: 0.0163 - accuracy: 0.9930 - lr: 0.0068 - 96ms/epoch - 11ms/step\n",
      "Epoch 241/300\n",
      "9/9 - 0s - loss: 0.0290 - accuracy: 0.9826 - lr: 0.0068 - 96ms/epoch - 11ms/step\n",
      "Epoch 242/300\n",
      "9/9 - 0s - loss: 0.0238 - accuracy: 0.9861 - lr: 0.0068 - 136ms/epoch - 15ms/step\n",
      "Epoch 243/300\n",
      "9/9 - 0s - loss: 0.0344 - accuracy: 0.9861 - lr: 0.0068 - 100ms/epoch - 11ms/step\n",
      "Epoch 244/300\n",
      "9/9 - 0s - loss: 0.0395 - accuracy: 0.9826 - lr: 0.0068 - 95ms/epoch - 11ms/step\n",
      "Epoch 245/300\n",
      "9/9 - 0s - loss: 0.0207 - accuracy: 0.9930 - lr: 0.0067 - 96ms/epoch - 11ms/step\n",
      "Epoch 246/300\n",
      "9/9 - 0s - loss: 0.0245 - accuracy: 0.9826 - lr: 0.0067 - 95ms/epoch - 11ms/step\n",
      "Epoch 247/300\n",
      "9/9 - 0s - loss: 0.0184 - accuracy: 0.9895 - lr: 0.0067 - 96ms/epoch - 11ms/step\n",
      "Epoch 248/300\n",
      "9/9 - 0s - loss: 0.0237 - accuracy: 0.9861 - lr: 0.0067 - 95ms/epoch - 11ms/step\n",
      "Epoch 249/300\n",
      "9/9 - 0s - loss: 0.0228 - accuracy: 0.9826 - lr: 0.0067 - 100ms/epoch - 11ms/step\n",
      "Epoch 250/300\n",
      "9/9 - 0s - loss: 0.0169 - accuracy: 0.9930 - lr: 0.0067 - 98ms/epoch - 11ms/step\n",
      "Epoch 251/300\n",
      "9/9 - 0s - loss: 0.0265 - accuracy: 0.9930 - lr: 0.0067 - 96ms/epoch - 11ms/step\n",
      "Epoch 252/300\n",
      "9/9 - 0s - loss: 0.0251 - accuracy: 0.9826 - lr: 0.0067 - 101ms/epoch - 11ms/step\n",
      "Epoch 253/300\n",
      "9/9 - 0s - loss: 0.0236 - accuracy: 0.9895 - lr: 0.0066 - 102ms/epoch - 11ms/step\n",
      "Epoch 254/300\n",
      "9/9 - 0s - loss: 0.0253 - accuracy: 0.9895 - lr: 0.0066 - 97ms/epoch - 11ms/step\n",
      "Epoch 255/300\n",
      "9/9 - 0s - loss: 0.0242 - accuracy: 0.9861 - lr: 0.0066 - 96ms/epoch - 11ms/step\n",
      "Epoch 256/300\n",
      "9/9 - 0s - loss: 0.0189 - accuracy: 0.9930 - lr: 0.0066 - 100ms/epoch - 11ms/step\n",
      "Epoch 257/300\n",
      "9/9 - 0s - loss: 0.0198 - accuracy: 0.9861 - lr: 0.0066 - 113ms/epoch - 13ms/step\n",
      "Epoch 258/300\n",
      "9/9 - 0s - loss: 0.0259 - accuracy: 0.9861 - lr: 0.0066 - 164ms/epoch - 18ms/step\n",
      "Epoch 259/300\n",
      "9/9 - 0s - loss: 0.0212 - accuracy: 0.9861 - lr: 0.0066 - 116ms/epoch - 13ms/step\n",
      "Epoch 260/300\n",
      "9/9 - 0s - loss: 0.0214 - accuracy: 0.9895 - lr: 0.0065 - 127ms/epoch - 14ms/step\n",
      "Epoch 261/300\n",
      "9/9 - 0s - loss: 0.0191 - accuracy: 0.9895 - lr: 0.0065 - 127ms/epoch - 14ms/step\n",
      "Epoch 262/300\n",
      "9/9 - 0s - loss: 0.0270 - accuracy: 0.9895 - lr: 0.0065 - 106ms/epoch - 12ms/step\n",
      "Epoch 263/300\n",
      "9/9 - 0s - loss: 0.0308 - accuracy: 0.9930 - lr: 0.0065 - 101ms/epoch - 11ms/step\n",
      "Epoch 264/300\n",
      "9/9 - 0s - loss: 0.0238 - accuracy: 0.9930 - lr: 0.0065 - 115ms/epoch - 13ms/step\n",
      "Epoch 265/300\n",
      "9/9 - 0s - loss: 0.0243 - accuracy: 0.9930 - lr: 0.0065 - 111ms/epoch - 12ms/step\n",
      "Epoch 266/300\n",
      "9/9 - 0s - loss: 0.0184 - accuracy: 0.9930 - lr: 0.0065 - 102ms/epoch - 11ms/step\n",
      "Epoch 267/300\n",
      "9/9 - 0s - loss: 0.0219 - accuracy: 0.9895 - lr: 0.0065 - 97ms/epoch - 11ms/step\n",
      "Epoch 268/300\n",
      "9/9 - 0s - loss: 0.0184 - accuracy: 0.9895 - lr: 0.0064 - 96ms/epoch - 11ms/step\n",
      "Epoch 269/300\n",
      "9/9 - 0s - loss: 0.0193 - accuracy: 0.9861 - lr: 0.0064 - 96ms/epoch - 11ms/step\n",
      "Epoch 270/300\n",
      "9/9 - 0s - loss: 0.0269 - accuracy: 0.9861 - lr: 0.0064 - 95ms/epoch - 11ms/step\n",
      "Epoch 271/300\n",
      "9/9 - 0s - loss: 0.0264 - accuracy: 0.9895 - lr: 0.0064 - 97ms/epoch - 11ms/step\n",
      "Epoch 272/300\n",
      "9/9 - 0s - loss: 0.0226 - accuracy: 0.9895 - lr: 0.0064 - 95ms/epoch - 11ms/step\n",
      "Epoch 273/300\n",
      "9/9 - 0s - loss: 0.0126 - accuracy: 0.9965 - lr: 0.0064 - 103ms/epoch - 11ms/step\n",
      "Epoch 274/300\n",
      "9/9 - 0s - loss: 0.0195 - accuracy: 0.9930 - lr: 0.0064 - 133ms/epoch - 15ms/step\n",
      "Epoch 275/300\n",
      "9/9 - 0s - loss: 0.0192 - accuracy: 0.9895 - lr: 0.0063 - 114ms/epoch - 13ms/step\n",
      "Epoch 276/300\n",
      "9/9 - 0s - loss: 0.0164 - accuracy: 0.9930 - lr: 0.0063 - 109ms/epoch - 12ms/step\n",
      "Epoch 277/300\n",
      "9/9 - 0s - loss: 0.0128 - accuracy: 0.9965 - lr: 0.0063 - 102ms/epoch - 11ms/step\n",
      "Epoch 278/300\n",
      "9/9 - 0s - loss: 0.0166 - accuracy: 0.9930 - lr: 0.0063 - 103ms/epoch - 11ms/step\n",
      "Epoch 279/300\n",
      "9/9 - 0s - loss: 0.0183 - accuracy: 0.9895 - lr: 0.0063 - 112ms/epoch - 12ms/step\n",
      "Epoch 280/300\n",
      "9/9 - 0s - loss: 0.0148 - accuracy: 0.9930 - lr: 0.0063 - 123ms/epoch - 14ms/step\n",
      "Epoch 281/300\n",
      "9/9 - 0s - loss: 0.0176 - accuracy: 0.9965 - lr: 0.0063 - 97ms/epoch - 11ms/step\n",
      "Epoch 282/300\n",
      "9/9 - 0s - loss: 0.0179 - accuracy: 0.9930 - lr: 0.0063 - 96ms/epoch - 11ms/step\n",
      "Epoch 283/300\n",
      "9/9 - 0s - loss: 0.0118 - accuracy: 0.9965 - lr: 0.0062 - 93ms/epoch - 10ms/step\n",
      "Epoch 284/300\n",
      "9/9 - 0s - loss: 0.0145 - accuracy: 0.9930 - lr: 0.0062 - 95ms/epoch - 11ms/step\n",
      "Epoch 285/300\n",
      "9/9 - 0s - loss: 0.0163 - accuracy: 0.9930 - lr: 0.0062 - 95ms/epoch - 11ms/step\n",
      "Epoch 286/300\n",
      "9/9 - 0s - loss: 0.0154 - accuracy: 0.9930 - lr: 0.0062 - 95ms/epoch - 11ms/step\n",
      "Epoch 287/300\n",
      "9/9 - 0s - loss: 0.0264 - accuracy: 0.9895 - lr: 0.0062 - 98ms/epoch - 11ms/step\n",
      "Epoch 288/300\n",
      "9/9 - 0s - loss: 0.0121 - accuracy: 0.9965 - lr: 0.0062 - 97ms/epoch - 11ms/step\n",
      "Epoch 289/300\n",
      "9/9 - 0s - loss: 0.0177 - accuracy: 0.9930 - lr: 0.0062 - 94ms/epoch - 10ms/step\n",
      "Epoch 290/300\n",
      "9/9 - 0s - loss: 0.0138 - accuracy: 0.9930 - lr: 0.0061 - 95ms/epoch - 11ms/step\n",
      "Epoch 291/300\n",
      "9/9 - 0s - loss: 0.0188 - accuracy: 0.9895 - lr: 0.0061 - 97ms/epoch - 11ms/step\n",
      "Epoch 292/300\n",
      "9/9 - 0s - loss: 0.0194 - accuracy: 0.9930 - lr: 0.0061 - 95ms/epoch - 11ms/step\n",
      "Epoch 293/300\n",
      "9/9 - 0s - loss: 0.0168 - accuracy: 0.9930 - lr: 0.0061 - 96ms/epoch - 11ms/step\n",
      "Epoch 294/300\n",
      "9/9 - 0s - loss: 0.0201 - accuracy: 0.9895 - lr: 0.0061 - 95ms/epoch - 11ms/step\n",
      "Epoch 295/300\n",
      "9/9 - 0s - loss: 0.0166 - accuracy: 0.9895 - lr: 0.0061 - 95ms/epoch - 11ms/step\n",
      "Epoch 296/300\n",
      "9/9 - 0s - loss: 0.0170 - accuracy: 0.9930 - lr: 0.0061 - 97ms/epoch - 11ms/step\n",
      "Epoch 297/300\n",
      "9/9 - 0s - loss: 0.0172 - accuracy: 0.9930 - lr: 0.0061 - 96ms/epoch - 11ms/step\n",
      "Epoch 298/300\n",
      "9/9 - 0s - loss: 0.0186 - accuracy: 0.9930 - lr: 0.0060 - 96ms/epoch - 11ms/step\n",
      "Epoch 299/300\n",
      "9/9 - 0s - loss: 0.0178 - accuracy: 0.9895 - lr: 0.0060 - 132ms/epoch - 15ms/step\n",
      "Epoch 300/300\n",
      "9/9 - 0s - loss: 0.0162 - accuracy: 0.9965 - lr: 0.0060 - 100ms/epoch - 11ms/step\n"
     ]
    }
   ],
   "source": [
    "model.compile(loss='categorical_crossentropy', optimizer=opt, metrics=['accuracy'])\n",
    "# history = model.fit(x_train, y_train, epochs=args.epochs, batch_size=args.bs, verbose=2)   ## using no class weight\n",
    "# history = model.fit(x_train, y_train, epochs=args.epochs, batch_size=args.bs, verbose=2, class_weight = class_weight)  ## using class weight\n",
    "history = model.fit(x_train, y_train, epochs=args.epochs, batch_size=args.bs, callbacks=[lr_scheduler], class_weight = class_weight, verbose=2) ## using LR scheduler callback"
   ]
  },
  {
   "cell_type": "code",
   "execution_count": null,
   "id": "9cf5f3d7-7cd7-45ba-9f96-f55d6daff4f9",
   "metadata": {},
   "outputs": [],
   "source": []
  },
  {
   "cell_type": "markdown",
   "id": "f4dcbb17-3d6c-4c7d-9d78-8324e5a1b8fd",
   "metadata": {},
   "source": [
    "***"
   ]
  },
  {
   "cell_type": "code",
   "execution_count": 182,
   "id": "ab5f97b7-7c37-4db6-a510-17874873c8a5",
   "metadata": {},
   "outputs": [
    {
     "name": "stdout",
     "output_type": "stream",
     "text": [
      "6/6 [==============================] - 0s 6ms/step\n",
      "[[0.6440678  0.28571429 0.42857143]\n",
      " [0.11864407 0.45714286 0.22222222]\n",
      " [0.23728814 0.25714286 0.34920635]]\n"
     ]
    }
   ],
   "source": [
    "y_predict = model.predict(x_test)\n",
    "y_predict = np.argmax(y_predict, axis = 1)\n",
    "y_test = np.argmax(y_test, axis = 1)\n",
    "\n",
    "result = confusion_matrix(y_test, y_predict, normalize = 'pred')\n",
    "print(result)"
   ]
  },
  {
   "cell_type": "code",
   "execution_count": 183,
   "id": "525bd86a-6393-4e0f-9dd1-6d314ff1c3ae",
   "metadata": {},
   "outputs": [
    {
     "data": {
      "image/png": "[encoded data removed]",
      "text/plain": [
       "<Figure size 600x400 with 2 Axes>"
      ]
     },
     "metadata": {},
     "output_type": "display_data"
    }
   ],
   "source": [
    "figure = plt.figure(figsize=(6, 4))\n",
    "sns.heatmap(result, annot=True,cmap=plt.cm.Blues)\n",
    "plt.tight_layout()\n",
    "plt.ylabel('True label')\n",
    "plt.xlabel('Predicted label')\n",
    "plt.show()"
   ]
  },
  {
   "cell_type": "code",
   "execution_count": 184,
   "id": "4b5c3ee8-e98a-4b20-98c7-3d70d4a34be7",
   "metadata": {},
   "outputs": [
    {
     "name": "stdout",
     "output_type": "stream",
     "text": [
      "=============================================\n",
      "The overall accuracy is: 0.4792\n",
      "The precision score is: 0.4835\n",
      "The recall score is: 0.4792\n",
      "The f1 score is: 0.4831\n",
      "The AUC score is: 0.6807\n",
      "=============================================\n"
     ]
    }
   ],
   "source": [
    "accuracy = metrics.accuracy_score(y_test, y_predict)\n",
    "precision = metrics.precision_score(y_test, y_predict, average = 'macro')\n",
    "recall = metrics.recall_score(y_test, y_predict, average = 'micro')\n",
    "f1 = metrics.f1_score(y_test, y_predict, average = 'weighted')\n",
    "auc = roc_auc_score(y_test, model.predict(x_test, verbose=0), multi_class='ovr')\n",
    "\n",
    "print(\"=============================================\")\n",
    "print(\"The overall accuracy is:\", round(accuracy, 4))\n",
    "print(\"The precision score is:\", round(precision, 4))\n",
    "print(\"The recall score is:\", round(recall, 4))\n",
    "print(\"The f1 score is:\", round(f1, 4))\n",
    "print(\"The AUC score is:\", round(auc, 4))\n",
    "print(\"=============================================\")"
   ]
  },
  {
   "cell_type": "code",
   "execution_count": null,
   "id": "c4e869f3-d433-478a-9b24-b74293d0634b",
   "metadata": {},
   "outputs": [],
   "source": []
  },
  {
   "cell_type": "code",
   "execution_count": null,
   "id": "40d42755-d708-49c3-9a73-802f899ed220",
   "metadata": {},
   "outputs": [],
   "source": []
  },
  {
   "cell_type": "code",
   "execution_count": null,
   "id": "03121f21-d085-48a2-8c36-87179eaf2aba",
   "metadata": {},
   "outputs": [],
   "source": []
  },
  {
   "cell_type": "code",
   "execution_count": null,
   "id": "c7d14ee5-616e-4a10-b24b-c3660ae8f3d5",
   "metadata": {},
   "outputs": [],
   "source": []
  },
  {
   "cell_type": "code",
   "execution_count": null,
   "id": "0069a820-5324-43b9-b04e-2cd893725fbb",
   "metadata": {},
   "outputs": [],
   "source": []
  },
  {
   "cell_type": "markdown",
   "id": "b132d0d4-f53c-4b36-a37a-8fdd8213fdae",
   "metadata": {},
   "source": [
    "***"
   ]
  },
  {
   "cell_type": "markdown",
   "id": "c860653a-0fb4-4e00-a68f-d9dbd78bdc8c",
   "metadata": {},
   "source": [
    "***"
   ]
  },
  {
   "cell_type": "markdown",
   "id": "bae9db2f-857c-4987-b499-181a10e7775a",
   "metadata": {},
   "source": [
    "## Using VAE/AE as a dimensionality reduction"
   ]
  },
  {
   "cell_type": "code",
   "execution_count": null,
   "id": "4851c3fd-5bbb-4112-b86e-714312bb0e97",
   "metadata": {},
   "outputs": [],
   "source": [
    "x = data_x\n",
    "y = y"
   ]
  },
  {
   "cell_type": "code",
   "execution_count": null,
   "id": "67f5ab25-a6c5-4f49-85df-8f53b1b7787f",
   "metadata": {},
   "outputs": [],
   "source": [
    "class Args:\n",
    "    # arugments\n",
    "    epochs=200\n",
    "    enc_epochs = 50\n",
    "    bs=32\n",
    "    enc_bs = 16\n",
    "    lr=0.001\n",
    "    momentum=0.9\n",
    "    encoding_dim = 16\n",
    "    num_classes= 2\n",
    "    verbose='store_true'\n",
    "    seed=710674\n",
    "\n",
    "args = Args()"
   ]
  },
  {
   "cell_type": "code",
   "execution_count": null,
   "id": "3a5e194c-cc97-4dc6-b308-891b91b85917",
   "metadata": {},
   "outputs": [],
   "source": []
  },
  {
   "cell_type": "markdown",
   "id": "a3fb1ae9-612e-4890-92d3-1c031a05acb2",
   "metadata": {},
   "source": [
    "### Autoencoder for dim reduction"
   ]
  },
  {
   "cell_type": "code",
   "execution_count": null,
   "id": "51fc9659-d907-4e33-a8bd-31967db5c7a9",
   "metadata": {},
   "outputs": [],
   "source": [
    "# input dataset layer\n",
    "input_layer = Input(shape=(x.shape[1],))\n",
    "\n",
    "# encoder layers\n",
    "encoder = Dense(64, activation='relu')(input_layer)\n",
    "encoder = Dense(32, activation='relu')(encoder)\n",
    "encoder_out = Dense(args.encoding_dim, activation='relu')(encoder)\n",
    "\n",
    "# decoder layers\n",
    "decoder = Dense(32, activation='relu')(encoder_out)\n",
    "decoder = Dense(64, activation='relu')(decoder)\n",
    "decoder_out = Dense(x.shape[1], activation='sigmoid')(decoder)"
   ]
  },
  {
   "cell_type": "code",
   "execution_count": null,
   "id": "d60d75fa-94bf-4ab7-ae14-dfc0697e16e9",
   "metadata": {},
   "outputs": [],
   "source": [
    "# AE model\n",
    "autoencoder = Model(inputs=input_layer, outputs=decoder_out)\n",
    "\n",
    "# Encoder model (convert input dataset into latent space)\n",
    "encoder_model = Model(inputs=input_layer, outputs=encoder_out)\n",
    "\n",
    "# Decoder model (recover latent space/vector into original dataset format)\n",
    "encoded_input = Input(shape=(args.encoding_dim,))\n",
    "decoder_layer = autoencoder.layers[-3](encoded_input)\n",
    "decoder_layer = autoencoder.layers[-2](decoder_layer)\n",
    "decoder_out = autoencoder.layers[-1](decoder_layer)\n",
    "decoder_model = Model(inputs=encoded_input, outputs=decoder_layer)"
   ]
  },
  {
   "cell_type": "code",
   "execution_count": null,
   "id": "930e4df0-f1fe-49d7-88ec-5d4743aa6e2e",
   "metadata": {},
   "outputs": [],
   "source": [
    "# Model compile\n",
    "autoencoder.compile(optimizer='adam', loss='mse')\n",
    "\n",
    "# Checking each model\n",
    "autoencoder.summary()\n",
    "# encoder_model.summary()\n",
    "# decoder_model.summary()"
   ]
  },
  {
   "cell_type": "code",
   "execution_count": null,
   "id": "e1b6f004-27f3-4a19-ba75-d8735ae82c4c",
   "metadata": {
    "scrolled": true
   },
   "outputs": [],
   "source": [
    "## Model training\n",
    "autoencoder.fit(x, x, epochs = args.enc_epochs, batch_size = args.enc_bs, shuffle=True, validation_split=0.2, verbose=2)"
   ]
  },
  {
   "cell_type": "code",
   "execution_count": null,
   "id": "e2d73949-5fdf-457e-b1f5-4d174ad54b6e",
   "metadata": {},
   "outputs": [],
   "source": [
    "encoded_data = encoder_model.predict(x)\n",
    "decoded_data = decoder_model.predict(encoded_data)"
   ]
  },
  {
   "cell_type": "code",
   "execution_count": null,
   "id": "76de485d-9b8c-4dbd-b4e3-4cecf71b62b5",
   "metadata": {},
   "outputs": [],
   "source": [
    "encoded_data.shape"
   ]
  },
  {
   "cell_type": "code",
   "execution_count": null,
   "id": "12df8ac2-ebe6-47a1-8759-afbe05c3d62a",
   "metadata": {},
   "outputs": [],
   "source": [
    "decoded_data.shape"
   ]
  },
  {
   "cell_type": "code",
   "execution_count": null,
   "id": "16f95697-d1d9-4861-a1ce-5b0d46132998",
   "metadata": {},
   "outputs": [],
   "source": [
    "y.shape"
   ]
  },
  {
   "cell_type": "code",
   "execution_count": null,
   "id": "0f63bc96-65f7-431d-a581-d9f8e51e9086",
   "metadata": {},
   "outputs": [],
   "source": [
    "decoded_data"
   ]
  },
  {
   "cell_type": "code",
   "execution_count": null,
   "id": "2cb603d7-37a9-4af7-8ae9-9e3cc4613ea4",
   "metadata": {},
   "outputs": [],
   "source": []
  },
  {
   "cell_type": "code",
   "execution_count": null,
   "id": "1b31eb85-686a-4948-a775-160528f4794d",
   "metadata": {},
   "outputs": [],
   "source": [
    "class Args:\n",
    "    # arugments\n",
    "    epochs=200\n",
    "    bs=32\n",
    "    lr=0.001\n",
    "    momentum=0.9\n",
    "    num_classes= 2\n",
    "    verbose='store_true'\n",
    "    seed=710674\n",
    "\n",
    "args = Args()\n",
    "\n",
    "# np.random.seed(args.seed)\n",
    "# random.seed(args.seed)\n",
    "# torch.manual_seed(args.seed)"
   ]
  },
  {
   "cell_type": "code",
   "execution_count": null,
   "id": "7f2bbad8-7456-4f91-a531-c7c38e9a4801",
   "metadata": {},
   "outputs": [],
   "source": [
    "x_trainset, x_test, y_trainset, y_test = train_test_split(decoded_data, y, test_size = 0.1, random_state = 710674)\n",
    "x_train, x_vali, y_train, y_vali = train_test_split(x_trainset, y_trainset, test_size = 0.2, random_state = 710674)"
   ]
  },
  {
   "cell_type": "code",
   "execution_count": null,
   "id": "7eda29a3-3701-47b3-888c-adab1c263fb2",
   "metadata": {},
   "outputs": [],
   "source": [
    "inputs = np.concatenate((x_train, x_vali), axis = 0)\n",
    "targets = np.concatenate((y_train, y_vali), axis = 0)"
   ]
  },
  {
   "cell_type": "code",
   "execution_count": null,
   "id": "033e9ade-fab5-48c0-861e-82dd1621e0b5",
   "metadata": {},
   "outputs": [],
   "source": [
    "fold_num = 1\n",
    "split_num = 5\n",
    "opt = keras.optimizers.SGD(learning_rate = args.lr, decay = 1e-6, momentum = args.momentum)\n",
    "kfold = KFold(n_splits = split_num, shuffle = True)\n",
    "# kfold = StratifiedKFold(n_splits = split_num, shuffle = True)"
   ]
  },
  {
   "cell_type": "code",
   "execution_count": null,
   "id": "ee4d5391-c090-41d2-bf12-62d4c5b9808f",
   "metadata": {},
   "outputs": [],
   "source": [
    "############## FOR FOUR-GROUP CLASSIFICATION ###############\n",
    "class_weight = {0:1, 1: 1.68}"
   ]
  },
  {
   "cell_type": "code",
   "execution_count": null,
   "id": "d5713989-8eab-4d96-afb3-f7ad9197c1e4",
   "metadata": {},
   "outputs": [],
   "source": [
    "acc_per_fold = []\n",
    "loss_per_fold = []"
   ]
  },
  {
   "cell_type": "code",
   "execution_count": null,
   "id": "dafbb424-a9f9-4318-9ab1-3a85bc98e716",
   "metadata": {},
   "outputs": [],
   "source": [
    "for train, test in kfold.split(inputs, targets):\n",
    "    model = Sequential()\n",
    "    model.add(Dense(128, input_dim = x_train.shape[1], activation = 'relu'))\n",
    "    model.add(Dense(64, activation = 'relu'))\n",
    "    model.add(Dropout(0.5)) #drop out\n",
    "    model.add(Dense(32, activation = 'relu'))\n",
    "    model.add(Dense(args.num_classes, activation = 'softmax'))\n",
    "    \n",
    "    ## model compile\n",
    "    model.compile(loss = 'categorical_crossentropy', optimizer = opt, metrics = ['accuracy'])\n",
    "    \n",
    "    print('----------------------------------------')\n",
    "    print(f'Training or fold {fold_num} ... ')\n",
    "    \n",
    "    ## fit data to model\n",
    "    history = model.fit(inputs[train], targets[train], batch_size = args.bs, epochs = args.epochs, verbose = 0, class_weight = class_weight)\n",
    "    \n",
    "    ## generate generalization metrics\n",
    "    scores = model.evaluate(inputs[test], targets[test])\n",
    "    print(f'Score for fold {fold_num}: {model.metrics_names[0]} of {scores[0]}; {model.metrics_names[1]} of {scores[1]*100}%')\n",
    "    print(\"%s: %.2f%%\" %(model.metrics_names[1], scores[1]*100))\n",
    "    acc_per_fold.append(scores[1] * 100)\n",
    "    loss_per_fold.append(scores[0])\n",
    "    \n",
    "    ## increasing fold number\n",
    "    fold_num = fold_num + 1\n",
    "    \n",
    "    \n",
    "    \n",
    "## Summarizing the results\n",
    "print('------------------------------------------------------------------------')\n",
    "print('Score per fold')\n",
    "for i in range(0, len(acc_per_fold)):\n",
    "    print('------------------------------------------------------------------------')\n",
    "    print(f'>> Fold {i+1} - Loss: {loss_per_fold[i]} - Accuracy: {acc_per_fold[i]}%')\n",
    "print('------------------------------------------------------------------------')\n",
    "print('Average scores for all folds:')\n",
    "print(f'>>> Accuracy: {np.mean(acc_per_fold)} (+- {np.std(acc_per_fold)})')\n",
    "print(f'>>> Loss: {np.mean(loss_per_fold)}')\n",
    "print('------------------------------------------------------------------------')"
   ]
  },
  {
   "cell_type": "code",
   "execution_count": null,
   "id": "dab7d67c-2c9d-4320-84b8-9f451d9b4063",
   "metadata": {},
   "outputs": [],
   "source": [
    "y_predict = model.predict(x_test)\n",
    "y_predict = np.argmax(y_predict, axis = 1)\n",
    "y_test = np.argmax(y_test, axis = 1)\n",
    "\n",
    "result = confusion_matrix(y_test, y_predict, normalize = 'pred')\n",
    "print(result)"
   ]
  },
  {
   "cell_type": "code",
   "execution_count": null,
   "id": "66ca930a-2f73-4fc8-a7c8-d908c8b8b3e7",
   "metadata": {},
   "outputs": [],
   "source": [
    "figure = plt.figure(figsize=(6, 4))\n",
    "sns.heatmap(result, annot=True,cmap=plt.cm.Blues)\n",
    "plt.tight_layout()\n",
    "plt.ylabel('True label')\n",
    "plt.xlabel('Predicted label')\n",
    "plt.show()"
   ]
  },
  {
   "cell_type": "code",
   "execution_count": null,
   "id": "9962116a-e761-4059-adbf-e613c02a6053",
   "metadata": {},
   "outputs": [],
   "source": [
    "accuracy = metrics.accuracy_score(y_test, y_predict)\n",
    "precision = metrics.precision_score(y_test, y_predict, average = 'macro')\n",
    "recall = metrics.recall_score(y_test, y_predict, average = 'micro')\n",
    "f1 = metrics.f1_score(y_test, y_predict, average = 'weighted')\n",
    "auc = roc_auc_score(y_test, model.predict(x_test, verbose=0), multi_class='ovr')\n",
    "\n",
    "print(\"=============================================\")\n",
    "print(\"The overall accuracy is:\", round(accuracy, 4))\n",
    "print(\"The precision score is:\", round(precision, 4))\n",
    "print(\"The recall score is:\", round(recall, 4))\n",
    "print(\"The f1 score is:\", round(f1, 4))\n",
    "print(\"The AUC score is:\", round(auc, 4))\n",
    "print(\"=============================================\")"
   ]
  },
  {
   "cell_type": "code",
   "execution_count": null,
   "id": "f57e63ff-ce5a-4d03-94ad-e6c7fb4ded06",
   "metadata": {},
   "outputs": [],
   "source": []
  },
  {
   "cell_type": "code",
   "execution_count": null,
   "id": "29aeef4b-07fc-409b-a6e0-d37ee522f463",
   "metadata": {},
   "outputs": [],
   "source": []
  },
  {
   "cell_type": "code",
   "execution_count": null,
   "id": "47edc141-29ab-4439-9a08-f1fb51cf4a8d",
   "metadata": {},
   "outputs": [],
   "source": []
  },
  {
   "cell_type": "code",
   "execution_count": null,
   "id": "f8e416bc-f6e3-4501-bc04-12836c08826a",
   "metadata": {},
   "outputs": [],
   "source": []
  },
  {
   "cell_type": "code",
   "execution_count": null,
   "id": "d39d9e81-27d4-4805-a767-d87d82a20dd2",
   "metadata": {},
   "outputs": [],
   "source": []
  }
 ],
 "metadata": {
  "kernelspec": {
   "display_name": "Python 3 (ipykernel)",
   "language": "python",
   "name": "python3"
  },
  "language_info": {
   "codemirror_mode": {
    "name": "ipython",
    "version": 3
   },
   "file_extension": ".py",
   "mimetype": "text/x-python",
   "name": "python",
   "nbconvert_exporter": "python",
   "pygments_lexer": "ipython3",
   "version": "3.9.17"
  }
 },
 "nbformat": 4,
 "nbformat_minor": 5
}
