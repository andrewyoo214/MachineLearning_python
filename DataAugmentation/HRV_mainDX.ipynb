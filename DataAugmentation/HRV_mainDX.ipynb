{
 "cells": [
  {
   "cell_type": "markdown",
   "id": "446940bc-deaf-4ffd-9f41-7c8d51f5849d",
   "metadata": {},
   "source": [
    "# =========================="
   ]
  },
  {
   "cell_type": "markdown",
   "id": "ce34f45a-68e6-413d-ae88-c2f98e482c22",
   "metadata": {},
   "source": [
    "# HRV analysis with patients' main dx (Diagnosed disease class)"
   ]
  },
  {
   "cell_type": "markdown",
   "id": "66631ee4-3946-4c73-a3be-b57268831283",
   "metadata": {},
   "source": [
    "* Dataset provided by SMC Professor J.A.\n",
    "* Research Goal: Estimate or predict depressed/anxious status based on HRV dataset"
   ]
  },
  {
   "cell_type": "code",
   "execution_count": null,
   "id": "8cf0a27c-d0c1-4a12-80ab-ff79ecd06a6d",
   "metadata": {},
   "outputs": [],
   "source": [
    "import random\n",
    "import tensorflow as tf\n",
    "import pandas as pd\n",
    "import numpy as np\n",
    "import seaborn as sns\n",
    "import matplotlib.pyplot as plt\n",
    "# import keras_one_cycle_clr as ktool\n",
    "\n",
    "# import torch\n",
    "# import torch.nn as nn\n",
    "# import torch.nn.functional as F\n",
    "# import torch.optim as optim\n",
    "# import torchvision\n",
    "\n",
    "from PIL import Image"
   ]
  },
  {
   "cell_type": "code",
   "execution_count": null,
   "id": "5b55955e-4501-4148-8ba8-20aec3e76d9c",
   "metadata": {},
   "outputs": [],
   "source": [
    "from scipy import stats\n",
    "from scipy.stats import ttest_ind\n",
    "from sklearn.model_selection import train_test_split\n",
    "from keras.models import Sequential\n",
    "from keras.layers import Dense , Activation, Dropout, BatchNormalization\n",
    "from keras.optimizers import Adam ,RMSprop\n",
    "from keras import  backend as K\n",
    "from keras.optimizers import SGD\n",
    "# from tensorflow.keras import utils as np_utils\n",
    "# from tensorflow.keras.metrics import binary_focal_crossentropy\n",
    "from sklearn import decomposition, metrics\n",
    "from sklearn.linear_model import LogisticRegression\n",
    "from tensorflow.keras.utils import to_categorical\n",
    "from tensorflow import keras\n",
    "# from torch.utils.data import TensorDataset, DataLoader, Dataset\n",
    "from sklearn.preprocessing import MinMaxScaler, RobustScaler, Normalizer\n",
    "\n",
    "# from tqdm import tqdm\n",
    "# from torch.autograd import Variable\n",
    "# from torch.utils.data import Dataset, DataLoader\n",
    "from sklearn.metrics import cohen_kappa_score,f1_score, confusion_matrix\n",
    "from sklearn.model_selection import KFold, train_test_split\n",
    "from keras.callbacks import Callback\n",
    "# from pytorch_tabnet.tab_model import TabNetClassifier"
   ]
  },
  {
   "cell_type": "code",
   "execution_count": null,
   "id": "66047e46-c1c8-4950-a9bb-81d7d57d84b9",
   "metadata": {},
   "outputs": [],
   "source": [
    "# ## Set this if you want to check all information from dataframe without ... auto.\n",
    "# np.set_printoptions(threshold=np.inf, linewidth=np.inf) #inf = infinity \n",
    "# pd.set_option('display.max_rows', 100)\n",
    "# pd.set_option('display.max_columns', 100)\n",
    "# pd.set_option('display.width', 100)"
   ]
  },
  {
   "cell_type": "code",
   "execution_count": null,
   "id": "af0db4c5-7e24-45ba-a983-65f71b1987d5",
   "metadata": {},
   "outputs": [],
   "source": []
  },
  {
   "cell_type": "markdown",
   "id": "e17616d7-c69e-42fb-8939-dd8a9cac027c",
   "metadata": {},
   "source": [
    "# =========================="
   ]
  },
  {
   "cell_type": "markdown",
   "id": "aac1c2ec-6975-47cd-8644-b1a3efa1a61a",
   "metadata": {},
   "source": [
    "# Data Handling"
   ]
  },
  {
   "cell_type": "markdown",
   "id": "7ea921b4-892d-4a7d-aeac-26af1fba5951",
   "metadata": {},
   "source": [
    "* 주요 outlier:\n",
    "> 1. SRD 0.8 미만 혹은 1.0 초과\n",
    "> 2. 이상심박동수(abnormal_hr) 5회 초과"
   ]
  },
  {
   "cell_type": "code",
   "execution_count": null,
   "id": "e2569cb8-0ed3-4c16-af8f-2cf4f483908d",
   "metadata": {},
   "outputs": [],
   "source": [
    "hrv_ori = pd.read_csv('E:/RESEARCH/Datasets/HRV/JA/HRV_prep.csv')"
   ]
  },
  {
   "cell_type": "code",
   "execution_count": null,
   "id": "c936e3b5-ed7c-45b5-922f-213dfcd2ab4f",
   "metadata": {},
   "outputs": [],
   "source": [
    "hrv_ori.shape"
   ]
  },
  {
   "cell_type": "markdown",
   "id": "2ad7271f-3322-471b-a150-b1fa817acfb4",
   "metadata": {},
   "source": [
    "* 기기상의 오류로 인한 결측치를 제거해주자."
   ]
  },
  {
   "cell_type": "code",
   "execution_count": null,
   "id": "bf95ccf2-4791-4305-84ba-99edcf05de0f",
   "metadata": {},
   "outputs": [],
   "source": [
    "hrv_ori = hrv_ori[(hrv_ori.srd >=0.8) & (hrv_ori.srd <= 1.0)] ## srd outlier removed - there were 1424 outlier data\n",
    "hrv_ori = hrv_ori[(hrv_ori.abnormal_hr) <= 5] ## abnormal heart rate outlier removed - there were 175 outlier data"
   ]
  },
  {
   "cell_type": "code",
   "execution_count": null,
   "id": "83c4c391-921e-499e-b7fb-729481caa3b1",
   "metadata": {},
   "outputs": [],
   "source": [
    "hrv_ori.shape ## total 1491 data removed (outlier due to the hardware error)"
   ]
  },
  {
   "cell_type": "code",
   "execution_count": null,
   "id": "0cf69cdd-7f9f-4661-8833-0f59b2142702",
   "metadata": {},
   "outputs": [],
   "source": [
    "hrv_ori[\"main_dx\"].value_counts() ## checking the numbers for each main_dx classification\n",
    "# hrv_ori[\"second_dx\"].value_counts() ## checking the numbers for each second_dx classification\n",
    "# hrv_ori[\"third_dx\"].value_counts() ## checking the numbers for each third_dx classification"
   ]
  },
  {
   "cell_type": "code",
   "execution_count": null,
   "id": "87158375-27d0-42c8-a84d-fba9fbb46283",
   "metadata": {},
   "outputs": [],
   "source": [
    "# print(hrv_ori.dtypes)"
   ]
  },
  {
   "cell_type": "markdown",
   "id": "ec32f046-c55a-4b37-b4da-6da51b0720ba",
   "metadata": {},
   "source": [
    "* 본 연구에서 확인하고자 하는 주요 질병들은 MDD(s,r), PDD, BP(I,II), \n",
    "> 따라서 각 질병 별로 남기고 나머지는 제거하는 작업 필요."
   ]
  },
  {
   "cell_type": "code",
   "execution_count": null,
   "id": "757cb339-f752-4781-9af4-4d24641cc565",
   "metadata": {},
   "outputs": [],
   "source": [
    "hrv_ori['bipolar'] = 0 ##  first, make the empty variable called \"bipolar\""
   ]
  },
  {
   "cell_type": "code",
   "execution_count": null,
   "id": "3ed4c39b-deba-4ce6-9e51-12392e15eb01",
   "metadata": {},
   "outputs": [],
   "source": [
    "hrv_ori.loc[(hrv_ori['main_dx']==\"BP_I\"), 'bipolar' ] = 'one'\n",
    "hrv_ori.loc[(hrv_ori['main_dx']==\"BP_II\"), 'bipolar'] = 'two'"
   ]
  },
  {
   "cell_type": "code",
   "execution_count": null,
   "id": "c971ca97-70a1-4a47-935e-f16d5fe8c0aa",
   "metadata": {},
   "outputs": [],
   "source": [
    "hrv_ori.head()"
   ]
  },
  {
   "cell_type": "code",
   "execution_count": null,
   "id": "96313a8e-24d3-4de9-adc7-db44429bc26e",
   "metadata": {},
   "outputs": [],
   "source": [
    "bipolar_empty = hrv_ori[hrv_ori['bipolar']==0].index\n",
    "hrv_ori_bp = hrv_ori.drop(bipolar_empty)"
   ]
  },
  {
   "cell_type": "code",
   "execution_count": null,
   "id": "2c14807f-d330-446b-975e-57368bf49e60",
   "metadata": {},
   "outputs": [],
   "source": [
    "hrv_ori_bp.head()"
   ]
  },
  {
   "cell_type": "code",
   "execution_count": null,
   "id": "cb7a065e-8fde-4709-ba29-b8b9f4fc4cea",
   "metadata": {},
   "outputs": [],
   "source": []
  },
  {
   "cell_type": "code",
   "execution_count": null,
   "id": "fb5e945c-881f-4918-a8d8-8b1e09a3d7da",
   "metadata": {},
   "outputs": [],
   "source": [
    "print(\"The shape of the processed bipolar disorder patients' hrv dataset is\", hrv_ori_bp.shape)"
   ]
  },
  {
   "cell_type": "code",
   "execution_count": null,
   "id": "1c53f599-78e1-47ed-8c6e-3de686967f89",
   "metadata": {},
   "outputs": [],
   "source": [
    "hrv_ori_bp[\"bipolar\"].value_counts()"
   ]
  },
  {
   "cell_type": "code",
   "execution_count": null,
   "id": "7e050b88-12f6-4750-8937-5d2615acfc81",
   "metadata": {},
   "outputs": [],
   "source": []
  },
  {
   "cell_type": "code",
   "execution_count": null,
   "id": "d9c94bdb-8fd6-44dc-877c-de11283995d8",
   "metadata": {},
   "outputs": [],
   "source": [
    "hrv_ori = hrv_ori_bp"
   ]
  },
  {
   "cell_type": "code",
   "execution_count": null,
   "id": "a6dd65ba-34f7-4d8c-971d-54130ae203c5",
   "metadata": {},
   "outputs": [],
   "source": [
    "# hrv_ori.describe()"
   ]
  },
  {
   "cell_type": "code",
   "execution_count": null,
   "id": "70d49486-96b9-4e17-897f-3d79e0c9ae58",
   "metadata": {},
   "outputs": [],
   "source": [
    "# hrv_ori[\"HAMD\"].describe()\n",
    "# hrv_ori[\"HAMA\"].describe()\n",
    "# hrv_ori[\"BDI-II\"].describe()\n",
    "# hrv_ori[\"BAI\"].describe()\n",
    "# hrv_ori[\"gender\"].value_counts()"
   ]
  },
  {
   "cell_type": "code",
   "execution_count": null,
   "id": "3147ec34-25ed-4479-9a30-c776269e6ea4",
   "metadata": {},
   "outputs": [],
   "source": []
  },
  {
   "cell_type": "code",
   "execution_count": null,
   "id": "1c21ee18-e3fa-43eb-aa63-df317a957b46",
   "metadata": {},
   "outputs": [],
   "source": []
  },
  {
   "cell_type": "markdown",
   "id": "fd4a782e-4d3f-4b89-9a4a-714b1b7dcf27",
   "metadata": {},
   "source": [
    "## Gender, Age Separation"
   ]
  },
  {
   "cell_type": "markdown",
   "id": "2403b09c-2864-4b99-85b1-ccf81437094d",
   "metadata": {},
   "source": [
    "### 1) Gender"
   ]
  },
  {
   "cell_type": "markdown",
   "id": "3439227a-1aea-482e-b870-76bc35d40dbb",
   "metadata": {},
   "source": [
    "* select the \"Female\" dataset only"
   ]
  },
  {
   "cell_type": "code",
   "execution_count": null,
   "id": "89b02473-f33d-444e-9d54-c677723f6f53",
   "metadata": {},
   "outputs": [],
   "source": [
    "# hrv_ori = hrv_ori[hrv_ori.gender == \"F\"]"
   ]
  },
  {
   "cell_type": "markdown",
   "id": "36f87030-d191-4868-9363-d38aa64e4531",
   "metadata": {},
   "source": [
    "* select the \"Male\" dataset only"
   ]
  },
  {
   "cell_type": "code",
   "execution_count": null,
   "id": "5da5a6dc-0a1b-4fba-b111-ece876b52021",
   "metadata": {},
   "outputs": [],
   "source": [
    "# hrv_ori = hrv_ori[hrv_ori.gender == \"M\"]"
   ]
  },
  {
   "cell_type": "code",
   "execution_count": null,
   "id": "fffad875-ca0c-451e-8a59-09b0eb76c0f2",
   "metadata": {},
   "outputs": [],
   "source": []
  },
  {
   "cell_type": "code",
   "execution_count": null,
   "id": "c9dc0d22-f119-4b92-a98b-494f744b7f67",
   "metadata": {},
   "outputs": [],
   "source": [
    "hrv_ori.head()"
   ]
  },
  {
   "cell_type": "markdown",
   "id": "e79e61b7-6b83-4862-a90c-b2b9dab7d22e",
   "metadata": {},
   "source": [
    "### 2)  Age"
   ]
  },
  {
   "cell_type": "code",
   "execution_count": null,
   "id": "b3a47158-79d8-4d03-9a23-068fdb4e24c0",
   "metadata": {},
   "outputs": [],
   "source": [
    "# hrv_ori = hrv_ori[(hrv_ori.age >=20) & (hrv_ori.age < 30)]"
   ]
  },
  {
   "cell_type": "code",
   "execution_count": null,
   "id": "5fb2af75-2692-4485-bde5-6531fe3aa51b",
   "metadata": {},
   "outputs": [],
   "source": []
  },
  {
   "cell_type": "markdown",
   "id": "bbd23a1b-ad07-4768-ae09-8043e53214cc",
   "metadata": {},
   "source": [
    "-------"
   ]
  },
  {
   "cell_type": "code",
   "execution_count": null,
   "id": "ba128959-14ed-4f7f-a140-b4bbe2147a1f",
   "metadata": {},
   "outputs": [],
   "source": []
  },
  {
   "cell_type": "markdown",
   "id": "2577d09e-8144-4791-aad3-727584c4cd69",
   "metadata": {},
   "source": [
    "## Data Separation"
   ]
  },
  {
   "cell_type": "markdown",
   "id": "61c96367-c6b5-4926-90d6-e24b42aaf359",
   "metadata": {},
   "source": [
    "### Dataset variables\n",
    "\n",
    "> \"Demographic info\" : Gender, Age \\\n",
    "> \"Questionnaires\" : HAMD, HAMA, BDI-II, BAI, MDQ, HCL-32 \\\n",
    "> \"HRV's 17 Features\" : SDNN, PSI, VLF, LF, HF, TP, LFNORM, HFNORM, LF/HF Ratio, RMSSD, APEN, SRD, TSRD, TP_ln, LF_ln, HF_ln \\\n",
    "> \"Current Status labels\":\n",
    ">> HAMD_ : Hamilton Depression Rating Scale \\\n",
    ">> HAMA_ : Hamilton Anxiety Rating Scale \\\n",
    ">> BDI_ : Beck Depression Index \\\n",
    ">> BAI_ : Beck Anxiety Index \\"
   ]
  },
  {
   "cell_type": "code",
   "execution_count": null,
   "id": "e9bed859-d833-46e3-9f63-64682040cec7",
   "metadata": {},
   "outputs": [],
   "source": [
    "hrv_feature_list = ['sdnn','psi','tp','vlf','lf','hf','lfnorm','hfnorm','lf_hf','rmssd','apen','srd','tsrd','tp_ln', 'vlf_ln','lf_ln','hf_ln']\n",
    "hrv_feature_list_core = ['sdnn', 'tp','vlf','lfnorm','hfnorm','rmssd','apen','srd','tsrd']"
   ]
  },
  {
   "cell_type": "code",
   "execution_count": null,
   "id": "28d7797d-1588-4b82-aed9-57d9bb21998a",
   "metadata": {},
   "outputs": [],
   "source": [
    "hrv_bp = hrv_ori.loc[:, ['sdnn','psi','tp','vlf','lf','hf','lfnorm','hfnorm','lf_hf','rmssd','apen','srd','tsrd','tp_ln', 'vlf_ln','lf_ln','hf_ln','bipolar']] ## all HRV features\n",
    "hrv_bp_core = hrv_ori.loc[:, ['sdnn', 'tp','vlf','lfnorm','hfnorm','rmssd','apen','srd','rmssd','bipolar']] ## core HRV features only"
   ]
  },
  {
   "cell_type": "code",
   "execution_count": null,
   "id": "6a5028a6-72f3-4a4d-a01f-421a37f951c0",
   "metadata": {},
   "outputs": [],
   "source": [
    "hrv_bp_multi = hrv_ori.loc[:, ['sdnn','psi','tp','vlf','lf','hf','lfnorm','hfnorm','lf_hf','rmssd','apen','srd','tsrd','tp_ln', 'vlf_ln','lf_ln','hf_ln',\n",
    "                                 'auto_activity','auto_balance','stress_resist','stress_index','tired','avg_hr','heart_stable','abnormal_hr','bipolar']]"
   ]
  },
  {
   "cell_type": "markdown",
   "id": "9e2b28a4-e692-4fb1-b382-653784094b1f",
   "metadata": {},
   "source": [
    "* Delete the patients with null value."
   ]
  },
  {
   "cell_type": "code",
   "execution_count": null,
   "id": "cc0dbaf0-d680-4655-a56b-3c31ad016015",
   "metadata": {
    "tags": []
   },
   "outputs": [],
   "source": [
    "hrv_bp = hrv_bp.dropna(subset = ['bipolar'], axis=0)\n",
    "hrv_bp_core = hrv_bp_core.dropna(subset = ['bipolar'], axis=0)"
   ]
  },
  {
   "cell_type": "code",
   "execution_count": null,
   "id": "5f92eee5-e92a-4e91-8167-f8cbf3bed31d",
   "metadata": {},
   "outputs": [],
   "source": []
  },
  {
   "cell_type": "code",
   "execution_count": null,
   "id": "c2a4eb4e-e61f-4adb-8aa1-b6bf084bcf10",
   "metadata": {},
   "outputs": [],
   "source": []
  },
  {
   "cell_type": "markdown",
   "id": "4d67cfe3-29b1-445a-8765-1f9fa2b2c302",
   "metadata": {},
   "source": [
    "## Multimodality approach"
   ]
  },
  {
   "cell_type": "code",
   "execution_count": null,
   "id": "b7449be8-87c5-4fae-9ff2-146679e28665",
   "metadata": {},
   "outputs": [],
   "source": [
    "hrv_bp_multi = hrv_ori.loc[:, ['sdnn','psi','tp','vlf','lf','hf','lfnorm','hfnorm','lf_hf','rmssd','apen','srd','tsrd','tp_ln', 'vlf_ln','lf_ln','hf_ln',\n",
    "                                 'auto_activity','auto_balance','stress_resist','stress_index','tired','avg_hr','heart_stable','abnormal_hr','bipolar']]"
   ]
  },
  {
   "cell_type": "code",
   "execution_count": null,
   "id": "158ae504-c364-419c-bb3b-4d996bb35d40",
   "metadata": {},
   "outputs": [],
   "source": [
    "hrv_bp_multi = hrv_bp_multi.dropna(subset = ['bipolar'], axis=0)"
   ]
  },
  {
   "cell_type": "code",
   "execution_count": null,
   "id": "66736b35-fe25-448c-9e5e-416da1f2234f",
   "metadata": {},
   "outputs": [],
   "source": []
  },
  {
   "cell_type": "code",
   "execution_count": null,
   "id": "06d3dd70-ca99-4509-9815-e35797926adb",
   "metadata": {},
   "outputs": [],
   "source": [
    "# hrv_bp_multi"
   ]
  },
  {
   "cell_type": "markdown",
   "id": "23258996-267f-4efe-bdac-434d048e3558",
   "metadata": {},
   "source": [
    "---------"
   ]
  },
  {
   "cell_type": "code",
   "execution_count": null,
   "id": "d19671d7-a809-49b6-8896-9fbfe5b14234",
   "metadata": {},
   "outputs": [],
   "source": []
  },
  {
   "cell_type": "markdown",
   "id": "dfe41dc8-ec9a-4010-9cdd-590576250125",
   "metadata": {},
   "source": [
    "# =========================="
   ]
  },
  {
   "cell_type": "markdown",
   "id": "03a2959f-9400-45dc-a4e1-6fb81d5a1723",
   "metadata": {},
   "source": [
    "## Data Selection"
   ]
  },
  {
   "cell_type": "markdown",
   "id": "0a3fa4d6-d6cc-4497-8cd4-bd9865726687",
   "metadata": {},
   "source": [
    "* Select the dataset for further analysis"
   ]
  },
  {
   "cell_type": "code",
   "execution_count": null,
   "id": "240361f1-fc17-4629-a959-6e05b1e1aa0e",
   "metadata": {},
   "outputs": [],
   "source": [
    "data = hrv_bp"
   ]
  },
  {
   "cell_type": "code",
   "execution_count": null,
   "id": "2d8a3dcf-6f2a-4e53-bf1f-b008650685be",
   "metadata": {},
   "outputs": [],
   "source": [
    "data.shape"
   ]
  },
  {
   "cell_type": "code",
   "execution_count": null,
   "id": "dceba5fd-bd78-43c4-93a1-19dd424bcbe1",
   "metadata": {},
   "outputs": [],
   "source": [
    "data"
   ]
  },
  {
   "cell_type": "code",
   "execution_count": null,
   "id": "57f01423-5c12-49f4-85ce-a722c8d4e08b",
   "metadata": {},
   "outputs": [],
   "source": [
    "data[\"bipolar\"].value_counts()"
   ]
  },
  {
   "cell_type": "code",
   "execution_count": null,
   "id": "cb78f952-bc1b-4059-a0c9-32de95397eff",
   "metadata": {},
   "outputs": [],
   "source": []
  },
  {
   "cell_type": "code",
   "execution_count": null,
   "id": "bfab8e55-d9fb-4c57-aeb7-17901b551080",
   "metadata": {},
   "outputs": [],
   "source": []
  },
  {
   "cell_type": "code",
   "execution_count": null,
   "id": "f1183150-ead0-48e3-8267-1cbcf062e25a",
   "metadata": {},
   "outputs": [],
   "source": []
  },
  {
   "cell_type": "markdown",
   "id": "4cf809e4-fc7d-4631-855e-82d65b50cac6",
   "metadata": {},
   "source": [
    "----------"
   ]
  },
  {
   "cell_type": "markdown",
   "id": "23eaa814-9190-4620-8058-e6d91c598752",
   "metadata": {},
   "source": [
    "## Data preprocessing"
   ]
  },
  {
   "cell_type": "markdown",
   "id": "7b5aa434-7989-4d69-af7e-95becf09bb52",
   "metadata": {},
   "source": [
    "### Removing HRV outliers"
   ]
  },
  {
   "cell_type": "code",
   "execution_count": null,
   "id": "57502e45-5869-4b0d-bf95-3921c532b5d2",
   "metadata": {},
   "outputs": [],
   "source": [
    "# feature_list = ['sdnn', 'psi', 'tp', 'vlf', 'lf', 'hf', 'lfnorm', 'hfnorm', 'lf_hf', 'rmssd', 'apen', 'srd', 'tsrd', 'tp_ln', 'vlf_ln', 'lf_ln', 'hf_ln']\n",
    "# data_outlier = data.copy()"
   ]
  },
  {
   "cell_type": "code",
   "execution_count": null,
   "id": "2a1772e6-57eb-45f4-a308-e392f5c424b5",
   "metadata": {},
   "outputs": [],
   "source": [
    "# var = 'HAMD_'\n",
    "# var = 'HAMA_'\n",
    "# var = 'BDI_'\n",
    "# var = 'BAI_'\n",
    "# var = 'depression'\n",
    "# var = 'anxious'\n",
    "var = 'bipolar'"
   ]
  },
  {
   "cell_type": "code",
   "execution_count": null,
   "id": "2f5dd7ad-5a3a-45ae-9b58-bba963499aca",
   "metadata": {},
   "outputs": [],
   "source": [
    "data[var].value_counts()"
   ]
  },
  {
   "cell_type": "code",
   "execution_count": null,
   "id": "810d9823-fc2e-4443-a7ab-8e735dcf1932",
   "metadata": {},
   "outputs": [],
   "source": []
  },
  {
   "cell_type": "markdown",
   "id": "61b9770c-b409-4ec6-a21b-80f84a8718b4",
   "metadata": {},
   "source": [
    "* severity classification (4classes)"
   ]
  },
  {
   "cell_type": "code",
   "execution_count": null,
   "id": "b6ea9f61-e6c8-4457-b5e7-ef5245021b95",
   "metadata": {},
   "outputs": [],
   "source": [
    "normal = data[data[var]=='normal']\n",
    "mild = data[data[var]=='mild']\n",
    "moderate = data[data[var]=='moderate']\n",
    "severe = data[data[var]=='severe']"
   ]
  },
  {
   "cell_type": "code",
   "execution_count": null,
   "id": "fb291ed6-f313-4b06-8675-a74bfac87ab7",
   "metadata": {},
   "outputs": [],
   "source": []
  },
  {
   "cell_type": "markdown",
   "id": "193bed58-119d-4709-ac8f-1a71ae0d7261",
   "metadata": {},
   "source": [
    "* Subtype classification (binary)"
   ]
  },
  {
   "cell_type": "code",
   "execution_count": null,
   "id": "9d5c8bb2-df64-4b44-a7c1-0b6f052a189f",
   "metadata": {},
   "outputs": [],
   "source": [
    "type_one = data[data[var]=='one']\n",
    "type_two = data[data[var]=='two']"
   ]
  },
  {
   "cell_type": "code",
   "execution_count": null,
   "id": "30f7853f-a946-43c3-818d-659a5d7510e5",
   "metadata": {},
   "outputs": [],
   "source": [
    "## check sample dataset\n",
    "# type_one"
   ]
  },
  {
   "cell_type": "code",
   "execution_count": null,
   "id": "bf5d87e2-867a-468c-abba-8001ccf013ae",
   "metadata": {},
   "outputs": [],
   "source": []
  },
  {
   "cell_type": "markdown",
   "id": "e605de18-7d5e-46b5-aaaf-8c09073adbaf",
   "metadata": {},
   "source": [
    "#### Removing outliers with q1, q2 quantile values"
   ]
  },
  {
   "cell_type": "code",
   "execution_count": null,
   "id": "3785f73a-6e5c-4cde-a982-9a3b1f7a4256",
   "metadata": {},
   "outputs": [],
   "source": [
    "# ## Removing outlier of each HRV feature variables.\n",
    "# for feature in feature_list:\n",
    "#     q1 = data[feature].quantile(0.25)\n",
    "#     q3 = data[feature].quantile(0.75)\n",
    "#     iqr = q3 - q1\n",
    "#     condition = data[feature]>q3+(1.5*iqr)\n",
    "#     ind = data[condition].index\n",
    "#     data.drop(ind, inplace=True)"
   ]
  },
  {
   "cell_type": "code",
   "execution_count": null,
   "id": "23b938ba-0277-4797-82ac-d411a49b4f42",
   "metadata": {},
   "outputs": [],
   "source": [
    "data.shape"
   ]
  },
  {
   "cell_type": "code",
   "execution_count": null,
   "id": "723f7931-2445-4aa2-96ae-0fbc22f5841b",
   "metadata": {},
   "outputs": [],
   "source": []
  },
  {
   "cell_type": "markdown",
   "id": "7ccbbe81-716a-4d15-9157-db4d46fdd337",
   "metadata": {},
   "source": [
    "### Outliers check with boxplot"
   ]
  },
  {
   "cell_type": "code",
   "execution_count": null,
   "id": "907f10cd-7adf-4ac4-b4c3-9582eb2d3e07",
   "metadata": {},
   "outputs": [],
   "source": [
    "normal = data[data[var]=='normal']\n",
    "mild = data[data[var]=='mild']\n",
    "moderate = data[data[var]=='moderate']\n",
    "severe = data[data[var]=='severe']"
   ]
  },
  {
   "cell_type": "code",
   "execution_count": null,
   "id": "857af45b-8444-4c1a-89a0-0520d42bf25a",
   "metadata": {},
   "outputs": [],
   "source": []
  },
  {
   "cell_type": "code",
   "execution_count": null,
   "id": "ca58601c-7f09-4e57-9dda-29b4cb57b322",
   "metadata": {},
   "outputs": [],
   "source": [
    "data_box = data.loc[:, ['sdnn','psi','tp','vlf','lf','hf','lfnorm','hfnorm','lf_hf','rmssd','apen',\n",
    "                                  'srd','tsrd', 'tp_ln', 'vlf_ln','lf_ln','hf_ln']]\n",
    "normal_box = normal.loc[:, ['sdnn','psi','tp','vlf','lf','hf','lfnorm','hfnorm','lf_hf','rmssd','apen',\n",
    "                                  'srd','tsrd', 'tp_ln', 'vlf_ln','lf_ln','hf_ln']]\n",
    "mild_box = mild.loc[:, ['sdnn','psi','tp','vlf','lf','hf','lfnorm','hfnorm','lf_hf','rmssd','apen',\n",
    "                                  'srd','tsrd', 'tp_ln', 'vlf_ln','lf_ln','hf_ln']]\n",
    "moderate_box = moderate.loc[:, ['sdnn','psi','tp','vlf','lf','hf','lfnorm','hfnorm','lf_hf','rmssd','apen',\n",
    "                                  'srd','tsrd', 'tp_ln', 'vlf_ln','lf_ln','hf_ln']]\n",
    "severe_box = severe.loc[:, ['sdnn','psi','tp','vlf','lf','hf','lfnorm','hfnorm','lf_hf','rmssd','apen',\n",
    "                                  'srd','tsrd', 'tp_ln', 'vlf_ln','lf_ln','hf_ln']]"
   ]
  },
  {
   "cell_type": "code",
   "execution_count": null,
   "id": "b986017f-43b5-4261-bd85-48e05eed6511",
   "metadata": {},
   "outputs": [],
   "source": [
    "scaler = MinMaxScaler()\n",
    "# scaler = RobustScaler()\n",
    "# scaler = Normalizer()"
   ]
  },
  {
   "cell_type": "code",
   "execution_count": null,
   "id": "7a2fd68a-9f7a-4323-ba24-838b17d1cda5",
   "metadata": {},
   "outputs": [],
   "source": [
    "data_box[:] = scaler.fit_transform(data_box[:])\n",
    "normal_box[:] = scaler.fit_transform(normal_box[:])\n",
    "mild_box[:] = scaler.fit_transform(mild_box[:])\n",
    "moderate_box[:] = scaler.fit_transform(moderate_box[:])\n",
    "severe_box[:] = scaler.fit_transform(severe_box[:])"
   ]
  },
  {
   "cell_type": "code",
   "execution_count": null,
   "id": "2b942266-dc26-445f-9537-767797f5bfb2",
   "metadata": {},
   "outputs": [],
   "source": []
  },
  {
   "cell_type": "code",
   "execution_count": null,
   "id": "e6c2d027-9aa8-4811-968d-e1344bea57fe",
   "metadata": {},
   "outputs": [],
   "source": [
    "# fig, ax = plt.subplots()\n",
    "plt.figure(figsize = (10, 5))\n",
    "sns.set_style(\"whitegrid\")\n",
    "plt.xlabel('HRV feature variables',fontsize=10)\n",
    "plt.ylabel('Feature value',fontsize=10)\n",
    "plt.boxplot(data_box)\n",
    "plt.show()"
   ]
  },
  {
   "cell_type": "code",
   "execution_count": null,
   "id": "bf1f4a95-6fe5-4355-8ebe-9f57c3210872",
   "metadata": {},
   "outputs": [],
   "source": [
    "# fig, ax = plt.subplots()\n",
    "plt.figure(figsize = (10, 5))\n",
    "plt.xlabel('HRV feature variables',fontsize=10)\n",
    "plt.ylabel('Feature value',fontsize=10)\n",
    "plt.boxplot(normal_box)\n",
    "plt.show()"
   ]
  },
  {
   "cell_type": "code",
   "execution_count": null,
   "id": "afbca85f-1155-4557-94db-cc7c95568f29",
   "metadata": {},
   "outputs": [],
   "source": [
    "# fig, ax = plt.subplots()\n",
    "plt.figure(figsize = (10, 5))\n",
    "plt.xlabel('HRV feature variables',fontsize=10)\n",
    "plt.ylabel('Feature value',fontsize=10)\n",
    "plt.boxplot(mild_box)\n",
    "plt.show()"
   ]
  },
  {
   "cell_type": "code",
   "execution_count": null,
   "id": "6c900662-29bb-46b2-8cf2-75e81eb6dd1f",
   "metadata": {},
   "outputs": [],
   "source": [
    "# fig, ax = plt.subplots()\n",
    "plt.figure(figsize = (10, 5))\n",
    "plt.xlabel('HRV feature variables',fontsize=10)\n",
    "plt.ylabel('Feature value',fontsize=10)\n",
    "plt.boxplot(moderate_box)\n",
    "plt.show()"
   ]
  },
  {
   "cell_type": "code",
   "execution_count": null,
   "id": "51b4e518-0b93-41bc-b087-2909f95e54e2",
   "metadata": {},
   "outputs": [],
   "source": [
    "# fig, ax = plt.subplots()\n",
    "plt.figure(figsize = (10, 5))\n",
    "plt.xlabel('HRV feature variables',fontsize=10)\n",
    "plt.ylabel('Feature value',fontsize=10)\n",
    "plt.boxplot(severe_box)\n",
    "plt.show()"
   ]
  },
  {
   "cell_type": "code",
   "execution_count": null,
   "id": "df0c1a04-110b-478f-88c4-a685047ef13e",
   "metadata": {},
   "outputs": [],
   "source": []
  },
  {
   "cell_type": "code",
   "execution_count": null,
   "id": "0179c9bf-43d7-4950-8629-cf7255973626",
   "metadata": {},
   "outputs": [],
   "source": []
  },
  {
   "cell_type": "code",
   "execution_count": null,
   "id": "e3b17c9a-5520-4e2d-9bea-230fcc9126e9",
   "metadata": {},
   "outputs": [],
   "source": []
  },
  {
   "cell_type": "code",
   "execution_count": null,
   "id": "eb7bc6e1-a236-4c04-b207-dc15ebd12acf",
   "metadata": {},
   "outputs": [],
   "source": []
  },
  {
   "cell_type": "markdown",
   "id": "73fa1d63-3886-4171-ad4a-02072966dba3",
   "metadata": {},
   "source": [
    "# =========================="
   ]
  },
  {
   "cell_type": "markdown",
   "id": "016c6296-7c45-4360-ae5f-26233c66b5f5",
   "metadata": {},
   "source": [
    "# Statistical Check and feature selection"
   ]
  },
  {
   "cell_type": "code",
   "execution_count": null,
   "id": "0aa42001-91dc-44bf-8872-c687ffb227de",
   "metadata": {},
   "outputs": [],
   "source": [
    "var = 'bipolar'"
   ]
  },
  {
   "cell_type": "code",
   "execution_count": null,
   "id": "cc6a0591-f3b0-4be3-8205-0c855cbc0f85",
   "metadata": {},
   "outputs": [],
   "source": [
    "data_y = data.loc[:,[var]]"
   ]
  },
  {
   "cell_type": "code",
   "execution_count": null,
   "id": "2ddf6bb6-27c6-4b28-b42e-0d652c77c752",
   "metadata": {},
   "outputs": [],
   "source": [
    "data_x = data.loc[:, ['sdnn','psi','tp','vlf','lf','hf','lfnorm','hfnorm','lf_hf','rmssd','apen','srd','tsrd','tp_ln', 'vlf_ln','lf_ln','hf_ln']]\n",
    "# data_x = data.loc[:, ['sdnn','psi','tp','vlf','lf','hf','lfnorm','hfnorm','lf_hf','rmssd','apen','srd','tsrd','tp_ln', 'vlf_ln','lf_ln','hf_ln',\n",
    "#                                  'auto_activity','auto_balance','stress_resist','stress_index','tired','avg_hr','heart_stable','abnormal_hr']] ##for multimodality analysis\n",
    "# data_x = data.loc[:, ['sdnn', 'tp', 'lf_hf', 'rmssd',  'srd', 'tsrd', 'tp_ln', 'vlf_ln', 'lf_ln', 'hf_ln']]\n",
    "# data_x = data.loc[:,['sdnn', 'tp','vlf','lfnorm','hfnorm','rmssd','apen','srd','rmssd']]"
   ]
  },
  {
   "cell_type": "code",
   "execution_count": null,
   "id": "86889bae-64d0-4c87-8e03-b85b5e80a3d3",
   "metadata": {},
   "outputs": [],
   "source": []
  },
  {
   "cell_type": "markdown",
   "id": "b1d4cd04-11bd-45fe-8e1e-484755016329",
   "metadata": {},
   "source": [
    "## Scaler"
   ]
  },
  {
   "cell_type": "code",
   "execution_count": null,
   "id": "881885da-362b-43b2-913e-1b475e7798b6",
   "metadata": {},
   "outputs": [],
   "source": [
    "# scaler = MinMaxScaler()\n",
    "# scaler = RobustScaler()\n",
    "# scaler = Normalizer()"
   ]
  },
  {
   "cell_type": "code",
   "execution_count": null,
   "id": "62aa941e-a549-4303-9462-02080545147b",
   "metadata": {},
   "outputs": [],
   "source": [
    "# # scaler to normalize/standardize whole dataset\n",
    "# data_x[:] = scaler.fit_transform(data_x[:])"
   ]
  },
  {
   "cell_type": "code",
   "execution_count": null,
   "id": "3f1e3433-7a28-4898-8948-64a655b473ed",
   "metadata": {},
   "outputs": [],
   "source": [
    "data_var = ['sdnn', 'tp', 'vlf', 'lf', 'hf', 'lfnorm', 'hfnorm', 'lf_hf', 'rmssd', 'apen', 'srd', 'tsrd', 'tp_ln', 'vlf_ln', 'lf_ln', 'hf_ln']\n",
    "# data_var = ['sdnn','psi','tp','vlf','lf','hf','lfnorm','hfnorm','lf_hf','rmssd','apen','srd','tsrd','tp_ln', 'vlf_ln','lf_ln','hf_ln',\n",
    "#             'auto_activity','auto_balance','stress_resist','stress_index','tired','avg_hr','heart_stable','abnormal_hr']\n",
    "# data_var_ = ['sdnn', 'tp', 'lf_hf', 'rmssd',  'srd', 'tsrd', 'tp_ln', 'vlf_ln', 'lf_ln', 'hf_ln']"
   ]
  },
  {
   "cell_type": "code",
   "execution_count": null,
   "id": "07ccaf6b-8354-45cc-9df0-652161436280",
   "metadata": {},
   "outputs": [],
   "source": []
  },
  {
   "cell_type": "markdown",
   "id": "9114e142-31de-40be-aa84-b9dc407744d4",
   "metadata": {},
   "source": [
    "## T-TEST, ANOVA"
   ]
  },
  {
   "cell_type": "code",
   "execution_count": null,
   "id": "740c83c6-6b16-4d77-9b7c-2b63d73ff28a",
   "metadata": {},
   "outputs": [],
   "source": [
    "bp_one = data[data['bipolar']=='one']\n",
    "bp_two = data[data['bipolar']=='two']"
   ]
  },
  {
   "cell_type": "code",
   "execution_count": null,
   "id": "bd6b3c69-57d2-4baf-b600-731300808f10",
   "metadata": {},
   "outputs": [],
   "source": [
    "## Comparing 4 groups (normal, mild, moderate, severe) with ANOVA test\n",
    "stat_result =[]\n",
    "for var in data_var:\n",
    "    a = bp_one[var].values\n",
    "    b = bp_two[var].values\n",
    "    f_val , p_val = stats.f_oneway(a, b)\n",
    "    stat_result.append([f_val, p_val])"
   ]
  },
  {
   "cell_type": "code",
   "execution_count": null,
   "id": "1983e09b-5383-44a7-ab4f-b6182102ba6c",
   "metadata": {},
   "outputs": [],
   "source": [
    "stat_result = pd.DataFrame(stat_result, columns = ['F-value', 'p-value'])\n",
    "stat_result = stat_result.assign(HRV_feature = data_var)"
   ]
  },
  {
   "cell_type": "code",
   "execution_count": null,
   "id": "24d5af3f-63b8-4c48-8e92-09c99cfb0083",
   "metadata": {},
   "outputs": [],
   "source": [
    "stat_result"
   ]
  },
  {
   "cell_type": "markdown",
   "id": "379397e9-0630-4120-9229-0b7236e52912",
   "metadata": {},
   "source": [
    "* Significant variables: SDNN, LF, HF, RMSSD, SRD, TSRD, TP, VLF"
   ]
  },
  {
   "cell_type": "code",
   "execution_count": null,
   "id": "b1b03b09-b991-4b3b-9fcf-ee7259f2eee9",
   "metadata": {},
   "outputs": [],
   "source": [
    "# data_x = data.loc[:, ['sdnn','psi','tp','lf','hf','lfnorm','hfnorm','lf_hf','rmssd','srd','tsrd','tp_ln', 'vlf_ln','lf_ln','hf_ln']]\n",
    "data_x = data.loc[:, ['sdnn','tp_ln', 'vlf_ln','lf_ln','hf_ln']]\n",
    "# data_x = data.loc[:, ['lf','hf','lf_hf','rmssd','tsrd','tp_ln', 'vlf_ln','lf_ln','hf_ln','auto_activity','stress_resist','stress_index','tired','avg_hr','heart_stable']]"
   ]
  },
  {
   "cell_type": "code",
   "execution_count": null,
   "id": "3ee227f1-537e-4882-af4a-7d56d28343a1",
   "metadata": {},
   "outputs": [],
   "source": []
  },
  {
   "cell_type": "code",
   "execution_count": null,
   "id": "97cb81a2-3cf5-49f8-8b47-64f6b40b1df2",
   "metadata": {},
   "outputs": [],
   "source": []
  },
  {
   "cell_type": "markdown",
   "id": "65210393-3c9b-48e4-bc46-ddba278996c3",
   "metadata": {},
   "source": [
    "# =========================="
   ]
  },
  {
   "cell_type": "markdown",
   "id": "99211c0f-0e88-494a-a76b-ea01e4eea443",
   "metadata": {},
   "source": [
    "# Machine Learning approaches"
   ]
  },
  {
   "cell_type": "code",
   "execution_count": null,
   "id": "9b693eeb-9584-4765-8c44-fb584bf44c80",
   "metadata": {},
   "outputs": [],
   "source": [
    "class Args:\n",
    "    # arugments\n",
    "    epochs=500\n",
    "    bs=64\n",
    "    lr=0.001\n",
    "    momentum=0.5\n",
    "    num_classes=2\n",
    "    verbose='store_true'\n",
    "    seed=710674\n",
    "\n",
    "args = Args()    \n",
    "\n",
    "# np.random.seed(args.seed)\n",
    "# random.seed(args.seed)\n",
    "# torch.manual_seed(args.seed)"
   ]
  },
  {
   "cell_type": "code",
   "execution_count": null,
   "id": "65aa103a-9c36-4766-b8ab-3265b54f6bfc",
   "metadata": {},
   "outputs": [],
   "source": [
    "# print(data_x.dtypes)"
   ]
  },
  {
   "cell_type": "code",
   "execution_count": null,
   "id": "0117ed69-bebd-44a4-a2d8-4e35b56df0ed",
   "metadata": {},
   "outputs": [],
   "source": []
  },
  {
   "cell_type": "code",
   "execution_count": null,
   "id": "987aa03f-c303-4978-811f-20770f0c5736",
   "metadata": {},
   "outputs": [],
   "source": []
  },
  {
   "cell_type": "markdown",
   "id": "b19ddfe1-4de3-4f11-845d-b0e490d7041e",
   "metadata": {},
   "source": [
    "---------"
   ]
  },
  {
   "cell_type": "markdown",
   "id": "47181b8e-8726-4011-9310-251b698127a6",
   "metadata": {},
   "source": [
    "### Determine the number of classes(for prediction)"
   ]
  },
  {
   "cell_type": "code",
   "execution_count": null,
   "id": "a20fbc74-006f-49e4-ad43-3d6e37f215f4",
   "metadata": {},
   "outputs": [],
   "source": [
    "## Using 4 classes (normal vs mild vs moderate vs severe)\n",
    "label = data_y\n",
    "label = label.replace({'one': 0})\n",
    "label = label.replace({'two': 1})"
   ]
  },
  {
   "cell_type": "code",
   "execution_count": null,
   "id": "3d1bc69e-ff68-4096-b370-b9b5761a3910",
   "metadata": {},
   "outputs": [],
   "source": [
    "# ## Using 3 classes (normal vs mild vs moderate/severe)\n",
    "# label = data_y\n",
    "# label = label.replace({'normal': 0})\n",
    "# label = label.replace({'mild': 1})\n",
    "# label = label.replace({'moderate': 2})\n",
    "# label = label.replace({'severe': 2})"
   ]
  },
  {
   "cell_type": "code",
   "execution_count": null,
   "id": "2cebe9ce-2d5f-429b-ab51-20862dace095",
   "metadata": {},
   "outputs": [],
   "source": [
    "# ## Using 2 classes (normal vs depression)\n",
    "# label = data_y\n",
    "# label = label.replace({'normal': 0})\n",
    "# label = label.replace({'mild': 1})\n",
    "# label = label.replace({'moderate': 1})\n",
    "# label = label.replace({'severe': 1})"
   ]
  },
  {
   "cell_type": "markdown",
   "id": "9318e090-a3db-4a55-a2e2-895213bcad66",
   "metadata": {},
   "source": [
    "-----------"
   ]
  },
  {
   "cell_type": "code",
   "execution_count": null,
   "id": "9a31fe48-3d0c-42b2-9b48-958c4a972e27",
   "metadata": {},
   "outputs": [],
   "source": [
    "label.value_counts()"
   ]
  },
  {
   "cell_type": "code",
   "execution_count": null,
   "id": "4ebba22b-2f77-4b53-941a-a57a26c1f179",
   "metadata": {},
   "outputs": [],
   "source": []
  },
  {
   "cell_type": "markdown",
   "id": "5458f8d1-9748-454b-9b46-c7c61ea24cc0",
   "metadata": {},
   "source": [
    "* Convert the y values into categorical variables"
   ]
  },
  {
   "cell_type": "code",
   "execution_count": null,
   "id": "5e4da80b-c2ec-414d-8849-7bda2027407a",
   "metadata": {},
   "outputs": [],
   "source": [
    "y = to_categorical((label), 2)"
   ]
  },
  {
   "cell_type": "code",
   "execution_count": null,
   "id": "c61c93a7-3a3b-422f-b609-818e429291b7",
   "metadata": {},
   "outputs": [],
   "source": [
    "x_train, x_test, y_train, y_test = train_test_split(data_x, y, test_size = 0.2, random_state = 710674)"
   ]
  },
  {
   "cell_type": "code",
   "execution_count": null,
   "id": "521a0e06-693e-4bcd-b0a3-5a6784d88513",
   "metadata": {},
   "outputs": [],
   "source": [
    "print(\"The size of training dataset is:\", x_train.shape[0])\n",
    "print(\"The size of test dataset is:\", x_test.shape[0])"
   ]
  },
  {
   "cell_type": "code",
   "execution_count": null,
   "id": "27874b1d-b519-48b1-971a-4205f7cdff86",
   "metadata": {},
   "outputs": [],
   "source": []
  },
  {
   "cell_type": "markdown",
   "id": "29dd4d72-2f36-4154-83e0-e3975377ad4c",
   "metadata": {},
   "source": [
    "------"
   ]
  },
  {
   "cell_type": "markdown",
   "id": "576c4f1e-98ec-4b5f-a37b-90a4d3ec3e76",
   "metadata": {},
   "source": [
    "* For K-FOLD practice"
   ]
  },
  {
   "cell_type": "code",
   "execution_count": null,
   "id": "836aff31-eeba-4599-a77b-5e6219e2d707",
   "metadata": {},
   "outputs": [],
   "source": [
    "x_train, x_test, y_train, y_test = train_test_split(data_x, y, test_size = 0.2, random_state = 710674)"
   ]
  },
  {
   "cell_type": "code",
   "execution_count": null,
   "id": "4bbc58b8-e00c-4f69-9ae9-152d66183690",
   "metadata": {},
   "outputs": [],
   "source": [
    "inputs = np.concatenate((x_train, x_test), axis = 0)\n",
    "targets = np.concatenate((y_train, y_test), axis = 0)"
   ]
  },
  {
   "cell_type": "code",
   "execution_count": null,
   "id": "b160e87c-ff89-4a26-8c48-e0b37ba993ff",
   "metadata": {},
   "outputs": [],
   "source": [
    "inputs.shape"
   ]
  },
  {
   "cell_type": "code",
   "execution_count": null,
   "id": "6c667589-ea62-470a-892d-47cc6a68fc5a",
   "metadata": {},
   "outputs": [],
   "source": [
    "targets.shape"
   ]
  },
  {
   "cell_type": "markdown",
   "id": "77084206-042b-45c0-833b-4f4189344c47",
   "metadata": {},
   "source": [
    "----------------"
   ]
  },
  {
   "cell_type": "code",
   "execution_count": null,
   "id": "79efb868-d56f-41fc-8109-40a4b66f1d7b",
   "metadata": {},
   "outputs": [],
   "source": []
  },
  {
   "cell_type": "markdown",
   "id": "b8d15a15-c9b1-420e-8f11-73309e46f6f7",
   "metadata": {},
   "source": [
    "### Model generation, selection"
   ]
  },
  {
   "cell_type": "code",
   "execution_count": null,
   "id": "62723dbf-8b04-4cca-96b3-1d9b25f3e345",
   "metadata": {},
   "outputs": [],
   "source": [
    "## Generate the model\n",
    "model = Sequential()\n",
    "model.add(Dense(256, input_dim = x_train.shape[1], activation = 'relu'))\n",
    "model.add(Dense(256, activation = 'relu'))\n",
    "model.add(Dropout(0.2)) #drop out\n",
    "model.add(Dense(256, activation = 'relu'))\n",
    "model.add(Dense(128, activation = 'relu'))\n",
    "model.add(Dense(32, activation = 'relu'))\n",
    "model.add(Dense(args.num_classes, activation = 'sigmoid'))"
   ]
  },
  {
   "cell_type": "code",
   "execution_count": null,
   "id": "3d94fc1b-4737-4c20-bf34-d5b00df25313",
   "metadata": {},
   "outputs": [],
   "source": [
    "# Generate the model-3\n",
    "model = Sequential()\n",
    "model.add(Dense(128, input_dim = x_train.shape[1], activation = 'relu'))\n",
    "model.add(Dense(512, activation = 'relu'))\n",
    "model.add(Dense(1024, activation = 'relu'))\n",
    "model.add(Dense(1024, activation = 'relu'))\n",
    "model.add(Dropout(0.5)) #drop out\n",
    "model.add(Dense(1024, activation = 'relu'))\n",
    "model.add(Dense(1024, activation = 'relu'))\n",
    "model.add(Dense(512, activation = 'relu'))\n",
    "model.add(Dense(128, activation = 'relu'))\n",
    "model.add(Dense(32, activation = 'relu'))\n",
    "model.add(Dense(args.num_classes, activation = 'softmax'))"
   ]
  },
  {
   "cell_type": "code",
   "execution_count": null,
   "id": "81c230fe-55f3-4be7-949f-bf519ece380a",
   "metadata": {},
   "outputs": [],
   "source": [
    "# model.summary()"
   ]
  },
  {
   "cell_type": "markdown",
   "id": "bf86178c-2b01-4f73-a9a3-cec4272f11bd",
   "metadata": {},
   "source": [
    "* Model 학습과정"
   ]
  },
  {
   "cell_type": "code",
   "execution_count": null,
   "id": "a3fc451e-283a-40b1-bed0-a5d140f1f4d8",
   "metadata": {},
   "outputs": [],
   "source": [
    "# opt = keras.optimizers.SGD(learning_rate = args.lr, decay = 1e-5, momentum = args.momentum)\n",
    "# model.compile(loss = 'categorical_crossentropy', optimizer = opt, metrics = ['accuracy'])\n",
    "# model.fit(inputs[train], targets[train], batch_size = args.bs, epochs = args.epochs, verbose = 0, class_weight = class_weight)"
   ]
  },
  {
   "cell_type": "code",
   "execution_count": null,
   "id": "e8325e85-eb3e-4a29-85f6-62f755a8327c",
   "metadata": {},
   "outputs": [],
   "source": [
    "# scores = model.evaluate(inputs[test], targets[test])\n",
    "# print(f'Score for fold {fold_num}: {model.metrics_names[0]} of {scores[0]}; {model.metrics_names[1]} of {scores[1]*100}%')"
   ]
  },
  {
   "cell_type": "code",
   "execution_count": null,
   "id": "9dbb1d79-3f11-47fc-86eb-ccba94037101",
   "metadata": {},
   "outputs": [],
   "source": []
  },
  {
   "cell_type": "markdown",
   "id": "0b676dd0-3140-492d-b27e-8ec2ebcf1bf8",
   "metadata": {},
   "source": [
    "* 5-FOLD CROSS VALIDATION approach"
   ]
  },
  {
   "cell_type": "code",
   "execution_count": null,
   "id": "4bdf4016-c426-4d74-8cc8-2b05bc81ff01",
   "metadata": {},
   "outputs": [],
   "source": [
    "fold_num = 1\n",
    "split_num = 5\n",
    "opt = keras.optimizers.SGD(learning_rate = args.lr, decay = 1e-6, momentum = args.momentum)\n",
    "# kfold = KFold(n_splits = split_num, shuffle = True)\n",
    "kfold = KFold(n_splits = split_num, shuffle = False)"
   ]
  },
  {
   "cell_type": "code",
   "execution_count": null,
   "id": "338ee1d3-f4ac-4aa5-a234-b245ff8b9379",
   "metadata": {},
   "outputs": [],
   "source": [
    "label.value_counts()"
   ]
  },
  {
   "cell_type": "code",
   "execution_count": null,
   "id": "42b0dd86-135b-44ae-8a1d-2bc4c192bb6c",
   "metadata": {},
   "outputs": [],
   "source": [
    "class_weight = {1:1, 0:6}"
   ]
  },
  {
   "cell_type": "code",
   "execution_count": null,
   "id": "61e581b7-4183-427b-a466-54cd1bd80bb9",
   "metadata": {},
   "outputs": [],
   "source": [
    "acc_per_fold = []\n",
    "loss_per_fold = []"
   ]
  },
  {
   "cell_type": "code",
   "execution_count": null,
   "id": "123a5919-45a4-4bce-b5e3-2006518a0fed",
   "metadata": {
    "tags": []
   },
   "outputs": [],
   "source": [
    "for train, test in kfold.split(inputs, targets):\n",
    "    model = Sequential()\n",
    "    model.add(Dense(128, input_dim = x_train.shape[1], activation = 'relu'))\n",
    "    model.add(Dense(512, activation = 'relu'))\n",
    "    model.add(Dense(1024, activation = 'relu'))\n",
    "    # model.add(Dropout(0.5)) #drop out\n",
    "    model.add(BatchNormalization())\n",
    "    model.add(Activation('relu'))\n",
    "    model.add(Dense(1024, activation = 'relu')) \n",
    "    model.add(Dense(512, activation = 'relu'))\n",
    "    model.add(BatchNormalization())\n",
    "    model.add(Activation('relu'))\n",
    "    model.add(Dense(256, activation = 'relu'))\n",
    "    model.add(Dense(128, activation = 'relu')) # added\n",
    "    model.add(Dense(32, activation = 'relu'))\n",
    "    model.add(Dense(args.num_classes, activation = 'softmax'))\n",
    "    \n",
    "    ## model compile\n",
    "    model.compile(loss = 'categorical_crossentropy', optimizer = opt, metrics = ['accuracy'])\n",
    "    \n",
    "    print('----------------------------------------')\n",
    "    print(f'Training or fold {fold_num} ... ')\n",
    "    \n",
    "    ## fit data to model\n",
    "    history = model.fit(inputs[train], targets[train], batch_size = args.bs, epochs = args.epochs, verbose = 0, class_weight = class_weight)\n",
    "    \n",
    "    ## generate generalization metrics\n",
    "    scores = model.evaluate(inputs[test], targets[test])\n",
    "    print(f'Score for fold {fold_num}: {model.metrics_names[0]} of {scores[0]}; {model.metrics_names[1]} of {scores[1]*100}%')\n",
    "    print(\"%s: %.2f%%\" %(model.metrics_names[1], scores[1]*100))\n",
    "    acc_per_fold.append(scores[1] * 100)\n",
    "    loss_per_fold.append(scores[0])\n",
    "    \n",
    "    ## increasing fold number\n",
    "    fold_num = fold_num + 1\n",
    "    \n",
    "    \n",
    "    \n",
    "## Summarizing the results\n",
    "print('------------------------------------------------------------------------')\n",
    "print('Score per fold')\n",
    "for i in range(0, len(acc_per_fold)):\n",
    "    print('------------------------------------------------------------------------')\n",
    "    print(f'>> Fold {i+1} - Loss: {loss_per_fold[i]} - Accuracy: {acc_per_fold[i]}%')\n",
    "print('------------------------------------------------------------------------')\n",
    "print('Average scores for all folds:')\n",
    "print(f'>>> Accuracy: {np.mean(acc_per_fold)} (+- {np.std(acc_per_fold)})')\n",
    "print(f'>>> Loss: {np.mean(loss_per_fold)}')\n",
    "print('------------------------------------------------------------------------')"
   ]
  },
  {
   "cell_type": "code",
   "execution_count": null,
   "id": "a60a1b76-bc81-4774-a0c8-4315e6ecac46",
   "metadata": {},
   "outputs": [],
   "source": [
    "# for train, test in kfold.split(inputs, targets):\n",
    "#     model = Sequential()\n",
    "#     model.add(Dense(128, input_dim = x_train.shape[1], activation = 'relu'))\n",
    "#     model.add(Dense(256, activation = 'relu'))\n",
    "#     model.add(Dense(512, activation = 'relu'))\n",
    "# #     model.add(BatchNormalization())\n",
    "# #     model.add(Activation('relu'))\n",
    "#     model.add(Dense(512, activation = 'relu'))\n",
    "#     model.add(Dense(256, activation = 'relu'))\n",
    "#     model.add(Dense(256, activation = 'relu'))\n",
    "#     model.add(Dense(128, activation = 'relu')) # added\n",
    "#     model.add(Dense(args.num_classes, activation = 'softmax'))\n",
    "    \n",
    "#     ## model compile\n",
    "#     model.compile(loss = 'categorical_crossentropy', optimizer = opt, metrics = ['accuracy'])\n",
    "    \n",
    "#     print('----------------------------------------')\n",
    "#     print(f'Training or fold {fold_num} ... ')\n",
    "    \n",
    "#     ## fit data to model\n",
    "#     history = model.fit(inputs[train], targets[train], batch_size = args.bs, epochs = args.epochs, verbose = 0, class_weight = class_weight)\n",
    "    \n",
    "#     ## generate generalization metrics\n",
    "#     scores = model.evaluate(inputs[test], targets[test])\n",
    "#     print(f'Score for fold {fold_num}: {model.metrics_names[0]} of {scores[0]}; {model.metrics_names[1]} of {scores[1]*100}%')\n",
    "#     print(\"%s: %.2f%%\" %(model.metrics_names[1], scores[1]*100))\n",
    "#     acc_per_fold.append(scores[1] * 100)\n",
    "#     loss_per_fold.append(scores[0])\n",
    "    \n",
    "#     ## increasing fold number\n",
    "#     fold_num = fold_num + 1\n",
    "\n",
    "    \n",
    "    \n",
    "    \n",
    "# ## Summarizing the results\n",
    "# print('------------------------------------------------------------------------')\n",
    "# print('Score per fold')\n",
    "# for i in range(0, len(acc_per_fold)):\n",
    "#     print('------------------------------------------------------------------------')\n",
    "#     print(f'>> Fold {i+1} - Loss: {loss_per_fold[i]} - Accuracy: {acc_per_fold[i]}%')\n",
    "# print('------------------------------------------------------------------------')\n",
    "# print('Average scores for all folds:')\n",
    "# print(f'>>> Accuracy: {np.mean(acc_per_fold)} (+- {np.std(acc_per_fold)})')\n",
    "# print(f'>>> Loss: {np.mean(loss_per_fold)}')\n",
    "# print('------------------------------------------------------------------------')"
   ]
  },
  {
   "cell_type": "code",
   "execution_count": null,
   "id": "c38c83ca-f6a9-4b68-ab60-6ab2949ab4c1",
   "metadata": {},
   "outputs": [],
   "source": []
  },
  {
   "cell_type": "code",
   "execution_count": null,
   "id": "c34acfd5-d68c-4ffa-bdf8-71f26e2e017a",
   "metadata": {},
   "outputs": [],
   "source": [
    "# print(\"Average classification accuracy is\", (sum(acc_per_fold)/split_num))\n",
    "# # print(\"Average classification loss is\", (sum(loss_per_fold)/5))"
   ]
  },
  {
   "cell_type": "code",
   "execution_count": null,
   "id": "ac271ecf-0f40-42a7-a328-9f3fdc20eca5",
   "metadata": {},
   "outputs": [],
   "source": [
    "y_predict = model.predict(x_test)\n",
    "y_predict = np.argmax(y_predict, axis = 1)\n",
    "y_test = np.argmax(y_test, axis = 1)\n",
    "\n",
    "result = confusion_matrix(y_test, y_predict, normalize = 'pred')\n",
    "print(result)"
   ]
  },
  {
   "cell_type": "code",
   "execution_count": null,
   "id": "03af8e5d-1a5d-4c32-ac9f-9bf945840839",
   "metadata": {},
   "outputs": [],
   "source": [
    "figure = plt.figure(figsize=(5, 3))\n",
    "sns.heatmap(result, annot=True,cmap=plt.cm.Blues)\n",
    "plt.tight_layout()\n",
    "plt.ylabel('True label')\n",
    "plt.xlabel('Predicted label')\n",
    "plt.show()"
   ]
  },
  {
   "cell_type": "markdown",
   "id": "6ba605c9-e04a-401c-a077-d4f5b6c58269",
   "metadata": {},
   "source": [
    "* sklearn.metrics 내의 함수를 통해 evaluation score 들을 파악해보자.\n",
    "> 1. accuracy = (TP + TN) / (TP + TN + FP + FN) \n",
    "> 2. precision = TP / (TP + FP)\n",
    "> 3. recall = TP / (TP + FN) \n",
    "> 4. f1 = (2 * precision * recall) / (precision + recall)"
   ]
  },
  {
   "cell_type": "code",
   "execution_count": null,
   "id": "8bef5ef9-3bae-4dc8-8c27-78187352f294",
   "metadata": {},
   "outputs": [],
   "source": [
    "accuracy = metrics.accuracy_score(y_test, y_predict)\n",
    "precision = metrics.precision_score(y_test, y_predict, average = 'macro')\n",
    "recall = metrics.recall_score(y_test, y_predict, average = 'micro')\n",
    "f1 = metrics.f1_score(y_test, y_predict, average = 'weighted')\n",
    "\n",
    "print(\"=============================================\")\n",
    "print(\"The overall accuracy is:\", round(accuracy, 4))\n",
    "print(\"The precision score is:\", round(precision, 4))\n",
    "print(\"The recall score is:\", round(recall, 4))\n",
    "print(\"The f1 score is:\", round(f1, 4))\n",
    "print(\"=============================================\")"
   ]
  },
  {
   "cell_type": "code",
   "execution_count": null,
   "id": "937e7b5b-4b0c-48e4-8ada-f1a235525e14",
   "metadata": {},
   "outputs": [],
   "source": []
  },
  {
   "cell_type": "code",
   "execution_count": null,
   "id": "68fd3e56-7c26-4b49-af19-184b7cb337f0",
   "metadata": {},
   "outputs": [],
   "source": []
  },
  {
   "cell_type": "code",
   "execution_count": null,
   "id": "ed70f24a-59f2-4d65-ba58-431822d97e1d",
   "metadata": {},
   "outputs": [],
   "source": [
    "# model.compile(loss = 'categorical_crossentropy', optimizer = 'adam', metrics = ['accuracy'])"
   ]
  },
  {
   "cell_type": "code",
   "execution_count": null,
   "id": "ebf5cae2-8e9b-4c3d-8655-650eb884260f",
   "metadata": {},
   "outputs": [],
   "source": []
  },
  {
   "cell_type": "markdown",
   "id": "5127f67b-fbe6-4a0f-8672-b400addabc5b",
   "metadata": {},
   "source": [
    "* Setting class weight to reduce class imbalance issue"
   ]
  },
  {
   "cell_type": "code",
   "execution_count": null,
   "id": "85df7249-3ba4-471b-9663-4ec340c761fc",
   "metadata": {},
   "outputs": [],
   "source": [
    "label.value_counts()"
   ]
  },
  {
   "cell_type": "code",
   "execution_count": null,
   "id": "55516c4b-1fef-42f3-935b-2ecae9490437",
   "metadata": {},
   "outputs": [],
   "source": [
    "# class_weight = {1:1, 0:5}\n",
    "class_weight = {1:1, 2: 1.1 , 0:5}"
   ]
  },
  {
   "cell_type": "code",
   "execution_count": null,
   "id": "aaf20aff-e662-4df5-93d4-e43bfa904d09",
   "metadata": {
    "tags": []
   },
   "outputs": [],
   "source": [
    "model.fit(x_train, y_train, epochs = args.epochs, batch_size = args.bs, verbose=0, class_weight = class_weight)"
   ]
  },
  {
   "cell_type": "code",
   "execution_count": null,
   "id": "60ccf0bc-62f5-4437-8101-5219538c4bfd",
   "metadata": {},
   "outputs": [],
   "source": [
    "scores = model.evaluate(x_test, y_test)\n",
    "print(\"%s: %.2f%%\" %(model.metrics_names[1], scores[1]*100))"
   ]
  },
  {
   "cell_type": "code",
   "execution_count": null,
   "id": "b51a95dc-d186-4981-b099-c58a45c35be5",
   "metadata": {},
   "outputs": [],
   "source": []
  },
  {
   "cell_type": "code",
   "execution_count": null,
   "id": "34a078a7-da3e-483d-a0e8-1ca7df220965",
   "metadata": {},
   "outputs": [],
   "source": []
  },
  {
   "cell_type": "markdown",
   "id": "05d879b2-9def-4a08-9711-9fb18ce2a2c1",
   "metadata": {},
   "source": [
    "-------------"
   ]
  },
  {
   "cell_type": "markdown",
   "id": "5e3e7d74-289d-4230-abcf-fa79a898e9c5",
   "metadata": {},
   "source": [
    "----------"
   ]
  },
  {
   "cell_type": "markdown",
   "id": "d166b7df-faf4-4e07-a7ec-2072c4d457c0",
   "metadata": {},
   "source": [
    "# =========================="
   ]
  },
  {
   "cell_type": "markdown",
   "id": "4a3520c0-a315-49eb-afaa-78cd648ff418",
   "metadata": {},
   "source": [
    "# Data Augmentation "
   ]
  },
  {
   "cell_type": "markdown",
   "id": "0bf5e3b7-8ee4-49f1-8dbe-550a266dc9d9",
   "metadata": {},
   "source": [
    "## 1. Using accessible Public Dataset"
   ]
  },
  {
   "cell_type": "markdown",
   "id": "ae24b500-692a-41a8-926c-c25369f0eb3e",
   "metadata": {},
   "source": [
    "### 1) Date & feature selection"
   ]
  },
  {
   "cell_type": "markdown",
   "id": "2a89b233-86f5-4b04-8936-2ba052a688e8",
   "metadata": {},
   "source": [
    "* 일단은 위에서 사용한 core dataset을 선정하자\n",
    "1. RDATA = Real dataset (실제 분석에 사용하고자 하는 dataset)\n",
    "2. PDATA = Public dataset (data augmentation을 위한 public dataset)"
   ]
  },
  {
   "cell_type": "code",
   "execution_count": null,
   "id": "4877d199-95cb-4418-84e6-d943f1aa19f3",
   "metadata": {},
   "outputs": [],
   "source": [
    "RDATA_ = hrv_ori.loc[:, ['rmssd', 'avg_hr', 'vlf', 'lf', 'hf', 'tp', 'lf_hf', 'HAMD_']]\n",
    "RDATA = RDATA_.drop(['HAMD_'], axis=1)"
   ]
  },
  {
   "cell_type": "code",
   "execution_count": null,
   "id": "4f97cd31-73be-4489-80d0-4b483afa594a",
   "metadata": {},
   "outputs": [],
   "source": [
    "PDATA_ = pd.read_csv('E:/RESEARCH/Datasets/HRV/HRV_Public/SWELL_hrv/data/final/train_for_augmentation.csv', sep=',')"
   ]
  },
  {
   "cell_type": "code",
   "execution_count": null,
   "id": "efa59b21-b693-4c1f-a46f-10a6878ab8c3",
   "metadata": {},
   "outputs": [],
   "source": [
    "print(\"Original data shape is\", RDATA_.shape)\n",
    "print(\"Data for augmentation shape is\", PDATA_.shape)"
   ]
  },
  {
   "cell_type": "markdown",
   "id": "39a80dc5-8318-4bb4-ba1a-f4ece42da5f2",
   "metadata": {},
   "source": [
    "* SWELL dataset에는 세가지 status에 해당하는 HRV 값들이 있다. (no stress, interruption, time pressure)"
   ]
  },
  {
   "cell_type": "code",
   "execution_count": null,
   "id": "495a8291-a495-43e9-9389-2acaecd3e364",
   "metadata": {},
   "outputs": [],
   "source": [
    "PDATA_base = PDATA_.loc[PDATA_.condition == 'no stress']\n",
    "PDATA_stress = PDATA_.loc[(PDATA_.condition =='interruption') | (PDATA_.condition =='time pressure')]"
   ]
  },
  {
   "cell_type": "markdown",
   "id": "138aae53-2ead-459e-9f76-5befd7b4f5ea",
   "metadata": {},
   "source": [
    "* augmentation 에 사용하고자 하는 데이터 양이 너무 많아서 약간 줄여주자"
   ]
  },
  {
   "cell_type": "code",
   "execution_count": null,
   "id": "d0462f16-c210-4c3b-90b6-48c126a4a3ab",
   "metadata": {},
   "outputs": [],
   "source": [
    "PDATA_ = PDATA_stress.sample(n=3000)"
   ]
  },
  {
   "cell_type": "code",
   "execution_count": null,
   "id": "a82e7589-8877-4c6b-ac07-e16eaf36700a",
   "metadata": {},
   "outputs": [],
   "source": [
    "# sns.pairplot(PDATA)"
   ]
  },
  {
   "cell_type": "code",
   "execution_count": null,
   "id": "495b6f41-632d-47d8-9b14-a9987d8d9949",
   "metadata": {},
   "outputs": [],
   "source": [
    "# 일단 PDATA는 unlabeled dataset이라고 생각해주고 현재 라벨 버린 뒤, -1로 라벨값을 만들어주고,\n",
    "PDATA = PDATA_.drop(['condition'], axis=1)\n",
    "PDATA['y'] = -1"
   ]
  },
  {
   "cell_type": "code",
   "execution_count": null,
   "id": "4d242503-01e0-4fb2-ade3-4d8178dc37bf",
   "metadata": {},
   "outputs": [],
   "source": [
    "PDATA.info()"
   ]
  },
  {
   "cell_type": "markdown",
   "id": "1bc121d1-aeaa-4dd1-b05a-da8e59a5a4cc",
   "metadata": {},
   "source": [
    "* Real data에 어떤 변수들이 있는지 확인.\n"
   ]
  },
  {
   "cell_type": "code",
   "execution_count": null,
   "id": "e5779473-7752-4c26-84c8-fc9df58cd19c",
   "metadata": {},
   "outputs": [],
   "source": [
    "RDATA.info()"
   ]
  },
  {
   "cell_type": "markdown",
   "id": "d76c0e76-5938-4000-a7ff-2a6326137dc8",
   "metadata": {},
   "source": [
    "* Real Data의 컬럼명을 PDATA랑 맞춰주자."
   ]
  },
  {
   "cell_type": "code",
   "execution_count": null,
   "id": "f8948fe4-2502-410b-b257-60b1703a5dd7",
   "metadata": {},
   "outputs": [],
   "source": [
    "RDATA.columns = ['RMSSD', 'HR', 'VLF', 'LF', 'HF', 'TP', 'LF_HF']"
   ]
  },
  {
   "cell_type": "markdown",
   "id": "6de5648f-9996-4963-846c-cc0838134e58",
   "metadata": {},
   "source": [
    "* Real data에서 target으로 삼을 label을 따로 추출해서 범주화"
   ]
  },
  {
   "cell_type": "code",
   "execution_count": null,
   "id": "0992766a-fca8-4e89-9863-ec70b8f6ebc1",
   "metadata": {},
   "outputs": [],
   "source": [
    "target_ = RDATA_.loc[:, 'HAMD_']"
   ]
  },
  {
   "cell_type": "code",
   "execution_count": null,
   "id": "f6645d5d-ecd1-4041-a478-064c0dcde2fa",
   "metadata": {},
   "outputs": [],
   "source": [
    "target_.shape"
   ]
  },
  {
   "cell_type": "code",
   "execution_count": null,
   "id": "31d5bcb7-cd79-4fd7-b99f-d28a142fe402",
   "metadata": {},
   "outputs": [],
   "source": [
    "## Using 4 classes (normal vs mild vs moderate vs severe)\n",
    "target = target_\n",
    "target = target.replace({'normal': 0})\n",
    "target = target.replace({'mild': 1})\n",
    "target = target.replace({'moderate': 2})\n",
    "target = target.replace({'severe': 3})"
   ]
  },
  {
   "cell_type": "code",
   "execution_count": null,
   "id": "b44967a7-0c68-4c80-8fd9-6b1f3ea9645b",
   "metadata": {},
   "outputs": [],
   "source": [
    "target.value_counts()"
   ]
  },
  {
   "cell_type": "markdown",
   "id": "781678ec-dd4d-4a2a-91da-0bac94a32912",
   "metadata": {},
   "source": [
    "* Data augmentation을 위해 변수값들을 표준화 시켜주는 과정"
   ]
  },
  {
   "cell_type": "code",
   "execution_count": null,
   "id": "d7ab34f9-7c88-427a-bd17-f6ba1ea9db70",
   "metadata": {},
   "outputs": [],
   "source": [
    "scaler = MinMaxScaler() #set the scaler\n",
    "\n",
    "RDATA[:] = scaler.fit_transform(RDATA[:])\n",
    "RDATA = RDATA.round(decimals=2)\n",
    "PDATA[:] = scaler.fit_transform(PDATA[:])\n",
    "PDATA = PDATA.round(decimals=2)"
   ]
  },
  {
   "cell_type": "markdown",
   "id": "15d4b479-8f8c-4a36-af63-f2763eb5d220",
   "metadata": {},
   "source": [
    "* 표준화하니까 데이터가 차원축소했을 때 설명력이 떨어져서 그냥 주석처리"
   ]
  },
  {
   "cell_type": "markdown",
   "id": "0e8938b6-d1a7-4efb-b4b8-bff806b20366",
   "metadata": {},
   "source": [
    "* Real data는 차원축소를 진행해도 설명력을 충분히 가지는지 확인."
   ]
  },
  {
   "cell_type": "code",
   "execution_count": null,
   "id": "c7cd7fc7-b363-4936-bd5f-1fef29d5076a",
   "metadata": {},
   "outputs": [],
   "source": [
    "Rpca_3 = decomposition.PCA(n_components=3)\n",
    "Rpca_3_result = Rpca_3.fit_transform(RDATA)\n",
    "Rtotal_var3 = Rpca_3.explained_variance_ratio_.sum()*100\n",
    "\n",
    "# PCA를 통해 축소된 3차원이 어느정도의 대표성을 가지는지 확인하기 위함.\n",
    "print('Explained variation per principal component: {}'.format(pca_3.explained_variance_ratio_))\n",
    "print('Cumulative variance explained by 3 principal components: {:.2%}'.format(np.sum(Rpca_3.explained_variance_ratio_)))"
   ]
  },
  {
   "cell_type": "code",
   "execution_count": null,
   "id": "55b7eaf9-0eb1-4c07-84aa-d4cbfe8edb04",
   "metadata": {},
   "outputs": [],
   "source": [
    "RDATA_pca = pd.DataFrame(Rpca_3.transform(RDATA), columns = ['PCA%i' % i for i in range(3)], index = RDATA.index)"
   ]
  },
  {
   "cell_type": "code",
   "execution_count": null,
   "id": "b5027505-67f5-4bf7-8d10-201a756c2224",
   "metadata": {},
   "outputs": [],
   "source": [
    "# Plot initialisation\n",
    "fig = plt.figure(figsize=(10,8))\n",
    "ax = fig.add_subplot(111, projection='3d')\n",
    "plt.title('PCA 3 result from Real HRV dataset', fontsize=12, fontweight='bold')\n",
    "ax.scatter(RDATA_pca['PCA0'], RDATA_pca['PCA1'], RDATA_pca['PCA2'], cmap=\"Set2_r\", s=60)\n",
    "# plt.savefig('pca_result.png')"
   ]
  },
  {
   "cell_type": "markdown",
   "id": "79ef1e26-d539-4e8e-8b84-cc4dd91c80a7",
   "metadata": {},
   "source": [
    "* 마찬가지로 augmentation을 위한 public data도 차원축소를 해도 설명력을 가지는지 확인."
   ]
  },
  {
   "cell_type": "code",
   "execution_count": null,
   "id": "3c54d0aa-d1b9-46de-8481-7b59b1192ac4",
   "metadata": {},
   "outputs": [],
   "source": [
    "PDATA_ = PDATA.drop(['y'], axis = 1)"
   ]
  },
  {
   "cell_type": "code",
   "execution_count": null,
   "id": "da9225d1-0882-4ef9-b639-1f5cb4abb17d",
   "metadata": {},
   "outputs": [],
   "source": [
    "Ppca_3 = decomposition.PCA(n_components=3)\n",
    "Ppca_3_result = Ppca_3.fit_transform(PDATA_)\n",
    "total_var3 = Ppca_3.explained_variance_ratio_.sum()*100\n",
    "\n",
    "# PCA를 통해 축소된 3차원이 어느정도의 대표성을 가지는지 확인하기 위함.\n",
    "print('Explained variation per principal component: {}'.format(Ppca_3.explained_variance_ratio_))\n",
    "print('Cumulative variance explained by 3 principal components: {:.2%}'.format(np.sum(Ppca_3.explained_variance_ratio_)))"
   ]
  },
  {
   "cell_type": "code",
   "execution_count": null,
   "id": "3f6bdc1c-d280-4989-9b3f-840eed2ba8ce",
   "metadata": {},
   "outputs": [],
   "source": [
    "PDATA_pca = pd.DataFrame(Ppca_3.transform(PDATA_), columns = ['PCA%i' % i for i in range(3)], index = PDATA.index)"
   ]
  },
  {
   "cell_type": "code",
   "execution_count": null,
   "id": "111bd9e4-e7d4-4b0a-be05-a5d827d1df42",
   "metadata": {},
   "outputs": [],
   "source": [
    "# Plot initialisation\n",
    "fig = plt.figure(figsize=(10,8))\n",
    "ax = fig.add_subplot(111, projection='3d')\n",
    "plt.title('PCA 3 result from Public HRV dataset', fontsize=12, fontweight='bold')\n",
    "ax.scatter(PDATA_pca['PCA0'], PDATA_pca['PCA1'], PDATA_pca['PCA2'], cmap=\"Set2_r\", s=60)\n",
    "# plt.savefig('pca_result.png')"
   ]
  },
  {
   "cell_type": "code",
   "execution_count": null,
   "id": "c0e1ad77-3314-464e-98d8-2dfb16de01d6",
   "metadata": {},
   "outputs": [],
   "source": []
  },
  {
   "cell_type": "markdown",
   "id": "76af2c1f-4323-49e3-8b9c-89c42c27f1e3",
   "metadata": {},
   "source": [
    "* Augmentation에 쓸 데이터를 나눠놓자. (real data 먼저)"
   ]
  },
  {
   "cell_type": "code",
   "execution_count": null,
   "id": "4973ecba-bf0f-4a09-83a5-8e5a5989c429",
   "metadata": {},
   "outputs": [],
   "source": [
    "# Labeled datapoints and following labels.\n",
    "x1, x3 = np.split(RDATA, [int(0.2*len(RDATA))])\n",
    "y1, y3 = np.split(target, [int(0.2*len(target))])"
   ]
  },
  {
   "cell_type": "code",
   "execution_count": null,
   "id": "ada8bf55-e877-4d9d-bcdf-6b85a5cfbebc",
   "metadata": {},
   "outputs": [],
   "source": [
    "print(x1.shape)\n",
    "print(x3.shape)\n",
    "print(y1.shape)\n",
    "print(y3.shape)"
   ]
  },
  {
   "cell_type": "markdown",
   "id": "e66cd865-8c90-40d0-8103-be26077ebe3e",
   "metadata": {},
   "source": [
    "* 이번에는 public data체크하자."
   ]
  },
  {
   "cell_type": "code",
   "execution_count": null,
   "id": "6c7a8c5a-431b-42f8-a145-bfd90803c6bb",
   "metadata": {},
   "outputs": [],
   "source": [
    "# Unlabeled datapoints and following labels.\n",
    "x2 = PDATA.loc[:,['RMSSD', 'HR', 'VLF', 'LF', 'HF', 'TP', 'LF_HF']]\n",
    "y2 = PDATA['y']"
   ]
  },
  {
   "cell_type": "code",
   "execution_count": null,
   "id": "5ab28494-2215-4e8a-8058-a39a83c5b60d",
   "metadata": {},
   "outputs": [],
   "source": [
    "print(x2.shape)\n",
    "print(y2.shape)"
   ]
  },
  {
   "cell_type": "markdown",
   "id": "0bf773a8-66bc-4390-b6ea-bf01fe6f38d8",
   "metadata": {},
   "source": [
    "* Real data(training 부분만)랑 Public data 합치자."
   ]
  },
  {
   "cell_type": "code",
   "execution_count": null,
   "id": "ced18da7-7961-4dc9-9f7e-aced00881638",
   "metadata": {},
   "outputs": [],
   "source": [
    "# Concatenate\n",
    "x12 = np.concatenate((x1, x2))\n",
    "y12 = np.concatenate((y1, y2))"
   ]
  },
  {
   "cell_type": "markdown",
   "id": "42344eb5-7e33-4642-b695-6716783900cf",
   "metadata": {},
   "source": [
    "* Logistic Regression 통해서 라벨 데이터(Real dataset)을 체크해보자."
   ]
  },
  {
   "cell_type": "code",
   "execution_count": null,
   "id": "6abc10d5-ed49-4bf0-9764-065928c08105",
   "metadata": {},
   "outputs": [],
   "source": [
    "index = ['Analysis Method', 'ROC AUC']\n",
    "results = pd.DataFrame(columns = index)"
   ]
  },
  {
   "cell_type": "code",
   "execution_count": null,
   "id": "6c200be8-ae01-4cd5-be47-08790586336f",
   "metadata": {},
   "outputs": [],
   "source": [
    "np.isnan(x1.any())"
   ]
  },
  {
   "cell_type": "code",
   "execution_count": null,
   "id": "0a946733-15cc-455d-b069-3fa2c10580e5",
   "metadata": {},
   "outputs": [],
   "source": [
    "np.any(np.isnan(x1))"
   ]
  },
  {
   "cell_type": "code",
   "execution_count": null,
   "id": "b9f4f2ea-5d00-4bce-bfae-5d8791f8983e",
   "metadata": {},
   "outputs": [],
   "source": [
    "np.all(np.isfinite(x1))"
   ]
  },
  {
   "cell_type": "code",
   "execution_count": null,
   "id": "a451162c-972a-4a11-9df8-0c38327a6ddb",
   "metadata": {},
   "outputs": [],
   "source": [
    "logreg = LogisticRegression(random_state = 710674, class_weight = 'balanced')\n",
    "logreg.fit(x1, y1)\n",
    "results = results.append(\n",
    "    pd.Series(['Logistic Regression', roc_auc_score(y3, logreg.predict_proba(x3), multi_class='ovr')],\n",
    "              index=index), ignore_index=True)"
   ]
  },
  {
   "cell_type": "code",
   "execution_count": null,
   "id": "fe2f53fb-4af5-48b8-bc4b-cfb37bcb6659",
   "metadata": {},
   "outputs": [],
   "source": [
    "y1"
   ]
  },
  {
   "cell_type": "code",
   "execution_count": null,
   "id": "b51917cb-749e-48b2-a07c-11d76396a0f4",
   "metadata": {},
   "outputs": [],
   "source": []
  },
  {
   "cell_type": "code",
   "execution_count": null,
   "id": "bec2b321-5211-4573-abef-6d4aa4ccd96c",
   "metadata": {},
   "outputs": [],
   "source": []
  },
  {
   "cell_type": "code",
   "execution_count": null,
   "id": "49773daf-2f6f-4ee0-b5f7-bdda6821a4bc",
   "metadata": {},
   "outputs": [],
   "source": []
  },
  {
   "cell_type": "code",
   "execution_count": null,
   "id": "b35c4e22-aff7-4ca4-a443-2a5f58abd1cc",
   "metadata": {},
   "outputs": [],
   "source": []
  },
  {
   "cell_type": "code",
   "execution_count": null,
   "id": "94813b5a-57fe-4933-8bd8-d14f6c574a53",
   "metadata": {},
   "outputs": [],
   "source": []
  },
  {
   "cell_type": "code",
   "execution_count": null,
   "id": "eaa99674-6d02-475a-b670-ec3c78092fcf",
   "metadata": {},
   "outputs": [],
   "source": []
  },
  {
   "cell_type": "code",
   "execution_count": null,
   "id": "cd3ca0c7-8568-494f-8f38-f44a25db0269",
   "metadata": {},
   "outputs": [],
   "source": []
  },
  {
   "cell_type": "code",
   "execution_count": null,
   "id": "76ef123e-1cf2-47c1-96a1-69bda6985c47",
   "metadata": {},
   "outputs": [],
   "source": []
  },
  {
   "cell_type": "code",
   "execution_count": null,
   "id": "141fd7a1-7619-40ff-8f29-f5ef91f65412",
   "metadata": {},
   "outputs": [],
   "source": []
  },
  {
   "cell_type": "code",
   "execution_count": null,
   "id": "18faf555-f217-4d29-b39c-73d717968a8f",
   "metadata": {},
   "outputs": [],
   "source": []
  },
  {
   "cell_type": "markdown",
   "id": "e0ebc5ae-1b78-4542-9c57-8ea852b339b0",
   "metadata": {},
   "source": [
    "## 2. Using its own Dataset"
   ]
  },
  {
   "cell_type": "code",
   "execution_count": null,
   "id": "992b6ca9-d137-4265-931f-8a7ebb9e2aec",
   "metadata": {},
   "outputs": [],
   "source": []
  },
  {
   "cell_type": "code",
   "execution_count": null,
   "id": "475b9796-7042-4043-9a4a-782529744f45",
   "metadata": {},
   "outputs": [],
   "source": []
  },
  {
   "cell_type": "code",
   "execution_count": null,
   "id": "79bf416f-9013-414d-bcd7-c1bc645735ff",
   "metadata": {},
   "outputs": [],
   "source": []
  },
  {
   "cell_type": "code",
   "execution_count": null,
   "id": "8dfb5455-7a47-4f54-9f41-a8d6e5dbd810",
   "metadata": {},
   "outputs": [],
   "source": []
  },
  {
   "cell_type": "code",
   "execution_count": null,
   "id": "7618e2f0-24a6-4a07-8190-4dcb4f0f9254",
   "metadata": {},
   "outputs": [],
   "source": []
  },
  {
   "cell_type": "code",
   "execution_count": null,
   "id": "e553b550-5be3-45cd-82c1-783e704b11e8",
   "metadata": {},
   "outputs": [],
   "source": []
  },
  {
   "cell_type": "code",
   "execution_count": null,
   "id": "2a07312a-8f43-479a-b0ab-b0c780c2b14a",
   "metadata": {},
   "outputs": [],
   "source": []
  },
  {
   "cell_type": "code",
   "execution_count": null,
   "id": "7ea54391-6dfa-436e-a012-24b8c42bc198",
   "metadata": {},
   "outputs": [],
   "source": []
  },
  {
   "cell_type": "code",
   "execution_count": null,
   "id": "e722c296-2685-4d65-a759-60f583ec3267",
   "metadata": {},
   "outputs": [],
   "source": []
  }
 ],
 "metadata": {
  "kernelspec": {
   "display_name": "Python 3 (ipykernel)",
   "language": "python",
   "name": "python3"
  },
  "language_info": {
   "codemirror_mode": {
    "name": "ipython",
    "version": 3
   },
   "file_extension": ".py",
   "mimetype": "text/x-python",
   "name": "python",
   "nbconvert_exporter": "python",
   "pygments_lexer": "ipython3",
   "version": "3.9.17"
  }
 },
 "nbformat": 4,
 "nbformat_minor": 5
}
