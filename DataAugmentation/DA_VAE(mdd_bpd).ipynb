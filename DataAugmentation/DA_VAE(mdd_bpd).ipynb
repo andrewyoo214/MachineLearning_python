{
 "cells": [
  {
   "cell_type": "markdown",
   "id": "2a20b02d-6ef3-4a6e-a45e-69cddd886137",
   "metadata": {},
   "source": [
    "# DA- VAE, Diffusion (MDD,BP_dataset)"
   ]
  },
  {
   "cell_type": "markdown",
   "id": "21e6a98c-2f59-452a-b8b1-ee762e22acf9",
   "metadata": {},
   "source": [
    "* Using Keras/Tensorflow"
   ]
  },
  {
   "cell_type": "code",
   "execution_count": null,
   "id": "4ddbef65-77a1-43fe-989a-0a0c7d4ead5e",
   "metadata": {
    "tags": []
   },
   "outputs": [],
   "source": [
    "import os\n",
    "import time\n",
    "# import shap ## for XAI\n",
    "import numpy as np\n",
    "import pandas as pd\n",
    "import seaborn as sns\n",
    "import tensorflow as tf\n",
    "# import pingouin as pg\n",
    "import matplotlib.pyplot as plt\n",
    "import sklearn.metrics as metrics"
   ]
  },
  {
   "cell_type": "code",
   "execution_count": null,
   "id": "4882e3a3-161d-4d3e-bef3-b83010ca2cb4",
   "metadata": {},
   "outputs": [],
   "source": [
    "from numpy import dot\n",
    "from numpy.linalg import norm\n",
    "\n",
    "from keras.models import Sequential\n",
    "from keras.layers import Dense , Dropout , Lambda, Flatten\n",
    "from keras.layers import Dense , Activation, Dropout, BatchNormalization\n",
    "from keras.optimizers import Adam ,RMSprop\n",
    "from keras.callbacks import Callback\n",
    "\n",
    "from scipy.special import rel_entr\n",
    "from scipy.stats import gaussian_kde\n",
    "from scipy.spatial.distance import jensenshannon\n",
    "\n",
    "from sklearn.model_selection import train_test_split, StratifiedKFold, KFold, train_test_split, ParameterGrid\n",
    "from sklearn import decomposition, metrics\n",
    "from sklearn.cluster import KMeans\n",
    "from sklearn.metrics import cohen_kappa_score,f1_score, confusion_matrix\n",
    "from sklearn.inspection import permutation_importance\n",
    "from sklearn.preprocessing import Normalizer, MinMaxScaler\n",
    "from sklearn.manifold import TSNE\n",
    "\n",
    "from tensorflow.keras.utils import to_categorical\n",
    "from tensorflow import keras\n",
    "from tensorflow.keras.callbacks import LearningRateScheduler, EarlyStopping, ReduceLROnPlateau\n",
    "from tensorflow.keras.layers import Input, Dense, Lambda, Conv1D, Flatten, Reshape, UpSampling1D\n",
    "from tensorflow.keras.models import Model\n",
    "from tensorflow.keras import backend as K\n",
    "from tensorflow.keras.losses import mse, MeanSquaredError"
   ]
  },
  {
   "cell_type": "code",
   "execution_count": null,
   "id": "15d10659-def2-4e30-80e3-133e4b5f4121",
   "metadata": {},
   "outputs": [],
   "source": []
  },
  {
   "cell_type": "markdown",
   "id": "5cdf5bb1-4eca-4da1-b06e-5c62e8549841",
   "metadata": {},
   "source": [
    "## Original data check (MDD,BP)"
   ]
  },
  {
   "cell_type": "code",
   "execution_count": null,
   "id": "5a0c5b05-e3f8-43f4-80d5-dade62435ed5",
   "metadata": {},
   "outputs": [],
   "source": [
    "### BP, MDD research questions dataset\n",
    "data_ori = pd.read_csv('E:/RESEARCH/Datasets/BIPOLAR_MWJ/data_andrew_only_vars_missing_handling_.csv')"
   ]
  },
  {
   "cell_type": "code",
   "execution_count": null,
   "id": "9cf2b27e-bbd5-4a18-a62f-890137679a76",
   "metadata": {},
   "outputs": [],
   "source": [
    "### data shape, variables check\n",
    "print(\"The shape of the original MDD+BP dataset is:\", data_ori.shape)"
   ]
  },
  {
   "cell_type": "code",
   "execution_count": null,
   "id": "e5866810-f6c6-436e-acb1-1ff9d7d69589",
   "metadata": {},
   "outputs": [],
   "source": [
    "data_ori['target_info'] = data_ori['target_info'].replace({0: 'control'})\n",
    "data_ori['target_info'] = data_ori['target_info'].replace({1: 'mdd'})\n",
    "data_ori['target_info'] = data_ori['target_info'].replace({2: 'bpi'})\n",
    "data_ori['target_info'] = data_ori['target_info'].replace({3: 'bpii'})"
   ]
  },
  {
   "cell_type": "code",
   "execution_count": null,
   "id": "d2e76885-1eb4-4ef3-b381-ed4378b34636",
   "metadata": {},
   "outputs": [],
   "source": [
    "data_ori[\"target_info\"].value_counts()"
   ]
  },
  {
   "cell_type": "code",
   "execution_count": null,
   "id": "c9f02840-36b7-4589-b768-e2d92987ef55",
   "metadata": {},
   "outputs": [],
   "source": []
  },
  {
   "cell_type": "markdown",
   "id": "2eb107e6-571e-4619-801b-e3900e2b8bb1",
   "metadata": {},
   "source": [
    "> There are some dataset columns with weird data. \\\n",
    "> For example, section 6-2 should not contain the data with 0 value, but they exist."
   ]
  },
  {
   "cell_type": "code",
   "execution_count": null,
   "id": "40ffa584-71ee-438d-9c71-d2ffb2965c8c",
   "metadata": {},
   "outputs": [],
   "source": [
    "# 특정 세션의 열들 선택 (0이 나올 수 없는 애들)\n",
    "s2_1_columns = [col for col in data_ori.columns if 's2_1' in col]\n",
    "s6_2_columns = [col for col in data_ori.columns if 's6_2' in col]"
   ]
  },
  {
   "cell_type": "code",
   "execution_count": null,
   "id": "077e8665-4a73-40e5-9290-e3da4cbef177",
   "metadata": {},
   "outputs": [],
   "source": [
    "# 'S2'를 포함한 열들에서 값이 0인 값을 NA로 바꾸기\n",
    "data_ori[s2_1_columns] = data_ori[s2_1_columns].replace(0, np.nan)\n",
    "data_ori[s6_2_columns] = data_ori[s6_2_columns].replace(0, np.nan)"
   ]
  },
  {
   "cell_type": "code",
   "execution_count": null,
   "id": "aa47168b-6eb6-4083-8e26-209406287699",
   "metadata": {},
   "outputs": [],
   "source": []
  },
  {
   "cell_type": "code",
   "execution_count": null,
   "id": "87eac8c2-8db6-4de2-97c8-e6e618e73cf4",
   "metadata": {},
   "outputs": [],
   "source": []
  },
  {
   "cell_type": "code",
   "execution_count": null,
   "id": "b9494438-e771-4535-a25a-dbbb0e1a643b",
   "metadata": {},
   "outputs": [],
   "source": [
    "print(\"Subject dataset that has no target information is:\", data_ori['target_info'].isna().sum())"
   ]
  },
  {
   "cell_type": "markdown",
   "id": "87be0749-6db2-4875-af78-2a4f422833e6",
   "metadata": {},
   "source": [
    "* Drop only rows with NA in target_info column"
   ]
  },
  {
   "cell_type": "code",
   "execution_count": null,
   "id": "423873f8-634d-4650-87f2-e5883f3ebe6c",
   "metadata": {},
   "outputs": [],
   "source": [
    "data_ori = data_ori.dropna(subset = ['target_info'], how='any', axis=0)"
   ]
  },
  {
   "cell_type": "code",
   "execution_count": null,
   "id": "33ea4f33-fa51-4697-8949-f5479637f7f1",
   "metadata": {},
   "outputs": [],
   "source": [
    "data_ori.shape"
   ]
  },
  {
   "cell_type": "code",
   "execution_count": null,
   "id": "fc166162-b790-43b6-8390-7cc77d27cff6",
   "metadata": {},
   "outputs": [],
   "source": [
    "data_ori.columns"
   ]
  },
  {
   "cell_type": "code",
   "execution_count": null,
   "id": "965f0472-1cc7-4aac-b19b-71970ec7be07",
   "metadata": {},
   "outputs": [],
   "source": []
  },
  {
   "cell_type": "markdown",
   "id": "21c25e9b-e9e5-4c84-b753-3d677b042d99",
   "metadata": {},
   "source": [
    "* Handling dataset without section 8"
   ]
  },
  {
   "cell_type": "code",
   "execution_count": null,
   "id": "41cae59d-c3a9-45f0-96df-421ea737ea65",
   "metadata": {},
   "outputs": [],
   "source": [
    "data_no_s8 = data_ori.drop(data_ori.columns[data_ori.columns.str.startswith('s8')], axis=1)"
   ]
  },
  {
   "cell_type": "code",
   "execution_count": null,
   "id": "dcb791a2-362f-4c03-a668-2af15bed8736",
   "metadata": {},
   "outputs": [],
   "source": [
    "data_fill_s8 = data_ori\n",
    "for column in data_fill_s8.columns:\n",
    "    if 's8' in column:\n",
    "        data_fill_s8[column] = data_fill_s8[column].fillna(0)"
   ]
  },
  {
   "cell_type": "code",
   "execution_count": null,
   "id": "9615359b-ed81-48ef-95ac-70497007a38c",
   "metadata": {},
   "outputs": [],
   "source": [
    "data_s246 = data_fill_s8.iloc[:, (data_fill_s8.columns.str.contains(('s2|s4|s6|info')))]\n",
    "data_s2467 = data_fill_s8.iloc[:, (data_fill_s8.columns.str.contains(('s2|s4|s6|s7|info')))]"
   ]
  },
  {
   "cell_type": "code",
   "execution_count": null,
   "id": "4f134ddc-0f85-450d-af29-abd34159851e",
   "metadata": {},
   "outputs": [],
   "source": []
  },
  {
   "cell_type": "code",
   "execution_count": null,
   "id": "0c217380-9e08-411f-bf50-0bc7030d45f8",
   "metadata": {},
   "outputs": [],
   "source": []
  },
  {
   "cell_type": "code",
   "execution_count": null,
   "id": "6661893e-3c72-4264-89d8-39a34bffeead",
   "metadata": {},
   "outputs": [],
   "source": []
  },
  {
   "cell_type": "markdown",
   "id": "721b82be-d84d-4449-a0d4-5e403e976f06",
   "metadata": {},
   "source": [
    "### Missing data imputation using same label mean"
   ]
  },
  {
   "cell_type": "code",
   "execution_count": null,
   "id": "7661ee66-4362-4125-affa-4c3ee102eab0",
   "metadata": {},
   "outputs": [],
   "source": [
    "data_fill_mean = data_fill_s8.copy()\n",
    "# data_fill_mean = data_fill_mean.drop(['subject_info', 'birth_info', 'sex_info', 'age_info', 'family_hx_info'], axis=1)"
   ]
  },
  {
   "cell_type": "code",
   "execution_count": null,
   "id": "1f254eaa-d763-4b85-9262-c7aa78f3b07e",
   "metadata": {},
   "outputs": [],
   "source": [
    "## Function for filling the row containing more than 10 missing dataset with target group means\n",
    "def fill_missing_with_mean(df):\n",
    "    rows_with_many_nans = df[df.isnull().sum(axis=1) >= 5] ## row with more than 10 missing data\n",
    "\n",
    "    for idx, row in rows_with_many_nans.iterrows():\n",
    "        target_value = row['target_info'] ## get the target_info of each row\n",
    "        group_rows = df[(df['target_info'] == target_value) & (df.index != idx)]\n",
    "        \n",
    "        if not group_rows.empty: ## if there is more than one same target_info row\n",
    "            mean_values = group_rows.select_dtypes(include=[np.number]).mean()\n",
    "            for col in df.columns:\n",
    "                if pd.isnull(df.at[idx, col]) and col in mean_values:\n",
    "                    df.at[idx, col] = mean_values[col]\n",
    "\n",
    "    return df"
   ]
  },
  {
   "cell_type": "code",
   "execution_count": null,
   "id": "278f1075-6aed-4f6f-a691-1ae068e20662",
   "metadata": {},
   "outputs": [],
   "source": [
    "data_fill_mean = fill_missing_with_mean(data_fill_mean)"
   ]
  },
  {
   "cell_type": "code",
   "execution_count": null,
   "id": "b4a46e50-1d63-4a18-94ce-3f4ef870d0b7",
   "metadata": {},
   "outputs": [],
   "source": []
  },
  {
   "cell_type": "code",
   "execution_count": null,
   "id": "32e2566f-20d9-4f2a-b888-2e5781962990",
   "metadata": {},
   "outputs": [],
   "source": []
  },
  {
   "cell_type": "markdown",
   "id": "e5c12adc-19de-4ad9-b46c-c1a2d3f2f3d8",
   "metadata": {},
   "source": [
    "### Data selection (for specific group)"
   ]
  },
  {
   "cell_type": "code",
   "execution_count": null,
   "id": "1a87f21d-0dd5-4653-adb8-be744cd0c2fc",
   "metadata": {},
   "outputs": [],
   "source": [
    "data_disorder = data_fill_mean.copy()"
   ]
  },
  {
   "cell_type": "code",
   "execution_count": null,
   "id": "b7ca93f5-a04b-4f1c-b90c-85c43d69acbd",
   "metadata": {},
   "outputs": [],
   "source": [
    "data_control = data_disorder[data_disorder['target_info']==\"control\"]\n",
    "data_mdd = data_disorder[data_disorder['target_info']==\"mdd\"]\n",
    "data_bpi = data_disorder[data_disorder['target_info']==\"bpi\"]\n",
    "data_bpii = data_disorder[data_disorder['target_info']==\"bpii\"]\n",
    "# data_bp_only = data_bp_only.drop(mdd)"
   ]
  },
  {
   "cell_type": "code",
   "execution_count": null,
   "id": "d990b52e-f0f1-4e37-8e78-52ad9acdc13d",
   "metadata": {},
   "outputs": [],
   "source": [
    "data_control.shape"
   ]
  },
  {
   "cell_type": "code",
   "execution_count": null,
   "id": "e395ef17-9683-405a-8ca6-181d1cb99df0",
   "metadata": {},
   "outputs": [],
   "source": [
    "print(\"The size of control group dataset is:\", data_control.shape)\n",
    "print(\"The size of mdd group dataset is:\", data_mdd.shape)\n",
    "print(\"The size of bipolar type i group dataset is:\", data_bpi.shape)\n",
    "print(\"The size of bipolar type ii group dataset is:\", data_bpii.shape)"
   ]
  },
  {
   "cell_type": "code",
   "execution_count": null,
   "id": "72f23bf1-bc9f-42c7-a8b9-7e976c45c137",
   "metadata": {},
   "outputs": [],
   "source": []
  },
  {
   "cell_type": "markdown",
   "id": "1a790933-91fd-4c5e-81b8-7fbf723533cf",
   "metadata": {},
   "source": [
    "--------------"
   ]
  },
  {
   "cell_type": "markdown",
   "id": "2c1cd5d4-ff8e-4c15-b42f-276833e80bec",
   "metadata": {},
   "source": [
    "----------"
   ]
  },
  {
   "cell_type": "markdown",
   "id": "b22dbbc0-3dd7-4fd0-9041-e53865ff384f",
   "metadata": {},
   "source": [
    "## 1D VAE model"
   ]
  },
  {
   "cell_type": "markdown",
   "id": "de7daa1c-ac04-40e6-a645-63b4cf416879",
   "metadata": {},
   "source": [
    "> Checking data_no_s8 dataset, it requires balance for lacking data group \\\n",
    "> underneath, class is labeled 0(control), 1(mdd), 2(bpi), 3(bpii) \\\n",
    "> the ratio should be 1.00 * (control), 1.29 * (mdd), 3.04 * (bpi), 1.13 * (bpii)"
   ]
  },
  {
   "cell_type": "code",
   "execution_count": null,
   "id": "bd2dc052-757c-47e2-bf1e-84aac82b1857",
   "metadata": {},
   "outputs": [],
   "source": [
    "# data = data_fill_mean\n",
    "# data = data_control\n",
    "# data = data_mdd\n",
    "# data = data_bpi\n",
    "data = data_bpii"
   ]
  },
  {
   "cell_type": "code",
   "execution_count": null,
   "id": "57a0a1e2-9bba-4db4-9348-5863e9bd0c9e",
   "metadata": {},
   "outputs": [],
   "source": [
    "data.shape"
   ]
  },
  {
   "cell_type": "code",
   "execution_count": null,
   "id": "12d7aefa-d3f3-4d5f-bb6b-5263c40e8385",
   "metadata": {},
   "outputs": [],
   "source": [
    "class Args:\n",
    "    # arugments\n",
    "    epochs=150\n",
    "    bs=32\n",
    "    lr=0.001\n",
    "    momentum=0.9\n",
    "    num_classes= 4\n",
    "    latent_dim = 16 ## need to find optimal latent size\n",
    "    inter_dim1 = 128\n",
    "    inter_dim2 = 64\n",
    "    seed=710674\n",
    "\n",
    "args = Args()"
   ]
  },
  {
   "cell_type": "code",
   "execution_count": null,
   "id": "ee7b7a6e-2820-4a7c-b7f9-35aa2b79bcef",
   "metadata": {},
   "outputs": [],
   "source": [
    "data.columns"
   ]
  },
  {
   "cell_type": "code",
   "execution_count": null,
   "id": "09086341-79a5-42d2-9c62-088c32dea8ef",
   "metadata": {},
   "outputs": [],
   "source": [
    "### Using MDD,BP dataset\n",
    "drop_list = ['subject_info', 'birth_info', 'target_info', 'sex_info', 'age_info', 'family_hx_info', 'marriage_info', 'job_info']\n",
    "x = data.drop(drop_list, axis=1)\n",
    "y = data.loc[:,[\"target_info\"]]"
   ]
  },
  {
   "cell_type": "code",
   "execution_count": null,
   "id": "1797bc62-f35f-42d0-ad19-31211eb9d102",
   "metadata": {},
   "outputs": [],
   "source": [
    "x = x.fillna(x.mean())"
   ]
  },
  {
   "cell_type": "code",
   "execution_count": null,
   "id": "b9dad4bb-241a-479b-9c41-fb3a77d519c5",
   "metadata": {},
   "outputs": [],
   "source": [
    "### MDD, BP ####### FULL GROUP CLASSIFICATION ##########\n",
    "\n",
    "label = y\n",
    "label = label.replace({'control':0})\n",
    "label = label.replace({'mdd': 1})\n",
    "label = label.replace({'bpi': 2})\n",
    "label = label.replace({'bpii': 3})\n",
    "\n",
    "data_y = to_categorical(label, 4) ## into the format of one-hot encoding"
   ]
  },
  {
   "cell_type": "code",
   "execution_count": null,
   "id": "fbd73db0-142a-44b5-8423-28ec855e3b26",
   "metadata": {},
   "outputs": [],
   "source": [
    "data_x = x.copy()"
   ]
  },
  {
   "cell_type": "code",
   "execution_count": null,
   "id": "64e398dc-4a9c-4aef-80c8-13513466f539",
   "metadata": {},
   "outputs": [],
   "source": [
    "scaler = MinMaxScaler() #set the scaler (between 0 and 1)\n",
    "\n",
    "data_x[:] = scaler.fit_transform(data_x[:])\n",
    "data_x = data_x.round(decimals=3)"
   ]
  },
  {
   "cell_type": "code",
   "execution_count": null,
   "id": "bce530e4-07f7-49d5-be98-a0692741743b",
   "metadata": {},
   "outputs": [],
   "source": [
    "print(\"The size of x dataset is:\", data_x.shape)\n",
    "print(\"The size of y dataset is:\", data_y.shape)"
   ]
  },
  {
   "cell_type": "code",
   "execution_count": null,
   "id": "32f83a1c-4261-4666-91a7-44a76f2434ee",
   "metadata": {},
   "outputs": [],
   "source": []
  },
  {
   "cell_type": "markdown",
   "id": "23b35b53-940b-4df3-bb98-e0240d633a3b",
   "metadata": {},
   "source": [
    "### encoder networks"
   ]
  },
  {
   "cell_type": "code",
   "execution_count": null,
   "id": "8e9b7e45-bb36-4146-b311-996cbdb325f4",
   "metadata": {},
   "outputs": [],
   "source": [
    "## deeper model\n",
    "input_dim = data_x.shape[1]\n",
    "latent_dim = args.latent_dim\n",
    "\n",
    "inputs = Input(shape=(input_dim,))\n",
    "h = Dense(128, activation='relu')(inputs)\n",
    "h = Dense(64, activation='relu')(h)\n",
    "h = Dense(32, activation='relu')(h)\n",
    "z_mean = Dense(latent_dim)(h)\n",
    "z_log_var = Dense(latent_dim)(h)"
   ]
  },
  {
   "cell_type": "code",
   "execution_count": null,
   "id": "dccd98b4-5167-4bb0-b2dc-10b8f87557e8",
   "metadata": {},
   "outputs": [],
   "source": [
    "## latent space sampling\n",
    "def sampling(args):\n",
    "    z_mean, z_log_var = args\n",
    "    batch = K.shape(z_mean)[0]\n",
    "    dim = K.int_shape(z_mean)[1]\n",
    "    epsilon = K.random_normal(shape=(batch, dim))\n",
    "    return z_mean + K.exp(0.5 * z_log_var) * epsilon\n",
    "\n",
    "z = Lambda(sampling, output_shape=(latent_dim,))([z_mean, z_log_var])"
   ]
  },
  {
   "cell_type": "code",
   "execution_count": null,
   "id": "d91dfe79-e2d6-41a1-b13e-53af0b18063f",
   "metadata": {},
   "outputs": [],
   "source": []
  },
  {
   "cell_type": "markdown",
   "id": "2d29a877-184a-48bc-993f-b1b4707c77eb",
   "metadata": {},
   "source": [
    "### decoder networks"
   ]
  },
  {
   "cell_type": "code",
   "execution_count": null,
   "id": "5b9a7e62-7e48-43cd-bc83-428566669db1",
   "metadata": {},
   "outputs": [],
   "source": [
    "## deeper model\n",
    "decoder_h1 = Dense(32, activation='relu')\n",
    "decoder_h2 = Dense(64, activation='relu')\n",
    "decoder_h3 = Dense(128, activation='relu')\n",
    "decoder_mean = Dense(input_dim, activation='sigmoid')\n",
    "\n",
    "h_decoded = decoder_h1(z)\n",
    "h_decoded = decoder_h2(h_decoded)\n",
    "h_decoded = decoder_h3(h_decoded)\n",
    "x_decoded_mean = decoder_mean(h_decoded)"
   ]
  },
  {
   "cell_type": "code",
   "execution_count": null,
   "id": "9a2d9f54-0715-4a91-b22d-0e7c1feea0f8",
   "metadata": {},
   "outputs": [],
   "source": []
  },
  {
   "cell_type": "markdown",
   "id": "4706c3cb-8a06-4464-85d4-1fb828e520c4",
   "metadata": {},
   "source": [
    "### model define"
   ]
  },
  {
   "cell_type": "code",
   "execution_count": null,
   "id": "206501b7-2a63-4848-acbf-c20c6a9eacab",
   "metadata": {},
   "outputs": [],
   "source": [
    "vae = Model(inputs, x_decoded_mean)\n",
    "vae.summary()"
   ]
  },
  {
   "cell_type": "code",
   "execution_count": null,
   "id": "3a5f776d-392b-4c7f-825c-2b198462fb5a",
   "metadata": {},
   "outputs": [],
   "source": []
  },
  {
   "cell_type": "markdown",
   "id": "32ff67c6-a4fc-4d09-8096-14908b074648",
   "metadata": {},
   "source": [
    "### loss function"
   ]
  },
  {
   "cell_type": "code",
   "execution_count": null,
   "id": "545eb7c8-8322-4739-90aa-6514319ee84e",
   "metadata": {},
   "outputs": [],
   "source": [
    "reconstruction_loss = MeanSquaredError()(inputs, x_decoded_mean)\n",
    "\n",
    "kl_loss = -0.5 * K.sum(1 + z_log_var - K.square(z_mean) - K.exp(z_log_var + K.epsilon()), axis=-1)\n",
    "vae_loss = K.mean(reconstruction_loss + kl_loss)\n",
    "vae.add_loss(vae_loss)"
   ]
  },
  {
   "cell_type": "code",
   "execution_count": null,
   "id": "d56ce430-ba7d-40b7-9b59-7ff54d5d9af2",
   "metadata": {},
   "outputs": [],
   "source": [
    "vae.compile(optimizer=Adam(learning_rate=0.001))"
   ]
  },
  {
   "cell_type": "code",
   "execution_count": null,
   "id": "f7cf8d91-eaa1-4bf9-a1a8-32caeb111d84",
   "metadata": {
    "scrolled": true
   },
   "outputs": [],
   "source": [
    "# vae.summary()"
   ]
  },
  {
   "cell_type": "code",
   "execution_count": null,
   "id": "a21f8064-30ac-4c4f-94f2-7354c4961b67",
   "metadata": {},
   "outputs": [],
   "source": []
  },
  {
   "cell_type": "markdown",
   "id": "e1d0f859-8828-42e2-8883-45626e7510cc",
   "metadata": {},
   "source": [
    "### model training"
   ]
  },
  {
   "cell_type": "code",
   "execution_count": null,
   "id": "997d53be-62ef-402a-ae67-825c75983e83",
   "metadata": {
    "scrolled": true
   },
   "outputs": [],
   "source": [
    "vae.fit(data_x, epochs=args.epochs, batch_size=args.bs, validation_split=0.2, verbose=2)"
   ]
  },
  {
   "cell_type": "code",
   "execution_count": null,
   "id": "d1fedaa2-2c34-4638-9653-81a0dfc6be74",
   "metadata": {},
   "outputs": [],
   "source": []
  },
  {
   "cell_type": "code",
   "execution_count": null,
   "id": "72bf17c1-399b-4ea8-adbc-cd9d53cb9b9e",
   "metadata": {},
   "outputs": [],
   "source": []
  },
  {
   "cell_type": "markdown",
   "id": "21917c75-57e8-431a-9131-5a6fc6bc9475",
   "metadata": {},
   "source": [
    "### extracting encoder, decoder"
   ]
  },
  {
   "cell_type": "code",
   "execution_count": null,
   "id": "6d8c7750-7601-4938-a7ee-24580cb9673d",
   "metadata": {},
   "outputs": [],
   "source": [
    "## encoder model extraction\n",
    "encoder = Model(inputs, z_mean)"
   ]
  },
  {
   "cell_type": "code",
   "execution_count": null,
   "id": "4a028027-249b-4217-a3c4-789257cfbd38",
   "metadata": {
    "scrolled": true
   },
   "outputs": [],
   "source": [
    "#### deeper model\n",
    "decoder_input = Input(shape=(latent_dim,))\n",
    "_h_decoded = decoder_h1(decoder_input)\n",
    "_h_decoded = decoder_h2(_h_decoded)\n",
    "_h_decoded = decoder_h3(_h_decoded)\n",
    "_x_decoded_mean = decoder_mean(_h_decoded)\n",
    "decoder = Model(decoder_input, _x_decoded_mean)"
   ]
  },
  {
   "cell_type": "code",
   "execution_count": null,
   "id": "45e4febe-4954-4b1d-8768-dd75cbdf5ac7",
   "metadata": {},
   "outputs": [],
   "source": []
  },
  {
   "cell_type": "code",
   "execution_count": null,
   "id": "550e678e-be37-4c66-8cc1-0155926fe496",
   "metadata": {},
   "outputs": [],
   "source": []
  },
  {
   "cell_type": "markdown",
   "id": "42ea4634-73fa-48e3-b29a-739476e8ad2a",
   "metadata": {},
   "source": [
    "### Latent space visualization"
   ]
  },
  {
   "cell_type": "code",
   "execution_count": null,
   "id": "758e9798-4fac-4133-885c-8a3c1076592e",
   "metadata": {
    "scrolled": true
   },
   "outputs": [],
   "source": [
    "# ## encode the input dataset into latent space\n",
    "# encoded_data = encoder.predict(data_x)\n",
    "\n",
    "# ## latent space transform with t-SNE function\n",
    "# tsne = TSNE(n_components=2, random_state=710674)\n",
    "# encoded_data_tsne = tsne.fit_transform(encoded_data)\n",
    "\n",
    "# ## visualize\n",
    "# plt.figure(figsize=(8, 6))\n",
    "# plt.scatter(encoded_data_tsne[:, 0], encoded_data_tsne[:, 1], c=label, cmap='viridis')\n",
    "# plt.colorbar()\n",
    "# plt.xlabel(\"t-SNE component 1\")\n",
    "# plt.ylabel(\"t-SNE component 2\")\n",
    "# plt.title(\"t-SNE visualization of the latent space\")\n",
    "# plt.show()"
   ]
  },
  {
   "cell_type": "code",
   "execution_count": null,
   "id": "f83dcc3e-a33f-497b-b2bd-733ae6d99384",
   "metadata": {},
   "outputs": [],
   "source": []
  },
  {
   "cell_type": "code",
   "execution_count": null,
   "id": "4e1892b2-d5e3-440d-93d0-8b35f3f17350",
   "metadata": {},
   "outputs": [],
   "source": []
  },
  {
   "cell_type": "markdown",
   "id": "797d6516-5f26-4afd-a1ca-21efe1021660",
   "metadata": {},
   "source": [
    "### Synthetic data generation"
   ]
  },
  {
   "cell_type": "markdown",
   "id": "f74391c9-4c1c-4f44-a223-473c6cbbd904",
   "metadata": {},
   "source": [
    "> Our dataset contains 828 control, 457 mdd, 179 bp_i, 576 bp_ii \\\n",
    "> set the target number as 1000 \\\n",
    "> So, augment should be 172 control, 543 mdd, 821 bp_i, 424 bp_ii"
   ]
  },
  {
   "cell_type": "code",
   "execution_count": null,
   "id": "c9551af0-3f19-4527-aef1-096873d7d7cb",
   "metadata": {},
   "outputs": [],
   "source": [
    "### sampling randomly from latent space\n",
    "# n_samples = 172  # for control gen\n",
    "# n_samples = 543  # for mdd gen\n",
    "# n_samples = 821  # for bpi gen\n",
    "n_samples = 424  # for bpii gen\n",
    "\n",
    "z_samples = np.random.normal(size=(n_samples, latent_dim))\n",
    "\n",
    "### 디코더를 통해 synthetic data 생성\n",
    "# synthetic_data_con = decoder.predict(z_samples)\n",
    "# synthetic_data_mdd = decoder.predict(z_samples)\n",
    "# synthetic_data_bpi = decoder.predict(z_samples)\n",
    "synthetic_data_bpii = decoder.predict(z_samples)"
   ]
  },
  {
   "cell_type": "code",
   "execution_count": null,
   "id": "870025ea-b27b-4513-bf06-de9cc2c7e1f9",
   "metadata": {},
   "outputs": [],
   "source": [
    "# synthetic_data_con.shape\n",
    "# synthetic_data_mdd.shape\n",
    "# synthetic_data_bpi.shape\n",
    "synthetic_data_bpii.shape"
   ]
  },
  {
   "cell_type": "code",
   "execution_count": null,
   "id": "ebc57f3d-590a-4c0e-954c-6b983b0ce8b9",
   "metadata": {},
   "outputs": [],
   "source": [
    "#####################\n",
    "# gen_con = synthetic_data_con.copy()\n",
    "# gen_con = pd.DataFrame(gen_con, columns=data_x.columns)\n",
    "\n",
    "# #####################\n",
    "# gen_mdd = synthetic_data_mdd.copy()\n",
    "# gen_mdd = pd.DataFrame(gen_mdd, columns=data_x.columns)\n",
    "\n",
    "# #####################\n",
    "# gen_bpi = synthetic_data_bpi.copy()\n",
    "# gen_bpi = pd.DataFrame(gen_bpi, columns=data_x.columns)\n",
    "\n",
    "####################\n",
    "gen_bpii = synthetic_data_bpii.copy()\n",
    "gen_bpii = pd.DataFrame(gen_bpii, columns=data_x.columns)"
   ]
  },
  {
   "cell_type": "code",
   "execution_count": null,
   "id": "3ba3f61c-e15c-4d00-9021-f0f99f0ed00e",
   "metadata": {},
   "outputs": [],
   "source": [
    "gen_mdd.shape"
   ]
  },
  {
   "cell_type": "code",
   "execution_count": null,
   "id": "26ff0d62-6fc1-49f3-a942-4de6e40a1a0d",
   "metadata": {},
   "outputs": [],
   "source": []
  },
  {
   "cell_type": "markdown",
   "id": "e50635f7-443e-45af-8a07-b55c9ced68cf",
   "metadata": {},
   "source": [
    "----------"
   ]
  },
  {
   "cell_type": "markdown",
   "id": "cd232e5c-c1a7-4d8f-8144-14dc2bf64f50",
   "metadata": {},
   "source": [
    "-----------"
   ]
  },
  {
   "cell_type": "markdown",
   "id": "95a8736b-d296-4c8d-aace-9dd5d109a0cb",
   "metadata": {
    "jp-MarkdownHeadingCollapsed": true
   },
   "source": [
    "## Latent Diffusion Model"
   ]
  },
  {
   "cell_type": "markdown",
   "id": "cf26fb30-096e-4be1-9228-ed0dabc61b88",
   "metadata": {},
   "source": [
    "### encoder, decoder networks"
   ]
  },
  {
   "cell_type": "code",
   "execution_count": null,
   "id": "eefe80ac-7856-4761-aa36-e580cf9e024d",
   "metadata": {},
   "outputs": [],
   "source": [
    "# Sampling function for the latent space\n",
    "def sampling(repara):\n",
    "    z_mean, z_log_var = repara\n",
    "    batch = tf.shape(z_mean)[0]\n",
    "    dim = tf.shape(z_mean)[1]\n",
    "    epsilon = K.random_normal(shape=(batch, dim))\n",
    "    return z_mean + tf.exp(0.5 * z_log_var) * epsilon\n",
    "\n",
    "# Define encoder\n",
    "def build_encoder(input_shape, latent_dim):\n",
    "    inputs = Input(shape=input_shape)\n",
    "    x = Conv1D(32, 3, activation='relu', padding='same')(inputs)\n",
    "    x = Flatten()(x)\n",
    "    x = Dense(128, activation='relu')(x)\n",
    "    z_mean = Dense(latent_dim)(x)\n",
    "    z_log_var = Dense(latent_dim)(x)\n",
    "    return Model(inputs, [z_mean, z_log_var], name='encoder')\n",
    "\n",
    "# Define decoder\n",
    "def build_decoder(output_shape, latent_dim):\n",
    "    latent_inputs = Input(shape=(latent_dim,))\n",
    "    x = Dense(128, activation='relu')(latent_inputs)\n",
    "    x = Dense(np.prod(output_shape), activation='relu')(x)\n",
    "    x = Reshape(output_shape)(x)\n",
    "    outputs = Conv1D(1, 3, activation='sigmoid', padding='same')(x)\n",
    "    return Model(latent_inputs, outputs, name='decoder')"
   ]
  },
  {
   "cell_type": "code",
   "execution_count": null,
   "id": "407dba56-edca-46c7-a855-1d38223010ba",
   "metadata": {},
   "outputs": [],
   "source": [
    "input_shape = (x_train.shape[1], 1)  # Example input shape\n",
    "latent_dim = 16"
   ]
  },
  {
   "cell_type": "code",
   "execution_count": null,
   "id": "b75b2e74-1c33-412d-8922-6172b7923bfb",
   "metadata": {
    "scrolled": true
   },
   "outputs": [],
   "source": [
    "## Define the VAE\n",
    "encoder = build_encoder(input_shape, latent_dim)\n",
    "decoder = build_decoder(input_shape, latent_dim)\n",
    "\n",
    "inputs = Input(shape=input_shape)\n",
    "z_mean, z_log_var = encoder(inputs)\n",
    "z = Lambda(sampling, output_shape=(latent_dim,))([z_mean, z_log_var])\n",
    "outputs = decoder(z)\n",
    "\n",
    "vae = Model(inputs, outputs, name='vae')\n",
    "\n",
    "# Define the VAE loss\n",
    "reconstruction_loss = MeanSquaredError()(inputs, outputs)\n",
    "kl_loss = -0.5 * tf.reduce_mean(\n",
    "    z_log_var - tf.square(z_mean) - tf.exp(z_log_var) + 1)\n",
    "vae_loss = reconstruction_loss + kl_loss\n",
    "vae.add_loss(vae_loss)\n",
    "vae.compile(optimizer='adam')\n",
    "\n",
    "vae.summary()"
   ]
  },
  {
   "cell_type": "code",
   "execution_count": null,
   "id": "537b8cf8-fab2-4966-8635-c7c89242bcf8",
   "metadata": {},
   "outputs": [],
   "source": [
    "encoder.summary()"
   ]
  },
  {
   "cell_type": "code",
   "execution_count": null,
   "id": "2b308bb6-37a4-4050-93f0-97270447591e",
   "metadata": {},
   "outputs": [],
   "source": [
    "decoder.summary()"
   ]
  },
  {
   "cell_type": "code",
   "execution_count": null,
   "id": "526dc914-b23c-427a-b90f-cc5e3a0dfc3d",
   "metadata": {},
   "outputs": [],
   "source": []
  },
  {
   "cell_type": "markdown",
   "id": "0cb65314-efc8-4b76-b8a9-780e86f5123a",
   "metadata": {},
   "source": [
    "### model training"
   ]
  },
  {
   "cell_type": "code",
   "execution_count": null,
   "id": "612e2eab-5606-4188-9d1b-23fdad6c2c8b",
   "metadata": {
    "scrolled": true
   },
   "outputs": [],
   "source": [
    "# Train the VAE\n",
    "vae.fit(x_train, epochs=args.epochs, batch_size=args.bs, verbose=2)"
   ]
  },
  {
   "cell_type": "code",
   "execution_count": null,
   "id": "64dff58b-1455-47ec-b39a-64c7cd5a306e",
   "metadata": {},
   "outputs": [],
   "source": []
  },
  {
   "cell_type": "markdown",
   "id": "cbca2713-32e3-4e8b-a8cb-25f3ef994a16",
   "metadata": {},
   "source": [
    "### practice on new dataset"
   ]
  },
  {
   "cell_type": "code",
   "execution_count": null,
   "id": "c41a770c-f7f5-4279-8cb9-2da08ea1cc80",
   "metadata": {},
   "outputs": [],
   "source": [
    "vae_prediction = vae.predict(x_train[:])"
   ]
  },
  {
   "cell_type": "code",
   "execution_count": null,
   "id": "04a3af37-5c05-4196-be48-79cbe4844044",
   "metadata": {
    "scrolled": true
   },
   "outputs": [],
   "source": [
    "vae_prediction.shape"
   ]
  },
  {
   "cell_type": "code",
   "execution_count": null,
   "id": "b4b2196f-9976-4b23-bead-d19a381c4140",
   "metadata": {},
   "outputs": [],
   "source": [
    "vae_prediction_re = vae_prediction.reshape(1729,356)"
   ]
  },
  {
   "cell_type": "code",
   "execution_count": null,
   "id": "3b84f060-b73c-4d66-b5ad-4cd6be0131e8",
   "metadata": {},
   "outputs": [],
   "source": [
    "vae_prediction_re.shape"
   ]
  },
  {
   "cell_type": "code",
   "execution_count": null,
   "id": "b07f8a37-1f05-46e4-8acb-40522673c84e",
   "metadata": {},
   "outputs": [],
   "source": []
  },
  {
   "cell_type": "code",
   "execution_count": null,
   "id": "de0d4f3f-f013-47f7-8267-0dfbd04cab0a",
   "metadata": {},
   "outputs": [],
   "source": []
  },
  {
   "cell_type": "code",
   "execution_count": null,
   "id": "e03178fc-c3f7-4b8e-b812-9418feebd313",
   "metadata": {},
   "outputs": [],
   "source": []
  },
  {
   "cell_type": "code",
   "execution_count": null,
   "id": "a957576a-e739-48b8-aa5f-5af5afb5dea6",
   "metadata": {},
   "outputs": [],
   "source": []
  },
  {
   "cell_type": "code",
   "execution_count": null,
   "id": "81db5f87-d00c-4ad1-b3c0-ed40516d5760",
   "metadata": {},
   "outputs": [],
   "source": []
  },
  {
   "cell_type": "code",
   "execution_count": null,
   "id": "f2ff6241-7e4b-4827-a1f6-44ba65133932",
   "metadata": {},
   "outputs": [],
   "source": []
  },
  {
   "cell_type": "code",
   "execution_count": null,
   "id": "78a2a4f1-fb5d-483f-8b47-ce07592faa00",
   "metadata": {},
   "outputs": [],
   "source": []
  },
  {
   "cell_type": "markdown",
   "id": "e981c57e-13b4-4b5e-aa19-c6cfe91c989a",
   "metadata": {},
   "source": [
    "---------"
   ]
  },
  {
   "cell_type": "markdown",
   "id": "6b774b0d-996a-492a-8930-56b8498703c4",
   "metadata": {},
   "source": [
    "-----------"
   ]
  },
  {
   "cell_type": "markdown",
   "id": "e2d74df3-ad0e-4d1e-903f-ba88f4613b8e",
   "metadata": {},
   "source": [
    "## DNN with generated dataset"
   ]
  },
  {
   "cell_type": "markdown",
   "id": "ae3fce63-2263-434c-bf88-960873d85a13",
   "metadata": {},
   "source": [
    "### using original dataset only"
   ]
  },
  {
   "cell_type": "code",
   "execution_count": null,
   "id": "e0ad1646-e767-4e52-b2a7-e9cb3381a6b6",
   "metadata": {},
   "outputs": [],
   "source": [
    "data = data_fill_mean"
   ]
  },
  {
   "cell_type": "code",
   "execution_count": null,
   "id": "b9b96273-e9dc-4f92-a8be-8a300274ffa7",
   "metadata": {},
   "outputs": [],
   "source": [
    "### Using MDD,BP dataset\n",
    "drop_list = ['subject_info', 'birth_info', 'target_info', 'sex_info', 'age_info', 'family_hx_info', 'marriage_info', 'job_info']\n",
    "x = data.drop(drop_list, axis=1)\n",
    "y = data.loc[:,[\"target_info\"]]"
   ]
  },
  {
   "cell_type": "code",
   "execution_count": null,
   "id": "08498513-acb9-4496-ab8a-7548d5668a0d",
   "metadata": {},
   "outputs": [],
   "source": [
    "x = x.fillna(x.mean())"
   ]
  },
  {
   "cell_type": "code",
   "execution_count": null,
   "id": "97dbd1d6-4807-42ea-8b51-a61a7a8105ae",
   "metadata": {},
   "outputs": [],
   "source": [
    "### MDD, BP ####### FULL GROUP CLASSIFICATION ##########\n",
    "\n",
    "label = y\n",
    "label = label.replace({'control':0})\n",
    "label = label.replace({'mdd': 1})\n",
    "label = label.replace({'bpi': 2})\n",
    "label = label.replace({'bpii': 3})\n",
    "\n",
    "data_y = to_categorical(label, 4) ## into the format of one-hot encoding"
   ]
  },
  {
   "cell_type": "code",
   "execution_count": null,
   "id": "2d320421-ed7e-490b-97d2-5558eb73e926",
   "metadata": {},
   "outputs": [],
   "source": [
    "data_x = x.copy()"
   ]
  },
  {
   "cell_type": "code",
   "execution_count": null,
   "id": "84d689b8-642a-4b3b-9877-0dc9a20807ca",
   "metadata": {},
   "outputs": [],
   "source": [
    "scaler = MinMaxScaler() #set the scaler (between 0 and 1)\n",
    "\n",
    "data_x[:] = scaler.fit_transform(data_x[:])\n",
    "data_x = data_x.round(decimals=3)"
   ]
  },
  {
   "cell_type": "code",
   "execution_count": null,
   "id": "a83888fa-f4d9-451d-81c2-4bf3d36cbde9",
   "metadata": {},
   "outputs": [],
   "source": [
    "x_trainset, x_test, y_trainset, y_test = train_test_split(data_x, data_y, test_size = 0.2, random_state = 710674)"
   ]
  },
  {
   "cell_type": "code",
   "execution_count": null,
   "id": "675bd0ac-5339-4150-bc50-3403df9b0157",
   "metadata": {},
   "outputs": [],
   "source": [
    "x_train, x_vali, y_train, y_vali = train_test_split(x_trainset, y_trainset, test_size = 0.1, random_state = 710674)"
   ]
  },
  {
   "cell_type": "code",
   "execution_count": null,
   "id": "203097fe-f6ec-4923-93b1-f0278ddc38fd",
   "metadata": {},
   "outputs": [],
   "source": [
    "inputs = np.concatenate((x_train, x_vali), axis = 0)\n",
    "targets = np.concatenate((y_train, y_vali), axis = 0)"
   ]
  },
  {
   "cell_type": "code",
   "execution_count": null,
   "id": "aef48609-97f6-406a-aed6-1c2057775ca1",
   "metadata": {},
   "outputs": [],
   "source": []
  },
  {
   "cell_type": "markdown",
   "id": "c7f608f4-1d83-470f-a295-4ac85d08fb33",
   "metadata": {},
   "source": [
    "***"
   ]
  },
  {
   "cell_type": "markdown",
   "id": "7eaaf7d3-f1da-4632-bb89-c31e45e79ee4",
   "metadata": {},
   "source": [
    "### using original + generated dataset"
   ]
  },
  {
   "cell_type": "markdown",
   "id": "23165eff-832d-482a-b4eb-7915a4c29b26",
   "metadata": {},
   "source": [
    "> we generate synthesized dataset using VAE from above. \\\n",
    "> adopted original datset: data_mdd, data_bpi, data_bpii \\\n",
    "> synthesized into: gen_mdd, gen_bpi, gen_bpii \\\n",
    "> gen_control is not generated since \"control group\" has biggest number."
   ]
  },
  {
   "cell_type": "markdown",
   "id": "535d7c72-1065-4a07-91b6-54bf90af8aea",
   "metadata": {},
   "source": [
    "* Set target information into newly generated dataset"
   ]
  },
  {
   "cell_type": "code",
   "execution_count": null,
   "id": "92f7c1a8-fdb1-4653-ae91-35e57b28405e",
   "metadata": {},
   "outputs": [],
   "source": [
    "gen_con['target_info'] = \"control\"\n",
    "gen_mdd['target_info'] = \"mdd\"\n",
    "gen_bpi['target_info'] = \"bpi\"\n",
    "gen_bpii['target_info'] = \"bpii\""
   ]
  },
  {
   "cell_type": "code",
   "execution_count": null,
   "id": "6be7599b-07d0-4b43-9a65-3f3d3a9b672b",
   "metadata": {},
   "outputs": [],
   "source": [
    "drop_list = ['subject_info', 'birth_info', 'sex_info', 'age_info', 'family_hx_info', 'marriage_info', 'job_info']\n",
    "data_control = data_control.drop(drop_list, axis=1)\n",
    "data_mdd = data_mdd.drop(drop_list, axis=1)\n",
    "data_bpi = data_bpi.drop(drop_list, axis=1)\n",
    "data_bpii = data_bpii.drop(drop_list, axis=1)"
   ]
  },
  {
   "cell_type": "markdown",
   "id": "e9e9a5c7-28c1-4a2c-ba60-11ad2ea58677",
   "metadata": {},
   "source": [
    "* Original dataframe concat"
   ]
  },
  {
   "cell_type": "code",
   "execution_count": null,
   "id": "a79dc3ad-3c6d-4f9d-b7e1-8614e1bf2cbe",
   "metadata": {},
   "outputs": [],
   "source": [
    "ori_df_list = [data_control, data_mdd, data_bpi, data_bpii]\n",
    "ori_df_concat = pd.concat(ori_df_list, ignore_index=True)"
   ]
  },
  {
   "cell_type": "code",
   "execution_count": null,
   "id": "59a82a2f-1eae-4ecd-ba39-1059595fab47",
   "metadata": {},
   "outputs": [],
   "source": [
    "ori_df_concat.shape"
   ]
  },
  {
   "cell_type": "code",
   "execution_count": null,
   "id": "33219592-c92c-4962-8ab5-544ae8fbf67b",
   "metadata": {},
   "outputs": [],
   "source": [
    "ori_df_concat['target_info'].value_counts()"
   ]
  },
  {
   "cell_type": "code",
   "execution_count": null,
   "id": "686011db-6879-454b-bb33-2082f02e4e06",
   "metadata": {},
   "outputs": [],
   "source": [
    "gen_df_list = [gen_con, gen_mdd, gen_bpi, gen_bpii]\n",
    "gen_df_concat = pd.concat(gen_df_list, ignore_index=True)"
   ]
  },
  {
   "cell_type": "code",
   "execution_count": null,
   "id": "073cd1d3-6b77-40a8-ba51-3e19e7a0ab12",
   "metadata": {},
   "outputs": [],
   "source": [
    "gen_df_concat['target_info'].value_counts()"
   ]
  },
  {
   "cell_type": "code",
   "execution_count": null,
   "id": "b697ca70-7cef-40e5-8d04-5c7d1544a7ba",
   "metadata": {},
   "outputs": [],
   "source": [
    "### Using MDD,BP dataset\n",
    "ori_x = ori_df_concat.drop(['target_info'], axis=1)\n",
    "ori_y = ori_df_concat.loc[:,[\"target_info\"]]\n",
    "\n",
    "gen_x = gen_df_concat.drop(['target_info'], axis=1)\n",
    "gen_y = gen_df_concat.loc[:,[\"target_info\"]]"
   ]
  },
  {
   "cell_type": "code",
   "execution_count": null,
   "id": "835d6a55-c823-4f77-950a-a37306c0d00c",
   "metadata": {},
   "outputs": [],
   "source": [
    "ori_x = ori_x.fillna(ori_x.mean())"
   ]
  },
  {
   "cell_type": "code",
   "execution_count": null,
   "id": "dc666283-1fbb-4040-954f-9538826c4550",
   "metadata": {},
   "outputs": [],
   "source": []
  },
  {
   "cell_type": "markdown",
   "id": "bbafeaec-c998-4b65-a5e0-f2459b558e5c",
   "metadata": {},
   "source": [
    "* Relabeling both(original, augmented) dataset into one-hot encoding"
   ]
  },
  {
   "cell_type": "code",
   "execution_count": null,
   "id": "f3002ead-df2b-4686-bb3a-4cf7ba66735b",
   "metadata": {},
   "outputs": [],
   "source": [
    "label_ = ori_y\n",
    "label_ = label_.replace({'control':0})\n",
    "label_ = label_.replace({'mdd': 1})\n",
    "label_ = label_.replace({'bpi': 2})\n",
    "label_ = label_.replace({'bpii': 3})\n",
    "\n",
    "y_ori = to_categorical(label_, 4) ## into the format of one-hot encoding"
   ]
  },
  {
   "cell_type": "code",
   "execution_count": null,
   "id": "44d6fe85-6d15-4527-9ead-d2b27b430349",
   "metadata": {},
   "outputs": [],
   "source": [
    "label = gen_y\n",
    "label = label.replace({'control':0})\n",
    "label = label.replace({'mdd': 1})\n",
    "label = label.replace({'bpi': 2})\n",
    "label = label.replace({'bpii': 3})\n",
    "\n",
    "y_gen = to_categorical(label, 4) ## into the format of one-hot encoding"
   ]
  },
  {
   "cell_type": "markdown",
   "id": "cd200976-3fa5-42ce-b31b-f46710ac0775",
   "metadata": {},
   "source": [
    "* train-test dataset split"
   ]
  },
  {
   "cell_type": "code",
   "execution_count": null,
   "id": "9bcbf13b-0b7b-4778-a206-17da483ceecf",
   "metadata": {},
   "outputs": [],
   "source": [
    "x_trainset, x_test, y_trainset, y_test = train_test_split(ori_x, y_ori, test_size = 0.4, random_state = 710674)"
   ]
  },
  {
   "cell_type": "code",
   "execution_count": null,
   "id": "29e1980c-1cdf-4707-93c7-58f6c52520f8",
   "metadata": {},
   "outputs": [],
   "source": [
    "x_train_concat = pd.concat([x_trainset, gen_x], ignore_index=True)\n",
    "y_train_concat = np.concatenate([y_trainset, y_gen])"
   ]
  },
  {
   "cell_type": "markdown",
   "id": "75e4befd-0b43-4838-96b1-416d7660bc14",
   "metadata": {},
   "source": [
    "* train-validation dataset split"
   ]
  },
  {
   "cell_type": "code",
   "execution_count": null,
   "id": "0572cdb0-b457-45bb-8645-d4caafb00ba5",
   "metadata": {},
   "outputs": [],
   "source": [
    "x_train, x_vali, y_train, y_vali = train_test_split(x_train_concat, y_train_concat, test_size = 0.2, random_state = 710674)"
   ]
  },
  {
   "cell_type": "markdown",
   "id": "ef234419-c5bb-4412-bdba-2ae1dc6eda05",
   "metadata": {},
   "source": [
    "* generating input dataset"
   ]
  },
  {
   "cell_type": "code",
   "execution_count": null,
   "id": "5088a085-fb59-450a-91f5-00d29aa448bb",
   "metadata": {},
   "outputs": [],
   "source": [
    "inputs = np.concatenate((x_train, x_vali), axis = 0)\n",
    "targets = np.concatenate((y_train, y_vali), axis = 0)"
   ]
  },
  {
   "cell_type": "code",
   "execution_count": null,
   "id": "aa7ef7f0-927e-4813-8739-a279a6df158b",
   "metadata": {},
   "outputs": [],
   "source": []
  },
  {
   "cell_type": "markdown",
   "id": "969466bf-be6b-4d06-a77c-229ac0a5c471",
   "metadata": {},
   "source": [
    "### model training + test"
   ]
  },
  {
   "cell_type": "code",
   "execution_count": null,
   "id": "eaedc655-0b50-4bc7-b3d6-0832d939efd0",
   "metadata": {},
   "outputs": [],
   "source": [
    "class Args:\n",
    "    # arugments\n",
    "    epochs=200\n",
    "    bs=32\n",
    "    lr=0.001\n",
    "    momentum=0.9\n",
    "    num_classes= 4\n",
    "    verbose='store_true'\n",
    "    seed=710674\n",
    "\n",
    "args = Args()\n",
    "\n",
    "# np.random.seed(args.seed)\n",
    "# random.seed(args.seed)\n",
    "# torch.manual_seed(args.seed)"
   ]
  },
  {
   "cell_type": "code",
   "execution_count": null,
   "id": "0abccf00-241c-4224-9cf0-5dddaee8ee71",
   "metadata": {},
   "outputs": [],
   "source": [
    "fold_num = 1\n",
    "split_num = 5\n",
    "opt = keras.optimizers.SGD(learning_rate = args.lr, decay = 1e-6, momentum = args.momentum)\n",
    "kfold = KFold(n_splits = split_num, shuffle = True)\n",
    "# kfold = StratifiedKFold(n_splits = split_num, shuffle = True)"
   ]
  },
  {
   "cell_type": "code",
   "execution_count": null,
   "id": "322e6106-3bea-42d2-ac5c-75f8ad8e015e",
   "metadata": {},
   "outputs": [],
   "source": [
    "data_fill_mean['target_info'].value_counts()"
   ]
  },
  {
   "cell_type": "code",
   "execution_count": null,
   "id": "df9fba3d-b601-4e2d-baa5-623b934167d6",
   "metadata": {},
   "outputs": [],
   "source": [
    "############## FOR FOUR-GROUP CLASSIFICATION ###############\n",
    "# class_weight = {1:1.29, 2:3.04, 3: 1.13, 0:1}\n",
    "class_weight = {0:1, 1:1.81, 2:4.62, 3: 1.43}\n",
    "# class_weight = {0:1, 1:1, 2:1, 3: 1}\n",
    "\n",
    "############## FOR NO CONTROL CLASSIFICATION ###############\n",
    "# class_weight = {0: 1.4, 1: 2.74, 2: 1}\n",
    "\n",
    "############## FOR NO BPII CLASSIFICATION ###############\n",
    "# class_weight = {0: 1, 1: 1.29, 2: 3.04}\n",
    "\n",
    "############## FOR BINARY CLASSIFICATION ###############\n",
    "# class_weight = {0: 2.38, 1: 1}\n"
   ]
  },
  {
   "cell_type": "code",
   "execution_count": null,
   "id": "c714002a-a0cf-4b96-8e5a-92634747fd60",
   "metadata": {},
   "outputs": [],
   "source": [
    "acc_per_fold = []\n",
    "loss_per_fold = []"
   ]
  },
  {
   "cell_type": "code",
   "execution_count": null,
   "id": "b571d2b9-6b6a-442e-a55e-21d148a378e2",
   "metadata": {},
   "outputs": [],
   "source": [
    "x_train.shape"
   ]
  },
  {
   "cell_type": "code",
   "execution_count": null,
   "id": "80fb1d30-a20a-4be3-a67e-7ad0090620c3",
   "metadata": {},
   "outputs": [],
   "source": [
    "for train, test in kfold.split(inputs, targets):\n",
    "    model = Sequential()\n",
    "    model.add(Dense(256, input_dim = x_train.shape[1], activation = 'relu'))\n",
    "    model.add(BatchNormalization())\n",
    "    model.add(Dropout(0.5))\n",
    "    model.add(Dense(128, activation = 'relu'))\n",
    "    model.add(BatchNormalization())\n",
    "    model.add(Dropout(0.5)) #drop out\n",
    "    model.add(Dense(64, activation = 'relu'))\n",
    "    model.add(BatchNormalization())\n",
    "    model.add(Dense(32, activation = 'relu'))\n",
    "    model.add(Dense(args.num_classes, activation = 'softmax'))\n",
    "    \n",
    "    ## model compile\n",
    "    model.compile(loss = 'categorical_crossentropy', optimizer = opt, metrics = ['accuracy'])\n",
    "    \n",
    "    print('----------------------------------------')\n",
    "    print(f'Training or fold {fold_num} ... ')\n",
    "    \n",
    "    ## fit data to model\n",
    "    history = model.fit(inputs[train], targets[train], batch_size = args.bs, epochs = args.epochs, verbose = 0, class_weight = class_weight)\n",
    "    \n",
    "    ## generate generalization metrics\n",
    "    scores = model.evaluate(inputs[test], targets[test])\n",
    "    print(f'Score for fold {fold_num}: {model.metrics_names[0]} of {scores[0]}; {model.metrics_names[1]} of {scores[1]*100}%')\n",
    "    print(\"%s: %.2f%%\" %(model.metrics_names[1], scores[1]*100))\n",
    "    acc_per_fold.append(scores[1] * 100)\n",
    "    loss_per_fold.append(scores[0])\n",
    "    \n",
    "    ## increasing fold number\n",
    "    fold_num = fold_num + 1\n",
    "    \n",
    "    \n",
    "    \n",
    "## Summarizing the results\n",
    "print('------------------------------------------------------------------------')\n",
    "print('Score per fold')\n",
    "for i in range(0, len(acc_per_fold)):\n",
    "    print('------------------------------------------------------------------------')\n",
    "    print(f'>> Fold {i+1} - Loss: {loss_per_fold[i]} - Accuracy: {acc_per_fold[i]}%')\n",
    "print('------------------------------------------------------------------------')\n",
    "print('Average scores for all folds:')\n",
    "print(f'>>> Accuracy: {np.mean(acc_per_fold)} (+- {np.std(acc_per_fold)})')\n",
    "print(f'>>> Loss: {np.mean(loss_per_fold)}')\n",
    "print('------------------------------------------------------------------------')"
   ]
  },
  {
   "cell_type": "code",
   "execution_count": null,
   "id": "93b043bd-7786-4387-a2c0-ecc43d075e1c",
   "metadata": {},
   "outputs": [],
   "source": [
    "y_predict = model.predict(x_test)\n",
    "y_predict = np.argmax(y_predict, axis = 1)\n",
    "y_test = np.argmax(y_test, axis = 1)\n",
    "\n",
    "result = confusion_matrix(y_test, y_predict, normalize = 'pred')\n",
    "print(result)"
   ]
  },
  {
   "cell_type": "code",
   "execution_count": null,
   "id": "0114bc55-db95-414b-9f90-323966eccfbe",
   "metadata": {},
   "outputs": [],
   "source": [
    "figure = plt.figure(figsize=(6, 4))\n",
    "sns.heatmap(result, annot=True,cmap=plt.cm.Blues)\n",
    "plt.tight_layout()\n",
    "plt.ylabel('True label')\n",
    "plt.xlabel('Predicted label')\n",
    "plt.show()"
   ]
  },
  {
   "cell_type": "code",
   "execution_count": null,
   "id": "6367b958-4553-4b48-bbf7-1b47e273c1e2",
   "metadata": {},
   "outputs": [],
   "source": [
    "accuracy = metrics.accuracy_score(y_test, y_predict)\n",
    "precision = metrics.precision_score(y_test, y_predict, average = 'macro')\n",
    "recall = metrics.recall_score(y_test, y_predict, average = 'micro')\n",
    "f1 = metrics.f1_score(y_test, y_predict, average = 'weighted')\n",
    "\n",
    "print(\"=============================================\")\n",
    "print(\"The overall accuracy is:\", round(accuracy, 4))\n",
    "print(\"The precision score is:\", round(precision, 4))\n",
    "print(\"The recall score is:\", round(recall, 4))\n",
    "print(\"The f1 score is:\", round(f1, 4))\n",
    "print(\"=============================================\")"
   ]
  },
  {
   "cell_type": "code",
   "execution_count": null,
   "id": "5a365de7-c689-49f3-83d9-ac1f392549f9",
   "metadata": {},
   "outputs": [],
   "source": []
  },
  {
   "cell_type": "code",
   "execution_count": null,
   "id": "cb1e8976-a689-4a0c-b744-0732f1808cc3",
   "metadata": {},
   "outputs": [],
   "source": []
  },
  {
   "cell_type": "code",
   "execution_count": null,
   "id": "0069a820-5324-43b9-b04e-2cd893725fbb",
   "metadata": {},
   "outputs": [],
   "source": []
  },
  {
   "cell_type": "markdown",
   "id": "b132d0d4-f53c-4b36-a37a-8fdd8213fdae",
   "metadata": {},
   "source": [
    "***"
   ]
  },
  {
   "cell_type": "markdown",
   "id": "c860653a-0fb4-4e00-a68f-d9dbd78bdc8c",
   "metadata": {},
   "source": [
    "***"
   ]
  },
  {
   "cell_type": "markdown",
   "id": "bae9db2f-857c-4987-b499-181a10e7775a",
   "metadata": {},
   "source": [
    "## Using VAE/AE as a dimensionality reduction"
   ]
  },
  {
   "cell_type": "code",
   "execution_count": null,
   "id": "7cc86a25-e9c1-468e-98ce-9d0fbf91d0fb",
   "metadata": {},
   "outputs": [],
   "source": [
    "# data = data_no_s8\n",
    "data = data_fill_s8"
   ]
  },
  {
   "cell_type": "code",
   "execution_count": null,
   "id": "4d4599b4-32ee-4c09-a93e-c1dbb4b0aace",
   "metadata": {},
   "outputs": [],
   "source": [
    "data.shape"
   ]
  },
  {
   "cell_type": "code",
   "execution_count": null,
   "id": "ad2e3f5b-9b25-498b-b1bc-abeeed4de49b",
   "metadata": {},
   "outputs": [],
   "source": [
    "data[data.isna().any(axis=1)].shape"
   ]
  },
  {
   "cell_type": "code",
   "execution_count": null,
   "id": "e9d5cba9-f4fe-4ab4-b658-7aa3080f355e",
   "metadata": {},
   "outputs": [],
   "source": [
    "### Using MDD,BP dataset\n",
    "data_x = data.drop(['subject_info', 'birth_info', 'target_info', 'sex_info', 'age_info', 'family_hx_info'], axis=1)\n",
    "data_y = data.loc[:,[\"target_info\"]]"
   ]
  },
  {
   "cell_type": "code",
   "execution_count": null,
   "id": "38486d44-a6f0-4292-9bf2-f1ef889e1452",
   "metadata": {},
   "outputs": [],
   "source": [
    "data_x = data_x.fillna(data_x.mean())"
   ]
  },
  {
   "cell_type": "code",
   "execution_count": null,
   "id": "8be50121-357f-48cd-8119-1518d8d76769",
   "metadata": {},
   "outputs": [],
   "source": [
    "### MDD, BP ####### FULL GROUP CLASSIFICATION ##########\n",
    "x = data_x\n",
    "\n",
    "label = data_y\n",
    "label = label.replace({'control':0})\n",
    "label = label.replace({'mdd': 1})\n",
    "label = label.replace({'bpi': 2})\n",
    "label = label.replace({'bpii': 3})\n",
    "\n",
    "y = to_categorical(label, 4) ## into the format of one-hot encoding"
   ]
  },
  {
   "cell_type": "code",
   "execution_count": null,
   "id": "67f5ab25-a6c5-4f49-85df-8f53b1b7787f",
   "metadata": {},
   "outputs": [],
   "source": [
    "class Args:\n",
    "    # arugments\n",
    "    epochs=200\n",
    "    bs=32\n",
    "    lr=0.001\n",
    "    momentum=0.9\n",
    "    encoding_dim = 32\n",
    "    num_classes= 4\n",
    "    verbose='store_true'\n",
    "    seed=710674\n",
    "\n",
    "args = Args()"
   ]
  },
  {
   "cell_type": "code",
   "execution_count": null,
   "id": "eedb27aa-16e2-4a2f-aef3-a72de1b31459",
   "metadata": {},
   "outputs": [],
   "source": [
    "x.shape"
   ]
  },
  {
   "cell_type": "code",
   "execution_count": null,
   "id": "45965f64-ee1f-45d5-80a6-2f3f45f69ea2",
   "metadata": {},
   "outputs": [],
   "source": []
  },
  {
   "cell_type": "markdown",
   "id": "a3fb1ae9-612e-4890-92d3-1c031a05acb2",
   "metadata": {},
   "source": [
    "### Autoencoder for dim reduction"
   ]
  },
  {
   "cell_type": "code",
   "execution_count": null,
   "id": "51fc9659-d907-4e33-a8bd-31967db5c7a9",
   "metadata": {},
   "outputs": [],
   "source": [
    "# input dataset layer\n",
    "input_layer = Input(shape=(x.shape[1],))\n",
    "\n",
    "# encoder layers\n",
    "encoder = Dense(256, activation='relu')(input_layer)\n",
    "encoder = Dense(128, activation='relu')(encoder)\n",
    "encoder_out = Dense(args.encoding_dim, activation='relu')(encoder)\n",
    "\n",
    "# decoder layers\n",
    "decoder = Dense(128, activation='relu')(encoder_out)\n",
    "decoder = Dense(256, activation='relu')(decoder)\n",
    "decoder_out = Dense(x.shape[1], activation='sigmoid')(decoder)"
   ]
  },
  {
   "cell_type": "code",
   "execution_count": null,
   "id": "d60d75fa-94bf-4ab7-ae14-dfc0697e16e9",
   "metadata": {},
   "outputs": [],
   "source": [
    "# AE model\n",
    "autoencoder = Model(inputs=input_layer, outputs=decoder_out)\n",
    "\n",
    "# Encoder model (convert input dataset into latent space)\n",
    "encoder_model = Model(inputs=input_layer, outputs=encoder_out)\n",
    "\n",
    "# Decoder model (recover latent space/vector into original dataset format)\n",
    "encoded_input = Input(shape=(args.encoding_dim,))\n",
    "decoder_layer = autoencoder.layers[-3](encoded_input)\n",
    "decoder_layer = autoencoder.layers[-2](decoder_layer)\n",
    "decoder_out = autoencoder.layers[-1](decoder_layer)\n",
    "decoder_model = Model(inputs=encoded_input, outputs=decoder_layer)"
   ]
  },
  {
   "cell_type": "code",
   "execution_count": null,
   "id": "930e4df0-f1fe-49d7-88ec-5d4743aa6e2e",
   "metadata": {},
   "outputs": [],
   "source": [
    "# Model compile\n",
    "autoencoder.compile(optimizer='adam', loss='mse')\n",
    "\n",
    "# Checking each model\n",
    "autoencoder.summary()\n",
    "# encoder_model.summary()\n",
    "# decoder_model.summary()"
   ]
  },
  {
   "cell_type": "code",
   "execution_count": null,
   "id": "e1b6f004-27f3-4a19-ba75-d8735ae82c4c",
   "metadata": {
    "scrolled": true
   },
   "outputs": [],
   "source": [
    "## Model training\n",
    "autoencoder.fit(x, x, epochs = args.epochs, batch_size = args.bs, shuffle=True, validation_split=0.2, verbose=2)"
   ]
  },
  {
   "cell_type": "code",
   "execution_count": null,
   "id": "e2d73949-5fdf-457e-b1f5-4d174ad54b6e",
   "metadata": {},
   "outputs": [],
   "source": [
    "encoded_data = encoder_model.predict(x)\n",
    "decoded_data = decoder_model.predict(encoded_data)"
   ]
  },
  {
   "cell_type": "code",
   "execution_count": null,
   "id": "76de485d-9b8c-4dbd-b4e3-4cecf71b62b5",
   "metadata": {},
   "outputs": [],
   "source": [
    "encoded_data.shape"
   ]
  },
  {
   "cell_type": "code",
   "execution_count": null,
   "id": "12df8ac2-ebe6-47a1-8759-afbe05c3d62a",
   "metadata": {},
   "outputs": [],
   "source": [
    "decoded_data.shape"
   ]
  },
  {
   "cell_type": "code",
   "execution_count": null,
   "id": "16f95697-d1d9-4861-a1ce-5b0d46132998",
   "metadata": {},
   "outputs": [],
   "source": [
    "y.shape"
   ]
  },
  {
   "cell_type": "code",
   "execution_count": null,
   "id": "2cb603d7-37a9-4af7-8ae9-9e3cc4613ea4",
   "metadata": {},
   "outputs": [],
   "source": []
  },
  {
   "cell_type": "code",
   "execution_count": null,
   "id": "1b31eb85-686a-4948-a775-160528f4794d",
   "metadata": {},
   "outputs": [],
   "source": [
    "class Args:\n",
    "    # arugments\n",
    "    epochs=200\n",
    "    bs=32\n",
    "    lr=0.001\n",
    "    momentum=0.9\n",
    "    num_classes= 4\n",
    "    verbose='store_true'\n",
    "    seed=710674\n",
    "\n",
    "args = Args()\n",
    "\n",
    "# np.random.seed(args.seed)\n",
    "# random.seed(args.seed)\n",
    "# torch.manual_seed(args.seed)"
   ]
  },
  {
   "cell_type": "code",
   "execution_count": null,
   "id": "7f2bbad8-7456-4f91-a531-c7c38e9a4801",
   "metadata": {},
   "outputs": [],
   "source": [
    "x_trainset, x_test, y_trainset, y_test = train_test_split(decoded_data, y, test_size = 0.1, random_state = 710674)\n",
    "x_train, x_vali, y_train, y_vali = train_test_split(x_trainset, y_trainset, test_size = 0.2, random_state = 710674)"
   ]
  },
  {
   "cell_type": "code",
   "execution_count": null,
   "id": "7eda29a3-3701-47b3-888c-adab1c263fb2",
   "metadata": {},
   "outputs": [],
   "source": [
    "inputs = np.concatenate((x_train, x_vali), axis = 0)\n",
    "targets = np.concatenate((y_train, y_vali), axis = 0)"
   ]
  },
  {
   "cell_type": "code",
   "execution_count": null,
   "id": "033e9ade-fab5-48c0-861e-82dd1621e0b5",
   "metadata": {},
   "outputs": [],
   "source": [
    "fold_num = 1\n",
    "split_num = 5\n",
    "opt = keras.optimizers.SGD(learning_rate = args.lr, decay = 1e-6, momentum = args.momentum)\n",
    "kfold = KFold(n_splits = split_num, shuffle = True)\n",
    "# kfold = StratifiedKFold(n_splits = split_num, shuffle = True)"
   ]
  },
  {
   "cell_type": "code",
   "execution_count": null,
   "id": "ee4d5391-c090-41d2-bf12-62d4c5b9808f",
   "metadata": {},
   "outputs": [],
   "source": [
    "############## FOR FOUR-GROUP CLASSIFICATION ###############\n",
    "class_weight = {1:1.29, 2:3.04, 3: 1.13, 0:1}"
   ]
  },
  {
   "cell_type": "code",
   "execution_count": null,
   "id": "d5713989-8eab-4d96-afb3-f7ad9197c1e4",
   "metadata": {},
   "outputs": [],
   "source": [
    "acc_per_fold = []\n",
    "loss_per_fold = []"
   ]
  },
  {
   "cell_type": "code",
   "execution_count": null,
   "id": "dafbb424-a9f9-4318-9ab1-3a85bc98e716",
   "metadata": {},
   "outputs": [],
   "source": [
    "for train, test in kfold.split(inputs, targets):\n",
    "    model = Sequential()\n",
    "    model.add(Dense(128, input_dim = x_train.shape[1], activation = 'relu'))\n",
    "    model.add(Dense(64, activation = 'relu'))\n",
    "    model.add(Dropout(0.5)) #drop out\n",
    "    model.add(Dense(32, activation = 'relu'))\n",
    "    model.add(Dense(args.num_classes, activation = 'softmax'))\n",
    "    \n",
    "    ## model compile\n",
    "    model.compile(loss = 'categorical_crossentropy', optimizer = opt, metrics = ['accuracy'])\n",
    "    \n",
    "    print('----------------------------------------')\n",
    "    print(f'Training or fold {fold_num} ... ')\n",
    "    \n",
    "    ## fit data to model\n",
    "    history = model.fit(inputs[train], targets[train], batch_size = args.bs, epochs = args.epochs, verbose = 0, class_weight = class_weight)\n",
    "    \n",
    "    ## generate generalization metrics\n",
    "    scores = model.evaluate(inputs[test], targets[test])\n",
    "    print(f'Score for fold {fold_num}: {model.metrics_names[0]} of {scores[0]}; {model.metrics_names[1]} of {scores[1]*100}%')\n",
    "    print(\"%s: %.2f%%\" %(model.metrics_names[1], scores[1]*100))\n",
    "    acc_per_fold.append(scores[1] * 100)\n",
    "    loss_per_fold.append(scores[0])\n",
    "    \n",
    "    ## increasing fold number\n",
    "    fold_num = fold_num + 1\n",
    "    \n",
    "    \n",
    "    \n",
    "## Summarizing the results\n",
    "print('------------------------------------------------------------------------')\n",
    "print('Score per fold')\n",
    "for i in range(0, len(acc_per_fold)):\n",
    "    print('------------------------------------------------------------------------')\n",
    "    print(f'>> Fold {i+1} - Loss: {loss_per_fold[i]} - Accuracy: {acc_per_fold[i]}%')\n",
    "print('------------------------------------------------------------------------')\n",
    "print('Average scores for all folds:')\n",
    "print(f'>>> Accuracy: {np.mean(acc_per_fold)} (+- {np.std(acc_per_fold)})')\n",
    "print(f'>>> Loss: {np.mean(loss_per_fold)}')\n",
    "print('------------------------------------------------------------------------')"
   ]
  },
  {
   "cell_type": "code",
   "execution_count": null,
   "id": "dab7d67c-2c9d-4320-84b8-9f451d9b4063",
   "metadata": {},
   "outputs": [],
   "source": [
    "y_predict = model.predict(x_test)\n",
    "y_predict = np.argmax(y_predict, axis = 1)\n",
    "y_test = np.argmax(y_test, axis = 1)\n",
    "\n",
    "result = confusion_matrix(y_test, y_predict, normalize = 'pred')\n",
    "print(result)"
   ]
  },
  {
   "cell_type": "code",
   "execution_count": null,
   "id": "66ca930a-2f73-4fc8-a7c8-d908c8b8b3e7",
   "metadata": {},
   "outputs": [],
   "source": [
    "figure = plt.figure(figsize=(6, 4))\n",
    "sns.heatmap(result, annot=True,cmap=plt.cm.Blues)\n",
    "plt.tight_layout()\n",
    "plt.ylabel('True label')\n",
    "plt.xlabel('Predicted label')\n",
    "plt.show()"
   ]
  },
  {
   "cell_type": "code",
   "execution_count": null,
   "id": "9962116a-e761-4059-adbf-e613c02a6053",
   "metadata": {},
   "outputs": [],
   "source": [
    "accuracy = metrics.accuracy_score(y_test, y_predict)\n",
    "precision = metrics.precision_score(y_test, y_predict, average = 'macro')\n",
    "recall = metrics.recall_score(y_test, y_predict, average = 'micro')\n",
    "f1 = metrics.f1_score(y_test, y_predict, average = 'weighted')\n",
    "\n",
    "print(\"=============================================\")\n",
    "print(\"The overall accuracy is:\", round(accuracy, 4))\n",
    "print(\"The precision score is:\", round(precision, 4))\n",
    "print(\"The recall score is:\", round(recall, 4))\n",
    "print(\"The f1 score is:\", round(f1, 4))\n",
    "print(\"=============================================\")"
   ]
  },
  {
   "cell_type": "code",
   "execution_count": null,
   "id": "f57e63ff-ce5a-4d03-94ad-e6c7fb4ded06",
   "metadata": {},
   "outputs": [],
   "source": []
  },
  {
   "cell_type": "code",
   "execution_count": null,
   "id": "29aeef4b-07fc-409b-a6e0-d37ee522f463",
   "metadata": {},
   "outputs": [],
   "source": []
  },
  {
   "cell_type": "code",
   "execution_count": null,
   "id": "47edc141-29ab-4439-9a08-f1fb51cf4a8d",
   "metadata": {},
   "outputs": [],
   "source": []
  },
  {
   "cell_type": "code",
   "execution_count": null,
   "id": "f8e416bc-f6e3-4501-bc04-12836c08826a",
   "metadata": {},
   "outputs": [],
   "source": []
  },
  {
   "cell_type": "code",
   "execution_count": null,
   "id": "d39d9e81-27d4-4805-a767-d87d82a20dd2",
   "metadata": {},
   "outputs": [],
   "source": []
  }
 ],
 "metadata": {
  "kernelspec": {
   "display_name": "Python 3 (ipykernel)",
   "language": "python",
   "name": "python3"
  },
  "language_info": {
   "codemirror_mode": {
    "name": "ipython",
    "version": 3
   },
   "file_extension": ".py",
   "mimetype": "text/x-python",
   "name": "python",
   "nbconvert_exporter": "python",
   "pygments_lexer": "ipython3",
   "version": "3.9.17"
  }
 },
 "nbformat": 4,
 "nbformat_minor": 5
}
