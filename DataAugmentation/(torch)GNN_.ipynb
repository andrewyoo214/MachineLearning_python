{
 "cells": [
  {
   "cell_type": "markdown",
   "id": "e91e4e00-6c0b-4482-b0b2-519ee84a9696",
   "metadata": {},
   "source": [
    "# Graph Neural Network"
   ]
  },
  {
   "cell_type": "markdown",
   "id": "084e10dc-ec5b-4105-8457-a88b904672e9",
   "metadata": {},
   "source": [
    "* If we use graph neural networks, it can help to find relations between medical information. (ex. demographic, medical history, ...)"
   ]
  },
  {
   "cell_type": "code",
   "execution_count": null,
   "id": "cb3d11ab-3098-4d67-9434-131a7844ab1f",
   "metadata": {},
   "outputs": [],
   "source": [
    "import torch\n",
    "import torch.nn.functional as F\n",
    "from torch_geometric.data import Data\n",
    "from torch_geometric.nn import GCNConv"
   ]
  },
  {
   "cell_type": "code",
   "execution_count": null,
   "id": "2934e301-a2a8-45b2-b426-5d5e95b4f16b",
   "metadata": {},
   "outputs": [],
   "source": [
    "#Setting torch environment\n",
    "if torch.cuda.is_available():\n",
    "    DEVICE = torch.device('cuda')\n",
    "else:\n",
    "    DEVICE = torch.device('cpu')\n",
    "    \n",
    "print('Using PyTorch version:', torch.__version__, ' Device: ', DEVICE)"
   ]
  },
  {
   "cell_type": "code",
   "execution_count": null,
   "id": "4bc87035-f18f-4518-a63f-f3f0b1d0cf5b",
   "metadata": {},
   "outputs": [],
   "source": []
  },
  {
   "cell_type": "code",
   "execution_count": null,
   "id": "3077178a-5e12-4eaf-9ffa-96c33f13b8a2",
   "metadata": {},
   "outputs": [],
   "source": []
  }
 ],
 "metadata": {
  "kernelspec": {
   "display_name": "Python 3",
   "language": "python",
   "name": "python3"
  },
  "language_info": {
   "codemirror_mode": {
    "name": "ipython",
    "version": 3
   },
   "file_extension": ".py",
   "mimetype": "text/x-python",
   "name": "python",
   "nbconvert_exporter": "python",
   "pygments_lexer": "ipython3",
   "version": "3.8.10"
  }
 },
 "nbformat": 4,
 "nbformat_minor": 5
}
