{
 "cells": [
  {
   "cell_type": "markdown",
   "id": "dbbe02d2-f07c-42d0-b8d7-44e074cf1919",
   "metadata": {},
   "source": [
    "# Data Augmentation for Medical Datasets"
   ]
  },
  {
   "cell_type": "markdown",
   "id": "c2f8bacf-9e16-435f-80a4-52d2a2975e90",
   "metadata": {},
   "source": [
    "> This script is for medical data augmentation. \\\n",
    "> All algorithms are final organized version."
   ]
  },
  {
   "cell_type": "markdown",
   "id": "d337a3c0-e993-4e33-8d8b-88ec3abefa6a",
   "metadata": {},
   "source": [
    "## Packages"
   ]
  },
  {
   "cell_type": "code",
   "execution_count": 2,
   "id": "81f868f5-8196-43c3-8727-96dd6c8bd82f",
   "metadata": {
    "tags": []
   },
   "outputs": [],
   "source": [
    "import os\n",
    "import time\n",
    "# import shap ## for XAI\n",
    "import numpy as np\n",
    "import pandas as pd\n",
    "import seaborn as sns\n",
    "import tensorflow as tf\n",
    "# import pingouin as pg\n",
    "import matplotlib.pyplot as plt\n",
    "import sklearn.metrics as metrics"
   ]
  },
  {
   "cell_type": "code",
   "execution_count": 3,
   "id": "94289e47-e290-45de-8ccd-78fb1d3ca405",
   "metadata": {},
   "outputs": [],
   "source": [
    "from numpy import dot\n",
    "from numpy.linalg import norm\n",
    "\n",
    "from keras.models import Sequential\n",
    "from keras.layers import Dense , Dropout , Lambda, Flatten\n",
    "from keras.layers import Dense , Activation, Dropout, BatchNormalization\n",
    "from keras.optimizers import Adam ,RMSprop\n",
    "from keras.callbacks import Callback\n",
    "\n",
    "from scipy.special import rel_entr\n",
    "from scipy.stats import gaussian_kde\n",
    "from scipy.spatial.distance import jensenshannon\n",
    "\n",
    "from sklearn.model_selection import train_test_split, StratifiedKFold, KFold, ParameterGrid\n",
    "from sklearn import decomposition\n",
    "from sklearn.cluster import KMeans\n",
    "from sklearn.metrics import accuracy_score, cohen_kappa_score, f1_score, confusion_matrix, roc_auc_score, classification_report, precision_score, recall_score\n",
    "from sklearn.inspection import permutation_importance\n",
    "from sklearn.preprocessing import Normalizer, MinMaxScaler, RobustScaler, StandardScaler\n",
    "from sklearn.manifold import TSNE\n",
    "from sklearn.impute import KNNImputer\n",
    "\n",
    "from tensorflow.keras.utils import to_categorical\n",
    "from tensorflow import keras\n",
    "from tensorflow.keras.callbacks import LearningRateScheduler, EarlyStopping, ReduceLROnPlateau\n",
    "from tensorflow.keras.layers import Input, Concatenate, Dense, Lambda, Conv1D, Flatten, Reshape, UpSampling1D, MaxPooling1D, concatenate, Layer\n",
    "from tensorflow.keras.models import Model\n",
    "from tensorflow.keras import layers, models, backend as K\n",
    "from tensorflow.keras.losses import mse, MeanSquaredError, CategoricalCrossentropy \n",
    "from tensorflow.python.client import device_lib"
   ]
  },
  {
   "cell_type": "code",
   "execution_count": 4,
   "id": "a1008403-ca19-4eb7-a7ad-a8306641badd",
   "metadata": {},
   "outputs": [],
   "source": [
    "scaler = MinMaxScaler() #set the scaler (between 0 and 1)\n",
    "# scaler = RobustScaler()"
   ]
  },
  {
   "cell_type": "code",
   "execution_count": 14,
   "id": "d593e63b-4c7b-4e47-9099-5656342b4601",
   "metadata": {},
   "outputs": [],
   "source": [
    "from imblearn.over_sampling import SMOTE\n",
    "from imblearn.under_sampling import RandomUnderSampler\n",
    "from imblearn.over_sampling import RandomOverSampler\n",
    "from imblearn.over_sampling import KMeansSMOTE\n",
    "from collections import Counter"
   ]
  },
  {
   "cell_type": "code",
   "execution_count": 131,
   "id": "801ca588-7405-403e-8124-8de67f1f8eb5",
   "metadata": {},
   "outputs": [],
   "source": [
    "import torch\n",
    "import torch.nn as nn\n",
    "import torch.nn.functional as F\n",
    "from torch.utils.data import Dataset, DataLoader"
   ]
  },
  {
   "cell_type": "code",
   "execution_count": 16,
   "id": "4dfd656d-59d9-40af-8e87-7a67763ec320",
   "metadata": {},
   "outputs": [
    {
     "name": "stdout",
     "output_type": "stream",
     "text": [
      "cuda\n"
     ]
    }
   ],
   "source": [
    "device = torch.device('cuda' if torch.cuda.is_available() else 'cpu')\n",
    "print(device)"
   ]
  },
  {
   "cell_type": "code",
   "execution_count": null,
   "id": "2c66f6a5-011b-4623-9c66-730738e89794",
   "metadata": {},
   "outputs": [],
   "source": []
  },
  {
   "cell_type": "markdown",
   "id": "3baa73e4-2940-4199-a2fb-910202b6cee5",
   "metadata": {},
   "source": [
    "***"
   ]
  },
  {
   "cell_type": "markdown",
   "id": "54a06fd5-2429-47b5-a08c-56b4424fbffa",
   "metadata": {},
   "source": [
    "## Dataset"
   ]
  },
  {
   "cell_type": "markdown",
   "id": "db8a6e46-b365-4056-8fc6-81821fb6a031",
   "metadata": {},
   "source": [
    "> We will apply various types/domains medical dataset. \\\n",
    "> It includes public dataset and even own collected medical datasets."
   ]
  },
  {
   "cell_type": "markdown",
   "id": "eb766456-20cd-4775-8312-09b6b1dd2da8",
   "metadata": {},
   "source": [
    "###  dataset check"
   ]
  },
  {
   "cell_type": "code",
   "execution_count": 58,
   "id": "3be33413-57d8-4f08-90e4-e5077476721c",
   "metadata": {},
   "outputs": [],
   "source": [
    "data_ori = pd.read_csv('E:/RESEARCH/Datasets/dissertation/heart_disease.csv') ## heart disease public dataset"
   ]
  },
  {
   "cell_type": "code",
   "execution_count": 59,
   "id": "a0f9603c-7c7b-4cde-b88d-a5bbd65edfde",
   "metadata": {},
   "outputs": [
    {
     "name": "stdout",
     "output_type": "stream",
     "text": [
      "The shape of the original dataset is: (1025, 14)\n"
     ]
    },
    {
     "data": {
      "text/html": [
       "<div>\n",
       "<style scoped>\n",
       "    .dataframe tbody tr th:only-of-type {\n",
       "        vertical-align: middle;\n",
       "    }\n",
       "\n",
       "    .dataframe tbody tr th {\n",
       "        vertical-align: top;\n",
       "    }\n",
       "\n",
       "    .dataframe thead th {\n",
       "        text-align: right;\n",
       "    }\n",
       "</style>\n",
       "<table border=\"1\" class=\"dataframe\">\n",
       "  <thead>\n",
       "    <tr style=\"text-align: right;\">\n",
       "      <th></th>\n",
       "      <th>age</th>\n",
       "      <th>sex</th>\n",
       "      <th>cp</th>\n",
       "      <th>trestbps</th>\n",
       "      <th>chol</th>\n",
       "      <th>fbs</th>\n",
       "      <th>restecg</th>\n",
       "      <th>thalach</th>\n",
       "      <th>exang</th>\n",
       "      <th>oldpeak</th>\n",
       "      <th>slope</th>\n",
       "      <th>ca</th>\n",
       "      <th>thal</th>\n",
       "      <th>target</th>\n",
       "    </tr>\n",
       "  </thead>\n",
       "  <tbody>\n",
       "    <tr>\n",
       "      <th>0</th>\n",
       "      <td>52</td>\n",
       "      <td>1</td>\n",
       "      <td>0</td>\n",
       "      <td>125</td>\n",
       "      <td>212</td>\n",
       "      <td>0</td>\n",
       "      <td>1</td>\n",
       "      <td>168</td>\n",
       "      <td>0</td>\n",
       "      <td>1.0</td>\n",
       "      <td>2</td>\n",
       "      <td>2</td>\n",
       "      <td>3</td>\n",
       "      <td>0</td>\n",
       "    </tr>\n",
       "    <tr>\n",
       "      <th>1</th>\n",
       "      <td>53</td>\n",
       "      <td>1</td>\n",
       "      <td>0</td>\n",
       "      <td>140</td>\n",
       "      <td>203</td>\n",
       "      <td>1</td>\n",
       "      <td>0</td>\n",
       "      <td>155</td>\n",
       "      <td>1</td>\n",
       "      <td>3.1</td>\n",
       "      <td>0</td>\n",
       "      <td>0</td>\n",
       "      <td>3</td>\n",
       "      <td>0</td>\n",
       "    </tr>\n",
       "    <tr>\n",
       "      <th>2</th>\n",
       "      <td>70</td>\n",
       "      <td>1</td>\n",
       "      <td>0</td>\n",
       "      <td>145</td>\n",
       "      <td>174</td>\n",
       "      <td>0</td>\n",
       "      <td>1</td>\n",
       "      <td>125</td>\n",
       "      <td>1</td>\n",
       "      <td>2.6</td>\n",
       "      <td>0</td>\n",
       "      <td>0</td>\n",
       "      <td>3</td>\n",
       "      <td>0</td>\n",
       "    </tr>\n",
       "    <tr>\n",
       "      <th>3</th>\n",
       "      <td>61</td>\n",
       "      <td>1</td>\n",
       "      <td>0</td>\n",
       "      <td>148</td>\n",
       "      <td>203</td>\n",
       "      <td>0</td>\n",
       "      <td>1</td>\n",
       "      <td>161</td>\n",
       "      <td>0</td>\n",
       "      <td>0.0</td>\n",
       "      <td>2</td>\n",
       "      <td>1</td>\n",
       "      <td>3</td>\n",
       "      <td>0</td>\n",
       "    </tr>\n",
       "    <tr>\n",
       "      <th>4</th>\n",
       "      <td>62</td>\n",
       "      <td>0</td>\n",
       "      <td>0</td>\n",
       "      <td>138</td>\n",
       "      <td>294</td>\n",
       "      <td>1</td>\n",
       "      <td>1</td>\n",
       "      <td>106</td>\n",
       "      <td>0</td>\n",
       "      <td>1.9</td>\n",
       "      <td>1</td>\n",
       "      <td>3</td>\n",
       "      <td>2</td>\n",
       "      <td>0</td>\n",
       "    </tr>\n",
       "  </tbody>\n",
       "</table>\n",
       "</div>"
      ],
      "text/plain": [
       "   age  sex  cp  trestbps  chol  fbs  restecg  thalach  exang  oldpeak  slope  \\\n",
       "0   52    1   0       125   212    0        1      168      0      1.0      2   \n",
       "1   53    1   0       140   203    1        0      155      1      3.1      0   \n",
       "2   70    1   0       145   174    0        1      125      1      2.6      0   \n",
       "3   61    1   0       148   203    0        1      161      0      0.0      2   \n",
       "4   62    0   0       138   294    1        1      106      0      1.9      1   \n",
       "\n",
       "   ca  thal  target  \n",
       "0   2     3       0  \n",
       "1   0     3       0  \n",
       "2   0     3       0  \n",
       "3   1     3       0  \n",
       "4   3     2       0  "
      ]
     },
     "execution_count": 59,
     "metadata": {},
     "output_type": "execute_result"
    }
   ],
   "source": [
    "print(f\"The shape of the original dataset is: {data_ori.shape}\")\n",
    "data_ori.head()"
   ]
  },
  {
   "cell_type": "code",
   "execution_count": 60,
   "id": "edd72eaf-0729-4616-8d44-af16bff35db7",
   "metadata": {},
   "outputs": [
    {
     "data": {
      "text/plain": [
       "Index(['age', 'sex', 'cp', 'trestbps', 'chol', 'fbs', 'restecg', 'thalach',\n",
       "       'exang', 'oldpeak', 'slope', 'ca', 'thal', 'target'],\n",
       "      dtype='object')"
      ]
     },
     "execution_count": 60,
     "metadata": {},
     "output_type": "execute_result"
    }
   ],
   "source": [
    "data_ori.columns"
   ]
  },
  {
   "cell_type": "code",
   "execution_count": 61,
   "id": "8a758f4c-df78-4a97-b408-0094b45ef6bf",
   "metadata": {},
   "outputs": [],
   "source": [
    "data_B = data_ori[data_ori['target']==0]\n",
    "data_M = data_ori[data_ori['target']==1]"
   ]
  },
  {
   "cell_type": "code",
   "execution_count": 62,
   "id": "34878d6f-342c-42b8-80da-4e83e914a807",
   "metadata": {},
   "outputs": [],
   "source": [
    "sample_B = data_B.sample(n=260, random_state=710674)\n",
    "sample_M = data_M.sample(n=526, random_state=710674)\n",
    "\n",
    "# 두 샘플을 합쳐서 최종 데이터프레임 구성\n",
    "data_sampled = pd.concat([sample_B, sample_M])"
   ]
  },
  {
   "cell_type": "code",
   "execution_count": 63,
   "id": "3822d40b-1f19-4deb-9893-0954067064e4",
   "metadata": {},
   "outputs": [
    {
     "data": {
      "text/html": [
       "<div>\n",
       "<style scoped>\n",
       "    .dataframe tbody tr th:only-of-type {\n",
       "        vertical-align: middle;\n",
       "    }\n",
       "\n",
       "    .dataframe tbody tr th {\n",
       "        vertical-align: top;\n",
       "    }\n",
       "\n",
       "    .dataframe thead th {\n",
       "        text-align: right;\n",
       "    }\n",
       "</style>\n",
       "<table border=\"1\" class=\"dataframe\">\n",
       "  <thead>\n",
       "    <tr style=\"text-align: right;\">\n",
       "      <th></th>\n",
       "      <th>age</th>\n",
       "      <th>sex</th>\n",
       "      <th>cp</th>\n",
       "      <th>trestbps</th>\n",
       "      <th>chol</th>\n",
       "      <th>fbs</th>\n",
       "      <th>restecg</th>\n",
       "      <th>thalach</th>\n",
       "      <th>exang</th>\n",
       "      <th>oldpeak</th>\n",
       "      <th>slope</th>\n",
       "      <th>ca</th>\n",
       "      <th>thal</th>\n",
       "      <th>target</th>\n",
       "    </tr>\n",
       "  </thead>\n",
       "  <tbody>\n",
       "    <tr>\n",
       "      <th>878</th>\n",
       "      <td>54</td>\n",
       "      <td>1</td>\n",
       "      <td>0</td>\n",
       "      <td>120</td>\n",
       "      <td>188</td>\n",
       "      <td>0</td>\n",
       "      <td>1</td>\n",
       "      <td>113</td>\n",
       "      <td>0</td>\n",
       "      <td>1.4</td>\n",
       "      <td>1</td>\n",
       "      <td>1</td>\n",
       "      <td>3</td>\n",
       "      <td>0</td>\n",
       "    </tr>\n",
       "    <tr>\n",
       "      <th>370</th>\n",
       "      <td>43</td>\n",
       "      <td>0</td>\n",
       "      <td>0</td>\n",
       "      <td>132</td>\n",
       "      <td>341</td>\n",
       "      <td>1</td>\n",
       "      <td>0</td>\n",
       "      <td>136</td>\n",
       "      <td>1</td>\n",
       "      <td>3.0</td>\n",
       "      <td>1</td>\n",
       "      <td>0</td>\n",
       "      <td>3</td>\n",
       "      <td>0</td>\n",
       "    </tr>\n",
       "    <tr>\n",
       "      <th>349</th>\n",
       "      <td>62</td>\n",
       "      <td>0</td>\n",
       "      <td>2</td>\n",
       "      <td>130</td>\n",
       "      <td>263</td>\n",
       "      <td>0</td>\n",
       "      <td>1</td>\n",
       "      <td>97</td>\n",
       "      <td>0</td>\n",
       "      <td>1.2</td>\n",
       "      <td>1</td>\n",
       "      <td>1</td>\n",
       "      <td>3</td>\n",
       "      <td>0</td>\n",
       "    </tr>\n",
       "    <tr>\n",
       "      <th>600</th>\n",
       "      <td>62</td>\n",
       "      <td>0</td>\n",
       "      <td>2</td>\n",
       "      <td>130</td>\n",
       "      <td>263</td>\n",
       "      <td>0</td>\n",
       "      <td>1</td>\n",
       "      <td>97</td>\n",
       "      <td>0</td>\n",
       "      <td>1.2</td>\n",
       "      <td>1</td>\n",
       "      <td>1</td>\n",
       "      <td>3</td>\n",
       "      <td>0</td>\n",
       "    </tr>\n",
       "    <tr>\n",
       "      <th>429</th>\n",
       "      <td>47</td>\n",
       "      <td>1</td>\n",
       "      <td>2</td>\n",
       "      <td>108</td>\n",
       "      <td>243</td>\n",
       "      <td>0</td>\n",
       "      <td>1</td>\n",
       "      <td>152</td>\n",
       "      <td>0</td>\n",
       "      <td>0.0</td>\n",
       "      <td>2</td>\n",
       "      <td>0</td>\n",
       "      <td>2</td>\n",
       "      <td>0</td>\n",
       "    </tr>\n",
       "  </tbody>\n",
       "</table>\n",
       "</div>"
      ],
      "text/plain": [
       "     age  sex  cp  trestbps  chol  fbs  restecg  thalach  exang  oldpeak  \\\n",
       "878   54    1   0       120   188    0        1      113      0      1.4   \n",
       "370   43    0   0       132   341    1        0      136      1      3.0   \n",
       "349   62    0   2       130   263    0        1       97      0      1.2   \n",
       "600   62    0   2       130   263    0        1       97      0      1.2   \n",
       "429   47    1   2       108   243    0        1      152      0      0.0   \n",
       "\n",
       "     slope  ca  thal  target  \n",
       "878      1   1     3       0  \n",
       "370      1   0     3       0  \n",
       "349      1   1     3       0  \n",
       "600      1   1     3       0  \n",
       "429      2   0     2       0  "
      ]
     },
     "execution_count": 63,
     "metadata": {},
     "output_type": "execute_result"
    }
   ],
   "source": [
    "data_sampled.head()"
   ]
  },
  {
   "cell_type": "code",
   "execution_count": 64,
   "id": "9715d08f-b4e0-497e-b6a2-9a1500bfe77b",
   "metadata": {},
   "outputs": [],
   "source": [
    "data_ori = data_sampled.copy()"
   ]
  },
  {
   "cell_type": "code",
   "execution_count": null,
   "id": "c9a6ab6c-2dd0-46ee-83ca-d03b62b1c3e0",
   "metadata": {},
   "outputs": [],
   "source": []
  },
  {
   "cell_type": "code",
   "execution_count": 65,
   "id": "0b75c66d-4af3-41b0-bd65-9d6b2ea2221c",
   "metadata": {},
   "outputs": [
    {
     "data": {
      "text/plain": [
       "target\n",
       "1    526\n",
       "0    260\n",
       "Name: count, dtype: int64"
      ]
     },
     "execution_count": 65,
     "metadata": {},
     "output_type": "execute_result"
    }
   ],
   "source": [
    "data_ori['target'].value_counts()"
   ]
  },
  {
   "cell_type": "code",
   "execution_count": 66,
   "id": "10da323b-5b45-48cc-8af3-3c143dfc6549",
   "metadata": {},
   "outputs": [
    {
     "data": {
      "text/plain": [
       "target  sex\n",
       "0       1      214\n",
       "        0       46\n",
       "1       1      300\n",
       "        0      226\n",
       "Name: count, dtype: int64"
      ]
     },
     "execution_count": 66,
     "metadata": {},
     "output_type": "execute_result"
    }
   ],
   "source": [
    "data_ori.groupby('target')['sex'].value_counts()"
   ]
  },
  {
   "cell_type": "code",
   "execution_count": 67,
   "id": "1e31f959-123a-470b-991c-9abf983da3fc",
   "metadata": {},
   "outputs": [],
   "source": [
    "# 최소값과 최대값을 확인\n",
    "min_age = data_ori['age'].min()\n",
    "max_age = data_ori['age'].max()\n",
    "\n",
    "# 연령 구간을 10살씩 끊어서 정의\n",
    "age_bins = list(range(min_age // 10 * 10, max_age + 10, 10))  # 10살 간격으로 구간 정의\n",
    "age_labels = [f\"({i}, {i+10}]\" for i in age_bins[:-1]]  # 구간 레이블 생성\n",
    "\n",
    "# pd.cut()을 사용하여 연령을 구간별로 그룹화\n",
    "data_ori['age_group'] = pd.cut(data_ori['age'], bins=age_bins, labels=age_labels, right=False)\n",
    "\n",
    "# age_group을 카테고리형 변수로 변환하고 코드화 (0부터 시작)\n",
    "data_ori['age_enc'] = pd.Categorical(data_ori['age_group']).codes"
   ]
  },
  {
   "cell_type": "code",
   "execution_count": 68,
   "id": "8b2e261e-729d-4e76-a523-2c0a40486fef",
   "metadata": {},
   "outputs": [
    {
     "data": {
      "text/plain": [
       "age_group\n",
       "(50, 60]    320\n",
       "(40, 50]    198\n",
       "(60, 70]    189\n",
       "(30, 40]     48\n",
       "(70, 80]     27\n",
       "(20, 30]      4\n",
       "Name: count, dtype: int64"
      ]
     },
     "execution_count": 68,
     "metadata": {},
     "output_type": "execute_result"
    }
   ],
   "source": [
    "data_ori.age_group.value_counts()"
   ]
  },
  {
   "cell_type": "code",
   "execution_count": 69,
   "id": "8d903cf0-36c0-4655-b6df-54f75db0aa78",
   "metadata": {},
   "outputs": [
    {
     "data": {
      "text/plain": [
       "target  age_group\n",
       "0       (50, 60]     114\n",
       "        (60, 70]      88\n",
       "        (40, 50]      41\n",
       "        (30, 40]      10\n",
       "        (70, 80]       7\n",
       "        (20, 30]       0\n",
       "1       (50, 60]     206\n",
       "        (40, 50]     157\n",
       "        (60, 70]     101\n",
       "        (30, 40]      38\n",
       "        (70, 80]      20\n",
       "        (20, 30]       4\n",
       "Name: count, dtype: int64"
      ]
     },
     "execution_count": 69,
     "metadata": {},
     "output_type": "execute_result"
    }
   ],
   "source": [
    "data_ori.groupby('target')['age_group'].value_counts()"
   ]
  },
  {
   "cell_type": "code",
   "execution_count": 70,
   "id": "4c65b069-7feb-431a-afaf-d1c37f6d06ae",
   "metadata": {},
   "outputs": [
    {
     "data": {
      "text/html": [
       "<div>\n",
       "<style scoped>\n",
       "    .dataframe tbody tr th:only-of-type {\n",
       "        vertical-align: middle;\n",
       "    }\n",
       "\n",
       "    .dataframe tbody tr th {\n",
       "        vertical-align: top;\n",
       "    }\n",
       "\n",
       "    .dataframe thead th {\n",
       "        text-align: right;\n",
       "    }\n",
       "</style>\n",
       "<table border=\"1\" class=\"dataframe\">\n",
       "  <thead>\n",
       "    <tr style=\"text-align: right;\">\n",
       "      <th></th>\n",
       "      <th>age</th>\n",
       "      <th>sex</th>\n",
       "      <th>cp</th>\n",
       "      <th>trestbps</th>\n",
       "      <th>chol</th>\n",
       "      <th>fbs</th>\n",
       "      <th>restecg</th>\n",
       "      <th>thalach</th>\n",
       "      <th>exang</th>\n",
       "      <th>oldpeak</th>\n",
       "      <th>slope</th>\n",
       "      <th>ca</th>\n",
       "      <th>thal</th>\n",
       "      <th>target</th>\n",
       "      <th>age_group</th>\n",
       "      <th>age_enc</th>\n",
       "    </tr>\n",
       "  </thead>\n",
       "  <tbody>\n",
       "    <tr>\n",
       "      <th>878</th>\n",
       "      <td>54</td>\n",
       "      <td>1</td>\n",
       "      <td>0</td>\n",
       "      <td>120</td>\n",
       "      <td>188</td>\n",
       "      <td>0</td>\n",
       "      <td>1</td>\n",
       "      <td>113</td>\n",
       "      <td>0</td>\n",
       "      <td>1.4</td>\n",
       "      <td>1</td>\n",
       "      <td>1</td>\n",
       "      <td>3</td>\n",
       "      <td>0</td>\n",
       "      <td>(50, 60]</td>\n",
       "      <td>3</td>\n",
       "    </tr>\n",
       "    <tr>\n",
       "      <th>370</th>\n",
       "      <td>43</td>\n",
       "      <td>0</td>\n",
       "      <td>0</td>\n",
       "      <td>132</td>\n",
       "      <td>341</td>\n",
       "      <td>1</td>\n",
       "      <td>0</td>\n",
       "      <td>136</td>\n",
       "      <td>1</td>\n",
       "      <td>3.0</td>\n",
       "      <td>1</td>\n",
       "      <td>0</td>\n",
       "      <td>3</td>\n",
       "      <td>0</td>\n",
       "      <td>(40, 50]</td>\n",
       "      <td>2</td>\n",
       "    </tr>\n",
       "    <tr>\n",
       "      <th>349</th>\n",
       "      <td>62</td>\n",
       "      <td>0</td>\n",
       "      <td>2</td>\n",
       "      <td>130</td>\n",
       "      <td>263</td>\n",
       "      <td>0</td>\n",
       "      <td>1</td>\n",
       "      <td>97</td>\n",
       "      <td>0</td>\n",
       "      <td>1.2</td>\n",
       "      <td>1</td>\n",
       "      <td>1</td>\n",
       "      <td>3</td>\n",
       "      <td>0</td>\n",
       "      <td>(60, 70]</td>\n",
       "      <td>4</td>\n",
       "    </tr>\n",
       "    <tr>\n",
       "      <th>600</th>\n",
       "      <td>62</td>\n",
       "      <td>0</td>\n",
       "      <td>2</td>\n",
       "      <td>130</td>\n",
       "      <td>263</td>\n",
       "      <td>0</td>\n",
       "      <td>1</td>\n",
       "      <td>97</td>\n",
       "      <td>0</td>\n",
       "      <td>1.2</td>\n",
       "      <td>1</td>\n",
       "      <td>1</td>\n",
       "      <td>3</td>\n",
       "      <td>0</td>\n",
       "      <td>(60, 70]</td>\n",
       "      <td>4</td>\n",
       "    </tr>\n",
       "    <tr>\n",
       "      <th>429</th>\n",
       "      <td>47</td>\n",
       "      <td>1</td>\n",
       "      <td>2</td>\n",
       "      <td>108</td>\n",
       "      <td>243</td>\n",
       "      <td>0</td>\n",
       "      <td>1</td>\n",
       "      <td>152</td>\n",
       "      <td>0</td>\n",
       "      <td>0.0</td>\n",
       "      <td>2</td>\n",
       "      <td>0</td>\n",
       "      <td>2</td>\n",
       "      <td>0</td>\n",
       "      <td>(40, 50]</td>\n",
       "      <td>2</td>\n",
       "    </tr>\n",
       "  </tbody>\n",
       "</table>\n",
       "</div>"
      ],
      "text/plain": [
       "     age  sex  cp  trestbps  chol  fbs  restecg  thalach  exang  oldpeak  \\\n",
       "878   54    1   0       120   188    0        1      113      0      1.4   \n",
       "370   43    0   0       132   341    1        0      136      1      3.0   \n",
       "349   62    0   2       130   263    0        1       97      0      1.2   \n",
       "600   62    0   2       130   263    0        1       97      0      1.2   \n",
       "429   47    1   2       108   243    0        1      152      0      0.0   \n",
       "\n",
       "     slope  ca  thal  target age_group  age_enc  \n",
       "878      1   1     3       0  (50, 60]        3  \n",
       "370      1   0     3       0  (40, 50]        2  \n",
       "349      1   1     3       0  (60, 70]        4  \n",
       "600      1   1     3       0  (60, 70]        4  \n",
       "429      2   0     2       0  (40, 50]        2  "
      ]
     },
     "execution_count": 70,
     "metadata": {},
     "output_type": "execute_result"
    }
   ],
   "source": [
    "data_ori.head()"
   ]
  },
  {
   "cell_type": "markdown",
   "id": "26a2b9ad-b630-4750-90f3-569b1ba3a033",
   "metadata": {},
   "source": [
    "### Unnecessary feature elimination"
   ]
  },
  {
   "cell_type": "markdown",
   "id": "e91477bc-28f8-4f10-8364-61e6e80f7f37",
   "metadata": {},
   "source": [
    "> Unnecessary features varies according to the analysis purpose. \\\n",
    "> Researcher should provide research goal or purpose of the augmentation model."
   ]
  },
  {
   "cell_type": "code",
   "execution_count": 71,
   "id": "ba7ec94e-fc01-442a-a1ed-e3740e461d5d",
   "metadata": {},
   "outputs": [],
   "source": [
    "# drop_list = ['age_group']\n",
    "# data_ori = data_ori.drop(drop_list, axis = 1 )"
   ]
  },
  {
   "cell_type": "code",
   "execution_count": 45,
   "id": "519068f2-08bf-4d5b-91de-5703c58d6b68",
   "metadata": {},
   "outputs": [
    {
     "data": {
      "text/html": [
       "<div>\n",
       "<style scoped>\n",
       "    .dataframe tbody tr th:only-of-type {\n",
       "        vertical-align: middle;\n",
       "    }\n",
       "\n",
       "    .dataframe tbody tr th {\n",
       "        vertical-align: top;\n",
       "    }\n",
       "\n",
       "    .dataframe thead th {\n",
       "        text-align: right;\n",
       "    }\n",
       "</style>\n",
       "<table border=\"1\" class=\"dataframe\">\n",
       "  <thead>\n",
       "    <tr style=\"text-align: right;\">\n",
       "      <th></th>\n",
       "      <th>age</th>\n",
       "      <th>sex</th>\n",
       "      <th>cp</th>\n",
       "      <th>trestbps</th>\n",
       "      <th>chol</th>\n",
       "      <th>fbs</th>\n",
       "      <th>restecg</th>\n",
       "      <th>thalach</th>\n",
       "      <th>exang</th>\n",
       "      <th>oldpeak</th>\n",
       "      <th>slope</th>\n",
       "      <th>ca</th>\n",
       "      <th>thal</th>\n",
       "      <th>target</th>\n",
       "    </tr>\n",
       "  </thead>\n",
       "  <tbody>\n",
       "    <tr>\n",
       "      <th>878</th>\n",
       "      <td>54</td>\n",
       "      <td>1</td>\n",
       "      <td>0</td>\n",
       "      <td>120</td>\n",
       "      <td>188</td>\n",
       "      <td>0</td>\n",
       "      <td>1</td>\n",
       "      <td>113</td>\n",
       "      <td>0</td>\n",
       "      <td>1.4</td>\n",
       "      <td>1</td>\n",
       "      <td>1</td>\n",
       "      <td>3</td>\n",
       "      <td>0</td>\n",
       "    </tr>\n",
       "    <tr>\n",
       "      <th>370</th>\n",
       "      <td>43</td>\n",
       "      <td>0</td>\n",
       "      <td>0</td>\n",
       "      <td>132</td>\n",
       "      <td>341</td>\n",
       "      <td>1</td>\n",
       "      <td>0</td>\n",
       "      <td>136</td>\n",
       "      <td>1</td>\n",
       "      <td>3.0</td>\n",
       "      <td>1</td>\n",
       "      <td>0</td>\n",
       "      <td>3</td>\n",
       "      <td>0</td>\n",
       "    </tr>\n",
       "    <tr>\n",
       "      <th>349</th>\n",
       "      <td>62</td>\n",
       "      <td>0</td>\n",
       "      <td>2</td>\n",
       "      <td>130</td>\n",
       "      <td>263</td>\n",
       "      <td>0</td>\n",
       "      <td>1</td>\n",
       "      <td>97</td>\n",
       "      <td>0</td>\n",
       "      <td>1.2</td>\n",
       "      <td>1</td>\n",
       "      <td>1</td>\n",
       "      <td>3</td>\n",
       "      <td>0</td>\n",
       "    </tr>\n",
       "    <tr>\n",
       "      <th>600</th>\n",
       "      <td>62</td>\n",
       "      <td>0</td>\n",
       "      <td>2</td>\n",
       "      <td>130</td>\n",
       "      <td>263</td>\n",
       "      <td>0</td>\n",
       "      <td>1</td>\n",
       "      <td>97</td>\n",
       "      <td>0</td>\n",
       "      <td>1.2</td>\n",
       "      <td>1</td>\n",
       "      <td>1</td>\n",
       "      <td>3</td>\n",
       "      <td>0</td>\n",
       "    </tr>\n",
       "    <tr>\n",
       "      <th>429</th>\n",
       "      <td>47</td>\n",
       "      <td>1</td>\n",
       "      <td>2</td>\n",
       "      <td>108</td>\n",
       "      <td>243</td>\n",
       "      <td>0</td>\n",
       "      <td>1</td>\n",
       "      <td>152</td>\n",
       "      <td>0</td>\n",
       "      <td>0.0</td>\n",
       "      <td>2</td>\n",
       "      <td>0</td>\n",
       "      <td>2</td>\n",
       "      <td>0</td>\n",
       "    </tr>\n",
       "  </tbody>\n",
       "</table>\n",
       "</div>"
      ],
      "text/plain": [
       "     age  sex  cp  trestbps  chol  fbs  restecg  thalach  exang  oldpeak  \\\n",
       "878   54    1   0       120   188    0        1      113      0      1.4   \n",
       "370   43    0   0       132   341    1        0      136      1      3.0   \n",
       "349   62    0   2       130   263    0        1       97      0      1.2   \n",
       "600   62    0   2       130   263    0        1       97      0      1.2   \n",
       "429   47    1   2       108   243    0        1      152      0      0.0   \n",
       "\n",
       "     slope  ca  thal  target  \n",
       "878      1   1     3       0  \n",
       "370      1   0     3       0  \n",
       "349      1   1     3       0  \n",
       "600      1   1     3       0  \n",
       "429      2   0     2       0  "
      ]
     },
     "execution_count": 45,
     "metadata": {},
     "output_type": "execute_result"
    }
   ],
   "source": [
    "data_ori.head()"
   ]
  },
  {
   "cell_type": "code",
   "execution_count": null,
   "id": "28ca6805-8dbb-4aea-9d78-96471c826394",
   "metadata": {},
   "outputs": [],
   "source": []
  },
  {
   "cell_type": "markdown",
   "id": "2b94d222-65b2-4b79-acf3-11856a9e4185",
   "metadata": {},
   "source": [
    "### Visualization (hierarchical imbalance)"
   ]
  },
  {
   "cell_type": "code",
   "execution_count": 73,
   "id": "99795798-2bc3-4c5b-aafd-e417540dd9e5",
   "metadata": {},
   "outputs": [
    {
     "data": {
      "text/plain": [
       "<Figure size 1000x700 with 0 Axes>"
      ]
     },
     "metadata": {},
     "output_type": "display_data"
    },
    {
     "data": {
      "image/png": "[encoded data removed]",
      "text/plain": [
       "<Figure size 1000x700 with 1 Axes>"
      ]
     },
     "metadata": {},
     "output_type": "display_data"
    }
   ],
   "source": [
    "# main_dx별 개수 계산\n",
    "main_dx_counts = data_ori['target'].value_counts()\n",
    "\n",
    "# main_dx별 성별 비율 계산 (성별이 'M'과 'F'로 나누어짐)\n",
    "gender_counts = data_ori.groupby(['target', 'sex']).size().unstack(fill_value=0)\n",
    "gender_ratio = gender_counts.div(gender_counts.sum(axis=1), axis=0)\n",
    "\n",
    "# main_dx별 연령대 비율 계산 (연령대별 비율 계산)\n",
    "age_counts = data_ori.groupby(['target', 'age_group']).size().unstack(fill_value=0)\n",
    "age_ratio = age_counts.div(age_counts.sum(axis=1), axis=0)\n",
    "\n",
    "# 그래프 크기 설정\n",
    "plt.figure(figsize=(10, 7))\n",
    "fig, ax = plt.subplots(figsize=(10, 7))\n",
    "sns.set_style(\"whitegrid\")\n",
    "plt.rcParams['font.family'] = 'Times New Roman'\n",
    "\n",
    "# x 위치 설정 (막대의 중심이 각 main_dx에 맞도록)\n",
    "x = range(len(main_dx_counts))\n",
    "\n",
    "# main_dx의 개수에 대한 막대 그리기\n",
    "bar_width = 0.15\n",
    "plt.bar(x, main_dx_counts.values, width=bar_width, label='Total Count', align='center')\n",
    "\n",
    "# 성별 비율에 대한 막대 그리기 (남성 비율, 여성 비율)\n",
    "male_height = gender_ratio.loc[main_dx_counts.index, 0] * main_dx_counts.values\n",
    "female_height = gender_ratio.loc[main_dx_counts.index, 1] * main_dx_counts.values\n",
    "plt.bar([i + bar_width for i in x], male_height, width=bar_width, label='Male Proportion', align='center')\n",
    "plt.bar([i + bar_width for i in x], female_height, bottom=male_height, width=bar_width, label='Female Proportion', align='center')\n",
    "\n",
    "# 연령대 비율에 대한 막대 그리기 (각 연령대에 대해 표시)\n",
    "age_bar_width = 0.15  # 연령대 막대 너비 설정\n",
    "bottoms = 0\n",
    "\n",
    "# 연령대별 막대 그리기\n",
    "for i, age_group in enumerate(age_ratio.columns):\n",
    "    age_height = age_ratio.loc[main_dx_counts.index, age_group] * main_dx_counts.values\n",
    "    plt.bar([i + bar_width*2 for i in x], age_height, width=age_bar_width, label=f'Age Group {age_group}', align='center', bottom=bottoms)\n",
    "    # 누적된 bottom 값 업데이트\n",
    "    bottoms += age_height\n",
    "\n",
    "# x축, y축, 레이블 설정\n",
    "plt.xlabel('Main Diagnosis')\n",
    "plt.ylabel('Frequency')\n",
    "\n",
    "# x축의 main_dx 이름을 세 개의 막대 중앙에 맞추기\n",
    "plt.xticks([i + bar_width for i in x], main_dx_counts.index, rotation=0)\n",
    "ax.set_xticklabels(['Heart Disease', 'Normal'])\n",
    "\n",
    "# Legend 이름 변경\n",
    "plt.legend()\n",
    "\n",
    "# 그래프 표시\n",
    "plt.tight_layout()\n",
    "plt.show()"
   ]
  },
  {
   "cell_type": "code",
   "execution_count": null,
   "id": "1dcc4d5d-5bd4-4be0-a0ec-a96a6dbbfd11",
   "metadata": {},
   "outputs": [],
   "source": []
  },
  {
   "cell_type": "code",
   "execution_count": null,
   "id": "85fb0187-511b-483b-a438-66690a4f94ee",
   "metadata": {},
   "outputs": [],
   "source": []
  },
  {
   "cell_type": "code",
   "execution_count": null,
   "id": "5bca3c4c-31af-412a-9eeb-b0faf08c7d08",
   "metadata": {},
   "outputs": [],
   "source": []
  },
  {
   "cell_type": "code",
   "execution_count": null,
   "id": "d6855f9f-f0fa-4697-bd3e-d7b8eb152d26",
   "metadata": {},
   "outputs": [],
   "source": []
  },
  {
   "cell_type": "markdown",
   "id": "3d1506d9-6202-4193-ae48-72373b68914c",
   "metadata": {},
   "source": [
    "### Hierarchical Imabalance Index (HII)"
   ]
  },
  {
   "cell_type": "code",
   "execution_count": 74,
   "id": "c66f18f7-b44c-4959-aea6-ef7ad87f49dd",
   "metadata": {},
   "outputs": [
    {
     "name": "stdout",
     "output_type": "stream",
     "text": [
      "0.25285171102661597\n",
      "0.23540856031128404\n",
      "0.590625\n",
      "Hierarchical Imbalance Index (HII): 0.45202705426757994\n"
     ]
    }
   ],
   "source": [
    "# data_ori는 이미 로드된 데이터프레임으로, target, gender, age_group 변수를 포함합니다\n",
    "\n",
    "# 계층 목록\n",
    "hierarchical_levels = ['target', 'sex', 'age_group']\n",
    "\n",
    "# HII 계산 함수\n",
    "def calculate_hii(data, levels):\n",
    "    total_classes = sum(data[level].nunique() for level in levels)  # 전체 클래스 수\n",
    "    hii = 0  # 최종 HII 값 초기화\n",
    "\n",
    "    # 각 계층에 대해 불균형도(IR)를 계산하고 가중치를 적용합니다.\n",
    "    for level in levels:\n",
    "        # 해당 계층의 클래스 빈도 계산\n",
    "        class_counts = data[level].value_counts()\n",
    "        max_class_count = class_counts.max()  # 계층 내 최대 클래스 빈도\n",
    "        num_classes = len(class_counts)  # 해당 계층의 클래스 수\n",
    "\n",
    "        # 계층 불균형도(IR) 계산\n",
    "        ir = sum(abs(count - max_class_count) for count in class_counts) / (num_classes * max_class_count)\n",
    "        print(ir)\n",
    "\n",
    "        # 계층 가중치 계산\n",
    "        weight = num_classes / total_classes\n",
    "\n",
    "        # HII에 가중치와 불균형도를 반영하여 더함\n",
    "        hii += weight * ir\n",
    "\n",
    "    return hii\n",
    "\n",
    "# HII 계산\n",
    "hii_value = calculate_hii(data_ori, hierarchical_levels)\n",
    "print(\"Hierarchical Imbalance Index (HII):\", hii_value)"
   ]
  },
  {
   "cell_type": "code",
   "execution_count": null,
   "id": "bb8b6438-e13c-4473-953e-2b0d45831bce",
   "metadata": {},
   "outputs": [],
   "source": []
  },
  {
   "cell_type": "markdown",
   "id": "15cf3c4a-69b5-407c-acf9-4ffbaad2b811",
   "metadata": {},
   "source": [
    "***"
   ]
  },
  {
   "cell_type": "markdown",
   "id": "e521ea15-8361-4286-90c2-aa615ad5009f",
   "metadata": {},
   "source": [
    "***"
   ]
  },
  {
   "cell_type": "markdown",
   "id": "ed9a03db-1c4e-4442-9d07-01a0892f106a",
   "metadata": {},
   "source": [
    "# Data Augmentations"
   ]
  },
  {
   "cell_type": "markdown",
   "id": "1fd75462-3abe-481f-b094-cf4822e61aa4",
   "metadata": {},
   "source": [
    "## dataset for model training"
   ]
  },
  {
   "cell_type": "code",
   "execution_count": null,
   "id": "2d713e98-ed10-430a-991f-d5040682527a",
   "metadata": {},
   "outputs": [],
   "source": [
    "data = data_ori.copy()"
   ]
  },
  {
   "cell_type": "code",
   "execution_count": null,
   "id": "6f6ba34d-7099-48a0-9b68-ab33da045022",
   "metadata": {},
   "outputs": [],
   "source": [
    "data.shape"
   ]
  },
  {
   "cell_type": "code",
   "execution_count": null,
   "id": "ccaa73b4-4e9e-4a92-b53a-6b778453f399",
   "metadata": {},
   "outputs": [],
   "source": [
    "data_vae = data.copy()\n",
    "# data_vae = data_B.copy()\n",
    "# data_vae = data_M.copy()"
   ]
  },
  {
   "cell_type": "code",
   "execution_count": null,
   "id": "79e5723f-0d43-4bcf-a000-14c3fe529ef9",
   "metadata": {},
   "outputs": [],
   "source": [
    "data.age_group.value_counts()"
   ]
  },
  {
   "cell_type": "markdown",
   "id": "9f60c2a0-6843-40c5-b1ce-009fed5713db",
   "metadata": {},
   "source": [
    "***"
   ]
  },
  {
   "cell_type": "markdown",
   "id": "83e8502d-7ac1-471a-bd42-c49fb6c07cd5",
   "metadata": {},
   "source": [
    "## Conditional Variational Autoencoder (CVAE)"
   ]
  },
  {
   "cell_type": "markdown",
   "id": "3338ef91-b6b7-4110-9753-317c1e116492",
   "metadata": {},
   "source": [
    "> Advantage of CVAE is adding label or more information to increase explainability."
   ]
  },
  {
   "cell_type": "code",
   "execution_count": null,
   "id": "caf4aeda-7bfa-4089-a0b0-ac53e6dc6453",
   "metadata": {},
   "outputs": [],
   "source": [
    "class Args_cvae:\n",
    "    # arugments\n",
    "    epochs=40\n",
    "    bs=32\n",
    "    lr=0.0001\n",
    "    momentum=0.9\n",
    "    num_classes= 2\n",
    "    latent_dim = 2\n",
    "    seed=710674\n",
    "\n",
    "args_cvae = Args_cvae()"
   ]
  },
  {
   "cell_type": "markdown",
   "id": "aa3359e5-1dc6-462e-8747-68036d0cf353",
   "metadata": {},
   "source": [
    "### preparing x, y dataset"
   ]
  },
  {
   "cell_type": "markdown",
   "id": "13c9b28b-67b6-4349-85d3-151f39b31ece",
   "metadata": {},
   "source": [
    "> Applying scaler on dataset prevents \"nan loss\" issue during VAE training"
   ]
  },
  {
   "cell_type": "code",
   "execution_count": null,
   "id": "1560281f-294a-4613-9d4d-6db797001d5b",
   "metadata": {},
   "outputs": [],
   "source": [
    "data_cvae = data.copy()\n",
    "data_cvae.columns"
   ]
  },
  {
   "cell_type": "code",
   "execution_count": null,
   "id": "6cae23c8-64cd-4b62-ad28-e328f0eb975d",
   "metadata": {},
   "outputs": [],
   "source": [
    "data_cvae['age_group_enc'] = pd.Categorical(data_cvae['age_group']).codes"
   ]
  },
  {
   "cell_type": "code",
   "execution_count": null,
   "id": "06629748-8b1a-4c2f-9fce-b41066fd270e",
   "metadata": {},
   "outputs": [],
   "source": [
    "data_cvae = data_cvae.drop(['age', 'age_group'], axis=1)"
   ]
  },
  {
   "cell_type": "code",
   "execution_count": null,
   "id": "c042caa1-7f0a-4fd4-b8d3-4ead4df3afdc",
   "metadata": {},
   "outputs": [],
   "source": [
    "x = data_cvae.drop(['target', 'age_group_enc', 'sex'], axis=1)\n",
    "x = x.fillna(x.mean()) ## filling na values with mean values (just drop the rows is also a possible option)\n",
    "y = data_cvae.target\n",
    "# c = data_cvae.loc[:,['age_group', 'sex']]"
   ]
  },
  {
   "cell_type": "code",
   "execution_count": null,
   "id": "3373d454-0934-4c6b-a891-7efbf122fff6",
   "metadata": {},
   "outputs": [],
   "source": [
    "condition1 = data_cvae['sex'].values  # First condition: sex\n",
    "condition2 =data_cvae['age_group_enc'].values  # Second condition: age_group\n",
    "condition3 = data_cvae['target'].values\n",
    "c = np.stack([condition1, condition2, condition3], axis=1)"
   ]
  },
  {
   "cell_type": "code",
   "execution_count": null,
   "id": "c20b8ba8-f35d-4115-bd52-51bf7cbc56a6",
   "metadata": {},
   "outputs": [],
   "source": [
    "data_cvae.age_group_enc.value_counts()"
   ]
  },
  {
   "cell_type": "code",
   "execution_count": null,
   "id": "da7bda3e-22ae-4e79-9f22-cf460a33f756",
   "metadata": {},
   "outputs": [],
   "source": [
    "# c"
   ]
  },
  {
   "cell_type": "code",
   "execution_count": null,
   "id": "16e808c9-7fa5-4d69-a9a8-6da6db93ca26",
   "metadata": {},
   "outputs": [],
   "source": [
    "data_x = x.copy()\n",
    "data_x[:] = (scaler.fit_transform(data_x[:])).round(decimals=6) ## scaling x values\n",
    "label = y.copy()\n",
    "# label = label.replace({'B':0})\n",
    "# label = label.replace({'M': 1})\n",
    "data_y = to_categorical(label, 2) ## into the format of one-hot encoding\n",
    "data_c = c.copy()"
   ]
  },
  {
   "cell_type": "code",
   "execution_count": null,
   "id": "70248eec-352f-41b7-b88e-040cf39bca38",
   "metadata": {},
   "outputs": [],
   "source": [
    "label.value_counts()"
   ]
  },
  {
   "cell_type": "code",
   "execution_count": null,
   "id": "0bd46fdc-40f8-40e0-a7bf-65b0cefff6ef",
   "metadata": {},
   "outputs": [],
   "source": [
    "print(\"The size of x dataset is:\", data_x.shape)\n",
    "print(\"The size of y dataset is:\", data_y.shape)\n",
    "print(\"The size of c dataset is:\", data_c.shape)"
   ]
  },
  {
   "cell_type": "code",
   "execution_count": null,
   "id": "671b9fc7-2b6a-41b3-a3fc-3863d3153f55",
   "metadata": {},
   "outputs": [],
   "source": []
  },
  {
   "cell_type": "markdown",
   "id": "a20cb35d-e150-4967-9e40-1ccd5b2f41e5",
   "metadata": {},
   "source": [
    "### CVAE model"
   ]
  },
  {
   "cell_type": "code",
   "execution_count": null,
   "id": "1d867cef-4c46-4926-a999-921c1380c17c",
   "metadata": {},
   "outputs": [],
   "source": [
    "class CVAE:\n",
    "    def __init__(self, input_dim, condition_dim, latent_dim):\n",
    "        self.input_dim = input_dim\n",
    "        self.condition_dim = condition_dim\n",
    "        self.latent_dim = latent_dim\n",
    "\n",
    "        # Encoder 및 Decoder 생성\n",
    "        self.encoder = self.build_encoder()\n",
    "        self.decoder = self.build_decoder()\n",
    "        self.cvae = self.build_cvae()\n",
    "    \n",
    "    def build_encoder(self):\n",
    "        x_input = layers.Input(shape=(self.input_dim,), name='input')\n",
    "        c_input = layers.Input(shape=(self.condition_dim,), name='condition')  # condition 입력 설정\n",
    "\n",
    "        # x와 c를 결합하여 encoder 입력으로 사용\n",
    "        combined_input = layers.Concatenate()([x_input, c_input])\n",
    "\n",
    "        # Encoder 레이어 정의\n",
    "        h = layers.Dense(64)(combined_input)\n",
    "        h = layers.BatchNormalization()(h)\n",
    "        h = layers.Activation('relu')(h)\n",
    "        h = layers.Dropout(0.3)(h)\n",
    "\n",
    "        h = layers.Dense(32)(h)\n",
    "        h = layers.BatchNormalization()(h)\n",
    "        h = layers.Activation('relu')(h)\n",
    "        h = layers.Dropout(0.3)(h)\n",
    "\n",
    "        z_mean = layers.Dense(self.latent_dim, name='z_mean')(h)\n",
    "        z_log_var = layers.Dense(self.latent_dim, name='z_log_var')(h)\n",
    "\n",
    "        # Sampling 레이어 (reparameterization trick)\n",
    "        def sampling(args):\n",
    "            z_mean, z_log_var = args\n",
    "            epsilon = K.random_normal(shape=(K.shape(z_mean)[0], self.latent_dim))\n",
    "            return z_mean + K.exp(0.5 * z_log_var) * epsilon\n",
    "\n",
    "        z = layers.Lambda(sampling, output_shape=(self.latent_dim,), name='z')([z_mean, z_log_var])\n",
    "\n",
    "        return Model([x_input, c_input], [z_mean, z_log_var, z], name='encoder')\n",
    "\n",
    "    def build_decoder(self):\n",
    "        z_input = layers.Input(shape=(self.latent_dim,), name='z_sampling')\n",
    "        c_input = layers.Input(shape=(self.condition_dim,), name='condition')  # condition 입력 설정\n",
    "\n",
    "        # z와 c를 결합하여 decoder 입력으로 사용\n",
    "        combined_input = layers.Concatenate()([z_input, c_input])\n",
    "\n",
    "        # Decoder 레이어 정의\n",
    "        h = layers.Dense(32)(combined_input)\n",
    "        h = layers.BatchNormalization()(h)\n",
    "        h = layers.Activation('relu')(h)\n",
    "        h = layers.Dropout(0.3)(h)\n",
    "\n",
    "        h = layers.Dense(64)(h)\n",
    "        h = layers.BatchNormalization()(h)\n",
    "        h = layers.Activation('relu')(h)\n",
    "        h = layers.Dropout(0.3)(h)\n",
    "\n",
    "        x_decoded = layers.Dense(self.input_dim, activation='sigmoid', name='output')(h)\n",
    "\n",
    "        return Model([z_input, c_input], x_decoded, name='decoder')\n",
    "\n",
    "    def build_cvae(self):\n",
    "        x_input = layers.Input(shape=(self.input_dim,), name='input')\n",
    "        c_input = layers.Input(shape=(self.condition_dim,), name='condition')  # condition 입력 설정\n",
    "\n",
    "        z_mean, z_log_var, z = self.encoder([x_input, c_input])\n",
    "        x_decoded = self.decoder([z, c_input])\n",
    "\n",
    "        cvae = Model([x_input, c_input], x_decoded, name='cvae')\n",
    "\n",
    "        # Reconstruction과 KL Loss 정의\n",
    "        reconstruction_loss = mse(x_input, x_decoded) * self.input_dim\n",
    "        kl_loss = -0.5 * K.sum(1 + z_log_var - K.square(z_mean) - K.exp(z_log_var), axis=-1)\n",
    "\n",
    "        cvae_loss = K.mean(reconstruction_loss + kl_loss)\n",
    "        cvae.add_loss(cvae_loss)\n",
    "        cvae.compile(optimizer='adam')\n",
    "\n",
    "        return cvae\n",
    "\n",
    "    # Model Training\n",
    "    def train(self, x_train, c_train, epochs, batch_size, validation_split=None):\n",
    "        self.cvae.fit([x_train, c_train], epochs=epochs, batch_size=batch_size, validation_split=validation_split)\n",
    "    \n",
    "    # Synthetic Data Generation\n",
    "    def generate_synthetic_data(self, condition, n_samples):\n",
    "        z_samples = np.random.normal(size=(n_samples, self.latent_dim))\n",
    "        synthetic_data = self.decoder.predict([z_samples, condition])\n",
    "        return synthetic_data\n",
    "\n",
    "    # Visualize Latent Space\n",
    "    def visualize_latent_space(self, x_data, c_data, labels, n_samples):\n",
    "        indices = np.random.choice(len(x_data), n_samples, replace=False)\n",
    "        x_sample = x_data[indices]\n",
    "        c_sample = c_data[indices]\n",
    "        z_mean, _, _ = self.encoder.predict([x_sample, c_sample])\n",
    "        \n",
    "        tsne = TSNE(n_components=2, random_state=710674)\n",
    "        z_tsne = tsne.fit_transform(z_mean)\n",
    "\n",
    "        plt.figure(figsize=(8, 6))\n",
    "        plt.scatter(z_tsne[:, 0], z_tsne[:, 1], c=labels[indices], cmap='viridis')\n",
    "        plt.colorbar()\n",
    "        plt.title('t-SNE Visualization of Latent Space')\n",
    "        plt.xlabel('t-SNE 1')\n",
    "        plt.ylabel('t-SNE 2')\n",
    "        plt.show()"
   ]
  },
  {
   "cell_type": "code",
   "execution_count": null,
   "id": "f8304bfd-0864-4e0b-9907-d6b173681020",
   "metadata": {
    "scrolled": true
   },
   "outputs": [],
   "source": [
    "cvae = CVAE(input_dim = data_x.shape[1], condition_dim = data_c.shape[1], latent_dim=args_cvae.latent_dim)\n",
    "cvae.train(data_x, data_c, epochs=args_cvae.epochs, batch_size=args_cvae.bs, validation_split=0.2)"
   ]
  },
  {
   "cell_type": "code",
   "execution_count": null,
   "id": "504f9954-ff47-4540-95dd-2b36d47267f9",
   "metadata": {},
   "outputs": [],
   "source": []
  },
  {
   "cell_type": "markdown",
   "id": "d1f6a483-cc46-4409-bf2b-663533e530b2",
   "metadata": {},
   "source": [
    "### Latent space visualization"
   ]
  },
  {
   "cell_type": "code",
   "execution_count": null,
   "id": "e81d97f1-48d4-4cd9-a9aa-26ac314a4ecd",
   "metadata": {},
   "outputs": [],
   "source": [
    "x_data = np.array(data_x)\n",
    "c_data = np.array(data_c)\n",
    "labels = np.array(np.argmax(data_y, axis=1))"
   ]
  },
  {
   "cell_type": "code",
   "execution_count": null,
   "id": "8d998d21-df5d-4f35-8ea4-7cf41ea2de35",
   "metadata": {},
   "outputs": [],
   "source": [
    "cvae.visualize_latent_space(x_data, c_data, labels, n_samples=500)"
   ]
  },
  {
   "cell_type": "code",
   "execution_count": null,
   "id": "05ac4b83-44fb-4f9f-89a0-8f94958ebce1",
   "metadata": {},
   "outputs": [],
   "source": []
  },
  {
   "cell_type": "markdown",
   "id": "14b15c46-3725-4edb-96ac-1b375b14c61e",
   "metadata": {},
   "source": [
    "### Synthetic data generation"
   ]
  },
  {
   "cell_type": "markdown",
   "id": "94d3c41d-238b-47ee-9078-56a4a72fd445",
   "metadata": {},
   "source": [
    "* This section is to generate synthetic data using trained CVAE model"
   ]
  },
  {
   "cell_type": "markdown",
   "id": "4e445fd4-5c8a-415e-90bb-a03bee57017a",
   "metadata": {},
   "source": [
    "#### single CVAE model"
   ]
  },
  {
   "cell_type": "code",
   "execution_count": null,
   "id": "25957117-b48c-4422-ac2c-bfd6706a2ea0",
   "metadata": {},
   "outputs": [],
   "source": [
    "def generate_class_synthetic_data(cvae_model, c_data, n_samples_per_class, labels, method):\n",
    "    synthetic_data = {}\n",
    "    new_conditions = {}\n",
    "\n",
    "    for class_label, n_samples in n_samples_per_class.items():\n",
    "        ## filtering the condition for each class\n",
    "        class_indices = np.where(labels == class_label)[0]\n",
    "        class_conditions = c_data[class_indices]\n",
    "\n",
    "        # 각 condition 변수에 대해 가능한 값들의 분포 계산\n",
    "        condition_distributions = [Counter(class_conditions[:, i]) for i in range(class_conditions.shape[1])]\n",
    "        \n",
    "        ## generating new condition for conditional VAE data augmentation\n",
    "        if method == 'adjusted_distribution':\n",
    "            class_new_conditions = []\n",
    "            for i, dist in enumerate(condition_distributions):\n",
    "                # 각 변수의 고유값을 가져옴\n",
    "                unique_vals = list(dist.keys())\n",
    "                # 각 변수의 값에 대한 가중치를 계산 (빈도가 적은 값은 높은 가중치 부여)\n",
    "                weights = [1 / dist[val] for val in unique_vals]\n",
    "                weights = np.array(weights) / sum(weights)  # 가중치를 정규화\n",
    "\n",
    "                # 부족한 값을 많이 샘플링\n",
    "                new_samples = np.random.choice(unique_vals, n_samples, p=weights)\n",
    "                class_new_conditions.append(new_samples)\n",
    "\n",
    "            # 조건을 수집하여 새로운 조건 행렬 생성\n",
    "            class_new_conditions = np.column_stack(class_new_conditions)\n",
    "\n",
    "        # 원본 조건에 맞춰 new_conditions 생성\n",
    "        new_conditions[class_label] = class_new_conditions\n",
    "\n",
    "        # generate synthetic data using the new conditions\n",
    "        class_synthetic_data = cvae_model.generate_synthetic_data(class_new_conditions, n_samples=n_samples)\n",
    "        \n",
    "        # save the synthesized results\n",
    "        synthetic_data[class_label] = class_synthetic_data\n",
    "\n",
    "    # return synthetic_data and new_conditions\n",
    "    return synthetic_data, new_conditions"
   ]
  },
  {
   "cell_type": "code",
   "execution_count": null,
   "id": "aedaa20b-977e-441c-b551-76e3e1bd9607",
   "metadata": {},
   "outputs": [],
   "source": [
    "# synthetic_data에 대해 scaler.transform을 적용하는 방법\n",
    "def transform_synthetic_data_with_scaler(synthetic_data, scaler):\n",
    "    transformed_data = {}\n",
    "\n",
    "    for class_label, class_synthetic_data in synthetic_data.items():\n",
    "        # NumPy 배열인 synthetic_data를 DataFrame으로 변환\n",
    "        class_synthetic_df = pd.DataFrame(class_synthetic_data)\n",
    "\n",
    "        # 원본 데이터의 스케일을 맞추기 위해 scaler.transform 적용\n",
    "        class_synthetic_df_scaled = pd.DataFrame(scaler.transform(class_synthetic_df),\n",
    "                                                 columns=class_synthetic_df.columns)\n",
    "\n",
    "        transformed_data[class_label] = class_synthetic_df_scaled\n",
    "\n",
    "    return transformed_data"
   ]
  },
  {
   "cell_type": "code",
   "execution_count": null,
   "id": "cca5f158-f6e8-4652-a08d-fd230d749982",
   "metadata": {},
   "outputs": [],
   "source": [
    "data_cvae.target.value_counts()"
   ]
  },
  {
   "cell_type": "code",
   "execution_count": null,
   "id": "3e8a4aad-7e91-419e-bdfd-0b142902e5dc",
   "metadata": {},
   "outputs": [],
   "source": [
    "n_samples_per_class = {0:526, 1:260} ## 1: disease, 0: normal\n",
    "\n",
    "## synthetic data generation (augmentation)\n",
    "synthetic_data, new_conditions = generate_class_synthetic_data(cvae, data_c, n_samples_per_class, label, method='adjusted_distribution')\n",
    "\n",
    "# print(\"\\n=====================================\")\n",
    "# print(\"Class 0 - Generated Synthetic Data: \")\n",
    "# print(synthetic_data[0])\n",
    "# print(\"\\n=====================================\")\n",
    "# print(\"\\nClass 1 - Generated Synthetic Data:\")\n",
    "# print(synthetic_data[1])"
   ]
  },
  {
   "cell_type": "code",
   "execution_count": null,
   "id": "8cd44662-37fc-4172-8cc2-a7a0a3916188",
   "metadata": {},
   "outputs": [],
   "source": [
    "# synthetic_data에 대해서 스케일러를 적용\n",
    "transformed_synthetic_data = transform_synthetic_data_with_scaler(synthetic_data, scaler)"
   ]
  },
  {
   "cell_type": "code",
   "execution_count": null,
   "id": "8f9b0296-f3d0-4d87-9b63-6fa2a3648b02",
   "metadata": {
    "scrolled": true
   },
   "outputs": [],
   "source": [
    "transformed_synthetic_data"
   ]
  },
  {
   "cell_type": "code",
   "execution_count": null,
   "id": "c921e8c1-e214-43d6-b683-fafb22f4f500",
   "metadata": {},
   "outputs": [],
   "source": [
    "# data_c"
   ]
  },
  {
   "cell_type": "code",
   "execution_count": null,
   "id": "3ef523f0-bd30-4727-bc57-85b0519f2dfd",
   "metadata": {
    "scrolled": true
   },
   "outputs": [],
   "source": [
    "# new_conditions"
   ]
  },
  {
   "cell_type": "code",
   "execution_count": null,
   "id": "249a5596-5f0c-4a64-a217-4e1bc781b325",
   "metadata": {},
   "outputs": [],
   "source": [
    "def synthetic_dataframe(synthetic_data, data_x):\n",
    "    dataframes = {}\n",
    "    for class_label, data in synthetic_data.items():\n",
    "        data_copy = data.copy()\n",
    "        df = pd.DataFrame(data_copy, columns=data_x.columns)\n",
    "        dataframes[class_label] = df\n",
    "    return dataframes"
   ]
  },
  {
   "cell_type": "code",
   "execution_count": null,
   "id": "17f88ee1-8931-4234-9ec2-eb1dd450a82a",
   "metadata": {},
   "outputs": [],
   "source": [
    "dataframes = synthetic_dataframe(synthetic_data, data_x)\n",
    "\n",
    "# 클래스 0과 클래스 1에 대한 데이터프레임 추출\n",
    "gen_N = dataframes[0]\n",
    "gen_D = dataframes[1]"
   ]
  },
  {
   "cell_type": "code",
   "execution_count": null,
   "id": "3a7f4c28-d809-4da3-93f8-133b672cff3d",
   "metadata": {},
   "outputs": [],
   "source": [
    "gen_D.head()"
   ]
  },
  {
   "cell_type": "code",
   "execution_count": null,
   "id": "bf4bbe60-4b80-4b21-b42c-14e2eecc9e31",
   "metadata": {},
   "outputs": [],
   "source": []
  },
  {
   "cell_type": "markdown",
   "id": "5b0d7187-0ad4-4d8f-83ea-cd25aa80e206",
   "metadata": {},
   "source": [
    "***"
   ]
  },
  {
   "cell_type": "markdown",
   "id": "d0defca8-ab95-43eb-962d-237fa58b6bf7",
   "metadata": {},
   "source": [
    "# CVAE + attention (proposed)"
   ]
  },
  {
   "cell_type": "markdown",
   "id": "9e12515b-5c6e-4177-a41d-6e65fce86c9a",
   "metadata": {},
   "source": [
    "* This approach adopts pytorch packages"
   ]
  },
  {
   "cell_type": "code",
   "execution_count": 140,
   "id": "cebc2f46-614b-4b47-a227-aab08f6dcb14",
   "metadata": {},
   "outputs": [],
   "source": [
    "data_cvat = data_ori.copy()"
   ]
  },
  {
   "cell_type": "code",
   "execution_count": 141,
   "id": "18d6d2cc-afd5-4376-8a1a-b216347a4c58",
   "metadata": {},
   "outputs": [
    {
     "data": {
      "text/html": [
       "<div>\n",
       "<style scoped>\n",
       "    .dataframe tbody tr th:only-of-type {\n",
       "        vertical-align: middle;\n",
       "    }\n",
       "\n",
       "    .dataframe tbody tr th {\n",
       "        vertical-align: top;\n",
       "    }\n",
       "\n",
       "    .dataframe thead th {\n",
       "        text-align: right;\n",
       "    }\n",
       "</style>\n",
       "<table border=\"1\" class=\"dataframe\">\n",
       "  <thead>\n",
       "    <tr style=\"text-align: right;\">\n",
       "      <th></th>\n",
       "      <th>age</th>\n",
       "      <th>sex</th>\n",
       "      <th>cp</th>\n",
       "      <th>trestbps</th>\n",
       "      <th>chol</th>\n",
       "      <th>fbs</th>\n",
       "      <th>restecg</th>\n",
       "      <th>thalach</th>\n",
       "      <th>exang</th>\n",
       "      <th>oldpeak</th>\n",
       "      <th>slope</th>\n",
       "      <th>ca</th>\n",
       "      <th>thal</th>\n",
       "      <th>target</th>\n",
       "      <th>age_group</th>\n",
       "      <th>age_enc</th>\n",
       "    </tr>\n",
       "  </thead>\n",
       "  <tbody>\n",
       "    <tr>\n",
       "      <th>878</th>\n",
       "      <td>54</td>\n",
       "      <td>1</td>\n",
       "      <td>0</td>\n",
       "      <td>120</td>\n",
       "      <td>188</td>\n",
       "      <td>0</td>\n",
       "      <td>1</td>\n",
       "      <td>113</td>\n",
       "      <td>0</td>\n",
       "      <td>1.4</td>\n",
       "      <td>1</td>\n",
       "      <td>1</td>\n",
       "      <td>3</td>\n",
       "      <td>0</td>\n",
       "      <td>(50, 60]</td>\n",
       "      <td>3</td>\n",
       "    </tr>\n",
       "    <tr>\n",
       "      <th>370</th>\n",
       "      <td>43</td>\n",
       "      <td>0</td>\n",
       "      <td>0</td>\n",
       "      <td>132</td>\n",
       "      <td>341</td>\n",
       "      <td>1</td>\n",
       "      <td>0</td>\n",
       "      <td>136</td>\n",
       "      <td>1</td>\n",
       "      <td>3.0</td>\n",
       "      <td>1</td>\n",
       "      <td>0</td>\n",
       "      <td>3</td>\n",
       "      <td>0</td>\n",
       "      <td>(40, 50]</td>\n",
       "      <td>2</td>\n",
       "    </tr>\n",
       "    <tr>\n",
       "      <th>349</th>\n",
       "      <td>62</td>\n",
       "      <td>0</td>\n",
       "      <td>2</td>\n",
       "      <td>130</td>\n",
       "      <td>263</td>\n",
       "      <td>0</td>\n",
       "      <td>1</td>\n",
       "      <td>97</td>\n",
       "      <td>0</td>\n",
       "      <td>1.2</td>\n",
       "      <td>1</td>\n",
       "      <td>1</td>\n",
       "      <td>3</td>\n",
       "      <td>0</td>\n",
       "      <td>(60, 70]</td>\n",
       "      <td>4</td>\n",
       "    </tr>\n",
       "    <tr>\n",
       "      <th>600</th>\n",
       "      <td>62</td>\n",
       "      <td>0</td>\n",
       "      <td>2</td>\n",
       "      <td>130</td>\n",
       "      <td>263</td>\n",
       "      <td>0</td>\n",
       "      <td>1</td>\n",
       "      <td>97</td>\n",
       "      <td>0</td>\n",
       "      <td>1.2</td>\n",
       "      <td>1</td>\n",
       "      <td>1</td>\n",
       "      <td>3</td>\n",
       "      <td>0</td>\n",
       "      <td>(60, 70]</td>\n",
       "      <td>4</td>\n",
       "    </tr>\n",
       "    <tr>\n",
       "      <th>429</th>\n",
       "      <td>47</td>\n",
       "      <td>1</td>\n",
       "      <td>2</td>\n",
       "      <td>108</td>\n",
       "      <td>243</td>\n",
       "      <td>0</td>\n",
       "      <td>1</td>\n",
       "      <td>152</td>\n",
       "      <td>0</td>\n",
       "      <td>0.0</td>\n",
       "      <td>2</td>\n",
       "      <td>0</td>\n",
       "      <td>2</td>\n",
       "      <td>0</td>\n",
       "      <td>(40, 50]</td>\n",
       "      <td>2</td>\n",
       "    </tr>\n",
       "  </tbody>\n",
       "</table>\n",
       "</div>"
      ],
      "text/plain": [
       "     age  sex  cp  trestbps  chol  fbs  restecg  thalach  exang  oldpeak  \\\n",
       "878   54    1   0       120   188    0        1      113      0      1.4   \n",
       "370   43    0   0       132   341    1        0      136      1      3.0   \n",
       "349   62    0   2       130   263    0        1       97      0      1.2   \n",
       "600   62    0   2       130   263    0        1       97      0      1.2   \n",
       "429   47    1   2       108   243    0        1      152      0      0.0   \n",
       "\n",
       "     slope  ca  thal  target age_group  age_enc  \n",
       "878      1   1     3       0  (50, 60]        3  \n",
       "370      1   0     3       0  (40, 50]        2  \n",
       "349      1   1     3       0  (60, 70]        4  \n",
       "600      1   1     3       0  (60, 70]        4  \n",
       "429      2   0     2       0  (40, 50]        2  "
      ]
     },
     "execution_count": 141,
     "metadata": {},
     "output_type": "execute_result"
    }
   ],
   "source": [
    "data_cvat.head()"
   ]
  },
  {
   "cell_type": "code",
   "execution_count": null,
   "id": "784a2712-cced-453b-96b7-2a48e23771eb",
   "metadata": {},
   "outputs": [],
   "source": []
  },
  {
   "cell_type": "markdown",
   "id": "c20dacc3-4320-488b-8b85-0c8ec00fb720",
   "metadata": {},
   "source": [
    "## Pytorch dataset definition"
   ]
  },
  {
   "cell_type": "code",
   "execution_count": 142,
   "id": "63292869-1f0c-4ab2-9508-3f5916a77d65",
   "metadata": {},
   "outputs": [
    {
     "data": {
      "text/plain": [
       "Index(['age', 'sex', 'cp', 'trestbps', 'chol', 'fbs', 'restecg', 'thalach',\n",
       "       'exang', 'oldpeak', 'slope', 'ca', 'thal', 'target', 'age_group',\n",
       "       'age_enc'],\n",
       "      dtype='object')"
      ]
     },
     "execution_count": 142,
     "metadata": {},
     "output_type": "execute_result"
    }
   ],
   "source": [
    "data_cvat.columns"
   ]
  },
  {
   "cell_type": "code",
   "execution_count": 143,
   "id": "1e35e557-a0f2-43b1-a8d5-93fdbd1b0d50",
   "metadata": {},
   "outputs": [],
   "source": [
    "data_cvat = data_cvat.drop(['age', 'age_group'], axis=1)"
   ]
  },
  {
   "cell_type": "code",
   "execution_count": 144,
   "id": "44ecd4da-038c-4cdd-a653-a35fd315d584",
   "metadata": {},
   "outputs": [],
   "source": [
    "# 2. 연령, 성별, 질병 변수를 condition으로 사용하기 위해 분리\n",
    "x_data = data_cvat.drop(['sex', 'age_enc', 'target'], axis=1)\n",
    "conditions = data_cvat[['age_enc', 'sex', 'target']]  # 연령, 성별, 질병 변수\n",
    "\n",
    "# 3. 스케일링\n",
    "scaler = StandardScaler()\n",
    "x_data_scaled = scaler.fit_transform(x_data)\n",
    "\n",
    "# 4. PyTorch Dataset 생성\n",
    "class MedicalDataset(Dataset):\n",
    "    def __init__(self, x_data, conditions):\n",
    "        self.x_data = torch.tensor(x_data, dtype=torch.float32)\n",
    "        self.conditions = torch.tensor(conditions.values, dtype=torch.float32)\n",
    "\n",
    "    def __len__(self):\n",
    "        return len(self.x_data)\n",
    "\n",
    "    def __getitem__(self, idx):\n",
    "        return self.x_data[idx], self.conditions[idx]\n",
    "\n",
    "dataset = MedicalDataset(x_data_scaled, conditions)\n",
    "dataloader = DataLoader(dataset, batch_size=32, shuffle=True)"
   ]
  },
  {
   "cell_type": "markdown",
   "id": "e4928f14-8200-4b24-a221-7a5d1049851e",
   "metadata": {},
   "source": [
    "## CVAETTENTION model"
   ]
  },
  {
   "cell_type": "code",
   "execution_count": 145,
   "id": "4b7b134f-768a-4311-b89b-b5882dc16173",
   "metadata": {},
   "outputs": [],
   "source": [
    "# CVAE 모델 정의\n",
    "class CVAE(nn.Module):\n",
    "    def __init__(self, input_dim, cond_dim, latent_dim):\n",
    "        super(CVAE, self).__init__()\n",
    "        \n",
    "        # 인코더\n",
    "        self.latent_dim = latent_dim  # latent_dim 속성 추가\n",
    "        self.encoder_fc1 = nn.Linear(input_dim + cond_dim, 128)\n",
    "        self.encoder_fc2 = nn.Linear(128, 64)\n",
    "        self.fc_mu = nn.Linear(64, latent_dim)\n",
    "        self.fc_logvar = nn.Linear(64, latent_dim)\n",
    "        \n",
    "        # 디코더\n",
    "        self.decoder_fc1 = nn.Linear(latent_dim + cond_dim, 64)\n",
    "        self.decoder_fc2 = nn.Linear(64, 128)\n",
    "        \n",
    "        # Attention Blocks\n",
    "        self.self_attention = nn.MultiheadAttention(embed_dim=128, num_heads=4)\n",
    "        self.cross_attention = nn.MultiheadAttention(embed_dim=128, num_heads=4)\n",
    "        \n",
    "        # Reconstructing layer\n",
    "        self.decoder_fc3 = nn.Linear(128, input_dim)\n",
    "        \n",
    "    def encode(self, x, cond):\n",
    "        x = torch.cat([x, cond], dim=1)\n",
    "        x = F.relu(self.encoder_fc1(x))\n",
    "        x = F.relu(self.encoder_fc2(x))\n",
    "        mu = self.fc_mu(x)\n",
    "        logvar = self.fc_logvar(x)\n",
    "        return mu, logvar\n",
    "\n",
    "    def reparameterize(self, mu, logvar):\n",
    "        std = torch.exp(0.5 * logvar)\n",
    "        eps = torch.randn_like(std)\n",
    "        return mu + eps * std\n",
    "\n",
    "    def decode(self, z, cond):\n",
    "        x = torch.cat([z, cond], dim=1)\n",
    "        x = F.relu(self.decoder_fc1(x))\n",
    "        x = F.relu(self.decoder_fc2(x))\n",
    "        \n",
    "        # Self-Attention: 생체신호-연령, 생체신호-성별 특징 반영\n",
    "        x = x.unsqueeze(0)  # (1, batch, feature) 형식으로 변환\n",
    "        x, _ = self.self_attention(x, x, x)\n",
    "        \n",
    "        # Cross-Attention: 연령, 성별이 생체신호에 주는 영향 반영\n",
    "        x, _ = self.cross_attention(x, x, x)\n",
    "        \n",
    "        x = x.squeeze(0)\n",
    "        x = self.decoder_fc3(x)\n",
    "        return x\n",
    "\n",
    "    def forward(self, x, cond):\n",
    "        mu, logvar = self.encode(x, cond)\n",
    "        z = self.reparameterize(mu, logvar)\n",
    "        recon_x = self.decode(z, cond)\n",
    "        return recon_x, mu, logvar"
   ]
  },
  {
   "cell_type": "code",
   "execution_count": 146,
   "id": "ae56ed25-c625-46ad-a5d4-cbaf90aaea38",
   "metadata": {
    "scrolled": true
   },
   "outputs": [
    {
     "name": "stdout",
     "output_type": "stream",
     "text": [
      "Epoch 1, Loss: 10.869270091748419\n",
      "Epoch 2, Loss: 9.962508611703344\n",
      "Epoch 3, Loss: 9.792838972640098\n",
      "Epoch 4, Loss: 9.677444030917025\n",
      "Epoch 5, Loss: 9.67099061145734\n",
      "Epoch 6, Loss: 9.562975817964277\n",
      "Epoch 7, Loss: 9.564157617001133\n",
      "Epoch 8, Loss: 9.45098777945715\n",
      "Epoch 9, Loss: 9.415966315427202\n",
      "Epoch 10, Loss: 9.432868627494832\n",
      "Epoch 11, Loss: 9.316327781774312\n",
      "Epoch 12, Loss: 9.243475469924112\n",
      "Epoch 13, Loss: 9.282386352694369\n",
      "Epoch 14, Loss: 9.175000333907343\n",
      "Epoch 15, Loss: 9.020648985418655\n",
      "Epoch 16, Loss: 8.92362826592443\n",
      "Epoch 17, Loss: 8.753014989178295\n",
      "Epoch 18, Loss: 8.697022746234147\n",
      "Epoch 19, Loss: 8.72077837063156\n",
      "Epoch 20, Loss: 8.7769888763816\n",
      "Epoch 21, Loss: 8.637217902651876\n",
      "Epoch 22, Loss: 8.660638804350798\n",
      "Epoch 23, Loss: 8.55446290848516\n",
      "Epoch 24, Loss: 8.53300474132897\n",
      "Epoch 25, Loss: 8.608929466655237\n",
      "Epoch 26, Loss: 8.405124382814986\n",
      "Epoch 27, Loss: 8.55023874763314\n",
      "Epoch 28, Loss: 8.403566472099634\n",
      "Epoch 29, Loss: 8.464260305157145\n",
      "Epoch 30, Loss: 8.28095229830754\n",
      "Epoch 31, Loss: 8.148792839535624\n",
      "Epoch 32, Loss: 8.084070802644918\n",
      "Epoch 33, Loss: 8.167875935406478\n",
      "Epoch 34, Loss: 8.057292812046507\n",
      "Epoch 35, Loss: 8.064816113343372\n",
      "Epoch 36, Loss: 8.079998394915165\n",
      "Epoch 37, Loss: 7.960430426755328\n",
      "Epoch 38, Loss: 8.076006988836003\n",
      "Epoch 39, Loss: 8.056994663850041\n",
      "Epoch 40, Loss: 7.863902259418983\n",
      "Epoch 41, Loss: 7.76057756341444\n",
      "Epoch 42, Loss: 7.9062865356755925\n",
      "Epoch 43, Loss: 7.914931998604733\n",
      "Epoch 44, Loss: 7.8165082082190285\n",
      "Epoch 45, Loss: 7.718591025160772\n",
      "Epoch 46, Loss: 7.733663466747177\n",
      "Epoch 47, Loss: 7.714030122635625\n",
      "Epoch 48, Loss: 7.646236584690084\n",
      "Epoch 49, Loss: 7.654814295489673\n",
      "Epoch 50, Loss: 7.54209503872704\n",
      "Epoch 51, Loss: 7.688223938298893\n",
      "Epoch 52, Loss: 7.597479084975847\n",
      "Epoch 53, Loss: 7.574036226927779\n",
      "Epoch 54, Loss: 7.596253217934955\n",
      "Epoch 55, Loss: 7.628247714831326\n",
      "Epoch 56, Loss: 7.565246970295603\n",
      "Epoch 57, Loss: 7.571216301760297\n",
      "Epoch 58, Loss: 7.497794328451763\n",
      "Epoch 59, Loss: 7.441735478757902\n",
      "Epoch 60, Loss: 7.542510442758031\n",
      "Epoch 61, Loss: 7.505375112286051\n",
      "Epoch 62, Loss: 7.390521585789649\n",
      "Epoch 63, Loss: 7.489510009610319\n",
      "Epoch 64, Loss: 7.402103123167392\n",
      "Epoch 65, Loss: 7.521079376453661\n",
      "Epoch 66, Loss: 7.426063887035574\n",
      "Epoch 67, Loss: 7.244468727791279\n",
      "Epoch 68, Loss: 7.452577683155167\n",
      "Epoch 69, Loss: 7.3153053264278185\n",
      "Epoch 70, Loss: 7.28493215352221\n",
      "Epoch 71, Loss: 7.375626027735741\n",
      "Epoch 72, Loss: 7.203934094378057\n",
      "Epoch 73, Loss: 7.332793102312937\n",
      "Epoch 74, Loss: 7.388503659469177\n",
      "Epoch 75, Loss: 7.254945264821138\n",
      "Epoch 76, Loss: 7.299238268049012\n",
      "Epoch 77, Loss: 7.186087125433613\n",
      "Epoch 78, Loss: 7.308761004576549\n",
      "Epoch 79, Loss: 7.222959833897404\n",
      "Epoch 80, Loss: 7.1448197692405175\n",
      "Epoch 81, Loss: 7.1159120904277\n",
      "Epoch 82, Loss: 7.153904553284779\n",
      "Epoch 83, Loss: 7.198969697830938\n",
      "Epoch 84, Loss: 7.2737131871036595\n",
      "Epoch 85, Loss: 7.11067521966444\n",
      "Epoch 86, Loss: 7.081561624852149\n",
      "Epoch 87, Loss: 7.195400771900594\n",
      "Epoch 88, Loss: 7.104281495848988\n",
      "Epoch 89, Loss: 7.012347243214381\n",
      "Epoch 90, Loss: 7.079979486441188\n",
      "Epoch 91, Loss: 7.105472516164221\n",
      "Epoch 92, Loss: 6.974736453922651\n",
      "Epoch 93, Loss: 7.010618942687833\n",
      "Epoch 94, Loss: 6.966933602291816\n",
      "Epoch 95, Loss: 7.022138833392971\n",
      "Epoch 96, Loss: 7.053132501267295\n",
      "Epoch 97, Loss: 7.027591656789221\n",
      "Epoch 98, Loss: 7.042798399015237\n",
      "Epoch 99, Loss: 6.920410466861482\n",
      "Epoch 100, Loss: 6.885115761793297\n"
     ]
    }
   ],
   "source": [
    "def loss_function(recon_x, x, mu, logvar):\n",
    "    recon_loss = F.mse_loss(recon_x, x, reduction='sum')\n",
    "    kl_divergence = -0.5 * torch.sum(1 + logvar - mu.pow(2) - logvar.exp())\n",
    "    return recon_loss + kl_divergence\n",
    "\n",
    "model = CVAE(input_dim=11, cond_dim=3, latent_dim=10)\n",
    "optimizer = torch.optim.Adam(model.parameters(), lr=1e-3)\n",
    "\n",
    "# 학습 루프\n",
    "num_epochs = 100\n",
    "for epoch in range(num_epochs):\n",
    "    model.train()\n",
    "    train_loss = 0\n",
    "    for x_batch, cond_batch in dataloader:\n",
    "        optimizer.zero_grad()\n",
    "        recon_x, mu, logvar = model(x_batch, cond_batch)\n",
    "        loss = loss_function(recon_x, x_batch, mu, logvar)\n",
    "        loss.backward()\n",
    "        optimizer.step()\n",
    "        train_loss += loss.item()\n",
    "    print(f\"Epoch {epoch+1}, Loss: {train_loss / len(dataloader.dataset)}\")"
   ]
  },
  {
   "cell_type": "code",
   "execution_count": 148,
   "id": "9e3bd983-5402-459a-bbbd-2cb24ae1cef3",
   "metadata": {},
   "outputs": [],
   "source": [
    "# 조건에 따른 synthetic data 생성 함수\n",
    "def generate_synthetic_data(model, sample_conditions_list):\n",
    "    synthetic_samples = []\n",
    "\n",
    "    for condition in sample_conditions_list:\n",
    "        age, gender, disease = condition\n",
    "\n",
    "        # 조건 텐서로 변환\n",
    "        condition_tensor = torch.tensor([age, gender, disease], dtype=torch.float32).unsqueeze(0)\n",
    "\n",
    "        # 잠재 공간에서 샘플링하여 synthetic data 생성\n",
    "        with torch.no_grad():\n",
    "            z = torch.randn(1, model.latent_dim)  # 모델의 latent_dim 크기에 맞게 샘플링\n",
    "            synthetic_sample = model.decode(z, condition_tensor)  # 조건을 적용하여 디코더로 생성\n",
    "            synthetic_samples.append(synthetic_sample.squeeze(0).numpy())  # numpy 배열로 변환\n",
    "\n",
    "    synthetic_data = np.array(synthetic_samples)\n",
    "    return synthetic_data"
   ]
  },
  {
   "cell_type": "code",
   "execution_count": 149,
   "id": "925b8a08-5377-4f1c-a619-00a9f978b016",
   "metadata": {},
   "outputs": [],
   "source": [
    "def sample_conditions(data, n):\n",
    "    # 조건 변수 선택\n",
    "    condition_data = data[['age_enc', 'sex', 'target']]\n",
    "    \n",
    "    # 목표 비율 계산 (target, sex, age_enc 각 클래스가 동일하게 분포된다고 가정)\n",
    "    total_count = len(condition_data) + n\n",
    "    unique_targets = condition_data['target'].unique()\n",
    "    unique_sexes = condition_data['sex'].unique()\n",
    "    unique_ages = condition_data['age_enc'].unique()\n",
    "    \n",
    "    target_goal_count = total_count / len(unique_targets)\n",
    "    sex_goal_count = total_count / (len(unique_targets) * len(unique_sexes))\n",
    "    age_goal_count = total_count / (len(unique_targets) * len(unique_sexes) * len(unique_ages))\n",
    "    \n",
    "    # 최종 샘플링 조건 리스트\n",
    "    sampled_conditions = []\n",
    "    \n",
    "    for target in unique_targets:\n",
    "        # target별로 필요한 샘플 수 계산\n",
    "        current_target_count = condition_data[condition_data['target'] == target].shape[0]\n",
    "        target_sample_count = max(0, int(target_goal_count - current_target_count))\n",
    "        \n",
    "        if target_sample_count > 0:\n",
    "            for sex in unique_sexes:\n",
    "                # sex별로 필요한 샘플 수 계산\n",
    "                target_sex_data = condition_data[(condition_data['target'] == target) & (condition_data['sex'] == sex)]\n",
    "                current_sex_count = target_sex_data.shape[0]\n",
    "                sex_sample_count = max(0, int(sex_goal_count - current_sex_count))\n",
    "                \n",
    "                if sex_sample_count > 0:\n",
    "                    for age in unique_ages:\n",
    "                        # age_enc별로 필요한 샘플 수 계산\n",
    "                        current_age_count = target_sex_data[target_sex_data['age_enc'] == age].shape[0]\n",
    "                        age_sample_count = max(0, int(age_goal_count - current_age_count))\n",
    "                        \n",
    "                        # 필요한 샘플 수만큼 조건 추가\n",
    "                        sampled_conditions.extend([[age, sex, target]] * age_sample_count)\n",
    "                        \n",
    "    # 최종 샘플링 조건 리스트 반환\n",
    "    return sampled_conditions[:n]  # 요청된 n개만 반환\n",
    "\n",
    "\n",
    "# 함수 실행 예시\n",
    "sampled_conditions_list = sample_conditions(data_cvat, 260)\n",
    "# print(sampled_conditions_list)"
   ]
  },
  {
   "cell_type": "code",
   "execution_count": 150,
   "id": "7118ec63-dd35-4627-bdc1-ede5c418f12b",
   "metadata": {},
   "outputs": [],
   "source": [
    "# 샘플링된 조건에 따른 synthetic data 생성\n",
    "synthetic_data = generate_synthetic_data(model, sampled_conditions_list)\n",
    "synthetic_data = scaler.inverse_transform(synthetic_data)  # 스케일링 역변환\n",
    "# print(\"Synthetic Data Generated:\\n\", synthetic_data)"
   ]
  },
  {
   "cell_type": "code",
   "execution_count": 151,
   "id": "fbfcf942-5146-459d-a2a6-82dc6395beb2",
   "metadata": {},
   "outputs": [],
   "source": [
    "# 예시용 변수 이름 목록 (생체신호 변수 이름 11개)\n",
    "signal_columns = ['cp', 'trestbps', 'chol', 'fbs', 'restecg', 'thalach', 'exang','oldpeak', 'slope', 'ca', 'thal']\n",
    "\n",
    "def create_synthetic_dataframe(synthetic_data, sample_conditions_list):\n",
    "    # 1. synthetic_data를 DataFrame으로 변환\n",
    "    synthetic_df = pd.DataFrame(synthetic_data, columns=signal_columns)\n",
    "    \n",
    "    # 2. sample_conditions_list를 DataFrame으로 변환\n",
    "    conditions_df = pd.DataFrame(sample_conditions_list, columns=['age_enc', 'sex', 'target'])\n",
    "    \n",
    "    # 3. synthetic_df와 conditions_df를 열 방향으로 결합\n",
    "    combined_df = pd.concat([conditions_df, synthetic_df], axis=1)\n",
    "    \n",
    "    return combined_df"
   ]
  },
  {
   "cell_type": "code",
   "execution_count": 152,
   "id": "523975fb-9d2c-4e39-be83-32e4d0b00009",
   "metadata": {},
   "outputs": [
    {
     "name": "stdout",
     "output_type": "stream",
     "text": [
      "Final Synthetic DataFrame Shape: (260, 14)\n"
     ]
    }
   ],
   "source": [
    "synthetic_df = create_synthetic_dataframe(synthetic_data, sampled_conditions_list)\n",
    "\n",
    "print(\"Final Synthetic DataFrame Shape:\", synthetic_df.shape)\n",
    "# print(\"Synthetic DataFrame:\\n\", synthetic_df)"
   ]
  },
  {
   "cell_type": "code",
   "execution_count": 153,
   "id": "a5013a69-3a4d-4f8f-8063-3d54a1935089",
   "metadata": {},
   "outputs": [],
   "source": [
    "# 예시: synthetic_df와 data의 컬럼 순서를 맞추기\n",
    "data_cvat = data_cvat[synthetic_df.columns]"
   ]
  },
  {
   "cell_type": "code",
   "execution_count": 154,
   "id": "0113531a-78cd-4157-adf9-a7e5e77317d1",
   "metadata": {},
   "outputs": [
    {
     "name": "stdout",
     "output_type": "stream",
     "text": [
      "Combined DataFrame shape: (1046, 14)\n"
     ]
    }
   ],
   "source": [
    "# synthetic_df와 data를 결합\n",
    "combined_df = pd.concat([data_cvat, synthetic_df], ignore_index=True)\n",
    "\n",
    "# 결과 확인\n",
    "print(\"Combined DataFrame shape:\", combined_df.shape)"
   ]
  },
  {
   "cell_type": "code",
   "execution_count": 157,
   "id": "414b06a1-8c4d-41e0-85a2-a0882fade6ec",
   "metadata": {},
   "outputs": [
    {
     "data": {
      "text/plain": [
       "target  sex\n",
       "0       1      330\n",
       "        0      190\n",
       "1       1      300\n",
       "        0      226\n",
       "Name: count, dtype: int64"
      ]
     },
     "execution_count": 157,
     "metadata": {},
     "output_type": "execute_result"
    }
   ],
   "source": [
    "combined_df.groupby('target')['sex'].value_counts()"
   ]
  },
  {
   "cell_type": "code",
   "execution_count": null,
   "id": "01220a12-c9f2-4a8f-b912-7ec94bb5b2b1",
   "metadata": {},
   "outputs": [],
   "source": []
  },
  {
   "cell_type": "code",
   "execution_count": null,
   "id": "368c7744-8180-468e-9981-6ab130c79b0a",
   "metadata": {},
   "outputs": [],
   "source": []
  },
  {
   "cell_type": "code",
   "execution_count": null,
   "id": "82e670b4-3d2f-4e33-b3db-106f63461c3d",
   "metadata": {},
   "outputs": [],
   "source": []
  },
  {
   "cell_type": "markdown",
   "id": "a5c13165-3c47-4d7d-ac4d-890b83c430f9",
   "metadata": {},
   "source": [
    "***"
   ]
  },
  {
   "cell_type": "markdown",
   "id": "9f1dd288-69c7-438d-8d55-f618e90cdebe",
   "metadata": {},
   "source": [
    "***"
   ]
  },
  {
   "cell_type": "markdown",
   "id": "7401a57b-1bc3-49be-a086-a85bc4f9344e",
   "metadata": {},
   "source": [
    "## Comparative Methods"
   ]
  },
  {
   "cell_type": "markdown",
   "id": "e457f6fe-bf64-4dce-87e3-c94436a4232a",
   "metadata": {},
   "source": [
    "* To compare the data augmentation performance, we need to first implement other effective augmentation methods then use same approach for evaluation."
   ]
  },
  {
   "cell_type": "markdown",
   "id": "71bc5ba3-a5bb-40b2-98e8-3c91e41dc5c2",
   "metadata": {},
   "source": [
    "### Oversampling, undersampling, KMSMOTE"
   ]
  },
  {
   "cell_type": "code",
   "execution_count": 124,
   "id": "d25a7e9f-2c8d-4d80-b29e-39e36b911de9",
   "metadata": {},
   "outputs": [],
   "source": [
    "data_imp = data_ori.copy()\n",
    "# data_imp = data_sampled.copy()"
   ]
  },
  {
   "cell_type": "code",
   "execution_count": 125,
   "id": "f3ff027e-adf1-4ef9-a35c-8bb906ccf0ab",
   "metadata": {},
   "outputs": [
    {
     "data": {
      "text/plain": [
       "Index(['age', 'sex', 'cp', 'trestbps', 'chol', 'fbs', 'restecg', 'thalach',\n",
       "       'exang', 'oldpeak', 'slope', 'ca', 'thal', 'target', 'age_group',\n",
       "       'age_enc'],\n",
       "      dtype='object')"
      ]
     },
     "execution_count": 125,
     "metadata": {},
     "output_type": "execute_result"
    }
   ],
   "source": [
    "data_imp.columns"
   ]
  },
  {
   "cell_type": "code",
   "execution_count": 126,
   "id": "deddf000-5bf7-45cf-ba52-f11a7a680afa",
   "metadata": {},
   "outputs": [],
   "source": [
    "data_imp = data_imp.drop(['age_group', 'age', 'sex'], axis=1)\n",
    "# data_imp = data_imp.drop(['age', 'sex'], axis=1)"
   ]
  },
  {
   "cell_type": "code",
   "execution_count": 127,
   "id": "f6654d25-fb99-4aaa-8a30-959282993f80",
   "metadata": {},
   "outputs": [
    {
     "data": {
      "text/plain": [
       "(786, 13)"
      ]
     },
     "execution_count": 127,
     "metadata": {},
     "output_type": "execute_result"
    }
   ],
   "source": [
    "# data_imp.head()\n",
    "data_imp.shape"
   ]
  },
  {
   "cell_type": "code",
   "execution_count": 128,
   "id": "83067d2b-5304-44b7-9d2b-950f8caea6b5",
   "metadata": {},
   "outputs": [],
   "source": [
    "# X (특징)와 y (타겟)를 데이터에서 분리했다고 가정\n",
    "x = data_imp.drop(['target'], axis=1)  # 특징\n",
    "# x = x.fillna(x.mean())\n",
    "y = data_imp['target']  # 타겟 변수"
   ]
  },
  {
   "cell_type": "code",
   "execution_count": 129,
   "id": "a8056aee-44c8-4d2e-90c7-a1f7b0cf5c14",
   "metadata": {},
   "outputs": [
    {
     "name": "stdout",
     "output_type": "stream",
     "text": [
      "Undersampling 후 분포: Counter({0: 260, 1: 260})\n",
      "Oversampling 후 분포: Counter({0: 526, 1: 526})\n",
      "KMeansSMOTE 후 분포: Counter({0: 527, 1: 526})\n"
     ]
    },
    {
     "name": "stderr",
     "output_type": "stream",
     "text": [
      "C:\\Users\\user\\anaconda3\\envs\\paper\\lib\\site-packages\\sklearn\\cluster\\_kmeans.py:1934: FutureWarning: The default value of `n_init` will change from 3 to 'auto' in 1.4. Set the value of `n_init` explicitly to suppress the warning\n",
      "  # init_size\n",
      "C:\\Users\\user\\anaconda3\\envs\\paper\\lib\\site-packages\\sklearn\\cluster\\_kmeans.py:1966: UserWarning: MiniBatchKMeans is known to have a memory leak on Windows with MKL, when there are less chunks than available threads. You can prevent it by setting batch_size >= 2048 or by setting the environment variable OMP_NUM_THREADS=4\n",
      "  f\"batch_size >= {self._n_threads * CHUNK_SIZE} or by \"\n"
     ]
    }
   ],
   "source": [
    "## 1. Undersampling (다수 클래스 샘플 줄이기)\n",
    "undersampler = RandomUnderSampler(sampling_strategy='auto')\n",
    "x_resampled_under, y_resampled_under = undersampler.fit_resample(x, y)\n",
    "print(\"Undersampling 후 분포:\", Counter(y_resampled_under))\n",
    "\n",
    "## 2. Oversampling (소수 클래스 샘플 늘리기)\n",
    "oversampler = RandomOverSampler(sampling_strategy='auto')\n",
    "x_resampled_over, y_resampled_over = oversampler.fit_resample(x, y)\n",
    "print(\"Oversampling 후 분포:\", Counter(y_resampled_over))\n",
    "\n",
    "## 3. KMeansSMOTE (KMeans 기반으로 소수 클래스 샘플 합성)\n",
    "kmeans_smote = KMeansSMOTE(sampling_strategy='auto', random_state=710674)\n",
    "x_resampled_kmsmote, y_resampled_kmsmote = kmeans_smote.fit_resample(x, y)\n",
    "print(\"KMeansSMOTE 후 분포:\", Counter(y_resampled_kmsmote))\n",
    "\n",
    "## 각 결과를 다시 하나의 데이터프레임으로 변환\n",
    "## Undersampling, Oversampling, KMSMOTE 결과들을 각각 데이터프레임으로 변환\n",
    "df_resampled_under = pd.DataFrame(x_resampled_under, columns=x.columns)\n",
    "df_resampled_under['target'] = y_resampled_under\n",
    "\n",
    "df_resampled_over = pd.DataFrame(x_resampled_over, columns=x.columns)\n",
    "df_resampled_over['target'] = y_resampled_over\n",
    "\n",
    "df_resampled_kmsmote = pd.DataFrame(x_resampled_kmsmote, columns=x.columns)\n",
    "df_resampled_kmsmote['target'] = y_resampled_kmsmote"
   ]
  },
  {
   "cell_type": "code",
   "execution_count": null,
   "id": "2694f3e7-1b9e-42b0-a2be-d81492a75fe5",
   "metadata": {},
   "outputs": [],
   "source": []
  },
  {
   "cell_type": "code",
   "execution_count": null,
   "id": "98a0b213-4d81-4130-a0dd-12459cdcbed5",
   "metadata": {},
   "outputs": [],
   "source": []
  },
  {
   "cell_type": "markdown",
   "id": "e02c368b-2778-4898-9811-bcd4b716c458",
   "metadata": {},
   "source": [
    "***"
   ]
  },
  {
   "cell_type": "markdown",
   "id": "b709c151-d091-44f9-818a-a87b41fd025c",
   "metadata": {},
   "source": [
    "***"
   ]
  },
  {
   "cell_type": "markdown",
   "id": "1c716af4-99d6-405d-87c1-ab246aa72a2e",
   "metadata": {},
   "source": [
    "# Classification performance check"
   ]
  },
  {
   "cell_type": "markdown",
   "id": "d23b1a65-7ad2-4a26-947f-0fd9614370b8",
   "metadata": {},
   "source": [
    "## Original dataset only"
   ]
  },
  {
   "cell_type": "code",
   "execution_count": 75,
   "id": "05b74071-5d41-4b00-8a3f-83bb161e2a7f",
   "metadata": {},
   "outputs": [],
   "source": [
    "data_dnn = data_ori.copy()\n",
    "# data_dnn = df_resampled_under.copy()\n",
    "# data_dnn = df_resampled_over.copy()\n",
    "# data_dnn = df_resampled_kmsmote.copy()"
   ]
  },
  {
   "cell_type": "code",
   "execution_count": 76,
   "id": "a97d3d75-d100-490a-8771-8a44c0a5a476",
   "metadata": {},
   "outputs": [
    {
     "data": {
      "text/plain": [
       "Index(['age', 'sex', 'cp', 'trestbps', 'chol', 'fbs', 'restecg', 'thalach',\n",
       "       'exang', 'oldpeak', 'slope', 'ca', 'thal', 'target', 'age_group',\n",
       "       'age_enc'],\n",
       "      dtype='object')"
      ]
     },
     "execution_count": 76,
     "metadata": {},
     "output_type": "execute_result"
    }
   ],
   "source": [
    "data_dnn.columns"
   ]
  },
  {
   "cell_type": "code",
   "execution_count": 81,
   "id": "623702f9-0225-4b1f-a3d1-6b5e8ab51d55",
   "metadata": {},
   "outputs": [],
   "source": [
    "drop_list = ['target', 'age_group', 'age', 'sex', 'age_enc']\n",
    "# drop_list = ['target', 'age_group']\n",
    "# drop_list = ['target']"
   ]
  },
  {
   "cell_type": "code",
   "execution_count": 82,
   "id": "6dcfa146-97d1-4ed7-8623-a5d3d550cd16",
   "metadata": {},
   "outputs": [],
   "source": [
    "x = data_dnn.drop(drop_list, axis=1)\n",
    "x = x.fillna(x.mean()) ## filling na values with mean values (just drop the rows is also a possible option)\n",
    "y = data_dnn.target"
   ]
  },
  {
   "cell_type": "code",
   "execution_count": 83,
   "id": "3c300b5e-6947-4cbc-ba4a-810782bfd78d",
   "metadata": {},
   "outputs": [
    {
     "data": {
      "text/plain": [
       "(786, 11)"
      ]
     },
     "execution_count": 83,
     "metadata": {},
     "output_type": "execute_result"
    }
   ],
   "source": [
    "x.shape"
   ]
  },
  {
   "cell_type": "code",
   "execution_count": 84,
   "id": "2daf1d28-bd56-4b86-b847-75e5925c1d26",
   "metadata": {},
   "outputs": [],
   "source": [
    "data_x = x.copy()\n",
    "data_x[:] = (scaler.fit_transform(data_x[:])).round(decimals=6) ## scaling x values\n",
    "\n",
    "label = y.copy()\n",
    "# label = label.replace({'B':0})\n",
    "# label = label.replace({'M': 1})\n",
    "data_y = to_categorical(label, 2) ## into the format of one-hot encoding"
   ]
  },
  {
   "cell_type": "code",
   "execution_count": 85,
   "id": "5b148481-23f4-4070-b6b5-ac50fd174804",
   "metadata": {},
   "outputs": [],
   "source": [
    "x_train, x_test, y_train, y_test = train_test_split(data_x, data_y, test_size = 0.2, random_state = 710674, stratify=data_y)"
   ]
  },
  {
   "cell_type": "code",
   "execution_count": 86,
   "id": "6d3c1c17-c014-4f39-8682-1f15e330908b",
   "metadata": {},
   "outputs": [],
   "source": [
    "## definition for computing class weight (to solve class imbalance issue)\n",
    "def compute_class_weights(y):\n",
    "    class_counts = np.bincount(y) ## calculating data point for each class\n",
    "    total_samples = len(y) ## total data points\n",
    "    ## computing each class weight\n",
    "    class_weights = {i: total_samples / (len(class_counts) * class_count) \n",
    "                     for i, class_count in enumerate(class_counts)}\n",
    "    \n",
    "    return class_weights"
   ]
  },
  {
   "cell_type": "code",
   "execution_count": 87,
   "id": "0596145a-e853-45aa-9efa-84c199748154",
   "metadata": {},
   "outputs": [
    {
     "name": "stdout",
     "output_type": "stream",
     "text": [
      "{0: 1.5115384615384615, 1: 0.747148288973384}\n"
     ]
    }
   ],
   "source": [
    "class_weight = compute_class_weights(label)\n",
    "print(class_weight)"
   ]
  },
  {
   "cell_type": "code",
   "execution_count": null,
   "id": "adf06b45-c38d-4970-aa25-14b0db1993f4",
   "metadata": {},
   "outputs": [],
   "source": []
  },
  {
   "cell_type": "markdown",
   "id": "da47566c-3dfe-48b6-b810-a04809da4ceb",
   "metadata": {
    "jp-MarkdownHeadingCollapsed": true
   },
   "source": [
    "## Augmented dataset add"
   ]
  },
  {
   "cell_type": "code",
   "execution_count": null,
   "id": "1634968d-8810-455b-b7b0-fd99c7c3d61e",
   "metadata": {},
   "outputs": [],
   "source": [
    "data_aug = data_cvae.copy()"
   ]
  },
  {
   "cell_type": "code",
   "execution_count": null,
   "id": "80e6c1c1-df6e-4e41-8803-3879dcdc83a0",
   "metadata": {},
   "outputs": [],
   "source": [
    "data_aug = data_aug.drop(['sex', 'age_group_enc', 'target'], axis=1)"
   ]
  },
  {
   "cell_type": "code",
   "execution_count": null,
   "id": "599f8004-beea-4982-8426-eb4be9a272c2",
   "metadata": {},
   "outputs": [],
   "source": [
    "data_aug_scaled = scaler.fit_transform(data_aug)\n",
    "data_aug_new = pd.DataFrame(data_aug_scaled, columns = data_aug.columns)"
   ]
  },
  {
   "cell_type": "code",
   "execution_count": null,
   "id": "d770c9b5-a817-4f8e-8afb-ab320ec9f34f",
   "metadata": {},
   "outputs": [],
   "source": [
    "data_aug_new['target'] = label.values"
   ]
  },
  {
   "cell_type": "code",
   "execution_count": null,
   "id": "29163abf-8fdd-45d2-9dce-b14aca1a687e",
   "metadata": {},
   "outputs": [],
   "source": [
    "data_aug_new.head()"
   ]
  },
  {
   "cell_type": "code",
   "execution_count": null,
   "id": "ea68dad5-b180-4fa1-abbd-2f4a7d041100",
   "metadata": {},
   "outputs": [],
   "source": []
  },
  {
   "cell_type": "markdown",
   "id": "77bb9b8a-f5de-4b7d-830c-f3947c804f30",
   "metadata": {},
   "source": [
    "#### train test split"
   ]
  },
  {
   "cell_type": "code",
   "execution_count": null,
   "id": "7d22ddfc-dbe9-42cc-b57f-64ebaf6609f7",
   "metadata": {},
   "outputs": [],
   "source": [
    "def prepare_data_for_training(original_data, synthetic_data, target_column='target', test_size=0.2):\n",
    "    # 1. synthetic_data에 column 이름 붙이고 target 열 추가\n",
    "    # 원본 데이터에서 column 이름과 target 추가\n",
    "    synthetic_data_with_target = []\n",
    "    for class_label, class_synthetic_data in synthetic_data.items():\n",
    "        # original_data에서 해당 class의 데이터 column 이름을 추출\n",
    "        columns = original_data.drop(target_column, axis=1).columns\n",
    "        synthetic_df = pd.DataFrame(class_synthetic_data, columns=columns)\n",
    "        \n",
    "        # 'target' 열 추가 (class_label에 해당하는 target 값 추가)\n",
    "        synthetic_df[target_column] = class_label\n",
    "        \n",
    "        synthetic_data_with_target.append(synthetic_df)\n",
    "    \n",
    "    # 모든 synthetic data 합치기\n",
    "    synthetic_data_with_target = pd.concat(synthetic_data_with_target, axis=0)\n",
    "    \n",
    "    # 2. 원본 데이터와 합치기\n",
    "    original_data_with_target = original_data.copy()\n",
    "    combined_data = pd.concat([original_data_with_target, synthetic_data_with_target], axis=0, ignore_index=True)\n",
    "    \n",
    "    # 3. 원본 데이터의 일부와 synthetic data를 합쳐서 훈련 데이터 만들기\n",
    "    # train_test_split을 사용하여 원본 데이터에서 일부를 test_data로 분리\n",
    "    train_data, test_data = train_test_split(original_data_with_target, test_size=test_size, stratify=original_data_with_target[target_column])\n",
    "\n",
    "    # 훈련 데이터는 train_data와 synthetic_data 합치기\n",
    "    training_data = pd.concat([train_data, synthetic_data_with_target], axis=0, ignore_index=True)\n",
    "\n",
    "    return training_data, test_data\n",
    "\n",
    "# 예시 사용\n",
    "# 'data_cvae'는 원본 데이터, 'synthetic_data'는 synthetic data로 가정\n",
    "training_data, test_data = prepare_data_for_training(data_aug_new, synthetic_data, target_column='target', test_size=0.4)\n",
    "\n",
    "# 결과 확인\n",
    "print(\"Training data shape:\", training_data.shape)\n",
    "print(\"Test data shape:\", test_data.shape)"
   ]
  },
  {
   "cell_type": "code",
   "execution_count": null,
   "id": "ad63aa06-52ee-4519-b0bc-432ed235fae3",
   "metadata": {},
   "outputs": [],
   "source": [
    "training_data"
   ]
  },
  {
   "cell_type": "code",
   "execution_count": null,
   "id": "d4b0224e-de22-4292-8637-1535530d94a2",
   "metadata": {},
   "outputs": [],
   "source": []
  },
  {
   "cell_type": "code",
   "execution_count": null,
   "id": "8e4b33e8-e678-4cbf-aea4-54d751d00517",
   "metadata": {},
   "outputs": [],
   "source": [
    "data_dnn = training_data.copy()"
   ]
  },
  {
   "cell_type": "code",
   "execution_count": null,
   "id": "7977ec39-0979-4ccb-83fe-c0c14d7587c0",
   "metadata": {},
   "outputs": [],
   "source": [
    "x = data_dnn.drop('target', axis=1)\n",
    "x = x.fillna(x.mean())\n",
    "y = data_dnn.target"
   ]
  },
  {
   "cell_type": "code",
   "execution_count": null,
   "id": "ea230a58-039b-463c-b96f-898074d86474",
   "metadata": {},
   "outputs": [],
   "source": [
    "data_x = x.copy()\n",
    "label=y.copy()\n",
    "data_y = to_categorical(label, 2)"
   ]
  },
  {
   "cell_type": "code",
   "execution_count": null,
   "id": "e5b80e87-940c-4567-bbe0-12667b4297a1",
   "metadata": {},
   "outputs": [],
   "source": []
  },
  {
   "cell_type": "code",
   "execution_count": null,
   "id": "0b7cfaa6-f0ee-4c8b-98b7-cbbf29b98f28",
   "metadata": {},
   "outputs": [],
   "source": []
  },
  {
   "cell_type": "markdown",
   "id": "656d04ba-c534-479a-a64d-5aa6372f9ddf",
   "metadata": {},
   "source": [
    "## Simple DNN model"
   ]
  },
  {
   "cell_type": "markdown",
   "id": "acf53eee-2152-48a2-b32a-72fcb1735300",
   "metadata": {},
   "source": [
    "> To compare classification performance, we design simple structure of DNN."
   ]
  },
  {
   "cell_type": "code",
   "execution_count": 88,
   "id": "d63b03d7-14df-4e9d-9300-0186b78f56e2",
   "metadata": {},
   "outputs": [],
   "source": [
    "class Args_dnn:\n",
    "    # arugments\n",
    "    epochs=50\n",
    "    bs=32\n",
    "    lr=0.0001\n",
    "    momentum=0.9\n",
    "    num_classes= 2\n",
    "    seed=710674\n",
    "    split=5\n",
    "\n",
    "args_dnn = Args_dnn()"
   ]
  },
  {
   "cell_type": "code",
   "execution_count": null,
   "id": "6f8a465b-88c6-422b-9bb9-51da409a6ba5",
   "metadata": {},
   "outputs": [],
   "source": []
  },
  {
   "cell_type": "markdown",
   "id": "6fd8edf5-17b3-4621-b44b-2989de45222d",
   "metadata": {},
   "source": [
    "### DNN model"
   ]
  },
  {
   "cell_type": "code",
   "execution_count": null,
   "id": "36842d63-1554-4616-a932-a7996e0b5006",
   "metadata": {},
   "outputs": [],
   "source": [
    "class SimpleDNN:\n",
    "    def __init__(self, input_dim, layer_configs, output_units, output_activation='softmax'):\n",
    "        self.input_dim = input_dim ## input data dimensionality (# variables)\n",
    "        self.layer_configs = layer_configs ## hidden layer/sequential layer lists (units, activation, batch_norm, dropout_rate)\n",
    "        self.output_units = output_units ## output unit no.\n",
    "        self.output_activation = output_activation ## activation function for output layer\n",
    "        self.model = self.build_model()\n",
    "        self.callbacks = []\n",
    "\n",
    "    def build_model(self):\n",
    "        model = models.Sequential()\n",
    "        ## add first hidden layer\n",
    "        model.add(layers.Dense(units=self.layer_configs[0]['units'], activation=self.layer_configs[0]['activation'], input_shape=(self.input_dim,)))\n",
    "        \n",
    "        ## batch normalization and dropout for first layer\n",
    "        if self.layer_configs[0].get('batch_norm', False):\n",
    "            model.add(layers.BatchNormalization())\n",
    "        if self.layer_configs[0].get('dropout_rate', None) is not None:\n",
    "            model.add(layers.Dropout(rate=self.layer_configs[0]['dropout_rate']))\n",
    "        \n",
    "        ## do same for rest hidden layers (except for the last)\n",
    "        for config in self.layer_configs[1:]:\n",
    "            model.add(layers.Dense(units=config['units'], activation=config['activation']))\n",
    "            \n",
    "            if config.get('batch_norm', False):\n",
    "                model.add(layers.BatchNormalization())\n",
    "            \n",
    "            if config.get('dropout_rate', None) is not None:\n",
    "                model.add(layers.Dropout(rate=config['dropout_rate']))\n",
    "        \n",
    "        ## add output layer\n",
    "        model.add(layers.Dense(units=self.output_units, activation=self.output_activation))\n",
    "        \n",
    "        return model\n",
    "\n",
    "    def compile_model(self, optimizer, loss='categorical_crossentropy', metrics=['accuracy'], lr_scheduler=None, class_weight=None):\n",
    "        if lr_scheduler:\n",
    "            ## AddLearningRateScheduler callback\n",
    "            self.callbacks.append(LearningRateScheduler(lr_scheduler))\n",
    "        \n",
    "        self.model.compile(optimizer, loss, metrics)\n",
    "\n",
    "    def fit_model(self, x_train, y_train, epochs, batch_size, validation_split=None, class_weight=None, validation_data=None):\n",
    "        return self.model.fit(x_train, y_train, epochs=epochs, batch_size=batch_size, validation_split=validation_split,\n",
    "                             class_weight=class_weight, validation_data = validation_data, callbacks=self.callbacks)\n",
    "\n",
    "    def evaluate_model(self, x_test, y_test):\n",
    "        return self.model.evaluate(x_test, y_test)\n",
    "\n",
    "    def predict(self, x):\n",
    "        return self.model.predict(x)\n",
    "\n",
    "    def summary(self):\n",
    "        self.model.summary()"
   ]
  },
  {
   "cell_type": "code",
   "execution_count": 93,
   "id": "7dc70963-5d03-4f73-b145-85fc7e2bf58f",
   "metadata": {},
   "outputs": [],
   "source": [
    "def dynamic_learning_rate(epoch, mode='cyclic', base_lr=0.001, max_lr=0.006, step_size=25, gamma=0.99994):\n",
    "    cycle = np.floor(1 + epoch / (2 * step_size))\n",
    "    x = np.abs(epoch / step_size - 2 * cycle + 1)\n",
    "    \n",
    "    if mode == 'cyclic' or mode == 'triangular':\n",
    "        lr = base_lr + (max_lr - base_lr) * max(0, (1 - x))\n",
    "    elif mode == 'triangular2':\n",
    "        lr = base_lr + (max_lr - base_lr) * max(0, (1 - x)) / (2 ** (cycle - 1))\n",
    "    elif mode == 'exp_range':\n",
    "        lr = base_lr + (max_lr - base_lr) * max(0, (1 - x)) * (gamma ** epoch)\n",
    "    else:\n",
    "        raise ValueError(\"Invalid mode. Choose from 'cyclic', 'triangular', 'triangular2', or 'exp_range'.\")\n",
    "    \n",
    "    return lr"
   ]
  },
  {
   "cell_type": "code",
   "execution_count": null,
   "id": "bbc3d4c9-3840-4f68-a1ab-b437d121a8c7",
   "metadata": {},
   "outputs": [],
   "source": [
    "# lr = dynamic_learning_rate(epoch=1000, mode='cyclic')\n",
    "# lr = dynamic_learning_rate(epoch=1000, mode='triangular')\n",
    "# lr = dynamic_learning_rate(epoch=1000, mode='triangular2')\n",
    "# lr = dynamic_learning_rate(epoch=1000, mode='exp_range', gamma=0.99994)"
   ]
  },
  {
   "cell_type": "code",
   "execution_count": null,
   "id": "40d768eb-5aec-4a80-8bb1-32af09b17f3d",
   "metadata": {},
   "outputs": [],
   "source": [
    "x_train.shape"
   ]
  },
  {
   "cell_type": "code",
   "execution_count": null,
   "id": "60f71e88-1de2-4a55-ae0e-8f264e690ddf",
   "metadata": {},
   "outputs": [],
   "source": [
    "## model initialization with hidden layer list below\n",
    "layer_configs = [\n",
    "    {'units': 32, 'activation': 'relu', 'batch_norm': True, 'dropout_rate': 0.5},\n",
    "    {'units': 16, 'activation': 'relu', 'batch_norm': False, 'dropout_rate': 0.3},\n",
    "    {'units': 8, 'activation': 'relu', 'batch_norm': True, 'dropout_rate': 0.2}\n",
    "]\n",
    "\n",
    "model = SimpleDNN(output_units=args_dnn.num_classes, input_dim=x_train.shape[1], layer_configs=layer_configs)"
   ]
  },
  {
   "cell_type": "code",
   "execution_count": null,
   "id": "cb8a3972-a921-44ab-9678-af5d3a845e43",
   "metadata": {
    "scrolled": true
   },
   "outputs": [],
   "source": [
    "## compile our model\n",
    "opt = keras.optimizers.legacy.SGD(learning_rate = 0.001, decay = 1e-5, momentum = 0.9)\n",
    "scheduler = lambda epoch: dynamic_learning_rate(epoch, mode='cyclic', base_lr=0.001, max_lr=0.009, step_size=25)\n",
    "model.compile_model(optimizer = opt, lr_scheduler=scheduler)\n",
    "\n",
    "## model summary\n",
    "model.summary()"
   ]
  },
  {
   "cell_type": "code",
   "execution_count": null,
   "id": "0a0c3ac7-d734-4e26-a711-00e4d6d4895b",
   "metadata": {
    "scrolled": true
   },
   "outputs": [],
   "source": [
    "## model training on training dataset\n",
    "history = model.fit_model(x_train, y_train, epochs=args_dnn.epochs, batch_size=args_dnn.bs, validation_split=0.2)\n",
    "# history = model.fit_model(x_train, y_train, epochs=args_dnn.epochs, batch_size=args_dnn.bs, class_weight = class_weight, validation_split=0.2)"
   ]
  },
  {
   "cell_type": "code",
   "execution_count": null,
   "id": "264564c1-fc3d-4908-853f-a674413d7ee4",
   "metadata": {},
   "outputs": [],
   "source": []
  },
  {
   "cell_type": "markdown",
   "id": "7f38ffd4-a2ef-41e6-97ae-b7b66527b99a",
   "metadata": {},
   "source": [
    "### Evaluation"
   ]
  },
  {
   "cell_type": "code",
   "execution_count": null,
   "id": "242c23e4-80ba-4b2f-aa19-05967c1f5c98",
   "metadata": {},
   "outputs": [],
   "source": [
    "def evaluate_model_performance(model, x_test, y_test):\n",
    "\n",
    "    ## predict on model\n",
    "    y_predict = model.predict(x_test)\n",
    "    y_predict_classes = np.argmax(y_predict, axis=1)\n",
    "    y_test_classes = np.argmax(y_test, axis=1)\n",
    "    \n",
    "    ## calculate confusion matrix and visualize\n",
    "    cm = confusion_matrix(y_test_classes, y_predict_classes, normalize='pred')\n",
    "    plt.figure(figsize=(6, 4))\n",
    "    sns.heatmap(cm, annot=True, cmap=plt.cm.Blues, fmt='.2f')\n",
    "    plt.tight_layout()\n",
    "    plt.ylabel('True label')\n",
    "    plt.xlabel('Predicted label')\n",
    "    plt.title('Confusion Matrix')\n",
    "    plt.show()\n",
    "    \n",
    "    ## evaluation metrics\n",
    "    accuracy = metrics.accuracy_score(y_test_classes, y_predict_classes)\n",
    "    precision = metrics.precision_score(y_test_classes, y_predict_classes, average='macro')\n",
    "    recall = metrics.recall_score(y_test_classes, y_predict_classes, average='micro')\n",
    "    f1 = metrics.f1_score(y_test_classes, y_predict_classes, average='weighted')\n",
    "    auc = roc_auc_score(y_test, y_predict, multi_class='ovr')\n",
    "    \n",
    "    ## Results\n",
    "    print(\"=============================================\")\n",
    "    print(f\"The overall accuracy is: {accuracy:.4f}\")\n",
    "    print(f\"The precision score is: {precision:.4f}\")\n",
    "    print(f\"The recall score is: {recall:.4f}\")\n",
    "    print(f\"The F1 score is: {f1:.4f}\")\n",
    "    print(f\"The AUC score is: {auc:.4f}\")\n",
    "    print(\"=============================================\")\n",
    "    \n",
    "    ## Print out the classification report\n",
    "    print(\"\\nClassification Report:\")\n",
    "    print(classification_report(y_test_classes, y_predict_classes))"
   ]
  },
  {
   "cell_type": "code",
   "execution_count": null,
   "id": "20cc6ea3-e541-4c4c-93d4-37222ecdaad5",
   "metadata": {},
   "outputs": [],
   "source": [
    "evaluate_model_performance(model, x_test, y_test)"
   ]
  },
  {
   "cell_type": "code",
   "execution_count": null,
   "id": "c0423ecf-9cec-472c-981b-59519084ef8c",
   "metadata": {},
   "outputs": [],
   "source": []
  },
  {
   "cell_type": "code",
   "execution_count": null,
   "id": "c8ecee2c-e88d-46f6-af4b-92fbca49b878",
   "metadata": {},
   "outputs": [],
   "source": []
  },
  {
   "cell_type": "markdown",
   "id": "9f98b5cd-026d-4b3c-9d7c-d22aec924ca2",
   "metadata": {},
   "source": [
    "***"
   ]
  },
  {
   "cell_type": "markdown",
   "id": "6a34567e-305d-4731-959e-6969c2fc80dc",
   "metadata": {},
   "source": [
    "## k-fold"
   ]
  },
  {
   "cell_type": "code",
   "execution_count": 105,
   "id": "1ceae4d6-9cf3-47ac-9aa6-09998ca9068c",
   "metadata": {},
   "outputs": [],
   "source": [
    "class Args_kfold:\n",
    "    # arugments\n",
    "    epochs=50\n",
    "    bs=32\n",
    "    lr=0.0001\n",
    "    momentum=0.9\n",
    "    num_classes= 2\n",
    "    split=5\n",
    "    seed=710674\n",
    "\n",
    "args_kfold = Args_kfold()"
   ]
  },
  {
   "cell_type": "code",
   "execution_count": 106,
   "id": "7a9e25cb-fbad-4575-8461-d42ce17af307",
   "metadata": {},
   "outputs": [],
   "source": [
    "class kfoldMLP:\n",
    "    def __init__(self, input_dim, layer_configs, output_units, output_activation='softmax'):\n",
    "        self.input_dim = input_dim\n",
    "        self.layer_configs = layer_configs\n",
    "        self.output_units = output_units\n",
    "        self.output_activation = output_activation\n",
    "        self.callbacks = []\n",
    "        self.model = None\n",
    "        \n",
    "    def build_model(self):\n",
    "        model = models.Sequential()\n",
    "        \n",
    "        ## add first hidden layer\n",
    "        model.add(layers.Dense(units=self.layer_configs[0]['units'], \n",
    "                               activation=self.layer_configs[0]['activation'], \n",
    "                               input_shape=(self.input_dim,)))\n",
    "        \n",
    "        ## batch normalization and dropout for first layer\n",
    "        if self.layer_configs[0].get('batch_norm', False):\n",
    "            model.add(layers.BatchNormalization())\n",
    "        \n",
    "        if self.layer_configs[0].get('dropout_rate', None) is not None:\n",
    "            model.add(layers.Dropout(rate=self.layer_configs[0]['dropout_rate']))\n",
    "        \n",
    "        ## do same for rest hidden layers (except for the last)\n",
    "        for config in self.layer_configs[1:]:\n",
    "            model.add(layers.Dense(units=config['units'], activation=config['activation']))\n",
    "            \n",
    "            if config.get('batch_norm', False):\n",
    "                model.add(layers.BatchNormalization())\n",
    "            \n",
    "            if config.get('dropout_rate', None) is not None:\n",
    "                model.add(layers.Dropout(rate=config['dropout_rate']))\n",
    "        \n",
    "        ## add output layer\n",
    "        model.add(layers.Dense(units=self.output_units, activation=self.output_activation))\n",
    "        self.model = model\n",
    "\n",
    "    ## model compile\n",
    "    def compile_model(self, optimizer, loss='categorical_crossentropy', metrics=['accuracy'], lr_scheduler=None):\n",
    "        if lr_scheduler:\n",
    "            self.callbacks.append(tf.keras.callbacks.LearningRateScheduler(lr_scheduler))\n",
    "\n",
    "        self.model.compile(optimizer=optimizer, loss=loss, metrics=metrics)\n",
    "\n",
    "    def fit_model(self, x_train, y_train, epochs, batch_size, validation_data=None, class_weight=None, verbose=0):\n",
    "        return self.model.fit(\n",
    "            x_train, y_train, \n",
    "            epochs=epochs, \n",
    "            batch_size=batch_size, \n",
    "            validation_data=validation_data, \n",
    "            callbacks=self.callbacks, \n",
    "            class_weight=class_weight,\n",
    "            verbose=verbose\n",
    "        )\n",
    "\n",
    "    def evaluate_model(self, x_test, y_test):\n",
    "        return self.model.evaluate(x_test, y_test)\n",
    "\n",
    "    def predict(self, x):\n",
    "        y_pred = self.model.predict(x)\n",
    "        return np.array(y_pred)\n",
    "\n",
    "    def summary(self):\n",
    "        self.model.summary()\n",
    "\n",
    "    def cross_validate(self, x_data, y_data, n_splits, epochs, batch_size, optimizer=None, class_weight=None):\n",
    "        x_data = np.array(x_data)\n",
    "        y_data = np.array(y_data)\n",
    "        kf = KFold(n_splits=n_splits, shuffle=True) ##set fold split and shuffle\n",
    "        fold_metrics = []\n",
    "\n",
    "        for fold, (train_index, val_index) in enumerate(kf.split(x_data), 1):\n",
    "            x_train, x_val = x_data[train_index], x_data[val_index]\n",
    "            y_train, y_val = y_data[train_index], y_data[val_index]\n",
    "\n",
    "            ## build new model\n",
    "            self.build_model()\n",
    "            self.compile_model(optimizer=optimizer)\n",
    "            \n",
    "            ## model training\n",
    "            self.fit_model(x_train, y_train, epochs=epochs, batch_size=batch_size, validation_data=(x_val, y_val), class_weight=class_weight, verbose=0)\n",
    "            \n",
    "            ## evaluate the model\n",
    "            y_val_pred = self.predict(x_val)\n",
    "            if isinstance(y_val_pred, list):\n",
    "                y_val_pred = np.array(y_val_pred)\n",
    "            y_val_pred = np.argmax(y_val_pred, axis=1)\n",
    "            y_val_true = np.argmax(y_val, axis=1)\n",
    "            \n",
    "            accuracy = accuracy_score(y_val_true, y_val_pred)\n",
    "            precision = precision_score(y_val_true, y_val_pred, average='macro')\n",
    "            recall = recall_score(y_val_true, y_val_pred, average='macro')\n",
    "            f1 = f1_score(y_val_true, y_val_pred, average='weighted')\n",
    "            auc = roc_auc_score(y_val, self.predict(x_val), multi_class='ovr')\n",
    "            \n",
    "            fold_metrics.append({\n",
    "                'accuracy': accuracy,\n",
    "                'precision': precision,\n",
    "                'recall': recall,\n",
    "                'f1_score': f1,\n",
    "                'auc': auc\n",
    "            })\n",
    "\n",
    "            print(f\"Fold metrics: Accuracy={accuracy:.4f}, Precision={precision:.4f}, Recall={recall:.4f}, F1 Score={f1:.4f}, AUC={auc:.4f}\")\n",
    "        \n",
    "        avg_metrics = {key: np.mean([m[key] for m in fold_metrics]) for key in fold_metrics[0].keys()}\n",
    "        \n",
    "        print(\"\\nAverage metrics across all folds:\")\n",
    "        for metric, value in avg_metrics.items():\n",
    "            print(f\"{metric.capitalize()}: {value:.4f}\")\n",
    "\n",
    "        return fold_metrics, avg_metrics\n",
    "\n",
    "    # ## evaluation on test dataset (for performance check)\n",
    "    # def evaluate_test_data(self, x_test, y_test):\n",
    "    #     y_pred = self.predict(x_test)\n",
    "    #     y_pred_labels = np.argmax(y_pred, axis=1)\n",
    "    #     y_true_labels = np.argmax(y_test, axis=1)\n",
    "\n",
    "    #     # Confusion Matrix\n",
    "    #     cm = confusion_matrix(y_true_labels, y_pred_labels, normalize='pred')\n",
    "    #     plt.figure(figsize=(6, 4))\n",
    "    #     sns.heatmap(cm, annot=True, fmt='.2f', cmap='Blues')\n",
    "    #     plt.title('Confusion Matrix')\n",
    "    #     plt.ylabel('True Label')\n",
    "    #     plt.xlabel('Predicted Label')\n",
    "    #     plt.show()\n",
    "    #     print(\"=============================================\")\n",
    "        \n",
    "    #     ## evaluation metrics\n",
    "    #     accuracy = accuracy_score(y_true_labels, y_pred_labels)\n",
    "    #     precision = precision_score(y_true_labels, y_pred_labels, average='macro')\n",
    "    #     recall = recall_score(y_true_labels, y_pred_labels, average='micro')\n",
    "    #     f1 = f1_score(y_true_labels, y_pred_labels, average='weighted')\n",
    "    #     auc = roc_auc_score(y_test, y_pred, multi_class='ovr')\n",
    "        \n",
    "    #     ## Results\n",
    "    #     print(f\"The overall accuracy is: {accuracy:.4f}\")\n",
    "    #     print(f\"The precision score is: {precision:.4f}\")\n",
    "    #     print(f\"The recall score is: {recall:.4f}\")\n",
    "    #     print(f\"The F1 score is: {f1:.4f}\")\n",
    "    #     print(f\"The AUC score is: {auc:.4f}\")\n",
    "    #     print(\"=============================================\")        \n",
    "\n",
    "    #     # Classification Report\n",
    "    #     class_report = classification_report(y_true_labels, y_pred_labels, target_names=[f'Class {i}' for i in range(self.output_units)])\n",
    "    #     print(\"Classification Report:\\n\", class_report)\n",
    "\n",
    "    #     return cm, class_report"
   ]
  },
  {
   "cell_type": "code",
   "execution_count": 107,
   "id": "348e0691-d62b-481a-86f0-58486dc577b7",
   "metadata": {},
   "outputs": [],
   "source": [
    "## model initialization with hidden layer list below\n",
    "## model initialization with hidden layer list below\n",
    "layer_configs = [\n",
    "    {'units': 16, 'activation': 'relu', 'batch_norm': True, 'dropout_rate': 0.5},\n",
    "    {'units': 8, 'activation': 'relu', 'batch_norm': False, 'dropout_rate': 0.3},\n",
    "    {'units': 4, 'activation': 'relu', 'batch_norm': True, 'dropout_rate': 0.2}\n",
    "]\n",
    "\n",
    "# kfold = kfoldMLP(output_units=args_kfold.num_classes, input_dim=x_train.shape[1], layer_configs=layer_configs)\n",
    "kfold = kfoldMLP(output_units=args_kfold.num_classes, input_dim=data_x.shape[1], layer_configs=layer_configs)"
   ]
  },
  {
   "cell_type": "code",
   "execution_count": 108,
   "id": "f8d8a6d9-8860-4a8d-91a7-62832e535024",
   "metadata": {},
   "outputs": [],
   "source": [
    "## compile our model\n",
    "opt = keras.optimizers.legacy.SGD(learning_rate = 0.001, decay = 1e-5, momentum = 0.9)\n",
    "scheduler = lambda epoch: dynamic_learning_rate(epoch, mode='cyclic', base_lr=0.001, max_lr=0.009, step_size=25)"
   ]
  },
  {
   "cell_type": "code",
   "execution_count": 109,
   "id": "67247754-33e6-4083-b5b3-a1bd47e88686",
   "metadata": {
    "scrolled": true
   },
   "outputs": [
    {
     "name": "stdout",
     "output_type": "stream",
     "text": [
      "5/5 [==============================] - 0s 997us/step\n",
      "5/5 [==============================] - 0s 748us/step\n",
      "Fold metrics: Accuracy=0.7405, Precision=0.7373, Recall=0.5964, F1 Score=0.6895, AUC=0.8129\n",
      "5/5 [==============================] - 0s 1ms/step\n",
      "5/5 [==============================] - 0s 1ms/step\n",
      "Fold metrics: Accuracy=0.8153, Precision=0.8386, Recall=0.7491, F1 Score=0.8015, AUC=0.8580\n",
      "5/5 [==============================] - 0s 998us/step\n",
      "5/5 [==============================] - 0s 1ms/step\n",
      "Fold metrics: Accuracy=0.7898, Precision=0.8099, Recall=0.7209, F1 Score=0.7727, AUC=0.8601\n",
      "5/5 [==============================] - 0s 748us/step\n",
      "5/5 [==============================] - 0s 748us/step\n",
      "Fold metrics: Accuracy=0.8217, Precision=0.8426, Recall=0.7544, F1 Score=0.8087, AUC=0.8917\n",
      "5/5 [==============================] - 0s 748us/step\n",
      "5/5 [==============================] - 0s 919us/step\n",
      "Fold metrics: Accuracy=0.7834, Precision=0.7566, Recall=0.7825, F1 Score=0.7886, AUC=0.8594\n",
      "\n",
      "Average metrics across all folds:\n",
      "Accuracy: 0.7901\n",
      "Precision: 0.7970\n",
      "Recall: 0.7207\n",
      "F1_score: 0.7722\n",
      "Auc: 0.8564\n",
      "Fold 1: {'accuracy': 0.740506329113924, 'precision': 0.7372960372960373, 'recall': 0.5964015151515152, 'f1_score': 0.6894672012998925, 'auc': 0.8128787878787878}\n",
      "Fold 2: {'accuracy': 0.8152866242038217, 'precision': 0.8385874877810362, 'recall': 0.7491010427903633, 'f1_score': 0.8015376413479616, 'auc': 0.8579647608773822}\n",
      "Fold 3: {'accuracy': 0.7898089171974523, 'precision': 0.809875, 'recall': 0.7209447415329768, 'f1_score': 0.7726734853623161, 'auc': 0.8600713012477719}\n",
      "Fold 4: {'accuracy': 0.821656050955414, 'precision': 0.8426197458455522, 'recall': 0.7543541364296081, 'f1_score': 0.8087404854901288, 'auc': 0.8916908563134979}\n",
      "Fold 5: {'accuracy': 0.7834394904458599, 'precision': 0.7566213921901528, 'recall': 0.7825233644859813, 'f1_score': 0.7886084559320354, 'auc': 0.8594392523364486}\n"
     ]
    }
   ],
   "source": [
    "# K-Fold 교차 검증 실행\n",
    "# metrics, avg_metrics = kfold.cross_validate(x_train, y_train, n_splits=args_kfold.split, optimizer=opt, epochs=args_kfold.epochs, batch_size=args_kfold.bs)\n",
    "metrics, avg_metrics = kfold.cross_validate(data_x, data_y, n_splits=args_kfold.split, optimizer=opt, epochs=args_kfold.epochs, batch_size=args_kfold.bs)\n",
    "\n",
    "# 각 폴드의 성능 지표 출력\n",
    "for i, metric in enumerate(metrics):\n",
    "    print(f\"Fold {i+1}: {metric}\")"
   ]
  },
  {
   "cell_type": "code",
   "execution_count": null,
   "id": "f622b490-35fc-4e87-a0b2-8723aaff56ed",
   "metadata": {},
   "outputs": [],
   "source": []
  },
  {
   "cell_type": "markdown",
   "id": "fb12c85a-b953-4f2d-a283-a1be60bd7494",
   "metadata": {},
   "source": [
    "* Evaluation on test dataset"
   ]
  },
  {
   "cell_type": "code",
   "execution_count": null,
   "id": "c3bde173-0483-46c3-9640-62c675a5c392",
   "metadata": {},
   "outputs": [],
   "source": [
    "# cm, class_report = kfold.evaluate_test_data(x_test, y_test)"
   ]
  },
  {
   "cell_type": "code",
   "execution_count": null,
   "id": "2690c41d-7eb5-4afb-912a-45b559a6e9f0",
   "metadata": {},
   "outputs": [],
   "source": []
  },
  {
   "cell_type": "code",
   "execution_count": null,
   "id": "1b6cf1da-f1d1-46a6-9237-24a62b74b170",
   "metadata": {},
   "outputs": [],
   "source": []
  },
  {
   "cell_type": "code",
   "execution_count": null,
   "id": "80b9b1f7-4991-4934-b120-314bbeb33685",
   "metadata": {},
   "outputs": [],
   "source": []
  },
  {
   "cell_type": "code",
   "execution_count": null,
   "id": "65817ea1-e285-4a9a-8f37-3124a0bc8704",
   "metadata": {},
   "outputs": [],
   "source": []
  },
  {
   "cell_type": "markdown",
   "id": "b5c0c40f-b403-4134-8372-e47a639f0efb",
   "metadata": {},
   "source": [
    "# Code Practice"
   ]
  },
  {
   "cell_type": "code",
   "execution_count": null,
   "id": "f26ce676-eac9-4036-bebe-e662ed28b529",
   "metadata": {},
   "outputs": [],
   "source": []
  },
  {
   "cell_type": "code",
   "execution_count": null,
   "id": "59239ab4-8312-4796-a352-a432b63f12bb",
   "metadata": {},
   "outputs": [],
   "source": []
  },
  {
   "cell_type": "code",
   "execution_count": null,
   "id": "cf499915-81e7-4e06-af7f-94481cda68d8",
   "metadata": {},
   "outputs": [],
   "source": []
  },
  {
   "cell_type": "code",
   "execution_count": null,
   "id": "51b7d30a-89e6-4997-aecc-42bafb038ecb",
   "metadata": {},
   "outputs": [],
   "source": []
  },
  {
   "cell_type": "code",
   "execution_count": null,
   "id": "c76e52db-dcc3-40e1-b23a-989e00b99df7",
   "metadata": {},
   "outputs": [],
   "source": []
  },
  {
   "cell_type": "code",
   "execution_count": null,
   "id": "08feb96a-dd9a-4e74-b287-4e437cfe8560",
   "metadata": {},
   "outputs": [],
   "source": []
  },
  {
   "cell_type": "code",
   "execution_count": null,
   "id": "7962fcd1-0746-41b1-bd42-779b42d2d96c",
   "metadata": {},
   "outputs": [],
   "source": []
  },
  {
   "cell_type": "code",
   "execution_count": null,
   "id": "7eaff9dd-6fb9-4bc2-9012-49032c09711f",
   "metadata": {},
   "outputs": [],
   "source": []
  },
  {
   "cell_type": "code",
   "execution_count": null,
   "id": "22e1b902-2922-4dcd-b822-7e8c7a5aade1",
   "metadata": {},
   "outputs": [],
   "source": []
  },
  {
   "cell_type": "code",
   "execution_count": null,
   "id": "7f60fcb3-d8b7-4bb8-b46f-09e5050ef280",
   "metadata": {},
   "outputs": [],
   "source": []
  },
  {
   "cell_type": "code",
   "execution_count": null,
   "id": "9db146e5-9dcf-4b38-b2af-6fe19adf821d",
   "metadata": {},
   "outputs": [],
   "source": []
  },
  {
   "cell_type": "code",
   "execution_count": null,
   "id": "25fc4a0a-a0d4-4ba5-bd64-6a6c2204e4a8",
   "metadata": {},
   "outputs": [],
   "source": []
  }
 ],
 "metadata": {
  "kernelspec": {
   "display_name": "Python 3 (ipykernel)",
   "language": "python",
   "name": "python3"
  },
  "language_info": {
   "codemirror_mode": {
    "name": "ipython",
    "version": 3
   },
   "file_extension": ".py",
   "mimetype": "text/x-python",
   "name": "python",
   "nbconvert_exporter": "python",
   "pygments_lexer": "ipython3",
   "version": "3.8.20"
  }
 },
 "nbformat": 4,
 "nbformat_minor": 5
}
