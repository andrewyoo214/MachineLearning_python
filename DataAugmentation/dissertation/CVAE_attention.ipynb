{
 "cells": [
  {
   "cell_type": "markdown",
   "id": "a409186e-356f-4a34-835f-c006018fabff",
   "metadata": {},
   "source": [
    "# CVAE + attention practices"
   ]
  },
  {
   "cell_type": "code",
   "execution_count": 43,
   "id": "0d9adca5-bebb-4919-8a2b-d84ec4835ea6",
   "metadata": {},
   "outputs": [],
   "source": [
    "import numpy as np\n",
    "import pandas as pd\n",
    "import seaborn as sns\n",
    "import torch \n",
    "import torch.nn as nn\n",
    "import torch.nn.functional as F\n",
    "import matplotlib.pyplot as plt"
   ]
  },
  {
   "cell_type": "code",
   "execution_count": 11,
   "id": "a7a27358-959d-4a41-9084-9d66af6206cb",
   "metadata": {},
   "outputs": [],
   "source": [
    "import torch.optim as optim\n",
    "from torch.utils.data import Dataset, DataLoader\n",
    "from sklearn.preprocessing import StandardScaler"
   ]
  },
  {
   "cell_type": "code",
   "execution_count": 2,
   "id": "3f5a3ff4-9884-4373-a5ea-9c118dde07d1",
   "metadata": {},
   "outputs": [
    {
     "name": "stdout",
     "output_type": "stream",
     "text": [
      "cuda\n"
     ]
    }
   ],
   "source": [
    "device = torch.device('cuda' if torch.cuda.is_available() else 'cpu')\n",
    "print(device)"
   ]
  },
  {
   "cell_type": "code",
   "execution_count": null,
   "id": "6f731884-f8ea-420e-b815-c63e14525637",
   "metadata": {},
   "outputs": [],
   "source": []
  },
  {
   "cell_type": "code",
   "execution_count": 3,
   "id": "3e533fe1-f4c0-4b72-b2c9-bc7816f15a34",
   "metadata": {},
   "outputs": [],
   "source": [
    "# data_ori = pd.read_csv(\"C:/Users/andre/Downloads/heart_disease.csv\") ## home direc.\n",
    "data_ori = pd.read_csv('E:/RESEARCH/Datasets/dissertation/heart_disease_sampled.csv') ## heart disease public dataset"
   ]
  },
  {
   "cell_type": "code",
   "execution_count": 4,
   "id": "14861381-1ce2-4ef4-883a-03550f2d47ed",
   "metadata": {},
   "outputs": [],
   "source": [
    "# 최소값과 최대값을 확인\n",
    "min_age = data_ori['age'].min()\n",
    "max_age = data_ori['age'].max()\n",
    "\n",
    "# 연령 구간을 10살씩 끊어서 정의\n",
    "age_bins = list(range(min_age // 10 * 10, max_age + 10, 10))  # 10살 간격으로 구간 정의\n",
    "age_labels = [f\"({i}, {i+10}]\" for i in age_bins[:-1]]  # 구간 레이블 생성\n",
    "\n",
    "# pd.cut()을 사용하여 연령을 구간별로 그룹화\n",
    "data_ori['age_group'] = pd.cut(data_ori['age'], bins=age_bins, labels=age_labels, right=False)\n",
    "\n",
    "# age_group을 카테고리형 변수로 변환하고 코드화 (0부터 시작)\n",
    "data_ori['age_enc'] = pd.Categorical(data_ori['age_group']).codes"
   ]
  },
  {
   "cell_type": "code",
   "execution_count": 5,
   "id": "65aad966-42a4-4be9-9585-1c6a56ee283d",
   "metadata": {},
   "outputs": [
    {
     "data": {
      "text/html": [
       "<div>\n",
       "<style scoped>\n",
       "    .dataframe tbody tr th:only-of-type {\n",
       "        vertical-align: middle;\n",
       "    }\n",
       "\n",
       "    .dataframe tbody tr th {\n",
       "        vertical-align: top;\n",
       "    }\n",
       "\n",
       "    .dataframe thead th {\n",
       "        text-align: right;\n",
       "    }\n",
       "</style>\n",
       "<table border=\"1\" class=\"dataframe\">\n",
       "  <thead>\n",
       "    <tr style=\"text-align: right;\">\n",
       "      <th></th>\n",
       "      <th>age</th>\n",
       "      <th>sex</th>\n",
       "      <th>cp</th>\n",
       "      <th>trestbps</th>\n",
       "      <th>chol</th>\n",
       "      <th>fbs</th>\n",
       "      <th>restecg</th>\n",
       "      <th>thalach</th>\n",
       "      <th>exang</th>\n",
       "      <th>oldpeak</th>\n",
       "      <th>slope</th>\n",
       "      <th>ca</th>\n",
       "      <th>thal</th>\n",
       "      <th>target</th>\n",
       "      <th>age_group</th>\n",
       "      <th>age_enc</th>\n",
       "    </tr>\n",
       "  </thead>\n",
       "  <tbody>\n",
       "    <tr>\n",
       "      <th>0</th>\n",
       "      <td>54</td>\n",
       "      <td>1</td>\n",
       "      <td>0</td>\n",
       "      <td>120</td>\n",
       "      <td>188</td>\n",
       "      <td>0</td>\n",
       "      <td>1</td>\n",
       "      <td>113</td>\n",
       "      <td>0</td>\n",
       "      <td>1.4</td>\n",
       "      <td>1</td>\n",
       "      <td>1</td>\n",
       "      <td>3</td>\n",
       "      <td>0</td>\n",
       "      <td>(50, 60]</td>\n",
       "      <td>3</td>\n",
       "    </tr>\n",
       "    <tr>\n",
       "      <th>1</th>\n",
       "      <td>43</td>\n",
       "      <td>0</td>\n",
       "      <td>0</td>\n",
       "      <td>132</td>\n",
       "      <td>341</td>\n",
       "      <td>1</td>\n",
       "      <td>0</td>\n",
       "      <td>136</td>\n",
       "      <td>1</td>\n",
       "      <td>3.0</td>\n",
       "      <td>1</td>\n",
       "      <td>0</td>\n",
       "      <td>3</td>\n",
       "      <td>0</td>\n",
       "      <td>(40, 50]</td>\n",
       "      <td>2</td>\n",
       "    </tr>\n",
       "    <tr>\n",
       "      <th>2</th>\n",
       "      <td>62</td>\n",
       "      <td>0</td>\n",
       "      <td>2</td>\n",
       "      <td>130</td>\n",
       "      <td>263</td>\n",
       "      <td>0</td>\n",
       "      <td>1</td>\n",
       "      <td>97</td>\n",
       "      <td>0</td>\n",
       "      <td>1.2</td>\n",
       "      <td>1</td>\n",
       "      <td>1</td>\n",
       "      <td>3</td>\n",
       "      <td>0</td>\n",
       "      <td>(60, 70]</td>\n",
       "      <td>4</td>\n",
       "    </tr>\n",
       "    <tr>\n",
       "      <th>3</th>\n",
       "      <td>62</td>\n",
       "      <td>0</td>\n",
       "      <td>2</td>\n",
       "      <td>130</td>\n",
       "      <td>263</td>\n",
       "      <td>0</td>\n",
       "      <td>1</td>\n",
       "      <td>97</td>\n",
       "      <td>0</td>\n",
       "      <td>1.2</td>\n",
       "      <td>1</td>\n",
       "      <td>1</td>\n",
       "      <td>3</td>\n",
       "      <td>0</td>\n",
       "      <td>(60, 70]</td>\n",
       "      <td>4</td>\n",
       "    </tr>\n",
       "    <tr>\n",
       "      <th>4</th>\n",
       "      <td>47</td>\n",
       "      <td>1</td>\n",
       "      <td>2</td>\n",
       "      <td>108</td>\n",
       "      <td>243</td>\n",
       "      <td>0</td>\n",
       "      <td>1</td>\n",
       "      <td>152</td>\n",
       "      <td>0</td>\n",
       "      <td>0.0</td>\n",
       "      <td>2</td>\n",
       "      <td>0</td>\n",
       "      <td>2</td>\n",
       "      <td>0</td>\n",
       "      <td>(40, 50]</td>\n",
       "      <td>2</td>\n",
       "    </tr>\n",
       "  </tbody>\n",
       "</table>\n",
       "</div>"
      ],
      "text/plain": [
       "   age  sex  cp  trestbps  chol  fbs  restecg  thalach  exang  oldpeak  slope  \\\n",
       "0   54    1   0       120   188    0        1      113      0      1.4      1   \n",
       "1   43    0   0       132   341    1        0      136      1      3.0      1   \n",
       "2   62    0   2       130   263    0        1       97      0      1.2      1   \n",
       "3   62    0   2       130   263    0        1       97      0      1.2      1   \n",
       "4   47    1   2       108   243    0        1      152      0      0.0      2   \n",
       "\n",
       "   ca  thal  target age_group  age_enc  \n",
       "0   1     3       0  (50, 60]        3  \n",
       "1   0     3       0  (40, 50]        2  \n",
       "2   1     3       0  (60, 70]        4  \n",
       "3   1     3       0  (60, 70]        4  \n",
       "4   0     2       0  (40, 50]        2  "
      ]
     },
     "execution_count": 5,
     "metadata": {},
     "output_type": "execute_result"
    }
   ],
   "source": [
    "data_ori.head()"
   ]
  },
  {
   "cell_type": "code",
   "execution_count": 6,
   "id": "c9f66be3-3ff3-4e02-bb57-a6b8ec7678c5",
   "metadata": {},
   "outputs": [],
   "source": [
    "data_ori = data_ori.drop(['age_group', 'age'], axis=1)"
   ]
  },
  {
   "cell_type": "code",
   "execution_count": 7,
   "id": "c761a94f-3442-42fa-90cf-0e57d2e30ff8",
   "metadata": {},
   "outputs": [
    {
     "data": {
      "text/plain": [
       "Index(['sex', 'cp', 'trestbps', 'chol', 'fbs', 'restecg', 'thalach', 'exang',\n",
       "       'oldpeak', 'slope', 'ca', 'thal', 'target', 'age_enc'],\n",
       "      dtype='object')"
      ]
     },
     "execution_count": 7,
     "metadata": {},
     "output_type": "execute_result"
    }
   ],
   "source": [
    "data_ori.columns"
   ]
  },
  {
   "cell_type": "code",
   "execution_count": null,
   "id": "b224bfd8-7f79-48fd-b91c-5aa539dd5a26",
   "metadata": {},
   "outputs": [],
   "source": []
  },
  {
   "cell_type": "markdown",
   "id": "c034c6dc-6d7c-4e8e-9cfc-a51bfded7b6b",
   "metadata": {},
   "source": [
    "# First trial"
   ]
  },
  {
   "cell_type": "code",
   "execution_count": null,
   "id": "84684df1-8742-4146-a19e-023b84e4ae93",
   "metadata": {},
   "outputs": [],
   "source": [
    "class Encoder(nn.Module):\n",
    "    def __init__(self, input_dim, condition_dim, latent_dim):\n",
    "        super(Encoder, self).__init__()\n",
    "        \n",
    "        self.input_dim = input_dim\n",
    "        self.condition_dim = condition_dim\n",
    "        self.latent_dim = latent_dim\n",
    "        \n",
    "        self.fc1 = nn.Linear(input_dim + condition_dim, 128)  # x와 condition 결합 후 크기\n",
    "        self.fc2 = nn.Linear(128, 128)\n",
    "        self.fc3_mu = nn.Linear(128, latent_dim)\n",
    "        self.fc3_logvar = nn.Linear(128, latent_dim)\n",
    "\n",
    "    def forward(self, x, condition):\n",
    "        # x와 condition을 결합 (생체신호 + 조건)\n",
    "        x_condition = torch.cat([x, condition], dim=-1)\n",
    "        print(f\"x_condition shape in Encoder: {x_condition.shape}\")  # 차원 출력\n",
    "        \n",
    "        h = F.relu(self.fc1(x_condition))\n",
    "        print(f\"h shape after fc1: {h.shape}\")\n",
    "        \n",
    "        h = F.relu(self.fc2(h))\n",
    "        print(f\"h shape after fc2: {h.shape}\")\n",
    "        \n",
    "        mu = self.fc3_mu(h)\n",
    "        logvar = self.fc3_logvar(h)\n",
    "        \n",
    "        return mu, logvar"
   ]
  },
  {
   "cell_type": "code",
   "execution_count": null,
   "id": "bb77a2e8-39ec-4978-aa6a-28cd1e40ad42",
   "metadata": {},
   "outputs": [],
   "source": [
    "class Decoder(nn.Module):\n",
    "    def __init__(self, latent_dim, condition_dim, output_dim):\n",
    "        super(Decoder, self).__init__()\n",
    "        \n",
    "        self.latent_dim = latent_dim\n",
    "        self.condition_dim = condition_dim\n",
    "        self.output_dim = output_dim\n",
    "        \n",
    "        self.fc1 = nn.Linear(latent_dim + condition_dim, 128)  # z와 condition 결합 후 크기\n",
    "        self.fc2 = nn.Linear(128, 128)\n",
    "        self.fc3 = nn.Linear(128, output_dim)\n",
    "        \n",
    "    def forward(self, z, condition):\n",
    "        # z와 condition을 결합\n",
    "        z_condition = torch.cat([z, condition], dim=-1)\n",
    "        print(f\"z_condition shape in Decoder: {z_condition.shape}\")  # 차원 출력\n",
    "        \n",
    "        h = F.relu(self.fc1(z_condition))\n",
    "        print(f\"h shape after fc1: {h.shape}\")\n",
    "        \n",
    "        h = F.relu(self.fc2(h))\n",
    "        print(f\"h shape after fc2: {h.shape}\")\n",
    "        \n",
    "        output = self.fc3(h)\n",
    "        print(f\"Output shape: {output.shape}\")\n",
    "        \n",
    "        return output"
   ]
  },
  {
   "cell_type": "code",
   "execution_count": null,
   "id": "8178ce1a-621b-47f2-ab73-4beb3a326e4d",
   "metadata": {},
   "outputs": [],
   "source": [
    "class CVAE(nn.Module):\n",
    "    def __init__(self, input_dim, condition_dim, latent_dim, output_dim):\n",
    "        super(CVAE, self).__init__()\n",
    "        self.encoder = Encoder(input_dim, condition_dim, latent_dim)\n",
    "        self.decoder = Decoder(latent_dim, condition_dim, output_dim)\n",
    "\n",
    "    def reparameterize(self, mu, logvar):\n",
    "        std = torch.exp(0.5 * logvar)\n",
    "        eps = torch.randn_like(std)\n",
    "        return mu + eps * std\n",
    "\n",
    "    def forward(self, x, condition):\n",
    "        # Encoder에서 mu, logvar 계산\n",
    "        mu, logvar = self.encoder(x, condition)\n",
    "        \n",
    "        # Reparameterization trick\n",
    "        z = self.reparameterize(mu, logvar)\n",
    "        print(f\"z shape after reparameterization: {z.shape}\")\n",
    "        \n",
    "        # Decoder에서 output 생성\n",
    "        reconstructed_x = self.decoder(z, condition)\n",
    "        return reconstructed_x, mu, logvar"
   ]
  },
  {
   "cell_type": "code",
   "execution_count": null,
   "id": "352a84ec-8c88-4c30-9d8e-deca05e83860",
   "metadata": {},
   "outputs": [],
   "source": [
    "def loss_function(reconstructed_x, x, mu, logvar):\n",
    "    # 재구성 손실 (MSE 또는 BCE)\n",
    "    reconstruction_loss = F.mse_loss(reconstructed_x, x, reduction='sum')\n",
    "    \n",
    "    # KL Divergence\n",
    "    kl_loss = -0.5 * torch.sum(1 + logvar - mu.pow(2) - logvar.exp())\n",
    "    \n",
    "    # 총 손실\n",
    "    loss = reconstruction_loss + kl_loss\n",
    "    return loss"
   ]
  },
  {
   "cell_type": "code",
   "execution_count": null,
   "id": "e956766b-c052-451a-8ffc-9e5961acad3b",
   "metadata": {},
   "outputs": [],
   "source": [
    "# 데이터 샘플 예시 (x: 15개의 생체신호, condition: 연령, 성별, 질병)\n",
    "x = torch.randn(32, 15)  # 배치 크기: 32, 생체신호 15개\n",
    "condition = torch.randn(32, 3)  # 배치 크기: 32, 연령, 성별, 질병 3개\n",
    "\n",
    "# 차원 출력\n",
    "print(f\"x shape: {x.shape}\")\n",
    "print(f\"condition shape: {condition.shape}\")\n",
    "\n",
    "model = CVAE(input_dim=15, condition_dim=3, latent_dim=10, output_dim=15)\n",
    "output, mu, logvar = model(x, condition)"
   ]
  },
  {
   "cell_type": "code",
   "execution_count": null,
   "id": "e5bbd082-b467-47e8-9a97-6ed6976b8dd4",
   "metadata": {},
   "outputs": [],
   "source": []
  },
  {
   "cell_type": "code",
   "execution_count": null,
   "id": "4aeb512d-54c7-4788-a5f8-75d1604db6a0",
   "metadata": {},
   "outputs": [],
   "source": []
  },
  {
   "cell_type": "code",
   "execution_count": null,
   "id": "236d5a33-4bb3-4d43-943c-8e87c80d222c",
   "metadata": {},
   "outputs": [],
   "source": [
    "# 랜덤 시드 설정 (재현성을 위해)\n",
    "np.random.seed(42)\n",
    "torch.manual_seed(42)\n",
    "\n",
    "# 예시 데이터 생성\n",
    "num_samples = 1000  # 샘플 수\n",
    "\n",
    "# 생체신호 변수 (15개) - 예시로 임의의 값 생성\n",
    "biometric_signals = np.random.rand(num_samples, 15)\n",
    "\n",
    "# 연령 변수 (0 ~ 80세, 10단위로 나눈 연령대)\n",
    "age_groups = np.random.choice([0, 1, 2, 3, 4], num_samples)  # 0: 10대, 1: 20대, 2: 30대, 3: 40대, 4: 50대 이상\n",
    "ages = age_groups * 10 + np.random.randint(0, 10, num_samples)  # 나이\n",
    "\n",
    "# 성별 변수 (0: 남성, 1: 여성)\n",
    "sex = np.random.choice([0, 1], num_samples)\n",
    "\n",
    "# 질병 변수 (타겟, 예시로 두 가지 질병: 0: 건강, 1: 질병1, 2: 질병2)\n",
    "disease = np.random.choice([0, 1, 2], num_samples)\n",
    "\n",
    "# DataFrame으로 변환\n",
    "data = pd.DataFrame(biometric_signals, columns=[f'biometric_{i+1}' for i in range(15)])\n",
    "data['age'] = ages\n",
    "data['sex'] = sex\n",
    "data['age_group'] = age_groups\n",
    "data['disease'] = disease\n",
    "data = data.drop('age', axis=1)\n",
    "\n",
    "\n",
    "# 예시 데이터 확인\n",
    "print(data.head())"
   ]
  },
  {
   "cell_type": "code",
   "execution_count": null,
   "id": "96a05eb6-51c2-4bde-a262-21e46985918c",
   "metadata": {},
   "outputs": [],
   "source": [
    "from torch.utils.data import Dataset, DataLoader\n",
    "\n",
    "class MedicalDataset(Dataset):\n",
    "    def __init__(self, data):\n",
    "        self.data = data\n",
    "        self.x = torch.tensor(data.iloc[:, :-3].values, dtype=torch.float32)  # 생체신호 변수 (15개)\n",
    "        self.conditions = torch.tensor(data[['age_group', 'sex', 'disease']].values, dtype=torch.float32)  # 조건 변수 (연령, 성별, 질병)\n",
    "        self.y = torch.tensor(data['disease'].values, dtype=torch.long)  # 질병 변수 (타겟)\n",
    "\n",
    "    def __len__(self):\n",
    "        return len(self.data)\n",
    "\n",
    "    def __getitem__(self, idx):\n",
    "        return self.x[idx], self.conditions[idx], self.y[idx]\n",
    "\n",
    "# 데이터셋 준비\n",
    "dataset = MedicalDataset(data)\n",
    "dataloader = DataLoader(dataset, batch_size=32, shuffle=True)"
   ]
  },
  {
   "cell_type": "code",
   "execution_count": null,
   "id": "0c57b162-8ea9-49f1-be32-22940016c83c",
   "metadata": {
    "scrolled": true
   },
   "outputs": [],
   "source": [
    "# 모델 초기화\n",
    "input_dim = 15  # 생체신호 변수 개수\n",
    "condition_dim = 3  # age, sex, disease\n",
    "latent_dim = 10  # 잠재 공간 차원\n",
    "output_dim = 15  # 생체신호 출력 차원\n",
    "\n",
    "model = CVAE(input_dim, condition_dim, latent_dim, output_dim).to(device)\n",
    "optimizer = torch.optim.Adam(model.parameters(), lr=1e-3)\n",
    "\n",
    "# 모델 학습\n",
    "num_epochs = 20\n",
    "for epoch in range(num_epochs):\n",
    "    model.train()\n",
    "    running_loss = 0.0\n",
    "    for x, condition, y in dataloader:\n",
    "        x = x.to(device)\n",
    "        condition = condition.to(device)\n",
    "\n",
    "        # 모델 순전파\n",
    "        reconstructed_x, mu, logvar = model(x, condition)\n",
    "\n",
    "        # 손실 함수 계산\n",
    "        loss = loss_function(reconstructed_x, x, mu, logvar)\n",
    "        \n",
    "        # 역전파\n",
    "        optimizer.zero_grad()\n",
    "        loss.backward()\n",
    "        optimizer.step()\n",
    "\n",
    "        running_loss += loss.item()\n",
    "\n",
    "    avg_loss = running_loss / len(dataloader)\n",
    "    print(f\"Epoch [{epoch+1}/{num_epochs}], Loss: {avg_loss:.4f}\")"
   ]
  },
  {
   "cell_type": "code",
   "execution_count": null,
   "id": "480d0b84-4a47-49df-8e39-2518b1836245",
   "metadata": {},
   "outputs": [],
   "source": [
    "def sample_virtual_patient_conditions(data, num_samples=num_samples):\n",
    "    # 원본 데이터에서 조건 분포를 기준으로 샘플링\n",
    "    conditions = []\n",
    "    for _ in range(num_samples):\n",
    "        # 예시: 성별, 연령대, 질병을 샘플링\n",
    "        gender = np.random.choice(data['sex'].unique())\n",
    "        age_group = np.random.choice(data['age_group'].unique())\n",
    "        disease = np.random.choice(data['disease'].unique())\n",
    "        conditions.append([gender, age_group, disease])\n",
    "    return torch.tensor(conditions, dtype=torch.float32)\n",
    "\n",
    "# 가상 환자 조건 샘플링\n",
    "virtual_conditions = sample_virtual_patient_conditions(data, num_samples=100)\n",
    "virtual_conditions = virtual_conditions.to(device)"
   ]
  },
  {
   "cell_type": "code",
   "execution_count": null,
   "id": "149ac592-588f-4114-b2c8-b6f8d51122dd",
   "metadata": {},
   "outputs": [],
   "source": [
    "def generate_synthetic_data(model, conditions):\n",
    "    model.eval()  # 모델을 평가 모드로 설정\n",
    "    with torch.no_grad():\n",
    "        # 가상 조건에 대해 잠재 공간에서 샘플링\n",
    "        latent_space_sample = torch.randn(conditions.size(0), latent_dim).to(device)  # 잠재 벡터\n",
    "        synthetic_data = model.decoder(latent_space_sample, conditions)\n",
    "    return synthetic_data\n",
    "\n",
    "# synthetic data 생성\n",
    "synthetic_data = generate_synthetic_data(model, virtual_conditions)\n",
    "# print(synthetic_data)"
   ]
  },
  {
   "cell_type": "code",
   "execution_count": null,
   "id": "196a43a1-bac7-439d-bb78-423791b436dc",
   "metadata": {},
   "outputs": [],
   "source": [
    "synthetic_data[99]"
   ]
  },
  {
   "cell_type": "code",
   "execution_count": null,
   "id": "ff4cfe2a-d317-4486-9916-bcbd4476ada8",
   "metadata": {},
   "outputs": [],
   "source": []
  },
  {
   "cell_type": "code",
   "execution_count": null,
   "id": "e661faa2-cfd5-4e5c-963c-5ec3d090e275",
   "metadata": {},
   "outputs": [],
   "source": []
  },
  {
   "cell_type": "code",
   "execution_count": null,
   "id": "45cfb0bc-8009-4cee-b827-898178c9005e",
   "metadata": {},
   "outputs": [],
   "source": []
  },
  {
   "cell_type": "markdown",
   "id": "81b337f2-5a40-4775-b754-65558b5c9a02",
   "metadata": {},
   "source": [
    "# Second trial"
   ]
  },
  {
   "cell_type": "code",
   "execution_count": null,
   "id": "93855b30-a3d9-4ec1-8f3e-80e0c24ef7f4",
   "metadata": {},
   "outputs": [],
   "source": [
    "data = data_ori.copy()"
   ]
  },
  {
   "cell_type": "markdown",
   "id": "a082199b-20c0-4fef-b2b0-4ebc2dce83ea",
   "metadata": {},
   "source": [
    "* 데이터 처리 및 정의"
   ]
  },
  {
   "cell_type": "code",
   "execution_count": null,
   "id": "35171ab8-a886-48b6-a311-e0d34afa230c",
   "metadata": {},
   "outputs": [],
   "source": [
    "class BiometricDataset(Dataset):\n",
    "    def __init__(self, data, scaler=None):\n",
    "        self.features = data.drop(columns=['age_enc', 'sex', 'target']).values  # 15개 생체신호 변수\n",
    "        self.age = data['age_enc'].values\n",
    "        self.gender = data['sex'].values\n",
    "        self.disease = data['target'].values\n",
    "        \n",
    "\n",
    "        # 스케일링\n",
    "        if scaler is None:\n",
    "            self.scaler = StandardScaler().fit(self.features)\n",
    "        else:\n",
    "            self.scaler = scaler\n",
    "        self.features = self.scaler.transform(self.features)\n",
    "\n",
    "    def __len__(self):\n",
    "        return len(self.features)\n",
    "\n",
    "    def __getitem__(self, idx):\n",
    "        return {\n",
    "            'features': torch.tensor(self.features[idx], dtype=torch.float32),\n",
    "            'age_enc': torch.tensor(self.age[idx], dtype=torch.float32),\n",
    "            'sex': torch.tensor(self.gender[idx], dtype=torch.float32),\n",
    "            'target': torch.tensor(self.disease[idx], dtype=torch.float32)\n",
    "        }"
   ]
  },
  {
   "cell_type": "markdown",
   "id": "0f979120-e48c-4a73-9b91-5aa3f74bad78",
   "metadata": {},
   "source": [
    "* CVAE 모델 정의"
   ]
  },
  {
   "cell_type": "code",
   "execution_count": null,
   "id": "54c3e87c-1aa7-4fdc-979e-50fa56e581ef",
   "metadata": {},
   "outputs": [],
   "source": [
    "import torch\n",
    "import torch.nn as nn\n",
    "\n",
    "class CVAEWithAttention(nn.Module):\n",
    "    def __init__(self, input_dim, condition_dim, latent_dim):\n",
    "        super(CVAEWithAttention, self).__init__()\n",
    "        \n",
    "        # 인코더: input_dim + condition_dim 크기 조정\n",
    "        self.encoder = nn.Sequential(\n",
    "            nn.Linear(input_dim + condition_dim, 256),  # 크기 조정\n",
    "            nn.ReLU(),\n",
    "            nn.Linear(256, 128),\n",
    "            nn.ReLU(),\n",
    "            nn.Linear(128, 64)\n",
    "        )\n",
    "        self.fc_mu = nn.Linear(64, latent_dim)\n",
    "        self.fc_logvar = nn.Linear(64, latent_dim)\n",
    "        \n",
    "        # 디코더: latent_dim + condition_dim 크기 조정\n",
    "        self.decoder_fc = nn.Sequential(\n",
    "            nn.Linear(latent_dim + condition_dim, 128),\n",
    "            nn.ReLU(),\n",
    "            nn.Linear(128, 256),\n",
    "            nn.ReLU()\n",
    "        )\n",
    "        \n",
    "        # Attention 블록: self_attention과 cross_attention\n",
    "        self.self_attention = nn.MultiheadAttention(embed_dim=256, num_heads=4)\n",
    "        self.cross_attention = nn.MultiheadAttention(embed_dim=256, num_heads=4)\n",
    "        \n",
    "        # 최종 출력 크기\n",
    "        self.decoder_out = nn.Linear(256, input_dim)\n",
    "    \n",
    "    def encode(self, x, condition):\n",
    "        # 인코더에서 x와 condition을 결합\n",
    "        h = self.encoder(torch.cat([x, condition], dim=1))\n",
    "        mu = self.fc_mu(h)\n",
    "        logvar = self.fc_logvar(h)\n",
    "        return mu, logvar\n",
    "\n",
    "    def reparameterize(self, mu, logvar):\n",
    "        std = torch.exp(0.5 * logvar)\n",
    "        eps = torch.randn_like(std)\n",
    "        return mu + eps * std\n",
    "\n",
    "    def decode(self, z, condition):\n",
    "        # 디코더에서 z와 condition을 결합\n",
    "        h = self.decoder_fc(torch.cat([z, condition], dim=1))\n",
    "        \n",
    "        # Self-attention 적용\n",
    "        h = h.unsqueeze(0)  # (1, batch_size, feature_size)\n",
    "        attn_output, _ = self.self_attention(h, h, h)\n",
    "        \n",
    "        # Cross-attention 적용\n",
    "        condition_vector = condition.unsqueeze(0).expand_as(attn_output)  # (1, batch_size, feature_size)\n",
    "        attn_output, _ = self.cross_attention(attn_output, condition_vector, condition_vector)\n",
    "        \n",
    "        h = attn_output.squeeze(0)  # (batch_size, feature_size)\n",
    "        return self.decoder_out(h)\n",
    "    \n",
    "    def forward(self, x, condition):\n",
    "        mu, logvar = self.encode(x, condition)\n",
    "        z = self.reparameterize(mu, logvar)\n",
    "        recon_x = self.decode(z, condition)\n",
    "        return recon_x, mu, logvar"
   ]
  },
  {
   "cell_type": "markdown",
   "id": "778a7d69-b3d4-40f1-8b08-ee376164c47b",
   "metadata": {},
   "source": [
    "* 손실함수 정의"
   ]
  },
  {
   "cell_type": "code",
   "execution_count": null,
   "id": "4f79ebd0-8ae0-4190-9dd8-8fb677d3fdf2",
   "metadata": {},
   "outputs": [],
   "source": [
    "def loss_function(recon_x, x, mu, logvar):\n",
    "    recon_loss = nn.MSELoss()(recon_x, x)\n",
    "    kl_divergence = -0.5 * torch.sum(1 + logvar - mu.pow(2) - logvar.exp())\n",
    "    return recon_loss + kl_divergence"
   ]
  },
  {
   "cell_type": "markdown",
   "id": "31c0d579-b947-47b9-b732-fd61baa06411",
   "metadata": {},
   "source": [
    "* 모델 학습 코드"
   ]
  },
  {
   "cell_type": "code",
   "execution_count": null,
   "id": "55e71420-e7c8-4fef-a84a-c73023021120",
   "metadata": {},
   "outputs": [],
   "source": [
    "def train_model(model, dataloader, num_epochs=50):\n",
    "    optimizer = optim.Adam(model.parameters(), lr=0.001)\n",
    "    model.train()\n",
    "    for epoch in range(num_epochs):\n",
    "        total_loss = 0\n",
    "        for batch in dataloader:\n",
    "            features = batch['features']\n",
    "            age = batch['age_enc'].unsqueeze(1)\n",
    "            gender = batch['sex'].unsqueeze(1)\n",
    "            disease = batch['target'].unsqueeze(1)\n",
    "            \n",
    "            # condition 생성\n",
    "            condition = torch.cat([age, gender, disease], dim=1)\n",
    "            \n",
    "            optimizer.zero_grad()\n",
    "            recon_features, mu, logvar = model(features, condition)\n",
    "            loss = loss_function(recon_features, features, mu, logvar)\n",
    "            loss.backward()\n",
    "            optimizer.step()\n",
    "            \n",
    "            total_loss += loss.item()\n",
    "        print(f\"Epoch {epoch + 1}, Loss: {total_loss / len(dataloader)}\")"
   ]
  },
  {
   "cell_type": "markdown",
   "id": "c4c35938-822d-476f-bb6c-56eca428d1f5",
   "metadata": {},
   "source": [
    "* Synthetic data 생성"
   ]
  },
  {
   "cell_type": "code",
   "execution_count": null,
   "id": "bddd363d-bf0c-4801-8ccb-3b74f86d2d1b",
   "metadata": {},
   "outputs": [],
   "source": [
    "def generate_synthetic_data(model, condition_list, num_samples=100):\n",
    "    model.eval()\n",
    "    synthetic_data = []\n",
    "    with torch.no_grad():\n",
    "        for condition in condition_list:\n",
    "            condition_tensor = torch.tensor(condition, dtype=torch.float32).unsqueeze(0)\n",
    "            z = torch.randn(num_samples, model.latent_dim)\n",
    "            samples = model.decode(z, condition_tensor.repeat(num_samples, 1))\n",
    "            synthetic_data.append(samples.numpy())\n",
    "    return np.vstack(synthetic_data)"
   ]
  },
  {
   "cell_type": "markdown",
   "id": "0ead35c0-9357-48f7-a099-2c90371b46c9",
   "metadata": {},
   "source": [
    "* 전체 코드 실행 예시"
   ]
  },
  {
   "cell_type": "code",
   "execution_count": null,
   "id": "2710c72f-6028-4ec1-a868-db5ad573d13c",
   "metadata": {},
   "outputs": [],
   "source": [
    "# 데이터 로드 및 전처리\n",
    "scaler = StandardScaler()\n",
    "scaler.fit(data.drop(columns=['age_enc', 'sex', 'target']).values)  # 생체신호 변수만 사용하여 fit\n",
    "\n",
    "# PyTorch Dataset 생성\n",
    "dataset = BiometricDataset(data, scaler=scaler)\n",
    "dataloader = DataLoader(dataset, batch_size=32, shuffle=True)"
   ]
  },
  {
   "cell_type": "code",
   "execution_count": null,
   "id": "c730acc1-cd85-47f3-bde6-b3abc354260d",
   "metadata": {},
   "outputs": [],
   "source": [
    "# 모델 초기화 및 학습\n",
    "input_dim = 11  # 생체신호 변수 개수\n",
    "condition_dim = 3  # 연령, 성별, 질병 변수 개수\n",
    "latent_dim = 10  # latent space 차원\n",
    "model = CVAEWithAttention(input_dim, condition_dim, latent_dim)\n",
    "train_model(model, dataloader)"
   ]
  },
  {
   "cell_type": "code",
   "execution_count": null,
   "id": "dd140100-c966-47ea-9265-d848f922b469",
   "metadata": {},
   "outputs": [],
   "source": [
    "# synthetic data 생성\n",
    "# 가정: 가상 환자 조건 샘플링 (예: [(50, 1, 2), (40, 0, 1)] 등) -> 연령, 성별, 질병 정보\n",
    "condition_list = [(50, 1, 2), (40, 0, 1)]\n",
    "synthetic_data = generate_synthetic_data(model, condition_list)\n",
    "print(\"Synthetic Data 생성 완료\")"
   ]
  },
  {
   "cell_type": "code",
   "execution_count": null,
   "id": "b059be2c-a71e-42dc-8029-2888b57e822c",
   "metadata": {},
   "outputs": [],
   "source": []
  },
  {
   "cell_type": "code",
   "execution_count": null,
   "id": "e9e88901-db55-42f2-8c36-88d9c9eddd4a",
   "metadata": {},
   "outputs": [],
   "source": []
  },
  {
   "cell_type": "code",
   "execution_count": null,
   "id": "253e0d40-466f-40a9-b9ac-5386feaeeedd",
   "metadata": {},
   "outputs": [],
   "source": []
  },
  {
   "cell_type": "markdown",
   "id": "011c1fff-f3f3-4eba-acb1-d6697d01a51d",
   "metadata": {},
   "source": [
    "# Third trial"
   ]
  },
  {
   "cell_type": "code",
   "execution_count": 237,
   "id": "15c34244-d129-430c-afcf-aeb0f63690b3",
   "metadata": {},
   "outputs": [],
   "source": [
    "data_try = data_ori.copy()"
   ]
  },
  {
   "cell_type": "code",
   "execution_count": 238,
   "id": "c99aa285-39d4-4e6e-9e6d-f416f58567ba",
   "metadata": {},
   "outputs": [
    {
     "data": {
      "text/plain": [
       "Index(['sex', 'cp', 'trestbps', 'chol', 'fbs', 'restecg', 'thalach', 'exang',\n",
       "       'oldpeak', 'slope', 'ca', 'thal', 'target', 'age_enc'],\n",
       "      dtype='object')"
      ]
     },
     "execution_count": 238,
     "metadata": {},
     "output_type": "execute_result"
    }
   ],
   "source": [
    "data_try.columns"
   ]
  },
  {
   "cell_type": "code",
   "execution_count": 239,
   "id": "3b9ffdcb-604e-49ab-9c62-09c1ca999cbd",
   "metadata": {},
   "outputs": [
    {
     "data": {
      "text/plain": [
       "target\n",
       "1    526\n",
       "0    260\n",
       "Name: count, dtype: int64"
      ]
     },
     "execution_count": 239,
     "metadata": {},
     "output_type": "execute_result"
    }
   ],
   "source": [
    "data_try.target.value_counts()"
   ]
  },
  {
   "cell_type": "code",
   "execution_count": 22,
   "id": "d0112374-1807-476c-834b-1d13668155c8",
   "metadata": {},
   "outputs": [],
   "source": [
    "# 2. 연령, 성별, 질병 변수를 condition으로 사용하기 위해 분리\n",
    "x_data = data_try.drop(['sex', 'age_enc', 'target'], axis=1)\n",
    "conditions = data_try[['age_enc', 'sex', 'target']]  # 연령, 성별, 질병 변수\n",
    "\n",
    "# 3. 스케일링\n",
    "scaler = StandardScaler()\n",
    "x_data_scaled = scaler.fit_transform(x_data)\n",
    "\n",
    "# 4. PyTorch Dataset 생성\n",
    "class MedicalDataset(Dataset):\n",
    "    def __init__(self, x_data, conditions):\n",
    "        self.x_data = torch.tensor(x_data, dtype=torch.float32)\n",
    "        self.conditions = torch.tensor(conditions.values, dtype=torch.float32)\n",
    "\n",
    "    def __len__(self):\n",
    "        return len(self.x_data)\n",
    "\n",
    "    def __getitem__(self, idx):\n",
    "        return self.x_data[idx], self.conditions[idx]\n",
    "\n",
    "dataset = MedicalDataset(x_data_scaled, conditions)\n",
    "dataloader = DataLoader(dataset, batch_size=64, shuffle=True)"
   ]
  },
  {
   "cell_type": "code",
   "execution_count": 23,
   "id": "263c06db-cc83-4ba7-829d-e77836093363",
   "metadata": {},
   "outputs": [],
   "source": [
    "import torch\n",
    "import torch.nn as nn\n",
    "import torch.nn.functional as F\n",
    "\n",
    "# CVAE 모델 정의\n",
    "class CVAE(nn.Module):\n",
    "    def __init__(self, input_dim, cond_dim, latent_dim):\n",
    "        super(CVAE, self).__init__()\n",
    "        \n",
    "        # 인코더\n",
    "        self.latent_dim = latent_dim  # latent_dim 속성 추가\n",
    "        self.encoder_fc1 = nn.Linear(input_dim + cond_dim, 128)\n",
    "        self.encoder_fc2 = nn.Linear(128, 64)\n",
    "        self.fc_mu = nn.Linear(64, latent_dim)\n",
    "        self.fc_logvar = nn.Linear(64, latent_dim)\n",
    "        \n",
    "        # 디코더\n",
    "        self.decoder_fc1 = nn.Linear(latent_dim + cond_dim, 64)\n",
    "        self.decoder_fc2 = nn.Linear(64, 128)\n",
    "        \n",
    "        # Attention Blocks\n",
    "        self.self_attention = nn.MultiheadAttention(embed_dim=128, num_heads=4)\n",
    "        self.cross_attention = nn.MultiheadAttention(embed_dim=128, num_heads=4)\n",
    "        \n",
    "        # Reconstructing layer\n",
    "        self.decoder_fc3 = nn.Linear(128, input_dim)\n",
    "        \n",
    "    def encode(self, x, cond):\n",
    "        x = torch.cat([x, cond], dim=1)\n",
    "        x = F.relu(self.encoder_fc1(x))\n",
    "        x = F.relu(self.encoder_fc2(x))\n",
    "        mu = self.fc_mu(x)\n",
    "        logvar = self.fc_logvar(x)\n",
    "        return mu, logvar\n",
    "\n",
    "    def reparameterize(self, mu, logvar):\n",
    "        std = torch.exp(0.5 * logvar)\n",
    "        eps = torch.randn_like(std)\n",
    "        return mu + eps * std\n",
    "\n",
    "    def decode(self, z, cond):\n",
    "        x = torch.cat([z, cond], dim=1)\n",
    "        x = F.relu(self.decoder_fc1(x))\n",
    "        x = F.relu(self.decoder_fc2(x))\n",
    "        \n",
    "        # Self-Attention: 생체신호-연령, 생체신호-성별 특징 반영\n",
    "        x = x.unsqueeze(0)  # (1, batch, feature) 형식으로 변환\n",
    "        x, _ = self.self_attention(x, x, x)\n",
    "        \n",
    "        # Cross-Attention: 연령, 성별이 생체신호에 주는 영향 반영\n",
    "        x, _ = self.cross_attention(x, x, x)\n",
    "        \n",
    "        x = x.squeeze(0)\n",
    "        x = self.decoder_fc3(x)\n",
    "        return x\n",
    "\n",
    "    def forward(self, x, cond):\n",
    "        mu, logvar = self.encode(x, cond)\n",
    "        z = self.reparameterize(mu, logvar)\n",
    "        recon_x = self.decode(z, cond)\n",
    "        return recon_x, mu, logvar"
   ]
  },
  {
   "cell_type": "code",
   "execution_count": 24,
   "id": "0e6b7340-9c38-4b4a-bd40-e68f2f2fcba5",
   "metadata": {
    "scrolled": true
   },
   "outputs": [
    {
     "name": "stdout",
     "output_type": "stream",
     "text": [
      "Epoch 1, Loss: 11.023799148831355\n",
      "Epoch 2, Loss: 10.529149994595361\n",
      "Epoch 3, Loss: 10.064863559247277\n",
      "Epoch 4, Loss: 9.753921567028716\n",
      "Epoch 5, Loss: 9.709560151621888\n",
      "Epoch 6, Loss: 9.612575754257863\n",
      "Epoch 7, Loss: 9.626881800838403\n",
      "Epoch 8, Loss: 9.487061672841623\n",
      "Epoch 9, Loss: 9.415604084199318\n",
      "Epoch 10, Loss: 9.381310149913526\n",
      "Epoch 11, Loss: 9.327868900832936\n",
      "Epoch 12, Loss: 9.335747211640724\n",
      "Epoch 13, Loss: 9.339203793280603\n",
      "Epoch 14, Loss: 9.121593329742664\n",
      "Epoch 15, Loss: 9.125183454906667\n",
      "Epoch 16, Loss: 9.088118186737137\n",
      "Epoch 17, Loss: 8.978340420710829\n",
      "Epoch 18, Loss: 8.952489702452837\n",
      "Epoch 19, Loss: 8.881169947655753\n",
      "Epoch 20, Loss: 8.893800536488152\n",
      "Epoch 21, Loss: 8.82877658523676\n",
      "Epoch 22, Loss: 8.830778068561894\n",
      "Epoch 23, Loss: 8.798233362251262\n",
      "Epoch 24, Loss: 8.73868811221523\n",
      "Epoch 25, Loss: 8.660898087285554\n",
      "Epoch 26, Loss: 8.704927672563315\n",
      "Epoch 27, Loss: 8.690282263525267\n",
      "Epoch 28, Loss: 8.61813292369891\n",
      "Epoch 29, Loss: 8.630260962566346\n",
      "Epoch 30, Loss: 8.565106826277482\n",
      "Epoch 31, Loss: 8.493140300721613\n",
      "Epoch 32, Loss: 8.480060451206663\n",
      "Epoch 33, Loss: 8.388716117722995\n",
      "Epoch 34, Loss: 8.315603707582897\n",
      "Epoch 35, Loss: 8.406361412456018\n",
      "Epoch 36, Loss: 8.204769241294182\n",
      "Epoch 37, Loss: 8.275976612974366\n",
      "Epoch 38, Loss: 8.360686828768587\n",
      "Epoch 39, Loss: 8.156327361672282\n",
      "Epoch 40, Loss: 8.182335870563225\n",
      "Epoch 41, Loss: 8.12177672640968\n",
      "Epoch 42, Loss: 8.258692821473566\n",
      "Epoch 43, Loss: 8.035947125073305\n",
      "Epoch 44, Loss: 8.054598257438524\n",
      "Epoch 45, Loss: 7.991401342338581\n",
      "Epoch 46, Loss: 8.120831147405028\n",
      "Epoch 47, Loss: 7.926044143793237\n",
      "Epoch 48, Loss: 7.892064490087766\n",
      "Epoch 49, Loss: 7.989034172232825\n",
      "Epoch 50, Loss: 7.951755727520426\n",
      "Epoch 51, Loss: 7.9261121191747925\n",
      "Epoch 52, Loss: 7.85271510155753\n",
      "Epoch 53, Loss: 7.862219880858754\n",
      "Epoch 54, Loss: 7.984268926178832\n",
      "Epoch 55, Loss: 7.8194551152430725\n",
      "Epoch 56, Loss: 7.872911060129413\n",
      "Epoch 57, Loss: 7.858511461253081\n",
      "Epoch 58, Loss: 7.865189181029342\n",
      "Epoch 59, Loss: 7.800950766216404\n",
      "Epoch 60, Loss: 7.711966788799101\n",
      "Epoch 61, Loss: 7.711019656737038\n",
      "Epoch 62, Loss: 7.826623348789361\n",
      "Epoch 63, Loss: 7.709033063349833\n",
      "Epoch 64, Loss: 7.741508580952807\n",
      "Epoch 65, Loss: 7.709788392821644\n",
      "Epoch 66, Loss: 7.618700469116521\n",
      "Epoch 67, Loss: 7.651513582574199\n",
      "Epoch 68, Loss: 7.5376061980657605\n",
      "Epoch 69, Loss: 7.50475967446053\n",
      "Epoch 70, Loss: 7.436049094940263\n",
      "Epoch 71, Loss: 7.574595016984236\n",
      "Epoch 72, Loss: 7.5066591607402\n",
      "Epoch 73, Loss: 7.58979257675831\n",
      "Epoch 74, Loss: 7.445275605179881\n",
      "Epoch 75, Loss: 7.502446570165891\n",
      "Epoch 76, Loss: 7.54373205830426\n",
      "Epoch 77, Loss: 7.366710866680582\n",
      "Epoch 78, Loss: 7.447896962250765\n",
      "Epoch 79, Loss: 7.500231580273189\n",
      "Epoch 80, Loss: 7.396842655638095\n",
      "Epoch 81, Loss: 7.438615852336544\n",
      "Epoch 82, Loss: 7.499974238660196\n",
      "Epoch 83, Loss: 7.34192321622038\n",
      "Epoch 84, Loss: 7.385379121503757\n",
      "Epoch 85, Loss: 7.317327154805035\n",
      "Epoch 86, Loss: 7.3539474914395475\n",
      "Epoch 87, Loss: 7.216562557463124\n",
      "Epoch 88, Loss: 7.226886331883399\n",
      "Epoch 89, Loss: 7.213480107353541\n",
      "Epoch 90, Loss: 7.162657497493365\n",
      "Epoch 91, Loss: 7.292033265868519\n",
      "Epoch 92, Loss: 7.264672645782393\n",
      "Epoch 93, Loss: 7.148811340332031\n",
      "Epoch 94, Loss: 7.225136405032403\n",
      "Epoch 95, Loss: 7.141519192217567\n",
      "Epoch 96, Loss: 7.290318379875358\n",
      "Epoch 97, Loss: 7.018108804717318\n",
      "Epoch 98, Loss: 7.15896725836601\n",
      "Epoch 99, Loss: 7.136270207606502\n",
      "Epoch 100, Loss: 7.038928587624741\n"
     ]
    }
   ],
   "source": [
    "def loss_function(recon_x, x, mu, logvar):\n",
    "    recon_loss = F.mse_loss(recon_x, x, reduction='sum')\n",
    "    kl_divergence = -0.5 * torch.sum(1 + logvar - mu.pow(2) - logvar.exp())\n",
    "    return recon_loss + kl_divergence\n",
    "\n",
    "model = CVAE(input_dim=11, cond_dim=3, latent_dim=10)\n",
    "optimizer = torch.optim.Adam(model.parameters(), lr=1e-3)\n",
    "\n",
    "# 학습 루프\n",
    "num_epochs = 100\n",
    "for epoch in range(num_epochs):\n",
    "    model.train()\n",
    "    train_loss = 0\n",
    "    for x_batch, cond_batch in dataloader:\n",
    "        optimizer.zero_grad()\n",
    "        recon_x, mu, logvar = model(x_batch, cond_batch)\n",
    "        loss = loss_function(recon_x, x_batch, mu, logvar)\n",
    "        loss.backward()\n",
    "        optimizer.step()\n",
    "        train_loss += loss.item()\n",
    "    print(f\"Epoch {epoch+1}, Loss: {train_loss / len(dataloader.dataset)}\")"
   ]
  },
  {
   "cell_type": "code",
   "execution_count": 25,
   "id": "c133e5c2-d65b-497b-bb61-bf3af2e15fdc",
   "metadata": {},
   "outputs": [],
   "source": [
    "# 조건에 따른 synthetic data 생성 함수\n",
    "def generate_synthetic_data(model, sample_conditions_list):\n",
    "    synthetic_samples = []\n",
    "\n",
    "    for condition in sample_conditions_list:\n",
    "        age, gender, disease = condition\n",
    "\n",
    "        # 조건 텐서로 변환\n",
    "        condition_tensor = torch.tensor([age, gender, disease], dtype=torch.float32).unsqueeze(0)\n",
    "\n",
    "        # 잠재 공간에서 샘플링하여 synthetic data 생성\n",
    "        with torch.no_grad():\n",
    "            z = torch.randn(1, model.latent_dim)  # 모델의 latent_dim 크기에 맞게 샘플링\n",
    "            synthetic_sample = model.decode(z, condition_tensor)  # 조건을 적용하여 디코더로 생성\n",
    "            synthetic_samples.append(synthetic_sample.squeeze(0).numpy())  # numpy 배열로 변환\n",
    "\n",
    "    synthetic_data = np.array(synthetic_samples)\n",
    "    return synthetic_data"
   ]
  },
  {
   "cell_type": "code",
   "execution_count": 346,
   "id": "58abd70a-5145-433a-8e81-679f34e54a77",
   "metadata": {
    "scrolled": true
   },
   "outputs": [],
   "source": [
    "def sample_conditions(data, n):\n",
    "    # 조건 변수 선택\n",
    "    condition_data = data[['age_enc', 'sex', 'target']]\n",
    "    \n",
    "    # 목표 비율 계산 (target, sex, age_enc 각 클래스가 동일하게 분포된다고 가정)\n",
    "    total_count = len(condition_data) + n\n",
    "    unique_targets = condition_data['target'].unique()\n",
    "    unique_sexes = condition_data['sex'].unique()\n",
    "    unique_ages = condition_data['age_enc'].unique()\n",
    "    \n",
    "    target_goal_count = total_count / len(unique_targets)\n",
    "    sex_goal_count = total_count / (len(unique_targets) * len(unique_sexes))\n",
    "    age_goal_count = total_count / (len(unique_targets) * len(unique_sexes) * len(unique_ages))\n",
    "    \n",
    "    # 최종 샘플링 조건 리스트\n",
    "    sampled_conditions = []\n",
    "    \n",
    "    for target in unique_targets:\n",
    "        # target별로 필요한 샘플 수 계산\n",
    "        current_target_count = condition_data[condition_data['target'] == target].shape[0]\n",
    "        target_sample_count = max(0, int(target_goal_count - current_target_count))\n",
    "        \n",
    "        if target_sample_count > 0:\n",
    "            for sex in unique_sexes:\n",
    "                # sex별로 필요한 샘플 수 계산\n",
    "                target_sex_data = condition_data[(condition_data['target'] == target) & (condition_data['sex'] == sex)]\n",
    "                current_sex_count = target_sex_data.shape[0]\n",
    "                sex_sample_count = max(0, int(sex_goal_count - current_sex_count))\n",
    "                \n",
    "                if sex_sample_count > 0:\n",
    "                    for age in unique_ages:\n",
    "                        # age_enc별로 필요한 샘플 수 계산\n",
    "                        current_age_count = target_sex_data[target_sex_data['age_enc'] == age].shape[0]\n",
    "                        age_sample_count = max(0, int(age_goal_count - current_age_count))\n",
    "                        \n",
    "                        # 필요한 샘플 수만큼 조건 추가\n",
    "                        sampled_conditions.extend([[age, sex, target]] * age_sample_count)\n",
    "                        \n",
    "    # 최종 샘플링 조건 리스트 반환\n",
    "    return sampled_conditions[:n]  # 요청된 n개만 반환\n",
    "\n",
    "\n",
    "# 함수 실행 예시\n",
    "sampled_conditions_list = sample_conditions(data_try, 260)\n",
    "# print(sampled_conditions_list)"
   ]
  },
  {
   "cell_type": "code",
   "execution_count": null,
   "id": "db1eb317-0d39-4d87-96c4-01277dd21774",
   "metadata": {},
   "outputs": [],
   "source": []
  },
  {
   "cell_type": "code",
   "execution_count": 347,
   "id": "2c797987-1ed5-43be-beaa-31bfeb56de9e",
   "metadata": {
    "scrolled": true
   },
   "outputs": [],
   "source": [
    "# 샘플링된 조건에 따른 synthetic data 생성\n",
    "synthetic_data = generate_synthetic_data(model, sampled_conditions_list)\n",
    "synthetic_data = scaler.inverse_transform(synthetic_data)  # 스케일링 역변환\n",
    "# print(\"Synthetic Data Generated:\\n\", synthetic_data)"
   ]
  },
  {
   "cell_type": "code",
   "execution_count": 348,
   "id": "fdc15b1c-647a-4879-bdc6-fc5617f01116",
   "metadata": {},
   "outputs": [
    {
     "data": {
      "text/plain": [
       "(260, 11)"
      ]
     },
     "execution_count": 348,
     "metadata": {},
     "output_type": "execute_result"
    }
   ],
   "source": [
    "synthetic_data.shape"
   ]
  },
  {
   "cell_type": "code",
   "execution_count": null,
   "id": "edb13210-482b-4810-8348-2258434eb1ea",
   "metadata": {},
   "outputs": [],
   "source": []
  },
  {
   "cell_type": "code",
   "execution_count": 349,
   "id": "591be86d-4f48-466a-a073-3af2681f7f50",
   "metadata": {},
   "outputs": [
    {
     "data": {
      "text/plain": [
       "Index(['age_enc', 'sex', 'target', 'cp', 'trestbps', 'chol', 'fbs', 'restecg',\n",
       "       'thalach', 'exang', 'oldpeak', 'slope', 'ca', 'thal'],\n",
       "      dtype='object')"
      ]
     },
     "execution_count": 349,
     "metadata": {},
     "output_type": "execute_result"
    }
   ],
   "source": [
    "data_try.columns"
   ]
  },
  {
   "cell_type": "code",
   "execution_count": 350,
   "id": "afcfb904-8a6e-4045-ba9a-dd7d86b73673",
   "metadata": {},
   "outputs": [],
   "source": [
    "# 예시용 변수 이름 목록 (생체신호 변수 이름 11개)\n",
    "signal_columns = ['cp', 'trestbps', 'chol', 'fbs', 'restecg', 'thalach', 'exang','oldpeak', 'slope', 'ca', 'thal']\n",
    "\n",
    "def create_synthetic_dataframe(synthetic_data, sample_conditions_list):\n",
    "    # 1. synthetic_data를 DataFrame으로 변환\n",
    "    synthetic_df = pd.DataFrame(synthetic_data, columns=signal_columns)\n",
    "    \n",
    "    # 2. sample_conditions_list를 DataFrame으로 변환\n",
    "    conditions_df = pd.DataFrame(sample_conditions_list, columns=['age_enc', 'sex', 'target'])\n",
    "    \n",
    "    # 3. synthetic_df와 conditions_df를 열 방향으로 결합\n",
    "    combined_df = pd.concat([conditions_df, synthetic_df], axis=1)\n",
    "    \n",
    "    return combined_df"
   ]
  },
  {
   "cell_type": "code",
   "execution_count": 351,
   "id": "c847536a-15b8-4279-831f-4f9220bde724",
   "metadata": {},
   "outputs": [
    {
     "name": "stdout",
     "output_type": "stream",
     "text": [
      "Final Synthetic DataFrame Shape: (260, 14)\n",
      "Synthetic DataFrame:\n",
      "      age_enc  sex  target        cp    trestbps        chol       fbs  \\\n",
      "0          2    1       0  0.745298  115.875313  215.286880 -0.011856   \n",
      "1          2    1       0  0.937059  130.197876  259.437744 -0.037308   \n",
      "2          2    1       0  0.815450  130.289551  231.322128 -0.028973   \n",
      "3          2    1       0  0.263390  123.105484  249.743134  0.385161   \n",
      "4          1    1       0  0.347753  120.127998  224.843948 -0.019644   \n",
      "..       ...  ...     ...       ...         ...         ...       ...   \n",
      "255        5    0       0 -0.467913  146.262314  273.678772 -0.058663   \n",
      "256        5    0       0  0.514561  130.019974  219.892151 -0.053984   \n",
      "257        5    0       0  1.165741  153.643204  309.787872  0.112906   \n",
      "258        5    0       0  0.972478  135.467651  217.171631  0.053369   \n",
      "259        5    0       0 -0.106641  162.670761  276.136383 -0.109894   \n",
      "\n",
      "      restecg     thalach     exang   oldpeak     slope        ca      thal  \n",
      "0    0.580106  149.460052  0.144458  0.394125  1.606972  1.070406  2.140567  \n",
      "1    0.638359  154.454895  0.344994  1.448831  1.421775  0.326687  3.022001  \n",
      "2    0.858442  141.678131  0.473527  2.217300  0.992834  0.009559  3.009585  \n",
      "3    0.293886  149.107132  0.228976  0.209591  1.787884  3.153171  2.539160  \n",
      "4    0.529717  147.629410  0.613146  0.791738  1.474576  0.464992  2.807143  \n",
      "..        ...         ...       ...       ...       ...       ...       ...  \n",
      "255  1.125067  125.900902  0.880721  2.864261  0.553667  1.746378  2.708917  \n",
      "256  1.122885  121.244545  0.503981  1.665931  0.963670  1.254134  2.199261  \n",
      "257  0.123365  146.084290  0.064300  0.973658  1.490043  2.159269  2.052257  \n",
      "258  1.069478  112.952492  0.419933  1.984408  0.938464  1.478960  1.582162  \n",
      "259  1.676759  121.345665  0.774837  3.373544  0.488191  1.608804  2.416462  \n",
      "\n",
      "[260 rows x 14 columns]\n"
     ]
    }
   ],
   "source": [
    "synthetic_df = create_synthetic_dataframe(synthetic_data, sampled_conditions_list)\n",
    "\n",
    "print(\"Final Synthetic DataFrame Shape:\", synthetic_df.shape)\n",
    "print(\"Synthetic DataFrame:\\n\", synthetic_df)"
   ]
  },
  {
   "cell_type": "code",
   "execution_count": 352,
   "id": "4dbfc8b1-df61-490d-b98f-a2bc000b5883",
   "metadata": {},
   "outputs": [
    {
     "data": {
      "text/plain": [
       "target\n",
       "0    260\n",
       "Name: count, dtype: int64"
      ]
     },
     "execution_count": 352,
     "metadata": {},
     "output_type": "execute_result"
    }
   ],
   "source": [
    "synthetic_df.target.value_counts()"
   ]
  },
  {
   "cell_type": "code",
   "execution_count": 353,
   "id": "533717d9-2d59-4ed7-9370-0e6bb81a81ba",
   "metadata": {},
   "outputs": [
    {
     "data": {
      "text/plain": [
       "Index(['age_enc', 'sex', 'target', 'cp', 'trestbps', 'chol', 'fbs', 'restecg',\n",
       "       'thalach', 'exang', 'oldpeak', 'slope', 'ca', 'thal'],\n",
       "      dtype='object')"
      ]
     },
     "execution_count": 353,
     "metadata": {},
     "output_type": "execute_result"
    }
   ],
   "source": [
    "data_try.columns"
   ]
  },
  {
   "cell_type": "code",
   "execution_count": 354,
   "id": "f66b928f-29f6-411f-bfcf-8426abe146f5",
   "metadata": {},
   "outputs": [
    {
     "data": {
      "text/plain": [
       "Index(['age_enc', 'sex', 'target', 'cp', 'trestbps', 'chol', 'fbs', 'restecg',\n",
       "       'thalach', 'exang', 'oldpeak', 'slope', 'ca', 'thal'],\n",
       "      dtype='object')"
      ]
     },
     "execution_count": 354,
     "metadata": {},
     "output_type": "execute_result"
    }
   ],
   "source": [
    "synthetic_df.columns"
   ]
  },
  {
   "cell_type": "code",
   "execution_count": null,
   "id": "142f00a4-758c-4aed-a5e6-2f97ba0b02d5",
   "metadata": {},
   "outputs": [],
   "source": []
  },
  {
   "cell_type": "code",
   "execution_count": 355,
   "id": "269dbb8a-1a0e-47aa-b65f-167b5eed0541",
   "metadata": {},
   "outputs": [],
   "source": [
    "# 예시: synthetic_df와 data의 컬럼 순서를 맞추기\n",
    "data_try = data_try[synthetic_df.columns]"
   ]
  },
  {
   "cell_type": "code",
   "execution_count": 356,
   "id": "7fa5f06c-6aae-43b6-8d9b-7fbd9b782c3c",
   "metadata": {},
   "outputs": [
    {
     "data": {
      "text/plain": [
       "Index(['age_enc', 'sex', 'target', 'cp', 'trestbps', 'chol', 'fbs', 'restecg',\n",
       "       'thalach', 'exang', 'oldpeak', 'slope', 'ca', 'thal'],\n",
       "      dtype='object')"
      ]
     },
     "execution_count": 356,
     "metadata": {},
     "output_type": "execute_result"
    }
   ],
   "source": [
    "data_try.columns"
   ]
  },
  {
   "cell_type": "code",
   "execution_count": 357,
   "id": "72740c4b-5acb-4ff6-a609-3f822bbc710e",
   "metadata": {},
   "outputs": [
    {
     "name": "stdout",
     "output_type": "stream",
     "text": [
      "Combined DataFrame shape: (1046, 14)\n",
      "Combined DataFrame:\n",
      "    age_enc  sex  target   cp  trestbps   chol  fbs  restecg  thalach  exang  \\\n",
      "0        3    1       0  0.0     120.0  188.0  0.0      1.0    113.0    0.0   \n",
      "1        2    0       0  0.0     132.0  341.0  1.0      0.0    136.0    1.0   \n",
      "2        4    0       0  2.0     130.0  263.0  0.0      1.0     97.0    0.0   \n",
      "3        4    0       0  2.0     130.0  263.0  0.0      1.0     97.0    0.0   \n",
      "4        2    1       0  2.0     108.0  243.0  0.0      1.0    152.0    0.0   \n",
      "\n",
      "   oldpeak  slope   ca  thal  \n",
      "0      1.4    1.0  1.0   3.0  \n",
      "1      3.0    1.0  0.0   3.0  \n",
      "2      1.2    1.0  1.0   3.0  \n",
      "3      1.2    1.0  1.0   3.0  \n",
      "4      0.0    2.0  0.0   2.0  \n",
      "------------------------------------------\n",
      "Combined DataFrame:\n",
      "       age_enc  sex  target        cp    trestbps        chol       fbs  \\\n",
      "1041        5    0       0 -0.467913  146.262314  273.678772 -0.058663   \n",
      "1042        5    0       0  0.514561  130.019974  219.892151 -0.053984   \n",
      "1043        5    0       0  1.165741  153.643204  309.787872  0.112906   \n",
      "1044        5    0       0  0.972478  135.467651  217.171631  0.053369   \n",
      "1045        5    0       0 -0.106641  162.670761  276.136383 -0.109894   \n",
      "\n",
      "       restecg     thalach     exang   oldpeak     slope        ca      thal  \n",
      "1041  1.125067  125.900902  0.880721  2.864261  0.553667  1.746378  2.708917  \n",
      "1042  1.122885  121.244545  0.503981  1.665931  0.963670  1.254134  2.199261  \n",
      "1043  0.123365  146.084290  0.064300  0.973658  1.490043  2.159269  2.052257  \n",
      "1044  1.069478  112.952492  0.419933  1.984408  0.938464  1.478960  1.582162  \n",
      "1045  1.676759  121.345665  0.774837  3.373544  0.488191  1.608804  2.416462  \n"
     ]
    }
   ],
   "source": [
    "# synthetic_df와 data를 결합\n",
    "combined_df = pd.concat([data_try, synthetic_df], ignore_index=True)\n",
    "\n",
    "# 결과 확인\n",
    "print(\"Combined DataFrame shape:\", combined_df.shape)\n",
    "print(\"Combined DataFrame:\\n\", combined_df.head())\n",
    "print(\"------------------------------------------\")\n",
    "print(\"Combined DataFrame:\\n\", combined_df.tail())"
   ]
  },
  {
   "cell_type": "code",
   "execution_count": 358,
   "id": "0a3fc2cd-8e9a-4e8d-9146-16f4ead9a247",
   "metadata": {},
   "outputs": [
    {
     "data": {
      "text/plain": [
       "target\n",
       "1    526\n",
       "0    520\n",
       "Name: count, dtype: int64"
      ]
     },
     "execution_count": 358,
     "metadata": {},
     "output_type": "execute_result"
    }
   ],
   "source": [
    "combined_df.target.value_counts()"
   ]
  },
  {
   "cell_type": "code",
   "execution_count": 359,
   "id": "75aa3618-dd7e-4ca7-91fe-762e20f46967",
   "metadata": {},
   "outputs": [
    {
     "data": {
      "text/plain": [
       "target\n",
       "1    526\n",
       "0    260\n",
       "Name: count, dtype: int64"
      ]
     },
     "execution_count": 359,
     "metadata": {},
     "output_type": "execute_result"
    }
   ],
   "source": [
    "data_try.target.value_counts()"
   ]
  },
  {
   "cell_type": "code",
   "execution_count": 360,
   "id": "08be84e0-3231-42fe-9098-b52c496b5762",
   "metadata": {},
   "outputs": [],
   "source": [
    "data_vis = combined_df.copy()"
   ]
  },
  {
   "cell_type": "code",
   "execution_count": 361,
   "id": "9f4f6b7a-a530-4355-ae5c-09c7f6095b47",
   "metadata": {},
   "outputs": [
    {
     "data": {
      "text/plain": [
       "<Figure size 1000x700 with 0 Axes>"
      ]
     },
     "metadata": {},
     "output_type": "display_data"
    },
    {
     "data": {
      "image/png": "[encoded data removed]",
      "text/plain": [
       "<Figure size 1000x700 with 1 Axes>"
      ]
     },
     "metadata": {},
     "output_type": "display_data"
    }
   ],
   "source": [
    "# main_dx별 개수 계산\n",
    "main_dx_counts = data_vis['target'].value_counts()\n",
    "\n",
    "# main_dx별 성별 비율 계산 (성별이 'M'과 'F'로 나누어짐)\n",
    "gender_counts = data_vis.groupby(['target', 'sex']).size().unstack(fill_value=0)\n",
    "gender_ratio = gender_counts.div(gender_counts.sum(axis=1), axis=0)\n",
    "\n",
    "# main_dx별 연령대 비율 계산 (연령대별 비율 계산)\n",
    "age_counts = data_vis.groupby(['target', 'age_enc']).size().unstack(fill_value=0)\n",
    "age_ratio = age_counts.div(age_counts.sum(axis=1), axis=0)\n",
    "\n",
    "# 그래프 크기 설정\n",
    "plt.figure(figsize=(10, 7))\n",
    "fig, ax = plt.subplots(figsize=(10, 7))\n",
    "sns.set_style(\"whitegrid\")\n",
    "plt.rcParams['font.family'] = 'Times New Roman'\n",
    "\n",
    "# x 위치 설정 (막대의 중심이 각 main_dx에 맞도록)\n",
    "x = range(len(main_dx_counts))\n",
    "\n",
    "# main_dx의 개수에 대한 막대 그리기\n",
    "bar_width = 0.15\n",
    "plt.bar(x, main_dx_counts.values, width=bar_width, label='Total Count', align='center')\n",
    "\n",
    "# 성별 비율에 대한 막대 그리기 (남성 비율, 여성 비율)\n",
    "male_height = gender_ratio.loc[main_dx_counts.index, 0] * main_dx_counts.values\n",
    "female_height = gender_ratio.loc[main_dx_counts.index, 1] * main_dx_counts.values\n",
    "plt.bar([i + bar_width for i in x], male_height, width=bar_width, label='Male Proportion', align='center')\n",
    "plt.bar([i + bar_width for i in x], female_height, bottom=male_height, width=bar_width, label='Female Proportion', align='center')\n",
    "\n",
    "# 연령대 비율에 대한 막대 그리기 (각 연령대에 대해 표시)\n",
    "age_bar_width = 0.15  # 연령대 막대 너비 설정\n",
    "bottoms = 0\n",
    "\n",
    "# 연령대별 막대 그리기\n",
    "for i, age_group in enumerate(age_ratio.columns):\n",
    "    age_height = age_ratio.loc[main_dx_counts.index, age_group] * main_dx_counts.values\n",
    "    plt.bar([i + bar_width*2 for i in x], age_height, width=age_bar_width, label=f'Age Group {age_group}', align='center', bottom=bottoms)\n",
    "    # 누적된 bottom 값 업데이트\n",
    "    bottoms += age_height\n",
    "\n",
    "# x축, y축, 레이블 설정\n",
    "plt.xlabel('Main Diagnosis')\n",
    "plt.ylabel('Frequency')\n",
    "\n",
    "# x축의 main_dx 이름을 세 개의 막대 중앙에 맞추기\n",
    "plt.xticks([i + bar_width for i in x], main_dx_counts.index, rotation=0)\n",
    "ax.set_xticklabels(['Heart Disease', 'Normal'])\n",
    "\n",
    "# Legend 이름 변경\n",
    "plt.legend(loc='center')\n",
    "\n",
    "# 그래프 표시\n",
    "plt.tight_layout()\n",
    "plt.show()"
   ]
  },
  {
   "cell_type": "code",
   "execution_count": null,
   "id": "0740dd1f-22bc-435d-b769-91ed74d67e5d",
   "metadata": {},
   "outputs": [],
   "source": []
  },
  {
   "cell_type": "code",
   "execution_count": null,
   "id": "c74dc081-9938-408b-9069-372b5f621d42",
   "metadata": {},
   "outputs": [],
   "source": []
  },
  {
   "cell_type": "markdown",
   "id": "3930f1e1-1cc4-4dd2-a38f-c436e6ba059a",
   "metadata": {},
   "source": [
    "# Fourth Trial"
   ]
  },
  {
   "cell_type": "code",
   "execution_count": 362,
   "id": "8782841e-7396-420c-8a1a-6042e2cedfc3",
   "metadata": {},
   "outputs": [],
   "source": [
    "data_fourth = data_ori.copy()"
   ]
  },
  {
   "cell_type": "code",
   "execution_count": 365,
   "id": "8955c349-cbe1-4095-a42e-65a5f5693bb8",
   "metadata": {},
   "outputs": [],
   "source": [
    "# 1.1 Scaler로 연속형 데이터 정규화\n",
    "scaler = StandardScaler()\n",
    "continuous_features =['cp', 'trestbps', 'chol', 'fbs', 'restecg', 'thalach', 'exang','oldpeak', 'slope', 'ca', 'thal']\n",
    "data_fourth[continuous_features] = scaler.fit_transform(data_fourth[continuous_features])"
   ]
  },
  {
   "cell_type": "code",
   "execution_count": 366,
   "id": "01ff54e0-858d-4298-b55f-2246e4785c95",
   "metadata": {},
   "outputs": [
    {
     "data": {
      "text/plain": [
       "Index(['sex', 'cp', 'trestbps', 'chol', 'fbs', 'restecg', 'thalach', 'exang',\n",
       "       'oldpeak', 'slope', 'ca', 'thal', 'target', 'age_enc'],\n",
       "      dtype='object')"
      ]
     },
     "execution_count": 366,
     "metadata": {},
     "output_type": "execute_result"
    }
   ],
   "source": [
    "data_fourth.columns"
   ]
  },
  {
   "cell_type": "code",
   "execution_count": 367,
   "id": "e08d76ed-1f56-4b1b-8ef1-f54f1c49ac0c",
   "metadata": {},
   "outputs": [],
   "source": [
    "# 1.2 PyTorch Dataset 정의\n",
    "class MedicalDataset(Dataset):\n",
    "    def __init__(self, dataframe):\n",
    "        self.data = dataframe\n",
    "        self.features = dataframe[continuous_features].values.astype(np.float32)\n",
    "        self.conditions = dataframe[['age_enc', 'sex', 'target']].values.astype(np.float32)\n",
    "\n",
    "    def __len__(self):\n",
    "        return len(self.data)\n",
    "\n",
    "    def __getitem__(self, idx):\n",
    "        return torch.tensor(self.features[idx]), torch.tensor(self.conditions[idx])\n",
    "\n",
    "# Dataset 및 DataLoader 생성\n",
    "dataset = MedicalDataset(data_fourth)\n",
    "dataloader = DataLoader(dataset, batch_size=32, shuffle=True)"
   ]
  },
  {
   "cell_type": "code",
   "execution_count": 370,
   "id": "51642e4e-4630-4c14-b4b3-342e6bb09897",
   "metadata": {},
   "outputs": [],
   "source": [
    "# Multi-Head Self-Attention Block\n",
    "class MultiHeadSelfAttention(nn.Module):\n",
    "    def __init__(self, embed_size, heads):\n",
    "        super(MultiHeadSelfAttention, self).__init__()\n",
    "        self.embed_size = embed_size\n",
    "        self.heads = heads\n",
    "        self.head_dim = embed_size // heads\n",
    "\n",
    "        assert self.head_dim * heads == embed_size, \"Embed size must be divisible by heads\"\n",
    "\n",
    "        self.values = nn.Linear(self.head_dim, embed_size, bias=False)\n",
    "        self.keys = nn.Linear(self.head_dim, embed_size, bias=False)\n",
    "        self.queries = nn.Linear(self.head_dim, embed_size, bias=False)\n",
    "        self.fc_out = nn.Linear(embed_size, embed_size)\n",
    "\n",
    "    def forward(self, x):\n",
    "        N, seq_length, embed_size = x.shape\n",
    "        values = self.values(x)\n",
    "        keys = self.keys(x)\n",
    "        queries = self.queries(x)\n",
    "\n",
    "        # Attention score 계산\n",
    "        energy = torch.einsum(\"nqk,nvk->nqv\", [queries, keys])  # (N, seq_length, seq_length)\n",
    "        attention = torch.softmax(energy / (self.embed_size ** (1/2)), dim=2)\n",
    "\n",
    "        out = torch.einsum(\"nqv,nvk->nqk\", [attention, values])\n",
    "        out = self.fc_out(out)\n",
    "        return out\n",
    "\n",
    "\n",
    "# Cross-Attention Block\n",
    "class CrossAttention(nn.Module):\n",
    "    def __init__(self, embed_size):\n",
    "        super(CrossAttention, self).__init__()\n",
    "        self.embed_size = embed_size\n",
    "        self.query = nn.Linear(embed_size, embed_size)\n",
    "        self.key = nn.Linear(embed_size, embed_size)\n",
    "        self.value = nn.Linear(embed_size, embed_size)\n",
    "\n",
    "    def forward(self, x, context):\n",
    "        queries = self.query(x)\n",
    "        keys = self.key(context)\n",
    "        values = self.value(context)\n",
    "\n",
    "        # Attention score 계산\n",
    "        energy = torch.einsum(\"nqk,nvk->nqv\", [queries, keys])\n",
    "        attention = torch.softmax(energy / (self.embed_size ** (1/2)), dim=2)\n",
    "\n",
    "        out = torch.einsum(\"nqv,nvk->nqk\", [attention, values])\n",
    "        return out\n",
    "\n",
    "\n",
    "# CVAE 모델 정의\n",
    "class CVAE(nn.Module):\n",
    "    def __init__(self, input_dim, condition_dim, latent_dim):\n",
    "        super(CVAE, self).__init__()\n",
    "        self.encoder = nn.Sequential(\n",
    "            nn.Linear(input_dim + condition_dim, 128),\n",
    "            nn.ReLU(),\n",
    "            nn.Linear(128, 64),\n",
    "            nn.ReLU()\n",
    "        )\n",
    "        self.fc_mu = nn.Linear(64, latent_dim)\n",
    "        self.fc_logvar = nn.Linear(64, latent_dim)\n",
    "\n",
    "        self.decoder = nn.Sequential(\n",
    "            nn.Linear(latent_dim + condition_dim, 64),\n",
    "            nn.ReLU(),\n",
    "            nn.Linear(64, 128),\n",
    "            nn.ReLU()\n",
    "        )\n",
    "        self.self_attention = MultiHeadSelfAttention(embed_size=128, heads=4)\n",
    "        self.cross_attention = CrossAttention(embed_size=128)\n",
    "        self.final_layer = nn.Linear(128, input_dim)\n",
    "\n",
    "    def reparameterize(self, mu, logvar):\n",
    "        std = torch.exp(0.5 * logvar)\n",
    "        eps = torch.randn_like(std)\n",
    "        return mu + eps * std\n",
    "\n",
    "    def forward(self, x, conditions):\n",
    "        # 인코더\n",
    "        encoder_input = torch.cat([x, conditions], dim=1)\n",
    "        encoded = self.encoder(encoder_input)\n",
    "        mu = self.fc_mu(encoded)\n",
    "        logvar = self.fc_logvar(encoded)\n",
    "        z = self.reparameterize(mu, logvar)\n",
    "\n",
    "        # 디코더\n",
    "        decoder_input = torch.cat([z, conditions], dim=1)\n",
    "        decoded = self.decoder(decoder_input)\n",
    "\n",
    "        # Attention 적용\n",
    "        decoded = self.self_attention(decoded.unsqueeze(1)).squeeze(1)\n",
    "        decoded = self.cross_attention(decoded.unsqueeze(1), conditions.unsqueeze(1)).squeeze(1)\n",
    "\n",
    "        # 최종 출력\n",
    "        reconstructed = self.final_layer(decoded)\n",
    "        return reconstructed, mu, logvar"
   ]
  },
  {
   "cell_type": "code",
   "execution_count": 371,
   "id": "87a34f68-70ed-486d-b03a-da05f86fb154",
   "metadata": {},
   "outputs": [
    {
     "ename": "RuntimeError",
     "evalue": "mat1 and mat2 shapes cannot be multiplied (32x128 and 32x128)",
     "output_type": "error",
     "traceback": [
      "\u001b[1;31m---------------------------------------------------------------------------\u001b[0m",
      "\u001b[1;31mRuntimeError\u001b[0m                              Traceback (most recent call last)",
      "Cell \u001b[1;32mIn[371], line 19\u001b[0m\n\u001b[0;32m     17\u001b[0m \u001b[38;5;28;01mfor\u001b[39;00m batch_features, batch_conditions \u001b[38;5;129;01min\u001b[39;00m dataloader:\n\u001b[0;32m     18\u001b[0m     optimizer\u001b[38;5;241m.\u001b[39mzero_grad()\n\u001b[1;32m---> 19\u001b[0m     reconstructed, mu, logvar \u001b[38;5;241m=\u001b[39m \u001b[43mmodel\u001b[49m\u001b[43m(\u001b[49m\u001b[43mbatch_features\u001b[49m\u001b[43m,\u001b[49m\u001b[43m \u001b[49m\u001b[43mbatch_conditions\u001b[49m\u001b[43m)\u001b[49m\n\u001b[0;32m     20\u001b[0m     loss \u001b[38;5;241m=\u001b[39m loss_function(reconstructed, batch_features, mu, logvar)\n\u001b[0;32m     21\u001b[0m     loss\u001b[38;5;241m.\u001b[39mbackward()\n",
      "File \u001b[1;32m~\\anaconda3\\envs\\paper\\lib\\site-packages\\torch\\nn\\modules\\module.py:1553\u001b[0m, in \u001b[0;36mModule._wrapped_call_impl\u001b[1;34m(self, *args, **kwargs)\u001b[0m\n\u001b[0;32m   1551\u001b[0m     \u001b[38;5;28;01mreturn\u001b[39;00m \u001b[38;5;28mself\u001b[39m\u001b[38;5;241m.\u001b[39m_compiled_call_impl(\u001b[38;5;241m*\u001b[39margs, \u001b[38;5;241m*\u001b[39m\u001b[38;5;241m*\u001b[39mkwargs)  \u001b[38;5;66;03m# type: ignore[misc]\u001b[39;00m\n\u001b[0;32m   1552\u001b[0m \u001b[38;5;28;01melse\u001b[39;00m:\n\u001b[1;32m-> 1553\u001b[0m     \u001b[38;5;28;01mreturn\u001b[39;00m \u001b[38;5;28;43mself\u001b[39;49m\u001b[38;5;241;43m.\u001b[39;49m\u001b[43m_call_impl\u001b[49m\u001b[43m(\u001b[49m\u001b[38;5;241;43m*\u001b[39;49m\u001b[43margs\u001b[49m\u001b[43m,\u001b[49m\u001b[43m \u001b[49m\u001b[38;5;241;43m*\u001b[39;49m\u001b[38;5;241;43m*\u001b[39;49m\u001b[43mkwargs\u001b[49m\u001b[43m)\u001b[49m\n",
      "File \u001b[1;32m~\\anaconda3\\envs\\paper\\lib\\site-packages\\torch\\nn\\modules\\module.py:1562\u001b[0m, in \u001b[0;36mModule._call_impl\u001b[1;34m(self, *args, **kwargs)\u001b[0m\n\u001b[0;32m   1557\u001b[0m \u001b[38;5;66;03m# If we don't have any hooks, we want to skip the rest of the logic in\u001b[39;00m\n\u001b[0;32m   1558\u001b[0m \u001b[38;5;66;03m# this function, and just call forward.\u001b[39;00m\n\u001b[0;32m   1559\u001b[0m \u001b[38;5;28;01mif\u001b[39;00m \u001b[38;5;129;01mnot\u001b[39;00m (\u001b[38;5;28mself\u001b[39m\u001b[38;5;241m.\u001b[39m_backward_hooks \u001b[38;5;129;01mor\u001b[39;00m \u001b[38;5;28mself\u001b[39m\u001b[38;5;241m.\u001b[39m_backward_pre_hooks \u001b[38;5;129;01mor\u001b[39;00m \u001b[38;5;28mself\u001b[39m\u001b[38;5;241m.\u001b[39m_forward_hooks \u001b[38;5;129;01mor\u001b[39;00m \u001b[38;5;28mself\u001b[39m\u001b[38;5;241m.\u001b[39m_forward_pre_hooks\n\u001b[0;32m   1560\u001b[0m         \u001b[38;5;129;01mor\u001b[39;00m _global_backward_pre_hooks \u001b[38;5;129;01mor\u001b[39;00m _global_backward_hooks\n\u001b[0;32m   1561\u001b[0m         \u001b[38;5;129;01mor\u001b[39;00m _global_forward_hooks \u001b[38;5;129;01mor\u001b[39;00m _global_forward_pre_hooks):\n\u001b[1;32m-> 1562\u001b[0m     \u001b[38;5;28;01mreturn\u001b[39;00m \u001b[43mforward_call\u001b[49m\u001b[43m(\u001b[49m\u001b[38;5;241;43m*\u001b[39;49m\u001b[43margs\u001b[49m\u001b[43m,\u001b[49m\u001b[43m \u001b[49m\u001b[38;5;241;43m*\u001b[39;49m\u001b[38;5;241;43m*\u001b[39;49m\u001b[43mkwargs\u001b[49m\u001b[43m)\u001b[49m\n\u001b[0;32m   1564\u001b[0m \u001b[38;5;28;01mtry\u001b[39;00m:\n\u001b[0;32m   1565\u001b[0m     result \u001b[38;5;241m=\u001b[39m \u001b[38;5;28;01mNone\u001b[39;00m\n",
      "Cell \u001b[1;32mIn[370], line 94\u001b[0m, in \u001b[0;36mCVAE.forward\u001b[1;34m(self, x, conditions)\u001b[0m\n\u001b[0;32m     91\u001b[0m decoded \u001b[38;5;241m=\u001b[39m \u001b[38;5;28mself\u001b[39m\u001b[38;5;241m.\u001b[39mdecoder(decoder_input)\n\u001b[0;32m     93\u001b[0m \u001b[38;5;66;03m# Attention 적용\u001b[39;00m\n\u001b[1;32m---> 94\u001b[0m decoded \u001b[38;5;241m=\u001b[39m \u001b[38;5;28;43mself\u001b[39;49m\u001b[38;5;241;43m.\u001b[39;49m\u001b[43mself_attention\u001b[49m\u001b[43m(\u001b[49m\u001b[43mdecoded\u001b[49m\u001b[38;5;241;43m.\u001b[39;49m\u001b[43munsqueeze\u001b[49m\u001b[43m(\u001b[49m\u001b[38;5;241;43m1\u001b[39;49m\u001b[43m)\u001b[49m\u001b[43m)\u001b[49m\u001b[38;5;241m.\u001b[39msqueeze(\u001b[38;5;241m1\u001b[39m)\n\u001b[0;32m     95\u001b[0m decoded \u001b[38;5;241m=\u001b[39m \u001b[38;5;28mself\u001b[39m\u001b[38;5;241m.\u001b[39mcross_attention(decoded\u001b[38;5;241m.\u001b[39munsqueeze(\u001b[38;5;241m1\u001b[39m), conditions\u001b[38;5;241m.\u001b[39munsqueeze(\u001b[38;5;241m1\u001b[39m))\u001b[38;5;241m.\u001b[39msqueeze(\u001b[38;5;241m1\u001b[39m)\n\u001b[0;32m     97\u001b[0m \u001b[38;5;66;03m# 최종 출력\u001b[39;00m\n",
      "File \u001b[1;32m~\\anaconda3\\envs\\paper\\lib\\site-packages\\torch\\nn\\modules\\module.py:1553\u001b[0m, in \u001b[0;36mModule._wrapped_call_impl\u001b[1;34m(self, *args, **kwargs)\u001b[0m\n\u001b[0;32m   1551\u001b[0m     \u001b[38;5;28;01mreturn\u001b[39;00m \u001b[38;5;28mself\u001b[39m\u001b[38;5;241m.\u001b[39m_compiled_call_impl(\u001b[38;5;241m*\u001b[39margs, \u001b[38;5;241m*\u001b[39m\u001b[38;5;241m*\u001b[39mkwargs)  \u001b[38;5;66;03m# type: ignore[misc]\u001b[39;00m\n\u001b[0;32m   1552\u001b[0m \u001b[38;5;28;01melse\u001b[39;00m:\n\u001b[1;32m-> 1553\u001b[0m     \u001b[38;5;28;01mreturn\u001b[39;00m \u001b[38;5;28;43mself\u001b[39;49m\u001b[38;5;241;43m.\u001b[39;49m\u001b[43m_call_impl\u001b[49m\u001b[43m(\u001b[49m\u001b[38;5;241;43m*\u001b[39;49m\u001b[43margs\u001b[49m\u001b[43m,\u001b[49m\u001b[43m \u001b[49m\u001b[38;5;241;43m*\u001b[39;49m\u001b[38;5;241;43m*\u001b[39;49m\u001b[43mkwargs\u001b[49m\u001b[43m)\u001b[49m\n",
      "File \u001b[1;32m~\\anaconda3\\envs\\paper\\lib\\site-packages\\torch\\nn\\modules\\module.py:1562\u001b[0m, in \u001b[0;36mModule._call_impl\u001b[1;34m(self, *args, **kwargs)\u001b[0m\n\u001b[0;32m   1557\u001b[0m \u001b[38;5;66;03m# If we don't have any hooks, we want to skip the rest of the logic in\u001b[39;00m\n\u001b[0;32m   1558\u001b[0m \u001b[38;5;66;03m# this function, and just call forward.\u001b[39;00m\n\u001b[0;32m   1559\u001b[0m \u001b[38;5;28;01mif\u001b[39;00m \u001b[38;5;129;01mnot\u001b[39;00m (\u001b[38;5;28mself\u001b[39m\u001b[38;5;241m.\u001b[39m_backward_hooks \u001b[38;5;129;01mor\u001b[39;00m \u001b[38;5;28mself\u001b[39m\u001b[38;5;241m.\u001b[39m_backward_pre_hooks \u001b[38;5;129;01mor\u001b[39;00m \u001b[38;5;28mself\u001b[39m\u001b[38;5;241m.\u001b[39m_forward_hooks \u001b[38;5;129;01mor\u001b[39;00m \u001b[38;5;28mself\u001b[39m\u001b[38;5;241m.\u001b[39m_forward_pre_hooks\n\u001b[0;32m   1560\u001b[0m         \u001b[38;5;129;01mor\u001b[39;00m _global_backward_pre_hooks \u001b[38;5;129;01mor\u001b[39;00m _global_backward_hooks\n\u001b[0;32m   1561\u001b[0m         \u001b[38;5;129;01mor\u001b[39;00m _global_forward_hooks \u001b[38;5;129;01mor\u001b[39;00m _global_forward_pre_hooks):\n\u001b[1;32m-> 1562\u001b[0m     \u001b[38;5;28;01mreturn\u001b[39;00m \u001b[43mforward_call\u001b[49m\u001b[43m(\u001b[49m\u001b[38;5;241;43m*\u001b[39;49m\u001b[43margs\u001b[49m\u001b[43m,\u001b[49m\u001b[43m \u001b[49m\u001b[38;5;241;43m*\u001b[39;49m\u001b[38;5;241;43m*\u001b[39;49m\u001b[43mkwargs\u001b[49m\u001b[43m)\u001b[49m\n\u001b[0;32m   1564\u001b[0m \u001b[38;5;28;01mtry\u001b[39;00m:\n\u001b[0;32m   1565\u001b[0m     result \u001b[38;5;241m=\u001b[39m \u001b[38;5;28;01mNone\u001b[39;00m\n",
      "Cell \u001b[1;32mIn[370], line 18\u001b[0m, in \u001b[0;36mMultiHeadSelfAttention.forward\u001b[1;34m(self, x)\u001b[0m\n\u001b[0;32m     16\u001b[0m \u001b[38;5;28;01mdef\u001b[39;00m \u001b[38;5;21mforward\u001b[39m(\u001b[38;5;28mself\u001b[39m, x):\n\u001b[0;32m     17\u001b[0m     N, seq_length, embed_size \u001b[38;5;241m=\u001b[39m x\u001b[38;5;241m.\u001b[39mshape\n\u001b[1;32m---> 18\u001b[0m     values \u001b[38;5;241m=\u001b[39m \u001b[38;5;28;43mself\u001b[39;49m\u001b[38;5;241;43m.\u001b[39;49m\u001b[43mvalues\u001b[49m\u001b[43m(\u001b[49m\u001b[43mx\u001b[49m\u001b[43m)\u001b[49m\n\u001b[0;32m     19\u001b[0m     keys \u001b[38;5;241m=\u001b[39m \u001b[38;5;28mself\u001b[39m\u001b[38;5;241m.\u001b[39mkeys(x)\n\u001b[0;32m     20\u001b[0m     queries \u001b[38;5;241m=\u001b[39m \u001b[38;5;28mself\u001b[39m\u001b[38;5;241m.\u001b[39mqueries(x)\n",
      "File \u001b[1;32m~\\anaconda3\\envs\\paper\\lib\\site-packages\\torch\\nn\\modules\\module.py:1553\u001b[0m, in \u001b[0;36mModule._wrapped_call_impl\u001b[1;34m(self, *args, **kwargs)\u001b[0m\n\u001b[0;32m   1551\u001b[0m     \u001b[38;5;28;01mreturn\u001b[39;00m \u001b[38;5;28mself\u001b[39m\u001b[38;5;241m.\u001b[39m_compiled_call_impl(\u001b[38;5;241m*\u001b[39margs, \u001b[38;5;241m*\u001b[39m\u001b[38;5;241m*\u001b[39mkwargs)  \u001b[38;5;66;03m# type: ignore[misc]\u001b[39;00m\n\u001b[0;32m   1552\u001b[0m \u001b[38;5;28;01melse\u001b[39;00m:\n\u001b[1;32m-> 1553\u001b[0m     \u001b[38;5;28;01mreturn\u001b[39;00m \u001b[38;5;28;43mself\u001b[39;49m\u001b[38;5;241;43m.\u001b[39;49m\u001b[43m_call_impl\u001b[49m\u001b[43m(\u001b[49m\u001b[38;5;241;43m*\u001b[39;49m\u001b[43margs\u001b[49m\u001b[43m,\u001b[49m\u001b[43m \u001b[49m\u001b[38;5;241;43m*\u001b[39;49m\u001b[38;5;241;43m*\u001b[39;49m\u001b[43mkwargs\u001b[49m\u001b[43m)\u001b[49m\n",
      "File \u001b[1;32m~\\anaconda3\\envs\\paper\\lib\\site-packages\\torch\\nn\\modules\\module.py:1562\u001b[0m, in \u001b[0;36mModule._call_impl\u001b[1;34m(self, *args, **kwargs)\u001b[0m\n\u001b[0;32m   1557\u001b[0m \u001b[38;5;66;03m# If we don't have any hooks, we want to skip the rest of the logic in\u001b[39;00m\n\u001b[0;32m   1558\u001b[0m \u001b[38;5;66;03m# this function, and just call forward.\u001b[39;00m\n\u001b[0;32m   1559\u001b[0m \u001b[38;5;28;01mif\u001b[39;00m \u001b[38;5;129;01mnot\u001b[39;00m (\u001b[38;5;28mself\u001b[39m\u001b[38;5;241m.\u001b[39m_backward_hooks \u001b[38;5;129;01mor\u001b[39;00m \u001b[38;5;28mself\u001b[39m\u001b[38;5;241m.\u001b[39m_backward_pre_hooks \u001b[38;5;129;01mor\u001b[39;00m \u001b[38;5;28mself\u001b[39m\u001b[38;5;241m.\u001b[39m_forward_hooks \u001b[38;5;129;01mor\u001b[39;00m \u001b[38;5;28mself\u001b[39m\u001b[38;5;241m.\u001b[39m_forward_pre_hooks\n\u001b[0;32m   1560\u001b[0m         \u001b[38;5;129;01mor\u001b[39;00m _global_backward_pre_hooks \u001b[38;5;129;01mor\u001b[39;00m _global_backward_hooks\n\u001b[0;32m   1561\u001b[0m         \u001b[38;5;129;01mor\u001b[39;00m _global_forward_hooks \u001b[38;5;129;01mor\u001b[39;00m _global_forward_pre_hooks):\n\u001b[1;32m-> 1562\u001b[0m     \u001b[38;5;28;01mreturn\u001b[39;00m \u001b[43mforward_call\u001b[49m\u001b[43m(\u001b[49m\u001b[38;5;241;43m*\u001b[39;49m\u001b[43margs\u001b[49m\u001b[43m,\u001b[49m\u001b[43m \u001b[49m\u001b[38;5;241;43m*\u001b[39;49m\u001b[38;5;241;43m*\u001b[39;49m\u001b[43mkwargs\u001b[49m\u001b[43m)\u001b[49m\n\u001b[0;32m   1564\u001b[0m \u001b[38;5;28;01mtry\u001b[39;00m:\n\u001b[0;32m   1565\u001b[0m     result \u001b[38;5;241m=\u001b[39m \u001b[38;5;28;01mNone\u001b[39;00m\n",
      "File \u001b[1;32m~\\anaconda3\\envs\\paper\\lib\\site-packages\\torch\\nn\\modules\\linear.py:117\u001b[0m, in \u001b[0;36mLinear.forward\u001b[1;34m(self, input)\u001b[0m\n\u001b[0;32m    116\u001b[0m \u001b[38;5;28;01mdef\u001b[39;00m \u001b[38;5;21mforward\u001b[39m(\u001b[38;5;28mself\u001b[39m, \u001b[38;5;28minput\u001b[39m: Tensor) \u001b[38;5;241m-\u001b[39m\u001b[38;5;241m>\u001b[39m Tensor:\n\u001b[1;32m--> 117\u001b[0m     \u001b[38;5;28;01mreturn\u001b[39;00m \u001b[43mF\u001b[49m\u001b[38;5;241;43m.\u001b[39;49m\u001b[43mlinear\u001b[49m\u001b[43m(\u001b[49m\u001b[38;5;28;43minput\u001b[39;49m\u001b[43m,\u001b[49m\u001b[43m \u001b[49m\u001b[38;5;28;43mself\u001b[39;49m\u001b[38;5;241;43m.\u001b[39;49m\u001b[43mweight\u001b[49m\u001b[43m,\u001b[49m\u001b[43m \u001b[49m\u001b[38;5;28;43mself\u001b[39;49m\u001b[38;5;241;43m.\u001b[39;49m\u001b[43mbias\u001b[49m\u001b[43m)\u001b[49m\n",
      "\u001b[1;31mRuntimeError\u001b[0m: mat1 and mat2 shapes cannot be multiplied (32x128 and 32x128)"
     ]
    }
   ],
   "source": [
    "from torch.optim import Adam\n",
    "\n",
    "# 모델 및 손실 함수 정의\n",
    "model = CVAE(input_dim=11, condition_dim=3, latent_dim=10)\n",
    "optimizer = Adam(model.parameters(), lr=1e-3)\n",
    "\n",
    "def loss_function(recon_x, x, mu, logvar):\n",
    "    recon_loss = F.mse_loss(recon_x, x, reduction=\"sum\")\n",
    "    kl_div = -0.5 * torch.sum(1 + logvar - mu.pow(2) - logvar.exp())\n",
    "    return recon_loss + kl_div\n",
    "\n",
    "# 학습 루프\n",
    "num_epochs = 50\n",
    "model.train()\n",
    "for epoch in range(num_epochs):\n",
    "    total_loss = 0\n",
    "    for batch_features, batch_conditions in dataloader:\n",
    "        optimizer.zero_grad()\n",
    "        reconstructed, mu, logvar = model(batch_features, batch_conditions)\n",
    "        loss = loss_function(reconstructed, batch_features, mu, logvar)\n",
    "        loss.backward()\n",
    "        optimizer.step()\n",
    "        total_loss += loss.item()\n",
    "    print(f\"Epoch {epoch + 1}, Loss: {total_loss:.4f}\")"
   ]
  },
  {
   "cell_type": "code",
   "execution_count": null,
   "id": "fced782f-6168-4db6-af0e-f1a930fafda3",
   "metadata": {},
   "outputs": [],
   "source": []
  },
  {
   "cell_type": "code",
   "execution_count": null,
   "id": "7da03e3a-4071-446c-b9e4-8afbb2b10c6e",
   "metadata": {},
   "outputs": [],
   "source": []
  },
  {
   "cell_type": "code",
   "execution_count": null,
   "id": "b4b1b9a4-f533-4bc0-a9a1-c7fbc0464c4a",
   "metadata": {},
   "outputs": [],
   "source": []
  },
  {
   "cell_type": "code",
   "execution_count": null,
   "id": "15221724-31d5-4750-853d-8a16e67cf3c4",
   "metadata": {},
   "outputs": [],
   "source": []
  },
  {
   "cell_type": "code",
   "execution_count": null,
   "id": "0e83e6f2-0d83-415e-b843-c6828415a4ac",
   "metadata": {},
   "outputs": [],
   "source": []
  }
 ],
 "metadata": {
  "kernelspec": {
   "display_name": "Python 3 (ipykernel)",
   "language": "python",
   "name": "python3"
  },
  "language_info": {
   "codemirror_mode": {
    "name": "ipython",
    "version": 3
   },
   "file_extension": ".py",
   "mimetype": "text/x-python",
   "name": "python",
   "nbconvert_exporter": "python",
   "pygments_lexer": "ipython3",
   "version": "3.8.20"
  }
 },
 "nbformat": 4,
 "nbformat_minor": 5
}
