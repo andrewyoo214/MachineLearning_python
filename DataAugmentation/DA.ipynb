{
 "cells": [
  {
   "cell_type": "markdown",
   "id": "938fcb43-4b9e-4aeb-90f3-bb862f8e72ca",
   "metadata": {},
   "source": [
    "# Data Augmentation Box"
   ]
  },
  {
   "cell_type": "markdown",
   "id": "6c7f1b6c-da66-488a-a24a-1272eb35e18f",
   "metadata": {},
   "source": [
    "Project for Data Augmentation System"
   ]
  },
  {
   "cell_type": "markdown",
   "id": "bc0f750e-a3bd-495f-bbca-b2e65c492c87",
   "metadata": {},
   "source": [
    "## Data Augmentation Order\n",
    "\n",
    "STEP 1 - Domain Data Preparation\n",
    "1. Domain data labeling check\n",
    "2. Dimensionality Reduction\n",
    "3. Regression analysis\n",
    "\n",
    "\n",
    "STEP 2 - Data Augmentation\n",
    "1. Domain data check\n",
    "02. Public Data Supplement\n",
    "03. Data filtering (1st)\n",
    "04. Dimensionality Reduction\n",
    "05. Label Spreading (semi-supervised learning based)\n",
    "06. Data Filtering (2nd)\n",
    "07. Regression analytsis\n",
    "08. Data Filtering (3rd)\n",
    "09. Data Augmentation\n",
    "10. Model Generation"
   ]
  },
  {
   "cell_type": "markdown",
   "id": "e0274c5b-defe-43a0-8d24-a70b30719312",
   "metadata": {},
   "source": [
    "- - -"
   ]
  },
  {
   "cell_type": "code",
   "execution_count": null,
   "id": "4497d4fd-c9e6-4e5e-bf71-131c7297d426",
   "metadata": {},
   "outputs": [],
   "source": []
  },
  {
   "cell_type": "code",
   "execution_count": null,
   "id": "965875d6-0f07-499f-b2aa-8661abe35981",
   "metadata": {},
   "outputs": [],
   "source": [
    "import os\n",
    "import time\n",
    "import numpy as np\n",
    "import pandas as pd\n",
    "import seaborn as sns\n",
    "import matplotlib.pyplot as plt\n",
    "import sklearn.metrics as metrics"
   ]
  },
  {
   "cell_type": "code",
   "execution_count": null,
   "id": "2b695956-4d10-46fb-9ec3-7b62968fb9cf",
   "metadata": {},
   "outputs": [],
   "source": [
    "from sklearn.model_selection import train_test_split, ParameterGrid\n",
    "from sklearn.preprocessing import MinMaxScaler\n",
    "from sklearn import decomposition\n",
    "from sklearn.manifold import TSNE\n",
    "from sklearn.cluster import KMeans\n",
    "from sklearn.linear_model import LogisticRegression\n",
    "from sklearn.semi_supervised import LabelPropagation, LabelSpreading\n",
    "from sklearn.metrics import roc_auc_score, accuracy_score\n",
    "from sklearn.feature_extraction.text import CountVectorizer\n",
    "\n",
    "scaler = MinMaxScaler() #set the scaler"
   ]
  },
  {
   "cell_type": "markdown",
   "id": "884086bf-c312-4af8-bec9-6c903212ae3f",
   "metadata": {},
   "source": [
    "## 01. Domain Data Check"
   ]
  },
  {
   "cell_type": "markdown",
   "id": "ca0634bb-3549-4206-864e-018f4813f5ce",
   "metadata": {},
   "source": [
    "we have to check the domain data "
   ]
  },
  {
   "cell_type": "markdown",
   "id": "164251fd-e819-4eb0-aded-5d435b2d03f0",
   "metadata": {
    "tags": []
   },
   "source": [
    "### 1-1) image dataset"
   ]
  },
  {
   "cell_type": "code",
   "execution_count": null,
   "id": "bd7fa118-272b-43cd-8ede-d544f63e8688",
   "metadata": {},
   "outputs": [],
   "source": []
  },
  {
   "cell_type": "code",
   "execution_count": null,
   "id": "2f46006c-87a0-4d89-9d7d-fd78dec740c7",
   "metadata": {},
   "outputs": [],
   "source": []
  },
  {
   "cell_type": "code",
   "execution_count": null,
   "id": "80d25f3e-0e43-4900-9934-2e97529592ec",
   "metadata": {},
   "outputs": [],
   "source": []
  },
  {
   "cell_type": "markdown",
   "id": "d19bf23a-4667-4b76-a85c-d0d3d4956a30",
   "metadata": {},
   "source": [
    "### 1-2) numerical dataset"
   ]
  },
  {
   "cell_type": "code",
   "execution_count": null,
   "id": "e68af2e8-cfe5-4b72-82b4-e5289a652d6b",
   "metadata": {},
   "outputs": [],
   "source": [
    "### HRV numerical dataset\n",
    "domain = pd.read_csv('E:/RESEARCH/Datasets/HRV/HRV_REV_all.csv', sep=',')"
   ]
  },
  {
   "cell_type": "code",
   "execution_count": null,
   "id": "fadb654f-8f3d-4d7d-9c8e-5a044e4523c3",
   "metadata": {},
   "outputs": [],
   "source": [
    "### data shape, variables check\n",
    "print(\"The shape of the domain dataset is:\",domain.shape)\n",
    "# print(domain.columns)\n",
    "domain.head()"
   ]
  },
  {
   "cell_type": "markdown",
   "id": "04607d97-ddd4-43d0-b7c4-887195b17689",
   "metadata": {},
   "source": [
    "* HAMD 점수에 따라서 새롭게 IndexH 라고 라벨링용 변수 만들어주자"
   ]
  },
  {
   "cell_type": "code",
   "execution_count": null,
   "id": "94d28c96-1a8a-478b-8fab-9cfbf47d738b",
   "metadata": {},
   "outputs": [],
   "source": [
    "### checking lables for the data\n",
    "domain.loc[domain['HAMD']<=7, 'IndexH'] =0\n",
    "domain.loc[(domain['HAMD']>7) & (domain['HAMD']<=16), 'IndexH'] = 1\n",
    "domain.loc[domain['HAMD']>16, 'IndexH'] = 2\n",
    "domain_y = domain.loc[:,'IndexH']\n",
    "# domain_y = domain.loc[:,'disorder']"
   ]
  },
  {
   "cell_type": "code",
   "execution_count": null,
   "id": "29a9e545-62d5-40dc-9edd-925e022de608",
   "metadata": {},
   "outputs": [],
   "source": [
    "domain['IndexH'].value_counts()"
   ]
  },
  {
   "cell_type": "markdown",
   "id": "e0650eac-e318-4fc1-882b-3e5ae0aa5d62",
   "metadata": {},
   "source": [
    "* 그리고 안쓸 변수들은 제거해주자. (HRV 관련 변수만 쓸 것임)"
   ]
  },
  {
   "cell_type": "code",
   "execution_count": null,
   "id": "4f061d7c-b18c-4d8a-abfe-a28f0dfb2657",
   "metadata": {},
   "outputs": [],
   "source": [
    "### deleting unnecessary data columns\n",
    "domain = domain.drop(['sub','age','gender','VISIT','disorder','HAMD', 'HAMA','PDSS','ASI','APPQ','PSWQ','SPI','PSS','BIS','SSI'], axis=1)"
   ]
  },
  {
   "cell_type": "code",
   "execution_count": null,
   "id": "2ac908b3-ef7f-4fd8-a5bf-133cff76cef7",
   "metadata": {},
   "outputs": [],
   "source": [
    "### check the domain data columns again\n",
    "print(domain.columns)\n",
    "print(domain.shape)"
   ]
  },
  {
   "cell_type": "code",
   "execution_count": null,
   "id": "f4eb2a97-4144-4464-9128-de68912c32f4",
   "metadata": {},
   "outputs": [],
   "source": []
  },
  {
   "cell_type": "markdown",
   "id": "31eeba65-1203-4aea-803d-c796a46f8cfa",
   "metadata": {},
   "source": [
    "- - -"
   ]
  },
  {
   "cell_type": "markdown",
   "id": "e597230c-bbf3-4a41-8a34-de6f8d1479fd",
   "metadata": {},
   "source": [
    "* Domain data variable selection for the right task\n",
    "> baseline, stress, rest phase로 나눠진 데이터를 각각 쪼개주는 것."
   ]
  },
  {
   "cell_type": "code",
   "execution_count": null,
   "id": "95402874-c583-46a2-839f-d974d0112bab",
   "metadata": {},
   "outputs": [],
   "source": [
    "domain_b1 = domain.loc[:, ['b1RMSSD', 'b1HR', 'b1PNN50', 'b1VLF', 'b1LF', 'b1HF', 'b1LF/HF']]\n",
    "domain_b2 = domain.loc[:, ['b2RMSSD', 'b2HR', 'b2PNN50', 'b2VLF', 'b2LF', 'b2HF', 'b2LF/HF']]\n",
    "domain_b3 = domain.loc[:, ['b3RMSSD', 'b3HR', 'b3PNN50', 'b3VLF', 'b3LF', 'b3HF', 'b3LF/HF']]"
   ]
  },
  {
   "cell_type": "code",
   "execution_count": null,
   "id": "8dd8f48f-091e-41a9-8ecc-a74b1f95fe0b",
   "metadata": {},
   "outputs": [],
   "source": [
    "domain_b1.columns = ['RMSSD', 'HR', 'PNN50', 'VLF', 'LF', 'HF', 'LF_HF']\n",
    "domain_b2.columns = ['RMSSD', 'HR', 'PNN50', 'VLF', 'LF', 'HF', 'LF_HF']\n",
    "domain_b3.columns = ['RMSSD', 'HR', 'PNN50', 'VLF', 'LF', 'HF', 'LF_HF']"
   ]
  },
  {
   "cell_type": "markdown",
   "id": "2662201d-3fb1-4cfc-9126-b1674e1462ae",
   "metadata": {},
   "source": [
    "* domain_s 는 stress phase에 있는 애들"
   ]
  },
  {
   "cell_type": "code",
   "execution_count": null,
   "id": "ef4e7a1b-c352-4018-a568-e5fb6988d572",
   "metadata": {},
   "outputs": [],
   "source": [
    "domain_s = domain.loc[:, ['sRMSSD','sHR', 'sPNN50', 'sVLF', 'sLF', 'sHF', 'sLF/HF']]\n",
    "domain_s_index = domain.loc[:, ['sRMSSD','sHR', 'sPNN50', 'sVLF', 'sLF', 'sHF', 'sLF/HF', 'IndexH']]"
   ]
  },
  {
   "cell_type": "code",
   "execution_count": null,
   "id": "40a7a6de-63cb-4228-a52e-19359ecf1378",
   "metadata": {},
   "outputs": [],
   "source": [
    "domain_s.columns = ['RMSSD', 'HR', 'PNN50', 'VLF', 'LF', 'HF', 'LF_HF']"
   ]
  },
  {
   "cell_type": "code",
   "execution_count": null,
   "id": "a4a49693-ad68-44e1-88db-51018958e9c4",
   "metadata": {},
   "outputs": [],
   "source": [
    "### Standardization\n",
    "domain_b1[:] = scaler.fit_transform(domain_b1[:])\n",
    "domain_b2[:] = scaler.fit_transform(domain_b2[:])\n",
    "domain_b3[:] = scaler.fit_transform(domain_b3[:])\n",
    "domain_s[:] = scaler.fit_transform(domain_s[:])"
   ]
  },
  {
   "cell_type": "markdown",
   "id": "b49d3464-d618-4e24-99ea-2da2321ae32e",
   "metadata": {},
   "source": [
    "Later you can select the dataset that you want to analyze. "
   ]
  },
  {
   "cell_type": "markdown",
   "id": "3a2bbf41-5372-42e5-b4ea-4f3873306587",
   "metadata": {},
   "source": [
    "ex) if you want to augment the stress phase dataset, choose domain_s"
   ]
  },
  {
   "cell_type": "code",
   "execution_count": null,
   "id": "6a7f995a-a054-477f-b1fc-3171d7b13c69",
   "metadata": {},
   "outputs": [],
   "source": []
  },
  {
   "cell_type": "markdown",
   "id": "8730ac20-7b1a-4ede-8173-ebbae0aba036",
   "metadata": {},
   "source": [
    "- - -"
   ]
  },
  {
   "cell_type": "markdown",
   "id": "6bcd866b-24cb-41b4-a4db-9dd2352e70e2",
   "metadata": {},
   "source": [
    "--------"
   ]
  },
  {
   "cell_type": "markdown",
   "id": "af84f59f-4447-43ad-bb06-e00c57a0ce29",
   "metadata": {},
   "source": [
    "## 02. Public Data Supplement"
   ]
  },
  {
   "cell_type": "markdown",
   "id": "4ae38185-405e-4b24-a36f-306f0c0ad8e5",
   "metadata": {},
   "source": [
    "we proceed data crawling to support insufficient data environment"
   ]
  },
  {
   "cell_type": "markdown",
   "id": "56afaee5-9254-49e8-a6b0-95bd0a5387ea",
   "metadata": {},
   "source": [
    "### 2-1) Crawling Image data "
   ]
  },
  {
   "cell_type": "code",
   "execution_count": null,
   "id": "e7e1f564-4079-4bf8-b89d-24e3974eca94",
   "metadata": {},
   "outputs": [],
   "source": [
    "# import urllib.request\n",
    "# import time\n",
    "# from urllib.parse import quote_plus\n",
    "# from bs4 import BeautifulSoup\n",
    "# from selenium import webdriver\n",
    "# from icrawler.builtin import GoogleImageCrawler"
   ]
  },
  {
   "cell_type": "code",
   "execution_count": null,
   "id": "3ae47c3f-f034-47ca-bb61-d39ee9d60caf",
   "metadata": {},
   "outputs": [],
   "source": [
    "# google_crawler = GoogleImageCrawler(parser_threads=2, downloader_threads=4,\n",
    "#                                     storage={'root_dir': 'E:/RESEARCH/Datasets/HRV/crawl_test'})\n",
    "\n",
    "# google_crawler.crawl(keyword='car crash', max_num=500,\n",
    "# #                      date_min=None, date_max=None,\n",
    "#                      min_size=(200,200), max_size=None)"
   ]
  },
  {
   "cell_type": "code",
   "execution_count": null,
   "id": "5f9c6221-0bc2-4ccd-a1b7-6e0326cc45e7",
   "metadata": {
    "tags": []
   },
   "outputs": [],
   "source": [
    "# ### image crawling from google with GoogleImageCrawler\n",
    "# google_crawler = GoogleImageCrawler(\n",
    "#     feeder_threads=1,\n",
    "#     parser_threads=1,\n",
    "#     downloader_threads=4,\n",
    "#     storage={'root_dir': 'E:/RESEARCH/Datasets/VC/classic/violin'})\n",
    "# #     storage={'root_dir': 'E:/RESEARCH/Datasets/image/CIFAR_PUB/truck'}) #set the storage root\n",
    "\n",
    "# filters = dict(\n",
    "# #     type='photo',\n",
    "#     #type=photo,face,clipart,linedrawing,animated\n",
    "#     size='medium',\n",
    "#     #size=large, medium, icon, or larger than a given size e.g.\">640x480\" or exactly giving size\"=1024x768\n",
    "# #     color='orange',\n",
    "#     #coler=blackandwhite, red, oragne, yellow, green, teal, blue, purple, pink, white, gray, black, brown\n",
    "# #     license='commercial,modify',\n",
    "#     #license=noncommercial, commercial, noncommercial,modify , commercial,modify\n",
    "#     date=((2000, 1, 1), (2021, 12, 30)))\n",
    "\n",
    "# # type the keyword of the image that you want to crawl from google\n",
    "# google_crawler.crawl(keyword= 'violin orchestra', filters=filters, offset=0, max_num=1000,\n",
    "#                      min_size=(200,200), max_size=None, file_idx_offset=0)"
   ]
  },
  {
   "cell_type": "code",
   "execution_count": null,
   "id": "0ec38d9f-4908-4d5c-a3c5-40411097d9c1",
   "metadata": {
    "tags": []
   },
   "outputs": [],
   "source": [
    "# ### image crawling from google with GoogleImageCrawler\n",
    "# google_crawler = GoogleImageCrawler(\n",
    "#     feeder_threads=1,\n",
    "#     parser_threads=1,\n",
    "#     downloader_threads=4,\n",
    "#     storage={'root_dir': 'E:/RESEARCH/Datasets/HRV/crawl_test'}) #set the storage root\n",
    "\n",
    "# filters = dict(\n",
    "#     #type=photo,face,clipart,linedrawing,animated\n",
    "#     size='large',\n",
    "#     #size=large, medium, icon, or larger than a given size e.g.\">640x480\" or exactly giving size\"=1024x768\n",
    "#     color='blackandwhite',\n",
    "#     #coler=blackandwhite, red, oragne, yellow, green, teal, blue, purple, pink, white, gray, black, brown\n",
    "#     license='commercial,modify',\n",
    "#     #license=noncommercial, commercial, noncommercial,modify , commercial,modify\n",
    "#     date=((2021, 1, 1), (2021, 12, 30)))\n",
    "\n",
    "# # type the keyword of the image that you want to crawl from google\n",
    "# google_crawler.crawl(keyword='lung ct', filters=filters, offset=0, max_num=1000,\n",
    "#                      min_size=(200,200), max_size=None, file_idx_offset=0)"
   ]
  },
  {
   "cell_type": "code",
   "execution_count": null,
   "id": "367f0166-9a42-4a00-86e7-8271ca7d71b9",
   "metadata": {},
   "outputs": [],
   "source": []
  },
  {
   "cell_type": "code",
   "execution_count": null,
   "id": "0442771a-ff68-4ebe-b255-845dea0c4d6f",
   "metadata": {},
   "outputs": [],
   "source": []
  },
  {
   "cell_type": "code",
   "execution_count": null,
   "id": "2d24b406-8dec-4f4b-bcad-2e965b34d93d",
   "metadata": {},
   "outputs": [],
   "source": []
  },
  {
   "cell_type": "markdown",
   "id": "49b3b93b-0eae-4f6d-927a-97b64e7c0d52",
   "metadata": {},
   "source": [
    "### 2-2) Getting Numerical Data"
   ]
  },
  {
   "cell_type": "markdown",
   "id": "03c06a71-f1b9-4453-bf75-11e92f6d9812",
   "metadata": {},
   "source": [
    "maybe from kaggle, google, or uci machine learning dataset"
   ]
  },
  {
   "cell_type": "code",
   "execution_count": null,
   "id": "117ad1f2-8f4b-404e-9618-0f83b5801f2e",
   "metadata": {},
   "outputs": [],
   "source": [
    "### In our medical case, we adopt HRV dataset from SWEEL HRV research\n",
    "### Using public data must be very careful, and researchers should only use them for training data supplement.\n",
    "\n",
    "public = pd.read_csv('E:/RESEARCH/Datasets/HRV/HRV_Public/SWELL_hrv/data/final/train.csv', sep=',')"
   ]
  },
  {
   "cell_type": "code",
   "execution_count": null,
   "id": "3e9ed78e-ce72-4346-b7e0-cd01af236a14",
   "metadata": {},
   "outputs": [],
   "source": [
    "### data shape, variables check\n",
    "print(\"The shape of the public SWELL dataset is:\",public.shape)\n",
    "# print(public.columns)\n",
    "public.head()"
   ]
  },
  {
   "cell_type": "code",
   "execution_count": null,
   "id": "e1ed1400-cc37-4fce-974a-0c57c9d3d9a7",
   "metadata": {},
   "outputs": [],
   "source": []
  },
  {
   "cell_type": "markdown",
   "id": "3bfdead3-01c6-4126-9742-8b7f2ba930c0",
   "metadata": {},
   "source": [
    "- - -"
   ]
  },
  {
   "cell_type": "markdown",
   "id": "afee9128-b642-404a-89c1-cd17dfd8e2b0",
   "metadata": {},
   "source": [
    "* preprocess our data to fit into domain data\n",
    "> 실제 사용하는 domain(삼성병원)데이터는 3phase를 가지지만 public에서는 baseline이랑 stress를 나눠본다"
   ]
  },
  {
   "cell_type": "code",
   "execution_count": null,
   "id": "9b171441-8ff0-4965-bff6-1f7cb046edf7",
   "metadata": {},
   "outputs": [],
   "source": [
    "### set the variables same as domain dataset\n",
    "public_b = public[public['condition'] == 'no stress']\n",
    "public_s1 = public[public['condition'] == 'interruption']\n",
    "public_s2 = public[public['condition'] == 'time pressure']"
   ]
  },
  {
   "cell_type": "markdown",
   "id": "16298307-6e60-4c67-8b60-ecb2ae39a61a",
   "metadata": {},
   "source": [
    "* 각각 데이터가 몇개씩이나 있는지 확인"
   ]
  },
  {
   "cell_type": "code",
   "execution_count": null,
   "id": "5c997207-94be-469d-a24f-25bc13e1100e",
   "metadata": {},
   "outputs": [],
   "source": [
    "### check the number of each phase dataset\n",
    "print(public_b.shape)\n",
    "print(public_s1.shape)\n",
    "print(public_s2.shape)"
   ]
  },
  {
   "cell_type": "code",
   "execution_count": null,
   "id": "fec6d4b8-e955-4fba-b7ef-63043c617298",
   "metadata": {},
   "outputs": [],
   "source": [
    "### now select the common(repeated) variables from the domain data and save\n",
    "public = public.loc[:,['RMSSD', 'HR', 'PNN50', 'VLF', 'LF', 'HF', 'LF_HF']]\n",
    "public_b = public_b.loc[:,['RMSSD', 'HR', 'PNN50', 'VLF', 'LF', 'HF', 'LF_HF']]\n",
    "public_s1 = public_s1.loc[:,['RMSSD', 'HR', 'PNN50', 'VLF', 'LF', 'HF', 'LF_HF']]\n",
    "public_s2 = public_s2.loc[:,['RMSSD', 'HR', 'PNN50', 'VLF', 'LF', 'HF', 'LF_HF']]"
   ]
  },
  {
   "cell_type": "markdown",
   "id": "093c61b6-bf5d-493f-85c5-70d56d913621",
   "metadata": {},
   "source": [
    "* 마찬가지로 scaler 적용해서 standardization 적용"
   ]
  },
  {
   "cell_type": "code",
   "execution_count": null,
   "id": "acca644b-3242-48c1-ba3b-14e2af8f0cfb",
   "metadata": {},
   "outputs": [],
   "source": [
    "### standardization on supplemented dataset\n",
    "public_b[:] = scaler.fit_transform(public_b[:])\n",
    "public_s1[:] = scaler.fit_transform(public_s1[:])\n",
    "public_s2[:] = scaler.fit_transform(public_s2[:])"
   ]
  },
  {
   "cell_type": "code",
   "execution_count": null,
   "id": "af3b31e9-efd7-47e6-9d24-797919f50fb3",
   "metadata": {},
   "outputs": [],
   "source": [
    "### round up the variable values for fifth decimal points\n",
    "public_b = public_b.round(decimals=5)\n",
    "public_s1 = public_s1.round(decimals=5)\n",
    "public_s2 = public_s2.round(decimals=5)"
   ]
  },
  {
   "cell_type": "code",
   "execution_count": null,
   "id": "cf56f268-112a-46ea-923e-48e12a147f55",
   "metadata": {},
   "outputs": [],
   "source": []
  },
  {
   "cell_type": "code",
   "execution_count": null,
   "id": "9e63ca2d-9076-4418-908e-58c9c9c90d73",
   "metadata": {},
   "outputs": [],
   "source": []
  },
  {
   "cell_type": "markdown",
   "id": "f9998448-46dc-4b91-80f1-9c5b2073b928",
   "metadata": {},
   "source": [
    "- - -"
   ]
  },
  {
   "cell_type": "markdown",
   "id": "9b52868f-f63b-4ff8-aed0-a3269d29cc3c",
   "metadata": {},
   "source": [
    "## 03. Data Filtering (1st)"
   ]
  },
  {
   "cell_type": "markdown",
   "id": "59596e02-ecf4-4d30-b944-41ebc22232f6",
   "metadata": {},
   "source": [
    "### 3-1) Data Mergence"
   ]
  },
  {
   "cell_type": "code",
   "execution_count": null,
   "id": "c0c689c2-1134-4e77-9e4d-2dc2a87a3ba0",
   "metadata": {},
   "outputs": [],
   "source": [
    "### First select the data phase (maybe not necessary for some dataset)\n",
    "### Then, check the number of data in each domain and public dataset\n",
    "### Here we are going to use baseline phase\n",
    "\n",
    "print(\"Shape of the domain dataset for the training is\", domain_s.shape)\n",
    "print(\"Shape of the public dataset for the training is\", public_s1.shape)"
   ]
  },
  {
   "cell_type": "code",
   "execution_count": null,
   "id": "1f547dec-d05f-4ce9-a299-464df9b27473",
   "metadata": {},
   "outputs": [],
   "source": [
    "### select the proper amount of dataset for each\n",
    "domain_resized = domain_s.sample(frac=1) ##sampling 뽑을거도 없이 전체 다 쓰면 되고.\n",
    "public_resized = public_s1.sample(n=700)\n",
    "print(domain_resized.shape)\n",
    "print(public_resized.shape)"
   ]
  },
  {
   "cell_type": "code",
   "execution_count": null,
   "id": "3235d8d5-4aa6-4c02-9ec6-02508d372576",
   "metadata": {},
   "outputs": [],
   "source": [
    "# public_resized.head()"
   ]
  },
  {
   "cell_type": "code",
   "execution_count": null,
   "id": "2b379d7b-d379-4297-bce0-6a05731aea34",
   "metadata": {},
   "outputs": [],
   "source": [
    "# domain_resized.head()"
   ]
  },
  {
   "cell_type": "markdown",
   "id": "f255c0c4-b6c5-461b-8be8-7c7b6f5f0608",
   "metadata": {},
   "source": [
    "* training이라는 이름으로 두 데이터를 합치자"
   ]
  },
  {
   "cell_type": "code",
   "execution_count": null,
   "id": "d79d6b5b-9956-4139-935b-ab87e1421e0b",
   "metadata": {},
   "outputs": [],
   "source": [
    "training = pd.concat((domain_resized, public_resized))"
   ]
  },
  {
   "cell_type": "code",
   "execution_count": null,
   "id": "b25d7600-03d5-47eb-bb84-b4ac14a276f3",
   "metadata": {},
   "outputs": [],
   "source": [
    "### check the finalized first augmented dataset size/shape\n",
    "print(\"Shape of the firstly augmented dataset for the training is\", training.shape)"
   ]
  },
  {
   "cell_type": "code",
   "execution_count": null,
   "id": "89721dd0-51ac-4710-bb6d-509191e65419",
   "metadata": {},
   "outputs": [],
   "source": [
    "training.head()"
   ]
  },
  {
   "cell_type": "code",
   "execution_count": null,
   "id": "63e6638b-703b-40d7-bae8-f295e4b07d8c",
   "metadata": {},
   "outputs": [],
   "source": []
  },
  {
   "cell_type": "code",
   "execution_count": null,
   "id": "2f6f25bb-28e8-4524-8840-dc204a192b93",
   "metadata": {},
   "outputs": [],
   "source": []
  },
  {
   "cell_type": "markdown",
   "id": "1079424e-1603-4750-a0af-f5d448d95bee",
   "metadata": {},
   "source": [
    "## 04. Dimensionality Reduction"
   ]
  },
  {
   "cell_type": "markdown",
   "id": "11d17db1-9b50-408e-ba5e-3f3e60617848",
   "metadata": {},
   "source": [
    "* 현재 domain이랑 public에서 사용되는 공용 변수는 7개.\n",
    "* 군집화하기 위해서 차원축소를 해도 각 데이터의 설명력이 떨어지지 않는 지 확인해보자."
   ]
  },
  {
   "cell_type": "markdown",
   "id": "c9e3d1db-f264-4381-9e16-9f8137166e44",
   "metadata": {},
   "source": [
    "* 먼저 Domain dataset"
   ]
  },
  {
   "cell_type": "code",
   "execution_count": null,
   "id": "42933ee4-843a-449f-b0b5-6616108399cd",
   "metadata": {},
   "outputs": [],
   "source": [
    "### To put the labels on domain dataset and use them for labeling, index must be included\n",
    "### 3 component dimensionality reduction on merged dataset\n",
    "dom_pca_3 = decomposition.PCA(n_components=3)\n",
    "dom_pca_3_result = dom_pca_3.fit_transform(domain_resized)\n",
    "dom_3 = dom_pca_3.explained_variance_ratio_.sum()*100 #explained ratio\n",
    "\n",
    "### check the representativeness of the reduced dimension by PCA\n",
    "print('Explained variation per principal component: {}'.format(dom_pca_3.explained_variance_ratio_))\n",
    "print('Cumulative variance explained by 2 principal components: {:.2%}'.format(np.sum(dom_pca_3.explained_variance_ratio_)))"
   ]
  },
  {
   "cell_type": "code",
   "execution_count": null,
   "id": "7ff8a207-3203-4dbc-8bd6-f14cf94ebd6a",
   "metadata": {},
   "outputs": [],
   "source": []
  },
  {
   "cell_type": "code",
   "execution_count": null,
   "id": "af1ae719-4f9b-478b-916d-f7501061f5be",
   "metadata": {},
   "outputs": [],
   "source": [
    "dom_pca_3_result.shape ##reduced dimension"
   ]
  },
  {
   "cell_type": "code",
   "execution_count": null,
   "id": "81d4e2b9-7dec-4a55-99d9-9b5b83f1cbb5",
   "metadata": {},
   "outputs": [],
   "source": [
    "domain_resized"
   ]
  },
  {
   "cell_type": "code",
   "execution_count": null,
   "id": "58c243cf-0de2-4379-b57d-75cbb4a6d6dc",
   "metadata": {},
   "outputs": [],
   "source": [
    "RDATA_reduced = pd.DataFrame(dom_pca_3_result)"
   ]
  },
  {
   "cell_type": "code",
   "execution_count": null,
   "id": "799d2d79-6057-46a2-82f9-fa2fe88fb2d7",
   "metadata": {},
   "outputs": [],
   "source": [
    "# RDATA_reduced"
   ]
  },
  {
   "cell_type": "code",
   "execution_count": null,
   "id": "c3c17a4f-ca62-42f5-ad80-30d1c4ad842e",
   "metadata": {},
   "outputs": [],
   "source": []
  },
  {
   "cell_type": "code",
   "execution_count": null,
   "id": "3de269f6-e507-4cd2-aea6-822fa002ffd6",
   "metadata": {},
   "outputs": [],
   "source": []
  },
  {
   "cell_type": "markdown",
   "id": "ad722d0e-731f-4e69-888c-4607b923e15a",
   "metadata": {},
   "source": [
    "* 그림으로 그려서 확인"
   ]
  },
  {
   "cell_type": "code",
   "execution_count": null,
   "id": "1814071b-cbcf-475b-9174-f4050e58fc9c",
   "metadata": {},
   "outputs": [],
   "source": [
    "# dom_result3 = pd.DataFrame(dom_pca_3.transform(domain_resized), columns = ['PCA%i' % i for i in range(3)], index = domain_resized.index)"
   ]
  },
  {
   "cell_type": "code",
   "execution_count": null,
   "id": "0eab84fc-de64-4621-a9e0-c75ab56f9d97",
   "metadata": {},
   "outputs": [],
   "source": [
    "# # Plot initialisation\n",
    "# fig = plt.figure(figsize=(8,5))\n",
    "# ax = fig.add_subplot(111, projection='3d')\n",
    "# plt.title('PCA 3 result from Domain Dataset', fontsize=11, fontweight='bold')\n",
    "# ax.scatter(dom_result3['PCA0'], dom_result3['PCA1'], dom_result3['PCA2'], s=60)\n",
    "# # plt.savefig('pca_result.png')"
   ]
  },
  {
   "cell_type": "markdown",
   "id": "c0ecccba-287d-4bc9-9ad3-2ceb6c3ebb91",
   "metadata": {},
   "source": [
    "* Silhouette score를 이용한 분석으로 몇개의 cluster로 나누는 것이 합리적인지 보자"
   ]
  },
  {
   "cell_type": "code",
   "execution_count": null,
   "id": "bcd1f87a-0210-4dc8-b60e-0ddd7ccfd1d6",
   "metadata": {},
   "outputs": [],
   "source": [
    "# candidate values for our number of cluster\n",
    "parameters = [2, 3, 4, 5, 6]\n",
    "\n",
    "# instantiating ParameterGrid, pass number of clusters as input\n",
    "parameter_grid = ParameterGrid({'n_clusters': parameters})\n",
    "best_score = -1\n",
    "kmeans_model = KMeans()     # instantiating KMeans model\n",
    "silhouette_scores = []\n",
    "\n",
    "# evaluation based on silhouette_score\n",
    "for p in parameter_grid:\n",
    "    kmeans_model.set_params(**p)  # set current hyper parameter\n",
    "    kmeans_model.fit(domain_resized)     # fit model on dataset, this will find clusters based on parameter p\n",
    "    ss = metrics.silhouette_score(domain_resized, kmeans_model.labels_)   # calculate silhouette_score\n",
    "    silhouette_scores += [ss]       # store all the scores\n",
    "    print('Parameter:', p, 'Score', ss)\n",
    "    # check p which has the best score\n",
    "    if ss > best_score:\n",
    "        best_score = ss\n",
    "        best_grid = p\n",
    "        \n",
    "# plotting silhouette score\n",
    "plt.bar(range(len(silhouette_scores)), list(silhouette_scores), align='center', color='#849ef7', width=0.5)\n",
    "plt.xticks(range(len(silhouette_scores)), list(parameters))\n",
    "plt.title('Domain Dataset silhouette score')\n",
    "plt.xlabel('Number of Clusters')\n",
    "plt.show()"
   ]
  },
  {
   "cell_type": "code",
   "execution_count": null,
   "id": "84b1e41a-85ae-4faf-b019-795424f27ace",
   "metadata": {},
   "outputs": [],
   "source": []
  },
  {
   "cell_type": "code",
   "execution_count": null,
   "id": "b31f8f4b-0778-426a-a41a-571c36fe859c",
   "metadata": {},
   "outputs": [],
   "source": []
  },
  {
   "cell_type": "markdown",
   "id": "ea5bf71b-6f5a-41cd-be5c-afd13de59cf0",
   "metadata": {},
   "source": [
    "* 다음으로 Public dataset"
   ]
  },
  {
   "cell_type": "code",
   "execution_count": null,
   "id": "7d06dda1-5746-4a35-87aa-b0c28b417ecf",
   "metadata": {},
   "outputs": [],
   "source": [
    "### 3 component dimensionality reduction on merged dataset\n",
    "pub_pca_3 = decomposition.PCA(n_components=3)\n",
    "pub_pca_3_result = pub_pca_3.fit_transform(public_resized)\n",
    "pub_3 = pub_pca_3.explained_variance_ratio_.sum()*100\n",
    "\n",
    "### check the representativeness of the reduced dimension by PCA\n",
    "print('Explained variation per principal component: {}'.format(pub_pca_3.explained_variance_ratio_))\n",
    "print('Cumulative variance explained by 2 principal components: {:.2%}'.format(np.sum(pub_pca_3.explained_variance_ratio_)))"
   ]
  },
  {
   "cell_type": "markdown",
   "id": "89782e9e-48d3-411b-8ee0-7b20320d478c",
   "metadata": {},
   "source": [
    "* 마찬가지로 그림으로 그려서 확인"
   ]
  },
  {
   "cell_type": "code",
   "execution_count": null,
   "id": "52ffe69f-99c3-47ea-b8a2-ddffe74c1783",
   "metadata": {},
   "outputs": [],
   "source": [
    "# pub_result3 = pd.DataFrame(pub_pca_3.transform(public_resized), columns = ['PCA%i' % i for i in range(3)], index = public_resized.index)"
   ]
  },
  {
   "cell_type": "code",
   "execution_count": null,
   "id": "2326b640-359f-455e-bdcc-eb72acc8d45c",
   "metadata": {},
   "outputs": [],
   "source": [
    "# # Plot initialisation\n",
    "# fig = plt.figure(figsize=(8,5))\n",
    "# ax = fig.add_subplot(111, projection='3d')\n",
    "# plt.title('PCA 3 result from Public Dataset', fontsize=11, fontweight='bold')\n",
    "# ax.scatter(pub_result3['PCA0'], pub_result3['PCA1'], pub_result3['PCA2'], s=60)\n",
    "# # plt.savefig('pca_result.png')"
   ]
  },
  {
   "cell_type": "code",
   "execution_count": null,
   "id": "9443be35-521b-4f24-b354-dca858d9f0f1",
   "metadata": {},
   "outputs": [],
   "source": [
    "# candidate values for our number of cluster\n",
    "parameters = [2, 3, 4, 5, 6]\n",
    "\n",
    "# instantiating ParameterGrid, pass number of clusters as input\n",
    "parameter_grid = ParameterGrid({'n_clusters': parameters})\n",
    "best_score = -1\n",
    "kmeans_model = KMeans()     # instantiating KMeans model\n",
    "silhouette_scores = []\n",
    "\n",
    "# evaluation based on silhouette_score\n",
    "for p in parameter_grid:\n",
    "    kmeans_model.set_params(**p)  # set current hyper parameter\n",
    "    kmeans_model.fit(public_resized)     # fit model on dataset, this will find clusters based on parameter p\n",
    "    ss = metrics.silhouette_score(public_resized, kmeans_model.labels_)   # calculate silhouette_score\n",
    "    silhouette_scores += [ss]       # store all the scores\n",
    "    print('Parameter:', p, 'Score', ss)\n",
    "    # check p which has the best score\n",
    "    if ss > best_score:\n",
    "        best_score = ss\n",
    "        best_grid = p\n",
    "        \n",
    "# plotting silhouette score\n",
    "plt.bar(range(len(silhouette_scores)), list(silhouette_scores), align='center', color='#849ef7', width=0.5)\n",
    "plt.xticks(range(len(silhouette_scores)), list(parameters))\n",
    "plt.title('Public Dataset silhouette score')\n",
    "plt.xlabel('Number of Clusters')\n",
    "plt.show()"
   ]
  },
  {
   "cell_type": "code",
   "execution_count": null,
   "id": "b5d45e7c-dead-4018-8d3d-8cef9e9c99b8",
   "metadata": {},
   "outputs": [],
   "source": []
  },
  {
   "cell_type": "code",
   "execution_count": null,
   "id": "c47c56cb-51fd-4df5-a424-c3c6d693fe00",
   "metadata": {},
   "outputs": [],
   "source": []
  },
  {
   "cell_type": "code",
   "execution_count": null,
   "id": "d627fc38-9f6f-4d0c-9a93-548a89e6043a",
   "metadata": {},
   "outputs": [],
   "source": []
  },
  {
   "cell_type": "markdown",
   "id": "e9a46d5a-3621-4b0c-b6cf-d0b9fcb29f60",
   "metadata": {},
   "source": [
    "## 05. Data Clustering (SSL based)"
   ]
  },
  {
   "cell_type": "code",
   "execution_count": null,
   "id": "2bbc89da-fb0c-450a-8f90-ae0d573087e2",
   "metadata": {},
   "outputs": [],
   "source": []
  },
  {
   "cell_type": "code",
   "execution_count": null,
   "id": "1804656c-c8c8-499f-a7e1-192f9cc9bb39",
   "metadata": {},
   "outputs": [],
   "source": []
  },
  {
   "cell_type": "code",
   "execution_count": null,
   "id": "598f5452-9d79-4c4d-bcd9-0327357c0398",
   "metadata": {},
   "outputs": [],
   "source": []
  },
  {
   "cell_type": "markdown",
   "id": "18804fe6-b033-4230-b17f-54c4f1d4243d",
   "metadata": {},
   "source": [
    "## 06. Unlabeled data labeling"
   ]
  },
  {
   "cell_type": "markdown",
   "id": "4f4f244c-f1cf-49d6-befa-c9007b431328",
   "metadata": {},
   "source": [
    "* 여기서 RDATA는 Real dataset이고 PDATA는 augmentation을 위한 public dataset"
   ]
  },
  {
   "cell_type": "code",
   "execution_count": null,
   "id": "1de72f66-6d64-4ebf-bb4c-eebd3a45adbe",
   "metadata": {},
   "outputs": [],
   "source": [
    "RDATA = domain_s\n",
    "PDATA = public_s1.sample(n=700)\n",
    "label = domain_y"
   ]
  },
  {
   "cell_type": "markdown",
   "id": "4d79be33-ec06-40f6-b715-e326ae7c0c1a",
   "metadata": {},
   "source": [
    "* 일단 PDATA는 unlabeled data 상태이기에 -1로 라벨값 만들어주고."
   ]
  },
  {
   "cell_type": "code",
   "execution_count": null,
   "id": "9b3eaff1-8a12-48d8-ac8c-06367f715c98",
   "metadata": {},
   "outputs": [],
   "source": [
    "PDATA['y'] = -1"
   ]
  },
  {
   "cell_type": "code",
   "execution_count": null,
   "id": "bdc2e255-e940-452c-b5e2-09efebe29e2b",
   "metadata": {},
   "outputs": [],
   "source": [
    "PDATA.info()"
   ]
  },
  {
   "cell_type": "markdown",
   "id": "690b65b0-dfb7-4c90-a854-12d5fab6fa40",
   "metadata": {},
   "source": [
    "* Regression 돌리기 위해서 test, train 나눠보자"
   ]
  },
  {
   "cell_type": "code",
   "execution_count": null,
   "id": "6841aeec-93b8-4fb1-9194-3a0578807ade",
   "metadata": {},
   "outputs": [],
   "source": [
    "# Labeled datapoints and following labels.\n",
    "train_x, test_x, train_y, test_y = train_test_split(RDATA, label, test_size = 0.2, random_state = 710674)"
   ]
  },
  {
   "cell_type": "code",
   "execution_count": null,
   "id": "73ad33b5-4f3f-4782-8177-a2a1621600f5",
   "metadata": {},
   "outputs": [],
   "source": [
    "print(\"The shape of training dataset x is:\", train_x.shape)\n",
    "print(\"The shape of test dataset x is:\", test_x.shape)"
   ]
  },
  {
   "cell_type": "code",
   "execution_count": null,
   "id": "1b66f49b-c293-4aad-abf3-0710a972787a",
   "metadata": {},
   "outputs": [],
   "source": [
    "# Unlabeled datapoints and following labels.\n",
    "train_x2 = PDATA.loc[:,['RMSSD', 'HR', 'PNN50', 'VLF', 'LF', 'HF', 'LF_HF']]\n",
    "train_y2 = PDATA['y']"
   ]
  },
  {
   "cell_type": "code",
   "execution_count": null,
   "id": "d4be4dfc-b793-4425-8321-d662737b530c",
   "metadata": {},
   "outputs": [],
   "source": [
    "print(\"The shape of public training dataset x is:\", train_x2.shape)\n",
    "print(\"The shape of public test dataset x is:\", train_y2.shape)"
   ]
  },
  {
   "cell_type": "code",
   "execution_count": null,
   "id": "f82af41f-1e1c-4dda-9f61-a18becda4944",
   "metadata": {},
   "outputs": [],
   "source": [
    "# Concatenate\n",
    "x = np.concatenate((train_x, train_x2))\n",
    "y = np.concatenate((train_y, train_y2))"
   ]
  },
  {
   "cell_type": "code",
   "execution_count": null,
   "id": "48334505-6a8d-4f58-abd0-6603dcacfa00",
   "metadata": {},
   "outputs": [],
   "source": [
    "print(\"The shape of Total training dataset x is:\", x.shape)\n",
    "print(\"The shape of Total test dataset x is:\", y.shape)"
   ]
  },
  {
   "cell_type": "code",
   "execution_count": null,
   "id": "a4a13630-bbb8-465a-bc53-4f02abc1245f",
   "metadata": {},
   "outputs": [],
   "source": []
  },
  {
   "cell_type": "markdown",
   "id": "6be5ec5d-efbc-496d-a9dc-ba2073f2d642",
   "metadata": {},
   "source": [
    "* Logistic regression 돌려서 변수간 연관성 및 함수를 확인한다"
   ]
  },
  {
   "cell_type": "code",
   "execution_count": null,
   "id": "70ad0284-f0af-4265-8bfa-1ee548da56d5",
   "metadata": {},
   "outputs": [],
   "source": [
    "index = ['Analysis Method', 'ROC AUC']\n",
    "results = pd.DataFrame(columns = index) ## result 라고 데이터프레임 하나 만들어놓고."
   ]
  },
  {
   "cell_type": "code",
   "execution_count": null,
   "id": "3235b217-b696-43fa-936a-0a2104d867f7",
   "metadata": {},
   "outputs": [],
   "source": [
    "logreg = LogisticRegression(random_state = 710674, C = 0.00001, max_iter = 20000)\n",
    "logreg.fit(train_x, train_y)\n",
    "results = results.append(\n",
    "    pd.Series(['Logistic Regression', roc_auc_score(test_y, logreg.predict_proba(test_x), multi_class='ovr')],\n",
    "              index=index), ignore_index=True)\n",
    "\n",
    "results"
   ]
  },
  {
   "cell_type": "code",
   "execution_count": null,
   "id": "ae1b5348-d464-4de1-acee-3e851ae2623a",
   "metadata": {},
   "outputs": [],
   "source": [
    "# logreg.predict_proba(test_x)"
   ]
  },
  {
   "cell_type": "code",
   "execution_count": null,
   "id": "12e621b9-8619-470f-a991-db469861eb47",
   "metadata": {},
   "outputs": [],
   "source": [
    "y_pred = logreg.predict(test_x)\n",
    "acc_score = accuracy_score(test_y, y_pred)"
   ]
  },
  {
   "cell_type": "code",
   "execution_count": null,
   "id": "ef44c673-b31a-4b63-8527-7c646e3c6ec6",
   "metadata": {},
   "outputs": [],
   "source": [
    "acc_score"
   ]
  },
  {
   "cell_type": "markdown",
   "id": "18d10889-90aa-410b-9eeb-17ad74ab1a80",
   "metadata": {},
   "source": [
    "* 각 라벨별 변수에 대한 계수(coefficient)를 확인"
   ]
  },
  {
   "cell_type": "code",
   "execution_count": null,
   "id": "a383728f-31c6-4bbc-a29d-fbbbb2d451bc",
   "metadata": {},
   "outputs": [],
   "source": [
    "logreg.coef_"
   ]
  },
  {
   "cell_type": "code",
   "execution_count": null,
   "id": "a33cbd5f-5c4f-42e1-ab9c-080253bc8c19",
   "metadata": {},
   "outputs": [],
   "source": []
  },
  {
   "cell_type": "code",
   "execution_count": null,
   "id": "275cdd3c-acc1-4027-8189-e68ec518da8a",
   "metadata": {},
   "outputs": [],
   "source": []
  },
  {
   "cell_type": "code",
   "execution_count": null,
   "id": "b05de05c-3c8d-4ab1-a8da-324b07a1a3d6",
   "metadata": {},
   "outputs": [],
   "source": []
  },
  {
   "cell_type": "code",
   "execution_count": null,
   "id": "c92f9324-ee52-481f-9172-a6ae5fd28c4c",
   "metadata": {},
   "outputs": [],
   "source": []
  },
  {
   "cell_type": "markdown",
   "id": "5f7a9c9f-7748-4186-a53b-2d05de98dc44",
   "metadata": {},
   "source": [
    "* Label propagation (generating probablistic transition matrix for unlabeled datapoints)"
   ]
  },
  {
   "cell_type": "code",
   "execution_count": null,
   "id": "e19fcb40-8b58-493c-b5c4-b36cc362b239",
   "metadata": {},
   "outputs": [],
   "source": [
    "def label_prop_test(kernel, params_list,x_train, x_test, y_train, y_test):\n",
    "    plt.figure(figsize=(20,10))\n",
    "    n, g = 0, 0\n",
    "    roc_scores = []\n",
    "    \n",
    "    if kernel == 'rbf':\n",
    "        for g in params_list:\n",
    "            lp = LabelPropagation(kernel=kernel, n_neighbors=n, gamma=g, max_iter=10000, tol=0.001)\n",
    "            lp.fit(x_train, y_train)\n",
    "            roc_scores.append(roc_auc_score(y_test, lp.predict_proba(x_test), multi_class='ovr'))\n",
    "    \n",
    "    if kernel == 'knn':\n",
    "        for n in params_list:\n",
    "            lp = LabelPropagation(kernel=kernel, n_neighbors=n, gamma=g, max_iter=10000, tol=0.001)\n",
    "            lp.fit(x_train, y_train)\n",
    "            roc_scores.append(roc_auc_score(y_test, lp.predict_proba(x_test), multi_class='ovr'))\n",
    "    \n",
    "    plt.figure(figsize=(16,8));\n",
    "    plt.plot(params_list, roc_scores)\n",
    "    plt.title('Label Propagation ROC AUC with ' + kernel + ' kernel')\n",
    "    plt.show()\n",
    "    \n",
    "    print('Best metrics value is at {}'.format(params_list[np.argmax(roc_scores)]))"
   ]
  },
  {
   "cell_type": "code",
   "execution_count": null,
   "id": "200bbafb-cc41-4f3c-a9cf-bb66e00f62c0",
   "metadata": {},
   "outputs": [],
   "source": []
  },
  {
   "cell_type": "code",
   "execution_count": null,
   "id": "c1831ed1-57da-4fe7-9e56-ff91cc17a8ff",
   "metadata": {},
   "outputs": [],
   "source": []
  },
  {
   "cell_type": "code",
   "execution_count": null,
   "id": "e0eee636-f5bb-4abf-8549-d1d9c7a14661",
   "metadata": {},
   "outputs": [],
   "source": []
  },
  {
   "cell_type": "code",
   "execution_count": null,
   "id": "247e6022-5db7-4913-8836-917ad9633cb5",
   "metadata": {},
   "outputs": [],
   "source": []
  },
  {
   "cell_type": "code",
   "execution_count": null,
   "id": "d8e4063a-9cae-415e-ab64-9628a2768356",
   "metadata": {},
   "outputs": [],
   "source": []
  },
  {
   "cell_type": "code",
   "execution_count": null,
   "id": "11d71834-8c41-4cfb-99e8-587ec6e2b66c",
   "metadata": {},
   "outputs": [],
   "source": []
  },
  {
   "cell_type": "code",
   "execution_count": null,
   "id": "87f8a019-b743-494b-b7b4-d6667520c888",
   "metadata": {},
   "outputs": [],
   "source": []
  },
  {
   "cell_type": "code",
   "execution_count": null,
   "id": "4f3af009-404d-42c1-bda2-978d382b1923",
   "metadata": {},
   "outputs": [],
   "source": []
  }
 ],
 "metadata": {
  "kernelspec": {
   "display_name": "Python 3 (ipykernel)",
   "language": "python",
   "name": "python3"
  },
  "language_info": {
   "codemirror_mode": {
    "name": "ipython",
    "version": 3
   },
   "file_extension": ".py",
   "mimetype": "text/x-python",
   "name": "python",
   "nbconvert_exporter": "python",
   "pygments_lexer": "ipython3",
   "version": "3.9.17"
  }
 },
 "nbformat": 4,
 "nbformat_minor": 5
}
