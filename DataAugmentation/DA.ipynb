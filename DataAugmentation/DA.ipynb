{
 "cells": [
  {
   "cell_type": "markdown",
   "id": "938fcb43-4b9e-4aeb-90f3-bb862f8e72ca",
   "metadata": {},
   "source": [
    "# Data Augmentation Box"
   ]
  },
  {
   "cell_type": "markdown",
   "id": "6c7f1b6c-da66-488a-a24a-1272eb35e18f",
   "metadata": {},
   "source": [
    "Project for Data Augmentation System"
   ]
  },
  {
   "cell_type": "markdown",
   "id": "bc0f750e-a3bd-495f-bbca-b2e65c492c87",
   "metadata": {},
   "source": [
    "## Data Augmentation Order\n",
    "\n",
    "STEP 1 - Domain Data Preparation\n",
    "1. Domain data labeling check\n",
    "2. Dimensionality Reduction\n",
    "3. Regression analysis\n",
    "\n",
    "\n",
    "STEP 2 - Data Augmentation\n",
    "1. Domain data check\n",
    "02. Crawling\n",
    "03. Data filtering (1st)\n",
    "04. Dimensionality Reduction\n",
    "05. Label Spreading (semi-supervised learning based)\n",
    "06. Data Filtering (2nd)\n",
    "07. Regression analytsis\n",
    "08. Data Filtering (3rd)\n",
    "09. Data Augmentation\n",
    "10. Model Generation"
   ]
  },
  {
   "cell_type": "markdown",
   "id": "e0274c5b-defe-43a0-8d24-a70b30719312",
   "metadata": {},
   "source": [
    "- - -"
   ]
  },
  {
   "cell_type": "code",
   "execution_count": null,
   "id": "71258b72-4f59-4703-a68d-8fcef68e61d5",
   "metadata": {},
   "outputs": [],
   "source": []
  },
  {
   "cell_type": "code",
   "execution_count": null,
   "id": "965875d6-0f07-499f-b2aa-8661abe35981",
   "metadata": {},
   "outputs": [],
   "source": [
    "import os\n",
    "import numpy as np\n",
    "import pandas as pd\n",
    "import seaborn as sns\n",
    "import matplotlib.pyplot as plt"
   ]
  },
  {
   "cell_type": "markdown",
   "id": "884086bf-c312-4af8-bec9-6c903212ae3f",
   "metadata": {},
   "source": [
    "## 1. Domain Data Check"
   ]
  },
  {
   "cell_type": "markdown",
   "id": "ca0634bb-3549-4206-864e-018f4813f5ce",
   "metadata": {},
   "source": [
    "we have to check the domain data "
   ]
  },
  {
   "cell_type": "markdown",
   "id": "164251fd-e819-4eb0-aded-5d435b2d03f0",
   "metadata": {},
   "source": [
    "### 1-1) image dataset"
   ]
  },
  {
   "cell_type": "code",
   "execution_count": null,
   "id": "bd7fa118-272b-43cd-8ede-d544f63e8688",
   "metadata": {},
   "outputs": [],
   "source": [
    "domain ="
   ]
  },
  {
   "cell_type": "code",
   "execution_count": null,
   "id": "2f46006c-87a0-4d89-9d7d-fd78dec740c7",
   "metadata": {},
   "outputs": [],
   "source": []
  },
  {
   "cell_type": "code",
   "execution_count": null,
   "id": "80d25f3e-0e43-4900-9934-2e97529592ec",
   "metadata": {},
   "outputs": [],
   "source": []
  },
  {
   "cell_type": "markdown",
   "id": "d19bf23a-4667-4b76-a85c-d0d3d4956a30",
   "metadata": {},
   "source": [
    "### 1-2) numerical dataset"
   ]
  },
  {
   "cell_type": "code",
   "execution_count": null,
   "id": "e68af2e8-cfe5-4b72-82b4-e5289a652d6b",
   "metadata": {},
   "outputs": [],
   "source": [
    "### HRV numerical dataset\n",
    "domain = pd.read_csv('E:/RESEARCH/Datasets/HRV/HRV_REV_all.csv', sep=',')"
   ]
  },
  {
   "cell_type": "code",
   "execution_count": null,
   "id": "fadb654f-8f3d-4d7d-9c8e-5a044e4523c3",
   "metadata": {},
   "outputs": [],
   "source": [
    "### data shape check\n",
    "domain.shape"
   ]
  },
  {
   "cell_type": "code",
   "execution_count": null,
   "id": "207c8f3c-9ab6-4c10-a25b-3333f60bc7a4",
   "metadata": {},
   "outputs": [],
   "source": [
    "### data variable columns check\n",
    "print(domain.columns)\n",
    "domain.head()"
   ]
  },
  {
   "cell_type": "code",
   "execution_count": null,
   "id": "94d28c96-1a8a-478b-8fab-9cfbf47d738b",
   "metadata": {},
   "outputs": [],
   "source": [
    "### checking lables for the data\n",
    "domain.loc[domain['HAMD']<=7, 'IndexH'] =0\n",
    "domain.loc[(domain['HAMD']>7) & (domain['HAMD']<=16), 'IndexH'] = 1\n",
    "domain.loc[domain['HAMD']>16, 'IndexH'] = 2\n",
    "domain_y = domain.loc[:,'IndexH']\n",
    "# domain_y = domain.loc[:,'disorder']"
   ]
  },
  {
   "cell_type": "code",
   "execution_count": null,
   "id": "4f061d7c-b18c-4d8a-abfe-a28f0dfb2657",
   "metadata": {},
   "outputs": [],
   "source": [
    "### deleting unnecessary data columns\n",
    "domain = domain.drop(['sub','age','gender','VISIT','disorder','HAMD', 'HAMA','PDSS','ASI','APPQ','PSWQ','SPI','PSS','BIS','SSI','IndexH'], axis=1)"
   ]
  },
  {
   "cell_type": "code",
   "execution_count": null,
   "id": "2ac908b3-ef7f-4fd8-a5bf-133cff76cef7",
   "metadata": {},
   "outputs": [],
   "source": [
    "### check the domain data columns again\n",
    "print(domain.columns)\n",
    "print(domain.shape)"
   ]
  },
  {
   "cell_type": "code",
   "execution_count": null,
   "id": "f4eb2a97-4144-4464-9128-de68912c32f4",
   "metadata": {},
   "outputs": [],
   "source": []
  },
  {
   "cell_type": "code",
   "execution_count": null,
   "id": "cf072951-f7bc-4eac-ad99-fa78e732c136",
   "metadata": {},
   "outputs": [],
   "source": []
  },
  {
   "cell_type": "markdown",
   "id": "af84f59f-4447-43ad-bb06-e00c57a0ce29",
   "metadata": {},
   "source": [
    "## Python data crawling"
   ]
  },
  {
   "cell_type": "markdown",
   "id": "4ae38185-405e-4b24-a36f-306f0c0ad8e5",
   "metadata": {},
   "source": [
    "we proceed data crawling to support insufficient data environment"
   ]
  },
  {
   "cell_type": "code",
   "execution_count": 1,
   "id": "e7e1f564-4079-4bf8-b89d-24e3974eca94",
   "metadata": {},
   "outputs": [
    {
     "ename": "ModuleNotFoundError",
     "evalue": "No module named 'icrawler'",
     "output_type": "error",
     "traceback": [
      "\u001b[1;31m---------------------------------------------------------------------------\u001b[0m",
      "\u001b[1;31mModuleNotFoundError\u001b[0m                       Traceback (most recent call last)",
      "\u001b[1;32m<ipython-input-1-ca211e3ac068>\u001b[0m in \u001b[0;36m<module>\u001b[1;34m\u001b[0m\n\u001b[0;32m      2\u001b[0m \u001b[1;32mfrom\u001b[0m \u001b[0mbs4\u001b[0m \u001b[1;32mimport\u001b[0m \u001b[0mBeautifulSoup\u001b[0m\u001b[1;33m\u001b[0m\u001b[1;33m\u001b[0m\u001b[0m\n\u001b[0;32m      3\u001b[0m \u001b[1;32mfrom\u001b[0m \u001b[0mselenium\u001b[0m \u001b[1;32mimport\u001b[0m \u001b[0mwebdriver\u001b[0m\u001b[1;33m\u001b[0m\u001b[1;33m\u001b[0m\u001b[0m\n\u001b[1;32m----> 4\u001b[1;33m \u001b[1;32mfrom\u001b[0m \u001b[0micrawler\u001b[0m\u001b[1;33m.\u001b[0m\u001b[0mbuiltin\u001b[0m \u001b[1;32mimport\u001b[0m \u001b[0mGoogleImageCrawler\u001b[0m\u001b[1;33m\u001b[0m\u001b[1;33m\u001b[0m\u001b[0m\n\u001b[0m",
      "\u001b[1;31mModuleNotFoundError\u001b[0m: No module named 'icrawler'"
     ]
    }
   ],
   "source": [
    "from urllib.parse import quote_plus\n",
    "from bs4 import BeautifulSoup\n",
    "from selenium import webdriver\n",
    "from icrawler.builtin import GoogleImageCrawler"
   ]
  },
  {
   "cell_type": "code",
   "execution_count": null,
   "id": "3ae47c3f-f034-47ca-bb61-d39ee9d60caf",
   "metadata": {},
   "outputs": [],
   "source": [
    "google_crawler = GoogleImageCrawler(parser_threads=2, downloader_threads=4,\n",
    "                                    storage={'root_dir': '../data'})\n",
    "\n",
    "google_crawler.crawl(keyword='car crash', max_num=500,\n",
    "                     date_min=None, date_max=None,\n",
    "                     min_size=(200,200), max_size=None)"
   ]
  },
  {
   "cell_type": "code",
   "execution_count": null,
   "id": "769f61b4-e502-488c-be57-82e37dd41d19",
   "metadata": {},
   "outputs": [],
   "source": []
  },
  {
   "cell_type": "code",
   "execution_count": null,
   "id": "148f0245-bbe3-41fb-a957-4d6392a65eda",
   "metadata": {},
   "outputs": [],
   "source": []
  },
  {
   "cell_type": "code",
   "execution_count": null,
   "id": "5f9c6221-0bc2-4ccd-a1b7-6e0326cc45e7",
   "metadata": {},
   "outputs": [],
   "source": []
  },
  {
   "cell_type": "code",
   "execution_count": null,
   "id": "367f0166-9a42-4a00-86e7-8271ca7d71b9",
   "metadata": {},
   "outputs": [],
   "source": []
  },
  {
   "cell_type": "code",
   "execution_count": null,
   "id": "0442771a-ff68-4ebe-b255-845dea0c4d6f",
   "metadata": {},
   "outputs": [],
   "source": []
  },
  {
   "cell_type": "code",
   "execution_count": null,
   "id": "9edb08d1-af74-493b-a328-e17c24562485",
   "metadata": {},
   "outputs": [],
   "source": []
  },
  {
   "cell_type": "code",
   "execution_count": null,
   "id": "b3d12fb9-714d-4891-832d-c8a63b7b4c4b",
   "metadata": {},
   "outputs": [],
   "source": []
  },
  {
   "cell_type": "code",
   "execution_count": null,
   "id": "d627fc38-9f6f-4d0c-9a93-548a89e6043a",
   "metadata": {},
   "outputs": [],
   "source": []
  },
  {
   "cell_type": "code",
   "execution_count": null,
   "id": "c6715670-5e64-4ec5-813c-c22e2f4ec2af",
   "metadata": {},
   "outputs": [],
   "source": []
  },
  {
   "cell_type": "code",
   "execution_count": null,
   "id": "2bbc89da-fb0c-450a-8f90-ae0d573087e2",
   "metadata": {},
   "outputs": [],
   "source": []
  },
  {
   "cell_type": "code",
   "execution_count": null,
   "id": "1804656c-c8c8-499f-a7e1-192f9cc9bb39",
   "metadata": {},
   "outputs": [],
   "source": []
  },
  {
   "cell_type": "code",
   "execution_count": null,
   "id": "aca0588d-e2f1-44fa-ada4-0252b497e9f5",
   "metadata": {},
   "outputs": [],
   "source": []
  },
  {
   "cell_type": "code",
   "execution_count": null,
   "id": "1de72f66-6d64-4ebf-bb4c-eebd3a45adbe",
   "metadata": {},
   "outputs": [],
   "source": []
  },
  {
   "cell_type": "code",
   "execution_count": null,
   "id": "7f11a1d2-97b8-450a-a91b-b2b73772916d",
   "metadata": {},
   "outputs": [],
   "source": []
  },
  {
   "cell_type": "code",
   "execution_count": null,
   "id": "88f94443-58e0-434e-afae-6b935a5bed90",
   "metadata": {},
   "outputs": [],
   "source": []
  },
  {
   "cell_type": "code",
   "execution_count": null,
   "id": "4f3af009-404d-42c1-bda2-978d382b1923",
   "metadata": {},
   "outputs": [],
   "source": []
  }
 ],
 "metadata": {
  "kernelspec": {
   "display_name": "Python 3",
   "language": "python",
   "name": "python3"
  },
  "language_info": {
   "codemirror_mode": {
    "name": "ipython",
    "version": 3
   },
   "file_extension": ".py",
   "mimetype": "text/x-python",
   "name": "python",
   "nbconvert_exporter": "python",
   "pygments_lexer": "ipython3",
   "version": "3.8.10"
  }
 },
 "nbformat": 4,
 "nbformat_minor": 5
}
