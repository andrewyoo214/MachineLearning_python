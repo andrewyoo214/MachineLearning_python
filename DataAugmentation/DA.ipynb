{
 "cells": [
  {
   "cell_type": "markdown",
   "id": "938fcb43-4b9e-4aeb-90f3-bb862f8e72ca",
   "metadata": {},
   "source": [
    "# Data Augmentation Box"
   ]
  },
  {
   "cell_type": "markdown",
   "id": "6c7f1b6c-da66-488a-a24a-1272eb35e18f",
   "metadata": {},
   "source": [
    "Project for Data Augmentation System"
   ]
  },
  {
   "cell_type": "markdown",
   "id": "bc0f750e-a3bd-495f-bbca-b2e65c492c87",
   "metadata": {},
   "source": [
    "## Data Augmentation Order\n",
    "\n",
    "STEP 1 - Domain Data Preparation\n",
    "1. Domain data labeling check\n",
    "2. Dimensionality Reduction\n",
    "3. Regression analysis\n",
    "\n",
    "\n",
    "STEP 2 - Data Augmentation\n",
    "1. Domain data check\n",
    "02. Public Data Supplement\n",
    "03. Data filtering (1st)\n",
    "04. Dimensionality Reduction\n",
    "05. Label Spreading (semi-supervised learning based)\n",
    "06. Data Filtering (2nd)\n",
    "07. Regression analytsis\n",
    "08. Data Filtering (3rd)\n",
    "09. Data Augmentation\n",
    "10. Model Generation"
   ]
  },
  {
   "cell_type": "markdown",
   "id": "e0274c5b-defe-43a0-8d24-a70b30719312",
   "metadata": {},
   "source": [
    "- - -"
   ]
  },
  {
   "cell_type": "code",
   "execution_count": null,
   "id": "4497d4fd-c9e6-4e5e-bf71-131c7297d426",
   "metadata": {},
   "outputs": [],
   "source": []
  },
  {
   "cell_type": "code",
   "execution_count": null,
   "id": "965875d6-0f07-499f-b2aa-8661abe35981",
   "metadata": {},
   "outputs": [],
   "source": [
    "import os\n",
    "import time\n",
    "import numpy as np\n",
    "import pandas as pd\n",
    "import seaborn as sns\n",
    "import matplotlib.pyplot as plt"
   ]
  },
  {
   "cell_type": "code",
   "execution_count": null,
   "id": "2b695956-4d10-46fb-9ec3-7b62968fb9cf",
   "metadata": {},
   "outputs": [],
   "source": [
    "from sklearn.model_selection import train_test_split\n",
    "from sklearn.preprocessing import MinMaxScaler\n",
    "from sklearn import decomposition\n",
    "from sklearn.manifold import TSNE\n",
    "from sklearn.cluster import KMeans\n",
    "scaler = MinMaxScaler() #set the scaler"
   ]
  },
  {
   "cell_type": "markdown",
   "id": "884086bf-c312-4af8-bec9-6c903212ae3f",
   "metadata": {},
   "source": [
    "## 01. Domain Data Check"
   ]
  },
  {
   "cell_type": "markdown",
   "id": "ca0634bb-3549-4206-864e-018f4813f5ce",
   "metadata": {},
   "source": [
    "we have to check the domain data "
   ]
  },
  {
   "cell_type": "markdown",
   "id": "164251fd-e819-4eb0-aded-5d435b2d03f0",
   "metadata": {
    "tags": []
   },
   "source": [
    "### 1-1) image dataset"
   ]
  },
  {
   "cell_type": "markdown",
   "id": "ad3cf131-0888-48b3-9394-e4cf9fb91ef0",
   "metadata": {},
   "source": [
    "Here, we will use CIFAR-10 dataset for experiments"
   ]
  },
  {
   "cell_type": "code",
   "execution_count": null,
   "id": "bd7fa118-272b-43cd-8ede-d544f63e8688",
   "metadata": {},
   "outputs": [],
   "source": [
    "domain ="
   ]
  },
  {
   "cell_type": "code",
   "execution_count": null,
   "id": "2f46006c-87a0-4d89-9d7d-fd78dec740c7",
   "metadata": {},
   "outputs": [],
   "source": []
  },
  {
   "cell_type": "code",
   "execution_count": null,
   "id": "80d25f3e-0e43-4900-9934-2e97529592ec",
   "metadata": {},
   "outputs": [],
   "source": []
  },
  {
   "cell_type": "markdown",
   "id": "d19bf23a-4667-4b76-a85c-d0d3d4956a30",
   "metadata": {},
   "source": [
    "### 1-2) numerical dataset"
   ]
  },
  {
   "cell_type": "code",
   "execution_count": null,
   "id": "e68af2e8-cfe5-4b72-82b4-e5289a652d6b",
   "metadata": {},
   "outputs": [],
   "source": [
    "### HRV numerical dataset\n",
    "domain = pd.read_csv('E:/RESEARCH/Datasets/HRV/HRV_REV_all.csv', sep=',')"
   ]
  },
  {
   "cell_type": "code",
   "execution_count": null,
   "id": "fadb654f-8f3d-4d7d-9c8e-5a044e4523c3",
   "metadata": {},
   "outputs": [],
   "source": [
    "### data shape, variables check\n",
    "print(domain.shape)\n",
    "print(domain.columns)\n",
    "domain.head()"
   ]
  },
  {
   "cell_type": "code",
   "execution_count": null,
   "id": "94d28c96-1a8a-478b-8fab-9cfbf47d738b",
   "metadata": {},
   "outputs": [],
   "source": [
    "### checking lables for the data\n",
    "domain.loc[domain['HAMD']<=7, 'IndexH'] =0\n",
    "domain.loc[(domain['HAMD']>7) & (domain['HAMD']<=16), 'IndexH'] = 1\n",
    "domain.loc[domain['HAMD']>16, 'IndexH'] = 2\n",
    "domain_y = domain.loc[:,'IndexH']\n",
    "# domain_y = domain.loc[:,'disorder']"
   ]
  },
  {
   "cell_type": "code",
   "execution_count": null,
   "id": "4f061d7c-b18c-4d8a-abfe-a28f0dfb2657",
   "metadata": {},
   "outputs": [],
   "source": [
    "### deleting unnecessary data columns\n",
    "domain = domain.drop(['sub','age','gender','VISIT','disorder','HAMD', 'HAMA','PDSS','ASI','APPQ','PSWQ','SPI','PSS','BIS','SSI','IndexH'], axis=1)"
   ]
  },
  {
   "cell_type": "code",
   "execution_count": null,
   "id": "2ac908b3-ef7f-4fd8-a5bf-133cff76cef7",
   "metadata": {},
   "outputs": [],
   "source": [
    "### check the domain data columns again\n",
    "print(domain.columns)\n",
    "print(domain.shape)"
   ]
  },
  {
   "cell_type": "code",
   "execution_count": null,
   "id": "f4eb2a97-4144-4464-9128-de68912c32f4",
   "metadata": {},
   "outputs": [],
   "source": []
  },
  {
   "cell_type": "markdown",
   "id": "31eeba65-1203-4aea-803d-c796a46f8cfa",
   "metadata": {},
   "source": [
    "- - -"
   ]
  },
  {
   "cell_type": "markdown",
   "id": "e597230c-bbf3-4a41-8a34-de6f8d1479fd",
   "metadata": {},
   "source": [
    "* Domain data variable selection for the right task"
   ]
  },
  {
   "cell_type": "code",
   "execution_count": null,
   "id": "95402874-c583-46a2-839f-d974d0112bab",
   "metadata": {},
   "outputs": [],
   "source": [
    "domain_b1 = domain.loc[:, ['b1RMSSD', 'b1HR', 'b1PNN50', 'b1VLF', 'b1LF', 'b1HF', 'b1LF/HF']]\n",
    "domain_b2 = domain.loc[:, ['b2RMSSD', 'b2HR', 'b2PNN50', 'b2VLF', 'b2LF', 'b2HF', 'b2LF/HF']]\n",
    "domain_b3 = domain.loc[:, ['b3RMSSD', 'b3HR', 'b3PNN50', 'b3VLF', 'b3LF', 'b3HF', 'b3LF/HF']]"
   ]
  },
  {
   "cell_type": "code",
   "execution_count": null,
   "id": "8dd8f48f-091e-41a9-8ecc-a74b1f95fe0b",
   "metadata": {},
   "outputs": [],
   "source": [
    "domain_b1.columns = ['RMSSD', 'HR', 'PNN50', 'VLF', 'LF', 'HF', 'LF_HF']\n",
    "domain_b2.columns = ['RMSSD', 'HR', 'PNN50', 'VLF', 'LF', 'HF', 'LF_HF']\n",
    "domain_b3.columns = ['RMSSD', 'HR', 'PNN50', 'VLF', 'LF', 'HF', 'LF_HF']"
   ]
  },
  {
   "cell_type": "code",
   "execution_count": null,
   "id": "ef4e7a1b-c352-4018-a568-e5fb6988d572",
   "metadata": {},
   "outputs": [],
   "source": [
    "domain_s = domain.loc[:, ['sRMSSD','sHR', 'sPNN50', 'sVLF', 'sLF', 'sHF', 'sLF/HF']]"
   ]
  },
  {
   "cell_type": "code",
   "execution_count": null,
   "id": "40a7a6de-63cb-4228-a52e-19359ecf1378",
   "metadata": {},
   "outputs": [],
   "source": [
    "domain_s.columns = ['RMSSD', 'HR', 'PNN50', 'VLF', 'LF', 'HF', 'LF_HF']"
   ]
  },
  {
   "cell_type": "code",
   "execution_count": null,
   "id": "a4a49693-ad68-44e1-88db-51018958e9c4",
   "metadata": {},
   "outputs": [],
   "source": [
    "### Standardization\n",
    "domain_b1[:] = scaler.fit_transform(domain_b1[:])\n",
    "domain_b2[:] = scaler.fit_transform(domain_b2[:])\n",
    "domain_b3[:] = scaler.fit_transform(domain_b3[:])\n",
    "domain_s[:] = scaler.fit_transform(domain_s[:])"
   ]
  },
  {
   "cell_type": "markdown",
   "id": "b49d3464-d618-4e24-99ea-2da2321ae32e",
   "metadata": {},
   "source": [
    "Later you can select the dataset that you want to analyze. \n",
    "ex) if you want to augment the stress phase dataset, choose domain_s"
   ]
  },
  {
   "cell_type": "markdown",
   "id": "8730ac20-7b1a-4ede-8173-ebbae0aba036",
   "metadata": {},
   "source": [
    "- - -"
   ]
  },
  {
   "cell_type": "code",
   "execution_count": null,
   "id": "cf072951-f7bc-4eac-ad99-fa78e732c136",
   "metadata": {},
   "outputs": [],
   "source": []
  },
  {
   "cell_type": "markdown",
   "id": "af84f59f-4447-43ad-bb06-e00c57a0ce29",
   "metadata": {},
   "source": [
    "## 02. Public Data Supplement"
   ]
  },
  {
   "cell_type": "markdown",
   "id": "4ae38185-405e-4b24-a36f-306f0c0ad8e5",
   "metadata": {},
   "source": [
    "we proceed data crawling to support insufficient data environment"
   ]
  },
  {
   "cell_type": "markdown",
   "id": "56afaee5-9254-49e8-a6b0-95bd0a5387ea",
   "metadata": {},
   "source": [
    "### 2-1) Crawling Image data "
   ]
  },
  {
   "cell_type": "code",
   "execution_count": null,
   "id": "e7e1f564-4079-4bf8-b89d-24e3974eca94",
   "metadata": {},
   "outputs": [],
   "source": [
    "import urllib.request\n",
    "import time\n",
    "from urllib.parse import quote_plus\n",
    "from bs4 import BeautifulSoup\n",
    "from selenium import webdriver\n",
    "from icrawler.builtin import GoogleImageCrawler"
   ]
  },
  {
   "cell_type": "code",
   "execution_count": null,
   "id": "3ae47c3f-f034-47ca-bb61-d39ee9d60caf",
   "metadata": {},
   "outputs": [],
   "source": [
    "# google_crawler = GoogleImageCrawler(parser_threads=2, downloader_threads=4,\n",
    "#                                     storage={'root_dir': 'E:/RESEARCH/Datasets/HRV/crawl_test'})\n",
    "\n",
    "# google_crawler.crawl(keyword='car crash', max_num=500,\n",
    "# #                      date_min=None, date_max=None,\n",
    "#                      min_size=(200,200), max_size=None)"
   ]
  },
  {
   "cell_type": "code",
   "execution_count": null,
   "id": "5f9c6221-0bc2-4ccd-a1b7-6e0326cc45e7",
   "metadata": {
    "tags": []
   },
   "outputs": [],
   "source": [
    "### image crawling from google with GoogleImageCrawler\n",
    "google_crawler = GoogleImageCrawler(\n",
    "    feeder_threads=1,\n",
    "    parser_threads=1,\n",
    "    downloader_threads=4,\n",
    "    storage={'root_dir': 'E:/RESEARCH/Datasets/image/CIFAR_PUB/truck'}) #set the storage root\n",
    "\n",
    "filters = dict(\n",
    "    type='photo',\n",
    "    #type=photo,face,clipart,linedrawing,animated\n",
    "    size='medium',\n",
    "    #size=large, medium, icon, or larger than a given size e.g.\">640x480\" or exactly giving size\"=1024x768\n",
    "#     color='orange',\n",
    "    #coler=blackandwhite, red, oragne, yellow, green, teal, blue, purple, pink, white, gray, black, brown\n",
    "    license='commercial,modify',\n",
    "    #license=noncommercial, commercial, noncommercial,modify , commercial,modify\n",
    "    date=((2019, 1, 1), (2021, 12, 30)))\n",
    "\n",
    "# type the keyword of the image that you want to crawl from google\n",
    "google_crawler.crawl(keyword='truck', filters=filters, offset=0, max_num=1000,\n",
    "                     min_size=(200,200), max_size=None, file_idx_offset=0)"
   ]
  },
  {
   "cell_type": "code",
   "execution_count": null,
   "id": "0ec38d9f-4908-4d5c-a3c5-40411097d9c1",
   "metadata": {
    "tags": []
   },
   "outputs": [],
   "source": [
    "### image crawling from google with GoogleImageCrawler\n",
    "google_crawler = GoogleImageCrawler(\n",
    "    feeder_threads=1,\n",
    "    parser_threads=1,\n",
    "    downloader_threads=4,\n",
    "    storage={'root_dir': 'E:/RESEARCH/Datasets/HRV/crawl_test'}) #set the storage root\n",
    "\n",
    "filters = dict(\n",
    "    #type=photo,face,clipart,linedrawing,animated\n",
    "    size='large',\n",
    "    #size=large, medium, icon, or larger than a given size e.g.\">640x480\" or exactly giving size\"=1024x768\n",
    "    color='blackandwhite',\n",
    "    #coler=blackandwhite, red, oragne, yellow, green, teal, blue, purple, pink, white, gray, black, brown\n",
    "    license='commercial,modify',\n",
    "    #license=noncommercial, commercial, noncommercial,modify , commercial,modify\n",
    "    date=((2021, 1, 1), (2021, 12, 30)))\n",
    "\n",
    "# type the keyword of the image that you want to crawl from google\n",
    "google_crawler.crawl(keyword='lung ct', filters=filters, offset=0, max_num=1000,\n",
    "                     min_size=(200,200), max_size=None, file_idx_offset=0)"
   ]
  },
  {
   "cell_type": "code",
   "execution_count": null,
   "id": "367f0166-9a42-4a00-86e7-8271ca7d71b9",
   "metadata": {},
   "outputs": [],
   "source": []
  },
  {
   "cell_type": "code",
   "execution_count": null,
   "id": "0442771a-ff68-4ebe-b255-845dea0c4d6f",
   "metadata": {},
   "outputs": [],
   "source": []
  },
  {
   "cell_type": "code",
   "execution_count": null,
   "id": "2d24b406-8dec-4f4b-bcad-2e965b34d93d",
   "metadata": {},
   "outputs": [],
   "source": []
  },
  {
   "cell_type": "markdown",
   "id": "49b3b93b-0eae-4f6d-927a-97b64e7c0d52",
   "metadata": {},
   "source": [
    "### 2-2) Getting Numerical Data"
   ]
  },
  {
   "cell_type": "markdown",
   "id": "03c06a71-f1b9-4453-bf75-11e92f6d9812",
   "metadata": {},
   "source": [
    "maybe from kaggle, google, or uci machine learning dataset"
   ]
  },
  {
   "cell_type": "code",
   "execution_count": null,
   "id": "117ad1f2-8f4b-404e-9618-0f83b5801f2e",
   "metadata": {},
   "outputs": [],
   "source": [
    "### In our medical case, we adopt HRV dataset from SWEEL HRV research\n",
    "### Using public data must be very careful, and researchers should only use them for training data supplement.\n",
    "\n",
    "public = pd.read_csv('E:/RESEARCH/Datasets/HRV/HRV_Public/SWELL_hrv/data/final/train.csv', sep=',')"
   ]
  },
  {
   "cell_type": "code",
   "execution_count": null,
   "id": "3e9ed78e-ce72-4346-b7e0-cd01af236a14",
   "metadata": {},
   "outputs": [],
   "source": [
    "### data shape, variables check\n",
    "print(public.shape)\n",
    "print(public.columns)\n",
    "public.head()"
   ]
  },
  {
   "cell_type": "code",
   "execution_count": null,
   "id": "e1ed1400-cc37-4fce-974a-0c57c9d3d9a7",
   "metadata": {},
   "outputs": [],
   "source": []
  },
  {
   "cell_type": "markdown",
   "id": "3bfdead3-01c6-4126-9742-8b7f2ba930c0",
   "metadata": {},
   "source": [
    "- - -"
   ]
  },
  {
   "cell_type": "markdown",
   "id": "afee9128-b642-404a-89c1-cd17dfd8e2b0",
   "metadata": {},
   "source": [
    "* preprocess our data to fit into domain data"
   ]
  },
  {
   "cell_type": "code",
   "execution_count": null,
   "id": "9b171441-8ff0-4965-bff6-1f7cb046edf7",
   "metadata": {},
   "outputs": [],
   "source": [
    "### set the variables same as domain dataset\n",
    "public_b = public[public['condition'] == 'no stress']\n",
    "public_s1 = public[public['condition'] == 'interruption']\n",
    "public_s2 = public[public['condition'] == 'time pressure']"
   ]
  },
  {
   "cell_type": "code",
   "execution_count": null,
   "id": "5c997207-94be-469d-a24f-25bc13e1100e",
   "metadata": {},
   "outputs": [],
   "source": [
    "### check the number of each phase dataset\n",
    "print(public_b.shape)\n",
    "print(public_s1.shape)\n",
    "print(public_s2.shape)"
   ]
  },
  {
   "cell_type": "code",
   "execution_count": null,
   "id": "fec6d4b8-e955-4fba-b7ef-63043c617298",
   "metadata": {},
   "outputs": [],
   "source": [
    "### now select the common(repeated) variables from the domain data and save\n",
    "public = public.loc[:,['RMSSD', 'HR', 'PNN50', 'VLF', 'LF', 'HF', 'LF_HF']]\n",
    "public_b = public_b.loc[:,['RMSSD', 'HR', 'PNN50', 'VLF', 'LF', 'HF', 'LF_HF']]\n",
    "public_s1 = public_s1.loc[:,['RMSSD', 'HR', 'PNN50', 'VLF', 'LF', 'HF', 'LF_HF']]\n",
    "public_s2 = public_s2.loc[:,['RMSSD', 'HR', 'PNN50', 'VLF', 'LF', 'HF', 'LF_HF']]"
   ]
  },
  {
   "cell_type": "code",
   "execution_count": null,
   "id": "acca644b-3242-48c1-ba3b-14e2af8f0cfb",
   "metadata": {},
   "outputs": [],
   "source": [
    "### standardization on supplemented dataset\n",
    "public_b[:] = scaler.fit_transform(public_b[:])\n",
    "public_s1[:] = scaler.fit_transform(public_s1[:])\n",
    "public_s2[:] = scaler.fit_transform(public_s2[:])"
   ]
  },
  {
   "cell_type": "code",
   "execution_count": null,
   "id": "af3b31e9-efd7-47e6-9d24-797919f50fb3",
   "metadata": {},
   "outputs": [],
   "source": [
    "### round up the variable values for fifth decimal points\n",
    "public_b = public_b.round(decimals=5)\n",
    "public_s1 = public_s1.round(decimals=5)\n",
    "public_s2 = public_s2.round(decimals=5)"
   ]
  },
  {
   "cell_type": "markdown",
   "id": "f9998448-46dc-4b91-80f1-9c5b2073b928",
   "metadata": {},
   "source": [
    "- - -"
   ]
  },
  {
   "cell_type": "code",
   "execution_count": null,
   "id": "cf56f268-112a-46ea-923e-48e12a147f55",
   "metadata": {},
   "outputs": [],
   "source": []
  },
  {
   "cell_type": "code",
   "execution_count": null,
   "id": "9e63ca2d-9076-4418-908e-58c9c9c90d73",
   "metadata": {},
   "outputs": [],
   "source": []
  },
  {
   "cell_type": "markdown",
   "id": "9b52868f-f63b-4ff8-aed0-a3269d29cc3c",
   "metadata": {},
   "source": [
    "## 03. Data Filtering (1st)"
   ]
  },
  {
   "cell_type": "markdown",
   "id": "59596e02-ecf4-4d30-b944-41ebc22232f6",
   "metadata": {},
   "source": [
    "### 3-1) Data Mergence"
   ]
  },
  {
   "cell_type": "code",
   "execution_count": null,
   "id": "c0c689c2-1134-4e77-9e4d-2dc2a87a3ba0",
   "metadata": {},
   "outputs": [],
   "source": [
    "### First select the data phase (maybe not necessary for some dataset)\n",
    "### Then, check the number of data in each domain and public dataset\n",
    "### Here we are going to use baseline phase\n",
    "\n",
    "print(\"Shape of the domain dataset for the training is\", domain_b1.shape)\n",
    "print(\"Shape of the public dataset for the training is\", public_b.shape)"
   ]
  },
  {
   "cell_type": "code",
   "execution_count": null,
   "id": "1f547dec-d05f-4ce9-a299-464df9b27473",
   "metadata": {},
   "outputs": [],
   "source": [
    "### select the proper amount of dataset for each\n",
    "domain_resized = domain_b1.sample(frac=1)\n",
    "public_resized = public_b.sample(n=700)\n",
    "print(domain_resized.shape)\n",
    "print(public_resized.shape)"
   ]
  },
  {
   "cell_type": "code",
   "execution_count": null,
   "id": "3235d8d5-4aa6-4c02-9ec6-02508d372576",
   "metadata": {},
   "outputs": [],
   "source": []
  },
  {
   "cell_type": "code",
   "execution_count": null,
   "id": "2b379d7b-d379-4297-bce0-6a05731aea34",
   "metadata": {},
   "outputs": [],
   "source": []
  },
  {
   "cell_type": "code",
   "execution_count": null,
   "id": "d79d6b5b-9956-4139-935b-ab87e1421e0b",
   "metadata": {},
   "outputs": [],
   "source": [
    "training = pd.concat((domain_resized, public_resized))"
   ]
  },
  {
   "cell_type": "code",
   "execution_count": null,
   "id": "b25d7600-03d5-47eb-bb84-b4ac14a276f3",
   "metadata": {},
   "outputs": [],
   "source": [
    "### check the finalized first augmented dataset size/shape\n",
    "print(\"Shape of the firstly augmented dataset for the training is\", training.shape)"
   ]
  },
  {
   "cell_type": "code",
   "execution_count": null,
   "id": "89721dd0-51ac-4710-bb6d-509191e65419",
   "metadata": {},
   "outputs": [],
   "source": [
    "training.head()"
   ]
  },
  {
   "cell_type": "code",
   "execution_count": null,
   "id": "2f6f25bb-28e8-4524-8840-dc204a192b93",
   "metadata": {},
   "outputs": [],
   "source": []
  },
  {
   "cell_type": "markdown",
   "id": "1079424e-1603-4750-a0af-f5d448d95bee",
   "metadata": {},
   "source": [
    "## 04. Dimensionality Reduction"
   ]
  },
  {
   "cell_type": "code",
   "execution_count": null,
   "id": "42933ee4-843a-449f-b0b5-6616108399cd",
   "metadata": {},
   "outputs": [],
   "source": [
    "### To put the labels on domain dataset and use them for labeling, index must be included"
   ]
  },
  {
   "cell_type": "code",
   "execution_count": null,
   "id": "1814071b-cbcf-475b-9174-f4050e58fc9c",
   "metadata": {},
   "outputs": [],
   "source": []
  },
  {
   "cell_type": "code",
   "execution_count": null,
   "id": "0eab84fc-de64-4621-a9e0-c75ab56f9d97",
   "metadata": {},
   "outputs": [],
   "source": []
  },
  {
   "cell_type": "code",
   "execution_count": null,
   "id": "7d06dda1-5746-4a35-87aa-b0c28b417ecf",
   "metadata": {},
   "outputs": [],
   "source": [
    "### 3 component dimensionality reduction on merged dataset\n",
    "pca_3 = decomposition.PCA(n_components=3)\n",
    "pca_3_result = pca_3.fit_transform(training)\n",
    "total_var3 = pca_3.explained_variance_ratio_.sum()*100\n",
    "\n",
    "### check the representativeness of the reduced dimension by PCA\n",
    "print('Explained variation per principal component: {}'.format(pca_3.explained_variance_ratio_))\n",
    "print('Cumulative variance explained by 2 principal components: {:.2%}'.format(np.sum(pca_3.explained_variance_ratio_)))"
   ]
  },
  {
   "cell_type": "code",
   "execution_count": null,
   "id": "52ffe69f-99c3-47ea-b8a2-ddffe74c1783",
   "metadata": {},
   "outputs": [],
   "source": [
    "result3 = pd.DataFrame(pca_3.transform(training), columns = ['PCA%i' % i for i in range(3)], index = training.index)"
   ]
  },
  {
   "cell_type": "code",
   "execution_count": null,
   "id": "2326b640-359f-455e-bdcc-eb72acc8d45c",
   "metadata": {},
   "outputs": [],
   "source": [
    "# Plot initialisation\n",
    "fig = plt.figure(figsize=(16,10))\n",
    "ax = fig.add_subplot(111, projection='3d')\n",
    "plt.title('PCA 3 result from Merged Dataset', fontsize=15, fontweight='bold')\n",
    "ax.scatter(result3['PCA0'], result3['PCA1'], result3['PCA2'], s=60)\n",
    "# plt.savefig('pca_result.png')"
   ]
  },
  {
   "cell_type": "code",
   "execution_count": null,
   "id": "9443be35-521b-4f24-b354-dca858d9f0f1",
   "metadata": {},
   "outputs": [],
   "source": []
  },
  {
   "cell_type": "code",
   "execution_count": null,
   "id": "b5d45e7c-dead-4018-8d3d-8cef9e9c99b8",
   "metadata": {},
   "outputs": [],
   "source": []
  },
  {
   "cell_type": "code",
   "execution_count": null,
   "id": "c47c56cb-51fd-4df5-a424-c3c6d693fe00",
   "metadata": {},
   "outputs": [],
   "source": []
  },
  {
   "cell_type": "code",
   "execution_count": null,
   "id": "b3d12fb9-714d-4891-832d-c8a63b7b4c4b",
   "metadata": {},
   "outputs": [],
   "source": []
  },
  {
   "cell_type": "code",
   "execution_count": null,
   "id": "d627fc38-9f6f-4d0c-9a93-548a89e6043a",
   "metadata": {},
   "outputs": [],
   "source": []
  },
  {
   "cell_type": "markdown",
   "id": "e9a46d5a-3621-4b0c-b6cf-d0b9fcb29f60",
   "metadata": {},
   "source": [
    "## 05. Data Clustering (SSL based)"
   ]
  },
  {
   "cell_type": "code",
   "execution_count": null,
   "id": "2bbc89da-fb0c-450a-8f90-ae0d573087e2",
   "metadata": {},
   "outputs": [],
   "source": []
  },
  {
   "cell_type": "code",
   "execution_count": null,
   "id": "1804656c-c8c8-499f-a7e1-192f9cc9bb39",
   "metadata": {},
   "outputs": [],
   "source": []
  },
  {
   "cell_type": "code",
   "execution_count": null,
   "id": "aca0588d-e2f1-44fa-ada4-0252b497e9f5",
   "metadata": {},
   "outputs": [],
   "source": []
  },
  {
   "cell_type": "code",
   "execution_count": null,
   "id": "71f41019-f813-4264-93c7-ebb6b7309f63",
   "metadata": {},
   "outputs": [],
   "source": []
  },
  {
   "cell_type": "code",
   "execution_count": null,
   "id": "255ce7b0-c126-4db1-bfcb-7a2b4addcd6a",
   "metadata": {},
   "outputs": [],
   "source": []
  },
  {
   "cell_type": "code",
   "execution_count": null,
   "id": "0ffe482e-f997-48fd-92c5-eb0b9e4c280a",
   "metadata": {},
   "outputs": [],
   "source": []
  },
  {
   "cell_type": "code",
   "execution_count": null,
   "id": "205d4d7a-6166-451c-98c9-c12c754f0e4a",
   "metadata": {},
   "outputs": [],
   "source": []
  },
  {
   "cell_type": "code",
   "execution_count": null,
   "id": "598f5452-9d79-4c4d-bcd9-0327357c0398",
   "metadata": {},
   "outputs": [],
   "source": []
  },
  {
   "cell_type": "markdown",
   "id": "18804fe6-b033-4230-b17f-54c4f1d4243d",
   "metadata": {},
   "source": [
    "## 06. Unlabeled data labeling"
   ]
  },
  {
   "cell_type": "code",
   "execution_count": null,
   "id": "1de72f66-6d64-4ebf-bb4c-eebd3a45adbe",
   "metadata": {},
   "outputs": [],
   "source": []
  },
  {
   "cell_type": "code",
   "execution_count": null,
   "id": "7f11a1d2-97b8-450a-a91b-b2b73772916d",
   "metadata": {},
   "outputs": [],
   "source": []
  },
  {
   "cell_type": "code",
   "execution_count": null,
   "id": "88f94443-58e0-434e-afae-6b935a5bed90",
   "metadata": {},
   "outputs": [],
   "source": []
  },
  {
   "cell_type": "code",
   "execution_count": null,
   "id": "4f3af009-404d-42c1-bda2-978d382b1923",
   "metadata": {},
   "outputs": [],
   "source": []
  }
 ],
 "metadata": {
  "kernelspec": {
   "display_name": "Python 3",
   "language": "python",
   "name": "python3"
  },
  "language_info": {
   "codemirror_mode": {
    "name": "ipython",
    "version": 3
   },
   "file_extension": ".py",
   "mimetype": "text/x-python",
   "name": "python",
   "nbconvert_exporter": "python",
   "pygments_lexer": "ipython3",
   "version": "3.8.10"
  }
 },
 "nbformat": 4,
 "nbformat_minor": 5
}
