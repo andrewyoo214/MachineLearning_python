{
 "cells": [
  {
   "cell_type": "markdown",
   "id": "938fcb43-4b9e-4aeb-90f3-bb862f8e72ca",
   "metadata": {},
   "source": [
    "# Data Augmentation Box"
   ]
  },
  {
   "cell_type": "markdown",
   "id": "6c7f1b6c-da66-488a-a24a-1272eb35e18f",
   "metadata": {},
   "source": [
    "Project for Data Augmentation System"
   ]
  },
  {
   "cell_type": "markdown",
   "id": "bc0f750e-a3bd-495f-bbca-b2e65c492c87",
   "metadata": {},
   "source": [
    "## Data Augmentation Order\n",
    "\n",
    "STEP 1 - Domain Data Preparation\n",
    "1. Domain data labeling check\n",
    "2. Dimensionality Reduction\n",
    "3. Regression analysis\n",
    "\n",
    "\n",
    "STEP 2 - Data Augmentation\n",
    "1. Domain data check\n",
    "02. Public Data Supplement\n",
    "03. Data filtering (1st)\n",
    "04. Dimensionality Reduction\n",
    "05. Label Spreading (semi-supervised learning based)\n",
    "06. Data Filtering (2nd)\n",
    "07. Regression analytsis\n",
    "08. Data Filtering (3rd)\n",
    "09. Data Augmentation\n",
    "10. Model Generation"
   ]
  },
  {
   "cell_type": "markdown",
   "id": "e0274c5b-defe-43a0-8d24-a70b30719312",
   "metadata": {},
   "source": [
    "- - -"
   ]
  },
  {
   "cell_type": "code",
   "execution_count": null,
   "id": "4497d4fd-c9e6-4e5e-bf71-131c7297d426",
   "metadata": {},
   "outputs": [],
   "source": []
  },
  {
   "cell_type": "code",
   "execution_count": 1,
   "id": "965875d6-0f07-499f-b2aa-8661abe35981",
   "metadata": {},
   "outputs": [],
   "source": [
    "import os\n",
    "import time\n",
    "import numpy as np\n",
    "import pandas as pd\n",
    "import seaborn as sns\n",
    "import matplotlib.pyplot as plt"
   ]
  },
  {
   "cell_type": "code",
   "execution_count": 19,
   "id": "2b695956-4d10-46fb-9ec3-7b62968fb9cf",
   "metadata": {},
   "outputs": [],
   "source": [
    "from sklearn.model_selection import train_test_split\n",
    "from sklearn.preprocessing import MinMaxScaler\n",
    "scaler = MinMaxScaler() #set the scaler"
   ]
  },
  {
   "cell_type": "markdown",
   "id": "884086bf-c312-4af8-bec9-6c903212ae3f",
   "metadata": {},
   "source": [
    "## 01. Domain Data Check"
   ]
  },
  {
   "cell_type": "markdown",
   "id": "ca0634bb-3549-4206-864e-018f4813f5ce",
   "metadata": {},
   "source": [
    "we have to check the domain data "
   ]
  },
  {
   "cell_type": "markdown",
   "id": "164251fd-e819-4eb0-aded-5d435b2d03f0",
   "metadata": {
    "tags": []
   },
   "source": [
    "### 1-1) image dataset"
   ]
  },
  {
   "cell_type": "markdown",
   "id": "ad3cf131-0888-48b3-9394-e4cf9fb91ef0",
   "metadata": {},
   "source": [
    "Here, we will use CIFAR-10 dataset for experiments"
   ]
  },
  {
   "cell_type": "code",
   "execution_count": null,
   "id": "bd7fa118-272b-43cd-8ede-d544f63e8688",
   "metadata": {},
   "outputs": [],
   "source": [
    "domain ="
   ]
  },
  {
   "cell_type": "code",
   "execution_count": null,
   "id": "2f46006c-87a0-4d89-9d7d-fd78dec740c7",
   "metadata": {},
   "outputs": [],
   "source": []
  },
  {
   "cell_type": "code",
   "execution_count": null,
   "id": "80d25f3e-0e43-4900-9934-2e97529592ec",
   "metadata": {},
   "outputs": [],
   "source": []
  },
  {
   "cell_type": "markdown",
   "id": "d19bf23a-4667-4b76-a85c-d0d3d4956a30",
   "metadata": {},
   "source": [
    "### 1-2) numerical dataset"
   ]
  },
  {
   "cell_type": "code",
   "execution_count": 3,
   "id": "e68af2e8-cfe5-4b72-82b4-e5289a652d6b",
   "metadata": {},
   "outputs": [],
   "source": [
    "### HRV numerical dataset\n",
    "domain = pd.read_csv('E:/RESEARCH/Datasets/HRV/HRV_REV_all.csv', sep=',')"
   ]
  },
  {
   "cell_type": "code",
   "execution_count": 4,
   "id": "fadb654f-8f3d-4d7d-9c8e-5a044e4523c3",
   "metadata": {},
   "outputs": [
    {
     "name": "stdout",
     "output_type": "stream",
     "text": [
      "(479, 93)\n",
      "Index(['sub', 'VISIT', 'disorder', 'age', 'gender', 'HAMD', 'HAMA', 'PDSS',\n",
      "       'ASI', 'APPQ', 'PSWQ', 'SPI', 'PSS', 'BIS', 'SSI', 'b1SDNN', 'b1NN50',\n",
      "       'b1PNN50', 'b1RMSSD', 'b1VLF', 'b1LF', 'b1HF', 'b1LF/HF', 'b1POWER',\n",
      "       'b1HR', 'b1RESP', 'b1SC', 'b1TEMP', 'sSDNN', 'sNN50', 'sPNN50',\n",
      "       'sRMSSD', 'sVLF', 'sLF', 'sHF', 'sLF/HF', 'sPOWER', 'sHR', 'sRESP',\n",
      "       'sSC', 'sTEMP', 'b2SDNN', 'b2NN50', 'b2PNN50', 'b2RMSSD', 'b2VLF',\n",
      "       'b2LF', 'b2HF', 'b2LF/HF', 'b2POWER', 'b2HR', 'b2RESP', 'b2SC',\n",
      "       'b2TEMP', 'rSDNN', 'rNN50', 'rPNN50', 'rRMSSD', 'rVLF', 'rLF', 'rHF',\n",
      "       'rLF/HF', 'rPOWER', 'rHR', 'rRESP', 'rSC', 'rTEMP', 'b3SDNN', 'b3NN50',\n",
      "       'b3PNN50', 'b3RMSSD', 'b3VLF', 'b3LF', 'b3HF', 'b3LF/HF', 'b3POWER',\n",
      "       'b3HR', 'b3RESP', 'b3SC', 'b3TEMP', 'cSDNN', 'cNN50', 'cPNN50',\n",
      "       'cRMSSD', 'cVLF', 'cLF', 'cHF', 'cLF/HF', 'cPOWER', 'cHR', 'cRESP',\n",
      "       'cSC', 'cTEMP'],\n",
      "      dtype='object')\n"
     ]
    },
    {
     "data": {
      "text/html": [
       "<div>\n",
       "<style scoped>\n",
       "    .dataframe tbody tr th:only-of-type {\n",
       "        vertical-align: middle;\n",
       "    }\n",
       "\n",
       "    .dataframe tbody tr th {\n",
       "        vertical-align: top;\n",
       "    }\n",
       "\n",
       "    .dataframe thead th {\n",
       "        text-align: right;\n",
       "    }\n",
       "</style>\n",
       "<table border=\"1\" class=\"dataframe\">\n",
       "  <thead>\n",
       "    <tr style=\"text-align: right;\">\n",
       "      <th></th>\n",
       "      <th>sub</th>\n",
       "      <th>VISIT</th>\n",
       "      <th>disorder</th>\n",
       "      <th>age</th>\n",
       "      <th>gender</th>\n",
       "      <th>HAMD</th>\n",
       "      <th>HAMA</th>\n",
       "      <th>PDSS</th>\n",
       "      <th>ASI</th>\n",
       "      <th>APPQ</th>\n",
       "      <th>...</th>\n",
       "      <th>cRMSSD</th>\n",
       "      <th>cVLF</th>\n",
       "      <th>cLF</th>\n",
       "      <th>cHF</th>\n",
       "      <th>cLF/HF</th>\n",
       "      <th>cPOWER</th>\n",
       "      <th>cHR</th>\n",
       "      <th>cRESP</th>\n",
       "      <th>cSC</th>\n",
       "      <th>cTEMP</th>\n",
       "    </tr>\n",
       "  </thead>\n",
       "  <tbody>\n",
       "    <tr>\n",
       "      <th>0</th>\n",
       "      <td>E001</td>\n",
       "      <td>4</td>\n",
       "      <td>2</td>\n",
       "      <td>23</td>\n",
       "      <td>1</td>\n",
       "      <td>2</td>\n",
       "      <td>2</td>\n",
       "      <td>1</td>\n",
       "      <td>12</td>\n",
       "      <td>22</td>\n",
       "      <td>...</td>\n",
       "      <td>41.544667</td>\n",
       "      <td>190.107000</td>\n",
       "      <td>298.508333</td>\n",
       "      <td>206.862333</td>\n",
       "      <td>1.284000</td>\n",
       "      <td>695.477333</td>\n",
       "      <td>65.707000</td>\n",
       "      <td>14.054333</td>\n",
       "      <td>3.911333</td>\n",
       "      <td>34.998000</td>\n",
       "    </tr>\n",
       "    <tr>\n",
       "      <th>1</th>\n",
       "      <td>E001</td>\n",
       "      <td>5</td>\n",
       "      <td>2</td>\n",
       "      <td>23</td>\n",
       "      <td>1</td>\n",
       "      <td>12</td>\n",
       "      <td>7</td>\n",
       "      <td>0</td>\n",
       "      <td>12</td>\n",
       "      <td>24</td>\n",
       "      <td>...</td>\n",
       "      <td>39.825333</td>\n",
       "      <td>143.756667</td>\n",
       "      <td>115.695333</td>\n",
       "      <td>202.602667</td>\n",
       "      <td>0.585000</td>\n",
       "      <td>462.054667</td>\n",
       "      <td>69.040000</td>\n",
       "      <td>14.117333</td>\n",
       "      <td>6.255000</td>\n",
       "      <td>35.544333</td>\n",
       "    </tr>\n",
       "    <tr>\n",
       "      <th>2</th>\n",
       "      <td>E002</td>\n",
       "      <td>1</td>\n",
       "      <td>2</td>\n",
       "      <td>38</td>\n",
       "      <td>1</td>\n",
       "      <td>14</td>\n",
       "      <td>17</td>\n",
       "      <td>14</td>\n",
       "      <td>31</td>\n",
       "      <td>122</td>\n",
       "      <td>...</td>\n",
       "      <td>20.052000</td>\n",
       "      <td>22.006000</td>\n",
       "      <td>50.182000</td>\n",
       "      <td>32.529333</td>\n",
       "      <td>2.499333</td>\n",
       "      <td>104.717000</td>\n",
       "      <td>92.789333</td>\n",
       "      <td>11.013333</td>\n",
       "      <td>0.945667</td>\n",
       "      <td>35.086000</td>\n",
       "    </tr>\n",
       "    <tr>\n",
       "      <th>3</th>\n",
       "      <td>E002</td>\n",
       "      <td>2</td>\n",
       "      <td>2</td>\n",
       "      <td>38</td>\n",
       "      <td>1</td>\n",
       "      <td>13</td>\n",
       "      <td>36</td>\n",
       "      <td>16</td>\n",
       "      <td>32</td>\n",
       "      <td>139</td>\n",
       "      <td>...</td>\n",
       "      <td>20.201667</td>\n",
       "      <td>55.579000</td>\n",
       "      <td>84.441000</td>\n",
       "      <td>18.754000</td>\n",
       "      <td>5.803000</td>\n",
       "      <td>158.774333</td>\n",
       "      <td>85.980667</td>\n",
       "      <td>12.608333</td>\n",
       "      <td>0.785667</td>\n",
       "      <td>36.141000</td>\n",
       "    </tr>\n",
       "    <tr>\n",
       "      <th>4</th>\n",
       "      <td>E002</td>\n",
       "      <td>3</td>\n",
       "      <td>2</td>\n",
       "      <td>38</td>\n",
       "      <td>1</td>\n",
       "      <td>7</td>\n",
       "      <td>10</td>\n",
       "      <td>11</td>\n",
       "      <td>23</td>\n",
       "      <td>70</td>\n",
       "      <td>...</td>\n",
       "      <td>74.788000</td>\n",
       "      <td>182.229000</td>\n",
       "      <td>530.565667</td>\n",
       "      <td>546.574000</td>\n",
       "      <td>1.685667</td>\n",
       "      <td>1259.368667</td>\n",
       "      <td>84.368667</td>\n",
       "      <td>14.285667</td>\n",
       "      <td>0.648000</td>\n",
       "      <td>35.879000</td>\n",
       "    </tr>\n",
       "  </tbody>\n",
       "</table>\n",
       "<p>5 rows × 93 columns</p>\n",
       "</div>"
      ],
      "text/plain": [
       "    sub  VISIT  disorder  age  gender  HAMD  HAMA  PDSS  ASI  APPQ  ...  \\\n",
       "0  E001      4         2   23       1     2     2     1   12    22  ...   \n",
       "1  E001      5         2   23       1    12     7     0   12    24  ...   \n",
       "2  E002      1         2   38       1    14    17    14   31   122  ...   \n",
       "3  E002      2         2   38       1    13    36    16   32   139  ...   \n",
       "4  E002      3         2   38       1     7    10    11   23    70  ...   \n",
       "\n",
       "      cRMSSD        cVLF         cLF         cHF    cLF/HF       cPOWER  \\\n",
       "0  41.544667  190.107000  298.508333  206.862333  1.284000   695.477333   \n",
       "1  39.825333  143.756667  115.695333  202.602667  0.585000   462.054667   \n",
       "2  20.052000   22.006000   50.182000   32.529333  2.499333   104.717000   \n",
       "3  20.201667   55.579000   84.441000   18.754000  5.803000   158.774333   \n",
       "4  74.788000  182.229000  530.565667  546.574000  1.685667  1259.368667   \n",
       "\n",
       "         cHR      cRESP       cSC      cTEMP  \n",
       "0  65.707000  14.054333  3.911333  34.998000  \n",
       "1  69.040000  14.117333  6.255000  35.544333  \n",
       "2  92.789333  11.013333  0.945667  35.086000  \n",
       "3  85.980667  12.608333  0.785667  36.141000  \n",
       "4  84.368667  14.285667  0.648000  35.879000  \n",
       "\n",
       "[5 rows x 93 columns]"
      ]
     },
     "execution_count": 4,
     "metadata": {},
     "output_type": "execute_result"
    }
   ],
   "source": [
    "### data shape, variables check\n",
    "print(domain.shape)\n",
    "print(domain.columns)\n",
    "domain.head()"
   ]
  },
  {
   "cell_type": "code",
   "execution_count": 5,
   "id": "94d28c96-1a8a-478b-8fab-9cfbf47d738b",
   "metadata": {},
   "outputs": [],
   "source": [
    "### checking lables for the data\n",
    "domain.loc[domain['HAMD']<=7, 'IndexH'] =0\n",
    "domain.loc[(domain['HAMD']>7) & (domain['HAMD']<=16), 'IndexH'] = 1\n",
    "domain.loc[domain['HAMD']>16, 'IndexH'] = 2\n",
    "domain_y = domain.loc[:,'IndexH']\n",
    "# domain_y = domain.loc[:,'disorder']"
   ]
  },
  {
   "cell_type": "code",
   "execution_count": 6,
   "id": "4f061d7c-b18c-4d8a-abfe-a28f0dfb2657",
   "metadata": {},
   "outputs": [],
   "source": [
    "### deleting unnecessary data columns\n",
    "domain = domain.drop(['sub','age','gender','VISIT','disorder','HAMD', 'HAMA','PDSS','ASI','APPQ','PSWQ','SPI','PSS','BIS','SSI','IndexH'], axis=1)"
   ]
  },
  {
   "cell_type": "code",
   "execution_count": 7,
   "id": "2ac908b3-ef7f-4fd8-a5bf-133cff76cef7",
   "metadata": {},
   "outputs": [
    {
     "name": "stdout",
     "output_type": "stream",
     "text": [
      "Index(['b1SDNN', 'b1NN50', 'b1PNN50', 'b1RMSSD', 'b1VLF', 'b1LF', 'b1HF',\n",
      "       'b1LF/HF', 'b1POWER', 'b1HR', 'b1RESP', 'b1SC', 'b1TEMP', 'sSDNN',\n",
      "       'sNN50', 'sPNN50', 'sRMSSD', 'sVLF', 'sLF', 'sHF', 'sLF/HF', 'sPOWER',\n",
      "       'sHR', 'sRESP', 'sSC', 'sTEMP', 'b2SDNN', 'b2NN50', 'b2PNN50',\n",
      "       'b2RMSSD', 'b2VLF', 'b2LF', 'b2HF', 'b2LF/HF', 'b2POWER', 'b2HR',\n",
      "       'b2RESP', 'b2SC', 'b2TEMP', 'rSDNN', 'rNN50', 'rPNN50', 'rRMSSD',\n",
      "       'rVLF', 'rLF', 'rHF', 'rLF/HF', 'rPOWER', 'rHR', 'rRESP', 'rSC',\n",
      "       'rTEMP', 'b3SDNN', 'b3NN50', 'b3PNN50', 'b3RMSSD', 'b3VLF', 'b3LF',\n",
      "       'b3HF', 'b3LF/HF', 'b3POWER', 'b3HR', 'b3RESP', 'b3SC', 'b3TEMP',\n",
      "       'cSDNN', 'cNN50', 'cPNN50', 'cRMSSD', 'cVLF', 'cLF', 'cHF', 'cLF/HF',\n",
      "       'cPOWER', 'cHR', 'cRESP', 'cSC', 'cTEMP'],\n",
      "      dtype='object')\n",
      "(479, 78)\n"
     ]
    }
   ],
   "source": [
    "### check the domain data columns again\n",
    "print(domain.columns)\n",
    "print(domain.shape)"
   ]
  },
  {
   "cell_type": "code",
   "execution_count": null,
   "id": "f4eb2a97-4144-4464-9128-de68912c32f4",
   "metadata": {},
   "outputs": [],
   "source": []
  },
  {
   "cell_type": "markdown",
   "id": "31eeba65-1203-4aea-803d-c796a46f8cfa",
   "metadata": {},
   "source": [
    "- - -"
   ]
  },
  {
   "cell_type": "markdown",
   "id": "e597230c-bbf3-4a41-8a34-de6f8d1479fd",
   "metadata": {},
   "source": [
    "* Domain data variable selection for the right task"
   ]
  },
  {
   "cell_type": "code",
   "execution_count": 8,
   "id": "95402874-c583-46a2-839f-d974d0112bab",
   "metadata": {},
   "outputs": [],
   "source": [
    "domain_b1 = domain.loc[:, ['b1RMSSD', 'b1HR', 'b1PNN50', 'b1VLF', 'b1LF', 'b1HF', 'b1LF/HF']]\n",
    "domain_b2 = domain.loc[:, ['b2RMSSD', 'b2HR', 'b2PNN50', 'b2VLF', 'b2LF', 'b2HF', 'b2LF/HF']]\n",
    "domain_b3 = domain.loc[:, ['b3RMSSD', 'b3HR', 'b3PNN50', 'b3VLF', 'b3LF', 'b3HF', 'b3LF/HF']]"
   ]
  },
  {
   "cell_type": "code",
   "execution_count": 9,
   "id": "8dd8f48f-091e-41a9-8ecc-a74b1f95fe0b",
   "metadata": {},
   "outputs": [],
   "source": [
    "domain_b1.columns = ['RMSSD', 'HR', 'PNN50', 'VLF', 'LF', 'HF', 'LF_HF']\n",
    "domain_b2.columns = ['RMSSD', 'HR', 'PNN50', 'VLF', 'LF', 'HF', 'LF_HF']\n",
    "domain_b3.columns = ['RMSSD', 'HR', 'PNN50', 'VLF', 'LF', 'HF', 'LF_HF']"
   ]
  },
  {
   "cell_type": "code",
   "execution_count": 10,
   "id": "ef4e7a1b-c352-4018-a568-e5fb6988d572",
   "metadata": {},
   "outputs": [],
   "source": [
    "domain_s = domain.loc[:, ['sRMSSD','sHR', 'sPNN50', 'sVLF', 'sLF', 'sHF', 'sLF/HF']]"
   ]
  },
  {
   "cell_type": "code",
   "execution_count": 11,
   "id": "40a7a6de-63cb-4228-a52e-19359ecf1378",
   "metadata": {},
   "outputs": [],
   "source": [
    "domain_s.columns = ['RMSSD', 'HR', 'PNN50', 'VLF', 'LF', 'HF', 'LF_HF']"
   ]
  },
  {
   "cell_type": "code",
   "execution_count": 26,
   "id": "a4a49693-ad68-44e1-88db-51018958e9c4",
   "metadata": {},
   "outputs": [],
   "source": [
    "### Standardization\n",
    "domain_b1[:] = scaler.fit_transform(domain_b1[:])\n",
    "domain_b2[:] = scaler.fit_transform(domain_b2[:])\n",
    "domain_b3[:] = scaler.fit_transform(domain_b3[:])\n",
    "domain_s[:] = scaler.fit_transform(domain_s[:])"
   ]
  },
  {
   "cell_type": "markdown",
   "id": "b49d3464-d618-4e24-99ea-2da2321ae32e",
   "metadata": {},
   "source": [
    "Later you can select the dataset that you want to analyze. \n",
    "ex) if you want to augment the stress phase dataset, choose domain_s"
   ]
  },
  {
   "cell_type": "markdown",
   "id": "8730ac20-7b1a-4ede-8173-ebbae0aba036",
   "metadata": {},
   "source": [
    "- - -"
   ]
  },
  {
   "cell_type": "code",
   "execution_count": null,
   "id": "cf072951-f7bc-4eac-ad99-fa78e732c136",
   "metadata": {},
   "outputs": [],
   "source": []
  },
  {
   "cell_type": "markdown",
   "id": "af84f59f-4447-43ad-bb06-e00c57a0ce29",
   "metadata": {},
   "source": [
    "## 02. Public Data Supplement"
   ]
  },
  {
   "cell_type": "markdown",
   "id": "4ae38185-405e-4b24-a36f-306f0c0ad8e5",
   "metadata": {},
   "source": [
    "we proceed data crawling to support insufficient data environment"
   ]
  },
  {
   "cell_type": "markdown",
   "id": "56afaee5-9254-49e8-a6b0-95bd0a5387ea",
   "metadata": {},
   "source": [
    "### 2-1) Crawling Image data "
   ]
  },
  {
   "cell_type": "code",
   "execution_count": 12,
   "id": "e7e1f564-4079-4bf8-b89d-24e3974eca94",
   "metadata": {},
   "outputs": [],
   "source": [
    "import urllib.request\n",
    "import time\n",
    "from urllib.parse import quote_plus\n",
    "from bs4 import BeautifulSoup\n",
    "from selenium import webdriver\n",
    "from icrawler.builtin import GoogleImageCrawler"
   ]
  },
  {
   "cell_type": "code",
   "execution_count": null,
   "id": "3ae47c3f-f034-47ca-bb61-d39ee9d60caf",
   "metadata": {},
   "outputs": [],
   "source": [
    "# google_crawler = GoogleImageCrawler(parser_threads=2, downloader_threads=4,\n",
    "#                                     storage={'root_dir': 'E:/RESEARCH/Datasets/HRV/crawl_test'})\n",
    "\n",
    "# google_crawler.crawl(keyword='car crash', max_num=500,\n",
    "# #                      date_min=None, date_max=None,\n",
    "#                      min_size=(200,200), max_size=None)"
   ]
  },
  {
   "cell_type": "code",
   "execution_count": 40,
   "id": "5f9c6221-0bc2-4ccd-a1b7-6e0326cc45e7",
   "metadata": {
    "collapsed": true,
    "jupyter": {
     "outputs_hidden": true
    },
    "tags": []
   },
   "outputs": [
    {
     "name": "stderr",
     "output_type": "stream",
     "text": [
      "2022-03-14 16:49:31,050 - INFO - icrawler.crawler - start crawling...\n",
      "2022-03-14 16:49:31,051 - INFO - icrawler.crawler - starting 1 feeder threads...\n",
      "2022-03-14 16:49:31,052 - INFO - icrawler.crawler - starting 1 parser threads...\n",
      "2022-03-14 16:49:31,052 - INFO - icrawler.crawler - starting 4 downloader threads...\n",
      "2022-03-14 16:49:32,344 - INFO - parser - parsing result page https://www.google.com/search?q=truck&ijn=0&start=0&tbs=itp%3Aphoto%2Cisz%3Am%2Csur%3Afmc%2Ccdr%3A1%2Ccd_min%3A01%2F01%2F2019%2Ccd_max%3A12%2F30%2F2021&tbm=isch\n",
      "2022-03-14 16:49:32,715 - INFO - downloader - image #1\thttps://cdn.pixabay.com/photo/2020/07/30/07/24/truck-5449602_960_720.png\n",
      "2022-03-14 16:49:33,067 - INFO - downloader - image #2\thttps://freesvg.org/img/1528405729.png\n",
      "2022-03-14 16:49:33,379 - INFO - downloader - image #3\thttps://cdn.pixabay.com/photo/2018/07/27/15/35/pickup-truck-3566292_960_720.jpg\n",
      "2022-03-14 16:49:33,520 - INFO - downloader - image #4\thttps://c0.wallpaperflare.com/preview/1011/771/792/sunset-truck-american-transport-road.jpg\n",
      "2022-03-14 16:49:33,559 - INFO - downloader - image #5\thttps://live.staticflickr.com/1964/45219900791_e4e2ce46a4_b.jpg\n",
      "2022-03-14 16:49:33,683 - INFO - downloader - image #6\thttps://c1.wallpaperflare.com/preview/798/161/206/tir-way-truck-horse-transport.jpg\n",
      "2022-03-14 16:49:33,881 - ERROR - downloader - Response status code 404, file https://upload.wikimedia.org/wikipedia/commons/thumb/6/67/Pakistani_truck.jpg\n",
      "2022-03-14 16:49:34,023 - INFO - downloader - image #7\thttps://cdn.pixabay.com/photo/2020/04/23/14/52/truck-5082824_960_720.png\n",
      "2022-03-14 16:49:34,285 - ERROR - downloader - Response status code 404, file https://upload.wikimedia.org/wikipedia/commons/thumb/b/b2/JAC_truck_in_Belarus_2.jpg\n",
      "2022-03-14 16:49:34,483 - INFO - downloader - image #8\thttps://c0.wallpaperflare.com/preview/783/847/707/sunset-truck-american-light-traffic.jpg\n",
      "2022-03-14 16:49:34,976 - INFO - downloader - image #9\thttps://live.staticflickr.com/65535/49595163462_f9a7ce6b55_b.jpg\n",
      "2022-03-14 16:49:35,177 - INFO - downloader - image #10\thttps://freesvg.org/img/Truck%201.png\n",
      "2022-03-14 16:49:35,974 - INFO - downloader - image #11\thttps://upload.wikimedia.org/wikipedia/commons/7/71/Napier_Sabre_on_truck.png\n",
      "2022-03-14 16:49:36,082 - INFO - downloader - image #12\thttps://p0.pxfuel.com/preview/230/335/703/trucks-traffic-break-transport.jpg\n",
      "2022-03-14 16:49:36,113 - INFO - downloader - image #13\thttps://www.maxpixel.net/static/photo/1x/Vehicle-4wd-Uaz-452-Russian-Pickup-Truck-Truck-6073933.png\n",
      "2022-03-14 16:49:36,560 - INFO - downloader - image #14\thttps://i0.hippopx.com/photos/431/183/658/trucking-truck-logistics-preview.jpg\n",
      "2022-03-14 16:49:36,994 - INFO - downloader - image #15\thttps://p1.pxfuel.com/preview/582/331/699/truck-kamaz-trucks-technique-road-color.jpg\n",
      "2022-03-14 16:49:37,028 - INFO - downloader - image #16\thttps://p0.pikist.com/photos/468/183/truck-road-vehicle-snow-white-blue-lorry-transport-thumbnail.jpg\n",
      "2022-03-14 16:49:37,574 - INFO - downloader - image #17\thttps://www.nps.gov/deva/learn/news/images/Hay-truck-fire-5-960-pixels.jpg\n",
      "2022-03-14 16:49:37,704 - INFO - downloader - image #18\thttps://upload.wikimedia.org/wikipedia/commons/8/82/MACK_EHU%2C_5-ton%2C_4x2_truck%2C_COE_type_cab.jpg\n",
      "2022-03-14 16:49:38,125 - INFO - downloader - image #19\thttps://cdn.pixabay.com/photo/2014/04/02/10/44/truck-304383_960_720.png\n",
      "2022-03-14 16:49:38,830 - INFO - downloader - image #20\thttps://freesvg.org/img/pickup-1950.png\n",
      "2022-03-14 16:49:38,990 - INFO - downloader - image #21\thttps://p0.pikrepo.com/preview/485/665/teal-and-white-mercedesz-benz-trucks.jpg\n",
      "2022-03-14 16:49:39,061 - INFO - downloader - image #22\thttps://upload.wikimedia.org/wikipedia/commons/3/3a/Azam_Carrier_Truck.jpg\n",
      "2022-03-14 16:49:39,201 - INFO - downloader - image #23\thttps://live.staticflickr.com/65535/49128227208_17b0cfc968_b.jpg\n",
      "2022-03-14 16:49:39,811 - INFO - downloader - image #24\thttps://p0.pikist.com/photos/982/579/trucks-traffic-break-transport-truck-vehicle-usa-classic-chrome.jpg\n",
      "2022-03-14 16:49:40,340 - INFO - downloader - image #25\thttps://c1.wallpaperflare.com/preview/913/807/779/truck-old-historically-faun.jpg\n",
      "2022-03-14 16:49:40,523 - INFO - downloader - image #26\thttps://www.maxpixel.net/static/photo/1x/Vehicle-Transport-System-Auto-One-Road-Truck-3262360.jpg\n",
      "2022-03-14 16:49:40,530 - INFO - downloader - image #27\thttps://www.publicdomainpictures.net/pictures/10000/nahled/1-1256232931L11S.jpg\n",
      "2022-03-14 16:49:40,860 - INFO - downloader - image #28\thttps://cdn.pixabay.com/photo/2020/02/27/14/17/truck-4884779_960_720.png\n",
      "2022-03-14 16:49:41,286 - INFO - downloader - image #29\thttps://p1.pxfuel.com/preview/504/192/935/trucks-usa-automotive-american-vintage-oldtimer.jpg\n",
      "2022-03-14 16:49:41,716 - INFO - downloader - image #30\thttps://p0.piqsels.com/preview/137/519/792/truck-transportation-vehicle-machine.jpg\n",
      "2022-03-14 16:49:41,830 - INFO - downloader - image #31\thttps://www.maxpixel.net/static/photo/1x/Vehicle-Old-Transportation-Truck-Delivery-6028316.png\n",
      "2022-03-14 16:49:42,171 - INFO - downloader - image #32\thttps://www.publicdomainpictures.net/pictures/310000/nahled/vintage-blue-pickup-truck.jpg\n",
      "2022-03-14 16:49:42,335 - ERROR - downloader - Response status code 404, file https://upload.wikimedia.org/wikipedia/commons/thumb/a/a6/Truck_in_Minsk_with_a_garbage_container.jpg\n",
      "2022-03-14 16:49:42,616 - INFO - downloader - image #33\thttps://upload.wikimedia.org/wikipedia/commons/3/39/Truck.jpg\n",
      "2022-03-14 16:49:43,014 - INFO - downloader - image #34\thttps://publicdomainvectors.org/photos/Dump_truck.png\n",
      "2022-03-14 16:49:43,370 - INFO - downloader - image #35\thttps://live.staticflickr.com/1864/29893354607_ae27b1b2a9_b.jpg\n",
      "2022-03-14 16:49:43,611 - INFO - downloader - image #36\thttps://storage.needpix.com/rsynced_images/truck-2273911_1280.jpg\n",
      "2022-03-14 16:49:44,019 - INFO - downloader - image #37\thttps://publicdomainvectors.org/photos/truck_cistern.png\n",
      "2022-03-14 16:49:44,142 - INFO - downloader - image #38\thttps://pixnio.com/free-images/transportation-vehicles/trucks/special-truck-725x483.jpg\n",
      "2022-03-14 16:49:44,518 - INFO - downloader - image #39\thttps://pixnio.com/free-images/transportation-vehicles/trucks/garbage-truck-725x544.jpg\n",
      "2022-03-14 16:49:44,716 - INFO - downloader - image #40\thttps://p0.pikist.com/photos/956/698/pickup-truck-antique-country-boys-vintage-pickup-truck-vehicle-classic-automobile.jpg\n",
      "2022-03-14 16:49:45,144 - INFO - downloader - image #41\thttps://p0.pikrepo.com/preview/648/745/brown-single-cab-pickup-truck.jpg\n",
      "2022-03-14 16:49:45,441 - INFO - downloader - image #42\thttps://www.maxpixel.net/static/photo/1x/Pickup-Truck-Old-Truck-Old-Truck-Classic-Pickup-4215684.jpg\n",
      "2022-03-14 16:49:45,805 - INFO - downloader - image #43\thttps://c1.wallpaperflare.com/preview/655/62/430/canada-truck-road.jpg\n",
      "2022-03-14 16:49:45,953 - INFO - downloader - image #44\thttps://freesvg.org/img/FX13_truckgrey.png\n",
      "2022-03-14 16:49:46,461 - ERROR - downloader - Response status code 404, file https://upload.wikimedia.org/wikipedia/commons/thumb/7/7d/MAN_truck_in_Belarus_1.jpg\n",
      "2022-03-14 16:49:46,743 - INFO - downloader - image #45\thttps://www.publicdomainpictures.net/pictures/380000/nahled/pickup-truck-1604536063stb.jpg\n",
      "2022-03-14 16:49:47,209 - INFO - downloader - image #46\thttps://p1.piqsels.com/preview/994/433/211/vehicle-transport-automobile-truck-truck-truck-parking.jpg\n",
      "2022-03-14 16:49:47,243 - INFO - downloader - image #47\thttps://storage.needpix.com/rsynced_images/truck-1915254_1280.png\n",
      "2022-03-14 16:49:47,604 - INFO - downloader - image #48\thttps://p1.pxfuel.com/preview/143/411/774/canada-trucks-truck.jpg\n",
      "2022-03-14 16:49:48,065 - INFO - downloader - image #49\thttps://upload.wikimedia.org/wikipedia/commons/e/e1/Electric-Pedestrian-Platform-Truck.jpg\n",
      "2022-03-14 16:49:48,391 - INFO - downloader - image #50\thttps://cdn.pixabay.com/photo/2021/05/13/09/29/chevrolet-6250361_960_720.png\n",
      "2022-03-14 16:49:48,641 - INFO - downloader - image #51\thttps://live.staticflickr.com/2411/1642523478_7242d94a72_b.jpg\n",
      "2022-03-14 16:49:48,708 - INFO - downloader - image #52\thttps://www.maxpixel.net/static/photo/1x/Fire-Truck-Ladder-Truck-Fire-Engine-3559775.jpg\n",
      "2022-03-14 16:49:49,232 - INFO - downloader - image #53\thttps://p0.pikist.com/photos/595/222/trucks-night-truck-dark-transportation-vehicle-the-car.jpg\n",
      "2022-03-14 16:49:49,695 - INFO - downloader - image #54\thttps://freesvg.org/img/lorry-grocery-epa.png\n",
      "2022-03-14 16:49:49,854 - INFO - downloader - image #55\thttps://publicdomainvectors.org/photos/Truck.png\n",
      "2022-03-14 16:49:50,071 - INFO - downloader - image #56\thttps://p2.piqsels.com/preview/324/844/35/truck-vehicle-trailer-long.jpg\n",
      "2022-03-14 16:49:50,207 - ERROR - downloader - Response status code 404, file https://upload.wikimedia.org/wikipedia/commons/thumb/9/98/Truck_008.jpg\n",
      "2022-03-14 16:49:50,370 - INFO - downloader - image #57\thttps://www.maxpixel.net/static/photo/1x/Pickup-Truck-Car-Truck-Vehicle-Delivery-Plants-7002807.jpg\n",
      "2022-03-14 16:49:50,843 - INFO - downloader - image #58\thttps://p2.pikrepo.com/preview/275/615/gray-and-white-delivery-truck.jpg\n",
      "2022-03-14 16:49:51,228 - INFO - downloader - image #59\thttps://p1.pxfuel.com/preview/253/601/266/truck-transport-american-vehicle-traffic-parking.jpg\n",
      "2022-03-14 16:49:51,620 - INFO - downloader - image #60\thttps://upload.wikimedia.org/wikipedia/commons/d/de/DodgeWC-59_telephone_truck.jpg\n",
      "2022-03-14 16:49:51,760 - INFO - downloader - image #61\thttps://www.publicdomainpictures.net/pictures/380000/nahled/mrcedes-benz-pickup-truck.jpg\n",
      "2022-03-14 16:49:52,091 - INFO - downloader - image #62\thttps://c1.wallpaperflare.com/preview/434/254/437/truck-transport-american-white-road-highway.jpg\n",
      "2022-03-14 16:49:52,120 - INFO - downloader - image #63\thttps://s0.geograph.org.uk/geophotos/06/94/23/6942315_5d29314b.jpg\n",
      "2022-03-14 16:49:52,518 - INFO - downloader - image #64\thttps://live.staticflickr.com/1901/43775908980_2e98938b08_b.jpg\n",
      "2022-03-14 16:49:52,762 - INFO - downloader - image #65\thttps://publicdomainvectors.org/photos/logistics-shipping-publicdomain.jpg\n",
      "2022-03-14 16:49:52,959 - INFO - downloader - image #66\thttps://p0.pikist.com/photos/237/66/old-truck-diesel-truck-industry-cargo-freight-vintage-transport-truck-vehicle.jpg\n",
      "2022-03-14 16:49:53,349 - INFO - downloader - image #67\thttps://www.maxpixel.net/static/photo/1x/Firefighter-Vehicle-Fire-Truck-Historically-Old-1537269.jpg\n",
      "2022-03-14 16:49:53,751 - ERROR - downloader - Response status code 404, file https://upload.wikimedia.org/wikipedia/commons/thumb/8/80/MAZ-5516_dump_truck_in_Belarus_09.jpg\n",
      "2022-03-14 16:49:53,957 - INFO - downloader - image #68\thttps://p0.pikrepo.com/preview/947/165/vintage-brown-single-cab-pickup-truck.jpg\n",
      "2022-03-14 16:49:54,075 - INFO - downloader - image #69\thttps://georgewbush-whitehouse.archives.gov/news/releases/2002/08/images/20020809-1_ranch8-515h.jpg\n",
      "2022-03-14 16:49:54,606 - INFO - downloader - image #70\thttps://api.army.mil/e2/c/images/2021/09/22/ddf20d6d/size1.jpg\n",
      "2022-03-14 16:49:54,851 - INFO - downloader - image #71\thttps://p2.piqsels.com/preview/183/152/927/toy-truck-antique-collectible.jpg\n",
      "2022-03-14 16:49:54,964 - INFO - downloader - image #72\thttps://freesvg.org/img/1503431523.png\n",
      "2022-03-14 16:49:55,004 - INFO - downloader - image #73\thttps://cdn.pixabay.com/photo/2022/01/18/15/34/pickup-truck-6947296_960_720.jpg\n",
      "2022-03-14 16:49:55,803 - INFO - downloader - image #74\thttps://c1.wallpaperflare.com/preview/417/885/276/truck-vehicle-sunset-sunrise.jpg\n",
      "2022-03-14 16:49:56,046 - INFO - parser - parsing result page https://www.google.com/search?q=truck&ijn=1&start=100&tbs=itp%3Aphoto%2Cisz%3Am%2Csur%3Afmc%2Ccdr%3A1%2Ccd_min%3A01%2F01%2F2019%2Ccd_max%3A12%2F30%2F2021&tbm=isch\n",
      "2022-03-14 16:49:56,073 - INFO - downloader - image #75\thttps://p1.pxfuel.com/preview/370/580/842/truck-vehicle-transportation-system-haul-heavy-caterpillar.jpg\n",
      "2022-03-14 16:49:56,330 - INFO - downloader - image #76\thttps://www.maxpixel.net/static/photo/1x/Countryside-Rural-Lorry-Vehicle-Car-Old-Truck-2438713.jpg\n",
      "2022-03-14 16:49:56,599 - INFO - downloader - image #77\thttps://s0.geograph.org.uk/geophotos/06/78/12/6781218_61040946.jpg\n",
      "2022-03-14 16:49:56,721 - INFO - downloader - image #78\thttps://www.publicdomainpictures.net/pictures/300000/nahled/fire-truck-1556542885GdD.jpg\n",
      "2022-03-14 16:49:56,774 - INFO - downloader - image #79\thttps://pixnio.com/free-images/transportation-vehicles/trucks/buses-truck-725x544.jpg\n",
      "2022-03-14 16:49:56,971 - INFO - parser - parsing result page https://www.google.com/search?q=truck&ijn=2&start=200&tbs=itp%3Aphoto%2Cisz%3Am%2Csur%3Afmc%2Ccdr%3A1%2Ccd_min%3A01%2F01%2F2019%2Ccd_max%3A12%2F30%2F2021&tbm=isch\n",
      "2022-03-14 16:49:57,567 - INFO - downloader - image #80\thttps://publicdomainvectors.org/photos/cyberscooty_cartoon-truck.png\n",
      "2022-03-14 16:49:57,868 - INFO - parser - parsing result page https://www.google.com/search?q=truck&ijn=3&start=300&tbs=itp%3Aphoto%2Cisz%3Am%2Csur%3Afmc%2Ccdr%3A1%2Ccd_min%3A01%2F01%2F2019%2Ccd_max%3A12%2F30%2F2021&tbm=isch\n",
      "2022-03-14 16:49:57,903 - INFO - feeder - thread feeder-001 exit\n",
      "2022-03-14 16:49:58,809 - INFO - parser - parsing result page https://www.google.com/search?q=truck&ijn=4&start=400&tbs=itp%3Aphoto%2Cisz%3Am%2Csur%3Afmc%2Ccdr%3A1%2Ccd_min%3A01%2F01%2F2019%2Ccd_max%3A12%2F30%2F2021&tbm=isch\n",
      "2022-03-14 16:50:00,010 - INFO - parser - parsing result page https://www.google.com/search?q=truck&ijn=5&start=500&tbs=itp%3Aphoto%2Cisz%3Am%2Csur%3Afmc%2Ccdr%3A1%2Ccd_min%3A01%2F01%2F2019%2Ccd_max%3A12%2F30%2F2021&tbm=isch\n",
      "2022-03-14 16:50:01,172 - INFO - downloader - image #81\thttps://p0.pikist.com/photos/510/252/trucks-usa-automotive-american-vintage-oldtimer-truck-old.jpg\n",
      "2022-03-14 16:50:01,184 - INFO - downloader - image #82\thttps://p0.pikrepo.com/preview/199/730/black-crew-cab-pickup-truck-on-brown-dirt-road-during-daytime.jpg\n",
      "2022-03-14 16:50:01,259 - INFO - downloader - image #83\thttps://c2.peakpx.com/wallpaper/508/747/810/truck-lorry-container-cargo-freight-wallpaper-preview.jpg\n",
      "2022-03-14 16:50:01,821 - ERROR - downloader - Response status code 404, file https://upload.wikimedia.org/wikipedia/commons/thumb/3/3b/Osaka_Auto_Messe_2022_%28107%29_-_Daihatsu_Hijet_Cab_Truck_%28S35P%29.jpg\n",
      "2022-03-14 16:50:01,953 - INFO - downloader - image #84\thttps://i2.pickpik.com/photos/186/1013/115/truck-vehicle-travel-semi-preview.jpg\n",
      "2022-03-14 16:50:02,000 - INFO - downloader - image #85\thttps://p1.pxfuel.com/preview/697/189/78/truck-transport-trailer-blue-chrome-america.jpg\n",
      "2022-03-14 16:50:02,776 - INFO - downloader - image #86\thttps://p0.pikist.com/photos/749/245/pickup-truck-blue-toy-transportation-vehicle-transport-auto-wheel.jpg\n",
      "2022-03-14 16:50:03,103 - ERROR - downloader - Response status code 404, file https://upload.wikimedia.org/wikipedia/commons/thumb/a/aa/JAC_truck_in_Belarus_1.jpg\n",
      "2022-03-14 16:50:03,113 - INFO - downloader - image #87\thttps://p0.pikrepo.com/preview/123/448/white-and-yellow-truck-on-brown-sand-during-daytime.jpg\n",
      "2022-03-14 16:50:03,118 - INFO - downloader - image #88\thttps://c0.wallpaperflare.com/preview/1013/205/186/truck-american-transport-classical.jpg\n",
      "2022-03-14 16:50:03,194 - INFO - downloader - image #89\thttps://p0.piqsels.com/preview/321/351/828/semi-truck-big-rig-transportation-truck.jpg\n",
      "2022-03-14 16:50:04,192 - INFO - downloader - image #90\thttps://c0.wallpaperflare.com/preview/603/845/241/truck-europe-vehicle-outdoor.jpg\n",
      "2022-03-14 16:50:04,321 - INFO - downloader - image #91\thttps://c1.peakpx.com/wallpaper/491/368/877/lifeguard-truck-beach-sand-wallpaper-preview.jpg\n",
      "2022-03-14 16:50:04,372 - INFO - downloader - image #92\thttps://cdn.pixabay.com/photo/2021/02/05/18/22/fire-truck-5985492_960_720.png\n",
      "2022-03-14 16:50:04,651 - ERROR - downloader - Response status code 404, file https://upload.wikimedia.org/wikipedia/commons/thumb/3/32/Iveco_truck_in_Minsk_1.jpg\n",
      "2022-03-14 16:50:05,222 - INFO - downloader - image #93\thttps://p0.pikist.com/photos/737/951/transport-automobile-vehicle-truck-parking-truck-truck-america-truck-american-chrome.jpg\n",
      "2022-03-14 16:50:05,282 - INFO - downloader - image #94\thttps://upload.wikimedia.org/wikipedia/commons/2/2b/Truck_crane.jpg\n",
      "2022-03-14 16:50:05,430 - INFO - downloader - image #95\thttps://storage.needpix.com/rsynced_images/truck-1184455_1280.jpg\n",
      "2022-03-14 16:50:05,662 - INFO - downloader - image #96\thttps://live.staticflickr.com/8658/16677855782_b26ef7b5f3_b.jpg\n",
      "2022-03-14 16:50:06,477 - INFO - downloader - image #97\thttps://p0.pikrepo.com/preview/547/152/black-crew-cab-pickup-truck-on-brown-field-during-daytime.jpg\n",
      "2022-03-14 16:50:06,479 - ERROR - downloader - Response status code 404, file https://upload.wikimedia.org/wikipedia/commons/thumb/8/87/White_pickup_truck_in_kebbi.jpg\n",
      "2022-03-14 16:50:06,805 - INFO - downloader - image #98\thttps://cdn.pixabay.com/photo/2020/09/22/22/37/truck-5594469_960_720.jpg\n",
      "2022-03-14 16:50:07,005 - INFO - downloader - image #99\thttps://c1.wallpaperflare.com/preview/363/142/514/dump-truck-vehicle-transportation-system-car-truck-work.jpg\n",
      "2022-03-14 16:50:07,103 - INFO - downloader - image #100\thttps://www.maxpixel.net/static/photo/1x/Tanker-Auto-Vehicle-Gasoline-Fuel-Truck-Diesel-5291980.jpg\n",
      "2022-03-14 16:50:07,203 - ERROR - downloader - Response status code 404, file https://upload.wikimedia.org/wikipedia/commons/thumb/2/20/M_Way%27s_%22Princess_Amy%22_-_Renault_T-Truck_%28cropped%29.jpg\n",
      "2022-03-14 16:50:07,593 - INFO - downloader - image #101\thttps://live.staticflickr.com/65535/50738565482_11fbb6eff3_b.jpg\n",
      "2022-03-14 16:50:08,319 - INFO - downloader - image #102\thttps://p2.piqsels.com/preview/821/72/9/truck-truck-transport-america-freight-transportation.jpg\n",
      "2022-03-14 16:50:08,400 - INFO - downloader - image #103\thttps://p0.pikrepo.com/preview/540/914/gray-chevrolet-crew-cab-pickup-truck-on-brown-field-during-daytime.jpg\n",
      "2022-03-14 16:50:08,451 - INFO - downloader - image #104\thttps://www.publicdomainpictures.net/pictures/130000/nahled/truck-1436386427Wtt.jpg\n",
      "2022-03-14 16:50:08,778 - INFO - downloader - image #105\thttps://p1.pxfuel.com/preview/623/731/695/old-car-rusty-truck.jpg\n",
      "2022-03-14 16:50:09,339 - INFO - parser - parsing result page https://www.google.com/search?q=truck&ijn=6&start=600&tbs=itp%3Aphoto%2Cisz%3Am%2Csur%3Afmc%2Ccdr%3A1%2Ccd_min%3A01%2F01%2F2019%2Ccd_max%3A12%2F30%2F2021&tbm=isch\n",
      "2022-03-14 16:50:09,483 - INFO - downloader - image #106\thttps://p0.pikist.com/photos/840/864/toy-truck-vehicle-tonka-toy-auto-automobile-play-transport-lorry.jpg\n",
      "2022-03-14 16:50:09,540 - INFO - downloader - image #107\thttps://c1.wallpaperflare.com/preview/167/470/374/old-truck-diesel-truck-industry-cargo.jpg\n",
      "2022-03-14 16:50:09,687 - INFO - downloader - image #108\thttps://www.maxpixel.net/static/photo/1x/Vehicle-Classical-Transport-American-Truck-Traffic-4068463.jpg\n",
      "2022-03-14 16:50:09,904 - INFO - downloader - image #109\thttps://upload.wikimedia.org/wikipedia/commons/b/bb/Iveco_truck_%28HV%29.jpg\n",
      "2022-03-14 16:50:10,115 - INFO - downloader - image #110\thttps://freesvg.org/img/cyberscooty-truck.png\n",
      "2022-03-14 16:50:10,143 - INFO - parser - parsing result page https://www.google.com/search?q=truck&ijn=7&start=700&tbs=itp%3Aphoto%2Cisz%3Am%2Csur%3Afmc%2Ccdr%3A1%2Ccd_min%3A01%2F01%2F2019%2Ccd_max%3A12%2F30%2F2021&tbm=isch\n",
      "2022-03-14 16:50:10,947 - INFO - parser - parsing result page https://www.google.com/search?q=truck&ijn=8&start=800&tbs=itp%3Aphoto%2Cisz%3Am%2Csur%3Afmc%2Ccdr%3A1%2Ccd_min%3A01%2F01%2F2019%2Ccd_max%3A12%2F30%2F2021&tbm=isch\n",
      "2022-03-14 16:50:11,722 - INFO - parser - parsing result page https://www.google.com/search?q=truck&ijn=9&start=900&tbs=itp%3Aphoto%2Cisz%3Am%2Csur%3Afmc%2Ccdr%3A1%2Ccd_min%3A01%2F01%2F2019%2Ccd_max%3A12%2F30%2F2021&tbm=isch\n",
      "2022-03-14 16:50:13,754 - INFO - parser - no more page urls for thread parser-001 to parse\n",
      "2022-03-14 16:50:13,754 - INFO - parser - thread parser-001 exit\n",
      "2022-03-14 16:50:14,689 - INFO - downloader - no more download task for thread downloader-001\n",
      "2022-03-14 16:50:14,689 - INFO - downloader - thread downloader-001 exit\n",
      "2022-03-14 16:50:14,906 - INFO - downloader - no more download task for thread downloader-003\n",
      "2022-03-14 16:50:14,906 - INFO - downloader - thread downloader-003 exit\n",
      "2022-03-14 16:50:15,117 - INFO - downloader - no more download task for thread downloader-004\n",
      "2022-03-14 16:50:15,117 - INFO - downloader - thread downloader-004 exit\n",
      "2022-03-14 16:50:15,161 - INFO - downloader - no more download task for thread downloader-002\n",
      "2022-03-14 16:50:15,161 - INFO - downloader - thread downloader-002 exit\n",
      "2022-03-14 16:50:16,078 - INFO - icrawler.crawler - Crawling task done!\n"
     ]
    }
   ],
   "source": [
    "### image crawling from google with GoogleImageCrawler\n",
    "google_crawler = GoogleImageCrawler(\n",
    "    feeder_threads=1,\n",
    "    parser_threads=1,\n",
    "    downloader_threads=4,\n",
    "    storage={'root_dir': 'E:/RESEARCH/Datasets/image/CIFAR_PUB/truck'}) #set the storage root\n",
    "\n",
    "filters = dict(\n",
    "    type='photo',\n",
    "    #type=photo,face,clipart,linedrawing,animated\n",
    "    size='medium',\n",
    "    #size=large, medium, icon, or larger than a given size e.g.\">640x480\" or exactly giving size\"=1024x768\n",
    "#     color='orange',\n",
    "    #coler=blackandwhite, red, oragne, yellow, green, teal, blue, purple, pink, white, gray, black, brown\n",
    "    license='commercial,modify',\n",
    "    #license=noncommercial, commercial, noncommercial,modify , commercial,modify\n",
    "    date=((2019, 1, 1), (2021, 12, 30)))\n",
    "\n",
    "# type the keyword of the image that you want to crawl from google\n",
    "google_crawler.crawl(keyword='truck', filters=filters, offset=0, max_num=1000,\n",
    "                     min_size=(200,200), max_size=None, file_idx_offset=0)"
   ]
  },
  {
   "cell_type": "code",
   "execution_count": null,
   "id": "0ec38d9f-4908-4d5c-a3c5-40411097d9c1",
   "metadata": {
    "tags": []
   },
   "outputs": [],
   "source": [
    "### image crawling from google with GoogleImageCrawler\n",
    "google_crawler = GoogleImageCrawler(\n",
    "    feeder_threads=1,\n",
    "    parser_threads=1,\n",
    "    downloader_threads=4,\n",
    "    storage={'root_dir': 'E:/RESEARCH/Datasets/HRV/crawl_test'}) #set the storage root\n",
    "\n",
    "filters = dict(\n",
    "    #type=photo,face,clipart,linedrawing,animated\n",
    "    size='large',\n",
    "    #size=large, medium, icon, or larger than a given size e.g.\">640x480\" or exactly giving size\"=1024x768\n",
    "    color='blackandwhite',\n",
    "    #coler=blackandwhite, red, oragne, yellow, green, teal, blue, purple, pink, white, gray, black, brown\n",
    "    license='commercial,modify',\n",
    "    #license=noncommercial, commercial, noncommercial,modify , commercial,modify\n",
    "    date=((2021, 1, 1), (2021, 12, 30)))\n",
    "\n",
    "# type the keyword of the image that you want to crawl from google\n",
    "google_crawler.crawl(keyword='lung ct', filters=filters, offset=0, max_num=1000,\n",
    "                     min_size=(200,200), max_size=None, file_idx_offset=0)"
   ]
  },
  {
   "cell_type": "code",
   "execution_count": null,
   "id": "367f0166-9a42-4a00-86e7-8271ca7d71b9",
   "metadata": {},
   "outputs": [],
   "source": []
  },
  {
   "cell_type": "code",
   "execution_count": null,
   "id": "0442771a-ff68-4ebe-b255-845dea0c4d6f",
   "metadata": {},
   "outputs": [],
   "source": []
  },
  {
   "cell_type": "code",
   "execution_count": null,
   "id": "2d24b406-8dec-4f4b-bcad-2e965b34d93d",
   "metadata": {},
   "outputs": [],
   "source": []
  },
  {
   "cell_type": "markdown",
   "id": "49b3b93b-0eae-4f6d-927a-97b64e7c0d52",
   "metadata": {},
   "source": [
    "### 2-2) Getting Numerical Data"
   ]
  },
  {
   "cell_type": "markdown",
   "id": "03c06a71-f1b9-4453-bf75-11e92f6d9812",
   "metadata": {},
   "source": [
    "maybe from kaggle, google, or uci machine learning dataset"
   ]
  },
  {
   "cell_type": "code",
   "execution_count": 13,
   "id": "117ad1f2-8f4b-404e-9618-0f83b5801f2e",
   "metadata": {},
   "outputs": [],
   "source": [
    "### In our medical case, we adopt HRV dataset from SWEEL HRV research\n",
    "### Using public data must be very careful, and researchers should only use them for training data supplement.\n",
    "\n",
    "public = pd.read_csv('E:/RESEARCH/Datasets/HRV/HRV_Public/SWELL_hrv/data/final/train.csv', sep=',')"
   ]
  },
  {
   "cell_type": "code",
   "execution_count": 14,
   "id": "3e9ed78e-ce72-4346-b7e0-cd01af236a14",
   "metadata": {},
   "outputs": [
    {
     "name": "stdout",
     "output_type": "stream",
     "text": [
      "(369289, 36)\n",
      "Index(['MEAN_RR', 'MEDIAN_RR', 'SDRR', 'RMSSD', 'SDSD', 'SDRR_RMSSD', 'HR',\n",
      "       'pNN25', 'PNN50', 'SD1', 'SD2', 'KURT', 'SKEW', 'MEAN_REL_RR',\n",
      "       'MEDIAN_REL_RR', 'SDRR_REL_RR', 'RMSSD_REL_RR', 'SDSD_REL_RR',\n",
      "       'SDRR_RMSSD_REL_RR', 'KURT_REL_RR', 'SKEW_REL_RR', 'VLF', 'VLF_PCT',\n",
      "       'LF', 'LF_PCT', 'LF_NU', 'HF', 'HF_PCT', 'HF_NU', 'TP', 'LF_HF',\n",
      "       'HF_LF', 'sampen', 'higuci', 'datasetId', 'condition'],\n",
      "      dtype='object')\n"
     ]
    },
    {
     "data": {
      "text/html": [
       "<div>\n",
       "<style scoped>\n",
       "    .dataframe tbody tr th:only-of-type {\n",
       "        vertical-align: middle;\n",
       "    }\n",
       "\n",
       "    .dataframe tbody tr th {\n",
       "        vertical-align: top;\n",
       "    }\n",
       "\n",
       "    .dataframe thead th {\n",
       "        text-align: right;\n",
       "    }\n",
       "</style>\n",
       "<table border=\"1\" class=\"dataframe\">\n",
       "  <thead>\n",
       "    <tr style=\"text-align: right;\">\n",
       "      <th></th>\n",
       "      <th>MEAN_RR</th>\n",
       "      <th>MEDIAN_RR</th>\n",
       "      <th>SDRR</th>\n",
       "      <th>RMSSD</th>\n",
       "      <th>SDSD</th>\n",
       "      <th>SDRR_RMSSD</th>\n",
       "      <th>HR</th>\n",
       "      <th>pNN25</th>\n",
       "      <th>PNN50</th>\n",
       "      <th>SD1</th>\n",
       "      <th>...</th>\n",
       "      <th>HF</th>\n",
       "      <th>HF_PCT</th>\n",
       "      <th>HF_NU</th>\n",
       "      <th>TP</th>\n",
       "      <th>LF_HF</th>\n",
       "      <th>HF_LF</th>\n",
       "      <th>sampen</th>\n",
       "      <th>higuci</th>\n",
       "      <th>datasetId</th>\n",
       "      <th>condition</th>\n",
       "    </tr>\n",
       "  </thead>\n",
       "  <tbody>\n",
       "    <tr>\n",
       "      <th>0</th>\n",
       "      <td>885.157845</td>\n",
       "      <td>853.763730</td>\n",
       "      <td>140.972741</td>\n",
       "      <td>15.554505</td>\n",
       "      <td>15.553371</td>\n",
       "      <td>9.063146</td>\n",
       "      <td>69.499952</td>\n",
       "      <td>11.133333</td>\n",
       "      <td>0.533333</td>\n",
       "      <td>11.001565</td>\n",
       "      <td>...</td>\n",
       "      <td>15.522602</td>\n",
       "      <td>0.421047</td>\n",
       "      <td>1.514737</td>\n",
       "      <td>3686.666157</td>\n",
       "      <td>65.018055</td>\n",
       "      <td>0.015380</td>\n",
       "      <td>2.139754</td>\n",
       "      <td>1.163485</td>\n",
       "      <td>2</td>\n",
       "      <td>no stress</td>\n",
       "    </tr>\n",
       "    <tr>\n",
       "      <th>1</th>\n",
       "      <td>939.425371</td>\n",
       "      <td>948.357865</td>\n",
       "      <td>81.317742</td>\n",
       "      <td>12.964439</td>\n",
       "      <td>12.964195</td>\n",
       "      <td>6.272369</td>\n",
       "      <td>64.363150</td>\n",
       "      <td>5.600000</td>\n",
       "      <td>0.000000</td>\n",
       "      <td>9.170129</td>\n",
       "      <td>...</td>\n",
       "      <td>2.108525</td>\n",
       "      <td>0.070133</td>\n",
       "      <td>0.304603</td>\n",
       "      <td>3006.487251</td>\n",
       "      <td>327.296635</td>\n",
       "      <td>0.003055</td>\n",
       "      <td>2.174499</td>\n",
       "      <td>1.084711</td>\n",
       "      <td>2</td>\n",
       "      <td>interruption</td>\n",
       "    </tr>\n",
       "    <tr>\n",
       "      <th>2</th>\n",
       "      <td>898.186047</td>\n",
       "      <td>907.006860</td>\n",
       "      <td>84.497236</td>\n",
       "      <td>16.305279</td>\n",
       "      <td>16.305274</td>\n",
       "      <td>5.182201</td>\n",
       "      <td>67.450066</td>\n",
       "      <td>13.066667</td>\n",
       "      <td>0.200000</td>\n",
       "      <td>11.533417</td>\n",
       "      <td>...</td>\n",
       "      <td>13.769729</td>\n",
       "      <td>0.512671</td>\n",
       "      <td>1.049528</td>\n",
       "      <td>2685.879461</td>\n",
       "      <td>94.280910</td>\n",
       "      <td>0.010607</td>\n",
       "      <td>2.135350</td>\n",
       "      <td>1.176315</td>\n",
       "      <td>2</td>\n",
       "      <td>interruption</td>\n",
       "    </tr>\n",
       "    <tr>\n",
       "      <th>3</th>\n",
       "      <td>881.757864</td>\n",
       "      <td>893.460030</td>\n",
       "      <td>90.370537</td>\n",
       "      <td>15.720468</td>\n",
       "      <td>15.720068</td>\n",
       "      <td>5.748591</td>\n",
       "      <td>68.809562</td>\n",
       "      <td>11.800000</td>\n",
       "      <td>0.133333</td>\n",
       "      <td>11.119476</td>\n",
       "      <td>...</td>\n",
       "      <td>18.181913</td>\n",
       "      <td>0.529387</td>\n",
       "      <td>1.775294</td>\n",
       "      <td>3434.520980</td>\n",
       "      <td>55.328701</td>\n",
       "      <td>0.018074</td>\n",
       "      <td>2.178341</td>\n",
       "      <td>1.179688</td>\n",
       "      <td>2</td>\n",
       "      <td>no stress</td>\n",
       "    </tr>\n",
       "    <tr>\n",
       "      <th>4</th>\n",
       "      <td>809.625331</td>\n",
       "      <td>811.184865</td>\n",
       "      <td>62.766242</td>\n",
       "      <td>19.213819</td>\n",
       "      <td>19.213657</td>\n",
       "      <td>3.266724</td>\n",
       "      <td>74.565728</td>\n",
       "      <td>20.200000</td>\n",
       "      <td>0.200000</td>\n",
       "      <td>13.590641</td>\n",
       "      <td>...</td>\n",
       "      <td>48.215822</td>\n",
       "      <td>1.839473</td>\n",
       "      <td>3.279993</td>\n",
       "      <td>2621.175204</td>\n",
       "      <td>29.487873</td>\n",
       "      <td>0.033912</td>\n",
       "      <td>2.221121</td>\n",
       "      <td>1.249612</td>\n",
       "      <td>2</td>\n",
       "      <td>no stress</td>\n",
       "    </tr>\n",
       "  </tbody>\n",
       "</table>\n",
       "<p>5 rows × 36 columns</p>\n",
       "</div>"
      ],
      "text/plain": [
       "      MEAN_RR   MEDIAN_RR        SDRR      RMSSD       SDSD  SDRR_RMSSD  \\\n",
       "0  885.157845  853.763730  140.972741  15.554505  15.553371    9.063146   \n",
       "1  939.425371  948.357865   81.317742  12.964439  12.964195    6.272369   \n",
       "2  898.186047  907.006860   84.497236  16.305279  16.305274    5.182201   \n",
       "3  881.757864  893.460030   90.370537  15.720468  15.720068    5.748591   \n",
       "4  809.625331  811.184865   62.766242  19.213819  19.213657    3.266724   \n",
       "\n",
       "          HR      pNN25     PNN50        SD1  ...         HF    HF_PCT  \\\n",
       "0  69.499952  11.133333  0.533333  11.001565  ...  15.522602  0.421047   \n",
       "1  64.363150   5.600000  0.000000   9.170129  ...   2.108525  0.070133   \n",
       "2  67.450066  13.066667  0.200000  11.533417  ...  13.769729  0.512671   \n",
       "3  68.809562  11.800000  0.133333  11.119476  ...  18.181913  0.529387   \n",
       "4  74.565728  20.200000  0.200000  13.590641  ...  48.215822  1.839473   \n",
       "\n",
       "      HF_NU           TP       LF_HF     HF_LF    sampen    higuci  datasetId  \\\n",
       "0  1.514737  3686.666157   65.018055  0.015380  2.139754  1.163485          2   \n",
       "1  0.304603  3006.487251  327.296635  0.003055  2.174499  1.084711          2   \n",
       "2  1.049528  2685.879461   94.280910  0.010607  2.135350  1.176315          2   \n",
       "3  1.775294  3434.520980   55.328701  0.018074  2.178341  1.179688          2   \n",
       "4  3.279993  2621.175204   29.487873  0.033912  2.221121  1.249612          2   \n",
       "\n",
       "      condition  \n",
       "0     no stress  \n",
       "1  interruption  \n",
       "2  interruption  \n",
       "3     no stress  \n",
       "4     no stress  \n",
       "\n",
       "[5 rows x 36 columns]"
      ]
     },
     "execution_count": 14,
     "metadata": {},
     "output_type": "execute_result"
    }
   ],
   "source": [
    "### data shape, variables check\n",
    "print(public.shape)\n",
    "print(public.columns)\n",
    "public.head()"
   ]
  },
  {
   "cell_type": "code",
   "execution_count": null,
   "id": "e1ed1400-cc37-4fce-974a-0c57c9d3d9a7",
   "metadata": {},
   "outputs": [],
   "source": []
  },
  {
   "cell_type": "markdown",
   "id": "3bfdead3-01c6-4126-9742-8b7f2ba930c0",
   "metadata": {},
   "source": [
    "- - -"
   ]
  },
  {
   "cell_type": "markdown",
   "id": "afee9128-b642-404a-89c1-cd17dfd8e2b0",
   "metadata": {},
   "source": [
    "* preprocess our data to fit into domain data"
   ]
  },
  {
   "cell_type": "code",
   "execution_count": 15,
   "id": "9b171441-8ff0-4965-bff6-1f7cb046edf7",
   "metadata": {},
   "outputs": [],
   "source": [
    "### set the variables same as domain dataset\n",
    "public_b = public[public['condition'] == 'no stress']\n",
    "public_s1 = public[public['condition'] == 'interruption']\n",
    "public_s2 = public[public['condition'] == 'time pressure']"
   ]
  },
  {
   "cell_type": "code",
   "execution_count": 16,
   "id": "5c997207-94be-469d-a24f-25bc13e1100e",
   "metadata": {},
   "outputs": [
    {
     "name": "stdout",
     "output_type": "stream",
     "text": [
      "(200082, 36)\n",
      "(105150, 36)\n",
      "(64057, 36)\n"
     ]
    }
   ],
   "source": [
    "### check the number of each phase dataset\n",
    "print(public_b.shape)\n",
    "print(public_s1.shape)\n",
    "print(public_s2.shape)"
   ]
  },
  {
   "cell_type": "code",
   "execution_count": 17,
   "id": "fec6d4b8-e955-4fba-b7ef-63043c617298",
   "metadata": {},
   "outputs": [],
   "source": [
    "### now select the common(repeated) variables from the domain data and save\n",
    "public = public.loc[:,['RMSSD', 'HR', 'PNN50', 'VLF', 'LF', 'HF', 'LF_HF']]\n",
    "public_b = public_b.loc[:,['RMSSD', 'HR', 'PNN50', 'VLF', 'LF', 'HF', 'LF_HF']]\n",
    "public_s1 = public_s1.loc[:,['RMSSD', 'HR', 'PNN50', 'VLF', 'LF', 'HF', 'LF_HF']]\n",
    "public_s2 = public_s2.loc[:,['RMSSD', 'HR', 'PNN50', 'VLF', 'LF', 'HF', 'LF_HF']]"
   ]
  },
  {
   "cell_type": "code",
   "execution_count": 23,
   "id": "acca644b-3242-48c1-ba3b-14e2af8f0cfb",
   "metadata": {},
   "outputs": [],
   "source": [
    "### standardization on supplemented dataset\n",
    "public_b[:] = scaler.fit_transform(public_b[:])\n",
    "public_s1[:] = scaler.fit_transform(public_s1[:])\n",
    "public_s2[:] = scaler.fit_transform(public_s2[:])"
   ]
  },
  {
   "cell_type": "code",
   "execution_count": 24,
   "id": "af3b31e9-efd7-47e6-9d24-797919f50fb3",
   "metadata": {},
   "outputs": [],
   "source": [
    "### round up the variable values for fifth decimal points\n",
    "public_b = public_b.round(decimals=5)\n",
    "public_s1 = public_s1.round(decimals=5)\n",
    "public_s2 = public_s2.round(decimals=5)"
   ]
  },
  {
   "cell_type": "markdown",
   "id": "f9998448-46dc-4b91-80f1-9c5b2073b928",
   "metadata": {},
   "source": [
    "- - -"
   ]
  },
  {
   "cell_type": "code",
   "execution_count": null,
   "id": "cf56f268-112a-46ea-923e-48e12a147f55",
   "metadata": {},
   "outputs": [],
   "source": []
  },
  {
   "cell_type": "code",
   "execution_count": null,
   "id": "9e63ca2d-9076-4418-908e-58c9c9c90d73",
   "metadata": {},
   "outputs": [],
   "source": []
  },
  {
   "cell_type": "markdown",
   "id": "9b52868f-f63b-4ff8-aed0-a3269d29cc3c",
   "metadata": {},
   "source": [
    "## 03. Data Filtering (1st)"
   ]
  },
  {
   "cell_type": "markdown",
   "id": "59596e02-ecf4-4d30-b944-41ebc22232f6",
   "metadata": {},
   "source": [
    "### 3-1) Data Mergence"
   ]
  },
  {
   "cell_type": "code",
   "execution_count": 46,
   "id": "c0c689c2-1134-4e77-9e4d-2dc2a87a3ba0",
   "metadata": {},
   "outputs": [
    {
     "name": "stdout",
     "output_type": "stream",
     "text": [
      "Shape of the domain dataset for the training is (479, 7)\n",
      "Shape of the public dataset for the training is (200082, 7)\n"
     ]
    }
   ],
   "source": [
    "### First select the data phase (maybe not necessary for some dataset)\n",
    "### Then, check the number of data in each domain and public dataset\n",
    "### Here we are going to use baseline phase\n",
    "\n",
    "print(\"Shape of the domain dataset for the training is\", domain_b1.shape)\n",
    "print(\"Shape of the public dataset for the training is\", public_b.shape)"
   ]
  },
  {
   "cell_type": "code",
   "execution_count": 48,
   "id": "1f547dec-d05f-4ce9-a299-464df9b27473",
   "metadata": {},
   "outputs": [
    {
     "name": "stdout",
     "output_type": "stream",
     "text": [
      "(479, 7)\n",
      "(1000, 7)\n"
     ]
    }
   ],
   "source": [
    "### select the proper amount of dataset for each\n",
    "domain_resized = domain_b1.sample(frac=1)\n",
    "public_resized = public_b.sample(n=700)\n",
    "print(domain_resized.shape)\n",
    "print(public_resized.shape)"
   ]
  },
  {
   "cell_type": "code",
   "execution_count": null,
   "id": "3235d8d5-4aa6-4c02-9ec6-02508d372576",
   "metadata": {},
   "outputs": [],
   "source": []
  },
  {
   "cell_type": "code",
   "execution_count": null,
   "id": "2b379d7b-d379-4297-bce0-6a05731aea34",
   "metadata": {},
   "outputs": [],
   "source": []
  },
  {
   "cell_type": "code",
   "execution_count": 49,
   "id": "d79d6b5b-9956-4139-935b-ab87e1421e0b",
   "metadata": {},
   "outputs": [],
   "source": [
    "training = pd.concat((domain_resized, public_resized))"
   ]
  },
  {
   "cell_type": "code",
   "execution_count": 50,
   "id": "b25d7600-03d5-47eb-bb84-b4ac14a276f3",
   "metadata": {},
   "outputs": [
    {
     "name": "stdout",
     "output_type": "stream",
     "text": [
      "Shape of the firstly augmented dataset for the training is (1479, 7)\n"
     ]
    }
   ],
   "source": [
    "### check the finalized first augmented dataset size/shape\n",
    "print(\"Shape of the firstly augmented dataset for the training is\", training.shape)"
   ]
  },
  {
   "cell_type": "code",
   "execution_count": 52,
   "id": "89721dd0-51ac-4710-bb6d-509191e65419",
   "metadata": {},
   "outputs": [
    {
     "data": {
      "text/html": [
       "<div>\n",
       "<style scoped>\n",
       "    .dataframe tbody tr th:only-of-type {\n",
       "        vertical-align: middle;\n",
       "    }\n",
       "\n",
       "    .dataframe tbody tr th {\n",
       "        vertical-align: top;\n",
       "    }\n",
       "\n",
       "    .dataframe thead th {\n",
       "        text-align: right;\n",
       "    }\n",
       "</style>\n",
       "<table border=\"1\" class=\"dataframe\">\n",
       "  <thead>\n",
       "    <tr style=\"text-align: right;\">\n",
       "      <th></th>\n",
       "      <th>RMSSD</th>\n",
       "      <th>HR</th>\n",
       "      <th>PNN50</th>\n",
       "      <th>VLF</th>\n",
       "      <th>LF</th>\n",
       "      <th>HF</th>\n",
       "      <th>LF_HF</th>\n",
       "    </tr>\n",
       "  </thead>\n",
       "  <tbody>\n",
       "    <tr>\n",
       "      <th>144</th>\n",
       "      <td>0.012220</td>\n",
       "      <td>0.310762</td>\n",
       "      <td>0.000000</td>\n",
       "      <td>0.000114</td>\n",
       "      <td>0.000040</td>\n",
       "      <td>0.000200</td>\n",
       "      <td>0.012848</td>\n",
       "    </tr>\n",
       "    <tr>\n",
       "      <th>288</th>\n",
       "      <td>0.021936</td>\n",
       "      <td>0.204645</td>\n",
       "      <td>0.000000</td>\n",
       "      <td>0.000616</td>\n",
       "      <td>0.000152</td>\n",
       "      <td>0.000558</td>\n",
       "      <td>0.017987</td>\n",
       "    </tr>\n",
       "    <tr>\n",
       "      <th>458</th>\n",
       "      <td>0.022482</td>\n",
       "      <td>0.199006</td>\n",
       "      <td>0.053191</td>\n",
       "      <td>0.000789</td>\n",
       "      <td>0.001259</td>\n",
       "      <td>0.000372</td>\n",
       "      <td>0.195978</td>\n",
       "    </tr>\n",
       "    <tr>\n",
       "      <th>275</th>\n",
       "      <td>0.037211</td>\n",
       "      <td>0.278394</td>\n",
       "      <td>0.079433</td>\n",
       "      <td>0.000580</td>\n",
       "      <td>0.000174</td>\n",
       "      <td>0.000806</td>\n",
       "      <td>0.012837</td>\n",
       "    </tr>\n",
       "    <tr>\n",
       "      <th>70</th>\n",
       "      <td>0.027051</td>\n",
       "      <td>0.339655</td>\n",
       "      <td>0.055319</td>\n",
       "      <td>0.001858</td>\n",
       "      <td>0.000939</td>\n",
       "      <td>0.001053</td>\n",
       "      <td>0.058309</td>\n",
       "    </tr>\n",
       "  </tbody>\n",
       "</table>\n",
       "</div>"
      ],
      "text/plain": [
       "        RMSSD        HR     PNN50       VLF        LF        HF     LF_HF\n",
       "144  0.012220  0.310762  0.000000  0.000114  0.000040  0.000200  0.012848\n",
       "288  0.021936  0.204645  0.000000  0.000616  0.000152  0.000558  0.017987\n",
       "458  0.022482  0.199006  0.053191  0.000789  0.001259  0.000372  0.195978\n",
       "275  0.037211  0.278394  0.079433  0.000580  0.000174  0.000806  0.012837\n",
       "70   0.027051  0.339655  0.055319  0.001858  0.000939  0.001053  0.058309"
      ]
     },
     "execution_count": 52,
     "metadata": {},
     "output_type": "execute_result"
    }
   ],
   "source": [
    "training.head()"
   ]
  },
  {
   "cell_type": "code",
   "execution_count": null,
   "id": "2f6f25bb-28e8-4524-8840-dc204a192b93",
   "metadata": {},
   "outputs": [],
   "source": []
  },
  {
   "cell_type": "markdown",
   "id": "1079424e-1603-4750-a0af-f5d448d95bee",
   "metadata": {},
   "source": [
    "## 04. Dimensionality Reduction"
   ]
  },
  {
   "cell_type": "code",
   "execution_count": null,
   "id": "7d06dda1-5746-4a35-87aa-b0c28b417ecf",
   "metadata": {},
   "outputs": [],
   "source": []
  },
  {
   "cell_type": "code",
   "execution_count": null,
   "id": "52ffe69f-99c3-47ea-b8a2-ddffe74c1783",
   "metadata": {},
   "outputs": [],
   "source": []
  },
  {
   "cell_type": "code",
   "execution_count": null,
   "id": "2326b640-359f-455e-bdcc-eb72acc8d45c",
   "metadata": {},
   "outputs": [],
   "source": []
  },
  {
   "cell_type": "code",
   "execution_count": null,
   "id": "9443be35-521b-4f24-b354-dca858d9f0f1",
   "metadata": {},
   "outputs": [],
   "source": []
  },
  {
   "cell_type": "code",
   "execution_count": null,
   "id": "b5d45e7c-dead-4018-8d3d-8cef9e9c99b8",
   "metadata": {},
   "outputs": [],
   "source": []
  },
  {
   "cell_type": "code",
   "execution_count": null,
   "id": "c47c56cb-51fd-4df5-a424-c3c6d693fe00",
   "metadata": {},
   "outputs": [],
   "source": []
  },
  {
   "cell_type": "code",
   "execution_count": null,
   "id": "b3d12fb9-714d-4891-832d-c8a63b7b4c4b",
   "metadata": {},
   "outputs": [],
   "source": []
  },
  {
   "cell_type": "code",
   "execution_count": null,
   "id": "d627fc38-9f6f-4d0c-9a93-548a89e6043a",
   "metadata": {},
   "outputs": [],
   "source": []
  },
  {
   "cell_type": "markdown",
   "id": "e9a46d5a-3621-4b0c-b6cf-d0b9fcb29f60",
   "metadata": {},
   "source": [
    "## 05. Data Clustering (SSL based)"
   ]
  },
  {
   "cell_type": "code",
   "execution_count": null,
   "id": "2bbc89da-fb0c-450a-8f90-ae0d573087e2",
   "metadata": {},
   "outputs": [],
   "source": []
  },
  {
   "cell_type": "code",
   "execution_count": null,
   "id": "1804656c-c8c8-499f-a7e1-192f9cc9bb39",
   "metadata": {},
   "outputs": [],
   "source": []
  },
  {
   "cell_type": "code",
   "execution_count": null,
   "id": "aca0588d-e2f1-44fa-ada4-0252b497e9f5",
   "metadata": {},
   "outputs": [],
   "source": []
  },
  {
   "cell_type": "code",
   "execution_count": null,
   "id": "71f41019-f813-4264-93c7-ebb6b7309f63",
   "metadata": {},
   "outputs": [],
   "source": []
  },
  {
   "cell_type": "code",
   "execution_count": null,
   "id": "255ce7b0-c126-4db1-bfcb-7a2b4addcd6a",
   "metadata": {},
   "outputs": [],
   "source": []
  },
  {
   "cell_type": "code",
   "execution_count": null,
   "id": "0ffe482e-f997-48fd-92c5-eb0b9e4c280a",
   "metadata": {},
   "outputs": [],
   "source": []
  },
  {
   "cell_type": "code",
   "execution_count": null,
   "id": "205d4d7a-6166-451c-98c9-c12c754f0e4a",
   "metadata": {},
   "outputs": [],
   "source": []
  },
  {
   "cell_type": "code",
   "execution_count": null,
   "id": "598f5452-9d79-4c4d-bcd9-0327357c0398",
   "metadata": {},
   "outputs": [],
   "source": []
  },
  {
   "cell_type": "markdown",
   "id": "18804fe6-b033-4230-b17f-54c4f1d4243d",
   "metadata": {},
   "source": [
    "## 06. Unlabeled data labeling"
   ]
  },
  {
   "cell_type": "code",
   "execution_count": null,
   "id": "1de72f66-6d64-4ebf-bb4c-eebd3a45adbe",
   "metadata": {},
   "outputs": [],
   "source": []
  },
  {
   "cell_type": "code",
   "execution_count": null,
   "id": "7f11a1d2-97b8-450a-a91b-b2b73772916d",
   "metadata": {},
   "outputs": [],
   "source": []
  },
  {
   "cell_type": "code",
   "execution_count": null,
   "id": "88f94443-58e0-434e-afae-6b935a5bed90",
   "metadata": {},
   "outputs": [],
   "source": []
  },
  {
   "cell_type": "code",
   "execution_count": null,
   "id": "4f3af009-404d-42c1-bda2-978d382b1923",
   "metadata": {},
   "outputs": [],
   "source": []
  }
 ],
 "metadata": {
  "kernelspec": {
   "display_name": "Python 3",
   "language": "python",
   "name": "python3"
  },
  "language_info": {
   "codemirror_mode": {
    "name": "ipython",
    "version": 3
   },
   "file_extension": ".py",
   "mimetype": "text/x-python",
   "name": "python",
   "nbconvert_exporter": "python",
   "pygments_lexer": "ipython3",
   "version": "3.8.10"
  }
 },
 "nbformat": 4,
 "nbformat_minor": 5
}
