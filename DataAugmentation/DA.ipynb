{
 "cells": [
  {
   "cell_type": "markdown",
   "id": "938fcb43-4b9e-4aeb-90f3-bb862f8e72ca",
   "metadata": {},
   "source": [
    "# Data Augmentation Box"
   ]
  },
  {
   "cell_type": "markdown",
   "id": "6c7f1b6c-da66-488a-a24a-1272eb35e18f",
   "metadata": {},
   "source": [
    "Project for Data Augmentation System"
   ]
  },
  {
   "cell_type": "markdown",
   "id": "bc0f750e-a3bd-495f-bbca-b2e65c492c87",
   "metadata": {},
   "source": [
    "## Data Augmentation Order\n",
    "\n",
    "STEP 1 - Domain Data Preparation\n",
    "1. Domain data labeling check\n",
    "2. Dimensionality Reduction\n",
    "3. Regression analysis\n",
    "\n",
    "\n",
    "STEP 2 - Data Augmentation\n",
    "1. Domain data check\n",
    "02. Public Data Supplement\n",
    "03. Data filtering (1st)\n",
    "04. Dimensionality Reduction\n",
    "05. Label Spreading (semi-supervised learning based)\n",
    "06. Data Filtering (2nd)\n",
    "07. Regression analytsis\n",
    "08. Data Filtering (3rd)\n",
    "09. Data Augmentation\n",
    "10. Model Generation"
   ]
  },
  {
   "cell_type": "markdown",
   "id": "e0274c5b-defe-43a0-8d24-a70b30719312",
   "metadata": {},
   "source": [
    "- - -"
   ]
  },
  {
   "cell_type": "code",
   "execution_count": null,
   "id": "71258b72-4f59-4703-a68d-8fcef68e61d5",
   "metadata": {},
   "outputs": [],
   "source": []
  },
  {
   "cell_type": "code",
   "execution_count": 11,
   "id": "965875d6-0f07-499f-b2aa-8661abe35981",
   "metadata": {},
   "outputs": [],
   "source": [
    "import os\n",
    "import time\n",
    "import numpy as np\n",
    "import pandas as pd\n",
    "import seaborn as sns\n",
    "import matplotlib.pyplot as plt"
   ]
  },
  {
   "cell_type": "code",
   "execution_count": 19,
   "id": "2b695956-4d10-46fb-9ec3-7b62968fb9cf",
   "metadata": {},
   "outputs": [],
   "source": [
    "from sklearn.model_selection import train_test_split\n",
    "from sklearn.preprocessing import MinMaxScaler"
   ]
  },
  {
   "cell_type": "markdown",
   "id": "884086bf-c312-4af8-bec9-6c903212ae3f",
   "metadata": {},
   "source": [
    "## 01. Domain Data Check"
   ]
  },
  {
   "cell_type": "markdown",
   "id": "ca0634bb-3549-4206-864e-018f4813f5ce",
   "metadata": {},
   "source": [
    "we have to check the domain data "
   ]
  },
  {
   "cell_type": "markdown",
   "id": "164251fd-e819-4eb0-aded-5d435b2d03f0",
   "metadata": {
    "tags": []
   },
   "source": [
    "### 1-1) image dataset"
   ]
  },
  {
   "cell_type": "code",
   "execution_count": null,
   "id": "bd7fa118-272b-43cd-8ede-d544f63e8688",
   "metadata": {},
   "outputs": [],
   "source": [
    "domain ="
   ]
  },
  {
   "cell_type": "code",
   "execution_count": null,
   "id": "2f46006c-87a0-4d89-9d7d-fd78dec740c7",
   "metadata": {},
   "outputs": [],
   "source": []
  },
  {
   "cell_type": "code",
   "execution_count": null,
   "id": "80d25f3e-0e43-4900-9934-2e97529592ec",
   "metadata": {},
   "outputs": [],
   "source": []
  },
  {
   "cell_type": "markdown",
   "id": "d19bf23a-4667-4b76-a85c-d0d3d4956a30",
   "metadata": {},
   "source": [
    "### 1-2) numerical dataset"
   ]
  },
  {
   "cell_type": "code",
   "execution_count": null,
   "id": "e68af2e8-cfe5-4b72-82b4-e5289a652d6b",
   "metadata": {},
   "outputs": [],
   "source": [
    "### HRV numerical dataset\n",
    "domain = pd.read_csv('E:/RESEARCH/Datasets/HRV/HRV_REV_all.csv', sep=',')"
   ]
  },
  {
   "cell_type": "code",
   "execution_count": null,
   "id": "fadb654f-8f3d-4d7d-9c8e-5a044e4523c3",
   "metadata": {},
   "outputs": [],
   "source": [
    "### data shape, variables check\n",
    "print(domain.shape)\n",
    "print(domain.columns)\n",
    "domain.head()"
   ]
  },
  {
   "cell_type": "code",
   "execution_count": null,
   "id": "94d28c96-1a8a-478b-8fab-9cfbf47d738b",
   "metadata": {},
   "outputs": [],
   "source": [
    "### checking lables for the data\n",
    "domain.loc[domain['HAMD']<=7, 'IndexH'] =0\n",
    "domain.loc[(domain['HAMD']>7) & (domain['HAMD']<=16), 'IndexH'] = 1\n",
    "domain.loc[domain['HAMD']>16, 'IndexH'] = 2\n",
    "domain_y = domain.loc[:,'IndexH']\n",
    "# domain_y = domain.loc[:,'disorder']"
   ]
  },
  {
   "cell_type": "code",
   "execution_count": null,
   "id": "4f061d7c-b18c-4d8a-abfe-a28f0dfb2657",
   "metadata": {},
   "outputs": [],
   "source": [
    "### deleting unnecessary data columns\n",
    "domain = domain.drop(['sub','age','gender','VISIT','disorder','HAMD', 'HAMA','PDSS','ASI','APPQ','PSWQ','SPI','PSS','BIS','SSI','IndexH'], axis=1)"
   ]
  },
  {
   "cell_type": "code",
   "execution_count": null,
   "id": "2ac908b3-ef7f-4fd8-a5bf-133cff76cef7",
   "metadata": {},
   "outputs": [],
   "source": [
    "### check the domain data columns again\n",
    "print(domain.columns)\n",
    "print(domain.shape)"
   ]
  },
  {
   "cell_type": "code",
   "execution_count": null,
   "id": "f4eb2a97-4144-4464-9128-de68912c32f4",
   "metadata": {},
   "outputs": [],
   "source": []
  },
  {
   "cell_type": "code",
   "execution_count": null,
   "id": "cf072951-f7bc-4eac-ad99-fa78e732c136",
   "metadata": {},
   "outputs": [],
   "source": []
  },
  {
   "cell_type": "markdown",
   "id": "af84f59f-4447-43ad-bb06-e00c57a0ce29",
   "metadata": {},
   "source": [
    "## 02. Public Data Supplement"
   ]
  },
  {
   "cell_type": "markdown",
   "id": "4ae38185-405e-4b24-a36f-306f0c0ad8e5",
   "metadata": {},
   "source": [
    "we proceed data crawling to support insufficient data environment"
   ]
  },
  {
   "cell_type": "markdown",
   "id": "56afaee5-9254-49e8-a6b0-95bd0a5387ea",
   "metadata": {},
   "source": [
    "### 2-1) Crawling Image data "
   ]
  },
  {
   "cell_type": "code",
   "execution_count": 2,
   "id": "e7e1f564-4079-4bf8-b89d-24e3974eca94",
   "metadata": {},
   "outputs": [],
   "source": [
    "import urllib.request\n",
    "import time\n",
    "from urllib.parse import quote_plus\n",
    "from bs4 import BeautifulSoup\n",
    "from selenium import webdriver\n",
    "from icrawler.builtin import GoogleImageCrawler"
   ]
  },
  {
   "cell_type": "code",
   "execution_count": null,
   "id": "3ae47c3f-f034-47ca-bb61-d39ee9d60caf",
   "metadata": {},
   "outputs": [],
   "source": [
    "# google_crawler = GoogleImageCrawler(parser_threads=2, downloader_threads=4,\n",
    "#                                     storage={'root_dir': 'E:/RESEARCH/Datasets/HRV/crawl_test'})\n",
    "\n",
    "# google_crawler.crawl(keyword='car crash', max_num=500,\n",
    "# #                      date_min=None, date_max=None,\n",
    "#                      min_size=(200,200), max_size=None)"
   ]
  },
  {
   "cell_type": "code",
   "execution_count": 7,
   "id": "5f9c6221-0bc2-4ccd-a1b7-6e0326cc45e7",
   "metadata": {
    "collapsed": true,
    "jupyter": {
     "outputs_hidden": true
    },
    "tags": []
   },
   "outputs": [
    {
     "name": "stderr",
     "output_type": "stream",
     "text": [
      "2022-03-11 17:03:53,759 - INFO - icrawler.crawler - start crawling...\n",
      "2022-03-11 17:03:53,759 - INFO - icrawler.crawler - starting 1 feeder threads...\n",
      "2022-03-11 17:03:53,760 - INFO - icrawler.crawler - starting 1 parser threads...\n",
      "2022-03-11 17:03:53,761 - INFO - icrawler.crawler - starting 4 downloader threads...\n",
      "2022-03-11 17:03:55,069 - INFO - parser - parsing result page https://www.google.com/search?q=dog&ijn=0&start=0&tbs=itp%3Aphoto%2Cisz%3Am%2Csur%3Afmc%2Ccdr%3A1%2Ccd_min%3A01%2F01%2F2021%2Ccd_max%3A12%2F30%2F2021&tbm=isch\n",
      "2022-03-11 17:03:55,336 - ERROR - downloader - Response status code 404, file https://upload.wikimedia.org/wikipedia/commons/thumb/1/18/Dog_Breeds.jpg\n",
      "2022-03-11 17:03:55,342 - ERROR - downloader - Response status code 404, file https://upload.wikimedia.org/wikipedia/commons/thumb/4/43/Cute_dog.jpg\n",
      "2022-03-11 17:03:55,380 - INFO - downloader - image #1\thttps://cdn.pixabay.com/photo/2019/05/29/18/20/dog-4238167_960_720.jpg\n",
      "2022-03-11 17:03:55,394 - INFO - downloader - image #2\thttps://cdn.pixabay.com/photo/2019/05/29/18/19/dog-4238163_960_720.jpg\n",
      "2022-03-11 17:03:55,470 - INFO - downloader - image #3\thttps://live.staticflickr.com/3052/3086132328_e2041be795_b.jpg\n",
      "2022-03-11 17:03:55,561 - ERROR - downloader - Response status code 404, file https://upload.wikimedia.org/wikipedia/commons/thumb/d/d9/Collage_of_Nine_Dogs.jpg\n",
      "2022-03-11 17:03:55,623 - INFO - downloader - image #4\thttps://upload.wikimedia.org/wikipedia/commons/f/fa/Commander_%28Biden_dog%29_in_December_2021_%28cropped%29.jpg\n",
      "2022-03-11 17:03:55,704 - INFO - downloader - image #5\thttps://cdn.pixabay.com/photo/2014/04/05/11/38/dog-316459_960_720.jpg\n",
      "2022-03-11 17:03:55,737 - INFO - downloader - image #6\thttps://live.staticflickr.com/8104/8631368705_907915f30e_b.jpg\n",
      "2022-03-11 17:03:56,164 - INFO - downloader - image #7\thttps://www.nps.gov/sagu/planyourvisit/images/Leo-goin-for-a-walk.jpg\n",
      "2022-03-11 17:03:56,189 - INFO - downloader - image #8\thttps://cdn.pixabay.com/photo/2018/05/07/10/48/husky-3380548_960_720.jpg\n",
      "2022-03-11 17:03:56,235 - INFO - downloader - image #9\thttps://upload.wikimedia.org/wikipedia/commons/6/69/Dog_morphological_variation.png\n",
      "2022-03-11 17:03:56,490 - INFO - downloader - image #10\thttps://www.nps.gov/carl/planyourvisit/images/BARK-ranger-dog-small.jpg\n",
      "2022-03-11 17:03:56,751 - INFO - downloader - image #11\thttps://freesvg.org/img/1536086956.png\n",
      "2022-03-11 17:03:56,771 - INFO - downloader - image #12\thttps://live.staticflickr.com/3373/3600836516_ab924c6729_b.jpg\n",
      "2022-03-11 17:03:56,819 - INFO - downloader - image #13\thttps://www.publicdomainpictures.net/pictures/140000/nahled/3d-dog-1443867528bL9.jpg\n",
      "2022-03-11 17:03:56,897 - ERROR - downloader - Response status code 404, file https://upload.wikimedia.org/wikipedia/commons/thumb/6/6b/Dog_walker_with_Great_Dane_dogs..jpg\n",
      "2022-03-11 17:03:57,083 - INFO - downloader - image #14\thttps://c0.wallpaperflare.com/preview/385/925/320/dog-canine-mammal-animal.jpg\n",
      "2022-03-11 17:03:57,246 - INFO - downloader - image #15\thttps://www.publicdomainpictures.net/pictures/40000/nahled/sad-dog.jpg\n",
      "2022-03-11 17:03:57,324 - INFO - downloader - image #16\thttps://p1.pxfuel.com/preview/875/921/259/puppy-dog-pup-shetland-sheepdog-doggie-animal.jpg\n",
      "2022-03-11 17:03:57,336 - INFO - downloader - image #17\thttps://upload.wikimedia.org/wikipedia/commons/8/82/Portrait_of_a_dog%2C_seated_on_a_red_cushion%2C_by_Henri_van_Assche%2C_1801.jpg\n",
      "2022-03-11 17:03:57,681 - INFO - downloader - image #18\thttps://cdn.pixabay.com/photo/2020/07/06/22/31/puppy-5378539_960_720.jpg\n",
      "2022-03-11 17:03:57,850 - INFO - downloader - image #19\thttps://c0.wallpaperflare.com/preview/131/470/376/dog-suit-office-selfie.jpg\n",
      "2022-03-11 17:03:57,955 - INFO - downloader - image #20\thttps://www.maxpixel.net/static/photo/1x/Dog-Golden-Retriever-Pet-Puppy-Ball-6829488.jpg\n",
      "2022-03-11 17:03:58,070 - INFO - downloader - image #21\thttps://p1.pxfuel.com/preview/874/566/447/dogs-the-french-bulldog-dog-tough-animal-pet.jpg\n",
      "2022-03-11 17:03:58,148 - INFO - downloader - image #22\thttps://www.maxpixel.net/static/photo/1x/Blue-Tongue-Animal-Dog-Fur-Blue-Tongue-Strong-2491498.jpg\n",
      "2022-03-11 17:03:58,245 - INFO - downloader - image #23\thttps://upload.wikimedia.org/wikipedia/commons/9/94/%22Red_Cross_Dog%22_-_Alexander_Pope.png\n",
      "2022-03-11 17:03:58,320 - INFO - downloader - image #24\thttps://freesvg.org/img/1555241825.png\n",
      "2022-03-11 17:03:58,586 - INFO - downloader - image #25\thttps://p2.piqsels.com/preview/477/983/642/dog-puppy-pup-dog-portrait.jpg\n",
      "2022-03-11 17:03:58,607 - INFO - downloader - image #26\thttps://www.nps.gov/grca/planyourvisit/images/Dog-13-A.jpg\n",
      "2022-03-11 17:03:58,686 - ERROR - downloader - Response status code 404, file https://upload.wikimedia.org/wikipedia/commons/thumb/7/79/Smiling_dog.jpg\n",
      "2022-03-11 17:03:59,173 - INFO - downloader - image #27\thttps://c0.wallpaperflare.com/preview/710/447/705/dog-eb-pets-pet.jpg\n",
      "2022-03-11 17:03:59,175 - INFO - downloader - image #28\thttps://p0.pikist.com/photos/318/899/puppy-dog-beagle-cute-charming-animals-happiness-breed-dogs.jpg\n",
      "2022-03-11 17:03:59,223 - INFO - downloader - image #29\thttps://cdn.pixabay.com/photo/2019/12/18/09/54/dog-4703534_960_720.jpg\n",
      "2022-03-11 17:03:59,308 - INFO - downloader - image #30\thttps://www.publicdomainpictures.net/pictures/290000/nahled/cute-pedigree-puppy-dog.jpg\n",
      "2022-03-11 17:03:59,539 - INFO - downloader - image #31\thttps://live.staticflickr.com/65535/49614637227_159404a375_b.jpg\n",
      "2022-03-11 17:03:59,922 - INFO - downloader - image #32\thttps://p0.piqsels.com/preview/602/740/3/dog-dog-golden-retriever-black-and-white-photo-portrait.jpg\n",
      "2022-03-11 17:04:00,062 - INFO - downloader - image #33\thttps://p1.pxfuel.com/preview/481/442/345/dog-animal-cute-pets.jpg\n",
      "2022-03-11 17:04:00,135 - INFO - downloader - image #34\thttps://api.army.mil/e2/c/images/2020/12/19/9d0a7a73/size1.jpg\n",
      "2022-03-11 17:04:00,240 - INFO - downloader - image #35\thttps://p2.pikrepo.com/preview/573/753/tan-black-dog-fighting-with-tan-dog-during-daytime.jpg\n",
      "2022-03-11 17:04:00,379 - INFO - downloader - image #36\thttps://www.maxpixel.net/static/photo/1x/Animal-Breed-Puppy-Dog-Sheltie-Shetland-Sheepdog-6614865.jpg\n",
      "2022-03-11 17:04:00,470 - INFO - downloader - image #37\thttps://p0.pikist.com/photos/874/324/dog-dog-eurasier-pup-puppy-dog-olaf-blue-olaf-eurasier-dog-nordic-eurasier-portrait.jpg\n",
      "2022-03-11 17:04:00,613 - INFO - downloader - image #38\thttps://freesvg.org/img/publicdomainq-police_dog.png\n",
      "2022-03-11 17:04:00,844 - INFO - downloader - image #39\thttps://c0.wallpaperflare.com/preview/634/936/865/the-dog-nature-dog-snout.jpg\n",
      "2022-03-11 17:04:01,007 - INFO - downloader - image #40\thttps://www.publicdomainpictures.net/pictures/160000/nahled/vintage-dog-illustration.jpg\n",
      "2022-03-11 17:04:01,057 - INFO - downloader - image #41\thttps://cdn.pixabay.com/photo/2020/09/18/06/27/dog-5580944_960_720.jpg\n",
      "2022-03-11 17:04:01,357 - INFO - downloader - image #42\thttps://p1.pxfuel.com/preview/132/73/162/dog-face-pet-portrait-animal-beagle.jpg\n",
      "2022-03-11 17:04:01,559 - INFO - downloader - image #43\thttps://publicdomainvectors.org/photos/dog-house-clipart-publicdomainvectors.org.jpg\n",
      "2022-03-11 17:04:01,685 - INFO - downloader - image #44\thttps://p0.pikist.com/photos/164/393/puppies-puppy-dogs-the-family-of-a-young-dog-companion-canine-cute-dog.jpg\n",
      "2022-03-11 17:04:01,717 - INFO - downloader - image #45\thttps://p2.piqsels.com/preview/581/265/165/dog-male-hybrid-nature.jpg\n",
      "2022-03-11 17:04:01,759 - INFO - downloader - image #46\thttps://www.maxpixel.net/static/photo/1x/Dog-Pet-Domestic-Dog-Animal-English-Toy-Terrier-6255341.jpg\n",
      "2022-03-11 17:04:01,906 - INFO - downloader - image #47\thttps://freesvg.org/img/Boy-Walking-Dog.png\n",
      "2022-03-11 17:04:02,153 - INFO - downloader - image #48\thttps://live.staticflickr.com/7332/10835558164_950ef6d443_b.jpg\n",
      "2022-03-11 17:04:02,316 - INFO - downloader - image #49\thttps://www.nps.gov/grca/planyourvisit/images/EgYj52eUwAA-2kC.jpg\n",
      "2022-03-11 17:04:02,417 - ERROR - downloader - Response status code 404, file https://upload.wikimedia.org/wikipedia/commons/thumb/3/33/Dogs_nose.jpg\n",
      "2022-03-11 17:04:02,489 - INFO - downloader - image #50\thttps://www.dhs.gov/sites/default/files/styles/large_800x800/https/www.dhs.gov/medialibrary-assets/assets/image/DHS/26633-image_asset.jpg\n",
      "2022-03-11 17:04:02,869 - INFO - downloader - image #51\thttps://c1.wallpaperflare.com/preview/759/1014/416/pet-dog-animals-cute-animal-dogs.jpg\n",
      "2022-03-11 17:04:02,940 - INFO - downloader - image #52\thttps://publicdomainvectors.org/photos/1393079419.png\n",
      "2022-03-11 17:04:03,115 - INFO - downloader - image #53\thttps://p1.pxfuel.com/preview/317/238/559/dog-animal-pet-puppy-cute-black.jpg\n",
      "2022-03-11 17:04:03,174 - INFO - downloader - image #54\thttps://cdn.pixabay.com/photo/2021/02/07/22/28/dog-5992996_960_720.png\n",
      "2022-03-11 17:04:03,645 - INFO - downloader - image #55\thttps://upload.wikimedia.org/wikipedia/commons/e/e9/Big_and_little_dog_1.jpg\n",
      "2022-03-11 17:04:03,738 - INFO - downloader - image #56\thttps://p2.piqsels.com/preview/417/164/57/dog-funny-happy-funny-dog.jpg\n",
      "2022-03-11 17:04:04,425 - INFO - downloader - image #57\thttps://freesvg.org/img/chudq-Dog-with-JavaScript-for-scaling.png\n",
      "2022-03-11 17:04:04,506 - INFO - downloader - image #58\thttps://www.maxpixel.net/static/photo/1x/Pet-Different-Eye-Colors-Dog-Animal-Brown-3360592.jpg\n",
      "2022-03-11 17:04:04,525 - INFO - parser - parsing result page https://www.google.com/search?q=dog&ijn=1&start=100&tbs=itp%3Aphoto%2Cisz%3Am%2Csur%3Afmc%2Ccdr%3A1%2Ccd_min%3A01%2F01%2F2021%2Ccd_max%3A12%2F30%2F2021&tbm=isch\n",
      "2022-03-11 17:04:04,552 - INFO - downloader - image #59\thttps://p0.pikist.com/photos/821/854/welsh-corgi-corgi-dog-pet-outdoor-doggy-puppy-dogs-animals.jpg\n",
      "2022-03-11 17:04:04,562 - INFO - downloader - image #60\thttps://www.nps.gov/articles/000/images/148c01fc-cb8f-4991-af78-0315e8289193HiResProxy.jpg\n",
      "2022-03-11 17:04:04,813 - INFO - downloader - image #61\thttps://www.publicdomainpictures.net/pictures/40000/nahled/golden-retriever-dog-1364426710r9x.jpg\n",
      "2022-03-11 17:04:04,922 - INFO - downloader - image #62\thttps://live.staticflickr.com/4918/45177303345_2e179896ec_b.jpg\n",
      "2022-03-11 17:04:05,372 - INFO - parser - parsing result page https://www.google.com/search?q=dog&ijn=2&start=200&tbs=itp%3Aphoto%2Cisz%3Am%2Csur%3Afmc%2Ccdr%3A1%2Ccd_min%3A01%2F01%2F2021%2Ccd_max%3A12%2F30%2F2021&tbm=isch\n",
      "2022-03-11 17:04:05,550 - INFO - downloader - image #63\thttps://c0.wallpaperflare.com/preview/593/890/460/hovawart-dog-eyes-animal.jpg\n",
      "2022-03-11 17:04:05,614 - INFO - downloader - image #64\thttps://p1.pxfuel.com/preview/66/9/73/dog-model-the-beauty-of-the-beast-animal-the-figure-of-the.jpg\n",
      "2022-03-11 17:04:06,151 - INFO - parser - parsing result page https://www.google.com/search?q=dog&ijn=3&start=300&tbs=itp%3Aphoto%2Cisz%3Am%2Csur%3Afmc%2Ccdr%3A1%2Ccd_min%3A01%2F01%2F2021%2Ccd_max%3A12%2F30%2F2021&tbm=isch\n",
      "2022-03-11 17:04:06,185 - INFO - feeder - thread feeder-001 exit\n",
      "2022-03-11 17:04:06,931 - INFO - parser - parsing result page https://www.google.com/search?q=dog&ijn=4&start=400&tbs=itp%3Aphoto%2Cisz%3Am%2Csur%3Afmc%2Ccdr%3A1%2Ccd_min%3A01%2F01%2F2021%2Ccd_max%3A12%2F30%2F2021&tbm=isch\n",
      "2022-03-11 17:04:07,758 - INFO - parser - parsing result page https://www.google.com/search?q=dog&ijn=5&start=500&tbs=itp%3Aphoto%2Cisz%3Am%2Csur%3Afmc%2Ccdr%3A1%2Ccd_min%3A01%2F01%2F2021%2Ccd_max%3A12%2F30%2F2021&tbm=isch\n",
      "2022-03-11 17:04:08,534 - INFO - parser - parsing result page https://www.google.com/search?q=dog&ijn=6&start=600&tbs=itp%3Aphoto%2Cisz%3Am%2Csur%3Afmc%2Ccdr%3A1%2Ccd_min%3A01%2F01%2F2021%2Ccd_max%3A12%2F30%2F2021&tbm=isch\n",
      "2022-03-11 17:04:09,753 - INFO - parser - parsing result page https://www.google.com/search?q=dog&ijn=7&start=700&tbs=itp%3Aphoto%2Cisz%3Am%2Csur%3Afmc%2Ccdr%3A1%2Ccd_min%3A01%2F01%2F2021%2Ccd_max%3A12%2F30%2F2021&tbm=isch\n",
      "2022-03-11 17:04:10,177 - INFO - downloader - image #65\thttps://cdn.pixabay.com/photo/2021/07/02/06/49/dog-6381087_960_720.jpg\n",
      "2022-03-11 17:04:10,227 - INFO - downloader - image #66\thttps://www.nps.gov/bisc/planyourvisit/images/Athena-Bark-Ranger.jpg\n",
      "2022-03-11 17:04:10,620 - INFO - downloader - image #67\thttps://c0.wallpaperflare.com/preview/310/1017/204/dog-white-out-road.jpg\n",
      "2022-03-11 17:04:11,182 - INFO - downloader - image #68\thttps://www.maxpixel.net/static/photo/1x/Puppy-Dog-Doggy-Cute-Animal-Funny-Pet-5296851.jpg\n",
      "2022-03-11 17:04:11,889 - ERROR - downloader - Response status code 404, file https://www.maxpixel.net/static/photo/1x/Beagle-Nose-Eyes-Friend-Dog-Head-Animal-Portrait-5308585.jpg\n",
      "2022-03-11 17:04:12,069 - INFO - downloader - image #69\thttps://p1.pxfuel.com/preview/85/171/601/dogs-fur-animal-pet.jpg\n",
      "2022-03-11 17:04:12,199 - ERROR - downloader - Response status code 403, file https://img.rawpixel.com/s3fs-private/rawpixel_images/website_content/upwk61851464-wikimedia-image.jpg\n",
      "2022-03-11 17:04:12,590 - INFO - downloader - image #70\thttps://c0.wallpaperflare.com/preview/934/21/65/dog-golden-retriever-puppy-pup-portrait-dog-profile.jpg\n",
      "2022-03-11 17:04:12,946 - INFO - downloader - image #71\thttps://p1.pxfuel.com/preview/97/547/796/puppy-dog-bulldog-pet.jpg\n",
      "2022-03-11 17:04:13,002 - INFO - downloader - image #72\thttps://www.maxpixel.net/static/photo/1x/Animal-Dachshund-Pet-Domestic-Dog-Black-Dog-Dog-6276670.jpg\n",
      "2022-03-11 17:04:14,061 - INFO - downloader - image #73\thttps://p1.piqsels.com/preview/613/428/857/canine-sad-dog-stray-dog-race-abandoned-sick-dog.jpg\n",
      "2022-03-11 17:04:14,111 - INFO - downloader - image #74\thttps://www.maxpixel.net/static/photo/1x/Dog-Young-Dog-Eurasier-Puppy-5074206.jpg\n",
      "2022-03-11 17:04:14,262 - INFO - downloader - image #75\thttps://p0.piqsels.com/preview/935/683/597/dalmatians-dog-male-animal.jpg\n",
      "2022-03-11 17:04:14,623 - INFO - downloader - image #76\thttps://c0.wallpaperflare.com/preview/967/646/382/dog-maltese-small-white.jpg\n",
      "2022-03-11 17:04:14,784 - INFO - downloader - image #77\thttps://media.defense.gov/2016/Mar/04/2001590521/-1/-1/0/160304-D-ZZ999-0001.jpg\n",
      "2022-03-11 17:04:14,978 - INFO - downloader - image #78\thttps://p0.pikrepo.com/preview/648/575/black-and-white-dog-illustration-thumbnail.jpg\n",
      "2022-03-11 17:04:15,288 - INFO - downloader - image #79\thttps://p0.pxfuel.com/preview/613/91/683/dog-animal-cute-happy.jpg\n",
      "2022-03-11 17:04:15,370 - INFO - downloader - image #80\thttps://publicdomainvectors.org/photos/small-dog-silhouette-pdv.jpg\n",
      "2022-03-11 17:04:15,863 - INFO - downloader - image #81\thttps://p1.piqsels.com/preview/441/35/794/dog-hybrid-tongue-animal-cute-pet.jpg\n",
      "2022-03-11 17:04:16,400 - INFO - downloader - image #82\thttps://c0.wallpaperflare.com/preview/922/803/688/stray-dog-dog-animal-pets.jpg\n",
      "2022-03-11 17:04:16,417 - INFO - downloader - image #83\thttps://p2.pikrepo.com/preview/207/479/a-dog-of-a-white-short-haired-breed-with-dark-spots-rnlarge-powerful-dogs-are-frequently-targeted-including-akitas-chow-chows-dalmatians-dobermans-german-shepherds-great-danes-pit-bulls-rottweilers-as-well-as-mixes-of-these-breeds-rn.jpg\n",
      "2022-03-11 17:04:16,696 - INFO - downloader - image #84\thttps://www.maxpixel.net/static/photo/1x/Portrait-Happy-Dog-Puppy-Dog-Portrait-Happy-Dog-5237074.jpg\n",
      "2022-03-11 17:04:16,712 - INFO - downloader - image #85\thttps://p0.pikist.com/photos/378/119/schafer-dog-dog-animal-old-german-shepherd-dog-pet-head-animal-portrait-courage-attention.jpg\n",
      "2022-03-11 17:04:17,027 - INFO - downloader - image #86\thttps://publicdomainvectors.org/photos/Vintage_dog_01.png\n",
      "2022-03-11 17:04:17,536 - INFO - downloader - image #87\thttps://p1.pxfuel.com/preview/851/704/58/dog-white-dog-small-small-dog-look-watch.jpg\n",
      "2022-03-11 17:04:17,612 - INFO - downloader - image #88\thttps://p2.piqsels.com/preview/175/41/87/dog-hunting-dog-crocs-hunting.jpg\n",
      "2022-03-11 17:04:18,076 - INFO - downloader - image #89\thttps://p0.pikist.com/photos/590/796/dog-dog-with-a-stick-doggy-style-animal-animal-portrait-animal-picture-nature-young-dog.jpg\n",
      "2022-03-11 17:04:18,387 - INFO - downloader - image #90\thttps://upload.wikimedia.org/wikipedia/commons/e/ea/Dog_coat_variation.png\n",
      "2022-03-11 17:04:18,407 - INFO - downloader - image #91\thttps://c1.wallpaperflare.com/preview/117/8/934/dog-hungarian-vizsla-brown-snow.jpg\n",
      "2022-03-11 17:04:18,522 - INFO - parser - parsing result page https://www.google.com/search?q=dog&ijn=8&start=800&tbs=itp%3Aphoto%2Cisz%3Am%2Csur%3Afmc%2Ccdr%3A1%2Ccd_min%3A01%2F01%2F2021%2Ccd_max%3A12%2F30%2F2021&tbm=isch\n",
      "2022-03-11 17:04:18,789 - INFO - downloader - image #92\thttps://live.staticflickr.com/65535/50318355961_7d1fe87963_b.jpg\n",
      "2022-03-11 17:04:19,063 - INFO - downloader - image #93\thttps://www.maxpixel.net/static/photo/1x/Canines-Pets-Collars-Dog-Collars-Puppy-Dogs-5881139.jpg\n",
      "2022-03-11 17:04:19,340 - INFO - parser - parsing result page https://www.google.com/search?q=dog&ijn=9&start=900&tbs=itp%3Aphoto%2Cisz%3Am%2Csur%3Afmc%2Ccdr%3A1%2Ccd_min%3A01%2F01%2F2021%2Ccd_max%3A12%2F30%2F2021&tbm=isch\n",
      "2022-03-11 17:04:19,548 - INFO - downloader - image #94\thttps://p1.pxfuel.com/preview/710/125/243/dog-animal-brown-pet-looking-portrait.jpg\n",
      "2022-03-11 17:04:20,287 - INFO - downloader - image #95\thttps://media.defense.gov/2016/Jun/08/2001551210/825/780/0/160603-F-GY232-081.jpg\n",
      "2022-03-11 17:04:21,425 - INFO - parser - no more page urls for thread parser-001 to parse\n",
      "2022-03-11 17:04:21,425 - INFO - parser - thread parser-001 exit\n",
      "2022-03-11 17:04:23,922 - INFO - downloader - no more download task for thread downloader-001\n",
      "2022-03-11 17:04:23,922 - INFO - downloader - thread downloader-001 exit\n",
      "2022-03-11 17:04:24,067 - INFO - downloader - no more download task for thread downloader-004\n",
      "2022-03-11 17:04:24,067 - INFO - downloader - thread downloader-004 exit\n",
      "2022-03-11 17:04:24,550 - INFO - downloader - no more download task for thread downloader-002\n",
      "2022-03-11 17:04:24,550 - INFO - downloader - thread downloader-002 exit\n",
      "2022-03-11 17:04:25,291 - INFO - downloader - no more download task for thread downloader-003\n",
      "2022-03-11 17:04:25,291 - INFO - downloader - thread downloader-003 exit\n",
      "2022-03-11 17:04:25,780 - INFO - icrawler.crawler - Crawling task done!\n"
     ]
    }
   ],
   "source": [
    "### image crawling from google with GoogleImageCrawler\n",
    "google_crawler = GoogleImageCrawler(\n",
    "    feeder_threads=1,\n",
    "    parser_threads=1,\n",
    "    downloader_threads=4,\n",
    "    storage={'root_dir': 'E:/RESEARCH/Datasets/HRV/crawl_test'}) #set the storage root\n",
    "\n",
    "filters = dict(\n",
    "    type='photo',\n",
    "    #type=photo,face,clipart,linedrawing,animated\n",
    "    size='medium',\n",
    "    #size=large, medium, icon, or larger than a given size e.g.\">640x480\" or exactly giving size\"=1024x768\n",
    "#     color='orange',\n",
    "    #coler=blackandwhite, red, oragne, yellow, green, teal, blue, purple, pink, white, gray, black, brown\n",
    "    license='commercial,modify',\n",
    "    #license=noncommercial, commercial, noncommercial,modify , commercial,modify\n",
    "    date=((2021, 1, 1), (2021, 12, 30)))\n",
    "\n",
    "# type the keyword of the image that you want to crawl from google\n",
    "google_crawler.crawl(keyword='dog', filters=filters, offset=0, max_num=1000,\n",
    "                     min_size=(200,200), max_size=None, file_idx_offset=0)"
   ]
  },
  {
   "cell_type": "code",
   "execution_count": 4,
   "id": "0ec38d9f-4908-4d5c-a3c5-40411097d9c1",
   "metadata": {
    "collapsed": true,
    "jupyter": {
     "outputs_hidden": true
    },
    "tags": []
   },
   "outputs": [
    {
     "name": "stderr",
     "output_type": "stream",
     "text": [
      "2022-03-11 16:40:58,465 - INFO - icrawler.crawler - start crawling...\n",
      "2022-03-11 16:40:58,466 - INFO - icrawler.crawler - starting 1 feeder threads...\n",
      "2022-03-11 16:40:58,467 - INFO - icrawler.crawler - starting 1 parser threads...\n",
      "2022-03-11 16:40:58,467 - INFO - icrawler.crawler - starting 4 downloader threads...\n",
      "2022-03-11 16:40:59,736 - INFO - parser - parsing result page https://www.google.com/search?q=lung+ct&ijn=0&start=0&tbs=isz%3Al%2Cic%3Agray%2Csur%3Afmc%2Ccdr%3A1%2Ccd_min%3A01%2F01%2F2021%2Ccd_max%3A12%2F30%2F2021&tbm=isch\n",
      "2022-03-11 16:40:59,810 - INFO - downloader - skip downloading file 000001.jpg\n",
      "2022-03-11 16:40:59,813 - INFO - downloader - skip downloading file 000002.jpg\n",
      "2022-03-11 16:40:59,814 - INFO - downloader - skip downloading file 000003.jpg\n",
      "2022-03-11 16:40:59,815 - INFO - downloader - skip downloading file 000004.jpg\n",
      "2022-03-11 16:41:00,622 - INFO - downloader - image #5\thttps://upload.wikimedia.org/wikipedia/commons/3/37/CT_of_lung_infarction_with_reverse_halo_sign.png\n",
      "2022-03-11 16:41:00,714 - INFO - downloader - image #6\thttps://upload.wikimedia.org/wikipedia/commons/5/50/Biopsie_Lunge_Computertomographie_BC.png\n",
      "2022-03-11 16:41:00,971 - INFO - downloader - skip downloading file 000007.jpg\n",
      "2022-03-11 16:41:00,972 - INFO - downloader - skip downloading file 000008.jpg\n",
      "2022-03-11 16:41:01,324 - INFO - downloader - image #9\thttps://live.staticflickr.com/6104/6327961394_dccf1c2920_b.jpg\n",
      "2022-03-11 16:41:01,481 - INFO - downloader - image #10\thttps://upload.wikimedia.org/wikipedia/commons/f/f4/LungMets2008.jpg\n",
      "2022-03-11 16:41:01,807 - INFO - downloader - image #11\thttps://live.staticflickr.com/4257/35045151790_199c386dcf_b.jpg\n",
      "2022-03-11 16:41:01,816 - INFO - downloader - skip downloading file 000012.jpg\n",
      "2022-03-11 16:41:02,182 - INFO - downloader - image #13\thttps://live.staticflickr.com/7433/16381517501_7d0936c2fe_b.jpg\n",
      "2022-03-11 16:41:02,185 - INFO - downloader - skip downloading file 000014.jpg\n",
      "2022-03-11 16:41:02,185 - INFO - downloader - skip downloading file 000015.jpg\n",
      "2022-03-11 16:41:02,335 - INFO - downloader - image #16\thttps://upload.wikimedia.org/wikipedia/commons/f/fc/Bullus_emphasemaCT.png\n",
      "2022-03-11 16:41:02,553 - INFO - downloader - skip downloading file 000017.jpg\n",
      "2022-03-11 16:41:02,553 - INFO - downloader - skip downloading file 000018.jpg\n",
      "2022-03-11 16:41:02,715 - INFO - downloader - image #19\thttps://upload.wikimedia.org/wikipedia/commons/5/55/Adenokarzinom_der_Lunge_im_Roentgenbild_63M_-_CT_axial_-_001.jpg\n",
      "2022-03-11 16:41:02,717 - INFO - downloader - skip downloading file 000020.jpg\n",
      "2022-03-11 16:41:02,718 - INFO - downloader - skip downloading file 000021.jpg\n",
      "2022-03-11 16:41:02,718 - INFO - downloader - skip downloading file 000022.jpg\n",
      "2022-03-11 16:41:02,719 - INFO - downloader - skip downloading file 000023.jpg\n",
      "2022-03-11 16:41:02,719 - INFO - downloader - skip downloading file 000024.jpg\n",
      "2022-03-11 16:41:02,720 - INFO - downloader - skip downloading file 000025.jpg\n",
      "2022-03-11 16:41:02,721 - INFO - downloader - skip downloading file 000026.jpg\n",
      "2022-03-11 16:41:02,721 - INFO - downloader - skip downloading file 000027.jpg\n",
      "2022-03-11 16:41:02,721 - INFO - downloader - skip downloading file 000028.jpg\n",
      "2022-03-11 16:41:02,722 - INFO - downloader - skip downloading file 000029.jpg\n",
      "2022-03-11 16:41:02,814 - INFO - downloader - image #30\thttps://upload.wikimedia.org/wikipedia/commons/f/f0/MediastinalLipomatosisCT.png\n",
      "2022-03-11 16:41:02,853 - INFO - downloader - skip downloading file 000031.jpg\n",
      "2022-03-11 16:41:02,966 - INFO - downloader - image #32\thttps://get.pxhere.com/photo/black-and-white-trunk-biology-arm-chest-human-body-nose-medical-x-ray-diagnosis-sense-radiology-xray-radiography-medical-radiography-thoracic-spine-1293882.jpg\n",
      "2022-03-11 16:41:02,970 - INFO - downloader - skip downloading file 000033.jpg\n",
      "2022-03-11 16:41:04,427 - INFO - downloader - image #34\thttps://c0.wallpaperflare.com/preview/500/665/232/repair-replacement-tire-worker.jpg\n",
      "2022-03-11 16:41:04,429 - INFO - downloader - skip downloading file 000035.jpg\n",
      "2022-03-11 16:41:04,429 - INFO - downloader - skip downloading file 000036.jpg\n",
      "2022-03-11 16:41:04,893 - INFO - downloader - image #37\thttps://storage.needpix.com/rsynced_images/awareness-24160_1280.png\n",
      "2022-03-11 16:41:04,960 - INFO - downloader - image #38\thttps://live.staticflickr.com/5469/17760489810_dfc3dfbc97_b.jpg\n",
      "2022-03-11 16:41:05,081 - INFO - downloader - image #39\thttps://p1.pxfuel.com/preview/847/901/173/cervical-spine-xray-patient.jpg\n",
      "2022-03-11 16:41:05,082 - INFO - downloader - skip downloading file 000040.jpg\n",
      "2022-03-11 16:41:05,750 - INFO - downloader - skip downloading file 000041.jpg\n",
      "2022-03-11 16:41:05,750 - INFO - downloader - skip downloading file 000042.jpg\n",
      "2022-03-11 16:41:05,751 - INFO - downloader - skip downloading file 000043.jpg\n",
      "2022-03-11 16:41:05,751 - INFO - downloader - skip downloading file 000044.jpg\n",
      "2022-03-11 16:41:05,822 - INFO - downloader - image #45\thttps://images.freeimg.net/rsynced_images/x-ray-310167_1280.png\n",
      "2022-03-11 16:41:05,824 - INFO - downloader - skip downloading file 000046.jpg\n",
      "2022-03-11 16:41:06,577 - INFO - downloader - image #47\thttps://c0.wallpaperflare.com/preview/982/115/593/analysis-background-care-clinic.jpg\n",
      "2022-03-11 16:41:06,580 - INFO - downloader - skip downloading file 000048.jpg\n",
      "2022-03-11 16:41:06,580 - INFO - downloader - skip downloading file 000049.jpg\n",
      "2022-03-11 16:41:06,581 - INFO - downloader - skip downloading file 000050.jpg\n",
      "2022-03-11 16:41:06,640 - INFO - downloader - image #51\thttps://upload.wikimedia.org/wikipedia/commons/9/96/Patron_de_ground_glass_parcheado.jpg\n",
      "2022-03-11 16:41:06,681 - INFO - downloader - skip downloading file 000052.jpg\n",
      "2022-03-11 16:41:06,681 - INFO - downloader - skip downloading file 000053.jpg\n",
      "2022-03-11 16:41:06,682 - INFO - downloader - skip downloading file 000054.jpg\n",
      "2022-03-11 16:41:06,682 - INFO - downloader - skip downloading file 000055.jpg\n",
      "2022-03-11 16:41:06,683 - INFO - downloader - skip downloading file 000056.jpg\n",
      "2022-03-11 16:41:06,823 - INFO - downloader - image #57\thttps://upload.wikimedia.org/wikipedia/commons/d/df/Liversteatosis.png\n",
      "2022-03-11 16:41:06,953 - INFO - downloader - image #58\thttps://upload.wikimedia.org/wikipedia/commons/5/50/Computed_tomography_of_human_brain_-_large.png\n",
      "2022-03-11 16:41:06,974 - INFO - downloader - skip downloading file 000059.jpg\n",
      "2022-03-11 16:41:07,638 - INFO - downloader - image #60\thttps://images.freeimg.net/rsynced_images/anatomy-2027131_1280.png\n",
      "2022-03-11 16:41:07,778 - INFO - downloader - image #61\thttps://storage.needpix.com/rsynced_images/digestive-40607_1280.png\n",
      "2022-03-11 16:41:07,781 - INFO - downloader - skip downloading file 000062.jpg\n",
      "2022-03-11 16:41:07,781 - INFO - downloader - skip downloading file 000063.jpg\n",
      "2022-03-11 16:41:07,782 - INFO - downloader - skip downloading file 000064.jpg\n",
      "2022-03-11 16:41:07,782 - INFO - downloader - skip downloading file 000065.jpg\n",
      "2022-03-11 16:41:07,783 - INFO - downloader - skip downloading file 000066.jpg\n",
      "2022-03-11 16:41:07,783 - INFO - downloader - skip downloading file 000067.jpg\n",
      "2022-03-11 16:41:07,784 - INFO - downloader - skip downloading file 000068.jpg\n",
      "2022-03-11 16:41:07,785 - INFO - downloader - skip downloading file 000069.jpg\n",
      "2022-03-11 16:41:07,785 - INFO - downloader - skip downloading file 000070.jpg\n",
      "2022-03-11 16:41:07,785 - INFO - downloader - skip downloading file 000071.jpg\n",
      "2022-03-11 16:41:07,786 - INFO - downloader - skip downloading file 000072.jpg\n",
      "2022-03-11 16:41:07,786 - INFO - downloader - skip downloading file 000073.jpg\n",
      "2022-03-11 16:41:07,787 - INFO - downloader - skip downloading file 000074.jpg\n",
      "2022-03-11 16:41:07,787 - INFO - downloader - skip downloading file 000075.jpg\n",
      "2022-03-11 16:41:07,788 - INFO - downloader - skip downloading file 000076.jpg\n",
      "2022-03-11 16:41:07,788 - INFO - downloader - skip downloading file 000077.jpg\n",
      "2022-03-11 16:41:07,789 - INFO - downloader - skip downloading file 000078.jpg\n",
      "2022-03-11 16:41:07,789 - INFO - downloader - skip downloading file 000079.jpg\n",
      "2022-03-11 16:41:08,133 - ERROR - downloader - Response status code 404, file https://upload.wikimedia.org/wikipedia/commons/thumb/6/65/High-resolution_computed_tomograph_of_a_normal_thorax%2C_coronal_plane_%2843%29.jpg\n",
      "2022-03-11 16:41:08,423 - INFO - downloader - image #80\thttps://upload.wikimedia.org/wikipedia/commons/0/0e/X-ray_of_port-a-cath_in_azygos_vein_-_anteroposterior.jpg\n",
      "2022-03-11 16:41:08,440 - INFO - downloader - skip downloading file 000081.jpg\n",
      "2022-03-11 16:41:08,618 - INFO - downloader - image #82\thttps://upload.wikimedia.org/wikipedia/commons/c/c0/Macklin-Effekt_nach_stumpfem_Thoraxtrauma_53M_-_CT_axial_KM_-_002.jpg\n",
      "2022-03-11 16:41:08,769 - INFO - downloader - image #83\thttps://upload.wikimedia.org/wikipedia/commons/2/26/WW1_fluoroscope_operation.jpg\n",
      "2022-03-11 16:41:09,520 - INFO - downloader - image #84\thttps://upload.wikimedia.org/wikipedia/commons/f/f3/High-resolution_computed_tomograph_of_a_normal_thorax%2C_axial_plane_%2810%29.jpg\n",
      "2022-03-11 16:41:09,525 - INFO - downloader - skip downloading file 000085.jpg\n",
      "2022-03-11 16:41:09,799 - INFO - downloader - image #86\thttps://upload.wikimedia.org/wikipedia/commons/8/8c/Zementembolie_nach_Kyphoplastie_92jw_-_Roe_pa_und_CT_KF_axial_-_001.jpg\n",
      "2022-03-11 16:41:10,154 - INFO - downloader - image #87\thttps://upload.wikimedia.org/wikipedia/commons/f/f4/Corythosaurus_skin_impression.png\n",
      "2022-03-11 16:41:10,263 - INFO - downloader - image #88\thttps://upload.wikimedia.org/wikipedia/commons/4/48/Floride_kavernisierende_Tuberkulose_27M_-_CT_coronar_-_001.jpg\n",
      "2022-03-11 16:41:10,266 - INFO - downloader - skip downloading file 000089.jpg\n",
      "2022-03-11 16:41:10,267 - INFO - downloader - skip downloading file 000090.jpg\n",
      "2022-03-11 16:41:10,267 - INFO - downloader - skip downloading file 000091.jpg\n",
      "2022-03-11 16:41:10,344 - INFO - downloader - image #92\thttps://upload.wikimedia.org/wikipedia/commons/3/3e/Thoracic_spine_AP.png\n",
      "2022-03-11 16:41:10,348 - INFO - downloader - skip downloading file 000093.jpg\n",
      "2022-03-11 16:41:10,348 - INFO - downloader - skip downloading file 000094.jpg\n",
      "2022-03-11 16:41:10,349 - INFO - downloader - skip downloading file 000095.jpg\n",
      "2022-03-11 16:41:10,349 - INFO - downloader - skip downloading file 000096.jpg\n",
      "2022-03-11 16:41:10,350 - INFO - downloader - skip downloading file 000097.jpg\n",
      "2022-03-11 16:41:10,473 - INFO - downloader - image #98\thttps://upload.wikimedia.org/wikipedia/commons/c/c1/18-01-Lungenoedem_CT_coronar.png\n",
      "2022-03-11 16:41:10,701 - INFO - downloader - image #99\thttps://upload.wikimedia.org/wikipedia/commons/8/86/Eitrige_Perikarditis_50M_-_CT_axial_KM_pv_-_001.jpg\n",
      "2022-03-11 16:41:11,120 - INFO - downloader - image #100\thttps://upload.wikimedia.org/wikipedia/commons/1/1f/Retroperitoneal_lymphadenopathies_of_testicular_seminoma%2C_1_26%2C_CT_image.jpg\n",
      "2022-03-11 16:41:11,292 - INFO - downloader - image #101\thttps://upload.wikimedia.org/wikipedia/commons/3/36/X-ray_of_COPD_exacerbation_-_anteroposterior_view.jpg\n",
      "2022-03-11 16:41:11,410 - INFO - downloader - image #102\thttps://upload.wikimedia.org/wikipedia/commons/e/e7/CT_WTF_mit_bds_Unterlappen-Atelektase.jpg\n",
      "2022-03-11 16:41:11,933 - INFO - downloader - image #103\thttps://upload.wikimedia.org/wikipedia/commons/c/ce/Zementembolie_CT_axial_und_sagittal.jpg\n",
      "2022-03-11 16:41:11,943 - INFO - parser - parsing result page https://www.google.com/search?q=lung+ct&ijn=1&start=100&tbs=isz%3Al%2Cic%3Agray%2Csur%3Afmc%2Ccdr%3A1%2Ccd_min%3A01%2F01%2F2021%2Ccd_max%3A12%2F30%2F2021&tbm=isch\n",
      "2022-03-11 16:41:12,210 - INFO - downloader - image #104\thttps://upload.wikimedia.org/wikipedia/commons/7/76/Mediastinalemphysem_-_Roe_vs_CT_LF.jpg\n",
      "2022-03-11 16:41:12,640 - INFO - parser - parsing result page https://www.google.com/search?q=lung+ct&ijn=2&start=200&tbs=isz%3Al%2Cic%3Agray%2Csur%3Afmc%2Ccdr%3A1%2Ccd_min%3A01%2F01%2F2021%2Ccd_max%3A12%2F30%2F2021&tbm=isch\n",
      "2022-03-11 16:41:13,128 - INFO - downloader - image #105\thttps://upload.wikimedia.org/wikipedia/commons/2/2f/Computed_tomography_of_human_brain_-_large%2C_inverted.png\n",
      "2022-03-11 16:41:14,960 - INFO - parser - parsing result page https://www.google.com/search?q=lung+ct&ijn=3&start=300&tbs=isz%3Al%2Cic%3Agray%2Csur%3Afmc%2Ccdr%3A1%2Ccd_min%3A01%2F01%2F2021%2Ccd_max%3A12%2F30%2F2021&tbm=isch\n",
      "2022-03-11 16:41:14,992 - INFO - feeder - thread feeder-001 exit\n",
      "2022-03-11 16:41:15,272 - INFO - downloader - image #106\thttps://images.freeimg.net/rsynced_images/xray-4125791_1280.jpg\n",
      "2022-03-11 16:41:15,500 - INFO - downloader - image #107\thttps://upload.wikimedia.org/wikipedia/commons/e/eb/Legionellenpneumonie_vor_allem_im_linken_Oberlappen_65M_-_CR_pa_und_CT_koronar_und_sagittal_-_001.jpg\n",
      "2022-03-11 16:41:15,575 - INFO - parser - parsing result page https://www.google.com/search?q=lung+ct&ijn=4&start=400&tbs=isz%3Al%2Cic%3Agray%2Csur%3Afmc%2Ccdr%3A1%2Ccd_min%3A01%2F01%2F2021%2Ccd_max%3A12%2F30%2F2021&tbm=isch\n",
      "2022-03-11 16:41:16,201 - INFO - parser - parsing result page https://www.google.com/search?q=lung+ct&ijn=5&start=500&tbs=isz%3Al%2Cic%3Agray%2Csur%3Afmc%2Ccdr%3A1%2Ccd_min%3A01%2F01%2F2021%2Ccd_max%3A12%2F30%2F2021&tbm=isch\n",
      "2022-03-11 16:41:16,292 - INFO - downloader - image #108\thttps://upload.wikimedia.org/wikipedia/commons/b/bb/Kinderfresser_3.jpg\n",
      "2022-03-11 16:41:16,832 - INFO - parser - parsing result page https://www.google.com/search?q=lung+ct&ijn=6&start=600&tbs=isz%3Al%2Cic%3Agray%2Csur%3Afmc%2Ccdr%3A1%2Ccd_min%3A01%2F01%2F2021%2Ccd_max%3A12%2F30%2F2021&tbm=isch\n",
      "2022-03-11 16:41:17,467 - INFO - parser - parsing result page https://www.google.com/search?q=lung+ct&ijn=7&start=700&tbs=isz%3Al%2Cic%3Agray%2Csur%3Afmc%2Ccdr%3A1%2Ccd_min%3A01%2F01%2F2021%2Ccd_max%3A12%2F30%2F2021&tbm=isch\n",
      "2022-03-11 16:41:18,189 - INFO - parser - parsing result page https://www.google.com/search?q=lung+ct&ijn=8&start=800&tbs=isz%3Al%2Cic%3Agray%2Csur%3Afmc%2Ccdr%3A1%2Ccd_min%3A01%2F01%2F2021%2Ccd_max%3A12%2F30%2F2021&tbm=isch\n",
      "2022-03-11 16:41:18,909 - INFO - parser - parsing result page https://www.google.com/search?q=lung+ct&ijn=9&start=900&tbs=isz%3Al%2Cic%3Agray%2Csur%3Afmc%2Ccdr%3A1%2Ccd_min%3A01%2F01%2F2021%2Ccd_max%3A12%2F30%2F2021&tbm=isch\n",
      "2022-03-11 16:41:20,504 - INFO - downloader - downloader-004 is waiting for new download tasks\n",
      "2022-03-11 16:41:20,942 - INFO - parser - no more page urls for thread parser-001 to parse\n",
      "2022-03-11 16:41:20,942 - INFO - parser - thread parser-001 exit\n",
      "2022-03-11 16:41:20,966 - INFO - downloader - downloader-003 is waiting for new download tasks\n",
      "2022-03-11 16:41:21,298 - INFO - downloader - downloader-002 is waiting for new download tasks\n",
      "2022-03-11 16:41:21,303 - INFO - downloader - downloader-001 is waiting for new download tasks\n",
      "2022-03-11 16:41:25,504 - INFO - downloader - no more download task for thread downloader-004\n",
      "2022-03-11 16:41:25,504 - INFO - downloader - thread downloader-004 exit\n",
      "2022-03-11 16:41:25,966 - INFO - downloader - no more download task for thread downloader-003\n",
      "2022-03-11 16:41:25,966 - INFO - downloader - thread downloader-003 exit\n",
      "2022-03-11 16:41:26,298 - INFO - downloader - no more download task for thread downloader-002\n",
      "2022-03-11 16:41:26,298 - INFO - downloader - thread downloader-002 exit\n",
      "2022-03-11 16:41:26,304 - INFO - downloader - no more download task for thread downloader-001\n",
      "2022-03-11 16:41:26,304 - INFO - downloader - thread downloader-001 exit\n",
      "2022-03-11 16:41:26,485 - INFO - icrawler.crawler - Crawling task done!\n"
     ]
    }
   ],
   "source": [
    "### image crawling from google with GoogleImageCrawler\n",
    "google_crawler = GoogleImageCrawler(\n",
    "    feeder_threads=1,\n",
    "    parser_threads=1,\n",
    "    downloader_threads=4,\n",
    "    storage={'root_dir': 'E:/RESEARCH/Datasets/HRV/crawl_test'}) #set the storage root\n",
    "\n",
    "filters = dict(\n",
    "    #type=photo,face,clipart,linedrawing,animated\n",
    "    size='large',\n",
    "    #size=large, medium, icon, or larger than a given size e.g.\">640x480\" or exactly giving size\"=1024x768\n",
    "    color='blackandwhite',\n",
    "    #coler=blackandwhite, red, oragne, yellow, green, teal, blue, purple, pink, white, gray, black, brown\n",
    "    license='commercial,modify',\n",
    "    #license=noncommercial, commercial, noncommercial,modify , commercial,modify\n",
    "    date=((2021, 1, 1), (2021, 12, 30)))\n",
    "\n",
    "# type the keyword of the image that you want to crawl from google\n",
    "google_crawler.crawl(keyword='lung ct', filters=filters, offset=0, max_num=1000,\n",
    "                     min_size=(200,200), max_size=None, file_idx_offset=0)"
   ]
  },
  {
   "cell_type": "code",
   "execution_count": null,
   "id": "367f0166-9a42-4a00-86e7-8271ca7d71b9",
   "metadata": {},
   "outputs": [],
   "source": []
  },
  {
   "cell_type": "code",
   "execution_count": null,
   "id": "0442771a-ff68-4ebe-b255-845dea0c4d6f",
   "metadata": {},
   "outputs": [],
   "source": []
  },
  {
   "cell_type": "code",
   "execution_count": null,
   "id": "2d24b406-8dec-4f4b-bcad-2e965b34d93d",
   "metadata": {},
   "outputs": [],
   "source": []
  },
  {
   "cell_type": "markdown",
   "id": "49b3b93b-0eae-4f6d-927a-97b64e7c0d52",
   "metadata": {},
   "source": [
    "### 2-2) Getting Numerical Data"
   ]
  },
  {
   "cell_type": "markdown",
   "id": "03c06a71-f1b9-4453-bf75-11e92f6d9812",
   "metadata": {},
   "source": [
    "maybe from kaggle, google, or uci machine learning dataset"
   ]
  },
  {
   "cell_type": "code",
   "execution_count": 12,
   "id": "117ad1f2-8f4b-404e-9618-0f83b5801f2e",
   "metadata": {},
   "outputs": [],
   "source": [
    "### In our medical case, we adopt HRV dataset from SWEEL HRV research\n",
    "### Using public data must be very careful, and researchers should only use them for training data supplement.\n",
    "\n",
    "public = pd.read_csv('E:/RESEARCH/Datasets/HRV/HRV_Public/SWELL_hrv/data/final/train.csv', sep=',')"
   ]
  },
  {
   "cell_type": "code",
   "execution_count": 13,
   "id": "3e9ed78e-ce72-4346-b7e0-cd01af236a14",
   "metadata": {},
   "outputs": [
    {
     "name": "stdout",
     "output_type": "stream",
     "text": [
      "(369289, 36)\n",
      "Index(['MEAN_RR', 'MEDIAN_RR', 'SDRR', 'RMSSD', 'SDSD', 'SDRR_RMSSD', 'HR',\n",
      "       'pNN25', 'PNN50', 'SD1', 'SD2', 'KURT', 'SKEW', 'MEAN_REL_RR',\n",
      "       'MEDIAN_REL_RR', 'SDRR_REL_RR', 'RMSSD_REL_RR', 'SDSD_REL_RR',\n",
      "       'SDRR_RMSSD_REL_RR', 'KURT_REL_RR', 'SKEW_REL_RR', 'VLF', 'VLF_PCT',\n",
      "       'LF', 'LF_PCT', 'LF_NU', 'HF', 'HF_PCT', 'HF_NU', 'TP', 'LF_HF',\n",
      "       'HF_LF', 'sampen', 'higuci', 'datasetId', 'condition'],\n",
      "      dtype='object')\n"
     ]
    },
    {
     "data": {
      "text/html": [
       "<div>\n",
       "<style scoped>\n",
       "    .dataframe tbody tr th:only-of-type {\n",
       "        vertical-align: middle;\n",
       "    }\n",
       "\n",
       "    .dataframe tbody tr th {\n",
       "        vertical-align: top;\n",
       "    }\n",
       "\n",
       "    .dataframe thead th {\n",
       "        text-align: right;\n",
       "    }\n",
       "</style>\n",
       "<table border=\"1\" class=\"dataframe\">\n",
       "  <thead>\n",
       "    <tr style=\"text-align: right;\">\n",
       "      <th></th>\n",
       "      <th>MEAN_RR</th>\n",
       "      <th>MEDIAN_RR</th>\n",
       "      <th>SDRR</th>\n",
       "      <th>RMSSD</th>\n",
       "      <th>SDSD</th>\n",
       "      <th>SDRR_RMSSD</th>\n",
       "      <th>HR</th>\n",
       "      <th>pNN25</th>\n",
       "      <th>PNN50</th>\n",
       "      <th>SD1</th>\n",
       "      <th>...</th>\n",
       "      <th>HF</th>\n",
       "      <th>HF_PCT</th>\n",
       "      <th>HF_NU</th>\n",
       "      <th>TP</th>\n",
       "      <th>LF_HF</th>\n",
       "      <th>HF_LF</th>\n",
       "      <th>sampen</th>\n",
       "      <th>higuci</th>\n",
       "      <th>datasetId</th>\n",
       "      <th>condition</th>\n",
       "    </tr>\n",
       "  </thead>\n",
       "  <tbody>\n",
       "    <tr>\n",
       "      <th>0</th>\n",
       "      <td>885.157845</td>\n",
       "      <td>853.763730</td>\n",
       "      <td>140.972741</td>\n",
       "      <td>15.554505</td>\n",
       "      <td>15.553371</td>\n",
       "      <td>9.063146</td>\n",
       "      <td>69.499952</td>\n",
       "      <td>11.133333</td>\n",
       "      <td>0.533333</td>\n",
       "      <td>11.001565</td>\n",
       "      <td>...</td>\n",
       "      <td>15.522602</td>\n",
       "      <td>0.421047</td>\n",
       "      <td>1.514737</td>\n",
       "      <td>3686.666157</td>\n",
       "      <td>65.018055</td>\n",
       "      <td>0.015380</td>\n",
       "      <td>2.139754</td>\n",
       "      <td>1.163485</td>\n",
       "      <td>2</td>\n",
       "      <td>no stress</td>\n",
       "    </tr>\n",
       "    <tr>\n",
       "      <th>1</th>\n",
       "      <td>939.425371</td>\n",
       "      <td>948.357865</td>\n",
       "      <td>81.317742</td>\n",
       "      <td>12.964439</td>\n",
       "      <td>12.964195</td>\n",
       "      <td>6.272369</td>\n",
       "      <td>64.363150</td>\n",
       "      <td>5.600000</td>\n",
       "      <td>0.000000</td>\n",
       "      <td>9.170129</td>\n",
       "      <td>...</td>\n",
       "      <td>2.108525</td>\n",
       "      <td>0.070133</td>\n",
       "      <td>0.304603</td>\n",
       "      <td>3006.487251</td>\n",
       "      <td>327.296635</td>\n",
       "      <td>0.003055</td>\n",
       "      <td>2.174499</td>\n",
       "      <td>1.084711</td>\n",
       "      <td>2</td>\n",
       "      <td>interruption</td>\n",
       "    </tr>\n",
       "    <tr>\n",
       "      <th>2</th>\n",
       "      <td>898.186047</td>\n",
       "      <td>907.006860</td>\n",
       "      <td>84.497236</td>\n",
       "      <td>16.305279</td>\n",
       "      <td>16.305274</td>\n",
       "      <td>5.182201</td>\n",
       "      <td>67.450066</td>\n",
       "      <td>13.066667</td>\n",
       "      <td>0.200000</td>\n",
       "      <td>11.533417</td>\n",
       "      <td>...</td>\n",
       "      <td>13.769729</td>\n",
       "      <td>0.512671</td>\n",
       "      <td>1.049528</td>\n",
       "      <td>2685.879461</td>\n",
       "      <td>94.280910</td>\n",
       "      <td>0.010607</td>\n",
       "      <td>2.135350</td>\n",
       "      <td>1.176315</td>\n",
       "      <td>2</td>\n",
       "      <td>interruption</td>\n",
       "    </tr>\n",
       "    <tr>\n",
       "      <th>3</th>\n",
       "      <td>881.757864</td>\n",
       "      <td>893.460030</td>\n",
       "      <td>90.370537</td>\n",
       "      <td>15.720468</td>\n",
       "      <td>15.720068</td>\n",
       "      <td>5.748591</td>\n",
       "      <td>68.809562</td>\n",
       "      <td>11.800000</td>\n",
       "      <td>0.133333</td>\n",
       "      <td>11.119476</td>\n",
       "      <td>...</td>\n",
       "      <td>18.181913</td>\n",
       "      <td>0.529387</td>\n",
       "      <td>1.775294</td>\n",
       "      <td>3434.520980</td>\n",
       "      <td>55.328701</td>\n",
       "      <td>0.018074</td>\n",
       "      <td>2.178341</td>\n",
       "      <td>1.179688</td>\n",
       "      <td>2</td>\n",
       "      <td>no stress</td>\n",
       "    </tr>\n",
       "    <tr>\n",
       "      <th>4</th>\n",
       "      <td>809.625331</td>\n",
       "      <td>811.184865</td>\n",
       "      <td>62.766242</td>\n",
       "      <td>19.213819</td>\n",
       "      <td>19.213657</td>\n",
       "      <td>3.266724</td>\n",
       "      <td>74.565728</td>\n",
       "      <td>20.200000</td>\n",
       "      <td>0.200000</td>\n",
       "      <td>13.590641</td>\n",
       "      <td>...</td>\n",
       "      <td>48.215822</td>\n",
       "      <td>1.839473</td>\n",
       "      <td>3.279993</td>\n",
       "      <td>2621.175204</td>\n",
       "      <td>29.487873</td>\n",
       "      <td>0.033912</td>\n",
       "      <td>2.221121</td>\n",
       "      <td>1.249612</td>\n",
       "      <td>2</td>\n",
       "      <td>no stress</td>\n",
       "    </tr>\n",
       "  </tbody>\n",
       "</table>\n",
       "<p>5 rows × 36 columns</p>\n",
       "</div>"
      ],
      "text/plain": [
       "      MEAN_RR   MEDIAN_RR        SDRR      RMSSD       SDSD  SDRR_RMSSD  \\\n",
       "0  885.157845  853.763730  140.972741  15.554505  15.553371    9.063146   \n",
       "1  939.425371  948.357865   81.317742  12.964439  12.964195    6.272369   \n",
       "2  898.186047  907.006860   84.497236  16.305279  16.305274    5.182201   \n",
       "3  881.757864  893.460030   90.370537  15.720468  15.720068    5.748591   \n",
       "4  809.625331  811.184865   62.766242  19.213819  19.213657    3.266724   \n",
       "\n",
       "          HR      pNN25     PNN50        SD1  ...         HF    HF_PCT  \\\n",
       "0  69.499952  11.133333  0.533333  11.001565  ...  15.522602  0.421047   \n",
       "1  64.363150   5.600000  0.000000   9.170129  ...   2.108525  0.070133   \n",
       "2  67.450066  13.066667  0.200000  11.533417  ...  13.769729  0.512671   \n",
       "3  68.809562  11.800000  0.133333  11.119476  ...  18.181913  0.529387   \n",
       "4  74.565728  20.200000  0.200000  13.590641  ...  48.215822  1.839473   \n",
       "\n",
       "      HF_NU           TP       LF_HF     HF_LF    sampen    higuci  datasetId  \\\n",
       "0  1.514737  3686.666157   65.018055  0.015380  2.139754  1.163485          2   \n",
       "1  0.304603  3006.487251  327.296635  0.003055  2.174499  1.084711          2   \n",
       "2  1.049528  2685.879461   94.280910  0.010607  2.135350  1.176315          2   \n",
       "3  1.775294  3434.520980   55.328701  0.018074  2.178341  1.179688          2   \n",
       "4  3.279993  2621.175204   29.487873  0.033912  2.221121  1.249612          2   \n",
       "\n",
       "      condition  \n",
       "0     no stress  \n",
       "1  interruption  \n",
       "2  interruption  \n",
       "3     no stress  \n",
       "4     no stress  \n",
       "\n",
       "[5 rows x 36 columns]"
      ]
     },
     "execution_count": 13,
     "metadata": {},
     "output_type": "execute_result"
    }
   ],
   "source": [
    "### data shape, variables check\n",
    "print(public.shape)\n",
    "print(public.columns)\n",
    "public.head()"
   ]
  },
  {
   "cell_type": "code",
   "execution_count": null,
   "id": "9b171441-8ff0-4965-bff6-1f7cb046edf7",
   "metadata": {},
   "outputs": [],
   "source": []
  },
  {
   "cell_type": "code",
   "execution_count": null,
   "id": "5c997207-94be-469d-a24f-25bc13e1100e",
   "metadata": {},
   "outputs": [],
   "source": []
  },
  {
   "cell_type": "code",
   "execution_count": null,
   "id": "fec6d4b8-e955-4fba-b7ef-63043c617298",
   "metadata": {},
   "outputs": [],
   "source": []
  },
  {
   "cell_type": "code",
   "execution_count": null,
   "id": "c3394733-fd8f-48ff-8115-f8f5e7aa0f6b",
   "metadata": {},
   "outputs": [],
   "source": []
  },
  {
   "cell_type": "code",
   "execution_count": null,
   "id": "cf56f268-112a-46ea-923e-48e12a147f55",
   "metadata": {},
   "outputs": [],
   "source": []
  },
  {
   "cell_type": "code",
   "execution_count": null,
   "id": "9e63ca2d-9076-4418-908e-58c9c9c90d73",
   "metadata": {},
   "outputs": [],
   "source": []
  },
  {
   "cell_type": "markdown",
   "id": "9b52868f-f63b-4ff8-aed0-a3269d29cc3c",
   "metadata": {},
   "source": [
    "## 03. Data Filtering (1st)"
   ]
  },
  {
   "cell_type": "code",
   "execution_count": null,
   "id": "d79d6b5b-9956-4139-935b-ab87e1421e0b",
   "metadata": {},
   "outputs": [],
   "source": []
  },
  {
   "cell_type": "code",
   "execution_count": null,
   "id": "20213e76-d743-42cd-9691-fbd7d2136548",
   "metadata": {},
   "outputs": [],
   "source": []
  },
  {
   "cell_type": "code",
   "execution_count": null,
   "id": "65cc1ced-09bf-433d-ab78-7767b66b6d1f",
   "metadata": {},
   "outputs": [],
   "source": []
  },
  {
   "cell_type": "code",
   "execution_count": null,
   "id": "faa7b872-dedb-4187-aa39-d0feac1d882c",
   "metadata": {},
   "outputs": [],
   "source": []
  },
  {
   "cell_type": "code",
   "execution_count": null,
   "id": "e158e0eb-bceb-4d97-83fe-1f411681f6e3",
   "metadata": {},
   "outputs": [],
   "source": []
  },
  {
   "cell_type": "code",
   "execution_count": null,
   "id": "263d9b0a-7d75-4fc5-b5be-92c720c38c68",
   "metadata": {},
   "outputs": [],
   "source": []
  },
  {
   "cell_type": "code",
   "execution_count": null,
   "id": "ac376d0f-b7ea-4314-a15f-42f80d611b20",
   "metadata": {},
   "outputs": [],
   "source": []
  },
  {
   "cell_type": "code",
   "execution_count": null,
   "id": "b25d7600-03d5-47eb-bb84-b4ac14a276f3",
   "metadata": {},
   "outputs": [],
   "source": []
  },
  {
   "cell_type": "code",
   "execution_count": null,
   "id": "97bdfdb3-32e1-45e8-b8f3-b31a733f047a",
   "metadata": {},
   "outputs": [],
   "source": []
  },
  {
   "cell_type": "code",
   "execution_count": null,
   "id": "e3ce13b3-54c4-471d-a425-9bfe803fc1f9",
   "metadata": {},
   "outputs": [],
   "source": []
  },
  {
   "cell_type": "code",
   "execution_count": null,
   "id": "de832d3f-0124-40be-b1f5-2e8d0fd49930",
   "metadata": {},
   "outputs": [],
   "source": []
  },
  {
   "cell_type": "code",
   "execution_count": null,
   "id": "5811e69c-30f5-491c-91bb-16bbac1f5c25",
   "metadata": {},
   "outputs": [],
   "source": []
  },
  {
   "cell_type": "code",
   "execution_count": null,
   "id": "89721dd0-51ac-4710-bb6d-509191e65419",
   "metadata": {},
   "outputs": [],
   "source": []
  },
  {
   "cell_type": "code",
   "execution_count": null,
   "id": "2f6f25bb-28e8-4524-8840-dc204a192b93",
   "metadata": {},
   "outputs": [],
   "source": []
  },
  {
   "cell_type": "markdown",
   "id": "54b5b2cb-c7c9-4d46-8dcc-2d51183ff71e",
   "metadata": {},
   "source": [
    "- - -"
   ]
  },
  {
   "cell_type": "markdown",
   "id": "afee9128-b642-404a-89c1-cd17dfd8e2b0",
   "metadata": {},
   "source": [
    "* preprocess our data to fit into domain data"
   ]
  },
  {
   "cell_type": "code",
   "execution_count": 15,
   "id": "c66f8a13-39c1-4c75-8846-db36c17273dd",
   "metadata": {},
   "outputs": [],
   "source": [
    "public_b = public[public['condition'] == 'no stress']\n",
    "public_s1 = public[public['condition'] == 'interruption']\n",
    "public_s2 = public[public['condition'] == 'time pressure']"
   ]
  },
  {
   "cell_type": "code",
   "execution_count": 16,
   "id": "81cc407c-2b7d-4b10-b10c-5cf11c75b3ab",
   "metadata": {},
   "outputs": [
    {
     "name": "stdout",
     "output_type": "stream",
     "text": [
      "(200082, 36)\n",
      "(105150, 36)\n",
      "(64057, 36)\n"
     ]
    }
   ],
   "source": [
    "print(public_b.shape)\n",
    "print(public_s1.shape)\n",
    "print(public_s2.shape)"
   ]
  },
  {
   "cell_type": "code",
   "execution_count": 17,
   "id": "3e1d9cdf-f311-44c4-96e2-2a6419c8f3c7",
   "metadata": {},
   "outputs": [],
   "source": [
    "### deleting unnecessary variables and select the variables that domain has\n",
    "public = public.loc[:,['RMSSD', 'HR', 'PNN50', 'VLF', 'LF', 'HF', 'LF_HF']]\n",
    "public_b = public_b.loc[:,['RMSSD', 'HR', 'PNN50', 'VLF', 'LF', 'HF', 'LF_HF']]\n",
    "public_s1 = public_s1.loc[:,['RMSSD', 'HR', 'PNN50', 'VLF', 'LF', 'HF', 'LF_HF']]\n",
    "public_s2 = public_s2.loc[:,['RMSSD', 'HR', 'PNN50', 'VLF', 'LF', 'HF', 'LF_HF']]"
   ]
  },
  {
   "cell_type": "code",
   "execution_count": 21,
   "id": "64caef5a-72ae-4806-9587-728ca5e86b59",
   "metadata": {},
   "outputs": [],
   "source": [
    "### normalize with scaler\n",
    "scaler = MinMaxScaler() #set the scaler\n",
    "public[:] = scaler.fit_transform(public[:])\n",
    "public_b[:] = scaler.fit_transform(public_b[:])\n",
    "public_s1[:] = scaler.fit_transform(public_s1[:])\n",
    "public_s2[:] = scaler.fit_transform(public_s2[:])"
   ]
  },
  {
   "cell_type": "code",
   "execution_count": null,
   "id": "ed854705-ba3a-42ce-a59c-3875695871ef",
   "metadata": {},
   "outputs": [],
   "source": []
  },
  {
   "cell_type": "markdown",
   "id": "6f310592-1355-4b31-8bf6-cc8827624bd9",
   "metadata": {},
   "source": [
    "- - -"
   ]
  },
  {
   "cell_type": "markdown",
   "id": "1079424e-1603-4750-a0af-f5d448d95bee",
   "metadata": {},
   "source": [
    "### 04. Dimensionality Reduction"
   ]
  },
  {
   "cell_type": "code",
   "execution_count": null,
   "id": "7d06dda1-5746-4a35-87aa-b0c28b417ecf",
   "metadata": {},
   "outputs": [],
   "source": []
  },
  {
   "cell_type": "code",
   "execution_count": null,
   "id": "e31cd48c-6835-46b3-9533-bc077cb0d942",
   "metadata": {},
   "outputs": [],
   "source": []
  },
  {
   "cell_type": "code",
   "execution_count": null,
   "id": "9edb08d1-af74-493b-a328-e17c24562485",
   "metadata": {},
   "outputs": [],
   "source": []
  },
  {
   "cell_type": "code",
   "execution_count": null,
   "id": "b3d12fb9-714d-4891-832d-c8a63b7b4c4b",
   "metadata": {},
   "outputs": [],
   "source": []
  },
  {
   "cell_type": "code",
   "execution_count": null,
   "id": "d627fc38-9f6f-4d0c-9a93-548a89e6043a",
   "metadata": {},
   "outputs": [],
   "source": []
  },
  {
   "cell_type": "code",
   "execution_count": null,
   "id": "c6715670-5e64-4ec5-813c-c22e2f4ec2af",
   "metadata": {},
   "outputs": [],
   "source": []
  },
  {
   "cell_type": "code",
   "execution_count": null,
   "id": "2bbc89da-fb0c-450a-8f90-ae0d573087e2",
   "metadata": {},
   "outputs": [],
   "source": []
  },
  {
   "cell_type": "code",
   "execution_count": null,
   "id": "1804656c-c8c8-499f-a7e1-192f9cc9bb39",
   "metadata": {},
   "outputs": [],
   "source": []
  },
  {
   "cell_type": "code",
   "execution_count": null,
   "id": "aca0588d-e2f1-44fa-ada4-0252b497e9f5",
   "metadata": {},
   "outputs": [],
   "source": []
  },
  {
   "cell_type": "code",
   "execution_count": null,
   "id": "1de72f66-6d64-4ebf-bb4c-eebd3a45adbe",
   "metadata": {},
   "outputs": [],
   "source": []
  },
  {
   "cell_type": "code",
   "execution_count": null,
   "id": "7f11a1d2-97b8-450a-a91b-b2b73772916d",
   "metadata": {},
   "outputs": [],
   "source": []
  },
  {
   "cell_type": "code",
   "execution_count": null,
   "id": "88f94443-58e0-434e-afae-6b935a5bed90",
   "metadata": {},
   "outputs": [],
   "source": []
  },
  {
   "cell_type": "code",
   "execution_count": null,
   "id": "4f3af009-404d-42c1-bda2-978d382b1923",
   "metadata": {},
   "outputs": [],
   "source": []
  }
 ],
 "metadata": {
  "kernelspec": {
   "display_name": "Python 3",
   "language": "python",
   "name": "python3"
  },
  "language_info": {
   "codemirror_mode": {
    "name": "ipython",
    "version": 3
   },
   "file_extension": ".py",
   "mimetype": "text/x-python",
   "name": "python",
   "nbconvert_exporter": "python",
   "pygments_lexer": "ipython3",
   "version": "3.8.10"
  }
 },
 "nbformat": 4,
 "nbformat_minor": 5
}
