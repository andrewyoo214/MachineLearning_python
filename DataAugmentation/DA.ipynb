{
 "cells": [
  {
   "cell_type": "markdown",
   "id": "938fcb43-4b9e-4aeb-90f3-bb862f8e72ca",
   "metadata": {},
   "source": [
    "# Data Augmentation Box"
   ]
  },
  {
   "cell_type": "markdown",
   "id": "6c7f1b6c-da66-488a-a24a-1272eb35e18f",
   "metadata": {},
   "source": [
    "Project for Data Augmentation System"
   ]
  },
  {
   "cell_type": "markdown",
   "id": "bc0f750e-a3bd-495f-bbca-b2e65c492c87",
   "metadata": {},
   "source": [
    "## Data Augmentation Order\n",
    "\n",
    "STEP 1 - Domain Data Preparation\n",
    "1. Domain data labeling check\n",
    "2. Dimensionality Reduction\n",
    "3. Regression analysis\n",
    "\n",
    "\n",
    "STEP 2 - Data Augmentation\n",
    "1. Domain data check\n",
    "02. Crawling\n",
    "03. Data filtering (1st)\n",
    "04. Dimensionality Reduction\n",
    "05. Label Spreading (semi-supervised learning based)\n",
    "06. Data Filtering (2nd)\n",
    "07. Regression analytsis\n",
    "08. Data Filtering (3rd)\n",
    "09. Data Augmentation\n",
    "10. Model Generation"
   ]
  },
  {
   "cell_type": "markdown",
   "id": "e0274c5b-defe-43a0-8d24-a70b30719312",
   "metadata": {},
   "source": [
    "- - -"
   ]
  },
  {
   "cell_type": "code",
   "execution_count": null,
   "id": "71258b72-4f59-4703-a68d-8fcef68e61d5",
   "metadata": {},
   "outputs": [],
   "source": []
  },
  {
   "cell_type": "code",
   "execution_count": null,
   "id": "965875d6-0f07-499f-b2aa-8661abe35981",
   "metadata": {},
   "outputs": [],
   "source": [
    "import os\n",
    "import numpy as np\n",
    "import pandas as pd\n",
    "import seaborn as sns\n",
    "import matplotlib.pyplot as plt"
   ]
  },
  {
   "cell_type": "markdown",
   "id": "884086bf-c312-4af8-bec9-6c903212ae3f",
   "metadata": {},
   "source": [
    "## 1. Domain Data Check"
   ]
  },
  {
   "cell_type": "markdown",
   "id": "ca0634bb-3549-4206-864e-018f4813f5ce",
   "metadata": {},
   "source": [
    "we have to check the domain data "
   ]
  },
  {
   "cell_type": "markdown",
   "id": "164251fd-e819-4eb0-aded-5d435b2d03f0",
   "metadata": {},
   "source": [
    "### 1-1) image dataset"
   ]
  },
  {
   "cell_type": "code",
   "execution_count": null,
   "id": "bd7fa118-272b-43cd-8ede-d544f63e8688",
   "metadata": {},
   "outputs": [],
   "source": [
    "domain ="
   ]
  },
  {
   "cell_type": "code",
   "execution_count": null,
   "id": "2f46006c-87a0-4d89-9d7d-fd78dec740c7",
   "metadata": {},
   "outputs": [],
   "source": []
  },
  {
   "cell_type": "code",
   "execution_count": null,
   "id": "80d25f3e-0e43-4900-9934-2e97529592ec",
   "metadata": {},
   "outputs": [],
   "source": []
  },
  {
   "cell_type": "markdown",
   "id": "d19bf23a-4667-4b76-a85c-d0d3d4956a30",
   "metadata": {},
   "source": [
    "### 1-2) numerical dataset"
   ]
  },
  {
   "cell_type": "code",
   "execution_count": null,
   "id": "e68af2e8-cfe5-4b72-82b4-e5289a652d6b",
   "metadata": {},
   "outputs": [],
   "source": [
    "### HRV numerical dataset\n",
    "domain = pd.read_csv('E:/RESEARCH/Datasets/HRV/HRV_REV_all.csv', sep=',')"
   ]
  },
  {
   "cell_type": "code",
   "execution_count": null,
   "id": "fadb654f-8f3d-4d7d-9c8e-5a044e4523c3",
   "metadata": {},
   "outputs": [],
   "source": [
    "### data shape check\n",
    "domain.shape"
   ]
  },
  {
   "cell_type": "code",
   "execution_count": null,
   "id": "207c8f3c-9ab6-4c10-a25b-3333f60bc7a4",
   "metadata": {},
   "outputs": [],
   "source": [
    "### data variable columns check\n",
    "print(domain.columns)\n",
    "domain.head()"
   ]
  },
  {
   "cell_type": "code",
   "execution_count": null,
   "id": "94d28c96-1a8a-478b-8fab-9cfbf47d738b",
   "metadata": {},
   "outputs": [],
   "source": [
    "### checking lables for the data\n",
    "domain.loc[domain['HAMD']<=7, 'IndexH'] =0\n",
    "domain.loc[(domain['HAMD']>7) & (domain['HAMD']<=16), 'IndexH'] = 1\n",
    "domain.loc[domain['HAMD']>16, 'IndexH'] = 2\n",
    "domain_y = domain.loc[:,'IndexH']\n",
    "# domain_y = domain.loc[:,'disorder']"
   ]
  },
  {
   "cell_type": "code",
   "execution_count": null,
   "id": "4f061d7c-b18c-4d8a-abfe-a28f0dfb2657",
   "metadata": {},
   "outputs": [],
   "source": [
    "### deleting unnecessary data columns\n",
    "domain = domain.drop(['sub','age','gender','VISIT','disorder','HAMD', 'HAMA','PDSS','ASI','APPQ','PSWQ','SPI','PSS','BIS','SSI','IndexH'], axis=1)"
   ]
  },
  {
   "cell_type": "code",
   "execution_count": null,
   "id": "2ac908b3-ef7f-4fd8-a5bf-133cff76cef7",
   "metadata": {},
   "outputs": [],
   "source": [
    "### check the domain data columns again\n",
    "print(domain.columns)\n",
    "print(domain.shape)"
   ]
  },
  {
   "cell_type": "code",
   "execution_count": null,
   "id": "f4eb2a97-4144-4464-9128-de68912c32f4",
   "metadata": {},
   "outputs": [],
   "source": []
  },
  {
   "cell_type": "code",
   "execution_count": null,
   "id": "cf072951-f7bc-4eac-ad99-fa78e732c136",
   "metadata": {},
   "outputs": [],
   "source": []
  },
  {
   "cell_type": "markdown",
   "id": "af84f59f-4447-43ad-bb06-e00c57a0ce29",
   "metadata": {},
   "source": [
    "## Python data crawling"
   ]
  },
  {
   "cell_type": "markdown",
   "id": "4ae38185-405e-4b24-a36f-306f0c0ad8e5",
   "metadata": {},
   "source": [
    "we proceed data crawling to support insufficient data environment"
   ]
  },
  {
   "cell_type": "code",
   "execution_count": null,
   "id": "e7e1f564-4079-4bf8-b89d-24e3974eca94",
   "metadata": {},
   "outputs": [],
   "source": [
    "import urllib.request\n",
    "import time\n",
    "from urllib.parse import quote_plus\n",
    "from bs4 import BeautifulSoup\n",
    "from selenium import webdriver\n",
    "from icrawler.builtin import GoogleImageCrawler"
   ]
  },
  {
   "cell_type": "code",
   "execution_count": null,
   "id": "3ae47c3f-f034-47ca-bb61-d39ee9d60caf",
   "metadata": {},
   "outputs": [],
   "source": [
    "# google_crawler = GoogleImageCrawler(parser_threads=2, downloader_threads=4,\n",
    "#                                     storage={'root_dir': 'E:/RESEARCH/Datasets/HRV/crawl_test'})\n",
    "\n",
    "# google_crawler.crawl(keyword='car crash', max_num=500,\n",
    "# #                      date_min=None, date_max=None,\n",
    "#                      min_size=(200,200), max_size=None)"
   ]
  },
  {
   "cell_type": "code",
   "execution_count": null,
   "id": "769f61b4-e502-488c-be57-82e37dd41d19",
   "metadata": {},
   "outputs": [],
   "source": [
    "def scroll_down():\n",
    "    global driver\n",
    "    last_height = driver.execute_script(\"return document.body.scrollHeight\")\n",
    "\n",
    "    while True:\n",
    "        driver.execute_script(\"window.scrollTo(0, document.body.scrollHeight);\")\n",
    "        time.sleep(SCROLL_PAUSE_SEC)\n",
    "        new_height = driver.execute_script(\"return document.body.scrollHeight\")\n",
    "\n",
    "        if new_height == last_height:\n",
    "            time.sleep(SCROLL_PAUSE_SEC)\n",
    "            new_height = driver.execute_script(\"return document.body.scrollHeight\")\n",
    "\n",
    "            try:\n",
    "                driver.find_element_by_class_name(\"mye4qd\").click()\n",
    "            except:\n",
    "\n",
    "               if new_height == last_height:\n",
    "                   break\n",
    "\n",
    "\n",
    "        last_height = new_height"
   ]
  },
  {
   "cell_type": "code",
   "execution_count": null,
   "id": "148f0245-bbe3-41fb-a957-4d6392a65eda",
   "metadata": {},
   "outputs": [],
   "source": [
    "keyword = input('enter your keyword : ')\n",
    "url = 'https://www.google.com/search?q={}&source=lnms&tbm=isch&sa=X&ved=2ahUKEwjgwPKzqtXuAhWW62EKHRjtBvcQ_AUoAXoECBEQAw&biw=768&bih=712'.format(keyword)\n",
    "\n",
    "driver = webdriver.Chrome()\n",
    "driver.get(url)\n",
    "\n",
    "time.sleep(1)\n",
    "\n",
    "scroll_down()\n",
    "\n",
    "html = driver.page_source\n",
    "soup = BeautifulSoup(html, 'html.parser')\n",
    "images = soup.find_all('img', attrs={'class':'rg_i Q4LuWd'})\n",
    "\n",
    "print('number of img tags: ', len(images))\n",
    "\n",
    "n = 1\n",
    "for i in images:\n",
    "\n",
    "    try:\n",
    "        imgUrl = i[\"src\"]\n",
    "    except:\n",
    "        imgUrl = i[\"data-src\"]\n",
    "        \n",
    "    with urllib.request.urlopen(imgUrl) as f:\n",
    "        with open('./img/' + keyword + str(n) + '.jpg', 'wb') as h:\n",
    "            img = f.read()\n",
    "            h.write(img)\n",
    "\n",
    "    n += 1"
   ]
  },
  {
   "cell_type": "code",
   "execution_count": 1,
   "id": "5f9c6221-0bc2-4ccd-a1b7-6e0326cc45e7",
   "metadata": {
    "tags": []
   },
   "outputs": [
    {
     "name": "stderr",
     "output_type": "stream",
     "text": [
      "2022-03-11 15:04:48,643 - INFO - icrawler.crawler - start crawling...\n",
      "2022-03-11 15:04:48,645 - INFO - icrawler.crawler - starting 1 feeder threads...\n",
      "2022-03-11 15:04:48,646 - INFO - icrawler.crawler - starting 1 parser threads...\n",
      "2022-03-11 15:04:48,646 - INFO - icrawler.crawler - starting 4 downloader threads...\n",
      "2022-03-11 15:04:49,861 - INFO - parser - parsing result page https://www.google.com/search?q=car&ijn=0&start=0&tbs=isz%3Al%2Cic%3Aspecific%2Cisc%3Aorange%2Csur%3Afmc%2Ccdr%3A1%2Ccd_min%3A01%2F01%2F2017%2Ccd_max%3A11%2F30%2F2017&tbm=isch\n",
      "2022-03-11 15:04:51,472 - INFO - downloader - image #1\thttps://get.pxhere.com/photo/car-wheel-vehicle-sports-car-supercar-lamborghini-land-vehicle-automobile-make-automotive-design-luxury-vehicle-performance-car-lamborghini-aventador-185864.jpg\n",
      "2022-03-11 15:04:51,580 - INFO - downloader - image #2\thttps://get.pxhere.com/photo/mc-Laren-pkw-land-vehicle-vehicle-car-supercar-sports-car-automotive-design-orange-mclaren-automotive-Mclaren-p1-performance-car-auto-show-coupe-automotive-exterior-personal-luxury-car-mid-size-car-mclaren-mp4-12c-1600902.jpg\n",
      "2022-03-11 15:04:51,814 - INFO - downloader - image #3\thttps://get.pxhere.com/photo/car-wheel-orange-vehicle-sports-car-supercar-lumixfz200-2014mclarenmp412ccoupe-fastcars-reacingcars-city-car-land-vehicle-automobile-make-automotive-design-luxury-vehicle-performance-car-mclaren-automotive-mclaren-mp4-12c-171038.jpg\n",
      "2022-03-11 15:04:51,954 - INFO - downloader - image #4\thttps://get.pxhere.com/photo/car-vehicle-sports-car-race-supercar-cars-exhibition-racing-car-land-vehicle-mclaren-automobile-make-automotive-design-luxury-vehicle-performance-car-mclaren-automotive-mclaren-mp4-12c-965346.jpg\n",
      "2022-03-11 15:04:58,343 - INFO - downloader - image #5\thttps://upload.wikimedia.org/wikipedia/commons/9/94/HK_%E9%A6%99%E6%B8%AF_SYP_%E8%A5%BF%E7%92%B0_Sai_Ying_Pun_%E6%AD%A3%E8%A1%97_Centre_Street_car_orange_%E9%BA%A5%E6%8B%BF%E4%BE%96_Mclaren_automobile_April_2018_IX2_MyHome_03.jpg\n",
      "2022-03-11 15:04:58,862 - INFO - downloader - image #6\thttps://p0.piqsels.com/preview/436/978/454/yellow-car.jpg\n",
      "2022-03-11 15:04:58,973 - INFO - downloader - image #7\thttps://c0.wallpaperflare.com/preview/10/691/797/car-grill-engine-hood.jpg\n",
      "2022-03-11 15:04:58,999 - INFO - downloader - image #8\thttps://c1.wallpaperflare.com/preview/229/575/794/engine-car-orange-chevy.jpg\n",
      "2022-03-11 15:04:59,363 - ERROR - downloader - Response status code 404, file https://upload.wikimedia.org/wikipedia/commons/thumb/3/3e/1969_Holden_Hurricane_Concept_Car_%2817086638318%29.jpg\n",
      "2022-03-11 15:05:00,209 - INFO - downloader - image #9\thttps://pixnio.com/free-images/2018/11/27/2018-11-27-15-06-34.jpg\n",
      "2022-03-11 15:05:00,471 - INFO - downloader - image #10\thttps://c2.peakpx.com/wallpaper/637/542/398/wheels-car-sportscar-luxury-elegant-wallpaper-preview.jpg\n",
      "2022-03-11 15:05:00,580 - INFO - downloader - image #11\thttps://get.pxhere.com/photo/car-wheel-truck-vehicle-automotive-bumper-suv-wheels-mercedes-benz-sport-utility-vehicle-land-vehicle-automobile-make-automotive-exterior-mercedes-benz-g-class-1038812.jpg\n",
      "2022-03-11 15:05:00,670 - INFO - downloader - image #12\thttps://live.staticflickr.com/2865/9037024794_eaf3746907_b.jpg\n",
      "2022-03-11 15:05:01,087 - INFO - downloader - image #13\thttps://p1.pxfuel.com/preview/170/388/926/car-front-showroom-prototype.jpg\n",
      "2022-03-11 15:05:01,259 - INFO - downloader - image #14\thttps://pixnio.com/free-images/2019/04/11/2019-04-11-12-43-53.jpg\n",
      "2022-03-11 15:05:01,980 - INFO - downloader - image #15\thttps://upload.wikimedia.org/wikipedia/commons/6/6a/Orange_sports_classic_car_%28Unsplash%29.jpg\n",
      "2022-03-11 15:05:02,363 - INFO - downloader - image #16\thttps://get.pxhere.com/photo/sunset-car-wheel-twilight-model-golden-vehicle-auto-automotive-sports-car-alternative-supercar-sporty-clouds-3d-bmw-coupe-pkw-gloss-limousine-abendstimmung-nobel-body-environmentally-friendly-electric-car-computer-graphics-electrically-passengers-cars-model-car-concept-car-dream-car-electric-drive-electric-motor-rendered-lichtreflex-land-vehicle-automobile-make-automotive-design-luxury-vehicle-515946.jpg\n",
      "2022-03-11 15:05:02,464 - INFO - downloader - image #17\thttps://live.staticflickr.com/2708/5714322256_7d4cc8aa56_b.jpg\n",
      "2022-03-11 15:05:03,352 - INFO - downloader - image #18\thttps://storage.needpix.com/rsynced_images/car-3212565_1280.jpg\n",
      "2022-03-11 15:05:03,368 - INFO - downloader - image #19\thttps://c0.wallpaperflare.com/preview/539/74/406/denmark-copenhagen-city-orange.jpg\n",
      "2022-03-11 15:05:03,640 - INFO - downloader - image #20\thttps://p0.pikrepo.com/preview/787/330/orange-ferrari-458-italia-parked-near-black-wooden-door.jpg\n",
      "2022-03-11 15:05:03,975 - INFO - downloader - image #21\thttps://i.vimeocdn.com/filter/overlay?src0\\u003dhttps%3A%2F%2Fi.vimeocdn.com%2Fvideo%2F558264463-bd890decb9cd702af9a0c93d898e97ef157a4d21b9c5d327799eb853f4d7f94e-d_1280x720\\u0026src1\\u003dhttps%3A%2F%2Ff.vimeocdn.com%2Fimages_v6%2Fshare%2Fplay_icon_overlay.png\n",
      "2022-03-11 15:05:04,904 - INFO - downloader - image #22\thttps://storage.needpix.com/rsynced_images/mclaren-4184249_1280.jpg\n",
      "2022-03-11 15:05:05,103 - INFO - downloader - image #23\thttps://c1.wallpaperflare.com/preview/323/990/387/car-volkswagen-bug-beetle.jpg\n",
      "2022-03-11 15:05:05,246 - ERROR - downloader - Response status code 404, file https://upload.wikimedia.org/wikipedia/commons/thumb/6/62/2018_Aston_Martin_Vanquish_Zagato_Speedster_in_Golden_Saffron%2C_front_right_%28Greenwich_2019%29.jpg\n",
      "2022-03-11 15:05:05,291 - INFO - downloader - image #24\thttps://get.pxhere.com/photo/car-orange-vehicle-auto-sports-car-supercar-sporty-wheels-lotus-switzerland-coupe-land-vehicle-automobile-make-automotive-design-luxury-vehicle-performance-car-lotus-exige-1284455.jpg\n",
      "2022-03-11 15:05:05,582 - INFO - downloader - image #25\thttps://upload.wikimedia.org/wikipedia/commons/thumb/8/86/Orange_sport_car.svg/2560px-Orange_sport_car.svg.png\n",
      "2022-03-11 15:05:05,588 - ERROR - downloader - Response status code 403, file https://img.rawpixel.com/s3fs-private/rawpixel_images/website_content/a010-markusspiske-sep18-1808-6077.jpg\n",
      "2022-03-11 15:05:06,007 - INFO - downloader - image #26\thttps://live.staticflickr.com/3005/2707237631_78cf015b22_b.jpg\n",
      "2022-03-11 15:05:06,272 - INFO - downloader - image #27\thttps://upload.wikimedia.org/wikipedia/commons/e/e6/MG_6_Pro_004.jpg\n",
      "2022-03-11 15:05:06,468 - INFO - downloader - image #28\thttps://www.publicdomainpictures.net/pictures/360000/velka/image-1594838406Pm6.jpg\n",
      "2022-03-11 15:05:06,864 - INFO - downloader - image #29\thttps://p2.pikrepo.com/preview/669/157/orange-sports-coupe-during-daytime.jpg\n",
      "2022-03-11 15:05:07,747 - INFO - downloader - image #30\thttps://c1.peakpx.com/wallpaper/849/111/634/car-luxury-sports-car-bmw-wallpaper-preview.jpg\n",
      "2022-03-11 15:05:08,196 - INFO - downloader - image #31\thttps://c0.wallpaperflare.com/preview/322/757/166/auto-automobile-automotive-blur.jpg\n",
      "2022-03-11 15:05:08,625 - INFO - downloader - image #32\thttps://p0.piqsels.com/preview/983/855/741/selective-focus-photography-of-vehicle-taillight.jpg\n",
      "2022-03-11 15:05:08,857 - ERROR - downloader - Response status code 403, file https://img.rawpixel.com/s3fs-private/rawpixel_images/website_content/a010-markusspiske-jan19-msp_1812_1527.jpg\n",
      "2022-03-11 15:05:08,977 - INFO - downloader - image #33\thttps://storage.needpix.com/rsynced_images/automobile-2087798_1280.jpg\n",
      "2022-03-11 15:05:09,847 - INFO - downloader - image #34\thttps://pixnio.com/free-images/2019/04/11/2019-04-11-12-22-57.jpg\n",
      "2022-03-11 15:05:10,822 - INFO - downloader - image #35\thttps://upload.wikimedia.org/wikipedia/commons/a/a4/Saabs_at_Saab_car_museum.jpg\n",
      "2022-03-11 15:05:11,183 - INFO - downloader - image #36\thttps://free-vectors.net/_ph/11/2/573424726.jpg\n",
      "2022-03-11 15:05:11,658 - INFO - downloader - image #37\thttps://www.publicdomainpictures.net/pictures/170000/velka/klassieke-auto-collectie-1461252819cvF.jpg\n",
      "2022-03-11 15:05:11,672 - INFO - downloader - image #38\thttps://pixnio.com/free-images/2017/03/03/2017-03-03-18-40-13.jpg\n",
      "2022-03-11 15:05:12,587 - INFO - downloader - image #39\thttps://upload.wikimedia.org/wikipedia/commons/3/33/Orange-red_1_25_Ferrari_250_GTO_Car_models_12_%2816437150851%29.jpg\n",
      "2022-03-11 15:05:12,691 - INFO - downloader - image #40\thttps://live.staticflickr.com/2106/2069030569_c6b9ff473f_b.jpg\n",
      "2022-03-11 15:05:12,923 - INFO - downloader - image #41\thttps://p0.pikist.com/photos/468/575/sports-car-classic-cars-metal-black-car-auto-show-handsome-wealth-texture.jpg\n",
      "2022-03-11 15:05:12,924 - INFO - downloader - image #42\thttps://storage.needpix.com/rsynced_images/car-1293964_1280.png\n",
      "2022-03-11 15:05:13,757 - INFO - downloader - image #43\thttps://pixnio.com/free-images/2021/07/15/2021-07-15-09-21-01.jpg\n",
      "2022-03-11 15:05:14,543 - INFO - downloader - image #44\thttps://get.pxhere.com/photo/car-orange-vehicle-auto-nostalgia-fiat-500-rome-oldtimer-classic-vehicles-fiat500-antique-car-city-car-cinquecento-land-vehicle-automobile-make-subcompact-car-compact-sport-utility-vehicle-657070.jpg\n",
      "2022-03-11 15:05:14,795 - ERROR - downloader - Response status code 403, file https://img.rawpixel.com/s3fs-private/rawpixel_images/website_content/pd207-3-057.jpg\n",
      "2022-03-11 15:05:14,876 - INFO - downloader - image #45\thttps://storage.needpix.com/rsynced_images/car-29078_1280.png\n",
      "2022-03-11 15:05:15,349 - INFO - downloader - image #46\thttps://c1.peakpx.com/wallpaper/181/922/553/car-oldtimer-vintage-old-rusty-wallpaper-preview.jpg\n",
      "2022-03-11 15:05:15,667 - INFO - downloader - image #47\thttps://p1.pxfuel.com/preview/388/98/462/audi-tt-mirroring-dinosaur-old-town.jpg\n",
      "2022-03-11 15:05:15,721 - INFO - downloader - image #48\thttps://shmector.com/_ph/13/224196477.png\n",
      "2022-03-11 15:05:15,741 - INFO - downloader - image #49\thttps://upload.wikimedia.org/wikipedia/commons/a/af/Mclaren_675LT.jpg\n",
      "2022-03-11 15:05:16,874 - INFO - downloader - image #50\thttps://i.vimeocdn.com/filter/overlay?src0\\u003dhttps%3A%2F%2Fi.vimeocdn.com%2Fvideo%2F550919776-b849748dc3b4588e89f92e8f688bf5dd622f2aad33200b5a12a8f857d5b5e4c7-d_1280x720\\u0026src1\\u003dhttps%3A%2F%2Ff.vimeocdn.com%2Fimages_v6%2Fshare%2Fplay_icon_overlay.png\n",
      "2022-03-11 15:05:17,092 - INFO - downloader - image #51\thttps://c1.wallpaperflare.com/preview/1/912/1004/rusty-car-abandoned-junkyard-wreck-car-hood.jpg\n",
      "2022-03-11 15:05:17,287 - INFO - downloader - image #52\thttps://live.staticflickr.com/59/199629737_e4e8d3149a_b.jpg\n",
      "2022-03-11 15:05:17,592 - INFO - downloader - image #53\thttps://upload.wikimedia.org/wikipedia/commons/c/ce/Orange_car_in_Poznan_Abisynia_%281%29.jpg\n",
      "2022-03-11 15:05:18,428 - INFO - downloader - image #54\thttps://p0.pikist.com/photos/803/732/mclaren-sports-car-expensive-fast-italy.jpg\n",
      "2022-03-11 15:05:18,486 - INFO - downloader - image #55\thttps://upload.wikimedia.org/wikipedia/commons/d/de/1963_Chrysler_Turbine_car.jpg\n",
      "2022-03-11 15:05:18,794 - INFO - downloader - image #56\thttps://pixnio.com/free-images/2017/08/26/2017-08-26-09-03-45.jpg\n",
      "2022-03-11 15:05:19,567 - INFO - downloader - image #57\thttps://images.pexels.com/videos/6312476/car-car-hood-car-lights-trunk-6312476.jpeg?cs\\u003dsrgb\\u0026dl\\u003dpexels-cesar-casanova-6312476.jpg\n",
      "2022-03-11 15:05:20,045 - INFO - downloader - image #58\thttps://storage.needpix.com/rsynced_images/lamborghini-2726920_1280.jpg\n",
      "2022-03-11 15:05:20,094 - INFO - downloader - image #59\thttps://upload.wikimedia.org/wikipedia/commons/4/49/A_Geely_concept_car_in_Auto_Shanghai_2011_%282%29.jpg\n",
      "2022-03-11 15:05:20,148 - INFO - downloader - image #60\thttps://c0.wallpaperflare.com/preview/520/721/175/blue-chevrolet-camaro.jpg\n",
      "2022-03-11 15:05:20,377 - INFO - downloader - image #61\thttps://live.staticflickr.com/4888/32706640008_f5ccb577de_b.jpg\n",
      "2022-03-11 15:05:20,808 - INFO - downloader - image #62\thttps://i.vimeocdn.com/filter/overlay?src0\\u003dhttps%3A%2F%2Fi.vimeocdn.com%2Fvideo%2F357492490-6d7ec10101e1a85bb288a74c71df1b6580383e6c52a01d10c0401f6ad3101c5c-d_1280x960\\u0026src1\\u003dhttps%3A%2F%2Ff.vimeocdn.com%2Fimages_v6%2Fshare%2Fplay_icon_overlay.png\n",
      "2022-03-11 15:05:22,042 - INFO - downloader - image #63\thttps://p0.pikist.com/photos/530/633/back-light-stop-lamp-ford-red-car-tail-light-auto-brake-light-vehicle-truck.jpg\n",
      "2022-03-11 15:05:22,060 - INFO - downloader - image #64\thttps://www.publicdomainpictures.net/pictures/30000/velka/vintage-car-135173380132n.jpg\n",
      "2022-03-11 15:05:22,689 - INFO - downloader - image #65\thttps://get.pxhere.com/photo/Canon-EOS-land-vehicle-vehicle-luxury-vehicle-car-bentley-continental-gt-bentley-personal-luxury-car-automotive-design-motor-vehicle-performance-car-yellow-mid-size-car-sedan-sports-car-automotive-wheel-system-full-size-car-coupe-bentley-continental-flying-spur-convertible-bentley-continental-gtc-grille-rim-wheel-1632716.jpg\n",
      "2022-03-11 15:05:22,951 - INFO - downloader - image #66\thttps://images.pexels.com/videos/8642059/pexels-photo-8642059.jpeg?cs\\u003dsrgb\\u0026dl\\u003dpexels-cottonbro-8642059.jpg\n",
      "2022-03-11 15:05:23,249 - INFO - downloader - image #67\thttps://i.vimeocdn.com/filter/overlay?src0\\u003dhttps%3A%2F%2Fi.vimeocdn.com%2Fvideo%2F597670982-e947d39d5b0d26f5e7f7c0cfe4ad5b2a46a70beb20bdbb064350b5e99b21fccb-d_1280x704\\u0026src1\\u003dhttps%3A%2F%2Ff.vimeocdn.com%2Fimages_v6%2Fshare%2Fplay_icon_overlay.png\n",
      "2022-03-11 15:05:23,508 - INFO - downloader - image #68\thttps://p2.pikrepo.com/preview/458/582/brown-vehicle-near-green-coconut-tree.jpg\n",
      "2022-03-11 15:05:23,514 - INFO - downloader - image #69\thttps://storage.needpix.com/rsynced_images/car-3267525_1280.jpg\n",
      "2022-03-11 15:05:23,636 - INFO - downloader - image #70\thttps://i.vimeocdn.com/filter/overlay?src0\\u003dhttps%3A%2F%2Fi.vimeocdn.com%2Fvideo%2F661231181-7749f6b8e1a374a990829773c699962da4fb4e76d2dc926550fc31f9986e8ec3-d_1280x853\\u0026src1\\u003dhttps%3A%2F%2Ff.vimeocdn.com%2Fimages_v6%2Fshare%2Fplay_icon_overlay.png\n",
      "2022-03-11 15:05:24,129 - INFO - downloader - image #71\thttps://pixnio.com/free-images/2018/12/02/2018-12-02-16-59-47.jpg\n",
      "2022-03-11 15:05:24,848 - INFO - downloader - image #72\thttps://upload.wikimedia.org/wikipedia/commons/1/13/1980_Datsun_120Y_Sunny_%286268205789%29.jpg\n",
      "2022-03-11 15:05:25,090 - INFO - downloader - image #73\thttps://c0.wallpaperflare.com/preview/477/454/492/herts-mclaren-super-car.jpg\n",
      "2022-03-11 15:05:25,264 - INFO - downloader - image #74\thttps://upload.wikimedia.org/wikipedia/commons/1/1d/Hyundai_HCD9_Talus_Concept_Car_-_Flickr_-_robad0b.jpg\n",
      "2022-03-11 15:05:25,462 - INFO - downloader - image #75\thttps://live.staticflickr.com/2493/4180482846_7a8dba90a7_b.jpg\n",
      "2022-03-11 15:05:26,154 - INFO - downloader - image #76\thttps://p1.pxfuel.com/preview/718/697/85/jeep-car-vehicle-transport-transportation-auto.jpg\n",
      "2022-03-11 15:05:26,545 - INFO - downloader - image #77\thttps://p0.pikist.com/photos/132/585/golf-4-auto-sunset-car-at-the-roadside-sun-reflection-on-the-car-used-cars-old-car-car-manufacturer-automotive.jpg\n",
      "2022-03-11 15:05:27,384 - INFO - downloader - image #78\thttps://get.pxhere.com/photo/car-vehicle-auto-yellow-grille-vintage-car-bumper-sedan-wallpaper-buick-land-vehicle-automobile-make-automotive-exterior-automotive-design-luxury-vehicle-658937.jpg\n",
      "2022-03-11 15:05:27,552 - ERROR - downloader - Response status code 404, file https://www.goodfreephotos.com/other-photos/pretty-woman-in-black-dress-standing-next-to-vintage-car.jpg\n",
      "2022-03-11 15:05:28,517 - INFO - downloader - image #79\thttps://storage.needpix.com/rsynced_images/car-3325896_1280.jpg\n",
      "2022-03-11 15:05:28,706 - INFO - downloader - image #80\thttps://www.goodfreephotos.com/albums/other-photos/pretty-woman-in-black-dress-standing-next-to-vintage-car.jpg\n",
      "2022-03-11 15:05:29,141 - INFO - downloader - image #81\thttps://i.vimeocdn.com/filter/overlay?src0\\u003dhttps%3A%2F%2Fi.vimeocdn.com%2Fvideo%2F491420070-571845c4cdd123d8e87afb21c9010b5ba209853c0e39d779c16abe126814c978-d_1280x720\\u0026src1\\u003dhttps%3A%2F%2Ff.vimeocdn.com%2Fimages_v6%2Fshare%2Fplay_icon_overlay.png\n",
      "2022-03-11 15:05:29,188 - INFO - downloader - image #82\thttps://pixnio.com/free-images/2018/11/07/2018-11-07-08-10-17.jpg\n",
      "2022-03-11 15:05:29,337 - ERROR - downloader - Response status code 403, file https://img.rawpixel.com/s3fs-private/rawpixel_images/website_content/fl5037662560-image-ku3vw6nc.jpg\n",
      "2022-03-11 15:05:29,560 - INFO - downloader - image #83\thttps://upload.wikimedia.org/wikipedia/commons/8/87/Plastic_Horse_Car_%284872298854%29.jpg\n",
      "2022-03-11 15:05:29,607 - INFO - parser - parsing result page https://www.google.com/search?q=car&ijn=1&start=100&tbs=isz%3Al%2Cic%3Aspecific%2Cisc%3Aorange%2Csur%3Afmc%2Ccdr%3A1%2Ccd_min%3A01%2F01%2F2017%2Ccd_max%3A11%2F30%2F2017&tbm=isch\n",
      "2022-03-11 15:05:30,399 - INFO - parser - parsing result page https://www.google.com/search?q=car&ijn=2&start=200&tbs=isz%3Al%2Cic%3Aspecific%2Cisc%3Aorange%2Csur%3Afmc%2Ccdr%3A1%2Ccd_min%3A01%2F01%2F2017%2Ccd_max%3A11%2F30%2F2017&tbm=isch\n",
      "2022-03-11 15:05:30,461 - INFO - downloader - image #84\thttps://c0.wallpaperflare.com/preview/526/866/520/gray-3-door-hatchback-on-road.jpg\n",
      "2022-03-11 15:05:31,110 - INFO - parser - parsing result page https://www.google.com/search?q=car&ijn=3&start=300&tbs=isz%3Al%2Cic%3Aspecific%2Cisc%3Aorange%2Csur%3Afmc%2Ccdr%3A1%2Ccd_min%3A01%2F01%2F2017%2Ccd_max%3A11%2F30%2F2017&tbm=isch\n",
      "2022-03-11 15:05:31,151 - INFO - feeder - thread feeder-001 exit\n",
      "2022-03-11 15:05:31,411 - INFO - downloader - image #85\thttps://upload.wikimedia.org/wikipedia/commons/f/f0/Classic_Cars_in_Tenerife_2021_562.jpg\n",
      "2022-03-11 15:05:31,911 - INFO - parser - parsing result page https://www.google.com/search?q=car&ijn=4&start=400&tbs=isz%3Al%2Cic%3Aspecific%2Cisc%3Aorange%2Csur%3Afmc%2Ccdr%3A1%2Ccd_min%3A01%2F01%2F2017%2Ccd_max%3A11%2F30%2F2017&tbm=isch\n",
      "2022-03-11 15:05:32,653 - INFO - parser - parsing result page https://www.google.com/search?q=car&ijn=5&start=500&tbs=isz%3Al%2Cic%3Aspecific%2Cisc%3Aorange%2Csur%3Afmc%2Ccdr%3A1%2Ccd_min%3A01%2F01%2F2017%2Ccd_max%3A11%2F30%2F2017&tbm=isch\n",
      "2022-03-11 15:05:33,430 - INFO - parser - parsing result page https://www.google.com/search?q=car&ijn=6&start=600&tbs=isz%3Al%2Cic%3Aspecific%2Cisc%3Aorange%2Csur%3Afmc%2Ccdr%3A1%2Ccd_min%3A01%2F01%2F2017%2Ccd_max%3A11%2F30%2F2017&tbm=isch\n",
      "2022-03-11 15:05:34,314 - INFO - parser - parsing result page https://www.google.com/search?q=car&ijn=7&start=700&tbs=isz%3Al%2Cic%3Aspecific%2Cisc%3Aorange%2Csur%3Afmc%2Ccdr%3A1%2Ccd_min%3A01%2F01%2F2017%2Ccd_max%3A11%2F30%2F2017&tbm=isch\n",
      "2022-03-11 15:05:34,739 - INFO - downloader - image #86\thttps://storage.needpix.com/rsynced_images/car-crash.jpg\n",
      "2022-03-11 15:05:35,052 - INFO - parser - parsing result page https://www.google.com/search?q=car&ijn=8&start=800&tbs=isz%3Al%2Cic%3Aspecific%2Cisc%3Aorange%2Csur%3Afmc%2Ccdr%3A1%2Ccd_min%3A01%2F01%2F2017%2Ccd_max%3A11%2F30%2F2017&tbm=isch\n",
      "2022-03-11 15:05:35,465 - INFO - downloader - downloader-004 is waiting for new download tasks\n",
      "2022-03-11 15:05:35,501 - INFO - downloader - downloader-001 is waiting for new download tasks\n",
      "2022-03-11 15:05:35,873 - INFO - parser - parsing result page https://www.google.com/search?q=car&ijn=9&start=900&tbs=isz%3Al%2Cic%3Aspecific%2Cisc%3Aorange%2Csur%3Afmc%2Ccdr%3A1%2Ccd_min%3A01%2F01%2F2017%2Ccd_max%3A11%2F30%2F2017&tbm=isch\n",
      "2022-03-11 15:05:36,619 - INFO - downloader - downloader-002 is waiting for new download tasks\n",
      "2022-03-11 15:05:37,910 - INFO - parser - no more page urls for thread parser-001 to parse\n",
      "2022-03-11 15:05:37,910 - INFO - parser - thread parser-001 exit\n",
      "2022-03-11 15:05:39,744 - INFO - downloader - no more download task for thread downloader-003\n",
      "2022-03-11 15:05:39,744 - INFO - downloader - thread downloader-003 exit\n",
      "2022-03-11 15:05:40,466 - INFO - downloader - no more download task for thread downloader-004\n",
      "2022-03-11 15:05:40,466 - INFO - downloader - thread downloader-004 exit\n",
      "2022-03-11 15:05:40,502 - INFO - downloader - no more download task for thread downloader-001\n",
      "2022-03-11 15:05:40,502 - INFO - downloader - thread downloader-001 exit\n",
      "2022-03-11 15:05:41,620 - INFO - downloader - no more download task for thread downloader-002\n",
      "2022-03-11 15:05:41,620 - INFO - downloader - thread downloader-002 exit\n",
      "2022-03-11 15:05:41,674 - INFO - icrawler.crawler - Crawling task done!\n"
     ]
    }
   ],
   "source": [
    "from icrawler.builtin import GoogleImageCrawler\n",
    "\n",
    "# Google에서 크롤링\n",
    "google_crawler = GoogleImageCrawler(\n",
    "    feeder_threads=1,\n",
    "    parser_threads=1,\n",
    "    downloader_threads=4,\n",
    "    storage={'root_dir': 'E:/RESEARCH/Datasets/HRV/crawl_test'})\n",
    "filters = dict(\n",
    "    size='large',\n",
    "    color='orange',\n",
    "    license='commercial,modify',\n",
    "    date=((2017, 1, 1), (2017, 11, 30)))\n",
    "google_crawler.crawl(keyword='car', filters=filters, offset=0, max_num=1000,\n",
    "                     min_size=(200,200), max_size=None, file_idx_offset=0)"
   ]
  },
  {
   "cell_type": "code",
   "execution_count": null,
   "id": "367f0166-9a42-4a00-86e7-8271ca7d71b9",
   "metadata": {},
   "outputs": [],
   "source": []
  },
  {
   "cell_type": "code",
   "execution_count": null,
   "id": "0442771a-ff68-4ebe-b255-845dea0c4d6f",
   "metadata": {},
   "outputs": [],
   "source": []
  },
  {
   "cell_type": "code",
   "execution_count": null,
   "id": "9edb08d1-af74-493b-a328-e17c24562485",
   "metadata": {},
   "outputs": [],
   "source": []
  },
  {
   "cell_type": "code",
   "execution_count": null,
   "id": "b3d12fb9-714d-4891-832d-c8a63b7b4c4b",
   "metadata": {},
   "outputs": [],
   "source": []
  },
  {
   "cell_type": "code",
   "execution_count": null,
   "id": "d627fc38-9f6f-4d0c-9a93-548a89e6043a",
   "metadata": {},
   "outputs": [],
   "source": []
  },
  {
   "cell_type": "code",
   "execution_count": null,
   "id": "c6715670-5e64-4ec5-813c-c22e2f4ec2af",
   "metadata": {},
   "outputs": [],
   "source": []
  },
  {
   "cell_type": "code",
   "execution_count": null,
   "id": "2bbc89da-fb0c-450a-8f90-ae0d573087e2",
   "metadata": {},
   "outputs": [],
   "source": []
  },
  {
   "cell_type": "code",
   "execution_count": null,
   "id": "1804656c-c8c8-499f-a7e1-192f9cc9bb39",
   "metadata": {},
   "outputs": [],
   "source": []
  },
  {
   "cell_type": "code",
   "execution_count": null,
   "id": "aca0588d-e2f1-44fa-ada4-0252b497e9f5",
   "metadata": {},
   "outputs": [],
   "source": []
  },
  {
   "cell_type": "code",
   "execution_count": null,
   "id": "1de72f66-6d64-4ebf-bb4c-eebd3a45adbe",
   "metadata": {},
   "outputs": [],
   "source": []
  },
  {
   "cell_type": "code",
   "execution_count": null,
   "id": "7f11a1d2-97b8-450a-a91b-b2b73772916d",
   "metadata": {},
   "outputs": [],
   "source": []
  },
  {
   "cell_type": "code",
   "execution_count": null,
   "id": "88f94443-58e0-434e-afae-6b935a5bed90",
   "metadata": {},
   "outputs": [],
   "source": []
  },
  {
   "cell_type": "code",
   "execution_count": null,
   "id": "4f3af009-404d-42c1-bda2-978d382b1923",
   "metadata": {},
   "outputs": [],
   "source": []
  }
 ],
 "metadata": {
  "kernelspec": {
   "display_name": "Python 3",
   "language": "python",
   "name": "python3"
  },
  "language_info": {
   "codemirror_mode": {
    "name": "ipython",
    "version": 3
   },
   "file_extension": ".py",
   "mimetype": "text/x-python",
   "name": "python",
   "nbconvert_exporter": "python",
   "pygments_lexer": "ipython3",
   "version": "3.8.10"
  }
 },
 "nbformat": 4,
 "nbformat_minor": 5
}
