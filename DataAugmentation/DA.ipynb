{
 "cells": [
  {
   "cell_type": "markdown",
   "id": "938fcb43-4b9e-4aeb-90f3-bb862f8e72ca",
   "metadata": {},
   "source": [
    "# Data Augmentation Box"
   ]
  },
  {
   "cell_type": "markdown",
   "id": "6c7f1b6c-da66-488a-a24a-1272eb35e18f",
   "metadata": {},
   "source": [
    "Project for Data Augmentation System"
   ]
  },
  {
   "cell_type": "markdown",
   "id": "bc0f750e-a3bd-495f-bbca-b2e65c492c87",
   "metadata": {},
   "source": [
    "## Data Augmentation Order\n",
    "\n",
    "STEP 1 - Domain Data Preparation\n",
    "1. Domain data labeling check\n",
    "2. Dimensionality Reduction\n",
    "3. Regression analysis\n",
    "\n",
    "\n",
    "STEP 2 - Data Augmentation\n",
    "1. Domain data check\n",
    "02. Public Data Supplement\n",
    "03. Data filtering (1st)\n",
    "04. Dimensionality Reduction\n",
    "05. Label Spreading (semi-supervised learning based)\n",
    "06. Data Filtering (2nd)\n",
    "07. Regression analytsis\n",
    "08. Data Filtering (3rd)\n",
    "09. Data Augmentation\n",
    "10. Model Generation"
   ]
  },
  {
   "cell_type": "markdown",
   "id": "e0274c5b-defe-43a0-8d24-a70b30719312",
   "metadata": {},
   "source": [
    "- - -"
   ]
  },
  {
   "cell_type": "code",
   "execution_count": null,
   "id": "4497d4fd-c9e6-4e5e-bf71-131c7297d426",
   "metadata": {},
   "outputs": [],
   "source": []
  },
  {
   "cell_type": "code",
   "execution_count": 58,
   "id": "965875d6-0f07-499f-b2aa-8661abe35981",
   "metadata": {},
   "outputs": [],
   "source": [
    "import os\n",
    "import time\n",
    "import numpy as np\n",
    "import pandas as pd\n",
    "import seaborn as sns\n",
    "import matplotlib.pyplot as plt\n",
    "import sklearn.metrics as metrics"
   ]
  },
  {
   "cell_type": "code",
   "execution_count": 155,
   "id": "2b695956-4d10-46fb-9ec3-7b62968fb9cf",
   "metadata": {},
   "outputs": [],
   "source": [
    "from sklearn.model_selection import train_test_split, ParameterGrid\n",
    "from sklearn.preprocessing import MinMaxScaler\n",
    "from sklearn import decomposition\n",
    "from sklearn.manifold import TSNE\n",
    "from sklearn.cluster import KMeans\n",
    "from sklearn.linear_model import LogisticRegression\n",
    "from sklearn.semi_supervised import LabelPropagation, LabelSpreading\n",
    "from sklearn.metrics import roc_auc_score, accuracy_score\n",
    "from sklearn.feature_extraction.text import CountVectorizer\n",
    "\n",
    "scaler = MinMaxScaler() #set the scaler"
   ]
  },
  {
   "cell_type": "markdown",
   "id": "884086bf-c312-4af8-bec9-6c903212ae3f",
   "metadata": {},
   "source": [
    "## 01. Domain Data Check"
   ]
  },
  {
   "cell_type": "markdown",
   "id": "ca0634bb-3549-4206-864e-018f4813f5ce",
   "metadata": {},
   "source": [
    "we have to check the domain data "
   ]
  },
  {
   "cell_type": "markdown",
   "id": "164251fd-e819-4eb0-aded-5d435b2d03f0",
   "metadata": {
    "tags": []
   },
   "source": [
    "### 1-1) image dataset"
   ]
  },
  {
   "cell_type": "code",
   "execution_count": null,
   "id": "bd7fa118-272b-43cd-8ede-d544f63e8688",
   "metadata": {},
   "outputs": [],
   "source": []
  },
  {
   "cell_type": "code",
   "execution_count": null,
   "id": "2f46006c-87a0-4d89-9d7d-fd78dec740c7",
   "metadata": {},
   "outputs": [],
   "source": []
  },
  {
   "cell_type": "code",
   "execution_count": null,
   "id": "80d25f3e-0e43-4900-9934-2e97529592ec",
   "metadata": {},
   "outputs": [],
   "source": []
  },
  {
   "cell_type": "markdown",
   "id": "d19bf23a-4667-4b76-a85c-d0d3d4956a30",
   "metadata": {},
   "source": [
    "### 1-2) numerical dataset"
   ]
  },
  {
   "cell_type": "code",
   "execution_count": 85,
   "id": "e68af2e8-cfe5-4b72-82b4-e5289a652d6b",
   "metadata": {},
   "outputs": [],
   "source": [
    "### HRV numerical dataset\n",
    "domain = pd.read_csv('E:/RESEARCH/Datasets/HRV/HRV_REV_all.csv', sep=',')"
   ]
  },
  {
   "cell_type": "code",
   "execution_count": 86,
   "id": "fadb654f-8f3d-4d7d-9c8e-5a044e4523c3",
   "metadata": {},
   "outputs": [
    {
     "name": "stdout",
     "output_type": "stream",
     "text": [
      "The shape of the domain dataset is: (479, 93)\n"
     ]
    },
    {
     "data": {
      "text/html": [
       "<div>\n",
       "<style scoped>\n",
       "    .dataframe tbody tr th:only-of-type {\n",
       "        vertical-align: middle;\n",
       "    }\n",
       "\n",
       "    .dataframe tbody tr th {\n",
       "        vertical-align: top;\n",
       "    }\n",
       "\n",
       "    .dataframe thead th {\n",
       "        text-align: right;\n",
       "    }\n",
       "</style>\n",
       "<table border=\"1\" class=\"dataframe\">\n",
       "  <thead>\n",
       "    <tr style=\"text-align: right;\">\n",
       "      <th></th>\n",
       "      <th>sub</th>\n",
       "      <th>VISIT</th>\n",
       "      <th>disorder</th>\n",
       "      <th>age</th>\n",
       "      <th>gender</th>\n",
       "      <th>HAMD</th>\n",
       "      <th>HAMA</th>\n",
       "      <th>PDSS</th>\n",
       "      <th>ASI</th>\n",
       "      <th>APPQ</th>\n",
       "      <th>...</th>\n",
       "      <th>cRMSSD</th>\n",
       "      <th>cVLF</th>\n",
       "      <th>cLF</th>\n",
       "      <th>cHF</th>\n",
       "      <th>cLF/HF</th>\n",
       "      <th>cPOWER</th>\n",
       "      <th>cHR</th>\n",
       "      <th>cRESP</th>\n",
       "      <th>cSC</th>\n",
       "      <th>cTEMP</th>\n",
       "    </tr>\n",
       "  </thead>\n",
       "  <tbody>\n",
       "    <tr>\n",
       "      <th>0</th>\n",
       "      <td>E001</td>\n",
       "      <td>4</td>\n",
       "      <td>2</td>\n",
       "      <td>23</td>\n",
       "      <td>1</td>\n",
       "      <td>2</td>\n",
       "      <td>2</td>\n",
       "      <td>1</td>\n",
       "      <td>12</td>\n",
       "      <td>22</td>\n",
       "      <td>...</td>\n",
       "      <td>41.544667</td>\n",
       "      <td>190.107000</td>\n",
       "      <td>298.508333</td>\n",
       "      <td>206.862333</td>\n",
       "      <td>1.284000</td>\n",
       "      <td>695.477333</td>\n",
       "      <td>65.707000</td>\n",
       "      <td>14.054333</td>\n",
       "      <td>3.911333</td>\n",
       "      <td>34.998000</td>\n",
       "    </tr>\n",
       "    <tr>\n",
       "      <th>1</th>\n",
       "      <td>E001</td>\n",
       "      <td>5</td>\n",
       "      <td>2</td>\n",
       "      <td>23</td>\n",
       "      <td>1</td>\n",
       "      <td>12</td>\n",
       "      <td>7</td>\n",
       "      <td>0</td>\n",
       "      <td>12</td>\n",
       "      <td>24</td>\n",
       "      <td>...</td>\n",
       "      <td>39.825333</td>\n",
       "      <td>143.756667</td>\n",
       "      <td>115.695333</td>\n",
       "      <td>202.602667</td>\n",
       "      <td>0.585000</td>\n",
       "      <td>462.054667</td>\n",
       "      <td>69.040000</td>\n",
       "      <td>14.117333</td>\n",
       "      <td>6.255000</td>\n",
       "      <td>35.544333</td>\n",
       "    </tr>\n",
       "    <tr>\n",
       "      <th>2</th>\n",
       "      <td>E002</td>\n",
       "      <td>1</td>\n",
       "      <td>2</td>\n",
       "      <td>38</td>\n",
       "      <td>1</td>\n",
       "      <td>14</td>\n",
       "      <td>17</td>\n",
       "      <td>14</td>\n",
       "      <td>31</td>\n",
       "      <td>122</td>\n",
       "      <td>...</td>\n",
       "      <td>20.052000</td>\n",
       "      <td>22.006000</td>\n",
       "      <td>50.182000</td>\n",
       "      <td>32.529333</td>\n",
       "      <td>2.499333</td>\n",
       "      <td>104.717000</td>\n",
       "      <td>92.789333</td>\n",
       "      <td>11.013333</td>\n",
       "      <td>0.945667</td>\n",
       "      <td>35.086000</td>\n",
       "    </tr>\n",
       "    <tr>\n",
       "      <th>3</th>\n",
       "      <td>E002</td>\n",
       "      <td>2</td>\n",
       "      <td>2</td>\n",
       "      <td>38</td>\n",
       "      <td>1</td>\n",
       "      <td>13</td>\n",
       "      <td>36</td>\n",
       "      <td>16</td>\n",
       "      <td>32</td>\n",
       "      <td>139</td>\n",
       "      <td>...</td>\n",
       "      <td>20.201667</td>\n",
       "      <td>55.579000</td>\n",
       "      <td>84.441000</td>\n",
       "      <td>18.754000</td>\n",
       "      <td>5.803000</td>\n",
       "      <td>158.774333</td>\n",
       "      <td>85.980667</td>\n",
       "      <td>12.608333</td>\n",
       "      <td>0.785667</td>\n",
       "      <td>36.141000</td>\n",
       "    </tr>\n",
       "    <tr>\n",
       "      <th>4</th>\n",
       "      <td>E002</td>\n",
       "      <td>3</td>\n",
       "      <td>2</td>\n",
       "      <td>38</td>\n",
       "      <td>1</td>\n",
       "      <td>7</td>\n",
       "      <td>10</td>\n",
       "      <td>11</td>\n",
       "      <td>23</td>\n",
       "      <td>70</td>\n",
       "      <td>...</td>\n",
       "      <td>74.788000</td>\n",
       "      <td>182.229000</td>\n",
       "      <td>530.565667</td>\n",
       "      <td>546.574000</td>\n",
       "      <td>1.685667</td>\n",
       "      <td>1259.368667</td>\n",
       "      <td>84.368667</td>\n",
       "      <td>14.285667</td>\n",
       "      <td>0.648000</td>\n",
       "      <td>35.879000</td>\n",
       "    </tr>\n",
       "  </tbody>\n",
       "</table>\n",
       "<p>5 rows × 93 columns</p>\n",
       "</div>"
      ],
      "text/plain": [
       "    sub  VISIT  disorder  age  gender  HAMD  HAMA  PDSS  ASI  APPQ  ...  \\\n",
       "0  E001      4         2   23       1     2     2     1   12    22  ...   \n",
       "1  E001      5         2   23       1    12     7     0   12    24  ...   \n",
       "2  E002      1         2   38       1    14    17    14   31   122  ...   \n",
       "3  E002      2         2   38       1    13    36    16   32   139  ...   \n",
       "4  E002      3         2   38       1     7    10    11   23    70  ...   \n",
       "\n",
       "      cRMSSD        cVLF         cLF         cHF    cLF/HF       cPOWER  \\\n",
       "0  41.544667  190.107000  298.508333  206.862333  1.284000   695.477333   \n",
       "1  39.825333  143.756667  115.695333  202.602667  0.585000   462.054667   \n",
       "2  20.052000   22.006000   50.182000   32.529333  2.499333   104.717000   \n",
       "3  20.201667   55.579000   84.441000   18.754000  5.803000   158.774333   \n",
       "4  74.788000  182.229000  530.565667  546.574000  1.685667  1259.368667   \n",
       "\n",
       "         cHR      cRESP       cSC      cTEMP  \n",
       "0  65.707000  14.054333  3.911333  34.998000  \n",
       "1  69.040000  14.117333  6.255000  35.544333  \n",
       "2  92.789333  11.013333  0.945667  35.086000  \n",
       "3  85.980667  12.608333  0.785667  36.141000  \n",
       "4  84.368667  14.285667  0.648000  35.879000  \n",
       "\n",
       "[5 rows x 93 columns]"
      ]
     },
     "execution_count": 86,
     "metadata": {},
     "output_type": "execute_result"
    }
   ],
   "source": [
    "### data shape, variables check\n",
    "print(\"The shape of the domain dataset is:\",domain.shape)\n",
    "# print(domain.columns)\n",
    "domain.head()"
   ]
  },
  {
   "cell_type": "markdown",
   "id": "04607d97-ddd4-43d0-b7c4-887195b17689",
   "metadata": {},
   "source": [
    "* HAMD 점수에 따라서 새롭게 IndexH 라고 라벨링용 변수 만들어주자"
   ]
  },
  {
   "cell_type": "code",
   "execution_count": 87,
   "id": "94d28c96-1a8a-478b-8fab-9cfbf47d738b",
   "metadata": {},
   "outputs": [],
   "source": [
    "### checking lables for the data\n",
    "domain.loc[domain['HAMD']<=7, 'IndexH'] =0\n",
    "domain.loc[(domain['HAMD']>7) & (domain['HAMD']<=16), 'IndexH'] = 1\n",
    "domain.loc[domain['HAMD']>16, 'IndexH'] = 2\n",
    "domain_y = domain.loc[:,'IndexH']\n",
    "# domain_y = domain.loc[:,'disorder']"
   ]
  },
  {
   "cell_type": "markdown",
   "id": "e0650eac-e318-4fc1-882b-3e5ae0aa5d62",
   "metadata": {},
   "source": [
    "* 그리고 안쓸 변수들은 제거해주자. (HRV 관련 변수만 쓸 것임)"
   ]
  },
  {
   "cell_type": "code",
   "execution_count": 88,
   "id": "4f061d7c-b18c-4d8a-abfe-a28f0dfb2657",
   "metadata": {},
   "outputs": [],
   "source": [
    "### deleting unnecessary data columns\n",
    "domain = domain.drop(['sub','age','gender','VISIT','disorder','HAMD', 'HAMA','PDSS','ASI','APPQ','PSWQ','SPI','PSS','BIS','SSI'], axis=1)"
   ]
  },
  {
   "cell_type": "code",
   "execution_count": 89,
   "id": "2ac908b3-ef7f-4fd8-a5bf-133cff76cef7",
   "metadata": {},
   "outputs": [
    {
     "name": "stdout",
     "output_type": "stream",
     "text": [
      "Index(['b1SDNN', 'b1NN50', 'b1PNN50', 'b1RMSSD', 'b1VLF', 'b1LF', 'b1HF',\n",
      "       'b1LF/HF', 'b1POWER', 'b1HR', 'b1RESP', 'b1SC', 'b1TEMP', 'sSDNN',\n",
      "       'sNN50', 'sPNN50', 'sRMSSD', 'sVLF', 'sLF', 'sHF', 'sLF/HF', 'sPOWER',\n",
      "       'sHR', 'sRESP', 'sSC', 'sTEMP', 'b2SDNN', 'b2NN50', 'b2PNN50',\n",
      "       'b2RMSSD', 'b2VLF', 'b2LF', 'b2HF', 'b2LF/HF', 'b2POWER', 'b2HR',\n",
      "       'b2RESP', 'b2SC', 'b2TEMP', 'rSDNN', 'rNN50', 'rPNN50', 'rRMSSD',\n",
      "       'rVLF', 'rLF', 'rHF', 'rLF/HF', 'rPOWER', 'rHR', 'rRESP', 'rSC',\n",
      "       'rTEMP', 'b3SDNN', 'b3NN50', 'b3PNN50', 'b3RMSSD', 'b3VLF', 'b3LF',\n",
      "       'b3HF', 'b3LF/HF', 'b3POWER', 'b3HR', 'b3RESP', 'b3SC', 'b3TEMP',\n",
      "       'cSDNN', 'cNN50', 'cPNN50', 'cRMSSD', 'cVLF', 'cLF', 'cHF', 'cLF/HF',\n",
      "       'cPOWER', 'cHR', 'cRESP', 'cSC', 'cTEMP', 'IndexH'],\n",
      "      dtype='object')\n",
      "(479, 79)\n"
     ]
    }
   ],
   "source": [
    "### check the domain data columns again\n",
    "print(domain.columns)\n",
    "print(domain.shape)"
   ]
  },
  {
   "cell_type": "code",
   "execution_count": null,
   "id": "f4eb2a97-4144-4464-9128-de68912c32f4",
   "metadata": {},
   "outputs": [],
   "source": []
  },
  {
   "cell_type": "markdown",
   "id": "31eeba65-1203-4aea-803d-c796a46f8cfa",
   "metadata": {},
   "source": [
    "- - -"
   ]
  },
  {
   "cell_type": "markdown",
   "id": "e597230c-bbf3-4a41-8a34-de6f8d1479fd",
   "metadata": {},
   "source": [
    "* Domain data variable selection for the right task\n",
    "> baseline, stress, rest phase로 나눠진 데이터를 각각 쪼개주는 것."
   ]
  },
  {
   "cell_type": "code",
   "execution_count": 90,
   "id": "95402874-c583-46a2-839f-d974d0112bab",
   "metadata": {},
   "outputs": [],
   "source": [
    "domain_b1 = domain.loc[:, ['b1RMSSD', 'b1HR', 'b1PNN50', 'b1VLF', 'b1LF', 'b1HF', 'b1LF/HF']]\n",
    "domain_b2 = domain.loc[:, ['b2RMSSD', 'b2HR', 'b2PNN50', 'b2VLF', 'b2LF', 'b2HF', 'b2LF/HF']]\n",
    "domain_b3 = domain.loc[:, ['b3RMSSD', 'b3HR', 'b3PNN50', 'b3VLF', 'b3LF', 'b3HF', 'b3LF/HF']]"
   ]
  },
  {
   "cell_type": "code",
   "execution_count": 91,
   "id": "8dd8f48f-091e-41a9-8ecc-a74b1f95fe0b",
   "metadata": {},
   "outputs": [],
   "source": [
    "domain_b1.columns = ['RMSSD', 'HR', 'PNN50', 'VLF', 'LF', 'HF', 'LF_HF']\n",
    "domain_b2.columns = ['RMSSD', 'HR', 'PNN50', 'VLF', 'LF', 'HF', 'LF_HF']\n",
    "domain_b3.columns = ['RMSSD', 'HR', 'PNN50', 'VLF', 'LF', 'HF', 'LF_HF']"
   ]
  },
  {
   "cell_type": "markdown",
   "id": "2662201d-3fb1-4cfc-9126-b1674e1462ae",
   "metadata": {},
   "source": [
    "* domain_s 는 stress phase에 있는 애들"
   ]
  },
  {
   "cell_type": "code",
   "execution_count": 92,
   "id": "ef4e7a1b-c352-4018-a568-e5fb6988d572",
   "metadata": {},
   "outputs": [],
   "source": [
    "domain_s = domain.loc[:, ['sRMSSD','sHR', 'sPNN50', 'sVLF', 'sLF', 'sHF', 'sLF/HF']]\n",
    "domain_s_index = domain.loc[:, ['sRMSSD','sHR', 'sPNN50', 'sVLF', 'sLF', 'sHF', 'sLF/HF', 'IndexH']]"
   ]
  },
  {
   "cell_type": "code",
   "execution_count": 93,
   "id": "40a7a6de-63cb-4228-a52e-19359ecf1378",
   "metadata": {},
   "outputs": [],
   "source": [
    "domain_s.columns = ['RMSSD', 'HR', 'PNN50', 'VLF', 'LF', 'HF', 'LF_HF']"
   ]
  },
  {
   "cell_type": "code",
   "execution_count": 94,
   "id": "a4a49693-ad68-44e1-88db-51018958e9c4",
   "metadata": {},
   "outputs": [],
   "source": [
    "### Standardization\n",
    "domain_b1[:] = scaler.fit_transform(domain_b1[:])\n",
    "domain_b2[:] = scaler.fit_transform(domain_b2[:])\n",
    "domain_b3[:] = scaler.fit_transform(domain_b3[:])\n",
    "domain_s[:] = scaler.fit_transform(domain_s[:])"
   ]
  },
  {
   "cell_type": "markdown",
   "id": "b49d3464-d618-4e24-99ea-2da2321ae32e",
   "metadata": {},
   "source": [
    "Later you can select the dataset that you want to analyze. "
   ]
  },
  {
   "cell_type": "markdown",
   "id": "3a2bbf41-5372-42e5-b4ea-4f3873306587",
   "metadata": {},
   "source": [
    "ex) if you want to augment the stress phase dataset, choose domain_s"
   ]
  },
  {
   "cell_type": "code",
   "execution_count": null,
   "id": "6a7f995a-a054-477f-b1fc-3171d7b13c69",
   "metadata": {},
   "outputs": [],
   "source": []
  },
  {
   "cell_type": "markdown",
   "id": "8730ac20-7b1a-4ede-8173-ebbae0aba036",
   "metadata": {},
   "source": [
    "- - -"
   ]
  },
  {
   "cell_type": "markdown",
   "id": "6bcd866b-24cb-41b4-a4db-9dd2352e70e2",
   "metadata": {},
   "source": [
    "--------"
   ]
  },
  {
   "cell_type": "markdown",
   "id": "af84f59f-4447-43ad-bb06-e00c57a0ce29",
   "metadata": {},
   "source": [
    "## 02. Public Data Supplement"
   ]
  },
  {
   "cell_type": "markdown",
   "id": "4ae38185-405e-4b24-a36f-306f0c0ad8e5",
   "metadata": {},
   "source": [
    "we proceed data crawling to support insufficient data environment"
   ]
  },
  {
   "cell_type": "markdown",
   "id": "56afaee5-9254-49e8-a6b0-95bd0a5387ea",
   "metadata": {},
   "source": [
    "### 2-1) Crawling Image data "
   ]
  },
  {
   "cell_type": "code",
   "execution_count": 16,
   "id": "e7e1f564-4079-4bf8-b89d-24e3974eca94",
   "metadata": {},
   "outputs": [],
   "source": [
    "# import urllib.request\n",
    "# import time\n",
    "# from urllib.parse import quote_plus\n",
    "# from bs4 import BeautifulSoup\n",
    "# from selenium import webdriver\n",
    "# from icrawler.builtin import GoogleImageCrawler"
   ]
  },
  {
   "cell_type": "code",
   "execution_count": 17,
   "id": "3ae47c3f-f034-47ca-bb61-d39ee9d60caf",
   "metadata": {},
   "outputs": [],
   "source": [
    "# google_crawler = GoogleImageCrawler(parser_threads=2, downloader_threads=4,\n",
    "#                                     storage={'root_dir': 'E:/RESEARCH/Datasets/HRV/crawl_test'})\n",
    "\n",
    "# google_crawler.crawl(keyword='car crash', max_num=500,\n",
    "# #                      date_min=None, date_max=None,\n",
    "#                      min_size=(200,200), max_size=None)"
   ]
  },
  {
   "cell_type": "code",
   "execution_count": 18,
   "id": "5f9c6221-0bc2-4ccd-a1b7-6e0326cc45e7",
   "metadata": {
    "tags": []
   },
   "outputs": [],
   "source": [
    "# ### image crawling from google with GoogleImageCrawler\n",
    "# google_crawler = GoogleImageCrawler(\n",
    "#     feeder_threads=1,\n",
    "#     parser_threads=1,\n",
    "#     downloader_threads=4,\n",
    "#     storage={'root_dir': 'E:/RESEARCH/Datasets/VC/classic/violin'})\n",
    "# #     storage={'root_dir': 'E:/RESEARCH/Datasets/image/CIFAR_PUB/truck'}) #set the storage root\n",
    "\n",
    "# filters = dict(\n",
    "# #     type='photo',\n",
    "#     #type=photo,face,clipart,linedrawing,animated\n",
    "#     size='medium',\n",
    "#     #size=large, medium, icon, or larger than a given size e.g.\">640x480\" or exactly giving size\"=1024x768\n",
    "# #     color='orange',\n",
    "#     #coler=blackandwhite, red, oragne, yellow, green, teal, blue, purple, pink, white, gray, black, brown\n",
    "# #     license='commercial,modify',\n",
    "#     #license=noncommercial, commercial, noncommercial,modify , commercial,modify\n",
    "#     date=((2000, 1, 1), (2021, 12, 30)))\n",
    "\n",
    "# # type the keyword of the image that you want to crawl from google\n",
    "# google_crawler.crawl(keyword= 'violin orchestra', filters=filters, offset=0, max_num=1000,\n",
    "#                      min_size=(200,200), max_size=None, file_idx_offset=0)"
   ]
  },
  {
   "cell_type": "code",
   "execution_count": 19,
   "id": "0ec38d9f-4908-4d5c-a3c5-40411097d9c1",
   "metadata": {
    "tags": []
   },
   "outputs": [],
   "source": [
    "# ### image crawling from google with GoogleImageCrawler\n",
    "# google_crawler = GoogleImageCrawler(\n",
    "#     feeder_threads=1,\n",
    "#     parser_threads=1,\n",
    "#     downloader_threads=4,\n",
    "#     storage={'root_dir': 'E:/RESEARCH/Datasets/HRV/crawl_test'}) #set the storage root\n",
    "\n",
    "# filters = dict(\n",
    "#     #type=photo,face,clipart,linedrawing,animated\n",
    "#     size='large',\n",
    "#     #size=large, medium, icon, or larger than a given size e.g.\">640x480\" or exactly giving size\"=1024x768\n",
    "#     color='blackandwhite',\n",
    "#     #coler=blackandwhite, red, oragne, yellow, green, teal, blue, purple, pink, white, gray, black, brown\n",
    "#     license='commercial,modify',\n",
    "#     #license=noncommercial, commercial, noncommercial,modify , commercial,modify\n",
    "#     date=((2021, 1, 1), (2021, 12, 30)))\n",
    "\n",
    "# # type the keyword of the image that you want to crawl from google\n",
    "# google_crawler.crawl(keyword='lung ct', filters=filters, offset=0, max_num=1000,\n",
    "#                      min_size=(200,200), max_size=None, file_idx_offset=0)"
   ]
  },
  {
   "cell_type": "code",
   "execution_count": null,
   "id": "367f0166-9a42-4a00-86e7-8271ca7d71b9",
   "metadata": {},
   "outputs": [],
   "source": []
  },
  {
   "cell_type": "code",
   "execution_count": null,
   "id": "0442771a-ff68-4ebe-b255-845dea0c4d6f",
   "metadata": {},
   "outputs": [],
   "source": []
  },
  {
   "cell_type": "code",
   "execution_count": null,
   "id": "2d24b406-8dec-4f4b-bcad-2e965b34d93d",
   "metadata": {},
   "outputs": [],
   "source": []
  },
  {
   "cell_type": "markdown",
   "id": "49b3b93b-0eae-4f6d-927a-97b64e7c0d52",
   "metadata": {},
   "source": [
    "### 2-2) Getting Numerical Data"
   ]
  },
  {
   "cell_type": "markdown",
   "id": "03c06a71-f1b9-4453-bf75-11e92f6d9812",
   "metadata": {},
   "source": [
    "maybe from kaggle, google, or uci machine learning dataset"
   ]
  },
  {
   "cell_type": "code",
   "execution_count": 20,
   "id": "117ad1f2-8f4b-404e-9618-0f83b5801f2e",
   "metadata": {},
   "outputs": [],
   "source": [
    "### In our medical case, we adopt HRV dataset from SWEEL HRV research\n",
    "### Using public data must be very careful, and researchers should only use them for training data supplement.\n",
    "\n",
    "public = pd.read_csv('E:/RESEARCH/Datasets/HRV/HRV_Public/SWELL_hrv/data/final/train.csv', sep=',')"
   ]
  },
  {
   "cell_type": "code",
   "execution_count": 23,
   "id": "3e9ed78e-ce72-4346-b7e0-cd01af236a14",
   "metadata": {},
   "outputs": [
    {
     "name": "stdout",
     "output_type": "stream",
     "text": [
      "The shape of the public SWELL dataset is: (369289, 36)\n"
     ]
    },
    {
     "data": {
      "text/html": [
       "<div>\n",
       "<style scoped>\n",
       "    .dataframe tbody tr th:only-of-type {\n",
       "        vertical-align: middle;\n",
       "    }\n",
       "\n",
       "    .dataframe tbody tr th {\n",
       "        vertical-align: top;\n",
       "    }\n",
       "\n",
       "    .dataframe thead th {\n",
       "        text-align: right;\n",
       "    }\n",
       "</style>\n",
       "<table border=\"1\" class=\"dataframe\">\n",
       "  <thead>\n",
       "    <tr style=\"text-align: right;\">\n",
       "      <th></th>\n",
       "      <th>MEAN_RR</th>\n",
       "      <th>MEDIAN_RR</th>\n",
       "      <th>SDRR</th>\n",
       "      <th>RMSSD</th>\n",
       "      <th>SDSD</th>\n",
       "      <th>SDRR_RMSSD</th>\n",
       "      <th>HR</th>\n",
       "      <th>pNN25</th>\n",
       "      <th>PNN50</th>\n",
       "      <th>SD1</th>\n",
       "      <th>...</th>\n",
       "      <th>HF</th>\n",
       "      <th>HF_PCT</th>\n",
       "      <th>HF_NU</th>\n",
       "      <th>TP</th>\n",
       "      <th>LF_HF</th>\n",
       "      <th>HF_LF</th>\n",
       "      <th>sampen</th>\n",
       "      <th>higuci</th>\n",
       "      <th>datasetId</th>\n",
       "      <th>condition</th>\n",
       "    </tr>\n",
       "  </thead>\n",
       "  <tbody>\n",
       "    <tr>\n",
       "      <th>0</th>\n",
       "      <td>885.157845</td>\n",
       "      <td>853.763730</td>\n",
       "      <td>140.972741</td>\n",
       "      <td>15.554505</td>\n",
       "      <td>15.553371</td>\n",
       "      <td>9.063146</td>\n",
       "      <td>69.499952</td>\n",
       "      <td>11.133333</td>\n",
       "      <td>0.533333</td>\n",
       "      <td>11.001565</td>\n",
       "      <td>...</td>\n",
       "      <td>15.522602</td>\n",
       "      <td>0.421047</td>\n",
       "      <td>1.514737</td>\n",
       "      <td>3686.666157</td>\n",
       "      <td>65.018055</td>\n",
       "      <td>0.015380</td>\n",
       "      <td>2.139754</td>\n",
       "      <td>1.163485</td>\n",
       "      <td>2</td>\n",
       "      <td>no stress</td>\n",
       "    </tr>\n",
       "    <tr>\n",
       "      <th>1</th>\n",
       "      <td>939.425371</td>\n",
       "      <td>948.357865</td>\n",
       "      <td>81.317742</td>\n",
       "      <td>12.964439</td>\n",
       "      <td>12.964195</td>\n",
       "      <td>6.272369</td>\n",
       "      <td>64.363150</td>\n",
       "      <td>5.600000</td>\n",
       "      <td>0.000000</td>\n",
       "      <td>9.170129</td>\n",
       "      <td>...</td>\n",
       "      <td>2.108525</td>\n",
       "      <td>0.070133</td>\n",
       "      <td>0.304603</td>\n",
       "      <td>3006.487251</td>\n",
       "      <td>327.296635</td>\n",
       "      <td>0.003055</td>\n",
       "      <td>2.174499</td>\n",
       "      <td>1.084711</td>\n",
       "      <td>2</td>\n",
       "      <td>interruption</td>\n",
       "    </tr>\n",
       "    <tr>\n",
       "      <th>2</th>\n",
       "      <td>898.186047</td>\n",
       "      <td>907.006860</td>\n",
       "      <td>84.497236</td>\n",
       "      <td>16.305279</td>\n",
       "      <td>16.305274</td>\n",
       "      <td>5.182201</td>\n",
       "      <td>67.450066</td>\n",
       "      <td>13.066667</td>\n",
       "      <td>0.200000</td>\n",
       "      <td>11.533417</td>\n",
       "      <td>...</td>\n",
       "      <td>13.769729</td>\n",
       "      <td>0.512671</td>\n",
       "      <td>1.049528</td>\n",
       "      <td>2685.879461</td>\n",
       "      <td>94.280910</td>\n",
       "      <td>0.010607</td>\n",
       "      <td>2.135350</td>\n",
       "      <td>1.176315</td>\n",
       "      <td>2</td>\n",
       "      <td>interruption</td>\n",
       "    </tr>\n",
       "    <tr>\n",
       "      <th>3</th>\n",
       "      <td>881.757864</td>\n",
       "      <td>893.460030</td>\n",
       "      <td>90.370537</td>\n",
       "      <td>15.720468</td>\n",
       "      <td>15.720068</td>\n",
       "      <td>5.748591</td>\n",
       "      <td>68.809562</td>\n",
       "      <td>11.800000</td>\n",
       "      <td>0.133333</td>\n",
       "      <td>11.119476</td>\n",
       "      <td>...</td>\n",
       "      <td>18.181913</td>\n",
       "      <td>0.529387</td>\n",
       "      <td>1.775294</td>\n",
       "      <td>3434.520980</td>\n",
       "      <td>55.328701</td>\n",
       "      <td>0.018074</td>\n",
       "      <td>2.178341</td>\n",
       "      <td>1.179688</td>\n",
       "      <td>2</td>\n",
       "      <td>no stress</td>\n",
       "    </tr>\n",
       "    <tr>\n",
       "      <th>4</th>\n",
       "      <td>809.625331</td>\n",
       "      <td>811.184865</td>\n",
       "      <td>62.766242</td>\n",
       "      <td>19.213819</td>\n",
       "      <td>19.213657</td>\n",
       "      <td>3.266724</td>\n",
       "      <td>74.565728</td>\n",
       "      <td>20.200000</td>\n",
       "      <td>0.200000</td>\n",
       "      <td>13.590641</td>\n",
       "      <td>...</td>\n",
       "      <td>48.215822</td>\n",
       "      <td>1.839473</td>\n",
       "      <td>3.279993</td>\n",
       "      <td>2621.175204</td>\n",
       "      <td>29.487873</td>\n",
       "      <td>0.033912</td>\n",
       "      <td>2.221121</td>\n",
       "      <td>1.249612</td>\n",
       "      <td>2</td>\n",
       "      <td>no stress</td>\n",
       "    </tr>\n",
       "  </tbody>\n",
       "</table>\n",
       "<p>5 rows × 36 columns</p>\n",
       "</div>"
      ],
      "text/plain": [
       "      MEAN_RR   MEDIAN_RR        SDRR      RMSSD       SDSD  SDRR_RMSSD  \\\n",
       "0  885.157845  853.763730  140.972741  15.554505  15.553371    9.063146   \n",
       "1  939.425371  948.357865   81.317742  12.964439  12.964195    6.272369   \n",
       "2  898.186047  907.006860   84.497236  16.305279  16.305274    5.182201   \n",
       "3  881.757864  893.460030   90.370537  15.720468  15.720068    5.748591   \n",
       "4  809.625331  811.184865   62.766242  19.213819  19.213657    3.266724   \n",
       "\n",
       "          HR      pNN25     PNN50        SD1  ...         HF    HF_PCT  \\\n",
       "0  69.499952  11.133333  0.533333  11.001565  ...  15.522602  0.421047   \n",
       "1  64.363150   5.600000  0.000000   9.170129  ...   2.108525  0.070133   \n",
       "2  67.450066  13.066667  0.200000  11.533417  ...  13.769729  0.512671   \n",
       "3  68.809562  11.800000  0.133333  11.119476  ...  18.181913  0.529387   \n",
       "4  74.565728  20.200000  0.200000  13.590641  ...  48.215822  1.839473   \n",
       "\n",
       "      HF_NU           TP       LF_HF     HF_LF    sampen    higuci  datasetId  \\\n",
       "0  1.514737  3686.666157   65.018055  0.015380  2.139754  1.163485          2   \n",
       "1  0.304603  3006.487251  327.296635  0.003055  2.174499  1.084711          2   \n",
       "2  1.049528  2685.879461   94.280910  0.010607  2.135350  1.176315          2   \n",
       "3  1.775294  3434.520980   55.328701  0.018074  2.178341  1.179688          2   \n",
       "4  3.279993  2621.175204   29.487873  0.033912  2.221121  1.249612          2   \n",
       "\n",
       "      condition  \n",
       "0     no stress  \n",
       "1  interruption  \n",
       "2  interruption  \n",
       "3     no stress  \n",
       "4     no stress  \n",
       "\n",
       "[5 rows x 36 columns]"
      ]
     },
     "execution_count": 23,
     "metadata": {},
     "output_type": "execute_result"
    }
   ],
   "source": [
    "### data shape, variables check\n",
    "print(\"The shape of the public SWELL dataset is:\",public.shape)\n",
    "# print(public.columns)\n",
    "public.head()"
   ]
  },
  {
   "cell_type": "code",
   "execution_count": null,
   "id": "e1ed1400-cc37-4fce-974a-0c57c9d3d9a7",
   "metadata": {},
   "outputs": [],
   "source": []
  },
  {
   "cell_type": "markdown",
   "id": "3bfdead3-01c6-4126-9742-8b7f2ba930c0",
   "metadata": {},
   "source": [
    "- - -"
   ]
  },
  {
   "cell_type": "markdown",
   "id": "afee9128-b642-404a-89c1-cd17dfd8e2b0",
   "metadata": {},
   "source": [
    "* preprocess our data to fit into domain data\n",
    "> 실제 사용하는 domain(삼성병원)데이터는 3phase를 가지지만 public에서는 baseline이랑 stress를 나눠본다"
   ]
  },
  {
   "cell_type": "code",
   "execution_count": 24,
   "id": "9b171441-8ff0-4965-bff6-1f7cb046edf7",
   "metadata": {},
   "outputs": [],
   "source": [
    "### set the variables same as domain dataset\n",
    "public_b = public[public['condition'] == 'no stress']\n",
    "public_s1 = public[public['condition'] == 'interruption']\n",
    "public_s2 = public[public['condition'] == 'time pressure']"
   ]
  },
  {
   "cell_type": "markdown",
   "id": "16298307-6e60-4c67-8b60-ecb2ae39a61a",
   "metadata": {},
   "source": [
    "* 각각 데이터가 몇개씩이나 있는지 확인"
   ]
  },
  {
   "cell_type": "code",
   "execution_count": 25,
   "id": "5c997207-94be-469d-a24f-25bc13e1100e",
   "metadata": {},
   "outputs": [
    {
     "name": "stdout",
     "output_type": "stream",
     "text": [
      "(200082, 36)\n",
      "(105150, 36)\n",
      "(64057, 36)\n"
     ]
    }
   ],
   "source": [
    "### check the number of each phase dataset\n",
    "print(public_b.shape)\n",
    "print(public_s1.shape)\n",
    "print(public_s2.shape)"
   ]
  },
  {
   "cell_type": "code",
   "execution_count": 26,
   "id": "fec6d4b8-e955-4fba-b7ef-63043c617298",
   "metadata": {},
   "outputs": [],
   "source": [
    "### now select the common(repeated) variables from the domain data and save\n",
    "public = public.loc[:,['RMSSD', 'HR', 'PNN50', 'VLF', 'LF', 'HF', 'LF_HF']]\n",
    "public_b = public_b.loc[:,['RMSSD', 'HR', 'PNN50', 'VLF', 'LF', 'HF', 'LF_HF']]\n",
    "public_s1 = public_s1.loc[:,['RMSSD', 'HR', 'PNN50', 'VLF', 'LF', 'HF', 'LF_HF']]\n",
    "public_s2 = public_s2.loc[:,['RMSSD', 'HR', 'PNN50', 'VLF', 'LF', 'HF', 'LF_HF']]"
   ]
  },
  {
   "cell_type": "markdown",
   "id": "093c61b6-bf5d-493f-85c5-70d56d913621",
   "metadata": {},
   "source": [
    "* 마찬가지로 scaler 적용해서 standardization 적용"
   ]
  },
  {
   "cell_type": "code",
   "execution_count": 27,
   "id": "acca644b-3242-48c1-ba3b-14e2af8f0cfb",
   "metadata": {},
   "outputs": [],
   "source": [
    "### standardization on supplemented dataset\n",
    "public_b[:] = scaler.fit_transform(public_b[:])\n",
    "public_s1[:] = scaler.fit_transform(public_s1[:])\n",
    "public_s2[:] = scaler.fit_transform(public_s2[:])"
   ]
  },
  {
   "cell_type": "code",
   "execution_count": 28,
   "id": "af3b31e9-efd7-47e6-9d24-797919f50fb3",
   "metadata": {},
   "outputs": [],
   "source": [
    "### round up the variable values for fifth decimal points\n",
    "public_b = public_b.round(decimals=5)\n",
    "public_s1 = public_s1.round(decimals=5)\n",
    "public_s2 = public_s2.round(decimals=5)"
   ]
  },
  {
   "cell_type": "code",
   "execution_count": null,
   "id": "cf56f268-112a-46ea-923e-48e12a147f55",
   "metadata": {},
   "outputs": [],
   "source": []
  },
  {
   "cell_type": "code",
   "execution_count": null,
   "id": "9e63ca2d-9076-4418-908e-58c9c9c90d73",
   "metadata": {},
   "outputs": [],
   "source": []
  },
  {
   "cell_type": "markdown",
   "id": "f9998448-46dc-4b91-80f1-9c5b2073b928",
   "metadata": {},
   "source": [
    "- - -"
   ]
  },
  {
   "cell_type": "markdown",
   "id": "9b52868f-f63b-4ff8-aed0-a3269d29cc3c",
   "metadata": {},
   "source": [
    "## 03. Data Filtering (1st)"
   ]
  },
  {
   "cell_type": "markdown",
   "id": "59596e02-ecf4-4d30-b944-41ebc22232f6",
   "metadata": {},
   "source": [
    "### 3-1) Data Mergence"
   ]
  },
  {
   "cell_type": "code",
   "execution_count": 64,
   "id": "c0c689c2-1134-4e77-9e4d-2dc2a87a3ba0",
   "metadata": {},
   "outputs": [
    {
     "name": "stdout",
     "output_type": "stream",
     "text": [
      "Shape of the domain dataset for the training is (479, 7)\n",
      "Shape of the public dataset for the training is (105150, 7)\n"
     ]
    }
   ],
   "source": [
    "### First select the data phase (maybe not necessary for some dataset)\n",
    "### Then, check the number of data in each domain and public dataset\n",
    "### Here we are going to use baseline phase\n",
    "\n",
    "print(\"Shape of the domain dataset for the training is\", domain_s.shape)\n",
    "print(\"Shape of the public dataset for the training is\", public_s1.shape)"
   ]
  },
  {
   "cell_type": "code",
   "execution_count": 65,
   "id": "1f547dec-d05f-4ce9-a299-464df9b27473",
   "metadata": {},
   "outputs": [
    {
     "name": "stdout",
     "output_type": "stream",
     "text": [
      "(479, 7)\n",
      "(700, 7)\n"
     ]
    }
   ],
   "source": [
    "### select the proper amount of dataset for each\n",
    "domain_resized = domain_s.sample(frac=1) ##sampling 뽑을거도 없이 전체 다 쓰면 되고.\n",
    "public_resized = public_s1.sample(n=700)\n",
    "print(domain_resized.shape)\n",
    "print(public_resized.shape)"
   ]
  },
  {
   "cell_type": "code",
   "execution_count": 66,
   "id": "3235d8d5-4aa6-4c02-9ec6-02508d372576",
   "metadata": {},
   "outputs": [],
   "source": [
    "# public_resized.head()"
   ]
  },
  {
   "cell_type": "code",
   "execution_count": 67,
   "id": "2b379d7b-d379-4297-bce0-6a05731aea34",
   "metadata": {},
   "outputs": [],
   "source": [
    "# domain_resized.head()"
   ]
  },
  {
   "cell_type": "markdown",
   "id": "f255c0c4-b6c5-461b-8be8-7c7b6f5f0608",
   "metadata": {},
   "source": [
    "* training이라는 이름으로 두 데이터를 합치자"
   ]
  },
  {
   "cell_type": "code",
   "execution_count": 68,
   "id": "d79d6b5b-9956-4139-935b-ab87e1421e0b",
   "metadata": {},
   "outputs": [],
   "source": [
    "training = pd.concat((domain_resized, public_resized))"
   ]
  },
  {
   "cell_type": "code",
   "execution_count": 69,
   "id": "b25d7600-03d5-47eb-bb84-b4ac14a276f3",
   "metadata": {},
   "outputs": [
    {
     "name": "stdout",
     "output_type": "stream",
     "text": [
      "Shape of the firstly augmented dataset for the training is (1179, 7)\n"
     ]
    }
   ],
   "source": [
    "### check the finalized first augmented dataset size/shape\n",
    "print(\"Shape of the firstly augmented dataset for the training is\", training.shape)"
   ]
  },
  {
   "cell_type": "code",
   "execution_count": 70,
   "id": "89721dd0-51ac-4710-bb6d-509191e65419",
   "metadata": {},
   "outputs": [
    {
     "data": {
      "text/html": [
       "<div>\n",
       "<style scoped>\n",
       "    .dataframe tbody tr th:only-of-type {\n",
       "        vertical-align: middle;\n",
       "    }\n",
       "\n",
       "    .dataframe tbody tr th {\n",
       "        vertical-align: top;\n",
       "    }\n",
       "\n",
       "    .dataframe thead th {\n",
       "        text-align: right;\n",
       "    }\n",
       "</style>\n",
       "<table border=\"1\" class=\"dataframe\">\n",
       "  <thead>\n",
       "    <tr style=\"text-align: right;\">\n",
       "      <th></th>\n",
       "      <th>RMSSD</th>\n",
       "      <th>HR</th>\n",
       "      <th>PNN50</th>\n",
       "      <th>VLF</th>\n",
       "      <th>LF</th>\n",
       "      <th>HF</th>\n",
       "      <th>LF_HF</th>\n",
       "    </tr>\n",
       "  </thead>\n",
       "  <tbody>\n",
       "    <tr>\n",
       "      <th>361</th>\n",
       "      <td>0.024738</td>\n",
       "      <td>0.411711</td>\n",
       "      <td>0.017062</td>\n",
       "      <td>0.000400</td>\n",
       "      <td>0.000589</td>\n",
       "      <td>0.001076</td>\n",
       "      <td>0.219611</td>\n",
       "    </tr>\n",
       "    <tr>\n",
       "      <th>311</th>\n",
       "      <td>0.029625</td>\n",
       "      <td>0.174028</td>\n",
       "      <td>0.133531</td>\n",
       "      <td>0.000382</td>\n",
       "      <td>0.000748</td>\n",
       "      <td>0.001207</td>\n",
       "      <td>0.061441</td>\n",
       "    </tr>\n",
       "    <tr>\n",
       "      <th>447</th>\n",
       "      <td>0.095478</td>\n",
       "      <td>0.268972</td>\n",
       "      <td>0.143175</td>\n",
       "      <td>0.003032</td>\n",
       "      <td>0.003087</td>\n",
       "      <td>0.004691</td>\n",
       "      <td>0.155978</td>\n",
       "    </tr>\n",
       "    <tr>\n",
       "      <th>201</th>\n",
       "      <td>0.086964</td>\n",
       "      <td>0.289929</td>\n",
       "      <td>0.466618</td>\n",
       "      <td>0.009638</td>\n",
       "      <td>0.010558</td>\n",
       "      <td>0.027675</td>\n",
       "      <td>0.032564</td>\n",
       "    </tr>\n",
       "    <tr>\n",
       "      <th>257</th>\n",
       "      <td>0.007645</td>\n",
       "      <td>0.293540</td>\n",
       "      <td>0.000000</td>\n",
       "      <td>0.000671</td>\n",
       "      <td>0.000142</td>\n",
       "      <td>0.000137</td>\n",
       "      <td>0.115543</td>\n",
       "    </tr>\n",
       "  </tbody>\n",
       "</table>\n",
       "</div>"
      ],
      "text/plain": [
       "        RMSSD        HR     PNN50       VLF        LF        HF     LF_HF\n",
       "361  0.024738  0.411711  0.017062  0.000400  0.000589  0.001076  0.219611\n",
       "311  0.029625  0.174028  0.133531  0.000382  0.000748  0.001207  0.061441\n",
       "447  0.095478  0.268972  0.143175  0.003032  0.003087  0.004691  0.155978\n",
       "201  0.086964  0.289929  0.466618  0.009638  0.010558  0.027675  0.032564\n",
       "257  0.007645  0.293540  0.000000  0.000671  0.000142  0.000137  0.115543"
      ]
     },
     "execution_count": 70,
     "metadata": {},
     "output_type": "execute_result"
    }
   ],
   "source": [
    "training.head()"
   ]
  },
  {
   "cell_type": "code",
   "execution_count": null,
   "id": "63e6638b-703b-40d7-bae8-f295e4b07d8c",
   "metadata": {},
   "outputs": [],
   "source": []
  },
  {
   "cell_type": "code",
   "execution_count": null,
   "id": "2f6f25bb-28e8-4524-8840-dc204a192b93",
   "metadata": {},
   "outputs": [],
   "source": []
  },
  {
   "cell_type": "markdown",
   "id": "1079424e-1603-4750-a0af-f5d448d95bee",
   "metadata": {},
   "source": [
    "## 04. Dimensionality Reduction"
   ]
  },
  {
   "cell_type": "markdown",
   "id": "11d17db1-9b50-408e-ba5e-3f3e60617848",
   "metadata": {},
   "source": [
    "* 현재 domain이랑 public에서 사용되는 공용 변수는 7개.\n",
    "* 군집화하기 위해서 차원축소를 해도 각 데이터의 설명력이 떨어지지 않는 지 확인해보자."
   ]
  },
  {
   "cell_type": "markdown",
   "id": "c9e3d1db-f264-4381-9e16-9f8137166e44",
   "metadata": {},
   "source": [
    "* 먼저 Domain dataset"
   ]
  },
  {
   "cell_type": "code",
   "execution_count": 233,
   "id": "42933ee4-843a-449f-b0b5-6616108399cd",
   "metadata": {},
   "outputs": [
    {
     "name": "stdout",
     "output_type": "stream",
     "text": [
      "Explained variation per principal component: [0.44780053 0.31298956 0.13353736]\n",
      "Cumulative variance explained by 2 principal components: 89.43%\n"
     ]
    }
   ],
   "source": [
    "### To put the labels on domain dataset and use them for labeling, index must be included\n",
    "### 3 component dimensionality reduction on merged dataset\n",
    "dom_pca_3 = decomposition.PCA(n_components=3)\n",
    "dom_pca_3_result = dom_pca_3.fit_transform(domain_resized)\n",
    "dom_3 = dom_pca_3.explained_variance_ratio_.sum()*100 #explained ratio\n",
    "\n",
    "### check the representativeness of the reduced dimension by PCA\n",
    "print('Explained variation per principal component: {}'.format(dom_pca_3.explained_variance_ratio_))\n",
    "print('Cumulative variance explained by 2 principal components: {:.2%}'.format(np.sum(dom_pca_3.explained_variance_ratio_)))"
   ]
  },
  {
   "cell_type": "code",
   "execution_count": null,
   "id": "7ff8a207-3203-4dbc-8bd6-f14cf94ebd6a",
   "metadata": {},
   "outputs": [],
   "source": []
  },
  {
   "cell_type": "code",
   "execution_count": 234,
   "id": "af1ae719-4f9b-478b-916d-f7501061f5be",
   "metadata": {},
   "outputs": [
    {
     "data": {
      "text/plain": [
       "(479, 3)"
      ]
     },
     "execution_count": 234,
     "metadata": {},
     "output_type": "execute_result"
    }
   ],
   "source": [
    "dom_pca_3_result.shape ##reduced dimension"
   ]
  },
  {
   "cell_type": "code",
   "execution_count": 235,
   "id": "81d4e2b9-7dec-4a55-99d9-9b5b83f1cbb5",
   "metadata": {},
   "outputs": [
    {
     "data": {
      "text/html": [
       "<div>\n",
       "<style scoped>\n",
       "    .dataframe tbody tr th:only-of-type {\n",
       "        vertical-align: middle;\n",
       "    }\n",
       "\n",
       "    .dataframe tbody tr th {\n",
       "        vertical-align: top;\n",
       "    }\n",
       "\n",
       "    .dataframe thead th {\n",
       "        text-align: right;\n",
       "    }\n",
       "</style>\n",
       "<table border=\"1\" class=\"dataframe\">\n",
       "  <thead>\n",
       "    <tr style=\"text-align: right;\">\n",
       "      <th></th>\n",
       "      <th>RMSSD</th>\n",
       "      <th>HR</th>\n",
       "      <th>PNN50</th>\n",
       "      <th>VLF</th>\n",
       "      <th>LF</th>\n",
       "      <th>HF</th>\n",
       "      <th>LF_HF</th>\n",
       "    </tr>\n",
       "  </thead>\n",
       "  <tbody>\n",
       "    <tr>\n",
       "      <th>361</th>\n",
       "      <td>0.024738</td>\n",
       "      <td>0.411711</td>\n",
       "      <td>0.017062</td>\n",
       "      <td>0.000400</td>\n",
       "      <td>0.000589</td>\n",
       "      <td>0.001076</td>\n",
       "      <td>0.219611</td>\n",
       "    </tr>\n",
       "    <tr>\n",
       "      <th>311</th>\n",
       "      <td>0.029625</td>\n",
       "      <td>0.174028</td>\n",
       "      <td>0.133531</td>\n",
       "      <td>0.000382</td>\n",
       "      <td>0.000748</td>\n",
       "      <td>0.001207</td>\n",
       "      <td>0.061441</td>\n",
       "    </tr>\n",
       "    <tr>\n",
       "      <th>447</th>\n",
       "      <td>0.095478</td>\n",
       "      <td>0.268972</td>\n",
       "      <td>0.143175</td>\n",
       "      <td>0.003032</td>\n",
       "      <td>0.003087</td>\n",
       "      <td>0.004691</td>\n",
       "      <td>0.155978</td>\n",
       "    </tr>\n",
       "    <tr>\n",
       "      <th>201</th>\n",
       "      <td>0.086964</td>\n",
       "      <td>0.289929</td>\n",
       "      <td>0.466618</td>\n",
       "      <td>0.009638</td>\n",
       "      <td>0.010558</td>\n",
       "      <td>0.027675</td>\n",
       "      <td>0.032564</td>\n",
       "    </tr>\n",
       "    <tr>\n",
       "      <th>257</th>\n",
       "      <td>0.007645</td>\n",
       "      <td>0.293540</td>\n",
       "      <td>0.000000</td>\n",
       "      <td>0.000671</td>\n",
       "      <td>0.000142</td>\n",
       "      <td>0.000137</td>\n",
       "      <td>0.115543</td>\n",
       "    </tr>\n",
       "    <tr>\n",
       "      <th>...</th>\n",
       "      <td>...</td>\n",
       "      <td>...</td>\n",
       "      <td>...</td>\n",
       "      <td>...</td>\n",
       "      <td>...</td>\n",
       "      <td>...</td>\n",
       "      <td>...</td>\n",
       "    </tr>\n",
       "    <tr>\n",
       "      <th>300</th>\n",
       "      <td>0.014610</td>\n",
       "      <td>0.494072</td>\n",
       "      <td>0.000000</td>\n",
       "      <td>0.001015</td>\n",
       "      <td>0.000428</td>\n",
       "      <td>0.000541</td>\n",
       "      <td>0.088176</td>\n",
       "    </tr>\n",
       "    <tr>\n",
       "      <th>315</th>\n",
       "      <td>0.005372</td>\n",
       "      <td>0.549868</td>\n",
       "      <td>0.000000</td>\n",
       "      <td>0.000246</td>\n",
       "      <td>0.000255</td>\n",
       "      <td>0.000217</td>\n",
       "      <td>0.122368</td>\n",
       "    </tr>\n",
       "    <tr>\n",
       "      <th>63</th>\n",
       "      <td>0.024586</td>\n",
       "      <td>0.411222</td>\n",
       "      <td>0.080119</td>\n",
       "      <td>0.001009</td>\n",
       "      <td>0.000825</td>\n",
       "      <td>0.001686</td>\n",
       "      <td>0.050531</td>\n",
       "    </tr>\n",
       "    <tr>\n",
       "      <th>88</th>\n",
       "      <td>0.081456</td>\n",
       "      <td>0.246333</td>\n",
       "      <td>0.499259</td>\n",
       "      <td>0.002589</td>\n",
       "      <td>0.009378</td>\n",
       "      <td>0.012614</td>\n",
       "      <td>0.083477</td>\n",
       "    </tr>\n",
       "    <tr>\n",
       "      <th>274</th>\n",
       "      <td>0.056479</td>\n",
       "      <td>0.447844</td>\n",
       "      <td>0.069733</td>\n",
       "      <td>0.003763</td>\n",
       "      <td>0.003350</td>\n",
       "      <td>0.011932</td>\n",
       "      <td>0.225855</td>\n",
       "    </tr>\n",
       "  </tbody>\n",
       "</table>\n",
       "<p>479 rows × 7 columns</p>\n",
       "</div>"
      ],
      "text/plain": [
       "        RMSSD        HR     PNN50       VLF        LF        HF     LF_HF\n",
       "361  0.024738  0.411711  0.017062  0.000400  0.000589  0.001076  0.219611\n",
       "311  0.029625  0.174028  0.133531  0.000382  0.000748  0.001207  0.061441\n",
       "447  0.095478  0.268972  0.143175  0.003032  0.003087  0.004691  0.155978\n",
       "201  0.086964  0.289929  0.466618  0.009638  0.010558  0.027675  0.032564\n",
       "257  0.007645  0.293540  0.000000  0.000671  0.000142  0.000137  0.115543\n",
       "..        ...       ...       ...       ...       ...       ...       ...\n",
       "300  0.014610  0.494072  0.000000  0.001015  0.000428  0.000541  0.088176\n",
       "315  0.005372  0.549868  0.000000  0.000246  0.000255  0.000217  0.122368\n",
       "63   0.024586  0.411222  0.080119  0.001009  0.000825  0.001686  0.050531\n",
       "88   0.081456  0.246333  0.499259  0.002589  0.009378  0.012614  0.083477\n",
       "274  0.056479  0.447844  0.069733  0.003763  0.003350  0.011932  0.225855\n",
       "\n",
       "[479 rows x 7 columns]"
      ]
     },
     "execution_count": 235,
     "metadata": {},
     "output_type": "execute_result"
    }
   ],
   "source": [
    "domain_resized"
   ]
  },
  {
   "cell_type": "code",
   "execution_count": 236,
   "id": "58c243cf-0de2-4379-b57d-75cbb4a6d6dc",
   "metadata": {},
   "outputs": [],
   "source": [
    "RDATA_reduced = pd.DataFrame(dom_pca_3_result)"
   ]
  },
  {
   "cell_type": "code",
   "execution_count": 238,
   "id": "799d2d79-6057-46a2-82f9-fa2fe88fb2d7",
   "metadata": {},
   "outputs": [],
   "source": [
    "# RDATA_reduced"
   ]
  },
  {
   "cell_type": "code",
   "execution_count": null,
   "id": "c3c17a4f-ca62-42f5-ad80-30d1c4ad842e",
   "metadata": {},
   "outputs": [],
   "source": []
  },
  {
   "cell_type": "code",
   "execution_count": null,
   "id": "3de269f6-e507-4cd2-aea6-822fa002ffd6",
   "metadata": {},
   "outputs": [],
   "source": []
  },
  {
   "cell_type": "markdown",
   "id": "ad722d0e-731f-4e69-888c-4607b923e15a",
   "metadata": {},
   "source": [
    "* 그림으로 그려서 확인"
   ]
  },
  {
   "cell_type": "code",
   "execution_count": 72,
   "id": "1814071b-cbcf-475b-9174-f4050e58fc9c",
   "metadata": {},
   "outputs": [],
   "source": [
    "# dom_result3 = pd.DataFrame(dom_pca_3.transform(domain_resized), columns = ['PCA%i' % i for i in range(3)], index = domain_resized.index)"
   ]
  },
  {
   "cell_type": "code",
   "execution_count": 73,
   "id": "0eab84fc-de64-4621-a9e0-c75ab56f9d97",
   "metadata": {},
   "outputs": [],
   "source": [
    "# # Plot initialisation\n",
    "# fig = plt.figure(figsize=(8,5))\n",
    "# ax = fig.add_subplot(111, projection='3d')\n",
    "# plt.title('PCA 3 result from Domain Dataset', fontsize=11, fontweight='bold')\n",
    "# ax.scatter(dom_result3['PCA0'], dom_result3['PCA1'], dom_result3['PCA2'], s=60)\n",
    "# # plt.savefig('pca_result.png')"
   ]
  },
  {
   "cell_type": "markdown",
   "id": "c0ecccba-287d-4bc9-9ad3-2ceb6c3ebb91",
   "metadata": {},
   "source": [
    "* Silhouette score를 이용한 분석으로 몇개의 cluster로 나누는 것이 합리적인지 보자"
   ]
  },
  {
   "cell_type": "code",
   "execution_count": 239,
   "id": "bcd1f87a-0210-4dc8-b60e-0ddd7ccfd1d6",
   "metadata": {},
   "outputs": [
    {
     "name": "stdout",
     "output_type": "stream",
     "text": [
      "Parameter: {'n_clusters': 2} Score 0.406073858332315\n",
      "Parameter: {'n_clusters': 3} Score 0.3323762594040397\n",
      "Parameter: {'n_clusters': 4} Score 0.29255479155628805\n",
      "Parameter: {'n_clusters': 5} Score 0.3306624847656837\n",
      "Parameter: {'n_clusters': 6} Score 0.32018657133907225\n"
     ]
    },
    {
     "data": {
      "image/png": "[encoded data removed]",
      "text/plain": [
       "<Figure size 432x288 with 1 Axes>"
      ]
     },
     "metadata": {
      "needs_background": "light"
     },
     "output_type": "display_data"
    }
   ],
   "source": [
    "# candidate values for our number of cluster\n",
    "parameters = [2, 3, 4, 5, 6]\n",
    "\n",
    "# instantiating ParameterGrid, pass number of clusters as input\n",
    "parameter_grid = ParameterGrid({'n_clusters': parameters})\n",
    "best_score = -1\n",
    "kmeans_model = KMeans()     # instantiating KMeans model\n",
    "silhouette_scores = []\n",
    "\n",
    "# evaluation based on silhouette_score\n",
    "for p in parameter_grid:\n",
    "    kmeans_model.set_params(**p)  # set current hyper parameter\n",
    "    kmeans_model.fit(domain_resized)     # fit model on dataset, this will find clusters based on parameter p\n",
    "    ss = metrics.silhouette_score(domain_resized, kmeans_model.labels_)   # calculate silhouette_score\n",
    "    silhouette_scores += [ss]       # store all the scores\n",
    "    print('Parameter:', p, 'Score', ss)\n",
    "    # check p which has the best score\n",
    "    if ss > best_score:\n",
    "        best_score = ss\n",
    "        best_grid = p\n",
    "        \n",
    "# plotting silhouette score\n",
    "plt.bar(range(len(silhouette_scores)), list(silhouette_scores), align='center', color='#849ef7', width=0.5)\n",
    "plt.xticks(range(len(silhouette_scores)), list(parameters))\n",
    "plt.title('Domain Dataset silhouette score')\n",
    "plt.xlabel('Number of Clusters')\n",
    "plt.show()"
   ]
  },
  {
   "cell_type": "code",
   "execution_count": null,
   "id": "84b1e41a-85ae-4faf-b019-795424f27ace",
   "metadata": {},
   "outputs": [],
   "source": []
  },
  {
   "cell_type": "code",
   "execution_count": null,
   "id": "b31f8f4b-0778-426a-a41a-571c36fe859c",
   "metadata": {},
   "outputs": [],
   "source": []
  },
  {
   "cell_type": "markdown",
   "id": "ea5bf71b-6f5a-41cd-be5c-afd13de59cf0",
   "metadata": {},
   "source": [
    "* 다음으로 Public dataset"
   ]
  },
  {
   "cell_type": "code",
   "execution_count": 240,
   "id": "7d06dda1-5746-4a35-87aa-b0c28b417ecf",
   "metadata": {},
   "outputs": [
    {
     "name": "stdout",
     "output_type": "stream",
     "text": [
      "Explained variation per principal component: [0.61751917 0.18381052 0.11707809]\n",
      "Cumulative variance explained by 2 principal components: 91.84%\n"
     ]
    }
   ],
   "source": [
    "### 3 component dimensionality reduction on merged dataset\n",
    "pub_pca_3 = decomposition.PCA(n_components=3)\n",
    "pub_pca_3_result = pub_pca_3.fit_transform(public_resized)\n",
    "pub_3 = pub_pca_3.explained_variance_ratio_.sum()*100\n",
    "\n",
    "### check the representativeness of the reduced dimension by PCA\n",
    "print('Explained variation per principal component: {}'.format(pub_pca_3.explained_variance_ratio_))\n",
    "print('Cumulative variance explained by 2 principal components: {:.2%}'.format(np.sum(pub_pca_3.explained_variance_ratio_)))"
   ]
  },
  {
   "cell_type": "markdown",
   "id": "89782e9e-48d3-411b-8ee0-7b20320d478c",
   "metadata": {},
   "source": [
    "* 마찬가지로 그림으로 그려서 확인"
   ]
  },
  {
   "cell_type": "code",
   "execution_count": 241,
   "id": "52ffe69f-99c3-47ea-b8a2-ddffe74c1783",
   "metadata": {},
   "outputs": [],
   "source": [
    "# pub_result3 = pd.DataFrame(pub_pca_3.transform(public_resized), columns = ['PCA%i' % i for i in range(3)], index = public_resized.index)"
   ]
  },
  {
   "cell_type": "code",
   "execution_count": 242,
   "id": "2326b640-359f-455e-bdcc-eb72acc8d45c",
   "metadata": {},
   "outputs": [],
   "source": [
    "# # Plot initialisation\n",
    "# fig = plt.figure(figsize=(8,5))\n",
    "# ax = fig.add_subplot(111, projection='3d')\n",
    "# plt.title('PCA 3 result from Public Dataset', fontsize=11, fontweight='bold')\n",
    "# ax.scatter(pub_result3['PCA0'], pub_result3['PCA1'], pub_result3['PCA2'], s=60)\n",
    "# # plt.savefig('pca_result.png')"
   ]
  },
  {
   "cell_type": "code",
   "execution_count": 243,
   "id": "9443be35-521b-4f24-b354-dca858d9f0f1",
   "metadata": {},
   "outputs": [
    {
     "name": "stdout",
     "output_type": "stream",
     "text": [
      "Parameter: {'n_clusters': 2} Score 0.444634380564339\n",
      "Parameter: {'n_clusters': 3} Score 0.46413732419277787\n",
      "Parameter: {'n_clusters': 4} Score 0.49707292659319147\n",
      "Parameter: {'n_clusters': 5} Score 0.48975389057663865\n",
      "Parameter: {'n_clusters': 6} Score 0.514140549936088\n"
     ]
    },
    {
     "data": {
      "image/png": "[encoded data removed]",
      "text/plain": [
       "<Figure size 432x288 with 1 Axes>"
      ]
     },
     "metadata": {
      "needs_background": "light"
     },
     "output_type": "display_data"
    }
   ],
   "source": [
    "# candidate values for our number of cluster\n",
    "parameters = [2, 3, 4, 5, 6]\n",
    "\n",
    "# instantiating ParameterGrid, pass number of clusters as input\n",
    "parameter_grid = ParameterGrid({'n_clusters': parameters})\n",
    "best_score = -1\n",
    "kmeans_model = KMeans()     # instantiating KMeans model\n",
    "silhouette_scores = []\n",
    "\n",
    "# evaluation based on silhouette_score\n",
    "for p in parameter_grid:\n",
    "    kmeans_model.set_params(**p)  # set current hyper parameter\n",
    "    kmeans_model.fit(public_resized)     # fit model on dataset, this will find clusters based on parameter p\n",
    "    ss = metrics.silhouette_score(public_resized, kmeans_model.labels_)   # calculate silhouette_score\n",
    "    silhouette_scores += [ss]       # store all the scores\n",
    "    print('Parameter:', p, 'Score', ss)\n",
    "    # check p which has the best score\n",
    "    if ss > best_score:\n",
    "        best_score = ss\n",
    "        best_grid = p\n",
    "        \n",
    "# plotting silhouette score\n",
    "plt.bar(range(len(silhouette_scores)), list(silhouette_scores), align='center', color='#849ef7', width=0.5)\n",
    "plt.xticks(range(len(silhouette_scores)), list(parameters))\n",
    "plt.title('Public Dataset silhouette score')\n",
    "plt.xlabel('Number of Clusters')\n",
    "plt.show()"
   ]
  },
  {
   "cell_type": "code",
   "execution_count": null,
   "id": "b5d45e7c-dead-4018-8d3d-8cef9e9c99b8",
   "metadata": {},
   "outputs": [],
   "source": []
  },
  {
   "cell_type": "code",
   "execution_count": null,
   "id": "c47c56cb-51fd-4df5-a424-c3c6d693fe00",
   "metadata": {},
   "outputs": [],
   "source": []
  },
  {
   "cell_type": "code",
   "execution_count": null,
   "id": "d627fc38-9f6f-4d0c-9a93-548a89e6043a",
   "metadata": {},
   "outputs": [],
   "source": []
  },
  {
   "cell_type": "markdown",
   "id": "e9a46d5a-3621-4b0c-b6cf-d0b9fcb29f60",
   "metadata": {},
   "source": [
    "## 05. Data Clustering (SSL based)"
   ]
  },
  {
   "cell_type": "code",
   "execution_count": null,
   "id": "2bbc89da-fb0c-450a-8f90-ae0d573087e2",
   "metadata": {},
   "outputs": [],
   "source": []
  },
  {
   "cell_type": "code",
   "execution_count": null,
   "id": "1804656c-c8c8-499f-a7e1-192f9cc9bb39",
   "metadata": {},
   "outputs": [],
   "source": []
  },
  {
   "cell_type": "code",
   "execution_count": null,
   "id": "598f5452-9d79-4c4d-bcd9-0327357c0398",
   "metadata": {},
   "outputs": [],
   "source": []
  },
  {
   "cell_type": "markdown",
   "id": "18804fe6-b033-4230-b17f-54c4f1d4243d",
   "metadata": {},
   "source": [
    "## 06. Unlabeled data labeling"
   ]
  },
  {
   "cell_type": "markdown",
   "id": "4f4f244c-f1cf-49d6-befa-c9007b431328",
   "metadata": {},
   "source": [
    "* 여기서 RDATA는 Real dataset이고 PDATA는 augmentation을 위한 public dataset"
   ]
  },
  {
   "cell_type": "code",
   "execution_count": 244,
   "id": "1de72f66-6d64-4ebf-bb4c-eebd3a45adbe",
   "metadata": {},
   "outputs": [],
   "source": [
    "RDATA = domain_s\n",
    "PDATA = public_s1.sample(n=700)\n",
    "label = domain_y"
   ]
  },
  {
   "cell_type": "markdown",
   "id": "4d79be33-ec06-40f6-b715-e326ae7c0c1a",
   "metadata": {},
   "source": [
    "* 일단 PDATA는 unlabeled data 상태이기에 -1로 라벨값 만들어주고."
   ]
  },
  {
   "cell_type": "code",
   "execution_count": 245,
   "id": "9b3eaff1-8a12-48d8-ac8c-06367f715c98",
   "metadata": {},
   "outputs": [],
   "source": [
    "PDATA['y'] = -1"
   ]
  },
  {
   "cell_type": "code",
   "execution_count": 246,
   "id": "bdc2e255-e940-452c-b5e2-09efebe29e2b",
   "metadata": {},
   "outputs": [
    {
     "name": "stdout",
     "output_type": "stream",
     "text": [
      "<class 'pandas.core.frame.DataFrame'>\n",
      "Int64Index: 700 entries, 73233 to 326552\n",
      "Data columns (total 8 columns):\n",
      " #   Column  Non-Null Count  Dtype  \n",
      "---  ------  --------------  -----  \n",
      " 0   RMSSD   700 non-null    float64\n",
      " 1   HR      700 non-null    float64\n",
      " 2   PNN50   700 non-null    float64\n",
      " 3   VLF     700 non-null    float64\n",
      " 4   LF      700 non-null    float64\n",
      " 5   HF      700 non-null    float64\n",
      " 6   LF_HF   700 non-null    float64\n",
      " 7   y       700 non-null    int64  \n",
      "dtypes: float64(7), int64(1)\n",
      "memory usage: 49.2 KB\n"
     ]
    }
   ],
   "source": [
    "PDATA.info()"
   ]
  },
  {
   "cell_type": "markdown",
   "id": "690b65b0-dfb7-4c90-a854-12d5fab6fa40",
   "metadata": {},
   "source": [
    "* Regression 돌리기 위해서 test, train 나눠보자"
   ]
  },
  {
   "cell_type": "code",
   "execution_count": 248,
   "id": "6841aeec-93b8-4fb1-9194-3a0578807ade",
   "metadata": {},
   "outputs": [],
   "source": [
    "# Labeled datapoints and following labels.\n",
    "train_x, test_x, train_y, test_y = train_test_split(RDATA, label, test_size = 0.2, random_state = 710674)"
   ]
  },
  {
   "cell_type": "code",
   "execution_count": 249,
   "id": "73ad33b5-4f3f-4782-8177-a2a1621600f5",
   "metadata": {},
   "outputs": [
    {
     "name": "stdout",
     "output_type": "stream",
     "text": [
      "The shape of training dataset x is: (383, 7)\n",
      "The shape of test dataset x is: (96, 7)\n"
     ]
    }
   ],
   "source": [
    "print(\"The shape of training dataset x is:\", train_x.shape)\n",
    "print(\"The shape of test dataset x is:\", test_x.shape)"
   ]
  },
  {
   "cell_type": "code",
   "execution_count": 250,
   "id": "1b66f49b-c293-4aad-abf3-0710a972787a",
   "metadata": {},
   "outputs": [],
   "source": [
    "# Unlabeled datapoints and following labels.\n",
    "train_x2 = PDATA.loc[:,['RMSSD', 'HR', 'PNN50', 'VLF', 'LF', 'HF', 'LF_HF']]\n",
    "train_y2 = PDATA['y']"
   ]
  },
  {
   "cell_type": "code",
   "execution_count": 251,
   "id": "d4be4dfc-b793-4425-8321-d662737b530c",
   "metadata": {},
   "outputs": [
    {
     "name": "stdout",
     "output_type": "stream",
     "text": [
      "The shape of public training dataset x is: (700, 7)\n",
      "The shape of public test dataset x is: (700,)\n"
     ]
    }
   ],
   "source": [
    "print(\"The shape of public training dataset x is:\", train_x2.shape)\n",
    "print(\"The shape of public test dataset x is:\", train_y2.shape)"
   ]
  },
  {
   "cell_type": "code",
   "execution_count": 252,
   "id": "f82af41f-1e1c-4dda-9f61-a18becda4944",
   "metadata": {},
   "outputs": [],
   "source": [
    "# Concatenate\n",
    "x = np.concatenate((train_x, train_x2))\n",
    "y = np.concatenate((train_y, train_y2))"
   ]
  },
  {
   "cell_type": "code",
   "execution_count": 253,
   "id": "48334505-6a8d-4f58-abd0-6603dcacfa00",
   "metadata": {},
   "outputs": [
    {
     "name": "stdout",
     "output_type": "stream",
     "text": [
      "The shape of Total training dataset x is: (1083, 7)\n",
      "The shape of Total test dataset x is: (1083,)\n"
     ]
    }
   ],
   "source": [
    "print(\"The shape of Total training dataset x is:\", x.shape)\n",
    "print(\"The shape of Total test dataset x is:\", y.shape)"
   ]
  },
  {
   "cell_type": "code",
   "execution_count": null,
   "id": "a4a13630-bbb8-465a-bc53-4f02abc1245f",
   "metadata": {},
   "outputs": [],
   "source": []
  },
  {
   "cell_type": "markdown",
   "id": "6be5ec5d-efbc-496d-a9dc-ba2073f2d642",
   "metadata": {},
   "source": [
    "* Logistic regression 돌려서 변수간 연관성 및 함수를 확인한다"
   ]
  },
  {
   "cell_type": "code",
   "execution_count": 264,
   "id": "70ad0284-f0af-4265-8bfa-1ee548da56d5",
   "metadata": {},
   "outputs": [],
   "source": [
    "index = ['Analysis Method', 'ROC AUC']\n",
    "results = pd.DataFrame(columns = index) ## result 라고 데이터프레임 하나 만들어놓고."
   ]
  },
  {
   "cell_type": "code",
   "execution_count": 265,
   "id": "3235b217-b696-43fa-936a-0a2104d867f7",
   "metadata": {},
   "outputs": [
    {
     "data": {
      "text/html": [
       "<div>\n",
       "<style scoped>\n",
       "    .dataframe tbody tr th:only-of-type {\n",
       "        vertical-align: middle;\n",
       "    }\n",
       "\n",
       "    .dataframe tbody tr th {\n",
       "        vertical-align: top;\n",
       "    }\n",
       "\n",
       "    .dataframe thead th {\n",
       "        text-align: right;\n",
       "    }\n",
       "</style>\n",
       "<table border=\"1\" class=\"dataframe\">\n",
       "  <thead>\n",
       "    <tr style=\"text-align: right;\">\n",
       "      <th></th>\n",
       "      <th>Analysis Method</th>\n",
       "      <th>ROC AUC</th>\n",
       "    </tr>\n",
       "  </thead>\n",
       "  <tbody>\n",
       "    <tr>\n",
       "      <th>0</th>\n",
       "      <td>Logistic Regression</td>\n",
       "      <td>0.522648</td>\n",
       "    </tr>\n",
       "  </tbody>\n",
       "</table>\n",
       "</div>"
      ],
      "text/plain": [
       "       Analysis Method   ROC AUC\n",
       "0  Logistic Regression  0.522648"
      ]
     },
     "execution_count": 265,
     "metadata": {},
     "output_type": "execute_result"
    }
   ],
   "source": [
    "logreg = LogisticRegression(random_state = 710674, C = 0.00001, max_iter = 20000)\n",
    "logreg.fit(train_x, train_y)\n",
    "results = results.append(\n",
    "    pd.Series(['Logistic Regression', roc_auc_score(test_y, logreg.predict_proba(test_x), multi_class='ovr')],\n",
    "              index=index), ignore_index=True)\n",
    "\n",
    "results"
   ]
  },
  {
   "cell_type": "code",
   "execution_count": 266,
   "id": "ae1b5348-d464-4de1-acee-3e851ae2623a",
   "metadata": {},
   "outputs": [],
   "source": [
    "# logreg.predict_proba(test_x)"
   ]
  },
  {
   "cell_type": "code",
   "execution_count": 267,
   "id": "12e621b9-8619-470f-a991-db469861eb47",
   "metadata": {},
   "outputs": [],
   "source": [
    "y_pred = logreg.predict(test_x)\n",
    "acc_score = accuracy_score(test_y, y_pred)"
   ]
  },
  {
   "cell_type": "code",
   "execution_count": 268,
   "id": "ef44c673-b31a-4b63-8527-7c646e3c6ec6",
   "metadata": {},
   "outputs": [
    {
     "data": {
      "text/plain": [
       "0.5520833333333334"
      ]
     },
     "execution_count": 268,
     "metadata": {},
     "output_type": "execute_result"
    }
   ],
   "source": [
    "acc_score"
   ]
  },
  {
   "cell_type": "markdown",
   "id": "18d10889-90aa-410b-9eeb-17ad74ab1a80",
   "metadata": {},
   "source": [
    "* 각 라벨별 변수에 대한 계수(coefficient)를 확인"
   ]
  },
  {
   "cell_type": "code",
   "execution_count": 269,
   "id": "a383728f-31c6-4bbc-a29d-fbbbb2d451bc",
   "metadata": {},
   "outputs": [
    {
     "data": {
      "text/plain": [
       "array([[-3.73974231e-06, -4.38068275e-05,  4.23036071e-05,\n",
       "        -1.18759519e-05, -1.52610468e-05, -1.46237467e-05,\n",
       "        -1.76656185e-05],\n",
       "       [-5.84416223e-06, -9.40715629e-06, -3.69849336e-05,\n",
       "         6.27348055e-07,  7.92003425e-07,  1.51756840e-07,\n",
       "         2.67909830e-07],\n",
       "       [ 9.58390454e-06,  5.32139838e-05, -5.31867359e-06,\n",
       "         1.12486038e-05,  1.44690433e-05,  1.44719898e-05,\n",
       "         1.73977087e-05]])"
      ]
     },
     "execution_count": 269,
     "metadata": {},
     "output_type": "execute_result"
    }
   ],
   "source": [
    "logreg.coef_"
   ]
  },
  {
   "cell_type": "code",
   "execution_count": null,
   "id": "a33cbd5f-5c4f-42e1-ab9c-080253bc8c19",
   "metadata": {},
   "outputs": [],
   "source": []
  },
  {
   "cell_type": "code",
   "execution_count": null,
   "id": "275cdd3c-acc1-4027-8189-e68ec518da8a",
   "metadata": {},
   "outputs": [],
   "source": []
  },
  {
   "cell_type": "code",
   "execution_count": null,
   "id": "b05de05c-3c8d-4ab1-a8da-324b07a1a3d6",
   "metadata": {},
   "outputs": [],
   "source": []
  },
  {
   "cell_type": "code",
   "execution_count": null,
   "id": "c92f9324-ee52-481f-9172-a6ae5fd28c4c",
   "metadata": {},
   "outputs": [],
   "source": []
  },
  {
   "cell_type": "markdown",
   "id": "5f7a9c9f-7748-4186-a53b-2d05de98dc44",
   "metadata": {},
   "source": [
    "* Label propagation (generating probablistic transition matrix for unlabeled datapoints)"
   ]
  },
  {
   "cell_type": "code",
   "execution_count": null,
   "id": "e19fcb40-8b58-493c-b5c4-b36cc362b239",
   "metadata": {},
   "outputs": [],
   "source": [
    "def label_prop_test(kernel, params_list,x_train, x_test, y_train, y_test):\n",
    "    plt.figure(figsize=(20,10))\n",
    "    n, g = 0, 0\n",
    "    roc_scores = []\n",
    "    \n",
    "    if kernel == 'rbf':\n",
    "        for g in params_list:\n",
    "            lp = LabelPropagation(kernel=kernel, n_neighbors=n, gamma=g, max_iter=10000, tol=0.001)\n",
    "            lp.fit(x_train, y_train)\n",
    "            roc_scores.append(roc_auc_score(y_test, lp.predict_proba(x_test), multi_class='ovr'))\n",
    "    \n",
    "    if kernel == 'knn':\n",
    "        for n in params_list:\n",
    "            lp = LabelPropagation(kernel=kernel, n_neighbors=n, gamma=g, max_iter=10000, tol=0.001)\n",
    "            lp.fit(x_train, y_train)\n",
    "            roc_scores.append(roc_auc_score(y_test, lp.predict_proba(x_test), multi_class='ovr'))\n",
    "    \n",
    "    plt.figure(figsize=(16,8));\n",
    "    plt.plot(params_list, roc_scores)\n",
    "    plt.title('Label Propagation ROC AUC with ' + kernel + ' kernel')\n",
    "    plt.show()\n",
    "    \n",
    "    print('Best metrics value is at {}'.format(params_list[np.argmax(roc_scores)]))"
   ]
  },
  {
   "cell_type": "code",
   "execution_count": null,
   "id": "200bbafb-cc41-4f3c-a9cf-bb66e00f62c0",
   "metadata": {},
   "outputs": [],
   "source": []
  },
  {
   "cell_type": "code",
   "execution_count": null,
   "id": "c1831ed1-57da-4fe7-9e56-ff91cc17a8ff",
   "metadata": {},
   "outputs": [],
   "source": []
  },
  {
   "cell_type": "code",
   "execution_count": null,
   "id": "e0eee636-f5bb-4abf-8549-d1d9c7a14661",
   "metadata": {},
   "outputs": [],
   "source": []
  },
  {
   "cell_type": "code",
   "execution_count": null,
   "id": "247e6022-5db7-4913-8836-917ad9633cb5",
   "metadata": {},
   "outputs": [],
   "source": []
  },
  {
   "cell_type": "code",
   "execution_count": null,
   "id": "d8e4063a-9cae-415e-ab64-9628a2768356",
   "metadata": {},
   "outputs": [],
   "source": []
  },
  {
   "cell_type": "code",
   "execution_count": null,
   "id": "11d71834-8c41-4cfb-99e8-587ec6e2b66c",
   "metadata": {},
   "outputs": [],
   "source": []
  },
  {
   "cell_type": "code",
   "execution_count": null,
   "id": "87f8a019-b743-494b-b7b4-d6667520c888",
   "metadata": {},
   "outputs": [],
   "source": []
  },
  {
   "cell_type": "code",
   "execution_count": null,
   "id": "4f3af009-404d-42c1-bda2-978d382b1923",
   "metadata": {},
   "outputs": [],
   "source": []
  }
 ],
 "metadata": {
  "kernelspec": {
   "display_name": "Python 3",
   "language": "python",
   "name": "python3"
  },
  "language_info": {
   "codemirror_mode": {
    "name": "ipython",
    "version": 3
   },
   "file_extension": ".py",
   "mimetype": "text/x-python",
   "name": "python",
   "nbconvert_exporter": "python",
   "pygments_lexer": "ipython3",
   "version": "3.8.10"
  }
 },
 "nbformat": 4,
 "nbformat_minor": 5
}
