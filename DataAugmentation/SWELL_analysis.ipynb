{
 "cells": [
  {
   "cell_type": "markdown",
   "id": "91d59409-a684-4b5a-bfec-98d1f4b78f7b",
   "metadata": {},
   "source": [
    "# SWELL - stress dataset"
   ]
  },
  {
   "cell_type": "code",
   "execution_count": 1,
   "id": "66fc7e3e-e135-46c2-b6d2-af61dec8eca0",
   "metadata": {},
   "outputs": [],
   "source": [
    "import os\n",
    "import time\n",
    "# import shap ## for XAI\n",
    "import numpy as np\n",
    "import pandas as pd\n",
    "import seaborn as sns\n",
    "# import pingouin as pg\n",
    "import matplotlib.pyplot as plt\n",
    "import sklearn.metrics as metrics"
   ]
  },
  {
   "cell_type": "code",
   "execution_count": 2,
   "id": "74b0638b-d6be-43f1-8045-45ebd4845774",
   "metadata": {},
   "outputs": [],
   "source": [
    "from numpy import dot\n",
    "from numpy.linalg import norm\n",
    "\n",
    "from keras.models import Sequential\n",
    "from keras.layers import Dense , Dropout , Lambda, Flatten\n",
    "from keras.layers import Dense , Activation, Dropout, BatchNormalization\n",
    "from keras.optimizers import Adam ,RMSprop\n",
    "from keras.callbacks import Callback\n",
    "\n",
    "from scipy.special import rel_entr\n",
    "from scipy.stats import gaussian_kde\n",
    "from scipy.spatial.distance import jensenshannon\n",
    "\n",
    "from sklearn.model_selection import train_test_split, StratifiedKFold, KFold, train_test_split, ParameterGrid\n",
    "from sklearn import decomposition, metrics\n",
    "from sklearn.cluster import KMeans\n",
    "from sklearn.metrics import accuracy_score, cohen_kappa_score, f1_score, confusion_matrix, roc_auc_score, classification_report, precision_score, recall_score\n",
    "from sklearn.inspection import permutation_importance\n",
    "from sklearn.preprocessing import Normalizer, MinMaxScaler, RobustScaler\n",
    "from sklearn.feature_selection import RFE\n",
    "from sklearn.svm import SVR\n",
    "from sklearn.impute import KNNImputer\n",
    "from sklearn.manifold import TSNE\n",
    "\n",
    "from tensorflow.keras.utils import to_categorical\n",
    "from tensorflow import keras\n",
    "from tensorflow.keras.callbacks import LearningRateScheduler, EarlyStopping, ReduceLROnPlateau\n",
    "from tensorflow.keras.layers import Input, Dense, Lambda, Conv1D, Flatten, Reshape, UpSampling1D\n",
    "from tensorflow.keras.models import Model\n",
    "from tensorflow.keras import layers, models, losses, backend as K\n",
    "from tensorflow.keras.losses import mse, MeanSquaredError"
   ]
  },
  {
   "cell_type": "code",
   "execution_count": 3,
   "id": "a3ed8459-ae7f-49d0-ad6e-bf0df6280521",
   "metadata": {},
   "outputs": [],
   "source": [
    "os.environ[\"CUDA_VISIBLE_DEVICES\"] = \"0\""
   ]
  },
  {
   "cell_type": "code",
   "execution_count": 4,
   "id": "3c90891a-b1c6-4af2-967f-57db130a4dc5",
   "metadata": {},
   "outputs": [
    {
     "name": "stdout",
     "output_type": "stream",
     "text": [
      "[name: \"/device:CPU:0\"\n",
      "device_type: \"CPU\"\n",
      "memory_limit: 268435456\n",
      "locality {\n",
      "}\n",
      "incarnation: 9012103632622854817\n",
      "xla_global_id: -1\n",
      ", name: \"/device:GPU:0\"\n",
      "device_type: \"GPU\"\n",
      "memory_limit: 1436794880\n",
      "locality {\n",
      "  bus_id: 1\n",
      "  links {\n",
      "  }\n",
      "}\n",
      "incarnation: 2229605656639038364\n",
      "physical_device_desc: \"device: 0, name: NVIDIA GeForce RTX 3070, pci bus id: 0000:01:00.0, compute capability: 8.6\"\n",
      "xla_global_id: 416903419\n",
      "]\n"
     ]
    }
   ],
   "source": [
    "import tensorflow as tf \n",
    "from tensorflow.python.client import device_lib\n",
    "\n",
    "print(device_lib.list_local_devices())"
   ]
  },
  {
   "cell_type": "code",
   "execution_count": null,
   "id": "5f0f4e79-123f-4121-9a2d-3dd9cf477ed9",
   "metadata": {},
   "outputs": [],
   "source": []
  },
  {
   "cell_type": "markdown",
   "id": "e5152144-f81a-4c73-8759-101c786f4d44",
   "metadata": {},
   "source": [
    "## Data Check"
   ]
  },
  {
   "cell_type": "code",
   "execution_count": 5,
   "id": "a25d3198-720a-4bf9-8f59-3d5aa5856dcd",
   "metadata": {},
   "outputs": [],
   "source": [
    "data_ori = pd.read_csv('E:/RESEARCH/Datasets/bio_data/hrv_eda/2. final/datasets/hrv/swell/combined/classification/swell_hrv.csv')"
   ]
  },
  {
   "cell_type": "code",
   "execution_count": 6,
   "id": "8879e07e-1b60-48f4-a457-5e99733ffe18",
   "metadata": {},
   "outputs": [
    {
     "name": "stdout",
     "output_type": "stream",
     "text": [
      "The shape of the original SWELL HRV dataset is: (391638, 35)\n",
      "Index(['MEAN_RR', 'MEDIAN_RR', 'SDRR', 'RMSSD', 'SDSD', 'SDRR_RMSSD', 'HR',\n",
      "       'pNN25', 'pNN50', 'SD1', 'SD2', 'KURT', 'SKEW', 'MEAN_REL_RR',\n",
      "       'MEDIAN_REL_RR', 'SDRR_REL_RR', 'RMSSD_REL_RR', 'SDSD_REL_RR',\n",
      "       'SDRR_RMSSD_REL_RR', 'KURT_REL_RR', 'SKEW_REL_RR', 'VLF', 'VLF_PCT',\n",
      "       'LF', 'LF_PCT', 'LF_NU', 'HF', 'HF_PCT', 'HF_NU', 'TP', 'LF_HF',\n",
      "       'HF_LF', 'sampen', 'higuci', 'condition'],\n",
      "      dtype='object')\n"
     ]
    }
   ],
   "source": [
    "### data shape, variables check\n",
    "print(\"The shape of the original SWELL HRV dataset is:\", data_ori.shape)\n",
    "print(data_ori.columns)\n",
    "# data_ori.head()"
   ]
  },
  {
   "cell_type": "markdown",
   "id": "03c47088-a2a5-4ed3-a834-6f904e340ec0",
   "metadata": {},
   "source": [
    "> Target label is \"condition\" variable. \\\n",
    "> no stress,  time pressur and = interruption"
   ]
  },
  {
   "cell_type": "code",
   "execution_count": null,
   "id": "f23e5ac8-1df9-4cfd-8008-20b6fb09579d",
   "metadata": {},
   "outputs": [],
   "source": []
  },
  {
   "cell_type": "markdown",
   "id": "bc9c866a-a026-4b88-adbe-d3620ca4b6fd",
   "metadata": {},
   "source": [
    "* Labeling check"
   ]
  },
  {
   "cell_type": "code",
   "execution_count": 7,
   "id": "ebc02eb7-32b6-4920-a16f-53db5cf77060",
   "metadata": {},
   "outputs": [
    {
     "data": {
      "text/plain": [
       "condition\n",
       "no stress        212400\n",
       "interruption     110943\n",
       "time pressure     68295\n",
       "Name: count, dtype: int64"
      ]
     },
     "execution_count": 7,
     "metadata": {},
     "output_type": "execute_result"
    }
   ],
   "source": [
    "data_ori[\"condition\"].value_counts()"
   ]
  },
  {
   "cell_type": "code",
   "execution_count": null,
   "id": "fa48f1aa-d276-47e3-b286-8847cec90b94",
   "metadata": {},
   "outputs": [],
   "source": []
  },
  {
   "cell_type": "markdown",
   "id": "379ddfb1-9e17-4d0d-b07a-c0f44fd53307",
   "metadata": {},
   "source": [
    "***"
   ]
  },
  {
   "cell_type": "markdown",
   "id": "bc765424-1964-477a-af80-c99fa74d0dfc",
   "metadata": {},
   "source": [
    "### NA handling"
   ]
  },
  {
   "cell_type": "markdown",
   "id": "25ae40f6-9b9b-4e1c-ba54-a1a141b72ad0",
   "metadata": {},
   "source": [
    "> Drop only rows with NA in target_info column. \\\n",
    "> Data row without diagnosed target_info is difficult to use."
   ]
  },
  {
   "cell_type": "code",
   "execution_count": 8,
   "id": "6ad72244-1122-430a-b50c-0baf97e4d204",
   "metadata": {},
   "outputs": [
    {
     "name": "stdout",
     "output_type": "stream",
     "text": [
      "Data row that has no target information is: 0\n"
     ]
    }
   ],
   "source": [
    "print(\"Data row that has no target information is:\", data_ori['condition'].isna().sum())"
   ]
  },
  {
   "cell_type": "code",
   "execution_count": 9,
   "id": "2cd3f91b-5586-4f8b-b89f-336c56fb59b8",
   "metadata": {},
   "outputs": [],
   "source": [
    "data_ori = data_ori.dropna(subset = ['condition'], how='any', axis=0)"
   ]
  },
  {
   "cell_type": "code",
   "execution_count": 10,
   "id": "bc30a651-28c2-4c85-a2cb-87567c1b3294",
   "metadata": {},
   "outputs": [
    {
     "data": {
      "text/plain": [
       "(391638, 35)"
      ]
     },
     "execution_count": 10,
     "metadata": {},
     "output_type": "execute_result"
    }
   ],
   "source": [
    "data_ori.shape"
   ]
  },
  {
   "cell_type": "code",
   "execution_count": 11,
   "id": "1c9cb04f-6a55-4a5f-b47d-c1b2825ee148",
   "metadata": {},
   "outputs": [
    {
     "data": {
      "text/html": [
       "<div>\n",
       "<style scoped>\n",
       "    .dataframe tbody tr th:only-of-type {\n",
       "        vertical-align: middle;\n",
       "    }\n",
       "\n",
       "    .dataframe tbody tr th {\n",
       "        vertical-align: top;\n",
       "    }\n",
       "\n",
       "    .dataframe thead th {\n",
       "        text-align: right;\n",
       "    }\n",
       "</style>\n",
       "<table border=\"1\" class=\"dataframe\">\n",
       "  <thead>\n",
       "    <tr style=\"text-align: right;\">\n",
       "      <th></th>\n",
       "      <th>MEAN_RR</th>\n",
       "      <th>MEDIAN_RR</th>\n",
       "      <th>SDRR</th>\n",
       "      <th>RMSSD</th>\n",
       "      <th>SDSD</th>\n",
       "      <th>SDRR_RMSSD</th>\n",
       "      <th>HR</th>\n",
       "      <th>pNN25</th>\n",
       "      <th>pNN50</th>\n",
       "      <th>SD1</th>\n",
       "      <th>...</th>\n",
       "      <th>LF_NU</th>\n",
       "      <th>HF</th>\n",
       "      <th>HF_PCT</th>\n",
       "      <th>HF_NU</th>\n",
       "      <th>TP</th>\n",
       "      <th>LF_HF</th>\n",
       "      <th>HF_LF</th>\n",
       "      <th>sampen</th>\n",
       "      <th>higuci</th>\n",
       "      <th>condition</th>\n",
       "    </tr>\n",
       "  </thead>\n",
       "  <tbody>\n",
       "    <tr>\n",
       "      <th>0</th>\n",
       "      <td>1183.843150</td>\n",
       "      <td>1181.251800</td>\n",
       "      <td>365.254689</td>\n",
       "      <td>16.232314</td>\n",
       "      <td>16.228591</td>\n",
       "      <td>22.501702</td>\n",
       "      <td>58.411211</td>\n",
       "      <td>10.466667</td>\n",
       "      <td>1.400000</td>\n",
       "      <td>11.479176</td>\n",
       "      <td>...</td>\n",
       "      <td>93.944607</td>\n",
       "      <td>26.980773</td>\n",
       "      <td>0.413795</td>\n",
       "      <td>6.055393</td>\n",
       "      <td>6520.326026</td>\n",
       "      <td>15.514206</td>\n",
       "      <td>0.064457</td>\n",
       "      <td>2.050395</td>\n",
       "      <td>1.068123</td>\n",
       "      <td>time pressure</td>\n",
       "    </tr>\n",
       "    <tr>\n",
       "      <th>1</th>\n",
       "      <td>1021.041857</td>\n",
       "      <td>1022.250750</td>\n",
       "      <td>100.521147</td>\n",
       "      <td>21.561202</td>\n",
       "      <td>21.561202</td>\n",
       "      <td>4.662131</td>\n",
       "      <td>59.350494</td>\n",
       "      <td>24.466667</td>\n",
       "      <td>2.000000</td>\n",
       "      <td>15.251160</td>\n",
       "      <td>...</td>\n",
       "      <td>99.639291</td>\n",
       "      <td>6.697061</td>\n",
       "      <td>0.149095</td>\n",
       "      <td>0.360709</td>\n",
       "      <td>4491.803856</td>\n",
       "      <td>276.231752</td>\n",
       "      <td>0.003620</td>\n",
       "      <td>2.210648</td>\n",
       "      <td>1.148183</td>\n",
       "      <td>no stress</td>\n",
       "    </tr>\n",
       "    <tr>\n",
       "      <th>2</th>\n",
       "      <td>820.137142</td>\n",
       "      <td>836.800665</td>\n",
       "      <td>107.879842</td>\n",
       "      <td>17.077352</td>\n",
       "      <td>17.076497</td>\n",
       "      <td>6.317130</td>\n",
       "      <td>74.687574</td>\n",
       "      <td>13.466667</td>\n",
       "      <td>0.600000</td>\n",
       "      <td>12.078936</td>\n",
       "      <td>...</td>\n",
       "      <td>99.019666</td>\n",
       "      <td>19.676393</td>\n",
       "      <td>0.572079</td>\n",
       "      <td>0.980334</td>\n",
       "      <td>3439.452423</td>\n",
       "      <td>101.006099</td>\n",
       "      <td>0.009900</td>\n",
       "      <td>2.054357</td>\n",
       "      <td>1.129740</td>\n",
       "      <td>interruption</td>\n",
       "    </tr>\n",
       "    <tr>\n",
       "      <th>3</th>\n",
       "      <td>716.399934</td>\n",
       "      <td>745.647205</td>\n",
       "      <td>127.779239</td>\n",
       "      <td>15.836261</td>\n",
       "      <td>15.835732</td>\n",
       "      <td>8.068776</td>\n",
       "      <td>86.920960</td>\n",
       "      <td>10.466667</td>\n",
       "      <td>0.600000</td>\n",
       "      <td>11.201290</td>\n",
       "      <td>...</td>\n",
       "      <td>92.639413</td>\n",
       "      <td>75.406806</td>\n",
       "      <td>1.295178</td>\n",
       "      <td>7.360587</td>\n",
       "      <td>5822.117149</td>\n",
       "      <td>12.585873</td>\n",
       "      <td>0.079454</td>\n",
       "      <td>1.811317</td>\n",
       "      <td>1.212820</td>\n",
       "      <td>no stress</td>\n",
       "    </tr>\n",
       "    <tr>\n",
       "      <th>4</th>\n",
       "      <td>977.406611</td>\n",
       "      <td>1041.002800</td>\n",
       "      <td>361.240628</td>\n",
       "      <td>14.531204</td>\n",
       "      <td>14.521966</td>\n",
       "      <td>24.859649</td>\n",
       "      <td>73.062657</td>\n",
       "      <td>7.000000</td>\n",
       "      <td>1.333333</td>\n",
       "      <td>10.272008</td>\n",
       "      <td>...</td>\n",
       "      <td>94.091814</td>\n",
       "      <td>28.751397</td>\n",
       "      <td>0.462621</td>\n",
       "      <td>5.908186</td>\n",
       "      <td>6214.888755</td>\n",
       "      <td>15.925668</td>\n",
       "      <td>0.062792</td>\n",
       "      <td>1.921985</td>\n",
       "      <td>1.089636</td>\n",
       "      <td>interruption</td>\n",
       "    </tr>\n",
       "  </tbody>\n",
       "</table>\n",
       "<p>5 rows × 35 columns</p>\n",
       "</div>"
      ],
      "text/plain": [
       "       MEAN_RR    MEDIAN_RR        SDRR      RMSSD       SDSD  SDRR_RMSSD  \\\n",
       "0  1183.843150  1181.251800  365.254689  16.232314  16.228591   22.501702   \n",
       "1  1021.041857  1022.250750  100.521147  21.561202  21.561202    4.662131   \n",
       "2   820.137142   836.800665  107.879842  17.077352  17.076497    6.317130   \n",
       "3   716.399934   745.647205  127.779239  15.836261  15.835732    8.068776   \n",
       "4   977.406611  1041.002800  361.240628  14.531204  14.521966   24.859649   \n",
       "\n",
       "          HR      pNN25     pNN50        SD1  ...      LF_NU         HF  \\\n",
       "0  58.411211  10.466667  1.400000  11.479176  ...  93.944607  26.980773   \n",
       "1  59.350494  24.466667  2.000000  15.251160  ...  99.639291   6.697061   \n",
       "2  74.687574  13.466667  0.600000  12.078936  ...  99.019666  19.676393   \n",
       "3  86.920960  10.466667  0.600000  11.201290  ...  92.639413  75.406806   \n",
       "4  73.062657   7.000000  1.333333  10.272008  ...  94.091814  28.751397   \n",
       "\n",
       "     HF_PCT     HF_NU           TP       LF_HF     HF_LF    sampen    higuci  \\\n",
       "0  0.413795  6.055393  6520.326026   15.514206  0.064457  2.050395  1.068123   \n",
       "1  0.149095  0.360709  4491.803856  276.231752  0.003620  2.210648  1.148183   \n",
       "2  0.572079  0.980334  3439.452423  101.006099  0.009900  2.054357  1.129740   \n",
       "3  1.295178  7.360587  5822.117149   12.585873  0.079454  1.811317  1.212820   \n",
       "4  0.462621  5.908186  6214.888755   15.925668  0.062792  1.921985  1.089636   \n",
       "\n",
       "       condition  \n",
       "0  time pressure  \n",
       "1      no stress  \n",
       "2   interruption  \n",
       "3      no stress  \n",
       "4   interruption  \n",
       "\n",
       "[5 rows x 35 columns]"
      ]
     },
     "execution_count": 11,
     "metadata": {},
     "output_type": "execute_result"
    }
   ],
   "source": [
    "data_ori.head()"
   ]
  },
  {
   "cell_type": "markdown",
   "id": "a1cbf40c-9c08-4ba0-a3ef-0b16f9e2e44f",
   "metadata": {},
   "source": [
    "***"
   ]
  },
  {
   "cell_type": "markdown",
   "id": "5333e97d-0bd4-4e7d-929b-fd6dccee21eb",
   "metadata": {},
   "source": [
    "### Reducing dataset size"
   ]
  },
  {
   "cell_type": "code",
   "execution_count": null,
   "id": "5afd208f-2c61-4929-aeed-4d2bfe09e560",
   "metadata": {},
   "outputs": [],
   "source": [
    "# df_reduced = data_ori.groupby('condition').head(3000)"
   ]
  },
  {
   "cell_type": "code",
   "execution_count": 12,
   "id": "2e1ed97d-31be-4e76-8971-7f0518793038",
   "metadata": {},
   "outputs": [],
   "source": [
    "df_reduced = data_ori.groupby('condition').apply(lambda x: x.sample(500)).reset_index(drop=True)"
   ]
  },
  {
   "cell_type": "code",
   "execution_count": 13,
   "id": "eb190424-51eb-429b-8611-07a52b0b5f88",
   "metadata": {},
   "outputs": [
    {
     "data": {
      "text/plain": [
       "condition\n",
       "interruption     500\n",
       "no stress        500\n",
       "time pressure    500\n",
       "Name: count, dtype: int64"
      ]
     },
     "execution_count": 13,
     "metadata": {},
     "output_type": "execute_result"
    }
   ],
   "source": [
    "df_reduced['condition'].value_counts()"
   ]
  },
  {
   "cell_type": "code",
   "execution_count": null,
   "id": "59c8e9e8-341f-44be-832d-3034d5fc337f",
   "metadata": {},
   "outputs": [],
   "source": []
  },
  {
   "cell_type": "markdown",
   "id": "4b080b08-12cd-404d-8a09-649b222821cf",
   "metadata": {},
   "source": [
    "---"
   ]
  },
  {
   "cell_type": "markdown",
   "id": "f3aebed8-cc60-46b7-a042-ff7647684c4e",
   "metadata": {
    "jp-MarkdownHeadingCollapsed": true
   },
   "source": [
    "### JSD for meaningful variable extraction"
   ]
  },
  {
   "cell_type": "code",
   "execution_count": null,
   "id": "bad1566f-cc59-4ef9-87a9-fed6c5465b14",
   "metadata": {},
   "outputs": [],
   "source": [
    "data_vis = df_reduced.copy()"
   ]
  },
  {
   "cell_type": "code",
   "execution_count": null,
   "id": "ff758f65-b180-4805-a299-bba814714dc8",
   "metadata": {},
   "outputs": [],
   "source": [
    "data_vis = data_vis.drop(['condition'], axis=1)\n",
    "features = [col for col in list(data_vis.columns)]"
   ]
  },
  {
   "cell_type": "code",
   "execution_count": null,
   "id": "40a57aa1-1da0-4ba4-af59-99637d399ee3",
   "metadata": {},
   "outputs": [],
   "source": [
    "# def jsd_multiple_distributions(*distributions):\n",
    "#     num_distributions = len(distributions)\n",
    "#     average_distribution = np.mean(distributions, axis=0)\n",
    "#     jsd = 0\n",
    "#     for dist in distributions:\n",
    "#         jsd += jensenshannon(dist, average_distribution) ** 2\n",
    "#     jsd /= num_distributions\n",
    "#     return np.sqrt(jsd)"
   ]
  },
  {
   "cell_type": "code",
   "execution_count": null,
   "id": "7feacd61-95e7-412d-b92f-3d1e8fffeeaa",
   "metadata": {
    "scrolled": true
   },
   "outputs": [],
   "source": [
    "## list to append distributional differences\n",
    "variable = []\n",
    "diff01 = []\n",
    "diff02 = []\n",
    "diff03 = []\n",
    "diff12 = []\n",
    "diff13 = []\n",
    "diff23 = []\n",
    "# diff123 = []\n",
    "# diff0123 = []\n",
    "\n",
    "for feature in features:\n",
    "    ## deleting any NA values in each feature column, for distance calculation\n",
    "    data = data_vis.dropna(subset=[feature])\n",
    "\n",
    "    ## split the dataset into each classes\n",
    "    df0 = data[data['target_info']==\"control\"]\n",
    "    df1 = data[data['target_info']==\"mdd\"]\n",
    "    df2 = data[data['target_info']==\"bpi\"]\n",
    "    df3 = data[data['target_info']==\"bpii\"]\n",
    "\n",
    "    df0 = df0.drop(['target_info'], axis=1)\n",
    "    df1 = df1.drop(['target_info'], axis=1)\n",
    "    df2 = df2.drop(['target_info'], axis=1)\n",
    "    df3 = df3.drop(['target_info'], axis=1)\n",
    "    \n",
    "    df0_values = df0[feature]\n",
    "    df1_values = df1[feature]\n",
    "    df2_values = df2[feature]\n",
    "    df3_values = df3[feature]\n",
    "\n",
    "    ## sampling based on the minimum size of the target info.\n",
    "    sample_size = (min(df0_values.shape[0], df1_values.shape[0], df2_values.shape[0], df3_values.shape[0]))\n",
    "    df0_sample = df0_values.sample(n=(sample_size))\n",
    "    df1_sample = df1_values.sample(n=(sample_size))\n",
    "    df2_sample = df2_values.sample(n=(sample_size))\n",
    "    df3_sample = df3_values.sample(n=(sample_size))\n",
    "\n",
    "    ## calculating distribution using histogram\n",
    "    hist0, bin_edges0 = np.histogram(df0_sample, bins=30, density=True)\n",
    "    hist1, bin_edges1 = np.histogram(df1_sample, bins=30, density=True)\n",
    "    hist2, bin_edges2 = np.histogram(df2_sample, bins=30, density=True)\n",
    "    hist3, bin_edges3 = np.histogram(df3_sample, bins=30, density=True)\n",
    "\n",
    "    ## standardize the probability distribution\n",
    "    h0 = hist0 / np.sum(hist0)\n",
    "    h1 = hist1 / np.sum(hist1)\n",
    "    h2 = hist2 / np.sum(hist2)\n",
    "    h3 = hist3 / np.sum(hist3)\n",
    "\n",
    "    ## jensen-shannon divergence calculation and append\n",
    "    variable.append(feature)\n",
    "    diff01.append(jensenshannon(h0, h1))\n",
    "    diff02.append(jensenshannon(h0, h2))\n",
    "    diff03.append(jensenshannon(h0, h3))\n",
    "    diff12.append(jensenshannon(h1, h2))\n",
    "    diff13.append(jensenshannon(h1, h3))\n",
    "    diff23.append(jensenshannon(h2, h3))\n",
    "    # diff123.append(jsd_multiple_distributions(h1, h2, h3))\n",
    "    # diff0123.append(jsd_multiple_distributions(h0, h1, h2, h3))"
   ]
  },
  {
   "cell_type": "code",
   "execution_count": null,
   "id": "18ca1442-23a2-4be2-b195-01001a5701f4",
   "metadata": {},
   "outputs": [],
   "source": [
    "jsd_differences = pd.DataFrame({'JSD01':diff01, 'JSD02':diff02, 'JSD03':diff03, 'JSD12':diff12, 'JSD13':diff13, 'JSD23':diff23})\n",
    "# jsd_differences = pd.DataFrame({'variable':variable, 'JSD01':diff01, 'JSD02':diff02, 'JSD03':diff03, 'JSD12':diff12, 'JSD13':diff13, 'JSD23':diff23})\n",
    "# jsd_differences = pd.DataFrame({'variable':variable, 'JSD01':diff01, 'JSD02':diff02, 'JSD03':diff03, 'JSD12':diff12, 'JSD13':diff13, 'JSD23':diff23, \n",
    "#                                'JSD123':diff123, 'JSD0123':diff0123})"
   ]
  },
  {
   "cell_type": "code",
   "execution_count": null,
   "id": "9c934e6f-aa02-4b1b-8d67-b947699c9b67",
   "metadata": {},
   "outputs": [],
   "source": [
    "jsd_differences.head()"
   ]
  },
  {
   "cell_type": "code",
   "execution_count": null,
   "id": "3f2f1265-9a6c-4b92-aeff-79a652055be8",
   "metadata": {},
   "outputs": [],
   "source": [
    "# definition to check for all row, whether one or more value is bigger than 0.2\n",
    "def check_jsd(row):\n",
    "    return 'yes' if any(row >= 0.3) else 'no'\n",
    "\n",
    "# using apply method to create new column 'result'\n",
    "jsd_differences['result'] = jsd_differences.apply(check_jsd, axis=1)"
   ]
  },
  {
   "cell_type": "code",
   "execution_count": null,
   "id": "4689de22-34ef-4eb7-8e62-258c47864f5c",
   "metadata": {},
   "outputs": [],
   "source": [
    "jsd_differences['mean'] = jsd_differences[['JSD01','JSD02','JSD03','JSD12','JSD13','JSD23']].mean(axis=1)"
   ]
  },
  {
   "cell_type": "code",
   "execution_count": null,
   "id": "6cd26b61-ce39-45a2-9555-f71529766704",
   "metadata": {},
   "outputs": [],
   "source": [
    "jsd_differences.head()"
   ]
  },
  {
   "cell_type": "code",
   "execution_count": null,
   "id": "6d8047e2-bfa3-48fc-b0b5-af54b6b79e7b",
   "metadata": {},
   "outputs": [],
   "source": [
    "jsd_differences['variable'] = variable"
   ]
  },
  {
   "cell_type": "code",
   "execution_count": null,
   "id": "056ae1c8-3e9b-4bc2-afbb-4c067a39e3b1",
   "metadata": {},
   "outputs": [],
   "source": [
    "# jsd_big_diff = jsd_differences[jsd_differences['mean']>0.3]\n",
    "# jsd_big_diff = jsd_differences[jsd_differences['JSD123']>0.3]\n",
    "jsd_big_diff = jsd_differences[jsd_differences['result']=='yes']"
   ]
  },
  {
   "cell_type": "code",
   "execution_count": null,
   "id": "f71fbf75-e3a3-4d46-ae23-0cbe4ab93f94",
   "metadata": {},
   "outputs": [],
   "source": [
    "big_diff_columns = jsd_big_diff['variable']"
   ]
  },
  {
   "cell_type": "code",
   "execution_count": null,
   "id": "1c532098-0f53-4a24-9e76-ee5e903a70e0",
   "metadata": {},
   "outputs": [],
   "source": [
    "big_diff_columns = jsd_big_diff['variable'].values.tolist()"
   ]
  },
  {
   "cell_type": "code",
   "execution_count": null,
   "id": "e1017123-1adb-4d2b-a6ff-e2e11f277904",
   "metadata": {},
   "outputs": [],
   "source": [
    "# print(big_diff_columns)"
   ]
  },
  {
   "cell_type": "code",
   "execution_count": null,
   "id": "45ab64e9-6e3d-4efc-b89c-f1f9c4f912d2",
   "metadata": {},
   "outputs": [],
   "source": [
    "len(big_diff_columns)"
   ]
  },
  {
   "cell_type": "code",
   "execution_count": null,
   "id": "c18f8bd5-75b7-4205-ba54-727145cb4035",
   "metadata": {},
   "outputs": [],
   "source": [
    "len(data_vis.columns)"
   ]
  },
  {
   "cell_type": "markdown",
   "id": "9a0e5d55-fbc5-4ea4-a3aa-edde732ba3bf",
   "metadata": {},
   "source": [
    "> We can check that there are 27 variables lacks distributional distance between target groups"
   ]
  },
  {
   "cell_type": "code",
   "execution_count": null,
   "id": "c57c0a3c-8652-4f3e-ac68-246f8c8a4204",
   "metadata": {},
   "outputs": [],
   "source": []
  },
  {
   "cell_type": "markdown",
   "id": "6cb735d6-8d5b-4d39-a870-f600b91bd7fa",
   "metadata": {},
   "source": [
    "***"
   ]
  },
  {
   "cell_type": "markdown",
   "id": "e7c74e34-2227-44c0-a3cd-f4e906c7a339",
   "metadata": {},
   "source": [
    "---"
   ]
  },
  {
   "cell_type": "markdown",
   "id": "87e961fa-f1fe-4373-9937-a6f427750686",
   "metadata": {
    "jp-MarkdownHeadingCollapsed": true
   },
   "source": [
    "## Support Vector Machine"
   ]
  },
  {
   "cell_type": "code",
   "execution_count": null,
   "id": "5552663e-47da-4532-bd80-a5072d85f96e",
   "metadata": {},
   "outputs": [],
   "source": [
    "data = data_fill_s8.copy()"
   ]
  },
  {
   "cell_type": "code",
   "execution_count": null,
   "id": "dfb8c733-037d-4150-8bd7-14c65f8a5099",
   "metadata": {},
   "outputs": [],
   "source": [
    "data_x = data.drop(['subject_info', 'birth_info', 'target_info', 'sex_info', 'age_info', 'family_hx_info'], axis=1)\n",
    "data_y = data.loc[:,[\"target_info\"]]"
   ]
  },
  {
   "cell_type": "code",
   "execution_count": null,
   "id": "0e2a3d24-d20e-4521-86d0-c4820ac4f0bc",
   "metadata": {},
   "outputs": [],
   "source": [
    "## this is for selecting variables with JSDivergence big differences\n",
    "data_x = data_x[big_diff_columns]"
   ]
  },
  {
   "cell_type": "code",
   "execution_count": null,
   "id": "472f6ca2-e3f8-4bbc-8396-ec966eb167db",
   "metadata": {},
   "outputs": [],
   "source": [
    "data_x = data_x.fillna(data_x.mean())"
   ]
  },
  {
   "cell_type": "code",
   "execution_count": null,
   "id": "00b7858b-1324-43a1-b377-7bda8423072f",
   "metadata": {},
   "outputs": [],
   "source": [
    "########## FULL GROUP CLASSIFICATION ##########\n",
    "label = data_y\n",
    "label = label.replace({'control':0})\n",
    "label = label.replace({'mdd': 1})\n",
    "label = label.replace({'bpi': 2})\n",
    "label = label.replace({'bpii': 3})\n",
    "\n",
    "# y = to_categorical(label, 4) ## into the format of one-hot encoding\n",
    "y = label"
   ]
  },
  {
   "cell_type": "code",
   "execution_count": null,
   "id": "19a61735-608e-4f59-888b-26c84937c66a",
   "metadata": {},
   "outputs": [],
   "source": [
    "x = data_x"
   ]
  },
  {
   "cell_type": "code",
   "execution_count": null,
   "id": "0cd5ab2d-bec4-4286-8a4e-299451e50ba2",
   "metadata": {},
   "outputs": [],
   "source": [
    "x_train, x_test, y_train, y_test = train_test_split(x, y, test_size = 0.3, random_state = 710674)"
   ]
  },
  {
   "cell_type": "code",
   "execution_count": null,
   "id": "413e53f4-8950-45ee-9973-a94e28f3103f",
   "metadata": {},
   "outputs": [],
   "source": []
  },
  {
   "cell_type": "markdown",
   "id": "63d06068-0973-486f-82db-b1d19b23ae34",
   "metadata": {},
   "source": [
    "* Support vector machine algorithm"
   ]
  },
  {
   "cell_type": "code",
   "execution_count": null,
   "id": "b636f1ac-f9dc-4edf-9a8c-8797c611268d",
   "metadata": {
    "scrolled": true
   },
   "outputs": [],
   "source": [
    "from sklearn import svm\n",
    "\n",
    "svm_correct = []\n",
    "for i in range(250):\n",
    "    clf = svm.SVC(random_state=710674, \n",
    "                  #class_weight=rf_class_w_dict,\n",
    "                  kernel ='poly',\n",
    "                  max_iter=i,\n",
    "                  verbose=3\n",
    "                 )    \n",
    "    clf.fit(x_train, y_train)\n",
    "    predictions = clf.predict(x_test).reshape(x_test.shape[0],1)\n",
    "    test_correct = (predictions == y_test, 1)[0].sum().item()\n",
    "    test_correct /= len(y_test)\n",
    "\n",
    "    print(test_correct)\n",
    "    svm_correct.append(test_correct)"
   ]
  },
  {
   "cell_type": "code",
   "execution_count": null,
   "id": "33ada234-8140-4a59-8564-4f3402ce175f",
   "metadata": {},
   "outputs": [],
   "source": [
    "max(svm_correct)"
   ]
  },
  {
   "cell_type": "code",
   "execution_count": null,
   "id": "add55075-cee0-4f75-96d0-bae9c283b299",
   "metadata": {},
   "outputs": [],
   "source": []
  },
  {
   "cell_type": "code",
   "execution_count": null,
   "id": "96130773-8d03-48c0-b453-e31c595a8ea2",
   "metadata": {},
   "outputs": [],
   "source": []
  },
  {
   "cell_type": "code",
   "execution_count": null,
   "id": "ca1edf6a-6fa6-4cc4-9132-8778265b61d5",
   "metadata": {},
   "outputs": [],
   "source": []
  },
  {
   "cell_type": "markdown",
   "id": "63d47beb-ae97-4933-8441-e09e9f5f9dbd",
   "metadata": {},
   "source": [
    "***"
   ]
  },
  {
   "cell_type": "markdown",
   "id": "b7cfde78-f81f-4ae3-becc-a2d2ac462d18",
   "metadata": {},
   "source": [
    "## Normal DNN"
   ]
  },
  {
   "cell_type": "code",
   "execution_count": 57,
   "id": "3a698cd0-8b78-4e2e-8af5-86092ce805ac",
   "metadata": {},
   "outputs": [],
   "source": [
    "data = df_reduced"
   ]
  },
  {
   "cell_type": "code",
   "execution_count": 58,
   "id": "ed3fff30-90cf-44d4-8c13-fdd0bde33524",
   "metadata": {},
   "outputs": [
    {
     "data": {
      "text/plain": [
       "Index(['MEAN_RR', 'MEDIAN_RR', 'SDRR', 'RMSSD', 'SDSD', 'SDRR_RMSSD', 'HR',\n",
       "       'pNN25', 'pNN50', 'SD1', 'SD2', 'KURT', 'SKEW', 'MEAN_REL_RR',\n",
       "       'MEDIAN_REL_RR', 'SDRR_REL_RR', 'RMSSD_REL_RR', 'SDSD_REL_RR',\n",
       "       'SDRR_RMSSD_REL_RR', 'KURT_REL_RR', 'SKEW_REL_RR', 'VLF', 'VLF_PCT',\n",
       "       'LF', 'LF_PCT', 'LF_NU', 'HF', 'HF_PCT', 'HF_NU', 'TP', 'LF_HF',\n",
       "       'HF_LF', 'sampen', 'higuci', 'condition'],\n",
       "      dtype='object')"
      ]
     },
     "execution_count": 58,
     "metadata": {},
     "output_type": "execute_result"
    }
   ],
   "source": [
    "data.columns"
   ]
  },
  {
   "cell_type": "markdown",
   "id": "e9331167-23e5-4d2f-bfa5-502229cb0208",
   "metadata": {},
   "source": [
    "* Deleting all NA values"
   ]
  },
  {
   "cell_type": "code",
   "execution_count": 59,
   "id": "48ca78ea-5b98-448d-ad9a-cf6fca2e1334",
   "metadata": {},
   "outputs": [],
   "source": [
    "class Args_dnn:\n",
    "    # arugments\n",
    "    epochs=200\n",
    "    bs=64\n",
    "    lr=0.0001\n",
    "    momentum=0.9\n",
    "    num_classes= 3\n",
    "    verbose='store_true'\n",
    "    seed=710674\n",
    "\n",
    "args_dnn = Args_dnn()\n",
    "\n",
    "# np.random.seed(args.seed)\n",
    "# random.seed(args.seed)\n",
    "# torch.manual_seed(args.seed)"
   ]
  },
  {
   "cell_type": "code",
   "execution_count": 60,
   "id": "4b712496-a537-4f51-b0f4-5805a5938aad",
   "metadata": {},
   "outputs": [],
   "source": [
    "data_x = data.drop(['condition'], axis=1)\n",
    "data_y = data.condition"
   ]
  },
  {
   "cell_type": "code",
   "execution_count": 61,
   "id": "53204880-350f-4bdc-ba21-397a00aed5f1",
   "metadata": {
    "scrolled": true
   },
   "outputs": [],
   "source": [
    "## this is for selecting variables with JSDivergence big differences\n",
    "# data_x = data_x[big_diff_columns]\n",
    "\n",
    "## this is for selecting variables without JSDivergence big differences\n",
    "# data_x = data_x.drop(big_diff_columns, axis=1)"
   ]
  },
  {
   "cell_type": "code",
   "execution_count": null,
   "id": "98681042-ec18-409c-95a0-90ed5e06daf5",
   "metadata": {},
   "outputs": [],
   "source": []
  },
  {
   "cell_type": "markdown",
   "id": "cf0006bd-13a2-4bf2-a7b4-8a707c447434",
   "metadata": {},
   "source": [
    "* Filling NA values with mean values"
   ]
  },
  {
   "cell_type": "code",
   "execution_count": 62,
   "id": "37d1955f-45f0-4ebc-8c85-855727e18184",
   "metadata": {},
   "outputs": [
    {
     "data": {
      "text/plain": [
       "condition\n",
       "interruption     500\n",
       "no stress        500\n",
       "time pressure    500\n",
       "Name: count, dtype: int64"
      ]
     },
     "execution_count": 62,
     "metadata": {},
     "output_type": "execute_result"
    }
   ],
   "source": [
    "data_y.value_counts()"
   ]
  },
  {
   "cell_type": "code",
   "execution_count": 63,
   "id": "2d474c33-5b30-47db-9bd8-1bc98ca01b7c",
   "metadata": {},
   "outputs": [],
   "source": [
    "########## FULL GROUP CLASSIFICATION ##########\n",
    "label = data_y\n",
    "label = label.replace({'interruption':0})\n",
    "label = label.replace({'no stress': 1})\n",
    "label = label.replace({'time pressure': 2})\n",
    "\n",
    "y = to_categorical(label, 3) ## into the format of one-hot encoding"
   ]
  },
  {
   "cell_type": "code",
   "execution_count": 64,
   "id": "3cae175f-2a73-4e71-9fab-12908a1c7478",
   "metadata": {},
   "outputs": [],
   "source": [
    "x = data_x"
   ]
  },
  {
   "cell_type": "code",
   "execution_count": 65,
   "id": "84c91923-dbe5-49f7-bfd4-833877e54cda",
   "metadata": {},
   "outputs": [],
   "source": [
    "scaler = MinMaxScaler() #set the scaler (between 0 and 1)\n",
    "# scaler = RobustScaler()\n",
    "x[:] = scaler.fit_transform(x[:])\n",
    "x = x.round(decimals=6)"
   ]
  },
  {
   "cell_type": "code",
   "execution_count": 66,
   "id": "73fa90ed-0c10-4630-9766-ee8f841e91da",
   "metadata": {},
   "outputs": [],
   "source": [
    "x_train, x_test, y_train, y_test = train_test_split(x, y, test_size = 0.3, random_state = 710674)"
   ]
  },
  {
   "cell_type": "code",
   "execution_count": 67,
   "id": "bdd7af99-bde8-42b8-95da-ba2311f7789d",
   "metadata": {},
   "outputs": [
    {
     "name": "stdout",
     "output_type": "stream",
     "text": [
      "The size of training dataset is: 1050\n",
      "The size of test dataset is: 450\n"
     ]
    }
   ],
   "source": [
    "print(\"The size of training dataset is:\", x_train.shape[0])\n",
    "print(\"The size of test dataset is:\", x_test.shape[0])"
   ]
  },
  {
   "cell_type": "code",
   "execution_count": 68,
   "id": "5e8fb331-854e-49a8-b44a-f57a6dfc699b",
   "metadata": {},
   "outputs": [],
   "source": [
    "## definition for computing class weight (to solve class imbalance issue)\n",
    "def compute_class_weights(y):\n",
    "    class_counts = np.bincount(y) ## calculating data point for each class\n",
    "    total_samples = len(y) ## total data points\n",
    "    ## computing each class weight\n",
    "    class_weights = {i: total_samples / (len(class_counts) * class_count) \n",
    "                     for i, class_count in enumerate(class_counts)}\n",
    "    \n",
    "    return class_weights"
   ]
  },
  {
   "cell_type": "code",
   "execution_count": 69,
   "id": "eb2ecbd8-9549-47b6-b8a4-c53115d0eaae",
   "metadata": {},
   "outputs": [
    {
     "name": "stdout",
     "output_type": "stream",
     "text": [
      "{0: 1.0, 1: 1.0, 2: 1.0}\n"
     ]
    }
   ],
   "source": [
    "class_weight = compute_class_weights(label)\n",
    "print(class_weight)"
   ]
  },
  {
   "cell_type": "code",
   "execution_count": null,
   "id": "c92fb8ca-ecf0-4e92-842f-5e6cdc2b0427",
   "metadata": {},
   "outputs": [],
   "source": []
  },
  {
   "cell_type": "markdown",
   "id": "a26bbdbd-bbb3-47d6-9f15-7d5e8ec4e702",
   "metadata": {},
   "source": [
    "* Model preparation"
   ]
  },
  {
   "cell_type": "code",
   "execution_count": 70,
   "id": "bd548dc3-7781-4362-a8aa-981f9ef4bc87",
   "metadata": {},
   "outputs": [],
   "source": [
    "class SimpleDNN:\n",
    "    def __init__(self, input_dim, layer_configs, output_units, output_activation='softmax'):\n",
    "        self.input_dim = input_dim ## input data dimensionality (# variables)\n",
    "        self.layer_configs = layer_configs ## hidden layer/sequential layer lists (units, activation, batch_norm, dropout_rate)\n",
    "        self.output_units = output_units ## output unit no.\n",
    "        self.output_activation = output_activation ## activation function for output layer\n",
    "        self.model = self.build_model()\n",
    "        self.callbacks = []\n",
    "\n",
    "    def build_model(self):\n",
    "        model = models.Sequential()\n",
    "        ## add first hidden layer\n",
    "        model.add(layers.Dense(units=self.layer_configs[0]['units'], activation=self.layer_configs[0]['activation'], input_shape=(self.input_dim,)))\n",
    "        \n",
    "        ## batch normalization and dropout for first layer\n",
    "        if self.layer_configs[0].get('batch_norm', False):\n",
    "            model.add(layers.BatchNormalization())\n",
    "        if self.layer_configs[0].get('dropout_rate', None) is not None:\n",
    "            model.add(layers.Dropout(rate=self.layer_configs[0]['dropout_rate']))\n",
    "        \n",
    "        ## do same for rest hidden layers (except for the last)\n",
    "        for config in self.layer_configs[1:]:\n",
    "            model.add(layers.Dense(units=config['units'], activation=config['activation']))\n",
    "            \n",
    "            if config.get('batch_norm', False):\n",
    "                model.add(layers.BatchNormalization())\n",
    "            \n",
    "            if config.get('dropout_rate', None) is not None:\n",
    "                model.add(layers.Dropout(rate=config['dropout_rate']))\n",
    "        \n",
    "        ## add output layer\n",
    "        model.add(layers.Dense(units=self.output_units, activation=self.output_activation))\n",
    "        \n",
    "        return model\n",
    "\n",
    "    def compile_model(self, optimizer, loss='categorical_crossentropy', metrics=['accuracy'], lr_scheduler=None):\n",
    "        if lr_scheduler:\n",
    "            ## AddLearningRateScheduler callback\n",
    "            self.callbacks.append(LearningRateScheduler(lr_scheduler))\n",
    "        \n",
    "        self.model.compile(optimizer, loss, metrics)\n",
    "\n",
    "    def fit_model(self, x_train, y_train, epochs, batch_size, validation_split=None, class_weight=None, validation_data=None):\n",
    "        return self.model.fit(x_train, y_train, epochs=epochs, batch_size=batch_size, validation_split=validation_split,\n",
    "                             class_weight=class_weight, validation_data = validation_data, callbacks=self.callbacks)\n",
    "\n",
    "    def evaluate_model(self, x_test, y_test):\n",
    "        return self.model.evaluate(x_test, y_test)\n",
    "\n",
    "    def predict(self, x):\n",
    "        return self.model.predict(x)\n",
    "\n",
    "    def summary(self):\n",
    "        self.model.summary()"
   ]
  },
  {
   "cell_type": "markdown",
   "id": "923016eb-caaa-42f8-ac35-bbf302c2b3cd",
   "metadata": {},
   "source": [
    "* optimization function, model compile, and model training"
   ]
  },
  {
   "cell_type": "code",
   "execution_count": 71,
   "id": "c7875b08-fb43-4341-b146-330fe73d21a7",
   "metadata": {},
   "outputs": [],
   "source": [
    "def dynamic_learning_rate(epoch, mode='cyclic', base_lr=0.001, max_lr=0.006, step_size=2000, gamma=0.99994):\n",
    "    cycle = np.floor(1 + epoch / (2 * step_size))\n",
    "    x = np.abs(epoch / step_size - 2 * cycle + 1)\n",
    "    \n",
    "    if mode == 'cyclic' or mode == 'triangular':\n",
    "        lr = base_lr + (max_lr - base_lr) * max(0, (1 - x))\n",
    "    elif mode == 'triangular2':\n",
    "        lr = base_lr + (max_lr - base_lr) * max(0, (1 - x)) / (2 ** (cycle - 1))\n",
    "    elif mode == 'exp_range':\n",
    "        lr = base_lr + (max_lr - base_lr) * max(0, (1 - x)) * (gamma ** epoch)\n",
    "    else:\n",
    "        raise ValueError(\"Invalid mode. Choose from 'cyclic', 'triangular', 'triangular2', or 'exp_range'.\")\n",
    "    \n",
    "    return lr"
   ]
  },
  {
   "cell_type": "code",
   "execution_count": 72,
   "id": "b779d948-795a-4806-bf66-6808485353b4",
   "metadata": {},
   "outputs": [],
   "source": [
    "# lr = dynamic_learning_rate(epoch=1000, mode='cyclic')\n",
    "# lr = dynamic_learning_rate(epoch=1000, mode='triangular')\n",
    "# lr = dynamic_learning_rate(epoch=1000, mode='triangular2')\n",
    "# lr = dynamic_learning_rate(epoch=1000, mode='exp_range', gamma=0.99994)"
   ]
  },
  {
   "cell_type": "code",
   "execution_count": 73,
   "id": "34443abf-061c-4382-9550-509828c69ef6",
   "metadata": {},
   "outputs": [],
   "source": [
    "## model initialization with hidden layer list below\n",
    "layer_configs = [\n",
    "    {'units': 32, 'activation': 'relu', 'batch_norm': True},\n",
    "    {'units': 64, 'activation': 'relu', 'batch_norm': True, 'dropout_rate': 0.5},\n",
    "    {'units': 64, 'activation': 'relu', 'batch_norm': True, 'dropout_rate': 0.5},\n",
    "    {'units': 32, 'activation': 'relu', 'batch_norm': True},\n",
    "    {'units': 16, 'activation': 'relu', 'batch_norm': True}\n",
    "]\n",
    "\n",
    "model_dnn = SimpleDNN(output_units=args_dnn.num_classes, input_dim=x_train.shape[1], layer_configs=layer_configs)"
   ]
  },
  {
   "cell_type": "code",
   "execution_count": 74,
   "id": "b1d2002c-7949-4127-a788-81f3e88c61e6",
   "metadata": {
    "scrolled": true
   },
   "outputs": [
    {
     "name": "stdout",
     "output_type": "stream",
     "text": [
      "Model: \"sequential_7\"\n",
      "_________________________________________________________________\n",
      " Layer (type)                Output Shape              Param #   \n",
      "=================================================================\n",
      " dense_42 (Dense)            (None, 32)                1120      \n",
      "                                                                 \n",
      " batch_normalization_35 (Bat  (None, 32)               128       \n",
      " chNormalization)                                                \n",
      "                                                                 \n",
      " dense_43 (Dense)            (None, 64)                2112      \n",
      "                                                                 \n",
      " batch_normalization_36 (Bat  (None, 64)               256       \n",
      " chNormalization)                                                \n",
      "                                                                 \n",
      " dropout_14 (Dropout)        (None, 64)                0         \n",
      "                                                                 \n",
      " dense_44 (Dense)            (None, 64)                4160      \n",
      "                                                                 \n",
      " batch_normalization_37 (Bat  (None, 64)               256       \n",
      " chNormalization)                                                \n",
      "                                                                 \n",
      " dropout_15 (Dropout)        (None, 64)                0         \n",
      "                                                                 \n",
      " dense_45 (Dense)            (None, 32)                2080      \n",
      "                                                                 \n",
      " batch_normalization_38 (Bat  (None, 32)               128       \n",
      " chNormalization)                                                \n",
      "                                                                 \n",
      " dense_46 (Dense)            (None, 16)                528       \n",
      "                                                                 \n",
      " batch_normalization_39 (Bat  (None, 16)               64        \n",
      " chNormalization)                                                \n",
      "                                                                 \n",
      " dense_47 (Dense)            (None, 3)                 51        \n",
      "                                                                 \n",
      "=================================================================\n",
      "Total params: 10,883\n",
      "Trainable params: 10,467\n",
      "Non-trainable params: 416\n",
      "_________________________________________________________________\n"
     ]
    }
   ],
   "source": [
    "## compile our model\n",
    "opt = keras.optimizers.SGD(learning_rate = 0.001, decay = 1e-5, momentum = 0.9)\n",
    "scheduler = lambda epoch: dynamic_learning_rate(epoch, mode='triangular2', base_lr=0.001, max_lr=0.02, step_size=50)\n",
    "model_dnn.compile_model(optimizer = opt, lr_scheduler=scheduler)\n",
    "\n",
    "## model summary\n",
    "model_dnn.summary()"
   ]
  },
  {
   "cell_type": "code",
   "execution_count": 75,
   "id": "7dcf405c-4626-4269-9d8e-6fcf18716e87",
   "metadata": {
    "scrolled": true
   },
   "outputs": [
    {
     "name": "stdout",
     "output_type": "stream",
     "text": [
      "Epoch 1/200\n",
      "14/14 [==============================] - 2s 35ms/step - loss: 1.5410 - accuracy: 0.3655 - val_loss: 1.1043 - val_accuracy: 0.2810 - lr: 0.0010\n",
      "Epoch 2/200\n",
      "14/14 [==============================] - 0s 18ms/step - loss: 1.4933 - accuracy: 0.3583 - val_loss: 1.1142 - val_accuracy: 0.3238 - lr: 0.0014\n",
      "Epoch 3/200\n",
      "14/14 [==============================] - 0s 14ms/step - loss: 1.3764 - accuracy: 0.3583 - val_loss: 1.1181 - val_accuracy: 0.3333 - lr: 0.0018\n",
      "Epoch 4/200\n",
      "14/14 [==============================] - 0s 13ms/step - loss: 1.3197 - accuracy: 0.3988 - val_loss: 1.1226 - val_accuracy: 0.3286 - lr: 0.0021\n",
      "Epoch 5/200\n",
      "14/14 [==============================] - 0s 13ms/step - loss: 1.2245 - accuracy: 0.3833 - val_loss: 1.1223 - val_accuracy: 0.3286 - lr: 0.0025\n",
      "Epoch 6/200\n",
      "14/14 [==============================] - 0s 14ms/step - loss: 1.1688 - accuracy: 0.4202 - val_loss: 1.1291 - val_accuracy: 0.3286 - lr: 0.0029\n",
      "Epoch 7/200\n",
      "14/14 [==============================] - 0s 12ms/step - loss: 1.1327 - accuracy: 0.3940 - val_loss: 1.1328 - val_accuracy: 0.3286 - lr: 0.0033\n",
      "Epoch 8/200\n",
      "14/14 [==============================] - 0s 13ms/step - loss: 1.1068 - accuracy: 0.3964 - val_loss: 1.1390 - val_accuracy: 0.3286 - lr: 0.0037\n",
      "Epoch 9/200\n",
      "14/14 [==============================] - 0s 12ms/step - loss: 1.0808 - accuracy: 0.4607 - val_loss: 1.1411 - val_accuracy: 0.3286 - lr: 0.0040\n",
      "Epoch 10/200\n",
      "14/14 [==============================] - 0s 12ms/step - loss: 1.1046 - accuracy: 0.4298 - val_loss: 1.1466 - val_accuracy: 0.3286 - lr: 0.0044\n",
      "Epoch 11/200\n",
      "14/14 [==============================] - 0s 12ms/step - loss: 1.0812 - accuracy: 0.4131 - val_loss: 1.1485 - val_accuracy: 0.3286 - lr: 0.0048\n",
      "Epoch 12/200\n",
      "14/14 [==============================] - 0s 13ms/step - loss: 1.0774 - accuracy: 0.4429 - val_loss: 1.1419 - val_accuracy: 0.3286 - lr: 0.0052\n",
      "Epoch 13/200\n",
      "14/14 [==============================] - 0s 13ms/step - loss: 1.0702 - accuracy: 0.4310 - val_loss: 1.1375 - val_accuracy: 0.3286 - lr: 0.0056\n",
      "Epoch 14/200\n",
      "14/14 [==============================] - 0s 13ms/step - loss: 1.0434 - accuracy: 0.4643 - val_loss: 1.1125 - val_accuracy: 0.3286 - lr: 0.0059\n",
      "Epoch 15/200\n",
      "14/14 [==============================] - 0s 16ms/step - loss: 1.0725 - accuracy: 0.4560 - val_loss: 1.1333 - val_accuracy: 0.3333 - lr: 0.0063\n",
      "Epoch 16/200\n",
      "14/14 [==============================] - 0s 16ms/step - loss: 1.0398 - accuracy: 0.4476 - val_loss: 1.1292 - val_accuracy: 0.3381 - lr: 0.0067\n",
      "Epoch 17/200\n",
      "14/14 [==============================] - 0s 14ms/step - loss: 1.0320 - accuracy: 0.4750 - val_loss: 1.1214 - val_accuracy: 0.3476 - lr: 0.0071\n",
      "Epoch 18/200\n",
      "14/14 [==============================] - 0s 14ms/step - loss: 1.0271 - accuracy: 0.4821 - val_loss: 1.0840 - val_accuracy: 0.3619 - lr: 0.0075\n",
      "Epoch 19/200\n",
      "14/14 [==============================] - 0s 13ms/step - loss: 1.0203 - accuracy: 0.4988 - val_loss: 1.0618 - val_accuracy: 0.4143 - lr: 0.0078\n",
      "Epoch 20/200\n",
      "14/14 [==============================] - 0s 15ms/step - loss: 1.0116 - accuracy: 0.5024 - val_loss: 1.0350 - val_accuracy: 0.4905 - lr: 0.0082\n",
      "Epoch 21/200\n",
      "14/14 [==============================] - 0s 12ms/step - loss: 1.0086 - accuracy: 0.4774 - val_loss: 1.0393 - val_accuracy: 0.4619 - lr: 0.0086\n",
      "Epoch 22/200\n",
      "14/14 [==============================] - 0s 13ms/step - loss: 0.9984 - accuracy: 0.5036 - val_loss: 1.0638 - val_accuracy: 0.4286 - lr: 0.0090\n",
      "Epoch 23/200\n",
      "14/14 [==============================] - 0s 11ms/step - loss: 0.9924 - accuracy: 0.4964 - val_loss: 1.0837 - val_accuracy: 0.4143 - lr: 0.0094\n",
      "Epoch 24/200\n",
      "14/14 [==============================] - 0s 12ms/step - loss: 1.0232 - accuracy: 0.4964 - val_loss: 1.0733 - val_accuracy: 0.4143 - lr: 0.0097\n",
      "Epoch 25/200\n",
      "14/14 [==============================] - 0s 12ms/step - loss: 0.9861 - accuracy: 0.5095 - val_loss: 1.0941 - val_accuracy: 0.4095 - lr: 0.0101\n",
      "Epoch 26/200\n",
      "14/14 [==============================] - 0s 14ms/step - loss: 0.9657 - accuracy: 0.5381 - val_loss: 1.0798 - val_accuracy: 0.4143 - lr: 0.0105\n",
      "Epoch 27/200\n",
      "14/14 [==============================] - 0s 11ms/step - loss: 0.9532 - accuracy: 0.5262 - val_loss: 1.0973 - val_accuracy: 0.3810 - lr: 0.0109\n",
      "Epoch 28/200\n",
      "14/14 [==============================] - 0s 12ms/step - loss: 0.9536 - accuracy: 0.5405 - val_loss: 0.9978 - val_accuracy: 0.4667 - lr: 0.0113\n",
      "Epoch 29/200\n",
      "14/14 [==============================] - 0s 13ms/step - loss: 0.9680 - accuracy: 0.5262 - val_loss: 0.9977 - val_accuracy: 0.4952 - lr: 0.0116\n",
      "Epoch 30/200\n",
      "14/14 [==============================] - 0s 15ms/step - loss: 0.9413 - accuracy: 0.5298 - val_loss: 0.9857 - val_accuracy: 0.5143 - lr: 0.0120\n",
      "Epoch 31/200\n",
      "14/14 [==============================] - 0s 16ms/step - loss: 0.9289 - accuracy: 0.5583 - val_loss: 0.9772 - val_accuracy: 0.5095 - lr: 0.0124\n",
      "Epoch 32/200\n",
      "14/14 [==============================] - 0s 12ms/step - loss: 0.9276 - accuracy: 0.5500 - val_loss: 0.9711 - val_accuracy: 0.5381 - lr: 0.0128\n",
      "Epoch 33/200\n",
      "14/14 [==============================] - 0s 12ms/step - loss: 0.9325 - accuracy: 0.5500 - val_loss: 0.9602 - val_accuracy: 0.5143 - lr: 0.0132\n",
      "Epoch 34/200\n",
      "14/14 [==============================] - 0s 12ms/step - loss: 0.9300 - accuracy: 0.5560 - val_loss: 1.0281 - val_accuracy: 0.4762 - lr: 0.0135\n",
      "Epoch 35/200\n",
      "14/14 [==============================] - 0s 14ms/step - loss: 0.9178 - accuracy: 0.5821 - val_loss: 0.9144 - val_accuracy: 0.5571 - lr: 0.0139\n",
      "Epoch 36/200\n",
      "14/14 [==============================] - 0s 13ms/step - loss: 0.9282 - accuracy: 0.5500 - val_loss: 0.9110 - val_accuracy: 0.6000 - lr: 0.0143\n",
      "Epoch 37/200\n",
      "14/14 [==============================] - 0s 13ms/step - loss: 0.9193 - accuracy: 0.5667 - val_loss: 0.8481 - val_accuracy: 0.6238 - lr: 0.0147\n",
      "Epoch 38/200\n",
      "14/14 [==============================] - 0s 11ms/step - loss: 0.9056 - accuracy: 0.5393 - val_loss: 0.9207 - val_accuracy: 0.5476 - lr: 0.0151\n",
      "Epoch 39/200\n",
      "14/14 [==============================] - 0s 11ms/step - loss: 0.9034 - accuracy: 0.5786 - val_loss: 0.9789 - val_accuracy: 0.4952 - lr: 0.0154\n",
      "Epoch 40/200\n",
      "14/14 [==============================] - 0s 12ms/step - loss: 0.9038 - accuracy: 0.5702 - val_loss: 0.8593 - val_accuracy: 0.5905 - lr: 0.0158\n",
      "Epoch 41/200\n",
      "14/14 [==============================] - 0s 12ms/step - loss: 0.9154 - accuracy: 0.5714 - val_loss: 0.9276 - val_accuracy: 0.5143 - lr: 0.0162\n",
      "Epoch 42/200\n",
      "14/14 [==============================] - 0s 12ms/step - loss: 0.9314 - accuracy: 0.5417 - val_loss: 0.9669 - val_accuracy: 0.5571 - lr: 0.0166\n",
      "Epoch 43/200\n",
      "14/14 [==============================] - 0s 12ms/step - loss: 0.9038 - accuracy: 0.5679 - val_loss: 0.9697 - val_accuracy: 0.5333 - lr: 0.0170\n",
      "Epoch 44/200\n",
      "14/14 [==============================] - 0s 12ms/step - loss: 0.9750 - accuracy: 0.5274 - val_loss: 1.0948 - val_accuracy: 0.4143 - lr: 0.0173\n",
      "Epoch 45/200\n",
      "14/14 [==============================] - 0s 14ms/step - loss: 0.9310 - accuracy: 0.5524 - val_loss: 1.1704 - val_accuracy: 0.3905 - lr: 0.0177\n",
      "Epoch 46/200\n",
      "14/14 [==============================] - 0s 15ms/step - loss: 0.9040 - accuracy: 0.5881 - val_loss: 1.1351 - val_accuracy: 0.4190 - lr: 0.0181\n",
      "Epoch 47/200\n",
      "14/14 [==============================] - 0s 12ms/step - loss: 0.8944 - accuracy: 0.5810 - val_loss: 1.0297 - val_accuracy: 0.4952 - lr: 0.0185\n",
      "Epoch 48/200\n",
      "14/14 [==============================] - 0s 12ms/step - loss: 0.9257 - accuracy: 0.5560 - val_loss: 1.0208 - val_accuracy: 0.4619 - lr: 0.0189\n",
      "Epoch 49/200\n",
      "14/14 [==============================] - 0s 11ms/step - loss: 0.9230 - accuracy: 0.5786 - val_loss: 0.9317 - val_accuracy: 0.5619 - lr: 0.0192\n",
      "Epoch 50/200\n",
      "14/14 [==============================] - 0s 12ms/step - loss: 0.8825 - accuracy: 0.5964 - val_loss: 0.9019 - val_accuracy: 0.5714 - lr: 0.0196\n",
      "Epoch 51/200\n",
      "14/14 [==============================] - 0s 12ms/step - loss: 0.8598 - accuracy: 0.5964 - val_loss: 0.9109 - val_accuracy: 0.5381 - lr: 0.0200\n",
      "Epoch 52/200\n",
      "14/14 [==============================] - 0s 14ms/step - loss: 0.8642 - accuracy: 0.5940 - val_loss: 0.8506 - val_accuracy: 0.6095 - lr: 0.0196\n",
      "Epoch 53/200\n",
      "14/14 [==============================] - 0s 14ms/step - loss: 0.8743 - accuracy: 0.5869 - val_loss: 0.8090 - val_accuracy: 0.6571 - lr: 0.0192\n",
      "Epoch 54/200\n",
      "14/14 [==============================] - 0s 12ms/step - loss: 0.8472 - accuracy: 0.6024 - val_loss: 0.8168 - val_accuracy: 0.6000 - lr: 0.0189\n",
      "Epoch 55/200\n",
      "14/14 [==============================] - 0s 12ms/step - loss: 0.8679 - accuracy: 0.5917 - val_loss: 0.7891 - val_accuracy: 0.6333 - lr: 0.0185\n",
      "Epoch 56/200\n",
      "14/14 [==============================] - 0s 12ms/step - loss: 0.8410 - accuracy: 0.6060 - val_loss: 0.8492 - val_accuracy: 0.5952 - lr: 0.0181\n",
      "Epoch 57/200\n",
      "14/14 [==============================] - 0s 12ms/step - loss: 0.8476 - accuracy: 0.6036 - val_loss: 0.7815 - val_accuracy: 0.7143 - lr: 0.0177\n",
      "Epoch 58/200\n",
      "14/14 [==============================] - 0s 13ms/step - loss: 0.8314 - accuracy: 0.6238 - val_loss: 0.7966 - val_accuracy: 0.6333 - lr: 0.0173\n",
      "Epoch 59/200\n",
      "14/14 [==============================] - 0s 12ms/step - loss: 0.8979 - accuracy: 0.5702 - val_loss: 0.9569 - val_accuracy: 0.5286 - lr: 0.0170\n",
      "Epoch 60/200\n",
      "14/14 [==============================] - 0s 12ms/step - loss: 0.8685 - accuracy: 0.6048 - val_loss: 1.1119 - val_accuracy: 0.4333 - lr: 0.0166\n",
      "Epoch 61/200\n",
      "14/14 [==============================] - 0s 11ms/step - loss: 0.8714 - accuracy: 0.6048 - val_loss: 1.0240 - val_accuracy: 0.5095 - lr: 0.0162\n",
      "Epoch 62/200\n",
      "14/14 [==============================] - 0s 16ms/step - loss: 0.8385 - accuracy: 0.6119 - val_loss: 0.9322 - val_accuracy: 0.5571 - lr: 0.0158\n",
      "Epoch 63/200\n",
      "14/14 [==============================] - 0s 12ms/step - loss: 0.7956 - accuracy: 0.6536 - val_loss: 0.7797 - val_accuracy: 0.6333 - lr: 0.0154\n",
      "Epoch 64/200\n",
      "14/14 [==============================] - 0s 12ms/step - loss: 0.8180 - accuracy: 0.6071 - val_loss: 0.7568 - val_accuracy: 0.6476 - lr: 0.0151\n",
      "Epoch 65/200\n",
      "14/14 [==============================] - 0s 13ms/step - loss: 0.8265 - accuracy: 0.6214 - val_loss: 0.8211 - val_accuracy: 0.6429 - lr: 0.0147\n",
      "Epoch 66/200\n",
      "14/14 [==============================] - 0s 13ms/step - loss: 0.8019 - accuracy: 0.6405 - val_loss: 0.8748 - val_accuracy: 0.6429 - lr: 0.0143\n",
      "Epoch 67/200\n",
      "14/14 [==============================] - 0s 12ms/step - loss: 0.8295 - accuracy: 0.6274 - val_loss: 0.8463 - val_accuracy: 0.6524 - lr: 0.0139\n",
      "Epoch 68/200\n",
      "14/14 [==============================] - 0s 12ms/step - loss: 0.8140 - accuracy: 0.6357 - val_loss: 0.7743 - val_accuracy: 0.6381 - lr: 0.0135\n",
      "Epoch 69/200\n",
      "14/14 [==============================] - 0s 12ms/step - loss: 0.7921 - accuracy: 0.6429 - val_loss: 0.7613 - val_accuracy: 0.6571 - lr: 0.0132\n",
      "Epoch 70/200\n",
      "14/14 [==============================] - 0s 12ms/step - loss: 0.7898 - accuracy: 0.6440 - val_loss: 0.7668 - val_accuracy: 0.6476 - lr: 0.0128\n",
      "Epoch 71/200\n",
      "14/14 [==============================] - 0s 12ms/step - loss: 0.7815 - accuracy: 0.6512 - val_loss: 0.7524 - val_accuracy: 0.6619 - lr: 0.0124\n",
      "Epoch 72/200\n",
      "14/14 [==============================] - 0s 12ms/step - loss: 0.8161 - accuracy: 0.6619 - val_loss: 0.9075 - val_accuracy: 0.6095 - lr: 0.0120\n",
      "Epoch 73/200\n",
      "14/14 [==============================] - 0s 12ms/step - loss: 0.8059 - accuracy: 0.6452 - val_loss: 0.7846 - val_accuracy: 0.6333 - lr: 0.0116\n",
      "Epoch 74/200\n",
      "14/14 [==============================] - 0s 15ms/step - loss: 0.7838 - accuracy: 0.6536 - val_loss: 0.7672 - val_accuracy: 0.6667 - lr: 0.0113\n",
      "Epoch 75/200\n",
      "14/14 [==============================] - 0s 12ms/step - loss: 0.7830 - accuracy: 0.6476 - val_loss: 0.8321 - val_accuracy: 0.6000 - lr: 0.0109\n",
      "Epoch 76/200\n",
      "14/14 [==============================] - 0s 12ms/step - loss: 0.7733 - accuracy: 0.6464 - val_loss: 0.9763 - val_accuracy: 0.5190 - lr: 0.0105\n",
      "Epoch 77/200\n",
      "14/14 [==============================] - 0s 13ms/step - loss: 0.8150 - accuracy: 0.6107 - val_loss: 1.1521 - val_accuracy: 0.4857 - lr: 0.0101\n",
      "Epoch 78/200\n",
      "14/14 [==============================] - 0s 13ms/step - loss: 0.8686 - accuracy: 0.5786 - val_loss: 0.9072 - val_accuracy: 0.6000 - lr: 0.0097\n",
      "Epoch 79/200\n",
      "14/14 [==============================] - 0s 14ms/step - loss: 0.8309 - accuracy: 0.6179 - val_loss: 0.9105 - val_accuracy: 0.5429 - lr: 0.0094\n",
      "Epoch 80/200\n",
      "14/14 [==============================] - 0s 13ms/step - loss: 0.7867 - accuracy: 0.6548 - val_loss: 0.8639 - val_accuracy: 0.5667 - lr: 0.0090\n",
      "Epoch 81/200\n",
      "14/14 [==============================] - 0s 12ms/step - loss: 0.8112 - accuracy: 0.6310 - val_loss: 0.8115 - val_accuracy: 0.5857 - lr: 0.0086\n",
      "Epoch 82/200\n",
      "14/14 [==============================] - 0s 14ms/step - loss: 0.7631 - accuracy: 0.6595 - val_loss: 0.8008 - val_accuracy: 0.6381 - lr: 0.0082\n",
      "Epoch 83/200\n",
      "14/14 [==============================] - 0s 12ms/step - loss: 0.7717 - accuracy: 0.6464 - val_loss: 0.7780 - val_accuracy: 0.6619 - lr: 0.0078\n",
      "Epoch 84/200\n",
      "14/14 [==============================] - 0s 13ms/step - loss: 0.7855 - accuracy: 0.6333 - val_loss: 0.8143 - val_accuracy: 0.6190 - lr: 0.0075\n",
      "Epoch 85/200\n",
      "14/14 [==============================] - 0s 12ms/step - loss: 0.7654 - accuracy: 0.6536 - val_loss: 0.7651 - val_accuracy: 0.6762 - lr: 0.0071\n",
      "Epoch 86/200\n",
      "14/14 [==============================] - 0s 12ms/step - loss: 0.7664 - accuracy: 0.6631 - val_loss: 0.7598 - val_accuracy: 0.6667 - lr: 0.0067\n",
      "Epoch 87/200\n",
      "14/14 [==============================] - 0s 14ms/step - loss: 0.7802 - accuracy: 0.6464 - val_loss: 0.7800 - val_accuracy: 0.6476 - lr: 0.0063\n",
      "Epoch 88/200\n",
      "14/14 [==============================] - 0s 12ms/step - loss: 0.7469 - accuracy: 0.6702 - val_loss: 0.8036 - val_accuracy: 0.6238 - lr: 0.0059\n",
      "Epoch 89/200\n",
      "14/14 [==============================] - 0s 12ms/step - loss: 0.7874 - accuracy: 0.6452 - val_loss: 0.7932 - val_accuracy: 0.6381 - lr: 0.0056\n",
      "Epoch 90/200\n",
      "14/14 [==============================] - 0s 12ms/step - loss: 0.7706 - accuracy: 0.6536 - val_loss: 0.8135 - val_accuracy: 0.6286 - lr: 0.0052\n",
      "Epoch 91/200\n",
      "14/14 [==============================] - 0s 12ms/step - loss: 0.7378 - accuracy: 0.6643 - val_loss: 0.7730 - val_accuracy: 0.6667 - lr: 0.0048\n",
      "Epoch 92/200\n",
      "14/14 [==============================] - 0s 12ms/step - loss: 0.7451 - accuracy: 0.6655 - val_loss: 0.7699 - val_accuracy: 0.6524 - lr: 0.0044\n",
      "Epoch 93/200\n",
      "14/14 [==============================] - 0s 15ms/step - loss: 0.7600 - accuracy: 0.6464 - val_loss: 0.7757 - val_accuracy: 0.6667 - lr: 0.0040\n",
      "Epoch 94/200\n",
      "14/14 [==============================] - 0s 13ms/step - loss: 0.7681 - accuracy: 0.6643 - val_loss: 0.7625 - val_accuracy: 0.6619 - lr: 0.0037\n",
      "Epoch 95/200\n",
      "14/14 [==============================] - 0s 12ms/step - loss: 0.7439 - accuracy: 0.6774 - val_loss: 0.7280 - val_accuracy: 0.6762 - lr: 0.0033\n",
      "Epoch 96/200\n",
      "14/14 [==============================] - 0s 12ms/step - loss: 0.7534 - accuracy: 0.6679 - val_loss: 0.7307 - val_accuracy: 0.6810 - lr: 0.0029\n",
      "Epoch 97/200\n",
      "14/14 [==============================] - 0s 13ms/step - loss: 0.7256 - accuracy: 0.6762 - val_loss: 0.7182 - val_accuracy: 0.7048 - lr: 0.0025\n",
      "Epoch 98/200\n",
      "14/14 [==============================] - 0s 13ms/step - loss: 0.7265 - accuracy: 0.6679 - val_loss: 0.7092 - val_accuracy: 0.6810 - lr: 0.0021\n",
      "Epoch 99/200\n",
      "14/14 [==============================] - 0s 12ms/step - loss: 0.7284 - accuracy: 0.6750 - val_loss: 0.7037 - val_accuracy: 0.7095 - lr: 0.0018\n",
      "Epoch 100/200\n",
      "14/14 [==============================] - 0s 13ms/step - loss: 0.7473 - accuracy: 0.6571 - val_loss: 0.7027 - val_accuracy: 0.7095 - lr: 0.0014\n",
      "Epoch 101/200\n",
      "14/14 [==============================] - 0s 13ms/step - loss: 0.7337 - accuracy: 0.6798 - val_loss: 0.7034 - val_accuracy: 0.7286 - lr: 0.0010\n",
      "Epoch 102/200\n",
      "14/14 [==============================] - 0s 14ms/step - loss: 0.7185 - accuracy: 0.6655 - val_loss: 0.7044 - val_accuracy: 0.7333 - lr: 0.0012\n",
      "Epoch 103/200\n",
      "14/14 [==============================] - 0s 13ms/step - loss: 0.7158 - accuracy: 0.6964 - val_loss: 0.7056 - val_accuracy: 0.7143 - lr: 0.0014\n",
      "Epoch 104/200\n",
      "14/14 [==============================] - 0s 14ms/step - loss: 0.7383 - accuracy: 0.6607 - val_loss: 0.7073 - val_accuracy: 0.7095 - lr: 0.0016\n",
      "Epoch 105/200\n",
      "14/14 [==============================] - 0s 14ms/step - loss: 0.7331 - accuracy: 0.6774 - val_loss: 0.7004 - val_accuracy: 0.7190 - lr: 0.0018\n",
      "Epoch 106/200\n",
      "14/14 [==============================] - 0s 13ms/step - loss: 0.7233 - accuracy: 0.6750 - val_loss: 0.7016 - val_accuracy: 0.7238 - lr: 0.0019\n",
      "Epoch 107/200\n",
      "14/14 [==============================] - 0s 14ms/step - loss: 0.7166 - accuracy: 0.6821 - val_loss: 0.7243 - val_accuracy: 0.6762 - lr: 0.0021\n",
      "Epoch 108/200\n",
      "14/14 [==============================] - 0s 13ms/step - loss: 0.7145 - accuracy: 0.6821 - val_loss: 0.7103 - val_accuracy: 0.7000 - lr: 0.0023\n",
      "Epoch 109/200\n",
      "14/14 [==============================] - 0s 17ms/step - loss: 0.7344 - accuracy: 0.6833 - val_loss: 0.7163 - val_accuracy: 0.6952 - lr: 0.0025\n",
      "Epoch 110/200\n",
      "14/14 [==============================] - 0s 13ms/step - loss: 0.7157 - accuracy: 0.6607 - val_loss: 0.7138 - val_accuracy: 0.7143 - lr: 0.0027\n",
      "Epoch 111/200\n",
      "14/14 [==============================] - 0s 13ms/step - loss: 0.7208 - accuracy: 0.6631 - val_loss: 0.7311 - val_accuracy: 0.6952 - lr: 0.0029\n",
      "Epoch 112/200\n",
      "14/14 [==============================] - 0s 13ms/step - loss: 0.7409 - accuracy: 0.6595 - val_loss: 0.7474 - val_accuracy: 0.6714 - lr: 0.0031\n",
      "Epoch 113/200\n",
      "14/14 [==============================] - 0s 12ms/step - loss: 0.7248 - accuracy: 0.6702 - val_loss: 0.7610 - val_accuracy: 0.6571 - lr: 0.0033\n",
      "Epoch 114/200\n",
      "14/14 [==============================] - 0s 12ms/step - loss: 0.7260 - accuracy: 0.6810 - val_loss: 0.7214 - val_accuracy: 0.7000 - lr: 0.0035\n",
      "Epoch 115/200\n",
      "14/14 [==============================] - 0s 12ms/step - loss: 0.7486 - accuracy: 0.6476 - val_loss: 1.1176 - val_accuracy: 0.5190 - lr: 0.0037\n",
      "Epoch 116/200\n",
      "14/14 [==============================] - 0s 12ms/step - loss: 0.7384 - accuracy: 0.6738 - val_loss: 1.0705 - val_accuracy: 0.5238 - lr: 0.0038\n",
      "Epoch 117/200\n",
      "14/14 [==============================] - 0s 14ms/step - loss: 0.7571 - accuracy: 0.6512 - val_loss: 0.9485 - val_accuracy: 0.5429 - lr: 0.0040\n",
      "Epoch 118/200\n",
      "14/14 [==============================] - 0s 14ms/step - loss: 0.7125 - accuracy: 0.6869 - val_loss: 0.8597 - val_accuracy: 0.6381 - lr: 0.0042\n",
      "Epoch 119/200\n",
      "14/14 [==============================] - 0s 13ms/step - loss: 0.7438 - accuracy: 0.6643 - val_loss: 0.7756 - val_accuracy: 0.7095 - lr: 0.0044\n",
      "Epoch 120/200\n",
      "14/14 [==============================] - 0s 14ms/step - loss: 0.7182 - accuracy: 0.6726 - val_loss: 0.7420 - val_accuracy: 0.6952 - lr: 0.0046\n",
      "Epoch 121/200\n",
      "14/14 [==============================] - 0s 12ms/step - loss: 0.7490 - accuracy: 0.6750 - val_loss: 0.7340 - val_accuracy: 0.6762 - lr: 0.0048\n",
      "Epoch 122/200\n",
      "14/14 [==============================] - 0s 14ms/step - loss: 0.7169 - accuracy: 0.6726 - val_loss: 0.7395 - val_accuracy: 0.6667 - lr: 0.0050\n",
      "Epoch 123/200\n",
      "14/14 [==============================] - 0s 13ms/step - loss: 0.7465 - accuracy: 0.6405 - val_loss: 0.7470 - val_accuracy: 0.6619 - lr: 0.0052\n",
      "Epoch 124/200\n",
      "14/14 [==============================] - 0s 18ms/step - loss: 0.7278 - accuracy: 0.6821 - val_loss: 0.7150 - val_accuracy: 0.7000 - lr: 0.0054\n",
      "Epoch 125/200\n",
      "14/14 [==============================] - 0s 15ms/step - loss: 0.7720 - accuracy: 0.6393 - val_loss: 0.7087 - val_accuracy: 0.6857 - lr: 0.0056\n",
      "Epoch 126/200\n",
      "14/14 [==============================] - 0s 13ms/step - loss: 0.7281 - accuracy: 0.6738 - val_loss: 0.7036 - val_accuracy: 0.7143 - lr: 0.0058\n",
      "Epoch 127/200\n",
      "14/14 [==============================] - 0s 15ms/step - loss: 0.7576 - accuracy: 0.6750 - val_loss: 0.7547 - val_accuracy: 0.7048 - lr: 0.0059\n",
      "Epoch 128/200\n",
      "14/14 [==============================] - 0s 12ms/step - loss: 0.7185 - accuracy: 0.6690 - val_loss: 0.6955 - val_accuracy: 0.7333 - lr: 0.0061\n",
      "Epoch 129/200\n",
      "14/14 [==============================] - 0s 11ms/step - loss: 0.7240 - accuracy: 0.6857 - val_loss: 0.7020 - val_accuracy: 0.7333 - lr: 0.0063\n",
      "Epoch 130/200\n",
      "14/14 [==============================] - 0s 11ms/step - loss: 0.7298 - accuracy: 0.6679 - val_loss: 0.7200 - val_accuracy: 0.6762 - lr: 0.0065\n",
      "Epoch 131/200\n",
      "14/14 [==============================] - 0s 12ms/step - loss: 0.7130 - accuracy: 0.6821 - val_loss: 0.7029 - val_accuracy: 0.7143 - lr: 0.0067\n",
      "Epoch 132/200\n",
      "14/14 [==============================] - 0s 11ms/step - loss: 0.7304 - accuracy: 0.6631 - val_loss: 0.7255 - val_accuracy: 0.7143 - lr: 0.0069\n",
      "Epoch 133/200\n",
      "14/14 [==============================] - 0s 11ms/step - loss: 0.7176 - accuracy: 0.6714 - val_loss: 0.7344 - val_accuracy: 0.6952 - lr: 0.0071\n",
      "Epoch 134/200\n",
      "14/14 [==============================] - 0s 10ms/step - loss: 0.7435 - accuracy: 0.6679 - val_loss: 0.6982 - val_accuracy: 0.7333 - lr: 0.0073\n",
      "Epoch 135/200\n",
      "14/14 [==============================] - 0s 10ms/step - loss: 0.6792 - accuracy: 0.7226 - val_loss: 0.6939 - val_accuracy: 0.7238 - lr: 0.0075\n",
      "Epoch 136/200\n",
      "14/14 [==============================] - 0s 10ms/step - loss: 0.7225 - accuracy: 0.6786 - val_loss: 0.6832 - val_accuracy: 0.7000 - lr: 0.0077\n",
      "Epoch 137/200\n",
      "14/14 [==============================] - 0s 11ms/step - loss: 0.7021 - accuracy: 0.6940 - val_loss: 0.6766 - val_accuracy: 0.7190 - lr: 0.0078\n",
      "Epoch 138/200\n",
      "14/14 [==============================] - 0s 11ms/step - loss: 0.6976 - accuracy: 0.6905 - val_loss: 0.6915 - val_accuracy: 0.6762 - lr: 0.0080\n",
      "Epoch 139/200\n",
      "14/14 [==============================] - 0s 11ms/step - loss: 0.7224 - accuracy: 0.6738 - val_loss: 0.7803 - val_accuracy: 0.6619 - lr: 0.0082\n",
      "Epoch 140/200\n",
      "14/14 [==============================] - 0s 15ms/step - loss: 0.7348 - accuracy: 0.6679 - val_loss: 0.7571 - val_accuracy: 0.6667 - lr: 0.0084\n",
      "Epoch 141/200\n",
      "14/14 [==============================] - 0s 11ms/step - loss: 0.7199 - accuracy: 0.6964 - val_loss: 0.7301 - val_accuracy: 0.6952 - lr: 0.0086\n",
      "Epoch 142/200\n",
      "14/14 [==============================] - 0s 10ms/step - loss: 0.7464 - accuracy: 0.6679 - val_loss: 0.7264 - val_accuracy: 0.6857 - lr: 0.0088\n",
      "Epoch 143/200\n",
      "14/14 [==============================] - 0s 10ms/step - loss: 0.7155 - accuracy: 0.6821 - val_loss: 0.7315 - val_accuracy: 0.7095 - lr: 0.0090\n",
      "Epoch 144/200\n",
      "14/14 [==============================] - 0s 11ms/step - loss: 0.7186 - accuracy: 0.6881 - val_loss: 0.8172 - val_accuracy: 0.6476 - lr: 0.0092\n",
      "Epoch 145/200\n",
      "14/14 [==============================] - 0s 10ms/step - loss: 0.7251 - accuracy: 0.6607 - val_loss: 0.8097 - val_accuracy: 0.6524 - lr: 0.0094\n",
      "Epoch 146/200\n",
      "14/14 [==============================] - 0s 11ms/step - loss: 0.7598 - accuracy: 0.6595 - val_loss: 1.0040 - val_accuracy: 0.5905 - lr: 0.0095\n",
      "Epoch 147/200\n",
      "14/14 [==============================] - 0s 10ms/step - loss: 0.7470 - accuracy: 0.6845 - val_loss: 0.7641 - val_accuracy: 0.6952 - lr: 0.0097\n",
      "Epoch 148/200\n",
      "14/14 [==============================] - 0s 12ms/step - loss: 0.7177 - accuracy: 0.6762 - val_loss: 0.7474 - val_accuracy: 0.6810 - lr: 0.0099\n",
      "Epoch 149/200\n",
      "14/14 [==============================] - 0s 11ms/step - loss: 0.7106 - accuracy: 0.6940 - val_loss: 0.7517 - val_accuracy: 0.6714 - lr: 0.0101\n",
      "Epoch 150/200\n",
      "14/14 [==============================] - 0s 12ms/step - loss: 0.7514 - accuracy: 0.6762 - val_loss: 0.6951 - val_accuracy: 0.7190 - lr: 0.0103\n",
      "Epoch 151/200\n",
      "14/14 [==============================] - 0s 12ms/step - loss: 0.7321 - accuracy: 0.6738 - val_loss: 0.7694 - val_accuracy: 0.6667 - lr: 0.0105\n",
      "Epoch 152/200\n",
      "14/14 [==============================] - 0s 12ms/step - loss: 0.7556 - accuracy: 0.6690 - val_loss: 0.7860 - val_accuracy: 0.6571 - lr: 0.0103\n",
      "Epoch 153/200\n",
      "14/14 [==============================] - 0s 11ms/step - loss: 0.7232 - accuracy: 0.6857 - val_loss: 0.7499 - val_accuracy: 0.6524 - lr: 0.0101\n",
      "Epoch 154/200\n",
      "14/14 [==============================] - 0s 12ms/step - loss: 0.7039 - accuracy: 0.6952 - val_loss: 0.7229 - val_accuracy: 0.7095 - lr: 0.0099\n",
      "Epoch 155/200\n",
      "14/14 [==============================] - 0s 15ms/step - loss: 0.7232 - accuracy: 0.6869 - val_loss: 0.7002 - val_accuracy: 0.6952 - lr: 0.0097\n",
      "Epoch 156/200\n",
      "14/14 [==============================] - 0s 11ms/step - loss: 0.7102 - accuracy: 0.6786 - val_loss: 0.7324 - val_accuracy: 0.6952 - lr: 0.0095\n",
      "Epoch 157/200\n",
      "14/14 [==============================] - 0s 11ms/step - loss: 0.7492 - accuracy: 0.6810 - val_loss: 0.7877 - val_accuracy: 0.6667 - lr: 0.0094\n",
      "Epoch 158/200\n",
      "14/14 [==============================] - 0s 12ms/step - loss: 0.7200 - accuracy: 0.6893 - val_loss: 0.7222 - val_accuracy: 0.6619 - lr: 0.0092\n",
      "Epoch 159/200\n",
      "14/14 [==============================] - 0s 12ms/step - loss: 0.7240 - accuracy: 0.6738 - val_loss: 0.7321 - val_accuracy: 0.7190 - lr: 0.0090\n",
      "Epoch 160/200\n",
      "14/14 [==============================] - 0s 11ms/step - loss: 0.7014 - accuracy: 0.6988 - val_loss: 0.7655 - val_accuracy: 0.7095 - lr: 0.0088\n",
      "Epoch 161/200\n",
      "14/14 [==============================] - 0s 13ms/step - loss: 0.7275 - accuracy: 0.6595 - val_loss: 0.7306 - val_accuracy: 0.6952 - lr: 0.0086\n",
      "Epoch 162/200\n",
      "14/14 [==============================] - 0s 13ms/step - loss: 0.6840 - accuracy: 0.7095 - val_loss: 0.7376 - val_accuracy: 0.6952 - lr: 0.0084\n",
      "Epoch 163/200\n",
      "14/14 [==============================] - 0s 12ms/step - loss: 0.6680 - accuracy: 0.6976 - val_loss: 0.7631 - val_accuracy: 0.6476 - lr: 0.0082\n",
      "Epoch 164/200\n",
      "14/14 [==============================] - 0s 13ms/step - loss: 0.6814 - accuracy: 0.7345 - val_loss: 0.8350 - val_accuracy: 0.6190 - lr: 0.0080\n",
      "Epoch 165/200\n",
      "14/14 [==============================] - 0s 13ms/step - loss: 0.6955 - accuracy: 0.6857 - val_loss: 0.7997 - val_accuracy: 0.6190 - lr: 0.0078\n",
      "Epoch 166/200\n",
      "14/14 [==============================] - 0s 11ms/step - loss: 0.6847 - accuracy: 0.7071 - val_loss: 0.8664 - val_accuracy: 0.6048 - lr: 0.0077\n",
      "Epoch 167/200\n",
      "14/14 [==============================] - 0s 11ms/step - loss: 0.6698 - accuracy: 0.7250 - val_loss: 0.8430 - val_accuracy: 0.6190 - lr: 0.0075\n",
      "Epoch 168/200\n",
      "14/14 [==============================] - 0s 12ms/step - loss: 0.6718 - accuracy: 0.7071 - val_loss: 0.8217 - val_accuracy: 0.6429 - lr: 0.0073\n",
      "Epoch 169/200\n",
      "14/14 [==============================] - 0s 12ms/step - loss: 0.6927 - accuracy: 0.7071 - val_loss: 0.7572 - val_accuracy: 0.6810 - lr: 0.0071\n",
      "Epoch 170/200\n",
      "14/14 [==============================] - 0s 12ms/step - loss: 0.8709 - accuracy: 0.6250 - val_loss: 0.9593 - val_accuracy: 0.6190 - lr: 0.0069\n",
      "Epoch 171/200\n",
      "14/14 [==============================] - 0s 14ms/step - loss: 0.8559 - accuracy: 0.6321 - val_loss: 0.8324 - val_accuracy: 0.6524 - lr: 0.0067\n",
      "Epoch 172/200\n",
      "14/14 [==============================] - 0s 13ms/step - loss: 0.7756 - accuracy: 0.6488 - val_loss: 0.7522 - val_accuracy: 0.6857 - lr: 0.0065\n",
      "Epoch 173/200\n",
      "14/14 [==============================] - 0s 13ms/step - loss: 0.7220 - accuracy: 0.6833 - val_loss: 0.7337 - val_accuracy: 0.6905 - lr: 0.0063\n",
      "Epoch 174/200\n",
      "14/14 [==============================] - 0s 13ms/step - loss: 0.7287 - accuracy: 0.6643 - val_loss: 0.7291 - val_accuracy: 0.7000 - lr: 0.0061\n",
      "Epoch 175/200\n",
      "14/14 [==============================] - 0s 13ms/step - loss: 0.7165 - accuracy: 0.7095 - val_loss: 0.7087 - val_accuracy: 0.7143 - lr: 0.0059\n",
      "Epoch 176/200\n",
      "14/14 [==============================] - 0s 12ms/step - loss: 0.6921 - accuracy: 0.7083 - val_loss: 0.6977 - val_accuracy: 0.7238 - lr: 0.0058\n",
      "Epoch 177/200\n",
      "14/14 [==============================] - 0s 12ms/step - loss: 0.7064 - accuracy: 0.6905 - val_loss: 0.7295 - val_accuracy: 0.6905 - lr: 0.0056\n",
      "Epoch 178/200\n",
      "14/14 [==============================] - 0s 12ms/step - loss: 0.6966 - accuracy: 0.6940 - val_loss: 0.7454 - val_accuracy: 0.6857 - lr: 0.0054\n",
      "Epoch 179/200\n",
      "14/14 [==============================] - 0s 12ms/step - loss: 0.6908 - accuracy: 0.7202 - val_loss: 0.7163 - val_accuracy: 0.6857 - lr: 0.0052\n",
      "Epoch 180/200\n",
      "14/14 [==============================] - 0s 12ms/step - loss: 0.7259 - accuracy: 0.6714 - val_loss: 0.7273 - val_accuracy: 0.6857 - lr: 0.0050\n",
      "Epoch 181/200\n",
      "14/14 [==============================] - 0s 12ms/step - loss: 0.6797 - accuracy: 0.6964 - val_loss: 0.6906 - val_accuracy: 0.6952 - lr: 0.0048\n",
      "Epoch 182/200\n",
      "14/14 [==============================] - 0s 13ms/step - loss: 0.7168 - accuracy: 0.6869 - val_loss: 0.7155 - val_accuracy: 0.7095 - lr: 0.0046\n",
      "Epoch 183/200\n",
      "14/14 [==============================] - 0s 13ms/step - loss: 0.6933 - accuracy: 0.7262 - val_loss: 0.6816 - val_accuracy: 0.7143 - lr: 0.0044\n",
      "Epoch 184/200\n",
      "14/14 [==============================] - 0s 14ms/step - loss: 0.6857 - accuracy: 0.7274 - val_loss: 0.6660 - val_accuracy: 0.7190 - lr: 0.0042\n",
      "Epoch 185/200\n",
      "14/14 [==============================] - 0s 13ms/step - loss: 0.6970 - accuracy: 0.6893 - val_loss: 0.6841 - val_accuracy: 0.7238 - lr: 0.0040\n",
      "Epoch 186/200\n",
      "14/14 [==============================] - 0s 14ms/step - loss: 0.6759 - accuracy: 0.7071 - val_loss: 0.7116 - val_accuracy: 0.6762 - lr: 0.0038\n",
      "Epoch 187/200\n",
      "14/14 [==============================] - 0s 13ms/step - loss: 0.6671 - accuracy: 0.7131 - val_loss: 0.6583 - val_accuracy: 0.7190 - lr: 0.0037\n",
      "Epoch 188/200\n",
      "14/14 [==============================] - 0s 12ms/step - loss: 0.6966 - accuracy: 0.7012 - val_loss: 0.6531 - val_accuracy: 0.7095 - lr: 0.0035\n",
      "Epoch 189/200\n",
      "14/14 [==============================] - 0s 13ms/step - loss: 0.6631 - accuracy: 0.7119 - val_loss: 0.6468 - val_accuracy: 0.7190 - lr: 0.0033\n",
      "Epoch 190/200\n",
      "14/14 [==============================] - 0s 12ms/step - loss: 0.6738 - accuracy: 0.7024 - val_loss: 0.6499 - val_accuracy: 0.7238 - lr: 0.0031\n",
      "Epoch 191/200\n",
      "14/14 [==============================] - 0s 12ms/step - loss: 0.6521 - accuracy: 0.7202 - val_loss: 0.6708 - val_accuracy: 0.6857 - lr: 0.0029\n",
      "Epoch 192/200\n",
      "14/14 [==============================] - 0s 12ms/step - loss: 0.6591 - accuracy: 0.7167 - val_loss: 0.6846 - val_accuracy: 0.7143 - lr: 0.0027\n",
      "Epoch 193/200\n",
      "14/14 [==============================] - 0s 12ms/step - loss: 0.7107 - accuracy: 0.7024 - val_loss: 0.6525 - val_accuracy: 0.7286 - lr: 0.0025\n",
      "Epoch 194/200\n",
      "14/14 [==============================] - 0s 13ms/step - loss: 0.6680 - accuracy: 0.7095 - val_loss: 0.6366 - val_accuracy: 0.7476 - lr: 0.0023\n",
      "Epoch 195/200\n",
      "14/14 [==============================] - 0s 13ms/step - loss: 0.6487 - accuracy: 0.7202 - val_loss: 0.6311 - val_accuracy: 0.7429 - lr: 0.0021\n",
      "Epoch 196/200\n",
      "14/14 [==============================] - 0s 14ms/step - loss: 0.6576 - accuracy: 0.7179 - val_loss: 0.6298 - val_accuracy: 0.7333 - lr: 0.0019\n",
      "Epoch 197/200\n",
      "14/14 [==============================] - 0s 13ms/step - loss: 0.6496 - accuracy: 0.7107 - val_loss: 0.6400 - val_accuracy: 0.7381 - lr: 0.0018\n",
      "Epoch 198/200\n",
      "14/14 [==============================] - 0s 12ms/step - loss: 0.6678 - accuracy: 0.7179 - val_loss: 0.6561 - val_accuracy: 0.7333 - lr: 0.0016\n",
      "Epoch 199/200\n",
      "14/14 [==============================] - 0s 13ms/step - loss: 0.6819 - accuracy: 0.7048 - val_loss: 0.6408 - val_accuracy: 0.7476 - lr: 0.0014\n",
      "Epoch 200/200\n",
      "14/14 [==============================] - 0s 12ms/step - loss: 0.6485 - accuracy: 0.7238 - val_loss: 0.6287 - val_accuracy: 0.7571 - lr: 0.0012\n"
     ]
    }
   ],
   "source": [
    "### model training on training dataset\n",
    "# history = model_dnn.fit_model(x_train, y_train, epochs=args_dnn.epochs, batch_size=args_dnn.bs, validation_split=0.2)\n",
    "# history = model_dnn.fit_model(x_train, y_train, epochs=args_dnn.epochs, batch_size=args_dnn.bs, validation_data=(x_vali, y_vali))\n",
    "history = model_dnn.fit_model(x_train, y_train, epochs=args_dnn.epochs, batch_size=args_dnn.bs, class_weight = class_weight, validation_split=0.2)"
   ]
  },
  {
   "cell_type": "code",
   "execution_count": null,
   "id": "74ad68e3-1c08-4688-9cfd-61f3a6ba4a53",
   "metadata": {},
   "outputs": [],
   "source": []
  },
  {
   "cell_type": "markdown",
   "id": "edb0a546-e3ae-4721-adf9-99eb06c3b015",
   "metadata": {},
   "source": [
    "* Evaluation"
   ]
  },
  {
   "cell_type": "code",
   "execution_count": 76,
   "id": "2552ea98-8356-4010-b80b-aeb15a7ba97c",
   "metadata": {},
   "outputs": [],
   "source": [
    "def evaluate_model_performance(model, x_test, y_test):\n",
    "\n",
    "    ## predict on model\n",
    "    y_predict = model.predict(x_test)\n",
    "    y_predict_classes = np.argmax(y_predict, axis=1)\n",
    "    y_test_classes = np.argmax(y_test, axis=1)\n",
    "    \n",
    "    ## calculate confusion matrix and visualize\n",
    "    cm = confusion_matrix(y_test_classes, y_predict_classes, normalize='pred')\n",
    "    plt.figure(figsize=(6, 4))\n",
    "    sns.heatmap(cm, annot=True, cmap=plt.cm.Blues, fmt='.2f')\n",
    "    plt.tight_layout()\n",
    "    plt.ylabel('True label')\n",
    "    plt.xlabel('Predicted label')\n",
    "    plt.title('Confusion Matrix')\n",
    "    plt.show()\n",
    "    \n",
    "    ## evaluation metrics\n",
    "    accuracy = accuracy_score(y_test_classes, y_predict_classes)\n",
    "    precision = precision_score(y_test_classes, y_predict_classes, average='macro')\n",
    "    recall = recall_score(y_test_classes, y_predict_classes, average='micro')\n",
    "    f1 = f1_score(y_test_classes, y_predict_classes, average='weighted')\n",
    "    auc = roc_auc_score(y_test, y_predict, multi_class='ovr')\n",
    "    \n",
    "    ## Results\n",
    "    print(\"=============================================\")\n",
    "    print(f\"The overall accuracy is: {accuracy:.4f}\")\n",
    "    print(f\"The precision score is: {precision:.4f}\")\n",
    "    print(f\"The recall score is: {recall:.4f}\")\n",
    "    print(f\"The F1 score is: {f1:.4f}\")\n",
    "    print(f\"The AUC score is: {auc:.4f}\")\n",
    "    print(\"=============================================\")\n",
    "    \n",
    "    ## Print out the classification report\n",
    "    print(\"\\nClassification Report:\")\n",
    "    print(classification_report(y_test_classes, y_predict_classes))"
   ]
  },
  {
   "cell_type": "code",
   "execution_count": 77,
   "id": "fb869cd3-bc68-469b-bc30-5bab4c427ce1",
   "metadata": {},
   "outputs": [
    {
     "name": "stdout",
     "output_type": "stream",
     "text": [
      "15/15 [==============================] - 0s 2ms/step\n"
     ]
    },
    {
     "data": {
      "image/png": "[encoded data removed]",
      "text/plain": [
       "<Figure size 600x400 with 2 Axes>"
      ]
     },
     "metadata": {},
     "output_type": "display_data"
    },
    {
     "name": "stdout",
     "output_type": "stream",
     "text": [
      "=============================================\n",
      "The overall accuracy is: 0.6844\n",
      "The precision score is: 0.7014\n",
      "The recall score is: 0.6844\n",
      "The F1 score is: 0.6687\n",
      "The AUC score is: 0.8686\n",
      "=============================================\n",
      "\n",
      "Classification Report:\n",
      "              precision    recall  f1-score   support\n",
      "\n",
      "           0       0.58      0.82      0.68       132\n",
      "           1       0.77      0.40      0.52       154\n",
      "           2       0.75      0.85      0.80       164\n",
      "\n",
      "    accuracy                           0.68       450\n",
      "   macro avg       0.70      0.69      0.67       450\n",
      "weighted avg       0.71      0.68      0.67       450\n",
      "\n"
     ]
    }
   ],
   "source": [
    "evaluate_model_performance(model_dnn, x_test, y_test)"
   ]
  },
  {
   "cell_type": "code",
   "execution_count": null,
   "id": "0a857b7f-4b02-489d-837a-7fcac9b7d3c1",
   "metadata": {},
   "outputs": [],
   "source": []
  },
  {
   "cell_type": "markdown",
   "id": "44e8258e-f152-4f39-aafc-991f3aa69edc",
   "metadata": {},
   "source": [
    "***"
   ]
  },
  {
   "cell_type": "markdown",
   "id": "7b2f43d7-4a04-4a54-9a2e-a462b6eaf107",
   "metadata": {},
   "source": [
    "## k-fold DNN"
   ]
  },
  {
   "cell_type": "code",
   "execution_count": 51,
   "id": "ea3f292e-fbce-486e-8e2f-9b87e479afbe",
   "metadata": {},
   "outputs": [],
   "source": [
    "class Args_kfold:\n",
    "    # arugments\n",
    "    epochs=300\n",
    "    bs=32\n",
    "    lr=0.0001\n",
    "    momentum=0.9\n",
    "    num_classes= 3\n",
    "    split=5\n",
    "    seed=710674\n",
    "\n",
    "args_kfold = Args_kfold()"
   ]
  },
  {
   "cell_type": "code",
   "execution_count": 52,
   "id": "7a9e25cb-fbad-4575-8461-d42ce17af307",
   "metadata": {},
   "outputs": [],
   "source": [
    "class kfoldMLP:\n",
    "    def __init__(self, input_dim, layer_configs, output_units, output_activation='softmax'):\n",
    "        self.input_dim = input_dim\n",
    "        self.layer_configs = layer_configs\n",
    "        self.output_units = output_units\n",
    "        self.output_activation = output_activation\n",
    "        self.callbacks = []\n",
    "        self.model = None\n",
    "        \n",
    "    def build_model(self):\n",
    "        model = models.Sequential()\n",
    "        \n",
    "        ## add first hidden layer\n",
    "        model.add(layers.Dense(units=self.layer_configs[0]['units'], \n",
    "                               activation=self.layer_configs[0]['activation'], \n",
    "                               input_shape=(self.input_dim,)))\n",
    "        \n",
    "        ## batch normalization and dropout for first layer\n",
    "        if self.layer_configs[0].get('batch_norm', False):\n",
    "            model.add(layers.BatchNormalization())\n",
    "        \n",
    "        if self.layer_configs[0].get('dropout_rate', None) is not None:\n",
    "            model.add(layers.Dropout(rate=self.layer_configs[0]['dropout_rate']))\n",
    "        \n",
    "        ## do same for rest hidden layers (except for the last)\n",
    "        for config in self.layer_configs[1:]:\n",
    "            model.add(layers.Dense(units=config['units'], activation=config['activation']))\n",
    "            \n",
    "            if config.get('batch_norm', False):\n",
    "                model.add(layers.BatchNormalization())\n",
    "            \n",
    "            if config.get('dropout_rate', None) is not None:\n",
    "                model.add(layers.Dropout(rate=config['dropout_rate']))\n",
    "        \n",
    "        ## add output layer\n",
    "        model.add(layers.Dense(units=self.output_units, activation=self.output_activation))\n",
    "        self.model = model\n",
    "\n",
    "    ## model compile\n",
    "    def compile_model(self, optimizer, loss='categorical_crossentropy', metrics=['accuracy'], lr_scheduler=None):\n",
    "        if lr_scheduler:\n",
    "            self.callbacks.append(tf.keras.callbacks.LearningRateScheduler(lr_scheduler))\n",
    "\n",
    "        self.model.compile(optimizer=optimizer, loss=loss, metrics=metrics)\n",
    "\n",
    "    def fit_model(self, x_train, y_train, epochs, batch_size, validation_data=None, class_weight=None, verbose=0):\n",
    "        return self.model.fit(\n",
    "            x_train, y_train, \n",
    "            epochs=epochs, \n",
    "            batch_size=batch_size, \n",
    "            validation_data=validation_data, \n",
    "            callbacks=self.callbacks, \n",
    "            class_weight=class_weight,\n",
    "            verbose=verbose\n",
    "        )\n",
    "\n",
    "    def evaluate_model(self, x_test, y_test):\n",
    "        return self.model.evaluate(x_test, y_test)\n",
    "\n",
    "    def predict(self, x):\n",
    "        y_pred = self.model.predict(x)\n",
    "        return np.array(y_pred)\n",
    "\n",
    "    def summary(self):\n",
    "        self.model.summary()\n",
    "\n",
    "    def cross_validate(self, x_data, y_data, n_splits, epochs, batch_size, optimizer=None, class_weight=None):\n",
    "        x_data = np.array(x_data)\n",
    "        y_data = np.array(y_data)\n",
    "        kf = KFold(n_splits=n_splits, shuffle=True) ##set fold split and shuffle\n",
    "        fold_metrics = []\n",
    "\n",
    "        for fold, (train_index, val_index) in enumerate(kf.split(x_data), 1):\n",
    "            x_train, x_val = x_data[train_index], x_data[val_index]\n",
    "            y_train, y_val = y_data[train_index], y_data[val_index]\n",
    "\n",
    "            ## build new model\n",
    "            self.build_model()\n",
    "            self.compile_model(optimizer=optimizer)\n",
    "            \n",
    "            ## model training\n",
    "            self.fit_model(x_train, y_train, epochs=epochs, batch_size=batch_size, validation_data=(x_val, y_val), class_weight=class_weight, verbose=0)\n",
    "            \n",
    "            ## evaluate the model\n",
    "            y_val_pred = self.predict(x_val)\n",
    "            if isinstance(y_val_pred, list):\n",
    "                y_val_pred = np.array(y_val_pred)\n",
    "            y_val_pred = np.argmax(y_val_pred, axis=1)\n",
    "            y_val_true = np.argmax(y_val, axis=1)\n",
    "            \n",
    "            accuracy = accuracy_score(y_val_true, y_val_pred)\n",
    "            precision = precision_score(y_val_true, y_val_pred, average='macro')\n",
    "            recall = recall_score(y_val_true, y_val_pred, average='macro')\n",
    "            f1 = f1_score(y_val_true, y_val_pred, average='weighted')\n",
    "            auc = roc_auc_score(y_val, self.predict(x_val), multi_class='ovr')\n",
    "            \n",
    "            fold_metrics.append({\n",
    "                'accuracy': accuracy,\n",
    "                'precision': precision,\n",
    "                'recall': recall,\n",
    "                'f1_score': f1,\n",
    "                'auc': auc\n",
    "            })\n",
    "\n",
    "            print(f\"Fold metrics: Accuracy={accuracy:.4f}, Precision={precision:.4f}, Recall={recall:.4f}, F1 Score={f1:.4f}, AUC={auc:.4f}\")\n",
    "        \n",
    "        avg_metrics = {key: np.mean([m[key] for m in fold_metrics]) for key in fold_metrics[0].keys()}\n",
    "        \n",
    "        print(\"\\nAverage metrics across all folds:\")\n",
    "        for metric, value in avg_metrics.items():\n",
    "            print(f\"{metric.capitalize()}: {value:.4f}\")\n",
    "\n",
    "        return fold_metrics, avg_metrics\n",
    "\n",
    "    ## evaluation on test dataset (for performance check)\n",
    "    def evaluate_test_data(self, x_test, y_test):\n",
    "        y_pred = self.predict(x_test)\n",
    "        y_pred_labels = np.argmax(y_pred, axis=1)\n",
    "        y_true_labels = np.argmax(y_test, axis=1)\n",
    "\n",
    "        # Confusion Matrix\n",
    "        cm = confusion_matrix(y_true_labels, y_pred_labels, normalize='pred')\n",
    "        plt.figure(figsize=(6, 4))\n",
    "        sns.heatmap(cm, annot=True, fmt='.2f', cmap='Blues')\n",
    "        plt.title('Confusion Matrix')\n",
    "        plt.ylabel('True Label')\n",
    "        plt.xlabel('Predicted Label')\n",
    "        plt.show()\n",
    "        print(\"=============================================\")\n",
    "\n",
    "        # Classification Report\n",
    "        class_report = classification_report(y_true_labels, y_pred_labels, target_names=[f'Class {i}' for i in range(self.output_units)])\n",
    "        print(\"Classification Report:\\n\", class_report)\n",
    "\n",
    "        return cm, class_report"
   ]
  },
  {
   "cell_type": "code",
   "execution_count": 53,
   "id": "348e0691-d62b-481a-86f0-58486dc577b7",
   "metadata": {},
   "outputs": [],
   "source": [
    "## model initialization with hidden layer list below\n",
    "# layer_configs = [\n",
    "#     {'units': 64, 'activation': 'relu', 'batch_norm': True, 'dropout_rate': 0.5},\n",
    "#     {'units': 32, 'activation': 'relu', 'batch_norm': True, 'dropout_rate': 0.3},\n",
    "#     {'units': 32, 'activation': 'relu', 'batch_norm': True},\n",
    "#     {'units': 16, 'activation': 'relu', 'batch_norm': True, 'dropout_rate': 0.3},\n",
    "#     {'units': 16, 'activation': 'relu', 'batch_norm': True}\n",
    "# ]\n",
    "\n",
    "layer_configs = [\n",
    "    {'units': 32, 'activation': 'relu', 'batch_norm': True},\n",
    "    {'units': 64, 'activation': 'relu', 'batch_norm': True, 'dropout_rate': 0.5},\n",
    "    {'units': 64, 'activation': 'relu', 'batch_norm': True, 'dropout_rate': 0.5},\n",
    "    {'units': 32, 'activation': 'relu', 'batch_norm': True},\n",
    "    {'units': 16, 'activation': 'relu', 'batch_norm': True}\n",
    "]\n",
    "\n",
    "kfold = kfoldMLP(output_units=args_kfold.num_classes, input_dim=x_train.shape[1], layer_configs=layer_configs)"
   ]
  },
  {
   "cell_type": "code",
   "execution_count": 54,
   "id": "cdcc1dce-e3a0-4b02-a443-8e1c8651136b",
   "metadata": {},
   "outputs": [],
   "source": [
    "## compile our model\n",
    "opt = keras.optimizers.SGD(learning_rate = 0.001, decay = 1e-5, momentum = 0.9)\n",
    "scheduler = lambda epoch: dynamic_learning_rate(epoch, mode='exp_range', base_lr=0.001, max_lr=0.02, step_size=50)"
   ]
  },
  {
   "cell_type": "code",
   "execution_count": 55,
   "id": "67247754-33e6-4083-b5b3-a1bd47e88686",
   "metadata": {
    "scrolled": true
   },
   "outputs": [
    {
     "name": "stdout",
     "output_type": "stream",
     "text": [
      "7/7 [==============================] - 0s 2ms/step\n",
      "7/7 [==============================] - 0s 2ms/step\n",
      "Fold metrics: Accuracy=0.7095, Precision=0.7084, Recall=0.7075, F1 Score=0.7100, AUC=0.8820\n",
      "7/7 [==============================] - 0s 2ms/step\n",
      "7/7 [==============================] - 0s 2ms/step\n",
      "Fold metrics: Accuracy=0.7810, Precision=0.7942, Recall=0.7898, F1 Score=0.7759, AUC=0.9076\n",
      "7/7 [==============================] - 0s 2ms/step\n",
      "7/7 [==============================] - 0s 2ms/step\n",
      "Fold metrics: Accuracy=0.7000, Precision=0.7001, Recall=0.7094, F1 Score=0.6995, AUC=0.8717\n",
      "7/7 [==============================] - 0s 2ms/step\n",
      "7/7 [==============================] - 0s 2ms/step\n",
      "Fold metrics: Accuracy=0.6810, Precision=0.6997, Recall=0.6730, F1 Score=0.6698, AUC=0.8391\n",
      "7/7 [==============================] - 0s 2ms/step\n",
      "7/7 [==============================] - 0s 2ms/step\n",
      "Fold metrics: Accuracy=0.7190, Precision=0.7377, Recall=0.7258, F1 Score=0.7167, AUC=0.8734\n",
      "\n",
      "Average metrics across all folds:\n",
      "Accuracy: 0.7181\n",
      "Precision: 0.7280\n",
      "Recall: 0.7211\n",
      "F1_score: 0.7144\n",
      "Auc: 0.8748\n",
      "Fold 1: {'accuracy': 0.7095238095238096, 'precision': 0.7083878339133752, 'recall': 0.7075376541947795, 'f1_score': 0.7100072658171249, 'auc': 0.8820472627781438}\n",
      "Fold 2: {'accuracy': 0.780952380952381, 'precision': 0.7942369364270893, 'recall': 0.7898134863701579, 'f1_score': 0.7759466251311286, 'auc': 0.9075524268111191}\n",
      "Fold 3: {'accuracy': 0.7, 'precision': 0.7001284246575343, 'recall': 0.7094052180259077, 'f1_score': 0.6995476416373001, 'auc': 0.8716663507193365}\n",
      "Fold 4: {'accuracy': 0.680952380952381, 'precision': 0.6996658894380001, 'recall': 0.6730276321825617, 'f1_score': 0.66984393757503, 'auc': 0.8391034331827033}\n",
      "Fold 5: {'accuracy': 0.719047619047619, 'precision': 0.7376612480557246, 'recall': 0.7257611048371918, 'f1_score': 0.7166521361176553, 'auc': 0.8734358704115173}\n"
     ]
    }
   ],
   "source": [
    "# K-Fold 교차 검증 실행\n",
    "metrics, avg_metrics = kfold.cross_validate(x_train, y_train, n_splits=args_kfold.split, optimizer=opt, epochs=args_kfold.epochs, batch_size=args_kfold.bs)\n",
    "\n",
    "# 각 폴드의 성능 지표 출력\n",
    "for i, metric in enumerate(metrics):\n",
    "    print(f\"Fold {i+1}: {metric}\")"
   ]
  },
  {
   "cell_type": "markdown",
   "id": "bdce9af1-38cc-4e58-a56c-95a44f71c54c",
   "metadata": {},
   "source": [
    "* Evaluation on test dataset"
   ]
  },
  {
   "cell_type": "code",
   "execution_count": 56,
   "id": "c3bde173-0483-46c3-9640-62c675a5c392",
   "metadata": {},
   "outputs": [
    {
     "name": "stdout",
     "output_type": "stream",
     "text": [
      "15/15 [==============================] - 0s 3ms/step\n"
     ]
    },
    {
     "data": {
      "image/png": "[encoded data removed]",
      "text/plain": [
       "<Figure size 600x400 with 2 Axes>"
      ]
     },
     "metadata": {},
     "output_type": "display_data"
    },
    {
     "name": "stdout",
     "output_type": "stream",
     "text": [
      "=============================================\n",
      "Classification Report:\n",
      "               precision    recall  f1-score   support\n",
      "\n",
      "     Class 0       0.72      0.67      0.69       132\n",
      "     Class 1       0.75      0.62      0.68       154\n",
      "     Class 2       0.71      0.87      0.78       164\n",
      "\n",
      "    accuracy                           0.72       450\n",
      "   macro avg       0.73      0.72      0.72       450\n",
      "weighted avg       0.73      0.72      0.72       450\n",
      "\n"
     ]
    }
   ],
   "source": [
    "cm, class_report = kfold.evaluate_test_data(x_test, y_test)"
   ]
  },
  {
   "cell_type": "code",
   "execution_count": null,
   "id": "2658d095-0232-4e30-a26a-ceb76f121fb6",
   "metadata": {},
   "outputs": [],
   "source": []
  },
  {
   "cell_type": "code",
   "execution_count": null,
   "id": "78b51e05-99d0-4385-903b-f914590ef4ad",
   "metadata": {},
   "outputs": [],
   "source": []
  },
  {
   "cell_type": "code",
   "execution_count": null,
   "id": "df5dd7c8-c6aa-46a8-bf8c-ccc57b19bf5d",
   "metadata": {},
   "outputs": [],
   "source": []
  },
  {
   "cell_type": "code",
   "execution_count": null,
   "id": "f49d6890-1475-41c9-9fab-8a8c2a1b8466",
   "metadata": {},
   "outputs": [],
   "source": []
  },
  {
   "cell_type": "code",
   "execution_count": null,
   "id": "dceb9217-8e71-4cf3-af55-614b8088f496",
   "metadata": {},
   "outputs": [],
   "source": []
  },
  {
   "cell_type": "markdown",
   "id": "325a3cbd-b040-4da6-87ef-045331576e00",
   "metadata": {},
   "source": [
    "***"
   ]
  },
  {
   "cell_type": "markdown",
   "id": "e1f87105-ea68-4c05-934b-2c78c4e8c6fa",
   "metadata": {
    "jp-MarkdownHeadingCollapsed": true
   },
   "source": [
    "## Multimodal DNN"
   ]
  },
  {
   "cell_type": "code",
   "execution_count": null,
   "id": "d40313b6-2681-4541-a52b-8beaa54b8532",
   "metadata": {},
   "outputs": [],
   "source": [
    "class Args_multi:\n",
    "    # arugments\n",
    "    epochs=150\n",
    "    enc_epochs = 50\n",
    "    bs=32\n",
    "    enc_bs = 16\n",
    "    lr=0.0001\n",
    "    momentum=0.9\n",
    "    num_classes= 4\n",
    "    seed=710674\n",
    "\n",
    "args_multi = Args_multi()\n",
    "\n",
    "# np.random.seed(args.seed)\n",
    "# random.seed(args.seed)\n",
    "# torch.manual_seed(args.seed)"
   ]
  },
  {
   "cell_type": "code",
   "execution_count": null,
   "id": "df992302-9cde-4bd4-8275-b4874c5d1d09",
   "metadata": {},
   "outputs": [],
   "source": [
    "# data = data_no_s8.copy()\n",
    "# data = data_fill_s8.copy()\n",
    "# data = data_nona.copy()\n",
    "# data = data_fill.copy()\n",
    "# data = data_fill_mean.copy()\n",
    "# data = data_fill_mean_age.copy()\n",
    "data = data_fill_mean_knn.copy()"
   ]
  },
  {
   "cell_type": "code",
   "execution_count": null,
   "id": "ec12b1ba-ef94-4342-b35c-934f928d5249",
   "metadata": {},
   "outputs": [],
   "source": [
    "data['target_info'].value_counts()"
   ]
  },
  {
   "cell_type": "code",
   "execution_count": null,
   "id": "65c8ef8f-4873-4707-876b-b907f5a7461f",
   "metadata": {},
   "outputs": [],
   "source": [
    "data.columns"
   ]
  },
  {
   "cell_type": "code",
   "execution_count": null,
   "id": "ac96d407-3e1a-4f62-810e-da4cfffa68c6",
   "metadata": {},
   "outputs": [],
   "source": [
    "data_x = data.drop(['subject_info', 'birth_info', 'target_info', 'sex_info', 'age_info', 'family_hx_info', 'marriage_info', 'job_info'], axis=1)\n",
    "data_y = data.loc[:,[\"target_info\"]]"
   ]
  },
  {
   "cell_type": "code",
   "execution_count": null,
   "id": "55858848-1f16-4c2d-b808-7fa6ef0f23a1",
   "metadata": {},
   "outputs": [],
   "source": [
    "# ## this is for selecting variables with JSDivergence big differences\n",
    "# data_x = data_x[big_diff_columns]\n",
    "\n",
    "# ## this is for selecting variables without JSDivergence big differences\n",
    "# # data_x = data_x.drop(big_diff_columns, axis=1)"
   ]
  },
  {
   "cell_type": "code",
   "execution_count": null,
   "id": "61d5a099-5d2b-415a-81f9-dfc116e95826",
   "metadata": {},
   "outputs": [],
   "source": []
  },
  {
   "cell_type": "code",
   "execution_count": null,
   "id": "d582bb9c-595b-4304-9041-d5fc29b12cbc",
   "metadata": {},
   "outputs": [],
   "source": [
    "data_x = data_x.fillna(data_x.mean())"
   ]
  },
  {
   "cell_type": "code",
   "execution_count": null,
   "id": "e28a10e6-f7ea-4ed7-a319-8bd6944cf72d",
   "metadata": {},
   "outputs": [],
   "source": [
    "########## FULL GROUP CLASSIFICATION ##########\n",
    "label = data_y\n",
    "label = label.replace({'control':0})\n",
    "label = label.replace({'mdd': 1})\n",
    "label = label.replace({'bpi': 2})\n",
    "label = label.replace({'bpii': 3})\n",
    "\n",
    "y = to_categorical(label, 4) ## into the format of one-hot encoding"
   ]
  },
  {
   "cell_type": "code",
   "execution_count": null,
   "id": "b76bc0e9-098e-4f6c-ac7e-4aa1ec6fd97b",
   "metadata": {},
   "outputs": [],
   "source": [
    "############## FOR FOUR-GROUP CLASSIFICATION ###############\n",
    "# class_weight = {0:1, 1:1.29, 2:3.04, 3: 1.13}\n",
    "class_weight = {0:1, 1:1.81, 2:4.63, 3: 1.44}\n",
    "# class_weight = {0:1.15, 1:2.09, 2:2.84, 3: 1}"
   ]
  },
  {
   "cell_type": "code",
   "execution_count": null,
   "id": "5b852943-8d85-497c-a4f9-16e981123a85",
   "metadata": {},
   "outputs": [],
   "source": []
  },
  {
   "cell_type": "code",
   "execution_count": null,
   "id": "2ccff575-f260-4ca5-927b-fee3535c943f",
   "metadata": {},
   "outputs": [],
   "source": []
  },
  {
   "cell_type": "markdown",
   "id": "cbdc453c-d5e6-4b62-9e06-e97e7d7495f4",
   "metadata": {},
   "source": [
    "### using subnetworks"
   ]
  },
  {
   "cell_type": "markdown",
   "id": "082527ea-92ed-4b69-848c-3a8573f2cb6e",
   "metadata": {},
   "source": [
    "* dataframe contains section 2,4,5,6,7,8"
   ]
  },
  {
   "cell_type": "code",
   "execution_count": null,
   "id": "b5d130c6-ce48-4db7-9519-1b5f0ea597c9",
   "metadata": {},
   "outputs": [],
   "source": [
    "data_s2 = data_x.iloc[:, (data_x.columns.str.contains(('s2')))]\n",
    "data_s4 = data_x.iloc[:, (data_x.columns.str.contains(('s4')))]\n",
    "data_s5 = data_x.iloc[:, (data_x.columns.str.contains(('s5')))]\n",
    "data_s6 = data_x.iloc[:, (data_x.columns.str.contains(('s6')))]\n",
    "data_s7 = data_x.iloc[:, (data_x.columns.str.contains(('s7')))]\n",
    "data_s8 = data_x.iloc[:, (data_x.columns.str.contains(('s8')))]"
   ]
  },
  {
   "cell_type": "code",
   "execution_count": null,
   "id": "3d9688e9-bc36-4175-bcb6-509a934ca666",
   "metadata": {},
   "outputs": [],
   "source": [
    "# data_s5.columns"
   ]
  },
  {
   "cell_type": "code",
   "execution_count": null,
   "id": "0e33ac39-e32c-45d8-92d1-8a8ca9e8b6db",
   "metadata": {},
   "outputs": [],
   "source": [
    "# 입력 정의\n",
    "input2 = Input(shape=(data_s2.shape[1],))\n",
    "input4 = Input(shape=(data_s4.shape[1],))\n",
    "input5 = Input(shape=(data_s5.shape[1],))\n",
    "input6 = Input(shape=(data_s6.shape[1],))\n",
    "input7 = Input(shape=(data_s7.shape[1],))\n",
    "input8 = Input(shape=(data_s8.shape[1],))"
   ]
  },
  {
   "cell_type": "markdown",
   "id": "62ed232e-eb84-4c40-b6d9-d6cff2e4301b",
   "metadata": {},
   "source": [
    "---"
   ]
  },
  {
   "cell_type": "markdown",
   "id": "a3688360-8b03-417a-86e6-6f49cc2fd385",
   "metadata": {},
   "source": [
    "* Creating commonly using sub-network"
   ]
  },
  {
   "cell_type": "code",
   "execution_count": null,
   "id": "ac1f085f-445d-4a0e-9413-466190fffc8d",
   "metadata": {},
   "outputs": [],
   "source": [
    "# 서브 네트워크 정의 함수\n",
    "def create_subnetwork(input_layer):\n",
    "    x = Dense(32, activation='relu')(input_layer)\n",
    "    # x = Dense(16, activation='relu')(x)\n",
    "    x = BatchNormalization()(x)\n",
    "    # x = Dropout(0.3)(x)\n",
    "    x = Dense(8, activation='relu')(x)\n",
    "    return x"
   ]
  },
  {
   "cell_type": "code",
   "execution_count": null,
   "id": "cc70df95-e8fd-4739-83d1-01e25e5c9db9",
   "metadata": {},
   "outputs": [],
   "source": [
    "# 서브 네트워크 생성\n",
    "subnet2 = create_subnetwork(input2)\n",
    "subnet4 = create_subnetwork(input4)\n",
    "subnet5 = create_subnetwork(input5)\n",
    "subnet6 = create_subnetwork(input6)\n",
    "subnet7 = create_subnetwork(input7)\n",
    "subnet8 = create_subnetwork(input8)"
   ]
  },
  {
   "cell_type": "code",
   "execution_count": null,
   "id": "613148f3-96dd-41ee-b0a2-2572b16d3a93",
   "metadata": {},
   "outputs": [],
   "source": []
  },
  {
   "cell_type": "markdown",
   "id": "a7a54d0b-d0ff-4aec-91d2-c86380d96584",
   "metadata": {},
   "source": [
    "======================================================================================================="
   ]
  },
  {
   "cell_type": "code",
   "execution_count": null,
   "id": "47dc4179-40e8-475a-b2c8-d0458a8e7d12",
   "metadata": {},
   "outputs": [],
   "source": [
    "input8"
   ]
  },
  {
   "cell_type": "code",
   "execution_count": null,
   "id": "23a83543-aaa8-4197-9439-c2669606bde3",
   "metadata": {},
   "outputs": [],
   "source": [
    "# 서브 네트워크 정의 함수\n",
    "def create_subnetwork2(input_layer):\n",
    "    x = Dense(32, activation='relu')(input_layer)\n",
    "    x = Dense(8, activation='relu')(x)\n",
    "    return x\n",
    "\n",
    "def create_subnetwork4(input_layer):\n",
    "    x = Dense(16, activation='relu')(input_layer)\n",
    "    x = Dense(8, activation='relu')(x)\n",
    "    return x\n",
    "\n",
    "def create_subnetwork5(input_layer):\n",
    "    x = Dense(32, activation='relu')(input_layer)\n",
    "    # x = Dense(32, activation='relu')(x)\n",
    "    x = Dense(8, activation='relu')(x)\n",
    "    return x\n",
    "\n",
    "def create_subnetwork6(input_layer):\n",
    "    x = Dense(32, activation='relu')(input_layer)\n",
    "    # x = Dense(64, activation='relu')(x)\n",
    "    # x = Dense(32, activation='relu')(x)\n",
    "    x = Dense(8, activation='relu')(x)\n",
    "    return x\n",
    "\n",
    "def create_subnetwork7(input_layer):\n",
    "    x = Dense(32, activation='relu')(input_layer)\n",
    "    # x = Dense(32, activation='relu')(x)\n",
    "    x = Dense(8, activation='relu')(x)\n",
    "    return x\n",
    "\n",
    "def create_subnetwork8(input_layer):\n",
    "    x = Dense(16, activation='relu')(input_layer)\n",
    "    x = Dense(8, activation='relu')(x)\n",
    "    return x"
   ]
  },
  {
   "cell_type": "code",
   "execution_count": null,
   "id": "3db7a7e6-e69b-40b5-9f48-51105397ff99",
   "metadata": {},
   "outputs": [],
   "source": [
    "# 서브 네트워크 생성\n",
    "subnet2 = create_subnetwork2(input2)\n",
    "subnet4 = create_subnetwork4(input4)\n",
    "subnet5 = create_subnetwork5(input5)\n",
    "subnet6 = create_subnetwork6(input6)\n",
    "subnet7 = create_subnetwork7(input7)\n",
    "subnet8 = create_subnetwork8(input8)"
   ]
  },
  {
   "cell_type": "markdown",
   "id": "b663ee6f-d063-4b88-9990-0a237cf09378",
   "metadata": {},
   "source": [
    "***"
   ]
  },
  {
   "cell_type": "code",
   "execution_count": null,
   "id": "5101c787-c6ff-4db9-84bb-cb34b6f5f6d2",
   "metadata": {},
   "outputs": [],
   "source": [
    "# 서브 네트워크 출력 결합\n",
    "# combined = Concatenate()([subnet2, subnet4, subnet5, subnet6, subnet7])\n",
    "combined = Concatenate()([subnet2, subnet4, subnet5, subnet6, subnet7, subnet8])"
   ]
  },
  {
   "cell_type": "code",
   "execution_count": null,
   "id": "40af645d-a208-4204-9b28-352bb5adc838",
   "metadata": {},
   "outputs": [],
   "source": [
    "combined"
   ]
  },
  {
   "cell_type": "code",
   "execution_count": null,
   "id": "d750fd0a-95fe-4334-b3d3-92d2f11c0dd3",
   "metadata": {},
   "outputs": [],
   "source": [
    "## adding dense(fc) layers after encoder combining\n",
    "concat_x = Dense(32, activation='relu')(combined)\n",
    "concat_x = BatchNormalization()(concat_x)\n",
    "concat_x = Dropout(0.5)(concat_x)\n",
    "# concat_x = Dense(16, activation='relu')(concat_x)\n",
    "# concat_x = BatchNormalization()(concat_x)\n",
    "# concat_x = Dropout(0.5)(concat_x)\n",
    "# concat_x = Dense(16, activation='relu')(concat_x)\n",
    "concat_x = Dense(8, activation='relu')(concat_x)\n",
    "\n",
    "# 최종 출력 레이어 정의 (4-class 분류)\n",
    "final_output = Dense(args_multi.num_classes, activation='softmax')(concat_x)"
   ]
  },
  {
   "cell_type": "code",
   "execution_count": null,
   "id": "6752f997-3468-45d0-9b6f-ce81b4ff8606",
   "metadata": {},
   "outputs": [],
   "source": [
    "# # 최종 출력 레이어 정의\n",
    "# final_output = Dense(args_multi.num_classes, activation='softmax')(combined) "
   ]
  },
  {
   "cell_type": "code",
   "execution_count": null,
   "id": "9507a559-4386-445a-bce8-9a0d2b34a28a",
   "metadata": {},
   "outputs": [],
   "source": []
  },
  {
   "cell_type": "code",
   "execution_count": null,
   "id": "7fc09ed2-f199-4135-a98c-ec7676fcbb2e",
   "metadata": {},
   "outputs": [],
   "source": [
    "# x2_train, x2_test, x4_train, x4_test, x5_train, x5_test, x6_train, x6_test, x7_train, x7_test, y_train, y_test = train_test_split(\n",
    "#     data_s2, data_s4, data_s5, data_s6, data_s7, y, test_size=0.2, random_state=710674)\n",
    "\n",
    "x2_train, x2_test, x4_train, x4_test, x5_train, x5_test, x6_train, x6_test, x7_train, x7_test, x8_train, x8_test, y_train, y_test = train_test_split(\n",
    "    data_s2, data_s4, data_s5, data_s6, data_s7, data_s8, y, test_size=0.2, random_state=710674)"
   ]
  },
  {
   "cell_type": "code",
   "execution_count": null,
   "id": "5866f9ae-7700-4db6-a17e-7ca6772e09b6",
   "metadata": {},
   "outputs": [],
   "source": []
  },
  {
   "cell_type": "code",
   "execution_count": null,
   "id": "5d7ac691-06be-4706-84c8-fbfc9b5789ab",
   "metadata": {},
   "outputs": [],
   "source": [
    "# LearningRateScheduler 설정\n",
    "lr_scheduler = LearningRateScheduler(lambda epoch: cyclic_learning_rate(epoch, base_lr=0.01, max_lr=0.006, step_size=300))\n",
    "# lr_scheduler = LearningRateScheduler(lambda epoch: exp_range_lr(epoch, base_lr=0.01, max_lr=0.006, step_size=300, gamma=0.99994))"
   ]
  },
  {
   "cell_type": "code",
   "execution_count": null,
   "id": "4041ea4a-d041-4973-ab78-f6445a26aae6",
   "metadata": {},
   "outputs": [],
   "source": [
    "opt = keras.optimizers.SGD(learning_rate = args_multi.lr, decay = 1e-6, momentum = args_multi.momentum)"
   ]
  },
  {
   "cell_type": "code",
   "execution_count": null,
   "id": "e701e78a-3a47-4ac0-bb9c-4e000cf9c049",
   "metadata": {},
   "outputs": [],
   "source": [
    "# 모델 생성 및 컴파일\n",
    "# model = Model(inputs=[input2, input4, input5, input6, input7], outputs=final_output)\n",
    "model = Model(inputs=[input2, input4, input5, input6, input7, input8], outputs=final_output)\n",
    "\n",
    "model.compile(optimizer=opt, loss='categorical_crossentropy', metrics=['accuracy'])"
   ]
  },
  {
   "cell_type": "code",
   "execution_count": null,
   "id": "247934e5-0d52-4796-a6c7-fb72d0aad648",
   "metadata": {
    "scrolled": true
   },
   "outputs": [],
   "source": [
    "model.summary()"
   ]
  },
  {
   "cell_type": "code",
   "execution_count": null,
   "id": "62896c9b-34ea-4fd8-8b48-f66b7462f56a",
   "metadata": {
    "scrolled": true
   },
   "outputs": [],
   "source": [
    "# model.fit([data_s2, data_s4, data_s5, data_s6, data_s7, data_s8], y, \n",
    "#           epochs=args_multi.epochs, batch_size=args_multi.bs, verbose=2)\n",
    "\n",
    "# model.fit([x2_train, x4_train, x5_train, x6_train, x7_train, x8_train], y_train, \n",
    "#           epochs=args_multi.epochs, batch_size=args_multi.bs, verbose=2)\n",
    "\n",
    "\n",
    "#########################################\n",
    "\n",
    "# model.fit([x2_train, x4_train, x5_train, x6_train, x7_train], y_train, \n",
    "#           epochs=args_multi.epochs, batch_size=args_multi.bs, callbacks=[lr_scheduler], verbose=2)\n",
    "model.fit([x2_train, x4_train, x5_train, x6_train, x7_train, x8_train], y_train, \n",
    "          epochs=args_multi.epochs, batch_size=args_multi.bs, callbacks=[lr_scheduler], verbose=2)"
   ]
  },
  {
   "cell_type": "code",
   "execution_count": null,
   "id": "b7b86b3f-7399-43db-9e3d-dd4ac464f838",
   "metadata": {},
   "outputs": [],
   "source": [
    "# y_predict = model.predict([x2_test, x4_test, x5_test, x6_test, x7_test])\n",
    "y_predict = model.predict([x2_test, x4_test, x5_test, x6_test, x7_test, x8_test])\n",
    "\n",
    "y_predict = np.argmax(y_predict, axis = 1)\n",
    "y_test = np.argmax(y_test, axis = 1)\n",
    "\n",
    "result = confusion_matrix(y_test, y_predict, normalize = 'pred')\n",
    "print(result)"
   ]
  },
  {
   "cell_type": "code",
   "execution_count": null,
   "id": "01b2dcb7-b82b-4052-9ea1-fbfbf841b37f",
   "metadata": {},
   "outputs": [],
   "source": [
    "figure = plt.figure(figsize=(6, 4))\n",
    "sns.heatmap(result, annot=True,cmap=plt.cm.Blues)\n",
    "plt.tight_layout()\n",
    "plt.ylabel('True label')\n",
    "plt.xlabel('Predicted label')\n",
    "plt.show()"
   ]
  },
  {
   "cell_type": "code",
   "execution_count": null,
   "id": "1d5d9c26-49ee-4545-9beb-368451265fb3",
   "metadata": {},
   "outputs": [],
   "source": [
    "accuracy = metrics.accuracy_score(y_test, y_predict)\n",
    "precision = metrics.precision_score(y_test, y_predict, average = 'macro')\n",
    "recall = metrics.recall_score(y_test, y_predict, average = 'micro')\n",
    "f1 = metrics.f1_score(y_test, y_predict, average = 'weighted')\n",
    "# auc = roc_auc_score(y_test,model.predict([x2_test, x4_test, x5_test, x6_test, x7_test], verbose=0), multi_class='ovr')\n",
    "auc = roc_auc_score(y_test,model.predict([x2_test, x4_test, x5_test, x6_test, x7_test, x8_test], verbose=0), multi_class='ovr')\n",
    "\n",
    "print(\"=============================================\")\n",
    "print(\"The overall accuracy is:\", round(accuracy, 4))\n",
    "print(\"The precision score is:\", round(precision, 4))\n",
    "print(\"The recall score is:\", round(recall, 4))\n",
    "print(\"The f1 score is:\", round(f1, 4))\n",
    "print(\"The AUC score is:\", round(auc, 4))\n",
    "print(\"=============================================\")"
   ]
  },
  {
   "cell_type": "code",
   "execution_count": null,
   "id": "691d3f86-f3a5-48e2-9266-07053a85ba79",
   "metadata": {},
   "outputs": [],
   "source": []
  },
  {
   "cell_type": "code",
   "execution_count": null,
   "id": "a8933bb9-c00a-4ea7-aa50-4b29f51a5b22",
   "metadata": {},
   "outputs": [],
   "source": []
  },
  {
   "cell_type": "markdown",
   "id": "0219333c-6f20-4636-82ac-e424bb23f351",
   "metadata": {},
   "source": [
    "***"
   ]
  },
  {
   "cell_type": "markdown",
   "id": "896c9a24-32ac-4dd8-8cab-5079272c6644",
   "metadata": {},
   "source": [
    "***"
   ]
  },
  {
   "cell_type": "markdown",
   "id": "2506a7ef-5e0c-406d-8620-074bbd5d5c9f",
   "metadata": {},
   "source": [
    "### using individual autoencoder"
   ]
  },
  {
   "cell_type": "code",
   "execution_count": null,
   "id": "aed201a2-d66c-4540-9d95-9a05ec5c206f",
   "metadata": {},
   "outputs": [],
   "source": [
    "x2_train, x2_test, x4_train, x4_test, x5_train, x5_test, x6_train, x6_test, x7_train, x7_test, x8_train, x8_test, y_train, y_test = train_test_split(\n",
    "    data_s2, data_s4, data_s5, data_s6, data_s7, data_s8, y, test_size=0.2, random_state=710674)"
   ]
  },
  {
   "cell_type": "code",
   "execution_count": null,
   "id": "20d27513-8d91-484e-9463-d37e11673f1e",
   "metadata": {},
   "outputs": [],
   "source": []
  },
  {
   "cell_type": "markdown",
   "id": "5bc0f234-3367-478d-933e-7bd1f9ff604b",
   "metadata": {},
   "source": [
    "***"
   ]
  },
  {
   "cell_type": "markdown",
   "id": "68b29505-08bd-4fbf-8b49-86ac20b8a5fc",
   "metadata": {},
   "source": [
    "* Using same autoencoder structure for all input datasets"
   ]
  },
  {
   "cell_type": "code",
   "execution_count": null,
   "id": "f78d6d14-bc4e-480a-9cb3-b8c44380def3",
   "metadata": {},
   "outputs": [],
   "source": [
    "## Defining autoencoder\n",
    "def create_autoencoder(input_shape):\n",
    "    # defining encoder model\n",
    "    input_layer = Input(shape=input_shape)\n",
    "    encoded = Dense(32, activation='relu')(input_layer)\n",
    "    # encoded = Dense(16, activation='relu')(encoded)\n",
    "    encoded = Dense(8, activation='relu')(encoded)\n",
    "    \n",
    "    # defining decoder model\n",
    "    # decoded = Dense(16, activation='relu')(encoded)\n",
    "    decoded = Dense(32, activation='relu')(encoded)\n",
    "    decoded = Dense(input_shape[0], activation='sigmoid')(decoded)\n",
    "    \n",
    "    # setting autoencoder model\n",
    "    autoencoder = Model(input_layer, decoded)\n",
    "    \n",
    "    # extracting encoder model separately\n",
    "    encoder = Model(input_layer, encoded)\n",
    "    \n",
    "    autoencoder.compile(optimizer='adam', loss='mse')\n",
    "    \n",
    "    return autoencoder, encoder"
   ]
  },
  {
   "cell_type": "code",
   "execution_count": null,
   "id": "cc6cfad5-5a5c-4d7e-b4ea-33d92693e303",
   "metadata": {},
   "outputs": [],
   "source": [
    "# Defining input dataset shape\n",
    "input_shape2 = (data_s2.shape[1],)\n",
    "input_shape4 = (data_s4.shape[1],)\n",
    "input_shape5 = (data_s5.shape[1],)\n",
    "input_shape6 = (data_s6.shape[1],)\n",
    "input_shape7 = (data_s7.shape[1],)\n",
    "input_shape8 = (data_s8.shape[1],)"
   ]
  },
  {
   "cell_type": "code",
   "execution_count": null,
   "id": "dafc4089-02ec-4c05-a291-6e66308b4066",
   "metadata": {},
   "outputs": [],
   "source": [
    "autoencoder2, encoder2 = create_autoencoder(input_shape2)\n",
    "autoencoder4, encoder4 = create_autoencoder(input_shape4)\n",
    "autoencoder5, encoder5 = create_autoencoder(input_shape5)\n",
    "autoencoder6, encoder6 = create_autoencoder(input_shape6)\n",
    "autoencoder7, encoder7 = create_autoencoder(input_shape7)\n",
    "autoencoder8, encoder8 = create_autoencoder(input_shape8)"
   ]
  },
  {
   "cell_type": "markdown",
   "id": "5242a260-b0fa-40ba-81ab-ff9a0ac69992",
   "metadata": {},
   "source": [
    "=========================================="
   ]
  },
  {
   "cell_type": "markdown",
   "id": "20992176-30e9-4139-b969-2328f58b4631",
   "metadata": {},
   "source": [
    "* Using individually difference structured autoencoder model"
   ]
  },
  {
   "cell_type": "code",
   "execution_count": null,
   "id": "512a5665-d5af-483c-9ef9-6a2a3cbabfaa",
   "metadata": {},
   "outputs": [],
   "source": [
    "# Defining input dataset shape\n",
    "input_shape2 = (data_s2.shape[1],)\n",
    "input_shape4 = (data_s4.shape[1],)\n",
    "input_shape5 = (data_s5.shape[1],)\n",
    "input_shape6 = (data_s6.shape[1],)\n",
    "input_shape7 = (data_s7.shape[1],)\n",
    "input_shape8 = (data_s8.shape[1],)"
   ]
  },
  {
   "cell_type": "code",
   "execution_count": null,
   "id": "52a2c839-4167-472f-a3a1-24ca1b7fbaca",
   "metadata": {},
   "outputs": [],
   "source": [
    "input_shape8"
   ]
  },
  {
   "cell_type": "code",
   "execution_count": null,
   "id": "8c788e46-62f6-4406-a21a-441305d62bcd",
   "metadata": {},
   "outputs": [],
   "source": [
    "## Defining autoencoder\n",
    "def create_autoencoder2(input_shape):\n",
    "    # defining encoder model\n",
    "    input_layer = Input(shape=input_shape)\n",
    "    encoded = Dense(64, activation='relu')(input_layer)\n",
    "    encoded = Dense(16, activation='relu')(encoded)\n",
    "    decoded = Dense(64, activation='relu')(encoded)\n",
    "    decoded = Dense(input_shape[0], activation='sigmoid')(decoded)\n",
    "    autoencoder = Model(input_layer, decoded)\n",
    "    encoder = Model(input_layer, encoded)\n",
    "    autoencoder.compile(optimizer='adam', loss='mse')\n",
    "    return autoencoder, encoder\n",
    "\n",
    "def create_autoencoder4(input_shape):\n",
    "    # defining encoder model\n",
    "    input_layer = Input(shape=input_shape)\n",
    "    encoded = Dense(16, activation='relu')(input_layer)\n",
    "    encoded = Dense(4, activation='relu')(encoded)\n",
    "    decoded = Dense(16, activation='relu')(encoded)\n",
    "    decoded = Dense(input_shape[0], activation='sigmoid')(decoded)\n",
    "    autoencoder = Model(input_layer, decoded)\n",
    "    encoder = Model(input_layer, encoded)\n",
    "    autoencoder.compile(optimizer='adam', loss='mse')\n",
    "    return autoencoder, encoder\n",
    "\n",
    "def create_autoencoder5(input_shape):\n",
    "    # defining encoder model\n",
    "    input_layer = Input(shape=input_shape)\n",
    "    encoded = Dense(64, activation='relu')(input_layer)\n",
    "    encoded = Dense(16, activation='relu')(encoded)\n",
    "    decoded = Dense(64, activation='relu')(encoded)\n",
    "    decoded = Dense(input_shape[0], activation='sigmoid')(decoded)\n",
    "    autoencoder = Model(input_layer, decoded)\n",
    "    encoder = Model(input_layer, encoded)\n",
    "    autoencoder.compile(optimizer='adam', loss='mse')\n",
    "    return autoencoder, encoder\n",
    "\n",
    "def create_autoencoder6(input_shape):\n",
    "    # defining encoder model\n",
    "    input_layer = Input(shape=input_shape)\n",
    "    encoded = Dense(64, activation='relu')(input_layer)\n",
    "    encoded = Dense(16, activation='relu')(encoded)\n",
    "    decoded = Dense(64, activation='relu')(encoded)\n",
    "    decoded = Dense(input_shape[0], activation='sigmoid')(decoded)\n",
    "    autoencoder = Model(input_layer, decoded)\n",
    "    encoder = Model(input_layer, encoded)\n",
    "    autoencoder.compile(optimizer='adam', loss='mse')\n",
    "    return autoencoder, encoder\n",
    "\n",
    "def create_autoencoder7(input_shape):\n",
    "    # defining encoder model\n",
    "    input_layer = Input(shape=input_shape)\n",
    "    encoded = Dense(64, activation='relu')(input_layer)\n",
    "    encoded = Dense(16, activation='relu')(encoded)\n",
    "    decoded = Dense(64, activation='relu')(encoded)\n",
    "    decoded = Dense(input_shape[0], activation='sigmoid')(decoded)\n",
    "    autoencoder = Model(input_layer, decoded)\n",
    "    encoder = Model(input_layer, encoded)\n",
    "    autoencoder.compile(optimizer='adam', loss='mse')\n",
    "    return autoencoder, encoder\n",
    "\n",
    "def create_autoencoder8(input_shape):\n",
    "    # defining encoder model\n",
    "    input_layer = Input(shape=input_shape)\n",
    "    encoded = Dense(16, activation='relu')(input_layer)\n",
    "    encoded = Dense(4, activation='relu')(encoded)\n",
    "    decoded = Dense(16, activation='relu')(encoded)\n",
    "    decoded = Dense(input_shape[0], activation='sigmoid')(decoded)\n",
    "    autoencoder = Model(input_layer, decoded)\n",
    "    encoder = Model(input_layer, encoded)\n",
    "    autoencoder.compile(optimizer='adam', loss='mse')\n",
    "    return autoencoder, encoder"
   ]
  },
  {
   "cell_type": "code",
   "execution_count": null,
   "id": "d65c1054-e1c0-4b57-8814-9d0c48999439",
   "metadata": {},
   "outputs": [],
   "source": [
    "autoencoder2, encoder2 = create_autoencoder2(input_shape2)\n",
    "autoencoder4, encoder4 = create_autoencoder4(input_shape4)\n",
    "autoencoder5, encoder5 = create_autoencoder5(input_shape5)\n",
    "autoencoder6, encoder6 = create_autoencoder6(input_shape6)\n",
    "autoencoder7, encoder7 = create_autoencoder7(input_shape7)\n",
    "autoencoder8, encoder8 = create_autoencoder8(input_shape8)"
   ]
  },
  {
   "cell_type": "code",
   "execution_count": null,
   "id": "fe4db245-8f15-486b-b4e0-8f391e4be713",
   "metadata": {},
   "outputs": [],
   "source": []
  },
  {
   "cell_type": "code",
   "execution_count": null,
   "id": "b4a82424-bb55-45ff-b7f9-6cdaa028e4e0",
   "metadata": {},
   "outputs": [],
   "source": []
  },
  {
   "cell_type": "markdown",
   "id": "d4b06675-5f98-4652-ae36-98e93c04d5e6",
   "metadata": {},
   "source": [
    "***"
   ]
  },
  {
   "cell_type": "code",
   "execution_count": null,
   "id": "e8277bd7-4643-476b-a061-6d969264aa6d",
   "metadata": {
    "scrolled": true
   },
   "outputs": [],
   "source": [
    "# Training autoencoder model\n",
    "# autoencoder2.fit(x2_train, x2_train, epochs=args_multi.enc_epochs, batch_size=args_multi.enc_bs)\n",
    "# autoencoder4.fit(x4_train, x4_train, epochs=args_multi.enc_epochs, batch_size=args_multi.enc_bs)\n",
    "# autoencoder5.fit(x5_train, x5_train, epochs=args_multi.enc_epochs, batch_size=args_multi.enc_bs)\n",
    "# autoencoder6.fit(x6_train, x6_train, epochs=args_multi.enc_epochs, batch_size=args_multi.enc_bs)\n",
    "# autoencoder7.fit(x7_train, x7_train, epochs=args_multi.enc_epochs, batch_size=args_multi.enc_bs)\n",
    "# autoencoder8.fit(x8_train, x8_train, epochs=args_multi.enc_epochs, batch_size=args_multi.enc_bs)\n",
    "\n",
    "# Training autoencoder model\n",
    "autoencoder2.fit(x2_train, x2_train, epochs=args_multi.enc_epochs, batch_size=args_multi.enc_bs, validation_split=0.2)\n",
    "autoencoder4.fit(x4_train, x4_train, epochs=args_multi.enc_epochs, batch_size=args_multi.enc_bs, validation_split=0.2)\n",
    "autoencoder5.fit(x5_train, x5_train, epochs=args_multi.enc_epochs, batch_size=args_multi.enc_bs, validation_split=0.2)\n",
    "autoencoder6.fit(x6_train, x6_train, epochs=args_multi.enc_epochs, batch_size=args_multi.enc_bs, validation_split=0.2)\n",
    "autoencoder7.fit(x7_train, x7_train, epochs=args_multi.enc_epochs, batch_size=args_multi.enc_bs, validation_split=0.2)\n",
    "autoencoder8.fit(x8_train, x8_train, epochs=args_multi.enc_epochs, batch_size=args_multi.enc_bs, validation_split=0.2)"
   ]
  },
  {
   "cell_type": "code",
   "execution_count": null,
   "id": "5e674bb0-4806-4821-a6f1-bf993f98bf8a",
   "metadata": {},
   "outputs": [],
   "source": [
    "# Defining input\n",
    "input2 = Input(shape=(data_s2.shape[1],))\n",
    "input4 = Input(shape=(data_s4.shape[1],))\n",
    "input5 = Input(shape=(data_s5.shape[1],))\n",
    "input6 = Input(shape=(data_s6.shape[1],))\n",
    "input7 = Input(shape=(data_s7.shape[1],))\n",
    "input8 = Input(shape=(data_s8.shape[1],))"
   ]
  },
  {
   "cell_type": "code",
   "execution_count": null,
   "id": "04e0ee90-df10-4084-96f0-88a6573ea921",
   "metadata": {},
   "outputs": [],
   "source": [
    "# Defining subnetwork function\n",
    "def create_encoded_output(input_layer, encoder):\n",
    "    return encoder(input_layer)"
   ]
  },
  {
   "cell_type": "code",
   "execution_count": null,
   "id": "7865f9d9-808b-408d-bb42-d942eb755567",
   "metadata": {},
   "outputs": [],
   "source": []
  },
  {
   "cell_type": "code",
   "execution_count": null,
   "id": "0ab0c1be-eace-44cf-bc2f-f6e763d465e8",
   "metadata": {},
   "outputs": [],
   "source": []
  },
  {
   "cell_type": "code",
   "execution_count": null,
   "id": "40d25ca1-81ec-4f33-a997-c6adebee9306",
   "metadata": {},
   "outputs": [],
   "source": [
    "# 서브 네트워크 생성\n",
    "encoded2 = create_encoded_output(input2, encoder2)\n",
    "encoded4 = create_encoded_output(input4, encoder4)\n",
    "encoded5 = create_encoded_output(input5, encoder5)\n",
    "encoded6 = create_encoded_output(input6, encoder6)\n",
    "encoded7 = create_encoded_output(input7, encoder7)\n",
    "encoded8 = create_encoded_output(input8, encoder8)"
   ]
  },
  {
   "cell_type": "code",
   "execution_count": null,
   "id": "512d226f-e6ea-4e67-919c-a24e0beb387a",
   "metadata": {},
   "outputs": [],
   "source": [
    "# 서브 네트워크 출력 결합\n",
    "combined = Concatenate()([encoded2, encoded4, encoded5, encoded6, encoded7, encoded8])"
   ]
  },
  {
   "cell_type": "code",
   "execution_count": null,
   "id": "f87fabec-0c58-498b-822a-791982eb8286",
   "metadata": {},
   "outputs": [],
   "source": [
    "combined"
   ]
  },
  {
   "cell_type": "code",
   "execution_count": null,
   "id": "f75847b1-4199-4c2e-9d8e-0d79576a5aa5",
   "metadata": {},
   "outputs": [],
   "source": [
    "## adding dense(fc) layers after encoder combining\n",
    "concat_x = Dense(32, activation='relu')(combined)\n",
    "# concat_x = Dense(64, activation='relu')(concat_x)\n",
    "concat_x = BatchNormalization()(concat_x)\n",
    "concat_x = Dropout(0.5)(concat_x)\n",
    "# concat_x = Dense(32, activation='relu')(concat_x)\n",
    "# concat_x = Dropout(0.2)(concat_x)\n",
    "concat_x = Dense(8, activation='relu')(concat_x)\n",
    "\n",
    "# 최종 출력 레이어 정의 (4-class 분류)\n",
    "final_output = Dense(args_multi.num_classes, activation='softmax')(concat_x)"
   ]
  },
  {
   "cell_type": "code",
   "execution_count": null,
   "id": "b8d73407-2713-4d19-8d51-345bc974f046",
   "metadata": {
    "scrolled": true
   },
   "outputs": [],
   "source": [
    "# 모델 생성 및 컴파일\n",
    "model = Model(inputs=[input2, input4, input5, input6, input7, input8], outputs=final_output)\n",
    "model.compile(optimizer=opt, loss='categorical_crossentropy', metrics=['accuracy'])\n",
    "\n",
    "# 모델 요약 출력\n",
    "model.summary()"
   ]
  },
  {
   "cell_type": "code",
   "execution_count": null,
   "id": "efdca305-b876-4f7b-a052-1135bed738ca",
   "metadata": {},
   "outputs": [],
   "source": [
    "# LearningRateScheduler 설정\n",
    "lr_scheduler = LearningRateScheduler(lambda epoch: cyclic_learning_rate(epoch, base_lr=0.01, max_lr=0.006, step_size=300))\n",
    "# lr_scheduler = LearningRateScheduler(lambda epoch: exp_range_lr(epoch, base_lr=0.01, max_lr=0.006, step_size=300, gamma=0.99994))"
   ]
  },
  {
   "cell_type": "code",
   "execution_count": null,
   "id": "bc501f69-9b3b-4d8f-8395-949bcbbe2b20",
   "metadata": {
    "scrolled": true
   },
   "outputs": [],
   "source": [
    "## Model training\n",
    "# model.fit([x2_train, x4_train, x5_train, x6_train, x7_train, x8_train], y_train, epochs=args_multi.epochs, batch_size=args_multi.bs)\n",
    "model.fit([x2_train, x4_train, x5_train, x6_train, x7_train, x8_train], y_train, epochs=args_multi.epochs, callbacks = [lr_scheduler], batch_size=args_multi.bs)\n",
    "\n",
    "## Model evaluation\n",
    "# loss, accuracy = model.evaluate([x2_test, x4_test, x5_test, x6_test, x7_test, x8_test], y_test)\n",
    "# print(f\"Test Accuracy: {accuracy:.4f}\")"
   ]
  },
  {
   "cell_type": "code",
   "execution_count": null,
   "id": "05e99e9d-4792-4f0b-b9be-787bb0215be4",
   "metadata": {},
   "outputs": [],
   "source": [
    "y_predict = model.predict([x2_test, x4_test, x5_test, x6_test, x7_test, x8_test])\n",
    "y_predict = np.argmax(y_predict, axis = 1)\n",
    "y_test = np.argmax(y_test, axis = 1)\n",
    "\n",
    "result = confusion_matrix(y_test, y_predict, normalize = 'pred')\n",
    "print(result)"
   ]
  },
  {
   "cell_type": "code",
   "execution_count": null,
   "id": "32e0290b-01c5-4858-8f0d-e7d393d33d16",
   "metadata": {},
   "outputs": [],
   "source": [
    "figure = plt.figure(figsize=(6, 4))\n",
    "sns.heatmap(result, annot=True,cmap=plt.cm.Blues)\n",
    "plt.tight_layout()\n",
    "plt.ylabel('True label')\n",
    "plt.xlabel('Predicted label')\n",
    "plt.show()"
   ]
  },
  {
   "cell_type": "code",
   "execution_count": null,
   "id": "8639f94f-f417-4e16-aa97-8324e035e527",
   "metadata": {},
   "outputs": [],
   "source": [
    "accuracy = metrics.accuracy_score(y_test, y_predict)\n",
    "precision = metrics.precision_score(y_test, y_predict, average = 'macro')\n",
    "recall = metrics.recall_score(y_test, y_predict, average = 'micro')\n",
    "f1 = metrics.f1_score(y_test, y_predict, average = 'weighted')\n",
    "auc = roc_auc_score(y_test,model.predict([x2_test, x4_test, x5_test, x6_test, x7_test, x8_test], verbose=0), multi_class='ovr')\n",
    "\n",
    "print(\"=============================================\")\n",
    "print(\"The overall accuracy is:\", round(accuracy, 4))\n",
    "print(\"The precision score is:\", round(precision, 4))\n",
    "print(\"The recall score is:\", round(recall, 4))\n",
    "print(\"The f1 score is:\", round(f1, 4))\n",
    "print(\"The AUC score is:\", round(auc, 4))\n",
    "print(\"=============================================\")"
   ]
  },
  {
   "cell_type": "code",
   "execution_count": null,
   "id": "e16aad3e-4f2c-4f32-9a9d-5dbf1d978b71",
   "metadata": {},
   "outputs": [],
   "source": []
  },
  {
   "cell_type": "markdown",
   "id": "01a7ed94-5f2e-4af9-b0d1-22eb40d5db8e",
   "metadata": {},
   "source": [
    "***"
   ]
  },
  {
   "cell_type": "code",
   "execution_count": null,
   "id": "38979363-3045-4f0c-a17f-44cf5d3c82fa",
   "metadata": {},
   "outputs": [],
   "source": []
  },
  {
   "cell_type": "code",
   "execution_count": null,
   "id": "1bab206a-752a-4adc-a3fe-d6e9efff6cfc",
   "metadata": {},
   "outputs": [],
   "source": []
  },
  {
   "cell_type": "markdown",
   "id": "30732f3c-94de-4d36-83da-5923efcc0e9a",
   "metadata": {},
   "source": [
    "## VAE augmentation"
   ]
  },
  {
   "cell_type": "code",
   "execution_count": null,
   "id": "a9932455-884b-4a10-9142-ba578a30903a",
   "metadata": {},
   "outputs": [],
   "source": [
    "data = df_reduced.copy()"
   ]
  },
  {
   "cell_type": "markdown",
   "id": "fb101227-fab6-4fbe-9b30-83bf9d209743",
   "metadata": {},
   "source": [
    "> We sampled 300 data for each label, to augment other 100 data for each class. \\\n",
    "> This is to compare the classification performance of data augmentation."
   ]
  },
  {
   "cell_type": "code",
   "execution_count": null,
   "id": "fea3aad2-6759-4f7c-b1eb-a3b976711cef",
   "metadata": {},
   "outputs": [],
   "source": [
    "data = data.groupby('condition').apply(lambda x: x.sample(400)).reset_index(drop=True)"
   ]
  },
  {
   "cell_type": "code",
   "execution_count": null,
   "id": "50a5fc2f-5de0-45ad-bac9-4e89fb3858bc",
   "metadata": {},
   "outputs": [],
   "source": [
    "data[\"condition\"].value_counts()"
   ]
  },
  {
   "cell_type": "code",
   "execution_count": null,
   "id": "fb6d7157-98be-41dd-86a7-f5608e50c9b6",
   "metadata": {},
   "outputs": [],
   "source": [
    "data_int = data[data['condition']==\"interruption\"]\n",
    "data_nos = data[data['condition']==\"no stress\"]\n",
    "data_tip = data[data['condition']==\"time pressure\"]"
   ]
  },
  {
   "cell_type": "code",
   "execution_count": null,
   "id": "12d7aefa-d3f3-4d5f-bb6b-5263c40e8385",
   "metadata": {},
   "outputs": [],
   "source": [
    "class Args_aug:\n",
    "    # arugments\n",
    "    epochs=150\n",
    "    bs=32\n",
    "    lr=0.0001\n",
    "    momentum=0.9\n",
    "    num_classes= 2\n",
    "    latent_dim = 16\n",
    "    inter_dim1 = 32\n",
    "    inter_dim2 = 16\n",
    "    seed=710674\n",
    "\n",
    "args_aug = Args_aug()\n",
    "\n",
    "# np.random.seed(args.seed)\n",
    "# random.seed(args.seed)\n",
    "# torch.manual_seed(args.seed)"
   ]
  },
  {
   "cell_type": "code",
   "execution_count": null,
   "id": "cdac6636-66e6-4194-8e90-25f21f60fdca",
   "metadata": {},
   "outputs": [],
   "source": [
    "# data_vae = data.copy()\n",
    "# data_vae = data_int.copy()\n",
    "# data_vae = data_nos.copy()\n",
    "data_vae = data_tip.copy()"
   ]
  },
  {
   "cell_type": "code",
   "execution_count": null,
   "id": "d7b48ca5-a07f-42f4-9d40-7b143478eeba",
   "metadata": {},
   "outputs": [],
   "source": [
    "data_vae.columns"
   ]
  },
  {
   "cell_type": "code",
   "execution_count": null,
   "id": "12d39bed-71f2-4507-9f4f-376b86c809eb",
   "metadata": {},
   "outputs": [],
   "source": [
    "# y includes our labels and x includes our features\n",
    "y = data_vae.condition  # M or B \n",
    "list = ['condition']\n",
    "x = data_vae.drop(list, axis = 1 )"
   ]
  },
  {
   "cell_type": "code",
   "execution_count": null,
   "id": "09086341-79a5-42d2-9c62-088c32dea8ef",
   "metadata": {},
   "outputs": [],
   "source": [
    "data_x = x.copy()"
   ]
  },
  {
   "cell_type": "code",
   "execution_count": null,
   "id": "524e3647-f052-4e44-b5fc-73f153fd3a75",
   "metadata": {},
   "outputs": [],
   "source": [
    "scaler = MinMaxScaler() #set the scaler (between 0 and 1)\n",
    "\n",
    "data_x[:] = scaler.fit_transform(data_x[:])\n",
    "data_x = data_x.round(decimals=6)"
   ]
  },
  {
   "cell_type": "code",
   "execution_count": null,
   "id": "65e6e505-c59d-4ba3-80a8-d58a840b114f",
   "metadata": {},
   "outputs": [],
   "source": [
    "# # 데이터 확인\n",
    "# print(np.isnan(data_x).any())  # False여야 합니다.\n",
    "# print(np.isinf(data_x).any())  # False여야 합니다."
   ]
  },
  {
   "cell_type": "code",
   "execution_count": null,
   "id": "dc39eed2-d4fb-448e-9cbf-d14e467e66b7",
   "metadata": {},
   "outputs": [],
   "source": []
  },
  {
   "cell_type": "code",
   "execution_count": null,
   "id": "1797bc62-f35f-42d0-ad19-31211eb9d102",
   "metadata": {},
   "outputs": [],
   "source": [
    "# data_x = data_x.fillna(data_x.mean())"
   ]
  },
  {
   "cell_type": "code",
   "execution_count": null,
   "id": "b9dad4bb-241a-479b-9c41-fb3a77d519c5",
   "metadata": {},
   "outputs": [],
   "source": [
    "########## FULL GROUP CLASSIFICATION ##########\n",
    "label = y\n",
    "label = label.replace({'interruption':0})\n",
    "label = label.replace({'no stress': 1})\n",
    "label = label.replace({'time pressure': 2})\n",
    "\n",
    "data_y = to_categorical(label, 3) ## into the format of one-hot encoding"
   ]
  },
  {
   "cell_type": "code",
   "execution_count": null,
   "id": "bce530e4-07f7-49d5-be98-a0692741743b",
   "metadata": {},
   "outputs": [],
   "source": [
    "print(\"The size of x dataset is:\", data_x.shape)\n",
    "print(\"The size of y dataset is:\", data_y.shape)"
   ]
  },
  {
   "cell_type": "code",
   "execution_count": null,
   "id": "eec8c330-9e7d-4339-be91-ca88cde8972d",
   "metadata": {},
   "outputs": [],
   "source": []
  },
  {
   "cell_type": "markdown",
   "id": "495fed10-d212-4e91-a050-6c6070ec621c",
   "metadata": {},
   "source": [
    "### encoder networks"
   ]
  },
  {
   "cell_type": "code",
   "execution_count": null,
   "id": "aa3e8a98-14ac-4085-b902-e503894cb035",
   "metadata": {},
   "outputs": [],
   "source": [
    "# ## shallow model\n",
    "# input_dim = data_x.shape[1]\n",
    "# latent_dim = 2\n",
    "\n",
    "# inputs = Input(shape=(input_dim,))\n",
    "# h = Dense(32, activation='relu')(inputs)\n",
    "# z_mean = Dense(latent_dim)(h)\n",
    "# z_log_var = Dense(latent_dim)(h)"
   ]
  },
  {
   "cell_type": "code",
   "execution_count": null,
   "id": "1f3bb7a3-77ad-4941-ad8a-2dd48c0414c1",
   "metadata": {},
   "outputs": [],
   "source": [
    "## deeper model\n",
    "input_dim = data_x.shape[1]\n",
    "latent_dim = 8\n",
    "\n",
    "inputs = Input(shape=(input_dim,))\n",
    "h = Dense(64, activation='relu')(inputs)\n",
    "h = Dense(32, activation='relu')(h)\n",
    "h = Dense(16, activation='relu')(h)\n",
    "z_mean = Dense(latent_dim)(h)\n",
    "z_log_var = Dense(latent_dim)(h)"
   ]
  },
  {
   "cell_type": "code",
   "execution_count": null,
   "id": "0311ff14-270e-4eea-b1a1-055308c26ad6",
   "metadata": {},
   "outputs": [],
   "source": [
    "## latent space sampling\n",
    "def sampling(args):\n",
    "    z_mean, z_log_var = args\n",
    "    batch = K.shape(z_mean)[0]\n",
    "    dim = K.int_shape(z_mean)[1]\n",
    "    epsilon = K.random_normal(shape=(batch, dim))\n",
    "    return z_mean + K.exp(0.5 * z_log_var) * epsilon\n",
    "\n",
    "z = Lambda(sampling, output_shape=(latent_dim,))([z_mean, z_log_var])"
   ]
  },
  {
   "cell_type": "code",
   "execution_count": null,
   "id": "031e60ad-8687-4742-8cbe-5aa58ff3c1b7",
   "metadata": {},
   "outputs": [],
   "source": []
  },
  {
   "cell_type": "markdown",
   "id": "ca9b8c4b-62f1-4afc-bca0-36b1467efa21",
   "metadata": {},
   "source": [
    "### decoder networks"
   ]
  },
  {
   "cell_type": "code",
   "execution_count": null,
   "id": "e89921c8-f2dc-4037-be6a-6d8cf320971a",
   "metadata": {},
   "outputs": [],
   "source": [
    "# ## shallow model\n",
    "# decoder_h = Dense(32, activation='relu')\n",
    "# decoder_mean = Dense(input_dim, activation='sigmoid')\n",
    "\n",
    "# h_decoded = decoder_h(z)\n",
    "# x_decoded_mean = decoder_mean(h_decoded)"
   ]
  },
  {
   "cell_type": "code",
   "execution_count": null,
   "id": "66a82c62-6e49-4112-9c12-4c6ea2107a4d",
   "metadata": {},
   "outputs": [],
   "source": [
    "## deeper model\n",
    "decoder_h1 = Dense(16, activation='relu')\n",
    "decoder_h2 = Dense(32, activation='relu')\n",
    "decoder_h3 = Dense(64, activation='relu')\n",
    "decoder_mean = Dense(input_dim, activation='sigmoid')\n",
    "\n",
    "h_decoded = decoder_h1(z)\n",
    "h_decoded = decoder_h2(h_decoded)\n",
    "h_decoded = decoder_h3(h_decoded)\n",
    "x_decoded_mean = decoder_mean(h_decoded)"
   ]
  },
  {
   "cell_type": "code",
   "execution_count": null,
   "id": "6249ff44-6da9-4269-8421-59745cf7db8a",
   "metadata": {},
   "outputs": [],
   "source": []
  },
  {
   "cell_type": "markdown",
   "id": "15854788-75ea-486a-be2c-04d9f14b4305",
   "metadata": {},
   "source": [
    "### model define"
   ]
  },
  {
   "cell_type": "code",
   "execution_count": null,
   "id": "cd88c0ef-4c9f-4046-8475-f3717971ce6c",
   "metadata": {
    "scrolled": true
   },
   "outputs": [],
   "source": [
    "vae = Model(inputs, x_decoded_mean)\n",
    "vae.summary()"
   ]
  },
  {
   "cell_type": "code",
   "execution_count": null,
   "id": "6e65e374-a6ec-4283-9adb-46d7a0f06297",
   "metadata": {},
   "outputs": [],
   "source": []
  },
  {
   "cell_type": "markdown",
   "id": "dbb1f847-50e1-4618-bf34-354f8dd26bfd",
   "metadata": {},
   "source": [
    "### loss function"
   ]
  },
  {
   "cell_type": "code",
   "execution_count": null,
   "id": "6f2b4d87-9753-4d54-8847-0423716328d6",
   "metadata": {},
   "outputs": [],
   "source": [
    "reconstruction_loss = MeanSquaredError()(inputs, x_decoded_mean)\n",
    "\n",
    "kl_loss = -0.5 * K.sum(1 + z_log_var - K.square(z_mean) - K.exp(z_log_var + K.epsilon()), axis=-1)\n",
    "vae_loss = K.mean(reconstruction_loss + kl_loss)\n",
    "vae.add_loss(vae_loss)"
   ]
  },
  {
   "cell_type": "code",
   "execution_count": null,
   "id": "eabac77c-2904-42d3-8320-dd13ee78bf71",
   "metadata": {},
   "outputs": [],
   "source": [
    "vae.compile(optimizer=Adam(learning_rate=args_aug.lr))"
   ]
  },
  {
   "cell_type": "code",
   "execution_count": null,
   "id": "c2cc6b33-1e6b-4465-b1d6-0b135a925546",
   "metadata": {
    "scrolled": true
   },
   "outputs": [],
   "source": [
    "vae.summary()"
   ]
  },
  {
   "cell_type": "code",
   "execution_count": null,
   "id": "b1139155-02ee-404f-956d-e7af3f896887",
   "metadata": {},
   "outputs": [],
   "source": []
  },
  {
   "cell_type": "markdown",
   "id": "d2f533fc-88fb-4e75-9887-abe1b7e27415",
   "metadata": {},
   "source": [
    "### model training"
   ]
  },
  {
   "cell_type": "code",
   "execution_count": null,
   "id": "a4fa97a2-a9c2-4ba4-8c9b-aa9fb1346bf9",
   "metadata": {
    "scrolled": true
   },
   "outputs": [],
   "source": [
    "vae.fit(data_x, epochs=args_aug.epochs, batch_size=args_aug.bs, validation_split=0.2, verbose=2)"
   ]
  },
  {
   "cell_type": "code",
   "execution_count": null,
   "id": "72bf17c1-399b-4ea8-adbc-cd9d53cb9b9e",
   "metadata": {},
   "outputs": [],
   "source": []
  },
  {
   "cell_type": "markdown",
   "id": "82788ff9-c20b-4da2-afab-f5868104e7ff",
   "metadata": {},
   "source": [
    "### extracting encoder, decoder"
   ]
  },
  {
   "cell_type": "code",
   "execution_count": null,
   "id": "6d8c7750-7601-4938-a7ee-24580cb9673d",
   "metadata": {},
   "outputs": [],
   "source": [
    "## encoder model extraction\n",
    "encoder = Model(inputs, z_mean)"
   ]
  },
  {
   "cell_type": "code",
   "execution_count": null,
   "id": "4a028027-249b-4217-a3c4-789257cfbd38",
   "metadata": {
    "scrolled": true
   },
   "outputs": [],
   "source": [
    "# ## decoder model extraction\n",
    "# ## shallow model\n",
    "# decoder_input = Input(shape=(latent_dim,))\n",
    "# _h_decoded = decoder_h(decoder_input)\n",
    "# _x_decoded_mean = decoder_mean(_h_decoded)\n",
    "# decoder = Model(decoder_input, _x_decoded_mean)\n",
    "\n",
    "## deeper model\n",
    "decoder_input = Input(shape=(latent_dim,))\n",
    "_h_decoded = decoder_h1(decoder_input)\n",
    "_h_decoded = decoder_h2(_h_decoded)\n",
    "_h_decoded = decoder_h3(_h_decoded)\n",
    "_x_decoded_mean = decoder_mean(_h_decoded)\n",
    "decoder = Model(decoder_input, _x_decoded_mean)"
   ]
  },
  {
   "cell_type": "code",
   "execution_count": null,
   "id": "6a9c88cd-baa4-4b43-9a63-1500699ec2d8",
   "metadata": {},
   "outputs": [],
   "source": []
  },
  {
   "cell_type": "code",
   "execution_count": null,
   "id": "93d1dedb-9b45-4ccd-8603-e019b2df6c3f",
   "metadata": {},
   "outputs": [],
   "source": []
  },
  {
   "cell_type": "code",
   "execution_count": null,
   "id": "45e4febe-4954-4b1d-8768-dd75cbdf5ac7",
   "metadata": {},
   "outputs": [],
   "source": [
    "# # 입력 데이터를 잠재 공간으로 인코딩\n",
    "# encoded_data = encoder.predict(data_x)\n",
    "\n",
    "# # 잠재 공간의 데이터를 디코딩하여 원래 공간으로 복원\n",
    "# decoded_data = decoder.predict(encoded_data)"
   ]
  },
  {
   "cell_type": "code",
   "execution_count": null,
   "id": "45f3d3a5-ca1e-4b91-a9f8-3263b335f9a5",
   "metadata": {},
   "outputs": [],
   "source": []
  },
  {
   "cell_type": "markdown",
   "id": "3c42c6ff-57e5-47c7-9f3d-4454e46fe5d6",
   "metadata": {
    "jp-MarkdownHeadingCollapsed": true
   },
   "source": [
    "### Latent space visualization"
   ]
  },
  {
   "cell_type": "code",
   "execution_count": null,
   "id": "141ff885-bf32-4cd4-85e5-5008bd2b4728",
   "metadata": {},
   "outputs": [],
   "source": [
    "## encode the input dataset into latent space\n",
    "encoded_data = encoder.predict(data_x)\n",
    "\n",
    "## latent space transform with t-SNE function\n",
    "tsne = TSNE(n_components=2, random_state=710674)\n",
    "encoded_data_tsne = tsne.fit_transform(encoded_data)\n",
    "\n",
    "## visualize\n",
    "plt.figure(figsize=(8, 6))\n",
    "plt.scatter(encoded_data_tsne[:, 0], encoded_data_tsne[:, 1], c=label, cmap='viridis')\n",
    "plt.colorbar()\n",
    "plt.xlabel(\"t-SNE component 1\")\n",
    "plt.ylabel(\"t-SNE component 2\")\n",
    "plt.title(\"t-SNE visualization of the latent space\")\n",
    "plt.show()"
   ]
  },
  {
   "cell_type": "code",
   "execution_count": null,
   "id": "32e235a2-97e6-477d-a78e-2d0ab44bd129",
   "metadata": {},
   "outputs": [],
   "source": []
  },
  {
   "cell_type": "code",
   "execution_count": null,
   "id": "2fb4121a-9bdd-4b39-b752-ad3afe3b8ff4",
   "metadata": {},
   "outputs": [],
   "source": []
  },
  {
   "cell_type": "markdown",
   "id": "abf1418c-cade-4b8d-86ef-3615c36bcb77",
   "metadata": {},
   "source": [
    "### Synthetic data generation"
   ]
  },
  {
   "cell_type": "code",
   "execution_count": null,
   "id": "c9551af0-3f19-4527-aef1-096873d7d7cb",
   "metadata": {},
   "outputs": [],
   "source": [
    "### sampling randomly from latent space\n",
    "n_samples = 100  # number of synthetic dataset to generate\n",
    "\n",
    "z_samples = np.random.normal(size=(n_samples, latent_dim))\n",
    "\n",
    "### 디코더를 통해 synthetic data 생성\n",
    "# synthetic_data_int = decoder.predict(z_samples)\n",
    "# synthetic_data_nos = decoder.predict(z_samples)\n",
    "synthetic_data_tip = decoder.predict(z_samples)"
   ]
  },
  {
   "cell_type": "code",
   "execution_count": null,
   "id": "ebc57f3d-590a-4c0e-954c-6b983b0ce8b9",
   "metadata": {},
   "outputs": [],
   "source": [
    "# gen_int = synthetic_data_int.copy()\n",
    "# gen_int = pd.DataFrame(gen_int, columns=data_x.columns)\n",
    "\n",
    "# #####################\n",
    "# gen_nos = synthetic_data_nos.copy()\n",
    "# gen_nos = pd.DataFrame(gen_nos, columns=data_x.columns)\n",
    "\n",
    "#####################\n",
    "gen_tip = synthetic_data_tip.copy()\n",
    "gen_tip = pd.DataFrame(gen_tip, columns=data_x.columns)"
   ]
  },
  {
   "cell_type": "code",
   "execution_count": null,
   "id": "4e1892b2-d5e3-440d-93d0-8b35f3f17350",
   "metadata": {},
   "outputs": [],
   "source": []
  },
  {
   "cell_type": "markdown",
   "id": "ab635290-9739-41a5-b469-fb86fd20a64f",
   "metadata": {},
   "source": [
    "### performance comparison"
   ]
  },
  {
   "cell_type": "code",
   "execution_count": null,
   "id": "13a13289-fda5-4694-b965-2ce9a17298a5",
   "metadata": {},
   "outputs": [],
   "source": []
  },
  {
   "cell_type": "code",
   "execution_count": null,
   "id": "b797a4fe-0a8b-41c2-95a3-ca47726e5d9c",
   "metadata": {},
   "outputs": [],
   "source": []
  },
  {
   "cell_type": "markdown",
   "id": "13796026-f1bf-43c8-a8d9-d473594cb4c6",
   "metadata": {},
   "source": [
    "#### using original + generated dataset"
   ]
  },
  {
   "cell_type": "markdown",
   "id": "6fed8331-0922-4bdf-8993-3a2d3077f276",
   "metadata": {},
   "source": [
    "* Set target information into newly generated dataset"
   ]
  },
  {
   "cell_type": "code",
   "execution_count": null,
   "id": "92f7c1a8-fdb1-4653-ae91-35e57b28405e",
   "metadata": {},
   "outputs": [],
   "source": [
    "gen_int['condition'] = \"interruption\"\n",
    "gen_nos['condition'] = \"no stress\"\n",
    "gen_tip['condition'] = \"time pressure\""
   ]
  },
  {
   "cell_type": "markdown",
   "id": "442f14ad-c567-4f94-a278-fe482a8b8308",
   "metadata": {},
   "source": [
    "* Preparing original dataset"
   ]
  },
  {
   "cell_type": "code",
   "execution_count": null,
   "id": "330d166d-ff7a-478a-acea-07a05c54c4bd",
   "metadata": {},
   "outputs": [],
   "source": [
    "data.shape"
   ]
  },
  {
   "cell_type": "code",
   "execution_count": null,
   "id": "6be7599b-07d0-4b43-9a65-3f3d3a9b672b",
   "metadata": {},
   "outputs": [],
   "source": [
    "data_int = data[data['condition']==\"interruption\"]\n",
    "data_nos = data[data['condition']==\"no stress\"]\n",
    "data_tip = data[data['condition']==\"time pressure\"]"
   ]
  },
  {
   "cell_type": "markdown",
   "id": "1b6c86e3-71d1-42e0-b7ed-c72ead662b12",
   "metadata": {},
   "source": [
    "* Concat the original datasets into one original dataframe"
   ]
  },
  {
   "cell_type": "code",
   "execution_count": null,
   "id": "a79dc3ad-3c6d-4f9d-b7e1-8614e1bf2cbe",
   "metadata": {},
   "outputs": [],
   "source": [
    "ori_df_list = [data_int, data_nos, data_tip]\n",
    "ori_df_concat = pd.concat(ori_df_list, ignore_index=True)"
   ]
  },
  {
   "cell_type": "code",
   "execution_count": null,
   "id": "59a82a2f-1eae-4ecd-ba39-1059595fab47",
   "metadata": {},
   "outputs": [],
   "source": [
    "ori_df_concat.shape"
   ]
  },
  {
   "cell_type": "code",
   "execution_count": null,
   "id": "33219592-c92c-4962-8ab5-544ae8fbf67b",
   "metadata": {},
   "outputs": [],
   "source": [
    "ori_df_concat['condition'].value_counts()"
   ]
  },
  {
   "cell_type": "markdown",
   "id": "3052c3d2-c5f6-439f-a8be-31a15f080514",
   "metadata": {},
   "source": [
    "* Concat the generated datasets into one gen dataframe"
   ]
  },
  {
   "cell_type": "code",
   "execution_count": null,
   "id": "686011db-6879-454b-bb33-2082f02e4e06",
   "metadata": {},
   "outputs": [],
   "source": [
    "gen_df_list = [gen_int, gen_nos, gen_tip]\n",
    "gen_df_concat = pd.concat(gen_df_list, ignore_index=True)"
   ]
  },
  {
   "cell_type": "code",
   "execution_count": null,
   "id": "073cd1d3-6b77-40a8-ba51-3e19e7a0ab12",
   "metadata": {},
   "outputs": [],
   "source": [
    "gen_df_concat['condition'].value_counts()"
   ]
  },
  {
   "cell_type": "code",
   "execution_count": null,
   "id": "3f489e45-0b00-4f9c-9d67-db81c83ac520",
   "metadata": {},
   "outputs": [],
   "source": []
  },
  {
   "cell_type": "markdown",
   "id": "4f8f9201-54ee-483a-b15c-f8685f3ca881",
   "metadata": {},
   "source": [
    "* Preparing x and y data vectors"
   ]
  },
  {
   "cell_type": "code",
   "execution_count": null,
   "id": "b697ca70-7cef-40e5-8d04-5c7d1544a7ba",
   "metadata": {},
   "outputs": [],
   "source": [
    "### Using MDD,BP dataset\n",
    "ori_x = ori_df_concat.drop(['condition'], axis=1)\n",
    "ori_y = ori_df_concat.loc[:,[\"condition\"]]\n",
    "\n",
    "gen_x = gen_df_concat.drop(['condition'], axis=1)\n",
    "gen_y = gen_df_concat.loc[:,[\"condition\"]]"
   ]
  },
  {
   "cell_type": "code",
   "execution_count": null,
   "id": "835d6a55-c823-4f77-950a-a37306c0d00c",
   "metadata": {},
   "outputs": [],
   "source": [
    "ori_x = ori_x.fillna(ori_x.mean())"
   ]
  },
  {
   "cell_type": "code",
   "execution_count": null,
   "id": "4e69148f-b00b-48bd-96c1-8e83b9a67d3e",
   "metadata": {},
   "outputs": [],
   "source": []
  },
  {
   "cell_type": "code",
   "execution_count": null,
   "id": "f3002ead-df2b-4686-bb3a-4cf7ba66735b",
   "metadata": {},
   "outputs": [],
   "source": [
    "label = ori_y\n",
    "label = label.replace({'interruption':0})\n",
    "label = label.replace({'no stress': 1})\n",
    "label = label.replace({'time pressure': 2})\n",
    "\n",
    "y_ori = to_categorical(label, 3) ## into the format of one-hot encoding"
   ]
  },
  {
   "cell_type": "code",
   "execution_count": null,
   "id": "cfbd50ae-9a5d-4afc-acea-e62d6ee8de30",
   "metadata": {},
   "outputs": [],
   "source": [
    "label_ = gen_y\n",
    "label_ = label_.replace({'interruption':0})\n",
    "label_ = label_.replace({'no stress': 1})\n",
    "label_ = label_.replace({'time pressure': 2})\n",
    "\n",
    "y_gen = to_categorical(label_, 3) ## into the format of one-hot encoding"
   ]
  },
  {
   "cell_type": "code",
   "execution_count": null,
   "id": "9df9a68d-bf83-4e65-bb66-3a58ad013c26",
   "metadata": {},
   "outputs": [],
   "source": []
  },
  {
   "cell_type": "markdown",
   "id": "e0bcf984-2a43-441a-ba55-d39568426fd5",
   "metadata": {},
   "source": [
    "* Separating the test dataset only from original dataframe"
   ]
  },
  {
   "cell_type": "code",
   "execution_count": null,
   "id": "9bcbf13b-0b7b-4778-a206-17da483ceecf",
   "metadata": {},
   "outputs": [],
   "source": [
    "x_trainset, x_test, y_trainset, y_test = train_test_split(ori_x, y_ori, test_size = 0.35, random_state = 710674)"
   ]
  },
  {
   "cell_type": "markdown",
   "id": "72e34052-7413-45c7-8601-53d72b5fe49d",
   "metadata": {},
   "source": [
    "* Then concat the generated dataset with training dataset"
   ]
  },
  {
   "cell_type": "code",
   "execution_count": null,
   "id": "29e1980c-1cdf-4707-93c7-58f6c52520f8",
   "metadata": {},
   "outputs": [],
   "source": [
    "x_train_concat = pd.concat([x_trainset, gen_x], ignore_index=True)\n",
    "y_train_concat = np.concatenate([y_trainset, y_gen])"
   ]
  },
  {
   "cell_type": "markdown",
   "id": "a7db1aa8-d4f4-4a16-81b4-c2d05c327b9b",
   "metadata": {},
   "source": [
    "* Then separating the validation dataset from concat dataframe"
   ]
  },
  {
   "cell_type": "code",
   "execution_count": null,
   "id": "0572cdb0-b457-45bb-8645-d4caafb00ba5",
   "metadata": {},
   "outputs": [],
   "source": [
    "x_train, x_vali, y_train, y_vali = train_test_split(x_train_concat, y_train_concat, test_size = 0.3, random_state = 710674)"
   ]
  },
  {
   "cell_type": "code",
   "execution_count": null,
   "id": "c047aa07-d00d-4601-b881-ff2fe8d07b07",
   "metadata": {},
   "outputs": [],
   "source": [
    "############## FOR FOUR-GROUP CLASSIFICATION ###############\n",
    "class_weight = {0:1, 1:1, 2:1}"
   ]
  },
  {
   "cell_type": "code",
   "execution_count": null,
   "id": "d6f47e38-286f-4ccf-a32e-b5d590f8c016",
   "metadata": {},
   "outputs": [],
   "source": [
    "#### Generate the model\n",
    "## this model is adequate for full variables usage\n",
    "model = Sequential()\n",
    "model.add(Dense(64, input_dim = x_train.shape[1], activation = 'relu'))\n",
    "model.add(BatchNormalization())\n",
    "model.add(Activation('relu'))\n",
    "model.add(Dense(128, activation = 'relu'))\n",
    "model.add(BatchNormalization())\n",
    "model.add(Activation('relu'))\n",
    "model.add(Dropout(0.5))\n",
    "model.add(Dense(128, activation = 'relu'))\n",
    "model.add(BatchNormalization())\n",
    "model.add(Activation('relu'))\n",
    "model.add(Dropout(0.5))\n",
    "model.add(Dense(64, activation = 'relu'))\n",
    "model.add(BatchNormalization())\n",
    "model.add(Dense(32, activation = 'relu'))\n",
    "model.add(Dense(args.num_classes, activation = 'softmax'))"
   ]
  },
  {
   "cell_type": "code",
   "execution_count": null,
   "id": "f6c50e44-a311-4563-92fd-4db27762e65a",
   "metadata": {},
   "outputs": [],
   "source": []
  },
  {
   "cell_type": "markdown",
   "id": "d0e4d0c2-badc-43cc-9bef-ca7a8456334f",
   "metadata": {},
   "source": [
    "* optimization function, model compile, and model training"
   ]
  },
  {
   "cell_type": "code",
   "execution_count": null,
   "id": "98c0c5da-06de-4a98-b691-d768893aa4d8",
   "metadata": {},
   "outputs": [],
   "source": [
    "opt = keras.optimizers.SGD(learning_rate = args.lr, decay = 1e-5, momentum = args.momentum)"
   ]
  },
  {
   "cell_type": "code",
   "execution_count": null,
   "id": "44a5ab0f-3f78-43fc-941c-28f96c8c2d7b",
   "metadata": {},
   "outputs": [],
   "source": [
    "# LearningRateScheduler 설정\n",
    "# lr_scheduler = LearningRateScheduler(lambda epoch: cyclic_learning_rate(epoch, base_lr=0.01, max_lr=0.006, step_size=300))\n",
    "lr_scheduler = LearningRateScheduler(lambda epoch: exp_range_lr(epoch, base_lr=0.01, max_lr=0.006, step_size=30, gamma=0.99994))"
   ]
  },
  {
   "cell_type": "code",
   "execution_count": null,
   "id": "d27142bb-9743-40da-9b16-2c33c738ce8c",
   "metadata": {
    "scrolled": true
   },
   "outputs": [],
   "source": [
    "model.compile(loss='categorical_crossentropy', optimizer=opt, metrics=['accuracy'])\n",
    "# history = model.fit(x_train, y_train, epochs=args.epochs, batch_size=args.bs, verbose=2)   ## using no class weight\n",
    "# history = model.fit(x_train, y_train, epochs=args.epochs, batch_size=args.bs, verbose=2, class_weight = class_weight)  ## using class weight\n",
    "history = model.fit(x_train, y_train, epochs=args.epochs, batch_size=args.bs, callbacks=[lr_scheduler], \n",
    "                    validation_data = (x_vali, y_vali), class_weight = class_weight, verbose=2) ## using LR scheduler callback"
   ]
  },
  {
   "cell_type": "code",
   "execution_count": null,
   "id": "f197f671-8896-41ea-98a9-25e65d9886f4",
   "metadata": {},
   "outputs": [],
   "source": []
  },
  {
   "cell_type": "markdown",
   "id": "911ce9e3-5946-4660-b846-e3327cd8d2a5",
   "metadata": {},
   "source": [
    "***"
   ]
  },
  {
   "cell_type": "code",
   "execution_count": null,
   "id": "0f425c29-85f1-47f1-999e-79115e4068ee",
   "metadata": {},
   "outputs": [],
   "source": [
    "y_predict = model.predict(x_test)\n",
    "y_predict = np.argmax(y_predict, axis = 1)\n",
    "y_test = np.argmax(y_test, axis = 1)\n",
    "\n",
    "result = confusion_matrix(y_test, y_predict, normalize = 'pred')\n",
    "print(result)"
   ]
  },
  {
   "cell_type": "code",
   "execution_count": null,
   "id": "8cc3eab2-45a8-495c-8ef1-56f51c80f65c",
   "metadata": {},
   "outputs": [],
   "source": [
    "figure = plt.figure(figsize=(6, 4))\n",
    "sns.heatmap(result, annot=True,cmap=plt.cm.Blues)\n",
    "plt.tight_layout()\n",
    "plt.ylabel('True label')\n",
    "plt.xlabel('Predicted label')\n",
    "plt.show()"
   ]
  },
  {
   "cell_type": "code",
   "execution_count": null,
   "id": "2f201355-70d1-4502-bf2e-362562284817",
   "metadata": {},
   "outputs": [],
   "source": [
    "accuracy = metrics.accuracy_score(y_test, y_predict)\n",
    "precision = metrics.precision_score(y_test, y_predict, average = 'macro')\n",
    "recall = metrics.recall_score(y_test, y_predict, average = 'micro')\n",
    "f1 = metrics.f1_score(y_test, y_predict, average = 'weighted')\n",
    "auc = roc_auc_score(y_test, model.predict(x_test, verbose=0), multi_class='ovr')\n",
    "\n",
    "print(\"=============================================\")\n",
    "print(\"The overall accuracy is:\", round(accuracy, 4))\n",
    "print(\"The precision score is:\", round(precision, 4))\n",
    "print(\"The recall score is:\", round(recall, 4))\n",
    "print(\"The f1 score is:\", round(f1, 4))\n",
    "print(\"The AUC score is:\", round(auc, 4))\n",
    "print(\"=============================================\")"
   ]
  },
  {
   "cell_type": "code",
   "execution_count": null,
   "id": "a9d1f5d2-5402-4ec1-8bc3-55d1d9b8726b",
   "metadata": {},
   "outputs": [],
   "source": []
  },
  {
   "cell_type": "code",
   "execution_count": null,
   "id": "17807ab3-bf47-43c8-95be-a2bc99a7b315",
   "metadata": {},
   "outputs": [],
   "source": []
  },
  {
   "cell_type": "markdown",
   "id": "1da20dde-3a70-41e2-904d-450f79795bd1",
   "metadata": {},
   "source": [
    "***"
   ]
  },
  {
   "cell_type": "markdown",
   "id": "8cf8b93d-ab7a-4544-9ccb-c78bab21f518",
   "metadata": {},
   "source": [
    "## VAE + DNN?"
   ]
  },
  {
   "cell_type": "markdown",
   "id": "736d869a-c79c-434e-863c-14034568fdaa",
   "metadata": {},
   "source": [
    "### data preparation"
   ]
  },
  {
   "cell_type": "code",
   "execution_count": null,
   "id": "00bf37a5-91c4-491e-b49e-ea713d33d413",
   "metadata": {},
   "outputs": [],
   "source": [
    "data = df_reduced.copy()\n",
    "# data = data.groupby('condition').apply(lambda x: x.sample(300)).reset_index(drop=True)"
   ]
  },
  {
   "cell_type": "code",
   "execution_count": null,
   "id": "078cb5a0-4dc4-49cb-851e-945afa47c921",
   "metadata": {},
   "outputs": [],
   "source": [
    "data_int = data[data['condition']==\"interruption\"]\n",
    "data_nos = data[data['condition']==\"no stress\"]\n",
    "data_tip = data[data['condition']==\"time pressure\"]"
   ]
  },
  {
   "cell_type": "code",
   "execution_count": null,
   "id": "23660413-40c1-45f6-b73d-738d73674f69",
   "metadata": {},
   "outputs": [],
   "source": [
    "class Args_vaednn:\n",
    "    # arugments\n",
    "    epochs=150\n",
    "    bs=32\n",
    "    lr=0.0001\n",
    "    momentum=0.9\n",
    "    num_classes= 3\n",
    "    seed=710674\n",
    "\n",
    "args_vaednn = Args_vaednn()\n",
    "\n",
    "# np.random.seed(args.seed)\n",
    "# random.seed(args.seed)\n",
    "# torch.manual_seed(args.seed)"
   ]
  },
  {
   "cell_type": "code",
   "execution_count": null,
   "id": "d1541331-caf2-45fa-b31d-09238a16853c",
   "metadata": {},
   "outputs": [],
   "source": [
    "data_vae = data.copy()\n",
    "# data_vae = data_int.copy()\n",
    "# data_vae = data_nos.copy()\n",
    "# data_vae = data_tip.copy()"
   ]
  },
  {
   "cell_type": "code",
   "execution_count": null,
   "id": "eabf6744-471c-454d-a823-a1c7279487dc",
   "metadata": {},
   "outputs": [],
   "source": [
    "data_vae.shape"
   ]
  },
  {
   "cell_type": "code",
   "execution_count": null,
   "id": "87d897d0-6ce5-4d28-8d31-89eccb7a517b",
   "metadata": {},
   "outputs": [],
   "source": [
    "# y includes our labels and x includes our features\n",
    "y = data_vae.condition\n",
    "list = ['condition']\n",
    "x = data_vae.drop(list, axis = 1 )"
   ]
  },
  {
   "cell_type": "code",
   "execution_count": null,
   "id": "a592e048-c987-4d35-8228-e6947d65427c",
   "metadata": {},
   "outputs": [],
   "source": [
    "data_x = x.copy()"
   ]
  },
  {
   "cell_type": "code",
   "execution_count": null,
   "id": "13720dea-f378-49f0-b5a7-8afd390a3dd7",
   "metadata": {},
   "outputs": [],
   "source": [
    "scaler = MinMaxScaler() #set the scaler (between 0 and 1)\n",
    "\n",
    "data_x[:] = scaler.fit_transform(data_x[:])\n",
    "data_x = data_x.round(decimals=6)"
   ]
  },
  {
   "cell_type": "code",
   "execution_count": null,
   "id": "899be61f-8e6f-4908-b103-748f7b1f7886",
   "metadata": {},
   "outputs": [],
   "source": [
    "########## FULL GROUP CLASSIFICATION ##########\n",
    "label = y\n",
    "label = label.replace({'interruption':0})\n",
    "label = label.replace({'no stress': 1})\n",
    "label = label.replace({'time pressure': 2})\n",
    "\n",
    "data_y = to_categorical(label, 3) ## into the format of one-hot encoding"
   ]
  },
  {
   "cell_type": "code",
   "execution_count": null,
   "id": "2b05f268-5c27-45dd-a992-4d9000e14899",
   "metadata": {},
   "outputs": [],
   "source": [
    "x_train, x_test, y_train, y_test = train_test_split(data_x, data_y, test_size = 0.2, random_state = 710674)"
   ]
  },
  {
   "cell_type": "code",
   "execution_count": null,
   "id": "f9259e57-6527-48e6-a223-c0f8be16e5e0",
   "metadata": {},
   "outputs": [],
   "source": []
  },
  {
   "cell_type": "code",
   "execution_count": null,
   "id": "bb4c137c-8c70-4082-84bf-0a857e5f65d9",
   "metadata": {},
   "outputs": [],
   "source": []
  },
  {
   "cell_type": "markdown",
   "id": "d86623c9-2332-4e0c-bb8d-8702be4f9b99",
   "metadata": {},
   "source": [
    "### model"
   ]
  },
  {
   "cell_type": "code",
   "execution_count": null,
   "id": "129a36a8-c3c1-4c3c-8a76-488e7b491599",
   "metadata": {},
   "outputs": [],
   "source": [
    "input_dim = data_x.shape[1]\n",
    "latent_dim = 10"
   ]
  },
  {
   "cell_type": "code",
   "execution_count": null,
   "id": "ac4775eb-d035-45dd-bb91-e8873fe0c116",
   "metadata": {},
   "outputs": [],
   "source": [
    "## encoder model for VAE+DNN\n",
    "def build_encoder(input_dim, latent_dim):\n",
    "    inputs = layers.Input(shape=(input_dim,))\n",
    "    x = layers.Dense(64, activation='relu')(inputs)\n",
    "    x = layers.Dense(32, activation='relu')(x)\n",
    "    \n",
    "    z_mean = layers.Dense(latent_dim)(x)\n",
    "    z_log_var = layers.Dense(latent_dim)(x)\n",
    "    \n",
    "    def sampling(args):\n",
    "        z_mean, z_log_var = args\n",
    "        epsilon = K.random_normal(shape=(K.shape(z_mean)[0], latent_dim), mean=0., stddev=1.0)\n",
    "        return z_mean + K.exp(z_log_var) * epsilon\n",
    "\n",
    "    z = layers.Lambda(sampling, output_shape=(latent_dim,))([z_mean, z_log_var])\n",
    "\n",
    "    return Model(inputs, [z_mean, z_log_var, z], name='encoder')"
   ]
  },
  {
   "cell_type": "code",
   "execution_count": null,
   "id": "be8c77f1-e707-4262-a465-98162a5e0816",
   "metadata": {},
   "outputs": [],
   "source": [
    "## decoder model for VAE+DNN\n",
    "def build_decoder(latent_dim, output_dim):\n",
    "    latent_inputs = layers.Input(shape=(latent_dim,))\n",
    "    x = layers.Dense(32, activation='relu')(latent_inputs)\n",
    "    x = layers.Dense(64, activation='relu')(x)\n",
    "    outputs = layers.Dense(output_dim)(x)\n",
    "    \n",
    "    return Model(latent_inputs, outputs, name='decoder')"
   ]
  },
  {
   "cell_type": "code",
   "execution_count": null,
   "id": "7231605a-2f78-4e33-8bec-c55b5d9470ce",
   "metadata": {},
   "outputs": [],
   "source": [
    "## VAE model\n",
    "class VAE(Model):\n",
    "    def __init__(self, encoder, decoder, **kwargs):\n",
    "        super(VAE, self).__init__(**kwargs)\n",
    "        self.encoder = encoder\n",
    "        self.decoder = decoder\n",
    "\n",
    "    def call(self, inputs):\n",
    "        z_mean, z_log_var, z = self.encoder(inputs)\n",
    "        reconstructed = self.decoder(z)\n",
    "        reconstruction_loss = mse(inputs, reconstructed) * input_dim\n",
    "        kl_loss = -0.5 * K.sum(1 + z_log_var - K.square(z_mean) - K.exp(z_log_var), axis=-1)\n",
    "        self.add_loss(K.mean(reconstruction_loss + kl_loss))\n",
    "        return reconstructed"
   ]
  },
  {
   "cell_type": "code",
   "execution_count": null,
   "id": "c1012129-9f54-4a34-917d-a42207f2ba75",
   "metadata": {},
   "outputs": [],
   "source": [
    "encoder = build_encoder(input_dim, latent_dim)\n",
    "decoder = build_decoder(latent_dim, input_dim)\n",
    "\n",
    "vae = VAE(encoder, decoder)\n",
    "vae.compile(optimizer=Adam())"
   ]
  },
  {
   "cell_type": "code",
   "execution_count": null,
   "id": "1044ea3d-e90d-4e7d-9041-1ef7c98f37f9",
   "metadata": {
    "scrolled": true
   },
   "outputs": [],
   "source": [
    "# VAE 모델 학습\n",
    "vae.fit(x_train, epochs=args_vaednn.epochs, batch_size=args_vaednn.bs, validation_split=0.2)"
   ]
  },
  {
   "cell_type": "code",
   "execution_count": null,
   "id": "757a2b94-7e50-45f8-a8d4-85f22c6d86bd",
   "metadata": {},
   "outputs": [],
   "source": [
    "## add fully-connected classifier at the back of the VAE model\n",
    "def build_vae_with_classifier(vae, input_dim):\n",
    "    vae_input = layers.Input(shape=(input_dim,))\n",
    "    vae_output = vae(vae_input)  # output from vae (reconstructed dataset)\n",
    "    \n",
    "    ## classifier defining\n",
    "    x = layers.Dense(64, activation='relu')(vae_output)\n",
    "    x = layers.Dense(32, activation='relu')(x)\n",
    "    classifier_output = layers.Dense(args_vaednn.num_classes, activation='softmax')(x)\n",
    "    \n",
    "    return Model(vae_input, classifier_output)\n",
    "\n",
    "## classifier \n",
    "opt = keras.optimizers.SGD(learning_rate = args.lr, decay = 1e-5, momentum = args.momentum)\n",
    "vae_with_classifier = build_vae_with_classifier(vae, input_dim)\n",
    "vae_with_classifier.compile(optimizer=opt, loss='categorical_crossentropy', metrics=['accuracy'])"
   ]
  },
  {
   "cell_type": "code",
   "execution_count": null,
   "id": "5e3f6096-cabb-448c-b30f-4f6e7002b5e7",
   "metadata": {},
   "outputs": [],
   "source": [
    "vae_with_classifier.summary()"
   ]
  },
  {
   "cell_type": "code",
   "execution_count": null,
   "id": "063904fe-cc22-4de7-be14-4a05a4fa03d0",
   "metadata": {
    "scrolled": true
   },
   "outputs": [],
   "source": [
    "## model training\n",
    "vae_with_classifier.fit(x_train, y_train, epochs=args_vaednn.epochs, batch_size=args_vaednn.bs)"
   ]
  },
  {
   "cell_type": "code",
   "execution_count": null,
   "id": "eeeeb4cd-29e7-48c3-bda9-3d928665715f",
   "metadata": {},
   "outputs": [],
   "source": []
  },
  {
   "cell_type": "code",
   "execution_count": null,
   "id": "90df496c-d5cf-4adc-8b09-eab52a4693cc",
   "metadata": {},
   "outputs": [],
   "source": []
  },
  {
   "cell_type": "markdown",
   "id": "63d546b2-33f4-4349-874a-13d36c92ce2d",
   "metadata": {},
   "source": [
    "***"
   ]
  },
  {
   "cell_type": "code",
   "execution_count": null,
   "id": "e7df0c46-1b8d-4985-bc8b-0e3cd54fc48c",
   "metadata": {},
   "outputs": [],
   "source": [
    "y_predict = vae_with_classifier.predict(x_test)\n",
    "y_predict = np.argmax(y_predict, axis = 1)\n",
    "y_test = np.argmax(y_test, axis = 1)\n",
    "\n",
    "result = confusion_matrix(y_test, y_predict, normalize = 'pred')\n",
    "print(result)"
   ]
  },
  {
   "cell_type": "code",
   "execution_count": null,
   "id": "71a67d98-9170-4b21-b59c-3ef8bcccc36e",
   "metadata": {},
   "outputs": [],
   "source": [
    "figure = plt.figure(figsize=(6, 4))\n",
    "sns.heatmap(result, annot=True,cmap=plt.cm.Blues)\n",
    "plt.tight_layout()\n",
    "plt.ylabel('True label')\n",
    "plt.xlabel('Predicted label')\n",
    "plt.show()"
   ]
  },
  {
   "cell_type": "code",
   "execution_count": null,
   "id": "91e40377-5c8e-42d3-8e97-2e5ceae43133",
   "metadata": {},
   "outputs": [],
   "source": [
    "accuracy = metrics.accuracy_score(y_test, y_predict)\n",
    "precision = metrics.precision_score(y_test, y_predict, average = 'macro')\n",
    "recall = metrics.recall_score(y_test, y_predict, average = 'micro')\n",
    "f1 = metrics.f1_score(y_test, y_predict, average = 'weighted')\n",
    "auc = roc_auc_score(y_test, vae_with_classifier.predict(x_test, verbose=0), multi_class='ovr')\n",
    "\n",
    "print(\"=============================================\")\n",
    "print(\"The overall accuracy is:\", round(accuracy, 4))\n",
    "print(\"The precision score is:\", round(precision, 4))\n",
    "print(\"The recall score is:\", round(recall, 4))\n",
    "print(\"The f1 score is:\", round(f1, 4))\n",
    "print(\"The AUC score is:\", round(auc, 4))\n",
    "print(\"=============================================\")"
   ]
  },
  {
   "cell_type": "code",
   "execution_count": null,
   "id": "73eed44c-d3cb-4a04-ad9c-b21209a3a6f2",
   "metadata": {},
   "outputs": [],
   "source": []
  },
  {
   "cell_type": "code",
   "execution_count": null,
   "id": "ce692b7e-2e4a-42e7-8236-a669894b9f36",
   "metadata": {},
   "outputs": [],
   "source": []
  },
  {
   "cell_type": "markdown",
   "id": "21069ae0-937f-4a18-ad43-654da784b4bd",
   "metadata": {},
   "source": [
    "## VAE + DNN v2"
   ]
  },
  {
   "cell_type": "markdown",
   "id": "0261d459-dc0f-4a18-8a87-2c4921416cc3",
   "metadata": {},
   "source": [
    "> This model is adding classifier after the encoder section"
   ]
  },
  {
   "cell_type": "markdown",
   "id": "33d762a4-d94b-43f1-a117-9c6bdd606424",
   "metadata": {},
   "source": [
    "### model"
   ]
  },
  {
   "cell_type": "code",
   "execution_count": null,
   "id": "103526f2-8cf0-4a4b-b4bb-516d8688a1bd",
   "metadata": {},
   "outputs": [],
   "source": [
    "input_dim = data_x.shape[1]\n",
    "latent_dim = 4"
   ]
  },
  {
   "cell_type": "code",
   "execution_count": null,
   "id": "6f35b5b3-62be-4f50-bc9b-94b0393afdb2",
   "metadata": {},
   "outputs": [],
   "source": [
    "def build_encoder(input_dim, latent_dim):\n",
    "    inputs = layers.Input(shape=(input_dim,))\n",
    "    x = layers.Dense(64, activation='relu')(inputs)\n",
    "    x = layers.Dense(32, activation='relu')(x)\n",
    "    x = layers.Dense(16, activation='relu')(x)\n",
    "    x = layers.Dense(8, activation='relu')(x)\n",
    "    z_mean = layers.Dense(latent_dim)(x)\n",
    "    z_log_var = layers.Dense(latent_dim)(x)\n",
    "\n",
    "    def sampling(args):\n",
    "        z_mean, z_log_var = args\n",
    "        epsilon = tf.random.normal(shape=(tf.shape(z_mean)[0], latent_dim))\n",
    "        return z_mean + tf.exp(0.5 * z_log_var) * epsilon\n",
    "\n",
    "    z = layers.Lambda(sampling, output_shape=(latent_dim,))([z_mean, z_log_var])\n",
    "    return models.Model(inputs, [z_mean, z_log_var, z], name=\"encoder\")"
   ]
  },
  {
   "cell_type": "code",
   "execution_count": null,
   "id": "a00b4e42-c1ee-41f8-b96f-a9c91a0e8c9c",
   "metadata": {},
   "outputs": [],
   "source": [
    "def build_decoder(latent_dim, output_dim):\n",
    "    latent_inputs = layers.Input(shape=(latent_dim,))\n",
    "    x = layers.Dense(8, activation='relu')(latent_inputs)\n",
    "    x = layers.Dense(16, activation='relu')(x)\n",
    "    x = layers.Dense(32, activation='relu')(x)\n",
    "    x = layers.Dense(64, activation='relu')(x)\n",
    "    outputs = layers.Dense(output_dim, activation='softmax')(x)\n",
    "    return models.Model(latent_inputs, outputs, name=\"decoder\")"
   ]
  },
  {
   "cell_type": "code",
   "execution_count": null,
   "id": "eb4a71a0-8c11-4449-a826-48d2b289c335",
   "metadata": {},
   "outputs": [],
   "source": [
    "def build_vae(encoder, decoder, input_dim):\n",
    "    inputs = layers.Input(shape=(input_dim,))\n",
    "    z_mean, z_log_var, z = encoder(inputs)\n",
    "    reconstructed = decoder(z)\n",
    "\n",
    "    reconstruction_loss = tf.reduce_mean(losses.binary_crossentropy(inputs, reconstructed))\n",
    "    kl_loss = -0.5 * tf.reduce_mean(1 + z_log_var - tf.square(z_mean) - tf.exp(z_log_var))\n",
    "    vae_loss = reconstruction_loss + kl_loss\n",
    "\n",
    "    vae = models.Model(inputs, reconstructed)\n",
    "    vae.add_loss(vae_loss)\n",
    "    vae.compile(optimizer='adam')\n",
    "    return vae"
   ]
  },
  {
   "cell_type": "code",
   "execution_count": null,
   "id": "0ef1cd50-1868-40b6-91f4-80c095779773",
   "metadata": {},
   "outputs": [],
   "source": [
    "def build_classifier(latent_dim, num_classes):\n",
    "    classifier_input = layers.Input(shape=(latent_dim,))\n",
    "    x = layers.Dense(64, activation='relu')(classifier_input)\n",
    "    x = layers.BatchNormalization()(x)\n",
    "    x = layers.Dense(128, activation='relu')(x)\n",
    "    x = layers.BatchNormalization()(x)\n",
    "    x = layers.Dropout(0.5)(x)\n",
    "    x = layers.Dense(128, activation='relu')(x)\n",
    "    x = layers.BatchNormalization()(x)\n",
    "    x = layers.Dropout(0.5)(x)\n",
    "    x = layers.Dense(64, activation='relu')(x)\n",
    "    x = layers.BatchNormalization()(x)\n",
    "    x = layers.Dense(32, activation='relu')(x)\n",
    "    classifier_output = layers.Dense(args_vaednn.num_classes, activation='softmax')(x)\n",
    "    \n",
    "    classifier = models.Model(classifier_input, classifier_output, name='classifier')\n",
    "    # classifier.compile(optimizer='adam', loss='sparse_categorical_crossentropy', metrics=['accuracy'])\n",
    "    classifier.compile(optimizer='adam', loss='categorical_crossentropy', metrics=['accuracy'])\n",
    "    return classifier"
   ]
  },
  {
   "cell_type": "code",
   "execution_count": null,
   "id": "6671e5f0-46cf-4280-aa81-19a43e8bdf60",
   "metadata": {
    "scrolled": true
   },
   "outputs": [],
   "source": [
    "encoder = build_encoder(input_dim, latent_dim)\n",
    "decoder = build_decoder(latent_dim, input_dim)\n",
    "vae = build_vae(encoder, decoder, input_dim)\n",
    "\n",
    "vae.fit(x_train, epochs=args_vaednn.epochs, batch_size=args_vaednn.bs)"
   ]
  },
  {
   "cell_type": "code",
   "execution_count": null,
   "id": "8a6eb94b-ac99-4a8d-8f34-36824566dcb6",
   "metadata": {
    "scrolled": true
   },
   "outputs": [],
   "source": [
    "z_train = encoder.predict(x_train)[2]\n",
    "\n",
    "classifier = build_classifier(latent_dim, args_vaednn.num_classes)\n",
    "classifier.fit(z_train, y_train, epochs=args_vaednn.epochs, batch_size=args_vaednn.bs)"
   ]
  },
  {
   "cell_type": "code",
   "execution_count": null,
   "id": "f7b1a9e0-7143-4aff-b065-f8456beac6a5",
   "metadata": {},
   "outputs": [],
   "source": [
    "# encoder.predict(x_test)[2]"
   ]
  },
  {
   "cell_type": "code",
   "execution_count": null,
   "id": "407d22b2-c693-44ed-8bf9-bf5fe1d668bc",
   "metadata": {},
   "outputs": [],
   "source": []
  },
  {
   "cell_type": "markdown",
   "id": "4c70769e-af35-4193-b399-10588106da4d",
   "metadata": {},
   "source": [
    "***"
   ]
  },
  {
   "cell_type": "code",
   "execution_count": null,
   "id": "4caff1e4-2566-48de-a1c9-189dc91abd83",
   "metadata": {},
   "outputs": [],
   "source": [
    "z_test = encoder.predict(x_test)[2]"
   ]
  },
  {
   "cell_type": "code",
   "execution_count": null,
   "id": "23789d16-135c-4cdb-8a51-6dd09256630d",
   "metadata": {},
   "outputs": [],
   "source": [
    "y_predict = classifier.predict(z_test)"
   ]
  },
  {
   "cell_type": "code",
   "execution_count": null,
   "id": "0f745702-f63f-44bf-9f7b-0643cd412c21",
   "metadata": {
    "scrolled": true
   },
   "outputs": [],
   "source": [
    "y_predict = np.argmax(y_predict, axis = 1)"
   ]
  },
  {
   "cell_type": "code",
   "execution_count": null,
   "id": "026cac00-5a51-4989-be5d-ca51773d3e97",
   "metadata": {},
   "outputs": [],
   "source": [
    "y_test"
   ]
  },
  {
   "cell_type": "code",
   "execution_count": null,
   "id": "82d25d49-2498-4466-b35b-ffb30be49e1d",
   "metadata": {},
   "outputs": [],
   "source": [
    "z_test = encoder.predict(x_test)[2]\n",
    "\n",
    "y_predict = classifier.predict(z_test)\n",
    "y_predict = np.argmax(y_predict, axis = 1)\n",
    "# y_test = np.argmax(y_test, axis = 1)\n",
    "\n",
    "result = confusion_matrix(y_test, y_predict, normalize = 'pred')\n",
    "print(result)"
   ]
  },
  {
   "cell_type": "code",
   "execution_count": null,
   "id": "4512b0f1-fc8f-4d19-bb7b-d12ce4c6c151",
   "metadata": {},
   "outputs": [],
   "source": [
    "figure = plt.figure(figsize=(6, 4))\n",
    "sns.heatmap(result, annot=True,cmap=plt.cm.Blues)\n",
    "plt.tight_layout()\n",
    "plt.ylabel('True label')\n",
    "plt.xlabel('Predicted label')\n",
    "plt.show()"
   ]
  },
  {
   "cell_type": "code",
   "execution_count": null,
   "id": "31507219-7be2-4b34-abb6-dcdfbb3d6040",
   "metadata": {},
   "outputs": [],
   "source": [
    "accuracy = metrics.accuracy_score(y_test, y_predict)\n",
    "precision = metrics.precision_score(y_test, y_predict, average = 'macro')\n",
    "recall = metrics.recall_score(y_test, y_predict, average = 'micro')\n",
    "f1 = metrics.f1_score(y_test, y_predict, average = 'weighted')\n",
    "auc = roc_auc_score(y_test, vae_with_classifier.predict(x_test, verbose=0), multi_class='ovr')\n",
    "\n",
    "print(\"=============================================\")\n",
    "print(\"The overall accuracy is:\", round(accuracy, 4))\n",
    "print(\"The precision score is:\", round(precision, 4))\n",
    "print(\"The recall score is:\", round(recall, 4))\n",
    "print(\"The f1 score is:\", round(f1, 4))\n",
    "print(\"The AUC score is:\", round(auc, 4))\n",
    "print(\"=============================================\")"
   ]
  },
  {
   "cell_type": "code",
   "execution_count": null,
   "id": "a875cf9d-03a3-4e4f-8cd0-1393f4d31e7d",
   "metadata": {},
   "outputs": [],
   "source": []
  },
  {
   "cell_type": "code",
   "execution_count": null,
   "id": "ee251595-9b46-42bc-a707-69093fe2ef4f",
   "metadata": {},
   "outputs": [],
   "source": []
  }
 ],
 "metadata": {
  "kernelspec": {
   "display_name": "Python 3 (ipykernel)",
   "language": "python",
   "name": "python3"
  },
  "language_info": {
   "codemirror_mode": {
    "name": "ipython",
    "version": 3
   },
   "file_extension": ".py",
   "mimetype": "text/x-python",
   "name": "python",
   "nbconvert_exporter": "python",
   "pygments_lexer": "ipython3",
   "version": "3.8.20"
  }
 },
 "nbformat": 4,
 "nbformat_minor": 5
}
