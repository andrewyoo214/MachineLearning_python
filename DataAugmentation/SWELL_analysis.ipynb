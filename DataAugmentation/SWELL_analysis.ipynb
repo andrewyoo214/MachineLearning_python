{
 "cells": [
  {
   "cell_type": "markdown",
   "id": "91d59409-a684-4b5a-bfec-98d1f4b78f7b",
   "metadata": {},
   "source": [
    "# SWELL - stress dataset"
   ]
  },
  {
   "cell_type": "code",
   "execution_count": null,
   "id": "66fc7e3e-e135-46c2-b6d2-af61dec8eca0",
   "metadata": {},
   "outputs": [],
   "source": [
    "import os\n",
    "import time\n",
    "# import shap ## for XAI\n",
    "import numpy as np\n",
    "import pandas as pd\n",
    "import seaborn as sns\n",
    "# import pingouin as pg\n",
    "import matplotlib.pyplot as plt\n",
    "import sklearn.metrics as metrics"
   ]
  },
  {
   "cell_type": "code",
   "execution_count": null,
   "id": "74b0638b-d6be-43f1-8045-45ebd4845774",
   "metadata": {},
   "outputs": [],
   "source": [
    "from numpy import dot\n",
    "from numpy.linalg import norm\n",
    "\n",
    "from keras.models import Sequential\n",
    "from keras.layers import Dense , Dropout , Lambda, Flatten\n",
    "from keras.layers import Dense , Activation, Dropout, BatchNormalization\n",
    "from keras.optimizers import Adam ,RMSprop\n",
    "from keras.callbacks import Callback\n",
    "\n",
    "from scipy.special import rel_entr\n",
    "from scipy.stats import gaussian_kde\n",
    "from scipy.spatial.distance import jensenshannon\n",
    "\n",
    "from sklearn.model_selection import train_test_split, StratifiedKFold, KFold, train_test_split, ParameterGrid\n",
    "from sklearn import decomposition, metrics\n",
    "from sklearn.cluster import KMeans\n",
    "from sklearn.metrics import cohen_kappa_score,f1_score, confusion_matrix, roc_auc_score\n",
    "from sklearn.inspection import permutation_importance\n",
    "from sklearn.preprocessing import Normalizer, MinMaxScaler, RobustScaler\n",
    "from sklearn.feature_selection import RFE\n",
    "from sklearn.svm import SVR\n",
    "from sklearn.impute import KNNImputer\n",
    "from sklearn.manifold import TSNE\n",
    "\n",
    "from tensorflow.keras.utils import to_categorical\n",
    "from tensorflow import keras\n",
    "from tensorflow.keras.callbacks import LearningRateScheduler, EarlyStopping, ReduceLROnPlateau\n",
    "from tensorflow.keras.layers import Input, Dense, Lambda, Conv1D, Flatten, Reshape, UpSampling1D\n",
    "from tensorflow.keras.models import Model\n",
    "from tensorflow.keras import layers, models, losses, backend as K\n",
    "from tensorflow.keras.losses import mse, MeanSquaredError"
   ]
  },
  {
   "cell_type": "code",
   "execution_count": null,
   "id": "a3ed8459-ae7f-49d0-ad6e-bf0df6280521",
   "metadata": {},
   "outputs": [],
   "source": [
    "os.environ[\"CUDA_VISIBLE_DEVICES\"] = \"0\""
   ]
  },
  {
   "cell_type": "code",
   "execution_count": null,
   "id": "3c90891a-b1c6-4af2-967f-57db130a4dc5",
   "metadata": {},
   "outputs": [],
   "source": [
    "import tensorflow as tf \n",
    "from tensorflow.python.client import device_lib\n",
    "\n",
    "print(device_lib.list_local_devices())"
   ]
  },
  {
   "cell_type": "code",
   "execution_count": null,
   "id": "5f0f4e79-123f-4121-9a2d-3dd9cf477ed9",
   "metadata": {},
   "outputs": [],
   "source": []
  },
  {
   "cell_type": "markdown",
   "id": "e5152144-f81a-4c73-8759-101c786f4d44",
   "metadata": {},
   "source": [
    "## Data Check"
   ]
  },
  {
   "cell_type": "code",
   "execution_count": null,
   "id": "a25d3198-720a-4bf9-8f59-3d5aa5856dcd",
   "metadata": {},
   "outputs": [],
   "source": [
    "data_ori = pd.read_csv('E:/RESEARCH/Datasets/bio_data/hrv_eda/2. final/datasets/hrv/swell/combined/classification/swell_hrv.csv')"
   ]
  },
  {
   "cell_type": "code",
   "execution_count": null,
   "id": "8879e07e-1b60-48f4-a457-5e99733ffe18",
   "metadata": {},
   "outputs": [],
   "source": [
    "### data shape, variables check\n",
    "print(\"The shape of the original SWELL HRV dataset is:\", data_ori.shape)\n",
    "print(data_ori.columns)\n",
    "# data_ori.head()"
   ]
  },
  {
   "cell_type": "markdown",
   "id": "03c47088-a2a5-4ed3-a834-6f904e340ec0",
   "metadata": {},
   "source": [
    "> Target label is \"condition\" variable. \\\n",
    "> no stress,  time pressur and = interruption"
   ]
  },
  {
   "cell_type": "code",
   "execution_count": null,
   "id": "f23e5ac8-1df9-4cfd-8008-20b6fb09579d",
   "metadata": {},
   "outputs": [],
   "source": []
  },
  {
   "cell_type": "markdown",
   "id": "bc9c866a-a026-4b88-adbe-d3620ca4b6fd",
   "metadata": {},
   "source": [
    "* Labeling check"
   ]
  },
  {
   "cell_type": "code",
   "execution_count": null,
   "id": "ebc02eb7-32b6-4920-a16f-53db5cf77060",
   "metadata": {},
   "outputs": [],
   "source": [
    "data_ori[\"condition\"].value_counts()"
   ]
  },
  {
   "cell_type": "code",
   "execution_count": null,
   "id": "fa48f1aa-d276-47e3-b286-8847cec90b94",
   "metadata": {},
   "outputs": [],
   "source": []
  },
  {
   "cell_type": "markdown",
   "id": "379ddfb1-9e17-4d0d-b07a-c0f44fd53307",
   "metadata": {},
   "source": [
    "***"
   ]
  },
  {
   "cell_type": "markdown",
   "id": "bc765424-1964-477a-af80-c99fa74d0dfc",
   "metadata": {},
   "source": [
    "### NA handling"
   ]
  },
  {
   "cell_type": "markdown",
   "id": "25ae40f6-9b9b-4e1c-ba54-a1a141b72ad0",
   "metadata": {},
   "source": [
    "> Drop only rows with NA in target_info column. \\\n",
    "> Data row without diagnosed target_info is difficult to use."
   ]
  },
  {
   "cell_type": "code",
   "execution_count": null,
   "id": "6ad72244-1122-430a-b50c-0baf97e4d204",
   "metadata": {},
   "outputs": [],
   "source": [
    "print(\"Data row that has no target information is:\", data_ori['condition'].isna().sum())"
   ]
  },
  {
   "cell_type": "code",
   "execution_count": null,
   "id": "2cd3f91b-5586-4f8b-b89f-336c56fb59b8",
   "metadata": {},
   "outputs": [],
   "source": [
    "data_ori = data_ori.dropna(subset = ['condition'], how='any', axis=0)"
   ]
  },
  {
   "cell_type": "code",
   "execution_count": null,
   "id": "bc30a651-28c2-4c85-a2cb-87567c1b3294",
   "metadata": {},
   "outputs": [],
   "source": [
    "data_ori.shape"
   ]
  },
  {
   "cell_type": "code",
   "execution_count": null,
   "id": "1c9cb04f-6a55-4a5f-b47d-c1b2825ee148",
   "metadata": {},
   "outputs": [],
   "source": []
  },
  {
   "cell_type": "markdown",
   "id": "a1cbf40c-9c08-4ba0-a3ef-0b16f9e2e44f",
   "metadata": {},
   "source": [
    "***"
   ]
  },
  {
   "cell_type": "markdown",
   "id": "5333e97d-0bd4-4e7d-929b-fd6dccee21eb",
   "metadata": {},
   "source": [
    "### Reducing dataset size"
   ]
  },
  {
   "cell_type": "code",
   "execution_count": null,
   "id": "5afd208f-2c61-4929-aeed-4d2bfe09e560",
   "metadata": {},
   "outputs": [],
   "source": [
    "# df_reduced = data_ori.groupby('condition').head(3000)"
   ]
  },
  {
   "cell_type": "code",
   "execution_count": null,
   "id": "2e1ed97d-31be-4e76-8971-7f0518793038",
   "metadata": {},
   "outputs": [],
   "source": [
    "df_reduced = data_ori.groupby('condition').apply(lambda x: x.sample(500)).reset_index(drop=True)"
   ]
  },
  {
   "cell_type": "code",
   "execution_count": null,
   "id": "eb190424-51eb-429b-8611-07a52b0b5f88",
   "metadata": {},
   "outputs": [],
   "source": [
    "df_reduced['condition'].value_counts()"
   ]
  },
  {
   "cell_type": "code",
   "execution_count": null,
   "id": "59c8e9e8-341f-44be-832d-3034d5fc337f",
   "metadata": {},
   "outputs": [],
   "source": []
  },
  {
   "cell_type": "markdown",
   "id": "4b080b08-12cd-404d-8a09-649b222821cf",
   "metadata": {},
   "source": [
    "---"
   ]
  },
  {
   "cell_type": "markdown",
   "id": "f3aebed8-cc60-46b7-a042-ff7647684c4e",
   "metadata": {
    "jp-MarkdownHeadingCollapsed": true
   },
   "source": [
    "### JSD for meaningful variable extraction"
   ]
  },
  {
   "cell_type": "code",
   "execution_count": null,
   "id": "bad1566f-cc59-4ef9-87a9-fed6c5465b14",
   "metadata": {},
   "outputs": [],
   "source": [
    "data_vis = df_reduced.copy()"
   ]
  },
  {
   "cell_type": "code",
   "execution_count": null,
   "id": "ff758f65-b180-4805-a299-bba814714dc8",
   "metadata": {},
   "outputs": [],
   "source": [
    "data_vis = data_vis.drop(['condition'], axis=1)\n",
    "features = [col for col in list(data_vis.columns)]"
   ]
  },
  {
   "cell_type": "code",
   "execution_count": null,
   "id": "40a57aa1-1da0-4ba4-af59-99637d399ee3",
   "metadata": {},
   "outputs": [],
   "source": [
    "# def jsd_multiple_distributions(*distributions):\n",
    "#     num_distributions = len(distributions)\n",
    "#     average_distribution = np.mean(distributions, axis=0)\n",
    "#     jsd = 0\n",
    "#     for dist in distributions:\n",
    "#         jsd += jensenshannon(dist, average_distribution) ** 2\n",
    "#     jsd /= num_distributions\n",
    "#     return np.sqrt(jsd)"
   ]
  },
  {
   "cell_type": "code",
   "execution_count": null,
   "id": "7feacd61-95e7-412d-b92f-3d1e8fffeeaa",
   "metadata": {
    "scrolled": true
   },
   "outputs": [],
   "source": [
    "## list to append distributional differences\n",
    "variable = []\n",
    "diff01 = []\n",
    "diff02 = []\n",
    "diff03 = []\n",
    "diff12 = []\n",
    "diff13 = []\n",
    "diff23 = []\n",
    "# diff123 = []\n",
    "# diff0123 = []\n",
    "\n",
    "for feature in features:\n",
    "    ## deleting any NA values in each feature column, for distance calculation\n",
    "    data = data_vis.dropna(subset=[feature])\n",
    "\n",
    "    ## split the dataset into each classes\n",
    "    df0 = data[data['target_info']==\"control\"]\n",
    "    df1 = data[data['target_info']==\"mdd\"]\n",
    "    df2 = data[data['target_info']==\"bpi\"]\n",
    "    df3 = data[data['target_info']==\"bpii\"]\n",
    "\n",
    "    df0 = df0.drop(['target_info'], axis=1)\n",
    "    df1 = df1.drop(['target_info'], axis=1)\n",
    "    df2 = df2.drop(['target_info'], axis=1)\n",
    "    df3 = df3.drop(['target_info'], axis=1)\n",
    "    \n",
    "    df0_values = df0[feature]\n",
    "    df1_values = df1[feature]\n",
    "    df2_values = df2[feature]\n",
    "    df3_values = df3[feature]\n",
    "\n",
    "    ## sampling based on the minimum size of the target info.\n",
    "    sample_size = (min(df0_values.shape[0], df1_values.shape[0], df2_values.shape[0], df3_values.shape[0]))\n",
    "    df0_sample = df0_values.sample(n=(sample_size))\n",
    "    df1_sample = df1_values.sample(n=(sample_size))\n",
    "    df2_sample = df2_values.sample(n=(sample_size))\n",
    "    df3_sample = df3_values.sample(n=(sample_size))\n",
    "\n",
    "    ## calculating distribution using histogram\n",
    "    hist0, bin_edges0 = np.histogram(df0_sample, bins=30, density=True)\n",
    "    hist1, bin_edges1 = np.histogram(df1_sample, bins=30, density=True)\n",
    "    hist2, bin_edges2 = np.histogram(df2_sample, bins=30, density=True)\n",
    "    hist3, bin_edges3 = np.histogram(df3_sample, bins=30, density=True)\n",
    "\n",
    "    ## standardize the probability distribution\n",
    "    h0 = hist0 / np.sum(hist0)\n",
    "    h1 = hist1 / np.sum(hist1)\n",
    "    h2 = hist2 / np.sum(hist2)\n",
    "    h3 = hist3 / np.sum(hist3)\n",
    "\n",
    "    ## jensen-shannon divergence calculation and append\n",
    "    variable.append(feature)\n",
    "    diff01.append(jensenshannon(h0, h1))\n",
    "    diff02.append(jensenshannon(h0, h2))\n",
    "    diff03.append(jensenshannon(h0, h3))\n",
    "    diff12.append(jensenshannon(h1, h2))\n",
    "    diff13.append(jensenshannon(h1, h3))\n",
    "    diff23.append(jensenshannon(h2, h3))\n",
    "    # diff123.append(jsd_multiple_distributions(h1, h2, h3))\n",
    "    # diff0123.append(jsd_multiple_distributions(h0, h1, h2, h3))"
   ]
  },
  {
   "cell_type": "code",
   "execution_count": null,
   "id": "18ca1442-23a2-4be2-b195-01001a5701f4",
   "metadata": {},
   "outputs": [],
   "source": [
    "jsd_differences = pd.DataFrame({'JSD01':diff01, 'JSD02':diff02, 'JSD03':diff03, 'JSD12':diff12, 'JSD13':diff13, 'JSD23':diff23})\n",
    "# jsd_differences = pd.DataFrame({'variable':variable, 'JSD01':diff01, 'JSD02':diff02, 'JSD03':diff03, 'JSD12':diff12, 'JSD13':diff13, 'JSD23':diff23})\n",
    "# jsd_differences = pd.DataFrame({'variable':variable, 'JSD01':diff01, 'JSD02':diff02, 'JSD03':diff03, 'JSD12':diff12, 'JSD13':diff13, 'JSD23':diff23, \n",
    "#                                'JSD123':diff123, 'JSD0123':diff0123})"
   ]
  },
  {
   "cell_type": "code",
   "execution_count": null,
   "id": "9c934e6f-aa02-4b1b-8d67-b947699c9b67",
   "metadata": {},
   "outputs": [],
   "source": [
    "jsd_differences.head()"
   ]
  },
  {
   "cell_type": "code",
   "execution_count": null,
   "id": "3f2f1265-9a6c-4b92-aeff-79a652055be8",
   "metadata": {},
   "outputs": [],
   "source": [
    "# definition to check for all row, whether one or more value is bigger than 0.2\n",
    "def check_jsd(row):\n",
    "    return 'yes' if any(row >= 0.3) else 'no'\n",
    "\n",
    "# using apply method to create new column 'result'\n",
    "jsd_differences['result'] = jsd_differences.apply(check_jsd, axis=1)"
   ]
  },
  {
   "cell_type": "code",
   "execution_count": null,
   "id": "4689de22-34ef-4eb7-8e62-258c47864f5c",
   "metadata": {},
   "outputs": [],
   "source": [
    "jsd_differences['mean'] = jsd_differences[['JSD01','JSD02','JSD03','JSD12','JSD13','JSD23']].mean(axis=1)"
   ]
  },
  {
   "cell_type": "code",
   "execution_count": null,
   "id": "6cd26b61-ce39-45a2-9555-f71529766704",
   "metadata": {},
   "outputs": [],
   "source": [
    "jsd_differences.head()"
   ]
  },
  {
   "cell_type": "code",
   "execution_count": null,
   "id": "6d8047e2-bfa3-48fc-b0b5-af54b6b79e7b",
   "metadata": {},
   "outputs": [],
   "source": [
    "jsd_differences['variable'] = variable"
   ]
  },
  {
   "cell_type": "code",
   "execution_count": null,
   "id": "056ae1c8-3e9b-4bc2-afbb-4c067a39e3b1",
   "metadata": {},
   "outputs": [],
   "source": [
    "# jsd_big_diff = jsd_differences[jsd_differences['mean']>0.3]\n",
    "# jsd_big_diff = jsd_differences[jsd_differences['JSD123']>0.3]\n",
    "jsd_big_diff = jsd_differences[jsd_differences['result']=='yes']"
   ]
  },
  {
   "cell_type": "code",
   "execution_count": null,
   "id": "f71fbf75-e3a3-4d46-ae23-0cbe4ab93f94",
   "metadata": {},
   "outputs": [],
   "source": [
    "big_diff_columns = jsd_big_diff['variable']"
   ]
  },
  {
   "cell_type": "code",
   "execution_count": null,
   "id": "1c532098-0f53-4a24-9e76-ee5e903a70e0",
   "metadata": {},
   "outputs": [],
   "source": [
    "big_diff_columns = jsd_big_diff['variable'].values.tolist()"
   ]
  },
  {
   "cell_type": "code",
   "execution_count": null,
   "id": "e1017123-1adb-4d2b-a6ff-e2e11f277904",
   "metadata": {},
   "outputs": [],
   "source": [
    "# print(big_diff_columns)"
   ]
  },
  {
   "cell_type": "code",
   "execution_count": null,
   "id": "45ab64e9-6e3d-4efc-b89c-f1f9c4f912d2",
   "metadata": {},
   "outputs": [],
   "source": [
    "len(big_diff_columns)"
   ]
  },
  {
   "cell_type": "code",
   "execution_count": null,
   "id": "c18f8bd5-75b7-4205-ba54-727145cb4035",
   "metadata": {},
   "outputs": [],
   "source": [
    "len(data_vis.columns)"
   ]
  },
  {
   "cell_type": "markdown",
   "id": "9a0e5d55-fbc5-4ea4-a3aa-edde732ba3bf",
   "metadata": {},
   "source": [
    "> We can check that there are 27 variables lacks distributional distance between target groups"
   ]
  },
  {
   "cell_type": "code",
   "execution_count": null,
   "id": "c57c0a3c-8652-4f3e-ac68-246f8c8a4204",
   "metadata": {},
   "outputs": [],
   "source": []
  },
  {
   "cell_type": "markdown",
   "id": "6cb735d6-8d5b-4d39-a870-f600b91bd7fa",
   "metadata": {},
   "source": [
    "***"
   ]
  },
  {
   "cell_type": "markdown",
   "id": "e7c74e34-2227-44c0-a3cd-f4e906c7a339",
   "metadata": {},
   "source": [
    "---"
   ]
  },
  {
   "cell_type": "markdown",
   "id": "87e961fa-f1fe-4373-9937-a6f427750686",
   "metadata": {
    "jp-MarkdownHeadingCollapsed": true
   },
   "source": [
    "## Support Vector Machine"
   ]
  },
  {
   "cell_type": "code",
   "execution_count": null,
   "id": "5552663e-47da-4532-bd80-a5072d85f96e",
   "metadata": {},
   "outputs": [],
   "source": [
    "data = data_fill_s8.copy()"
   ]
  },
  {
   "cell_type": "code",
   "execution_count": null,
   "id": "dfb8c733-037d-4150-8bd7-14c65f8a5099",
   "metadata": {},
   "outputs": [],
   "source": [
    "data_x = data.drop(['subject_info', 'birth_info', 'target_info', 'sex_info', 'age_info', 'family_hx_info'], axis=1)\n",
    "data_y = data.loc[:,[\"target_info\"]]"
   ]
  },
  {
   "cell_type": "code",
   "execution_count": null,
   "id": "0e2a3d24-d20e-4521-86d0-c4820ac4f0bc",
   "metadata": {},
   "outputs": [],
   "source": [
    "## this is for selecting variables with JSDivergence big differences\n",
    "data_x = data_x[big_diff_columns]"
   ]
  },
  {
   "cell_type": "code",
   "execution_count": null,
   "id": "472f6ca2-e3f8-4bbc-8396-ec966eb167db",
   "metadata": {},
   "outputs": [],
   "source": [
    "data_x = data_x.fillna(data_x.mean())"
   ]
  },
  {
   "cell_type": "code",
   "execution_count": null,
   "id": "00b7858b-1324-43a1-b377-7bda8423072f",
   "metadata": {},
   "outputs": [],
   "source": [
    "########## FULL GROUP CLASSIFICATION ##########\n",
    "label = data_y\n",
    "label = label.replace({'control':0})\n",
    "label = label.replace({'mdd': 1})\n",
    "label = label.replace({'bpi': 2})\n",
    "label = label.replace({'bpii': 3})\n",
    "\n",
    "# y = to_categorical(label, 4) ## into the format of one-hot encoding\n",
    "y = label"
   ]
  },
  {
   "cell_type": "code",
   "execution_count": null,
   "id": "19a61735-608e-4f59-888b-26c84937c66a",
   "metadata": {},
   "outputs": [],
   "source": [
    "x = data_x"
   ]
  },
  {
   "cell_type": "code",
   "execution_count": null,
   "id": "0cd5ab2d-bec4-4286-8a4e-299451e50ba2",
   "metadata": {},
   "outputs": [],
   "source": [
    "x_train, x_test, y_train, y_test = train_test_split(x, y, test_size = 0.3, random_state = 710674)"
   ]
  },
  {
   "cell_type": "code",
   "execution_count": null,
   "id": "413e53f4-8950-45ee-9973-a94e28f3103f",
   "metadata": {},
   "outputs": [],
   "source": []
  },
  {
   "cell_type": "markdown",
   "id": "63d06068-0973-486f-82db-b1d19b23ae34",
   "metadata": {},
   "source": [
    "* Support vector machine algorithm"
   ]
  },
  {
   "cell_type": "code",
   "execution_count": null,
   "id": "b636f1ac-f9dc-4edf-9a8c-8797c611268d",
   "metadata": {
    "scrolled": true
   },
   "outputs": [],
   "source": [
    "from sklearn import svm\n",
    "\n",
    "svm_correct = []\n",
    "for i in range(250):\n",
    "    clf = svm.SVC(random_state=710674, \n",
    "                  #class_weight=rf_class_w_dict,\n",
    "                  kernel ='poly',\n",
    "                  max_iter=i,\n",
    "                  verbose=3\n",
    "                 )    \n",
    "    clf.fit(x_train, y_train)\n",
    "    predictions = clf.predict(x_test).reshape(x_test.shape[0],1)\n",
    "    test_correct = (predictions == y_test, 1)[0].sum().item()\n",
    "    test_correct /= len(y_test)\n",
    "\n",
    "    print(test_correct)\n",
    "    svm_correct.append(test_correct)"
   ]
  },
  {
   "cell_type": "code",
   "execution_count": null,
   "id": "33ada234-8140-4a59-8564-4f3402ce175f",
   "metadata": {},
   "outputs": [],
   "source": [
    "max(svm_correct)"
   ]
  },
  {
   "cell_type": "code",
   "execution_count": null,
   "id": "add55075-cee0-4f75-96d0-bae9c283b299",
   "metadata": {},
   "outputs": [],
   "source": []
  },
  {
   "cell_type": "code",
   "execution_count": null,
   "id": "96130773-8d03-48c0-b453-e31c595a8ea2",
   "metadata": {},
   "outputs": [],
   "source": []
  },
  {
   "cell_type": "code",
   "execution_count": null,
   "id": "ca1edf6a-6fa6-4cc4-9132-8778265b61d5",
   "metadata": {},
   "outputs": [],
   "source": []
  },
  {
   "cell_type": "markdown",
   "id": "63d47beb-ae97-4933-8441-e09e9f5f9dbd",
   "metadata": {},
   "source": [
    "***"
   ]
  },
  {
   "cell_type": "markdown",
   "id": "b7cfde78-f81f-4ae3-becc-a2d2ac462d18",
   "metadata": {},
   "source": [
    "## Normal DNN"
   ]
  },
  {
   "cell_type": "code",
   "execution_count": null,
   "id": "3a698cd0-8b78-4e2e-8af5-86092ce805ac",
   "metadata": {},
   "outputs": [],
   "source": [
    "data = df_reduced"
   ]
  },
  {
   "cell_type": "code",
   "execution_count": null,
   "id": "ed3fff30-90cf-44d4-8c13-fdd0bde33524",
   "metadata": {},
   "outputs": [],
   "source": [
    "data.columns"
   ]
  },
  {
   "cell_type": "markdown",
   "id": "e9331167-23e5-4d2f-bfa5-502229cb0208",
   "metadata": {},
   "source": [
    "* Deleting all NA values"
   ]
  },
  {
   "cell_type": "code",
   "execution_count": null,
   "id": "48ca78ea-5b98-448d-ad9a-cf6fca2e1334",
   "metadata": {},
   "outputs": [],
   "source": [
    "class Args:\n",
    "    # arugments\n",
    "    epochs=200\n",
    "    bs=64\n",
    "    lr=0.0001\n",
    "    momentum=0.9\n",
    "    num_classes= 3\n",
    "    verbose='store_true'\n",
    "    seed=710674\n",
    "\n",
    "args = Args()\n",
    "\n",
    "# np.random.seed(args.seed)\n",
    "# random.seed(args.seed)\n",
    "# torch.manual_seed(args.seed)"
   ]
  },
  {
   "cell_type": "code",
   "execution_count": null,
   "id": "4b712496-a537-4f51-b0f4-5805a5938aad",
   "metadata": {},
   "outputs": [],
   "source": [
    "data_x = data.drop(['condition'], axis=1)\n",
    "data_y = data.loc[:,[\"condition\"]]"
   ]
  },
  {
   "cell_type": "code",
   "execution_count": null,
   "id": "53204880-350f-4bdc-ba21-397a00aed5f1",
   "metadata": {
    "scrolled": true
   },
   "outputs": [],
   "source": [
    "## this is for selecting variables with JSDivergence big differences\n",
    "# data_x = data_x[big_diff_columns]\n",
    "\n",
    "## this is for selecting variables without JSDivergence big differences\n",
    "# data_x = data_x.drop(big_diff_columns, axis=1)"
   ]
  },
  {
   "cell_type": "code",
   "execution_count": null,
   "id": "98681042-ec18-409c-95a0-90ed5e06daf5",
   "metadata": {},
   "outputs": [],
   "source": []
  },
  {
   "cell_type": "markdown",
   "id": "cf0006bd-13a2-4bf2-a7b4-8a707c447434",
   "metadata": {},
   "source": [
    "* Filling NA values with mean values"
   ]
  },
  {
   "cell_type": "code",
   "execution_count": null,
   "id": "37d1955f-45f0-4ebc-8c85-855727e18184",
   "metadata": {},
   "outputs": [],
   "source": [
    "data_y.value_counts()"
   ]
  },
  {
   "cell_type": "code",
   "execution_count": null,
   "id": "2d474c33-5b30-47db-9bd8-1bc98ca01b7c",
   "metadata": {},
   "outputs": [],
   "source": [
    "########## FULL GROUP CLASSIFICATION ##########\n",
    "label = data_y\n",
    "label = label.replace({'interruption':0})\n",
    "label = label.replace({'no stress': 1})\n",
    "label = label.replace({'time pressure': 2})\n",
    "\n",
    "y = to_categorical(label, 3) ## into the format of one-hot encoding"
   ]
  },
  {
   "cell_type": "code",
   "execution_count": null,
   "id": "3cae175f-2a73-4e71-9fab-12908a1c7478",
   "metadata": {},
   "outputs": [],
   "source": [
    "x = data_x"
   ]
  },
  {
   "cell_type": "code",
   "execution_count": null,
   "id": "84c91923-dbe5-49f7-bfd4-833877e54cda",
   "metadata": {},
   "outputs": [],
   "source": [
    "scaler = MinMaxScaler() #set the scaler (between 0 and 1)\n",
    "# scaler = RobustScaler()\n",
    "x[:] = scaler.fit_transform(x[:])\n",
    "x = x.round(decimals=6)"
   ]
  },
  {
   "cell_type": "code",
   "execution_count": null,
   "id": "73fa90ed-0c10-4630-9766-ee8f841e91da",
   "metadata": {},
   "outputs": [],
   "source": [
    "x_train, x_test, y_train, y_test = train_test_split(x, y, test_size = 0.3, random_state = 710674)"
   ]
  },
  {
   "cell_type": "code",
   "execution_count": null,
   "id": "bdd7af99-bde8-42b8-95da-ba2311f7789d",
   "metadata": {},
   "outputs": [],
   "source": [
    "print(\"The size of training dataset is:\", x_train.shape[0])\n",
    "print(\"The size of test dataset is:\", x_test.shape[0])"
   ]
  },
  {
   "cell_type": "code",
   "execution_count": null,
   "id": "0e0980e3-6b69-47d1-851d-b56c1e617f85",
   "metadata": {},
   "outputs": [],
   "source": [
    "############## FOR FOUR-GROUP CLASSIFICATION ###############\n",
    "class_weight = {0:1, 1:1, 2:1}"
   ]
  },
  {
   "cell_type": "code",
   "execution_count": null,
   "id": "4cb226af-04e6-447f-8e1c-a527af99e559",
   "metadata": {},
   "outputs": [],
   "source": [
    "data_x.shape"
   ]
  },
  {
   "cell_type": "code",
   "execution_count": null,
   "id": "99055873-2e54-4cee-8c3f-bc44f3d2a501",
   "metadata": {},
   "outputs": [],
   "source": [
    "#### Generate the model\n",
    "## this model is adequate for full variables usage\n",
    "model = Sequential()\n",
    "model.add(Dense(64, input_dim = x_train.shape[1], activation = 'relu'))\n",
    "model.add(BatchNormalization())\n",
    "model.add(Activation('relu'))\n",
    "model.add(Dense(128, activation = 'relu'))\n",
    "model.add(BatchNormalization())\n",
    "model.add(Activation('relu'))\n",
    "model.add(Dropout(0.5))\n",
    "model.add(Dense(128, activation = 'relu'))\n",
    "model.add(BatchNormalization())\n",
    "model.add(Activation('relu'))\n",
    "model.add(Dropout(0.5))\n",
    "model.add(Dense(64, activation = 'relu'))\n",
    "model.add(BatchNormalization())\n",
    "model.add(Dense(32, activation = 'relu'))\n",
    "model.add(Dense(args.num_classes, activation = 'softmax'))"
   ]
  },
  {
   "cell_type": "code",
   "execution_count": null,
   "id": "c2393a87-be9a-4709-9eca-20c17b6baba1",
   "metadata": {},
   "outputs": [],
   "source": []
  },
  {
   "cell_type": "markdown",
   "id": "261cf3cd-ce2d-48c5-87aa-42c10b6f6e40",
   "metadata": {},
   "source": [
    "***"
   ]
  },
  {
   "cell_type": "code",
   "execution_count": null,
   "id": "4ca16517-c719-437a-88f1-cdc6b449377f",
   "metadata": {},
   "outputs": [],
   "source": [
    "def cyclic_learning_rate(epoch, base_lr=0.001, max_lr=0.006, step_size=2000):\n",
    "    cycle = np.floor(1 + epoch / (2 * step_size))\n",
    "    x = np.abs(epoch / step_size - 2 * cycle + 1)\n",
    "    lr = base_lr + (max_lr - base_lr) * max(0, (1 - x))\n",
    "    return lr"
   ]
  },
  {
   "cell_type": "code",
   "execution_count": null,
   "id": "8dd1d871-b9b0-46db-ab34-030396590917",
   "metadata": {},
   "outputs": [],
   "source": [
    "def triangular_lr(epoch, base_lr=0.001, max_lr=0.006, step_size=2000):\n",
    "    cycle = np.floor(1 + epoch / (2 * step_size))\n",
    "    x = np.abs(epoch / step_size - 2 * cycle + 1)\n",
    "    lr = base_lr + (max_lr - base_lr) * max(0, (1 - x))\n",
    "    return lr"
   ]
  },
  {
   "cell_type": "code",
   "execution_count": null,
   "id": "f4da107f-98f1-4ff2-835e-e61c26d0ccd1",
   "metadata": {},
   "outputs": [],
   "source": [
    "def triangular2_lr(epoch, base_lr=0.001, max_lr=0.006, step_size=2000):\n",
    "    cycle = np.floor(1 + epoch / (2 * step_size))\n",
    "    x = np.abs(epoch / step_size - 2 * cycle + 1)\n",
    "    lr = base_lr + (max_lr - base_lr) * max(0, (1 - x)) / (2 ** (cycle - 1))\n",
    "    return lr"
   ]
  },
  {
   "cell_type": "code",
   "execution_count": null,
   "id": "f4d5b548-2d15-4bf4-b8bf-b949e5758222",
   "metadata": {},
   "outputs": [],
   "source": [
    "def exp_range_lr(epoch, base_lr=0.001, max_lr=0.006, step_size=2000, gamma=0.99994):\n",
    "    cycle = np.floor(1 + epoch / (2 * step_size))\n",
    "    x = np.abs(epoch / step_size - 2 * cycle + 1)\n",
    "    lr = base_lr + (max_lr - base_lr) * max(0, (1 - x)) * (gamma ** epoch)\n",
    "    return lr"
   ]
  },
  {
   "cell_type": "markdown",
   "id": "9801946d-9774-411f-87e8-925040ee6a8a",
   "metadata": {},
   "source": [
    "* optimization function, model compile, and model training"
   ]
  },
  {
   "cell_type": "code",
   "execution_count": null,
   "id": "d8060b1c-bf90-4b68-ae3d-90df15f91852",
   "metadata": {},
   "outputs": [],
   "source": [
    "opt = keras.optimizers.SGD(learning_rate = args.lr, decay = 1e-5, momentum = args.momentum)"
   ]
  },
  {
   "cell_type": "code",
   "execution_count": null,
   "id": "5c568f65-5022-46ef-b042-03c9a11d5070",
   "metadata": {},
   "outputs": [],
   "source": [
    "# LearningRateScheduler 설정\n",
    "# lr_scheduler = LearningRateScheduler(lambda epoch: cyclic_learning_rate(epoch, base_lr=0.01, max_lr=0.006, step_size=300))\n",
    "lr_scheduler = LearningRateScheduler(lambda epoch: exp_range_lr(epoch, base_lr=0.01, max_lr=0.006, step_size=30, gamma=0.99994))"
   ]
  },
  {
   "cell_type": "code",
   "execution_count": null,
   "id": "6ac310bf-406d-4c1e-81bd-a3f88c052125",
   "metadata": {
    "scrolled": true
   },
   "outputs": [],
   "source": [
    "model.compile(loss='categorical_crossentropy', optimizer=opt, metrics=['accuracy'])\n",
    "# history = model.fit(x_train, y_train, epochs=args.epochs, batch_size=args.bs, verbose=2)   ## using no class weight\n",
    "# history = model.fit(x_train, y_train, epochs=args.epochs, batch_size=args.bs, verbose=2, class_weight = class_weight)  ## using class weight\n",
    "history = model.fit(x_train, y_train, epochs=args.epochs, batch_size=args.bs, callbacks=[lr_scheduler], class_weight = class_weight, verbose=2) ## using LR scheduler callback"
   ]
  },
  {
   "cell_type": "code",
   "execution_count": null,
   "id": "bcda5342-d789-4b89-af04-6acfbfda4f0b",
   "metadata": {},
   "outputs": [],
   "source": []
  },
  {
   "cell_type": "markdown",
   "id": "bc829996-6ece-432e-9d93-a0dc7c760cd3",
   "metadata": {},
   "source": [
    "***"
   ]
  },
  {
   "cell_type": "code",
   "execution_count": null,
   "id": "67abb57f-bc79-4218-99ab-9b335dc48181",
   "metadata": {},
   "outputs": [],
   "source": [
    "y_predict = model.predict(x_test)\n",
    "y_predict = np.argmax(y_predict, axis = 1)\n",
    "y_test = np.argmax(y_test, axis = 1)\n",
    "\n",
    "result = confusion_matrix(y_test, y_predict, normalize = 'pred')\n",
    "print(result)"
   ]
  },
  {
   "cell_type": "code",
   "execution_count": null,
   "id": "eaf19c04-3500-4a3d-8a2a-1e5075132232",
   "metadata": {},
   "outputs": [],
   "source": [
    "figure = plt.figure(figsize=(6, 4))\n",
    "sns.heatmap(result, annot=True,cmap=plt.cm.Blues)\n",
    "plt.tight_layout()\n",
    "plt.ylabel('True label')\n",
    "plt.xlabel('Predicted label')\n",
    "plt.show()"
   ]
  },
  {
   "cell_type": "code",
   "execution_count": null,
   "id": "7935a45d-20ba-4c01-b49a-1cdd617c63ce",
   "metadata": {},
   "outputs": [],
   "source": [
    "accuracy = metrics.accuracy_score(y_test, y_predict)\n",
    "precision = metrics.precision_score(y_test, y_predict, average = 'macro')\n",
    "recall = metrics.recall_score(y_test, y_predict, average = 'micro')\n",
    "f1 = metrics.f1_score(y_test, y_predict, average = 'weighted')\n",
    "auc = roc_auc_score(y_test, model.predict(x_test, verbose=0), multi_class='ovr')\n",
    "\n",
    "print(\"=============================================\")\n",
    "print(\"The overall accuracy is:\", round(accuracy, 4))\n",
    "print(\"The precision score is:\", round(precision, 4))\n",
    "print(\"The recall score is:\", round(recall, 4))\n",
    "print(\"The f1 score is:\", round(f1, 4))\n",
    "print(\"The AUC score is:\", round(auc, 4))\n",
    "print(\"=============================================\")"
   ]
  },
  {
   "cell_type": "code",
   "execution_count": null,
   "id": "a70a7fd1-6c7e-4f0a-a6d0-76e085535325",
   "metadata": {},
   "outputs": [],
   "source": []
  },
  {
   "cell_type": "code",
   "execution_count": null,
   "id": "b284c1e7-c501-4d88-9a59-dc1fcd632032",
   "metadata": {},
   "outputs": [],
   "source": []
  },
  {
   "cell_type": "markdown",
   "id": "44e8258e-f152-4f39-aafc-991f3aa69edc",
   "metadata": {},
   "source": [
    "***"
   ]
  },
  {
   "cell_type": "markdown",
   "id": "7b2f43d7-4a04-4a54-9a2e-a462b6eaf107",
   "metadata": {
    "jp-MarkdownHeadingCollapsed": true
   },
   "source": [
    "## k-fold DNN"
   ]
  },
  {
   "cell_type": "code",
   "execution_count": null,
   "id": "e5398e05-840d-446b-a091-fab87a374740",
   "metadata": {},
   "outputs": [],
   "source": [
    "# data = data_no_s8.copy()\n",
    "# data = data_fill_s8.copy()\n",
    "# data = data_nona.copy()\n",
    "# data = data_fill.copy()\n",
    "# data = data_fill_mean.copy()\n",
    "# data = data_fill_mean_age.copy()\n",
    "data = data_fill_mean_knn.copy()"
   ]
  },
  {
   "cell_type": "code",
   "execution_count": null,
   "id": "d60cca23-0e0f-476d-aff9-569c591f0354",
   "metadata": {},
   "outputs": [],
   "source": [
    "data_x = data.drop(['subject_info', 'birth_info', 'target_info', 'sex_info', 'age_info', 'family_hx_info', 'marriage_info', 'job_info'], axis=1)\n",
    "data_y = data.loc[:,[\"target_info\"]]"
   ]
  },
  {
   "cell_type": "code",
   "execution_count": null,
   "id": "8c547ae2-b79a-4385-90f6-c4bd52bcb316",
   "metadata": {},
   "outputs": [],
   "source": [
    "# ## this is for selecting variables with JSDivergence big differences\n",
    "# data_x = data_x[big_diff_columns]\n",
    "\n",
    "# ## this is for selecting variables without JSDivergence big differences\n",
    "# # data_x = data_x.drop(big_diff_columns, axis=1)"
   ]
  },
  {
   "cell_type": "code",
   "execution_count": null,
   "id": "39bc8d72-f89a-4985-a41a-1c32571b8779",
   "metadata": {},
   "outputs": [],
   "source": [
    "data_x = data_x.fillna(data_x.mean())"
   ]
  },
  {
   "cell_type": "code",
   "execution_count": null,
   "id": "c0041d4a-7e6e-475d-bd21-bb286469db58",
   "metadata": {},
   "outputs": [],
   "source": [
    "########## FULL GROUP CLASSIFICATION ##########\n",
    "label = data_y\n",
    "label = label.replace({'control':0})\n",
    "label = label.replace({'mdd': 1})\n",
    "label = label.replace({'bpi': 2})\n",
    "label = label.replace({'bpii': 3})\n",
    "\n",
    "y = to_categorical(label, 4) ## into the format of one-hot encoding"
   ]
  },
  {
   "cell_type": "code",
   "execution_count": null,
   "id": "3d83cbfb-b452-48f0-a758-1273a5817bbd",
   "metadata": {},
   "outputs": [],
   "source": [
    "x = data_x"
   ]
  },
  {
   "cell_type": "code",
   "execution_count": null,
   "id": "49f017ce-bdb9-46aa-8e72-18c46ccad090",
   "metadata": {},
   "outputs": [],
   "source": []
  },
  {
   "cell_type": "code",
   "execution_count": null,
   "id": "fb0db5c0-f6ca-4c33-abb1-09aa45f21ad7",
   "metadata": {},
   "outputs": [],
   "source": [
    "x_trainset, x_test, y_trainset, y_test = train_test_split(data_x, y, test_size = 0.2, random_state = 710674)"
   ]
  },
  {
   "cell_type": "code",
   "execution_count": null,
   "id": "2c6403cd-a829-432f-a736-e0919ebfcc0c",
   "metadata": {},
   "outputs": [],
   "source": [
    "x_train, x_vali, y_train, y_vali = train_test_split(x_trainset, y_trainset, test_size = 0.1, random_state = 710674)"
   ]
  },
  {
   "cell_type": "code",
   "execution_count": null,
   "id": "006d0a3d-21f9-46ef-90b8-b2ed5ce9b87a",
   "metadata": {},
   "outputs": [],
   "source": [
    "x_train.shape"
   ]
  },
  {
   "cell_type": "code",
   "execution_count": null,
   "id": "30dade93-bbce-43c1-99d6-109876c8b324",
   "metadata": {},
   "outputs": [],
   "source": [
    "inputs = np.concatenate((x_train, x_vali), axis = 0)\n",
    "targets = np.concatenate((y_train, y_vali), axis = 0)"
   ]
  },
  {
   "cell_type": "code",
   "execution_count": null,
   "id": "c6c72534-5a77-40fb-9bc4-3d7c74eda54c",
   "metadata": {},
   "outputs": [],
   "source": [
    "fold_num = 1\n",
    "split_num = 5\n",
    "opt = keras.optimizers.SGD(learning_rate = args.lr, decay = 1e-6, momentum = args.momentum)\n",
    "kfold = KFold(n_splits = split_num, shuffle = True)\n",
    "# kfold = StratifiedKFold(n_splits = split_num, shuffle = True)"
   ]
  },
  {
   "cell_type": "code",
   "execution_count": null,
   "id": "ce2bb3ab-8a0b-4499-915a-86fa6e5382a2",
   "metadata": {},
   "outputs": [],
   "source": [
    "# LearningRateScheduler 설정\n",
    "lr_scheduler = LearningRateScheduler(lambda epoch: cyclic_learning_rate(epoch, base_lr=0.01, max_lr=0.006, step_size=300))\n",
    "# lr_scheduler = LearningRateScheduler(lambda epoch: exp_range_lr(epoch, base_lr=0.01, max_lr=0.006, step_size=300, gamma=0.99994))"
   ]
  },
  {
   "cell_type": "code",
   "execution_count": null,
   "id": "b4cc389e-fe03-4ba8-9eda-8d3e7bafa3b7",
   "metadata": {},
   "outputs": [],
   "source": []
  },
  {
   "cell_type": "code",
   "execution_count": null,
   "id": "9ec268dc-c026-446f-bfaa-f3fbbad9bd72",
   "metadata": {},
   "outputs": [],
   "source": [
    "############## FOR FOUR-GROUP CLASSIFICATION ###############\n",
    "# class_weight = {0:1, 1:1.29, 2:3.04, 3: 1.13}\n",
    "class_weight = {0:1, 1:1.81, 2:4.63, 3: 1.44}\n",
    "# class_weight = {0:1.15, 1:2.09, 2:2.84, 3: 1}"
   ]
  },
  {
   "cell_type": "code",
   "execution_count": null,
   "id": "a64f851b-7ecb-4320-b7b9-0b21001fd449",
   "metadata": {},
   "outputs": [],
   "source": [
    "acc_per_fold = []\n",
    "loss_per_fold = []"
   ]
  },
  {
   "cell_type": "code",
   "execution_count": null,
   "id": "f89f9580-5bcd-4b73-a0c2-f1fa827609ef",
   "metadata": {},
   "outputs": [],
   "source": [
    "for train, test in kfold.split(inputs, targets):\n",
    "    model = Sequential()\n",
    "    model.add(Dense(128, input_dim = x_train.shape[1], activation = 'relu'))\n",
    "    model.add(BatchNormalization())\n",
    "    model.add(Activation('relu'))\n",
    "    model.add(Dropout(0.5))\n",
    "    model.add(Dense(64, activation = 'relu'))\n",
    "    model.add(BatchNormalization())\n",
    "    model.add(Activation('relu'))\n",
    "    model.add(Dropout(0.5))\n",
    "    model.add(Dense(32, activation = 'relu'))\n",
    "    model.add(Dense(args.num_classes, activation = 'softmax'))\n",
    "    \n",
    "    ## model compile\n",
    "    model.compile(loss = 'categorical_crossentropy', optimizer = opt, metrics = ['accuracy'])\n",
    "    \n",
    "    print('----------------------------------------')\n",
    "    print(f'Training or fold {fold_num} ... ')\n",
    "    \n",
    "    ## fit data to model\n",
    "    history = model.fit(inputs[train], targets[train], batch_size = args.bs, epochs = args.epochs, callbacks=[lr_scheduler],\n",
    "                        verbose = 0, class_weight = class_weight)\n",
    "    # history = model.fit(inputs[train], targets[train], batch_size = args.bs, epochs = args.epochs, verbose = 0, class_weight = class_weight)\n",
    "    \n",
    "    \n",
    "    ## generate generalization metrics\n",
    "    scores = model.evaluate(inputs[test], targets[test])\n",
    "    print(f'Score for fold {fold_num}: {model.metrics_names[0]} of {scores[0]}; {model.metrics_names[1]} of {scores[1]*100}%')\n",
    "    print(\"%s: %.2f%%\" %(model.metrics_names[1], scores[1]*100))\n",
    "    acc_per_fold.append(scores[1] * 100)\n",
    "    loss_per_fold.append(scores[0])\n",
    "    \n",
    "    ## increasing fold number\n",
    "    fold_num = fold_num + 1\n",
    "    \n",
    "    \n",
    "    \n",
    "## Summarizing the results\n",
    "print('------------------------------------------------------------------------')\n",
    "print('Score per fold')\n",
    "for i in range(0, len(acc_per_fold)):\n",
    "    print('------------------------------------------------------------------------')\n",
    "    print(f'>> Fold {i+1} - Loss: {loss_per_fold[i]} - Accuracy: {acc_per_fold[i]}%')\n",
    "print('------------------------------------------------------------------------')\n",
    "print('Average scores for all folds:')\n",
    "print(f'>>> Accuracy: {np.mean(acc_per_fold)} (+- {np.std(acc_per_fold)})')\n",
    "print(f'>>> Loss: {np.mean(loss_per_fold)}')\n",
    "print('------------------------------------------------------------------------')"
   ]
  },
  {
   "cell_type": "code",
   "execution_count": null,
   "id": "d3ea4d3e-954c-43ea-a8f9-ff0b7cc1c233",
   "metadata": {
    "scrolled": true
   },
   "outputs": [],
   "source": [
    "# for train, test in kfold.split(inputs, targets):\n",
    "#     model = Sequential()\n",
    "#     model.add(Dense(512, input_dim = x_train.shape[1], activation = 'relu'))\n",
    "#     model.add(Dense(1024, activation = 'relu'))\n",
    "#     model.add(BatchNormalization())\n",
    "#     model.add(Activation('relu'))\n",
    "#     model.add(Dense(512, activation = 'relu'))\n",
    "#     model.add(BatchNormalization())\n",
    "#     model.add(Activation('relu'))\n",
    "#     model.add(Dense(256, activation = 'relu'))\n",
    "#     model.add(Dense(64, activation = 'relu'))\n",
    "#     model.add(Dense(32, activation = 'relu'))\n",
    "#     model.add(Dense(args.num_classes, activation = 'softmax'))\n",
    "    \n",
    "#     ## model compile\n",
    "#     model.compile(loss = 'categorical_crossentropy', optimizer = opt, metrics = ['accuracy'])\n",
    "    \n",
    "#     print('----------------------------------------')\n",
    "#     print(f'Training or fold {fold_num} ... ')\n",
    "    \n",
    "#     ## fit data to model\n",
    "#     history = model.fit(inputs[train], targets[train], batch_size = args.bs, epochs = args.epochs, callbacks=[lr_scheduler],\n",
    "#                         verbose = 0, class_weight = class_weight)\n",
    "#     # history = model.fit(inputs[train], targets[train], batch_size = args.bs, epochs = args.epochs, verbose = 0, class_weight = class_weight)\n",
    "    \n",
    "    \n",
    "#     ## generate generalization metrics\n",
    "#     scores = model.evaluate(inputs[test], targets[test])\n",
    "#     print(f'Score for fold {fold_num}: {model.metrics_names[0]} of {scores[0]}; {model.metrics_names[1]} of {scores[1]*100}%')\n",
    "#     print(\"%s: %.2f%%\" %(model.metrics_names[1], scores[1]*100))\n",
    "#     acc_per_fold.append(scores[1] * 100)\n",
    "#     loss_per_fold.append(scores[0])\n",
    "    \n",
    "#     ## increasing fold number\n",
    "#     fold_num = fold_num + 1\n",
    "    \n",
    "    \n",
    "    \n",
    "# ## Summarizing the results\n",
    "# print('------------------------------------------------------------------------')\n",
    "# print('Score per fold')\n",
    "# for i in range(0, len(acc_per_fold)):\n",
    "#     print('------------------------------------------------------------------------')\n",
    "#     print(f'>> Fold {i+1} - Loss: {loss_per_fold[i]} - Accuracy: {acc_per_fold[i]}%')\n",
    "# print('------------------------------------------------------------------------')\n",
    "# print('Average scores for all folds:')\n",
    "# print(f'>>> Accuracy: {np.mean(acc_per_fold)} (+- {np.std(acc_per_fold)})')\n",
    "# print(f'>>> Loss: {np.mean(loss_per_fold)}')\n",
    "# print('------------------------------------------------------------------------')"
   ]
  },
  {
   "cell_type": "code",
   "execution_count": null,
   "id": "e417bd3f-a624-4909-99c7-0dab4eb08d42",
   "metadata": {},
   "outputs": [],
   "source": [
    "y_predict = model.predict(x_test)\n",
    "y_predict = np.argmax(y_predict, axis = 1)\n",
    "y_test = np.argmax(y_test, axis = 1)\n",
    "\n",
    "result = confusion_matrix(y_test, y_predict, normalize = 'pred')\n",
    "print(result)"
   ]
  },
  {
   "cell_type": "code",
   "execution_count": null,
   "id": "fb144cef-b24a-4a24-bead-ed88ae05da38",
   "metadata": {},
   "outputs": [],
   "source": [
    "figure = plt.figure(figsize=(6, 4))\n",
    "sns.heatmap(result, annot=True,cmap=plt.cm.Blues)\n",
    "plt.tight_layout()\n",
    "plt.ylabel('True label')\n",
    "plt.xlabel('Predicted label')\n",
    "plt.show()"
   ]
  },
  {
   "cell_type": "code",
   "execution_count": null,
   "id": "612a395e-2367-497f-822a-06117a19cad4",
   "metadata": {},
   "outputs": [],
   "source": [
    "accuracy = metrics.accuracy_score(y_test, y_predict)\n",
    "precision = metrics.precision_score(y_test, y_predict, average = 'macro')\n",
    "recall = metrics.recall_score(y_test, y_predict, average = 'micro')\n",
    "f1 = metrics.f1_score(y_test, y_predict, average = 'weighted')\n",
    "auc = roc_auc_score(y_test, model.predict(x_test, verbose=0), multi_class='ovr')\n",
    "\n",
    "print(\"=============================================\")\n",
    "print(\"The overall accuracy is:\", round(accuracy, 4))\n",
    "print(\"The precision score is:\", round(precision, 4))\n",
    "print(\"The recall score is:\", round(recall, 4))\n",
    "print(\"The f1 score is:\", round(f1, 4))\n",
    "print(\"The AUC score is:\", round(auc, 4))\n",
    "print(\"=============================================\")"
   ]
  },
  {
   "cell_type": "code",
   "execution_count": null,
   "id": "dceb9217-8e71-4cf3-af55-614b8088f496",
   "metadata": {},
   "outputs": [],
   "source": []
  },
  {
   "cell_type": "markdown",
   "id": "325a3cbd-b040-4da6-87ef-045331576e00",
   "metadata": {},
   "source": [
    "***"
   ]
  },
  {
   "cell_type": "markdown",
   "id": "e1f87105-ea68-4c05-934b-2c78c4e8c6fa",
   "metadata": {
    "jp-MarkdownHeadingCollapsed": true
   },
   "source": [
    "## Multimodal DNN"
   ]
  },
  {
   "cell_type": "code",
   "execution_count": null,
   "id": "d40313b6-2681-4541-a52b-8beaa54b8532",
   "metadata": {},
   "outputs": [],
   "source": [
    "class Args_multi:\n",
    "    # arugments\n",
    "    epochs=150\n",
    "    enc_epochs = 50\n",
    "    bs=32\n",
    "    enc_bs = 16\n",
    "    lr=0.0001\n",
    "    momentum=0.9\n",
    "    num_classes= 4\n",
    "    seed=710674\n",
    "\n",
    "args_multi = Args_multi()\n",
    "\n",
    "# np.random.seed(args.seed)\n",
    "# random.seed(args.seed)\n",
    "# torch.manual_seed(args.seed)"
   ]
  },
  {
   "cell_type": "code",
   "execution_count": null,
   "id": "df992302-9cde-4bd4-8275-b4874c5d1d09",
   "metadata": {},
   "outputs": [],
   "source": [
    "# data = data_no_s8.copy()\n",
    "# data = data_fill_s8.copy()\n",
    "# data = data_nona.copy()\n",
    "# data = data_fill.copy()\n",
    "# data = data_fill_mean.copy()\n",
    "# data = data_fill_mean_age.copy()\n",
    "data = data_fill_mean_knn.copy()"
   ]
  },
  {
   "cell_type": "code",
   "execution_count": null,
   "id": "ec12b1ba-ef94-4342-b35c-934f928d5249",
   "metadata": {},
   "outputs": [],
   "source": [
    "data['target_info'].value_counts()"
   ]
  },
  {
   "cell_type": "code",
   "execution_count": null,
   "id": "65c8ef8f-4873-4707-876b-b907f5a7461f",
   "metadata": {},
   "outputs": [],
   "source": [
    "data.columns"
   ]
  },
  {
   "cell_type": "code",
   "execution_count": null,
   "id": "ac96d407-3e1a-4f62-810e-da4cfffa68c6",
   "metadata": {},
   "outputs": [],
   "source": [
    "data_x = data.drop(['subject_info', 'birth_info', 'target_info', 'sex_info', 'age_info', 'family_hx_info', 'marriage_info', 'job_info'], axis=1)\n",
    "data_y = data.loc[:,[\"target_info\"]]"
   ]
  },
  {
   "cell_type": "code",
   "execution_count": null,
   "id": "55858848-1f16-4c2d-b808-7fa6ef0f23a1",
   "metadata": {},
   "outputs": [],
   "source": [
    "# ## this is for selecting variables with JSDivergence big differences\n",
    "# data_x = data_x[big_diff_columns]\n",
    "\n",
    "# ## this is for selecting variables without JSDivergence big differences\n",
    "# # data_x = data_x.drop(big_diff_columns, axis=1)"
   ]
  },
  {
   "cell_type": "code",
   "execution_count": null,
   "id": "61d5a099-5d2b-415a-81f9-dfc116e95826",
   "metadata": {},
   "outputs": [],
   "source": []
  },
  {
   "cell_type": "code",
   "execution_count": null,
   "id": "d582bb9c-595b-4304-9041-d5fc29b12cbc",
   "metadata": {},
   "outputs": [],
   "source": [
    "data_x = data_x.fillna(data_x.mean())"
   ]
  },
  {
   "cell_type": "code",
   "execution_count": null,
   "id": "e28a10e6-f7ea-4ed7-a319-8bd6944cf72d",
   "metadata": {},
   "outputs": [],
   "source": [
    "########## FULL GROUP CLASSIFICATION ##########\n",
    "label = data_y\n",
    "label = label.replace({'control':0})\n",
    "label = label.replace({'mdd': 1})\n",
    "label = label.replace({'bpi': 2})\n",
    "label = label.replace({'bpii': 3})\n",
    "\n",
    "y = to_categorical(label, 4) ## into the format of one-hot encoding"
   ]
  },
  {
   "cell_type": "code",
   "execution_count": null,
   "id": "b76bc0e9-098e-4f6c-ac7e-4aa1ec6fd97b",
   "metadata": {},
   "outputs": [],
   "source": [
    "############## FOR FOUR-GROUP CLASSIFICATION ###############\n",
    "# class_weight = {0:1, 1:1.29, 2:3.04, 3: 1.13}\n",
    "class_weight = {0:1, 1:1.81, 2:4.63, 3: 1.44}\n",
    "# class_weight = {0:1.15, 1:2.09, 2:2.84, 3: 1}"
   ]
  },
  {
   "cell_type": "code",
   "execution_count": null,
   "id": "5b852943-8d85-497c-a4f9-16e981123a85",
   "metadata": {},
   "outputs": [],
   "source": []
  },
  {
   "cell_type": "code",
   "execution_count": null,
   "id": "2ccff575-f260-4ca5-927b-fee3535c943f",
   "metadata": {},
   "outputs": [],
   "source": []
  },
  {
   "cell_type": "markdown",
   "id": "cbdc453c-d5e6-4b62-9e06-e97e7d7495f4",
   "metadata": {},
   "source": [
    "### using subnetworks"
   ]
  },
  {
   "cell_type": "markdown",
   "id": "082527ea-92ed-4b69-848c-3a8573f2cb6e",
   "metadata": {},
   "source": [
    "* dataframe contains section 2,4,5,6,7,8"
   ]
  },
  {
   "cell_type": "code",
   "execution_count": null,
   "id": "b5d130c6-ce48-4db7-9519-1b5f0ea597c9",
   "metadata": {},
   "outputs": [],
   "source": [
    "data_s2 = data_x.iloc[:, (data_x.columns.str.contains(('s2')))]\n",
    "data_s4 = data_x.iloc[:, (data_x.columns.str.contains(('s4')))]\n",
    "data_s5 = data_x.iloc[:, (data_x.columns.str.contains(('s5')))]\n",
    "data_s6 = data_x.iloc[:, (data_x.columns.str.contains(('s6')))]\n",
    "data_s7 = data_x.iloc[:, (data_x.columns.str.contains(('s7')))]\n",
    "data_s8 = data_x.iloc[:, (data_x.columns.str.contains(('s8')))]"
   ]
  },
  {
   "cell_type": "code",
   "execution_count": null,
   "id": "3d9688e9-bc36-4175-bcb6-509a934ca666",
   "metadata": {},
   "outputs": [],
   "source": [
    "# data_s5.columns"
   ]
  },
  {
   "cell_type": "code",
   "execution_count": null,
   "id": "0e33ac39-e32c-45d8-92d1-8a8ca9e8b6db",
   "metadata": {},
   "outputs": [],
   "source": [
    "# 입력 정의\n",
    "input2 = Input(shape=(data_s2.shape[1],))\n",
    "input4 = Input(shape=(data_s4.shape[1],))\n",
    "input5 = Input(shape=(data_s5.shape[1],))\n",
    "input6 = Input(shape=(data_s6.shape[1],))\n",
    "input7 = Input(shape=(data_s7.shape[1],))\n",
    "input8 = Input(shape=(data_s8.shape[1],))"
   ]
  },
  {
   "cell_type": "markdown",
   "id": "62ed232e-eb84-4c40-b6d9-d6cff2e4301b",
   "metadata": {},
   "source": [
    "---"
   ]
  },
  {
   "cell_type": "markdown",
   "id": "a3688360-8b03-417a-86e6-6f49cc2fd385",
   "metadata": {},
   "source": [
    "* Creating commonly using sub-network"
   ]
  },
  {
   "cell_type": "code",
   "execution_count": null,
   "id": "ac1f085f-445d-4a0e-9413-466190fffc8d",
   "metadata": {},
   "outputs": [],
   "source": [
    "# 서브 네트워크 정의 함수\n",
    "def create_subnetwork(input_layer):\n",
    "    x = Dense(32, activation='relu')(input_layer)\n",
    "    # x = Dense(16, activation='relu')(x)\n",
    "    x = BatchNormalization()(x)\n",
    "    # x = Dropout(0.3)(x)\n",
    "    x = Dense(8, activation='relu')(x)\n",
    "    return x"
   ]
  },
  {
   "cell_type": "code",
   "execution_count": null,
   "id": "cc70df95-e8fd-4739-83d1-01e25e5c9db9",
   "metadata": {},
   "outputs": [],
   "source": [
    "# 서브 네트워크 생성\n",
    "subnet2 = create_subnetwork(input2)\n",
    "subnet4 = create_subnetwork(input4)\n",
    "subnet5 = create_subnetwork(input5)\n",
    "subnet6 = create_subnetwork(input6)\n",
    "subnet7 = create_subnetwork(input7)\n",
    "subnet8 = create_subnetwork(input8)"
   ]
  },
  {
   "cell_type": "code",
   "execution_count": null,
   "id": "613148f3-96dd-41ee-b0a2-2572b16d3a93",
   "metadata": {},
   "outputs": [],
   "source": []
  },
  {
   "cell_type": "markdown",
   "id": "a7a54d0b-d0ff-4aec-91d2-c86380d96584",
   "metadata": {},
   "source": [
    "======================================================================================================="
   ]
  },
  {
   "cell_type": "code",
   "execution_count": null,
   "id": "47dc4179-40e8-475a-b2c8-d0458a8e7d12",
   "metadata": {},
   "outputs": [],
   "source": [
    "input8"
   ]
  },
  {
   "cell_type": "code",
   "execution_count": null,
   "id": "23a83543-aaa8-4197-9439-c2669606bde3",
   "metadata": {},
   "outputs": [],
   "source": [
    "# 서브 네트워크 정의 함수\n",
    "def create_subnetwork2(input_layer):\n",
    "    x = Dense(32, activation='relu')(input_layer)\n",
    "    x = Dense(8, activation='relu')(x)\n",
    "    return x\n",
    "\n",
    "def create_subnetwork4(input_layer):\n",
    "    x = Dense(16, activation='relu')(input_layer)\n",
    "    x = Dense(8, activation='relu')(x)\n",
    "    return x\n",
    "\n",
    "def create_subnetwork5(input_layer):\n",
    "    x = Dense(32, activation='relu')(input_layer)\n",
    "    # x = Dense(32, activation='relu')(x)\n",
    "    x = Dense(8, activation='relu')(x)\n",
    "    return x\n",
    "\n",
    "def create_subnetwork6(input_layer):\n",
    "    x = Dense(32, activation='relu')(input_layer)\n",
    "    # x = Dense(64, activation='relu')(x)\n",
    "    # x = Dense(32, activation='relu')(x)\n",
    "    x = Dense(8, activation='relu')(x)\n",
    "    return x\n",
    "\n",
    "def create_subnetwork7(input_layer):\n",
    "    x = Dense(32, activation='relu')(input_layer)\n",
    "    # x = Dense(32, activation='relu')(x)\n",
    "    x = Dense(8, activation='relu')(x)\n",
    "    return x\n",
    "\n",
    "def create_subnetwork8(input_layer):\n",
    "    x = Dense(16, activation='relu')(input_layer)\n",
    "    x = Dense(8, activation='relu')(x)\n",
    "    return x"
   ]
  },
  {
   "cell_type": "code",
   "execution_count": null,
   "id": "3db7a7e6-e69b-40b5-9f48-51105397ff99",
   "metadata": {},
   "outputs": [],
   "source": [
    "# 서브 네트워크 생성\n",
    "subnet2 = create_subnetwork2(input2)\n",
    "subnet4 = create_subnetwork4(input4)\n",
    "subnet5 = create_subnetwork5(input5)\n",
    "subnet6 = create_subnetwork6(input6)\n",
    "subnet7 = create_subnetwork7(input7)\n",
    "subnet8 = create_subnetwork8(input8)"
   ]
  },
  {
   "cell_type": "markdown",
   "id": "b663ee6f-d063-4b88-9990-0a237cf09378",
   "metadata": {},
   "source": [
    "***"
   ]
  },
  {
   "cell_type": "code",
   "execution_count": null,
   "id": "5101c787-c6ff-4db9-84bb-cb34b6f5f6d2",
   "metadata": {},
   "outputs": [],
   "source": [
    "# 서브 네트워크 출력 결합\n",
    "# combined = Concatenate()([subnet2, subnet4, subnet5, subnet6, subnet7])\n",
    "combined = Concatenate()([subnet2, subnet4, subnet5, subnet6, subnet7, subnet8])"
   ]
  },
  {
   "cell_type": "code",
   "execution_count": null,
   "id": "40af645d-a208-4204-9b28-352bb5adc838",
   "metadata": {},
   "outputs": [],
   "source": [
    "combined"
   ]
  },
  {
   "cell_type": "code",
   "execution_count": null,
   "id": "d750fd0a-95fe-4334-b3d3-92d2f11c0dd3",
   "metadata": {},
   "outputs": [],
   "source": [
    "## adding dense(fc) layers after encoder combining\n",
    "concat_x = Dense(32, activation='relu')(combined)\n",
    "concat_x = BatchNormalization()(concat_x)\n",
    "concat_x = Dropout(0.5)(concat_x)\n",
    "# concat_x = Dense(16, activation='relu')(concat_x)\n",
    "# concat_x = BatchNormalization()(concat_x)\n",
    "# concat_x = Dropout(0.5)(concat_x)\n",
    "# concat_x = Dense(16, activation='relu')(concat_x)\n",
    "concat_x = Dense(8, activation='relu')(concat_x)\n",
    "\n",
    "# 최종 출력 레이어 정의 (4-class 분류)\n",
    "final_output = Dense(args_multi.num_classes, activation='softmax')(concat_x)"
   ]
  },
  {
   "cell_type": "code",
   "execution_count": null,
   "id": "6752f997-3468-45d0-9b6f-ce81b4ff8606",
   "metadata": {},
   "outputs": [],
   "source": [
    "# # 최종 출력 레이어 정의\n",
    "# final_output = Dense(args_multi.num_classes, activation='softmax')(combined) "
   ]
  },
  {
   "cell_type": "code",
   "execution_count": null,
   "id": "9507a559-4386-445a-bce8-9a0d2b34a28a",
   "metadata": {},
   "outputs": [],
   "source": []
  },
  {
   "cell_type": "code",
   "execution_count": null,
   "id": "7fc09ed2-f199-4135-a98c-ec7676fcbb2e",
   "metadata": {},
   "outputs": [],
   "source": [
    "# x2_train, x2_test, x4_train, x4_test, x5_train, x5_test, x6_train, x6_test, x7_train, x7_test, y_train, y_test = train_test_split(\n",
    "#     data_s2, data_s4, data_s5, data_s6, data_s7, y, test_size=0.2, random_state=710674)\n",
    "\n",
    "x2_train, x2_test, x4_train, x4_test, x5_train, x5_test, x6_train, x6_test, x7_train, x7_test, x8_train, x8_test, y_train, y_test = train_test_split(\n",
    "    data_s2, data_s4, data_s5, data_s6, data_s7, data_s8, y, test_size=0.2, random_state=710674)"
   ]
  },
  {
   "cell_type": "code",
   "execution_count": null,
   "id": "5866f9ae-7700-4db6-a17e-7ca6772e09b6",
   "metadata": {},
   "outputs": [],
   "source": []
  },
  {
   "cell_type": "code",
   "execution_count": null,
   "id": "5d7ac691-06be-4706-84c8-fbfc9b5789ab",
   "metadata": {},
   "outputs": [],
   "source": [
    "# LearningRateScheduler 설정\n",
    "lr_scheduler = LearningRateScheduler(lambda epoch: cyclic_learning_rate(epoch, base_lr=0.01, max_lr=0.006, step_size=300))\n",
    "# lr_scheduler = LearningRateScheduler(lambda epoch: exp_range_lr(epoch, base_lr=0.01, max_lr=0.006, step_size=300, gamma=0.99994))"
   ]
  },
  {
   "cell_type": "code",
   "execution_count": null,
   "id": "4041ea4a-d041-4973-ab78-f6445a26aae6",
   "metadata": {},
   "outputs": [],
   "source": [
    "opt = keras.optimizers.SGD(learning_rate = args_multi.lr, decay = 1e-6, momentum = args_multi.momentum)"
   ]
  },
  {
   "cell_type": "code",
   "execution_count": null,
   "id": "e701e78a-3a47-4ac0-bb9c-4e000cf9c049",
   "metadata": {},
   "outputs": [],
   "source": [
    "# 모델 생성 및 컴파일\n",
    "# model = Model(inputs=[input2, input4, input5, input6, input7], outputs=final_output)\n",
    "model = Model(inputs=[input2, input4, input5, input6, input7, input8], outputs=final_output)\n",
    "\n",
    "model.compile(optimizer=opt, loss='categorical_crossentropy', metrics=['accuracy'])"
   ]
  },
  {
   "cell_type": "code",
   "execution_count": null,
   "id": "247934e5-0d52-4796-a6c7-fb72d0aad648",
   "metadata": {
    "scrolled": true
   },
   "outputs": [],
   "source": [
    "model.summary()"
   ]
  },
  {
   "cell_type": "code",
   "execution_count": null,
   "id": "62896c9b-34ea-4fd8-8b48-f66b7462f56a",
   "metadata": {
    "scrolled": true
   },
   "outputs": [],
   "source": [
    "# model.fit([data_s2, data_s4, data_s5, data_s6, data_s7, data_s8], y, \n",
    "#           epochs=args_multi.epochs, batch_size=args_multi.bs, verbose=2)\n",
    "\n",
    "# model.fit([x2_train, x4_train, x5_train, x6_train, x7_train, x8_train], y_train, \n",
    "#           epochs=args_multi.epochs, batch_size=args_multi.bs, verbose=2)\n",
    "\n",
    "\n",
    "#########################################\n",
    "\n",
    "# model.fit([x2_train, x4_train, x5_train, x6_train, x7_train], y_train, \n",
    "#           epochs=args_multi.epochs, batch_size=args_multi.bs, callbacks=[lr_scheduler], verbose=2)\n",
    "model.fit([x2_train, x4_train, x5_train, x6_train, x7_train, x8_train], y_train, \n",
    "          epochs=args_multi.epochs, batch_size=args_multi.bs, callbacks=[lr_scheduler], verbose=2)"
   ]
  },
  {
   "cell_type": "code",
   "execution_count": null,
   "id": "b7b86b3f-7399-43db-9e3d-dd4ac464f838",
   "metadata": {},
   "outputs": [],
   "source": [
    "# y_predict = model.predict([x2_test, x4_test, x5_test, x6_test, x7_test])\n",
    "y_predict = model.predict([x2_test, x4_test, x5_test, x6_test, x7_test, x8_test])\n",
    "\n",
    "y_predict = np.argmax(y_predict, axis = 1)\n",
    "y_test = np.argmax(y_test, axis = 1)\n",
    "\n",
    "result = confusion_matrix(y_test, y_predict, normalize = 'pred')\n",
    "print(result)"
   ]
  },
  {
   "cell_type": "code",
   "execution_count": null,
   "id": "01b2dcb7-b82b-4052-9ea1-fbfbf841b37f",
   "metadata": {},
   "outputs": [],
   "source": [
    "figure = plt.figure(figsize=(6, 4))\n",
    "sns.heatmap(result, annot=True,cmap=plt.cm.Blues)\n",
    "plt.tight_layout()\n",
    "plt.ylabel('True label')\n",
    "plt.xlabel('Predicted label')\n",
    "plt.show()"
   ]
  },
  {
   "cell_type": "code",
   "execution_count": null,
   "id": "1d5d9c26-49ee-4545-9beb-368451265fb3",
   "metadata": {},
   "outputs": [],
   "source": [
    "accuracy = metrics.accuracy_score(y_test, y_predict)\n",
    "precision = metrics.precision_score(y_test, y_predict, average = 'macro')\n",
    "recall = metrics.recall_score(y_test, y_predict, average = 'micro')\n",
    "f1 = metrics.f1_score(y_test, y_predict, average = 'weighted')\n",
    "# auc = roc_auc_score(y_test,model.predict([x2_test, x4_test, x5_test, x6_test, x7_test], verbose=0), multi_class='ovr')\n",
    "auc = roc_auc_score(y_test,model.predict([x2_test, x4_test, x5_test, x6_test, x7_test, x8_test], verbose=0), multi_class='ovr')\n",
    "\n",
    "print(\"=============================================\")\n",
    "print(\"The overall accuracy is:\", round(accuracy, 4))\n",
    "print(\"The precision score is:\", round(precision, 4))\n",
    "print(\"The recall score is:\", round(recall, 4))\n",
    "print(\"The f1 score is:\", round(f1, 4))\n",
    "print(\"The AUC score is:\", round(auc, 4))\n",
    "print(\"=============================================\")"
   ]
  },
  {
   "cell_type": "code",
   "execution_count": null,
   "id": "691d3f86-f3a5-48e2-9266-07053a85ba79",
   "metadata": {},
   "outputs": [],
   "source": []
  },
  {
   "cell_type": "code",
   "execution_count": null,
   "id": "a8933bb9-c00a-4ea7-aa50-4b29f51a5b22",
   "metadata": {},
   "outputs": [],
   "source": []
  },
  {
   "cell_type": "markdown",
   "id": "0219333c-6f20-4636-82ac-e424bb23f351",
   "metadata": {},
   "source": [
    "***"
   ]
  },
  {
   "cell_type": "markdown",
   "id": "896c9a24-32ac-4dd8-8cab-5079272c6644",
   "metadata": {},
   "source": [
    "***"
   ]
  },
  {
   "cell_type": "markdown",
   "id": "2506a7ef-5e0c-406d-8620-074bbd5d5c9f",
   "metadata": {},
   "source": [
    "### using individual autoencoder"
   ]
  },
  {
   "cell_type": "code",
   "execution_count": null,
   "id": "aed201a2-d66c-4540-9d95-9a05ec5c206f",
   "metadata": {},
   "outputs": [],
   "source": [
    "x2_train, x2_test, x4_train, x4_test, x5_train, x5_test, x6_train, x6_test, x7_train, x7_test, x8_train, x8_test, y_train, y_test = train_test_split(\n",
    "    data_s2, data_s4, data_s5, data_s6, data_s7, data_s8, y, test_size=0.2, random_state=710674)"
   ]
  },
  {
   "cell_type": "code",
   "execution_count": null,
   "id": "20d27513-8d91-484e-9463-d37e11673f1e",
   "metadata": {},
   "outputs": [],
   "source": []
  },
  {
   "cell_type": "markdown",
   "id": "5bc0f234-3367-478d-933e-7bd1f9ff604b",
   "metadata": {},
   "source": [
    "***"
   ]
  },
  {
   "cell_type": "markdown",
   "id": "68b29505-08bd-4fbf-8b49-86ac20b8a5fc",
   "metadata": {},
   "source": [
    "* Using same autoencoder structure for all input datasets"
   ]
  },
  {
   "cell_type": "code",
   "execution_count": null,
   "id": "f78d6d14-bc4e-480a-9cb3-b8c44380def3",
   "metadata": {},
   "outputs": [],
   "source": [
    "## Defining autoencoder\n",
    "def create_autoencoder(input_shape):\n",
    "    # defining encoder model\n",
    "    input_layer = Input(shape=input_shape)\n",
    "    encoded = Dense(32, activation='relu')(input_layer)\n",
    "    # encoded = Dense(16, activation='relu')(encoded)\n",
    "    encoded = Dense(8, activation='relu')(encoded)\n",
    "    \n",
    "    # defining decoder model\n",
    "    # decoded = Dense(16, activation='relu')(encoded)\n",
    "    decoded = Dense(32, activation='relu')(encoded)\n",
    "    decoded = Dense(input_shape[0], activation='sigmoid')(decoded)\n",
    "    \n",
    "    # setting autoencoder model\n",
    "    autoencoder = Model(input_layer, decoded)\n",
    "    \n",
    "    # extracting encoder model separately\n",
    "    encoder = Model(input_layer, encoded)\n",
    "    \n",
    "    autoencoder.compile(optimizer='adam', loss='mse')\n",
    "    \n",
    "    return autoencoder, encoder"
   ]
  },
  {
   "cell_type": "code",
   "execution_count": null,
   "id": "cc6cfad5-5a5c-4d7e-b4ea-33d92693e303",
   "metadata": {},
   "outputs": [],
   "source": [
    "# Defining input dataset shape\n",
    "input_shape2 = (data_s2.shape[1],)\n",
    "input_shape4 = (data_s4.shape[1],)\n",
    "input_shape5 = (data_s5.shape[1],)\n",
    "input_shape6 = (data_s6.shape[1],)\n",
    "input_shape7 = (data_s7.shape[1],)\n",
    "input_shape8 = (data_s8.shape[1],)"
   ]
  },
  {
   "cell_type": "code",
   "execution_count": null,
   "id": "dafc4089-02ec-4c05-a291-6e66308b4066",
   "metadata": {},
   "outputs": [],
   "source": [
    "autoencoder2, encoder2 = create_autoencoder(input_shape2)\n",
    "autoencoder4, encoder4 = create_autoencoder(input_shape4)\n",
    "autoencoder5, encoder5 = create_autoencoder(input_shape5)\n",
    "autoencoder6, encoder6 = create_autoencoder(input_shape6)\n",
    "autoencoder7, encoder7 = create_autoencoder(input_shape7)\n",
    "autoencoder8, encoder8 = create_autoencoder(input_shape8)"
   ]
  },
  {
   "cell_type": "markdown",
   "id": "5242a260-b0fa-40ba-81ab-ff9a0ac69992",
   "metadata": {},
   "source": [
    "=========================================="
   ]
  },
  {
   "cell_type": "markdown",
   "id": "20992176-30e9-4139-b969-2328f58b4631",
   "metadata": {},
   "source": [
    "* Using individually difference structured autoencoder model"
   ]
  },
  {
   "cell_type": "code",
   "execution_count": null,
   "id": "512a5665-d5af-483c-9ef9-6a2a3cbabfaa",
   "metadata": {},
   "outputs": [],
   "source": [
    "# Defining input dataset shape\n",
    "input_shape2 = (data_s2.shape[1],)\n",
    "input_shape4 = (data_s4.shape[1],)\n",
    "input_shape5 = (data_s5.shape[1],)\n",
    "input_shape6 = (data_s6.shape[1],)\n",
    "input_shape7 = (data_s7.shape[1],)\n",
    "input_shape8 = (data_s8.shape[1],)"
   ]
  },
  {
   "cell_type": "code",
   "execution_count": null,
   "id": "52a2c839-4167-472f-a3a1-24ca1b7fbaca",
   "metadata": {},
   "outputs": [],
   "source": [
    "input_shape8"
   ]
  },
  {
   "cell_type": "code",
   "execution_count": null,
   "id": "8c788e46-62f6-4406-a21a-441305d62bcd",
   "metadata": {},
   "outputs": [],
   "source": [
    "## Defining autoencoder\n",
    "def create_autoencoder2(input_shape):\n",
    "    # defining encoder model\n",
    "    input_layer = Input(shape=input_shape)\n",
    "    encoded = Dense(64, activation='relu')(input_layer)\n",
    "    encoded = Dense(16, activation='relu')(encoded)\n",
    "    decoded = Dense(64, activation='relu')(encoded)\n",
    "    decoded = Dense(input_shape[0], activation='sigmoid')(decoded)\n",
    "    autoencoder = Model(input_layer, decoded)\n",
    "    encoder = Model(input_layer, encoded)\n",
    "    autoencoder.compile(optimizer='adam', loss='mse')\n",
    "    return autoencoder, encoder\n",
    "\n",
    "def create_autoencoder4(input_shape):\n",
    "    # defining encoder model\n",
    "    input_layer = Input(shape=input_shape)\n",
    "    encoded = Dense(16, activation='relu')(input_layer)\n",
    "    encoded = Dense(4, activation='relu')(encoded)\n",
    "    decoded = Dense(16, activation='relu')(encoded)\n",
    "    decoded = Dense(input_shape[0], activation='sigmoid')(decoded)\n",
    "    autoencoder = Model(input_layer, decoded)\n",
    "    encoder = Model(input_layer, encoded)\n",
    "    autoencoder.compile(optimizer='adam', loss='mse')\n",
    "    return autoencoder, encoder\n",
    "\n",
    "def create_autoencoder5(input_shape):\n",
    "    # defining encoder model\n",
    "    input_layer = Input(shape=input_shape)\n",
    "    encoded = Dense(64, activation='relu')(input_layer)\n",
    "    encoded = Dense(16, activation='relu')(encoded)\n",
    "    decoded = Dense(64, activation='relu')(encoded)\n",
    "    decoded = Dense(input_shape[0], activation='sigmoid')(decoded)\n",
    "    autoencoder = Model(input_layer, decoded)\n",
    "    encoder = Model(input_layer, encoded)\n",
    "    autoencoder.compile(optimizer='adam', loss='mse')\n",
    "    return autoencoder, encoder\n",
    "\n",
    "def create_autoencoder6(input_shape):\n",
    "    # defining encoder model\n",
    "    input_layer = Input(shape=input_shape)\n",
    "    encoded = Dense(64, activation='relu')(input_layer)\n",
    "    encoded = Dense(16, activation='relu')(encoded)\n",
    "    decoded = Dense(64, activation='relu')(encoded)\n",
    "    decoded = Dense(input_shape[0], activation='sigmoid')(decoded)\n",
    "    autoencoder = Model(input_layer, decoded)\n",
    "    encoder = Model(input_layer, encoded)\n",
    "    autoencoder.compile(optimizer='adam', loss='mse')\n",
    "    return autoencoder, encoder\n",
    "\n",
    "def create_autoencoder7(input_shape):\n",
    "    # defining encoder model\n",
    "    input_layer = Input(shape=input_shape)\n",
    "    encoded = Dense(64, activation='relu')(input_layer)\n",
    "    encoded = Dense(16, activation='relu')(encoded)\n",
    "    decoded = Dense(64, activation='relu')(encoded)\n",
    "    decoded = Dense(input_shape[0], activation='sigmoid')(decoded)\n",
    "    autoencoder = Model(input_layer, decoded)\n",
    "    encoder = Model(input_layer, encoded)\n",
    "    autoencoder.compile(optimizer='adam', loss='mse')\n",
    "    return autoencoder, encoder\n",
    "\n",
    "def create_autoencoder8(input_shape):\n",
    "    # defining encoder model\n",
    "    input_layer = Input(shape=input_shape)\n",
    "    encoded = Dense(16, activation='relu')(input_layer)\n",
    "    encoded = Dense(4, activation='relu')(encoded)\n",
    "    decoded = Dense(16, activation='relu')(encoded)\n",
    "    decoded = Dense(input_shape[0], activation='sigmoid')(decoded)\n",
    "    autoencoder = Model(input_layer, decoded)\n",
    "    encoder = Model(input_layer, encoded)\n",
    "    autoencoder.compile(optimizer='adam', loss='mse')\n",
    "    return autoencoder, encoder"
   ]
  },
  {
   "cell_type": "code",
   "execution_count": null,
   "id": "d65c1054-e1c0-4b57-8814-9d0c48999439",
   "metadata": {},
   "outputs": [],
   "source": [
    "autoencoder2, encoder2 = create_autoencoder2(input_shape2)\n",
    "autoencoder4, encoder4 = create_autoencoder4(input_shape4)\n",
    "autoencoder5, encoder5 = create_autoencoder5(input_shape5)\n",
    "autoencoder6, encoder6 = create_autoencoder6(input_shape6)\n",
    "autoencoder7, encoder7 = create_autoencoder7(input_shape7)\n",
    "autoencoder8, encoder8 = create_autoencoder8(input_shape8)"
   ]
  },
  {
   "cell_type": "code",
   "execution_count": null,
   "id": "fe4db245-8f15-486b-b4e0-8f391e4be713",
   "metadata": {},
   "outputs": [],
   "source": []
  },
  {
   "cell_type": "code",
   "execution_count": null,
   "id": "b4a82424-bb55-45ff-b7f9-6cdaa028e4e0",
   "metadata": {},
   "outputs": [],
   "source": []
  },
  {
   "cell_type": "markdown",
   "id": "d4b06675-5f98-4652-ae36-98e93c04d5e6",
   "metadata": {},
   "source": [
    "***"
   ]
  },
  {
   "cell_type": "code",
   "execution_count": null,
   "id": "e8277bd7-4643-476b-a061-6d969264aa6d",
   "metadata": {
    "scrolled": true
   },
   "outputs": [],
   "source": [
    "# Training autoencoder model\n",
    "# autoencoder2.fit(x2_train, x2_train, epochs=args_multi.enc_epochs, batch_size=args_multi.enc_bs)\n",
    "# autoencoder4.fit(x4_train, x4_train, epochs=args_multi.enc_epochs, batch_size=args_multi.enc_bs)\n",
    "# autoencoder5.fit(x5_train, x5_train, epochs=args_multi.enc_epochs, batch_size=args_multi.enc_bs)\n",
    "# autoencoder6.fit(x6_train, x6_train, epochs=args_multi.enc_epochs, batch_size=args_multi.enc_bs)\n",
    "# autoencoder7.fit(x7_train, x7_train, epochs=args_multi.enc_epochs, batch_size=args_multi.enc_bs)\n",
    "# autoencoder8.fit(x8_train, x8_train, epochs=args_multi.enc_epochs, batch_size=args_multi.enc_bs)\n",
    "\n",
    "# Training autoencoder model\n",
    "autoencoder2.fit(x2_train, x2_train, epochs=args_multi.enc_epochs, batch_size=args_multi.enc_bs, validation_split=0.2)\n",
    "autoencoder4.fit(x4_train, x4_train, epochs=args_multi.enc_epochs, batch_size=args_multi.enc_bs, validation_split=0.2)\n",
    "autoencoder5.fit(x5_train, x5_train, epochs=args_multi.enc_epochs, batch_size=args_multi.enc_bs, validation_split=0.2)\n",
    "autoencoder6.fit(x6_train, x6_train, epochs=args_multi.enc_epochs, batch_size=args_multi.enc_bs, validation_split=0.2)\n",
    "autoencoder7.fit(x7_train, x7_train, epochs=args_multi.enc_epochs, batch_size=args_multi.enc_bs, validation_split=0.2)\n",
    "autoencoder8.fit(x8_train, x8_train, epochs=args_multi.enc_epochs, batch_size=args_multi.enc_bs, validation_split=0.2)"
   ]
  },
  {
   "cell_type": "code",
   "execution_count": null,
   "id": "5e674bb0-4806-4821-a6f1-bf993f98bf8a",
   "metadata": {},
   "outputs": [],
   "source": [
    "# Defining input\n",
    "input2 = Input(shape=(data_s2.shape[1],))\n",
    "input4 = Input(shape=(data_s4.shape[1],))\n",
    "input5 = Input(shape=(data_s5.shape[1],))\n",
    "input6 = Input(shape=(data_s6.shape[1],))\n",
    "input7 = Input(shape=(data_s7.shape[1],))\n",
    "input8 = Input(shape=(data_s8.shape[1],))"
   ]
  },
  {
   "cell_type": "code",
   "execution_count": null,
   "id": "04e0ee90-df10-4084-96f0-88a6573ea921",
   "metadata": {},
   "outputs": [],
   "source": [
    "# Defining subnetwork function\n",
    "def create_encoded_output(input_layer, encoder):\n",
    "    return encoder(input_layer)"
   ]
  },
  {
   "cell_type": "code",
   "execution_count": null,
   "id": "7865f9d9-808b-408d-bb42-d942eb755567",
   "metadata": {},
   "outputs": [],
   "source": []
  },
  {
   "cell_type": "code",
   "execution_count": null,
   "id": "0ab0c1be-eace-44cf-bc2f-f6e763d465e8",
   "metadata": {},
   "outputs": [],
   "source": []
  },
  {
   "cell_type": "code",
   "execution_count": null,
   "id": "40d25ca1-81ec-4f33-a997-c6adebee9306",
   "metadata": {},
   "outputs": [],
   "source": [
    "# 서브 네트워크 생성\n",
    "encoded2 = create_encoded_output(input2, encoder2)\n",
    "encoded4 = create_encoded_output(input4, encoder4)\n",
    "encoded5 = create_encoded_output(input5, encoder5)\n",
    "encoded6 = create_encoded_output(input6, encoder6)\n",
    "encoded7 = create_encoded_output(input7, encoder7)\n",
    "encoded8 = create_encoded_output(input8, encoder8)"
   ]
  },
  {
   "cell_type": "code",
   "execution_count": null,
   "id": "512d226f-e6ea-4e67-919c-a24e0beb387a",
   "metadata": {},
   "outputs": [],
   "source": [
    "# 서브 네트워크 출력 결합\n",
    "combined = Concatenate()([encoded2, encoded4, encoded5, encoded6, encoded7, encoded8])"
   ]
  },
  {
   "cell_type": "code",
   "execution_count": null,
   "id": "f87fabec-0c58-498b-822a-791982eb8286",
   "metadata": {},
   "outputs": [],
   "source": [
    "combined"
   ]
  },
  {
   "cell_type": "code",
   "execution_count": null,
   "id": "f75847b1-4199-4c2e-9d8e-0d79576a5aa5",
   "metadata": {},
   "outputs": [],
   "source": [
    "## adding dense(fc) layers after encoder combining\n",
    "concat_x = Dense(32, activation='relu')(combined)\n",
    "# concat_x = Dense(64, activation='relu')(concat_x)\n",
    "concat_x = BatchNormalization()(concat_x)\n",
    "concat_x = Dropout(0.5)(concat_x)\n",
    "# concat_x = Dense(32, activation='relu')(concat_x)\n",
    "# concat_x = Dropout(0.2)(concat_x)\n",
    "concat_x = Dense(8, activation='relu')(concat_x)\n",
    "\n",
    "# 최종 출력 레이어 정의 (4-class 분류)\n",
    "final_output = Dense(args_multi.num_classes, activation='softmax')(concat_x)"
   ]
  },
  {
   "cell_type": "code",
   "execution_count": null,
   "id": "b8d73407-2713-4d19-8d51-345bc974f046",
   "metadata": {
    "scrolled": true
   },
   "outputs": [],
   "source": [
    "# 모델 생성 및 컴파일\n",
    "model = Model(inputs=[input2, input4, input5, input6, input7, input8], outputs=final_output)\n",
    "model.compile(optimizer=opt, loss='categorical_crossentropy', metrics=['accuracy'])\n",
    "\n",
    "# 모델 요약 출력\n",
    "model.summary()"
   ]
  },
  {
   "cell_type": "code",
   "execution_count": null,
   "id": "efdca305-b876-4f7b-a052-1135bed738ca",
   "metadata": {},
   "outputs": [],
   "source": [
    "# LearningRateScheduler 설정\n",
    "lr_scheduler = LearningRateScheduler(lambda epoch: cyclic_learning_rate(epoch, base_lr=0.01, max_lr=0.006, step_size=300))\n",
    "# lr_scheduler = LearningRateScheduler(lambda epoch: exp_range_lr(epoch, base_lr=0.01, max_lr=0.006, step_size=300, gamma=0.99994))"
   ]
  },
  {
   "cell_type": "code",
   "execution_count": null,
   "id": "bc501f69-9b3b-4d8f-8395-949bcbbe2b20",
   "metadata": {
    "scrolled": true
   },
   "outputs": [],
   "source": [
    "## Model training\n",
    "# model.fit([x2_train, x4_train, x5_train, x6_train, x7_train, x8_train], y_train, epochs=args_multi.epochs, batch_size=args_multi.bs)\n",
    "model.fit([x2_train, x4_train, x5_train, x6_train, x7_train, x8_train], y_train, epochs=args_multi.epochs, callbacks = [lr_scheduler], batch_size=args_multi.bs)\n",
    "\n",
    "## Model evaluation\n",
    "# loss, accuracy = model.evaluate([x2_test, x4_test, x5_test, x6_test, x7_test, x8_test], y_test)\n",
    "# print(f\"Test Accuracy: {accuracy:.4f}\")"
   ]
  },
  {
   "cell_type": "code",
   "execution_count": null,
   "id": "05e99e9d-4792-4f0b-b9be-787bb0215be4",
   "metadata": {},
   "outputs": [],
   "source": [
    "y_predict = model.predict([x2_test, x4_test, x5_test, x6_test, x7_test, x8_test])\n",
    "y_predict = np.argmax(y_predict, axis = 1)\n",
    "y_test = np.argmax(y_test, axis = 1)\n",
    "\n",
    "result = confusion_matrix(y_test, y_predict, normalize = 'pred')\n",
    "print(result)"
   ]
  },
  {
   "cell_type": "code",
   "execution_count": null,
   "id": "32e0290b-01c5-4858-8f0d-e7d393d33d16",
   "metadata": {},
   "outputs": [],
   "source": [
    "figure = plt.figure(figsize=(6, 4))\n",
    "sns.heatmap(result, annot=True,cmap=plt.cm.Blues)\n",
    "plt.tight_layout()\n",
    "plt.ylabel('True label')\n",
    "plt.xlabel('Predicted label')\n",
    "plt.show()"
   ]
  },
  {
   "cell_type": "code",
   "execution_count": null,
   "id": "8639f94f-f417-4e16-aa97-8324e035e527",
   "metadata": {},
   "outputs": [],
   "source": [
    "accuracy = metrics.accuracy_score(y_test, y_predict)\n",
    "precision = metrics.precision_score(y_test, y_predict, average = 'macro')\n",
    "recall = metrics.recall_score(y_test, y_predict, average = 'micro')\n",
    "f1 = metrics.f1_score(y_test, y_predict, average = 'weighted')\n",
    "auc = roc_auc_score(y_test,model.predict([x2_test, x4_test, x5_test, x6_test, x7_test, x8_test], verbose=0), multi_class='ovr')\n",
    "\n",
    "print(\"=============================================\")\n",
    "print(\"The overall accuracy is:\", round(accuracy, 4))\n",
    "print(\"The precision score is:\", round(precision, 4))\n",
    "print(\"The recall score is:\", round(recall, 4))\n",
    "print(\"The f1 score is:\", round(f1, 4))\n",
    "print(\"The AUC score is:\", round(auc, 4))\n",
    "print(\"=============================================\")"
   ]
  },
  {
   "cell_type": "code",
   "execution_count": null,
   "id": "e16aad3e-4f2c-4f32-9a9d-5dbf1d978b71",
   "metadata": {},
   "outputs": [],
   "source": []
  },
  {
   "cell_type": "markdown",
   "id": "01a7ed94-5f2e-4af9-b0d1-22eb40d5db8e",
   "metadata": {},
   "source": [
    "***"
   ]
  },
  {
   "cell_type": "code",
   "execution_count": null,
   "id": "38979363-3045-4f0c-a17f-44cf5d3c82fa",
   "metadata": {},
   "outputs": [],
   "source": []
  },
  {
   "cell_type": "code",
   "execution_count": null,
   "id": "1bab206a-752a-4adc-a3fe-d6e9efff6cfc",
   "metadata": {},
   "outputs": [],
   "source": []
  },
  {
   "cell_type": "markdown",
   "id": "30732f3c-94de-4d36-83da-5923efcc0e9a",
   "metadata": {},
   "source": [
    "## VAE augmentation"
   ]
  },
  {
   "cell_type": "code",
   "execution_count": null,
   "id": "a9932455-884b-4a10-9142-ba578a30903a",
   "metadata": {},
   "outputs": [],
   "source": [
    "data = df_reduced.copy()"
   ]
  },
  {
   "cell_type": "markdown",
   "id": "fb101227-fab6-4fbe-9b30-83bf9d209743",
   "metadata": {},
   "source": [
    "> We sampled 300 data for each label, to augment other 100 data for each class. \\\n",
    "> This is to compare the classification performance of data augmentation."
   ]
  },
  {
   "cell_type": "code",
   "execution_count": null,
   "id": "fea3aad2-6759-4f7c-b1eb-a3b976711cef",
   "metadata": {},
   "outputs": [],
   "source": [
    "data = data.groupby('condition').apply(lambda x: x.sample(400)).reset_index(drop=True)"
   ]
  },
  {
   "cell_type": "code",
   "execution_count": null,
   "id": "50a5fc2f-5de0-45ad-bac9-4e89fb3858bc",
   "metadata": {},
   "outputs": [],
   "source": [
    "data[\"condition\"].value_counts()"
   ]
  },
  {
   "cell_type": "code",
   "execution_count": null,
   "id": "fb6d7157-98be-41dd-86a7-f5608e50c9b6",
   "metadata": {},
   "outputs": [],
   "source": [
    "data_int = data[data['condition']==\"interruption\"]\n",
    "data_nos = data[data['condition']==\"no stress\"]\n",
    "data_tip = data[data['condition']==\"time pressure\"]"
   ]
  },
  {
   "cell_type": "code",
   "execution_count": null,
   "id": "12d7aefa-d3f3-4d5f-bb6b-5263c40e8385",
   "metadata": {},
   "outputs": [],
   "source": [
    "class Args_aug:\n",
    "    # arugments\n",
    "    epochs=150\n",
    "    bs=32\n",
    "    lr=0.0001\n",
    "    momentum=0.9\n",
    "    num_classes= 2\n",
    "    latent_dim = 16\n",
    "    inter_dim1 = 32\n",
    "    inter_dim2 = 16\n",
    "    seed=710674\n",
    "\n",
    "args_aug = Args_aug()\n",
    "\n",
    "# np.random.seed(args.seed)\n",
    "# random.seed(args.seed)\n",
    "# torch.manual_seed(args.seed)"
   ]
  },
  {
   "cell_type": "code",
   "execution_count": null,
   "id": "cdac6636-66e6-4194-8e90-25f21f60fdca",
   "metadata": {},
   "outputs": [],
   "source": [
    "# data_vae = data.copy()\n",
    "# data_vae = data_int.copy()\n",
    "# data_vae = data_nos.copy()\n",
    "data_vae = data_tip.copy()"
   ]
  },
  {
   "cell_type": "code",
   "execution_count": null,
   "id": "d7b48ca5-a07f-42f4-9d40-7b143478eeba",
   "metadata": {},
   "outputs": [],
   "source": [
    "data_vae.columns"
   ]
  },
  {
   "cell_type": "code",
   "execution_count": null,
   "id": "12d39bed-71f2-4507-9f4f-376b86c809eb",
   "metadata": {},
   "outputs": [],
   "source": [
    "# y includes our labels and x includes our features\n",
    "y = data_vae.condition  # M or B \n",
    "list = ['condition']\n",
    "x = data_vae.drop(list, axis = 1 )"
   ]
  },
  {
   "cell_type": "code",
   "execution_count": null,
   "id": "09086341-79a5-42d2-9c62-088c32dea8ef",
   "metadata": {},
   "outputs": [],
   "source": [
    "data_x = x.copy()"
   ]
  },
  {
   "cell_type": "code",
   "execution_count": null,
   "id": "524e3647-f052-4e44-b5fc-73f153fd3a75",
   "metadata": {},
   "outputs": [],
   "source": [
    "scaler = MinMaxScaler() #set the scaler (between 0 and 1)\n",
    "\n",
    "data_x[:] = scaler.fit_transform(data_x[:])\n",
    "data_x = data_x.round(decimals=6)"
   ]
  },
  {
   "cell_type": "code",
   "execution_count": null,
   "id": "65e6e505-c59d-4ba3-80a8-d58a840b114f",
   "metadata": {},
   "outputs": [],
   "source": [
    "# # 데이터 확인\n",
    "# print(np.isnan(data_x).any())  # False여야 합니다.\n",
    "# print(np.isinf(data_x).any())  # False여야 합니다."
   ]
  },
  {
   "cell_type": "code",
   "execution_count": null,
   "id": "dc39eed2-d4fb-448e-9cbf-d14e467e66b7",
   "metadata": {},
   "outputs": [],
   "source": []
  },
  {
   "cell_type": "code",
   "execution_count": null,
   "id": "1797bc62-f35f-42d0-ad19-31211eb9d102",
   "metadata": {},
   "outputs": [],
   "source": [
    "# data_x = data_x.fillna(data_x.mean())"
   ]
  },
  {
   "cell_type": "code",
   "execution_count": null,
   "id": "b9dad4bb-241a-479b-9c41-fb3a77d519c5",
   "metadata": {},
   "outputs": [],
   "source": [
    "########## FULL GROUP CLASSIFICATION ##########\n",
    "label = y\n",
    "label = label.replace({'interruption':0})\n",
    "label = label.replace({'no stress': 1})\n",
    "label = label.replace({'time pressure': 2})\n",
    "\n",
    "data_y = to_categorical(label, 3) ## into the format of one-hot encoding"
   ]
  },
  {
   "cell_type": "code",
   "execution_count": null,
   "id": "bce530e4-07f7-49d5-be98-a0692741743b",
   "metadata": {},
   "outputs": [],
   "source": [
    "print(\"The size of x dataset is:\", data_x.shape)\n",
    "print(\"The size of y dataset is:\", data_y.shape)"
   ]
  },
  {
   "cell_type": "code",
   "execution_count": null,
   "id": "eec8c330-9e7d-4339-be91-ca88cde8972d",
   "metadata": {},
   "outputs": [],
   "source": []
  },
  {
   "cell_type": "markdown",
   "id": "495fed10-d212-4e91-a050-6c6070ec621c",
   "metadata": {},
   "source": [
    "### encoder networks"
   ]
  },
  {
   "cell_type": "code",
   "execution_count": null,
   "id": "aa3e8a98-14ac-4085-b902-e503894cb035",
   "metadata": {},
   "outputs": [],
   "source": [
    "# ## shallow model\n",
    "# input_dim = data_x.shape[1]\n",
    "# latent_dim = 2\n",
    "\n",
    "# inputs = Input(shape=(input_dim,))\n",
    "# h = Dense(32, activation='relu')(inputs)\n",
    "# z_mean = Dense(latent_dim)(h)\n",
    "# z_log_var = Dense(latent_dim)(h)"
   ]
  },
  {
   "cell_type": "code",
   "execution_count": null,
   "id": "1f3bb7a3-77ad-4941-ad8a-2dd48c0414c1",
   "metadata": {},
   "outputs": [],
   "source": [
    "## deeper model\n",
    "input_dim = data_x.shape[1]\n",
    "latent_dim = 8\n",
    "\n",
    "inputs = Input(shape=(input_dim,))\n",
    "h = Dense(64, activation='relu')(inputs)\n",
    "h = Dense(32, activation='relu')(h)\n",
    "h = Dense(16, activation='relu')(h)\n",
    "z_mean = Dense(latent_dim)(h)\n",
    "z_log_var = Dense(latent_dim)(h)"
   ]
  },
  {
   "cell_type": "code",
   "execution_count": null,
   "id": "0311ff14-270e-4eea-b1a1-055308c26ad6",
   "metadata": {},
   "outputs": [],
   "source": [
    "## latent space sampling\n",
    "def sampling(args):\n",
    "    z_mean, z_log_var = args\n",
    "    batch = K.shape(z_mean)[0]\n",
    "    dim = K.int_shape(z_mean)[1]\n",
    "    epsilon = K.random_normal(shape=(batch, dim))\n",
    "    return z_mean + K.exp(0.5 * z_log_var) * epsilon\n",
    "\n",
    "z = Lambda(sampling, output_shape=(latent_dim,))([z_mean, z_log_var])"
   ]
  },
  {
   "cell_type": "code",
   "execution_count": null,
   "id": "031e60ad-8687-4742-8cbe-5aa58ff3c1b7",
   "metadata": {},
   "outputs": [],
   "source": []
  },
  {
   "cell_type": "markdown",
   "id": "ca9b8c4b-62f1-4afc-bca0-36b1467efa21",
   "metadata": {},
   "source": [
    "### decoder networks"
   ]
  },
  {
   "cell_type": "code",
   "execution_count": null,
   "id": "e89921c8-f2dc-4037-be6a-6d8cf320971a",
   "metadata": {},
   "outputs": [],
   "source": [
    "# ## shallow model\n",
    "# decoder_h = Dense(32, activation='relu')\n",
    "# decoder_mean = Dense(input_dim, activation='sigmoid')\n",
    "\n",
    "# h_decoded = decoder_h(z)\n",
    "# x_decoded_mean = decoder_mean(h_decoded)"
   ]
  },
  {
   "cell_type": "code",
   "execution_count": null,
   "id": "66a82c62-6e49-4112-9c12-4c6ea2107a4d",
   "metadata": {},
   "outputs": [],
   "source": [
    "## deeper model\n",
    "decoder_h1 = Dense(16, activation='relu')\n",
    "decoder_h2 = Dense(32, activation='relu')\n",
    "decoder_h3 = Dense(64, activation='relu')\n",
    "decoder_mean = Dense(input_dim, activation='sigmoid')\n",
    "\n",
    "h_decoded = decoder_h1(z)\n",
    "h_decoded = decoder_h2(h_decoded)\n",
    "h_decoded = decoder_h3(h_decoded)\n",
    "x_decoded_mean = decoder_mean(h_decoded)"
   ]
  },
  {
   "cell_type": "code",
   "execution_count": null,
   "id": "6249ff44-6da9-4269-8421-59745cf7db8a",
   "metadata": {},
   "outputs": [],
   "source": []
  },
  {
   "cell_type": "markdown",
   "id": "15854788-75ea-486a-be2c-04d9f14b4305",
   "metadata": {},
   "source": [
    "### model define"
   ]
  },
  {
   "cell_type": "code",
   "execution_count": null,
   "id": "cd88c0ef-4c9f-4046-8475-f3717971ce6c",
   "metadata": {
    "scrolled": true
   },
   "outputs": [],
   "source": [
    "vae = Model(inputs, x_decoded_mean)\n",
    "vae.summary()"
   ]
  },
  {
   "cell_type": "code",
   "execution_count": null,
   "id": "6e65e374-a6ec-4283-9adb-46d7a0f06297",
   "metadata": {},
   "outputs": [],
   "source": []
  },
  {
   "cell_type": "markdown",
   "id": "dbb1f847-50e1-4618-bf34-354f8dd26bfd",
   "metadata": {},
   "source": [
    "### loss function"
   ]
  },
  {
   "cell_type": "code",
   "execution_count": null,
   "id": "6f2b4d87-9753-4d54-8847-0423716328d6",
   "metadata": {},
   "outputs": [],
   "source": [
    "reconstruction_loss = MeanSquaredError()(inputs, x_decoded_mean)\n",
    "\n",
    "kl_loss = -0.5 * K.sum(1 + z_log_var - K.square(z_mean) - K.exp(z_log_var + K.epsilon()), axis=-1)\n",
    "vae_loss = K.mean(reconstruction_loss + kl_loss)\n",
    "vae.add_loss(vae_loss)"
   ]
  },
  {
   "cell_type": "code",
   "execution_count": null,
   "id": "eabac77c-2904-42d3-8320-dd13ee78bf71",
   "metadata": {},
   "outputs": [],
   "source": [
    "vae.compile(optimizer=Adam(learning_rate=args_aug.lr))"
   ]
  },
  {
   "cell_type": "code",
   "execution_count": null,
   "id": "c2cc6b33-1e6b-4465-b1d6-0b135a925546",
   "metadata": {
    "scrolled": true
   },
   "outputs": [],
   "source": [
    "vae.summary()"
   ]
  },
  {
   "cell_type": "code",
   "execution_count": null,
   "id": "b1139155-02ee-404f-956d-e7af3f896887",
   "metadata": {},
   "outputs": [],
   "source": []
  },
  {
   "cell_type": "markdown",
   "id": "d2f533fc-88fb-4e75-9887-abe1b7e27415",
   "metadata": {},
   "source": [
    "### model training"
   ]
  },
  {
   "cell_type": "code",
   "execution_count": null,
   "id": "a4fa97a2-a9c2-4ba4-8c9b-aa9fb1346bf9",
   "metadata": {
    "scrolled": true
   },
   "outputs": [],
   "source": [
    "vae.fit(data_x, epochs=args_aug.epochs, batch_size=args_aug.bs, validation_split=0.2, verbose=2)"
   ]
  },
  {
   "cell_type": "code",
   "execution_count": null,
   "id": "72bf17c1-399b-4ea8-adbc-cd9d53cb9b9e",
   "metadata": {},
   "outputs": [],
   "source": []
  },
  {
   "cell_type": "markdown",
   "id": "82788ff9-c20b-4da2-afab-f5868104e7ff",
   "metadata": {},
   "source": [
    "### extracting encoder, decoder"
   ]
  },
  {
   "cell_type": "code",
   "execution_count": null,
   "id": "6d8c7750-7601-4938-a7ee-24580cb9673d",
   "metadata": {},
   "outputs": [],
   "source": [
    "## encoder model extraction\n",
    "encoder = Model(inputs, z_mean)"
   ]
  },
  {
   "cell_type": "code",
   "execution_count": null,
   "id": "4a028027-249b-4217-a3c4-789257cfbd38",
   "metadata": {
    "scrolled": true
   },
   "outputs": [],
   "source": [
    "# ## decoder model extraction\n",
    "# ## shallow model\n",
    "# decoder_input = Input(shape=(latent_dim,))\n",
    "# _h_decoded = decoder_h(decoder_input)\n",
    "# _x_decoded_mean = decoder_mean(_h_decoded)\n",
    "# decoder = Model(decoder_input, _x_decoded_mean)\n",
    "\n",
    "## deeper model\n",
    "decoder_input = Input(shape=(latent_dim,))\n",
    "_h_decoded = decoder_h1(decoder_input)\n",
    "_h_decoded = decoder_h2(_h_decoded)\n",
    "_h_decoded = decoder_h3(_h_decoded)\n",
    "_x_decoded_mean = decoder_mean(_h_decoded)\n",
    "decoder = Model(decoder_input, _x_decoded_mean)"
   ]
  },
  {
   "cell_type": "code",
   "execution_count": null,
   "id": "6a9c88cd-baa4-4b43-9a63-1500699ec2d8",
   "metadata": {},
   "outputs": [],
   "source": []
  },
  {
   "cell_type": "code",
   "execution_count": null,
   "id": "93d1dedb-9b45-4ccd-8603-e019b2df6c3f",
   "metadata": {},
   "outputs": [],
   "source": []
  },
  {
   "cell_type": "code",
   "execution_count": null,
   "id": "45e4febe-4954-4b1d-8768-dd75cbdf5ac7",
   "metadata": {},
   "outputs": [],
   "source": [
    "# # 입력 데이터를 잠재 공간으로 인코딩\n",
    "# encoded_data = encoder.predict(data_x)\n",
    "\n",
    "# # 잠재 공간의 데이터를 디코딩하여 원래 공간으로 복원\n",
    "# decoded_data = decoder.predict(encoded_data)"
   ]
  },
  {
   "cell_type": "code",
   "execution_count": null,
   "id": "45f3d3a5-ca1e-4b91-a9f8-3263b335f9a5",
   "metadata": {},
   "outputs": [],
   "source": []
  },
  {
   "cell_type": "markdown",
   "id": "3c42c6ff-57e5-47c7-9f3d-4454e46fe5d6",
   "metadata": {
    "jp-MarkdownHeadingCollapsed": true
   },
   "source": [
    "### Latent space visualization"
   ]
  },
  {
   "cell_type": "code",
   "execution_count": null,
   "id": "141ff885-bf32-4cd4-85e5-5008bd2b4728",
   "metadata": {},
   "outputs": [],
   "source": [
    "## encode the input dataset into latent space\n",
    "encoded_data = encoder.predict(data_x)\n",
    "\n",
    "## latent space transform with t-SNE function\n",
    "tsne = TSNE(n_components=2, random_state=710674)\n",
    "encoded_data_tsne = tsne.fit_transform(encoded_data)\n",
    "\n",
    "## visualize\n",
    "plt.figure(figsize=(8, 6))\n",
    "plt.scatter(encoded_data_tsne[:, 0], encoded_data_tsne[:, 1], c=label, cmap='viridis')\n",
    "plt.colorbar()\n",
    "plt.xlabel(\"t-SNE component 1\")\n",
    "plt.ylabel(\"t-SNE component 2\")\n",
    "plt.title(\"t-SNE visualization of the latent space\")\n",
    "plt.show()"
   ]
  },
  {
   "cell_type": "code",
   "execution_count": null,
   "id": "32e235a2-97e6-477d-a78e-2d0ab44bd129",
   "metadata": {},
   "outputs": [],
   "source": []
  },
  {
   "cell_type": "code",
   "execution_count": null,
   "id": "2fb4121a-9bdd-4b39-b752-ad3afe3b8ff4",
   "metadata": {},
   "outputs": [],
   "source": []
  },
  {
   "cell_type": "markdown",
   "id": "abf1418c-cade-4b8d-86ef-3615c36bcb77",
   "metadata": {},
   "source": [
    "### Synthetic data generation"
   ]
  },
  {
   "cell_type": "code",
   "execution_count": null,
   "id": "c9551af0-3f19-4527-aef1-096873d7d7cb",
   "metadata": {},
   "outputs": [],
   "source": [
    "### sampling randomly from latent space\n",
    "n_samples = 100  # number of synthetic dataset to generate\n",
    "\n",
    "z_samples = np.random.normal(size=(n_samples, latent_dim))\n",
    "\n",
    "### 디코더를 통해 synthetic data 생성\n",
    "# synthetic_data_int = decoder.predict(z_samples)\n",
    "# synthetic_data_nos = decoder.predict(z_samples)\n",
    "synthetic_data_tip = decoder.predict(z_samples)"
   ]
  },
  {
   "cell_type": "code",
   "execution_count": null,
   "id": "ebc57f3d-590a-4c0e-954c-6b983b0ce8b9",
   "metadata": {},
   "outputs": [],
   "source": [
    "# gen_int = synthetic_data_int.copy()\n",
    "# gen_int = pd.DataFrame(gen_int, columns=data_x.columns)\n",
    "\n",
    "# #####################\n",
    "# gen_nos = synthetic_data_nos.copy()\n",
    "# gen_nos = pd.DataFrame(gen_nos, columns=data_x.columns)\n",
    "\n",
    "#####################\n",
    "gen_tip = synthetic_data_tip.copy()\n",
    "gen_tip = pd.DataFrame(gen_tip, columns=data_x.columns)"
   ]
  },
  {
   "cell_type": "code",
   "execution_count": null,
   "id": "4e1892b2-d5e3-440d-93d0-8b35f3f17350",
   "metadata": {},
   "outputs": [],
   "source": []
  },
  {
   "cell_type": "markdown",
   "id": "ab635290-9739-41a5-b469-fb86fd20a64f",
   "metadata": {},
   "source": [
    "### performance comparison"
   ]
  },
  {
   "cell_type": "code",
   "execution_count": null,
   "id": "13a13289-fda5-4694-b965-2ce9a17298a5",
   "metadata": {},
   "outputs": [],
   "source": []
  },
  {
   "cell_type": "code",
   "execution_count": null,
   "id": "b797a4fe-0a8b-41c2-95a3-ca47726e5d9c",
   "metadata": {},
   "outputs": [],
   "source": []
  },
  {
   "cell_type": "markdown",
   "id": "13796026-f1bf-43c8-a8d9-d473594cb4c6",
   "metadata": {},
   "source": [
    "#### using original + generated dataset"
   ]
  },
  {
   "cell_type": "markdown",
   "id": "6fed8331-0922-4bdf-8993-3a2d3077f276",
   "metadata": {},
   "source": [
    "* Set target information into newly generated dataset"
   ]
  },
  {
   "cell_type": "code",
   "execution_count": null,
   "id": "92f7c1a8-fdb1-4653-ae91-35e57b28405e",
   "metadata": {},
   "outputs": [],
   "source": [
    "gen_int['condition'] = \"interruption\"\n",
    "gen_nos['condition'] = \"no stress\"\n",
    "gen_tip['condition'] = \"time pressure\""
   ]
  },
  {
   "cell_type": "markdown",
   "id": "442f14ad-c567-4f94-a278-fe482a8b8308",
   "metadata": {},
   "source": [
    "* Preparing original dataset"
   ]
  },
  {
   "cell_type": "code",
   "execution_count": null,
   "id": "330d166d-ff7a-478a-acea-07a05c54c4bd",
   "metadata": {},
   "outputs": [],
   "source": [
    "data.shape"
   ]
  },
  {
   "cell_type": "code",
   "execution_count": null,
   "id": "6be7599b-07d0-4b43-9a65-3f3d3a9b672b",
   "metadata": {},
   "outputs": [],
   "source": [
    "data_int = data[data['condition']==\"interruption\"]\n",
    "data_nos = data[data['condition']==\"no stress\"]\n",
    "data_tip = data[data['condition']==\"time pressure\"]"
   ]
  },
  {
   "cell_type": "markdown",
   "id": "1b6c86e3-71d1-42e0-b7ed-c72ead662b12",
   "metadata": {},
   "source": [
    "* Concat the original datasets into one original dataframe"
   ]
  },
  {
   "cell_type": "code",
   "execution_count": null,
   "id": "a79dc3ad-3c6d-4f9d-b7e1-8614e1bf2cbe",
   "metadata": {},
   "outputs": [],
   "source": [
    "ori_df_list = [data_int, data_nos, data_tip]\n",
    "ori_df_concat = pd.concat(ori_df_list, ignore_index=True)"
   ]
  },
  {
   "cell_type": "code",
   "execution_count": null,
   "id": "59a82a2f-1eae-4ecd-ba39-1059595fab47",
   "metadata": {},
   "outputs": [],
   "source": [
    "ori_df_concat.shape"
   ]
  },
  {
   "cell_type": "code",
   "execution_count": null,
   "id": "33219592-c92c-4962-8ab5-544ae8fbf67b",
   "metadata": {},
   "outputs": [],
   "source": [
    "ori_df_concat['condition'].value_counts()"
   ]
  },
  {
   "cell_type": "markdown",
   "id": "3052c3d2-c5f6-439f-a8be-31a15f080514",
   "metadata": {},
   "source": [
    "* Concat the generated datasets into one gen dataframe"
   ]
  },
  {
   "cell_type": "code",
   "execution_count": null,
   "id": "686011db-6879-454b-bb33-2082f02e4e06",
   "metadata": {},
   "outputs": [],
   "source": [
    "gen_df_list = [gen_int, gen_nos, gen_tip]\n",
    "gen_df_concat = pd.concat(gen_df_list, ignore_index=True)"
   ]
  },
  {
   "cell_type": "code",
   "execution_count": null,
   "id": "073cd1d3-6b77-40a8-ba51-3e19e7a0ab12",
   "metadata": {},
   "outputs": [],
   "source": [
    "gen_df_concat['condition'].value_counts()"
   ]
  },
  {
   "cell_type": "code",
   "execution_count": null,
   "id": "3f489e45-0b00-4f9c-9d67-db81c83ac520",
   "metadata": {},
   "outputs": [],
   "source": []
  },
  {
   "cell_type": "markdown",
   "id": "4f8f9201-54ee-483a-b15c-f8685f3ca881",
   "metadata": {},
   "source": [
    "* Preparing x and y data vectors"
   ]
  },
  {
   "cell_type": "code",
   "execution_count": null,
   "id": "b697ca70-7cef-40e5-8d04-5c7d1544a7ba",
   "metadata": {},
   "outputs": [],
   "source": [
    "### Using MDD,BP dataset\n",
    "ori_x = ori_df_concat.drop(['condition'], axis=1)\n",
    "ori_y = ori_df_concat.loc[:,[\"condition\"]]\n",
    "\n",
    "gen_x = gen_df_concat.drop(['condition'], axis=1)\n",
    "gen_y = gen_df_concat.loc[:,[\"condition\"]]"
   ]
  },
  {
   "cell_type": "code",
   "execution_count": null,
   "id": "835d6a55-c823-4f77-950a-a37306c0d00c",
   "metadata": {},
   "outputs": [],
   "source": [
    "ori_x = ori_x.fillna(ori_x.mean())"
   ]
  },
  {
   "cell_type": "code",
   "execution_count": null,
   "id": "4e69148f-b00b-48bd-96c1-8e83b9a67d3e",
   "metadata": {},
   "outputs": [],
   "source": []
  },
  {
   "cell_type": "code",
   "execution_count": null,
   "id": "f3002ead-df2b-4686-bb3a-4cf7ba66735b",
   "metadata": {},
   "outputs": [],
   "source": [
    "label = ori_y\n",
    "label = label.replace({'interruption':0})\n",
    "label = label.replace({'no stress': 1})\n",
    "label = label.replace({'time pressure': 2})\n",
    "\n",
    "y_ori = to_categorical(label, 3) ## into the format of one-hot encoding"
   ]
  },
  {
   "cell_type": "code",
   "execution_count": null,
   "id": "cfbd50ae-9a5d-4afc-acea-e62d6ee8de30",
   "metadata": {},
   "outputs": [],
   "source": [
    "label_ = gen_y\n",
    "label_ = label_.replace({'interruption':0})\n",
    "label_ = label_.replace({'no stress': 1})\n",
    "label_ = label_.replace({'time pressure': 2})\n",
    "\n",
    "y_gen = to_categorical(label_, 3) ## into the format of one-hot encoding"
   ]
  },
  {
   "cell_type": "code",
   "execution_count": null,
   "id": "9df9a68d-bf83-4e65-bb66-3a58ad013c26",
   "metadata": {},
   "outputs": [],
   "source": []
  },
  {
   "cell_type": "markdown",
   "id": "e0bcf984-2a43-441a-ba55-d39568426fd5",
   "metadata": {},
   "source": [
    "* Separating the test dataset only from original dataframe"
   ]
  },
  {
   "cell_type": "code",
   "execution_count": null,
   "id": "9bcbf13b-0b7b-4778-a206-17da483ceecf",
   "metadata": {},
   "outputs": [],
   "source": [
    "x_trainset, x_test, y_trainset, y_test = train_test_split(ori_x, y_ori, test_size = 0.35, random_state = 710674)"
   ]
  },
  {
   "cell_type": "markdown",
   "id": "72e34052-7413-45c7-8601-53d72b5fe49d",
   "metadata": {},
   "source": [
    "* Then concat the generated dataset with training dataset"
   ]
  },
  {
   "cell_type": "code",
   "execution_count": null,
   "id": "29e1980c-1cdf-4707-93c7-58f6c52520f8",
   "metadata": {},
   "outputs": [],
   "source": [
    "x_train_concat = pd.concat([x_trainset, gen_x], ignore_index=True)\n",
    "y_train_concat = np.concatenate([y_trainset, y_gen])"
   ]
  },
  {
   "cell_type": "markdown",
   "id": "a7db1aa8-d4f4-4a16-81b4-c2d05c327b9b",
   "metadata": {},
   "source": [
    "* Then separating the validation dataset from concat dataframe"
   ]
  },
  {
   "cell_type": "code",
   "execution_count": null,
   "id": "0572cdb0-b457-45bb-8645-d4caafb00ba5",
   "metadata": {},
   "outputs": [],
   "source": [
    "x_train, x_vali, y_train, y_vali = train_test_split(x_train_concat, y_train_concat, test_size = 0.3, random_state = 710674)"
   ]
  },
  {
   "cell_type": "code",
   "execution_count": null,
   "id": "c047aa07-d00d-4601-b881-ff2fe8d07b07",
   "metadata": {},
   "outputs": [],
   "source": [
    "############## FOR FOUR-GROUP CLASSIFICATION ###############\n",
    "class_weight = {0:1, 1:1, 2:1}"
   ]
  },
  {
   "cell_type": "code",
   "execution_count": null,
   "id": "d6f47e38-286f-4ccf-a32e-b5d590f8c016",
   "metadata": {},
   "outputs": [],
   "source": [
    "#### Generate the model\n",
    "## this model is adequate for full variables usage\n",
    "model = Sequential()\n",
    "model.add(Dense(64, input_dim = x_train.shape[1], activation = 'relu'))\n",
    "model.add(BatchNormalization())\n",
    "model.add(Activation('relu'))\n",
    "model.add(Dense(128, activation = 'relu'))\n",
    "model.add(BatchNormalization())\n",
    "model.add(Activation('relu'))\n",
    "model.add(Dropout(0.5))\n",
    "model.add(Dense(128, activation = 'relu'))\n",
    "model.add(BatchNormalization())\n",
    "model.add(Activation('relu'))\n",
    "model.add(Dropout(0.5))\n",
    "model.add(Dense(64, activation = 'relu'))\n",
    "model.add(BatchNormalization())\n",
    "model.add(Dense(32, activation = 'relu'))\n",
    "model.add(Dense(args.num_classes, activation = 'softmax'))"
   ]
  },
  {
   "cell_type": "code",
   "execution_count": null,
   "id": "f6c50e44-a311-4563-92fd-4db27762e65a",
   "metadata": {},
   "outputs": [],
   "source": []
  },
  {
   "cell_type": "markdown",
   "id": "d0e4d0c2-badc-43cc-9bef-ca7a8456334f",
   "metadata": {},
   "source": [
    "* optimization function, model compile, and model training"
   ]
  },
  {
   "cell_type": "code",
   "execution_count": null,
   "id": "98c0c5da-06de-4a98-b691-d768893aa4d8",
   "metadata": {},
   "outputs": [],
   "source": [
    "opt = keras.optimizers.SGD(learning_rate = args.lr, decay = 1e-5, momentum = args.momentum)"
   ]
  },
  {
   "cell_type": "code",
   "execution_count": null,
   "id": "44a5ab0f-3f78-43fc-941c-28f96c8c2d7b",
   "metadata": {},
   "outputs": [],
   "source": [
    "# LearningRateScheduler 설정\n",
    "# lr_scheduler = LearningRateScheduler(lambda epoch: cyclic_learning_rate(epoch, base_lr=0.01, max_lr=0.006, step_size=300))\n",
    "lr_scheduler = LearningRateScheduler(lambda epoch: exp_range_lr(epoch, base_lr=0.01, max_lr=0.006, step_size=30, gamma=0.99994))"
   ]
  },
  {
   "cell_type": "code",
   "execution_count": null,
   "id": "d27142bb-9743-40da-9b16-2c33c738ce8c",
   "metadata": {
    "scrolled": true
   },
   "outputs": [],
   "source": [
    "model.compile(loss='categorical_crossentropy', optimizer=opt, metrics=['accuracy'])\n",
    "# history = model.fit(x_train, y_train, epochs=args.epochs, batch_size=args.bs, verbose=2)   ## using no class weight\n",
    "# history = model.fit(x_train, y_train, epochs=args.epochs, batch_size=args.bs, verbose=2, class_weight = class_weight)  ## using class weight\n",
    "history = model.fit(x_train, y_train, epochs=args.epochs, batch_size=args.bs, callbacks=[lr_scheduler], \n",
    "                    validation_data = (x_vali, y_vali), class_weight = class_weight, verbose=2) ## using LR scheduler callback"
   ]
  },
  {
   "cell_type": "code",
   "execution_count": null,
   "id": "f197f671-8896-41ea-98a9-25e65d9886f4",
   "metadata": {},
   "outputs": [],
   "source": []
  },
  {
   "cell_type": "markdown",
   "id": "911ce9e3-5946-4660-b846-e3327cd8d2a5",
   "metadata": {},
   "source": [
    "***"
   ]
  },
  {
   "cell_type": "code",
   "execution_count": null,
   "id": "0f425c29-85f1-47f1-999e-79115e4068ee",
   "metadata": {},
   "outputs": [],
   "source": [
    "y_predict = model.predict(x_test)\n",
    "y_predict = np.argmax(y_predict, axis = 1)\n",
    "y_test = np.argmax(y_test, axis = 1)\n",
    "\n",
    "result = confusion_matrix(y_test, y_predict, normalize = 'pred')\n",
    "print(result)"
   ]
  },
  {
   "cell_type": "code",
   "execution_count": null,
   "id": "8cc3eab2-45a8-495c-8ef1-56f51c80f65c",
   "metadata": {},
   "outputs": [],
   "source": [
    "figure = plt.figure(figsize=(6, 4))\n",
    "sns.heatmap(result, annot=True,cmap=plt.cm.Blues)\n",
    "plt.tight_layout()\n",
    "plt.ylabel('True label')\n",
    "plt.xlabel('Predicted label')\n",
    "plt.show()"
   ]
  },
  {
   "cell_type": "code",
   "execution_count": null,
   "id": "2f201355-70d1-4502-bf2e-362562284817",
   "metadata": {},
   "outputs": [],
   "source": [
    "accuracy = metrics.accuracy_score(y_test, y_predict)\n",
    "precision = metrics.precision_score(y_test, y_predict, average = 'macro')\n",
    "recall = metrics.recall_score(y_test, y_predict, average = 'micro')\n",
    "f1 = metrics.f1_score(y_test, y_predict, average = 'weighted')\n",
    "auc = roc_auc_score(y_test, model.predict(x_test, verbose=0), multi_class='ovr')\n",
    "\n",
    "print(\"=============================================\")\n",
    "print(\"The overall accuracy is:\", round(accuracy, 4))\n",
    "print(\"The precision score is:\", round(precision, 4))\n",
    "print(\"The recall score is:\", round(recall, 4))\n",
    "print(\"The f1 score is:\", round(f1, 4))\n",
    "print(\"The AUC score is:\", round(auc, 4))\n",
    "print(\"=============================================\")"
   ]
  },
  {
   "cell_type": "code",
   "execution_count": null,
   "id": "a9d1f5d2-5402-4ec1-8bc3-55d1d9b8726b",
   "metadata": {},
   "outputs": [],
   "source": []
  },
  {
   "cell_type": "code",
   "execution_count": null,
   "id": "17807ab3-bf47-43c8-95be-a2bc99a7b315",
   "metadata": {},
   "outputs": [],
   "source": []
  },
  {
   "cell_type": "markdown",
   "id": "1da20dde-3a70-41e2-904d-450f79795bd1",
   "metadata": {},
   "source": [
    "***"
   ]
  },
  {
   "cell_type": "markdown",
   "id": "8cf8b93d-ab7a-4544-9ccb-c78bab21f518",
   "metadata": {},
   "source": [
    "## VAE + DNN?"
   ]
  },
  {
   "cell_type": "markdown",
   "id": "736d869a-c79c-434e-863c-14034568fdaa",
   "metadata": {},
   "source": [
    "### data preparation"
   ]
  },
  {
   "cell_type": "code",
   "execution_count": null,
   "id": "00bf37a5-91c4-491e-b49e-ea713d33d413",
   "metadata": {},
   "outputs": [],
   "source": [
    "data = df_reduced.copy()\n",
    "# data = data.groupby('condition').apply(lambda x: x.sample(300)).reset_index(drop=True)"
   ]
  },
  {
   "cell_type": "code",
   "execution_count": null,
   "id": "078cb5a0-4dc4-49cb-851e-945afa47c921",
   "metadata": {},
   "outputs": [],
   "source": [
    "data_int = data[data['condition']==\"interruption\"]\n",
    "data_nos = data[data['condition']==\"no stress\"]\n",
    "data_tip = data[data['condition']==\"time pressure\"]"
   ]
  },
  {
   "cell_type": "code",
   "execution_count": null,
   "id": "23660413-40c1-45f6-b73d-738d73674f69",
   "metadata": {},
   "outputs": [],
   "source": [
    "class Args_vaednn:\n",
    "    # arugments\n",
    "    epochs=150\n",
    "    bs=32\n",
    "    lr=0.0001\n",
    "    momentum=0.9\n",
    "    num_classes= 3\n",
    "    seed=710674\n",
    "\n",
    "args_vaednn = Args_vaednn()\n",
    "\n",
    "# np.random.seed(args.seed)\n",
    "# random.seed(args.seed)\n",
    "# torch.manual_seed(args.seed)"
   ]
  },
  {
   "cell_type": "code",
   "execution_count": null,
   "id": "d1541331-caf2-45fa-b31d-09238a16853c",
   "metadata": {},
   "outputs": [],
   "source": [
    "data_vae = data.copy()\n",
    "# data_vae = data_int.copy()\n",
    "# data_vae = data_nos.copy()\n",
    "# data_vae = data_tip.copy()"
   ]
  },
  {
   "cell_type": "code",
   "execution_count": null,
   "id": "eabf6744-471c-454d-a823-a1c7279487dc",
   "metadata": {},
   "outputs": [],
   "source": [
    "data_vae.shape"
   ]
  },
  {
   "cell_type": "code",
   "execution_count": null,
   "id": "87d897d0-6ce5-4d28-8d31-89eccb7a517b",
   "metadata": {},
   "outputs": [],
   "source": [
    "# y includes our labels and x includes our features\n",
    "y = data_vae.condition\n",
    "list = ['condition']\n",
    "x = data_vae.drop(list, axis = 1 )"
   ]
  },
  {
   "cell_type": "code",
   "execution_count": null,
   "id": "a592e048-c987-4d35-8228-e6947d65427c",
   "metadata": {},
   "outputs": [],
   "source": [
    "data_x = x.copy()"
   ]
  },
  {
   "cell_type": "code",
   "execution_count": null,
   "id": "13720dea-f378-49f0-b5a7-8afd390a3dd7",
   "metadata": {},
   "outputs": [],
   "source": [
    "scaler = MinMaxScaler() #set the scaler (between 0 and 1)\n",
    "\n",
    "data_x[:] = scaler.fit_transform(data_x[:])\n",
    "data_x = data_x.round(decimals=6)"
   ]
  },
  {
   "cell_type": "code",
   "execution_count": null,
   "id": "899be61f-8e6f-4908-b103-748f7b1f7886",
   "metadata": {},
   "outputs": [],
   "source": [
    "########## FULL GROUP CLASSIFICATION ##########\n",
    "label = y\n",
    "label = label.replace({'interruption':0})\n",
    "label = label.replace({'no stress': 1})\n",
    "label = label.replace({'time pressure': 2})\n",
    "\n",
    "data_y = to_categorical(label, 3) ## into the format of one-hot encoding"
   ]
  },
  {
   "cell_type": "code",
   "execution_count": null,
   "id": "2b05f268-5c27-45dd-a992-4d9000e14899",
   "metadata": {},
   "outputs": [],
   "source": [
    "x_train, x_test, y_train, y_test = train_test_split(data_x, data_y, test_size = 0.2, random_state = 710674)"
   ]
  },
  {
   "cell_type": "code",
   "execution_count": null,
   "id": "f9259e57-6527-48e6-a223-c0f8be16e5e0",
   "metadata": {},
   "outputs": [],
   "source": []
  },
  {
   "cell_type": "code",
   "execution_count": null,
   "id": "bb4c137c-8c70-4082-84bf-0a857e5f65d9",
   "metadata": {},
   "outputs": [],
   "source": []
  },
  {
   "cell_type": "markdown",
   "id": "d86623c9-2332-4e0c-bb8d-8702be4f9b99",
   "metadata": {},
   "source": [
    "### model"
   ]
  },
  {
   "cell_type": "code",
   "execution_count": null,
   "id": "129a36a8-c3c1-4c3c-8a76-488e7b491599",
   "metadata": {},
   "outputs": [],
   "source": [
    "input_dim = data_x.shape[1]\n",
    "latent_dim = 10"
   ]
  },
  {
   "cell_type": "code",
   "execution_count": null,
   "id": "ac4775eb-d035-45dd-bb91-e8873fe0c116",
   "metadata": {},
   "outputs": [],
   "source": [
    "## encoder model for VAE+DNN\n",
    "def build_encoder(input_dim, latent_dim):\n",
    "    inputs = layers.Input(shape=(input_dim,))\n",
    "    x = layers.Dense(64, activation='relu')(inputs)\n",
    "    x = layers.Dense(32, activation='relu')(x)\n",
    "    \n",
    "    z_mean = layers.Dense(latent_dim)(x)\n",
    "    z_log_var = layers.Dense(latent_dim)(x)\n",
    "    \n",
    "    def sampling(args):\n",
    "        z_mean, z_log_var = args\n",
    "        epsilon = K.random_normal(shape=(K.shape(z_mean)[0], latent_dim), mean=0., stddev=1.0)\n",
    "        return z_mean + K.exp(z_log_var) * epsilon\n",
    "\n",
    "    z = layers.Lambda(sampling, output_shape=(latent_dim,))([z_mean, z_log_var])\n",
    "\n",
    "    return Model(inputs, [z_mean, z_log_var, z], name='encoder')"
   ]
  },
  {
   "cell_type": "code",
   "execution_count": null,
   "id": "be8c77f1-e707-4262-a465-98162a5e0816",
   "metadata": {},
   "outputs": [],
   "source": [
    "## decoder model for VAE+DNN\n",
    "def build_decoder(latent_dim, output_dim):\n",
    "    latent_inputs = layers.Input(shape=(latent_dim,))\n",
    "    x = layers.Dense(32, activation='relu')(latent_inputs)\n",
    "    x = layers.Dense(64, activation='relu')(x)\n",
    "    outputs = layers.Dense(output_dim)(x)\n",
    "    \n",
    "    return Model(latent_inputs, outputs, name='decoder')"
   ]
  },
  {
   "cell_type": "code",
   "execution_count": null,
   "id": "7231605a-2f78-4e33-8bec-c55b5d9470ce",
   "metadata": {},
   "outputs": [],
   "source": [
    "## VAE model\n",
    "class VAE(Model):\n",
    "    def __init__(self, encoder, decoder, **kwargs):\n",
    "        super(VAE, self).__init__(**kwargs)\n",
    "        self.encoder = encoder\n",
    "        self.decoder = decoder\n",
    "\n",
    "    def call(self, inputs):\n",
    "        z_mean, z_log_var, z = self.encoder(inputs)\n",
    "        reconstructed = self.decoder(z)\n",
    "        reconstruction_loss = mse(inputs, reconstructed) * input_dim\n",
    "        kl_loss = -0.5 * K.sum(1 + z_log_var - K.square(z_mean) - K.exp(z_log_var), axis=-1)\n",
    "        self.add_loss(K.mean(reconstruction_loss + kl_loss))\n",
    "        return reconstructed"
   ]
  },
  {
   "cell_type": "code",
   "execution_count": null,
   "id": "c1012129-9f54-4a34-917d-a42207f2ba75",
   "metadata": {},
   "outputs": [],
   "source": [
    "encoder = build_encoder(input_dim, latent_dim)\n",
    "decoder = build_decoder(latent_dim, input_dim)\n",
    "\n",
    "vae = VAE(encoder, decoder)\n",
    "vae.compile(optimizer=Adam())"
   ]
  },
  {
   "cell_type": "code",
   "execution_count": null,
   "id": "1044ea3d-e90d-4e7d-9041-1ef7c98f37f9",
   "metadata": {
    "scrolled": true
   },
   "outputs": [],
   "source": [
    "# VAE 모델 학습\n",
    "vae.fit(x_train, epochs=args_vaednn.epochs, batch_size=args_vaednn.bs, validation_split=0.2)"
   ]
  },
  {
   "cell_type": "code",
   "execution_count": null,
   "id": "757a2b94-7e50-45f8-a8d4-85f22c6d86bd",
   "metadata": {},
   "outputs": [],
   "source": [
    "## add fully-connected classifier at the back of the VAE model\n",
    "def build_vae_with_classifier(vae, input_dim):\n",
    "    vae_input = layers.Input(shape=(input_dim,))\n",
    "    vae_output = vae(vae_input)  # output from vae (reconstructed dataset)\n",
    "    \n",
    "    ## classifier defining\n",
    "    x = layers.Dense(64, activation='relu')(vae_output)\n",
    "    x = layers.Dense(32, activation='relu')(x)\n",
    "    classifier_output = layers.Dense(args_vaednn.num_classes, activation='softmax')(x)\n",
    "    \n",
    "    return Model(vae_input, classifier_output)\n",
    "\n",
    "## classifier \n",
    "opt = keras.optimizers.SGD(learning_rate = args.lr, decay = 1e-5, momentum = args.momentum)\n",
    "vae_with_classifier = build_vae_with_classifier(vae, input_dim)\n",
    "vae_with_classifier.compile(optimizer=opt, loss='categorical_crossentropy', metrics=['accuracy'])"
   ]
  },
  {
   "cell_type": "code",
   "execution_count": null,
   "id": "5e3f6096-cabb-448c-b30f-4f6e7002b5e7",
   "metadata": {},
   "outputs": [],
   "source": [
    "vae_with_classifier.summary()"
   ]
  },
  {
   "cell_type": "code",
   "execution_count": null,
   "id": "063904fe-cc22-4de7-be14-4a05a4fa03d0",
   "metadata": {
    "scrolled": true
   },
   "outputs": [],
   "source": [
    "## model training\n",
    "vae_with_classifier.fit(x_train, y_train, epochs=args_vaednn.epochs, batch_size=args_vaednn.bs)"
   ]
  },
  {
   "cell_type": "code",
   "execution_count": null,
   "id": "eeeeb4cd-29e7-48c3-bda9-3d928665715f",
   "metadata": {},
   "outputs": [],
   "source": []
  },
  {
   "cell_type": "code",
   "execution_count": null,
   "id": "90df496c-d5cf-4adc-8b09-eab52a4693cc",
   "metadata": {},
   "outputs": [],
   "source": []
  },
  {
   "cell_type": "markdown",
   "id": "63d546b2-33f4-4349-874a-13d36c92ce2d",
   "metadata": {},
   "source": [
    "***"
   ]
  },
  {
   "cell_type": "code",
   "execution_count": null,
   "id": "e7df0c46-1b8d-4985-bc8b-0e3cd54fc48c",
   "metadata": {},
   "outputs": [],
   "source": [
    "y_predict = vae_with_classifier.predict(x_test)\n",
    "y_predict = np.argmax(y_predict, axis = 1)\n",
    "y_test = np.argmax(y_test, axis = 1)\n",
    "\n",
    "result = confusion_matrix(y_test, y_predict, normalize = 'pred')\n",
    "print(result)"
   ]
  },
  {
   "cell_type": "code",
   "execution_count": null,
   "id": "71a67d98-9170-4b21-b59c-3ef8bcccc36e",
   "metadata": {},
   "outputs": [],
   "source": [
    "figure = plt.figure(figsize=(6, 4))\n",
    "sns.heatmap(result, annot=True,cmap=plt.cm.Blues)\n",
    "plt.tight_layout()\n",
    "plt.ylabel('True label')\n",
    "plt.xlabel('Predicted label')\n",
    "plt.show()"
   ]
  },
  {
   "cell_type": "code",
   "execution_count": null,
   "id": "91e40377-5c8e-42d3-8e97-2e5ceae43133",
   "metadata": {},
   "outputs": [],
   "source": [
    "accuracy = metrics.accuracy_score(y_test, y_predict)\n",
    "precision = metrics.precision_score(y_test, y_predict, average = 'macro')\n",
    "recall = metrics.recall_score(y_test, y_predict, average = 'micro')\n",
    "f1 = metrics.f1_score(y_test, y_predict, average = 'weighted')\n",
    "auc = roc_auc_score(y_test, vae_with_classifier.predict(x_test, verbose=0), multi_class='ovr')\n",
    "\n",
    "print(\"=============================================\")\n",
    "print(\"The overall accuracy is:\", round(accuracy, 4))\n",
    "print(\"The precision score is:\", round(precision, 4))\n",
    "print(\"The recall score is:\", round(recall, 4))\n",
    "print(\"The f1 score is:\", round(f1, 4))\n",
    "print(\"The AUC score is:\", round(auc, 4))\n",
    "print(\"=============================================\")"
   ]
  },
  {
   "cell_type": "code",
   "execution_count": null,
   "id": "73eed44c-d3cb-4a04-ad9c-b21209a3a6f2",
   "metadata": {},
   "outputs": [],
   "source": []
  },
  {
   "cell_type": "code",
   "execution_count": null,
   "id": "ce692b7e-2e4a-42e7-8236-a669894b9f36",
   "metadata": {},
   "outputs": [],
   "source": []
  },
  {
   "cell_type": "markdown",
   "id": "21069ae0-937f-4a18-ad43-654da784b4bd",
   "metadata": {},
   "source": [
    "## VAE + DNN v2"
   ]
  },
  {
   "cell_type": "markdown",
   "id": "0261d459-dc0f-4a18-8a87-2c4921416cc3",
   "metadata": {},
   "source": [
    "> This model is adding classifier after the encoder section"
   ]
  },
  {
   "cell_type": "markdown",
   "id": "33d762a4-d94b-43f1-a117-9c6bdd606424",
   "metadata": {},
   "source": [
    "### model"
   ]
  },
  {
   "cell_type": "code",
   "execution_count": null,
   "id": "103526f2-8cf0-4a4b-b4bb-516d8688a1bd",
   "metadata": {},
   "outputs": [],
   "source": [
    "input_dim = data_x.shape[1]\n",
    "latent_dim = 4"
   ]
  },
  {
   "cell_type": "code",
   "execution_count": null,
   "id": "6f35b5b3-62be-4f50-bc9b-94b0393afdb2",
   "metadata": {},
   "outputs": [],
   "source": [
    "def build_encoder(input_dim, latent_dim):\n",
    "    inputs = layers.Input(shape=(input_dim,))\n",
    "    x = layers.Dense(64, activation='relu')(inputs)\n",
    "    x = layers.Dense(32, activation='relu')(x)\n",
    "    x = layers.Dense(16, activation='relu')(x)\n",
    "    x = layers.Dense(8, activation='relu')(x)\n",
    "    z_mean = layers.Dense(latent_dim)(x)\n",
    "    z_log_var = layers.Dense(latent_dim)(x)\n",
    "\n",
    "    def sampling(args):\n",
    "        z_mean, z_log_var = args\n",
    "        epsilon = tf.random.normal(shape=(tf.shape(z_mean)[0], latent_dim))\n",
    "        return z_mean + tf.exp(0.5 * z_log_var) * epsilon\n",
    "\n",
    "    z = layers.Lambda(sampling, output_shape=(latent_dim,))([z_mean, z_log_var])\n",
    "    return models.Model(inputs, [z_mean, z_log_var, z], name=\"encoder\")"
   ]
  },
  {
   "cell_type": "code",
   "execution_count": null,
   "id": "a00b4e42-c1ee-41f8-b96f-a9c91a0e8c9c",
   "metadata": {},
   "outputs": [],
   "source": [
    "def build_decoder(latent_dim, output_dim):\n",
    "    latent_inputs = layers.Input(shape=(latent_dim,))\n",
    "    x = layers.Dense(8, activation='relu')(latent_inputs)\n",
    "    x = layers.Dense(16, activation='relu')(x)\n",
    "    x = layers.Dense(32, activation='relu')(x)\n",
    "    x = layers.Dense(64, activation='relu')(x)\n",
    "    outputs = layers.Dense(output_dim, activation='softmax')(x)\n",
    "    return models.Model(latent_inputs, outputs, name=\"decoder\")"
   ]
  },
  {
   "cell_type": "code",
   "execution_count": null,
   "id": "eb4a71a0-8c11-4449-a826-48d2b289c335",
   "metadata": {},
   "outputs": [],
   "source": [
    "def build_vae(encoder, decoder, input_dim):\n",
    "    inputs = layers.Input(shape=(input_dim,))\n",
    "    z_mean, z_log_var, z = encoder(inputs)\n",
    "    reconstructed = decoder(z)\n",
    "\n",
    "    reconstruction_loss = tf.reduce_mean(losses.binary_crossentropy(inputs, reconstructed))\n",
    "    kl_loss = -0.5 * tf.reduce_mean(1 + z_log_var - tf.square(z_mean) - tf.exp(z_log_var))\n",
    "    vae_loss = reconstruction_loss + kl_loss\n",
    "\n",
    "    vae = models.Model(inputs, reconstructed)\n",
    "    vae.add_loss(vae_loss)\n",
    "    vae.compile(optimizer='adam')\n",
    "    return vae"
   ]
  },
  {
   "cell_type": "code",
   "execution_count": null,
   "id": "0ef1cd50-1868-40b6-91f4-80c095779773",
   "metadata": {},
   "outputs": [],
   "source": [
    "def build_classifier(latent_dim, num_classes):\n",
    "    classifier_input = layers.Input(shape=(latent_dim,))\n",
    "    x = layers.Dense(64, activation='relu')(classifier_input)\n",
    "    x = layers.BatchNormalization()(x)\n",
    "    x = layers.Dense(128, activation='relu')(x)\n",
    "    x = layers.BatchNormalization()(x)\n",
    "    x = layers.Dropout(0.5)(x)\n",
    "    x = layers.Dense(128, activation='relu')(x)\n",
    "    x = layers.BatchNormalization()(x)\n",
    "    x = layers.Dropout(0.5)(x)\n",
    "    x = layers.Dense(64, activation='relu')(x)\n",
    "    x = layers.BatchNormalization()(x)\n",
    "    x = layers.Dense(32, activation='relu')(x)\n",
    "    classifier_output = layers.Dense(args_vaednn.num_classes, activation='softmax')(x)\n",
    "    \n",
    "    classifier = models.Model(classifier_input, classifier_output, name='classifier')\n",
    "    # classifier.compile(optimizer='adam', loss='sparse_categorical_crossentropy', metrics=['accuracy'])\n",
    "    classifier.compile(optimizer='adam', loss='categorical_crossentropy', metrics=['accuracy'])\n",
    "    return classifier"
   ]
  },
  {
   "cell_type": "code",
   "execution_count": null,
   "id": "6671e5f0-46cf-4280-aa81-19a43e8bdf60",
   "metadata": {
    "scrolled": true
   },
   "outputs": [],
   "source": [
    "encoder = build_encoder(input_dim, latent_dim)\n",
    "decoder = build_decoder(latent_dim, input_dim)\n",
    "vae = build_vae(encoder, decoder, input_dim)\n",
    "\n",
    "vae.fit(x_train, epochs=args_vaednn.epochs, batch_size=args_vaednn.bs)"
   ]
  },
  {
   "cell_type": "code",
   "execution_count": null,
   "id": "8a6eb94b-ac99-4a8d-8f34-36824566dcb6",
   "metadata": {
    "scrolled": true
   },
   "outputs": [],
   "source": [
    "z_train = encoder.predict(x_train)[2]\n",
    "\n",
    "classifier = build_classifier(latent_dim, args_vaednn.num_classes)\n",
    "classifier.fit(z_train, y_train, epochs=args_vaednn.epochs, batch_size=args_vaednn.bs)"
   ]
  },
  {
   "cell_type": "code",
   "execution_count": null,
   "id": "f7b1a9e0-7143-4aff-b065-f8456beac6a5",
   "metadata": {},
   "outputs": [],
   "source": [
    "# encoder.predict(x_test)[2]"
   ]
  },
  {
   "cell_type": "code",
   "execution_count": null,
   "id": "407d22b2-c693-44ed-8bf9-bf5fe1d668bc",
   "metadata": {},
   "outputs": [],
   "source": []
  },
  {
   "cell_type": "markdown",
   "id": "4c70769e-af35-4193-b399-10588106da4d",
   "metadata": {},
   "source": [
    "***"
   ]
  },
  {
   "cell_type": "code",
   "execution_count": null,
   "id": "4caff1e4-2566-48de-a1c9-189dc91abd83",
   "metadata": {},
   "outputs": [],
   "source": [
    "z_test = encoder.predict(x_test)[2]"
   ]
  },
  {
   "cell_type": "code",
   "execution_count": null,
   "id": "23789d16-135c-4cdb-8a51-6dd09256630d",
   "metadata": {},
   "outputs": [],
   "source": [
    "y_predict = classifier.predict(z_test)"
   ]
  },
  {
   "cell_type": "code",
   "execution_count": null,
   "id": "0f745702-f63f-44bf-9f7b-0643cd412c21",
   "metadata": {
    "scrolled": true
   },
   "outputs": [],
   "source": [
    "y_predict = np.argmax(y_predict, axis = 1)"
   ]
  },
  {
   "cell_type": "code",
   "execution_count": null,
   "id": "026cac00-5a51-4989-be5d-ca51773d3e97",
   "metadata": {},
   "outputs": [],
   "source": [
    "y_test"
   ]
  },
  {
   "cell_type": "code",
   "execution_count": null,
   "id": "82d25d49-2498-4466-b35b-ffb30be49e1d",
   "metadata": {},
   "outputs": [],
   "source": [
    "z_test = encoder.predict(x_test)[2]\n",
    "\n",
    "y_predict = classifier.predict(z_test)\n",
    "y_predict = np.argmax(y_predict, axis = 1)\n",
    "# y_test = np.argmax(y_test, axis = 1)\n",
    "\n",
    "result = confusion_matrix(y_test, y_predict, normalize = 'pred')\n",
    "print(result)"
   ]
  },
  {
   "cell_type": "code",
   "execution_count": null,
   "id": "4512b0f1-fc8f-4d19-bb7b-d12ce4c6c151",
   "metadata": {},
   "outputs": [],
   "source": [
    "figure = plt.figure(figsize=(6, 4))\n",
    "sns.heatmap(result, annot=True,cmap=plt.cm.Blues)\n",
    "plt.tight_layout()\n",
    "plt.ylabel('True label')\n",
    "plt.xlabel('Predicted label')\n",
    "plt.show()"
   ]
  },
  {
   "cell_type": "code",
   "execution_count": null,
   "id": "31507219-7be2-4b34-abb6-dcdfbb3d6040",
   "metadata": {},
   "outputs": [],
   "source": [
    "accuracy = metrics.accuracy_score(y_test, y_predict)\n",
    "precision = metrics.precision_score(y_test, y_predict, average = 'macro')\n",
    "recall = metrics.recall_score(y_test, y_predict, average = 'micro')\n",
    "f1 = metrics.f1_score(y_test, y_predict, average = 'weighted')\n",
    "auc = roc_auc_score(y_test, vae_with_classifier.predict(x_test, verbose=0), multi_class='ovr')\n",
    "\n",
    "print(\"=============================================\")\n",
    "print(\"The overall accuracy is:\", round(accuracy, 4))\n",
    "print(\"The precision score is:\", round(precision, 4))\n",
    "print(\"The recall score is:\", round(recall, 4))\n",
    "print(\"The f1 score is:\", round(f1, 4))\n",
    "print(\"The AUC score is:\", round(auc, 4))\n",
    "print(\"=============================================\")"
   ]
  },
  {
   "cell_type": "code",
   "execution_count": null,
   "id": "a875cf9d-03a3-4e4f-8cd0-1393f4d31e7d",
   "metadata": {},
   "outputs": [],
   "source": []
  },
  {
   "cell_type": "code",
   "execution_count": null,
   "id": "ee251595-9b46-42bc-a707-69093fe2ef4f",
   "metadata": {},
   "outputs": [],
   "source": []
  }
 ],
 "metadata": {
  "kernelspec": {
   "display_name": "Python 3 (ipykernel)",
   "language": "python",
   "name": "python3"
  },
  "language_info": {
   "codemirror_mode": {
    "name": "ipython",
    "version": 3
   },
   "file_extension": ".py",
   "mimetype": "text/x-python",
   "name": "python",
   "nbconvert_exporter": "python",
   "pygments_lexer": "ipython3",
   "version": "3.9.17"
  }
 },
 "nbformat": 4,
 "nbformat_minor": 5
}
