{
 "cells": [
  {
   "cell_type": "markdown",
   "id": "139b4289-501e-40d3-a7ad-925ef5d0c7e2",
   "metadata": {},
   "source": [
    "# Data Augmentation for insufficient data environment"
   ]
  },
  {
   "cell_type": "code",
   "execution_count": 1,
   "id": "7e705671-3ad4-4f89-89f1-329a3088c1dc",
   "metadata": {},
   "outputs": [],
   "source": [
    "# import csv\n",
    "# import random\n",
    "# import torch\n",
    "# import torchvision\n",
    "# import tensorflow as tf\n",
    "import pandas as pd\n",
    "# import numpy as np\n",
    "# import seaborn as sns\n",
    "# import matplotlib.pyplot as plt\n",
    "\n",
    "\n",
    "# from PIL import Image"
   ]
  },
  {
   "cell_type": "code",
   "execution_count": 2,
   "id": "511e778e-3a21-48a6-892d-d52f9a037941",
   "metadata": {},
   "outputs": [],
   "source": [
    "# from scipy import stats\n",
    "# from scipy.stats import ttest_ind\n",
    "# from sklearn.model_selection import train_test_split\n",
    "# from keras.models import Sequential\n",
    "# from keras.layers import Dense , Activation, Dropout\n",
    "# from keras.optimizers import Adam ,RMSprop\n",
    "# from keras import  backend as K\n",
    "# from keras.optimizers import SGD\n",
    "# # from tensorflow.keras import utils as np_utils\n",
    "# # from tensorflow.keras.metrics import binary_focal_crossentropy\n",
    "# from sklearn.linear_model import LogisticRegression\n",
    "# from tensorflow.keras.utils import to_categorical\n",
    "# from torch.utils.data import TensorDataset, DataLoader"
   ]
  },
  {
   "cell_type": "code",
   "execution_count": null,
   "id": "600fc8a5-b5a7-4f33-94f3-324bec35092e",
   "metadata": {},
   "outputs": [],
   "source": []
  },
  {
   "cell_type": "markdown",
   "id": "e5bd43d7-7097-4afd-a0e9-e5d18ce993af",
   "metadata": {},
   "source": [
    "## Prepare dataset"
   ]
  },
  {
   "cell_type": "code",
   "execution_count": 3,
   "id": "b29f00d4-a901-41ce-896b-f050eeadbab1",
   "metadata": {},
   "outputs": [],
   "source": [
    "## HRV dataset (collected from JA, SMC)\n",
    "data = pd.read_csv('E:/RESEARCH/Datasets/HRV/JA/HRV_prep.csv')"
   ]
  },
  {
   "cell_type": "code",
   "execution_count": 4,
   "id": "f8978f68-713f-4feb-825b-3780ab9ea4f2",
   "metadata": {},
   "outputs": [],
   "source": [
    "## Outlier dataset removal\n",
    "data = data[(data.srd >=0.8) & (data.srd <= 1.0)] ## srd outlier removed - there were 1424 outlier data\n",
    "data = data[(data.abnormal_hr) <= 5] ## abnormal heart rate outlier removed - there were 175 outlier data"
   ]
  },
  {
   "cell_type": "code",
   "execution_count": 7,
   "id": "addab3d3-4432-4f1a-839b-5d7e161380c6",
   "metadata": {},
   "outputs": [],
   "source": [
    "## generating new variables to check depression and anxiety variable\n",
    "data['depression'] = 0\n",
    "data['anxious'] = 0"
   ]
  },
  {
   "cell_type": "code",
   "execution_count": 8,
   "id": "6641378b-2bdf-4ed7-b79a-c054d77323c2",
   "metadata": {},
   "outputs": [],
   "source": [
    "## Arranging depression into 4 classes based on HAMD and BDI (normal, mild, moderate, severe)\n",
    "data.loc[(data['HAMD_']==\"normal\") & (data['BDI_']==\"normal\"), 'depression' ] = 'normal'\n",
    "data.loc[(data['HAMD_']==\"mild\") & (data['BDI_']==\"mild\"), 'depression' ] = 'mild'\n",
    "data.loc[(data['HAMD_']==\"moderate\") & (data['BDI_']==\"moderate\"), 'depression' ] = 'moderate'\n",
    "data.loc[(data['HAMD_']==\"severe\") & (data['BDI_']==\"severe\"), 'depression' ] = 'severe'"
   ]
  },
  {
   "cell_type": "code",
   "execution_count": 9,
   "id": "1c4b04e7-aa65-4432-92ad-69ae50645945",
   "metadata": {},
   "outputs": [],
   "source": [
    "## Arranging anxiety into 4 classes based on HAMA and BAI (normal, mild, moderate, severe)\n",
    "data.loc[(data['HAMA_']==\"normal\") & (data['BAI_']==\"normal\"), 'anxious' ] = 'normal'\n",
    "data.loc[(data['HAMA_']==\"mild\") & (data['BAI_']==\"mild\"), 'anxious' ] = 'mild'\n",
    "data.loc[(data['HAMA_']==\"moderate\") & (data['BAI_']==\"moderate\"), 'anxious' ] = 'moderate'\n",
    "data.loc[(data['HAMA_']==\"severe\") & (data['BAI_']==\"severe\"), 'anxious' ] = 'severe'"
   ]
  },
  {
   "cell_type": "code",
   "execution_count": 11,
   "id": "baad9665-52c4-49c8-9238-1ce710199b72",
   "metadata": {},
   "outputs": [
    {
     "data": {
      "text/html": [
       "<div>\n",
       "<style scoped>\n",
       "    .dataframe tbody tr th:only-of-type {\n",
       "        vertical-align: middle;\n",
       "    }\n",
       "\n",
       "    .dataframe tbody tr th {\n",
       "        vertical-align: top;\n",
       "    }\n",
       "\n",
       "    .dataframe thead th {\n",
       "        text-align: right;\n",
       "    }\n",
       "</style>\n",
       "<table border=\"1\" class=\"dataframe\">\n",
       "  <thead>\n",
       "    <tr style=\"text-align: right;\">\n",
       "      <th></th>\n",
       "      <th>subject</th>\n",
       "      <th>gender</th>\n",
       "      <th>age</th>\n",
       "      <th>auto_activity</th>\n",
       "      <th>auto_balance</th>\n",
       "      <th>stress_resist</th>\n",
       "      <th>stress_index</th>\n",
       "      <th>tired</th>\n",
       "      <th>avg_hr</th>\n",
       "      <th>heart_stable</th>\n",
       "      <th>...</th>\n",
       "      <th>BDI-II</th>\n",
       "      <th>BAI</th>\n",
       "      <th>MDQ</th>\n",
       "      <th>HCL-32</th>\n",
       "      <th>HAMD_</th>\n",
       "      <th>HAMA_</th>\n",
       "      <th>BDI_</th>\n",
       "      <th>BAI_</th>\n",
       "      <th>depression</th>\n",
       "      <th>anxious</th>\n",
       "    </tr>\n",
       "  </thead>\n",
       "  <tbody>\n",
       "    <tr>\n",
       "      <th>0</th>\n",
       "      <td>A0001</td>\n",
       "      <td>F</td>\n",
       "      <td>64</td>\n",
       "      <td>50</td>\n",
       "      <td>76</td>\n",
       "      <td>59</td>\n",
       "      <td>150</td>\n",
       "      <td>150</td>\n",
       "      <td>82</td>\n",
       "      <td>50</td>\n",
       "      <td>...</td>\n",
       "      <td>19.0</td>\n",
       "      <td>7.0</td>\n",
       "      <td>2.0</td>\n",
       "      <td>11.0</td>\n",
       "      <td>mild</td>\n",
       "      <td>normal</td>\n",
       "      <td>moderate</td>\n",
       "      <td>normal</td>\n",
       "      <td>0</td>\n",
       "      <td>normal</td>\n",
       "    </tr>\n",
       "    <tr>\n",
       "      <th>1</th>\n",
       "      <td>A0002</td>\n",
       "      <td>F</td>\n",
       "      <td>27</td>\n",
       "      <td>101</td>\n",
       "      <td>74</td>\n",
       "      <td>105</td>\n",
       "      <td>87</td>\n",
       "      <td>92</td>\n",
       "      <td>68</td>\n",
       "      <td>91</td>\n",
       "      <td>...</td>\n",
       "      <td>43.0</td>\n",
       "      <td>NaN</td>\n",
       "      <td>7.0</td>\n",
       "      <td>1.0</td>\n",
       "      <td>moderate</td>\n",
       "      <td>normal</td>\n",
       "      <td>severe</td>\n",
       "      <td>NaN</td>\n",
       "      <td>0</td>\n",
       "      <td>0</td>\n",
       "    </tr>\n",
       "    <tr>\n",
       "      <th>3</th>\n",
       "      <td>A0004</td>\n",
       "      <td>F</td>\n",
       "      <td>41</td>\n",
       "      <td>93</td>\n",
       "      <td>92</td>\n",
       "      <td>100</td>\n",
       "      <td>91</td>\n",
       "      <td>105</td>\n",
       "      <td>71</td>\n",
       "      <td>116</td>\n",
       "      <td>...</td>\n",
       "      <td>40.0</td>\n",
       "      <td>NaN</td>\n",
       "      <td>3.0</td>\n",
       "      <td>0.0</td>\n",
       "      <td>severe</td>\n",
       "      <td>severe</td>\n",
       "      <td>severe</td>\n",
       "      <td>NaN</td>\n",
       "      <td>severe</td>\n",
       "      <td>0</td>\n",
       "    </tr>\n",
       "    <tr>\n",
       "      <th>4</th>\n",
       "      <td>A0006</td>\n",
       "      <td>F</td>\n",
       "      <td>47</td>\n",
       "      <td>81</td>\n",
       "      <td>53</td>\n",
       "      <td>73</td>\n",
       "      <td>124</td>\n",
       "      <td>109</td>\n",
       "      <td>86</td>\n",
       "      <td>82</td>\n",
       "      <td>...</td>\n",
       "      <td>21.0</td>\n",
       "      <td>10.0</td>\n",
       "      <td>4.0</td>\n",
       "      <td>12.0</td>\n",
       "      <td>mild</td>\n",
       "      <td>normal</td>\n",
       "      <td>moderate</td>\n",
       "      <td>mild</td>\n",
       "      <td>0</td>\n",
       "      <td>0</td>\n",
       "    </tr>\n",
       "    <tr>\n",
       "      <th>6</th>\n",
       "      <td>A0008</td>\n",
       "      <td>F</td>\n",
       "      <td>35</td>\n",
       "      <td>139</td>\n",
       "      <td>89</td>\n",
       "      <td>129</td>\n",
       "      <td>66</td>\n",
       "      <td>77</td>\n",
       "      <td>60</td>\n",
       "      <td>150</td>\n",
       "      <td>...</td>\n",
       "      <td>11.0</td>\n",
       "      <td>6.0</td>\n",
       "      <td>12.0</td>\n",
       "      <td>17.0</td>\n",
       "      <td>mild</td>\n",
       "      <td>mild</td>\n",
       "      <td>normal</td>\n",
       "      <td>normal</td>\n",
       "      <td>0</td>\n",
       "      <td>0</td>\n",
       "    </tr>\n",
       "  </tbody>\n",
       "</table>\n",
       "<p>5 rows × 75 columns</p>\n",
       "</div>"
      ],
      "text/plain": [
       "  subject gender  age  auto_activity  auto_balance  stress_resist  \\\n",
       "0   A0001      F   64             50            76             59   \n",
       "1   A0002      F   27            101            74            105   \n",
       "3   A0004      F   41             93            92            100   \n",
       "4   A0006      F   47             81            53             73   \n",
       "6   A0008      F   35            139            89            129   \n",
       "\n",
       "   stress_index  tired  avg_hr  heart_stable  ...  BDI-II   BAI   MDQ  HCL-32  \\\n",
       "0           150    150      82            50  ...    19.0   7.0   2.0    11.0   \n",
       "1            87     92      68            91  ...    43.0   NaN   7.0     1.0   \n",
       "3            91    105      71           116  ...    40.0   NaN   3.0     0.0   \n",
       "4           124    109      86            82  ...    21.0  10.0   4.0    12.0   \n",
       "6            66     77      60           150  ...    11.0   6.0  12.0    17.0   \n",
       "\n",
       "      HAMD_   HAMA_      BDI_    BAI_  depression  anxious  \n",
       "0      mild  normal  moderate  normal           0   normal  \n",
       "1  moderate  normal    severe     NaN           0        0  \n",
       "3    severe  severe    severe     NaN      severe        0  \n",
       "4      mild  normal  moderate    mild           0        0  \n",
       "6      mild    mild    normal  normal           0        0  \n",
       "\n",
       "[5 rows x 75 columns]"
      ]
     },
     "execution_count": 11,
     "metadata": {},
     "output_type": "execute_result"
    }
   ],
   "source": [
    "data.head()"
   ]
  },
  {
   "cell_type": "code",
   "execution_count": 13,
   "id": "14e9eb5f-8a8c-402c-b875-eb8ad351f66d",
   "metadata": {},
   "outputs": [],
   "source": [
    "depression_empty = data[data['depression']==0].index\n",
    "anxious_empty = data[data['anxious']==0].index\n",
    "data_dep = data.drop(depression_empty)\n",
    "data_anx = data.drop(anxious_empty)"
   ]
  },
  {
   "cell_type": "markdown",
   "id": "dabaf215-3e0c-46a9-8e0e-ab52b5c6db8a",
   "metadata": {},
   "source": [
    "* data_dep: depression patients filtered dataset (variable name \"depression\" into normal, mild, moderate, severe)\n",
    "* data_anx: anxiety patients filtered dataset (variable name \"anxious\" into normal, mild, moderate, severe)"
   ]
  },
  {
   "cell_type": "code",
   "execution_count": 19,
   "id": "f8204b8b-d662-41f8-b842-9d3ed0d8d0da",
   "metadata": {},
   "outputs": [],
   "source": [
    "## 17 HRV variables\n",
    "data_dep_17 = data_dep.loc[:, ['sdnn','psi','tp','vlf','lf','hf','lfnorm','hfnorm','lf_hf','rmssd','apen','srd','tsrd','tp_ln', 'vlf_ln','lf_ln','hf_ln','depression']]\n",
    "data_anx_17 = data_anx.loc[:, ['sdnn','psi','tp','vlf','lf','hf','lfnorm','hfnorm','lf_hf','rmssd','apen','srd','tsrd','tp_ln', 'vlf_ln','lf_ln','hf_ln','anxious']]\n",
    "\n",
    "## 9 HRV variables\n",
    "data_dep_9 = data_dep.loc[:, ['sdnn', 'tp','vlf','lfnorm','hfnorm','rmssd','apen','srd','rmssd','depression']]\n",
    "data_anx_9 = data_anx.loc[:, ['sdnn', 'tp','vlf','lfnorm','hfnorm','rmssd','apen','srd','rmssd','anxious']]\n",
    "\n",
    "## 25 multimodal variables (17 HRV variables + 8 heart-related variables)\n",
    "data_dep_25 = data_dep.loc[:, ['sdnn','psi','tp','vlf','lf','hf','lfnorm','hfnorm','lf_hf','rmssd','apen','srd','tsrd','tp_ln', 'vlf_ln','lf_ln','hf_ln',\n",
    "                                 'auto_activity','auto_balance','stress_resist','stress_index','tired','avg_hr','heart_stable','abnormal_hr','depression']]\n",
    "data_anx_25 = data_anx.loc[:, ['sdnn','psi','tp','vlf','lf','hf','lfnorm','hfnorm','lf_hf','rmssd','apen','srd','tsrd','tp_ln', 'vlf_ln','lf_ln','hf_ln',\n",
    "                                 'auto_activity','auto_balance','stress_resist','stress_index','tired','avg_hr','heart_stable','abnormal_hr','anxious']]"
   ]
  },
  {
   "cell_type": "code",
   "execution_count": null,
   "id": "b518839f-c607-4994-8fca-bd60209ad7bc",
   "metadata": {},
   "outputs": [],
   "source": []
  },
  {
   "cell_type": "markdown",
   "id": "c8f8f975-f7ae-4947-9ea9-ef06e1cceeb7",
   "metadata": {},
   "source": [
    "## Data selection (for analysis)"
   ]
  },
  {
   "cell_type": "code",
   "execution_count": null,
   "id": "d323196e-710a-4045-bd70-1bc9ffd70f92",
   "metadata": {},
   "outputs": [],
   "source": [
    "data = "
   ]
  },
  {
   "cell_type": "code",
   "execution_count": null,
   "id": "21f2c18f-f9a0-4d61-a8f6-dabf790d42a6",
   "metadata": {},
   "outputs": [],
   "source": []
  },
  {
   "cell_type": "code",
   "execution_count": null,
   "id": "49d16260-2003-4c36-9e4c-43c44d6fec67",
   "metadata": {},
   "outputs": [],
   "source": []
  },
  {
   "cell_type": "code",
   "execution_count": null,
   "id": "257060c6-e69e-440b-93c0-a025f6a14e63",
   "metadata": {},
   "outputs": [],
   "source": []
  },
  {
   "cell_type": "code",
   "execution_count": null,
   "id": "3f8845a4-524f-4bcd-b270-c3c2062e442d",
   "metadata": {},
   "outputs": [],
   "source": []
  },
  {
   "cell_type": "code",
   "execution_count": null,
   "id": "d8435fae-af1f-421d-ac96-5ac17396c0ae",
   "metadata": {},
   "outputs": [],
   "source": []
  },
  {
   "cell_type": "code",
   "execution_count": null,
   "id": "e359b86c-0a01-4132-95d5-ce5444a00269",
   "metadata": {},
   "outputs": [],
   "source": []
  },
  {
   "cell_type": "code",
   "execution_count": null,
   "id": "42502a0c-c148-4abf-9518-2a728e1a3aba",
   "metadata": {},
   "outputs": [],
   "source": []
  },
  {
   "cell_type": "code",
   "execution_count": null,
   "id": "14dc0992-cd28-447e-bc6a-0e808af41cec",
   "metadata": {},
   "outputs": [],
   "source": []
  },
  {
   "cell_type": "code",
   "execution_count": null,
   "id": "49e1c19c-cbb2-4545-bacd-d3e0fe816d8b",
   "metadata": {},
   "outputs": [],
   "source": []
  },
  {
   "cell_type": "code",
   "execution_count": null,
   "id": "17b5d960-9ca6-409b-a5f2-51f6b209435a",
   "metadata": {},
   "outputs": [],
   "source": []
  }
 ],
 "metadata": {
  "kernelspec": {
   "display_name": "Python 3 (ipykernel)",
   "language": "python",
   "name": "python3"
  },
  "language_info": {
   "codemirror_mode": {
    "name": "ipython",
    "version": 3
   },
   "file_extension": ".py",
   "mimetype": "text/x-python",
   "name": "python",
   "nbconvert_exporter": "python",
   "pygments_lexer": "ipython3",
   "version": "3.9.17"
  }
 },
 "nbformat": 4,
 "nbformat_minor": 5
}
