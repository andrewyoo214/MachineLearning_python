{
 "cells": [
  {
   "cell_type": "markdown",
   "id": "4fc7d170-97cb-45f7-a29b-ca86f6e188c3",
   "metadata": {},
   "source": [
    "# Heart Rate Variability Dataset"
   ]
  },
  {
   "cell_type": "markdown",
   "id": "cf2fabd3-666b-4e29-a3df-ade434a25a0e",
   "metadata": {},
   "source": [
    "DATA Provided by SMC Professor J.A."
   ]
  },
  {
   "cell_type": "markdown",
   "id": "c26d46de-1fc1-4074-9c78-2bb073092493",
   "metadata": {},
   "source": [
    "## Dataset variables\n",
    "\n",
    "> Demographic info: Gender, Age\n",
    "> Disease Groups: \n",
    ">> MDDs = 602 \\\n",
    ">> MDDr = 529 \\\n",
    ">> PD = 353 \\\n",
    ">> Adj = 341 \\\n",
    ">> BP_II = 337 \\\n",
    ">> SSD = 324 \\\n",
    ">> PDAG = 291 \\\n",
    ">> PDD = 189 \\\n",
    ">> DEP_NOS = 188 \\\n",
    ">> GAD = 165 \\\n",
    ">> ANX_NOS = 146 \\\n",
    ">> ADHD = 70 \\\n",
    ">> BP_I = 67 \\\n",
    ">> OCD = 51 \\\n",
    ">> SAD = 45 \\\n",
    ">> PTSD = 41 \\\n",
    ">> INSOMNIA = 50 \\\n",
    ">> Alcohol_dependence = 36 \\\n",
    ">> SPR = 34 \\\n",
    ">> Tourette = 22 \\\n",
    ">> Normal = 19 \\\n",
    ">> Tic = 12 \\\n",
    ">> OMS = 10"
   ]
  },
  {
   "cell_type": "code",
   "execution_count": null,
   "id": "e5f17f7e-859e-44a1-9745-82f9a6c94436",
   "metadata": {},
   "outputs": [],
   "source": [
    "import pandas as pd\n",
    "import numpy as np\n",
    "import matplotlib.pyplot as plt\n",
    "import seaborn as sns\n",
    "# from PIL import Image"
   ]
  },
  {
   "cell_type": "markdown",
   "id": "b5ff64c0-e7d2-45f4-a921-c926e9571e9c",
   "metadata": {},
   "source": [
    "* Importing Dataset"
   ]
  },
  {
   "cell_type": "code",
   "execution_count": null,
   "id": "782309ac-0544-4365-9bf5-88e3f71d1e90",
   "metadata": {},
   "outputs": [],
   "source": [
    "# HRV 데이터셋 불러오기\n",
    "hrv = pd.read_csv('E:/RESEARCH/Datasets/HRV/JA/HRV_dataset_processed.csv', sep=',')\n",
    "hrv.head()"
   ]
  },
  {
   "cell_type": "code",
   "execution_count": null,
   "id": "432c8f95-fb2d-44dc-b549-26cd8bd504f6",
   "metadata": {
    "tags": []
   },
   "outputs": [],
   "source": [
    "hrv[\"main_dx\"].value_counts()\n",
    "# hrv[\"subtype\"].value_counts()\n",
    "# hrv[\"gender\"].value_counts()"
   ]
  },
  {
   "cell_type": "code",
   "execution_count": null,
   "id": "71ad1222-909e-4a7c-85e7-77c7a0cf6c9f",
   "metadata": {},
   "outputs": [],
   "source": []
  },
  {
   "cell_type": "code",
   "execution_count": null,
   "id": "8512fa99-c08c-4d07-99b0-22a1745e6a56",
   "metadata": {},
   "outputs": [],
   "source": []
  },
  {
   "cell_type": "code",
   "execution_count": null,
   "id": "14279e5e-ac62-4ffa-a425-8216c875a7b9",
   "metadata": {},
   "outputs": [],
   "source": []
  },
  {
   "cell_type": "code",
   "execution_count": null,
   "id": "b372c9ff-2c36-4716-98e2-68829747490f",
   "metadata": {},
   "outputs": [],
   "source": []
  },
  {
   "cell_type": "code",
   "execution_count": null,
   "id": "96999b0e-72a9-4834-b39a-229d636c4c51",
   "metadata": {},
   "outputs": [],
   "source": []
  },
  {
   "cell_type": "code",
   "execution_count": null,
   "id": "dd8e441a-5138-41af-b3de-69105241dde7",
   "metadata": {},
   "outputs": [],
   "source": []
  },
  {
   "cell_type": "code",
   "execution_count": null,
   "id": "1be1ec5a-3ec2-4678-919a-98fd52349825",
   "metadata": {},
   "outputs": [],
   "source": []
  },
  {
   "cell_type": "code",
   "execution_count": null,
   "id": "cc37ea5e-7393-4796-b52f-69a01b62b2df",
   "metadata": {},
   "outputs": [],
   "source": []
  },
  {
   "cell_type": "code",
   "execution_count": null,
   "id": "5a4977dd-0744-48a8-bbe0-409dd4834f53",
   "metadata": {},
   "outputs": [],
   "source": []
  },
  {
   "cell_type": "code",
   "execution_count": null,
   "id": "4ac62666-2348-4d04-b810-5dff43d0b714",
   "metadata": {},
   "outputs": [],
   "source": []
  },
  {
   "cell_type": "code",
   "execution_count": null,
   "id": "7f42f914-3e6a-47ad-aa33-154e46b32cbb",
   "metadata": {},
   "outputs": [],
   "source": []
  },
  {
   "cell_type": "code",
   "execution_count": null,
   "id": "8d73dd79-06d7-42be-a36d-62b70116bcc0",
   "metadata": {},
   "outputs": [],
   "source": []
  },
  {
   "cell_type": "code",
   "execution_count": null,
   "id": "5810c567-33dc-4285-9955-8b50efcc0589",
   "metadata": {},
   "outputs": [],
   "source": []
  },
  {
   "cell_type": "code",
   "execution_count": null,
   "id": "b7896689-2178-4bc6-a152-ef064cec9800",
   "metadata": {},
   "outputs": [],
   "source": []
  },
  {
   "cell_type": "code",
   "execution_count": null,
   "id": "ffda5370-0e11-46ca-9553-eaa5a7dee475",
   "metadata": {},
   "outputs": [],
   "source": []
  },
  {
   "cell_type": "code",
   "execution_count": null,
   "id": "405fa571-fc71-4ca6-9902-dcac7c8b4f6b",
   "metadata": {},
   "outputs": [],
   "source": []
  },
  {
   "cell_type": "code",
   "execution_count": null,
   "id": "2cfc8a0f-3908-413a-ae15-864a54064bd5",
   "metadata": {},
   "outputs": [],
   "source": []
  },
  {
   "cell_type": "code",
   "execution_count": null,
   "id": "239b961e-c646-4a18-b5d8-6d5d69d40a7a",
   "metadata": {},
   "outputs": [],
   "source": []
  },
  {
   "cell_type": "code",
   "execution_count": null,
   "id": "91bfe925-23fd-49b3-98a4-0990a4815b71",
   "metadata": {},
   "outputs": [],
   "source": []
  },
  {
   "cell_type": "code",
   "execution_count": null,
   "id": "8583ddc4-e237-4511-ab5d-6786201774b0",
   "metadata": {},
   "outputs": [],
   "source": []
  },
  {
   "cell_type": "code",
   "execution_count": null,
   "id": "f13a9121-0078-4699-a8ea-8f6816ad5fef",
   "metadata": {},
   "outputs": [],
   "source": []
  },
  {
   "cell_type": "code",
   "execution_count": null,
   "id": "5bda0ad5-3711-46a4-ab7a-1fa6305ced5f",
   "metadata": {},
   "outputs": [],
   "source": []
  },
  {
   "cell_type": "code",
   "execution_count": null,
   "id": "a3706216-54bb-4318-9dc9-2892d7d85fec",
   "metadata": {},
   "outputs": [],
   "source": []
  },
  {
   "cell_type": "code",
   "execution_count": null,
   "id": "01a4ff1c-fecc-48aa-aa11-ac600072c6e2",
   "metadata": {},
   "outputs": [],
   "source": []
  },
  {
   "cell_type": "code",
   "execution_count": null,
   "id": "f4e1a264-b9d8-494f-a5d4-3b048ecf3d25",
   "metadata": {},
   "outputs": [],
   "source": []
  },
  {
   "cell_type": "code",
   "execution_count": null,
   "id": "c167d12e-266b-4ea2-9cfe-f336ad182e79",
   "metadata": {},
   "outputs": [],
   "source": []
  },
  {
   "cell_type": "code",
   "execution_count": null,
   "id": "703e27d3-04e5-4ba3-acff-04a599f588c4",
   "metadata": {},
   "outputs": [],
   "source": []
  },
  {
   "cell_type": "code",
   "execution_count": null,
   "id": "1291c3ef-276d-4d54-975f-cbaaf4e8570d",
   "metadata": {},
   "outputs": [],
   "source": []
  },
  {
   "cell_type": "code",
   "execution_count": null,
   "id": "af7d242c-2baa-4990-951e-ea58a7720616",
   "metadata": {},
   "outputs": [],
   "source": []
  },
  {
   "cell_type": "code",
   "execution_count": null,
   "id": "909493df-9aa9-4c7f-afea-6b571c0ecf9e",
   "metadata": {},
   "outputs": [],
   "source": []
  },
  {
   "cell_type": "code",
   "execution_count": null,
   "id": "59171343-ecd5-442e-a72e-f518c8484668",
   "metadata": {},
   "outputs": [],
   "source": []
  },
  {
   "cell_type": "code",
   "execution_count": null,
   "id": "4fbd80dc-ca56-4831-a56d-8fa2ed6243a6",
   "metadata": {},
   "outputs": [],
   "source": []
  },
  {
   "cell_type": "code",
   "execution_count": null,
   "id": "46b82561-d650-47bf-9396-938d38686c30",
   "metadata": {},
   "outputs": [],
   "source": []
  },
  {
   "cell_type": "code",
   "execution_count": null,
   "id": "2b04bb5b-9039-4087-ad5a-be1fb750cdb8",
   "metadata": {},
   "outputs": [],
   "source": []
  },
  {
   "cell_type": "code",
   "execution_count": null,
   "id": "6de908a2-a2af-474e-8fa6-68e12ed725b8",
   "metadata": {},
   "outputs": [],
   "source": []
  },
  {
   "cell_type": "code",
   "execution_count": null,
   "id": "4d2ae068-be86-427d-98b5-ef3f8dbbe75d",
   "metadata": {},
   "outputs": [],
   "source": []
  }
 ],
 "metadata": {
  "kernelspec": {
   "display_name": "Python 3",
   "language": "python",
   "name": "python3"
  },
  "language_info": {
   "codemirror_mode": {
    "name": "ipython",
    "version": 3
   },
   "file_extension": ".py",
   "mimetype": "text/x-python",
   "name": "python",
   "nbconvert_exporter": "python",
   "pygments_lexer": "ipython3",
   "version": "3.8.10"
  }
 },
 "nbformat": 4,
 "nbformat_minor": 5
}
