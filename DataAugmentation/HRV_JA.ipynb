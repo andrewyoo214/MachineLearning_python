{
 "cells": [
  {
   "cell_type": "markdown",
   "id": "9548fe12-b636-4199-a23f-ea2a1e845172",
   "metadata": {},
   "source": [
    "# =========================="
   ]
  },
  {
   "cell_type": "markdown",
   "id": "4fc7d170-97cb-45f7-a29b-ca86f6e188c3",
   "metadata": {},
   "source": [
    "# Heart Rate Variability Dataset"
   ]
  },
  {
   "cell_type": "markdown",
   "id": "cf2fabd3-666b-4e29-a3df-ade434a25a0e",
   "metadata": {},
   "source": [
    "DATA Provided by SMC Professor J.A."
   ]
  },
  {
   "cell_type": "code",
   "execution_count": null,
   "id": "e5f17f7e-859e-44a1-9745-82f9a6c94436",
   "metadata": {},
   "outputs": [],
   "source": [
    "import csv\n",
    "import random\n",
    "# import torch\n",
    "# import torchvision\n",
    "import tensorflow as tf\n",
    "import pandas as pd\n",
    "import numpy as np\n",
    "import seaborn as sns\n",
    "import matplotlib.pyplot as plt\n",
    "\n",
    "\n",
    "# from PIL import Image"
   ]
  },
  {
   "cell_type": "code",
   "execution_count": null,
   "id": "41d1eb99-9820-44e6-948d-f04e81a299bf",
   "metadata": {},
   "outputs": [],
   "source": [
    "from scipy import stats\n",
    "from scipy.stats import ttest_ind\n",
    "from sklearn.model_selection import train_test_split\n",
    "from keras.models import Sequential\n",
    "from keras.layers import Dense , Activation, Dropout\n",
    "from keras.optimizers import Adam ,RMSprop\n",
    "from keras import  backend as K\n",
    "from keras.optimizers import SGD\n",
    "# from tensorflow.keras import utils as np_utils\n",
    "# from tensorflow.keras.metrics import binary_focal_crossentropy\n",
    "from sklearn.linear_model import LogisticRegression\n",
    "from tensorflow.keras.utils import to_categorical\n",
    "from torch.utils.data import TensorDataset, DataLoader"
   ]
  },
  {
   "cell_type": "code",
   "execution_count": null,
   "id": "1adf5335-f772-4d9b-a08b-72c50df98b22",
   "metadata": {},
   "outputs": [],
   "source": []
  },
  {
   "cell_type": "code",
   "execution_count": null,
   "id": "198f8e2a-9e1d-4b76-8345-351ab4a061cf",
   "metadata": {},
   "outputs": [],
   "source": [
    "## Set this if you want to check all information from dataframe without ... auto.\n",
    "np.set_printoptions(threshold=np.inf, linewidth=np.inf) #inf = infinity \n",
    "pd.set_option('display.max_rows', 100)\n",
    "pd.set_option('display.max_columns', 100)\n",
    "pd.set_option('display.width', 100)"
   ]
  },
  {
   "cell_type": "markdown",
   "id": "16f4dac1-a849-4c8c-a259-4264dcff20a5",
   "metadata": {},
   "source": [
    "# Data Handling"
   ]
  },
  {
   "cell_type": "markdown",
   "id": "c26d46de-1fc1-4074-9c78-2bb073092493",
   "metadata": {},
   "source": [
    "## Dataset variables\n",
    "\n",
    "> \"Demographic info\" : Gender, Age \\\n",
    "> \"Questionnaires\" : HAMD, HAMA, BDI-II, BAI, MDQ, HCL-32 \\\n",
    "> \"HRV's 17 Features\" : SDNN, PSI, VLF, LF, HF, TP, LFNORM, HFNORM, LF/HF Ratio, RMSSD, APEN, SRD, TSRD, TP_ln, LF_ln, HF_ln \\\n",
    "> \"Main Disease Groups\" : \n",
    ">> MDDs = 602 \\\n",
    ">> MDDr = 529 \\\n",
    ">> PD = 353 \\\n",
    ">> Adj = 341 \\\n",
    ">> BP_II = 337 \\\n",
    ">> SSD = 324 \\\n",
    ">> PDAG = 291 \\\n",
    ">> PDD = 189 \\\n",
    ">> DEP_NOS = 188 \\\n",
    ">> GAD = 165 \\\n",
    ">> ANX_NOS = 146 \\\n",
    ">> ADHD = 70 \\\n",
    ">> BP_I = 67 \\\n",
    ">> OCD = 51 \\\n",
    ">> SAD = 45 \\\n",
    ">> PTSD = 41 \\\n",
    ">> INSOMNIA = 50 \\\n",
    ">> Alcohol_dependence = 36 \\\n",
    ">> SPR = 34 \\\n",
    ">> Tourette = 22 \\\n",
    ">> Normal = 19 \\\n",
    ">> Tic = 12 \\\n",
    ">> OMS = 10"
   ]
  },
  {
   "cell_type": "markdown",
   "id": "b5ff64c0-e7d2-45f4-a921-c926e9571e9c",
   "metadata": {},
   "source": [
    "## Importing Original Dataset"
   ]
  },
  {
   "cell_type": "code",
   "execution_count": null,
   "id": "83ab29d2-6f34-428d-bfa9-78c95257da6e",
   "metadata": {},
   "outputs": [],
   "source": [
    "hrv_ori = pd.read_excel('E:/RESEARCH/Datasets/HRV/JA/HRV_.xlsx')\n",
    "# hrv_ori = pd.read_csv('E:/RESEARCH/Datasets/HRV/JA/HRV_dataset_processed_.csv')"
   ]
  },
  {
   "cell_type": "code",
   "execution_count": null,
   "id": "1e6679c1-6af8-4243-b0c1-26fe4fedff33",
   "metadata": {
    "scrolled": true,
    "tags": []
   },
   "outputs": [],
   "source": [
    "print(hrv_ori.dtypes)"
   ]
  },
  {
   "cell_type": "code",
   "execution_count": null,
   "id": "eb893d45-db82-4ffc-addd-3051ad69355d",
   "metadata": {},
   "outputs": [],
   "source": [
    "hrv_ori"
   ]
  },
  {
   "cell_type": "code",
   "execution_count": null,
   "id": "23fe2e22-f86b-4772-95b4-9673b70d5f34",
   "metadata": {},
   "outputs": [],
   "source": []
  },
  {
   "cell_type": "markdown",
   "id": "60c650a9-fa81-4edb-bdee-630f09eaa62e",
   "metadata": {},
   "source": [
    "* Some patients data have \"NA\" values in hrv_features and their biological dataset. \n",
    "* Therefore, we will remove those data in this analysis.\n",
    "* From the result below, total 280 patients are removed."
   ]
  },
  {
   "cell_type": "code",
   "execution_count": null,
   "id": "9fe8a953-fe59-4b64-bc3a-16393d0d2ea1",
   "metadata": {},
   "outputs": [],
   "source": [
    "hrv = hrv_ori[~pd.isnull(hrv_ori['sdnn'])]\n",
    "hrv_only = hrv.loc[:, ['sdnn','psi','tp','vlf','lf','hf','lfnorm','hfnorm','lf_hf','rmssd','apen','srd','tsrd',\n",
    "                          'tp_ln', 'vlf_ln','lf_ln','hf_ln' ]]"
   ]
  },
  {
   "cell_type": "code",
   "execution_count": null,
   "id": "77f15358-b730-4eaa-952e-20a76df94aed",
   "metadata": {},
   "outputs": [],
   "source": [
    "print(\"Original import data shape is:\", hrv_ori.shape)\n",
    "print(\"Data with NA patients removed is:\", hrv.shape)\n",
    "print(\"The number of removed patients is:\", hrv_ori.shape[0] - hrv.shape[0])"
   ]
  },
  {
   "cell_type": "code",
   "execution_count": null,
   "id": "468ff430-0678-48a8-b9b7-6ce53600911b",
   "metadata": {},
   "outputs": [],
   "source": []
  },
  {
   "cell_type": "markdown",
   "id": "b28ffe52-75c9-444c-97e0-98478a384008",
   "metadata": {},
   "source": [
    "## Generating new Variables for analysis"
   ]
  },
  {
   "cell_type": "markdown",
   "id": "ce88b1f9-8a41-420a-af6e-46619012191a",
   "metadata": {},
   "source": [
    "* Here, we are trying to use current depressive, anxious mood status instead of using main dx or sub"
   ]
  },
  {
   "cell_type": "code",
   "execution_count": null,
   "id": "0e656fbf-5f0e-45b6-8735-c9a56f4e8880",
   "metadata": {
    "tags": []
   },
   "outputs": [],
   "source": [
    "hrv_data = hrv.copy()\n",
    "hrv_data['HAMD_'] = \"NULL\"\n",
    "hrv_data['HAMA_'] = \"NULL\"\n",
    "hrv_data['BDI_'] = \"NULL\"\n",
    "hrv_data['BAI_'] = \"NULL\"\n",
    "# hrv_data['MDQ_'] = 0\n",
    "# hrv_data['HCL_'] = 0"
   ]
  },
  {
   "cell_type": "code",
   "execution_count": null,
   "id": "45d4e2d6-aef9-4ab6-9cc0-d4935d8e4861",
   "metadata": {
    "tags": []
   },
   "outputs": [],
   "source": [
    "## Categorizing HAMD scores to generate 'HAMD_' label variable.\n",
    "hrv_data.loc[hrv_data['HAMD']<7, 'HAMD_'] = \"normal\"\n",
    "hrv_data.loc[(hrv_data['HAMD']>=7) & (hrv_data['HAMD']<18), 'HAMD_'] = \"mild\"\n",
    "hrv_data.loc[(hrv_data['HAMD']>=18) & (hrv_data['HAMD']<25), 'HAMD_'] = \"moderate\"\n",
    "hrv_data.loc[hrv_data['HAMD']>=25, 'HAMD_'] = \"severe\""
   ]
  },
  {
   "cell_type": "code",
   "execution_count": null,
   "id": "dd29ce60-f5a4-4318-83eb-40380aded354",
   "metadata": {},
   "outputs": [],
   "source": [
    "## Categorizing HAMA scores to generate 'HAMA_' label variable.\n",
    "hrv_data.loc[hrv_data['HAMA']<18, 'HAMA_'] = \"normal\"\n",
    "hrv_data.loc[(hrv_data['HAMA']>=18) & (hrv_data['HAMA']<25), 'HAMA_'] = \"mild\"\n",
    "hrv_data.loc[(hrv_data['HAMA']>=25) & (hrv_data['HAMA']<30), 'HAMA_'] = \"moderate\"\n",
    "hrv_data.loc[hrv_data['HAMA']>=30, 'HAMA_'] = \"severe\""
   ]
  },
  {
   "cell_type": "code",
   "execution_count": null,
   "id": "9b118632-ff18-4cec-88ef-35e6ad7506bb",
   "metadata": {},
   "outputs": [],
   "source": [
    "## Categorizing BDI-II scores to generate 'BDI_' label variable.\n",
    "hrv_data.loc[hrv_data['BDI-II']<14, 'BDI_'] = \"normal\"\n",
    "hrv_data.loc[(hrv_data['BDI-II']>=14) & (hrv_data['BDI-II']<19), 'BDI_'] = \"mild\"\n",
    "hrv_data.loc[(hrv_data['BDI-II']>=19) & (hrv_data['BDI-II']<28), 'BDI_'] = \"moderate\"\n",
    "hrv_data.loc[hrv_data['BDI-II']>=28, 'BDI_'] = \"severe\""
   ]
  },
  {
   "cell_type": "code",
   "execution_count": null,
   "id": "bda372b6-7ab0-4bdc-992a-bb2b2dfc40b4",
   "metadata": {},
   "outputs": [],
   "source": [
    "## Categorizing BAI scores to generate 'BAI_' label variable.\n",
    "hrv_data.loc[hrv_data['BAI']<8, 'BAI_'] = \"normal\"\n",
    "hrv_data.loc[(hrv_data['BAI']>=8) & (hrv_data['BAI']<16), 'BAI_'] = \"mild\"\n",
    "hrv_data.loc[(hrv_data['BAI']>=16) & (hrv_data['BAI']<26), 'BAI_'] = \"moderate\"\n",
    "hrv_data.loc[hrv_data['BAI']>=26, 'BAI_'] = \"severe\""
   ]
  },
  {
   "cell_type": "code",
   "execution_count": null,
   "id": "1c15afa6-585d-4836-a9ec-e5bfce354067",
   "metadata": {},
   "outputs": [],
   "source": []
  },
  {
   "cell_type": "code",
   "execution_count": null,
   "id": "eae0c715-6508-4dea-8d92-d700faaafe8d",
   "metadata": {},
   "outputs": [],
   "source": []
  },
  {
   "cell_type": "code",
   "execution_count": null,
   "id": "227e450a-78a0-4e0b-86fb-89f4235fdd9c",
   "metadata": {},
   "outputs": [],
   "source": [
    "# hrv_data.to_csv(\"E:/RESEARCH/Datasets/HRV/JA/HRV_prep.csv\", index = False)"
   ]
  },
  {
   "cell_type": "code",
   "execution_count": null,
   "id": "f3ec6039-dc46-45e9-8b49-77a84d763841",
   "metadata": {},
   "outputs": [],
   "source": []
  },
  {
   "cell_type": "code",
   "execution_count": null,
   "id": "5d7a5ddc-5b38-4b1a-9747-d53c45bedd70",
   "metadata": {},
   "outputs": [],
   "source": []
  },
  {
   "cell_type": "markdown",
   "id": "d36e5a3b-12bc-4d70-a6a2-136fc9578347",
   "metadata": {},
   "source": [
    "* main_dx is first diagnostic result of the patient.\n",
    "* Most of the patients in our dataset are MDD, PD, BP, ..."
   ]
  },
  {
   "cell_type": "code",
   "execution_count": null,
   "id": "432c8f95-fb2d-44dc-b549-26cd8bd504f6",
   "metadata": {
    "tags": []
   },
   "outputs": [],
   "source": [
    "hrv_data[\"HAMD_\"].value_counts()\n",
    "# hrv_data[\"HAMA_\"].value_counts()\n",
    "\n",
    "# hrv_data[\"main_dx\"].value_counts()\n",
    "# hrv_data[\"subtype\"].value_counts()\n",
    "# hrv_data[\"gender\"].value_counts()"
   ]
  },
  {
   "cell_type": "code",
   "execution_count": null,
   "id": "71ad1222-909e-4a7c-85e7-77c7a0cf6c9f",
   "metadata": {},
   "outputs": [],
   "source": [
    "hrv.columns  ## Check the variables "
   ]
  },
  {
   "cell_type": "code",
   "execution_count": null,
   "id": "215c43a8-24db-4f10-8e7b-1b4d93497d74",
   "metadata": {},
   "outputs": [],
   "source": []
  },
  {
   "cell_type": "markdown",
   "id": "30baa60c-2519-4094-b6a3-71ae4d7011f4",
   "metadata": {},
   "source": [
    "## Separating dataset for its Usage"
   ]
  },
  {
   "cell_type": "code",
   "execution_count": null,
   "id": "8512fa99-c08c-4d07-99b0-22a1745e6a56",
   "metadata": {
    "tags": []
   },
   "outputs": [],
   "source": [
    "hrv_total = hrv  ## Overall dataset\n",
    "hrv_subtype = hrv[~pd.isnull(hrv['subtype'])] ## selecting the dataset with subtype included\n",
    "hrv_mdd = hrv[hrv['main_dx'].isin (['MDDs', 'MDDr','PDD'])]  ## Selecting the dataset with main_dx MDDs and MDDr\n",
    "hrv_mdd_subtype = hrv_mdd[~pd.isnull(hrv_mdd['subtype'])] ## selecting the datsaet with MDDs and MDDr + having subtype"
   ]
  },
  {
   "cell_type": "code",
   "execution_count": null,
   "id": "14279e5e-ac62-4ffa-a425-8216c875a7b9",
   "metadata": {},
   "outputs": [],
   "source": [
    "print(\"Original data shape is:\", hrv_total.shape)\n",
    "print(\"Data Shape with subtype is:\", hrv_subtype.shape)\n",
    "print(\"Data Shape with main_dx MDDs or MDDr or PDD is:\", hrv_mdd.shape)\n",
    "print(\"Data Shape with main_dx MDDs or MDDr or PDD + having subtype is:\", hrv_mdd_subtype.shape)"
   ]
  },
  {
   "cell_type": "code",
   "execution_count": null,
   "id": "b372c9ff-2c36-4716-98e2-68829747490f",
   "metadata": {},
   "outputs": [],
   "source": [
    "# hrv_total[\"main_dx\"].value_counts()\n",
    "# hrv_subtype[\"main_dx\"].value_counts()\n",
    "hrv_mdd[\"main_dx\"].value_counts()\n",
    "# hrv_mdd_subtype[\"subtype\"].value_counts()"
   ]
  },
  {
   "cell_type": "code",
   "execution_count": null,
   "id": "5a1f1ffc-efbe-47c0-807c-bc8ab2500846",
   "metadata": {},
   "outputs": [],
   "source": []
  },
  {
   "cell_type": "code",
   "execution_count": null,
   "id": "14f9e4a9-703f-4327-87ac-0a2c7f616303",
   "metadata": {},
   "outputs": [],
   "source": []
  },
  {
   "cell_type": "code",
   "execution_count": null,
   "id": "0fa772ba-6591-4555-9b97-50a2664c0842",
   "metadata": {},
   "outputs": [],
   "source": []
  },
  {
   "cell_type": "code",
   "execution_count": null,
   "id": "1be1ec5a-3ec2-4678-919a-98fd52349825",
   "metadata": {},
   "outputs": [],
   "source": []
  },
  {
   "cell_type": "markdown",
   "id": "a880f363-2393-451b-a528-2759f5c7115b",
   "metadata": {},
   "source": [
    "## Selecting data features for further Analysis"
   ]
  },
  {
   "cell_type": "code",
   "execution_count": null,
   "id": "5a4977dd-0744-48a8-bbe0-409dd4834f53",
   "metadata": {},
   "outputs": [],
   "source": [
    "mdd_lab = hrv_mdd.loc[:, ['main_dx']]\n",
    "mdd_hrv = hrv_mdd.loc[:, ['sdnn','psi','tp','vlf','lf','hf','lfnorm','hfnorm','lf_hf','rmssd','apen','srd','tsrd',\n",
    "                          'tp_ln', 'vlf_ln','lf_ln','hf_ln' ]]  ## Selecting the dataset with hrv feature variables\n",
    "mdd_analysis = hrv_mdd.loc[:, ['main_dx','sdnn','psi','tp','vlf','lf','hf','lfnorm','hfnorm','lf_hf','rmssd','apen','srd','tsrd',\n",
    "                               'tp_ln', 'vlf_ln','lf_ln','hf_ln']]\n",
    "mdd_analysis_core = hrv_mdd.loc[:, ['main_dx','sdnn', 'tp','vlf','lfnorm','hfnorm','rmssd','apen','srd','tsrd']]"
   ]
  },
  {
   "cell_type": "code",
   "execution_count": null,
   "id": "fa22cf5b-76d7-4f4f-b3d2-bdd40d08a2d8",
   "metadata": {},
   "outputs": [],
   "source": [
    "mdd_hrv"
   ]
  },
  {
   "cell_type": "code",
   "execution_count": null,
   "id": "ebbce907-f569-4795-86e4-bc2066257b5d",
   "metadata": {},
   "outputs": [],
   "source": [
    "# mdd_analysis.to_csv('E:/RESEARCH/Datasets/HRV/JA/HRV_dataset_mdd_extracted.csv')"
   ]
  },
  {
   "cell_type": "code",
   "execution_count": null,
   "id": "8d73dd79-06d7-42be-a36d-62b70116bcc0",
   "metadata": {},
   "outputs": [],
   "source": [
    "mdds = mdd_analysis[mdd_analysis['main_dx']=='MDDs']\n",
    "mddr = mdd_analysis[mdd_analysis['main_dx']=='MDDr']\n",
    "pdd  = mdd_analysis[mdd_analysis['main_dx']=='PDD']"
   ]
  },
  {
   "cell_type": "code",
   "execution_count": null,
   "id": "ffda5370-0e11-46ca-9553-eaa5a7dee475",
   "metadata": {},
   "outputs": [],
   "source": []
  },
  {
   "cell_type": "markdown",
   "id": "8c8425a5-8fde-4781-84e3-eeb3b704de78",
   "metadata": {},
   "source": [
    "# =========================="
   ]
  },
  {
   "cell_type": "markdown",
   "id": "c333ac1b-dccc-403e-a33e-6f134c56fff4",
   "metadata": {},
   "source": [
    "# Statistical Data Analysis"
   ]
  },
  {
   "cell_type": "markdown",
   "id": "b8cae8ed-70c8-4970-a0fc-d84c9d4b81ca",
   "metadata": {},
   "source": [
    "* For HRV variables used in the research, we have to check which feature shows significant difference between comparison groups"
   ]
  },
  {
   "cell_type": "markdown",
   "id": "8ed81eec-a27f-403f-8786-a7c79e9986e4",
   "metadata": {},
   "source": [
    "## Stat on MDD groups (MDDr, MDDs)"
   ]
  },
  {
   "cell_type": "code",
   "execution_count": null,
   "id": "47e902a8-f65d-41a3-bb75-92b4ce2e0585",
   "metadata": {},
   "outputs": [],
   "source": [
    "mdd_analysis.columns"
   ]
  },
  {
   "cell_type": "code",
   "execution_count": null,
   "id": "5b7b913f-87d2-4436-9a9c-0cf1b631066e",
   "metadata": {},
   "outputs": [],
   "source": [
    "var_list = ['sdnn', 'tp', 'vlf', 'lf', 'hf', 'lfnorm', 'hfnorm', 'lf_hf', 'rmssd', 'apen', 'srd', 'tsrd', 'tp_ln', 'vlf_ln', 'lf_ln', 'hf_ln']"
   ]
  },
  {
   "cell_type": "code",
   "execution_count": null,
   "id": "d8a40085-3b1d-4095-a6e3-4f89e24c6961",
   "metadata": {},
   "outputs": [],
   "source": [
    "len(var_list)"
   ]
  },
  {
   "cell_type": "markdown",
   "id": "6c2bc341-b49c-4231-ac48-406a09db5c62",
   "metadata": {},
   "source": [
    "* T-test or ANOVA test based on the selected hypothesis"
   ]
  },
  {
   "cell_type": "code",
   "execution_count": null,
   "id": "8484e7b5-a0e7-40ed-8ad8-0ccccecfc2ca",
   "metadata": {},
   "outputs": [],
   "source": [
    "## Comparing 3 groups (MDDs, MDDr, PDD) with ANOVA test\n",
    "mdd_stat_result =[]\n",
    "for va in var_list:\n",
    "    a = mdds[va].values\n",
    "    b = mddr[va].values\n",
    "    c = pdd[va].values\n",
    "    f_val , p_val = stats.f_oneway(a, b, c)\n",
    "    mdd_stat_result.append([f_val, p_val])"
   ]
  },
  {
   "cell_type": "code",
   "execution_count": null,
   "id": "4d9c64a5-c904-4fc0-a46f-cc317b0dd30b",
   "metadata": {},
   "outputs": [],
   "source": [
    "# ## Comparing 2 groups (MDDs, MDDr) with t-test\n",
    "# mdd_stat_result =[]\n",
    "# for va in var_list:\n",
    "#     a = mdds[va].values\n",
    "#     b = mddr[va].values\n",
    "#     t_val , p_val = stats.ttest_ind((a), (b))\n",
    "#     mdd_stat_result.append([t_val, p_val])"
   ]
  },
  {
   "cell_type": "code",
   "execution_count": null,
   "id": "f9f62857-5e5b-4af8-8848-e08112e2bead",
   "metadata": {},
   "outputs": [],
   "source": []
  },
  {
   "cell_type": "code",
   "execution_count": null,
   "id": "21a52949-f0e5-4143-8f44-202b1a11bf4f",
   "metadata": {},
   "outputs": [],
   "source": []
  },
  {
   "cell_type": "code",
   "execution_count": null,
   "id": "ba0c28e3-9135-4d64-a9f5-e30a81e4592d",
   "metadata": {},
   "outputs": [],
   "source": [
    "mdd_stat_result"
   ]
  },
  {
   "cell_type": "code",
   "execution_count": null,
   "id": "dcfd4c67-d243-4926-a2b3-c10673c2a6b0",
   "metadata": {},
   "outputs": [],
   "source": [
    "mdd_stat_result_df = pd.DataFrame (mdd_stat_result, columns = ['F-value', 'p-value'])\n",
    "# mdd_stat_result_df = pd.DataFrame (mdd_stat_result, columns = ['t-value', 'p-value'])"
   ]
  },
  {
   "cell_type": "code",
   "execution_count": null,
   "id": "c865c858-c42f-4cee-864c-eabf5875021d",
   "metadata": {},
   "outputs": [],
   "source": [
    "mdd_stat_result_df = mdd_stat_result_df.assign(HRV_feature=var_list)"
   ]
  },
  {
   "cell_type": "code",
   "execution_count": null,
   "id": "502b51d0-21f5-4fca-9d0b-b6875d186872",
   "metadata": {},
   "outputs": [],
   "source": [
    "mdd_stat_result_df"
   ]
  },
  {
   "cell_type": "code",
   "execution_count": null,
   "id": "91bfe925-23fd-49b3-98a4-0990a4815b71",
   "metadata": {},
   "outputs": [],
   "source": []
  },
  {
   "cell_type": "code",
   "execution_count": null,
   "id": "341bc574-5010-46c7-8faa-e034ab3d0917",
   "metadata": {},
   "outputs": [],
   "source": []
  },
  {
   "cell_type": "code",
   "execution_count": null,
   "id": "a7641fa8-bfe6-409d-b9e0-676668a766f1",
   "metadata": {},
   "outputs": [],
   "source": []
  },
  {
   "cell_type": "code",
   "execution_count": null,
   "id": "7c150af8-e11e-4184-a94a-66745d200b37",
   "metadata": {},
   "outputs": [],
   "source": []
  },
  {
   "cell_type": "code",
   "execution_count": null,
   "id": "e89deeca-55fd-46e8-8f81-5c18c3315dda",
   "metadata": {},
   "outputs": [],
   "source": []
  },
  {
   "cell_type": "markdown",
   "id": "94360217-d167-40ac-9ae6-a02d0c272d7c",
   "metadata": {},
   "source": [
    "## Stats on Bipolar groups (BP I, BP II)"
   ]
  },
  {
   "cell_type": "code",
   "execution_count": null,
   "id": "d7ce9a3b-b5f8-4d2d-ac46-198ffed97341",
   "metadata": {},
   "outputs": [],
   "source": [
    "hrv_bp = hrv[hrv['main_dx'].isin (['BP_I', 'BP_II'])]  ## Selecting the dataset with main_dx BP_I and BP_II\n",
    "bp_analysis = hrv_bp.loc[:, ['main_dx','sdnn','psi','tp','vlf','lf','hf','lfnorm','hfnorm','lf_hf','rmssd','apen','srd','tsrd',\n",
    "                               'tp_ln', 'vlf_ln','lf_ln','hf_ln']]"
   ]
  },
  {
   "cell_type": "code",
   "execution_count": null,
   "id": "7a0adf5e-0807-45ea-9d61-848f0781b97f",
   "metadata": {},
   "outputs": [],
   "source": [
    "bp_I  = bp_analysis[bp_analysis['main_dx']=='BP_I']\n",
    "bp_II = bp_analysis[bp_analysis['main_dx']=='BP_II']"
   ]
  },
  {
   "cell_type": "code",
   "execution_count": null,
   "id": "cdf1f987-5248-4242-af3f-4ab62fe04043",
   "metadata": {},
   "outputs": [],
   "source": []
  },
  {
   "cell_type": "code",
   "execution_count": null,
   "id": "09cf9945-ad57-4b8d-b28f-d6b205eeaf20",
   "metadata": {},
   "outputs": [],
   "source": [
    "var_list = ['sdnn', 'tp', 'vlf', 'lf', 'hf', 'lfnorm', 'hfnorm', 'lf_hf', 'rmssd', 'apen', 'srd', 'tsrd', 'tp_ln', 'vlf_ln', 'lf_ln', 'hf_ln']"
   ]
  },
  {
   "cell_type": "code",
   "execution_count": null,
   "id": "7fc39e67-803e-4f61-8045-46bd3c6ec9ee",
   "metadata": {},
   "outputs": [],
   "source": [
    "bp_stat_result =[]\n",
    "for va in var_list:\n",
    "    a = bp_I[va].values\n",
    "    b = bp_II[va].values\n",
    "    t_val , p_val = stats.ttest_ind((a), (b))\n",
    "    bp_stat_result.append([t_val, p_val])"
   ]
  },
  {
   "cell_type": "code",
   "execution_count": null,
   "id": "a7b8d33b-0ef1-42d9-9757-9c1c6e71a999",
   "metadata": {},
   "outputs": [],
   "source": [
    "bp_stat_result_df = pd.DataFrame (bp_stat_result, columns = ['t-value', 'p-value'])\n",
    "bp_stat_result_df = bp_stat_result_df.assign(HRV_feature=var_list)"
   ]
  },
  {
   "cell_type": "code",
   "execution_count": null,
   "id": "1d2bf7c4-3214-4ad3-9306-2fdd472a064e",
   "metadata": {},
   "outputs": [],
   "source": [
    "bp_stat_result_df"
   ]
  },
  {
   "cell_type": "code",
   "execution_count": null,
   "id": "3bed7001-5763-4c86-a6ba-646526546baf",
   "metadata": {},
   "outputs": [],
   "source": []
  },
  {
   "cell_type": "code",
   "execution_count": null,
   "id": "382417cf-9494-4df7-8c71-e8ab1b865063",
   "metadata": {},
   "outputs": [],
   "source": []
  },
  {
   "cell_type": "markdown",
   "id": "98a53ab3-d3cb-4fd4-9a6f-d5eb68a435b2",
   "metadata": {},
   "source": [
    "* Statistical results on HRV_features between MDDs and MDDr are insignificant. \\\n",
    "-> Can we make significant clinical result with machine learning analysis methods?"
   ]
  },
  {
   "cell_type": "code",
   "execution_count": null,
   "id": "f13a9121-0078-4699-a8ea-8f6816ad5fef",
   "metadata": {},
   "outputs": [],
   "source": []
  },
  {
   "cell_type": "markdown",
   "id": "638a96eb-69fa-4c56-9929-4e2e815d0a75",
   "metadata": {},
   "source": [
    "# =========================="
   ]
  },
  {
   "cell_type": "markdown",
   "id": "13c251a4-dffc-4df4-8670-8081a7ed1e06",
   "metadata": {},
   "source": [
    "# Machine Learning approaches"
   ]
  },
  {
   "cell_type": "markdown",
   "id": "a68612a6-a042-46a7-8b97-fecc22aaba47",
   "metadata": {
    "tags": []
   },
   "source": [
    "## Pytorch MLP"
   ]
  },
  {
   "cell_type": "code",
   "execution_count": null,
   "id": "a3343907-ec5c-4968-8dfa-276bad391b5b",
   "metadata": {},
   "outputs": [],
   "source": [
    "class Args:\n",
    "    # arugments\n",
    "    epochs=50\n",
    "    bs=16\n",
    "    lr=0.001\n",
    "    momentum=0.9\n",
    "    num_classes=2\n",
    "    verbose='store_true'\n",
    "    seed=674\n",
    "\n",
    "args = Args()    \n",
    "\n",
    "np.random.seed(args.seed)\n",
    "random.seed(args.seed)\n",
    "torch.manual_seed(args.seed)"
   ]
  },
  {
   "cell_type": "code",
   "execution_count": null,
   "id": "01a4ff1c-fecc-48aa-aa11-ac600072c6e2",
   "metadata": {},
   "outputs": [],
   "source": [
    "hrv.shape"
   ]
  },
  {
   "cell_type": "code",
   "execution_count": null,
   "id": "f4e1a264-b9d8-494f-a5d4-3b048ecf3d25",
   "metadata": {},
   "outputs": [],
   "source": [
    "bp = hrv[hrv['main_dx'].isin (['BP_I', 'BP_II'])]  ## Selecting the dataset with main_dx BP_I and BP_II\n",
    "bp_lab = bp.loc[:, 'main_dx']  ## Selecting label variable (BP_I or BP_II)\n",
    "bp_hrv = bp.loc[:, ['sdnn','tp','vlf','lf','hf','lfnorm','hfnorm','lf_hf','rmssd','apen','srd','tsrd',\n",
    "                          'tp_ln', 'vlf_ln','lf_ln','hf_ln' ]]  ## Selecting only hrv features from overall dataset"
   ]
  },
  {
   "cell_type": "code",
   "execution_count": null,
   "id": "3a3ed598-acc2-4dc7-9490-13c405f1f20a",
   "metadata": {},
   "outputs": [],
   "source": [
    "bp_lab"
   ]
  },
  {
   "cell_type": "code",
   "execution_count": null,
   "id": "5d1b2ca0-8a85-4522-aeab-c9fbb350aea7",
   "metadata": {},
   "outputs": [],
   "source": [
    "print(\"Bipolar Shape is:\", bp.shape) ## bipolar disorder selection from overall dataset\n",
    "print(\"Bipolar HRV Shape is: \", bp_hrv.shape) ## overall 16 hrv variables"
   ]
  },
  {
   "cell_type": "markdown",
   "id": "5172c7cd-b5de-4959-8aad-f32d8b241d05",
   "metadata": {},
   "source": [
    "* remove psi feature, because it contains some string data. Which occurs an error."
   ]
  },
  {
   "cell_type": "code",
   "execution_count": null,
   "id": "c167d12e-266b-4ea2-9cfe-f336ad182e79",
   "metadata": {},
   "outputs": [],
   "source": [
    "# bp_hrv.dtypes\n",
    "bp_lab.dtypes"
   ]
  },
  {
   "cell_type": "code",
   "execution_count": null,
   "id": "703e27d3-04e5-4ba3-acff-04a599f588c4",
   "metadata": {},
   "outputs": [],
   "source": [
    "## Normalize the values\n",
    "from sklearn.preprocessing import MinMaxScaler\n",
    "scaler = MinMaxScaler()\n",
    "bp_hrv[:] = scaler.fit_transform(bp_hrv[:])"
   ]
  },
  {
   "cell_type": "code",
   "execution_count": null,
   "id": "af7d242c-2baa-4990-951e-ea58a7720616",
   "metadata": {},
   "outputs": [],
   "source": []
  },
  {
   "cell_type": "code",
   "execution_count": null,
   "id": "909493df-9aa9-4c7f-afea-6b571c0ecf9e",
   "metadata": {},
   "outputs": [],
   "source": [
    "## Split X and Y into training dataset and test dataset\n",
    "x_train, x_test, y_train, y_test = train_test_split(bp_hrv, bp_lab, test_size = 0.2, random_state = 42)"
   ]
  },
  {
   "cell_type": "code",
   "execution_count": null,
   "id": "31601bbc-d8c6-4b64-8ebb-9e7d4cd91909",
   "metadata": {
    "tags": []
   },
   "outputs": [],
   "source": [
    "# convert to one-hot vector\n",
    "y_train = to_categorical(y_train)\n",
    "y_test = to_categorical(y_test)"
   ]
  },
  {
   "cell_type": "code",
   "execution_count": null,
   "id": "59171343-ecd5-442e-a72e-f518c8484668",
   "metadata": {},
   "outputs": [],
   "source": [
    "print(\"x_train dataset shape is\", x_train.shape)\n",
    "print(\"y_train dataset shape is\", y_train.shape)\n",
    "\n",
    "print(\"x_test dataset shape is\", x_test.shape)\n",
    "print(\"y_test dataset shape is\", y_test.shape)"
   ]
  },
  {
   "cell_type": "code",
   "execution_count": null,
   "id": "4fbd80dc-ca56-4831-a56d-8fa2ed6243a6",
   "metadata": {},
   "outputs": [],
   "source": [
    "## Converting dataframe format into numpy array\n",
    "x_train_np = x_train.to_numpy()\n",
    "y_train_np = y_train.to_numpy()\n",
    "x_test_np = x_test.to_numpy()\n",
    "y_test_np = y_test.to_numpy()"
   ]
  },
  {
   "cell_type": "code",
   "execution_count": null,
   "id": "e986cc0b-58cb-44bc-bfbb-f1f5ee3cceb2",
   "metadata": {},
   "outputs": [],
   "source": []
  },
  {
   "cell_type": "code",
   "execution_count": null,
   "id": "bcb1c4d7-890e-4927-bfa8-33da92222bb3",
   "metadata": {},
   "outputs": [],
   "source": [
    "## Counting the number of unique train set labels\n",
    "unique, counts = np.unique(y_train, return_counts=True)\n",
    "print(\"Train labels: \", dict(zip(unique, counts)))\n",
    "\n",
    "## Counting the number of unique test labels\n",
    "unique, counts = np.unique(y_test, return_counts=True)\n",
    "print(\"\\nTest labels: \", dict(zip(unique, counts)))"
   ]
  },
  {
   "cell_type": "code",
   "execution_count": null,
   "id": "fadc2525-2041-4d7f-b3a5-ceb9cdf59f9e",
   "metadata": {},
   "outputs": [],
   "source": []
  },
  {
   "cell_type": "code",
   "execution_count": null,
   "id": "46b82561-d650-47bf-9396-938d38686c30",
   "metadata": {},
   "outputs": [],
   "source": [
    "## Use TensorDataset to create dataset with ndarray\n",
    "train_dataset = TensorDataset(torch.tensor(x_train_np), torch.tensor(y_train_np))\n",
    "test_dataset  = TensorDataset(torch.tensor(x_test_np), torch.tensor(y_test_np))"
   ]
  },
  {
   "cell_type": "code",
   "execution_count": null,
   "id": "16deb626-6481-4217-ac5a-1d483ee48d6d",
   "metadata": {},
   "outputs": [],
   "source": [
    "## Setting trainloader and testloader for training\n",
    "train_loader = torch.utils.data.DataLoader(train_dataset, batch_size=args.bs, shuffle=True, num_workers=4)\n",
    "test_loader = torch.utils.data.DataLoader(test_dataset, batch_size=args.bs, shuffle=False, num_workers=4)"
   ]
  },
  {
   "cell_type": "code",
   "execution_count": null,
   "id": "c5399150-36ca-4fcc-b7bd-efd60b3591ff",
   "metadata": {},
   "outputs": [],
   "source": []
  },
  {
   "cell_type": "code",
   "execution_count": null,
   "id": "c7f61c41-32cc-48d5-81e6-611c3ffac950",
   "metadata": {},
   "outputs": [],
   "source": []
  },
  {
   "cell_type": "markdown",
   "id": "cc797508-a107-4e74-9a2f-bead27cb02e4",
   "metadata": {},
   "source": [
    "## KERAS"
   ]
  },
  {
   "cell_type": "markdown",
   "id": "4552de82-7023-4588-816a-ac7f4c7870fd",
   "metadata": {},
   "source": [
    "### Setting arguments"
   ]
  },
  {
   "cell_type": "code",
   "execution_count": null,
   "id": "9d4fed2a-1195-4c81-8387-6b4fe27e9971",
   "metadata": {},
   "outputs": [],
   "source": [
    "class Args:\n",
    "    # arugments\n",
    "    epochs=1000\n",
    "    bs=128\n",
    "    lr=0.0001\n",
    "    momentum=0.9\n",
    "#     num_classes=3\n",
    "    verbose='store_true'\n",
    "    seed=710674\n",
    "\n",
    "args = Args()    \n",
    "\n",
    "np.random.seed(args.seed)\n",
    "random.seed(args.seed)\n",
    "torch.manual_seed(args.seed)"
   ]
  },
  {
   "cell_type": "markdown",
   "id": "6d50b1d9-0785-45d0-a83b-de5bff6844a7",
   "metadata": {},
   "source": [
    "### Three classes classification"
   ]
  },
  {
   "cell_type": "code",
   "execution_count": null,
   "id": "410d8a15-6a49-4844-96e7-e91fa9dddf75",
   "metadata": {},
   "outputs": [],
   "source": [
    "mdd_analysis #contains 3 different disorder(PDD, MDDr, MDDs)"
   ]
  },
  {
   "cell_type": "code",
   "execution_count": null,
   "id": "9e9ce586-7283-4ef1-a234-c0815eedd6a0",
   "metadata": {},
   "outputs": [],
   "source": [
    "x_data = mdd_analysis.drop(['main_dx'], axis = 1)\n",
    "x_data = np.asarray(x_data).astype(np.float32)\n",
    "\n",
    "label = mdd_analysis['main_dx']"
   ]
  },
  {
   "cell_type": "code",
   "execution_count": null,
   "id": "d77d9ef0-d3cc-4613-a2a6-5fd5260ed635",
   "metadata": {},
   "outputs": [],
   "source": [
    "label = label.replace({'MDDs': 0})\n",
    "label = label.replace({'MDDr': 1})\n",
    "label = label.replace({'PDD': 2})"
   ]
  },
  {
   "cell_type": "code",
   "execution_count": null,
   "id": "8b72b99a-3a4a-4fd2-9ed5-0ddebada65a1",
   "metadata": {},
   "outputs": [],
   "source": [
    "label.value_counts()"
   ]
  },
  {
   "cell_type": "code",
   "execution_count": null,
   "id": "92de520f-89c2-455d-8aa2-c4c768454b5b",
   "metadata": {},
   "outputs": [],
   "source": [
    "num_classes = 3\n",
    "y_data = to_categorical((label), num_classes)\n",
    "print(y_data[0])"
   ]
  },
  {
   "cell_type": "code",
   "execution_count": null,
   "id": "d4da8c9a-80a3-4855-981f-32df32cddbb6",
   "metadata": {},
   "outputs": [],
   "source": [
    "x_train, x_test, y_train, y_test = train_test_split(x_data, y_data, test_size = 0.2, random_state = 7)"
   ]
  },
  {
   "cell_type": "code",
   "execution_count": null,
   "id": "5c5bd276-3d90-4d92-b589-5234dc183f24",
   "metadata": {},
   "outputs": [],
   "source": [
    "x_train.shape"
   ]
  },
  {
   "cell_type": "code",
   "execution_count": null,
   "id": "4fd01bc9-598c-4cde-bf9f-f81016e392e2",
   "metadata": {},
   "outputs": [],
   "source": [
    "y_train.shape"
   ]
  },
  {
   "cell_type": "code",
   "execution_count": null,
   "id": "8b00c7a6-e443-415e-b656-b30a249eeefe",
   "metadata": {},
   "outputs": [],
   "source": []
  },
  {
   "cell_type": "code",
   "execution_count": null,
   "id": "87a2a530-b3bd-43c0-a3e3-60e3c2d05640",
   "metadata": {},
   "outputs": [],
   "source": [
    "## Generate the model\n",
    "model = Sequential()\n",
    "model.add(Dense(64, input_dim = x_train.shape[1], activation = 'relu'))\n",
    "model.add(Dense(64, activation = 'relu'))\n",
    "model.add(Dropout(0.3)) #drop out\n",
    "model.add(Dense(32, activation = 'relu'))\n",
    "model.add(Dense(6, activation = 'relu'))\n",
    "model.add(Dense(3, activation = 'sigmoid'))"
   ]
  },
  {
   "cell_type": "code",
   "execution_count": null,
   "id": "b8b17711-4af1-4cb5-b3f1-f5602f3c0d21",
   "metadata": {},
   "outputs": [],
   "source": [
    "model.summary()"
   ]
  },
  {
   "cell_type": "code",
   "execution_count": null,
   "id": "e007b512-234d-42f5-a852-497014a78a7e",
   "metadata": {},
   "outputs": [],
   "source": []
  },
  {
   "cell_type": "code",
   "execution_count": null,
   "id": "2b04bb5b-9039-4087-ad5a-be1fb750cdb8",
   "metadata": {},
   "outputs": [],
   "source": [
    "model.compile(loss = 'categorical_crossentropy', optimizer = 'adam', metrics = ['accuracy'])"
   ]
  },
  {
   "cell_type": "code",
   "execution_count": null,
   "id": "6de908a2-a2af-474e-8fa6-68e12ed725b8",
   "metadata": {
    "tags": []
   },
   "outputs": [],
   "source": [
    "model.fit(x_train, y_train, epochs = args.epochs, batch_size = args.bs, verbose=0)"
   ]
  },
  {
   "cell_type": "code",
   "execution_count": null,
   "id": "4d2ae068-be86-427d-98b5-ef3f8dbbe75d",
   "metadata": {},
   "outputs": [],
   "source": [
    "scores = model.evaluate(x_test, y_test)\n",
    "print(\"%s: %.2f%%\" %(model.metrics_names[1], scores[1]*100))"
   ]
  },
  {
   "cell_type": "code",
   "execution_count": null,
   "id": "0cca51db-552a-4060-bb01-2dcc5cd047aa",
   "metadata": {},
   "outputs": [],
   "source": []
  },
  {
   "cell_type": "code",
   "execution_count": null,
   "id": "599d19e3-4c43-4be5-88f3-3bbb51e00906",
   "metadata": {},
   "outputs": [],
   "source": []
  },
  {
   "cell_type": "markdown",
   "id": "c190fae6-3186-4107-b6d8-7a7be2c8e0a2",
   "metadata": {},
   "source": [
    "### What if two classes?"
   ]
  },
  {
   "cell_type": "code",
   "execution_count": null,
   "id": "cf7c4108-4088-4660-9e30-19a3dc5b2578",
   "metadata": {},
   "outputs": [],
   "source": [
    "hrv_mdd_rs = hrv[hrv['main_dx'].isin (['MDDs', 'MDDr'])]  ## Selecting the dataset with main_dx MDDs and MDDr\n",
    "mdd_rs_analysis = hrv_mdd_rs.loc[:, ['main_dx','sdnn','psi','tp','vlf','lf','hf','lfnorm','hfnorm','lf_hf','rmssd','apen',\n",
    "                                  'srd','tsrd', 'tp_ln', 'vlf_ln','lf_ln','hf_ln']] ## selecting variables from mdds, mddr"
   ]
  },
  {
   "cell_type": "code",
   "execution_count": null,
   "id": "2de25878-6ec4-4715-888c-eaea1318cd7f",
   "metadata": {},
   "outputs": [],
   "source": [
    "x_data = mdd_rs_analysis.drop(['main_dx'], axis = 1)\n",
    "x_data = np.asarray(x_data).astype(np.float32)\n",
    "\n",
    "label = mdd_rs_analysis['main_dx']"
   ]
  },
  {
   "cell_type": "code",
   "execution_count": null,
   "id": "66c6be31-0bed-47e4-8fd4-dff0fe86a2fc",
   "metadata": {},
   "outputs": [],
   "source": [
    "label = label.replace({'MDDs': 0})\n",
    "label = label.replace({'MDDr': 1})"
   ]
  },
  {
   "cell_type": "code",
   "execution_count": null,
   "id": "207c37d8-5595-4e61-b0f6-3a12e0b7e4d4",
   "metadata": {},
   "outputs": [],
   "source": [
    "num_classes = 2\n",
    "y_data = to_categorical((label), num_classes)\n",
    "print(y_data[0])"
   ]
  },
  {
   "cell_type": "code",
   "execution_count": null,
   "id": "eb128925-be4f-40b7-8a6a-d2bc7bff8280",
   "metadata": {},
   "outputs": [],
   "source": [
    "x_train, x_test, y_train, y_test = train_test_split(x_data, y_data, test_size = 0.2, random_state = 7)"
   ]
  },
  {
   "cell_type": "code",
   "execution_count": null,
   "id": "de5724e9-9ae6-4aa2-be54-fd91ad9ab380",
   "metadata": {},
   "outputs": [],
   "source": []
  },
  {
   "cell_type": "code",
   "execution_count": null,
   "id": "9c41193e-1963-4e31-b5f4-b4e4da3ec3cd",
   "metadata": {},
   "outputs": [],
   "source": [
    "## Generate the model\n",
    "model = Sequential()\n",
    "model.add(Dense(32, input_dim = x_train.shape[1], activation = 'relu'))\n",
    "model.add(Dense(18, activation = 'relu'))\n",
    "model.add(Dense(6, activation = 'relu'))\n",
    "model.add(Dense(2, activation = 'sigmoid'))"
   ]
  },
  {
   "cell_type": "code",
   "execution_count": null,
   "id": "180b9c51-c531-467c-83c1-059dbb2ec64c",
   "metadata": {},
   "outputs": [],
   "source": [
    "model.summary()"
   ]
  },
  {
   "cell_type": "code",
   "execution_count": null,
   "id": "1187a9e1-0e75-4fba-88ff-d98b7974d266",
   "metadata": {},
   "outputs": [],
   "source": [
    "model.compile(loss = 'binary_crossentropy', optimizer = 'adam', metrics = ['accuracy'])"
   ]
  },
  {
   "cell_type": "code",
   "execution_count": null,
   "id": "3aabade2-013c-4d37-a06b-543834d47033",
   "metadata": {},
   "outputs": [],
   "source": [
    "model.fit(x_train, y_train, epochs = args.epochs, batch_size = args.bs, verbose = 0, shuffle=True)"
   ]
  },
  {
   "cell_type": "code",
   "execution_count": null,
   "id": "e09ea00b-6e76-48e4-9d1e-f57d3bff3f16",
   "metadata": {},
   "outputs": [],
   "source": [
    "scores = model.evaluate(x_test, y_test)\n",
    "print(\"%s: %.2f%%\" %(model.metrics_names[1], scores[1]*100))"
   ]
  },
  {
   "cell_type": "code",
   "execution_count": null,
   "id": "bd5089fb-b601-4892-9f4a-08c46b7eb684",
   "metadata": {},
   "outputs": [],
   "source": []
  },
  {
   "cell_type": "markdown",
   "id": "4899b2fb-e74f-4827-83da-9aa511d78eb2",
   "metadata": {},
   "source": [
    "#### Logistic Regression"
   ]
  },
  {
   "cell_type": "code",
   "execution_count": null,
   "id": "a0563078-8fcc-4021-b7b1-99bdc5ad89d2",
   "metadata": {},
   "outputs": [],
   "source": [
    "x_train, x_test, y_train, y_test = train_test_split(x_data, label, test_size = 0.2, random_state = 7)"
   ]
  },
  {
   "cell_type": "code",
   "execution_count": null,
   "id": "711f7c45-e45a-4557-adc9-acc3462fd82a",
   "metadata": {},
   "outputs": [],
   "source": [
    "model = LogisticRegression()\n",
    "model.fit(x_train, y_train)"
   ]
  },
  {
   "cell_type": "code",
   "execution_count": null,
   "id": "ea72d93f-606c-43cf-9596-e850b24ce494",
   "metadata": {},
   "outputs": [],
   "source": [
    "print(model.score(x_train, y_train))"
   ]
  },
  {
   "cell_type": "code",
   "execution_count": null,
   "id": "e317ef43-11d0-471a-8456-1e7b3702ccd9",
   "metadata": {},
   "outputs": [],
   "source": []
  },
  {
   "cell_type": "markdown",
   "id": "6f3c1220-601c-4b1d-986d-2e9301ab6455",
   "metadata": {},
   "source": [
    "# =========================="
   ]
  },
  {
   "cell_type": "markdown",
   "id": "5c97658d-f23f-4472-8089-90836f33b4f7",
   "metadata": {},
   "source": [
    "# Data Augmentation Approaches"
   ]
  },
  {
   "cell_type": "markdown",
   "id": "0305cd26-f03a-44ea-a0c7-dc9a78f3c331",
   "metadata": {},
   "source": [
    "## Simple - 3 classes"
   ]
  },
  {
   "cell_type": "code",
   "execution_count": null,
   "id": "94698937-3835-415d-a5b4-6a232c06c866",
   "metadata": {},
   "outputs": [],
   "source": [
    "data = mdd_analysis_core"
   ]
  },
  {
   "cell_type": "code",
   "execution_count": null,
   "id": "2b1dc82f-7308-45f7-b1b1-50faa46856d5",
   "metadata": {},
   "outputs": [],
   "source": [
    "mdds = data[data['main_dx']=='MDDs']\n",
    "mddr = data[data['main_dx']=='MDDr']\n",
    "pdd  = data[data['main_dx']=='PDD']"
   ]
  },
  {
   "cell_type": "code",
   "execution_count": null,
   "id": "55ed7ecd-fb21-41cf-a641-912d2eb736e3",
   "metadata": {},
   "outputs": [],
   "source": [
    "mddr_aug = mddr.sample(frac=0.2)"
   ]
  },
  {
   "cell_type": "code",
   "execution_count": null,
   "id": "594201ce-ae2c-46a2-a15a-79e6fd620e5b",
   "metadata": {},
   "outputs": [],
   "source": [
    "mdd_aug = pd.concat([data, pdd,mddr_aug])"
   ]
  },
  {
   "cell_type": "code",
   "execution_count": null,
   "id": "685ddf1d-1d2e-4f65-b35f-fe61e3f0957b",
   "metadata": {},
   "outputs": [],
   "source": [
    "mdd_aug['main_dx'].value_counts()"
   ]
  },
  {
   "cell_type": "code",
   "execution_count": null,
   "id": "3ee0b200-d60a-47c6-ae69-711165ddcf4e",
   "metadata": {},
   "outputs": [],
   "source": [
    "mdd_aug.columns"
   ]
  },
  {
   "cell_type": "code",
   "execution_count": null,
   "id": "84f7329c-b4e9-4266-b690-92e0c888519c",
   "metadata": {},
   "outputs": [],
   "source": [
    "mdd_aug_labels = mdd_aug.loc[:, 'main_dx']\n",
    "mdd_aug_values = mdd_aug.loc[:, ['sdnn', 'tp', 'vlf', 'lfnorm', 'hfnorm', 'rmssd', 'apen', 'srd', 'tsrd']]"
   ]
  },
  {
   "cell_type": "code",
   "execution_count": null,
   "id": "e9ead299-11fd-40b3-b6ff-e75985ca5d25",
   "metadata": {},
   "outputs": [],
   "source": [
    "## Normalize between 0 and 1\n",
    "from sklearn.preprocessing import MinMaxScaler\n",
    "scaler = MinMaxScaler()\n",
    "mdd_aug_values[:] = scaler.fit_transform(mdd_aug_values[:])"
   ]
  },
  {
   "cell_type": "code",
   "execution_count": null,
   "id": "621ec504-f70b-47ea-bb23-9ce129d45c50",
   "metadata": {},
   "outputs": [],
   "source": [
    "mdd_aug_final = pd.concat([mdd_aug_labels, mdd_aug_values], axis=1)"
   ]
  },
  {
   "cell_type": "code",
   "execution_count": null,
   "id": "8bca38a3-20df-48e9-8b98-6a0c3ac94809",
   "metadata": {},
   "outputs": [],
   "source": []
  },
  {
   "cell_type": "code",
   "execution_count": null,
   "id": "01b775ae-39bf-4add-ac07-ed9a9a57a6c5",
   "metadata": {},
   "outputs": [],
   "source": [
    "x_data = mdd_aug.drop(['main_dx'], axis = 1)\n",
    "x_data = np.asarray(x_data).astype(np.float32)\n",
    "\n",
    "label = mdd_aug['main_dx']"
   ]
  },
  {
   "cell_type": "code",
   "execution_count": null,
   "id": "9d3c70b5-2327-4138-aa8d-13ffb3cf85f9",
   "metadata": {},
   "outputs": [],
   "source": [
    "label = label.replace({'MDDs': 0})\n",
    "label = label.replace({'MDDr': 1})\n",
    "label = label.replace({'PDD': 2})"
   ]
  },
  {
   "cell_type": "code",
   "execution_count": null,
   "id": "7fd3cfda-2fb5-4e1b-9e1b-c8c3ff3ddf7b",
   "metadata": {},
   "outputs": [],
   "source": [
    "label.value_counts()"
   ]
  },
  {
   "cell_type": "code",
   "execution_count": null,
   "id": "81168f49-d038-4904-920d-517e5276c120",
   "metadata": {},
   "outputs": [],
   "source": [
    "num_classes = 3\n",
    "y_data = to_categorical((label), num_classes)\n",
    "print(y_data[0])"
   ]
  },
  {
   "cell_type": "code",
   "execution_count": null,
   "id": "a924ffc7-3ce0-45d1-aa48-7074b3edb012",
   "metadata": {},
   "outputs": [],
   "source": [
    "x_train, x_test, y_train, y_test = train_test_split(x_data, y_data, test_size = 0.2, random_state = 42)"
   ]
  },
  {
   "cell_type": "code",
   "execution_count": null,
   "id": "53dab262-527c-42aa-92f6-d31943a8de8a",
   "metadata": {},
   "outputs": [],
   "source": [
    "## Generate the model\n",
    "model = Sequential()\n",
    "model.add(Dense(64, input_dim = x_train.shape[1], activation = 'relu'))\n",
    "model.add(Dense(64, activation = 'relu'))\n",
    "model.add(Dropout(0.3)) #drop out\n",
    "model.add(Dense(32, activation = 'relu'))\n",
    "model.add(Dense(6, activation = 'relu'))\n",
    "model.add(Dense(3, activation = 'sigmoid'))"
   ]
  },
  {
   "cell_type": "code",
   "execution_count": null,
   "id": "356c35a3-9cf7-4ad2-81bb-e30dc1212e5a",
   "metadata": {},
   "outputs": [],
   "source": []
  },
  {
   "cell_type": "code",
   "execution_count": null,
   "id": "db30cf08-e678-408a-b61f-bdfa60c8f3df",
   "metadata": {},
   "outputs": [],
   "source": [
    "sgd = SGD(lr=0.001, decay=1e-6, momentum=args.momentum, nesterov=True)"
   ]
  },
  {
   "cell_type": "code",
   "execution_count": null,
   "id": "27ca999b-a542-4435-a769-f1a4d736efd0",
   "metadata": {},
   "outputs": [],
   "source": [
    "model.compile(loss = 'categorical_crossentropy',\n",
    "#               optimizer = 'adam', \n",
    "              optimizer = sgd,\n",
    "              metrics = ['accuracy'])"
   ]
  },
  {
   "cell_type": "code",
   "execution_count": null,
   "id": "80a3a82b-159b-4508-9d38-1324560a82ac",
   "metadata": {},
   "outputs": [],
   "source": [
    "model.fit(x_train, y_train, epochs = args.epochs, batch_size = args.bs, verbose=0)"
   ]
  },
  {
   "cell_type": "code",
   "execution_count": null,
   "id": "97e9616e-69f7-4e8d-8324-8020a965d327",
   "metadata": {},
   "outputs": [],
   "source": [
    "scores = model.evaluate(x_test, y_test)\n",
    "print(\"%s: %.2f%%\" %(model.metrics_names[1], scores[1]*100))"
   ]
  },
  {
   "cell_type": "code",
   "execution_count": null,
   "id": "058120f5-ae0d-4163-9306-9d6561393dd5",
   "metadata": {},
   "outputs": [],
   "source": []
  },
  {
   "cell_type": "code",
   "execution_count": null,
   "id": "5335f916-af3f-4b25-b224-c4e4114e39a3",
   "metadata": {},
   "outputs": [],
   "source": []
  },
  {
   "cell_type": "code",
   "execution_count": null,
   "id": "45ad8c1b-7b95-433a-a81e-986f080e4300",
   "metadata": {},
   "outputs": [],
   "source": []
  },
  {
   "cell_type": "code",
   "execution_count": null,
   "id": "1917e192-c760-43ce-ae47-d7b1989f9a39",
   "metadata": {},
   "outputs": [],
   "source": []
  },
  {
   "cell_type": "code",
   "execution_count": null,
   "id": "a298e284-e7a1-45e0-afb3-ad695d2aa567",
   "metadata": {},
   "outputs": [],
   "source": []
  },
  {
   "cell_type": "markdown",
   "id": "40118152-7b00-48c4-83ce-310c0102d18a",
   "metadata": {},
   "source": [
    "# #1. Statistical (distribution-based)"
   ]
  },
  {
   "cell_type": "markdown",
   "id": "0d182991-028b-4b67-9c91-512449c905d1",
   "metadata": {},
   "source": [
    "## Check dataset"
   ]
  },
  {
   "cell_type": "code",
   "execution_count": null,
   "id": "198a0338-38d0-4a34-afd7-7f7fc3837dca",
   "metadata": {},
   "outputs": [],
   "source": [
    "mdd_analysis #contains 3 different disorder(PDD, MDDr, MDDs)\n",
    "mdd_hrv"
   ]
  },
  {
   "cell_type": "code",
   "execution_count": null,
   "id": "aebdbf99-c6e3-4bbe-8618-9daf4e679a2a",
   "metadata": {},
   "outputs": [],
   "source": [
    "mdd_analysis['main_dx'].value_counts() ## lacking PDD"
   ]
  },
  {
   "cell_type": "code",
   "execution_count": null,
   "id": "a89e38f2-0813-4473-ae56-6f9f43b87565",
   "metadata": {},
   "outputs": [],
   "source": [
    "## Normalize between 0 and 1\n",
    "from sklearn.preprocessing import MinMaxScaler\n",
    "scaler = MinMaxScaler()\n",
    "mdd_hrv[:] = scaler.fit_transform(mdd_hrv[:])"
   ]
  },
  {
   "cell_type": "code",
   "execution_count": null,
   "id": "2e4e42a4-fd70-4cc8-9d67-6db94079187c",
   "metadata": {},
   "outputs": [],
   "source": [
    "mdd_hrv.head()"
   ]
  },
  {
   "cell_type": "markdown",
   "id": "0ee2b049-5f77-4de5-85b0-05b6ad6fe3b6",
   "metadata": {},
   "source": [
    "## Check data variables distribution"
   ]
  },
  {
   "cell_type": "code",
   "execution_count": null,
   "id": "13679416-2fe4-44ba-9f16-ab7909c9d0ae",
   "metadata": {},
   "outputs": [],
   "source": [
    "SDNN = mdd_hrv['sdnn']\n",
    "PSI = mdd_hrv['psi']\n",
    "TP = mdd_hrv['tp']\n",
    "VLF = mdd_hrv['vlf']\n",
    "LF = mdd_hrv['lf']\n",
    "HF = mdd_hrv['hf']\n",
    "LFNORN = mdd_hrv['lfnorm']\n",
    "HFNORM = mdd_hrv['hfnorm']\n",
    "LFHF = mdd_hrv['lf_hf']\n",
    "RMSSD = mdd_hrv['rmssd']\n",
    "APEN = mdd_hrv['apen']\n",
    "SRD = mdd_hrv['srd']\n",
    "TSRD = mdd_hrv['tsrd']\n",
    "TPLN = mdd_hrv['tp_ln']\n",
    "VLFLN= mdd_hrv['vlf_ln']\n",
    "LFLN = mdd_hrv['lf_ln']\n",
    "HFLN = mdd_hrv['hf_ln']"
   ]
  },
  {
   "cell_type": "code",
   "execution_count": null,
   "id": "1329662f-3f89-4b79-9aad-f50ca42cee99",
   "metadata": {},
   "outputs": [],
   "source": [
    "plt.figure(figsize = (10, 5))\n",
    "sns.set_style(\"whitegrid\")\n",
    "plt.grid(True)\n",
    "plt.xlabel('Standardized Variables',fontsize=10)\n",
    "plt.ylabel('Density',fontsize=10)\n",
    "\n",
    "sns.kdeplot(SDNN)\n",
    "sns.kdeplot(PSI)\n",
    "sns.kdeplot(TP)\n",
    "sns.kdeplot(VLF)\n",
    "sns.kdeplot(LF)\n",
    "sns.kdeplot(HF)\n",
    "sns.kdeplot(RMSSD)\n",
    "sns.kdeplot(APEN)\n",
    "sns.kdeplot(SRD)\n",
    "\n",
    "\n",
    "# plt.legend()\n",
    "plt.legend(['SDNN', 'PSI', 'TP', 'VLF', 'LF', 'HF', 'RMSSD', 'APEN', 'SRD'], fontsize=10)\n",
    "\n",
    "# plt.savefig('distribution.png')"
   ]
  },
  {
   "cell_type": "code",
   "execution_count": null,
   "id": "7df188a7-a6bc-487c-b945-33e2ef9dcf20",
   "metadata": {},
   "outputs": [],
   "source": []
  },
  {
   "cell_type": "code",
   "execution_count": null,
   "id": "6c228280-384b-4d6e-b030-f949027b939d",
   "metadata": {},
   "outputs": [],
   "source": [
    "# fig, ax = plt.subplots()\n",
    "plt.figure(figsize = (10, 5))\n",
    "plt.xlabel('HRV feature variables',fontsize=10)\n",
    "plt.ylabel('Feature value',fontsize=10)\n",
    "plt.boxplot(mdd_hrv)\n",
    "plt.show()"
   ]
  },
  {
   "cell_type": "code",
   "execution_count": null,
   "id": "7c08a53f-2445-40bb-953f-b7acaec64975",
   "metadata": {},
   "outputs": [],
   "source": []
  },
  {
   "cell_type": "code",
   "execution_count": null,
   "id": "31e02622-b496-41e3-991a-bd7c64cac1e9",
   "metadata": {},
   "outputs": [],
   "source": [
    "mdds_box = mdds.loc[:, ['sdnn','psi','tp','vlf','lf','hf','lfnorm','hfnorm','lf_hf','rmssd','apen',\n",
    "                                  'srd','tsrd', 'tp_ln', 'vlf_ln','lf_ln','hf_ln']]"
   ]
  },
  {
   "cell_type": "code",
   "execution_count": null,
   "id": "543d7bbe-feeb-4158-b1dc-e19adc2ae9b1",
   "metadata": {},
   "outputs": [],
   "source": [
    "## Normalize between 0 and 1\n",
    "from sklearn.preprocessing import MinMaxScaler\n",
    "scaler = MinMaxScaler()\n",
    "mdds_box[:] = scaler.fit_transform(mdds_box[:])"
   ]
  },
  {
   "cell_type": "code",
   "execution_count": null,
   "id": "43a696bc-76d8-4b2c-a7bb-4589e90c72cf",
   "metadata": {},
   "outputs": [],
   "source": [
    "# fig, ax = plt.subplots()\n",
    "plt.figure(figsize = (10, 5))\n",
    "plt.xlabel('HRV feature variables',fontsize=10)\n",
    "plt.ylabel('Feature value',fontsize=10)\n",
    "plt.boxplot(mdds_box)\n",
    "plt.show()"
   ]
  },
  {
   "cell_type": "code",
   "execution_count": null,
   "id": "e1e5e885-1916-4f45-b8ad-4bbd9c8543b7",
   "metadata": {},
   "outputs": [],
   "source": []
  },
  {
   "cell_type": "code",
   "execution_count": null,
   "id": "be97ae64-1bda-449d-803e-0029161847b3",
   "metadata": {},
   "outputs": [],
   "source": [
    "## Normalize between 0 and 1\n",
    "# from sklearn.preprocessing import MinMaxScaler\n",
    "mddr_box = mddr.loc[:, ['sdnn','psi','tp','vlf','lf','hf','lfnorm','hfnorm','lf_hf','rmssd','apen',\n",
    "                                  'srd','tsrd', 'tp_ln', 'vlf_ln','lf_ln','hf_ln']]\n",
    "scaler = MinMaxScaler()\n",
    "mddr_box[:] = scaler.fit_transform(mddr_box[:])"
   ]
  },
  {
   "cell_type": "code",
   "execution_count": null,
   "id": "25d441f5-9aeb-43ac-b9ba-2eb5f1425a9b",
   "metadata": {},
   "outputs": [],
   "source": [
    "# fig, ax = plt.subplots()\n",
    "plt.figure(figsize = (10, 5))\n",
    "plt.xlabel('HRV feature variables',fontsize=10)\n",
    "plt.ylabel('Feature value',fontsize=10)\n",
    "plt.boxplot(mddr_box)\n",
    "plt.show()"
   ]
  },
  {
   "cell_type": "code",
   "execution_count": null,
   "id": "8c1975cd-4e91-4b47-b63e-6839afc0abbb",
   "metadata": {},
   "outputs": [],
   "source": []
  },
  {
   "cell_type": "code",
   "execution_count": null,
   "id": "9dbb7be7-f388-4258-8dab-bb88314d1984",
   "metadata": {},
   "outputs": [],
   "source": [
    "## Normalize between 0 and 1\n",
    "# from sklearn.preprocessing import MinMaxScaler\n",
    "pdd_box = pdd.loc[:, ['sdnn','psi','tp','vlf','lf','hf','lfnorm','hfnorm','lf_hf','rmssd','apen',\n",
    "                                  'srd','tsrd', 'tp_ln', 'vlf_ln','lf_ln','hf_ln']]\n",
    "scaler = MinMaxScaler()\n",
    "pdd_box[:] = scaler.fit_transform(pdd_box[:])"
   ]
  },
  {
   "cell_type": "code",
   "execution_count": null,
   "id": "b0d8dbc7-1be4-41c9-9f79-d3c69bd45f0a",
   "metadata": {},
   "outputs": [],
   "source": [
    "# fig, ax = plt.subplots()\n",
    "plt.figure(figsize = (10, 5))\n",
    "plt.xlabel('HRV feature variables',fontsize=10)\n",
    "plt.ylabel('Feature value',fontsize=10)\n",
    "plt.boxplot(pdd_box)\n",
    "plt.show()"
   ]
  },
  {
   "cell_type": "code",
   "execution_count": null,
   "id": "701aa8c0-7f8c-4171-bc6b-765e3e15832d",
   "metadata": {},
   "outputs": [],
   "source": []
  },
  {
   "cell_type": "code",
   "execution_count": null,
   "id": "058eabf3-1418-4d8a-82b4-722ac5587242",
   "metadata": {},
   "outputs": [],
   "source": []
  },
  {
   "cell_type": "code",
   "execution_count": null,
   "id": "df26307a-0cea-4644-bae9-f1e1a05d8488",
   "metadata": {},
   "outputs": [],
   "source": []
  },
  {
   "cell_type": "markdown",
   "id": "315ec41d-a4c1-4262-a1ca-8787bcf640b3",
   "metadata": {},
   "source": [
    "## Check data variables correlation coefficient"
   ]
  },
  {
   "cell_type": "code",
   "execution_count": null,
   "id": "e5d8defa-0e04-4ade-8dc5-2e1af6e7f517",
   "metadata": {},
   "outputs": [],
   "source": [
    "mdd_hrv_core_variables = hrv_mdd.loc[:, ['sdnn', 'psi', 'tp', 'vlf', 'lf', 'hf', 'rmssd', 'apen', 'srd']]\n",
    "mdd_hrv_core_variables_with_label = hrv_mdd.loc[:, ['main_dx', 'sdnn', 'psi', 'tp', 'vlf', 'lf', 'hf', 'rmssd', 'apen', 'srd']]"
   ]
  },
  {
   "cell_type": "code",
   "execution_count": null,
   "id": "f2098cd9-a4e8-465e-89bc-52a6f4b4d2c2",
   "metadata": {},
   "outputs": [],
   "source": [
    "corr = mdd_hrv_core_variables.corr()\n",
    "corr"
   ]
  },
  {
   "cell_type": "code",
   "execution_count": null,
   "id": "940100d1-2f90-4537-83be-fffe3cf268f6",
   "metadata": {},
   "outputs": [],
   "source": [
    "correlation = pd.DataFrame(corr)"
   ]
  },
  {
   "cell_type": "code",
   "execution_count": null,
   "id": "f79cec8c-c4e0-4bc5-80b0-82e81a169fad",
   "metadata": {},
   "outputs": [],
   "source": [
    "corr = mdd_hrv_core_variables.corr()\n",
    "fig = plt.figure(figsize = (10, 10))\n",
    "ax = fig.add_subplot(111)\n",
    "cax = ax.matshow(corr, cmap='coolwarm', vmin=-1, vmax=1)\n",
    "fig.colorbar(cax)\n",
    "ticks = np.arange(0, len(mdd_hrv_core_variables.columns),1)\n",
    "ax.set_xticks(ticks)\n",
    "plt.xticks(rotation=90)\n",
    "ax.set_yticks(ticks)\n",
    "ax.set_xticklabels(mdd_hrv_core_variables.columns)\n",
    "ax.set_yticklabels(mdd_hrv_core_variables.columns)\n",
    "plt.show()"
   ]
  },
  {
   "cell_type": "code",
   "execution_count": null,
   "id": "cc3f34ef-c6d1-4a95-b8a9-802d7f3f37f9",
   "metadata": {},
   "outputs": [],
   "source": []
  },
  {
   "cell_type": "markdown",
   "id": "b45f6bc5-62b7-46c2-89a7-20c6e2dda27c",
   "metadata": {},
   "source": [
    "## Multiple regression"
   ]
  },
  {
   "cell_type": "code",
   "execution_count": null,
   "id": "67c7c0dd-616e-4149-a45f-8c929addaad4",
   "metadata": {},
   "outputs": [],
   "source": [
    "from sklearn import linear_model\n",
    "import statsmodels.api as sm"
   ]
  },
  {
   "cell_type": "code",
   "execution_count": null,
   "id": "17b3c3ec-fcc7-4820-92fe-5ababfc09a3d",
   "metadata": {},
   "outputs": [],
   "source": [
    "x = mdd_hrv_core_variables_with_label[['sdnn', 'tp', 'vlf', 'lf', 'hf', 'rmssd', 'apen', 'srd']]\n",
    "y = mdd_hrv_core_variables_with_label['main_dx']"
   ]
  },
  {
   "cell_type": "code",
   "execution_count": null,
   "id": "b8a6f1d1-33b8-45ee-aab3-1da24e8dcbd9",
   "metadata": {},
   "outputs": [],
   "source": [
    "y = y.replace({'MDDs': 0})\n",
    "y = y.replace({'MDDr': 1})\n",
    "y = y.replace({'PDD': 2})"
   ]
  },
  {
   "cell_type": "code",
   "execution_count": null,
   "id": "5d49882e-248c-401f-87b0-696f2b858d52",
   "metadata": {},
   "outputs": [],
   "source": [
    "x.dtypes"
   ]
  },
  {
   "cell_type": "code",
   "execution_count": null,
   "id": "1b9aa772-44a9-449f-a4ce-82471cbab120",
   "metadata": {},
   "outputs": [],
   "source": [
    "# with sklearn\n",
    "regr = linear_model.LinearRegression()\n",
    "regr.fit(x, y)\n",
    "\n",
    "print('Intercept: \\n', regr.intercept_)\n",
    "print('Coefficients: \\n', regr.coef_)\n",
    "\n",
    "# with statsmodels\n",
    "x = sm.add_constant(x) # adding a constant\n",
    " \n",
    "model = sm.OLS(y, x).fit()\n",
    "predictions = model.predict(x) \n",
    " \n",
    "print_model = model.summary()\n",
    "print(print_model)"
   ]
  },
  {
   "cell_type": "code",
   "execution_count": null,
   "id": "8694785c-7860-4ca3-8cf9-1bf16762974d",
   "metadata": {},
   "outputs": [],
   "source": []
  },
  {
   "cell_type": "code",
   "execution_count": null,
   "id": "b7b573c5-d8e0-4798-8675-607daec36baf",
   "metadata": {},
   "outputs": [],
   "source": []
  },
  {
   "cell_type": "code",
   "execution_count": null,
   "id": "5ffeaa7c-61dd-4843-8a64-99ec60d0ba2c",
   "metadata": {},
   "outputs": [],
   "source": []
  },
  {
   "cell_type": "code",
   "execution_count": null,
   "id": "48fa1407-680c-44f5-9464-d41a6367d700",
   "metadata": {},
   "outputs": [],
   "source": []
  }
 ],
 "metadata": {
  "kernelspec": {
   "display_name": "Python 3 (ipykernel)",
   "language": "python",
   "name": "python3"
  },
  "language_info": {
   "codemirror_mode": {
    "name": "ipython",
    "version": 3
   },
   "file_extension": ".py",
   "mimetype": "text/x-python",
   "name": "python",
   "nbconvert_exporter": "python",
   "pygments_lexer": "ipython3",
   "version": "3.8.20"
  }
 },
 "nbformat": 4,
 "nbformat_minor": 5
}
