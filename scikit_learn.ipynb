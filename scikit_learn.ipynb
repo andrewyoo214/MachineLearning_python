{
 "cells": [
  {
   "cell_type": "markdown",
   "id": "c811e044-3fac-42de-a8ec-4a212c787879",
   "metadata": {},
   "source": [
    "# Scikit-learn machine learning"
   ]
  },
  {
   "cell_type": "markdown",
   "id": "2f9d41af-2fff-4ccb-b833-544b3ebac9f0",
   "metadata": {},
   "source": [
    "* Reference: Python Machine Learning "
   ]
  },
  {
   "cell_type": "code",
   "execution_count": 1,
   "id": "8dc45076-8029-43db-ad9e-8f39d22581ff",
   "metadata": {},
   "outputs": [
    {
     "name": "stdout",
     "output_type": "stream",
     "text": [
      "0.24.1\n"
     ]
    }
   ],
   "source": [
    "import sklearn\n",
    "print(sklearn.__version__)"
   ]
  },
  {
   "cell_type": "markdown",
   "id": "8ab71439-df7f-498b-a4be-dc3200c24669",
   "metadata": {},
   "source": [
    "## Simple practice with iris dataset"
   ]
  },
  {
   "cell_type": "code",
   "execution_count": 2,
   "id": "5400052b-abe6-4175-86dd-18d1444c2ec6",
   "metadata": {},
   "outputs": [],
   "source": [
    "from sklearn.datasets import load_iris\n",
    "from sklearn.tree import DecisionTreeClassifier\n",
    "from sklearn.model_selection import train_test_split"
   ]
  },
  {
   "cell_type": "code",
   "execution_count": 3,
   "id": "263f526e-1ba6-4c5c-adee-fc87c6797387",
   "metadata": {},
   "outputs": [],
   "source": [
    "import pandas as pd"
   ]
  },
  {
   "cell_type": "code",
   "execution_count": 4,
   "id": "9098645c-679c-4271-b60f-cc8bb2916542",
   "metadata": {},
   "outputs": [
    {
     "name": "stdout",
     "output_type": "stream",
     "text": [
      "iris target values:  [0 0 0 0 0 0 0 0 0 0 0 0 0 0 0 0 0 0 0 0 0 0 0 0 0 0 0 0 0 0 0 0 0 0 0 0 0\n",
      " 0 0 0 0 0 0 0 0 0 0 0 0 0 1 1 1 1 1 1 1 1 1 1 1 1 1 1 1 1 1 1 1 1 1 1 1 1\n",
      " 1 1 1 1 1 1 1 1 1 1 1 1 1 1 1 1 1 1 1 1 1 1 1 1 1 1 2 2 2 2 2 2 2 2 2 2 2\n",
      " 2 2 2 2 2 2 2 2 2 2 2 2 2 2 2 2 2 2 2 2 2 2 2 2 2 2 2 2 2 2 2 2 2 2 2 2 2\n",
      " 2 2]\n",
      "iris target names:  ['setosa' 'versicolor' 'virginica']\n"
     ]
    },
    {
     "data": {
      "text/html": [
       "<div>\n",
       "<style scoped>\n",
       "    .dataframe tbody tr th:only-of-type {\n",
       "        vertical-align: middle;\n",
       "    }\n",
       "\n",
       "    .dataframe tbody tr th {\n",
       "        vertical-align: top;\n",
       "    }\n",
       "\n",
       "    .dataframe thead th {\n",
       "        text-align: right;\n",
       "    }\n",
       "</style>\n",
       "<table border=\"1\" class=\"dataframe\">\n",
       "  <thead>\n",
       "    <tr style=\"text-align: right;\">\n",
       "      <th></th>\n",
       "      <th>sepal length (cm)</th>\n",
       "      <th>sepal width (cm)</th>\n",
       "      <th>petal length (cm)</th>\n",
       "      <th>petal width (cm)</th>\n",
       "      <th>label</th>\n",
       "    </tr>\n",
       "  </thead>\n",
       "  <tbody>\n",
       "    <tr>\n",
       "      <th>0</th>\n",
       "      <td>5.1</td>\n",
       "      <td>3.5</td>\n",
       "      <td>1.4</td>\n",
       "      <td>0.2</td>\n",
       "      <td>0</td>\n",
       "    </tr>\n",
       "    <tr>\n",
       "      <th>1</th>\n",
       "      <td>4.9</td>\n",
       "      <td>3.0</td>\n",
       "      <td>1.4</td>\n",
       "      <td>0.2</td>\n",
       "      <td>0</td>\n",
       "    </tr>\n",
       "    <tr>\n",
       "      <th>2</th>\n",
       "      <td>4.7</td>\n",
       "      <td>3.2</td>\n",
       "      <td>1.3</td>\n",
       "      <td>0.2</td>\n",
       "      <td>0</td>\n",
       "    </tr>\n",
       "    <tr>\n",
       "      <th>3</th>\n",
       "      <td>4.6</td>\n",
       "      <td>3.1</td>\n",
       "      <td>1.5</td>\n",
       "      <td>0.2</td>\n",
       "      <td>0</td>\n",
       "    </tr>\n",
       "    <tr>\n",
       "      <th>4</th>\n",
       "      <td>5.0</td>\n",
       "      <td>3.6</td>\n",
       "      <td>1.4</td>\n",
       "      <td>0.2</td>\n",
       "      <td>0</td>\n",
       "    </tr>\n",
       "  </tbody>\n",
       "</table>\n",
       "</div>"
      ],
      "text/plain": [
       "   sepal length (cm)  sepal width (cm)  petal length (cm)  petal width (cm)  \\\n",
       "0                5.1               3.5                1.4               0.2   \n",
       "1                4.9               3.0                1.4               0.2   \n",
       "2                4.7               3.2                1.3               0.2   \n",
       "3                4.6               3.1                1.5               0.2   \n",
       "4                5.0               3.6                1.4               0.2   \n",
       "\n",
       "   label  \n",
       "0      0  \n",
       "1      0  \n",
       "2      0  \n",
       "3      0  \n",
       "4      0  "
      ]
     },
     "execution_count": 4,
     "metadata": {},
     "output_type": "execute_result"
    }
   ],
   "source": [
    "# loading the iris data\n",
    "iris = load_iris()\n",
    "\n",
    "iris_data = iris.data # iris.data have numpy format of the features from the dataset\n",
    "iris_label = iris.target # set the target as label column\n",
    "print('iris target values: ', iris_label)\n",
    "print('iris target names: ', iris.target_names)\n",
    "\n",
    "iris_df = pd.DataFrame(data = iris_data, columns=iris.feature_names)\n",
    "iris_df['label'] = iris.target\n",
    "iris_df.head()"
   ]
  },
  {
   "cell_type": "code",
   "execution_count": 14,
   "id": "2e55b2a2-1733-4f52-a9e3-c6d45b7edf3b",
   "metadata": {},
   "outputs": [],
   "source": [
    "X_train, X_test, y_train, y_test = train_test_split(iris_data, iris_label, test_size = 0.2, random_state=202)"
   ]
  },
  {
   "cell_type": "code",
   "execution_count": 15,
   "id": "969c5c61-b4e8-4b08-bbf6-9c6a7d07e282",
   "metadata": {},
   "outputs": [
    {
     "data": {
      "text/plain": [
       "DecisionTreeClassifier(random_state=202)"
      ]
     },
     "execution_count": 15,
     "metadata": {},
     "output_type": "execute_result"
    }
   ],
   "source": [
    "dc = DecisionTreeClassifier(random_state = 202)\n",
    "dc.fit(X_train, y_train) # fit the train data and corresponding label"
   ]
  },
  {
   "cell_type": "code",
   "execution_count": 16,
   "id": "8e940a46-4a2e-495d-9b67-b0d49fed9630",
   "metadata": {},
   "outputs": [],
   "source": [
    "pred = dc.predict(X_test) # work on prediction task"
   ]
  },
  {
   "cell_type": "code",
   "execution_count": 17,
   "id": "6b1ce24a-c85a-42eb-8e9a-c924de572167",
   "metadata": {},
   "outputs": [
    {
     "name": "stdout",
     "output_type": "stream",
     "text": [
      "prediction accuracy: 0.9333\n"
     ]
    }
   ],
   "source": [
    "from sklearn.metrics import accuracy_score\n",
    "print('prediction accuracy: {0:.4f}'.format(accuracy_score(y_test, pred)))"
   ]
  },
  {
   "cell_type": "markdown",
   "id": "4031e4ec-f363-4fba-93ba-c1d44089f7e5",
   "metadata": {},
   "source": [
    "## Basic frameworks of Scikit-learn"
   ]
  },
  {
   "cell_type": "markdown",
   "id": "3cd7b38e-e670-420b-84cf-6fb47d572a3a",
   "metadata": {},
   "source": [
    "* sklearn.datasets\n",
    "* sklearn.preprocessing\n",
    "* sklearn.feature_selection\n",
    "* sklearn.feature_extraction\n",
    "* sklearn.decomposition\n",
    "* sklearn.model_selection\n",
    "* sklearn.metrics\n",
    "* sklearn.ensemble\n",
    "* sklearn.linear_model\n",
    "* sklearn.naive_bayes\n",
    "* sklearn.neighbors\n",
    "* sklearn.svm\n",
    "* sklearn.tree\n",
    "* sklearn.cluster\n",
    "* sklearn.pipeline"
   ]
  },
  {
   "cell_type": "code",
   "execution_count": 18,
   "id": "1f325d6a-975e-42c8-8aea-2c0ffdd4fed5",
   "metadata": {},
   "outputs": [
    {
     "name": "stdout",
     "output_type": "stream",
     "text": [
      "<class 'sklearn.utils.Bunch'>\n"
     ]
    }
   ],
   "source": [
    "# lets handle the frameworks with iris data\n",
    "from sklearn.datasets import load_iris\n",
    "iris_data = load_iris()\n",
    "print(type(iris_data))"
   ]
  },
  {
   "cell_type": "code",
   "execution_count": 19,
   "id": "22794810-c8a1-4723-bf65-00e4c9eb4e7a",
   "metadata": {},
   "outputs": [
    {
     "name": "stdout",
     "output_type": "stream",
     "text": [
      "keys of the iris datasets:  dict_keys(['data', 'target', 'frame', 'target_names', 'DESCR', 'feature_names', 'filename'])\n"
     ]
    }
   ],
   "source": [
    "keys = iris_data.keys()\n",
    "print('keys of the iris datasets: ', keys)"
   ]
  },
  {
   "cell_type": "markdown",
   "id": "0a685924-7c13-449a-b3c7-23c020f6a05c",
   "metadata": {},
   "source": [
    "### Model selection module"
   ]
  },
  {
   "cell_type": "code",
   "execution_count": 22,
   "id": "011e84c0-22af-4313-b6d1-b03a53ea3a3b",
   "metadata": {},
   "outputs": [
    {
     "name": "stdout",
     "output_type": "stream",
     "text": [
      "prediction accuracy : 0.9556\n"
     ]
    }
   ],
   "source": [
    "dc = DecisionTreeClassifier()\n",
    "X_train, X_test, y_train, y_test = train_test_split(iris_data.data, iris_data.target,\n",
    "                                                   test_size=0.3, random_state = 202)\n",
    "\n",
    "dc.fit(X_train, y_train)\n",
    "pred = dc.predict(X_test)\n",
    "print('prediction accuracy : {0:.4f}'.format(accuracy_score(y_test, pred)))"
   ]
  },
  {
   "cell_type": "markdown",
   "id": "52dd090a-35b9-4469-ab5a-ca29a411ef9a",
   "metadata": {},
   "source": [
    "### Cross Validation"
   ]
  },
  {
   "cell_type": "code",
   "execution_count": 34,
   "id": "0519c3c6-7d95-40e9-87ca-7464fac05235",
   "metadata": {},
   "outputs": [
    {
     "name": "stdout",
     "output_type": "stream",
     "text": [
      "iris dataset size:  150\n"
     ]
    }
   ],
   "source": [
    "from sklearn.tree import DecisionTreeClassifier\n",
    "from sklearn.metrics import accuracy_score\n",
    "from sklearn.model_selection import KFold\n",
    "import numpy as np\n",
    "\n",
    "iris = load_iris()\n",
    "features = iris.data\n",
    "label = iris.target\n",
    "dc = DecisionTreeClassifier(random_state = 203)\n",
    "\n",
    "# KFold object and list object for accuracy\n",
    "kfold = KFold(n_splits=5) #splitting into 5 different KFOLD\n",
    "cv_accuracy = []\n",
    "print('iris dataset size: ', features.shape[0])"
   ]
  },
  {
   "cell_type": "code",
   "execution_count": 35,
   "id": "74c9b9e7-de82-4e17-a41c-eebc04f8d1f3",
   "metadata": {},
   "outputs": [
    {
     "name": "stdout",
     "output_type": "stream",
     "text": [
      "\n",
      "#1 cv accuracy :1.0, train data size: 120, test data size: 30\n",
      "#1 cv set indexex:[ 0  1  2  3  4  5  6  7  8  9 10 11 12 13 14 15 16 17 18 19 20 21 22 23\n",
      " 24 25 26 27 28 29]\n",
      "\n",
      "#2 cv accuracy :0.9667, train data size: 120, test data size: 30\n",
      "#2 cv set indexex:[30 31 32 33 34 35 36 37 38 39 40 41 42 43 44 45 46 47 48 49 50 51 52 53\n",
      " 54 55 56 57 58 59]\n",
      "\n",
      "#3 cv accuracy :0.9, train data size: 120, test data size: 30\n",
      "#3 cv set indexex:[60 61 62 63 64 65 66 67 68 69 70 71 72 73 74 75 76 77 78 79 80 81 82 83\n",
      " 84 85 86 87 88 89]\n",
      "\n",
      "#4 cv accuracy :0.9333, train data size: 120, test data size: 30\n",
      "#4 cv set indexex:[ 90  91  92  93  94  95  96  97  98  99 100 101 102 103 104 105 106 107\n",
      " 108 109 110 111 112 113 114 115 116 117 118 119]\n",
      "\n",
      "#5 cv accuracy :0.7667, train data size: 120, test data size: 30\n",
      "#5 cv set indexex:[120 121 122 123 124 125 126 127 128 129 130 131 132 133 134 135 136 137\n",
      " 138 139 140 141 142 143 144 145 146 147 148 149]\n",
      "\n",
      "## average accuracy:  0.91334\n"
     ]
    }
   ],
   "source": [
    "n_iter = 0\n",
    "\n",
    "# when it calls the split(), then change train, test row indexes into array format\n",
    "for train_index, test_index in kfold.split(features):\n",
    "    X_train, X_test = features[train_index], features[test_index]\n",
    "    y_train, y_test = label[train_index], label[test_index]\n",
    "    \n",
    "    # model learning and the prediction\n",
    "    dc.fit(X_train, y_train)\n",
    "    pred = dc.predict(X_test)\n",
    "    n_iter += 1\n",
    "    \n",
    "    # checking the acuracy for each iteration\n",
    "    accuracy = np.round(accuracy_score(y_test, pred), 4)\n",
    "    train_size = X_train.shape[0]\n",
    "    test_size = X_test.shape[0]\n",
    "    print('\\n#{0} cv accuracy :{1}, train data size: {2}, test data size: {3}'\n",
    "          .format(n_iter, accuracy, train_size, test_size))\n",
    "    print('#{0} cv set indexex:{1}'.format(n_iter,test_index))\n",
    "    cv_accuracy.append(accuracy)\n",
    "    \n",
    "# print(cv_accuracy)\n",
    "print('\\n## average accuracy: ', np.mean(cv_accuracy))"
   ]
  },
  {
   "cell_type": "code",
   "execution_count": 36,
   "id": "545666ea-c314-4e2a-a6b5-fd2a03b0b651",
   "metadata": {},
   "outputs": [
    {
     "data": {
      "text/plain": [
       "0    50\n",
       "1    50\n",
       "2    50\n",
       "Name: label, dtype: int64"
      ]
     },
     "execution_count": 36,
     "metadata": {},
     "output_type": "execute_result"
    }
   ],
   "source": [
    "## stratified k-fold cross validation\n",
    "\n",
    "iris_df = pd.DataFrame(data=iris.data, columns= iris.feature_names)\n",
    "iris_df['label'] = iris.target\n",
    "iris_df['label'].value_counts()"
   ]
  },
  {
   "cell_type": "code",
   "execution_count": 37,
   "id": "0afec698-b6e1-41b2-b1d2-b44bba4f66fc",
   "metadata": {},
   "outputs": [
    {
     "name": "stdout",
     "output_type": "stream",
     "text": [
      "cross validation: 1\n",
      "training label data distribution: \n",
      " 1    50\n",
      "2    50\n",
      "Name: label, dtype: int64\n",
      "testing label data distribution : \n",
      " 0    50\n",
      "Name: label, dtype: int64\n",
      "cross validation: 2\n",
      "training label data distribution: \n",
      " 0    50\n",
      "2    50\n",
      "Name: label, dtype: int64\n",
      "testing label data distribution : \n",
      " 1    50\n",
      "Name: label, dtype: int64\n",
      "cross validation: 3\n",
      "training label data distribution: \n",
      " 0    50\n",
      "1    50\n",
      "Name: label, dtype: int64\n",
      "testing label data distribution : \n",
      " 2    50\n",
      "Name: label, dtype: int64\n"
     ]
    }
   ],
   "source": [
    "kfold = KFold(n_splits=3)\n",
    "n_iter = 0\n",
    "\n",
    "for train_index, test_index in kfold.split(iris_df):\n",
    "    n_iter += 1\n",
    "    label_train = iris_df['label'].iloc[train_index]\n",
    "    label_test = iris_df['label'].iloc[test_index]\n",
    "    print('cross validation: {0}'.format(n_iter))\n",
    "    print('training label data distribution: \\n', label_train.value_counts())\n",
    "    print('testing label data distribution : \\n', label_test.value_counts())"
   ]
  },
  {
   "cell_type": "code",
   "execution_count": 38,
   "id": "09cfcd68-e649-4c33-ac83-5c10c3673ccb",
   "metadata": {},
   "outputs": [
    {
     "name": "stdout",
     "output_type": "stream",
     "text": [
      "cross validation: 1\n",
      "training label data distribution: \n",
      " 2    34\n",
      "0    33\n",
      "1    33\n",
      "Name: label, dtype: int64\n",
      "testing label data distribution : \n",
      " 0    17\n",
      "1    17\n",
      "2    16\n",
      "Name: label, dtype: int64\n",
      "cross validation: 2\n",
      "training label data distribution: \n",
      " 1    34\n",
      "0    33\n",
      "2    33\n",
      "Name: label, dtype: int64\n",
      "testing label data distribution : \n",
      " 0    17\n",
      "2    17\n",
      "1    16\n",
      "Name: label, dtype: int64\n",
      "cross validation: 3\n",
      "training label data distribution: \n",
      " 0    34\n",
      "1    33\n",
      "2    33\n",
      "Name: label, dtype: int64\n",
      "testing label data distribution : \n",
      " 1    17\n",
      "2    17\n",
      "0    16\n",
      "Name: label, dtype: int64\n"
     ]
    }
   ],
   "source": [
    "from sklearn.model_selection import StratifiedKFold\n",
    "\n",
    "stratkf = StratifiedKFold(n_splits=3)\n",
    "n_iter=0\n",
    "\n",
    "for train_index, test_index in stratkf.split(iris_df, iris_df['label']):\n",
    "    n_iter += 1\n",
    "    label_train = iris_df['label'].iloc[train_index]\n",
    "    label_test = iris_df['label'].iloc[test_index]\n",
    "    print('cross validation: {0}'.format(n_iter))\n",
    "    print('training label data distribution: \\n', label_train.value_counts())\n",
    "    print('testing label data distribution : \\n', label_test.value_counts())"
   ]
  },
  {
   "cell_type": "code",
   "execution_count": null,
   "id": "6f969f65-257c-423e-a697-75df69128171",
   "metadata": {},
   "outputs": [],
   "source": []
  },
  {
   "cell_type": "code",
   "execution_count": null,
   "id": "f6ec5c75-ffd4-418d-95c4-c6c86ea4e01b",
   "metadata": {},
   "outputs": [],
   "source": []
  },
  {
   "cell_type": "code",
   "execution_count": null,
   "id": "c815d092-4656-492d-881f-7e7d8bdca745",
   "metadata": {},
   "outputs": [],
   "source": []
  },
  {
   "cell_type": "code",
   "execution_count": null,
   "id": "0494735f-9fe2-4841-a341-4faf3a2f7157",
   "metadata": {},
   "outputs": [],
   "source": []
  },
  {
   "cell_type": "code",
   "execution_count": null,
   "id": "16d4ddb3-9ff0-40a9-aff2-c1a2f820f7d7",
   "metadata": {},
   "outputs": [],
   "source": []
  },
  {
   "cell_type": "code",
   "execution_count": null,
   "id": "963a3fa6-1b08-4890-8938-072bfc484a06",
   "metadata": {},
   "outputs": [],
   "source": []
  },
  {
   "cell_type": "code",
   "execution_count": null,
   "id": "7c8fc1af-754f-45f2-8deb-b87886567de5",
   "metadata": {},
   "outputs": [],
   "source": []
  },
  {
   "cell_type": "code",
   "execution_count": null,
   "id": "aa2d9916-7597-4d75-9ba2-9cce605cf0da",
   "metadata": {},
   "outputs": [],
   "source": []
  },
  {
   "cell_type": "code",
   "execution_count": null,
   "id": "28a81cb8-3bd2-4006-8ff6-3ba8a91812bb",
   "metadata": {},
   "outputs": [],
   "source": []
  },
  {
   "cell_type": "code",
   "execution_count": null,
   "id": "bd1d78b6-7a7c-4b2b-aaba-8a9e5fbd2d36",
   "metadata": {},
   "outputs": [],
   "source": []
  },
  {
   "cell_type": "code",
   "execution_count": null,
   "id": "a871a568-8769-4b70-8d28-a54e18d7b97d",
   "metadata": {},
   "outputs": [],
   "source": []
  },
  {
   "cell_type": "code",
   "execution_count": null,
   "id": "60595a75-5f87-4e59-97f8-6cc9f09d4d18",
   "metadata": {},
   "outputs": [],
   "source": []
  },
  {
   "cell_type": "code",
   "execution_count": null,
   "id": "5eec99de-983e-4d4e-af3c-31a3d53daef0",
   "metadata": {},
   "outputs": [],
   "source": []
  },
  {
   "cell_type": "code",
   "execution_count": null,
   "id": "e1302738-d28f-4942-9307-14e3db4cf077",
   "metadata": {},
   "outputs": [],
   "source": []
  },
  {
   "cell_type": "code",
   "execution_count": null,
   "id": "3259b773-09a9-44aa-b490-75c1247fa27b",
   "metadata": {},
   "outputs": [],
   "source": []
  },
  {
   "cell_type": "code",
   "execution_count": null,
   "id": "33fbe8cb-a3e3-4d1e-acd5-f63c7276d860",
   "metadata": {},
   "outputs": [],
   "source": []
  },
  {
   "cell_type": "code",
   "execution_count": null,
   "id": "88a65853-63b1-48f2-9f0d-7e0bb48195ab",
   "metadata": {},
   "outputs": [],
   "source": []
  },
  {
   "cell_type": "code",
   "execution_count": null,
   "id": "2db283fa-d967-4c5a-9e3b-e862bc0a299f",
   "metadata": {},
   "outputs": [],
   "source": []
  },
  {
   "cell_type": "code",
   "execution_count": null,
   "id": "0f27a056-3ae8-4e96-ae5e-6d4c5262346a",
   "metadata": {},
   "outputs": [],
   "source": []
  },
  {
   "cell_type": "code",
   "execution_count": null,
   "id": "b8b3d1d2-8b52-4ba4-9f10-78e92a385890",
   "metadata": {},
   "outputs": [],
   "source": []
  },
  {
   "cell_type": "code",
   "execution_count": null,
   "id": "bace564d-3c59-43ea-bead-068ad0abffc8",
   "metadata": {},
   "outputs": [],
   "source": []
  },
  {
   "cell_type": "code",
   "execution_count": null,
   "id": "06c5f607-6751-41d6-b430-1e7bd20f2ac5",
   "metadata": {},
   "outputs": [],
   "source": []
  }
 ],
 "metadata": {
  "kernelspec": {
   "display_name": "Python 3",
   "language": "python",
   "name": "python3"
  },
  "language_info": {
   "codemirror_mode": {
    "name": "ipython",
    "version": 3
   },
   "file_extension": ".py",
   "mimetype": "text/x-python",
   "name": "python",
   "nbconvert_exporter": "python",
   "pygments_lexer": "ipython3",
   "version": "3.7.10"
  }
 },
 "nbformat": 4,
 "nbformat_minor": 5
}
