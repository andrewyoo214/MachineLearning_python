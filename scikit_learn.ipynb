{
 "cells": [
  {
   "cell_type": "markdown",
   "id": "c811e044-3fac-42de-a8ec-4a212c787879",
   "metadata": {},
   "source": [
    "# Scikit-learn machine learning"
   ]
  },
  {
   "cell_type": "markdown",
   "id": "2f9d41af-2fff-4ccb-b833-544b3ebac9f0",
   "metadata": {},
   "source": [
    "* Reference: Python Machine Learning "
   ]
  },
  {
   "cell_type": "code",
   "execution_count": 1,
   "id": "8dc45076-8029-43db-ad9e-8f39d22581ff",
   "metadata": {},
   "outputs": [
    {
     "name": "stdout",
     "output_type": "stream",
     "text": [
      "0.24.1\n"
     ]
    }
   ],
   "source": [
    "import sklearn\n",
    "print(sklearn.__version__)"
   ]
  },
  {
   "cell_type": "markdown",
   "id": "8ab71439-df7f-498b-a4be-dc3200c24669",
   "metadata": {},
   "source": [
    "## simple practice with iris dataset"
   ]
  },
  {
   "cell_type": "code",
   "execution_count": 2,
   "id": "5400052b-abe6-4175-86dd-18d1444c2ec6",
   "metadata": {},
   "outputs": [],
   "source": [
    "from sklearn.datasets import load_iris\n",
    "from sklearn.tree import DecisionTreeClassifier\n",
    "from sklearn.model_selection import train_test_split"
   ]
  },
  {
   "cell_type": "code",
   "execution_count": 3,
   "id": "263f526e-1ba6-4c5c-adee-fc87c6797387",
   "metadata": {},
   "outputs": [],
   "source": [
    "import pandas as pd"
   ]
  },
  {
   "cell_type": "code",
   "execution_count": 4,
   "id": "9098645c-679c-4271-b60f-cc8bb2916542",
   "metadata": {},
   "outputs": [
    {
     "name": "stdout",
     "output_type": "stream",
     "text": [
      "iris target values:  [0 0 0 0 0 0 0 0 0 0 0 0 0 0 0 0 0 0 0 0 0 0 0 0 0 0 0 0 0 0 0 0 0 0 0 0 0\n",
      " 0 0 0 0 0 0 0 0 0 0 0 0 0 1 1 1 1 1 1 1 1 1 1 1 1 1 1 1 1 1 1 1 1 1 1 1 1\n",
      " 1 1 1 1 1 1 1 1 1 1 1 1 1 1 1 1 1 1 1 1 1 1 1 1 1 1 2 2 2 2 2 2 2 2 2 2 2\n",
      " 2 2 2 2 2 2 2 2 2 2 2 2 2 2 2 2 2 2 2 2 2 2 2 2 2 2 2 2 2 2 2 2 2 2 2 2 2\n",
      " 2 2]\n",
      "iris target names:  ['setosa' 'versicolor' 'virginica']\n"
     ]
    },
    {
     "data": {
      "text/html": [
       "<div>\n",
       "<style scoped>\n",
       "    .dataframe tbody tr th:only-of-type {\n",
       "        vertical-align: middle;\n",
       "    }\n",
       "\n",
       "    .dataframe tbody tr th {\n",
       "        vertical-align: top;\n",
       "    }\n",
       "\n",
       "    .dataframe thead th {\n",
       "        text-align: right;\n",
       "    }\n",
       "</style>\n",
       "<table border=\"1\" class=\"dataframe\">\n",
       "  <thead>\n",
       "    <tr style=\"text-align: right;\">\n",
       "      <th></th>\n",
       "      <th>sepal length (cm)</th>\n",
       "      <th>sepal width (cm)</th>\n",
       "      <th>petal length (cm)</th>\n",
       "      <th>petal width (cm)</th>\n",
       "      <th>label</th>\n",
       "    </tr>\n",
       "  </thead>\n",
       "  <tbody>\n",
       "    <tr>\n",
       "      <th>0</th>\n",
       "      <td>5.1</td>\n",
       "      <td>3.5</td>\n",
       "      <td>1.4</td>\n",
       "      <td>0.2</td>\n",
       "      <td>0</td>\n",
       "    </tr>\n",
       "    <tr>\n",
       "      <th>1</th>\n",
       "      <td>4.9</td>\n",
       "      <td>3.0</td>\n",
       "      <td>1.4</td>\n",
       "      <td>0.2</td>\n",
       "      <td>0</td>\n",
       "    </tr>\n",
       "    <tr>\n",
       "      <th>2</th>\n",
       "      <td>4.7</td>\n",
       "      <td>3.2</td>\n",
       "      <td>1.3</td>\n",
       "      <td>0.2</td>\n",
       "      <td>0</td>\n",
       "    </tr>\n",
       "    <tr>\n",
       "      <th>3</th>\n",
       "      <td>4.6</td>\n",
       "      <td>3.1</td>\n",
       "      <td>1.5</td>\n",
       "      <td>0.2</td>\n",
       "      <td>0</td>\n",
       "    </tr>\n",
       "    <tr>\n",
       "      <th>4</th>\n",
       "      <td>5.0</td>\n",
       "      <td>3.6</td>\n",
       "      <td>1.4</td>\n",
       "      <td>0.2</td>\n",
       "      <td>0</td>\n",
       "    </tr>\n",
       "  </tbody>\n",
       "</table>\n",
       "</div>"
      ],
      "text/plain": [
       "   sepal length (cm)  sepal width (cm)  petal length (cm)  petal width (cm)  \\\n",
       "0                5.1               3.5                1.4               0.2   \n",
       "1                4.9               3.0                1.4               0.2   \n",
       "2                4.7               3.2                1.3               0.2   \n",
       "3                4.6               3.1                1.5               0.2   \n",
       "4                5.0               3.6                1.4               0.2   \n",
       "\n",
       "   label  \n",
       "0      0  \n",
       "1      0  \n",
       "2      0  \n",
       "3      0  \n",
       "4      0  "
      ]
     },
     "execution_count": 4,
     "metadata": {},
     "output_type": "execute_result"
    }
   ],
   "source": [
    "# loading the iris data\n",
    "iris = load_iris()\n",
    "\n",
    "iris_data = iris.data # iris.data have numpy format of the features from the dataset\n",
    "iris_label = iris.target # set the target as label column\n",
    "print('iris target values: ', iris_label)\n",
    "print('iris target names: ', iris.target_names)\n",
    "\n",
    "iris_df = pd.DataFrame(data = iris_data, columns=iris.feature_names)\n",
    "iris_df['label'] = iris.target\n",
    "iris_df.head()"
   ]
  },
  {
   "cell_type": "code",
   "execution_count": 14,
   "id": "2e55b2a2-1733-4f52-a9e3-c6d45b7edf3b",
   "metadata": {},
   "outputs": [],
   "source": [
    "X_train, X_test, y_train, y_test = train_test_split(iris_data, iris_label, test_size = 0.2, random_state=202)"
   ]
  },
  {
   "cell_type": "code",
   "execution_count": 15,
   "id": "969c5c61-b4e8-4b08-bbf6-9c6a7d07e282",
   "metadata": {},
   "outputs": [
    {
     "data": {
      "text/plain": [
       "DecisionTreeClassifier(random_state=202)"
      ]
     },
     "execution_count": 15,
     "metadata": {},
     "output_type": "execute_result"
    }
   ],
   "source": [
    "dc = DecisionTreeClassifier(random_state = 202)\n",
    "dc.fit(X_train, y_train) # fit the train data and corresponding label"
   ]
  },
  {
   "cell_type": "code",
   "execution_count": 16,
   "id": "8e940a46-4a2e-495d-9b67-b0d49fed9630",
   "metadata": {},
   "outputs": [],
   "source": [
    "pred = dc.predict(X_test) # work on prediction task"
   ]
  },
  {
   "cell_type": "code",
   "execution_count": 17,
   "id": "6b1ce24a-c85a-42eb-8e9a-c924de572167",
   "metadata": {},
   "outputs": [
    {
     "name": "stdout",
     "output_type": "stream",
     "text": [
      "prediction accuracy: 0.9333\n"
     ]
    }
   ],
   "source": [
    "from sklearn.metrics import accuracy_score\n",
    "print('prediction accuracy: {0:.4f}'.format(accuracy_score(y_test, pred)))"
   ]
  },
  {
   "cell_type": "markdown",
   "id": "4031e4ec-f363-4fba-93ba-c1d44089f7e5",
   "metadata": {},
   "source": [
    "## basic frameworks of Scikit-learn"
   ]
  },
  {
   "cell_type": "markdown",
   "id": "3cd7b38e-e670-420b-84cf-6fb47d572a3a",
   "metadata": {},
   "source": [
    "* sklearn.datasets\n",
    "* sklearn.preprocessing\n",
    "* sklearn.feature_selection\n",
    "* sklearn.feature_extraction\n",
    "* sklearn.decomposition\n",
    "* sklearn.model_selection\n",
    "* sklearn.metrics\n",
    "* sklearn.ensemble\n",
    "* sklearn.linear_model\n",
    "* sklearn.naive_bayes\n",
    "* sklearn.neighbors\n",
    "* sklearn.svm\n",
    "* sklearn.tree\n",
    "* sklearn.cluster\n",
    "* sklearn.pipeline"
   ]
  },
  {
   "cell_type": "code",
   "execution_count": 18,
   "id": "1f325d6a-975e-42c8-8aea-2c0ffdd4fed5",
   "metadata": {},
   "outputs": [
    {
     "name": "stdout",
     "output_type": "stream",
     "text": [
      "<class 'sklearn.utils.Bunch'>\n"
     ]
    }
   ],
   "source": [
    "# lets handle the frameworks with iris data\n",
    "from sklearn.datasets import load_iris\n",
    "iris_data = load_iris()\n",
    "print(type(iris_data))"
   ]
  },
  {
   "cell_type": "code",
   "execution_count": 19,
   "id": "22794810-c8a1-4723-bf65-00e4c9eb4e7a",
   "metadata": {},
   "outputs": [
    {
     "name": "stdout",
     "output_type": "stream",
     "text": [
      "keys of the iris datasets:  dict_keys(['data', 'target', 'frame', 'target_names', 'DESCR', 'feature_names', 'filename'])\n"
     ]
    }
   ],
   "source": [
    "keys = iris_data.keys()\n",
    "print('keys of the iris datasets: ', keys)"
   ]
  },
  {
   "cell_type": "code",
   "execution_count": 21,
   "id": "011e84c0-22af-4313-b6d1-b03a53ea3a3b",
   "metadata": {},
   "outputs": [
    {
     "name": "stdout",
     "output_type": "stream",
     "text": [
      "prediction accuracy : 0.9556\n"
     ]
    }
   ],
   "source": [
    "# Model selection module\n",
    "\n",
    "dc = DecisionTreeClassifier()\n",
    "X_train, X_test, y_train, y_test = train_test_split(iris_data.data, iris_data.target,\n",
    "                                                   test_size=0.3, random_state = 202)\n",
    "\n",
    "dc.fit(X_train, y_train)\n",
    "pred = dc.predict(X_test)\n",
    "print('prediction accuracy : {0:.4f}'.format(accuracy_score(y_test, pred)))"
   ]
  },
  {
   "cell_type": "code",
   "execution_count": null,
   "id": "3eb5e1ae-8b1e-4f33-be26-93f7e266e57a",
   "metadata": {},
   "outputs": [],
   "source": []
  },
  {
   "cell_type": "code",
   "execution_count": null,
   "id": "0519c3c6-7d95-40e9-87ca-7464fac05235",
   "metadata": {},
   "outputs": [],
   "source": []
  },
  {
   "cell_type": "code",
   "execution_count": null,
   "id": "74c9b9e7-de82-4e17-a41c-eebc04f8d1f3",
   "metadata": {},
   "outputs": [],
   "source": []
  },
  {
   "cell_type": "code",
   "execution_count": null,
   "id": "545666ea-c314-4e2a-a6b5-fd2a03b0b651",
   "metadata": {},
   "outputs": [],
   "source": []
  },
  {
   "cell_type": "code",
   "execution_count": null,
   "id": "0afec698-b6e1-41b2-b1d2-b44bba4f66fc",
   "metadata": {},
   "outputs": [],
   "source": []
  }
 ],
 "metadata": {
  "kernelspec": {
   "display_name": "Python 3",
   "language": "python",
   "name": "python3"
  },
  "language_info": {
   "codemirror_mode": {
    "name": "ipython",
    "version": 3
   },
   "file_extension": ".py",
   "mimetype": "text/x-python",
   "name": "python",
   "nbconvert_exporter": "python",
   "pygments_lexer": "ipython3",
   "version": "3.7.10"
  }
 },
 "nbformat": 4,
 "nbformat_minor": 5
}
